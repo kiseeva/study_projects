{
 "cells": [
  {
   "cell_type": "markdown",
   "metadata": {},
   "source": [
    "#  Прогнозирование заказов такси"
   ]
  },
  {
   "cell_type": "markdown",
   "metadata": {},
   "source": [
    "Исследование для компании «N такси».\n",
    "\n",
    "`Цель:` привлекать больше водителей в период пиковой нагрузки.\n",
    "\n",
    "`Задача:` построить модель, прогнозирующую количество заказов такси на следующий час.\n",
    "\n",
    "`План работ:`\n",
    "1. Загрузить данные и выполнить их ресемплирование по одному часу.\n",
    "2. Проанализировать данные.\n",
    "3. Обучить разные модели с различными гиперпараметрами. Сделать тестовую выборку размером 10% от исходных данных.\n",
    "4. Проверить данные на тестовой выборке и сделать выводы.\n",
    "\n",
    "- Метрика: RMSE.\n",
    "- Порог:  на тестовой выборке <= 48.\n",
    "\n",
    "\n",
    "`Входные данные:`  исторические данные о заказах такси в аэропортах, файл taxi.csv.\n",
    "\n",
    "- Дата заказа `datetime`.\n",
    "- Количество заказов находится в столбце `num_orders` (от англ. number of orders, «число заказов»).\n",
    "\n"
   ]
  },
  {
   "cell_type": "markdown",
   "metadata": {},
   "source": [
    "### Подключение библиотек"
   ]
  },
  {
   "cell_type": "code",
   "execution_count": 1,
   "metadata": {},
   "outputs": [],
   "source": [
    "import pandas as pd\n",
    "import seaborn as sns\n",
    "import numpy as np\n",
    "\n",
    "import warnings\n",
    "# Игнорирование предупреждений\n",
    "warnings.filterwarnings('ignore')\n",
    "\n",
    "import matplotlib.pyplot as plt\n",
    "\n",
    "from sklearn.model_selection import train_test_split\n",
    "from sklearn.metrics import mean_squared_error as mse\n",
    "from sklearn.linear_model import LinearRegression\n",
    "from sklearn.ensemble import RandomForestRegressor\n",
    "from sklearn.model_selection import GridSearchCV\n",
    "from sklearn.model_selection import TimeSeriesSplit\n",
    "\n",
    "from statsmodels.tsa.seasonal import seasonal_decompose\n",
    "\n",
    "import catboost\n",
    "from catboost import CatBoostRegressor\n",
    "import lightgbm as ltb"
   ]
  },
  {
   "cell_type": "code",
   "execution_count": 2,
   "metadata": {},
   "outputs": [],
   "source": [
    "def rmse(y,a):\n",
    "    return mse(y,a)**0.5"
   ]
  },
  {
   "cell_type": "markdown",
   "metadata": {},
   "source": [
    "## Подготовка"
   ]
  },
  {
   "cell_type": "markdown",
   "metadata": {},
   "source": [
    "### Загрузка и основная информация о данных\n",
    "\n",
    "Признак даты сделаем индексом, тем самым преобразовали датафрейм во временной ряд."
   ]
  },
  {
   "cell_type": "code",
   "execution_count": 3,
   "metadata": {},
   "outputs": [],
   "source": [
    "taxi = pd.read_csv('/datasets/taxi.csv', parse_dates=['datetime'], index_col=['datetime'])"
   ]
  },
  {
   "cell_type": "code",
   "execution_count": 4,
   "metadata": {},
   "outputs": [
    {
     "data": {
      "text/html": [
       "<div>\n",
       "<style scoped>\n",
       "    .dataframe tbody tr th:only-of-type {\n",
       "        vertical-align: middle;\n",
       "    }\n",
       "\n",
       "    .dataframe tbody tr th {\n",
       "        vertical-align: top;\n",
       "    }\n",
       "\n",
       "    .dataframe thead th {\n",
       "        text-align: right;\n",
       "    }\n",
       "</style>\n",
       "<table border=\"1\" class=\"dataframe\">\n",
       "  <thead>\n",
       "    <tr style=\"text-align: right;\">\n",
       "      <th></th>\n",
       "      <th>num_orders</th>\n",
       "    </tr>\n",
       "    <tr>\n",
       "      <th>datetime</th>\n",
       "      <th></th>\n",
       "    </tr>\n",
       "  </thead>\n",
       "  <tbody>\n",
       "    <tr>\n",
       "      <th>2018-03-01 00:00:00</th>\n",
       "      <td>9</td>\n",
       "    </tr>\n",
       "    <tr>\n",
       "      <th>2018-03-01 00:10:00</th>\n",
       "      <td>14</td>\n",
       "    </tr>\n",
       "    <tr>\n",
       "      <th>2018-03-01 00:20:00</th>\n",
       "      <td>28</td>\n",
       "    </tr>\n",
       "    <tr>\n",
       "      <th>2018-03-01 00:30:00</th>\n",
       "      <td>20</td>\n",
       "    </tr>\n",
       "    <tr>\n",
       "      <th>2018-03-01 00:40:00</th>\n",
       "      <td>32</td>\n",
       "    </tr>\n",
       "    <tr>\n",
       "      <th>...</th>\n",
       "      <td>...</td>\n",
       "    </tr>\n",
       "    <tr>\n",
       "      <th>2018-08-31 23:10:00</th>\n",
       "      <td>32</td>\n",
       "    </tr>\n",
       "    <tr>\n",
       "      <th>2018-08-31 23:20:00</th>\n",
       "      <td>24</td>\n",
       "    </tr>\n",
       "    <tr>\n",
       "      <th>2018-08-31 23:30:00</th>\n",
       "      <td>27</td>\n",
       "    </tr>\n",
       "    <tr>\n",
       "      <th>2018-08-31 23:40:00</th>\n",
       "      <td>39</td>\n",
       "    </tr>\n",
       "    <tr>\n",
       "      <th>2018-08-31 23:50:00</th>\n",
       "      <td>53</td>\n",
       "    </tr>\n",
       "  </tbody>\n",
       "</table>\n",
       "<p>26496 rows × 1 columns</p>\n",
       "</div>"
      ],
      "text/plain": [
       "                     num_orders\n",
       "datetime                       \n",
       "2018-03-01 00:00:00           9\n",
       "2018-03-01 00:10:00          14\n",
       "2018-03-01 00:20:00          28\n",
       "2018-03-01 00:30:00          20\n",
       "2018-03-01 00:40:00          32\n",
       "...                         ...\n",
       "2018-08-31 23:10:00          32\n",
       "2018-08-31 23:20:00          24\n",
       "2018-08-31 23:30:00          27\n",
       "2018-08-31 23:40:00          39\n",
       "2018-08-31 23:50:00          53\n",
       "\n",
       "[26496 rows x 1 columns]"
      ]
     },
     "execution_count": 4,
     "metadata": {},
     "output_type": "execute_result"
    }
   ],
   "source": [
    "taxi"
   ]
  },
  {
   "cell_type": "code",
   "execution_count": 5,
   "metadata": {},
   "outputs": [
    {
     "name": "stdout",
     "output_type": "stream",
     "text": [
      "True\n"
     ]
    }
   ],
   "source": [
    "print(taxi.index.is_monotonic)"
   ]
  },
  {
   "cell_type": "markdown",
   "metadata": {},
   "source": [
    "Значения индекса расположены в хронологическом порядке."
   ]
  },
  {
   "cell_type": "code",
   "execution_count": 6,
   "metadata": {},
   "outputs": [
    {
     "data": {
      "text/html": [
       "<div>\n",
       "<style scoped>\n",
       "    .dataframe tbody tr th:only-of-type {\n",
       "        vertical-align: middle;\n",
       "    }\n",
       "\n",
       "    .dataframe tbody tr th {\n",
       "        vertical-align: top;\n",
       "    }\n",
       "\n",
       "    .dataframe thead th {\n",
       "        text-align: right;\n",
       "    }\n",
       "</style>\n",
       "<table border=\"1\" class=\"dataframe\">\n",
       "  <thead>\n",
       "    <tr style=\"text-align: right;\">\n",
       "      <th></th>\n",
       "      <th>num_orders</th>\n",
       "    </tr>\n",
       "    <tr>\n",
       "      <th>datetime</th>\n",
       "      <th></th>\n",
       "    </tr>\n",
       "  </thead>\n",
       "  <tbody>\n",
       "    <tr>\n",
       "      <th>2018-03-01 00:00:00</th>\n",
       "      <td>9</td>\n",
       "    </tr>\n",
       "    <tr>\n",
       "      <th>2018-03-01 00:10:00</th>\n",
       "      <td>14</td>\n",
       "    </tr>\n",
       "    <tr>\n",
       "      <th>2018-03-01 00:20:00</th>\n",
       "      <td>28</td>\n",
       "    </tr>\n",
       "    <tr>\n",
       "      <th>2018-03-01 00:30:00</th>\n",
       "      <td>20</td>\n",
       "    </tr>\n",
       "    <tr>\n",
       "      <th>2018-03-01 00:40:00</th>\n",
       "      <td>32</td>\n",
       "    </tr>\n",
       "    <tr>\n",
       "      <th>...</th>\n",
       "      <td>...</td>\n",
       "    </tr>\n",
       "    <tr>\n",
       "      <th>2018-08-31 23:10:00</th>\n",
       "      <td>32</td>\n",
       "    </tr>\n",
       "    <tr>\n",
       "      <th>2018-08-31 23:20:00</th>\n",
       "      <td>24</td>\n",
       "    </tr>\n",
       "    <tr>\n",
       "      <th>2018-08-31 23:30:00</th>\n",
       "      <td>27</td>\n",
       "    </tr>\n",
       "    <tr>\n",
       "      <th>2018-08-31 23:40:00</th>\n",
       "      <td>39</td>\n",
       "    </tr>\n",
       "    <tr>\n",
       "      <th>2018-08-31 23:50:00</th>\n",
       "      <td>53</td>\n",
       "    </tr>\n",
       "  </tbody>\n",
       "</table>\n",
       "<p>26496 rows × 1 columns</p>\n",
       "</div>"
      ],
      "text/plain": [
       "                     num_orders\n",
       "datetime                       \n",
       "2018-03-01 00:00:00           9\n",
       "2018-03-01 00:10:00          14\n",
       "2018-03-01 00:20:00          28\n",
       "2018-03-01 00:30:00          20\n",
       "2018-03-01 00:40:00          32\n",
       "...                         ...\n",
       "2018-08-31 23:10:00          32\n",
       "2018-08-31 23:20:00          24\n",
       "2018-08-31 23:30:00          27\n",
       "2018-08-31 23:40:00          39\n",
       "2018-08-31 23:50:00          53\n",
       "\n",
       "[26496 rows x 1 columns]"
      ]
     },
     "execution_count": 6,
     "metadata": {},
     "output_type": "execute_result"
    }
   ],
   "source": [
    "taxi"
   ]
  },
  {
   "cell_type": "code",
   "execution_count": 7,
   "metadata": {},
   "outputs": [],
   "source": [
    "#taxi = taxi.sort_index()"
   ]
  },
  {
   "cell_type": "code",
   "execution_count": 8,
   "metadata": {},
   "outputs": [
    {
     "data": {
      "text/html": [
       "<div>\n",
       "<style scoped>\n",
       "    .dataframe tbody tr th:only-of-type {\n",
       "        vertical-align: middle;\n",
       "    }\n",
       "\n",
       "    .dataframe tbody tr th {\n",
       "        vertical-align: top;\n",
       "    }\n",
       "\n",
       "    .dataframe thead th {\n",
       "        text-align: right;\n",
       "    }\n",
       "</style>\n",
       "<table border=\"1\" class=\"dataframe\">\n",
       "  <thead>\n",
       "    <tr style=\"text-align: right;\">\n",
       "      <th></th>\n",
       "      <th>num_orders</th>\n",
       "    </tr>\n",
       "    <tr>\n",
       "      <th>datetime</th>\n",
       "      <th></th>\n",
       "    </tr>\n",
       "  </thead>\n",
       "  <tbody>\n",
       "    <tr>\n",
       "      <th>2018-03-01 00:00:00</th>\n",
       "      <td>9</td>\n",
       "    </tr>\n",
       "    <tr>\n",
       "      <th>2018-03-01 00:10:00</th>\n",
       "      <td>14</td>\n",
       "    </tr>\n",
       "    <tr>\n",
       "      <th>2018-03-01 00:20:00</th>\n",
       "      <td>28</td>\n",
       "    </tr>\n",
       "    <tr>\n",
       "      <th>2018-03-01 00:30:00</th>\n",
       "      <td>20</td>\n",
       "    </tr>\n",
       "    <tr>\n",
       "      <th>2018-03-01 00:40:00</th>\n",
       "      <td>32</td>\n",
       "    </tr>\n",
       "    <tr>\n",
       "      <th>...</th>\n",
       "      <td>...</td>\n",
       "    </tr>\n",
       "    <tr>\n",
       "      <th>2018-08-31 23:10:00</th>\n",
       "      <td>32</td>\n",
       "    </tr>\n",
       "    <tr>\n",
       "      <th>2018-08-31 23:20:00</th>\n",
       "      <td>24</td>\n",
       "    </tr>\n",
       "    <tr>\n",
       "      <th>2018-08-31 23:30:00</th>\n",
       "      <td>27</td>\n",
       "    </tr>\n",
       "    <tr>\n",
       "      <th>2018-08-31 23:40:00</th>\n",
       "      <td>39</td>\n",
       "    </tr>\n",
       "    <tr>\n",
       "      <th>2018-08-31 23:50:00</th>\n",
       "      <td>53</td>\n",
       "    </tr>\n",
       "  </tbody>\n",
       "</table>\n",
       "<p>26496 rows × 1 columns</p>\n",
       "</div>"
      ],
      "text/plain": [
       "                     num_orders\n",
       "datetime                       \n",
       "2018-03-01 00:00:00           9\n",
       "2018-03-01 00:10:00          14\n",
       "2018-03-01 00:20:00          28\n",
       "2018-03-01 00:30:00          20\n",
       "2018-03-01 00:40:00          32\n",
       "...                         ...\n",
       "2018-08-31 23:10:00          32\n",
       "2018-08-31 23:20:00          24\n",
       "2018-08-31 23:30:00          27\n",
       "2018-08-31 23:40:00          39\n",
       "2018-08-31 23:50:00          53\n",
       "\n",
       "[26496 rows x 1 columns]"
      ]
     },
     "execution_count": 8,
     "metadata": {},
     "output_type": "execute_result"
    }
   ],
   "source": [
    "taxi"
   ]
  },
  {
   "cell_type": "code",
   "execution_count": 9,
   "metadata": {},
   "outputs": [
    {
     "data": {
      "text/html": [
       "<div>\n",
       "<style scoped>\n",
       "    .dataframe tbody tr th:only-of-type {\n",
       "        vertical-align: middle;\n",
       "    }\n",
       "\n",
       "    .dataframe tbody tr th {\n",
       "        vertical-align: top;\n",
       "    }\n",
       "\n",
       "    .dataframe thead th {\n",
       "        text-align: right;\n",
       "    }\n",
       "</style>\n",
       "<table border=\"1\" class=\"dataframe\">\n",
       "  <thead>\n",
       "    <tr style=\"text-align: right;\">\n",
       "      <th></th>\n",
       "      <th>num_orders</th>\n",
       "    </tr>\n",
       "    <tr>\n",
       "      <th>datetime</th>\n",
       "      <th></th>\n",
       "    </tr>\n",
       "  </thead>\n",
       "  <tbody>\n",
       "    <tr>\n",
       "      <th>2018-03-01 00:00:00</th>\n",
       "      <td>9</td>\n",
       "    </tr>\n",
       "    <tr>\n",
       "      <th>2018-03-01 00:10:00</th>\n",
       "      <td>14</td>\n",
       "    </tr>\n",
       "    <tr>\n",
       "      <th>2018-03-01 00:20:00</th>\n",
       "      <td>28</td>\n",
       "    </tr>\n",
       "    <tr>\n",
       "      <th>2018-03-01 00:30:00</th>\n",
       "      <td>20</td>\n",
       "    </tr>\n",
       "    <tr>\n",
       "      <th>2018-03-01 00:40:00</th>\n",
       "      <td>32</td>\n",
       "    </tr>\n",
       "  </tbody>\n",
       "</table>\n",
       "</div>"
      ],
      "text/plain": [
       "                     num_orders\n",
       "datetime                       \n",
       "2018-03-01 00:00:00           9\n",
       "2018-03-01 00:10:00          14\n",
       "2018-03-01 00:20:00          28\n",
       "2018-03-01 00:30:00          20\n",
       "2018-03-01 00:40:00          32"
      ]
     },
     "execution_count": 9,
     "metadata": {},
     "output_type": "execute_result"
    }
   ],
   "source": [
    "taxi.head()"
   ]
  },
  {
   "cell_type": "code",
   "execution_count": 10,
   "metadata": {},
   "outputs": [
    {
     "data": {
      "text/html": [
       "<div>\n",
       "<style scoped>\n",
       "    .dataframe tbody tr th:only-of-type {\n",
       "        vertical-align: middle;\n",
       "    }\n",
       "\n",
       "    .dataframe tbody tr th {\n",
       "        vertical-align: top;\n",
       "    }\n",
       "\n",
       "    .dataframe thead th {\n",
       "        text-align: right;\n",
       "    }\n",
       "</style>\n",
       "<table border=\"1\" class=\"dataframe\">\n",
       "  <thead>\n",
       "    <tr style=\"text-align: right;\">\n",
       "      <th></th>\n",
       "      <th>num_orders</th>\n",
       "    </tr>\n",
       "  </thead>\n",
       "  <tbody>\n",
       "    <tr>\n",
       "      <th>count</th>\n",
       "      <td>26496.000000</td>\n",
       "    </tr>\n",
       "    <tr>\n",
       "      <th>mean</th>\n",
       "      <td>14.070463</td>\n",
       "    </tr>\n",
       "    <tr>\n",
       "      <th>std</th>\n",
       "      <td>9.211330</td>\n",
       "    </tr>\n",
       "    <tr>\n",
       "      <th>min</th>\n",
       "      <td>0.000000</td>\n",
       "    </tr>\n",
       "    <tr>\n",
       "      <th>25%</th>\n",
       "      <td>8.000000</td>\n",
       "    </tr>\n",
       "    <tr>\n",
       "      <th>50%</th>\n",
       "      <td>13.000000</td>\n",
       "    </tr>\n",
       "    <tr>\n",
       "      <th>75%</th>\n",
       "      <td>19.000000</td>\n",
       "    </tr>\n",
       "    <tr>\n",
       "      <th>max</th>\n",
       "      <td>119.000000</td>\n",
       "    </tr>\n",
       "  </tbody>\n",
       "</table>\n",
       "</div>"
      ],
      "text/plain": [
       "         num_orders\n",
       "count  26496.000000\n",
       "mean      14.070463\n",
       "std        9.211330\n",
       "min        0.000000\n",
       "25%        8.000000\n",
       "50%       13.000000\n",
       "75%       19.000000\n",
       "max      119.000000"
      ]
     },
     "execution_count": 10,
     "metadata": {},
     "output_type": "execute_result"
    }
   ],
   "source": [
    "taxi.describe()"
   ]
  },
  {
   "cell_type": "code",
   "execution_count": 11,
   "metadata": {},
   "outputs": [
    {
     "name": "stdout",
     "output_type": "stream",
     "text": [
      "<class 'pandas.core.frame.DataFrame'>\n",
      "DatetimeIndex: 26496 entries, 2018-03-01 00:00:00 to 2018-08-31 23:50:00\n",
      "Data columns (total 1 columns):\n",
      " #   Column      Non-Null Count  Dtype\n",
      "---  ------      --------------  -----\n",
      " 0   num_orders  26496 non-null  int64\n",
      "dtypes: int64(1)\n",
      "memory usage: 414.0 KB\n"
     ]
    }
   ],
   "source": [
    "taxi.info()"
   ]
  },
  {
   "cell_type": "markdown",
   "metadata": {},
   "source": [
    "### Ресемплирование"
   ]
  },
  {
   "cell_type": "code",
   "execution_count": 12,
   "metadata": {},
   "outputs": [
    {
     "data": {
      "image/png": "[encoded data removed]",
      "text/plain": [
       "<Figure size 1080x576 with 1 Axes>"
      ]
     },
     "metadata": {
      "needs_background": "light"
     },
     "output_type": "display_data"
    }
   ],
   "source": [
    "taxi = taxi.resample('1H').sum()\n",
    "plt.figure(figsize=(15,8))\n",
    "plt.plot(taxi)\n",
    "plt.xlabel('datetime')\n",
    "plt.title('Resample data')\n",
    "plt.show()"
   ]
  },
  {
   "cell_type": "code",
   "execution_count": 13,
   "metadata": {},
   "outputs": [
    {
     "data": {
      "image/png": "[encoded data removed]",
      "text/plain": [
       "<Figure size 792x504 with 1 Axes>"
      ]
     },
     "metadata": {},
     "output_type": "display_data"
    }
   ],
   "source": [
    "sns.set(rc={'figure.figsize':(11,7)})\n",
    "sns.distplot(taxi);"
   ]
  },
  {
   "cell_type": "markdown",
   "metadata": {},
   "source": [
    "Одномодальное распределение с положительный коэф. аасиметрии.\n"
   ]
  },
  {
   "cell_type": "markdown",
   "metadata": {},
   "source": [
    "## Анализ"
   ]
  },
  {
   "cell_type": "markdown",
   "metadata": {},
   "source": [
    "### Скользящее среднее\n",
    "\n",
    "Сгладим временной ряд."
   ]
  },
  {
   "cell_type": "code",
   "execution_count": 14,
   "metadata": {},
   "outputs": [
    {
     "data": {
      "image/png": "[encoded data removed]",
      "text/plain": [
       "<Figure size 1080x576 with 1 Axes>"
      ]
     },
     "metadata": {},
     "output_type": "display_data"
    }
   ],
   "source": [
    "taxi['rolling_mean'] = taxi.rolling(24).mean()\n",
    "plt.figure(figsize=(15,8))\n",
    "plt.plot(taxi)\n",
    "plt.xlabel('datetime')\n",
    "plt.title('Rolling mean & data')\n",
    "plt.show()"
   ]
  },
  {
   "cell_type": "markdown",
   "metadata": {},
   "source": [
    "Чтобы декомпозировать данные, необходимо заполнить пропуски"
   ]
  },
  {
   "cell_type": "code",
   "execution_count": 15,
   "metadata": {},
   "outputs": [
    {
     "data": {
      "text/plain": [
       "num_orders       0\n",
       "rolling_mean    23\n",
       "dtype: int64"
      ]
     },
     "execution_count": 15,
     "metadata": {},
     "output_type": "execute_result"
    }
   ],
   "source": [
    "taxi.isnull().sum()"
   ]
  },
  {
   "cell_type": "code",
   "execution_count": 16,
   "metadata": {},
   "outputs": [
    {
     "data": {
      "text/plain": [
       "num_orders      0\n",
       "rolling_mean    0\n",
       "dtype: int64"
      ]
     },
     "execution_count": 16,
     "metadata": {},
     "output_type": "execute_result"
    }
   ],
   "source": [
    "taxi['rolling_mean'] = taxi['rolling_mean'].fillna(0)\n",
    "taxi.isnull().sum()"
   ]
  },
  {
   "cell_type": "markdown",
   "metadata": {},
   "source": [
    "### Декомпозиция\n",
    "\n",
    "Чтобы лучше понимать временной ряд, разберём тренды и сезонность."
   ]
  },
  {
   "cell_type": "code",
   "execution_count": 17,
   "metadata": {
    "scrolled": false
   },
   "outputs": [
    {
     "data": {
      "image/png": "[encoded data removed]",
      "text/plain": [
       "<Figure size 1080x864 with 3 Axes>"
      ]
     },
     "metadata": {},
     "output_type": "display_data"
    }
   ],
   "source": [
    "decomposed_taxi = seasonal_decompose(taxi['num_orders'])\n",
    "decomposed_taxi_rolling = seasonal_decompose(taxi['rolling_mean'])\n",
    "\n",
    "plt.figure(figsize=(15, 12))\n",
    "plt.subplot(311)\n",
    "\n",
    "decomposed_taxi.trend.plot(ax=plt.gca(),label='num_orders')\n",
    "decomposed_taxi_rolling.trend.plot(ax=plt.gca(),label='rolling_mean')\n",
    "plt.legend()\n",
    "\n",
    "plt.title('Trend')\n",
    "plt.subplot(312)\n",
    "\n",
    "\n",
    "decomposed_taxi.seasonal.tail(24*7*4).plot(ax=plt.gca(),label='num_orders')\n",
    "decomposed_taxi_rolling.seasonal.tail(24*7*4).plot(ax=plt.gca(),label='rolling_mean')\n",
    "plt.legend()\n",
    "\n",
    "plt.title('Seasonality')\n",
    "plt.subplot(313)\n",
    "\n",
    "\n",
    "decomposed_taxi.resid.plot(ax=plt.gca(),label='num_orders')\n",
    "decomposed_taxi_rolling.resid.plot(ax=plt.gca(),label='rolling_mean')\n",
    "plt.legend()\n",
    "\n",
    "plt.title('Residuals')\n",
    "plt.tight_layout()\n"
   ]
  },
  {
   "cell_type": "code",
   "execution_count": 18,
   "metadata": {
    "scrolled": false
   },
   "outputs": [
    {
     "data": {
      "image/png": "[encoded data removed]",
      "text/plain": [
       "<Figure size 720x504 with 1 Axes>"
      ]
     },
     "metadata": {},
     "output_type": "display_data"
    }
   ],
   "source": [
    "plt.figure(figsize=(10, 7))\n",
    "decomposed_taxi.seasonal['2018-07-30':'2018-08-31'].plot(ax=plt.gca(),label='num_orders')\n",
    "decomposed_taxi_rolling.seasonal['2018-07-30':'2018-08-31'].plot(ax=plt.gca(),label='rolling_mean')\n",
    "plt.legend();"
   ]
  },
  {
   "cell_type": "code",
   "execution_count": 19,
   "metadata": {},
   "outputs": [
    {
     "data": {
      "image/png": "[encoded data removed]",
      "text/plain": [
       "<Figure size 720x504 with 1 Axes>"
      ]
     },
     "metadata": {},
     "output_type": "display_data"
    }
   ],
   "source": [
    "plt.figure(figsize=(10, 7))\n",
    "decomposed_taxi.seasonal['2018-07-30':'2018-08-10'].plot(ax=plt.gca(),label='num_orders')\n",
    "decomposed_taxi_rolling.seasonal['2018-07-30':'2018-08-10'].plot(ax=plt.gca(),label='rolling_mean')\n",
    "plt.legend();"
   ]
  },
  {
   "cell_type": "code",
   "execution_count": 20,
   "metadata": {
    "scrolled": false
   },
   "outputs": [
    {
     "data": {
      "image/png": "[encoded data removed]",
      "text/plain": [
       "<Figure size 720x504 with 1 Axes>"
      ]
     },
     "metadata": {},
     "output_type": "display_data"
    }
   ],
   "source": [
    "plt.figure(figsize=(10, 7))\n",
    "decomposed_taxi.seasonal['2018-08-05':'2018-08-06'].plot(ax=plt.gca(),label='num_orders')\n",
    "decomposed_taxi_rolling.seasonal['2018-08-05':'2018-08-06'].plot(ax=plt.gca(),label='rolling_mean')\n",
    "plt.legend();"
   ]
  },
  {
   "cell_type": "markdown",
   "metadata": {},
   "source": [
    "##### Вывод:\n",
    "\n",
    "Общий тренд на рост.\n",
    "\n",
    "Сезонность:  \n",
    "1)дневная сезонность неявная или отсутствует  \n",
    "2)Но ведь есть ещё внутрисуточная сезонность: положительный пик в 00:00, отрицательный пик в 06:00  \n",
    "3)Месячную сезоность не выделить , тк данные за один год  \n",
    "\n"
   ]
  },
  {
   "cell_type": "markdown",
   "metadata": {},
   "source": [
    "## Обучение"
   ]
  },
  {
   "cell_type": "markdown",
   "metadata": {},
   "source": [
    "### Создание признаков"
   ]
  },
  {
   "cell_type": "code",
   "execution_count": 21,
   "metadata": {},
   "outputs": [],
   "source": [
    "def make_features(data, max_lag):\n",
    "    #data['month'] = data.index.month\n",
    "    #data['day'] = data.index.day\n",
    "    data['hour'] = data.index.hour\n",
    "    data['dayofweek'] = data.index.dayofweek\n",
    "    \n",
    "    for lag in range(1, max_lag + 1):\n",
    "        data['lag_{}'.format(lag)] = data['num_orders'].shift(lag)"
   ]
  },
  {
   "cell_type": "code",
   "execution_count": 22,
   "metadata": {},
   "outputs": [],
   "source": [
    "make_features(taxi,2)"
   ]
  },
  {
   "cell_type": "code",
   "execution_count": 23,
   "metadata": {
    "scrolled": false
   },
   "outputs": [
    {
     "data": {
      "text/html": [
       "<div>\n",
       "<style scoped>\n",
       "    .dataframe tbody tr th:only-of-type {\n",
       "        vertical-align: middle;\n",
       "    }\n",
       "\n",
       "    .dataframe tbody tr th {\n",
       "        vertical-align: top;\n",
       "    }\n",
       "\n",
       "    .dataframe thead th {\n",
       "        text-align: right;\n",
       "    }\n",
       "</style>\n",
       "<table border=\"1\" class=\"dataframe\">\n",
       "  <thead>\n",
       "    <tr style=\"text-align: right;\">\n",
       "      <th></th>\n",
       "      <th>num_orders</th>\n",
       "      <th>rolling_mean</th>\n",
       "      <th>hour</th>\n",
       "      <th>dayofweek</th>\n",
       "      <th>lag_1</th>\n",
       "      <th>lag_2</th>\n",
       "    </tr>\n",
       "    <tr>\n",
       "      <th>datetime</th>\n",
       "      <th></th>\n",
       "      <th></th>\n",
       "      <th></th>\n",
       "      <th></th>\n",
       "      <th></th>\n",
       "      <th></th>\n",
       "    </tr>\n",
       "  </thead>\n",
       "  <tbody>\n",
       "    <tr>\n",
       "      <th>2018-03-01 00:00:00</th>\n",
       "      <td>124</td>\n",
       "      <td>0.000000</td>\n",
       "      <td>0</td>\n",
       "      <td>3</td>\n",
       "      <td>NaN</td>\n",
       "      <td>NaN</td>\n",
       "    </tr>\n",
       "    <tr>\n",
       "      <th>2018-03-01 01:00:00</th>\n",
       "      <td>85</td>\n",
       "      <td>0.000000</td>\n",
       "      <td>1</td>\n",
       "      <td>3</td>\n",
       "      <td>124.0</td>\n",
       "      <td>NaN</td>\n",
       "    </tr>\n",
       "    <tr>\n",
       "      <th>2018-03-01 02:00:00</th>\n",
       "      <td>71</td>\n",
       "      <td>0.000000</td>\n",
       "      <td>2</td>\n",
       "      <td>3</td>\n",
       "      <td>85.0</td>\n",
       "      <td>124.0</td>\n",
       "    </tr>\n",
       "    <tr>\n",
       "      <th>2018-03-01 03:00:00</th>\n",
       "      <td>66</td>\n",
       "      <td>0.000000</td>\n",
       "      <td>3</td>\n",
       "      <td>3</td>\n",
       "      <td>71.0</td>\n",
       "      <td>85.0</td>\n",
       "    </tr>\n",
       "    <tr>\n",
       "      <th>2018-03-01 04:00:00</th>\n",
       "      <td>43</td>\n",
       "      <td>0.000000</td>\n",
       "      <td>4</td>\n",
       "      <td>3</td>\n",
       "      <td>66.0</td>\n",
       "      <td>71.0</td>\n",
       "    </tr>\n",
       "    <tr>\n",
       "      <th>...</th>\n",
       "      <td>...</td>\n",
       "      <td>...</td>\n",
       "      <td>...</td>\n",
       "      <td>...</td>\n",
       "      <td>...</td>\n",
       "      <td>...</td>\n",
       "    </tr>\n",
       "    <tr>\n",
       "      <th>2018-03-04 23:00:00</th>\n",
       "      <td>68</td>\n",
       "      <td>47.541667</td>\n",
       "      <td>23</td>\n",
       "      <td>6</td>\n",
       "      <td>83.0</td>\n",
       "      <td>75.0</td>\n",
       "    </tr>\n",
       "    <tr>\n",
       "      <th>2018-03-05 00:00:00</th>\n",
       "      <td>86</td>\n",
       "      <td>48.000000</td>\n",
       "      <td>0</td>\n",
       "      <td>0</td>\n",
       "      <td>68.0</td>\n",
       "      <td>83.0</td>\n",
       "    </tr>\n",
       "    <tr>\n",
       "      <th>2018-03-05 01:00:00</th>\n",
       "      <td>176</td>\n",
       "      <td>52.833333</td>\n",
       "      <td>1</td>\n",
       "      <td>0</td>\n",
       "      <td>86.0</td>\n",
       "      <td>68.0</td>\n",
       "    </tr>\n",
       "    <tr>\n",
       "      <th>2018-03-05 02:00:00</th>\n",
       "      <td>32</td>\n",
       "      <td>53.083333</td>\n",
       "      <td>2</td>\n",
       "      <td>0</td>\n",
       "      <td>176.0</td>\n",
       "      <td>86.0</td>\n",
       "    </tr>\n",
       "    <tr>\n",
       "      <th>2018-03-05 03:00:00</th>\n",
       "      <td>51</td>\n",
       "      <td>53.458333</td>\n",
       "      <td>3</td>\n",
       "      <td>0</td>\n",
       "      <td>32.0</td>\n",
       "      <td>176.0</td>\n",
       "    </tr>\n",
       "  </tbody>\n",
       "</table>\n",
       "<p>100 rows × 6 columns</p>\n",
       "</div>"
      ],
      "text/plain": [
       "                     num_orders  rolling_mean  hour  dayofweek  lag_1  lag_2\n",
       "datetime                                                                    \n",
       "2018-03-01 00:00:00         124      0.000000     0          3    NaN    NaN\n",
       "2018-03-01 01:00:00          85      0.000000     1          3  124.0    NaN\n",
       "2018-03-01 02:00:00          71      0.000000     2          3   85.0  124.0\n",
       "2018-03-01 03:00:00          66      0.000000     3          3   71.0   85.0\n",
       "2018-03-01 04:00:00          43      0.000000     4          3   66.0   71.0\n",
       "...                         ...           ...   ...        ...    ...    ...\n",
       "2018-03-04 23:00:00          68     47.541667    23          6   83.0   75.0\n",
       "2018-03-05 00:00:00          86     48.000000     0          0   68.0   83.0\n",
       "2018-03-05 01:00:00         176     52.833333     1          0   86.0   68.0\n",
       "2018-03-05 02:00:00          32     53.083333     2          0  176.0   86.0\n",
       "2018-03-05 03:00:00          51     53.458333     3          0   32.0  176.0\n",
       "\n",
       "[100 rows x 6 columns]"
      ]
     },
     "execution_count": 23,
     "metadata": {},
     "output_type": "execute_result"
    }
   ],
   "source": [
    "taxi.head(100)"
   ]
  },
  {
   "cell_type": "markdown",
   "metadata": {},
   "source": [
    "### Разделение данных\n",
    "Разделим данные указав параметр shaffle = False"
   ]
  },
  {
   "cell_type": "code",
   "execution_count": 24,
   "metadata": {},
   "outputs": [],
   "source": [
    "train, valid = train_test_split(taxi, shuffle=False, test_size=0.2)\n",
    "valid, test = train_test_split(valid, shuffle=False, test_size=0.5)\n",
    "\n",
    "train = train.dropna()"
   ]
  },
  {
   "cell_type": "code",
   "execution_count": 25,
   "metadata": {},
   "outputs": [],
   "source": [
    "features_train = train.drop(columns=['num_orders'])\n",
    "target_train = train['num_orders']\n",
    "\n",
    "features_valid = valid.drop(columns=['num_orders'])\n",
    "target_valid = valid['num_orders']\n",
    "\n",
    "features_test = test.drop(columns=['num_orders'])\n",
    "target_test = test['num_orders']\n"
   ]
  },
  {
   "cell_type": "code",
   "execution_count": 26,
   "metadata": {},
   "outputs": [
    {
     "data": {
      "text/plain": [
       "datetime\n",
       "2018-07-26 04:00:00    131\n",
       "2018-07-26 05:00:00     83\n",
       "2018-07-26 06:00:00     21\n",
       "2018-07-26 07:00:00     39\n",
       "2018-07-26 08:00:00     80\n",
       "                      ... \n",
       "2018-08-13 09:00:00    137\n",
       "2018-08-13 10:00:00    156\n",
       "2018-08-13 11:00:00    144\n",
       "2018-08-13 12:00:00     92\n",
       "2018-08-13 13:00:00    119\n",
       "Freq: H, Name: num_orders, Length: 442, dtype: int64"
      ]
     },
     "execution_count": 26,
     "metadata": {},
     "output_type": "execute_result"
    }
   ],
   "source": [
    "target_valid"
   ]
  },
  {
   "cell_type": "markdown",
   "metadata": {},
   "source": [
    "### Обучение моделей"
   ]
  },
  {
   "cell_type": "markdown",
   "metadata": {},
   "source": [
    "#### LinearRegression"
   ]
  },
  {
   "cell_type": "code",
   "execution_count": 27,
   "metadata": {},
   "outputs": [],
   "source": [
    "linear_reg_model = LinearRegression().fit(features_train,target_train)"
   ]
  },
  {
   "cell_type": "code",
   "execution_count": 28,
   "metadata": {},
   "outputs": [
    {
     "data": {
      "text/plain": [
       "40.792180284828625"
      ]
     },
     "execution_count": 28,
     "metadata": {},
     "output_type": "execute_result"
    }
   ],
   "source": [
    "linear_reg_results = rmse(target_valid,linear_reg_model.predict(features_valid))\n",
    "linear_reg_results"
   ]
  },
  {
   "cell_type": "markdown",
   "metadata": {},
   "source": [
    "#### RandomForestRegressor"
   ]
  },
  {
   "cell_type": "code",
   "execution_count": 29,
   "metadata": {},
   "outputs": [],
   "source": [
    "rfr = RandomForestRegressor(random_state=420,criterion='mse')"
   ]
  },
  {
   "cell_type": "code",
   "execution_count": 77,
   "metadata": {},
   "outputs": [],
   "source": [
    "param_grid = {\"n_estimators\": [1,15],\n",
    "             'max_depth' : [8,9,10,11,12]}"
   ]
  },
  {
   "cell_type": "code",
   "execution_count": 78,
   "metadata": {},
   "outputs": [
    {
     "data": {
      "text/plain": [
       "RandomForestRegressor(max_depth=12, n_estimators=15, random_state=420)"
      ]
     },
     "execution_count": 78,
     "metadata": {},
     "output_type": "execute_result"
    }
   ],
   "source": [
    "tscv = TimeSeriesSplit(n_splits=24) #надо посмотерть, как подобрать параметр и аргументировать\n",
    "grid = GridSearchCV(rfr, param_grid, scoring='neg_mean_squared_error', cv=tscv)\n",
    "grid.fit(features_train, target_train)\n",
    "grid.best_estimator_"
   ]
  },
  {
   "cell_type": "code",
   "execution_count": 79,
   "metadata": {},
   "outputs": [
    {
     "data": {
      "text/plain": [
       "22.364988777730925"
      ]
     },
     "execution_count": 79,
     "metadata": {},
     "output_type": "execute_result"
    }
   ],
   "source": [
    "# RMSE\n",
    "forrest_results = abs(grid.best_score_) **0.5\n",
    "forrest_results"
   ]
  },
  {
   "cell_type": "code",
   "execution_count": 80,
   "metadata": {},
   "outputs": [],
   "source": [
    "forrest = grid.best_estimator_"
   ]
  },
  {
   "cell_type": "markdown",
   "metadata": {},
   "source": [
    "#### CatBoostRegressor"
   ]
  },
  {
   "cell_type": "code",
   "execution_count": 34,
   "metadata": {},
   "outputs": [
    {
     "data": {
      "application/vnd.jupyter.widget-view+json": {
       "model_id": "d95074577bf44b3ab21eb9246c1eaacb",
       "version_major": 2,
       "version_minor": 0
      },
      "text/plain": [
       "MetricVisualizer(layout=Layout(align_self='stretch', height='500px'))"
      ]
     },
     "metadata": {},
     "output_type": "display_data"
    },
    {
     "name": "stdout",
     "output_type": "stream",
     "text": [
      "0:\tlearn: 28.6118552\ttotal: 48ms\tremaining: 3.79s\n",
      "10:\tlearn: 20.4025972\ttotal: 58.8ms\tremaining: 369ms\n",
      "20:\tlearn: 18.9137820\ttotal: 69.1ms\tremaining: 194ms\n",
      "30:\tlearn: 17.7426999\ttotal: 79.6ms\tremaining: 126ms\n",
      "40:\tlearn: 16.9391039\ttotal: 89.8ms\tremaining: 85.4ms\n",
      "50:\tlearn: 16.2933472\ttotal: 99.8ms\tremaining: 56.7ms\n",
      "60:\tlearn: 15.6743216\ttotal: 110ms\tremaining: 34.2ms\n",
      "70:\tlearn: 15.2822004\ttotal: 120ms\tremaining: 15.2ms\n",
      "79:\tlearn: 14.8519411\ttotal: 130ms\tremaining: 0us\n"
     ]
    },
    {
     "data": {
      "text/plain": [
       "<catboost.core.CatBoostRegressor at 0x7f4ad47203a0>"
      ]
     },
     "execution_count": 34,
     "metadata": {},
     "output_type": "execute_result"
    }
   ],
   "source": [
    "cat_model = CatBoostRegressor(loss_function='RMSE', iterations=80, random_state=420,learning_rate=0.5)\n",
    "\n",
    "\n",
    "cat_model.fit(features_train, \n",
    "              target_train, \n",
    "              #eval_set=[features_valid,target_valid],\n",
    "              verbose=10,\n",
    "              plot=True)\n"
   ]
  },
  {
   "cell_type": "code",
   "execution_count": 35,
   "metadata": {},
   "outputs": [],
   "source": [
    "cat_model_results = rmse(target_valid,cat_model.predict(features_valid))"
   ]
  },
  {
   "cell_type": "markdown",
   "metadata": {},
   "source": [
    "#### LGBMRegressor"
   ]
  },
  {
   "cell_type": "code",
   "execution_count": 36,
   "metadata": {},
   "outputs": [
    {
     "data": {
      "text/plain": [
       "39.512311645322505"
      ]
     },
     "execution_count": 36,
     "metadata": {},
     "output_type": "execute_result"
    }
   ],
   "source": [
    "lgbm = ltb.LGBMRegressor(num_leaves=30, learning_rate=0.05, n_estimators=20, random_state=420)\n",
    "lgbm.fit(features_train, target_train)\n",
    "predict_lgbm = pd.DataFrame(lgbm.predict(features_valid))\n",
    "\n",
    "lgbm_model_results = rmse(target_valid,predict_lgbm)\n",
    "lgbm_model_results"
   ]
  },
  {
   "cell_type": "code",
   "execution_count": 37,
   "metadata": {},
   "outputs": [
    {
     "data": {
      "text/html": [
       "<div>\n",
       "<style scoped>\n",
       "    .dataframe tbody tr th:only-of-type {\n",
       "        vertical-align: middle;\n",
       "    }\n",
       "\n",
       "    .dataframe tbody tr th {\n",
       "        vertical-align: top;\n",
       "    }\n",
       "\n",
       "    .dataframe thead th {\n",
       "        text-align: right;\n",
       "    }\n",
       "</style>\n",
       "<table border=\"1\" class=\"dataframe\">\n",
       "  <thead>\n",
       "    <tr style=\"text-align: right;\">\n",
       "      <th></th>\n",
       "      <th>LinearRegression</th>\n",
       "      <th>CatBoostRegressor</th>\n",
       "      <th>LGBMRegressor</th>\n",
       "      <th>RandomForestRegressor</th>\n",
       "    </tr>\n",
       "  </thead>\n",
       "  <tbody>\n",
       "    <tr>\n",
       "      <th>0</th>\n",
       "      <td>40.79218</td>\n",
       "      <td>29.871741</td>\n",
       "      <td>39.512312</td>\n",
       "      <td>22.127241</td>\n",
       "    </tr>\n",
       "  </tbody>\n",
       "</table>\n",
       "</div>"
      ],
      "text/plain": [
       "   LinearRegression  CatBoostRegressor  LGBMRegressor  RandomForestRegressor\n",
       "0          40.79218          29.871741      39.512312              22.127241"
      ]
     },
     "execution_count": 37,
     "metadata": {},
     "output_type": "execute_result"
    }
   ],
   "source": [
    "result_models = {'LinearRegression':[linear_reg_results],\n",
    "                 'CatBoostRegressor':[cat_model_results],\n",
    "                 'LGBMRegressor':[lgbm_model_results],\n",
    "                 'RandomForestRegressor':[forrest_results]}\n",
    "results = pd.DataFrame(result_models)\n",
    "results"
   ]
  },
  {
   "cell_type": "markdown",
   "metadata": {},
   "source": [
    "#### Вывод: на валидационных данных наилучшее качество RandomForestRegressor"
   ]
  },
  {
   "cell_type": "markdown",
   "metadata": {},
   "source": [
    "## Тестирование"
   ]
  },
  {
   "cell_type": "markdown",
   "metadata": {},
   "source": [
    "Протестируем модели на тестовых данных"
   ]
  },
  {
   "cell_type": "code",
   "execution_count": 82,
   "metadata": {},
   "outputs": [
    {
     "name": "stdout",
     "output_type": "stream",
     "text": [
      "<catboost.core.CatBoostRegressor object at 0x7f4ad47203a0>\n",
      "52.16666212214675\n",
      "\n",
      "LGBMRegressor(learning_rate=0.05, n_estimators=20, num_leaves=30,\n",
      "              random_state=420)\n",
      "65.82383616885741\n",
      "\n",
      "RandomForestRegressor(max_depth=12, n_estimators=15, random_state=420)\n",
      "46.16727502097292\n",
      "\n",
      "LinearRegression()\n",
      "50.8094305473242\n",
      "\n"
     ]
    }
   ],
   "source": [
    "model_list = [cat_model,lgbm,forrest,linear_reg_model]\n",
    "for model in model_list:\n",
    "    print(model)\n",
    "    print(rmse(target_test,model.predict(features_test)))\n",
    "    print()"
   ]
  },
  {
   "cell_type": "code",
   "execution_count": 39,
   "metadata": {},
   "outputs": [
    {
     "data": {
      "image/png": "[encoded data removed]",
      "text/plain": [
       "<Figure size 1080x720 with 1 Axes>"
      ]
     },
     "metadata": {},
     "output_type": "display_data"
    }
   ],
   "source": [
    "plt.figure(figsize=(15,10))\n",
    "\n",
    "plt.plot(target_test,label='True')\n",
    "plt.plot(target_test.index,cat_model.predict(features_test),label='Test')\n",
    "plt.title('Test vs True')\n",
    "plt.legend()\n",
    "plt.show()"
   ]
  },
  {
   "cell_type": "markdown",
   "metadata": {},
   "source": [
    "## Вывод:\n",
    "\n",
    "1. Загружены данные и ресемплированы по одному часу.\n",
    "2. Данные проанализировать.\n",
    "3. Обучены разные модели с различными гиперпараметрами. \n",
    "4. Данные проверены на тестовой выборке.\n",
    "5. Выбрана модель RandomForestRegressor(max_depth=12, n_estimators=15, random_state=420)\n",
    "6. Достигнутое значение метрики RMSE на тестовой выборке: 46.167\n",
    "\n"
   ]
  }
 ],
 "metadata": {
  "ExecuteTimeLog": [
   {
    "duration": 360,
    "start_time": "2022-07-18T06:43:09.265Z"
   },
   {
    "duration": 137,
    "start_time": "2022-07-18T06:43:30.439Z"
   },
   {
    "duration": 12,
    "start_time": "2022-07-18T06:43:39.684Z"
   },
   {
    "duration": 12,
    "start_time": "2022-07-18T06:44:44.228Z"
   },
   {
    "duration": 887,
    "start_time": "2022-07-18T06:47:29.799Z"
   },
   {
    "duration": 187,
    "start_time": "2022-07-18T06:47:47.094Z"
   },
   {
    "duration": 527,
    "start_time": "2022-07-18T06:48:08.360Z"
   },
   {
    "duration": 87,
    "start_time": "2022-07-18T06:48:43.830Z"
   },
   {
    "duration": 10,
    "start_time": "2022-07-18T06:49:12.645Z"
   },
   {
    "duration": 5,
    "start_time": "2022-07-18T06:49:23.245Z"
   },
   {
    "duration": 6,
    "start_time": "2022-07-18T06:50:02.404Z"
   },
   {
    "duration": 12,
    "start_time": "2022-07-18T06:50:38.700Z"
   },
   {
    "duration": 24,
    "start_time": "2022-07-18T06:51:07.076Z"
   },
   {
    "duration": 3,
    "start_time": "2022-07-18T06:52:21.660Z"
   },
   {
    "duration": 3,
    "start_time": "2022-07-18T06:52:41.817Z"
   },
   {
    "duration": 46,
    "start_time": "2022-07-18T06:52:43.963Z"
   },
   {
    "duration": 7,
    "start_time": "2022-07-18T06:52:44.263Z"
   },
   {
    "duration": 14,
    "start_time": "2022-07-18T06:52:44.507Z"
   },
   {
    "duration": 14,
    "start_time": "2022-07-18T06:52:44.869Z"
   },
   {
    "duration": 624,
    "start_time": "2022-07-18T06:52:46.178Z"
   },
   {
    "duration": 111,
    "start_time": "2022-07-18T06:52:46.804Z"
   },
   {
    "duration": 5,
    "start_time": "2022-07-18T06:52:51.066Z"
   },
   {
    "duration": 24,
    "start_time": "2022-07-18T06:54:22.240Z"
   },
   {
    "duration": 11,
    "start_time": "2022-07-18T06:54:47.574Z"
   },
   {
    "duration": 12,
    "start_time": "2022-07-18T06:56:14.943Z"
   },
   {
    "duration": 6,
    "start_time": "2022-07-18T06:56:19.806Z"
   },
   {
    "duration": 12,
    "start_time": "2022-07-18T06:56:22.257Z"
   },
   {
    "duration": 18,
    "start_time": "2022-07-18T06:56:35.399Z"
   },
   {
    "duration": 11,
    "start_time": "2022-07-18T06:57:03.703Z"
   },
   {
    "duration": 11,
    "start_time": "2022-07-18T06:57:30.487Z"
   },
   {
    "duration": 57,
    "start_time": "2022-07-18T06:58:22.062Z"
   },
   {
    "duration": 7,
    "start_time": "2022-07-18T06:58:23.143Z"
   },
   {
    "duration": 12,
    "start_time": "2022-07-18T06:58:24.561Z"
   },
   {
    "duration": 13,
    "start_time": "2022-07-18T06:58:25.340Z"
   },
   {
    "duration": 502,
    "start_time": "2022-07-18T06:58:25.998Z"
   },
   {
    "duration": 173,
    "start_time": "2022-07-18T06:58:27.213Z"
   },
   {
    "duration": 7,
    "start_time": "2022-07-18T06:58:29.422Z"
   },
   {
    "duration": 9,
    "start_time": "2022-07-18T06:58:32.622Z"
   },
   {
    "duration": 11,
    "start_time": "2022-07-18T06:58:41.837Z"
   },
   {
    "duration": 3,
    "start_time": "2022-07-18T06:59:16.597Z"
   },
   {
    "duration": 7,
    "start_time": "2022-07-18T06:59:17.534Z"
   },
   {
    "duration": 12,
    "start_time": "2022-07-18T06:59:20.574Z"
   },
   {
    "duration": 10,
    "start_time": "2022-07-18T06:59:21.421Z"
   },
   {
    "duration": 256,
    "start_time": "2022-07-18T06:59:21.997Z"
   },
   {
    "duration": 125,
    "start_time": "2022-07-18T06:59:22.518Z"
   },
   {
    "duration": 6,
    "start_time": "2022-07-18T06:59:23.125Z"
   },
   {
    "duration": 17,
    "start_time": "2022-07-18T06:59:23.941Z"
   },
   {
    "duration": 184,
    "start_time": "2022-07-18T07:00:03.758Z"
   },
   {
    "duration": 6,
    "start_time": "2022-07-18T07:01:34.180Z"
   },
   {
    "duration": 7,
    "start_time": "2022-07-18T07:02:08.692Z"
   },
   {
    "duration": 3,
    "start_time": "2022-07-18T07:04:33.464Z"
   },
   {
    "duration": 4,
    "start_time": "2022-07-18T07:04:36.656Z"
   },
   {
    "duration": 2,
    "start_time": "2022-07-18T07:04:37.054Z"
   },
   {
    "duration": 4,
    "start_time": "2022-07-18T07:04:37.606Z"
   },
   {
    "duration": 56,
    "start_time": "2022-07-18T07:04:38.357Z"
   },
   {
    "duration": 4,
    "start_time": "2022-07-18T07:04:38.607Z"
   },
   {
    "duration": 7,
    "start_time": "2022-07-18T07:04:38.823Z"
   },
   {
    "duration": 14,
    "start_time": "2022-07-18T07:04:39.098Z"
   },
   {
    "duration": 17,
    "start_time": "2022-07-18T07:04:39.367Z"
   },
   {
    "duration": 483,
    "start_time": "2022-07-18T07:04:39.794Z"
   },
   {
    "duration": 124,
    "start_time": "2022-07-18T07:04:40.279Z"
   },
   {
    "duration": 6,
    "start_time": "2022-07-18T07:04:40.406Z"
   },
   {
    "duration": 16,
    "start_time": "2022-07-18T07:04:40.606Z"
   },
   {
    "duration": 225,
    "start_time": "2022-07-18T07:04:40.894Z"
   },
   {
    "duration": 7,
    "start_time": "2022-07-18T07:04:41.121Z"
   },
   {
    "duration": 194,
    "start_time": "2022-07-18T07:09:20.868Z"
   },
   {
    "duration": 3,
    "start_time": "2022-07-18T07:12:02.468Z"
   },
   {
    "duration": 4,
    "start_time": "2022-07-18T07:12:02.766Z"
   },
   {
    "duration": 3,
    "start_time": "2022-07-18T07:12:03.082Z"
   },
   {
    "duration": 45,
    "start_time": "2022-07-18T07:12:04.089Z"
   },
   {
    "duration": 13,
    "start_time": "2022-07-18T07:12:04.778Z"
   },
   {
    "duration": 4,
    "start_time": "2022-07-18T07:12:11.722Z"
   },
   {
    "duration": 3,
    "start_time": "2022-07-18T07:12:17.474Z"
   },
   {
    "duration": 8,
    "start_time": "2022-07-18T07:12:18.618Z"
   },
   {
    "duration": 4,
    "start_time": "2022-07-18T07:23:11.861Z"
   },
   {
    "duration": 1511,
    "start_time": "2022-07-21T07:52:39.755Z"
   },
   {
    "duration": 3,
    "start_time": "2022-07-21T07:52:41.268Z"
   },
   {
    "duration": 198,
    "start_time": "2022-07-21T07:52:42.925Z"
   },
   {
    "duration": 4,
    "start_time": "2022-07-21T07:52:43.476Z"
   },
   {
    "duration": 3,
    "start_time": "2022-07-21T07:53:24.648Z"
   },
   {
    "duration": 12,
    "start_time": "2022-07-21T07:53:25.274Z"
   },
   {
    "duration": 14,
    "start_time": "2022-07-21T07:53:26.759Z"
   },
   {
    "duration": 9,
    "start_time": "2022-07-21T07:53:27.142Z"
   },
   {
    "duration": 516,
    "start_time": "2022-07-21T07:53:27.575Z"
   },
   {
    "duration": 103,
    "start_time": "2022-07-21T07:53:28.093Z"
   },
   {
    "duration": 5,
    "start_time": "2022-07-21T07:53:28.405Z"
   },
   {
    "duration": 18,
    "start_time": "2022-07-21T07:53:29.237Z"
   },
   {
    "duration": 195,
    "start_time": "2022-07-21T07:53:29.744Z"
   },
   {
    "duration": 235,
    "start_time": "2022-07-21T07:53:30.573Z"
   },
   {
    "duration": 325,
    "start_time": "2022-07-21T07:53:33.365Z"
   },
   {
    "duration": 104,
    "start_time": "2022-07-21T07:54:48.297Z"
   },
   {
    "duration": 32,
    "start_time": "2022-07-21T07:55:12.390Z"
   },
   {
    "duration": 18,
    "start_time": "2022-07-21T07:55:19.439Z"
   },
   {
    "duration": 6,
    "start_time": "2022-07-21T07:55:47.145Z"
   },
   {
    "duration": 7,
    "start_time": "2022-07-21T07:56:26.343Z"
   },
   {
    "duration": 3,
    "start_time": "2022-07-21T07:57:13.579Z"
   },
   {
    "duration": 34,
    "start_time": "2022-07-21T07:57:14.143Z"
   },
   {
    "duration": 8,
    "start_time": "2022-07-21T07:57:30.455Z"
   },
   {
    "duration": 19,
    "start_time": "2022-07-21T07:57:43.866Z"
   },
   {
    "duration": 3,
    "start_time": "2022-07-21T07:59:33.962Z"
   },
   {
    "duration": 2,
    "start_time": "2022-07-21T07:59:34.503Z"
   },
   {
    "duration": 49,
    "start_time": "2022-07-21T07:59:35.250Z"
   },
   {
    "duration": 4,
    "start_time": "2022-07-21T07:59:35.471Z"
   },
   {
    "duration": 2,
    "start_time": "2022-07-21T07:59:35.764Z"
   },
   {
    "duration": 7,
    "start_time": "2022-07-21T07:59:36.096Z"
   },
   {
    "duration": 13,
    "start_time": "2022-07-21T07:59:36.384Z"
   },
   {
    "duration": 11,
    "start_time": "2022-07-21T07:59:36.639Z"
   },
   {
    "duration": 509,
    "start_time": "2022-07-21T07:59:36.914Z"
   },
   {
    "duration": 112,
    "start_time": "2022-07-21T07:59:37.426Z"
   },
   {
    "duration": 6,
    "start_time": "2022-07-21T07:59:37.539Z"
   },
   {
    "duration": 13,
    "start_time": "2022-07-21T07:59:37.703Z"
   },
   {
    "duration": 191,
    "start_time": "2022-07-21T07:59:37.986Z"
   },
   {
    "duration": 218,
    "start_time": "2022-07-21T07:59:38.252Z"
   },
   {
    "duration": 256,
    "start_time": "2022-07-21T07:59:38.890Z"
   },
   {
    "duration": 6,
    "start_time": "2022-07-21T07:59:40.050Z"
   },
   {
    "duration": 9,
    "start_time": "2022-07-21T07:59:40.432Z"
   },
   {
    "duration": 24,
    "start_time": "2022-07-21T07:59:40.824Z"
   },
   {
    "duration": 56,
    "start_time": "2022-07-21T08:01:46.228Z"
   },
   {
    "duration": 4,
    "start_time": "2022-07-21T08:01:47.696Z"
   },
   {
    "duration": 3,
    "start_time": "2022-07-21T08:01:48.169Z"
   },
   {
    "duration": 10,
    "start_time": "2022-07-21T08:01:48.568Z"
   },
   {
    "duration": 13,
    "start_time": "2022-07-21T08:01:48.905Z"
   },
   {
    "duration": 10,
    "start_time": "2022-07-21T08:01:49.271Z"
   },
   {
    "duration": 439,
    "start_time": "2022-07-21T08:01:50.186Z"
   },
   {
    "duration": 203,
    "start_time": "2022-07-21T08:01:50.674Z"
   },
   {
    "duration": 6,
    "start_time": "2022-07-21T08:01:52.185Z"
   },
   {
    "duration": 16,
    "start_time": "2022-07-21T08:01:52.641Z"
   },
   {
    "duration": 196,
    "start_time": "2022-07-21T08:01:54.384Z"
   },
   {
    "duration": 217,
    "start_time": "2022-07-21T08:01:54.805Z"
   },
   {
    "duration": 231,
    "start_time": "2022-07-21T08:01:56.590Z"
   },
   {
    "duration": 6,
    "start_time": "2022-07-21T08:01:58.385Z"
   },
   {
    "duration": 6,
    "start_time": "2022-07-21T08:01:58.900Z"
   },
   {
    "duration": 20,
    "start_time": "2022-07-21T08:01:59.554Z"
   },
   {
    "duration": 3,
    "start_time": "2022-07-21T08:03:07.135Z"
   },
   {
    "duration": 3,
    "start_time": "2022-07-21T08:03:07.709Z"
   },
   {
    "duration": 48,
    "start_time": "2022-07-21T08:03:08.692Z"
   },
   {
    "duration": 4,
    "start_time": "2022-07-21T08:03:09.180Z"
   },
   {
    "duration": 2,
    "start_time": "2022-07-21T08:03:09.709Z"
   },
   {
    "duration": 7,
    "start_time": "2022-07-21T08:03:10.100Z"
   },
   {
    "duration": 13,
    "start_time": "2022-07-21T08:03:10.484Z"
   },
   {
    "duration": 10,
    "start_time": "2022-07-21T08:03:10.853Z"
   },
   {
    "duration": 509,
    "start_time": "2022-07-21T08:03:11.284Z"
   },
   {
    "duration": 110,
    "start_time": "2022-07-21T08:03:11.795Z"
   },
   {
    "duration": 5,
    "start_time": "2022-07-21T08:03:12.101Z"
   },
   {
    "duration": 19,
    "start_time": "2022-07-21T08:03:12.515Z"
   },
   {
    "duration": 260,
    "start_time": "2022-07-21T08:03:12.756Z"
   },
   {
    "duration": 231,
    "start_time": "2022-07-21T08:03:13.117Z"
   },
   {
    "duration": 382,
    "start_time": "2022-07-21T08:03:13.796Z"
   },
   {
    "duration": 6,
    "start_time": "2022-07-21T08:03:14.548Z"
   },
   {
    "duration": 8,
    "start_time": "2022-07-21T08:03:14.924Z"
   },
   {
    "duration": 19,
    "start_time": "2022-07-21T08:03:15.404Z"
   },
   {
    "duration": 1384,
    "start_time": "2022-07-21T08:03:22.685Z"
   },
   {
    "duration": 3,
    "start_time": "2022-07-21T08:03:24.072Z"
   },
   {
    "duration": 60,
    "start_time": "2022-07-21T08:03:24.077Z"
   },
   {
    "duration": 4,
    "start_time": "2022-07-21T08:03:24.139Z"
   },
   {
    "duration": 7,
    "start_time": "2022-07-21T08:03:24.144Z"
   },
   {
    "duration": 15,
    "start_time": "2022-07-21T08:03:24.153Z"
   },
   {
    "duration": 14,
    "start_time": "2022-07-21T08:03:24.170Z"
   },
   {
    "duration": 10,
    "start_time": "2022-07-21T08:03:24.186Z"
   },
   {
    "duration": 478,
    "start_time": "2022-07-21T08:03:24.198Z"
   },
   {
    "duration": 105,
    "start_time": "2022-07-21T08:03:24.678Z"
   },
   {
    "duration": 5,
    "start_time": "2022-07-21T08:03:24.785Z"
   },
   {
    "duration": 18,
    "start_time": "2022-07-21T08:03:24.792Z"
   },
   {
    "duration": 217,
    "start_time": "2022-07-21T08:03:24.812Z"
   },
   {
    "duration": 308,
    "start_time": "2022-07-21T08:03:25.031Z"
   },
   {
    "duration": 269,
    "start_time": "2022-07-21T08:03:25.340Z"
   },
   {
    "duration": 6,
    "start_time": "2022-07-21T08:03:25.611Z"
   },
   {
    "duration": 24,
    "start_time": "2022-07-21T08:03:25.618Z"
   },
   {
    "duration": 130,
    "start_time": "2022-07-21T08:03:25.644Z"
   },
   {
    "duration": 0,
    "start_time": "2022-07-21T08:03:25.776Z"
   },
   {
    "duration": 10,
    "start_time": "2022-07-21T08:09:19.873Z"
   },
   {
    "duration": 6,
    "start_time": "2022-07-21T08:09:31.836Z"
   },
   {
    "duration": 53,
    "start_time": "2022-07-21T08:10:30.029Z"
   },
   {
    "duration": 5,
    "start_time": "2022-07-21T08:10:30.676Z"
   },
   {
    "duration": 4,
    "start_time": "2022-07-21T08:10:31.260Z"
   },
   {
    "duration": 12,
    "start_time": "2022-07-21T08:10:33.277Z"
   },
   {
    "duration": 59,
    "start_time": "2022-07-21T08:10:58.838Z"
   },
   {
    "duration": 4,
    "start_time": "2022-07-21T08:10:59.340Z"
   },
   {
    "duration": 3,
    "start_time": "2022-07-21T08:10:59.764Z"
   },
   {
    "duration": 8,
    "start_time": "2022-07-21T08:11:00.236Z"
   },
   {
    "duration": 20,
    "start_time": "2022-07-21T08:11:00.980Z"
   },
   {
    "duration": 12,
    "start_time": "2022-07-21T08:11:01.804Z"
   },
   {
    "duration": 665,
    "start_time": "2022-07-21T08:11:02.300Z"
   },
   {
    "duration": 115,
    "start_time": "2022-07-21T08:11:02.968Z"
   },
   {
    "duration": 8,
    "start_time": "2022-07-21T08:11:03.428Z"
   },
   {
    "duration": 20,
    "start_time": "2022-07-21T08:11:03.844Z"
   },
   {
    "duration": 214,
    "start_time": "2022-07-21T08:11:04.283Z"
   },
   {
    "duration": 213,
    "start_time": "2022-07-21T08:11:04.717Z"
   },
   {
    "duration": 281,
    "start_time": "2022-07-21T08:11:05.701Z"
   },
   {
    "duration": 7,
    "start_time": "2022-07-21T08:11:06.732Z"
   },
   {
    "duration": 8,
    "start_time": "2022-07-21T08:11:07.227Z"
   },
   {
    "duration": 6,
    "start_time": "2022-07-21T08:11:07.708Z"
   },
   {
    "duration": 20,
    "start_time": "2022-07-21T08:11:08.188Z"
   },
   {
    "duration": 5,
    "start_time": "2022-07-21T08:12:56.172Z"
   },
   {
    "duration": 3,
    "start_time": "2022-07-21T08:12:56.715Z"
   },
   {
    "duration": 49,
    "start_time": "2022-07-21T08:12:57.663Z"
   },
   {
    "duration": 4,
    "start_time": "2022-07-21T08:12:58.192Z"
   },
   {
    "duration": 4,
    "start_time": "2022-07-21T08:12:58.622Z"
   },
   {
    "duration": 9,
    "start_time": "2022-07-21T08:12:59.148Z"
   },
   {
    "duration": 18,
    "start_time": "2022-07-21T08:12:59.607Z"
   },
   {
    "duration": 12,
    "start_time": "2022-07-21T08:13:00.017Z"
   },
   {
    "duration": 537,
    "start_time": "2022-07-21T08:13:00.468Z"
   },
   {
    "duration": 225,
    "start_time": "2022-07-21T08:13:01.009Z"
   },
   {
    "duration": 6,
    "start_time": "2022-07-21T08:13:01.237Z"
   },
   {
    "duration": 17,
    "start_time": "2022-07-21T08:13:01.485Z"
   },
   {
    "duration": 212,
    "start_time": "2022-07-21T08:13:01.856Z"
   },
   {
    "duration": 286,
    "start_time": "2022-07-21T08:13:02.761Z"
   },
   {
    "duration": 290,
    "start_time": "2022-07-21T08:13:03.548Z"
   },
   {
    "duration": 8,
    "start_time": "2022-07-21T08:13:04.789Z"
   },
   {
    "duration": 10,
    "start_time": "2022-07-21T08:13:05.223Z"
   },
   {
    "duration": 8,
    "start_time": "2022-07-21T08:13:05.685Z"
   },
   {
    "duration": 20,
    "start_time": "2022-07-21T08:13:06.174Z"
   },
   {
    "duration": 3,
    "start_time": "2022-07-21T08:15:39.870Z"
   },
   {
    "duration": 3,
    "start_time": "2022-07-21T08:15:40.368Z"
   },
   {
    "duration": 3,
    "start_time": "2022-07-21T08:15:49.703Z"
   },
   {
    "duration": 50,
    "start_time": "2022-07-21T08:15:55.805Z"
   },
   {
    "duration": 4,
    "start_time": "2022-07-21T08:15:56.295Z"
   },
   {
    "duration": 4,
    "start_time": "2022-07-21T08:15:56.789Z"
   },
   {
    "duration": 10,
    "start_time": "2022-07-21T08:15:57.187Z"
   },
   {
    "duration": 20,
    "start_time": "2022-07-21T08:15:57.581Z"
   },
   {
    "duration": 12,
    "start_time": "2022-07-21T08:15:58.006Z"
   },
   {
    "duration": 3,
    "start_time": "2022-07-21T08:15:58.518Z"
   },
   {
    "duration": 3,
    "start_time": "2022-07-21T08:15:58.799Z"
   },
   {
    "duration": 2,
    "start_time": "2022-07-21T08:15:59.031Z"
   },
   {
    "duration": 16,
    "start_time": "2022-07-21T08:15:59.646Z"
   },
   {
    "duration": 223,
    "start_time": "2022-07-21T08:16:00.245Z"
   },
   {
    "duration": 234,
    "start_time": "2022-07-21T08:16:05.463Z"
   },
   {
    "duration": 243,
    "start_time": "2022-07-21T08:16:06.574Z"
   },
   {
    "duration": 17,
    "start_time": "2022-07-21T08:16:07.375Z"
   },
   {
    "duration": 9,
    "start_time": "2022-07-21T08:16:07.737Z"
   },
   {
    "duration": 7,
    "start_time": "2022-07-21T08:16:08.111Z"
   },
   {
    "duration": 24,
    "start_time": "2022-07-21T08:16:08.778Z"
   },
   {
    "duration": 58,
    "start_time": "2022-07-21T08:17:25.793Z"
   },
   {
    "duration": 3,
    "start_time": "2022-07-21T08:17:26.607Z"
   },
   {
    "duration": 4,
    "start_time": "2022-07-21T08:17:27.265Z"
   },
   {
    "duration": 12,
    "start_time": "2022-07-21T08:17:27.653Z"
   },
   {
    "duration": 13,
    "start_time": "2022-07-21T08:17:28.033Z"
   },
   {
    "duration": 2224,
    "start_time": "2022-07-21T13:55:34.040Z"
   },
   {
    "duration": 4,
    "start_time": "2022-07-21T13:55:38.466Z"
   },
   {
    "duration": 325,
    "start_time": "2022-07-21T13:55:39.574Z"
   },
   {
    "duration": 4,
    "start_time": "2022-07-21T13:55:40.263Z"
   },
   {
    "duration": 3,
    "start_time": "2022-07-21T13:55:40.775Z"
   },
   {
    "duration": 195,
    "start_time": "2022-07-21T13:55:41.289Z"
   },
   {
    "duration": 7,
    "start_time": "2022-07-21T13:56:02.088Z"
   },
   {
    "duration": 63,
    "start_time": "2022-07-21T13:56:16.072Z"
   },
   {
    "duration": 14,
    "start_time": "2022-07-21T13:56:26.480Z"
   },
   {
    "duration": 4,
    "start_time": "2022-07-21T13:56:29.961Z"
   },
   {
    "duration": 11,
    "start_time": "2022-07-21T13:56:36.288Z"
   },
   {
    "duration": 3,
    "start_time": "2022-07-21T13:56:41.768Z"
   },
   {
    "duration": 3,
    "start_time": "2022-07-21T13:56:42.599Z"
   },
   {
    "duration": 1886,
    "start_time": "2022-07-27T07:10:09.708Z"
   },
   {
    "duration": 3,
    "start_time": "2022-07-27T07:10:13.604Z"
   },
   {
    "duration": 134,
    "start_time": "2022-07-27T07:10:23.171Z"
   },
   {
    "duration": 14,
    "start_time": "2022-07-27T07:10:24.227Z"
   },
   {
    "duration": 4,
    "start_time": "2022-07-27T07:10:28.619Z"
   },
   {
    "duration": 9,
    "start_time": "2022-07-27T07:10:30.811Z"
   },
   {
    "duration": 3,
    "start_time": "2022-07-27T07:10:33.547Z"
   },
   {
    "duration": 2,
    "start_time": "2022-07-27T07:10:36.927Z"
   },
   {
    "duration": 113,
    "start_time": "2022-07-27T07:10:38.051Z"
   },
   {
    "duration": 9,
    "start_time": "2022-07-27T07:10:57.100Z"
   },
   {
    "duration": 46,
    "start_time": "2022-07-27T07:11:27.299Z"
   },
   {
    "duration": 9,
    "start_time": "2022-07-27T07:11:29.767Z"
   },
   {
    "duration": 4,
    "start_time": "2022-07-27T07:11:32.100Z"
   },
   {
    "duration": 8,
    "start_time": "2022-07-27T07:11:32.956Z"
   },
   {
    "duration": 3,
    "start_time": "2022-07-27T07:11:34.207Z"
   },
   {
    "duration": 8,
    "start_time": "2022-07-27T07:11:35.216Z"
   },
   {
    "duration": 7,
    "start_time": "2022-07-27T07:11:36.653Z"
   },
   {
    "duration": 13,
    "start_time": "2022-07-27T07:11:38.452Z"
   },
   {
    "duration": 10,
    "start_time": "2022-07-27T07:11:42.202Z"
   },
   {
    "duration": 252,
    "start_time": "2022-07-27T07:12:11.832Z"
   },
   {
    "duration": 208,
    "start_time": "2022-07-27T07:12:24.939Z"
   },
   {
    "duration": 299,
    "start_time": "2022-07-27T07:12:25.926Z"
   },
   {
    "duration": 254,
    "start_time": "2022-07-27T07:12:42.397Z"
   },
   {
    "duration": 6,
    "start_time": "2022-07-27T07:12:52.909Z"
   },
   {
    "duration": 7,
    "start_time": "2022-07-27T07:13:00.773Z"
   },
   {
    "duration": 5,
    "start_time": "2022-07-27T07:13:01.951Z"
   },
   {
    "duration": 34,
    "start_time": "2022-07-27T07:18:22.481Z"
   },
   {
    "duration": 4,
    "start_time": "2022-07-27T07:19:42.231Z"
   },
   {
    "duration": 22,
    "start_time": "2022-07-27T07:19:55.946Z"
   },
   {
    "duration": 4,
    "start_time": "2022-07-27T07:21:57.981Z"
   },
   {
    "duration": 4,
    "start_time": "2022-07-27T07:33:17.628Z"
   },
   {
    "duration": 3,
    "start_time": "2022-07-27T07:33:18.028Z"
   },
   {
    "duration": 51,
    "start_time": "2022-07-27T07:33:18.567Z"
   },
   {
    "duration": 9,
    "start_time": "2022-07-27T07:33:18.844Z"
   },
   {
    "duration": 5,
    "start_time": "2022-07-27T07:33:19.132Z"
   },
   {
    "duration": 9,
    "start_time": "2022-07-27T07:33:19.438Z"
   },
   {
    "duration": 2,
    "start_time": "2022-07-27T07:33:19.700Z"
   },
   {
    "duration": 10,
    "start_time": "2022-07-27T07:33:19.987Z"
   },
   {
    "duration": 7,
    "start_time": "2022-07-27T07:33:20.299Z"
   },
   {
    "duration": 12,
    "start_time": "2022-07-27T07:33:20.605Z"
   },
   {
    "duration": 12,
    "start_time": "2022-07-27T07:33:20.939Z"
   },
   {
    "duration": 2,
    "start_time": "2022-07-27T07:33:21.268Z"
   },
   {
    "duration": 2,
    "start_time": "2022-07-27T07:33:21.676Z"
   },
   {
    "duration": 3,
    "start_time": "2022-07-27T07:33:21.975Z"
   },
   {
    "duration": 240,
    "start_time": "2022-07-27T07:33:22.268Z"
   },
   {
    "duration": 252,
    "start_time": "2022-07-27T07:33:22.604Z"
   },
   {
    "duration": 269,
    "start_time": "2022-07-27T07:33:23.507Z"
   },
   {
    "duration": 7,
    "start_time": "2022-07-27T07:33:24.205Z"
   },
   {
    "duration": 7,
    "start_time": "2022-07-27T07:33:24.509Z"
   },
   {
    "duration": 7,
    "start_time": "2022-07-27T07:33:24.851Z"
   },
   {
    "duration": 30,
    "start_time": "2022-07-27T07:33:25.229Z"
   },
   {
    "duration": 1409,
    "start_time": "2022-07-28T09:10:28.759Z"
   },
   {
    "duration": 3,
    "start_time": "2022-07-28T09:10:31.146Z"
   },
   {
    "duration": 3,
    "start_time": "2022-07-28T09:10:40.988Z"
   },
   {
    "duration": 131,
    "start_time": "2022-07-28T09:10:41.778Z"
   },
   {
    "duration": 10,
    "start_time": "2022-07-28T09:10:42.219Z"
   },
   {
    "duration": 3,
    "start_time": "2022-07-28T09:10:42.833Z"
   },
   {
    "duration": 8,
    "start_time": "2022-07-28T09:10:43.210Z"
   },
   {
    "duration": 2,
    "start_time": "2022-07-28T09:10:43.603Z"
   },
   {
    "duration": 8,
    "start_time": "2022-07-28T09:10:44.010Z"
   },
   {
    "duration": 6,
    "start_time": "2022-07-28T09:10:45.090Z"
   },
   {
    "duration": 12,
    "start_time": "2022-07-28T09:10:45.930Z"
   },
   {
    "duration": 9,
    "start_time": "2022-07-28T09:10:46.770Z"
   },
   {
    "duration": 2,
    "start_time": "2022-07-28T09:10:47.283Z"
   },
   {
    "duration": 2,
    "start_time": "2022-07-28T09:10:47.698Z"
   },
   {
    "duration": 2,
    "start_time": "2022-07-28T09:10:48.097Z"
   },
   {
    "duration": 212,
    "start_time": "2022-07-28T09:10:48.482Z"
   },
   {
    "duration": 189,
    "start_time": "2022-07-28T09:10:49.321Z"
   },
   {
    "duration": 277,
    "start_time": "2022-07-28T09:10:50.794Z"
   },
   {
    "duration": 6,
    "start_time": "2022-07-28T09:10:52.874Z"
   },
   {
    "duration": 7,
    "start_time": "2022-07-28T09:10:53.490Z"
   },
   {
    "duration": 5,
    "start_time": "2022-07-28T09:10:54.147Z"
   },
   {
    "duration": 117,
    "start_time": "2022-07-28T09:10:55.008Z"
   },
   {
    "duration": 7,
    "start_time": "2022-07-28T09:10:55.810Z"
   },
   {
    "duration": 18,
    "start_time": "2022-07-28T09:11:21.082Z"
   },
   {
    "duration": 8,
    "start_time": "2022-07-28T09:11:31.653Z"
   },
   {
    "duration": 163,
    "start_time": "2022-07-28T09:40:59.253Z"
   },
   {
    "duration": 257,
    "start_time": "2022-07-28T11:44:44.928Z"
   },
   {
    "duration": 18,
    "start_time": "2022-07-28T11:48:05.372Z"
   },
   {
    "duration": 229,
    "start_time": "2022-07-28T11:48:36.617Z"
   },
   {
    "duration": 304,
    "start_time": "2022-07-28T11:48:48.741Z"
   },
   {
    "duration": 312,
    "start_time": "2022-07-28T11:49:15.172Z"
   },
   {
    "duration": 212,
    "start_time": "2022-07-28T11:49:23.045Z"
   },
   {
    "duration": 199,
    "start_time": "2022-07-28T11:49:28.573Z"
   },
   {
    "duration": 196,
    "start_time": "2022-07-28T11:50:52.477Z"
   },
   {
    "duration": 197,
    "start_time": "2022-07-28T11:51:34.773Z"
   },
   {
    "duration": 4,
    "start_time": "2022-07-28T11:53:58.293Z"
   },
   {
    "duration": 12,
    "start_time": "2022-07-28T11:54:01.815Z"
   },
   {
    "duration": 204,
    "start_time": "2022-07-28T11:54:49.673Z"
   },
   {
    "duration": 198,
    "start_time": "2022-07-28T11:54:55.591Z"
   },
   {
    "duration": 272,
    "start_time": "2022-07-28T11:55:07.703Z"
   },
   {
    "duration": 255,
    "start_time": "2022-07-28T11:55:22.304Z"
   },
   {
    "duration": 276,
    "start_time": "2022-07-28T11:55:28.217Z"
   },
   {
    "duration": 286,
    "start_time": "2022-07-28T11:56:21.548Z"
   },
   {
    "duration": 440,
    "start_time": "2022-07-28T11:56:37.417Z"
   },
   {
    "duration": 273,
    "start_time": "2022-07-28T11:56:49.984Z"
   },
   {
    "duration": 257,
    "start_time": "2022-07-28T11:57:08.918Z"
   },
   {
    "duration": 267,
    "start_time": "2022-07-28T11:57:16.160Z"
   },
   {
    "duration": 6,
    "start_time": "2022-07-28T11:57:20.400Z"
   },
   {
    "duration": 7,
    "start_time": "2022-07-28T11:57:23.945Z"
   },
   {
    "duration": 5,
    "start_time": "2022-07-28T11:57:25.288Z"
   },
   {
    "duration": 381,
    "start_time": "2022-07-28T11:57:30.038Z"
   },
   {
    "duration": 6,
    "start_time": "2022-07-28T11:57:44.722Z"
   },
   {
    "duration": 366,
    "start_time": "2022-07-28T11:57:49.000Z"
   },
   {
    "duration": 361,
    "start_time": "2022-07-28T11:58:04.601Z"
   },
   {
    "duration": 338,
    "start_time": "2022-07-28T11:58:47.969Z"
   },
   {
    "duration": 471,
    "start_time": "2022-07-28T11:59:00.185Z"
   },
   {
    "duration": 78,
    "start_time": "2022-07-28T12:04:27.730Z"
   },
   {
    "duration": 376,
    "start_time": "2022-07-28T12:06:47.064Z"
   },
   {
    "duration": 369,
    "start_time": "2022-07-28T12:07:17.615Z"
   },
   {
    "duration": 499,
    "start_time": "2022-07-28T12:07:52.519Z"
   },
   {
    "duration": 330,
    "start_time": "2022-07-28T12:09:26.248Z"
   },
   {
    "duration": 326,
    "start_time": "2022-07-28T12:09:39.338Z"
   },
   {
    "duration": 532,
    "start_time": "2022-07-28T12:13:58.226Z"
   },
   {
    "duration": 313,
    "start_time": "2022-07-28T12:15:13.036Z"
   },
   {
    "duration": 767,
    "start_time": "2022-07-28T12:15:22.738Z"
   },
   {
    "duration": 1013,
    "start_time": "2022-07-28T12:17:15.571Z"
   },
   {
    "duration": 1064,
    "start_time": "2022-07-28T12:17:26.727Z"
   },
   {
    "duration": 1088,
    "start_time": "2022-07-28T12:17:37.282Z"
   },
   {
    "duration": 1256,
    "start_time": "2022-07-28T12:17:52.565Z"
   },
   {
    "duration": 1066,
    "start_time": "2022-07-28T12:18:41.349Z"
   },
   {
    "duration": 1313,
    "start_time": "2022-07-28T12:23:50.989Z"
   },
   {
    "duration": 248,
    "start_time": "2022-07-28T12:28:48.436Z"
   },
   {
    "duration": 270,
    "start_time": "2022-07-28T12:31:04.389Z"
   },
   {
    "duration": 6,
    "start_time": "2022-07-28T12:31:13.289Z"
   },
   {
    "duration": 7,
    "start_time": "2022-07-28T12:31:14.890Z"
   },
   {
    "duration": 1231,
    "start_time": "2022-07-28T12:31:18.436Z"
   },
   {
    "duration": 321,
    "start_time": "2022-07-28T12:31:58.729Z"
   },
   {
    "duration": 399,
    "start_time": "2022-07-28T12:41:28.952Z"
   },
   {
    "duration": 395,
    "start_time": "2022-07-28T12:41:35.088Z"
   },
   {
    "duration": 381,
    "start_time": "2022-07-28T12:41:40.840Z"
   },
   {
    "duration": 373,
    "start_time": "2022-07-28T12:41:53.704Z"
   },
   {
    "duration": 7,
    "start_time": "2022-07-28T12:43:19.368Z"
   },
   {
    "duration": 1452,
    "start_time": "2022-07-28T12:43:20.665Z"
   },
   {
    "duration": 27,
    "start_time": "2022-07-28T12:44:19.824Z"
   },
   {
    "duration": 1249,
    "start_time": "2022-07-28T12:44:28.583Z"
   },
   {
    "duration": 428,
    "start_time": "2022-07-28T12:44:37.161Z"
   },
   {
    "duration": 1363,
    "start_time": "2022-07-28T12:44:58.643Z"
   },
   {
    "duration": 393,
    "start_time": "2022-07-28T12:45:02.169Z"
   },
   {
    "duration": 1367,
    "start_time": "2022-07-28T12:45:36.874Z"
   },
   {
    "duration": 1417,
    "start_time": "2022-07-28T12:46:01.540Z"
   },
   {
    "duration": 1332,
    "start_time": "2022-07-28T12:46:25.140Z"
   },
   {
    "duration": 380,
    "start_time": "2022-07-28T12:46:57.842Z"
   },
   {
    "duration": 362,
    "start_time": "2022-07-28T12:47:08.595Z"
   },
   {
    "duration": 1322,
    "start_time": "2022-07-28T12:54:07.993Z"
   },
   {
    "duration": 1472,
    "start_time": "2022-07-28T12:54:32.552Z"
   },
   {
    "duration": 1605,
    "start_time": "2022-07-28T12:55:33.855Z"
   },
   {
    "duration": 1415,
    "start_time": "2022-07-28T12:56:09.936Z"
   },
   {
    "duration": 364,
    "start_time": "2022-07-28T12:57:00.027Z"
   },
   {
    "duration": 248,
    "start_time": "2022-07-28T12:58:20.562Z"
   },
   {
    "duration": 236,
    "start_time": "2022-07-28T12:58:40.769Z"
   },
   {
    "duration": 210,
    "start_time": "2022-07-28T12:58:51.561Z"
   },
   {
    "duration": 211,
    "start_time": "2022-07-28T12:59:16.522Z"
   },
   {
    "duration": 202,
    "start_time": "2022-07-28T12:59:36.833Z"
   },
   {
    "duration": 248,
    "start_time": "2022-07-28T13:01:39.692Z"
   },
   {
    "duration": 210,
    "start_time": "2022-07-28T13:01:59.325Z"
   },
   {
    "duration": 243,
    "start_time": "2022-07-28T13:02:21.317Z"
   },
   {
    "duration": 216,
    "start_time": "2022-07-28T13:04:05.899Z"
   },
   {
    "duration": 223,
    "start_time": "2022-07-28T13:15:30.786Z"
   },
   {
    "duration": 244,
    "start_time": "2022-07-28T13:17:44.387Z"
   },
   {
    "duration": 9,
    "start_time": "2022-07-28T13:24:35.358Z"
   },
   {
    "duration": 10,
    "start_time": "2022-07-28T13:24:54.271Z"
   },
   {
    "duration": 4,
    "start_time": "2022-07-28T13:25:00.540Z"
   },
   {
    "duration": 4,
    "start_time": "2022-07-28T13:35:21.249Z"
   },
   {
    "duration": 3,
    "start_time": "2022-07-28T13:35:58.356Z"
   },
   {
    "duration": 3,
    "start_time": "2022-07-28T13:36:10.479Z"
   },
   {
    "duration": 8,
    "start_time": "2022-07-28T13:36:31.565Z"
   },
   {
    "duration": 9,
    "start_time": "2022-07-28T13:36:32.262Z"
   },
   {
    "duration": 1476,
    "start_time": "2022-07-28T13:37:04.918Z"
   },
   {
    "duration": 52,
    "start_time": "2022-07-28T13:37:06.396Z"
   },
   {
    "duration": 12,
    "start_time": "2022-07-28T13:37:06.450Z"
   },
   {
    "duration": 21,
    "start_time": "2022-07-28T13:37:06.465Z"
   },
   {
    "duration": 42,
    "start_time": "2022-07-28T13:37:06.487Z"
   },
   {
    "duration": 30,
    "start_time": "2022-07-28T13:37:06.530Z"
   },
   {
    "duration": 35,
    "start_time": "2022-07-28T13:37:06.562Z"
   },
   {
    "duration": 45,
    "start_time": "2022-07-28T13:37:06.599Z"
   },
   {
    "duration": 40,
    "start_time": "2022-07-28T13:37:06.645Z"
   },
   {
    "duration": 14,
    "start_time": "2022-07-28T13:37:06.688Z"
   },
   {
    "duration": 304,
    "start_time": "2022-07-28T13:37:06.712Z"
   },
   {
    "duration": 244,
    "start_time": "2022-07-28T13:37:07.018Z"
   },
   {
    "duration": 354,
    "start_time": "2022-07-28T13:37:07.264Z"
   },
   {
    "duration": 8,
    "start_time": "2022-07-28T13:37:07.628Z"
   },
   {
    "duration": 43,
    "start_time": "2022-07-28T13:37:07.638Z"
   },
   {
    "duration": 1602,
    "start_time": "2022-07-28T13:37:07.682Z"
   },
   {
    "duration": 382,
    "start_time": "2022-07-28T13:37:09.286Z"
   },
   {
    "duration": 278,
    "start_time": "2022-07-28T13:37:09.670Z"
   },
   {
    "duration": 242,
    "start_time": "2022-07-28T13:37:09.949Z"
   },
   {
    "duration": 3,
    "start_time": "2022-07-28T13:37:10.193Z"
   },
   {
    "duration": 46,
    "start_time": "2022-07-28T13:37:10.202Z"
   },
   {
    "duration": 27,
    "start_time": "2022-07-28T13:37:10.250Z"
   },
   {
    "duration": 20,
    "start_time": "2022-07-28T13:37:10.278Z"
   },
   {
    "duration": 16,
    "start_time": "2022-07-28T13:37:34.469Z"
   },
   {
    "duration": 5,
    "start_time": "2022-07-28T13:38:42.741Z"
   },
   {
    "duration": 7,
    "start_time": "2022-07-28T13:39:16.313Z"
   },
   {
    "duration": 9,
    "start_time": "2022-07-28T13:40:30.184Z"
   },
   {
    "duration": 3,
    "start_time": "2022-07-28T13:41:51.288Z"
   },
   {
    "duration": 20,
    "start_time": "2022-07-28T13:43:39.080Z"
   },
   {
    "duration": 6,
    "start_time": "2022-07-28T13:44:42.517Z"
   },
   {
    "duration": 6,
    "start_time": "2022-07-28T13:45:42.738Z"
   },
   {
    "duration": 108,
    "start_time": "2022-07-28T13:46:59.274Z"
   },
   {
    "duration": 9,
    "start_time": "2022-07-28T13:47:32.235Z"
   },
   {
    "duration": 6,
    "start_time": "2022-07-28T13:47:45.827Z"
   },
   {
    "duration": 8,
    "start_time": "2022-07-28T13:52:04.942Z"
   },
   {
    "duration": 27,
    "start_time": "2022-07-28T13:53:01.254Z"
   },
   {
    "duration": 3,
    "start_time": "2022-07-28T13:54:39.303Z"
   },
   {
    "duration": 4,
    "start_time": "2022-07-28T14:00:13.819Z"
   },
   {
    "duration": 12,
    "start_time": "2022-07-28T14:00:14.571Z"
   },
   {
    "duration": 4,
    "start_time": "2022-07-28T14:00:35.615Z"
   },
   {
    "duration": 9,
    "start_time": "2022-07-28T14:00:41.022Z"
   },
   {
    "duration": 3,
    "start_time": "2022-07-28T14:04:02.388Z"
   },
   {
    "duration": 3,
    "start_time": "2022-07-28T14:04:02.731Z"
   },
   {
    "duration": 4705,
    "start_time": "2022-07-28T14:04:03.163Z"
   },
   {
    "duration": 4795,
    "start_time": "2022-07-28T14:04:54.523Z"
   },
   {
    "duration": 3,
    "start_time": "2022-07-28T14:05:40.294Z"
   },
   {
    "duration": 3656,
    "start_time": "2022-07-28T14:05:40.861Z"
   },
   {
    "duration": 5,
    "start_time": "2022-07-28T14:06:07.749Z"
   },
   {
    "duration": 1242,
    "start_time": "2022-07-28T14:06:09.804Z"
   },
   {
    "duration": 6,
    "start_time": "2022-07-28T14:07:09.639Z"
   },
   {
    "duration": 3,
    "start_time": "2022-07-28T14:08:18.440Z"
   },
   {
    "duration": 3,
    "start_time": "2022-07-28T14:08:19.270Z"
   },
   {
    "duration": 1254,
    "start_time": "2022-07-28T14:08:20.049Z"
   },
   {
    "duration": 5,
    "start_time": "2022-07-28T14:08:21.305Z"
   },
   {
    "duration": 2,
    "start_time": "2022-07-28T14:09:04.552Z"
   },
   {
    "duration": 3,
    "start_time": "2022-07-28T14:09:11.958Z"
   },
   {
    "duration": 235,
    "start_time": "2022-07-28T14:09:12.513Z"
   },
   {
    "duration": 135,
    "start_time": "2022-07-28T14:10:01.302Z"
   },
   {
    "duration": 3,
    "start_time": "2022-07-28T14:17:15.277Z"
   },
   {
    "duration": 2,
    "start_time": "2022-07-28T14:17:16.589Z"
   },
   {
    "duration": 1497,
    "start_time": "2022-07-28T14:17:17.231Z"
   },
   {
    "duration": 4,
    "start_time": "2022-07-28T14:17:20.765Z"
   },
   {
    "duration": 4,
    "start_time": "2022-07-28T14:17:41.068Z"
   },
   {
    "duration": 3,
    "start_time": "2022-07-28T14:18:31.532Z"
   },
   {
    "duration": 9,
    "start_time": "2022-07-28T14:19:25.079Z"
   },
   {
    "duration": 25,
    "start_time": "2022-07-28T14:21:14.196Z"
   },
   {
    "duration": 10,
    "start_time": "2022-07-28T14:25:04.829Z"
   },
   {
    "duration": 11,
    "start_time": "2022-07-28T14:25:37.435Z"
   },
   {
    "duration": 8,
    "start_time": "2022-07-28T14:25:51.858Z"
   },
   {
    "duration": 10,
    "start_time": "2022-07-28T14:26:35.045Z"
   },
   {
    "duration": 9,
    "start_time": "2022-07-28T14:26:44.701Z"
   },
   {
    "duration": 9,
    "start_time": "2022-07-28T14:26:48.979Z"
   },
   {
    "duration": 4,
    "start_time": "2022-07-28T14:27:33.059Z"
   },
   {
    "duration": 1337,
    "start_time": "2022-07-28T14:27:35.763Z"
   },
   {
    "duration": 832,
    "start_time": "2022-07-28T14:28:00.648Z"
   },
   {
    "duration": 779,
    "start_time": "2022-07-28T14:29:29.036Z"
   },
   {
    "duration": 10,
    "start_time": "2022-07-28T14:30:50.110Z"
   },
   {
    "duration": 9,
    "start_time": "2022-07-28T14:30:59.261Z"
   },
   {
    "duration": 989,
    "start_time": "2022-07-28T14:31:37.142Z"
   },
   {
    "duration": 869,
    "start_time": "2022-07-28T14:31:47.031Z"
   },
   {
    "duration": 75,
    "start_time": "2022-07-28T14:33:30.848Z"
   },
   {
    "duration": 15,
    "start_time": "2022-07-28T14:33:34.783Z"
   },
   {
    "duration": 1052,
    "start_time": "2022-07-28T14:33:55.136Z"
   },
   {
    "duration": 6,
    "start_time": "2022-07-28T14:38:22.850Z"
   },
   {
    "duration": 10,
    "start_time": "2022-07-28T14:41:51.005Z"
   },
   {
    "duration": 154,
    "start_time": "2022-07-28T14:43:21.126Z"
   },
   {
    "duration": 55,
    "start_time": "2022-07-28T14:43:48.157Z"
   },
   {
    "duration": 5,
    "start_time": "2022-07-28T14:47:25.089Z"
   },
   {
    "duration": 4,
    "start_time": "2022-07-28T14:47:37.686Z"
   },
   {
    "duration": 93,
    "start_time": "2022-07-28T14:47:45.618Z"
   },
   {
    "duration": 8,
    "start_time": "2022-07-28T14:48:34.498Z"
   },
   {
    "duration": 22,
    "start_time": "2022-07-28T14:48:37.398Z"
   },
   {
    "duration": 14,
    "start_time": "2022-07-28T14:49:39.867Z"
   },
   {
    "duration": 13,
    "start_time": "2022-07-28T14:50:01.749Z"
   },
   {
    "duration": 119,
    "start_time": "2022-07-28T14:50:18.788Z"
   },
   {
    "duration": 84,
    "start_time": "2022-07-28T14:51:28.519Z"
   },
   {
    "duration": 3,
    "start_time": "2022-07-28T14:51:39.788Z"
   },
   {
    "duration": 11,
    "start_time": "2022-07-28T14:51:46.556Z"
   },
   {
    "duration": 75,
    "start_time": "2022-07-28T14:52:59.127Z"
   },
   {
    "duration": 7,
    "start_time": "2022-07-28T14:53:55.286Z"
   },
   {
    "duration": 23,
    "start_time": "2022-07-28T14:56:10.939Z"
   },
   {
    "duration": 859,
    "start_time": "2022-07-28T14:56:35.843Z"
   },
   {
    "duration": 742,
    "start_time": "2022-07-28T14:56:50.745Z"
   },
   {
    "duration": 19,
    "start_time": "2022-07-28T14:56:58.388Z"
   },
   {
    "duration": 14,
    "start_time": "2022-07-28T15:00:01.588Z"
   },
   {
    "duration": 7,
    "start_time": "2022-07-28T15:00:24.743Z"
   },
   {
    "duration": 279,
    "start_time": "2022-07-28T15:00:42.252Z"
   },
   {
    "duration": 201,
    "start_time": "2022-07-28T15:01:07.647Z"
   },
   {
    "duration": 8,
    "start_time": "2022-07-28T15:01:28.709Z"
   },
   {
    "duration": 6,
    "start_time": "2022-07-28T15:01:42.165Z"
   },
   {
    "duration": 6,
    "start_time": "2022-07-28T15:02:07.956Z"
   },
   {
    "duration": 1509,
    "start_time": "2022-07-28T15:02:16.699Z"
   },
   {
    "duration": 3,
    "start_time": "2022-07-28T15:02:18.209Z"
   },
   {
    "duration": 58,
    "start_time": "2022-07-28T15:02:18.213Z"
   },
   {
    "duration": 12,
    "start_time": "2022-07-28T15:02:18.273Z"
   },
   {
    "duration": 3,
    "start_time": "2022-07-28T15:02:18.286Z"
   },
   {
    "duration": 11,
    "start_time": "2022-07-28T15:02:18.291Z"
   },
   {
    "duration": 6,
    "start_time": "2022-07-28T15:02:18.303Z"
   },
   {
    "duration": 10,
    "start_time": "2022-07-28T15:02:18.310Z"
   },
   {
    "duration": 7,
    "start_time": "2022-07-28T15:02:18.321Z"
   },
   {
    "duration": 13,
    "start_time": "2022-07-28T15:02:18.330Z"
   },
   {
    "duration": 9,
    "start_time": "2022-07-28T15:02:18.344Z"
   },
   {
    "duration": 290,
    "start_time": "2022-07-28T15:02:18.354Z"
   },
   {
    "duration": 234,
    "start_time": "2022-07-28T15:02:18.646Z"
   },
   {
    "duration": 341,
    "start_time": "2022-07-28T15:02:18.881Z"
   },
   {
    "duration": 5,
    "start_time": "2022-07-28T15:02:19.224Z"
   },
   {
    "duration": 8,
    "start_time": "2022-07-28T15:02:19.231Z"
   },
   {
    "duration": 1443,
    "start_time": "2022-07-28T15:02:19.241Z"
   },
   {
    "duration": 398,
    "start_time": "2022-07-28T15:02:20.685Z"
   },
   {
    "duration": 259,
    "start_time": "2022-07-28T15:02:21.084Z"
   },
   {
    "duration": 223,
    "start_time": "2022-07-28T15:02:21.344Z"
   },
   {
    "duration": 3,
    "start_time": "2022-07-28T15:02:21.569Z"
   },
   {
    "duration": 12,
    "start_time": "2022-07-28T15:02:21.573Z"
   },
   {
    "duration": 28,
    "start_time": "2022-07-28T15:02:21.586Z"
   },
   {
    "duration": 7,
    "start_time": "2022-07-28T15:02:21.616Z"
   },
   {
    "duration": 5,
    "start_time": "2022-07-28T15:02:21.624Z"
   },
   {
    "duration": 11,
    "start_time": "2022-07-28T15:02:21.630Z"
   },
   {
    "duration": 9,
    "start_time": "2022-07-28T15:02:21.643Z"
   },
   {
    "duration": 182,
    "start_time": "2022-07-28T15:02:21.655Z"
   },
   {
    "duration": 0,
    "start_time": "2022-07-28T15:02:21.838Z"
   },
   {
    "duration": 0,
    "start_time": "2022-07-28T15:02:21.839Z"
   },
   {
    "duration": 0,
    "start_time": "2022-07-28T15:02:21.840Z"
   },
   {
    "duration": 0,
    "start_time": "2022-07-28T15:02:21.841Z"
   },
   {
    "duration": 0,
    "start_time": "2022-07-28T15:02:21.842Z"
   },
   {
    "duration": 0,
    "start_time": "2022-07-28T15:02:21.844Z"
   },
   {
    "duration": 0,
    "start_time": "2022-07-28T15:02:21.845Z"
   },
   {
    "duration": 0,
    "start_time": "2022-07-28T15:02:21.846Z"
   },
   {
    "duration": 0,
    "start_time": "2022-07-28T15:02:21.847Z"
   },
   {
    "duration": 0,
    "start_time": "2022-07-28T15:02:21.848Z"
   },
   {
    "duration": 0,
    "start_time": "2022-07-28T15:02:21.850Z"
   },
   {
    "duration": 0,
    "start_time": "2022-07-28T15:02:21.851Z"
   },
   {
    "duration": 0,
    "start_time": "2022-07-28T15:02:21.852Z"
   },
   {
    "duration": 0,
    "start_time": "2022-07-28T15:02:21.853Z"
   },
   {
    "duration": 0,
    "start_time": "2022-07-28T15:02:21.854Z"
   },
   {
    "duration": 0,
    "start_time": "2022-07-28T15:02:21.855Z"
   },
   {
    "duration": 5,
    "start_time": "2022-07-28T15:02:46.594Z"
   },
   {
    "duration": 7,
    "start_time": "2022-07-28T15:02:55.545Z"
   },
   {
    "duration": 6,
    "start_time": "2022-07-28T15:03:24.333Z"
   },
   {
    "duration": 6,
    "start_time": "2022-07-28T15:04:07.923Z"
   },
   {
    "duration": 3,
    "start_time": "2022-07-28T15:04:09.012Z"
   },
   {
    "duration": 2,
    "start_time": "2022-07-28T15:04:09.333Z"
   },
   {
    "duration": 1395,
    "start_time": "2022-07-28T15:04:09.559Z"
   },
   {
    "duration": 3,
    "start_time": "2022-07-28T15:04:10.956Z"
   },
   {
    "duration": 15,
    "start_time": "2022-07-28T15:04:10.960Z"
   },
   {
    "duration": 14,
    "start_time": "2022-07-28T15:04:10.977Z"
   },
   {
    "duration": 751,
    "start_time": "2022-07-28T15:04:12.804Z"
   },
   {
    "duration": 4,
    "start_time": "2022-07-28T15:04:14.745Z"
   },
   {
    "duration": 205,
    "start_time": "2022-07-28T15:04:16.202Z"
   },
   {
    "duration": 8,
    "start_time": "2022-07-28T15:04:16.588Z"
   },
   {
    "duration": 6,
    "start_time": "2022-07-28T15:04:20.135Z"
   },
   {
    "duration": 15,
    "start_time": "2022-07-28T15:04:21.150Z"
   },
   {
    "duration": 322,
    "start_time": "2022-07-28T15:04:55.033Z"
   },
   {
    "duration": 301,
    "start_time": "2022-07-28T15:06:31.149Z"
   },
   {
    "duration": 73,
    "start_time": "2022-07-28T15:10:40.550Z"
   },
   {
    "duration": 4,
    "start_time": "2022-07-28T15:12:47.699Z"
   },
   {
    "duration": 72,
    "start_time": "2022-07-28T15:13:25.098Z"
   },
   {
    "duration": 4,
    "start_time": "2022-07-28T15:14:01.849Z"
   },
   {
    "duration": 1400,
    "start_time": "2022-07-28T15:14:22.323Z"
   },
   {
    "duration": 3,
    "start_time": "2022-07-28T15:14:23.725Z"
   },
   {
    "duration": 51,
    "start_time": "2022-07-28T15:14:23.730Z"
   },
   {
    "duration": 14,
    "start_time": "2022-07-28T15:14:23.783Z"
   },
   {
    "duration": 3,
    "start_time": "2022-07-28T15:14:23.799Z"
   },
   {
    "duration": 10,
    "start_time": "2022-07-28T15:14:23.803Z"
   },
   {
    "duration": 5,
    "start_time": "2022-07-28T15:14:23.815Z"
   },
   {
    "duration": 11,
    "start_time": "2022-07-28T15:14:23.821Z"
   },
   {
    "duration": 11,
    "start_time": "2022-07-28T15:14:23.833Z"
   },
   {
    "duration": 13,
    "start_time": "2022-07-28T15:14:23.846Z"
   },
   {
    "duration": 9,
    "start_time": "2022-07-28T15:14:23.860Z"
   },
   {
    "duration": 309,
    "start_time": "2022-07-28T15:14:23.871Z"
   },
   {
    "duration": 237,
    "start_time": "2022-07-28T15:14:24.181Z"
   },
   {
    "duration": 365,
    "start_time": "2022-07-28T15:14:24.420Z"
   },
   {
    "duration": 6,
    "start_time": "2022-07-28T15:14:24.786Z"
   },
   {
    "duration": 7,
    "start_time": "2022-07-28T15:14:24.801Z"
   },
   {
    "duration": 1436,
    "start_time": "2022-07-28T15:14:24.810Z"
   },
   {
    "duration": 380,
    "start_time": "2022-07-28T15:14:26.247Z"
   },
   {
    "duration": 269,
    "start_time": "2022-07-28T15:14:26.629Z"
   },
   {
    "duration": 233,
    "start_time": "2022-07-28T15:14:26.901Z"
   },
   {
    "duration": 3,
    "start_time": "2022-07-28T15:14:27.136Z"
   },
   {
    "duration": 21,
    "start_time": "2022-07-28T15:14:27.141Z"
   },
   {
    "duration": 16,
    "start_time": "2022-07-28T15:14:27.164Z"
   },
   {
    "duration": 7,
    "start_time": "2022-07-28T15:14:27.181Z"
   },
   {
    "duration": 13,
    "start_time": "2022-07-28T15:14:27.190Z"
   },
   {
    "duration": 11,
    "start_time": "2022-07-28T15:14:27.204Z"
   },
   {
    "duration": 9,
    "start_time": "2022-07-28T15:14:27.216Z"
   },
   {
    "duration": 6,
    "start_time": "2022-07-28T15:14:27.228Z"
   },
   {
    "duration": 7,
    "start_time": "2022-07-28T15:14:27.236Z"
   },
   {
    "duration": 9,
    "start_time": "2022-07-28T15:14:27.245Z"
   },
   {
    "duration": 1535,
    "start_time": "2022-07-28T15:14:27.256Z"
   },
   {
    "duration": 4,
    "start_time": "2022-07-28T15:14:28.792Z"
   },
   {
    "duration": 3,
    "start_time": "2022-07-28T15:14:28.804Z"
   },
   {
    "duration": 11,
    "start_time": "2022-07-28T15:14:28.808Z"
   },
   {
    "duration": 925,
    "start_time": "2022-07-28T15:14:28.820Z"
   },
   {
    "duration": 4,
    "start_time": "2022-07-28T15:14:29.747Z"
   },
   {
    "duration": 162,
    "start_time": "2022-07-28T15:14:29.753Z"
   },
   {
    "duration": 9,
    "start_time": "2022-07-28T15:14:29.916Z"
   },
   {
    "duration": 13,
    "start_time": "2022-07-28T15:14:29.926Z"
   },
   {
    "duration": 15,
    "start_time": "2022-07-28T15:14:30.003Z"
   },
   {
    "duration": 343,
    "start_time": "2022-07-28T15:14:30.019Z"
   },
   {
    "duration": 17,
    "start_time": "2022-07-28T15:15:08.749Z"
   },
   {
    "duration": 48,
    "start_time": "2022-07-28T19:13:21.873Z"
   },
   {
    "duration": 1684,
    "start_time": "2022-07-28T19:13:39.008Z"
   },
   {
    "duration": 1567,
    "start_time": "2022-07-28T19:13:47.109Z"
   },
   {
    "duration": 3,
    "start_time": "2022-07-28T19:13:48.678Z"
   },
   {
    "duration": 121,
    "start_time": "2022-07-28T19:13:48.682Z"
   },
   {
    "duration": 12,
    "start_time": "2022-07-28T19:13:48.805Z"
   },
   {
    "duration": 3,
    "start_time": "2022-07-28T19:13:48.819Z"
   },
   {
    "duration": 21,
    "start_time": "2022-07-28T19:13:48.824Z"
   },
   {
    "duration": 5,
    "start_time": "2022-07-28T19:13:48.847Z"
   },
   {
    "duration": 12,
    "start_time": "2022-07-28T19:13:48.853Z"
   },
   {
    "duration": 8,
    "start_time": "2022-07-28T19:13:48.866Z"
   },
   {
    "duration": 12,
    "start_time": "2022-07-28T19:13:48.877Z"
   },
   {
    "duration": 8,
    "start_time": "2022-07-28T19:13:48.891Z"
   },
   {
    "duration": 373,
    "start_time": "2022-07-28T19:13:48.900Z"
   },
   {
    "duration": 266,
    "start_time": "2022-07-28T19:13:49.275Z"
   },
   {
    "duration": 387,
    "start_time": "2022-07-28T19:13:49.542Z"
   },
   {
    "duration": 10,
    "start_time": "2022-07-28T19:13:49.932Z"
   },
   {
    "duration": 11,
    "start_time": "2022-07-28T19:13:49.944Z"
   },
   {
    "duration": 1569,
    "start_time": "2022-07-28T19:13:49.957Z"
   },
   {
    "duration": 419,
    "start_time": "2022-07-28T19:13:51.528Z"
   },
   {
    "duration": 309,
    "start_time": "2022-07-28T19:13:51.949Z"
   },
   {
    "duration": 273,
    "start_time": "2022-07-28T19:13:52.259Z"
   },
   {
    "duration": 8,
    "start_time": "2022-07-28T19:13:52.535Z"
   },
   {
    "duration": 16,
    "start_time": "2022-07-28T19:13:52.545Z"
   },
   {
    "duration": 21,
    "start_time": "2022-07-28T19:13:52.563Z"
   },
   {
    "duration": 12,
    "start_time": "2022-07-28T19:13:52.585Z"
   },
   {
    "duration": 7,
    "start_time": "2022-07-28T19:13:52.599Z"
   },
   {
    "duration": 22,
    "start_time": "2022-07-28T19:13:52.608Z"
   },
   {
    "duration": 23,
    "start_time": "2022-07-28T19:13:52.632Z"
   },
   {
    "duration": 11,
    "start_time": "2022-07-28T19:13:52.658Z"
   },
   {
    "duration": 9,
    "start_time": "2022-07-28T19:13:52.670Z"
   },
   {
    "duration": 6,
    "start_time": "2022-07-28T19:13:52.680Z"
   },
   {
    "duration": 150,
    "start_time": "2022-07-28T19:13:52.688Z"
   },
   {
    "duration": 0,
    "start_time": "2022-07-28T19:13:52.840Z"
   },
   {
    "duration": 0,
    "start_time": "2022-07-28T19:13:52.842Z"
   },
   {
    "duration": 0,
    "start_time": "2022-07-28T19:13:52.844Z"
   },
   {
    "duration": 0,
    "start_time": "2022-07-28T19:13:52.845Z"
   },
   {
    "duration": 0,
    "start_time": "2022-07-28T19:13:52.847Z"
   },
   {
    "duration": 1,
    "start_time": "2022-07-28T19:13:52.848Z"
   },
   {
    "duration": 0,
    "start_time": "2022-07-28T19:13:52.850Z"
   },
   {
    "duration": 0,
    "start_time": "2022-07-28T19:13:52.852Z"
   },
   {
    "duration": 0,
    "start_time": "2022-07-28T19:13:52.855Z"
   },
   {
    "duration": 0,
    "start_time": "2022-07-28T19:13:52.856Z"
   },
   {
    "duration": 11,
    "start_time": "2022-07-28T19:14:10.407Z"
   },
   {
    "duration": 4440,
    "start_time": "2022-07-28T19:15:22.630Z"
   },
   {
    "duration": 3,
    "start_time": "2022-07-28T19:16:48.355Z"
   },
   {
    "duration": 4,
    "start_time": "2022-07-28T19:18:02.237Z"
   },
   {
    "duration": 3,
    "start_time": "2022-07-28T19:18:37.215Z"
   },
   {
    "duration": 4,
    "start_time": "2022-07-28T19:18:50.197Z"
   },
   {
    "duration": 7,
    "start_time": "2022-07-28T19:19:07.215Z"
   },
   {
    "duration": 3,
    "start_time": "2022-07-28T19:19:17.821Z"
   },
   {
    "duration": 3,
    "start_time": "2022-07-28T19:19:25.845Z"
   },
   {
    "duration": 891,
    "start_time": "2022-07-28T19:19:28.476Z"
   },
   {
    "duration": 4,
    "start_time": "2022-07-28T19:19:29.369Z"
   },
   {
    "duration": 104,
    "start_time": "2022-07-28T19:19:34.136Z"
   },
   {
    "duration": 9,
    "start_time": "2022-07-28T19:19:37.534Z"
   },
   {
    "duration": 6,
    "start_time": "2022-07-28T19:19:45.535Z"
   },
   {
    "duration": 30,
    "start_time": "2022-07-28T19:19:47.409Z"
   },
   {
    "duration": 347,
    "start_time": "2022-07-28T19:20:16.287Z"
   },
   {
    "duration": 1999,
    "start_time": "2022-07-28T19:20:36.175Z"
   },
   {
    "duration": 1070,
    "start_time": "2022-07-28T19:20:43.458Z"
   },
   {
    "duration": 4508,
    "start_time": "2022-07-28T19:20:51.567Z"
   },
   {
    "duration": 94,
    "start_time": "2022-07-28T19:23:44.809Z"
   },
   {
    "duration": 4,
    "start_time": "2022-07-28T19:24:22.520Z"
   },
   {
    "duration": 984,
    "start_time": "2022-07-28T19:24:37.409Z"
   },
   {
    "duration": 4,
    "start_time": "2022-07-28T19:24:39.698Z"
   },
   {
    "duration": 2,
    "start_time": "2022-07-28T19:24:41.193Z"
   },
   {
    "duration": 557,
    "start_time": "2022-07-28T19:24:42.062Z"
   },
   {
    "duration": 6,
    "start_time": "2022-07-28T19:24:43.375Z"
   },
   {
    "duration": 443,
    "start_time": "2022-07-28T19:24:44.488Z"
   },
   {
    "duration": 9,
    "start_time": "2022-07-28T19:24:45.577Z"
   },
   {
    "duration": 91,
    "start_time": "2022-07-28T19:24:48.848Z"
   },
   {
    "duration": 4259,
    "start_time": "2022-07-28T19:25:08.061Z"
   },
   {
    "duration": 5,
    "start_time": "2022-07-28T19:25:14.817Z"
   },
   {
    "duration": 3,
    "start_time": "2022-07-28T19:25:15.274Z"
   },
   {
    "duration": 607,
    "start_time": "2022-07-28T19:25:19.233Z"
   },
   {
    "duration": 4,
    "start_time": "2022-07-28T19:25:19.841Z"
   },
   {
    "duration": 182,
    "start_time": "2022-07-28T19:25:20.548Z"
   },
   {
    "duration": 9,
    "start_time": "2022-07-28T19:25:20.912Z"
   },
   {
    "duration": 91,
    "start_time": "2022-07-28T19:25:22.296Z"
   },
   {
    "duration": 14,
    "start_time": "2022-07-28T19:28:36.170Z"
   },
   {
    "duration": 8,
    "start_time": "2022-07-28T19:28:47.306Z"
   },
   {
    "duration": 6,
    "start_time": "2022-07-28T19:29:04.078Z"
   },
   {
    "duration": 5,
    "start_time": "2022-07-28T19:29:24.826Z"
   },
   {
    "duration": 2,
    "start_time": "2022-07-28T19:31:22.485Z"
   },
   {
    "duration": 5991,
    "start_time": "2022-07-28T19:31:24.323Z"
   },
   {
    "duration": 4,
    "start_time": "2022-07-28T19:31:33.605Z"
   },
   {
    "duration": 3,
    "start_time": "2022-07-28T19:31:34.637Z"
   },
   {
    "duration": 24,
    "start_time": "2022-07-28T19:31:46.736Z"
   },
   {
    "duration": 3,
    "start_time": "2022-07-28T19:32:14.365Z"
   },
   {
    "duration": 8806,
    "start_time": "2022-07-28T19:32:14.814Z"
   },
   {
    "duration": 4,
    "start_time": "2022-07-28T19:32:30.461Z"
   },
   {
    "duration": 5,
    "start_time": "2022-07-28T19:32:34.813Z"
   },
   {
    "duration": 27,
    "start_time": "2022-07-28T19:32:40.132Z"
   },
   {
    "duration": 4,
    "start_time": "2022-07-28T19:33:36.186Z"
   },
   {
    "duration": 8179,
    "start_time": "2022-07-28T19:33:36.917Z"
   },
   {
    "duration": 5,
    "start_time": "2022-07-28T19:33:50.373Z"
   },
   {
    "duration": 3,
    "start_time": "2022-07-28T19:33:54.664Z"
   },
   {
    "duration": 45,
    "start_time": "2022-07-28T19:33:57.173Z"
   },
   {
    "duration": 4,
    "start_time": "2022-07-28T19:34:06.437Z"
   },
   {
    "duration": 10323,
    "start_time": "2022-07-28T19:34:07.568Z"
   },
   {
    "duration": 3,
    "start_time": "2022-07-28T19:34:25.311Z"
   },
   {
    "duration": 2,
    "start_time": "2022-07-28T19:34:28.413Z"
   },
   {
    "duration": 26,
    "start_time": "2022-07-28T19:34:35.053Z"
   },
   {
    "duration": 3,
    "start_time": "2022-07-28T19:34:45.750Z"
   },
   {
    "duration": 12259,
    "start_time": "2022-07-28T19:34:46.605Z"
   },
   {
    "duration": 5,
    "start_time": "2022-07-28T19:35:14.789Z"
   },
   {
    "duration": 3,
    "start_time": "2022-07-28T19:35:15.237Z"
   },
   {
    "duration": 9,
    "start_time": "2022-07-28T19:35:20.907Z"
   },
   {
    "duration": 31,
    "start_time": "2022-07-28T19:35:23.389Z"
   },
   {
    "duration": 4,
    "start_time": "2022-07-28T19:35:44.662Z"
   },
   {
    "duration": 11012,
    "start_time": "2022-07-28T19:35:46.520Z"
   },
   {
    "duration": 3,
    "start_time": "2022-07-28T19:36:10.045Z"
   },
   {
    "duration": 8428,
    "start_time": "2022-07-28T19:36:59.780Z"
   },
   {
    "duration": 5,
    "start_time": "2022-07-28T19:37:21.998Z"
   },
   {
    "duration": 2,
    "start_time": "2022-07-28T19:37:22.927Z"
   },
   {
    "duration": 9,
    "start_time": "2022-07-28T19:37:28.413Z"
   },
   {
    "duration": 24,
    "start_time": "2022-07-28T19:37:30.055Z"
   },
   {
    "duration": 4,
    "start_time": "2022-07-28T19:37:39.463Z"
   },
   {
    "duration": 7470,
    "start_time": "2022-07-28T19:37:40.427Z"
   },
   {
    "duration": 4,
    "start_time": "2022-07-28T19:37:52.247Z"
   },
   {
    "duration": 3,
    "start_time": "2022-07-28T19:37:54.011Z"
   },
   {
    "duration": 19,
    "start_time": "2022-07-28T19:37:56.880Z"
   },
   {
    "duration": 4,
    "start_time": "2022-07-28T19:40:00.897Z"
   },
   {
    "duration": 16,
    "start_time": "2022-07-28T19:40:01.646Z"
   },
   {
    "duration": 42,
    "start_time": "2022-07-28T19:40:15.994Z"
   },
   {
    "duration": 9,
    "start_time": "2022-07-28T19:40:16.571Z"
   },
   {
    "duration": 4,
    "start_time": "2022-07-28T19:40:16.857Z"
   },
   {
    "duration": 11,
    "start_time": "2022-07-28T19:40:17.472Z"
   },
   {
    "duration": 3,
    "start_time": "2022-07-28T19:40:17.905Z"
   },
   {
    "duration": 11,
    "start_time": "2022-07-28T19:40:18.208Z"
   },
   {
    "duration": 7,
    "start_time": "2022-07-28T19:40:18.464Z"
   },
   {
    "duration": 14,
    "start_time": "2022-07-28T19:40:18.753Z"
   },
   {
    "duration": 10,
    "start_time": "2022-07-28T19:40:19.039Z"
   },
   {
    "duration": 313,
    "start_time": "2022-07-28T19:40:20.125Z"
   },
   {
    "duration": 249,
    "start_time": "2022-07-28T19:40:20.656Z"
   },
   {
    "duration": 272,
    "start_time": "2022-07-28T19:40:21.691Z"
   },
   {
    "duration": 8,
    "start_time": "2022-07-28T19:40:22.340Z"
   },
   {
    "duration": 8,
    "start_time": "2022-07-28T19:40:22.528Z"
   },
   {
    "duration": 1563,
    "start_time": "2022-07-28T19:40:22.936Z"
   },
   {
    "duration": 429,
    "start_time": "2022-07-28T19:40:24.501Z"
   },
   {
    "duration": 290,
    "start_time": "2022-07-28T19:40:24.932Z"
   },
   {
    "duration": 271,
    "start_time": "2022-07-28T19:40:25.224Z"
   },
   {
    "duration": 3,
    "start_time": "2022-07-28T19:40:26.897Z"
   },
   {
    "duration": 6,
    "start_time": "2022-07-28T19:40:29.680Z"
   },
   {
    "duration": 19,
    "start_time": "2022-07-28T19:40:30.325Z"
   },
   {
    "duration": 8,
    "start_time": "2022-07-28T19:40:54.137Z"
   },
   {
    "duration": 6,
    "start_time": "2022-07-28T19:40:54.607Z"
   },
   {
    "duration": 6,
    "start_time": "2022-07-28T19:40:55.993Z"
   },
   {
    "duration": 7,
    "start_time": "2022-07-28T19:40:57.288Z"
   },
   {
    "duration": 7,
    "start_time": "2022-07-28T19:40:57.628Z"
   },
   {
    "duration": 3,
    "start_time": "2022-07-28T19:40:58.680Z"
   },
   {
    "duration": 3,
    "start_time": "2022-07-28T19:40:59.072Z"
   },
   {
    "duration": 6149,
    "start_time": "2022-07-28T19:41:00.240Z"
   },
   {
    "duration": 4,
    "start_time": "2022-07-28T19:41:09.072Z"
   },
   {
    "duration": 2,
    "start_time": "2022-07-28T19:41:10.865Z"
   },
   {
    "duration": 636,
    "start_time": "2022-07-28T19:41:12.662Z"
   },
   {
    "duration": 5,
    "start_time": "2022-07-28T19:41:14.644Z"
   },
   {
    "duration": 197,
    "start_time": "2022-07-28T19:41:17.928Z"
   },
   {
    "duration": 10,
    "start_time": "2022-07-28T19:41:19.221Z"
   },
   {
    "duration": 17,
    "start_time": "2022-07-28T19:41:26.824Z"
   },
   {
    "duration": 53,
    "start_time": "2022-07-28T19:42:15.003Z"
   },
   {
    "duration": 13,
    "start_time": "2022-07-28T19:42:16.420Z"
   },
   {
    "duration": 16,
    "start_time": "2022-07-28T19:42:44.459Z"
   },
   {
    "duration": 17,
    "start_time": "2022-07-28T19:42:45.628Z"
   },
   {
    "duration": 12,
    "start_time": "2022-07-28T19:42:48.547Z"
   },
   {
    "duration": 7,
    "start_time": "2022-07-28T19:42:49.633Z"
   },
   {
    "duration": 8,
    "start_time": "2022-07-28T19:42:50.876Z"
   },
   {
    "duration": 9,
    "start_time": "2022-07-28T19:42:54.778Z"
   },
   {
    "duration": 18,
    "start_time": "2022-07-28T19:42:55.154Z"
   },
   {
    "duration": 3,
    "start_time": "2022-07-28T19:42:59.519Z"
   },
   {
    "duration": 2,
    "start_time": "2022-07-28T19:42:59.880Z"
   },
   {
    "duration": 20107,
    "start_time": "2022-07-28T19:43:00.273Z"
   },
   {
    "duration": 5,
    "start_time": "2022-07-28T19:43:24.539Z"
   },
   {
    "duration": 3,
    "start_time": "2022-07-28T19:43:25.465Z"
   },
   {
    "duration": 833,
    "start_time": "2022-07-28T19:43:26.445Z"
   },
   {
    "duration": 5,
    "start_time": "2022-07-28T19:43:27.954Z"
   },
   {
    "duration": 50719,
    "start_time": "2022-07-28T19:43:31.026Z"
   },
   {
    "duration": 9,
    "start_time": "2022-07-28T19:44:21.747Z"
   },
   {
    "duration": 23,
    "start_time": "2022-07-28T19:44:30.771Z"
   },
   {
    "duration": 378,
    "start_time": "2022-07-28T19:44:46.381Z"
   },
   {
    "duration": 1439,
    "start_time": "2022-07-28T19:44:57.404Z"
   },
   {
    "duration": 3,
    "start_time": "2022-07-28T19:44:58.845Z"
   },
   {
    "duration": 50,
    "start_time": "2022-07-28T19:44:58.850Z"
   },
   {
    "duration": 12,
    "start_time": "2022-07-28T19:44:58.902Z"
   },
   {
    "duration": 7,
    "start_time": "2022-07-28T19:44:58.917Z"
   },
   {
    "duration": 11,
    "start_time": "2022-07-28T19:44:58.925Z"
   },
   {
    "duration": 5,
    "start_time": "2022-07-28T19:44:58.938Z"
   },
   {
    "duration": 12,
    "start_time": "2022-07-28T19:44:58.944Z"
   },
   {
    "duration": 10,
    "start_time": "2022-07-28T19:44:58.958Z"
   },
   {
    "duration": 19,
    "start_time": "2022-07-28T19:44:58.970Z"
   },
   {
    "duration": 10,
    "start_time": "2022-07-28T19:44:58.991Z"
   },
   {
    "duration": 326,
    "start_time": "2022-07-28T19:44:59.003Z"
   },
   {
    "duration": 247,
    "start_time": "2022-07-28T19:44:59.330Z"
   },
   {
    "duration": 381,
    "start_time": "2022-07-28T19:44:59.580Z"
   },
   {
    "duration": 6,
    "start_time": "2022-07-28T19:44:59.963Z"
   },
   {
    "duration": 10,
    "start_time": "2022-07-28T19:44:59.971Z"
   },
   {
    "duration": 1513,
    "start_time": "2022-07-28T19:44:59.982Z"
   },
   {
    "duration": 388,
    "start_time": "2022-07-28T19:45:01.497Z"
   },
   {
    "duration": 294,
    "start_time": "2022-07-28T19:45:01.887Z"
   },
   {
    "duration": 245,
    "start_time": "2022-07-28T19:45:02.183Z"
   },
   {
    "duration": 4,
    "start_time": "2022-07-28T19:45:02.431Z"
   },
   {
    "duration": 17,
    "start_time": "2022-07-28T19:45:02.437Z"
   },
   {
    "duration": 43,
    "start_time": "2022-07-28T19:45:02.456Z"
   },
   {
    "duration": 21,
    "start_time": "2022-07-28T19:45:02.501Z"
   },
   {
    "duration": 25,
    "start_time": "2022-07-28T19:45:02.524Z"
   },
   {
    "duration": 12,
    "start_time": "2022-07-28T19:45:02.550Z"
   },
   {
    "duration": 21,
    "start_time": "2022-07-28T19:45:02.564Z"
   },
   {
    "duration": 17,
    "start_time": "2022-07-28T19:45:02.586Z"
   },
   {
    "duration": 21,
    "start_time": "2022-07-28T19:45:02.604Z"
   },
   {
    "duration": 14,
    "start_time": "2022-07-28T19:45:02.627Z"
   },
   {
    "duration": 8244,
    "start_time": "2022-07-28T19:45:02.643Z"
   },
   {
    "duration": 4,
    "start_time": "2022-07-28T19:45:10.888Z"
   },
   {
    "duration": 5,
    "start_time": "2022-07-28T19:45:10.894Z"
   },
   {
    "duration": 681,
    "start_time": "2022-07-28T19:45:10.901Z"
   },
   {
    "duration": 4,
    "start_time": "2022-07-28T19:45:11.583Z"
   },
   {
    "duration": 148,
    "start_time": "2022-07-28T19:45:11.589Z"
   },
   {
    "duration": 94,
    "start_time": "2022-07-28T19:45:11.738Z"
   },
   {
    "duration": 23,
    "start_time": "2022-07-28T19:45:11.833Z"
   },
   {
    "duration": 467,
    "start_time": "2022-07-28T19:45:11.857Z"
   },
   {
    "duration": 1390,
    "start_time": "2022-07-28T19:46:01.650Z"
   },
   {
    "duration": 3,
    "start_time": "2022-07-28T19:46:03.042Z"
   },
   {
    "duration": 53,
    "start_time": "2022-07-28T19:46:03.047Z"
   },
   {
    "duration": 12,
    "start_time": "2022-07-28T19:46:03.102Z"
   },
   {
    "duration": 4,
    "start_time": "2022-07-28T19:46:03.117Z"
   },
   {
    "duration": 12,
    "start_time": "2022-07-28T19:46:03.122Z"
   },
   {
    "duration": 8,
    "start_time": "2022-07-28T19:46:03.136Z"
   },
   {
    "duration": 11,
    "start_time": "2022-07-28T19:46:03.145Z"
   },
   {
    "duration": 9,
    "start_time": "2022-07-28T19:46:03.158Z"
   },
   {
    "duration": 16,
    "start_time": "2022-07-28T19:46:03.169Z"
   },
   {
    "duration": 9,
    "start_time": "2022-07-28T19:46:03.187Z"
   },
   {
    "duration": 312,
    "start_time": "2022-07-28T19:46:03.197Z"
   },
   {
    "duration": 247,
    "start_time": "2022-07-28T19:46:03.511Z"
   },
   {
    "duration": 355,
    "start_time": "2022-07-28T19:46:03.761Z"
   },
   {
    "duration": 10,
    "start_time": "2022-07-28T19:46:04.117Z"
   },
   {
    "duration": 11,
    "start_time": "2022-07-28T19:46:04.129Z"
   },
   {
    "duration": 1482,
    "start_time": "2022-07-28T19:46:04.142Z"
   },
   {
    "duration": 381,
    "start_time": "2022-07-28T19:46:05.626Z"
   },
   {
    "duration": 277,
    "start_time": "2022-07-28T19:46:06.009Z"
   },
   {
    "duration": 239,
    "start_time": "2022-07-28T19:46:06.287Z"
   },
   {
    "duration": 3,
    "start_time": "2022-07-28T19:46:06.528Z"
   },
   {
    "duration": 10,
    "start_time": "2022-07-28T19:46:06.533Z"
   },
   {
    "duration": 17,
    "start_time": "2022-07-28T19:46:06.545Z"
   },
   {
    "duration": 8,
    "start_time": "2022-07-28T19:46:06.564Z"
   },
   {
    "duration": 15,
    "start_time": "2022-07-28T19:46:06.574Z"
   },
   {
    "duration": 10,
    "start_time": "2022-07-28T19:46:06.590Z"
   },
   {
    "duration": 23,
    "start_time": "2022-07-28T19:46:06.602Z"
   },
   {
    "duration": 6,
    "start_time": "2022-07-28T19:46:06.627Z"
   },
   {
    "duration": 6,
    "start_time": "2022-07-28T19:46:06.635Z"
   },
   {
    "duration": 6,
    "start_time": "2022-07-28T19:46:06.643Z"
   },
   {
    "duration": 7000,
    "start_time": "2022-07-28T19:46:06.650Z"
   },
   {
    "duration": 4,
    "start_time": "2022-07-28T19:46:13.652Z"
   },
   {
    "duration": 5,
    "start_time": "2022-07-28T19:46:13.657Z"
   },
   {
    "duration": 631,
    "start_time": "2022-07-28T19:46:13.664Z"
   },
   {
    "duration": 5,
    "start_time": "2022-07-28T19:46:14.297Z"
   },
   {
    "duration": 434,
    "start_time": "2022-07-28T19:46:14.304Z"
   },
   {
    "duration": 93,
    "start_time": "2022-07-28T19:46:14.740Z"
   },
   {
    "duration": 30,
    "start_time": "2022-07-28T19:46:14.834Z"
   },
   {
    "duration": 472,
    "start_time": "2022-07-28T19:46:14.865Z"
   },
   {
    "duration": 3,
    "start_time": "2022-07-28T19:56:34.004Z"
   },
   {
    "duration": 6268,
    "start_time": "2022-07-28T19:56:35.484Z"
   },
   {
    "duration": 4,
    "start_time": "2022-07-28T19:56:41.754Z"
   },
   {
    "duration": 2,
    "start_time": "2022-07-28T19:56:43.380Z"
   },
   {
    "duration": 25,
    "start_time": "2022-07-28T19:56:47.756Z"
   },
   {
    "duration": 3,
    "start_time": "2022-07-28T19:57:01.693Z"
   },
   {
    "duration": 6093,
    "start_time": "2022-07-28T19:57:02.508Z"
   },
   {
    "duration": 4,
    "start_time": "2022-07-28T19:57:13.589Z"
   },
   {
    "duration": 2,
    "start_time": "2022-07-28T19:57:14.765Z"
   },
   {
    "duration": 23,
    "start_time": "2022-07-28T19:57:18.839Z"
   },
   {
    "duration": 3,
    "start_time": "2022-07-28T19:57:33.341Z"
   },
   {
    "duration": 5507,
    "start_time": "2022-07-28T19:57:35.749Z"
   },
   {
    "duration": 5,
    "start_time": "2022-07-28T19:57:41.259Z"
   },
   {
    "duration": 4,
    "start_time": "2022-07-28T19:57:41.266Z"
   },
   {
    "duration": 33,
    "start_time": "2022-07-28T19:57:45.306Z"
   },
   {
    "duration": 3,
    "start_time": "2022-07-28T19:58:05.738Z"
   },
   {
    "duration": 6910,
    "start_time": "2022-07-28T19:58:06.439Z"
   },
   {
    "duration": 5,
    "start_time": "2022-07-28T19:58:13.351Z"
   },
   {
    "duration": 11,
    "start_time": "2022-07-28T19:58:13.357Z"
   },
   {
    "duration": 34,
    "start_time": "2022-07-28T19:58:19.606Z"
   },
   {
    "duration": 4,
    "start_time": "2022-07-28T19:58:33.709Z"
   },
   {
    "duration": 7714,
    "start_time": "2022-07-28T19:58:34.349Z"
   },
   {
    "duration": 4,
    "start_time": "2022-07-28T19:58:42.065Z"
   },
   {
    "duration": 7,
    "start_time": "2022-07-28T19:58:42.070Z"
   },
   {
    "duration": 28,
    "start_time": "2022-07-28T19:58:51.294Z"
   },
   {
    "duration": 45,
    "start_time": "2022-07-28T19:59:20.441Z"
   },
   {
    "duration": 3,
    "start_time": "2022-07-28T19:59:28.765Z"
   },
   {
    "duration": 6749,
    "start_time": "2022-07-28T19:59:28.770Z"
   },
   {
    "duration": 15,
    "start_time": "2022-07-28T19:59:35.525Z"
   },
   {
    "duration": 19,
    "start_time": "2022-07-28T19:59:35.542Z"
   },
   {
    "duration": 29,
    "start_time": "2022-07-28T19:59:43.998Z"
   },
   {
    "duration": 3,
    "start_time": "2022-07-28T20:00:01.982Z"
   },
   {
    "duration": 6286,
    "start_time": "2022-07-28T20:00:02.483Z"
   },
   {
    "duration": 4,
    "start_time": "2022-07-28T20:00:08.771Z"
   },
   {
    "duration": 41,
    "start_time": "2022-07-28T20:00:08.777Z"
   },
   {
    "duration": 23,
    "start_time": "2022-07-28T20:00:13.870Z"
   },
   {
    "duration": 3,
    "start_time": "2022-07-28T20:00:54.886Z"
   },
   {
    "duration": 8888,
    "start_time": "2022-07-28T20:00:55.718Z"
   },
   {
    "duration": 5,
    "start_time": "2022-07-28T20:01:04.608Z"
   },
   {
    "duration": 16,
    "start_time": "2022-07-28T20:01:04.626Z"
   },
   {
    "duration": 29,
    "start_time": "2022-07-28T20:01:10.703Z"
   },
   {
    "duration": 42,
    "start_time": "2022-07-28T20:02:17.169Z"
   }
  ],
  "kernelspec": {
   "display_name": "Python 3 (ipykernel)",
   "language": "python",
   "name": "python3"
  },
  "language_info": {
   "codemirror_mode": {
    "name": "ipython",
    "version": 3
   },
   "file_extension": ".py",
   "mimetype": "text/x-python",
   "name": "python",
   "nbconvert_exporter": "python",
   "pygments_lexer": "ipython3",
   "version": "3.9.12"
  },
  "toc": {
   "base_numbering": 1,
   "nav_menu": {},
   "number_sections": true,
   "sideBar": true,
   "skip_h1_title": true,
   "title_cell": "Содержание",
   "title_sidebar": "Contents",
   "toc_cell": true,
   "toc_position": {
    "height": "calc(100% - 180px)",
    "left": "10px",
    "top": "150px",
    "width": "165px"
   },
   "toc_section_display": true,
   "toc_window_display": true
  }
 },
 "nbformat": 4,
 "nbformat_minor": 2
}

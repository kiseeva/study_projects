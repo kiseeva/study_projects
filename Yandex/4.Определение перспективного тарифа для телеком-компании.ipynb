{
 "cells": [
  {
   "cell_type": "markdown",
   "metadata": {},
   "source": [
    "# Определение перспективного тарифа для телеком-компании"
   ]
  },
  {
   "cell_type": "markdown",
   "metadata": {},
   "source": [
    "`Цель:` Компании «N» необходимо скорректировать рекламный бюджет, для этого нужн выяснить какой тариф («Смарт» или «Ультра») приносит больше денег.\n",
    "\n",
    "`Данные:` В распоряжении данные 500 пользователей «Мегалайна»: кто они, откуда, каким тарифом пользуются, сколько звонков и сообщений каждый отправил за 2018 год. \n",
    " \n",
    "`Задача:` Необходимо проанализировать поведение клиентов и сделать вывод — какой тариф лучше.\n",
    "\n",
    "`План работы:`\n",
    "\n",
    "- загрузка и изучение данных\n",
    "- предобработка\n",
    "- исследование данных\n",
    "- проверка гипотез\n",
    "- вывод \n",
    "\n",
    "`Гипотезы:`\n",
    "- средняя выручка пользователей тарифов «Ультра» и «Смарт» различаются;\n",
    "- средняя выручка пользователей из Москвы отличается от выручки пользователей из других регионов.\n",
    "\n",
    "`Входные данные:`\n",
    "\n",
    "- /datasets/calls.csv \n",
    "- /datasets/internet.csv \n",
    "- /datasets/messages.csv \n",
    "- /datasets/tariffs.csv \n",
    "- /datasets/users.csv "
   ]
  },
  {
   "cell_type": "markdown",
   "metadata": {},
   "source": [
    "## Изучение данных "
   ]
  },
  {
   "cell_type": "code",
   "execution_count": 1,
   "metadata": {},
   "outputs": [],
   "source": [
    "import pandas as pd\n",
    "import numpy as np\n",
    "from scipy import stats as st\n",
    "import matplotlib.pyplot as plt\n",
    "import math"
   ]
  },
  {
   "cell_type": "code",
   "execution_count": 2,
   "metadata": {},
   "outputs": [],
   "source": [
    "calls = pd.read_csv(\"/datasets/calls.csv\")\n",
    "internet = pd.read_csv(\"/datasets/internet.csv\")\n",
    "messages = pd.read_csv(\"/datasets/messages.csv\")\n",
    "tariffs = pd.read_csv(\"/datasets/tariffs.csv\")\n",
    "users = pd.read_csv(\"/datasets/users.csv\")"
   ]
  },
  {
   "cell_type": "code",
   "execution_count": 3,
   "metadata": {},
   "outputs": [
    {
     "name": "stdout",
     "output_type": "stream",
     "text": [
      "<class 'pandas.core.frame.DataFrame'>\n",
      "RangeIndex: 500 entries, 0 to 499\n",
      "Data columns (total 8 columns):\n",
      " #   Column      Non-Null Count  Dtype \n",
      "---  ------      --------------  ----- \n",
      " 0   user_id     500 non-null    int64 \n",
      " 1   age         500 non-null    int64 \n",
      " 2   churn_date  38 non-null     object\n",
      " 3   city        500 non-null    object\n",
      " 4   first_name  500 non-null    object\n",
      " 5   last_name   500 non-null    object\n",
      " 6   reg_date    500 non-null    object\n",
      " 7   tariff      500 non-null    object\n",
      "dtypes: int64(2), object(6)\n",
      "memory usage: 31.4+ KB\n"
     ]
    }
   ],
   "source": [
    "#calls.info()\n",
    "#internet.info()\n",
    "#messages.info() \n",
    "#tariffs.info() \n",
    "users.info() "
   ]
  },
  {
   "cell_type": "code",
   "execution_count": 4,
   "metadata": {},
   "outputs": [
    {
     "data": {
      "text/html": [
       "<div>\n",
       "<style scoped>\n",
       "    .dataframe tbody tr th:only-of-type {\n",
       "        vertical-align: middle;\n",
       "    }\n",
       "\n",
       "    .dataframe tbody tr th {\n",
       "        vertical-align: top;\n",
       "    }\n",
       "\n",
       "    .dataframe thead th {\n",
       "        text-align: right;\n",
       "    }\n",
       "</style>\n",
       "<table border=\"1\" class=\"dataframe\">\n",
       "  <thead>\n",
       "    <tr style=\"text-align: right;\">\n",
       "      <th></th>\n",
       "      <th>id</th>\n",
       "      <th>call_date</th>\n",
       "      <th>duration</th>\n",
       "      <th>user_id</th>\n",
       "    </tr>\n",
       "  </thead>\n",
       "  <tbody>\n",
       "    <tr>\n",
       "      <th>0</th>\n",
       "      <td>1000_0</td>\n",
       "      <td>2018-07-25</td>\n",
       "      <td>0.00</td>\n",
       "      <td>1000</td>\n",
       "    </tr>\n",
       "    <tr>\n",
       "      <th>1</th>\n",
       "      <td>1000_1</td>\n",
       "      <td>2018-08-17</td>\n",
       "      <td>0.00</td>\n",
       "      <td>1000</td>\n",
       "    </tr>\n",
       "    <tr>\n",
       "      <th>2</th>\n",
       "      <td>1000_2</td>\n",
       "      <td>2018-06-11</td>\n",
       "      <td>2.85</td>\n",
       "      <td>1000</td>\n",
       "    </tr>\n",
       "    <tr>\n",
       "      <th>3</th>\n",
       "      <td>1000_3</td>\n",
       "      <td>2018-09-21</td>\n",
       "      <td>13.80</td>\n",
       "      <td>1000</td>\n",
       "    </tr>\n",
       "    <tr>\n",
       "      <th>4</th>\n",
       "      <td>1000_4</td>\n",
       "      <td>2018-12-15</td>\n",
       "      <td>5.18</td>\n",
       "      <td>1000</td>\n",
       "    </tr>\n",
       "  </tbody>\n",
       "</table>\n",
       "</div>"
      ],
      "text/plain": [
       "       id   call_date  duration  user_id\n",
       "0  1000_0  2018-07-25      0.00     1000\n",
       "1  1000_1  2018-08-17      0.00     1000\n",
       "2  1000_2  2018-06-11      2.85     1000\n",
       "3  1000_3  2018-09-21     13.80     1000\n",
       "4  1000_4  2018-12-15      5.18     1000"
      ]
     },
     "execution_count": 4,
     "metadata": {},
     "output_type": "execute_result"
    }
   ],
   "source": [
    "calls.head()\n",
    "#internet.head()\n",
    "#messages.head(100) \n",
    "#tariffs.head() \n",
    "#users.head() "
   ]
  },
  {
   "cell_type": "code",
   "execution_count": 5,
   "metadata": {},
   "outputs": [
    {
     "data": {
      "text/html": [
       "<div>\n",
       "<style scoped>\n",
       "    .dataframe tbody tr th:only-of-type {\n",
       "        vertical-align: middle;\n",
       "    }\n",
       "\n",
       "    .dataframe tbody tr th {\n",
       "        vertical-align: top;\n",
       "    }\n",
       "\n",
       "    .dataframe thead th {\n",
       "        text-align: right;\n",
       "    }\n",
       "</style>\n",
       "<table border=\"1\" class=\"dataframe\">\n",
       "  <thead>\n",
       "    <tr style=\"text-align: right;\">\n",
       "      <th></th>\n",
       "      <th>messages_included</th>\n",
       "      <th>mb_per_month_included</th>\n",
       "      <th>minutes_included</th>\n",
       "      <th>rub_monthly_fee</th>\n",
       "      <th>rub_per_gb</th>\n",
       "      <th>rub_per_message</th>\n",
       "      <th>rub_per_minute</th>\n",
       "    </tr>\n",
       "  </thead>\n",
       "  <tbody>\n",
       "    <tr>\n",
       "      <th>count</th>\n",
       "      <td>2.000000</td>\n",
       "      <td>2.000000</td>\n",
       "      <td>2.000000</td>\n",
       "      <td>2.000000</td>\n",
       "      <td>2.000000</td>\n",
       "      <td>2.000000</td>\n",
       "      <td>2.000000</td>\n",
       "    </tr>\n",
       "    <tr>\n",
       "      <th>mean</th>\n",
       "      <td>525.000000</td>\n",
       "      <td>23040.000000</td>\n",
       "      <td>1750.000000</td>\n",
       "      <td>1250.000000</td>\n",
       "      <td>175.000000</td>\n",
       "      <td>2.000000</td>\n",
       "      <td>2.000000</td>\n",
       "    </tr>\n",
       "    <tr>\n",
       "      <th>std</th>\n",
       "      <td>671.751442</td>\n",
       "      <td>10861.160159</td>\n",
       "      <td>1767.766953</td>\n",
       "      <td>989.949494</td>\n",
       "      <td>35.355339</td>\n",
       "      <td>1.414214</td>\n",
       "      <td>1.414214</td>\n",
       "    </tr>\n",
       "    <tr>\n",
       "      <th>min</th>\n",
       "      <td>50.000000</td>\n",
       "      <td>15360.000000</td>\n",
       "      <td>500.000000</td>\n",
       "      <td>550.000000</td>\n",
       "      <td>150.000000</td>\n",
       "      <td>1.000000</td>\n",
       "      <td>1.000000</td>\n",
       "    </tr>\n",
       "    <tr>\n",
       "      <th>25%</th>\n",
       "      <td>287.500000</td>\n",
       "      <td>19200.000000</td>\n",
       "      <td>1125.000000</td>\n",
       "      <td>900.000000</td>\n",
       "      <td>162.500000</td>\n",
       "      <td>1.500000</td>\n",
       "      <td>1.500000</td>\n",
       "    </tr>\n",
       "    <tr>\n",
       "      <th>50%</th>\n",
       "      <td>525.000000</td>\n",
       "      <td>23040.000000</td>\n",
       "      <td>1750.000000</td>\n",
       "      <td>1250.000000</td>\n",
       "      <td>175.000000</td>\n",
       "      <td>2.000000</td>\n",
       "      <td>2.000000</td>\n",
       "    </tr>\n",
       "    <tr>\n",
       "      <th>75%</th>\n",
       "      <td>762.500000</td>\n",
       "      <td>26880.000000</td>\n",
       "      <td>2375.000000</td>\n",
       "      <td>1600.000000</td>\n",
       "      <td>187.500000</td>\n",
       "      <td>2.500000</td>\n",
       "      <td>2.500000</td>\n",
       "    </tr>\n",
       "    <tr>\n",
       "      <th>max</th>\n",
       "      <td>1000.000000</td>\n",
       "      <td>30720.000000</td>\n",
       "      <td>3000.000000</td>\n",
       "      <td>1950.000000</td>\n",
       "      <td>200.000000</td>\n",
       "      <td>3.000000</td>\n",
       "      <td>3.000000</td>\n",
       "    </tr>\n",
       "  </tbody>\n",
       "</table>\n",
       "</div>"
      ],
      "text/plain": [
       "       messages_included  mb_per_month_included  minutes_included  \\\n",
       "count           2.000000               2.000000          2.000000   \n",
       "mean          525.000000           23040.000000       1750.000000   \n",
       "std           671.751442           10861.160159       1767.766953   \n",
       "min            50.000000           15360.000000        500.000000   \n",
       "25%           287.500000           19200.000000       1125.000000   \n",
       "50%           525.000000           23040.000000       1750.000000   \n",
       "75%           762.500000           26880.000000       2375.000000   \n",
       "max          1000.000000           30720.000000       3000.000000   \n",
       "\n",
       "       rub_monthly_fee  rub_per_gb  rub_per_message  rub_per_minute  \n",
       "count         2.000000    2.000000         2.000000        2.000000  \n",
       "mean       1250.000000  175.000000         2.000000        2.000000  \n",
       "std         989.949494   35.355339         1.414214        1.414214  \n",
       "min         550.000000  150.000000         1.000000        1.000000  \n",
       "25%         900.000000  162.500000         1.500000        1.500000  \n",
       "50%        1250.000000  175.000000         2.000000        2.000000  \n",
       "75%        1600.000000  187.500000         2.500000        2.500000  \n",
       "max        1950.000000  200.000000         3.000000        3.000000  "
      ]
     },
     "execution_count": 5,
     "metadata": {},
     "output_type": "execute_result"
    }
   ],
   "source": [
    "#calls.describe()\n",
    "#internet.describe()\n",
    "#messages.describe() \n",
    "tariffs.describe() \n",
    "#users.describe() "
   ]
  },
  {
   "cell_type": "markdown",
   "metadata": {},
   "source": [
    "### Описание данных\n",
    "Таблица users (информация о пользователях):\n",
    "\n",
    "    user_id — уникальный идентификатор пользователя\n",
    "    first_name — имя пользователя\n",
    "    last_name — фамилия пользователя\n",
    "    age — возраст пользователя (годы)\n",
    "    reg_date — дата подключения тарифа (день, месяц, год)\n",
    "    churn_date — дата прекращения пользования тарифом (если значение пропущено, то тариф ещё действовал на момент выгрузки данных)\n",
    "    city — город проживания пользователя\n",
    "    tariff — название тарифного плана\n",
    "\n",
    "Таблица calls (информация о звонках):\n",
    "\n",
    "    id — уникальный номер звонка\n",
    "    call_date — дата звонка\n",
    "    duration — длительность звонка в минутах\n",
    "    user_id — идентификатор пользователя, сделавшего звонок\n",
    "\n",
    "Таблица messages (информация о сообщениях):\n",
    "\n",
    "    id — уникальный номер сообщения\n",
    "    message_date — дата сообщения\n",
    "    user_id — идентификатор пользователя, отправившего сообщение\n",
    "\n",
    "Таблица internet (информация об интернет-сессиях):\n",
    "\n",
    "    id — уникальный номер сессии\n",
    "    mb_used — объём потраченного за сессию интернет-трафика (в мегабайтах)\n",
    "    session_date — дата интернет-сессии\n",
    "    user_id — идентификатор пользователя\n",
    "\n",
    "Таблица tariffs (информация о тарифах):\n",
    "\n",
    "    tariff_name — название тарифа\n",
    "    rub_monthly_fee — ежемесячная абонентская плата в рублях\n",
    "    minutes_included — количество минут разговора в месяц, включённых в абонентскую плату\n",
    "    messages_included — количество сообщений в месяц, включённых в абонентскую плату\n",
    "    mb_per_month_included — объём интернет-трафика, включённого в абонентскую плату (в мегабайтах)\n",
    "    rub_per_minute — стоимость минуты разговора сверх тарифного пакета (например, если в тарифе 100 минут разговора в месяц, то со 101 минуты будет взиматься плата)\n",
    "    rub_per_message — стоимость отправки сообщения сверх тарифного пакета\n",
    "    rub_per_gb — стоимость дополнительного гигабайта интернет-трафика сверх тарифного пакета (1 гигабайт = 1024 мегабайта)"
   ]
  },
  {
   "cell_type": "markdown",
   "metadata": {},
   "source": [
    "предварительный вывод: \n",
    "В таблице calls\n",
    "- проверить есть ли другие id, кроме 1000\n",
    "\n",
    "В таблицеmessages\n",
    "- проверить есть ли другие id, кроме 1000\n",
    "\n",
    "В таблице users\n",
    "- проверить дубликаты\n",
    "\n",
    "\n",
    "Стоит изменить тип данных в столбцах:\n",
    "\n",
    "- call_date session_date\n",
    "- message_date\n",
    "- churn_date\n",
    "- reg_date"
   ]
  },
  {
   "cell_type": "markdown",
   "metadata": {},
   "source": [
    "## Предобработка данных"
   ]
  },
  {
   "cell_type": "markdown",
   "metadata": {},
   "source": [
    "### Пропуски в данных\n",
    "\n",
    "Посчитаем сколько в таблицах пропущенных значений."
   ]
  },
  {
   "cell_type": "code",
   "execution_count": 6,
   "metadata": {},
   "outputs": [
    {
     "data": {
      "text/plain": [
       "user_id         0\n",
       "age             0\n",
       "churn_date    462\n",
       "city            0\n",
       "first_name      0\n",
       "last_name       0\n",
       "reg_date        0\n",
       "tariff          0\n",
       "dtype: int64"
      ]
     },
     "execution_count": 6,
     "metadata": {},
     "output_type": "execute_result"
    }
   ],
   "source": [
    "calls.isna().sum()\n",
    "internet.isna().sum()\n",
    "messages.isna().sum()\n",
    "tariffs.isna().sum()\n",
    "users.isna().sum()"
   ]
  },
  {
   "cell_type": "markdown",
   "metadata": {},
   "source": [
    "Пропуски есть только в таблице users, в столбце churn_date. Их заполнять не нужно тк пропуски в этом столбце означает что тариф ещё действовал на момент выгрузки данных."
   ]
  },
  {
   "cell_type": "code",
   "execution_count": 7,
   "metadata": {},
   "outputs": [
    {
     "name": "stdout",
     "output_type": "stream",
     "text": [
      "calls\n",
      "id           0\n",
      "call_date    0\n",
      "duration     0\n",
      "user_id      0\n",
      "dtype: int64\n",
      "\n",
      "internet\n",
      "Unnamed: 0      0\n",
      "id              0\n",
      "mb_used         0\n",
      "session_date    0\n",
      "user_id         0\n",
      "dtype: int64\n",
      "\n",
      "messages\n",
      "id              0\n",
      "message_date    0\n",
      "user_id         0\n",
      "dtype: int64\n",
      "\n",
      "tariffs\n",
      "messages_included        0\n",
      "mb_per_month_included    0\n",
      "minutes_included         0\n",
      "rub_monthly_fee          0\n",
      "rub_per_gb               0\n",
      "rub_per_message          0\n",
      "rub_per_minute           0\n",
      "tariff_name              0\n",
      "dtype: int64\n",
      "\n",
      "users\n",
      "user_id         0\n",
      "age             0\n",
      "churn_date    462\n",
      "city            0\n",
      "first_name      0\n",
      "last_name       0\n",
      "reg_date        0\n",
      "tariff          0\n",
      "dtype: int64\n",
      "\n"
     ]
    }
   ],
   "source": [
    "df_list = [calls, internet, messages, tariffs, users]\n",
    "df_name_list = ['calls', 'internet', 'messages', 'tariffs', 'users']\n",
    "\n",
    "for i in range(len(df_list)):\n",
    "    print(df_name_list[i])\n",
    "    print(df_list[i].isna().sum())\n",
    "    print()"
   ]
  },
  {
   "cell_type": "markdown",
   "metadata": {},
   "source": [
    "### Дубликаты"
   ]
  },
  {
   "cell_type": "code",
   "execution_count": 9,
   "metadata": {},
   "outputs": [
    {
     "name": "stdout",
     "output_type": "stream",
     "text": [
      "calls\n",
      "0\n",
      "\n",
      "internet\n",
      "0\n",
      "\n",
      "messages\n",
      "0\n",
      "\n",
      "tariffs\n",
      "0\n",
      "\n",
      "users\n",
      "0\n",
      "\n"
     ]
    }
   ],
   "source": [
    "df_list = [calls, internet, messages, tariffs, users]\n",
    "df_name_list = ['calls', 'internet', 'messages', 'tariffs', 'users']\n",
    "\n",
    "for i in range(len(df_list)):\n",
    "    print(df_name_list[i])\n",
    "    print(df_list[i].duplicated().sum())\n",
    "    print()"
   ]
  },
  {
   "cell_type": "markdown",
   "metadata": {},
   "source": [
    "Явных дубликатов нет."
   ]
  },
  {
   "cell_type": "markdown",
   "metadata": {},
   "source": [
    "###  Изменение типов данных. "
   ]
  },
  {
   "cell_type": "code",
   "execution_count": 10,
   "metadata": {},
   "outputs": [],
   "source": [
    "users['reg_date'] = pd.to_datetime(users['reg_date'],format='%Y-%m-%dT%H:%M:%S')#\n",
    "users['churn_date'] = pd.to_datetime(users['churn_date'],format='%Y-%m-%dT%H:%M:%S')\n",
    "\n",
    "calls['call_date'] = pd.to_datetime(calls['call_date'],format='%Y-%m-%dT%H:%M:%S')#\n",
    "\n",
    "internet['session_date'] = pd.to_datetime(internet['session_date'],format='%Y-%m-%dT%H:%M:%S')#\n",
    "\n",
    "messages['message_date'] = pd.to_datetime(messages['message_date'],format='%Y-%m-%dT%H:%M:%S')#\n"
   ]
  },
  {
   "cell_type": "code",
   "execution_count": 11,
   "metadata": {},
   "outputs": [
    {
     "name": "stdout",
     "output_type": "stream",
     "text": [
      "<class 'pandas.core.frame.DataFrame'>\n",
      "RangeIndex: 202607 entries, 0 to 202606\n",
      "Data columns (total 4 columns):\n",
      " #   Column     Non-Null Count   Dtype         \n",
      "---  ------     --------------   -----         \n",
      " 0   id         202607 non-null  object        \n",
      " 1   call_date  202607 non-null  datetime64[ns]\n",
      " 2   duration   202607 non-null  float64       \n",
      " 3   user_id    202607 non-null  int64         \n",
      "dtypes: datetime64[ns](1), float64(1), int64(1), object(1)\n",
      "memory usage: 6.2+ MB\n"
     ]
    }
   ],
   "source": [
    "calls.info() # Проверка"
   ]
  },
  {
   "cell_type": "markdown",
   "metadata": {},
   "source": [
    "###  Проверка данных на аномалии"
   ]
  },
  {
   "cell_type": "markdown",
   "metadata": {},
   "source": [
    "Проверим количественные переменные (age, duration, mb_used, значаения в таблице tariffs) на:\n",
    "- выбросы с отрицательным значением\n",
    "- выбросы со слишком большим значением\n"
   ]
  },
  {
   "cell_type": "markdown",
   "metadata": {},
   "source": [
    "Из первого пункта (метод describe) известно:\n",
    "\n",
    "- минимальное значение в столбце duration = 0, что не является аномалией, а означает пропущенные звонки.\n",
    "- максимальное значение в столбце duration = 38, также не аномалия\n",
    "- минимальное и максимальное значения возраста пользователей риемлемые -  18 и 75\n",
    "- c переменной mb_used также все в норме\n",
    "-  в таблице tariffs также отсутствуют отрицательные или аномально большие значения"
   ]
  },
  {
   "cell_type": "markdown",
   "metadata": {},
   "source": [
    "Проверим, что звонки и сообщения были отправлены разными пользователями"
   ]
  },
  {
   "cell_type": "code",
   "execution_count": 12,
   "metadata": {},
   "outputs": [
    {
     "data": {
      "text/plain": [
       "426"
      ]
     },
     "execution_count": 12,
     "metadata": {},
     "output_type": "execute_result"
    }
   ],
   "source": [
    "#len(users[\"user_id\"].unique())\n",
    "#len(calls[\"user_id\"].unique())\n",
    "len(messages[\"user_id\"].unique())"
   ]
  },
  {
   "cell_type": "markdown",
   "metadata": {},
   "source": [
    "### Дополнительные расчеты"
   ]
  },
  {
   "cell_type": "markdown",
   "metadata": {},
   "source": [
    "Необходимо посчитать для каждого пользователя:\n",
    "- количество сделанных звонков и израсходованных минут разговора по месяцам;\n",
    "- количество отправленных сообщений по месяцам;\n",
    "- объем израсходованного интернет-трафика по месяцам;\n",
    "- помесячную выручку с каждого пользователя (вычтите бесплатный лимит из суммарного количества звонков, сообщений и интернет-- - трафика; остаток умножьте на значение из тарифного плана; прибавьте абонентскую плату, соответствующую тарифному плану)."
   ]
  },
  {
   "cell_type": "code",
   "execution_count": 13,
   "metadata": {},
   "outputs": [
    {
     "data": {
      "text/plain": [
       "0          0.00\n",
       "1          0.00\n",
       "2          2.85\n",
       "3         13.80\n",
       "4          5.18\n",
       "          ...  \n",
       "202602     0.76\n",
       "202603    18.83\n",
       "202604    10.81\n",
       "202605     4.27\n",
       "202606    19.62\n",
       "Name: duration, Length: 202607, dtype: float64"
      ]
     },
     "execution_count": 13,
     "metadata": {},
     "output_type": "execute_result"
    }
   ],
   "source": [
    "calls['duration'] "
   ]
  },
  {
   "cell_type": "code",
   "execution_count": 14,
   "metadata": {},
   "outputs": [
    {
     "data": {
      "text/plain": [
       "0          0\n",
       "1          0\n",
       "2          3\n",
       "3         14\n",
       "4          6\n",
       "          ..\n",
       "202602     1\n",
       "202603    19\n",
       "202604    11\n",
       "202605     5\n",
       "202606    20\n",
       "Name: duration_round, Length: 202607, dtype: int64"
      ]
     },
     "execution_count": 14,
     "metadata": {},
     "output_type": "execute_result"
    }
   ],
   "source": [
    "duration_round = []\n",
    "\n",
    "for val in calls['duration']:\n",
    "    duration_round.append(math.ceil(val))\n",
    "    \n",
    "calls['duration_round'] = duration_round\n",
    "calls['duration_round']"
   ]
  },
  {
   "cell_type": "code",
   "execution_count": 15,
   "metadata": {},
   "outputs": [],
   "source": [
    "# создадим отдельно столбцы с месяцами\n",
    "messages['month'] = pd.DatetimeIndex(messages['message_date']).month\n",
    "calls['month'] = pd.DatetimeIndex(calls['call_date']).month\n",
    "internet['month'] = pd.DatetimeIndex(internet['session_date']).month"
   ]
  },
  {
   "cell_type": "code",
   "execution_count": 58,
   "metadata": {},
   "outputs": [
    {
     "data": {
      "text/html": [
       "<div>\n",
       "<style scoped>\n",
       "    .dataframe tbody tr th:only-of-type {\n",
       "        vertical-align: middle;\n",
       "    }\n",
       "\n",
       "    .dataframe tbody tr th {\n",
       "        vertical-align: top;\n",
       "    }\n",
       "\n",
       "    .dataframe thead th {\n",
       "        text-align: right;\n",
       "    }\n",
       "</style>\n",
       "<table border=\"1\" class=\"dataframe\">\n",
       "  <thead>\n",
       "    <tr style=\"text-align: right;\">\n",
       "      <th></th>\n",
       "      <th>id</th>\n",
       "      <th>call_date</th>\n",
       "      <th>duration</th>\n",
       "      <th>user_id</th>\n",
       "      <th>duration_round</th>\n",
       "      <th>month</th>\n",
       "    </tr>\n",
       "  </thead>\n",
       "  <tbody>\n",
       "    <tr>\n",
       "      <th>0</th>\n",
       "      <td>1000_0</td>\n",
       "      <td>2018-07-25</td>\n",
       "      <td>0.00</td>\n",
       "      <td>1000</td>\n",
       "      <td>0</td>\n",
       "      <td>7</td>\n",
       "    </tr>\n",
       "    <tr>\n",
       "      <th>1</th>\n",
       "      <td>1000_1</td>\n",
       "      <td>2018-08-17</td>\n",
       "      <td>0.00</td>\n",
       "      <td>1000</td>\n",
       "      <td>0</td>\n",
       "      <td>8</td>\n",
       "    </tr>\n",
       "    <tr>\n",
       "      <th>2</th>\n",
       "      <td>1000_2</td>\n",
       "      <td>2018-06-11</td>\n",
       "      <td>2.85</td>\n",
       "      <td>1000</td>\n",
       "      <td>3</td>\n",
       "      <td>6</td>\n",
       "    </tr>\n",
       "    <tr>\n",
       "      <th>3</th>\n",
       "      <td>1000_3</td>\n",
       "      <td>2018-09-21</td>\n",
       "      <td>13.80</td>\n",
       "      <td>1000</td>\n",
       "      <td>14</td>\n",
       "      <td>9</td>\n",
       "    </tr>\n",
       "    <tr>\n",
       "      <th>4</th>\n",
       "      <td>1000_4</td>\n",
       "      <td>2018-12-15</td>\n",
       "      <td>5.18</td>\n",
       "      <td>1000</td>\n",
       "      <td>6</td>\n",
       "      <td>12</td>\n",
       "    </tr>\n",
       "  </tbody>\n",
       "</table>\n",
       "</div>"
      ],
      "text/plain": [
       "       id  call_date  duration  user_id  duration_round  month\n",
       "0  1000_0 2018-07-25      0.00     1000               0      7\n",
       "1  1000_1 2018-08-17      0.00     1000               0      8\n",
       "2  1000_2 2018-06-11      2.85     1000               3      6\n",
       "3  1000_3 2018-09-21     13.80     1000              14      9\n",
       "4  1000_4 2018-12-15      5.18     1000               6     12"
      ]
     },
     "execution_count": 58,
     "metadata": {},
     "output_type": "execute_result"
    }
   ],
   "source": [
    "calls.head()"
   ]
  },
  {
   "cell_type": "code",
   "execution_count": 16,
   "metadata": {},
   "outputs": [
    {
     "data": {
      "text/plain": [
       "0"
      ]
     },
     "execution_count": 16,
     "metadata": {},
     "output_type": "execute_result"
    }
   ],
   "source": [
    "# создадим сводные таблицы с необходимыми данными, по длительности звонков, кол-ве сообщений и использованных мб\n",
    "calls_pivot = calls.pivot_table(index = [\"user_id\",\"month\"],values = \"duration_round\",aggfunc = [\"count\",\"sum\"])\n",
    "messages_pivot = messages.pivot_table(index = [\"user_id\",\"month\"],values = \"id\",aggfunc = \"count\")\n",
    "internet_pivot = internet.pivot_table(index = [\"user_id\",\"month\"],values = \"mb_used\",aggfunc = \"sum\")\n",
    "internet_pivot['mb_used'].isna().sum()\n",
    "#messages_pivot"
   ]
  },
  {
   "cell_type": "code",
   "execution_count": 17,
   "metadata": {},
   "outputs": [
    {
     "data": {
      "text/plain": [
       "11"
      ]
     },
     "execution_count": 17,
     "metadata": {},
     "output_type": "execute_result"
    }
   ],
   "source": [
    "df_month = calls_pivot.join([messages_pivot,internet_pivot], how = 'outer')\n",
    "df_month['mb_used'].isna().sum()\n",
    "#df_month.head(10)"
   ]
  },
  {
   "cell_type": "code",
   "execution_count": 18,
   "metadata": {},
   "outputs": [
    {
     "data": {
      "text/html": [
       "<div>\n",
       "<style scoped>\n",
       "    .dataframe tbody tr th:only-of-type {\n",
       "        vertical-align: middle;\n",
       "    }\n",
       "\n",
       "    .dataframe tbody tr th {\n",
       "        vertical-align: top;\n",
       "    }\n",
       "\n",
       "    .dataframe thead th {\n",
       "        text-align: right;\n",
       "    }\n",
       "</style>\n",
       "<table border=\"1\" class=\"dataframe\">\n",
       "  <thead>\n",
       "    <tr style=\"text-align: right;\">\n",
       "      <th></th>\n",
       "      <th></th>\n",
       "      <th>(count, duration_round)</th>\n",
       "      <th>(sum, duration_round)</th>\n",
       "      <th>id</th>\n",
       "      <th>mb_used</th>\n",
       "      <th>gb_used</th>\n",
       "    </tr>\n",
       "    <tr>\n",
       "      <th>user_id</th>\n",
       "      <th>month</th>\n",
       "      <th></th>\n",
       "      <th></th>\n",
       "      <th></th>\n",
       "      <th></th>\n",
       "      <th></th>\n",
       "    </tr>\n",
       "  </thead>\n",
       "  <tbody>\n",
       "    <tr>\n",
       "      <th rowspan=\"5\" valign=\"top\">1000</th>\n",
       "      <th>5</th>\n",
       "      <td>22.0</td>\n",
       "      <td>159.0</td>\n",
       "      <td>22.0</td>\n",
       "      <td>2253.49</td>\n",
       "      <td>2.200674</td>\n",
       "    </tr>\n",
       "    <tr>\n",
       "      <th>6</th>\n",
       "      <td>43.0</td>\n",
       "      <td>172.0</td>\n",
       "      <td>60.0</td>\n",
       "      <td>23233.77</td>\n",
       "      <td>22.689229</td>\n",
       "    </tr>\n",
       "    <tr>\n",
       "      <th>7</th>\n",
       "      <td>47.0</td>\n",
       "      <td>340.0</td>\n",
       "      <td>75.0</td>\n",
       "      <td>14003.64</td>\n",
       "      <td>13.675430</td>\n",
       "    </tr>\n",
       "    <tr>\n",
       "      <th>8</th>\n",
       "      <td>52.0</td>\n",
       "      <td>408.0</td>\n",
       "      <td>81.0</td>\n",
       "      <td>14055.93</td>\n",
       "      <td>13.726494</td>\n",
       "    </tr>\n",
       "    <tr>\n",
       "      <th>9</th>\n",
       "      <td>58.0</td>\n",
       "      <td>466.0</td>\n",
       "      <td>57.0</td>\n",
       "      <td>14568.91</td>\n",
       "      <td>14.227451</td>\n",
       "    </tr>\n",
       "    <tr>\n",
       "      <th>...</th>\n",
       "      <th>...</th>\n",
       "      <td>...</td>\n",
       "      <td>...</td>\n",
       "      <td>...</td>\n",
       "      <td>...</td>\n",
       "      <td>...</td>\n",
       "    </tr>\n",
       "    <tr>\n",
       "      <th>1498</th>\n",
       "      <th>10</th>\n",
       "      <td>41.0</td>\n",
       "      <td>247.0</td>\n",
       "      <td>42.0</td>\n",
       "      <td>20579.36</td>\n",
       "      <td>20.097031</td>\n",
       "    </tr>\n",
       "    <tr>\n",
       "      <th rowspan=\"4\" valign=\"top\">1499</th>\n",
       "      <th>9</th>\n",
       "      <td>9.0</td>\n",
       "      <td>70.0</td>\n",
       "      <td>11.0</td>\n",
       "      <td>1845.75</td>\n",
       "      <td>1.802490</td>\n",
       "    </tr>\n",
       "    <tr>\n",
       "      <th>10</th>\n",
       "      <td>68.0</td>\n",
       "      <td>449.0</td>\n",
       "      <td>48.0</td>\n",
       "      <td>17788.51</td>\n",
       "      <td>17.371592</td>\n",
       "    </tr>\n",
       "    <tr>\n",
       "      <th>11</th>\n",
       "      <td>74.0</td>\n",
       "      <td>612.0</td>\n",
       "      <td>59.0</td>\n",
       "      <td>17963.31</td>\n",
       "      <td>17.542295</td>\n",
       "    </tr>\n",
       "    <tr>\n",
       "      <th>12</th>\n",
       "      <td>69.0</td>\n",
       "      <td>492.0</td>\n",
       "      <td>66.0</td>\n",
       "      <td>13055.58</td>\n",
       "      <td>12.749590</td>\n",
       "    </tr>\n",
       "  </tbody>\n",
       "</table>\n",
       "<p>3214 rows × 5 columns</p>\n",
       "</div>"
      ],
      "text/plain": [
       "               (count, duration_round)  (sum, duration_round)    id   mb_used  \\\n",
       "user_id month                                                                   \n",
       "1000    5                         22.0                  159.0  22.0   2253.49   \n",
       "        6                         43.0                  172.0  60.0  23233.77   \n",
       "        7                         47.0                  340.0  75.0  14003.64   \n",
       "        8                         52.0                  408.0  81.0  14055.93   \n",
       "        9                         58.0                  466.0  57.0  14568.91   \n",
       "...                                ...                    ...   ...       ...   \n",
       "1498    10                        41.0                  247.0  42.0  20579.36   \n",
       "1499    9                          9.0                   70.0  11.0   1845.75   \n",
       "        10                        68.0                  449.0  48.0  17788.51   \n",
       "        11                        74.0                  612.0  59.0  17963.31   \n",
       "        12                        69.0                  492.0  66.0  13055.58   \n",
       "\n",
       "                 gb_used  \n",
       "user_id month             \n",
       "1000    5       2.200674  \n",
       "        6      22.689229  \n",
       "        7      13.675430  \n",
       "        8      13.726494  \n",
       "        9      14.227451  \n",
       "...                  ...  \n",
       "1498    10     20.097031  \n",
       "1499    9       1.802490  \n",
       "        10     17.371592  \n",
       "        11     17.542295  \n",
       "        12     12.749590  \n",
       "\n",
       "[3214 rows x 5 columns]"
      ]
     },
     "execution_count": 18,
     "metadata": {},
     "output_type": "execute_result"
    }
   ],
   "source": [
    "#заполним пропуски\n",
    "df_month[df_month['mb_used'].isna()==True] = 0\n",
    "df_month['mb_used'].isna().sum()\n",
    "\n",
    "# Перевод в GB\n",
    "df_month['gb_used'] = df_month['mb_used']/1024\n",
    "\n",
    "df_month"
   ]
  },
  {
   "cell_type": "code",
   "execution_count": 19,
   "metadata": {},
   "outputs": [],
   "source": [
    "gb_round = []\n",
    "\n",
    "for val in df_month['gb_used']:\n",
    "    gb_round.append(math.ceil(val))\n",
    "    \n",
    "df_month['gb_round'] = gb_round\n"
   ]
  },
  {
   "cell_type": "code",
   "execution_count": 20,
   "metadata": {},
   "outputs": [
    {
     "data": {
      "text/html": [
       "<div>\n",
       "<style scoped>\n",
       "    .dataframe tbody tr th:only-of-type {\n",
       "        vertical-align: middle;\n",
       "    }\n",
       "\n",
       "    .dataframe tbody tr th {\n",
       "        vertical-align: top;\n",
       "    }\n",
       "\n",
       "    .dataframe thead th {\n",
       "        text-align: right;\n",
       "    }\n",
       "</style>\n",
       "<table border=\"1\" class=\"dataframe\">\n",
       "  <thead>\n",
       "    <tr style=\"text-align: right;\">\n",
       "      <th></th>\n",
       "      <th></th>\n",
       "      <th>countduration_round</th>\n",
       "      <th>sumduration_round</th>\n",
       "      <th>id</th>\n",
       "      <th>mb_used</th>\n",
       "      <th>gb_used</th>\n",
       "      <th>gb_round</th>\n",
       "    </tr>\n",
       "    <tr>\n",
       "      <th>user_id</th>\n",
       "      <th>month</th>\n",
       "      <th></th>\n",
       "      <th></th>\n",
       "      <th></th>\n",
       "      <th></th>\n",
       "      <th></th>\n",
       "      <th></th>\n",
       "    </tr>\n",
       "  </thead>\n",
       "  <tbody>\n",
       "    <tr>\n",
       "      <th rowspan=\"5\" valign=\"top\">1000</th>\n",
       "      <th>5</th>\n",
       "      <td>22.0</td>\n",
       "      <td>159.0</td>\n",
       "      <td>22.0</td>\n",
       "      <td>2253.49</td>\n",
       "      <td>2.200674</td>\n",
       "      <td>3</td>\n",
       "    </tr>\n",
       "    <tr>\n",
       "      <th>6</th>\n",
       "      <td>43.0</td>\n",
       "      <td>172.0</td>\n",
       "      <td>60.0</td>\n",
       "      <td>23233.77</td>\n",
       "      <td>22.689229</td>\n",
       "      <td>23</td>\n",
       "    </tr>\n",
       "    <tr>\n",
       "      <th>7</th>\n",
       "      <td>47.0</td>\n",
       "      <td>340.0</td>\n",
       "      <td>75.0</td>\n",
       "      <td>14003.64</td>\n",
       "      <td>13.675430</td>\n",
       "      <td>14</td>\n",
       "    </tr>\n",
       "    <tr>\n",
       "      <th>8</th>\n",
       "      <td>52.0</td>\n",
       "      <td>408.0</td>\n",
       "      <td>81.0</td>\n",
       "      <td>14055.93</td>\n",
       "      <td>13.726494</td>\n",
       "      <td>14</td>\n",
       "    </tr>\n",
       "    <tr>\n",
       "      <th>9</th>\n",
       "      <td>58.0</td>\n",
       "      <td>466.0</td>\n",
       "      <td>57.0</td>\n",
       "      <td>14568.91</td>\n",
       "      <td>14.227451</td>\n",
       "      <td>15</td>\n",
       "    </tr>\n",
       "    <tr>\n",
       "      <th>...</th>\n",
       "      <th>...</th>\n",
       "      <td>...</td>\n",
       "      <td>...</td>\n",
       "      <td>...</td>\n",
       "      <td>...</td>\n",
       "      <td>...</td>\n",
       "      <td>...</td>\n",
       "    </tr>\n",
       "    <tr>\n",
       "      <th>1498</th>\n",
       "      <th>10</th>\n",
       "      <td>41.0</td>\n",
       "      <td>247.0</td>\n",
       "      <td>42.0</td>\n",
       "      <td>20579.36</td>\n",
       "      <td>20.097031</td>\n",
       "      <td>21</td>\n",
       "    </tr>\n",
       "    <tr>\n",
       "      <th rowspan=\"4\" valign=\"top\">1499</th>\n",
       "      <th>9</th>\n",
       "      <td>9.0</td>\n",
       "      <td>70.0</td>\n",
       "      <td>11.0</td>\n",
       "      <td>1845.75</td>\n",
       "      <td>1.802490</td>\n",
       "      <td>2</td>\n",
       "    </tr>\n",
       "    <tr>\n",
       "      <th>10</th>\n",
       "      <td>68.0</td>\n",
       "      <td>449.0</td>\n",
       "      <td>48.0</td>\n",
       "      <td>17788.51</td>\n",
       "      <td>17.371592</td>\n",
       "      <td>18</td>\n",
       "    </tr>\n",
       "    <tr>\n",
       "      <th>11</th>\n",
       "      <td>74.0</td>\n",
       "      <td>612.0</td>\n",
       "      <td>59.0</td>\n",
       "      <td>17963.31</td>\n",
       "      <td>17.542295</td>\n",
       "      <td>18</td>\n",
       "    </tr>\n",
       "    <tr>\n",
       "      <th>12</th>\n",
       "      <td>69.0</td>\n",
       "      <td>492.0</td>\n",
       "      <td>66.0</td>\n",
       "      <td>13055.58</td>\n",
       "      <td>12.749590</td>\n",
       "      <td>13</td>\n",
       "    </tr>\n",
       "  </tbody>\n",
       "</table>\n",
       "<p>3214 rows × 6 columns</p>\n",
       "</div>"
      ],
      "text/plain": [
       "               countduration_round  sumduration_round    id   mb_used  \\\n",
       "user_id month                                                           \n",
       "1000    5                     22.0              159.0  22.0   2253.49   \n",
       "        6                     43.0              172.0  60.0  23233.77   \n",
       "        7                     47.0              340.0  75.0  14003.64   \n",
       "        8                     52.0              408.0  81.0  14055.93   \n",
       "        9                     58.0              466.0  57.0  14568.91   \n",
       "...                            ...                ...   ...       ...   \n",
       "1498    10                    41.0              247.0  42.0  20579.36   \n",
       "1499    9                      9.0               70.0  11.0   1845.75   \n",
       "        10                    68.0              449.0  48.0  17788.51   \n",
       "        11                    74.0              612.0  59.0  17963.31   \n",
       "        12                    69.0              492.0  66.0  13055.58   \n",
       "\n",
       "                 gb_used  gb_round  \n",
       "user_id month                       \n",
       "1000    5       2.200674         3  \n",
       "        6      22.689229        23  \n",
       "        7      13.675430        14  \n",
       "        8      13.726494        14  \n",
       "        9      14.227451        15  \n",
       "...                  ...       ...  \n",
       "1498    10     20.097031        21  \n",
       "1499    9       1.802490         2  \n",
       "        10     17.371592        18  \n",
       "        11     17.542295        18  \n",
       "        12     12.749590        13  \n",
       "\n",
       "[3214 rows x 6 columns]"
      ]
     },
     "execution_count": 20,
     "metadata": {},
     "output_type": "execute_result"
    }
   ],
   "source": [
    "df_month.columns = list(map(\"\".join, df_month.columns))\n",
    "df_month"
   ]
  },
  {
   "cell_type": "code",
   "execution_count": 21,
   "metadata": {},
   "outputs": [],
   "source": [
    "month = []\n",
    "for i in range(len(df_month)):\n",
    "    month.append(df_month.index[i][1])\n",
    "\n",
    "df_month['month'] = month"
   ]
  },
  {
   "cell_type": "code",
   "execution_count": 22,
   "metadata": {},
   "outputs": [
    {
     "data": {
      "text/html": [
       "<div>\n",
       "<style scoped>\n",
       "    .dataframe tbody tr th:only-of-type {\n",
       "        vertical-align: middle;\n",
       "    }\n",
       "\n",
       "    .dataframe tbody tr th {\n",
       "        vertical-align: top;\n",
       "    }\n",
       "\n",
       "    .dataframe thead th {\n",
       "        text-align: right;\n",
       "    }\n",
       "</style>\n",
       "<table border=\"1\" class=\"dataframe\">\n",
       "  <thead>\n",
       "    <tr style=\"text-align: right;\">\n",
       "      <th></th>\n",
       "      <th>user_id</th>\n",
       "      <th>age</th>\n",
       "      <th>churn_date</th>\n",
       "      <th>city</th>\n",
       "      <th>first_name</th>\n",
       "      <th>last_name</th>\n",
       "      <th>reg_date</th>\n",
       "      <th>tariff</th>\n",
       "      <th>countduration_round</th>\n",
       "      <th>sumduration_round</th>\n",
       "      <th>id</th>\n",
       "      <th>mb_used</th>\n",
       "      <th>gb_used</th>\n",
       "      <th>gb_round</th>\n",
       "      <th>month</th>\n",
       "    </tr>\n",
       "  </thead>\n",
       "  <tbody>\n",
       "    <tr>\n",
       "      <th>0</th>\n",
       "      <td>1000</td>\n",
       "      <td>52</td>\n",
       "      <td>NaT</td>\n",
       "      <td>Краснодар</td>\n",
       "      <td>Рафаил</td>\n",
       "      <td>Верещагин</td>\n",
       "      <td>2018-05-25</td>\n",
       "      <td>ultra</td>\n",
       "      <td>22.0</td>\n",
       "      <td>159.0</td>\n",
       "      <td>22.0</td>\n",
       "      <td>2253.49</td>\n",
       "      <td>2.200674</td>\n",
       "      <td>3.0</td>\n",
       "      <td>5.0</td>\n",
       "    </tr>\n",
       "    <tr>\n",
       "      <th>1</th>\n",
       "      <td>1000</td>\n",
       "      <td>52</td>\n",
       "      <td>NaT</td>\n",
       "      <td>Краснодар</td>\n",
       "      <td>Рафаил</td>\n",
       "      <td>Верещагин</td>\n",
       "      <td>2018-05-25</td>\n",
       "      <td>ultra</td>\n",
       "      <td>43.0</td>\n",
       "      <td>172.0</td>\n",
       "      <td>60.0</td>\n",
       "      <td>23233.77</td>\n",
       "      <td>22.689229</td>\n",
       "      <td>23.0</td>\n",
       "      <td>6.0</td>\n",
       "    </tr>\n",
       "    <tr>\n",
       "      <th>2</th>\n",
       "      <td>1000</td>\n",
       "      <td>52</td>\n",
       "      <td>NaT</td>\n",
       "      <td>Краснодар</td>\n",
       "      <td>Рафаил</td>\n",
       "      <td>Верещагин</td>\n",
       "      <td>2018-05-25</td>\n",
       "      <td>ultra</td>\n",
       "      <td>47.0</td>\n",
       "      <td>340.0</td>\n",
       "      <td>75.0</td>\n",
       "      <td>14003.64</td>\n",
       "      <td>13.675430</td>\n",
       "      <td>14.0</td>\n",
       "      <td>7.0</td>\n",
       "    </tr>\n",
       "    <tr>\n",
       "      <th>3</th>\n",
       "      <td>1000</td>\n",
       "      <td>52</td>\n",
       "      <td>NaT</td>\n",
       "      <td>Краснодар</td>\n",
       "      <td>Рафаил</td>\n",
       "      <td>Верещагин</td>\n",
       "      <td>2018-05-25</td>\n",
       "      <td>ultra</td>\n",
       "      <td>52.0</td>\n",
       "      <td>408.0</td>\n",
       "      <td>81.0</td>\n",
       "      <td>14055.93</td>\n",
       "      <td>13.726494</td>\n",
       "      <td>14.0</td>\n",
       "      <td>8.0</td>\n",
       "    </tr>\n",
       "    <tr>\n",
       "      <th>4</th>\n",
       "      <td>1000</td>\n",
       "      <td>52</td>\n",
       "      <td>NaT</td>\n",
       "      <td>Краснодар</td>\n",
       "      <td>Рафаил</td>\n",
       "      <td>Верещагин</td>\n",
       "      <td>2018-05-25</td>\n",
       "      <td>ultra</td>\n",
       "      <td>58.0</td>\n",
       "      <td>466.0</td>\n",
       "      <td>57.0</td>\n",
       "      <td>14568.91</td>\n",
       "      <td>14.227451</td>\n",
       "      <td>15.0</td>\n",
       "      <td>9.0</td>\n",
       "    </tr>\n",
       "  </tbody>\n",
       "</table>\n",
       "</div>"
      ],
      "text/plain": [
       "   user_id  age churn_date       city first_name  last_name   reg_date tariff  \\\n",
       "0     1000   52        NaT  Краснодар     Рафаил  Верещагин 2018-05-25  ultra   \n",
       "1     1000   52        NaT  Краснодар     Рафаил  Верещагин 2018-05-25  ultra   \n",
       "2     1000   52        NaT  Краснодар     Рафаил  Верещагин 2018-05-25  ultra   \n",
       "3     1000   52        NaT  Краснодар     Рафаил  Верещагин 2018-05-25  ultra   \n",
       "4     1000   52        NaT  Краснодар     Рафаил  Верещагин 2018-05-25  ultra   \n",
       "\n",
       "   countduration_round  sumduration_round    id   mb_used    gb_used  \\\n",
       "0                 22.0              159.0  22.0   2253.49   2.200674   \n",
       "1                 43.0              172.0  60.0  23233.77  22.689229   \n",
       "2                 47.0              340.0  75.0  14003.64  13.675430   \n",
       "3                 52.0              408.0  81.0  14055.93  13.726494   \n",
       "4                 58.0              466.0  57.0  14568.91  14.227451   \n",
       "\n",
       "   gb_round  month  \n",
       "0       3.0    5.0  \n",
       "1      23.0    6.0  \n",
       "2      14.0    7.0  \n",
       "3      14.0    8.0  \n",
       "4      15.0    9.0  "
      ]
     },
     "execution_count": 22,
     "metadata": {},
     "output_type": "execute_result"
    }
   ],
   "source": [
    "df_all = users.merge(df_month,on='user_id',how = 'outer')\n",
    "df_all.head()"
   ]
  },
  {
   "cell_type": "code",
   "execution_count": 23,
   "metadata": {},
   "outputs": [],
   "source": [
    "df_all = df_all.rename(columns={\"tariff\": \"tariff_name\"})"
   ]
  },
  {
   "cell_type": "code",
   "execution_count": 24,
   "metadata": {},
   "outputs": [
    {
     "data": {
      "text/html": [
       "<div>\n",
       "<style scoped>\n",
       "    .dataframe tbody tr th:only-of-type {\n",
       "        vertical-align: middle;\n",
       "    }\n",
       "\n",
       "    .dataframe tbody tr th {\n",
       "        vertical-align: top;\n",
       "    }\n",
       "\n",
       "    .dataframe thead th {\n",
       "        text-align: right;\n",
       "    }\n",
       "</style>\n",
       "<table border=\"1\" class=\"dataframe\">\n",
       "  <thead>\n",
       "    <tr style=\"text-align: right;\">\n",
       "      <th></th>\n",
       "      <th>user_id</th>\n",
       "      <th>age</th>\n",
       "      <th>churn_date</th>\n",
       "      <th>city</th>\n",
       "      <th>first_name</th>\n",
       "      <th>last_name</th>\n",
       "      <th>reg_date</th>\n",
       "      <th>tariff_name</th>\n",
       "      <th>countduration_round</th>\n",
       "      <th>sumduration_round</th>\n",
       "      <th>id</th>\n",
       "      <th>mb_used</th>\n",
       "      <th>gb_used</th>\n",
       "      <th>gb_round</th>\n",
       "      <th>month</th>\n",
       "    </tr>\n",
       "  </thead>\n",
       "  <tbody>\n",
       "    <tr>\n",
       "      <th>0</th>\n",
       "      <td>1000</td>\n",
       "      <td>52</td>\n",
       "      <td>NaT</td>\n",
       "      <td>Краснодар</td>\n",
       "      <td>Рафаил</td>\n",
       "      <td>Верещагин</td>\n",
       "      <td>2018-05-25</td>\n",
       "      <td>ultra</td>\n",
       "      <td>22.0</td>\n",
       "      <td>159.0</td>\n",
       "      <td>22.0</td>\n",
       "      <td>2253.49</td>\n",
       "      <td>2.200674</td>\n",
       "      <td>3.0</td>\n",
       "      <td>5.0</td>\n",
       "    </tr>\n",
       "    <tr>\n",
       "      <th>1</th>\n",
       "      <td>1000</td>\n",
       "      <td>52</td>\n",
       "      <td>NaT</td>\n",
       "      <td>Краснодар</td>\n",
       "      <td>Рафаил</td>\n",
       "      <td>Верещагин</td>\n",
       "      <td>2018-05-25</td>\n",
       "      <td>ultra</td>\n",
       "      <td>43.0</td>\n",
       "      <td>172.0</td>\n",
       "      <td>60.0</td>\n",
       "      <td>23233.77</td>\n",
       "      <td>22.689229</td>\n",
       "      <td>23.0</td>\n",
       "      <td>6.0</td>\n",
       "    </tr>\n",
       "    <tr>\n",
       "      <th>2</th>\n",
       "      <td>1000</td>\n",
       "      <td>52</td>\n",
       "      <td>NaT</td>\n",
       "      <td>Краснодар</td>\n",
       "      <td>Рафаил</td>\n",
       "      <td>Верещагин</td>\n",
       "      <td>2018-05-25</td>\n",
       "      <td>ultra</td>\n",
       "      <td>47.0</td>\n",
       "      <td>340.0</td>\n",
       "      <td>75.0</td>\n",
       "      <td>14003.64</td>\n",
       "      <td>13.675430</td>\n",
       "      <td>14.0</td>\n",
       "      <td>7.0</td>\n",
       "    </tr>\n",
       "    <tr>\n",
       "      <th>3</th>\n",
       "      <td>1000</td>\n",
       "      <td>52</td>\n",
       "      <td>NaT</td>\n",
       "      <td>Краснодар</td>\n",
       "      <td>Рафаил</td>\n",
       "      <td>Верещагин</td>\n",
       "      <td>2018-05-25</td>\n",
       "      <td>ultra</td>\n",
       "      <td>52.0</td>\n",
       "      <td>408.0</td>\n",
       "      <td>81.0</td>\n",
       "      <td>14055.93</td>\n",
       "      <td>13.726494</td>\n",
       "      <td>14.0</td>\n",
       "      <td>8.0</td>\n",
       "    </tr>\n",
       "    <tr>\n",
       "      <th>4</th>\n",
       "      <td>1000</td>\n",
       "      <td>52</td>\n",
       "      <td>NaT</td>\n",
       "      <td>Краснодар</td>\n",
       "      <td>Рафаил</td>\n",
       "      <td>Верещагин</td>\n",
       "      <td>2018-05-25</td>\n",
       "      <td>ultra</td>\n",
       "      <td>58.0</td>\n",
       "      <td>466.0</td>\n",
       "      <td>57.0</td>\n",
       "      <td>14568.91</td>\n",
       "      <td>14.227451</td>\n",
       "      <td>15.0</td>\n",
       "      <td>9.0</td>\n",
       "    </tr>\n",
       "  </tbody>\n",
       "</table>\n",
       "</div>"
      ],
      "text/plain": [
       "   user_id  age churn_date       city first_name  last_name   reg_date  \\\n",
       "0     1000   52        NaT  Краснодар     Рафаил  Верещагин 2018-05-25   \n",
       "1     1000   52        NaT  Краснодар     Рафаил  Верещагин 2018-05-25   \n",
       "2     1000   52        NaT  Краснодар     Рафаил  Верещагин 2018-05-25   \n",
       "3     1000   52        NaT  Краснодар     Рафаил  Верещагин 2018-05-25   \n",
       "4     1000   52        NaT  Краснодар     Рафаил  Верещагин 2018-05-25   \n",
       "\n",
       "  tariff_name  countduration_round  sumduration_round    id   mb_used  \\\n",
       "0       ultra                 22.0              159.0  22.0   2253.49   \n",
       "1       ultra                 43.0              172.0  60.0  23233.77   \n",
       "2       ultra                 47.0              340.0  75.0  14003.64   \n",
       "3       ultra                 52.0              408.0  81.0  14055.93   \n",
       "4       ultra                 58.0              466.0  57.0  14568.91   \n",
       "\n",
       "     gb_used  gb_round  month  \n",
       "0   2.200674       3.0    5.0  \n",
       "1  22.689229      23.0    6.0  \n",
       "2  13.675430      14.0    7.0  \n",
       "3  13.726494      14.0    8.0  \n",
       "4  14.227451      15.0    9.0  "
      ]
     },
     "execution_count": 24,
     "metadata": {},
     "output_type": "execute_result"
    }
   ],
   "source": [
    "df_all.head()"
   ]
  },
  {
   "cell_type": "code",
   "execution_count": 25,
   "metadata": {},
   "outputs": [
    {
     "data": {
      "text/html": [
       "<div>\n",
       "<style scoped>\n",
       "    .dataframe tbody tr th:only-of-type {\n",
       "        vertical-align: middle;\n",
       "    }\n",
       "\n",
       "    .dataframe tbody tr th {\n",
       "        vertical-align: top;\n",
       "    }\n",
       "\n",
       "    .dataframe thead th {\n",
       "        text-align: right;\n",
       "    }\n",
       "</style>\n",
       "<table border=\"1\" class=\"dataframe\">\n",
       "  <thead>\n",
       "    <tr style=\"text-align: right;\">\n",
       "      <th></th>\n",
       "      <th>user_id</th>\n",
       "      <th>age</th>\n",
       "      <th>churn_date</th>\n",
       "      <th>city</th>\n",
       "      <th>first_name</th>\n",
       "      <th>last_name</th>\n",
       "      <th>reg_date</th>\n",
       "      <th>tariff_name</th>\n",
       "      <th>countduration_round</th>\n",
       "      <th>sumduration_round</th>\n",
       "      <th>...</th>\n",
       "      <th>gb_used</th>\n",
       "      <th>gb_round</th>\n",
       "      <th>month</th>\n",
       "      <th>messages_included</th>\n",
       "      <th>mb_per_month_included</th>\n",
       "      <th>minutes_included</th>\n",
       "      <th>rub_monthly_fee</th>\n",
       "      <th>rub_per_gb</th>\n",
       "      <th>rub_per_message</th>\n",
       "      <th>rub_per_minute</th>\n",
       "    </tr>\n",
       "  </thead>\n",
       "  <tbody>\n",
       "    <tr>\n",
       "      <th>0</th>\n",
       "      <td>1000</td>\n",
       "      <td>52</td>\n",
       "      <td>NaT</td>\n",
       "      <td>Краснодар</td>\n",
       "      <td>Рафаил</td>\n",
       "      <td>Верещагин</td>\n",
       "      <td>2018-05-25</td>\n",
       "      <td>ultra</td>\n",
       "      <td>22.0</td>\n",
       "      <td>159.0</td>\n",
       "      <td>...</td>\n",
       "      <td>2.200674</td>\n",
       "      <td>3.0</td>\n",
       "      <td>5.0</td>\n",
       "      <td>1000</td>\n",
       "      <td>30720</td>\n",
       "      <td>3000</td>\n",
       "      <td>1950</td>\n",
       "      <td>150</td>\n",
       "      <td>1</td>\n",
       "      <td>1</td>\n",
       "    </tr>\n",
       "    <tr>\n",
       "      <th>1</th>\n",
       "      <td>1000</td>\n",
       "      <td>52</td>\n",
       "      <td>NaT</td>\n",
       "      <td>Краснодар</td>\n",
       "      <td>Рафаил</td>\n",
       "      <td>Верещагин</td>\n",
       "      <td>2018-05-25</td>\n",
       "      <td>ultra</td>\n",
       "      <td>43.0</td>\n",
       "      <td>172.0</td>\n",
       "      <td>...</td>\n",
       "      <td>22.689229</td>\n",
       "      <td>23.0</td>\n",
       "      <td>6.0</td>\n",
       "      <td>1000</td>\n",
       "      <td>30720</td>\n",
       "      <td>3000</td>\n",
       "      <td>1950</td>\n",
       "      <td>150</td>\n",
       "      <td>1</td>\n",
       "      <td>1</td>\n",
       "    </tr>\n",
       "    <tr>\n",
       "      <th>2</th>\n",
       "      <td>1000</td>\n",
       "      <td>52</td>\n",
       "      <td>NaT</td>\n",
       "      <td>Краснодар</td>\n",
       "      <td>Рафаил</td>\n",
       "      <td>Верещагин</td>\n",
       "      <td>2018-05-25</td>\n",
       "      <td>ultra</td>\n",
       "      <td>47.0</td>\n",
       "      <td>340.0</td>\n",
       "      <td>...</td>\n",
       "      <td>13.675430</td>\n",
       "      <td>14.0</td>\n",
       "      <td>7.0</td>\n",
       "      <td>1000</td>\n",
       "      <td>30720</td>\n",
       "      <td>3000</td>\n",
       "      <td>1950</td>\n",
       "      <td>150</td>\n",
       "      <td>1</td>\n",
       "      <td>1</td>\n",
       "    </tr>\n",
       "    <tr>\n",
       "      <th>3</th>\n",
       "      <td>1000</td>\n",
       "      <td>52</td>\n",
       "      <td>NaT</td>\n",
       "      <td>Краснодар</td>\n",
       "      <td>Рафаил</td>\n",
       "      <td>Верещагин</td>\n",
       "      <td>2018-05-25</td>\n",
       "      <td>ultra</td>\n",
       "      <td>52.0</td>\n",
       "      <td>408.0</td>\n",
       "      <td>...</td>\n",
       "      <td>13.726494</td>\n",
       "      <td>14.0</td>\n",
       "      <td>8.0</td>\n",
       "      <td>1000</td>\n",
       "      <td>30720</td>\n",
       "      <td>3000</td>\n",
       "      <td>1950</td>\n",
       "      <td>150</td>\n",
       "      <td>1</td>\n",
       "      <td>1</td>\n",
       "    </tr>\n",
       "    <tr>\n",
       "      <th>4</th>\n",
       "      <td>1000</td>\n",
       "      <td>52</td>\n",
       "      <td>NaT</td>\n",
       "      <td>Краснодар</td>\n",
       "      <td>Рафаил</td>\n",
       "      <td>Верещагин</td>\n",
       "      <td>2018-05-25</td>\n",
       "      <td>ultra</td>\n",
       "      <td>58.0</td>\n",
       "      <td>466.0</td>\n",
       "      <td>...</td>\n",
       "      <td>14.227451</td>\n",
       "      <td>15.0</td>\n",
       "      <td>9.0</td>\n",
       "      <td>1000</td>\n",
       "      <td>30720</td>\n",
       "      <td>3000</td>\n",
       "      <td>1950</td>\n",
       "      <td>150</td>\n",
       "      <td>1</td>\n",
       "      <td>1</td>\n",
       "    </tr>\n",
       "  </tbody>\n",
       "</table>\n",
       "<p>5 rows × 22 columns</p>\n",
       "</div>"
      ],
      "text/plain": [
       "   user_id  age churn_date       city first_name  last_name   reg_date  \\\n",
       "0     1000   52        NaT  Краснодар     Рафаил  Верещагин 2018-05-25   \n",
       "1     1000   52        NaT  Краснодар     Рафаил  Верещагин 2018-05-25   \n",
       "2     1000   52        NaT  Краснодар     Рафаил  Верещагин 2018-05-25   \n",
       "3     1000   52        NaT  Краснодар     Рафаил  Верещагин 2018-05-25   \n",
       "4     1000   52        NaT  Краснодар     Рафаил  Верещагин 2018-05-25   \n",
       "\n",
       "  tariff_name  countduration_round  sumduration_round  ...    gb_used  \\\n",
       "0       ultra                 22.0              159.0  ...   2.200674   \n",
       "1       ultra                 43.0              172.0  ...  22.689229   \n",
       "2       ultra                 47.0              340.0  ...  13.675430   \n",
       "3       ultra                 52.0              408.0  ...  13.726494   \n",
       "4       ultra                 58.0              466.0  ...  14.227451   \n",
       "\n",
       "   gb_round  month  messages_included  mb_per_month_included  \\\n",
       "0       3.0    5.0               1000                  30720   \n",
       "1      23.0    6.0               1000                  30720   \n",
       "2      14.0    7.0               1000                  30720   \n",
       "3      14.0    8.0               1000                  30720   \n",
       "4      15.0    9.0               1000                  30720   \n",
       "\n",
       "   minutes_included  rub_monthly_fee  rub_per_gb  rub_per_message  \\\n",
       "0              3000             1950         150                1   \n",
       "1              3000             1950         150                1   \n",
       "2              3000             1950         150                1   \n",
       "3              3000             1950         150                1   \n",
       "4              3000             1950         150                1   \n",
       "\n",
       "   rub_per_minute  \n",
       "0               1  \n",
       "1               1  \n",
       "2               1  \n",
       "3               1  \n",
       "4               1  \n",
       "\n",
       "[5 rows x 22 columns]"
      ]
     },
     "execution_count": 25,
     "metadata": {},
     "output_type": "execute_result"
    }
   ],
   "source": [
    "# Объеденим таблицы\n",
    "\n",
    "\n",
    "df_all = df_all.merge(tariffs,on='tariff_name',how = 'left')\n",
    "df_all.head()"
   ]
  },
  {
   "cell_type": "code",
   "execution_count": 26,
   "metadata": {},
   "outputs": [
    {
     "data": {
      "text/html": [
       "<div>\n",
       "<style scoped>\n",
       "    .dataframe tbody tr th:only-of-type {\n",
       "        vertical-align: middle;\n",
       "    }\n",
       "\n",
       "    .dataframe tbody tr th {\n",
       "        vertical-align: top;\n",
       "    }\n",
       "\n",
       "    .dataframe thead th {\n",
       "        text-align: right;\n",
       "    }\n",
       "</style>\n",
       "<table border=\"1\" class=\"dataframe\">\n",
       "  <thead>\n",
       "    <tr style=\"text-align: right;\">\n",
       "      <th></th>\n",
       "      <th>user_id</th>\n",
       "      <th>age</th>\n",
       "      <th>churn_date</th>\n",
       "      <th>city</th>\n",
       "      <th>first_name</th>\n",
       "      <th>last_name</th>\n",
       "      <th>reg_date</th>\n",
       "      <th>tariff_name</th>\n",
       "      <th>countduration_round</th>\n",
       "      <th>sumduration_round</th>\n",
       "      <th>...</th>\n",
       "      <th>messages_included</th>\n",
       "      <th>mb_per_month_included</th>\n",
       "      <th>minutes_included</th>\n",
       "      <th>rub_monthly_fee</th>\n",
       "      <th>rub_per_gb</th>\n",
       "      <th>rub_per_message</th>\n",
       "      <th>rub_per_minute</th>\n",
       "      <th>differences_cals</th>\n",
       "      <th>differences_messages</th>\n",
       "      <th>differences_internet</th>\n",
       "    </tr>\n",
       "  </thead>\n",
       "  <tbody>\n",
       "    <tr>\n",
       "      <th>0</th>\n",
       "      <td>1000</td>\n",
       "      <td>52</td>\n",
       "      <td>NaT</td>\n",
       "      <td>Краснодар</td>\n",
       "      <td>Рафаил</td>\n",
       "      <td>Верещагин</td>\n",
       "      <td>2018-05-25</td>\n",
       "      <td>ultra</td>\n",
       "      <td>22.0</td>\n",
       "      <td>159.0</td>\n",
       "      <td>...</td>\n",
       "      <td>1000</td>\n",
       "      <td>30720</td>\n",
       "      <td>3000</td>\n",
       "      <td>1950</td>\n",
       "      <td>150</td>\n",
       "      <td>1</td>\n",
       "      <td>1</td>\n",
       "      <td>-2841.0</td>\n",
       "      <td>-978.0</td>\n",
       "      <td>-27.0</td>\n",
       "    </tr>\n",
       "    <tr>\n",
       "      <th>1</th>\n",
       "      <td>1000</td>\n",
       "      <td>52</td>\n",
       "      <td>NaT</td>\n",
       "      <td>Краснодар</td>\n",
       "      <td>Рафаил</td>\n",
       "      <td>Верещагин</td>\n",
       "      <td>2018-05-25</td>\n",
       "      <td>ultra</td>\n",
       "      <td>43.0</td>\n",
       "      <td>172.0</td>\n",
       "      <td>...</td>\n",
       "      <td>1000</td>\n",
       "      <td>30720</td>\n",
       "      <td>3000</td>\n",
       "      <td>1950</td>\n",
       "      <td>150</td>\n",
       "      <td>1</td>\n",
       "      <td>1</td>\n",
       "      <td>-2828.0</td>\n",
       "      <td>-940.0</td>\n",
       "      <td>-7.0</td>\n",
       "    </tr>\n",
       "    <tr>\n",
       "      <th>2</th>\n",
       "      <td>1000</td>\n",
       "      <td>52</td>\n",
       "      <td>NaT</td>\n",
       "      <td>Краснодар</td>\n",
       "      <td>Рафаил</td>\n",
       "      <td>Верещагин</td>\n",
       "      <td>2018-05-25</td>\n",
       "      <td>ultra</td>\n",
       "      <td>47.0</td>\n",
       "      <td>340.0</td>\n",
       "      <td>...</td>\n",
       "      <td>1000</td>\n",
       "      <td>30720</td>\n",
       "      <td>3000</td>\n",
       "      <td>1950</td>\n",
       "      <td>150</td>\n",
       "      <td>1</td>\n",
       "      <td>1</td>\n",
       "      <td>-2660.0</td>\n",
       "      <td>-925.0</td>\n",
       "      <td>-16.0</td>\n",
       "    </tr>\n",
       "    <tr>\n",
       "      <th>3</th>\n",
       "      <td>1000</td>\n",
       "      <td>52</td>\n",
       "      <td>NaT</td>\n",
       "      <td>Краснодар</td>\n",
       "      <td>Рафаил</td>\n",
       "      <td>Верещагин</td>\n",
       "      <td>2018-05-25</td>\n",
       "      <td>ultra</td>\n",
       "      <td>52.0</td>\n",
       "      <td>408.0</td>\n",
       "      <td>...</td>\n",
       "      <td>1000</td>\n",
       "      <td>30720</td>\n",
       "      <td>3000</td>\n",
       "      <td>1950</td>\n",
       "      <td>150</td>\n",
       "      <td>1</td>\n",
       "      <td>1</td>\n",
       "      <td>-2592.0</td>\n",
       "      <td>-919.0</td>\n",
       "      <td>-16.0</td>\n",
       "    </tr>\n",
       "    <tr>\n",
       "      <th>4</th>\n",
       "      <td>1000</td>\n",
       "      <td>52</td>\n",
       "      <td>NaT</td>\n",
       "      <td>Краснодар</td>\n",
       "      <td>Рафаил</td>\n",
       "      <td>Верещагин</td>\n",
       "      <td>2018-05-25</td>\n",
       "      <td>ultra</td>\n",
       "      <td>58.0</td>\n",
       "      <td>466.0</td>\n",
       "      <td>...</td>\n",
       "      <td>1000</td>\n",
       "      <td>30720</td>\n",
       "      <td>3000</td>\n",
       "      <td>1950</td>\n",
       "      <td>150</td>\n",
       "      <td>1</td>\n",
       "      <td>1</td>\n",
       "      <td>-2534.0</td>\n",
       "      <td>-943.0</td>\n",
       "      <td>-15.0</td>\n",
       "    </tr>\n",
       "    <tr>\n",
       "      <th>...</th>\n",
       "      <td>...</td>\n",
       "      <td>...</td>\n",
       "      <td>...</td>\n",
       "      <td>...</td>\n",
       "      <td>...</td>\n",
       "      <td>...</td>\n",
       "      <td>...</td>\n",
       "      <td>...</td>\n",
       "      <td>...</td>\n",
       "      <td>...</td>\n",
       "      <td>...</td>\n",
       "      <td>...</td>\n",
       "      <td>...</td>\n",
       "      <td>...</td>\n",
       "      <td>...</td>\n",
       "      <td>...</td>\n",
       "      <td>...</td>\n",
       "      <td>...</td>\n",
       "      <td>...</td>\n",
       "      <td>...</td>\n",
       "      <td>...</td>\n",
       "    </tr>\n",
       "    <tr>\n",
       "      <th>3211</th>\n",
       "      <td>1498</td>\n",
       "      <td>68</td>\n",
       "      <td>2018-10-25</td>\n",
       "      <td>Владикавказ</td>\n",
       "      <td>Всеволод</td>\n",
       "      <td>Акимчин</td>\n",
       "      <td>2018-07-19</td>\n",
       "      <td>smart</td>\n",
       "      <td>41.0</td>\n",
       "      <td>247.0</td>\n",
       "      <td>...</td>\n",
       "      <td>50</td>\n",
       "      <td>15360</td>\n",
       "      <td>500</td>\n",
       "      <td>550</td>\n",
       "      <td>200</td>\n",
       "      <td>3</td>\n",
       "      <td>3</td>\n",
       "      <td>-253.0</td>\n",
       "      <td>-8.0</td>\n",
       "      <td>6.0</td>\n",
       "    </tr>\n",
       "    <tr>\n",
       "      <th>3212</th>\n",
       "      <td>1499</td>\n",
       "      <td>35</td>\n",
       "      <td>NaT</td>\n",
       "      <td>Пермь</td>\n",
       "      <td>Гектор</td>\n",
       "      <td>Корнилов</td>\n",
       "      <td>2018-09-27</td>\n",
       "      <td>smart</td>\n",
       "      <td>9.0</td>\n",
       "      <td>70.0</td>\n",
       "      <td>...</td>\n",
       "      <td>50</td>\n",
       "      <td>15360</td>\n",
       "      <td>500</td>\n",
       "      <td>550</td>\n",
       "      <td>200</td>\n",
       "      <td>3</td>\n",
       "      <td>3</td>\n",
       "      <td>-430.0</td>\n",
       "      <td>-39.0</td>\n",
       "      <td>-13.0</td>\n",
       "    </tr>\n",
       "    <tr>\n",
       "      <th>3213</th>\n",
       "      <td>1499</td>\n",
       "      <td>35</td>\n",
       "      <td>NaT</td>\n",
       "      <td>Пермь</td>\n",
       "      <td>Гектор</td>\n",
       "      <td>Корнилов</td>\n",
       "      <td>2018-09-27</td>\n",
       "      <td>smart</td>\n",
       "      <td>68.0</td>\n",
       "      <td>449.0</td>\n",
       "      <td>...</td>\n",
       "      <td>50</td>\n",
       "      <td>15360</td>\n",
       "      <td>500</td>\n",
       "      <td>550</td>\n",
       "      <td>200</td>\n",
       "      <td>3</td>\n",
       "      <td>3</td>\n",
       "      <td>-51.0</td>\n",
       "      <td>-2.0</td>\n",
       "      <td>3.0</td>\n",
       "    </tr>\n",
       "    <tr>\n",
       "      <th>3214</th>\n",
       "      <td>1499</td>\n",
       "      <td>35</td>\n",
       "      <td>NaT</td>\n",
       "      <td>Пермь</td>\n",
       "      <td>Гектор</td>\n",
       "      <td>Корнилов</td>\n",
       "      <td>2018-09-27</td>\n",
       "      <td>smart</td>\n",
       "      <td>74.0</td>\n",
       "      <td>612.0</td>\n",
       "      <td>...</td>\n",
       "      <td>50</td>\n",
       "      <td>15360</td>\n",
       "      <td>500</td>\n",
       "      <td>550</td>\n",
       "      <td>200</td>\n",
       "      <td>3</td>\n",
       "      <td>3</td>\n",
       "      <td>112.0</td>\n",
       "      <td>9.0</td>\n",
       "      <td>3.0</td>\n",
       "    </tr>\n",
       "    <tr>\n",
       "      <th>3215</th>\n",
       "      <td>1499</td>\n",
       "      <td>35</td>\n",
       "      <td>NaT</td>\n",
       "      <td>Пермь</td>\n",
       "      <td>Гектор</td>\n",
       "      <td>Корнилов</td>\n",
       "      <td>2018-09-27</td>\n",
       "      <td>smart</td>\n",
       "      <td>69.0</td>\n",
       "      <td>492.0</td>\n",
       "      <td>...</td>\n",
       "      <td>50</td>\n",
       "      <td>15360</td>\n",
       "      <td>500</td>\n",
       "      <td>550</td>\n",
       "      <td>200</td>\n",
       "      <td>3</td>\n",
       "      <td>3</td>\n",
       "      <td>-8.0</td>\n",
       "      <td>16.0</td>\n",
       "      <td>-2.0</td>\n",
       "    </tr>\n",
       "  </tbody>\n",
       "</table>\n",
       "<p>3216 rows × 25 columns</p>\n",
       "</div>"
      ],
      "text/plain": [
       "      user_id  age churn_date         city first_name  last_name   reg_date  \\\n",
       "0        1000   52        NaT    Краснодар     Рафаил  Верещагин 2018-05-25   \n",
       "1        1000   52        NaT    Краснодар     Рафаил  Верещагин 2018-05-25   \n",
       "2        1000   52        NaT    Краснодар     Рафаил  Верещагин 2018-05-25   \n",
       "3        1000   52        NaT    Краснодар     Рафаил  Верещагин 2018-05-25   \n",
       "4        1000   52        NaT    Краснодар     Рафаил  Верещагин 2018-05-25   \n",
       "...       ...  ...        ...          ...        ...        ...        ...   \n",
       "3211     1498   68 2018-10-25  Владикавказ   Всеволод    Акимчин 2018-07-19   \n",
       "3212     1499   35        NaT        Пермь     Гектор   Корнилов 2018-09-27   \n",
       "3213     1499   35        NaT        Пермь     Гектор   Корнилов 2018-09-27   \n",
       "3214     1499   35        NaT        Пермь     Гектор   Корнилов 2018-09-27   \n",
       "3215     1499   35        NaT        Пермь     Гектор   Корнилов 2018-09-27   \n",
       "\n",
       "     tariff_name  countduration_round  sumduration_round  ...  \\\n",
       "0          ultra                 22.0              159.0  ...   \n",
       "1          ultra                 43.0              172.0  ...   \n",
       "2          ultra                 47.0              340.0  ...   \n",
       "3          ultra                 52.0              408.0  ...   \n",
       "4          ultra                 58.0              466.0  ...   \n",
       "...          ...                  ...                ...  ...   \n",
       "3211       smart                 41.0              247.0  ...   \n",
       "3212       smart                  9.0               70.0  ...   \n",
       "3213       smart                 68.0              449.0  ...   \n",
       "3214       smart                 74.0              612.0  ...   \n",
       "3215       smart                 69.0              492.0  ...   \n",
       "\n",
       "      messages_included  mb_per_month_included  minutes_included  \\\n",
       "0                  1000                  30720              3000   \n",
       "1                  1000                  30720              3000   \n",
       "2                  1000                  30720              3000   \n",
       "3                  1000                  30720              3000   \n",
       "4                  1000                  30720              3000   \n",
       "...                 ...                    ...               ...   \n",
       "3211                 50                  15360               500   \n",
       "3212                 50                  15360               500   \n",
       "3213                 50                  15360               500   \n",
       "3214                 50                  15360               500   \n",
       "3215                 50                  15360               500   \n",
       "\n",
       "      rub_monthly_fee  rub_per_gb  rub_per_message  rub_per_minute  \\\n",
       "0                1950         150                1               1   \n",
       "1                1950         150                1               1   \n",
       "2                1950         150                1               1   \n",
       "3                1950         150                1               1   \n",
       "4                1950         150                1               1   \n",
       "...               ...         ...              ...             ...   \n",
       "3211              550         200                3               3   \n",
       "3212              550         200                3               3   \n",
       "3213              550         200                3               3   \n",
       "3214              550         200                3               3   \n",
       "3215              550         200                3               3   \n",
       "\n",
       "      differences_cals  differences_messages  differences_internet  \n",
       "0              -2841.0                -978.0                 -27.0  \n",
       "1              -2828.0                -940.0                  -7.0  \n",
       "2              -2660.0                -925.0                 -16.0  \n",
       "3              -2592.0                -919.0                 -16.0  \n",
       "4              -2534.0                -943.0                 -15.0  \n",
       "...                ...                   ...                   ...  \n",
       "3211            -253.0                  -8.0                   6.0  \n",
       "3212            -430.0                 -39.0                 -13.0  \n",
       "3213             -51.0                  -2.0                   3.0  \n",
       "3214             112.0                   9.0                   3.0  \n",
       "3215              -8.0                  16.0                  -2.0  \n",
       "\n",
       "[3216 rows x 25 columns]"
      ]
     },
     "execution_count": 26,
     "metadata": {},
     "output_type": "execute_result"
    }
   ],
   "source": [
    "# считаем разницу между использованными и предоставляемыми тарифом ресурсы\n",
    "\n",
    "df_all['differences_cals'] = df_all['sumduration_round'] - df_all['minutes_included']\n",
    "df_all['differences_messages'] = df_all['id'] - df_all['messages_included']\n",
    "df_all['differences_internet'] = df_all['gb_round'] - df_all['mb_per_month_included']/1024\n",
    "\n",
    "\n",
    "df_all"
   ]
  },
  {
   "cell_type": "code",
   "execution_count": 27,
   "metadata": {},
   "outputs": [
    {
     "data": {
      "text/html": [
       "<div>\n",
       "<style scoped>\n",
       "    .dataframe tbody tr th:only-of-type {\n",
       "        vertical-align: middle;\n",
       "    }\n",
       "\n",
       "    .dataframe tbody tr th {\n",
       "        vertical-align: top;\n",
       "    }\n",
       "\n",
       "    .dataframe thead th {\n",
       "        text-align: right;\n",
       "    }\n",
       "</style>\n",
       "<table border=\"1\" class=\"dataframe\">\n",
       "  <thead>\n",
       "    <tr style=\"text-align: right;\">\n",
       "      <th></th>\n",
       "      <th>user_id</th>\n",
       "      <th>age</th>\n",
       "      <th>churn_date</th>\n",
       "      <th>city</th>\n",
       "      <th>first_name</th>\n",
       "      <th>last_name</th>\n",
       "      <th>reg_date</th>\n",
       "      <th>tariff_name</th>\n",
       "      <th>countduration_round</th>\n",
       "      <th>sumduration_round</th>\n",
       "      <th>...</th>\n",
       "      <th>rub_monthly_fee</th>\n",
       "      <th>rub_per_gb</th>\n",
       "      <th>rub_per_message</th>\n",
       "      <th>rub_per_minute</th>\n",
       "      <th>differences_cals</th>\n",
       "      <th>differences_messages</th>\n",
       "      <th>differences_internet</th>\n",
       "      <th>calls_income</th>\n",
       "      <th>messages_income</th>\n",
       "      <th>internet_income</th>\n",
       "    </tr>\n",
       "  </thead>\n",
       "  <tbody>\n",
       "    <tr>\n",
       "      <th>32</th>\n",
       "      <td>1005</td>\n",
       "      <td>67</td>\n",
       "      <td>NaT</td>\n",
       "      <td>Набережные Челны</td>\n",
       "      <td>Афанасий</td>\n",
       "      <td>Горлов</td>\n",
       "      <td>2018-01-25</td>\n",
       "      <td>smart</td>\n",
       "      <td>77.0</td>\n",
       "      <td>606.0</td>\n",
       "      <td>...</td>\n",
       "      <td>550</td>\n",
       "      <td>200</td>\n",
       "      <td>3</td>\n",
       "      <td>3</td>\n",
       "      <td>106.0</td>\n",
       "      <td>6.0</td>\n",
       "      <td>-4.0</td>\n",
       "      <td>318.0</td>\n",
       "      <td>18.0</td>\n",
       "      <td>NaN</td>\n",
       "    </tr>\n",
       "    <tr>\n",
       "      <th>33</th>\n",
       "      <td>1005</td>\n",
       "      <td>67</td>\n",
       "      <td>NaT</td>\n",
       "      <td>Набережные Челны</td>\n",
       "      <td>Афанасий</td>\n",
       "      <td>Горлов</td>\n",
       "      <td>2018-01-25</td>\n",
       "      <td>smart</td>\n",
       "      <td>101.0</td>\n",
       "      <td>712.0</td>\n",
       "      <td>...</td>\n",
       "      <td>550</td>\n",
       "      <td>200</td>\n",
       "      <td>3</td>\n",
       "      <td>3</td>\n",
       "      <td>212.0</td>\n",
       "      <td>-9.0</td>\n",
       "      <td>-5.0</td>\n",
       "      <td>636.0</td>\n",
       "      <td>NaN</td>\n",
       "      <td>NaN</td>\n",
       "    </tr>\n",
       "    <tr>\n",
       "      <th>34</th>\n",
       "      <td>1005</td>\n",
       "      <td>67</td>\n",
       "      <td>NaT</td>\n",
       "      <td>Набережные Челны</td>\n",
       "      <td>Афанасий</td>\n",
       "      <td>Горлов</td>\n",
       "      <td>2018-01-25</td>\n",
       "      <td>smart</td>\n",
       "      <td>73.0</td>\n",
       "      <td>595.0</td>\n",
       "      <td>...</td>\n",
       "      <td>550</td>\n",
       "      <td>200</td>\n",
       "      <td>3</td>\n",
       "      <td>3</td>\n",
       "      <td>95.0</td>\n",
       "      <td>-8.0</td>\n",
       "      <td>-7.0</td>\n",
       "      <td>285.0</td>\n",
       "      <td>NaN</td>\n",
       "      <td>NaN</td>\n",
       "    </tr>\n",
       "    <tr>\n",
       "      <th>35</th>\n",
       "      <td>1005</td>\n",
       "      <td>67</td>\n",
       "      <td>NaT</td>\n",
       "      <td>Набережные Челны</td>\n",
       "      <td>Афанасий</td>\n",
       "      <td>Горлов</td>\n",
       "      <td>2018-01-25</td>\n",
       "      <td>smart</td>\n",
       "      <td>80.0</td>\n",
       "      <td>612.0</td>\n",
       "      <td>...</td>\n",
       "      <td>550</td>\n",
       "      <td>200</td>\n",
       "      <td>3</td>\n",
       "      <td>3</td>\n",
       "      <td>112.0</td>\n",
       "      <td>-3.0</td>\n",
       "      <td>-5.0</td>\n",
       "      <td>336.0</td>\n",
       "      <td>NaN</td>\n",
       "      <td>NaN</td>\n",
       "    </tr>\n",
       "    <tr>\n",
       "      <th>36</th>\n",
       "      <td>1005</td>\n",
       "      <td>67</td>\n",
       "      <td>NaT</td>\n",
       "      <td>Набережные Челны</td>\n",
       "      <td>Афанасий</td>\n",
       "      <td>Горлов</td>\n",
       "      <td>2018-01-25</td>\n",
       "      <td>smart</td>\n",
       "      <td>77.0</td>\n",
       "      <td>569.0</td>\n",
       "      <td>...</td>\n",
       "      <td>550</td>\n",
       "      <td>200</td>\n",
       "      <td>3</td>\n",
       "      <td>3</td>\n",
       "      <td>69.0</td>\n",
       "      <td>6.0</td>\n",
       "      <td>-7.0</td>\n",
       "      <td>207.0</td>\n",
       "      <td>18.0</td>\n",
       "      <td>NaN</td>\n",
       "    </tr>\n",
       "    <tr>\n",
       "      <th>...</th>\n",
       "      <td>...</td>\n",
       "      <td>...</td>\n",
       "      <td>...</td>\n",
       "      <td>...</td>\n",
       "      <td>...</td>\n",
       "      <td>...</td>\n",
       "      <td>...</td>\n",
       "      <td>...</td>\n",
       "      <td>...</td>\n",
       "      <td>...</td>\n",
       "      <td>...</td>\n",
       "      <td>...</td>\n",
       "      <td>...</td>\n",
       "      <td>...</td>\n",
       "      <td>...</td>\n",
       "      <td>...</td>\n",
       "      <td>...</td>\n",
       "      <td>...</td>\n",
       "      <td>...</td>\n",
       "      <td>...</td>\n",
       "      <td>...</td>\n",
       "    </tr>\n",
       "    <tr>\n",
       "      <th>3200</th>\n",
       "      <td>1496</td>\n",
       "      <td>36</td>\n",
       "      <td>NaT</td>\n",
       "      <td>Вологда</td>\n",
       "      <td>Трифон</td>\n",
       "      <td>Блохин</td>\n",
       "      <td>2018-01-27</td>\n",
       "      <td>smart</td>\n",
       "      <td>88.0</td>\n",
       "      <td>527.0</td>\n",
       "      <td>...</td>\n",
       "      <td>550</td>\n",
       "      <td>200</td>\n",
       "      <td>3</td>\n",
       "      <td>3</td>\n",
       "      <td>27.0</td>\n",
       "      <td>-9.0</td>\n",
       "      <td>8.0</td>\n",
       "      <td>81.0</td>\n",
       "      <td>NaN</td>\n",
       "      <td>1600.0</td>\n",
       "    </tr>\n",
       "    <tr>\n",
       "      <th>3203</th>\n",
       "      <td>1496</td>\n",
       "      <td>36</td>\n",
       "      <td>NaT</td>\n",
       "      <td>Вологда</td>\n",
       "      <td>Трифон</td>\n",
       "      <td>Блохин</td>\n",
       "      <td>2018-01-27</td>\n",
       "      <td>smart</td>\n",
       "      <td>80.0</td>\n",
       "      <td>662.0</td>\n",
       "      <td>...</td>\n",
       "      <td>550</td>\n",
       "      <td>200</td>\n",
       "      <td>3</td>\n",
       "      <td>3</td>\n",
       "      <td>162.0</td>\n",
       "      <td>-4.0</td>\n",
       "      <td>10.0</td>\n",
       "      <td>486.0</td>\n",
       "      <td>NaN</td>\n",
       "      <td>2000.0</td>\n",
       "    </tr>\n",
       "    <tr>\n",
       "      <th>3204</th>\n",
       "      <td>1496</td>\n",
       "      <td>36</td>\n",
       "      <td>NaT</td>\n",
       "      <td>Вологда</td>\n",
       "      <td>Трифон</td>\n",
       "      <td>Блохин</td>\n",
       "      <td>2018-01-27</td>\n",
       "      <td>smart</td>\n",
       "      <td>80.0</td>\n",
       "      <td>518.0</td>\n",
       "      <td>...</td>\n",
       "      <td>550</td>\n",
       "      <td>200</td>\n",
       "      <td>3</td>\n",
       "      <td>3</td>\n",
       "      <td>18.0</td>\n",
       "      <td>1.0</td>\n",
       "      <td>6.0</td>\n",
       "      <td>54.0</td>\n",
       "      <td>3.0</td>\n",
       "      <td>1200.0</td>\n",
       "    </tr>\n",
       "    <tr>\n",
       "      <th>3207</th>\n",
       "      <td>1497</td>\n",
       "      <td>32</td>\n",
       "      <td>NaT</td>\n",
       "      <td>Челябинск</td>\n",
       "      <td>Каролина</td>\n",
       "      <td>Агеева</td>\n",
       "      <td>2018-10-09</td>\n",
       "      <td>smart</td>\n",
       "      <td>71.0</td>\n",
       "      <td>545.0</td>\n",
       "      <td>...</td>\n",
       "      <td>550</td>\n",
       "      <td>200</td>\n",
       "      <td>3</td>\n",
       "      <td>3</td>\n",
       "      <td>45.0</td>\n",
       "      <td>-33.0</td>\n",
       "      <td>5.0</td>\n",
       "      <td>135.0</td>\n",
       "      <td>NaN</td>\n",
       "      <td>1000.0</td>\n",
       "    </tr>\n",
       "    <tr>\n",
       "      <th>3214</th>\n",
       "      <td>1499</td>\n",
       "      <td>35</td>\n",
       "      <td>NaT</td>\n",
       "      <td>Пермь</td>\n",
       "      <td>Гектор</td>\n",
       "      <td>Корнилов</td>\n",
       "      <td>2018-09-27</td>\n",
       "      <td>smart</td>\n",
       "      <td>74.0</td>\n",
       "      <td>612.0</td>\n",
       "      <td>...</td>\n",
       "      <td>550</td>\n",
       "      <td>200</td>\n",
       "      <td>3</td>\n",
       "      <td>3</td>\n",
       "      <td>112.0</td>\n",
       "      <td>9.0</td>\n",
       "      <td>3.0</td>\n",
       "      <td>336.0</td>\n",
       "      <td>27.0</td>\n",
       "      <td>600.0</td>\n",
       "    </tr>\n",
       "  </tbody>\n",
       "</table>\n",
       "<p>754 rows × 28 columns</p>\n",
       "</div>"
      ],
      "text/plain": [
       "      user_id  age churn_date              city first_name last_name  \\\n",
       "32       1005   67        NaT  Набережные Челны   Афанасий    Горлов   \n",
       "33       1005   67        NaT  Набережные Челны   Афанасий    Горлов   \n",
       "34       1005   67        NaT  Набережные Челны   Афанасий    Горлов   \n",
       "35       1005   67        NaT  Набережные Челны   Афанасий    Горлов   \n",
       "36       1005   67        NaT  Набережные Челны   Афанасий    Горлов   \n",
       "...       ...  ...        ...               ...        ...       ...   \n",
       "3200     1496   36        NaT           Вологда     Трифон    Блохин   \n",
       "3203     1496   36        NaT           Вологда     Трифон    Блохин   \n",
       "3204     1496   36        NaT           Вологда     Трифон    Блохин   \n",
       "3207     1497   32        NaT         Челябинск   Каролина    Агеева   \n",
       "3214     1499   35        NaT             Пермь     Гектор  Корнилов   \n",
       "\n",
       "       reg_date tariff_name  countduration_round  sumduration_round  ...  \\\n",
       "32   2018-01-25       smart                 77.0              606.0  ...   \n",
       "33   2018-01-25       smart                101.0              712.0  ...   \n",
       "34   2018-01-25       smart                 73.0              595.0  ...   \n",
       "35   2018-01-25       smart                 80.0              612.0  ...   \n",
       "36   2018-01-25       smart                 77.0              569.0  ...   \n",
       "...         ...         ...                  ...                ...  ...   \n",
       "3200 2018-01-27       smart                 88.0              527.0  ...   \n",
       "3203 2018-01-27       smart                 80.0              662.0  ...   \n",
       "3204 2018-01-27       smart                 80.0              518.0  ...   \n",
       "3207 2018-10-09       smart                 71.0              545.0  ...   \n",
       "3214 2018-09-27       smart                 74.0              612.0  ...   \n",
       "\n",
       "      rub_monthly_fee  rub_per_gb  rub_per_message  rub_per_minute  \\\n",
       "32                550         200                3               3   \n",
       "33                550         200                3               3   \n",
       "34                550         200                3               3   \n",
       "35                550         200                3               3   \n",
       "36                550         200                3               3   \n",
       "...               ...         ...              ...             ...   \n",
       "3200              550         200                3               3   \n",
       "3203              550         200                3               3   \n",
       "3204              550         200                3               3   \n",
       "3207              550         200                3               3   \n",
       "3214              550         200                3               3   \n",
       "\n",
       "      differences_cals  differences_messages  differences_internet  \\\n",
       "32               106.0                   6.0                  -4.0   \n",
       "33               212.0                  -9.0                  -5.0   \n",
       "34                95.0                  -8.0                  -7.0   \n",
       "35               112.0                  -3.0                  -5.0   \n",
       "36                69.0                   6.0                  -7.0   \n",
       "...                ...                   ...                   ...   \n",
       "3200              27.0                  -9.0                   8.0   \n",
       "3203             162.0                  -4.0                  10.0   \n",
       "3204              18.0                   1.0                   6.0   \n",
       "3207              45.0                 -33.0                   5.0   \n",
       "3214             112.0                   9.0                   3.0   \n",
       "\n",
       "      calls_income  messages_income  internet_income  \n",
       "32           318.0             18.0              NaN  \n",
       "33           636.0              NaN              NaN  \n",
       "34           285.0              NaN              NaN  \n",
       "35           336.0              NaN              NaN  \n",
       "36           207.0             18.0              NaN  \n",
       "...            ...              ...              ...  \n",
       "3200          81.0              NaN           1600.0  \n",
       "3203         486.0              NaN           2000.0  \n",
       "3204          54.0              3.0           1200.0  \n",
       "3207         135.0              NaN           1000.0  \n",
       "3214         336.0             27.0            600.0  \n",
       "\n",
       "[754 rows x 28 columns]"
      ]
     },
     "execution_count": 27,
     "metadata": {},
     "output_type": "execute_result"
    }
   ],
   "source": [
    "# Считаем оплату за разницу\n",
    "df_all['calls_income'] = df_all[df_all['differences_cals'] > 0]['differences_cals'] * df_all['rub_per_minute']\n",
    "df_all['messages_income'] = df_all[df_all['differences_messages'] > 0]['differences_messages'] * df_all['rub_per_message']\n",
    "df_all['internet_income'] = df_all[df_all['differences_internet'] > 0]['differences_internet'] * df_all['rub_per_gb']\n",
    "\n",
    "df_all[df_all['differences_cals'] > 0]\n"
   ]
  },
  {
   "cell_type": "code",
   "execution_count": 28,
   "metadata": {},
   "outputs": [],
   "source": [
    "df_all['calls_income'] = df_all['calls_income'].fillna(0)\n",
    "df_all['messages_income'] = df_all['messages_income'].fillna(0)\n",
    "df_all['internet_income'] = df_all['internet_income'].fillna(0)\n",
    "\n",
    "#df_all"
   ]
  },
  {
   "cell_type": "code",
   "execution_count": 29,
   "metadata": {},
   "outputs": [],
   "source": [
    "# Посчитаем общую прибыль с каждого пользователя за каждый месяц\n",
    "df_all['total_income'] = df_all['rub_monthly_fee'] + df_all['calls_income'] + df_all['messages_income']+df_all['internet_income']"
   ]
  },
  {
   "cell_type": "code",
   "execution_count": 30,
   "metadata": {},
   "outputs": [
    {
     "data": {
      "text/html": [
       "<div>\n",
       "<style scoped>\n",
       "    .dataframe tbody tr th:only-of-type {\n",
       "        vertical-align: middle;\n",
       "    }\n",
       "\n",
       "    .dataframe tbody tr th {\n",
       "        vertical-align: top;\n",
       "    }\n",
       "\n",
       "    .dataframe thead th {\n",
       "        text-align: right;\n",
       "    }\n",
       "</style>\n",
       "<table border=\"1\" class=\"dataframe\">\n",
       "  <thead>\n",
       "    <tr style=\"text-align: right;\">\n",
       "      <th></th>\n",
       "      <th>user_id</th>\n",
       "      <th>age</th>\n",
       "      <th>churn_date</th>\n",
       "      <th>city</th>\n",
       "      <th>first_name</th>\n",
       "      <th>last_name</th>\n",
       "      <th>reg_date</th>\n",
       "      <th>tariff_name</th>\n",
       "      <th>countduration_round</th>\n",
       "      <th>sumduration_round</th>\n",
       "      <th>...</th>\n",
       "      <th>rub_per_gb</th>\n",
       "      <th>rub_per_message</th>\n",
       "      <th>rub_per_minute</th>\n",
       "      <th>differences_cals</th>\n",
       "      <th>differences_messages</th>\n",
       "      <th>differences_internet</th>\n",
       "      <th>calls_income</th>\n",
       "      <th>messages_income</th>\n",
       "      <th>internet_income</th>\n",
       "      <th>total_income</th>\n",
       "    </tr>\n",
       "  </thead>\n",
       "  <tbody>\n",
       "    <tr>\n",
       "      <th>0</th>\n",
       "      <td>1000</td>\n",
       "      <td>52</td>\n",
       "      <td>NaT</td>\n",
       "      <td>Краснодар</td>\n",
       "      <td>Рафаил</td>\n",
       "      <td>Верещагин</td>\n",
       "      <td>2018-05-25</td>\n",
       "      <td>ultra</td>\n",
       "      <td>22.0</td>\n",
       "      <td>159.0</td>\n",
       "      <td>...</td>\n",
       "      <td>150</td>\n",
       "      <td>1</td>\n",
       "      <td>1</td>\n",
       "      <td>-2841.0</td>\n",
       "      <td>-978.0</td>\n",
       "      <td>-27.0</td>\n",
       "      <td>0.0</td>\n",
       "      <td>0.0</td>\n",
       "      <td>0.0</td>\n",
       "      <td>1950.0</td>\n",
       "    </tr>\n",
       "    <tr>\n",
       "      <th>1</th>\n",
       "      <td>1000</td>\n",
       "      <td>52</td>\n",
       "      <td>NaT</td>\n",
       "      <td>Краснодар</td>\n",
       "      <td>Рафаил</td>\n",
       "      <td>Верещагин</td>\n",
       "      <td>2018-05-25</td>\n",
       "      <td>ultra</td>\n",
       "      <td>43.0</td>\n",
       "      <td>172.0</td>\n",
       "      <td>...</td>\n",
       "      <td>150</td>\n",
       "      <td>1</td>\n",
       "      <td>1</td>\n",
       "      <td>-2828.0</td>\n",
       "      <td>-940.0</td>\n",
       "      <td>-7.0</td>\n",
       "      <td>0.0</td>\n",
       "      <td>0.0</td>\n",
       "      <td>0.0</td>\n",
       "      <td>1950.0</td>\n",
       "    </tr>\n",
       "    <tr>\n",
       "      <th>2</th>\n",
       "      <td>1000</td>\n",
       "      <td>52</td>\n",
       "      <td>NaT</td>\n",
       "      <td>Краснодар</td>\n",
       "      <td>Рафаил</td>\n",
       "      <td>Верещагин</td>\n",
       "      <td>2018-05-25</td>\n",
       "      <td>ultra</td>\n",
       "      <td>47.0</td>\n",
       "      <td>340.0</td>\n",
       "      <td>...</td>\n",
       "      <td>150</td>\n",
       "      <td>1</td>\n",
       "      <td>1</td>\n",
       "      <td>-2660.0</td>\n",
       "      <td>-925.0</td>\n",
       "      <td>-16.0</td>\n",
       "      <td>0.0</td>\n",
       "      <td>0.0</td>\n",
       "      <td>0.0</td>\n",
       "      <td>1950.0</td>\n",
       "    </tr>\n",
       "    <tr>\n",
       "      <th>3</th>\n",
       "      <td>1000</td>\n",
       "      <td>52</td>\n",
       "      <td>NaT</td>\n",
       "      <td>Краснодар</td>\n",
       "      <td>Рафаил</td>\n",
       "      <td>Верещагин</td>\n",
       "      <td>2018-05-25</td>\n",
       "      <td>ultra</td>\n",
       "      <td>52.0</td>\n",
       "      <td>408.0</td>\n",
       "      <td>...</td>\n",
       "      <td>150</td>\n",
       "      <td>1</td>\n",
       "      <td>1</td>\n",
       "      <td>-2592.0</td>\n",
       "      <td>-919.0</td>\n",
       "      <td>-16.0</td>\n",
       "      <td>0.0</td>\n",
       "      <td>0.0</td>\n",
       "      <td>0.0</td>\n",
       "      <td>1950.0</td>\n",
       "    </tr>\n",
       "    <tr>\n",
       "      <th>4</th>\n",
       "      <td>1000</td>\n",
       "      <td>52</td>\n",
       "      <td>NaT</td>\n",
       "      <td>Краснодар</td>\n",
       "      <td>Рафаил</td>\n",
       "      <td>Верещагин</td>\n",
       "      <td>2018-05-25</td>\n",
       "      <td>ultra</td>\n",
       "      <td>58.0</td>\n",
       "      <td>466.0</td>\n",
       "      <td>...</td>\n",
       "      <td>150</td>\n",
       "      <td>1</td>\n",
       "      <td>1</td>\n",
       "      <td>-2534.0</td>\n",
       "      <td>-943.0</td>\n",
       "      <td>-15.0</td>\n",
       "      <td>0.0</td>\n",
       "      <td>0.0</td>\n",
       "      <td>0.0</td>\n",
       "      <td>1950.0</td>\n",
       "    </tr>\n",
       "  </tbody>\n",
       "</table>\n",
       "<p>5 rows × 29 columns</p>\n",
       "</div>"
      ],
      "text/plain": [
       "   user_id  age churn_date       city first_name  last_name   reg_date  \\\n",
       "0     1000   52        NaT  Краснодар     Рафаил  Верещагин 2018-05-25   \n",
       "1     1000   52        NaT  Краснодар     Рафаил  Верещагин 2018-05-25   \n",
       "2     1000   52        NaT  Краснодар     Рафаил  Верещагин 2018-05-25   \n",
       "3     1000   52        NaT  Краснодар     Рафаил  Верещагин 2018-05-25   \n",
       "4     1000   52        NaT  Краснодар     Рафаил  Верещагин 2018-05-25   \n",
       "\n",
       "  tariff_name  countduration_round  sumduration_round  ...  rub_per_gb  \\\n",
       "0       ultra                 22.0              159.0  ...         150   \n",
       "1       ultra                 43.0              172.0  ...         150   \n",
       "2       ultra                 47.0              340.0  ...         150   \n",
       "3       ultra                 52.0              408.0  ...         150   \n",
       "4       ultra                 58.0              466.0  ...         150   \n",
       "\n",
       "   rub_per_message  rub_per_minute  differences_cals  differences_messages  \\\n",
       "0                1               1           -2841.0                -978.0   \n",
       "1                1               1           -2828.0                -940.0   \n",
       "2                1               1           -2660.0                -925.0   \n",
       "3                1               1           -2592.0                -919.0   \n",
       "4                1               1           -2534.0                -943.0   \n",
       "\n",
       "   differences_internet  calls_income  messages_income  internet_income  \\\n",
       "0                 -27.0           0.0              0.0              0.0   \n",
       "1                  -7.0           0.0              0.0              0.0   \n",
       "2                 -16.0           0.0              0.0              0.0   \n",
       "3                 -16.0           0.0              0.0              0.0   \n",
       "4                 -15.0           0.0              0.0              0.0   \n",
       "\n",
       "   total_income  \n",
       "0        1950.0  \n",
       "1        1950.0  \n",
       "2        1950.0  \n",
       "3        1950.0  \n",
       "4        1950.0  \n",
       "\n",
       "[5 rows x 29 columns]"
      ]
     },
     "execution_count": 30,
     "metadata": {},
     "output_type": "execute_result"
    }
   ],
   "source": [
    "df_all.head()"
   ]
  },
  {
   "cell_type": "markdown",
   "metadata": {},
   "source": [
    "## Исследование данных"
   ]
  },
  {
   "cell_type": "code",
   "execution_count": 31,
   "metadata": {},
   "outputs": [],
   "source": [
    "# сводные таблицы для каждого тарифа\n",
    "ultra = df_all.query('tariff_name == \"ultra\"').pivot_table(index = [\"user_id\",\"month\"],values = [\"sumduration_round\",'id','gb_round','total_income'])\n",
    "smart = df_all.query('tariff_name == \"smart\"').pivot_table(index = [\"user_id\",\"month\"],values =  [\"sumduration_round\",'id','gb_round','total_income'])\n"
   ]
  },
  {
   "cell_type": "markdown",
   "metadata": {},
   "source": [
    "Построим гистограммы по каждому параметру и сравним тарифы"
   ]
  },
  {
   "cell_type": "code",
   "execution_count": 32,
   "metadata": {},
   "outputs": [
    {
     "data": {
      "text/plain": [
       "<AxesSubplot:>"
      ]
     },
     "execution_count": 32,
     "metadata": {},
     "output_type": "execute_result"
    },
    {
     "data": {
      "image/png": "[encoded data removed]",
      "text/plain": [
       "<Figure size 432x288 with 1 Axes>"
      ]
     },
     "metadata": {
      "needs_background": "light"
     },
     "output_type": "display_data"
    }
   ],
   "source": [
    "smart['sumduration_round'].hist(bins = 50, alpha=0.5) #  blue\n",
    "ultra['sumduration_round'].hist(bins = 50, alpha=0.5)"
   ]
  },
  {
   "cell_type": "code",
   "execution_count": 33,
   "metadata": {},
   "outputs": [
    {
     "data": {
      "text/plain": [
       "<AxesSubplot:>"
      ]
     },
     "execution_count": 33,
     "metadata": {},
     "output_type": "execute_result"
    },
    {
     "data": {
      "image/png": "[encoded data removed]",
      "text/plain": [
       "<Figure size 432x288 with 1 Axes>"
      ]
     },
     "metadata": {
      "needs_background": "light"
     },
     "output_type": "display_data"
    }
   ],
   "source": [
    "smart['gb_round'].hist(bins = 50, alpha=0.5) #  blue\n",
    "ultra['gb_round'].hist(bins = 50, alpha=0.5)"
   ]
  },
  {
   "cell_type": "code",
   "execution_count": 34,
   "metadata": {},
   "outputs": [
    {
     "data": {
      "text/plain": [
       "<AxesSubplot:>"
      ]
     },
     "execution_count": 34,
     "metadata": {},
     "output_type": "execute_result"
    },
    {
     "data": {
      "image/png": "[encoded data removed]",
      "text/plain": [
       "<Figure size 432x288 with 1 Axes>"
      ]
     },
     "metadata": {
      "needs_background": "light"
     },
     "output_type": "display_data"
    }
   ],
   "source": [
    "smart['id'].hist(bins = 50, alpha=0.5) #  blue\n",
    "ultra['id'].hist(bins = 50, alpha=0.5)"
   ]
  },
  {
   "cell_type": "code",
   "execution_count": 35,
   "metadata": {},
   "outputs": [
    {
     "data": {
      "text/plain": [
       "<AxesSubplot:>"
      ]
     },
     "execution_count": 35,
     "metadata": {},
     "output_type": "execute_result"
    },
    {
     "data": {
      "image/png": "[encoded data removed]",
      "text/plain": [
       "<Figure size 432x288 with 1 Axes>"
      ]
     },
     "metadata": {
      "needs_background": "light"
     },
     "output_type": "display_data"
    }
   ],
   "source": [
    "smart['total_income'].hist(bins = 50, alpha=0.5) #  blue\n",
    "ultra['total_income'].hist(bins = 50, alpha=0.5)"
   ]
  },
  {
   "cell_type": "markdown",
   "metadata": {},
   "source": [
    "### Исследование тарифа Ultra"
   ]
  },
  {
   "cell_type": "markdown",
   "metadata": {},
   "source": [
    "Тариф «Ультра»\n",
    "\n",
    "Ежемесячная плата: 1950 рублей\n",
    "\n",
    "- Включено 3000 минут разговора, 1000 сообщений и 30 Гб интернет-трафика\n",
    "\n",
    "Стоимость услуг сверх тарифного пакета:\n",
    "\n",
    "- минута разговора: 1 рубль\n",
    "- сообщение: 1 рубль\n",
    "- 1 Гб интернет-трафика: 150 рублей"
   ]
  },
  {
   "cell_type": "markdown",
   "metadata": {},
   "source": [
    "#### Звонки"
   ]
  },
  {
   "cell_type": "code",
   "execution_count": 36,
   "metadata": {},
   "outputs": [
    {
     "data": {
      "text/plain": [
       "543.1188222923239"
      ]
     },
     "execution_count": 36,
     "metadata": {},
     "output_type": "execute_result"
    }
   ],
   "source": [
    "m = ultra['sumduration_round'].mean() #Среднее\n",
    "m"
   ]
  },
  {
   "cell_type": "code",
   "execution_count": 37,
   "metadata": {},
   "outputs": [],
   "source": [
    "d = ultra['sumduration_round'].var() # Дисперсия"
   ]
  },
  {
   "cell_type": "code",
   "execution_count": 38,
   "metadata": {},
   "outputs": [
    {
     "data": {
      "text/plain": [
       "310.10291937233217"
      ]
     },
     "execution_count": 38,
     "metadata": {},
     "output_type": "execute_result"
    }
   ],
   "source": [
    "std = np.sqrt(d)   # стандартное отклонение\n",
    "std"
   ]
  },
  {
   "cell_type": "markdown",
   "metadata": {},
   "source": [
    "###### По правилу трех сигм 99% удовлетворит  (среднее) + 3* (стандартное отклонение)"
   ]
  },
  {
   "cell_type": "code",
   "execution_count": 39,
   "metadata": {},
   "outputs": [
    {
     "data": {
      "text/plain": [
       "1473.4275804093204"
      ]
     },
     "execution_count": 39,
     "metadata": {},
     "output_type": "execute_result"
    }
   ],
   "source": [
    "m+3*std"
   ]
  },
  {
   "cell_type": "markdown",
   "metadata": {},
   "source": [
    "###### Вывод \n",
    "1500 минут удовлетворит 99% пользователей при 3000 включенных в пакет."
   ]
  },
  {
   "cell_type": "markdown",
   "metadata": {},
   "source": [
    "#### Интернет"
   ]
  },
  {
   "cell_type": "code",
   "execution_count": 40,
   "metadata": {},
   "outputs": [
    {
     "data": {
      "text/plain": [
       "49.054950346185706"
      ]
     },
     "execution_count": 40,
     "metadata": {},
     "output_type": "execute_result"
    }
   ],
   "source": [
    "m = ultra['gb_round'].mean() #Среднее\n",
    "d = ultra['gb_round'].var() # Дисперсия\n",
    "std = np.sqrt(d)   # стандартное отклонение\n",
    "m+3*std"
   ]
  },
  {
   "cell_type": "code",
   "execution_count": 41,
   "metadata": {},
   "outputs": [
    {
     "data": {
      "text/plain": [
       "19.494416243654822"
      ]
     },
     "execution_count": 41,
     "metadata": {},
     "output_type": "execute_result"
    }
   ],
   "source": [
    "m"
   ]
  },
  {
   "cell_type": "markdown",
   "metadata": {},
   "source": [
    "###### Вывод \n",
    "По правилу трех сигм 99% удовлетворит 50 Gb, в тариф включено 30 гб."
   ]
  },
  {
   "cell_type": "markdown",
   "metadata": {},
   "source": [
    "#### Сообщения"
   ]
  },
  {
   "cell_type": "code",
   "execution_count": 42,
   "metadata": {},
   "outputs": [
    {
     "data": {
      "text/plain": [
       "199.598578407182"
      ]
     },
     "execution_count": 42,
     "metadata": {},
     "output_type": "execute_result"
    }
   ],
   "source": [
    "m = ultra['id'].mean() #Среднее\n",
    "d = ultra['id'].var() # Дисперсия\n",
    "std = np.sqrt(d)   # стандартное отклонение\n",
    "m+3*std"
   ]
  },
  {
   "cell_type": "code",
   "execution_count": 43,
   "metadata": {},
   "outputs": [
    {
     "data": {
      "text/plain": [
       "60.8125786163522"
      ]
     },
     "execution_count": 43,
     "metadata": {},
     "output_type": "execute_result"
    }
   ],
   "source": [
    "m"
   ]
  },
  {
   "cell_type": "markdown",
   "metadata": {},
   "source": [
    "###### Вывод\n",
    "200 сообщений удовлетворит 99% пользователей, 1000 включено в тариф."
   ]
  },
  {
   "cell_type": "markdown",
   "metadata": {},
   "source": [
    "### Исследование тарифа Smart"
   ]
  },
  {
   "cell_type": "markdown",
   "metadata": {},
   "source": [
    "Тариф «Смарт»\n",
    "\n",
    "Ежемесячная плата: 550 рублей\n",
    "\n",
    "- Включено 500 минут разговора, 50 сообщений и 15 Гб интернет-трафика\n",
    "\n",
    "\n",
    "Стоимость услуг сверх тарифного пакета:\n",
    "- минута разговора: 3 рубля\n",
    "- сообщение: 3 рубля\n",
    "- 1 Гб интернет-трафика: 200 рублей"
   ]
  },
  {
   "cell_type": "markdown",
   "metadata": {},
   "source": [
    "#### Звонки"
   ]
  },
  {
   "cell_type": "code",
   "execution_count": 44,
   "metadata": {},
   "outputs": [
    {
     "data": {
      "text/plain": [
       "987.1578265917095"
      ]
     },
     "execution_count": 44,
     "metadata": {},
     "output_type": "execute_result"
    }
   ],
   "source": [
    "m = smart['sumduration_round'].mean() #Среднее\n",
    "d = smart['sumduration_round'].var() # Дисперсия\n",
    "std = np.sqrt(d)   # стандартное отклонение\n",
    "m+3*std"
   ]
  },
  {
   "cell_type": "code",
   "execution_count": 45,
   "metadata": {},
   "outputs": [
    {
     "data": {
      "text/plain": [
       "419.0404858299595"
      ]
     },
     "execution_count": 45,
     "metadata": {},
     "output_type": "execute_result"
    }
   ],
   "source": [
    "m"
   ]
  },
  {
   "cell_type": "markdown",
   "metadata": {},
   "source": [
    "1000 минут удовлетворит 99% пользователей, 500 в тарифе"
   ]
  },
  {
   "cell_type": "markdown",
   "metadata": {},
   "source": [
    "#### Сообщения"
   ]
  },
  {
   "cell_type": "code",
   "execution_count": 46,
   "metadata": {},
   "outputs": [
    {
     "data": {
      "text/plain": [
       "119.08199523050271"
      ]
     },
     "execution_count": 46,
     "metadata": {},
     "output_type": "execute_result"
    }
   ],
   "source": [
    "m = smart['id'].mean() #Среднее\n",
    "d = smart['id'].var() # Дисперсия\n",
    "std = np.sqrt(d)   # стандартное отклонение\n",
    "m+3*std"
   ]
  },
  {
   "cell_type": "code",
   "execution_count": 47,
   "metadata": {},
   "outputs": [
    {
     "data": {
      "text/plain": [
       "38.7159209157128"
      ]
     },
     "execution_count": 47,
     "metadata": {},
     "output_type": "execute_result"
    }
   ],
   "source": [
    "m"
   ]
  },
  {
   "cell_type": "markdown",
   "metadata": {},
   "source": [
    "120 сообщений удовлетворит 99% пользователей, 50 в тарифе"
   ]
  },
  {
   "cell_type": "markdown",
   "metadata": {},
   "source": [
    "#### Интернет"
   ]
  },
  {
   "cell_type": "code",
   "execution_count": 48,
   "metadata": {},
   "outputs": [
    {
     "data": {
      "text/plain": [
       "33.57002872212654"
      ]
     },
     "execution_count": 48,
     "metadata": {},
     "output_type": "execute_result"
    }
   ],
   "source": [
    "m = smart['gb_round'].mean() #Среднее\n",
    "d = smart['gb_round'].var() # Дисперсия\n",
    "std = np.sqrt(d)   # стандартное отклонение\n",
    "m+3*std"
   ]
  },
  {
   "cell_type": "code",
   "execution_count": 49,
   "metadata": {},
   "outputs": [
    {
     "data": {
      "text/plain": [
       "16.328847016599372"
      ]
     },
     "execution_count": 49,
     "metadata": {},
     "output_type": "execute_result"
    }
   ],
   "source": [
    "m"
   ]
  },
  {
   "cell_type": "markdown",
   "metadata": {},
   "source": [
    " 33 Gb удовлетворит 99% пользователей, 15 включено."
   ]
  },
  {
   "cell_type": "markdown",
   "metadata": {},
   "source": [
    "## Проверка гипотез\n",
    "- средняя выручка пользователей тарифов «Ультра» и «Смарт» различаются;\n",
    "- средняя выручка пользователей из Москвы отличается от выручки пользователей из других регионов."
   ]
  },
  {
   "cell_type": "markdown",
   "metadata": {},
   "source": [
    "###  Гипотеза №1\n",
    "\n",
    "H0 - средняя выручка, полученная от пользователей тарифов «Ультра» и «Смарт» равна\n",
    "\n",
    "H1 - средняя выручка пользователей тарифов «Ультра» и «Смарт» различаются\n",
    "\n"
   ]
  },
  {
   "cell_type": "code",
   "execution_count": 50,
   "metadata": {},
   "outputs": [
    {
     "data": {
      "text/plain": [
       "2070.1522842639592"
      ]
     },
     "execution_count": 50,
     "metadata": {},
     "output_type": "execute_result"
    }
   ],
   "source": [
    "ultra['total_income'].mean()"
   ]
  },
  {
   "cell_type": "code",
   "execution_count": 51,
   "metadata": {},
   "outputs": [
    {
     "data": {
      "text/plain": [
       "1289.9735307312696"
      ]
     },
     "execution_count": 51,
     "metadata": {},
     "output_type": "execute_result"
    }
   ],
   "source": [
    "smart['total_income'].mean()"
   ]
  },
  {
   "cell_type": "code",
   "execution_count": 52,
   "metadata": {},
   "outputs": [
    {
     "name": "stdout",
     "output_type": "stream",
     "text": [
      "p-значение: 1.4229814360764067e-160\n",
      "Отвергаем нулевую гипотезу\n"
     ]
    }
   ],
   "source": [
    "alpha = .01\n",
    "\n",
    "results = st.ttest_ind(\n",
    "    ultra['total_income'], \n",
    "    smart['total_income'])\n",
    "\n",
    "print('p-значение:', results.pvalue)\n",
    "\n",
    "if results.pvalue < alpha:\n",
    "    print(\"Отвергаем нулевую гипотезу\")\n",
    "else:\n",
    "    print(\"Не получилось отвергнуть нулевую гипотезу\")"
   ]
  },
  {
   "cell_type": "markdown",
   "metadata": {},
   "source": [
    "###### Гипотеза №1 \n",
    "Вывод: оба способа сравнить средние, говорят о различной прибыли на двух тарифах."
   ]
  },
  {
   "cell_type": "markdown",
   "metadata": {},
   "source": [
    "###  Гипотеза №2\n",
    "\n",
    "H0 - средняя выручка пользователей из Москвы и пользователей из других регионов равна\n",
    "\n",
    "H1 - средняя выручка пользователей различается"
   ]
  },
  {
   "cell_type": "code",
   "execution_count": 53,
   "metadata": {},
   "outputs": [
    {
     "data": {
      "text/html": [
       "<div>\n",
       "<style scoped>\n",
       "    .dataframe tbody tr th:only-of-type {\n",
       "        vertical-align: middle;\n",
       "    }\n",
       "\n",
       "    .dataframe tbody tr th {\n",
       "        vertical-align: top;\n",
       "    }\n",
       "\n",
       "    .dataframe thead th {\n",
       "        text-align: right;\n",
       "    }\n",
       "</style>\n",
       "<table border=\"1\" class=\"dataframe\">\n",
       "  <thead>\n",
       "    <tr style=\"text-align: right;\">\n",
       "      <th></th>\n",
       "      <th></th>\n",
       "      <th>gb_round</th>\n",
       "      <th>id</th>\n",
       "      <th>sumduration_round</th>\n",
       "      <th>total_income</th>\n",
       "    </tr>\n",
       "    <tr>\n",
       "      <th>user_id</th>\n",
       "      <th>month</th>\n",
       "      <th></th>\n",
       "      <th></th>\n",
       "      <th></th>\n",
       "      <th></th>\n",
       "    </tr>\n",
       "  </thead>\n",
       "  <tbody>\n",
       "    <tr>\n",
       "      <th rowspan=\"2\" valign=\"top\">1001</th>\n",
       "      <th>11.0</th>\n",
       "      <td>18.0</td>\n",
       "      <td>NaN</td>\n",
       "      <td>430.0</td>\n",
       "      <td>1150.0</td>\n",
       "    </tr>\n",
       "    <tr>\n",
       "      <th>12.0</th>\n",
       "      <td>14.0</td>\n",
       "      <td>NaN</td>\n",
       "      <td>414.0</td>\n",
       "      <td>550.0</td>\n",
       "    </tr>\n",
       "    <tr>\n",
       "      <th rowspan=\"3\" valign=\"top\">1003</th>\n",
       "      <th>8.0</th>\n",
       "      <td>9.0</td>\n",
       "      <td>37.0</td>\n",
       "      <td>380.0</td>\n",
       "      <td>1950.0</td>\n",
       "    </tr>\n",
       "    <tr>\n",
       "      <th>9.0</th>\n",
       "      <td>13.0</td>\n",
       "      <td>91.0</td>\n",
       "      <td>961.0</td>\n",
       "      <td>1950.0</td>\n",
       "    </tr>\n",
       "    <tr>\n",
       "      <th>10.0</th>\n",
       "      <td>15.0</td>\n",
       "      <td>83.0</td>\n",
       "      <td>855.0</td>\n",
       "      <td>1950.0</td>\n",
       "    </tr>\n",
       "    <tr>\n",
       "      <th>...</th>\n",
       "      <th>...</th>\n",
       "      <td>...</td>\n",
       "      <td>...</td>\n",
       "      <td>...</td>\n",
       "      <td>...</td>\n",
       "    </tr>\n",
       "    <tr>\n",
       "      <th rowspan=\"5\" valign=\"top\">1490</th>\n",
       "      <th>8.0</th>\n",
       "      <td>17.0</td>\n",
       "      <td>50.0</td>\n",
       "      <td>346.0</td>\n",
       "      <td>950.0</td>\n",
       "    </tr>\n",
       "    <tr>\n",
       "      <th>9.0</th>\n",
       "      <td>15.0</td>\n",
       "      <td>48.0</td>\n",
       "      <td>322.0</td>\n",
       "      <td>550.0</td>\n",
       "    </tr>\n",
       "    <tr>\n",
       "      <th>10.0</th>\n",
       "      <td>21.0</td>\n",
       "      <td>45.0</td>\n",
       "      <td>312.0</td>\n",
       "      <td>1750.0</td>\n",
       "    </tr>\n",
       "    <tr>\n",
       "      <th>11.0</th>\n",
       "      <td>19.0</td>\n",
       "      <td>47.0</td>\n",
       "      <td>282.0</td>\n",
       "      <td>1350.0</td>\n",
       "    </tr>\n",
       "    <tr>\n",
       "      <th>12.0</th>\n",
       "      <td>16.0</td>\n",
       "      <td>46.0</td>\n",
       "      <td>290.0</td>\n",
       "      <td>750.0</td>\n",
       "    </tr>\n",
       "  </tbody>\n",
       "</table>\n",
       "<p>611 rows × 4 columns</p>\n",
       "</div>"
      ],
      "text/plain": [
       "               gb_round    id  sumduration_round  total_income\n",
       "user_id month                                                 \n",
       "1001    11.0       18.0   NaN              430.0        1150.0\n",
       "        12.0       14.0   NaN              414.0         550.0\n",
       "1003    8.0         9.0  37.0              380.0        1950.0\n",
       "        9.0        13.0  91.0              961.0        1950.0\n",
       "        10.0       15.0  83.0              855.0        1950.0\n",
       "...                 ...   ...                ...           ...\n",
       "1490    8.0        17.0  50.0              346.0         950.0\n",
       "        9.0        15.0  48.0              322.0         550.0\n",
       "        10.0       21.0  45.0              312.0        1750.0\n",
       "        11.0       19.0  47.0              282.0        1350.0\n",
       "        12.0       16.0  46.0              290.0         750.0\n",
       "\n",
       "[611 rows x 4 columns]"
      ]
     },
     "execution_count": 53,
     "metadata": {},
     "output_type": "execute_result"
    }
   ],
   "source": [
    "data_moscow = df_all.query('city == \"Москва\"').pivot_table(index = [\"user_id\",\"month\"],values = [\"sumduration_round\",'id','gb_round','total_income'])\n",
    "data_moscow"
   ]
  },
  {
   "cell_type": "code",
   "execution_count": 54,
   "metadata": {},
   "outputs": [
    {
     "data": {
      "text/html": [
       "<div>\n",
       "<style scoped>\n",
       "    .dataframe tbody tr th:only-of-type {\n",
       "        vertical-align: middle;\n",
       "    }\n",
       "\n",
       "    .dataframe tbody tr th {\n",
       "        vertical-align: top;\n",
       "    }\n",
       "\n",
       "    .dataframe thead th {\n",
       "        text-align: right;\n",
       "    }\n",
       "</style>\n",
       "<table border=\"1\" class=\"dataframe\">\n",
       "  <thead>\n",
       "    <tr style=\"text-align: right;\">\n",
       "      <th></th>\n",
       "      <th></th>\n",
       "      <th>gb_round</th>\n",
       "      <th>id</th>\n",
       "      <th>sumduration_round</th>\n",
       "      <th>total_income</th>\n",
       "    </tr>\n",
       "    <tr>\n",
       "      <th>user_id</th>\n",
       "      <th>month</th>\n",
       "      <th></th>\n",
       "      <th></th>\n",
       "      <th></th>\n",
       "      <th></th>\n",
       "    </tr>\n",
       "  </thead>\n",
       "  <tbody>\n",
       "    <tr>\n",
       "      <th rowspan=\"5\" valign=\"top\">1000</th>\n",
       "      <th>5.0</th>\n",
       "      <td>3.0</td>\n",
       "      <td>22.0</td>\n",
       "      <td>159.0</td>\n",
       "      <td>1950.0</td>\n",
       "    </tr>\n",
       "    <tr>\n",
       "      <th>6.0</th>\n",
       "      <td>23.0</td>\n",
       "      <td>60.0</td>\n",
       "      <td>172.0</td>\n",
       "      <td>1950.0</td>\n",
       "    </tr>\n",
       "    <tr>\n",
       "      <th>7.0</th>\n",
       "      <td>14.0</td>\n",
       "      <td>75.0</td>\n",
       "      <td>340.0</td>\n",
       "      <td>1950.0</td>\n",
       "    </tr>\n",
       "    <tr>\n",
       "      <th>8.0</th>\n",
       "      <td>14.0</td>\n",
       "      <td>81.0</td>\n",
       "      <td>408.0</td>\n",
       "      <td>1950.0</td>\n",
       "    </tr>\n",
       "    <tr>\n",
       "      <th>9.0</th>\n",
       "      <td>15.0</td>\n",
       "      <td>57.0</td>\n",
       "      <td>466.0</td>\n",
       "      <td>1950.0</td>\n",
       "    </tr>\n",
       "    <tr>\n",
       "      <th>...</th>\n",
       "      <th>...</th>\n",
       "      <td>...</td>\n",
       "      <td>...</td>\n",
       "      <td>...</td>\n",
       "      <td>...</td>\n",
       "    </tr>\n",
       "    <tr>\n",
       "      <th>1498</th>\n",
       "      <th>10.0</th>\n",
       "      <td>21.0</td>\n",
       "      <td>42.0</td>\n",
       "      <td>247.0</td>\n",
       "      <td>1750.0</td>\n",
       "    </tr>\n",
       "    <tr>\n",
       "      <th rowspan=\"4\" valign=\"top\">1499</th>\n",
       "      <th>9.0</th>\n",
       "      <td>2.0</td>\n",
       "      <td>11.0</td>\n",
       "      <td>70.0</td>\n",
       "      <td>550.0</td>\n",
       "    </tr>\n",
       "    <tr>\n",
       "      <th>10.0</th>\n",
       "      <td>18.0</td>\n",
       "      <td>48.0</td>\n",
       "      <td>449.0</td>\n",
       "      <td>1150.0</td>\n",
       "    </tr>\n",
       "    <tr>\n",
       "      <th>11.0</th>\n",
       "      <td>18.0</td>\n",
       "      <td>59.0</td>\n",
       "      <td>612.0</td>\n",
       "      <td>1513.0</td>\n",
       "    </tr>\n",
       "    <tr>\n",
       "      <th>12.0</th>\n",
       "      <td>13.0</td>\n",
       "      <td>66.0</td>\n",
       "      <td>492.0</td>\n",
       "      <td>598.0</td>\n",
       "    </tr>\n",
       "  </tbody>\n",
       "</table>\n",
       "<p>2603 rows × 4 columns</p>\n",
       "</div>"
      ],
      "text/plain": [
       "               gb_round    id  sumduration_round  total_income\n",
       "user_id month                                                 \n",
       "1000    5.0         3.0  22.0              159.0        1950.0\n",
       "        6.0        23.0  60.0              172.0        1950.0\n",
       "        7.0        14.0  75.0              340.0        1950.0\n",
       "        8.0        14.0  81.0              408.0        1950.0\n",
       "        9.0        15.0  57.0              466.0        1950.0\n",
       "...                 ...   ...                ...           ...\n",
       "1498    10.0       21.0  42.0              247.0        1750.0\n",
       "1499    9.0         2.0  11.0               70.0         550.0\n",
       "        10.0       18.0  48.0              449.0        1150.0\n",
       "        11.0       18.0  59.0              612.0        1513.0\n",
       "        12.0       13.0  66.0              492.0         598.0\n",
       "\n",
       "[2603 rows x 4 columns]"
      ]
     },
     "execution_count": 54,
     "metadata": {},
     "output_type": "execute_result"
    }
   ],
   "source": [
    "data_other  = df_all.query('city != \"Москва\"').pivot_table(index = [\"user_id\",\"month\"],values = [\"sumduration_round\",'id','gb_round','total_income'])\n",
    "data_other"
   ]
  },
  {
   "cell_type": "code",
   "execution_count": 55,
   "metadata": {},
   "outputs": [
    {
     "name": "stdout",
     "output_type": "stream",
     "text": [
      "p-значение: 0.5440152911670224\n",
      "Не получилось отвергнуть нулевую гипотезу\n"
     ]
    }
   ],
   "source": [
    "alpha = .01\n",
    "\n",
    "results = st.ttest_ind(\n",
    "    data_moscow['total_income'], \n",
    "    data_other['total_income'])\n",
    "\n",
    "print('p-значение:', results.pvalue)\n",
    "\n",
    "if results.pvalue < alpha:\n",
    "    print(\"Отвергаем нулевую гипотезу\")\n",
    "else:\n",
    "    print(\"Не получилось отвергнуть нулевую гипотезу\")"
   ]
  },
  {
   "cell_type": "code",
   "execution_count": 56,
   "metadata": {},
   "outputs": [
    {
     "data": {
      "text/plain": [
       "1546.7135842880523"
      ]
     },
     "execution_count": 56,
     "metadata": {},
     "output_type": "execute_result"
    }
   ],
   "source": [
    "data_moscow['total_income'].mean()"
   ]
  },
  {
   "cell_type": "code",
   "execution_count": 57,
   "metadata": {},
   "outputs": [
    {
     "data": {
      "text/plain": [
       "1524.9362274298885"
      ]
     },
     "execution_count": 57,
     "metadata": {},
     "output_type": "execute_result"
    }
   ],
   "source": [
    "data_other['total_income'].mean()"
   ]
  },
  {
   "cell_type": "markdown",
   "metadata": {},
   "source": [
    "###### Гипотеза №2 \n",
    "\n",
    "Вывод: средняя выручка пользователей из Москвы и пользователей из других регионов равна"
   ]
  },
  {
   "cell_type": "markdown",
   "metadata": {},
   "source": [
    "## Вывод"
   ]
  },
  {
   "cell_type": "markdown",
   "metadata": {},
   "source": [
    "Каждый из тарифов перекрывает потребности своего среднего пользователя, но\n",
    "\n",
    "- Тариф ULTRA предоставляет в 2 раза больше минут и сообщений, чем требуется, чтобы покрыть 99% пользователей и в 1,5 меньше Gb интернета.\n",
    "\n",
    "- Тариф SMART предоставляет ~2 раза меньше, чем необходимо по всем трем пунктам, чтобы покрыть 99% пользователей. \n",
    "\n",
    "\n",
    "Вывод по предложенным гипотезам: доход Мосвы и регионов не отличается, а вот доход от разных тарифов различается, практически в два раза."
   ]
  }
 ],
 "metadata": {
  "ExecuteTimeLog": [
   {
    "duration": 557,
    "start_time": "2022-04-05T07:58:45.982Z"
   },
   {
    "duration": 616,
    "start_time": "2022-04-05T08:00:40.941Z"
   },
   {
    "duration": 37,
    "start_time": "2022-04-05T08:01:14.619Z"
   },
   {
    "duration": 122,
    "start_time": "2022-04-05T08:01:51.468Z"
   },
   {
    "duration": 56,
    "start_time": "2022-04-05T08:02:29.222Z"
   },
   {
    "duration": 58,
    "start_time": "2022-04-05T08:03:40.020Z"
   },
   {
    "duration": 3,
    "start_time": "2022-04-05T08:03:54.114Z"
   },
   {
    "duration": 102,
    "start_time": "2022-04-05T08:04:28.897Z"
   },
   {
    "duration": 50,
    "start_time": "2022-04-05T08:04:37.498Z"
   },
   {
    "duration": 104,
    "start_time": "2022-04-05T08:05:23.315Z"
   },
   {
    "duration": 43,
    "start_time": "2022-04-05T08:05:38.908Z"
   },
   {
    "duration": 21,
    "start_time": "2022-04-05T08:06:24.378Z"
   },
   {
    "duration": 12,
    "start_time": "2022-04-05T08:07:01.736Z"
   },
   {
    "duration": 40,
    "start_time": "2022-04-05T08:07:13.945Z"
   },
   {
    "duration": 13,
    "start_time": "2022-04-05T08:08:31.729Z"
   },
   {
    "duration": 10,
    "start_time": "2022-04-05T08:09:02.113Z"
   },
   {
    "duration": 11,
    "start_time": "2022-04-05T08:09:09.020Z"
   },
   {
    "duration": 13,
    "start_time": "2022-04-05T08:09:13.784Z"
   },
   {
    "duration": 11,
    "start_time": "2022-04-05T08:11:32.248Z"
   },
   {
    "duration": 15,
    "start_time": "2022-04-05T08:11:52.583Z"
   },
   {
    "duration": 12,
    "start_time": "2022-04-05T08:13:00.614Z"
   },
   {
    "duration": 23,
    "start_time": "2022-04-05T08:14:03.445Z"
   },
   {
    "duration": 12,
    "start_time": "2022-04-05T08:14:24.046Z"
   },
   {
    "duration": 36,
    "start_time": "2022-04-05T08:14:42.494Z"
   },
   {
    "duration": 148,
    "start_time": "2022-04-10T11:08:54.423Z"
   },
   {
    "duration": 497,
    "start_time": "2022-04-10T11:09:17.291Z"
   },
   {
    "duration": 510,
    "start_time": "2022-04-10T11:09:17.791Z"
   },
   {
    "duration": 34,
    "start_time": "2022-04-10T11:09:18.303Z"
   },
   {
    "duration": 22,
    "start_time": "2022-04-10T11:09:18.340Z"
   },
   {
    "duration": 43,
    "start_time": "2022-04-10T11:09:18.364Z"
   },
   {
    "duration": 29,
    "start_time": "2022-04-10T11:09:18.410Z"
   },
   {
    "duration": 42,
    "start_time": "2022-04-10T11:09:28.110Z"
   },
   {
    "duration": 52,
    "start_time": "2022-04-10T11:09:32.287Z"
   },
   {
    "duration": 64,
    "start_time": "2022-04-10T11:09:35.854Z"
   },
   {
    "duration": 55,
    "start_time": "2022-04-10T11:09:39.214Z"
   },
   {
    "duration": 465,
    "start_time": "2022-04-10T11:30:40.330Z"
   },
   {
    "duration": 368,
    "start_time": "2022-04-10T11:30:54.482Z"
   },
   {
    "duration": 336,
    "start_time": "2022-04-10T11:31:41.283Z"
   },
   {
    "duration": 349,
    "start_time": "2022-04-10T11:32:13.082Z"
   },
   {
    "duration": 335,
    "start_time": "2022-04-10T11:32:20.994Z"
   },
   {
    "duration": 329,
    "start_time": "2022-04-10T11:32:27.218Z"
   },
   {
    "duration": 335,
    "start_time": "2022-04-10T11:32:31.392Z"
   },
   {
    "duration": 288,
    "start_time": "2022-04-10T11:32:35.162Z"
   },
   {
    "duration": 165,
    "start_time": "2022-04-10T11:32:39.065Z"
   },
   {
    "duration": 8,
    "start_time": "2022-04-10T11:41:58.110Z"
   },
   {
    "duration": 90,
    "start_time": "2022-04-10T11:44:46.727Z"
   },
   {
    "duration": 42,
    "start_time": "2022-04-10T11:46:07.018Z"
   },
   {
    "duration": 18,
    "start_time": "2022-04-10T11:47:43.193Z"
   },
   {
    "duration": 6,
    "start_time": "2022-04-10T11:51:37.929Z"
   },
   {
    "duration": 19,
    "start_time": "2022-04-10T11:51:52.469Z"
   },
   {
    "duration": 2126,
    "start_time": "2022-04-10T11:52:13.042Z"
   },
   {
    "duration": 9,
    "start_time": "2022-04-10T11:52:23.083Z"
   },
   {
    "duration": 15,
    "start_time": "2022-04-10T11:52:32.915Z"
   },
   {
    "duration": 2245,
    "start_time": "2022-04-10T11:53:52.453Z"
   },
   {
    "duration": 51,
    "start_time": "2022-04-10T11:54:15.109Z"
   },
   {
    "duration": 33,
    "start_time": "2022-04-10T11:54:21.262Z"
   },
   {
    "duration": 94,
    "start_time": "2022-04-10T11:55:08.597Z"
   },
   {
    "duration": 54,
    "start_time": "2022-04-10T11:55:49.157Z"
   },
   {
    "duration": 62,
    "start_time": "2022-04-10T11:56:09.799Z"
   },
   {
    "duration": 25,
    "start_time": "2022-04-10T12:15:49.927Z"
   },
   {
    "duration": 2,
    "start_time": "2022-04-10T12:16:41.663Z"
   },
   {
    "duration": 41,
    "start_time": "2022-04-10T12:23:37.420Z"
   },
   {
    "duration": 60,
    "start_time": "2022-04-10T12:24:59.987Z"
   },
   {
    "duration": 39,
    "start_time": "2022-04-10T12:26:12.093Z"
   },
   {
    "duration": 8,
    "start_time": "2022-04-10T12:32:01.829Z"
   },
   {
    "duration": 30,
    "start_time": "2022-04-10T12:32:13.128Z"
   },
   {
    "duration": 26,
    "start_time": "2022-04-10T12:32:33.715Z"
   },
   {
    "duration": 9,
    "start_time": "2022-04-10T12:32:41.889Z"
   },
   {
    "duration": 6,
    "start_time": "2022-04-10T12:39:25.339Z"
   },
   {
    "duration": 5,
    "start_time": "2022-04-10T12:40:06.217Z"
   },
   {
    "duration": 8,
    "start_time": "2022-04-10T12:51:39.524Z"
   },
   {
    "duration": 17,
    "start_time": "2022-04-10T12:51:51.351Z"
   },
   {
    "duration": 13,
    "start_time": "2022-04-10T12:52:08.127Z"
   },
   {
    "duration": 13,
    "start_time": "2022-04-10T12:55:17.033Z"
   },
   {
    "duration": 193,
    "start_time": "2022-04-10T12:58:28.811Z"
   },
   {
    "duration": 17,
    "start_time": "2022-04-10T12:58:33.075Z"
   },
   {
    "duration": 139,
    "start_time": "2022-04-10T12:59:05.394Z"
   },
   {
    "duration": 143,
    "start_time": "2022-04-10T12:59:29.899Z"
   },
   {
    "duration": 18,
    "start_time": "2022-04-10T13:01:28.848Z"
   },
   {
    "duration": 17,
    "start_time": "2022-04-10T13:02:05.540Z"
   },
   {
    "duration": 19,
    "start_time": "2022-04-10T13:02:28.483Z"
   },
   {
    "duration": 21,
    "start_time": "2022-04-10T13:02:42.166Z"
   },
   {
    "duration": 71,
    "start_time": "2022-04-10T13:02:53.482Z"
   },
   {
    "duration": 1984,
    "start_time": "2022-04-11T08:26:50.173Z"
   },
   {
    "duration": 479,
    "start_time": "2022-04-11T08:27:01.180Z"
   },
   {
    "duration": 451,
    "start_time": "2022-04-11T08:27:01.662Z"
   },
   {
    "duration": 17,
    "start_time": "2022-04-11T08:27:02.115Z"
   },
   {
    "duration": 26,
    "start_time": "2022-04-11T08:27:02.135Z"
   },
   {
    "duration": 40,
    "start_time": "2022-04-11T08:27:02.163Z"
   },
   {
    "duration": 85,
    "start_time": "2022-04-11T08:27:02.206Z"
   },
   {
    "duration": 157,
    "start_time": "2022-04-11T08:27:02.294Z"
   },
   {
    "duration": 123,
    "start_time": "2022-04-11T08:27:02.454Z"
   },
   {
    "duration": 28,
    "start_time": "2022-04-11T08:27:02.579Z"
   },
   {
    "duration": 8,
    "start_time": "2022-04-11T08:27:02.612Z"
   },
   {
    "duration": 2195,
    "start_time": "2022-04-11T08:27:02.622Z"
   },
   {
    "duration": 0,
    "start_time": "2022-04-11T08:27:04.819Z"
   },
   {
    "duration": 0,
    "start_time": "2022-04-11T08:27:04.821Z"
   },
   {
    "duration": 0,
    "start_time": "2022-04-11T08:27:04.822Z"
   },
   {
    "duration": 0,
    "start_time": "2022-04-11T08:27:04.823Z"
   },
   {
    "duration": 0,
    "start_time": "2022-04-11T08:27:04.824Z"
   },
   {
    "duration": 25,
    "start_time": "2022-04-11T08:27:10.759Z"
   },
   {
    "duration": 31,
    "start_time": "2022-04-11T08:27:21.682Z"
   },
   {
    "duration": 1979,
    "start_time": "2022-04-11T08:29:19.553Z"
   },
   {
    "duration": 2910,
    "start_time": "2022-04-11T08:29:55.505Z"
   },
   {
    "duration": 82,
    "start_time": "2022-04-11T08:30:11.217Z"
   },
   {
    "duration": 67,
    "start_time": "2022-04-11T08:30:18.466Z"
   },
   {
    "duration": 10,
    "start_time": "2022-04-11T08:32:00.506Z"
   },
   {
    "duration": 39,
    "start_time": "2022-04-11T08:32:06.110Z"
   },
   {
    "duration": 58,
    "start_time": "2022-04-11T08:32:15.523Z"
   },
   {
    "duration": 40,
    "start_time": "2022-04-11T08:32:37.459Z"
   },
   {
    "duration": 12,
    "start_time": "2022-04-11T08:33:46.203Z"
   },
   {
    "duration": 115,
    "start_time": "2022-04-11T08:33:52.627Z"
   },
   {
    "duration": 123,
    "start_time": "2022-04-11T08:33:59.483Z"
   },
   {
    "duration": 8,
    "start_time": "2022-04-11T08:38:59.326Z"
   },
   {
    "duration": 120,
    "start_time": "2022-04-11T08:39:05.150Z"
   },
   {
    "duration": 60,
    "start_time": "2022-04-11T08:39:07.878Z"
   },
   {
    "duration": 39,
    "start_time": "2022-04-11T08:39:34.629Z"
   },
   {
    "duration": 39,
    "start_time": "2022-04-11T08:39:39.246Z"
   },
   {
    "duration": 38,
    "start_time": "2022-04-11T08:39:47.014Z"
   },
   {
    "duration": 97,
    "start_time": "2022-04-11T08:40:35.072Z"
   },
   {
    "duration": 87,
    "start_time": "2022-04-11T08:41:32.527Z"
   },
   {
    "duration": 2165,
    "start_time": "2022-04-11T08:45:40.001Z"
   },
   {
    "duration": 2106,
    "start_time": "2022-04-11T08:45:49.761Z"
   },
   {
    "duration": 2111,
    "start_time": "2022-04-11T08:47:07.233Z"
   },
   {
    "duration": 12,
    "start_time": "2022-04-11T08:47:21.474Z"
   },
   {
    "duration": 17,
    "start_time": "2022-04-11T08:52:47.317Z"
   },
   {
    "duration": 2066,
    "start_time": "2022-04-11T08:53:16.212Z"
   },
   {
    "duration": 25,
    "start_time": "2022-04-11T08:54:01.350Z"
   },
   {
    "duration": 6,
    "start_time": "2022-04-11T08:58:42.375Z"
   },
   {
    "duration": 13,
    "start_time": "2022-04-11T09:00:25.785Z"
   },
   {
    "duration": 26,
    "start_time": "2022-04-11T09:01:16.968Z"
   },
   {
    "duration": 49,
    "start_time": "2022-04-11T09:01:55.256Z"
   },
   {
    "duration": 39,
    "start_time": "2022-04-11T09:02:05.513Z"
   },
   {
    "duration": 31,
    "start_time": "2022-04-11T09:02:32.954Z"
   },
   {
    "duration": 27,
    "start_time": "2022-04-11T09:02:52.129Z"
   },
   {
    "duration": 18,
    "start_time": "2022-04-11T09:05:23.762Z"
   },
   {
    "duration": 12,
    "start_time": "2022-04-11T09:05:39.891Z"
   },
   {
    "duration": 11,
    "start_time": "2022-04-11T09:05:52.962Z"
   },
   {
    "duration": 10,
    "start_time": "2022-04-11T09:06:37.443Z"
   },
   {
    "duration": 573,
    "start_time": "2022-04-11T09:08:12.699Z"
   },
   {
    "duration": 2308,
    "start_time": "2022-04-11T09:08:25.884Z"
   },
   {
    "duration": 3059,
    "start_time": "2022-04-11T09:08:49.188Z"
   },
   {
    "duration": 13,
    "start_time": "2022-04-11T09:09:56.597Z"
   },
   {
    "duration": 2100,
    "start_time": "2022-04-11T09:10:06.413Z"
   },
   {
    "duration": 12,
    "start_time": "2022-04-11T09:11:21.000Z"
   },
   {
    "duration": 14,
    "start_time": "2022-04-11T09:11:28.597Z"
   },
   {
    "duration": 13,
    "start_time": "2022-04-11T10:01:25.864Z"
   },
   {
    "duration": 75,
    "start_time": "2022-04-11T10:01:35.382Z"
   },
   {
    "duration": 21,
    "start_time": "2022-04-11T10:03:43.168Z"
   },
   {
    "duration": 52,
    "start_time": "2022-04-11T10:05:23.295Z"
   },
   {
    "duration": 24,
    "start_time": "2022-04-11T10:05:40.697Z"
   },
   {
    "duration": 16,
    "start_time": "2022-04-11T10:06:34.897Z"
   },
   {
    "duration": 2362,
    "start_time": "2022-04-11T10:06:52.040Z"
   },
   {
    "duration": 2531,
    "start_time": "2022-04-11T10:07:09.433Z"
   },
   {
    "duration": 60,
    "start_time": "2022-04-11T10:07:59.744Z"
   },
   {
    "duration": 53,
    "start_time": "2022-04-11T10:08:01.507Z"
   },
   {
    "duration": 2210,
    "start_time": "2022-04-11T10:08:06.313Z"
   },
   {
    "duration": 36,
    "start_time": "2022-04-11T10:08:22.249Z"
   },
   {
    "duration": 41,
    "start_time": "2022-04-11T10:08:29.994Z"
   },
   {
    "duration": 64,
    "start_time": "2022-04-11T10:08:31.834Z"
   },
   {
    "duration": 7,
    "start_time": "2022-04-11T10:08:40.826Z"
   },
   {
    "duration": 58,
    "start_time": "2022-04-11T10:08:43.321Z"
   },
   {
    "duration": 64,
    "start_time": "2022-04-11T10:08:46.314Z"
   },
   {
    "duration": 5,
    "start_time": "2022-04-11T10:25:23.338Z"
   },
   {
    "duration": 12,
    "start_time": "2022-04-11T10:25:32.569Z"
   },
   {
    "duration": 12,
    "start_time": "2022-04-11T10:26:28.034Z"
   },
   {
    "duration": 49,
    "start_time": "2022-04-11T10:28:38.922Z"
   },
   {
    "duration": 19,
    "start_time": "2022-04-11T10:28:40.547Z"
   },
   {
    "duration": 8,
    "start_time": "2022-04-11T10:29:07.955Z"
   },
   {
    "duration": 9,
    "start_time": "2022-04-11T10:33:53.029Z"
   },
   {
    "duration": 2482,
    "start_time": "2022-04-11T10:40:23.384Z"
   },
   {
    "duration": 518,
    "start_time": "2022-04-11T10:41:20.220Z"
   },
   {
    "duration": 507,
    "start_time": "2022-04-11T10:41:20.741Z"
   },
   {
    "duration": 17,
    "start_time": "2022-04-11T10:41:21.251Z"
   },
   {
    "duration": 44,
    "start_time": "2022-04-11T10:41:21.273Z"
   },
   {
    "duration": 59,
    "start_time": "2022-04-11T10:41:21.320Z"
   },
   {
    "duration": 62,
    "start_time": "2022-04-11T10:41:21.382Z"
   },
   {
    "duration": 171,
    "start_time": "2022-04-11T10:41:21.468Z"
   },
   {
    "duration": 196,
    "start_time": "2022-04-11T10:41:21.641Z"
   },
   {
    "duration": 38,
    "start_time": "2022-04-11T10:41:21.840Z"
   },
   {
    "duration": 6,
    "start_time": "2022-04-11T10:41:21.882Z"
   },
   {
    "duration": 141,
    "start_time": "2022-04-11T10:41:21.891Z"
   },
   {
    "duration": 0,
    "start_time": "2022-04-11T10:41:22.035Z"
   },
   {
    "duration": 0,
    "start_time": "2022-04-11T10:41:22.037Z"
   },
   {
    "duration": 0,
    "start_time": "2022-04-11T10:41:22.039Z"
   },
   {
    "duration": 1,
    "start_time": "2022-04-11T10:41:22.041Z"
   },
   {
    "duration": 0,
    "start_time": "2022-04-11T10:41:22.043Z"
   },
   {
    "duration": 0,
    "start_time": "2022-04-11T10:41:22.045Z"
   },
   {
    "duration": 0,
    "start_time": "2022-04-11T10:41:22.067Z"
   },
   {
    "duration": 0,
    "start_time": "2022-04-11T10:41:22.069Z"
   },
   {
    "duration": 0,
    "start_time": "2022-04-11T10:41:22.071Z"
   },
   {
    "duration": 0,
    "start_time": "2022-04-11T10:41:22.073Z"
   },
   {
    "duration": 0,
    "start_time": "2022-04-11T10:41:22.075Z"
   },
   {
    "duration": 488,
    "start_time": "2022-04-11T10:44:12.588Z"
   },
   {
    "duration": 488,
    "start_time": "2022-04-11T10:44:13.079Z"
   },
   {
    "duration": 17,
    "start_time": "2022-04-11T10:44:13.569Z"
   },
   {
    "duration": 25,
    "start_time": "2022-04-11T10:44:13.588Z"
   },
   {
    "duration": 74,
    "start_time": "2022-04-11T10:44:13.617Z"
   },
   {
    "duration": 83,
    "start_time": "2022-04-11T10:44:13.693Z"
   },
   {
    "duration": 158,
    "start_time": "2022-04-11T10:44:13.778Z"
   },
   {
    "duration": 114,
    "start_time": "2022-04-11T10:44:13.939Z"
   },
   {
    "duration": 34,
    "start_time": "2022-04-11T10:44:14.056Z"
   },
   {
    "duration": 6,
    "start_time": "2022-04-11T10:44:14.092Z"
   },
   {
    "duration": 95,
    "start_time": "2022-04-11T10:44:14.100Z"
   },
   {
    "duration": 196,
    "start_time": "2022-04-11T10:44:14.198Z"
   },
   {
    "duration": 131,
    "start_time": "2022-04-11T10:44:14.397Z"
   },
   {
    "duration": 20,
    "start_time": "2022-04-11T10:44:14.534Z"
   },
   {
    "duration": 7,
    "start_time": "2022-04-11T10:44:14.568Z"
   },
   {
    "duration": 16,
    "start_time": "2022-04-11T10:44:14.577Z"
   },
   {
    "duration": 19,
    "start_time": "2022-04-11T10:44:14.595Z"
   },
   {
    "duration": 14,
    "start_time": "2022-04-11T10:44:14.616Z"
   },
   {
    "duration": 73,
    "start_time": "2022-04-11T10:44:14.632Z"
   },
   {
    "duration": 5,
    "start_time": "2022-04-11T10:44:14.708Z"
   },
   {
    "duration": 59,
    "start_time": "2022-04-11T10:44:14.714Z"
   },
   {
    "duration": 45,
    "start_time": "2022-04-11T10:44:14.776Z"
   },
   {
    "duration": 120,
    "start_time": "2022-04-11T10:44:14.823Z"
   },
   {
    "duration": 30,
    "start_time": "2022-04-11T10:44:45.110Z"
   },
   {
    "duration": 21,
    "start_time": "2022-04-11T10:44:51.085Z"
   },
   {
    "duration": 20,
    "start_time": "2022-04-11T10:44:57.717Z"
   },
   {
    "duration": 5,
    "start_time": "2022-04-11T10:45:07.925Z"
   },
   {
    "duration": 21,
    "start_time": "2022-04-11T10:45:08.812Z"
   },
   {
    "duration": 31,
    "start_time": "2022-04-11T10:45:09.932Z"
   },
   {
    "duration": 18,
    "start_time": "2022-04-11T10:45:18.489Z"
   },
   {
    "duration": 4,
    "start_time": "2022-04-11T10:45:25.390Z"
   },
   {
    "duration": 42,
    "start_time": "2022-04-11T10:45:38.413Z"
   },
   {
    "duration": 19,
    "start_time": "2022-04-11T10:46:08.950Z"
   },
   {
    "duration": 14,
    "start_time": "2022-04-11T10:46:36.182Z"
   },
   {
    "duration": 9,
    "start_time": "2022-04-11T10:48:58.440Z"
   },
   {
    "duration": 41,
    "start_time": "2022-04-11T10:51:07.216Z"
   },
   {
    "duration": 26,
    "start_time": "2022-04-11T10:51:26.953Z"
   },
   {
    "duration": 17,
    "start_time": "2022-04-11T10:52:36.290Z"
   },
   {
    "duration": 44,
    "start_time": "2022-04-11T10:52:52.186Z"
   },
   {
    "duration": 146,
    "start_time": "2022-04-11T10:54:41.795Z"
   },
   {
    "duration": 18,
    "start_time": "2022-04-11T10:55:00.185Z"
   },
   {
    "duration": 20,
    "start_time": "2022-04-11T10:55:55.746Z"
   },
   {
    "duration": 68,
    "start_time": "2022-04-11T11:02:26.981Z"
   },
   {
    "duration": 51,
    "start_time": "2022-04-11T11:03:28.344Z"
   },
   {
    "duration": 15,
    "start_time": "2022-04-11T11:05:05.414Z"
   },
   {
    "duration": 15,
    "start_time": "2022-04-11T11:05:27.822Z"
   },
   {
    "duration": 11,
    "start_time": "2022-04-11T11:07:15.759Z"
   },
   {
    "duration": 10,
    "start_time": "2022-04-11T11:08:02.384Z"
   },
   {
    "duration": 14,
    "start_time": "2022-04-11T11:08:35.547Z"
   },
   {
    "duration": 10,
    "start_time": "2022-04-11T11:08:43.456Z"
   },
   {
    "duration": 14,
    "start_time": "2022-04-11T11:09:49.409Z"
   },
   {
    "duration": 12,
    "start_time": "2022-04-11T11:09:55.296Z"
   },
   {
    "duration": 11,
    "start_time": "2022-04-11T11:13:50.035Z"
   },
   {
    "duration": 8,
    "start_time": "2022-04-11T11:15:14.634Z"
   },
   {
    "duration": 8,
    "start_time": "2022-04-11T11:16:49.811Z"
   },
   {
    "duration": 9,
    "start_time": "2022-04-11T11:17:00.067Z"
   },
   {
    "duration": 45,
    "start_time": "2022-04-11T11:17:06.587Z"
   },
   {
    "duration": 11,
    "start_time": "2022-04-11T11:19:05.950Z"
   },
   {
    "duration": 8,
    "start_time": "2022-04-11T11:19:29.828Z"
   },
   {
    "duration": 47,
    "start_time": "2022-04-11T11:19:48.308Z"
   },
   {
    "duration": 52,
    "start_time": "2022-04-11T11:21:50.623Z"
   },
   {
    "duration": 2285,
    "start_time": "2022-04-11T11:22:39.293Z"
   },
   {
    "duration": 49,
    "start_time": "2022-04-11T11:22:47.822Z"
   },
   {
    "duration": 476,
    "start_time": "2022-04-11T11:23:51.403Z"
   },
   {
    "duration": 488,
    "start_time": "2022-04-11T11:23:51.882Z"
   },
   {
    "duration": 16,
    "start_time": "2022-04-11T11:23:52.372Z"
   },
   {
    "duration": 23,
    "start_time": "2022-04-11T11:23:52.391Z"
   },
   {
    "duration": 70,
    "start_time": "2022-04-11T11:23:52.416Z"
   },
   {
    "duration": 80,
    "start_time": "2022-04-11T11:23:52.489Z"
   },
   {
    "duration": 165,
    "start_time": "2022-04-11T11:23:52.572Z"
   },
   {
    "duration": 113,
    "start_time": "2022-04-11T11:23:52.740Z"
   },
   {
    "duration": 34,
    "start_time": "2022-04-11T11:23:52.855Z"
   },
   {
    "duration": 7,
    "start_time": "2022-04-11T11:23:52.892Z"
   },
   {
    "duration": 96,
    "start_time": "2022-04-11T11:23:52.901Z"
   },
   {
    "duration": 130,
    "start_time": "2022-04-11T11:23:52.999Z"
   },
   {
    "duration": 90,
    "start_time": "2022-04-11T11:23:53.131Z"
   },
   {
    "duration": 16,
    "start_time": "2022-04-11T11:23:53.223Z"
   },
   {
    "duration": 10,
    "start_time": "2022-04-11T11:23:53.241Z"
   },
   {
    "duration": 12,
    "start_time": "2022-04-11T11:23:53.268Z"
   },
   {
    "duration": 18,
    "start_time": "2022-04-11T11:23:53.283Z"
   },
   {
    "duration": 15,
    "start_time": "2022-04-11T11:23:53.303Z"
   },
   {
    "duration": 68,
    "start_time": "2022-04-11T11:23:53.321Z"
   },
   {
    "duration": 5,
    "start_time": "2022-04-11T11:23:53.392Z"
   },
   {
    "duration": 22,
    "start_time": "2022-04-11T11:23:53.399Z"
   },
   {
    "duration": 56,
    "start_time": "2022-04-11T11:23:53.423Z"
   },
   {
    "duration": 4,
    "start_time": "2022-04-11T11:23:53.482Z"
   },
   {
    "duration": 8,
    "start_time": "2022-04-11T11:23:53.489Z"
   },
   {
    "duration": 40,
    "start_time": "2022-04-11T11:23:53.499Z"
   },
   {
    "duration": 50,
    "start_time": "2022-04-11T11:23:53.568Z"
   },
   {
    "duration": 72,
    "start_time": "2022-04-11T11:23:53.621Z"
   },
   {
    "duration": 8,
    "start_time": "2022-04-11T11:24:40.940Z"
   },
   {
    "duration": 812,
    "start_time": "2022-04-11T11:25:18.771Z"
   },
   {
    "duration": 10,
    "start_time": "2022-04-11T11:25:26.091Z"
   },
   {
    "duration": 55,
    "start_time": "2022-04-11T11:25:44.692Z"
   },
   {
    "duration": 12,
    "start_time": "2022-04-11T11:26:21.348Z"
   },
   {
    "duration": 9,
    "start_time": "2022-04-11T11:26:39.428Z"
   },
   {
    "duration": 43,
    "start_time": "2022-04-11T11:26:44.260Z"
   },
   {
    "duration": 45,
    "start_time": "2022-04-11T11:28:10.685Z"
   },
   {
    "duration": 43,
    "start_time": "2022-04-11T11:28:35.876Z"
   },
   {
    "duration": 46,
    "start_time": "2022-04-11T11:29:36.045Z"
   },
   {
    "duration": 62,
    "start_time": "2022-04-11T11:31:33.733Z"
   },
   {
    "duration": 45,
    "start_time": "2022-04-11T11:31:51.086Z"
   },
   {
    "duration": 54,
    "start_time": "2022-04-11T11:31:59.719Z"
   },
   {
    "duration": 56,
    "start_time": "2022-04-11T11:32:12.198Z"
   },
   {
    "duration": 47,
    "start_time": "2022-04-11T11:32:44.599Z"
   },
   {
    "duration": 458,
    "start_time": "2022-04-11T11:35:26.003Z"
   },
   {
    "duration": 470,
    "start_time": "2022-04-11T11:35:26.464Z"
   },
   {
    "duration": 16,
    "start_time": "2022-04-11T11:35:26.937Z"
   },
   {
    "duration": 34,
    "start_time": "2022-04-11T11:35:26.956Z"
   },
   {
    "duration": 55,
    "start_time": "2022-04-11T11:35:26.995Z"
   },
   {
    "duration": 111,
    "start_time": "2022-04-11T11:35:27.068Z"
   },
   {
    "duration": 217,
    "start_time": "2022-04-11T11:35:27.182Z"
   },
   {
    "duration": 166,
    "start_time": "2022-04-11T11:35:27.401Z"
   },
   {
    "duration": 37,
    "start_time": "2022-04-11T11:35:27.570Z"
   },
   {
    "duration": 7,
    "start_time": "2022-04-11T11:35:27.609Z"
   },
   {
    "duration": 98,
    "start_time": "2022-04-11T11:35:27.618Z"
   },
   {
    "duration": 133,
    "start_time": "2022-04-11T11:35:27.718Z"
   },
   {
    "duration": 85,
    "start_time": "2022-04-11T11:35:27.853Z"
   },
   {
    "duration": 27,
    "start_time": "2022-04-11T11:35:27.943Z"
   },
   {
    "duration": 34,
    "start_time": "2022-04-11T11:35:27.972Z"
   },
   {
    "duration": 5,
    "start_time": "2022-04-11T11:35:28.008Z"
   },
   {
    "duration": 54,
    "start_time": "2022-04-11T11:35:28.016Z"
   },
   {
    "duration": 43,
    "start_time": "2022-04-11T11:35:28.073Z"
   },
   {
    "duration": 78,
    "start_time": "2022-04-11T11:35:28.118Z"
   },
   {
    "duration": 92,
    "start_time": "2022-04-11T11:35:28.199Z"
   },
   {
    "duration": 77,
    "start_time": "2022-04-11T11:35:28.294Z"
   },
   {
    "duration": 7,
    "start_time": "2022-04-11T11:35:28.374Z"
   },
   {
    "duration": 48,
    "start_time": "2022-04-11T11:35:40.179Z"
   },
   {
    "duration": 6,
    "start_time": "2022-04-11T11:35:53.709Z"
   },
   {
    "duration": 604,
    "start_time": "2022-04-11T11:38:26.983Z"
   },
   {
    "duration": 650,
    "start_time": "2022-04-11T11:38:27.590Z"
   },
   {
    "duration": 16,
    "start_time": "2022-04-11T11:38:28.243Z"
   },
   {
    "duration": 32,
    "start_time": "2022-04-11T11:38:28.261Z"
   },
   {
    "duration": 42,
    "start_time": "2022-04-11T11:38:28.297Z"
   },
   {
    "duration": 76,
    "start_time": "2022-04-11T11:38:28.341Z"
   },
   {
    "duration": 169,
    "start_time": "2022-04-11T11:38:28.419Z"
   },
   {
    "duration": 184,
    "start_time": "2022-04-11T11:38:28.591Z"
   },
   {
    "duration": 38,
    "start_time": "2022-04-11T11:38:28.779Z"
   },
   {
    "duration": 8,
    "start_time": "2022-04-11T11:38:28.820Z"
   },
   {
    "duration": 116,
    "start_time": "2022-04-11T11:38:28.831Z"
   },
   {
    "duration": 134,
    "start_time": "2022-04-11T11:38:28.950Z"
   },
   {
    "duration": 84,
    "start_time": "2022-04-11T11:38:29.086Z"
   },
   {
    "duration": 17,
    "start_time": "2022-04-11T11:38:29.175Z"
   },
   {
    "duration": 158,
    "start_time": "2022-04-11T11:38:29.195Z"
   },
   {
    "duration": 0,
    "start_time": "2022-04-11T11:38:29.355Z"
   },
   {
    "duration": 0,
    "start_time": "2022-04-11T11:38:29.358Z"
   },
   {
    "duration": 0,
    "start_time": "2022-04-11T11:38:29.360Z"
   },
   {
    "duration": 0,
    "start_time": "2022-04-11T11:38:29.361Z"
   },
   {
    "duration": 0,
    "start_time": "2022-04-11T11:38:29.363Z"
   },
   {
    "duration": 0,
    "start_time": "2022-04-11T11:38:29.364Z"
   },
   {
    "duration": 0,
    "start_time": "2022-04-11T11:38:29.366Z"
   },
   {
    "duration": 0,
    "start_time": "2022-04-11T11:38:29.368Z"
   },
   {
    "duration": 468,
    "start_time": "2022-04-11T11:38:48.886Z"
   },
   {
    "duration": 471,
    "start_time": "2022-04-11T11:38:49.357Z"
   },
   {
    "duration": 16,
    "start_time": "2022-04-11T11:38:49.830Z"
   },
   {
    "duration": 25,
    "start_time": "2022-04-11T11:38:49.848Z"
   },
   {
    "duration": 42,
    "start_time": "2022-04-11T11:38:49.877Z"
   },
   {
    "duration": 80,
    "start_time": "2022-04-11T11:38:49.922Z"
   },
   {
    "duration": 154,
    "start_time": "2022-04-11T11:38:50.004Z"
   },
   {
    "duration": 118,
    "start_time": "2022-04-11T11:38:50.160Z"
   },
   {
    "duration": 26,
    "start_time": "2022-04-11T11:38:50.280Z"
   },
   {
    "duration": 6,
    "start_time": "2022-04-11T11:38:50.308Z"
   },
   {
    "duration": 101,
    "start_time": "2022-04-11T11:38:50.316Z"
   },
   {
    "duration": 126,
    "start_time": "2022-04-11T11:38:50.419Z"
   },
   {
    "duration": 90,
    "start_time": "2022-04-11T11:38:50.548Z"
   },
   {
    "duration": 27,
    "start_time": "2022-04-11T11:38:50.643Z"
   },
   {
    "duration": 117,
    "start_time": "2022-04-11T11:38:50.673Z"
   },
   {
    "duration": 0,
    "start_time": "2022-04-11T11:38:50.794Z"
   },
   {
    "duration": 0,
    "start_time": "2022-04-11T11:38:50.796Z"
   },
   {
    "duration": 0,
    "start_time": "2022-04-11T11:38:50.798Z"
   },
   {
    "duration": 0,
    "start_time": "2022-04-11T11:38:50.799Z"
   },
   {
    "duration": 0,
    "start_time": "2022-04-11T11:38:50.800Z"
   },
   {
    "duration": 0,
    "start_time": "2022-04-11T11:38:50.801Z"
   },
   {
    "duration": 0,
    "start_time": "2022-04-11T11:38:50.803Z"
   },
   {
    "duration": 0,
    "start_time": "2022-04-11T11:38:50.804Z"
   },
   {
    "duration": 25,
    "start_time": "2022-04-11T11:40:56.421Z"
   },
   {
    "duration": 29,
    "start_time": "2022-04-11T11:43:34.287Z"
   },
   {
    "duration": 5,
    "start_time": "2022-04-11T11:43:35.583Z"
   },
   {
    "duration": 20,
    "start_time": "2022-04-11T11:43:36.992Z"
   },
   {
    "duration": 31,
    "start_time": "2022-04-11T11:43:37.944Z"
   },
   {
    "duration": 52,
    "start_time": "2022-04-11T11:43:38.591Z"
   },
   {
    "duration": 58,
    "start_time": "2022-04-11T11:43:43.848Z"
   },
   {
    "duration": 55,
    "start_time": "2022-04-11T11:43:48.503Z"
   },
   {
    "duration": 7,
    "start_time": "2022-04-11T11:43:56.423Z"
   },
   {
    "duration": 7,
    "start_time": "2022-04-11T11:43:57.079Z"
   },
   {
    "duration": 48,
    "start_time": "2022-04-11T11:43:57.655Z"
   },
   {
    "duration": 171,
    "start_time": "2022-04-11T11:46:23.249Z"
   },
   {
    "duration": 17,
    "start_time": "2022-04-11T11:46:31.192Z"
   },
   {
    "duration": 22,
    "start_time": "2022-04-11T11:48:40.057Z"
   },
   {
    "duration": 30,
    "start_time": "2022-04-11T11:48:44.714Z"
   },
   {
    "duration": 529,
    "start_time": "2022-04-11T11:49:00.368Z"
   },
   {
    "duration": 505,
    "start_time": "2022-04-11T11:49:00.900Z"
   },
   {
    "duration": 19,
    "start_time": "2022-04-11T11:49:01.407Z"
   },
   {
    "duration": 31,
    "start_time": "2022-04-11T11:49:01.429Z"
   },
   {
    "duration": 45,
    "start_time": "2022-04-11T11:49:01.462Z"
   },
   {
    "duration": 74,
    "start_time": "2022-04-11T11:49:01.509Z"
   },
   {
    "duration": 171,
    "start_time": "2022-04-11T11:49:01.586Z"
   },
   {
    "duration": 129,
    "start_time": "2022-04-11T11:49:01.759Z"
   },
   {
    "duration": 26,
    "start_time": "2022-04-11T11:49:01.891Z"
   },
   {
    "duration": 8,
    "start_time": "2022-04-11T11:49:01.921Z"
   },
   {
    "duration": 102,
    "start_time": "2022-04-11T11:49:01.932Z"
   },
   {
    "duration": 145,
    "start_time": "2022-04-11T11:49:02.036Z"
   },
   {
    "duration": 91,
    "start_time": "2022-04-11T11:49:02.187Z"
   },
   {
    "duration": 17,
    "start_time": "2022-04-11T11:49:02.281Z"
   },
   {
    "duration": 38,
    "start_time": "2022-04-11T11:49:02.300Z"
   },
   {
    "duration": 55,
    "start_time": "2022-04-11T11:49:02.342Z"
   },
   {
    "duration": 5,
    "start_time": "2022-04-11T11:49:02.399Z"
   },
   {
    "duration": 27,
    "start_time": "2022-04-11T11:49:02.407Z"
   },
   {
    "duration": 76,
    "start_time": "2022-04-11T11:49:02.437Z"
   },
   {
    "duration": 76,
    "start_time": "2022-04-11T11:49:02.517Z"
   },
   {
    "duration": 74,
    "start_time": "2022-04-11T11:49:02.595Z"
   },
   {
    "duration": 7,
    "start_time": "2022-04-11T11:49:02.671Z"
   },
   {
    "duration": 16,
    "start_time": "2022-04-11T11:49:02.681Z"
   },
   {
    "duration": 99,
    "start_time": "2022-04-11T11:49:02.700Z"
   },
   {
    "duration": 28,
    "start_time": "2022-04-11T11:51:33.119Z"
   },
   {
    "duration": 36,
    "start_time": "2022-04-11T11:51:56.535Z"
   },
   {
    "duration": 2960,
    "start_time": "2022-04-11T11:56:39.610Z"
   },
   {
    "duration": 2517,
    "start_time": "2022-04-11T11:56:53.977Z"
   },
   {
    "duration": 2635,
    "start_time": "2022-04-11T11:57:07.593Z"
   },
   {
    "duration": 18,
    "start_time": "2022-04-11T11:57:14.760Z"
   },
   {
    "duration": 7,
    "start_time": "2022-04-11T11:57:30.473Z"
   },
   {
    "duration": 204,
    "start_time": "2022-04-11T11:57:41.673Z"
   },
   {
    "duration": 6,
    "start_time": "2022-04-11T11:57:45.265Z"
   },
   {
    "duration": 8,
    "start_time": "2022-04-11T11:58:01.200Z"
   },
   {
    "duration": 13,
    "start_time": "2022-04-11T11:58:17.697Z"
   },
   {
    "duration": 12,
    "start_time": "2022-04-11T11:58:23.010Z"
   },
   {
    "duration": 6,
    "start_time": "2022-04-11T11:58:28.402Z"
   },
   {
    "duration": 7,
    "start_time": "2022-04-11T11:58:32.962Z"
   },
   {
    "duration": 9,
    "start_time": "2022-04-11T11:58:48.186Z"
   },
   {
    "duration": 56,
    "start_time": "2022-04-11T11:59:39.114Z"
   },
   {
    "duration": 43,
    "start_time": "2022-04-11T12:00:18.611Z"
   },
   {
    "duration": 8,
    "start_time": "2022-04-11T12:00:21.025Z"
   },
   {
    "duration": 7,
    "start_time": "2022-04-11T12:00:25.498Z"
   },
   {
    "duration": 7,
    "start_time": "2022-04-11T12:00:37.218Z"
   },
   {
    "duration": 6,
    "start_time": "2022-04-11T12:00:50.859Z"
   },
   {
    "duration": 8,
    "start_time": "2022-04-11T12:01:13.291Z"
   },
   {
    "duration": 44,
    "start_time": "2022-04-11T12:01:37.042Z"
   },
   {
    "duration": 2424,
    "start_time": "2022-04-11T12:02:49.651Z"
   },
   {
    "duration": 2194,
    "start_time": "2022-04-11T12:03:56.589Z"
   },
   {
    "duration": 2100,
    "start_time": "2022-04-11T12:04:06.580Z"
   },
   {
    "duration": 2287,
    "start_time": "2022-04-11T12:04:16.064Z"
   },
   {
    "duration": 16,
    "start_time": "2022-04-11T12:04:37.268Z"
   },
   {
    "duration": 509,
    "start_time": "2022-04-11T12:05:29.243Z"
   },
   {
    "duration": 473,
    "start_time": "2022-04-11T12:05:29.755Z"
   },
   {
    "duration": 18,
    "start_time": "2022-04-11T12:05:30.230Z"
   },
   {
    "duration": 35,
    "start_time": "2022-04-11T12:05:30.251Z"
   },
   {
    "duration": 56,
    "start_time": "2022-04-11T12:05:30.289Z"
   },
   {
    "duration": 122,
    "start_time": "2022-04-11T12:05:30.348Z"
   },
   {
    "duration": 203,
    "start_time": "2022-04-11T12:05:30.472Z"
   },
   {
    "duration": 177,
    "start_time": "2022-04-11T12:05:30.678Z"
   },
   {
    "duration": 38,
    "start_time": "2022-04-11T12:05:30.857Z"
   },
   {
    "duration": 8,
    "start_time": "2022-04-11T12:05:30.901Z"
   },
   {
    "duration": 117,
    "start_time": "2022-04-11T12:05:30.911Z"
   },
   {
    "duration": 164,
    "start_time": "2022-04-11T12:05:31.030Z"
   },
   {
    "duration": 96,
    "start_time": "2022-04-11T12:05:31.197Z"
   },
   {
    "duration": 17,
    "start_time": "2022-04-11T12:05:31.296Z"
   },
   {
    "duration": 481,
    "start_time": "2022-04-11T12:05:31.315Z"
   },
   {
    "duration": 27,
    "start_time": "2022-04-11T12:05:31.798Z"
   },
   {
    "duration": 60,
    "start_time": "2022-04-11T12:05:31.827Z"
   },
   {
    "duration": 5,
    "start_time": "2022-04-11T12:05:31.890Z"
   },
   {
    "duration": 24,
    "start_time": "2022-04-11T12:05:31.897Z"
   },
   {
    "duration": 58,
    "start_time": "2022-04-11T12:05:31.923Z"
   },
   {
    "duration": 64,
    "start_time": "2022-04-11T12:05:31.984Z"
   },
   {
    "duration": 87,
    "start_time": "2022-04-11T12:05:32.050Z"
   },
   {
    "duration": 6,
    "start_time": "2022-04-11T12:05:32.139Z"
   },
   {
    "duration": 8,
    "start_time": "2022-04-11T12:05:32.166Z"
   },
   {
    "duration": 66,
    "start_time": "2022-04-11T12:05:32.176Z"
   },
   {
    "duration": 107,
    "start_time": "2022-04-11T12:06:47.080Z"
   },
   {
    "duration": 37,
    "start_time": "2022-04-11T12:09:38.193Z"
   },
   {
    "duration": 39,
    "start_time": "2022-04-11T12:09:46.585Z"
   },
   {
    "duration": 10,
    "start_time": "2022-04-11T12:12:09.762Z"
   },
   {
    "duration": 542,
    "start_time": "2022-04-11T12:12:41.587Z"
   },
   {
    "duration": 86,
    "start_time": "2022-04-11T12:13:31.124Z"
   },
   {
    "duration": 46,
    "start_time": "2022-04-11T12:14:04.715Z"
   },
   {
    "duration": 523,
    "start_time": "2022-04-11T12:14:40.231Z"
   },
   {
    "duration": 474,
    "start_time": "2022-04-11T12:14:40.757Z"
   },
   {
    "duration": 17,
    "start_time": "2022-04-11T12:14:41.233Z"
   },
   {
    "duration": 29,
    "start_time": "2022-04-11T12:14:41.253Z"
   },
   {
    "duration": 41,
    "start_time": "2022-04-11T12:14:41.284Z"
   },
   {
    "duration": 77,
    "start_time": "2022-04-11T12:14:41.327Z"
   },
   {
    "duration": 157,
    "start_time": "2022-04-11T12:14:41.406Z"
   },
   {
    "duration": 117,
    "start_time": "2022-04-11T12:14:41.565Z"
   },
   {
    "duration": 25,
    "start_time": "2022-04-11T12:14:41.684Z"
   },
   {
    "duration": 6,
    "start_time": "2022-04-11T12:14:41.713Z"
   },
   {
    "duration": 96,
    "start_time": "2022-04-11T12:14:41.721Z"
   },
   {
    "duration": 122,
    "start_time": "2022-04-11T12:14:41.819Z"
   },
   {
    "duration": 82,
    "start_time": "2022-04-11T12:14:41.944Z"
   },
   {
    "duration": 3,
    "start_time": "2022-04-11T12:14:42.029Z"
   },
   {
    "duration": 134,
    "start_time": "2022-04-11T12:14:42.035Z"
   },
   {
    "duration": 0,
    "start_time": "2022-04-11T12:14:42.172Z"
   },
   {
    "duration": 0,
    "start_time": "2022-04-11T12:14:42.173Z"
   },
   {
    "duration": 0,
    "start_time": "2022-04-11T12:14:42.175Z"
   },
   {
    "duration": 0,
    "start_time": "2022-04-11T12:14:42.176Z"
   },
   {
    "duration": 0,
    "start_time": "2022-04-11T12:14:42.178Z"
   },
   {
    "duration": 0,
    "start_time": "2022-04-11T12:14:42.180Z"
   },
   {
    "duration": 0,
    "start_time": "2022-04-11T12:14:42.182Z"
   },
   {
    "duration": 0,
    "start_time": "2022-04-11T12:14:42.183Z"
   },
   {
    "duration": 0,
    "start_time": "2022-04-11T12:14:42.184Z"
   },
   {
    "duration": 0,
    "start_time": "2022-04-11T12:14:42.185Z"
   },
   {
    "duration": 536,
    "start_time": "2022-04-11T12:15:08.228Z"
   },
   {
    "duration": 466,
    "start_time": "2022-04-11T12:15:08.769Z"
   },
   {
    "duration": 16,
    "start_time": "2022-04-11T12:15:09.237Z"
   },
   {
    "duration": 26,
    "start_time": "2022-04-11T12:15:09.255Z"
   },
   {
    "duration": 41,
    "start_time": "2022-04-11T12:15:09.284Z"
   },
   {
    "duration": 74,
    "start_time": "2022-04-11T12:15:09.327Z"
   },
   {
    "duration": 157,
    "start_time": "2022-04-11T12:15:09.404Z"
   },
   {
    "duration": 120,
    "start_time": "2022-04-11T12:15:09.563Z"
   },
   {
    "duration": 26,
    "start_time": "2022-04-11T12:15:09.685Z"
   },
   {
    "duration": 6,
    "start_time": "2022-04-11T12:15:09.713Z"
   },
   {
    "duration": 98,
    "start_time": "2022-04-11T12:15:09.721Z"
   },
   {
    "duration": 129,
    "start_time": "2022-04-11T12:15:09.821Z"
   },
   {
    "duration": 81,
    "start_time": "2022-04-11T12:15:09.953Z"
   },
   {
    "duration": 4,
    "start_time": "2022-04-11T12:15:10.038Z"
   },
   {
    "duration": 56,
    "start_time": "2022-04-11T12:15:10.044Z"
   },
   {
    "duration": 26,
    "start_time": "2022-04-11T12:15:10.103Z"
   },
   {
    "duration": 59,
    "start_time": "2022-04-11T12:15:10.131Z"
   },
   {
    "duration": 6,
    "start_time": "2022-04-11T12:15:10.192Z"
   },
   {
    "duration": 26,
    "start_time": "2022-04-11T12:15:10.200Z"
   },
   {
    "duration": 55,
    "start_time": "2022-04-11T12:15:10.228Z"
   },
   {
    "duration": 54,
    "start_time": "2022-04-11T12:15:10.285Z"
   },
   {
    "duration": 79,
    "start_time": "2022-04-11T12:15:10.342Z"
   },
   {
    "duration": 7,
    "start_time": "2022-04-11T12:15:10.423Z"
   },
   {
    "duration": 11,
    "start_time": "2022-04-11T12:15:10.432Z"
   },
   {
    "duration": 78,
    "start_time": "2022-04-11T12:15:10.445Z"
   },
   {
    "duration": 27,
    "start_time": "2022-04-11T12:16:19.379Z"
   },
   {
    "duration": 35,
    "start_time": "2022-04-11T12:16:37.369Z"
   },
   {
    "duration": 16,
    "start_time": "2022-04-11T12:21:49.664Z"
   },
   {
    "duration": 19,
    "start_time": "2022-04-11T12:22:20.156Z"
   },
   {
    "duration": 993,
    "start_time": "2022-04-11T12:22:46.325Z"
   },
   {
    "duration": 225,
    "start_time": "2022-04-11T12:23:00.789Z"
   },
   {
    "duration": 280,
    "start_time": "2022-04-11T12:23:10.397Z"
   },
   {
    "duration": 10,
    "start_time": "2022-04-11T12:25:23.526Z"
   },
   {
    "duration": 12,
    "start_time": "2022-04-11T12:26:39.689Z"
   },
   {
    "duration": 12,
    "start_time": "2022-04-11T12:26:55.647Z"
   },
   {
    "duration": 55,
    "start_time": "2022-04-11T12:28:41.879Z"
   },
   {
    "duration": 10,
    "start_time": "2022-04-11T12:29:42.897Z"
   },
   {
    "duration": 12,
    "start_time": "2022-04-11T12:31:21.784Z"
   },
   {
    "duration": 33,
    "start_time": "2022-04-11T12:33:01.442Z"
   },
   {
    "duration": 107,
    "start_time": "2022-04-11T12:34:57.805Z"
   },
   {
    "duration": 20,
    "start_time": "2022-04-11T12:35:11.019Z"
   },
   {
    "duration": 37,
    "start_time": "2022-04-11T12:35:19.476Z"
   },
   {
    "duration": 7,
    "start_time": "2022-04-11T12:35:58.651Z"
   },
   {
    "duration": 17,
    "start_time": "2022-04-11T12:36:13.916Z"
   },
   {
    "duration": 7,
    "start_time": "2022-04-11T12:38:33.423Z"
   },
   {
    "duration": 7,
    "start_time": "2022-04-11T12:39:09.092Z"
   },
   {
    "duration": 421,
    "start_time": "2022-04-11T12:39:30.773Z"
   },
   {
    "duration": 9,
    "start_time": "2022-04-11T12:42:14.662Z"
   },
   {
    "duration": 5,
    "start_time": "2022-04-11T12:42:20.509Z"
   },
   {
    "duration": 12,
    "start_time": "2022-04-11T12:42:22.838Z"
   },
   {
    "duration": 6,
    "start_time": "2022-04-11T12:43:08.686Z"
   },
   {
    "duration": 10,
    "start_time": "2022-04-11T12:43:20.558Z"
   },
   {
    "duration": 5,
    "start_time": "2022-04-11T12:43:42.566Z"
   },
   {
    "duration": 6,
    "start_time": "2022-04-11T12:43:49.742Z"
   },
   {
    "duration": 6,
    "start_time": "2022-04-11T12:45:13.887Z"
   },
   {
    "duration": 4,
    "start_time": "2022-04-11T12:45:14.279Z"
   },
   {
    "duration": 5,
    "start_time": "2022-04-11T12:45:14.728Z"
   },
   {
    "duration": 268,
    "start_time": "2022-04-11T12:45:15.223Z"
   },
   {
    "duration": 5,
    "start_time": "2022-04-11T12:46:46.743Z"
   },
   {
    "duration": 366,
    "start_time": "2022-04-11T12:46:50.584Z"
   },
   {
    "duration": 6,
    "start_time": "2022-04-11T12:48:04.562Z"
   },
   {
    "duration": 5,
    "start_time": "2022-04-11T12:48:04.960Z"
   },
   {
    "duration": 5,
    "start_time": "2022-04-11T12:48:05.432Z"
   },
   {
    "duration": 6,
    "start_time": "2022-04-11T12:49:17.673Z"
   },
   {
    "duration": 7,
    "start_time": "2022-04-11T12:49:30.418Z"
   },
   {
    "duration": 7,
    "start_time": "2022-04-11T12:49:38.321Z"
   },
   {
    "duration": 4,
    "start_time": "2022-04-11T12:49:41.001Z"
   },
   {
    "duration": 6,
    "start_time": "2022-04-11T12:49:41.641Z"
   },
   {
    "duration": 5,
    "start_time": "2022-04-11T12:49:56.281Z"
   },
   {
    "duration": 5,
    "start_time": "2022-04-11T12:49:57.466Z"
   },
   {
    "duration": 248,
    "start_time": "2022-04-11T12:49:58.706Z"
   },
   {
    "duration": 5,
    "start_time": "2022-04-11T12:50:00.474Z"
   },
   {
    "duration": 6,
    "start_time": "2022-04-11T12:51:16.171Z"
   },
   {
    "duration": 36,
    "start_time": "2022-04-11T12:53:51.579Z"
   },
   {
    "duration": 6,
    "start_time": "2022-04-11T12:54:51.005Z"
   },
   {
    "duration": 5,
    "start_time": "2022-04-11T12:54:51.843Z"
   },
   {
    "duration": 6,
    "start_time": "2022-04-11T12:54:52.699Z"
   },
   {
    "duration": 6,
    "start_time": "2022-04-11T12:55:38.374Z"
   },
   {
    "duration": 411,
    "start_time": "2022-04-11T12:57:57.852Z"
   },
   {
    "duration": 263,
    "start_time": "2022-04-11T12:58:03.389Z"
   },
   {
    "duration": 5,
    "start_time": "2022-04-11T13:00:45.808Z"
   },
   {
    "duration": 50,
    "start_time": "2022-04-11T13:00:53.502Z"
   },
   {
    "duration": 22,
    "start_time": "2022-04-11T13:01:07.142Z"
   },
   {
    "duration": 104,
    "start_time": "2022-04-11T13:01:12.127Z"
   },
   {
    "duration": 8,
    "start_time": "2022-04-11T13:01:40.502Z"
   },
   {
    "duration": 275,
    "start_time": "2022-04-11T13:01:41.738Z"
   },
   {
    "duration": 7,
    "start_time": "2022-04-11T13:02:53.976Z"
   },
   {
    "duration": 40,
    "start_time": "2022-04-11T13:04:22.280Z"
   },
   {
    "duration": 8,
    "start_time": "2022-04-11T13:07:31.322Z"
   },
   {
    "duration": 132,
    "start_time": "2022-04-11T13:07:33.037Z"
   },
   {
    "duration": 288,
    "start_time": "2022-04-11T13:07:38.433Z"
   },
   {
    "duration": 8,
    "start_time": "2022-04-11T13:07:40.897Z"
   },
   {
    "duration": 181,
    "start_time": "2022-04-11T13:07:44.505Z"
   },
   {
    "duration": 278,
    "start_time": "2022-04-11T13:07:48.171Z"
   },
   {
    "duration": 6,
    "start_time": "2022-04-11T13:07:56.931Z"
   },
   {
    "duration": 289,
    "start_time": "2022-04-11T13:08:08.827Z"
   },
   {
    "duration": 282,
    "start_time": "2022-04-11T13:08:19.773Z"
   },
   {
    "duration": 305,
    "start_time": "2022-04-11T13:11:12.132Z"
   },
   {
    "duration": 52,
    "start_time": "2022-04-11T13:12:00.620Z"
   },
   {
    "duration": 50,
    "start_time": "2022-04-11T13:12:42.804Z"
   },
   {
    "duration": 7,
    "start_time": "2022-04-11T13:12:59.284Z"
   },
   {
    "duration": 7,
    "start_time": "2022-04-11T13:13:00.107Z"
   },
   {
    "duration": 24,
    "start_time": "2022-04-11T13:19:23.864Z"
   },
   {
    "duration": 749,
    "start_time": "2022-04-11T13:19:41.703Z"
   },
   {
    "duration": 75,
    "start_time": "2022-04-11T13:19:46.871Z"
   },
   {
    "duration": 8,
    "start_time": "2022-04-11T13:20:39.488Z"
   },
   {
    "duration": 9,
    "start_time": "2022-04-11T13:20:51.496Z"
   },
   {
    "duration": 8,
    "start_time": "2022-04-11T13:25:43.371Z"
   },
   {
    "duration": 43,
    "start_time": "2022-04-11T13:27:59.565Z"
   },
   {
    "duration": 39,
    "start_time": "2022-04-11T13:28:11.775Z"
   },
   {
    "duration": 37,
    "start_time": "2022-04-11T13:28:31.823Z"
   },
   {
    "duration": 40,
    "start_time": "2022-04-11T13:28:59.192Z"
   },
   {
    "duration": 38,
    "start_time": "2022-04-11T13:29:52.926Z"
   },
   {
    "duration": 37,
    "start_time": "2022-04-11T13:29:57.958Z"
   },
   {
    "duration": 6,
    "start_time": "2022-04-11T13:30:37.759Z"
   },
   {
    "duration": 8,
    "start_time": "2022-04-11T13:31:08.767Z"
   },
   {
    "duration": 8,
    "start_time": "2022-04-11T13:31:20.943Z"
   },
   {
    "duration": 4,
    "start_time": "2022-04-11T13:31:53.239Z"
   },
   {
    "duration": 1365,
    "start_time": "2022-04-11T13:34:24.473Z"
   },
   {
    "duration": 687,
    "start_time": "2022-04-11T13:34:25.841Z"
   },
   {
    "duration": 22,
    "start_time": "2022-04-11T13:34:26.531Z"
   },
   {
    "duration": 38,
    "start_time": "2022-04-11T13:34:26.557Z"
   },
   {
    "duration": 73,
    "start_time": "2022-04-11T13:34:26.599Z"
   },
   {
    "duration": 118,
    "start_time": "2022-04-11T13:34:26.675Z"
   },
   {
    "duration": 214,
    "start_time": "2022-04-11T13:34:26.796Z"
   },
   {
    "duration": 192,
    "start_time": "2022-04-11T13:34:27.013Z"
   },
   {
    "duration": 38,
    "start_time": "2022-04-11T13:34:27.208Z"
   },
   {
    "duration": 7,
    "start_time": "2022-04-11T13:34:27.267Z"
   },
   {
    "duration": 78,
    "start_time": "2022-04-11T13:34:27.277Z"
   },
   {
    "duration": 137,
    "start_time": "2022-04-11T13:34:27.368Z"
   },
   {
    "duration": 45,
    "start_time": "2022-04-11T13:34:27.507Z"
   },
   {
    "duration": 4,
    "start_time": "2022-04-11T13:34:27.570Z"
   },
   {
    "duration": 68,
    "start_time": "2022-04-11T13:34:27.578Z"
   },
   {
    "duration": 75,
    "start_time": "2022-04-11T13:34:27.649Z"
   },
   {
    "duration": 6,
    "start_time": "2022-04-11T13:34:27.727Z"
   },
   {
    "duration": 57,
    "start_time": "2022-04-11T13:34:27.736Z"
   },
   {
    "duration": 46,
    "start_time": "2022-04-11T13:34:27.796Z"
   },
   {
    "duration": 91,
    "start_time": "2022-04-11T13:34:27.845Z"
   },
   {
    "duration": 77,
    "start_time": "2022-04-11T13:34:27.938Z"
   },
   {
    "duration": 8,
    "start_time": "2022-04-11T13:34:28.017Z"
   },
   {
    "duration": 10,
    "start_time": "2022-04-11T13:34:28.028Z"
   },
   {
    "duration": 66,
    "start_time": "2022-04-11T13:34:28.041Z"
   },
   {
    "duration": 88,
    "start_time": "2022-04-11T13:34:28.109Z"
   },
   {
    "duration": 74,
    "start_time": "2022-04-11T13:34:28.200Z"
   },
   {
    "duration": 7,
    "start_time": "2022-04-11T13:34:28.276Z"
   },
   {
    "duration": 5,
    "start_time": "2022-04-11T13:34:28.286Z"
   },
   {
    "duration": 13,
    "start_time": "2022-04-11T13:34:28.293Z"
   },
   {
    "duration": 933,
    "start_time": "2022-04-11T13:34:28.310Z"
   },
   {
    "duration": 7,
    "start_time": "2022-04-11T13:34:29.246Z"
   },
   {
    "duration": 18,
    "start_time": "2022-04-11T13:34:29.269Z"
   },
   {
    "duration": 305,
    "start_time": "2022-04-11T13:34:29.291Z"
   },
   {
    "duration": 9,
    "start_time": "2022-04-11T13:34:29.599Z"
   },
   {
    "duration": 384,
    "start_time": "2022-04-11T13:34:29.611Z"
   },
   {
    "duration": 72,
    "start_time": "2022-04-11T13:34:29.998Z"
   },
   {
    "duration": 13,
    "start_time": "2022-04-11T13:34:30.073Z"
   },
   {
    "duration": 337,
    "start_time": "2022-04-11T13:34:30.089Z"
   },
   {
    "duration": 11,
    "start_time": "2022-04-11T13:34:30.429Z"
   },
   {
    "duration": 327,
    "start_time": "2022-04-11T13:34:30.443Z"
   },
   {
    "duration": 9,
    "start_time": "2022-04-11T13:34:30.776Z"
   },
   {
    "duration": 593,
    "start_time": "2022-04-11T13:34:30.788Z"
   },
   {
    "duration": 7,
    "start_time": "2022-04-11T13:34:31.383Z"
   },
   {
    "duration": 9,
    "start_time": "2022-04-11T13:34:31.392Z"
   },
   {
    "duration": 9,
    "start_time": "2022-04-11T13:34:31.403Z"
   },
   {
    "duration": 19,
    "start_time": "2022-04-11T13:34:31.415Z"
   },
   {
    "duration": 52,
    "start_time": "2022-04-11T13:34:31.470Z"
   },
   {
    "duration": 61,
    "start_time": "2022-04-11T13:34:31.525Z"
   },
   {
    "duration": 7,
    "start_time": "2022-04-11T13:34:31.589Z"
   },
   {
    "duration": 18,
    "start_time": "2022-04-11T13:34:31.599Z"
   },
   {
    "duration": 11,
    "start_time": "2022-04-11T13:34:31.619Z"
   },
   {
    "duration": 9,
    "start_time": "2022-04-11T13:37:16.370Z"
   },
   {
    "duration": 6,
    "start_time": "2022-04-11T13:37:16.880Z"
   },
   {
    "duration": 5,
    "start_time": "2022-04-11T13:37:34.337Z"
   },
   {
    "duration": 8,
    "start_time": "2022-04-11T13:37:36.952Z"
   },
   {
    "duration": 6,
    "start_time": "2022-04-11T13:37:38.173Z"
   },
   {
    "duration": 8,
    "start_time": "2022-04-11T13:37:56.976Z"
   },
   {
    "duration": 6,
    "start_time": "2022-04-11T13:37:57.472Z"
   },
   {
    "duration": 8,
    "start_time": "2022-04-11T13:38:42.818Z"
   },
   {
    "duration": 5,
    "start_time": "2022-04-11T13:38:43.281Z"
   },
   {
    "duration": 8,
    "start_time": "2022-04-11T13:39:05.065Z"
   },
   {
    "duration": 6,
    "start_time": "2022-04-11T13:39:05.570Z"
   },
   {
    "duration": 7,
    "start_time": "2022-04-11T13:44:49.644Z"
   },
   {
    "duration": 7,
    "start_time": "2022-04-11T13:45:06.966Z"
   },
   {
    "duration": 280,
    "start_time": "2022-04-11T13:51:32.199Z"
   },
   {
    "duration": 195,
    "start_time": "2022-04-11T13:51:44.438Z"
   },
   {
    "duration": 180,
    "start_time": "2022-04-11T13:52:13.893Z"
   },
   {
    "duration": 179,
    "start_time": "2022-04-11T13:52:23.398Z"
   },
   {
    "duration": 11,
    "start_time": "2022-04-11T13:58:56.061Z"
   },
   {
    "duration": 178,
    "start_time": "2022-04-11T14:02:16.553Z"
   },
   {
    "duration": 19,
    "start_time": "2022-04-11T14:02:21.641Z"
   },
   {
    "duration": 39,
    "start_time": "2022-04-11T14:02:29.330Z"
   },
   {
    "duration": 141,
    "start_time": "2022-04-11T14:03:23.794Z"
   },
   {
    "duration": 38,
    "start_time": "2022-04-11T14:03:43.057Z"
   },
   {
    "duration": 16,
    "start_time": "2022-04-11T14:03:44.937Z"
   },
   {
    "duration": 189,
    "start_time": "2022-04-11T14:04:49.397Z"
   },
   {
    "duration": 35,
    "start_time": "2022-04-11T14:05:18.419Z"
   },
   {
    "duration": 218,
    "start_time": "2022-04-11T14:05:19.052Z"
   },
   {
    "duration": 197,
    "start_time": "2022-04-11T14:05:49.587Z"
   },
   {
    "duration": 5,
    "start_time": "2022-04-11T14:06:15.699Z"
   },
   {
    "duration": 282,
    "start_time": "2022-04-11T14:06:24.787Z"
   },
   {
    "duration": 6,
    "start_time": "2022-04-11T14:10:21.406Z"
   },
   {
    "duration": 154,
    "start_time": "2022-04-11T14:12:45.158Z"
   },
   {
    "duration": 6,
    "start_time": "2022-04-11T14:12:49.573Z"
   },
   {
    "duration": 6,
    "start_time": "2022-04-11T14:13:04.246Z"
   },
   {
    "duration": 6,
    "start_time": "2022-04-11T14:13:18.826Z"
   },
   {
    "duration": 6,
    "start_time": "2022-04-11T14:13:24.446Z"
   },
   {
    "duration": 657,
    "start_time": "2022-04-11T14:16:15.999Z"
   },
   {
    "duration": 196,
    "start_time": "2022-04-11T14:16:36.288Z"
   },
   {
    "duration": 150,
    "start_time": "2022-04-11T14:23:47.459Z"
   },
   {
    "duration": 39,
    "start_time": "2022-04-11T14:24:24.975Z"
   },
   {
    "duration": 1777,
    "start_time": "2022-04-11T14:26:48.920Z"
   },
   {
    "duration": 735,
    "start_time": "2022-04-11T14:26:50.700Z"
   },
   {
    "duration": 20,
    "start_time": "2022-04-11T14:26:51.438Z"
   },
   {
    "duration": 21,
    "start_time": "2022-04-11T14:26:51.462Z"
   },
   {
    "duration": 50,
    "start_time": "2022-04-11T14:26:51.486Z"
   },
   {
    "duration": 113,
    "start_time": "2022-04-11T14:26:51.539Z"
   },
   {
    "duration": 201,
    "start_time": "2022-04-11T14:26:51.654Z"
   },
   {
    "duration": 171,
    "start_time": "2022-04-11T14:26:51.858Z"
   },
   {
    "duration": 44,
    "start_time": "2022-04-11T14:26:52.031Z"
   },
   {
    "duration": 7,
    "start_time": "2022-04-11T14:26:52.080Z"
   },
   {
    "duration": 107,
    "start_time": "2022-04-11T14:26:52.090Z"
   },
   {
    "duration": 171,
    "start_time": "2022-04-11T14:26:52.199Z"
   },
   {
    "duration": 62,
    "start_time": "2022-04-11T14:26:52.373Z"
   },
   {
    "duration": 5,
    "start_time": "2022-04-11T14:26:52.437Z"
   },
   {
    "duration": 59,
    "start_time": "2022-04-11T14:26:52.468Z"
   },
   {
    "duration": 68,
    "start_time": "2022-04-11T14:26:52.530Z"
   },
   {
    "duration": 5,
    "start_time": "2022-04-11T14:26:52.601Z"
   },
   {
    "duration": 39,
    "start_time": "2022-04-11T14:26:52.609Z"
   },
   {
    "duration": 53,
    "start_time": "2022-04-11T14:26:52.650Z"
   },
   {
    "duration": 72,
    "start_time": "2022-04-11T14:26:52.705Z"
   },
   {
    "duration": 58,
    "start_time": "2022-04-11T14:26:52.780Z"
   },
   {
    "duration": 27,
    "start_time": "2022-04-11T14:26:52.840Z"
   },
   {
    "duration": 6,
    "start_time": "2022-04-11T14:26:52.869Z"
   },
   {
    "duration": 37,
    "start_time": "2022-04-11T14:26:52.877Z"
   },
   {
    "duration": 83,
    "start_time": "2022-04-11T14:26:52.916Z"
   },
   {
    "duration": 37,
    "start_time": "2022-04-11T14:26:53.001Z"
   },
   {
    "duration": 31,
    "start_time": "2022-04-11T14:26:53.040Z"
   },
   {
    "duration": 4,
    "start_time": "2022-04-11T14:26:53.077Z"
   },
   {
    "duration": 10,
    "start_time": "2022-04-11T14:26:53.083Z"
   },
   {
    "duration": 327,
    "start_time": "2022-04-11T14:26:53.095Z"
   },
   {
    "duration": 5,
    "start_time": "2022-04-11T14:26:53.424Z"
   },
   {
    "duration": 11,
    "start_time": "2022-04-11T14:26:53.431Z"
   },
   {
    "duration": 24,
    "start_time": "2022-04-11T14:26:53.444Z"
   },
   {
    "duration": 293,
    "start_time": "2022-04-11T14:26:53.470Z"
   },
   {
    "duration": 7,
    "start_time": "2022-04-11T14:26:53.768Z"
   },
   {
    "duration": 9,
    "start_time": "2022-04-11T14:26:53.777Z"
   },
   {
    "duration": 283,
    "start_time": "2022-04-11T14:26:53.788Z"
   },
   {
    "duration": 241,
    "start_time": "2022-04-11T14:26:54.073Z"
   },
   {
    "duration": 6,
    "start_time": "2022-04-11T14:26:54.317Z"
   },
   {
    "duration": 57,
    "start_time": "2022-04-11T14:26:54.326Z"
   },
   {
    "duration": 9,
    "start_time": "2022-04-11T14:26:54.386Z"
   },
   {
    "duration": 7,
    "start_time": "2022-04-11T14:26:54.398Z"
   },
   {
    "duration": 325,
    "start_time": "2022-04-11T14:26:54.408Z"
   },
   {
    "duration": 8,
    "start_time": "2022-04-11T14:26:54.735Z"
   },
   {
    "duration": 26,
    "start_time": "2022-04-11T14:26:54.745Z"
   },
   {
    "duration": 356,
    "start_time": "2022-04-11T14:26:54.773Z"
   },
   {
    "duration": 8,
    "start_time": "2022-04-11T14:26:55.131Z"
   },
   {
    "duration": 8,
    "start_time": "2022-04-11T14:26:55.141Z"
   },
   {
    "duration": 303,
    "start_time": "2022-04-11T14:26:55.167Z"
   },
   {
    "duration": 214,
    "start_time": "2022-04-11T14:26:55.472Z"
   },
   {
    "duration": 212,
    "start_time": "2022-04-11T14:26:55.688Z"
   },
   {
    "duration": 6,
    "start_time": "2022-04-11T14:26:55.902Z"
   },
   {
    "duration": 8,
    "start_time": "2022-04-11T14:26:55.910Z"
   },
   {
    "duration": 8,
    "start_time": "2022-04-11T14:26:55.920Z"
   },
   {
    "duration": 40,
    "start_time": "2022-04-11T14:26:55.930Z"
   },
   {
    "duration": 39,
    "start_time": "2022-04-11T14:26:55.972Z"
   },
   {
    "duration": 58,
    "start_time": "2022-04-11T14:26:56.013Z"
   },
   {
    "duration": 7,
    "start_time": "2022-04-11T14:26:56.074Z"
   },
   {
    "duration": 8,
    "start_time": "2022-04-11T14:26:56.083Z"
   },
   {
    "duration": 8,
    "start_time": "2022-04-11T14:26:56.093Z"
   },
   {
    "duration": 1210,
    "start_time": "2022-04-21T13:10:49.198Z"
   },
   {
    "duration": 487,
    "start_time": "2022-04-21T13:10:50.410Z"
   },
   {
    "duration": 12,
    "start_time": "2022-04-21T13:10:50.898Z"
   },
   {
    "duration": 12,
    "start_time": "2022-04-21T13:10:50.912Z"
   },
   {
    "duration": 24,
    "start_time": "2022-04-21T13:10:50.926Z"
   },
   {
    "duration": 54,
    "start_time": "2022-04-21T13:10:50.952Z"
   },
   {
    "duration": 125,
    "start_time": "2022-04-21T13:10:51.008Z"
   },
   {
    "duration": 94,
    "start_time": "2022-04-21T13:10:51.135Z"
   },
   {
    "duration": 21,
    "start_time": "2022-04-21T13:10:51.231Z"
   },
   {
    "duration": 5,
    "start_time": "2022-04-21T13:10:51.256Z"
   },
   {
    "duration": 74,
    "start_time": "2022-04-21T13:10:51.263Z"
   },
   {
    "duration": 108,
    "start_time": "2022-04-21T13:10:51.338Z"
   },
   {
    "duration": 28,
    "start_time": "2022-04-21T13:10:51.447Z"
   },
   {
    "duration": 2,
    "start_time": "2022-04-21T13:10:51.477Z"
   },
   {
    "duration": 41,
    "start_time": "2022-04-21T13:10:51.481Z"
   },
   {
    "duration": 27,
    "start_time": "2022-04-21T13:10:51.524Z"
   },
   {
    "duration": 4,
    "start_time": "2022-04-21T13:10:51.552Z"
   },
   {
    "duration": 22,
    "start_time": "2022-04-21T13:10:51.558Z"
   },
   {
    "duration": 45,
    "start_time": "2022-04-21T13:10:51.581Z"
   },
   {
    "duration": 35,
    "start_time": "2022-04-21T13:10:51.628Z"
   },
   {
    "duration": 63,
    "start_time": "2022-04-21T13:10:51.665Z"
   },
   {
    "duration": 5,
    "start_time": "2022-04-21T13:10:51.730Z"
   },
   {
    "duration": 11,
    "start_time": "2022-04-21T13:10:51.737Z"
   },
   {
    "duration": 36,
    "start_time": "2022-04-21T13:10:51.751Z"
   },
   {
    "duration": 65,
    "start_time": "2022-04-21T13:10:51.790Z"
   },
   {
    "duration": 25,
    "start_time": "2022-04-21T13:10:51.857Z"
   },
   {
    "duration": 5,
    "start_time": "2022-04-21T13:10:51.884Z"
   },
   {
    "duration": 30,
    "start_time": "2022-04-21T13:10:51.895Z"
   },
   {
    "duration": 6,
    "start_time": "2022-04-21T13:10:51.927Z"
   },
   {
    "duration": 222,
    "start_time": "2022-04-21T13:10:51.935Z"
   },
   {
    "duration": 5,
    "start_time": "2022-04-21T13:10:52.158Z"
   },
   {
    "duration": 7,
    "start_time": "2022-04-21T13:10:52.164Z"
   },
   {
    "duration": 5,
    "start_time": "2022-04-21T13:10:52.173Z"
   },
   {
    "duration": 180,
    "start_time": "2022-04-21T13:10:52.180Z"
   },
   {
    "duration": 5,
    "start_time": "2022-04-21T13:10:52.362Z"
   },
   {
    "duration": 7,
    "start_time": "2022-04-21T13:10:52.369Z"
   },
   {
    "duration": 170,
    "start_time": "2022-04-21T13:10:52.378Z"
   },
   {
    "duration": 128,
    "start_time": "2022-04-21T13:10:52.550Z"
   },
   {
    "duration": 5,
    "start_time": "2022-04-21T13:10:52.680Z"
   },
   {
    "duration": 44,
    "start_time": "2022-04-21T13:10:52.686Z"
   },
   {
    "duration": 6,
    "start_time": "2022-04-21T13:10:52.731Z"
   },
   {
    "duration": 5,
    "start_time": "2022-04-21T13:10:52.739Z"
   },
   {
    "duration": 197,
    "start_time": "2022-04-21T13:10:52.746Z"
   },
   {
    "duration": 6,
    "start_time": "2022-04-21T13:10:52.945Z"
   },
   {
    "duration": 7,
    "start_time": "2022-04-21T13:10:52.953Z"
   },
   {
    "duration": 268,
    "start_time": "2022-04-21T13:10:52.961Z"
   },
   {
    "duration": 5,
    "start_time": "2022-04-21T13:10:53.231Z"
   },
   {
    "duration": 5,
    "start_time": "2022-04-21T13:10:53.237Z"
   },
   {
    "duration": 185,
    "start_time": "2022-04-21T13:10:53.244Z"
   },
   {
    "duration": 137,
    "start_time": "2022-04-21T13:10:53.431Z"
   },
   {
    "duration": 132,
    "start_time": "2022-04-21T13:10:53.569Z"
   },
   {
    "duration": 5,
    "start_time": "2022-04-21T13:10:53.702Z"
   },
   {
    "duration": 15,
    "start_time": "2022-04-21T13:10:53.708Z"
   },
   {
    "duration": 7,
    "start_time": "2022-04-21T13:10:53.725Z"
   },
   {
    "duration": 7,
    "start_time": "2022-04-21T13:10:53.733Z"
   },
   {
    "duration": 24,
    "start_time": "2022-04-21T13:10:53.742Z"
   },
   {
    "duration": 59,
    "start_time": "2022-04-21T13:10:53.768Z"
   },
   {
    "duration": 5,
    "start_time": "2022-04-21T13:10:53.830Z"
   },
   {
    "duration": 7,
    "start_time": "2022-04-21T13:10:53.836Z"
   },
   {
    "duration": 10,
    "start_time": "2022-04-21T13:10:53.844Z"
   },
   {
    "duration": 43,
    "start_time": "2022-04-21T13:18:50.677Z"
   },
   {
    "duration": 133,
    "start_time": "2022-04-21T13:21:10.298Z"
   },
   {
    "duration": 10,
    "start_time": "2022-04-21T13:21:27.772Z"
   },
   {
    "duration": 11,
    "start_time": "2022-04-21T13:22:53.202Z"
   },
   {
    "duration": 9,
    "start_time": "2022-04-21T13:23:03.549Z"
   },
   {
    "duration": 34,
    "start_time": "2022-04-21T13:23:10.796Z"
   },
   {
    "duration": 12,
    "start_time": "2022-04-21T13:27:26.788Z"
   },
   {
    "duration": 5,
    "start_time": "2022-04-21T13:27:55.672Z"
   },
   {
    "duration": 4,
    "start_time": "2022-04-21T13:30:59.835Z"
   },
   {
    "duration": 40,
    "start_time": "2022-04-21T13:33:46.657Z"
   },
   {
    "duration": 11,
    "start_time": "2022-04-21T13:34:02.004Z"
   },
   {
    "duration": 69,
    "start_time": "2022-04-22T07:30:03.806Z"
   },
   {
    "duration": 1661,
    "start_time": "2022-04-22T07:30:12.605Z"
   },
   {
    "duration": 579,
    "start_time": "2022-04-22T07:30:14.750Z"
   },
   {
    "duration": 20,
    "start_time": "2022-04-22T07:30:15.773Z"
   },
   {
    "duration": 19,
    "start_time": "2022-04-22T07:30:18.639Z"
   },
   {
    "duration": 42,
    "start_time": "2022-04-22T07:30:19.583Z"
   },
   {
    "duration": 68,
    "start_time": "2022-04-22T07:30:23.446Z"
   },
   {
    "duration": 66,
    "start_time": "2022-04-22T07:30:26.222Z"
   },
   {
    "duration": 156,
    "start_time": "2022-04-22T07:30:29.702Z"
   },
   {
    "duration": 465,
    "start_time": "2022-04-22T07:30:31.143Z"
   },
   {
    "duration": 112,
    "start_time": "2022-04-22T07:32:17.334Z"
   },
   {
    "duration": 31,
    "start_time": "2022-04-22T07:32:18.182Z"
   },
   {
    "duration": 6,
    "start_time": "2022-04-22T07:32:22.342Z"
   },
   {
    "duration": 5,
    "start_time": "2022-04-22T07:36:51.987Z"
   },
   {
    "duration": 99,
    "start_time": "2022-04-22T07:38:26.129Z"
   },
   {
    "duration": 16,
    "start_time": "2022-04-22T07:38:45.083Z"
   },
   {
    "duration": 19,
    "start_time": "2022-04-22T07:39:27.880Z"
   },
   {
    "duration": 58,
    "start_time": "2022-04-22T07:42:04.240Z"
   },
   {
    "duration": 78,
    "start_time": "2022-04-22T07:42:14.648Z"
   },
   {
    "duration": 79514,
    "start_time": "2022-04-22T07:42:31.743Z"
   },
   {
    "duration": 1356,
    "start_time": "2022-04-22T07:48:13.999Z"
   },
   {
    "duration": 635,
    "start_time": "2022-04-22T07:48:15.358Z"
   },
   {
    "duration": 21,
    "start_time": "2022-04-22T07:48:15.996Z"
   },
   {
    "duration": 28,
    "start_time": "2022-04-22T07:48:16.020Z"
   },
   {
    "duration": 64,
    "start_time": "2022-04-22T07:48:16.052Z"
   },
   {
    "duration": 85,
    "start_time": "2022-04-22T07:48:16.119Z"
   },
   {
    "duration": 100,
    "start_time": "2022-04-22T07:48:16.207Z"
   },
   {
    "duration": 183,
    "start_time": "2022-04-22T07:48:16.310Z"
   },
   {
    "duration": 382,
    "start_time": "2022-04-22T07:48:16.495Z"
   },
   {
    "duration": 327,
    "start_time": "2022-04-22T07:48:16.881Z"
   },
   {
    "duration": 96,
    "start_time": "2022-04-22T07:48:17.211Z"
   },
   {
    "duration": 9,
    "start_time": "2022-04-22T07:48:17.309Z"
   },
   {
    "duration": 67,
    "start_time": "2022-04-22T07:48:17.320Z"
   },
   {
    "duration": 2997,
    "start_time": "2022-04-22T07:48:17.395Z"
   },
   {
    "duration": 0,
    "start_time": "2022-04-22T07:48:20.397Z"
   },
   {
    "duration": 0,
    "start_time": "2022-04-22T07:48:20.398Z"
   },
   {
    "duration": 0,
    "start_time": "2022-04-22T07:48:20.401Z"
   },
   {
    "duration": 0,
    "start_time": "2022-04-22T07:48:20.403Z"
   },
   {
    "duration": 0,
    "start_time": "2022-04-22T07:48:20.405Z"
   },
   {
    "duration": 0,
    "start_time": "2022-04-22T07:48:20.407Z"
   },
   {
    "duration": 0,
    "start_time": "2022-04-22T07:48:20.410Z"
   },
   {
    "duration": 0,
    "start_time": "2022-04-22T07:48:20.412Z"
   },
   {
    "duration": 0,
    "start_time": "2022-04-22T07:48:20.414Z"
   },
   {
    "duration": 0,
    "start_time": "2022-04-22T07:48:20.416Z"
   },
   {
    "duration": 0,
    "start_time": "2022-04-22T07:48:20.418Z"
   },
   {
    "duration": 0,
    "start_time": "2022-04-22T07:48:20.420Z"
   },
   {
    "duration": 0,
    "start_time": "2022-04-22T07:48:20.422Z"
   },
   {
    "duration": 0,
    "start_time": "2022-04-22T07:48:20.425Z"
   },
   {
    "duration": 0,
    "start_time": "2022-04-22T07:48:20.427Z"
   },
   {
    "duration": 0,
    "start_time": "2022-04-22T07:48:20.429Z"
   },
   {
    "duration": 0,
    "start_time": "2022-04-22T07:48:20.431Z"
   },
   {
    "duration": 0,
    "start_time": "2022-04-22T07:48:20.433Z"
   },
   {
    "duration": 0,
    "start_time": "2022-04-22T07:48:20.483Z"
   },
   {
    "duration": 0,
    "start_time": "2022-04-22T07:48:20.485Z"
   },
   {
    "duration": 0,
    "start_time": "2022-04-22T07:48:20.487Z"
   },
   {
    "duration": 0,
    "start_time": "2022-04-22T07:48:20.489Z"
   },
   {
    "duration": 0,
    "start_time": "2022-04-22T07:48:20.491Z"
   },
   {
    "duration": 0,
    "start_time": "2022-04-22T07:48:20.493Z"
   },
   {
    "duration": 0,
    "start_time": "2022-04-22T07:48:20.495Z"
   },
   {
    "duration": 0,
    "start_time": "2022-04-22T07:48:20.497Z"
   },
   {
    "duration": 0,
    "start_time": "2022-04-22T07:48:20.499Z"
   },
   {
    "duration": 0,
    "start_time": "2022-04-22T07:48:20.501Z"
   },
   {
    "duration": 0,
    "start_time": "2022-04-22T07:48:20.504Z"
   },
   {
    "duration": 0,
    "start_time": "2022-04-22T07:48:20.506Z"
   },
   {
    "duration": 0,
    "start_time": "2022-04-22T07:48:20.508Z"
   },
   {
    "duration": 0,
    "start_time": "2022-04-22T07:48:20.510Z"
   },
   {
    "duration": 0,
    "start_time": "2022-04-22T07:48:20.512Z"
   },
   {
    "duration": 0,
    "start_time": "2022-04-22T07:48:20.514Z"
   },
   {
    "duration": 0,
    "start_time": "2022-04-22T07:48:20.516Z"
   },
   {
    "duration": 0,
    "start_time": "2022-04-22T07:48:20.517Z"
   },
   {
    "duration": 0,
    "start_time": "2022-04-22T07:48:20.519Z"
   },
   {
    "duration": 0,
    "start_time": "2022-04-22T07:48:20.520Z"
   },
   {
    "duration": 0,
    "start_time": "2022-04-22T07:48:20.522Z"
   },
   {
    "duration": 0,
    "start_time": "2022-04-22T07:48:20.523Z"
   },
   {
    "duration": 0,
    "start_time": "2022-04-22T07:48:20.581Z"
   },
   {
    "duration": 0,
    "start_time": "2022-04-22T07:48:20.584Z"
   },
   {
    "duration": 0,
    "start_time": "2022-04-22T07:48:20.586Z"
   },
   {
    "duration": 0,
    "start_time": "2022-04-22T07:48:20.588Z"
   },
   {
    "duration": 0,
    "start_time": "2022-04-22T07:48:20.589Z"
   },
   {
    "duration": 1,
    "start_time": "2022-04-22T07:48:20.590Z"
   },
   {
    "duration": 0,
    "start_time": "2022-04-22T07:48:20.592Z"
   },
   {
    "duration": 0,
    "start_time": "2022-04-22T07:48:20.593Z"
   },
   {
    "duration": 0,
    "start_time": "2022-04-22T07:48:20.595Z"
   },
   {
    "duration": 0,
    "start_time": "2022-04-22T07:48:20.596Z"
   },
   {
    "duration": 19,
    "start_time": "2022-04-22T07:49:02.840Z"
   },
   {
    "duration": 128,
    "start_time": "2022-04-22T07:50:11.407Z"
   },
   {
    "duration": 126,
    "start_time": "2022-04-22T07:50:20.070Z"
   },
   {
    "duration": 134,
    "start_time": "2022-04-22T07:50:27.350Z"
   },
   {
    "duration": 72,
    "start_time": "2022-04-22T07:52:03.727Z"
   },
   {
    "duration": 131,
    "start_time": "2022-04-22T07:52:31.655Z"
   },
   {
    "duration": 46,
    "start_time": "2022-04-22T07:52:32.670Z"
   },
   {
    "duration": 4,
    "start_time": "2022-04-22T07:52:44.510Z"
   },
   {
    "duration": 34,
    "start_time": "2022-04-22T07:55:37.030Z"
   },
   {
    "duration": 31,
    "start_time": "2022-04-22T07:56:38.295Z"
   },
   {
    "duration": 113,
    "start_time": "2022-04-22T07:56:44.086Z"
   },
   {
    "duration": 42,
    "start_time": "2022-04-22T07:56:44.862Z"
   },
   {
    "duration": 25,
    "start_time": "2022-04-22T07:56:46.847Z"
   },
   {
    "duration": 39,
    "start_time": "2022-04-22T07:57:44.612Z"
   },
   {
    "duration": 39,
    "start_time": "2022-04-22T07:57:45.356Z"
   },
   {
    "duration": 6,
    "start_time": "2022-04-22T07:57:52.220Z"
   },
   {
    "duration": 22,
    "start_time": "2022-04-22T07:57:57.157Z"
   },
   {
    "duration": 27,
    "start_time": "2022-04-22T07:58:02.883Z"
   },
   {
    "duration": 5,
    "start_time": "2022-04-22T07:58:05.388Z"
   },
   {
    "duration": 23,
    "start_time": "2022-04-22T07:58:05.892Z"
   },
   {
    "duration": 32,
    "start_time": "2022-04-22T07:58:11.820Z"
   },
   {
    "duration": 2105,
    "start_time": "2022-04-22T07:58:15.884Z"
   },
   {
    "duration": 2076,
    "start_time": "2022-04-22T07:58:31.781Z"
   },
   {
    "duration": 2163,
    "start_time": "2022-04-22T07:58:56.294Z"
   },
   {
    "duration": 51,
    "start_time": "2022-04-22T07:59:35.997Z"
   },
   {
    "duration": 60,
    "start_time": "2022-04-22T07:59:43.805Z"
   },
   {
    "duration": 29,
    "start_time": "2022-04-22T08:21:57.542Z"
   },
   {
    "duration": 31,
    "start_time": "2022-04-22T08:22:04.487Z"
   },
   {
    "duration": 14,
    "start_time": "2022-04-22T08:24:35.254Z"
   },
   {
    "duration": 6,
    "start_time": "2022-04-22T08:25:35.741Z"
   },
   {
    "duration": 1437,
    "start_time": "2022-04-22T08:26:19.530Z"
   },
   {
    "duration": 588,
    "start_time": "2022-04-22T08:26:20.971Z"
   },
   {
    "duration": 16,
    "start_time": "2022-04-22T08:26:21.562Z"
   },
   {
    "duration": 31,
    "start_time": "2022-04-22T08:26:21.582Z"
   },
   {
    "duration": 41,
    "start_time": "2022-04-22T08:26:21.615Z"
   },
   {
    "duration": 79,
    "start_time": "2022-04-22T08:26:21.659Z"
   },
   {
    "duration": 90,
    "start_time": "2022-04-22T08:26:21.740Z"
   },
   {
    "duration": 203,
    "start_time": "2022-04-22T08:26:21.832Z"
   },
   {
    "duration": 386,
    "start_time": "2022-04-22T08:26:22.038Z"
   },
   {
    "duration": 127,
    "start_time": "2022-04-22T08:26:22.431Z"
   },
   {
    "duration": 41,
    "start_time": "2022-04-22T08:26:22.560Z"
   },
   {
    "duration": 6,
    "start_time": "2022-04-22T08:26:22.604Z"
   },
   {
    "duration": 12,
    "start_time": "2022-04-22T08:26:22.613Z"
   },
   {
    "duration": 195,
    "start_time": "2022-04-22T08:26:22.627Z"
   },
   {
    "duration": 85,
    "start_time": "2022-04-22T08:26:22.824Z"
   },
   {
    "duration": 148,
    "start_time": "2022-04-22T08:26:22.911Z"
   },
   {
    "duration": 63,
    "start_time": "2022-04-22T08:26:23.061Z"
   },
   {
    "duration": 2545,
    "start_time": "2022-04-22T08:26:23.127Z"
   },
   {
    "duration": 0,
    "start_time": "2022-04-22T08:26:25.678Z"
   },
   {
    "duration": 0,
    "start_time": "2022-04-22T08:26:25.680Z"
   },
   {
    "duration": 0,
    "start_time": "2022-04-22T08:26:25.683Z"
   },
   {
    "duration": 0,
    "start_time": "2022-04-22T08:26:25.685Z"
   },
   {
    "duration": 0,
    "start_time": "2022-04-22T08:26:25.687Z"
   },
   {
    "duration": 0,
    "start_time": "2022-04-22T08:26:25.689Z"
   },
   {
    "duration": 0,
    "start_time": "2022-04-22T08:26:25.691Z"
   },
   {
    "duration": 0,
    "start_time": "2022-04-22T08:26:25.693Z"
   },
   {
    "duration": 0,
    "start_time": "2022-04-22T08:26:25.694Z"
   },
   {
    "duration": 0,
    "start_time": "2022-04-22T08:26:25.696Z"
   },
   {
    "duration": 0,
    "start_time": "2022-04-22T08:26:25.698Z"
   },
   {
    "duration": 0,
    "start_time": "2022-04-22T08:26:25.700Z"
   },
   {
    "duration": 0,
    "start_time": "2022-04-22T08:26:25.702Z"
   },
   {
    "duration": 0,
    "start_time": "2022-04-22T08:26:25.703Z"
   },
   {
    "duration": 0,
    "start_time": "2022-04-22T08:26:25.705Z"
   },
   {
    "duration": 0,
    "start_time": "2022-04-22T08:26:25.707Z"
   },
   {
    "duration": 0,
    "start_time": "2022-04-22T08:26:25.709Z"
   },
   {
    "duration": 0,
    "start_time": "2022-04-22T08:26:25.710Z"
   },
   {
    "duration": 0,
    "start_time": "2022-04-22T08:26:25.714Z"
   },
   {
    "duration": 0,
    "start_time": "2022-04-22T08:26:25.716Z"
   },
   {
    "duration": 0,
    "start_time": "2022-04-22T08:26:25.717Z"
   },
   {
    "duration": 0,
    "start_time": "2022-04-22T08:26:25.720Z"
   },
   {
    "duration": 0,
    "start_time": "2022-04-22T08:26:25.721Z"
   },
   {
    "duration": 0,
    "start_time": "2022-04-22T08:26:25.723Z"
   },
   {
    "duration": 0,
    "start_time": "2022-04-22T08:26:25.724Z"
   },
   {
    "duration": 0,
    "start_time": "2022-04-22T08:26:25.781Z"
   },
   {
    "duration": 0,
    "start_time": "2022-04-22T08:26:25.783Z"
   },
   {
    "duration": 0,
    "start_time": "2022-04-22T08:26:25.784Z"
   },
   {
    "duration": 0,
    "start_time": "2022-04-22T08:26:25.786Z"
   },
   {
    "duration": 0,
    "start_time": "2022-04-22T08:26:25.788Z"
   },
   {
    "duration": 0,
    "start_time": "2022-04-22T08:26:25.792Z"
   },
   {
    "duration": 0,
    "start_time": "2022-04-22T08:26:25.794Z"
   },
   {
    "duration": 0,
    "start_time": "2022-04-22T08:26:25.795Z"
   },
   {
    "duration": 0,
    "start_time": "2022-04-22T08:26:25.797Z"
   },
   {
    "duration": 0,
    "start_time": "2022-04-22T08:26:25.799Z"
   },
   {
    "duration": 0,
    "start_time": "2022-04-22T08:26:25.805Z"
   },
   {
    "duration": 0,
    "start_time": "2022-04-22T08:26:25.806Z"
   },
   {
    "duration": 0,
    "start_time": "2022-04-22T08:26:25.807Z"
   },
   {
    "duration": 0,
    "start_time": "2022-04-22T08:26:25.809Z"
   },
   {
    "duration": 0,
    "start_time": "2022-04-22T08:26:25.811Z"
   },
   {
    "duration": 0,
    "start_time": "2022-04-22T08:26:25.813Z"
   },
   {
    "duration": 0,
    "start_time": "2022-04-22T08:26:25.815Z"
   },
   {
    "duration": 1,
    "start_time": "2022-04-22T08:26:25.816Z"
   },
   {
    "duration": 0,
    "start_time": "2022-04-22T08:26:25.819Z"
   },
   {
    "duration": 0,
    "start_time": "2022-04-22T08:26:25.820Z"
   },
   {
    "duration": 0,
    "start_time": "2022-04-22T08:26:25.822Z"
   },
   {
    "duration": 0,
    "start_time": "2022-04-22T08:26:25.823Z"
   },
   {
    "duration": 0,
    "start_time": "2022-04-22T08:26:25.826Z"
   },
   {
    "duration": 0,
    "start_time": "2022-04-22T08:26:25.884Z"
   },
   {
    "duration": 17,
    "start_time": "2022-04-22T08:26:49.079Z"
   },
   {
    "duration": 26,
    "start_time": "2022-04-22T08:32:29.549Z"
   },
   {
    "duration": 12,
    "start_time": "2022-04-22T08:32:41.309Z"
   },
   {
    "duration": 16,
    "start_time": "2022-04-22T08:33:41.829Z"
   },
   {
    "duration": 28,
    "start_time": "2022-04-22T08:33:49.653Z"
   },
   {
    "duration": 8,
    "start_time": "2022-04-22T08:33:56.157Z"
   },
   {
    "duration": 18,
    "start_time": "2022-04-22T08:34:19.499Z"
   },
   {
    "duration": 14,
    "start_time": "2022-04-22T08:36:04.811Z"
   },
   {
    "duration": 20,
    "start_time": "2022-04-22T08:36:06.986Z"
   },
   {
    "duration": 25,
    "start_time": "2022-04-22T08:36:38.714Z"
   },
   {
    "duration": 1509,
    "start_time": "2022-04-22T08:37:30.175Z"
   },
   {
    "duration": 618,
    "start_time": "2022-04-22T08:37:31.692Z"
   },
   {
    "duration": 17,
    "start_time": "2022-04-22T08:37:32.312Z"
   },
   {
    "duration": 22,
    "start_time": "2022-04-22T08:37:32.332Z"
   },
   {
    "duration": 53,
    "start_time": "2022-04-22T08:37:32.356Z"
   },
   {
    "duration": 72,
    "start_time": "2022-04-22T08:37:32.411Z"
   },
   {
    "duration": 65,
    "start_time": "2022-04-22T08:37:32.486Z"
   },
   {
    "duration": 208,
    "start_time": "2022-04-22T08:37:32.553Z"
   },
   {
    "duration": 372,
    "start_time": "2022-04-22T08:37:32.763Z"
   },
   {
    "duration": 128,
    "start_time": "2022-04-22T08:37:33.139Z"
   },
   {
    "duration": 42,
    "start_time": "2022-04-22T08:37:33.269Z"
   },
   {
    "duration": 6,
    "start_time": "2022-04-22T08:37:33.313Z"
   },
   {
    "duration": 8,
    "start_time": "2022-04-22T08:37:33.322Z"
   },
   {
    "duration": 191,
    "start_time": "2022-04-22T08:37:33.333Z"
   },
   {
    "duration": 84,
    "start_time": "2022-04-22T08:37:33.526Z"
   },
   {
    "duration": 142,
    "start_time": "2022-04-22T08:37:33.612Z"
   },
   {
    "duration": 63,
    "start_time": "2022-04-22T08:37:33.757Z"
   },
   {
    "duration": 22,
    "start_time": "2022-04-22T08:37:33.822Z"
   },
   {
    "duration": 173,
    "start_time": "2022-04-22T08:37:33.846Z"
   },
   {
    "duration": 0,
    "start_time": "2022-04-22T08:37:34.023Z"
   },
   {
    "duration": 0,
    "start_time": "2022-04-22T08:37:34.025Z"
   },
   {
    "duration": 0,
    "start_time": "2022-04-22T08:37:34.026Z"
   },
   {
    "duration": 0,
    "start_time": "2022-04-22T08:37:34.027Z"
   },
   {
    "duration": 0,
    "start_time": "2022-04-22T08:37:34.029Z"
   },
   {
    "duration": 0,
    "start_time": "2022-04-22T08:37:34.030Z"
   },
   {
    "duration": 0,
    "start_time": "2022-04-22T08:37:34.031Z"
   },
   {
    "duration": 0,
    "start_time": "2022-04-22T08:37:34.032Z"
   },
   {
    "duration": 0,
    "start_time": "2022-04-22T08:37:34.034Z"
   },
   {
    "duration": 0,
    "start_time": "2022-04-22T08:37:34.035Z"
   },
   {
    "duration": 0,
    "start_time": "2022-04-22T08:37:34.036Z"
   },
   {
    "duration": 0,
    "start_time": "2022-04-22T08:37:34.038Z"
   },
   {
    "duration": 0,
    "start_time": "2022-04-22T08:37:34.039Z"
   },
   {
    "duration": 0,
    "start_time": "2022-04-22T08:37:34.041Z"
   },
   {
    "duration": 0,
    "start_time": "2022-04-22T08:37:34.042Z"
   },
   {
    "duration": 0,
    "start_time": "2022-04-22T08:37:34.043Z"
   },
   {
    "duration": 0,
    "start_time": "2022-04-22T08:37:34.044Z"
   },
   {
    "duration": 0,
    "start_time": "2022-04-22T08:37:34.045Z"
   },
   {
    "duration": 0,
    "start_time": "2022-04-22T08:37:34.084Z"
   },
   {
    "duration": 0,
    "start_time": "2022-04-22T08:37:34.086Z"
   },
   {
    "duration": 0,
    "start_time": "2022-04-22T08:37:34.092Z"
   },
   {
    "duration": 0,
    "start_time": "2022-04-22T08:37:34.094Z"
   },
   {
    "duration": 0,
    "start_time": "2022-04-22T08:37:34.096Z"
   },
   {
    "duration": 0,
    "start_time": "2022-04-22T08:37:34.098Z"
   },
   {
    "duration": 0,
    "start_time": "2022-04-22T08:37:34.100Z"
   },
   {
    "duration": 0,
    "start_time": "2022-04-22T08:37:34.101Z"
   },
   {
    "duration": 0,
    "start_time": "2022-04-22T08:37:34.103Z"
   },
   {
    "duration": 0,
    "start_time": "2022-04-22T08:37:34.105Z"
   },
   {
    "duration": 1,
    "start_time": "2022-04-22T08:37:34.106Z"
   },
   {
    "duration": 0,
    "start_time": "2022-04-22T08:37:34.108Z"
   },
   {
    "duration": 0,
    "start_time": "2022-04-22T08:37:34.110Z"
   },
   {
    "duration": 0,
    "start_time": "2022-04-22T08:37:34.111Z"
   },
   {
    "duration": 0,
    "start_time": "2022-04-22T08:37:34.113Z"
   },
   {
    "duration": 0,
    "start_time": "2022-04-22T08:37:34.115Z"
   },
   {
    "duration": 0,
    "start_time": "2022-04-22T08:37:34.116Z"
   },
   {
    "duration": 0,
    "start_time": "2022-04-22T08:37:34.118Z"
   },
   {
    "duration": 0,
    "start_time": "2022-04-22T08:37:34.120Z"
   },
   {
    "duration": 0,
    "start_time": "2022-04-22T08:37:34.187Z"
   },
   {
    "duration": 0,
    "start_time": "2022-04-22T08:37:34.188Z"
   },
   {
    "duration": 0,
    "start_time": "2022-04-22T08:37:34.190Z"
   },
   {
    "duration": 0,
    "start_time": "2022-04-22T08:37:34.194Z"
   },
   {
    "duration": 0,
    "start_time": "2022-04-22T08:37:34.196Z"
   },
   {
    "duration": 0,
    "start_time": "2022-04-22T08:37:34.198Z"
   },
   {
    "duration": 0,
    "start_time": "2022-04-22T08:37:34.199Z"
   },
   {
    "duration": 0,
    "start_time": "2022-04-22T08:37:34.200Z"
   },
   {
    "duration": 0,
    "start_time": "2022-04-22T08:37:34.202Z"
   },
   {
    "duration": 0,
    "start_time": "2022-04-22T08:37:34.204Z"
   },
   {
    "duration": 0,
    "start_time": "2022-04-22T08:37:34.205Z"
   },
   {
    "duration": 115,
    "start_time": "2022-04-22T08:40:16.661Z"
   },
   {
    "duration": 32,
    "start_time": "2022-04-22T08:40:39.926Z"
   },
   {
    "duration": 11,
    "start_time": "2022-04-22T08:43:50.653Z"
   },
   {
    "duration": 7,
    "start_time": "2022-04-22T08:44:07.493Z"
   },
   {
    "duration": 37,
    "start_time": "2022-04-22T08:44:26.780Z"
   },
   {
    "duration": 7,
    "start_time": "2022-04-22T08:45:28.244Z"
   },
   {
    "duration": 28,
    "start_time": "2022-04-22T08:45:29.596Z"
   },
   {
    "duration": 44,
    "start_time": "2022-04-22T08:45:33.180Z"
   },
   {
    "duration": 32,
    "start_time": "2022-04-22T08:45:33.628Z"
   },
   {
    "duration": 6,
    "start_time": "2022-04-22T08:45:34.355Z"
   },
   {
    "duration": 32,
    "start_time": "2022-04-22T08:45:37.172Z"
   },
   {
    "duration": 40,
    "start_time": "2022-04-22T08:45:40.306Z"
   },
   {
    "duration": 56,
    "start_time": "2022-04-22T08:48:16.284Z"
   },
   {
    "duration": 54,
    "start_time": "2022-04-22T08:53:59.070Z"
   },
   {
    "duration": 71,
    "start_time": "2022-04-22T08:56:55.253Z"
   },
   {
    "duration": 60,
    "start_time": "2022-04-22T08:57:47.013Z"
   },
   {
    "duration": 1397,
    "start_time": "2022-04-22T08:58:50.462Z"
   },
   {
    "duration": 601,
    "start_time": "2022-04-22T08:58:51.862Z"
   },
   {
    "duration": 20,
    "start_time": "2022-04-22T08:58:52.466Z"
   },
   {
    "duration": 24,
    "start_time": "2022-04-22T08:58:52.490Z"
   },
   {
    "duration": 72,
    "start_time": "2022-04-22T08:58:52.516Z"
   },
   {
    "duration": 62,
    "start_time": "2022-04-22T08:58:52.591Z"
   },
   {
    "duration": 90,
    "start_time": "2022-04-22T08:58:52.656Z"
   },
   {
    "duration": 190,
    "start_time": "2022-04-22T08:58:52.748Z"
   },
   {
    "duration": 376,
    "start_time": "2022-04-22T08:58:52.940Z"
   },
   {
    "duration": 127,
    "start_time": "2022-04-22T08:58:53.320Z"
   },
   {
    "duration": 37,
    "start_time": "2022-04-22T08:58:53.449Z"
   },
   {
    "duration": 8,
    "start_time": "2022-04-22T08:58:53.489Z"
   },
   {
    "duration": 9,
    "start_time": "2022-04-22T08:58:53.499Z"
   },
   {
    "duration": 183,
    "start_time": "2022-04-22T08:58:53.511Z"
   },
   {
    "duration": 90,
    "start_time": "2022-04-22T08:58:53.700Z"
   },
   {
    "duration": 137,
    "start_time": "2022-04-22T08:58:53.793Z"
   },
   {
    "duration": 33,
    "start_time": "2022-04-22T08:58:53.933Z"
   },
   {
    "duration": 34,
    "start_time": "2022-04-22T08:58:53.986Z"
   },
   {
    "duration": 8,
    "start_time": "2022-04-22T08:58:54.023Z"
   },
   {
    "duration": 65,
    "start_time": "2022-04-22T08:58:54.033Z"
   },
   {
    "duration": 38,
    "start_time": "2022-04-22T08:58:54.100Z"
   },
   {
    "duration": 70,
    "start_time": "2022-04-22T08:58:54.141Z"
   },
   {
    "duration": 5,
    "start_time": "2022-04-22T08:58:54.213Z"
   },
   {
    "duration": 30,
    "start_time": "2022-04-22T08:58:54.221Z"
   },
   {
    "duration": 64,
    "start_time": "2022-04-22T08:58:54.253Z"
   },
   {
    "duration": 67,
    "start_time": "2022-04-22T08:58:54.319Z"
   },
   {
    "duration": 64,
    "start_time": "2022-04-22T08:58:54.389Z"
   },
   {
    "duration": 25,
    "start_time": "2022-04-22T08:58:54.459Z"
   },
   {
    "duration": 21,
    "start_time": "2022-04-22T08:58:54.486Z"
   },
   {
    "duration": 38,
    "start_time": "2022-04-22T08:58:54.510Z"
   },
   {
    "duration": 2438,
    "start_time": "2022-04-22T08:58:54.550Z"
   },
   {
    "duration": 0,
    "start_time": "2022-04-22T08:58:56.990Z"
   },
   {
    "duration": 0,
    "start_time": "2022-04-22T08:58:56.992Z"
   },
   {
    "duration": 0,
    "start_time": "2022-04-22T08:58:56.994Z"
   },
   {
    "duration": 0,
    "start_time": "2022-04-22T08:58:56.998Z"
   },
   {
    "duration": 0,
    "start_time": "2022-04-22T08:58:57.000Z"
   },
   {
    "duration": 0,
    "start_time": "2022-04-22T08:58:57.001Z"
   },
   {
    "duration": 0,
    "start_time": "2022-04-22T08:58:57.002Z"
   },
   {
    "duration": 0,
    "start_time": "2022-04-22T08:58:57.005Z"
   },
   {
    "duration": 0,
    "start_time": "2022-04-22T08:58:57.007Z"
   },
   {
    "duration": 0,
    "start_time": "2022-04-22T08:58:57.008Z"
   },
   {
    "duration": 0,
    "start_time": "2022-04-22T08:58:57.010Z"
   },
   {
    "duration": 0,
    "start_time": "2022-04-22T08:58:57.012Z"
   },
   {
    "duration": 0,
    "start_time": "2022-04-22T08:58:57.014Z"
   },
   {
    "duration": 0,
    "start_time": "2022-04-22T08:58:57.015Z"
   },
   {
    "duration": 0,
    "start_time": "2022-04-22T08:58:57.016Z"
   },
   {
    "duration": 0,
    "start_time": "2022-04-22T08:58:57.018Z"
   },
   {
    "duration": 0,
    "start_time": "2022-04-22T08:58:57.020Z"
   },
   {
    "duration": 0,
    "start_time": "2022-04-22T08:58:57.021Z"
   },
   {
    "duration": 0,
    "start_time": "2022-04-22T08:58:57.022Z"
   },
   {
    "duration": 0,
    "start_time": "2022-04-22T08:58:57.023Z"
   },
   {
    "duration": 0,
    "start_time": "2022-04-22T08:58:57.025Z"
   },
   {
    "duration": 0,
    "start_time": "2022-04-22T08:58:57.084Z"
   },
   {
    "duration": 0,
    "start_time": "2022-04-22T08:58:57.085Z"
   },
   {
    "duration": 0,
    "start_time": "2022-04-22T08:58:57.087Z"
   },
   {
    "duration": 0,
    "start_time": "2022-04-22T08:58:57.088Z"
   },
   {
    "duration": 0,
    "start_time": "2022-04-22T08:58:57.093Z"
   },
   {
    "duration": 0,
    "start_time": "2022-04-22T08:58:57.095Z"
   },
   {
    "duration": 0,
    "start_time": "2022-04-22T08:58:57.101Z"
   },
   {
    "duration": 0,
    "start_time": "2022-04-22T08:58:57.103Z"
   },
   {
    "duration": 0,
    "start_time": "2022-04-22T08:58:57.105Z"
   },
   {
    "duration": 0,
    "start_time": "2022-04-22T08:58:57.107Z"
   },
   {
    "duration": 0,
    "start_time": "2022-04-22T08:58:57.109Z"
   },
   {
    "duration": 0,
    "start_time": "2022-04-22T08:58:57.110Z"
   },
   {
    "duration": 0,
    "start_time": "2022-04-22T08:58:57.111Z"
   },
   {
    "duration": 0,
    "start_time": "2022-04-22T08:58:57.112Z"
   },
   {
    "duration": 23,
    "start_time": "2022-04-22T08:59:39.107Z"
   },
   {
    "duration": 41,
    "start_time": "2022-04-22T09:01:27.709Z"
   },
   {
    "duration": 7,
    "start_time": "2022-04-22T09:01:49.733Z"
   },
   {
    "duration": 4,
    "start_time": "2022-04-22T09:01:50.269Z"
   },
   {
    "duration": 6,
    "start_time": "2022-04-22T09:01:50.774Z"
   },
   {
    "duration": 321,
    "start_time": "2022-04-22T09:01:51.534Z"
   },
   {
    "duration": 5,
    "start_time": "2022-04-22T09:02:20.029Z"
   },
   {
    "duration": 19,
    "start_time": "2022-04-22T09:02:56.661Z"
   },
   {
    "duration": 1417,
    "start_time": "2022-04-22T09:03:46.643Z"
   },
   {
    "duration": 583,
    "start_time": "2022-04-22T09:03:48.062Z"
   },
   {
    "duration": 18,
    "start_time": "2022-04-22T09:03:48.647Z"
   },
   {
    "duration": 26,
    "start_time": "2022-04-22T09:03:48.669Z"
   },
   {
    "duration": 42,
    "start_time": "2022-04-22T09:03:48.697Z"
   },
   {
    "duration": 98,
    "start_time": "2022-04-22T09:03:48.741Z"
   },
   {
    "duration": 87,
    "start_time": "2022-04-22T09:03:48.842Z"
   },
   {
    "duration": 204,
    "start_time": "2022-04-22T09:03:48.931Z"
   },
   {
    "duration": 484,
    "start_time": "2022-04-22T09:03:49.137Z"
   },
   {
    "duration": 125,
    "start_time": "2022-04-22T09:03:49.625Z"
   },
   {
    "duration": 41,
    "start_time": "2022-04-22T09:03:49.752Z"
   },
   {
    "duration": 9,
    "start_time": "2022-04-22T09:03:49.795Z"
   },
   {
    "duration": 13,
    "start_time": "2022-04-22T09:03:49.807Z"
   },
   {
    "duration": 188,
    "start_time": "2022-04-22T09:03:49.823Z"
   },
   {
    "duration": 82,
    "start_time": "2022-04-22T09:03:50.013Z"
   },
   {
    "duration": 158,
    "start_time": "2022-04-22T09:03:50.100Z"
   },
   {
    "duration": 60,
    "start_time": "2022-04-22T09:03:50.261Z"
   },
   {
    "duration": 71,
    "start_time": "2022-04-22T09:03:50.324Z"
   },
   {
    "duration": 9,
    "start_time": "2022-04-22T09:03:50.397Z"
   },
   {
    "duration": 34,
    "start_time": "2022-04-22T09:03:50.409Z"
   },
   {
    "duration": 78,
    "start_time": "2022-04-22T09:03:50.446Z"
   },
   {
    "duration": 31,
    "start_time": "2022-04-22T09:03:50.526Z"
   },
   {
    "duration": 28,
    "start_time": "2022-04-22T09:03:50.560Z"
   },
   {
    "duration": 32,
    "start_time": "2022-04-22T09:03:50.591Z"
   },
   {
    "duration": 58,
    "start_time": "2022-04-22T09:03:50.625Z"
   },
   {
    "duration": 55,
    "start_time": "2022-04-22T09:03:50.686Z"
   },
   {
    "duration": 93,
    "start_time": "2022-04-22T09:03:50.743Z"
   },
   {
    "duration": 6,
    "start_time": "2022-04-22T09:03:50.846Z"
   },
   {
    "duration": 8,
    "start_time": "2022-04-22T09:03:50.884Z"
   },
   {
    "duration": 50,
    "start_time": "2022-04-22T09:03:50.895Z"
   },
   {
    "duration": 56,
    "start_time": "2022-04-22T09:03:50.947Z"
   },
   {
    "duration": 6,
    "start_time": "2022-04-22T09:03:51.005Z"
   },
   {
    "duration": 15,
    "start_time": "2022-04-22T09:03:51.013Z"
   },
   {
    "duration": 41,
    "start_time": "2022-04-22T09:03:51.031Z"
   },
   {
    "duration": 41,
    "start_time": "2022-04-22T09:03:51.074Z"
   },
   {
    "duration": 318,
    "start_time": "2022-04-22T09:03:51.117Z"
   },
   {
    "duration": 5,
    "start_time": "2022-04-22T09:03:51.438Z"
   },
   {
    "duration": 2693,
    "start_time": "2022-04-22T09:03:51.445Z"
   },
   {
    "duration": 0,
    "start_time": "2022-04-22T09:03:54.140Z"
   },
   {
    "duration": 0,
    "start_time": "2022-04-22T09:03:54.142Z"
   },
   {
    "duration": 0,
    "start_time": "2022-04-22T09:03:54.143Z"
   },
   {
    "duration": 0,
    "start_time": "2022-04-22T09:03:54.145Z"
   },
   {
    "duration": 0,
    "start_time": "2022-04-22T09:03:54.146Z"
   },
   {
    "duration": 0,
    "start_time": "2022-04-22T09:03:54.148Z"
   },
   {
    "duration": 0,
    "start_time": "2022-04-22T09:03:54.150Z"
   },
   {
    "duration": 0,
    "start_time": "2022-04-22T09:03:54.151Z"
   },
   {
    "duration": 0,
    "start_time": "2022-04-22T09:03:54.153Z"
   },
   {
    "duration": 0,
    "start_time": "2022-04-22T09:03:54.154Z"
   },
   {
    "duration": 0,
    "start_time": "2022-04-22T09:03:54.155Z"
   },
   {
    "duration": 0,
    "start_time": "2022-04-22T09:03:54.157Z"
   },
   {
    "duration": 0,
    "start_time": "2022-04-22T09:03:54.158Z"
   },
   {
    "duration": 0,
    "start_time": "2022-04-22T09:03:54.160Z"
   },
   {
    "duration": 0,
    "start_time": "2022-04-22T09:03:54.161Z"
   },
   {
    "duration": 0,
    "start_time": "2022-04-22T09:03:54.162Z"
   },
   {
    "duration": 0,
    "start_time": "2022-04-22T09:03:54.164Z"
   },
   {
    "duration": 0,
    "start_time": "2022-04-22T09:03:54.166Z"
   },
   {
    "duration": 0,
    "start_time": "2022-04-22T09:03:54.167Z"
   },
   {
    "duration": 0,
    "start_time": "2022-04-22T09:03:54.169Z"
   },
   {
    "duration": 0,
    "start_time": "2022-04-22T09:03:54.170Z"
   },
   {
    "duration": 0,
    "start_time": "2022-04-22T09:03:54.171Z"
   },
   {
    "duration": 0,
    "start_time": "2022-04-22T09:03:54.173Z"
   },
   {
    "duration": 0,
    "start_time": "2022-04-22T09:03:54.174Z"
   },
   {
    "duration": 0,
    "start_time": "2022-04-22T09:03:54.176Z"
   },
   {
    "duration": 0,
    "start_time": "2022-04-22T09:03:54.185Z"
   },
   {
    "duration": 0,
    "start_time": "2022-04-22T09:03:54.187Z"
   },
   {
    "duration": 0,
    "start_time": "2022-04-22T09:03:54.191Z"
   },
   {
    "duration": 1658,
    "start_time": "2022-04-22T09:04:29.122Z"
   },
   {
    "duration": 645,
    "start_time": "2022-04-22T09:04:30.784Z"
   },
   {
    "duration": 17,
    "start_time": "2022-04-22T09:04:31.432Z"
   },
   {
    "duration": 37,
    "start_time": "2022-04-22T09:04:31.453Z"
   },
   {
    "duration": 47,
    "start_time": "2022-04-22T09:04:31.493Z"
   },
   {
    "duration": 85,
    "start_time": "2022-04-22T09:04:31.542Z"
   },
   {
    "duration": 93,
    "start_time": "2022-04-22T09:04:31.630Z"
   },
   {
    "duration": 190,
    "start_time": "2022-04-22T09:04:31.727Z"
   },
   {
    "duration": 447,
    "start_time": "2022-04-22T09:04:31.920Z"
   },
   {
    "duration": 186,
    "start_time": "2022-04-22T09:04:32.381Z"
   },
   {
    "duration": 41,
    "start_time": "2022-04-22T09:04:32.570Z"
   },
   {
    "duration": 6,
    "start_time": "2022-04-22T09:04:32.613Z"
   },
   {
    "duration": 9,
    "start_time": "2022-04-22T09:04:32.621Z"
   },
   {
    "duration": 200,
    "start_time": "2022-04-22T09:04:32.632Z"
   },
   {
    "duration": 86,
    "start_time": "2022-04-22T09:04:32.834Z"
   },
   {
    "duration": 145,
    "start_time": "2022-04-22T09:04:32.922Z"
   },
   {
    "duration": 42,
    "start_time": "2022-04-22T09:04:33.069Z"
   },
   {
    "duration": 31,
    "start_time": "2022-04-22T09:04:33.113Z"
   },
   {
    "duration": 43,
    "start_time": "2022-04-22T09:04:33.147Z"
   },
   {
    "duration": 50,
    "start_time": "2022-04-22T09:04:33.192Z"
   },
   {
    "duration": 59,
    "start_time": "2022-04-22T09:04:33.245Z"
   },
   {
    "duration": 34,
    "start_time": "2022-04-22T09:04:33.306Z"
   },
   {
    "duration": 6,
    "start_time": "2022-04-22T09:04:33.343Z"
   },
   {
    "duration": 57,
    "start_time": "2022-04-22T09:04:33.351Z"
   },
   {
    "duration": 38,
    "start_time": "2022-04-22T09:04:33.410Z"
   },
   {
    "duration": 84,
    "start_time": "2022-04-22T09:04:33.450Z"
   },
   {
    "duration": 101,
    "start_time": "2022-04-22T09:04:33.537Z"
   },
   {
    "duration": 6,
    "start_time": "2022-04-22T09:04:33.644Z"
   },
   {
    "duration": 34,
    "start_time": "2022-04-22T09:04:33.652Z"
   },
   {
    "duration": 45,
    "start_time": "2022-04-22T09:04:33.692Z"
   },
   {
    "duration": 51,
    "start_time": "2022-04-22T09:04:33.739Z"
   },
   {
    "duration": 10,
    "start_time": "2022-04-22T09:04:33.793Z"
   },
   {
    "duration": 7,
    "start_time": "2022-04-22T09:04:33.805Z"
   },
   {
    "duration": 8,
    "start_time": "2022-04-22T09:04:33.815Z"
   },
   {
    "duration": 15,
    "start_time": "2022-04-22T09:04:33.825Z"
   },
   {
    "duration": 454,
    "start_time": "2022-04-22T09:04:33.842Z"
   },
   {
    "duration": 6,
    "start_time": "2022-04-22T09:04:34.299Z"
   },
   {
    "duration": 2661,
    "start_time": "2022-04-22T09:04:34.307Z"
   },
   {
    "duration": 0,
    "start_time": "2022-04-22T09:04:36.971Z"
   },
   {
    "duration": 0,
    "start_time": "2022-04-22T09:04:36.972Z"
   },
   {
    "duration": 0,
    "start_time": "2022-04-22T09:04:36.985Z"
   },
   {
    "duration": 0,
    "start_time": "2022-04-22T09:04:36.987Z"
   },
   {
    "duration": 0,
    "start_time": "2022-04-22T09:04:36.989Z"
   },
   {
    "duration": 0,
    "start_time": "2022-04-22T09:04:36.991Z"
   },
   {
    "duration": 0,
    "start_time": "2022-04-22T09:04:36.993Z"
   },
   {
    "duration": 0,
    "start_time": "2022-04-22T09:04:36.995Z"
   },
   {
    "duration": 0,
    "start_time": "2022-04-22T09:04:36.997Z"
   },
   {
    "duration": 0,
    "start_time": "2022-04-22T09:04:36.998Z"
   },
   {
    "duration": 0,
    "start_time": "2022-04-22T09:04:36.999Z"
   },
   {
    "duration": 0,
    "start_time": "2022-04-22T09:04:37.000Z"
   },
   {
    "duration": 0,
    "start_time": "2022-04-22T09:04:37.003Z"
   },
   {
    "duration": 0,
    "start_time": "2022-04-22T09:04:37.005Z"
   },
   {
    "duration": 0,
    "start_time": "2022-04-22T09:04:37.007Z"
   },
   {
    "duration": 0,
    "start_time": "2022-04-22T09:04:37.008Z"
   },
   {
    "duration": 0,
    "start_time": "2022-04-22T09:04:37.010Z"
   },
   {
    "duration": 0,
    "start_time": "2022-04-22T09:04:37.011Z"
   },
   {
    "duration": 0,
    "start_time": "2022-04-22T09:04:37.013Z"
   },
   {
    "duration": 0,
    "start_time": "2022-04-22T09:04:37.015Z"
   },
   {
    "duration": 0,
    "start_time": "2022-04-22T09:04:37.017Z"
   },
   {
    "duration": 0,
    "start_time": "2022-04-22T09:04:37.018Z"
   },
   {
    "duration": 0,
    "start_time": "2022-04-22T09:04:37.020Z"
   },
   {
    "duration": 1,
    "start_time": "2022-04-22T09:04:37.021Z"
   },
   {
    "duration": 0,
    "start_time": "2022-04-22T09:04:37.085Z"
   },
   {
    "duration": 0,
    "start_time": "2022-04-22T09:04:37.088Z"
   },
   {
    "duration": 0,
    "start_time": "2022-04-22T09:04:37.090Z"
   },
   {
    "duration": 0,
    "start_time": "2022-04-22T09:04:37.092Z"
   },
   {
    "duration": 10,
    "start_time": "2022-04-22T09:05:26.179Z"
   },
   {
    "duration": 5,
    "start_time": "2022-04-22T09:05:30.339Z"
   },
   {
    "duration": 2454,
    "start_time": "2022-04-22T09:05:31.482Z"
   },
   {
    "duration": 273,
    "start_time": "2022-04-22T09:05:38.411Z"
   },
   {
    "duration": 8,
    "start_time": "2022-04-22T09:05:53.595Z"
   },
   {
    "duration": 5,
    "start_time": "2022-04-22T09:05:54.306Z"
   },
   {
    "duration": 2310,
    "start_time": "2022-04-22T09:05:55.035Z"
   },
   {
    "duration": 277,
    "start_time": "2022-04-22T09:06:00.571Z"
   },
   {
    "duration": 41,
    "start_time": "2022-04-22T09:07:06.722Z"
   },
   {
    "duration": 7,
    "start_time": "2022-04-22T09:07:19.833Z"
   },
   {
    "duration": 5,
    "start_time": "2022-04-22T09:07:20.372Z"
   },
   {
    "duration": 297,
    "start_time": "2022-04-22T09:07:20.806Z"
   },
   {
    "duration": 9,
    "start_time": "2022-04-22T09:07:46.280Z"
   },
   {
    "duration": 6,
    "start_time": "2022-04-22T09:07:46.880Z"
   },
   {
    "duration": 374,
    "start_time": "2022-04-22T09:07:47.323Z"
   },
   {
    "duration": 8,
    "start_time": "2022-04-22T09:08:14.864Z"
   },
   {
    "duration": 6,
    "start_time": "2022-04-22T09:08:15.310Z"
   },
   {
    "duration": 319,
    "start_time": "2022-04-22T09:08:15.678Z"
   },
   {
    "duration": 214,
    "start_time": "2022-04-22T09:08:19.632Z"
   },
   {
    "duration": 227,
    "start_time": "2022-04-22T09:08:21.511Z"
   },
   {
    "duration": 6,
    "start_time": "2022-04-22T09:13:35.740Z"
   },
   {
    "duration": 6,
    "start_time": "2022-04-22T09:13:36.540Z"
   },
   {
    "duration": 7,
    "start_time": "2022-04-22T09:13:39.324Z"
   },
   {
    "duration": 39,
    "start_time": "2022-04-22T09:29:15.288Z"
   },
   {
    "duration": 40,
    "start_time": "2022-04-22T09:29:17.822Z"
   },
   {
    "duration": 8,
    "start_time": "2022-04-22T09:29:20.030Z"
   },
   {
    "duration": 6,
    "start_time": "2022-04-22T09:29:41.896Z"
   },
   {
    "duration": 7,
    "start_time": "2022-04-22T09:29:42.702Z"
   },
   {
    "duration": 39,
    "start_time": "2022-04-22T09:39:39.678Z"
   },
   {
    "duration": 546,
    "start_time": "2022-04-22T09:41:08.805Z"
   },
   {
    "duration": 424,
    "start_time": "2022-04-22T09:41:42.262Z"
   },
   {
    "duration": 426,
    "start_time": "2022-04-22T09:41:56.125Z"
   },
   {
    "duration": 236,
    "start_time": "2022-04-22T09:42:11.054Z"
   },
   {
    "duration": 527,
    "start_time": "2022-04-22T09:42:15.942Z"
   },
   {
    "duration": 127,
    "start_time": "2022-04-22T09:42:38.533Z"
   },
   {
    "duration": 407,
    "start_time": "2022-04-22T09:42:48.813Z"
   },
   {
    "duration": 534,
    "start_time": "2022-04-22T09:44:11.021Z"
   },
   {
    "duration": 438,
    "start_time": "2022-04-22T09:44:43.724Z"
   },
   {
    "duration": 1443,
    "start_time": "2022-04-22T09:45:31.455Z"
   },
   {
    "duration": 736,
    "start_time": "2022-04-22T09:45:32.902Z"
   },
   {
    "duration": 17,
    "start_time": "2022-04-22T09:45:33.643Z"
   },
   {
    "duration": 23,
    "start_time": "2022-04-22T09:45:33.662Z"
   },
   {
    "duration": 41,
    "start_time": "2022-04-22T09:45:33.689Z"
   },
   {
    "duration": 98,
    "start_time": "2022-04-22T09:45:33.733Z"
   },
   {
    "duration": 79,
    "start_time": "2022-04-22T09:45:33.833Z"
   },
   {
    "duration": 184,
    "start_time": "2022-04-22T09:45:33.914Z"
   },
   {
    "duration": 367,
    "start_time": "2022-04-22T09:45:34.102Z"
   },
   {
    "duration": 131,
    "start_time": "2022-04-22T09:45:34.471Z"
   },
   {
    "duration": 25,
    "start_time": "2022-04-22T09:45:34.605Z"
   },
   {
    "duration": 6,
    "start_time": "2022-04-22T09:45:34.632Z"
   },
   {
    "duration": 44,
    "start_time": "2022-04-22T09:45:34.640Z"
   },
   {
    "duration": 162,
    "start_time": "2022-04-22T09:45:34.687Z"
   },
   {
    "duration": 87,
    "start_time": "2022-04-22T09:45:34.851Z"
   },
   {
    "duration": 150,
    "start_time": "2022-04-22T09:45:34.940Z"
   },
   {
    "duration": 39,
    "start_time": "2022-04-22T09:45:35.093Z"
   },
   {
    "duration": 70,
    "start_time": "2022-04-22T09:45:35.134Z"
   },
   {
    "duration": 7,
    "start_time": "2022-04-22T09:45:35.206Z"
   },
   {
    "duration": 30,
    "start_time": "2022-04-22T09:45:35.214Z"
   },
   {
    "duration": 68,
    "start_time": "2022-04-22T09:45:35.246Z"
   },
   {
    "duration": 30,
    "start_time": "2022-04-22T09:45:35.317Z"
   },
   {
    "duration": 5,
    "start_time": "2022-04-22T09:45:35.349Z"
   },
   {
    "duration": 27,
    "start_time": "2022-04-22T09:45:35.382Z"
   },
   {
    "duration": 40,
    "start_time": "2022-04-22T09:45:35.411Z"
   },
   {
    "duration": 83,
    "start_time": "2022-04-22T09:45:35.453Z"
   },
   {
    "duration": 102,
    "start_time": "2022-04-22T09:45:35.542Z"
   },
   {
    "duration": 6,
    "start_time": "2022-04-22T09:45:35.646Z"
   },
   {
    "duration": 7,
    "start_time": "2022-04-22T09:45:35.654Z"
   },
   {
    "duration": 55,
    "start_time": "2022-04-22T09:45:35.663Z"
   },
   {
    "duration": 37,
    "start_time": "2022-04-22T09:45:35.720Z"
   },
   {
    "duration": 478,
    "start_time": "2022-04-22T09:45:35.782Z"
   },
   {
    "duration": 417,
    "start_time": "2022-04-22T09:45:36.263Z"
   },
   {
    "duration": 391,
    "start_time": "2022-04-22T09:45:36.687Z"
   },
   {
    "duration": 15,
    "start_time": "2022-04-22T09:45:37.082Z"
   },
   {
    "duration": 6,
    "start_time": "2022-04-22T09:45:37.100Z"
   },
   {
    "duration": 9,
    "start_time": "2022-04-22T09:45:37.108Z"
   },
   {
    "duration": 12,
    "start_time": "2022-04-22T09:45:37.119Z"
   },
   {
    "duration": 68,
    "start_time": "2022-04-22T09:45:37.133Z"
   },
   {
    "duration": 12,
    "start_time": "2022-04-22T09:45:37.204Z"
   },
   {
    "duration": 13,
    "start_time": "2022-04-22T09:45:37.219Z"
   },
   {
    "duration": 359,
    "start_time": "2022-04-22T09:45:37.234Z"
   },
   {
    "duration": 12,
    "start_time": "2022-04-22T09:45:37.595Z"
   },
   {
    "duration": 7,
    "start_time": "2022-04-22T09:45:37.609Z"
   },
   {
    "duration": 320,
    "start_time": "2022-04-22T09:45:37.618Z"
   },
   {
    "duration": 214,
    "start_time": "2022-04-22T09:45:37.940Z"
   },
   {
    "duration": 7,
    "start_time": "2022-04-22T09:45:38.156Z"
   },
   {
    "duration": 55,
    "start_time": "2022-04-22T09:45:38.165Z"
   },
   {
    "duration": 7,
    "start_time": "2022-04-22T09:45:38.223Z"
   },
   {
    "duration": 9,
    "start_time": "2022-04-22T09:45:38.232Z"
   },
   {
    "duration": 357,
    "start_time": "2022-04-22T09:45:38.243Z"
   },
   {
    "duration": 8,
    "start_time": "2022-04-22T09:45:38.602Z"
   },
   {
    "duration": 7,
    "start_time": "2022-04-22T09:45:38.612Z"
   },
   {
    "duration": 327,
    "start_time": "2022-04-22T09:45:38.621Z"
   },
   {
    "duration": 7,
    "start_time": "2022-04-22T09:45:38.951Z"
   },
   {
    "duration": 26,
    "start_time": "2022-04-22T09:45:38.961Z"
   },
   {
    "duration": 318,
    "start_time": "2022-04-22T09:45:38.991Z"
   },
   {
    "duration": 241,
    "start_time": "2022-04-22T09:45:39.311Z"
   },
   {
    "duration": 250,
    "start_time": "2022-04-22T09:45:39.554Z"
   },
   {
    "duration": 9,
    "start_time": "2022-04-22T09:45:39.806Z"
   },
   {
    "duration": 7,
    "start_time": "2022-04-22T09:45:39.817Z"
   },
   {
    "duration": 6,
    "start_time": "2022-04-22T09:45:39.827Z"
   },
   {
    "duration": 60,
    "start_time": "2022-04-22T09:45:39.835Z"
   },
   {
    "duration": 38,
    "start_time": "2022-04-22T09:45:39.897Z"
   },
   {
    "duration": 63,
    "start_time": "2022-04-22T09:45:39.937Z"
   },
   {
    "duration": 7,
    "start_time": "2022-04-22T09:45:40.002Z"
   },
   {
    "duration": 11,
    "start_time": "2022-04-22T09:45:40.011Z"
   },
   {
    "duration": 8,
    "start_time": "2022-04-22T09:45:40.024Z"
   },
   {
    "duration": 543,
    "start_time": "2022-04-22T09:48:28.718Z"
   },
   {
    "duration": 1135,
    "start_time": "2022-04-25T14:58:35.939Z"
   },
   {
    "duration": 477,
    "start_time": "2022-04-25T14:58:37.076Z"
   },
   {
    "duration": 15,
    "start_time": "2022-04-25T14:58:37.558Z"
   },
   {
    "duration": 15,
    "start_time": "2022-04-25T14:58:37.575Z"
   },
   {
    "duration": 27,
    "start_time": "2022-04-25T14:58:37.592Z"
   },
   {
    "duration": 86,
    "start_time": "2022-04-25T14:58:37.622Z"
   },
   {
    "duration": 95,
    "start_time": "2022-04-25T14:58:37.710Z"
   },
   {
    "duration": 201,
    "start_time": "2022-04-25T14:58:37.824Z"
   },
   {
    "duration": 432,
    "start_time": "2022-04-25T14:58:38.030Z"
   },
   {
    "duration": 132,
    "start_time": "2022-04-25T14:58:38.465Z"
   },
   {
    "duration": 37,
    "start_time": "2022-04-25T14:58:38.599Z"
   },
   {
    "duration": 6,
    "start_time": "2022-04-25T14:58:38.637Z"
   },
   {
    "duration": 18,
    "start_time": "2022-04-25T14:58:38.645Z"
   },
   {
    "duration": 187,
    "start_time": "2022-04-25T14:58:38.665Z"
   },
   {
    "duration": 70,
    "start_time": "2022-04-25T14:58:38.854Z"
   },
   {
    "duration": 112,
    "start_time": "2022-04-25T14:58:38.926Z"
   },
   {
    "duration": 40,
    "start_time": "2022-04-25T14:58:39.040Z"
   },
   {
    "duration": 51,
    "start_time": "2022-04-25T14:58:39.083Z"
   },
   {
    "duration": 8,
    "start_time": "2022-04-25T14:58:39.136Z"
   },
   {
    "duration": 33,
    "start_time": "2022-04-25T14:58:39.146Z"
   },
   {
    "duration": 65,
    "start_time": "2022-04-25T14:58:39.182Z"
   },
   {
    "duration": 31,
    "start_time": "2022-04-25T14:58:39.251Z"
   },
   {
    "duration": 4,
    "start_time": "2022-04-25T14:58:39.284Z"
   },
   {
    "duration": 46,
    "start_time": "2022-04-25T14:58:39.290Z"
   },
   {
    "duration": 50,
    "start_time": "2022-04-25T14:58:39.338Z"
   },
   {
    "duration": 46,
    "start_time": "2022-04-25T14:58:39.391Z"
   },
   {
    "duration": 42,
    "start_time": "2022-04-25T14:58:39.441Z"
   },
   {
    "duration": 6,
    "start_time": "2022-04-25T14:58:39.485Z"
   },
   {
    "duration": 30,
    "start_time": "2022-04-25T14:58:39.493Z"
   },
   {
    "duration": 23,
    "start_time": "2022-04-25T14:58:39.525Z"
   },
   {
    "duration": 30,
    "start_time": "2022-04-25T14:58:39.550Z"
   },
   {
    "duration": 432,
    "start_time": "2022-04-25T14:58:39.582Z"
   },
   {
    "duration": 359,
    "start_time": "2022-04-25T14:58:40.022Z"
   },
   {
    "duration": 267,
    "start_time": "2022-04-25T14:58:40.383Z"
   },
   {
    "duration": 335,
    "start_time": "2022-04-25T14:58:40.652Z"
   },
   {
    "duration": 5,
    "start_time": "2022-04-25T14:58:40.990Z"
   },
   {
    "duration": 5,
    "start_time": "2022-04-25T14:58:40.996Z"
   },
   {
    "duration": 20,
    "start_time": "2022-04-25T14:58:41.003Z"
   },
   {
    "duration": 6,
    "start_time": "2022-04-25T14:58:41.026Z"
   },
   {
    "duration": 7,
    "start_time": "2022-04-25T14:58:41.034Z"
   },
   {
    "duration": 7,
    "start_time": "2022-04-25T14:58:41.042Z"
   },
   {
    "duration": 37,
    "start_time": "2022-04-25T14:58:41.050Z"
   },
   {
    "duration": 4,
    "start_time": "2022-04-25T14:58:41.090Z"
   },
   {
    "duration": 10,
    "start_time": "2022-04-25T14:58:41.096Z"
   },
   {
    "duration": 17,
    "start_time": "2022-04-25T14:58:41.109Z"
   },
   {
    "duration": 9,
    "start_time": "2022-04-25T14:58:41.129Z"
   },
   {
    "duration": 9,
    "start_time": "2022-04-25T14:58:41.140Z"
   },
   {
    "duration": 12,
    "start_time": "2022-04-25T14:58:41.151Z"
   },
   {
    "duration": 13,
    "start_time": "2022-04-25T14:58:41.166Z"
   },
   {
    "duration": 12,
    "start_time": "2022-04-25T14:58:41.181Z"
   },
   {
    "duration": 30,
    "start_time": "2022-04-25T14:58:41.194Z"
   },
   {
    "duration": 5,
    "start_time": "2022-04-25T14:58:41.225Z"
   },
   {
    "duration": 29,
    "start_time": "2022-04-25T14:58:41.232Z"
   },
   {
    "duration": 30,
    "start_time": "2022-04-25T14:58:41.262Z"
   },
   {
    "duration": 7,
    "start_time": "2022-04-25T14:58:41.321Z"
   },
   {
    "duration": 5,
    "start_time": "2022-04-25T14:58:41.330Z"
   },
   {
    "duration": 9,
    "start_time": "2022-04-25T14:58:41.337Z"
   },
   {
    "duration": 15,
    "start_time": "2022-04-25T15:04:07.779Z"
   },
   {
    "duration": 13,
    "start_time": "2022-04-25T15:06:59.314Z"
   }
  ],
  "kernelspec": {
   "display_name": "Python 3 (ipykernel)",
   "language": "python",
   "name": "python3"
  },
  "language_info": {
   "codemirror_mode": {
    "name": "ipython",
    "version": 3
   },
   "file_extension": ".py",
   "mimetype": "text/x-python",
   "name": "python",
   "nbconvert_exporter": "python",
   "pygments_lexer": "ipython3",
   "version": "3.9.12"
  },
  "toc": {
   "base_numbering": 1,
   "nav_menu": {},
   "number_sections": true,
   "sideBar": true,
   "skip_h1_title": true,
   "title_cell": "Table of Contents",
   "title_sidebar": "Contents",
   "toc_cell": false,
   "toc_position": {
    "height": "calc(100% - 180px)",
    "left": "10px",
    "top": "150px",
    "width": "290.333px"
   },
   "toc_section_display": true,
   "toc_window_display": true
  }
 },
 "nbformat": 4,
 "nbformat_minor": 2
}

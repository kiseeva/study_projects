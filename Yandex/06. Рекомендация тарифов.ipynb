{
 "cells": [
  {
   "cell_type": "markdown",
   "metadata": {},
   "source": [
    "# Рекомендация тарифов"
   ]
  },
  {
   "cell_type": "markdown",
   "metadata": {},
   "source": [
    "Ряд клиентов компании \"N\" пользуются архивными тарифами.  Необходимо построить систему, способную проанализировать поведение клиентов и предложить пользователям новый тариф: «Смарт» или «Ультра».\n",
    "\n",
    "`Цель:`построить модель для задачи классификации с максимально большим значением *accuracy*, которая выберет подходящий тариф.\n",
    "\n",
    "`Уточнение:` Предобработка данных не требуется.\n",
    "\n",
    "`Критерий приема:`доля правильных ответов 0.75\n",
    "\n",
    "`Входные данные:` данные о поведении клиентов, которые уже перешли на новые тарифы, файл users_behavior.csv\n",
    "\n",
    "`Описание данных:`\n",
    "\n",
    "Каждый объект в наборе данных — это информация о поведении одного пользователя за месяц. Известно:\n",
    "\n",
    "- сalls — количество звонков,\n",
    "- minutes — суммарная длительность звонков в минутах,\n",
    "- messages — количество sms-сообщений,\n",
    "- mb_used — израсходованный интернет-трафик в Мб,\n",
    "- is_ultra — каким тарифом пользовался в течение месяца («Ультра» — 1, «Смарт» — 0)."
   ]
  },
  {
   "cell_type": "markdown",
   "metadata": {},
   "source": [
    "## Изучение файла"
   ]
  },
  {
   "cell_type": "code",
   "execution_count": 1,
   "metadata": {},
   "outputs": [],
   "source": [
    "import pandas as pd\n",
    "import numpy as np\n",
    "import seaborn as sns\n",
    "import matplotlib.pyplot as plt\n",
    "\n",
    "from sklearn.model_selection import train_test_split \n",
    "from sklearn.metrics import accuracy_score \n",
    "from joblib import dump\n",
    "from sklearn.metrics import mean_squared_error\n",
    "from scipy import stats\n",
    "from sklearn.model_selection import GridSearchCV\n",
    "from sklearn.preprocessing import PolynomialFeatures\n",
    "from sklearn.dummy import DummyClassifier\n",
    "\n",
    "from sklearn.tree import DecisionTreeClassifier \n",
    "from sklearn.ensemble import RandomForestClassifier \n",
    "from sklearn.linear_model import LogisticRegression "
   ]
  },
  {
   "cell_type": "code",
   "execution_count": 2,
   "metadata": {},
   "outputs": [],
   "source": [
    "df = pd.read_csv('/datasets/users_behavior.csv')"
   ]
  },
  {
   "cell_type": "code",
   "execution_count": 3,
   "metadata": {},
   "outputs": [
    {
     "data": {
      "text/html": [
       "<div>\n",
       "<style scoped>\n",
       "    .dataframe tbody tr th:only-of-type {\n",
       "        vertical-align: middle;\n",
       "    }\n",
       "\n",
       "    .dataframe tbody tr th {\n",
       "        vertical-align: top;\n",
       "    }\n",
       "\n",
       "    .dataframe thead th {\n",
       "        text-align: right;\n",
       "    }\n",
       "</style>\n",
       "<table border=\"1\" class=\"dataframe\">\n",
       "  <thead>\n",
       "    <tr style=\"text-align: right;\">\n",
       "      <th></th>\n",
       "      <th>calls</th>\n",
       "      <th>minutes</th>\n",
       "      <th>messages</th>\n",
       "      <th>mb_used</th>\n",
       "      <th>is_ultra</th>\n",
       "    </tr>\n",
       "  </thead>\n",
       "  <tbody>\n",
       "    <tr>\n",
       "      <th>0</th>\n",
       "      <td>40.0</td>\n",
       "      <td>311.90</td>\n",
       "      <td>83.0</td>\n",
       "      <td>19915.42</td>\n",
       "      <td>0</td>\n",
       "    </tr>\n",
       "    <tr>\n",
       "      <th>1</th>\n",
       "      <td>85.0</td>\n",
       "      <td>516.75</td>\n",
       "      <td>56.0</td>\n",
       "      <td>22696.96</td>\n",
       "      <td>0</td>\n",
       "    </tr>\n",
       "    <tr>\n",
       "      <th>2</th>\n",
       "      <td>77.0</td>\n",
       "      <td>467.66</td>\n",
       "      <td>86.0</td>\n",
       "      <td>21060.45</td>\n",
       "      <td>0</td>\n",
       "    </tr>\n",
       "    <tr>\n",
       "      <th>3</th>\n",
       "      <td>106.0</td>\n",
       "      <td>745.53</td>\n",
       "      <td>81.0</td>\n",
       "      <td>8437.39</td>\n",
       "      <td>1</td>\n",
       "    </tr>\n",
       "    <tr>\n",
       "      <th>4</th>\n",
       "      <td>66.0</td>\n",
       "      <td>418.74</td>\n",
       "      <td>1.0</td>\n",
       "      <td>14502.75</td>\n",
       "      <td>0</td>\n",
       "    </tr>\n",
       "  </tbody>\n",
       "</table>\n",
       "</div>"
      ],
      "text/plain": [
       "   calls  minutes  messages   mb_used  is_ultra\n",
       "0   40.0   311.90      83.0  19915.42         0\n",
       "1   85.0   516.75      56.0  22696.96         0\n",
       "2   77.0   467.66      86.0  21060.45         0\n",
       "3  106.0   745.53      81.0   8437.39         1\n",
       "4   66.0   418.74       1.0  14502.75         0"
      ]
     },
     "execution_count": 3,
     "metadata": {},
     "output_type": "execute_result"
    }
   ],
   "source": [
    "df.head()"
   ]
  },
  {
   "cell_type": "code",
   "execution_count": 4,
   "metadata": {
    "scrolled": true
   },
   "outputs": [
    {
     "data": {
      "text/html": [
       "<div>\n",
       "<style scoped>\n",
       "    .dataframe tbody tr th:only-of-type {\n",
       "        vertical-align: middle;\n",
       "    }\n",
       "\n",
       "    .dataframe tbody tr th {\n",
       "        vertical-align: top;\n",
       "    }\n",
       "\n",
       "    .dataframe thead th {\n",
       "        text-align: right;\n",
       "    }\n",
       "</style>\n",
       "<table border=\"1\" class=\"dataframe\">\n",
       "  <thead>\n",
       "    <tr style=\"text-align: right;\">\n",
       "      <th></th>\n",
       "      <th>calls</th>\n",
       "      <th>minutes</th>\n",
       "      <th>messages</th>\n",
       "      <th>mb_used</th>\n",
       "      <th>is_ultra</th>\n",
       "    </tr>\n",
       "  </thead>\n",
       "  <tbody>\n",
       "    <tr>\n",
       "      <th>count</th>\n",
       "      <td>3214.000000</td>\n",
       "      <td>3214.000000</td>\n",
       "      <td>3214.000000</td>\n",
       "      <td>3214.000000</td>\n",
       "      <td>3214.000000</td>\n",
       "    </tr>\n",
       "    <tr>\n",
       "      <th>mean</th>\n",
       "      <td>63.038892</td>\n",
       "      <td>438.208787</td>\n",
       "      <td>38.281269</td>\n",
       "      <td>17207.673836</td>\n",
       "      <td>0.306472</td>\n",
       "    </tr>\n",
       "    <tr>\n",
       "      <th>std</th>\n",
       "      <td>33.236368</td>\n",
       "      <td>234.569872</td>\n",
       "      <td>36.148326</td>\n",
       "      <td>7570.968246</td>\n",
       "      <td>0.461100</td>\n",
       "    </tr>\n",
       "    <tr>\n",
       "      <th>min</th>\n",
       "      <td>0.000000</td>\n",
       "      <td>0.000000</td>\n",
       "      <td>0.000000</td>\n",
       "      <td>0.000000</td>\n",
       "      <td>0.000000</td>\n",
       "    </tr>\n",
       "    <tr>\n",
       "      <th>25%</th>\n",
       "      <td>40.000000</td>\n",
       "      <td>274.575000</td>\n",
       "      <td>9.000000</td>\n",
       "      <td>12491.902500</td>\n",
       "      <td>0.000000</td>\n",
       "    </tr>\n",
       "    <tr>\n",
       "      <th>50%</th>\n",
       "      <td>62.000000</td>\n",
       "      <td>430.600000</td>\n",
       "      <td>30.000000</td>\n",
       "      <td>16943.235000</td>\n",
       "      <td>0.000000</td>\n",
       "    </tr>\n",
       "    <tr>\n",
       "      <th>75%</th>\n",
       "      <td>82.000000</td>\n",
       "      <td>571.927500</td>\n",
       "      <td>57.000000</td>\n",
       "      <td>21424.700000</td>\n",
       "      <td>1.000000</td>\n",
       "    </tr>\n",
       "    <tr>\n",
       "      <th>max</th>\n",
       "      <td>244.000000</td>\n",
       "      <td>1632.060000</td>\n",
       "      <td>224.000000</td>\n",
       "      <td>49745.730000</td>\n",
       "      <td>1.000000</td>\n",
       "    </tr>\n",
       "  </tbody>\n",
       "</table>\n",
       "</div>"
      ],
      "text/plain": [
       "             calls      minutes     messages       mb_used     is_ultra\n",
       "count  3214.000000  3214.000000  3214.000000   3214.000000  3214.000000\n",
       "mean     63.038892   438.208787    38.281269  17207.673836     0.306472\n",
       "std      33.236368   234.569872    36.148326   7570.968246     0.461100\n",
       "min       0.000000     0.000000     0.000000      0.000000     0.000000\n",
       "25%      40.000000   274.575000     9.000000  12491.902500     0.000000\n",
       "50%      62.000000   430.600000    30.000000  16943.235000     0.000000\n",
       "75%      82.000000   571.927500    57.000000  21424.700000     1.000000\n",
       "max     244.000000  1632.060000   224.000000  49745.730000     1.000000"
      ]
     },
     "execution_count": 4,
     "metadata": {},
     "output_type": "execute_result"
    }
   ],
   "source": [
    "df.describe()"
   ]
  },
  {
   "cell_type": "markdown",
   "metadata": {},
   "source": [
    "Из основной статистике данных видно, что среднее и максимальное значение некоторых признаков сильно отличается.\n",
    "\n",
    "Построим боксплоты, чтобы отследить выбросы"
   ]
  },
  {
   "cell_type": "code",
   "execution_count": 5,
   "metadata": {},
   "outputs": [
    {
     "data": {
      "image/png": "[encoded data removed]",
      "text/plain": [
       "<Figure size 432x288 with 1 Axes>"
      ]
     },
     "metadata": {
      "needs_background": "light"
     },
     "output_type": "display_data"
    },
    {
     "data": {
      "image/png": "[encoded data removed]",
      "text/plain": [
       "<Figure size 432x288 with 1 Axes>"
      ]
     },
     "metadata": {
      "needs_background": "light"
     },
     "output_type": "display_data"
    },
    {
     "data": {
      "image/png": "[encoded data removed]",
      "text/plain": [
       "<Figure size 432x288 with 1 Axes>"
      ]
     },
     "metadata": {
      "needs_background": "light"
     },
     "output_type": "display_data"
    },
    {
     "data": {
      "image/png": "[encoded data removed]",
      "text/plain": [
       "<Figure size 432x288 with 1 Axes>"
      ]
     },
     "metadata": {
      "needs_background": "light"
     },
     "output_type": "display_data"
    }
   ],
   "source": [
    "par_list = ['calls','minutes','messages','mb_used']\n",
    "\n",
    "\n",
    "for par in par_list:\n",
    "    df.boxplot(column =par)\n",
    "    plt.show()"
   ]
  },
  {
   "cell_type": "markdown",
   "metadata": {},
   "source": [
    "Часть выбросов может относится к данным пользователей ультра, посмотрим данные только для этих пользователей"
   ]
  },
  {
   "cell_type": "code",
   "execution_count": 6,
   "metadata": {
    "scrolled": true
   },
   "outputs": [
    {
     "data": {
      "image/png": "[encoded data removed]",
      "text/plain": [
       "<Figure size 432x288 with 1 Axes>"
      ]
     },
     "metadata": {
      "needs_background": "light"
     },
     "output_type": "display_data"
    },
    {
     "data": {
      "image/png": "[encoded data removed]",
      "text/plain": [
       "<Figure size 432x288 with 1 Axes>"
      ]
     },
     "metadata": {
      "needs_background": "light"
     },
     "output_type": "display_data"
    },
    {
     "data": {
      "image/png": "[encoded data removed]",
      "text/plain": [
       "<Figure size 432x288 with 1 Axes>"
      ]
     },
     "metadata": {
      "needs_background": "light"
     },
     "output_type": "display_data"
    },
    {
     "data": {
      "image/png": "[encoded data removed]",
      "text/plain": [
       "<Figure size 432x288 with 1 Axes>"
      ]
     },
     "metadata": {
      "needs_background": "light"
     },
     "output_type": "display_data"
    }
   ],
   "source": [
    "par_list = ['calls','minutes','messages','mb_used']\n",
    "\n",
    "\n",
    "for par in par_list:\n",
    "    df.loc[df['is_ultra']==1].boxplot(column =par)\n",
    "    plt.show()"
   ]
  },
  {
   "cell_type": "markdown",
   "metadata": {},
   "source": [
    "Проверим данные на дубликаты."
   ]
  },
  {
   "cell_type": "code",
   "execution_count": 7,
   "metadata": {},
   "outputs": [
    {
     "data": {
      "text/plain": [
       "0"
      ]
     },
     "execution_count": 7,
     "metadata": {},
     "output_type": "execute_result"
    }
   ],
   "source": [
    "df.duplicated().sum()"
   ]
  },
  {
   "cell_type": "markdown",
   "metadata": {},
   "source": [
    "Возьмем 99% доверительный интервал по каждому признаку, чтобы отсеить максимальные выбросы."
   ]
  },
  {
   "cell_type": "code",
   "execution_count": 9,
   "metadata": {
    "scrolled": true
   },
   "outputs": [
    {
     "name": "stdout",
     "output_type": "stream",
     "text": [
      "(-22.55899760698864, 148.63678229896126)\n",
      "(-125.67655761416404, 974.8969696585382)\n",
      "(-53.361848467704995, 128.1212613585793)\n",
      "(-1952.9776180339904, 35705.61104744768)\n"
     ]
    },
    {
     "data": {
      "text/html": [
       "<div>\n",
       "<style scoped>\n",
       "    .dataframe tbody tr th:only-of-type {\n",
       "        vertical-align: middle;\n",
       "    }\n",
       "\n",
       "    .dataframe tbody tr th {\n",
       "        vertical-align: top;\n",
       "    }\n",
       "\n",
       "    .dataframe thead th {\n",
       "        text-align: right;\n",
       "    }\n",
       "</style>\n",
       "<table border=\"1\" class=\"dataframe\">\n",
       "  <thead>\n",
       "    <tr style=\"text-align: right;\">\n",
       "      <th></th>\n",
       "      <th>calls</th>\n",
       "      <th>minutes</th>\n",
       "      <th>messages</th>\n",
       "      <th>mb_used</th>\n",
       "      <th>is_ultra</th>\n",
       "    </tr>\n",
       "  </thead>\n",
       "  <tbody>\n",
       "    <tr>\n",
       "      <th>count</th>\n",
       "      <td>3005.000000</td>\n",
       "      <td>3005.000000</td>\n",
       "      <td>3005.000000</td>\n",
       "      <td>3005.000000</td>\n",
       "      <td>3005.000000</td>\n",
       "    </tr>\n",
       "    <tr>\n",
       "      <th>mean</th>\n",
       "      <td>60.162729</td>\n",
       "      <td>418.108582</td>\n",
       "      <td>34.415973</td>\n",
       "      <td>16514.509677</td>\n",
       "      <td>0.263228</td>\n",
       "    </tr>\n",
       "    <tr>\n",
       "      <th>std</th>\n",
       "      <td>28.818821</td>\n",
       "      <td>203.727250</td>\n",
       "      <td>29.893464</td>\n",
       "      <td>6771.678285</td>\n",
       "      <td>0.440458</td>\n",
       "    </tr>\n",
       "    <tr>\n",
       "      <th>min</th>\n",
       "      <td>0.000000</td>\n",
       "      <td>0.000000</td>\n",
       "      <td>0.000000</td>\n",
       "      <td>0.000000</td>\n",
       "      <td>0.000000</td>\n",
       "    </tr>\n",
       "    <tr>\n",
       "      <th>25%</th>\n",
       "      <td>40.000000</td>\n",
       "      <td>271.430000</td>\n",
       "      <td>9.000000</td>\n",
       "      <td>12272.830000</td>\n",
       "      <td>0.000000</td>\n",
       "    </tr>\n",
       "    <tr>\n",
       "      <th>50%</th>\n",
       "      <td>61.000000</td>\n",
       "      <td>421.270000</td>\n",
       "      <td>28.000000</td>\n",
       "      <td>16617.340000</td>\n",
       "      <td>0.000000</td>\n",
       "    </tr>\n",
       "    <tr>\n",
       "      <th>75%</th>\n",
       "      <td>80.000000</td>\n",
       "      <td>550.750000</td>\n",
       "      <td>53.000000</td>\n",
       "      <td>20811.880000</td>\n",
       "      <td>1.000000</td>\n",
       "    </tr>\n",
       "    <tr>\n",
       "      <th>max</th>\n",
       "      <td>146.000000</td>\n",
       "      <td>974.190000</td>\n",
       "      <td>128.000000</td>\n",
       "      <td>35689.600000</td>\n",
       "      <td>1.000000</td>\n",
       "    </tr>\n",
       "  </tbody>\n",
       "</table>\n",
       "</div>"
      ],
      "text/plain": [
       "             calls      minutes     messages       mb_used     is_ultra\n",
       "count  3005.000000  3005.000000  3005.000000   3005.000000  3005.000000\n",
       "mean     60.162729   418.108582    34.415973  16514.509677     0.263228\n",
       "std      28.818821   203.727250    29.893464   6771.678285     0.440458\n",
       "min       0.000000     0.000000     0.000000      0.000000     0.000000\n",
       "25%      40.000000   271.430000     9.000000  12272.830000     0.000000\n",
       "50%      61.000000   421.270000    28.000000  16617.340000     0.000000\n",
       "75%      80.000000   550.750000    53.000000  20811.880000     1.000000\n",
       "max     146.000000   974.190000   128.000000  35689.600000     1.000000"
      ]
     },
     "execution_count": 9,
     "metadata": {},
     "output_type": "execute_result"
    }
   ],
   "source": [
    "par_list = ['calls','minutes','messages','mb_used']\n",
    "\n",
    "\n",
    "for par in par_list:\n",
    "    mean, sigma = np.mean(df[par]), np.std(df[par])\n",
    "\n",
    "    conf_int = stats.norm.interval(0.99, loc=mean, scale=sigma) \n",
    "    print(conf_int)\n",
    "    \n",
    "    df = df.loc[df[par] >= 0 ] # в наших данных не должно быть отрицательных значений, поэтому поставила >= 0\n",
    "    df = df.loc[df[par] < conf_int[1]]\n",
    "    \n",
    "df.describe()"
   ]
  },
  {
   "cell_type": "markdown",
   "metadata": {},
   "source": [
    "Проверим корреляцию данных."
   ]
  },
  {
   "cell_type": "code",
   "execution_count": 10,
   "metadata": {},
   "outputs": [
    {
     "name": "stdout",
     "output_type": "stream",
     "text": [
      "             calls   minutes  messages   mb_used\n",
      "calls     1.000000  0.977310  0.142754  0.282173\n",
      "minutes   0.977310  1.000000  0.141480  0.274934\n",
      "messages  0.142754  0.141480  1.000000  0.129132\n",
      "mb_used   0.282173  0.274934  0.129132  1.000000\n"
     ]
    }
   ],
   "source": [
    "par = ['calls','minutes','messages','mb_used']\n",
    "\n",
    "\n",
    "corr_df=df[par]  \n",
    "cor= corr_df.corr(method='pearson')\n",
    "print(cor)"
   ]
  },
  {
   "cell_type": "code",
   "execution_count": 11,
   "metadata": {},
   "outputs": [
    {
     "data": {
      "image/png": "[encoded data removed]",
      "text/plain": [
       "<Figure size 576x432 with 2 Axes>"
      ]
     },
     "metadata": {
      "needs_background": "light"
     },
     "output_type": "display_data"
    }
   ],
   "source": [
    "fig, ax =plt.subplots(figsize=(8, 6))\n",
    "plt.title(\"Correlation Plot\")\n",
    "sns.heatmap(cor, mask=np.zeros_like(cor, dtype=bool), cmap=sns.diverging_palette(220, 10, as_cmap=True),\n",
    "            square=True, ax=ax)\n",
    "plt.show()"
   ]
  },
  {
   "cell_type": "markdown",
   "metadata": {},
   "source": [
    "## Разбиение данных на выборки"
   ]
  },
  {
   "cell_type": "markdown",
   "metadata": {},
   "source": [
    "Нам необходимо три набора данных в соотношении 3:1:1"
   ]
  },
  {
   "cell_type": "code",
   "execution_count": 12,
   "metadata": {},
   "outputs": [
    {
     "name": "stdout",
     "output_type": "stream",
     "text": [
      "(2214, 5) (791, 5)\n",
      "Количество строк в target_train по классам: [1328  475]\n",
      "Количество строк в target_test по классам: [886 316]\n",
      "\n",
      "Количество строк в target_train по классам: [1328  475]\n",
      "Количество строк в target_valid по классам: [443 158]\n"
     ]
    }
   ],
   "source": [
    "features = df.drop(['is_ultra'], axis=1)\n",
    "target = df['is_ultra']\n",
    "\n",
    "print(df.loc[df['is_ultra'] == 0].shape, df.loc[df['is_ultra'] == 1].shape) # изначальное распределение меток ~ 3:1\n",
    "\n",
    "features_train, features_test, target_train, target_test = train_test_split(\n",
    "   features, target, test_size=0.4, random_state=12345,stratify=target)\n",
    "\n",
    "print(f\"Количество строк в target_train по классам: {np.bincount(target_train)}\")\n",
    "print(f\"Количество строк в target_test по классам: {np.bincount(target_test)}\")\n",
    "print()\n",
    "\n",
    "\n",
    "features_test, features_valid, target_test, target_valid = train_test_split(\n",
    "   features_test, target_test, test_size=0.5, random_state=12345, stratify= target_test)\n",
    "\n",
    "\n",
    "print(f\"Количество строк в target_train по классам: {np.bincount(target_train)}\")\n",
    "print(f\"Количество строк в target_valid по классам: {np.bincount(target_valid)}\")"
   ]
  },
  {
   "cell_type": "markdown",
   "metadata": {},
   "source": [
    "    features_train - обучающие признаки\n",
    "    target_train - обучающий целевой признак\n",
    "\n",
    "    features_valid - валидационные признаки\n",
    "    target_valid - валидационный целевой признак\n",
    "\n",
    "    features_test -  тестовые признаки\n",
    "    target_test - тестовый целевой признак"
   ]
  },
  {
   "cell_type": "markdown",
   "metadata": {},
   "source": [
    "## Исследование моделей\n",
    "\n",
    "Рассмотрим три модели: Дерево классификации, случайный лес и логистическую регрессию."
   ]
  },
  {
   "cell_type": "markdown",
   "metadata": {},
   "source": [
    "### Дерево классификации"
   ]
  },
  {
   "cell_type": "markdown",
   "metadata": {},
   "source": [
    "В цикле подберем наиболее подходящую глубину дерева, максимальное значение выбрано по кол-ву признаков."
   ]
  },
  {
   "cell_type": "code",
   "execution_count": 13,
   "metadata": {},
   "outputs": [
    {
     "name": "stdout",
     "output_type": "stream",
     "text": [
      "Accuracy лучшей модели на обучающей выборке: 0.7848031059345535\n",
      "Accuracy лучшей модели на валидационной выборке: 0.7920133111480865 DecisionTreeClassifier(max_depth=2, random_state=12345)\n"
     ]
    }
   ],
   "source": [
    "best_model_tree_classifier = None\n",
    "best_result = 0\n",
    "for depth in range(1, 4):\n",
    "    model = DecisionTreeClassifier(random_state=12345, max_depth= depth) \n",
    "    model.fit(features_train,target_train) \n",
    "    predictions = model.predict(features_valid) \n",
    "    result = accuracy_score(target_valid, predictions)\n",
    "    if result > best_result:\n",
    "        best_model_tree_classifier = model\n",
    "        best_result = result\n",
    "print(\"Accuracy лучшей модели на обучающей выборке:\", accuracy_score(target_train, best_model_tree_classifier.predict(features_train)))\n",
    "print(\"Accuracy лучшей модели на валидационной выборке:\", best_result, best_model_tree_classifier)"
   ]
  },
  {
   "cell_type": "markdown",
   "metadata": {},
   "source": [
    "### Случайный лес\n",
    "\n",
    "Для подбора параметров случайного леса воспользуемся GridSearchCV,  с параметром кросс-валидации равном 5."
   ]
  },
  {
   "cell_type": "code",
   "execution_count": 15,
   "metadata": {},
   "outputs": [
    {
     "name": "stdout",
     "output_type": "stream",
     "text": [
      "{'max_depth': 8, 'n_estimators': 200}\n"
     ]
    }
   ],
   "source": [
    "rfc=RandomForestClassifier(random_state=42)\n",
    "\n",
    "param_grid = { \n",
    "    'n_estimators': [200, 500],\n",
    "    'max_depth' : [4,5,6,7,8],\n",
    "}\n",
    "\n",
    "CV_rfc = GridSearchCV(estimator=rfc, param_grid=param_grid, cv= 5)\n",
    "CV_rfc.fit(features_train, target_train)\n",
    "\n",
    "\n",
    "print(CV_rfc.best_params_)"
   ]
  },
  {
   "cell_type": "code",
   "execution_count": 16,
   "metadata": {},
   "outputs": [],
   "source": [
    "best_model_forest_classifier = RandomForestClassifier(random_state=42,  n_estimators= 200, max_depth=6)"
   ]
  },
  {
   "cell_type": "code",
   "execution_count": 17,
   "metadata": {},
   "outputs": [
    {
     "data": {
      "text/plain": [
       "RandomForestClassifier(max_depth=6, n_estimators=200, random_state=42)"
      ]
     },
     "execution_count": 17,
     "metadata": {},
     "output_type": "execute_result"
    }
   ],
   "source": [
    "best_model_forest_classifier.fit(features_train, target_train)"
   ]
  },
  {
   "cell_type": "code",
   "execution_count": 18,
   "metadata": {},
   "outputs": [
    {
     "name": "stdout",
     "output_type": "stream",
     "text": [
      "Accuracy лучшей модели на обучающей выборке: 0.841375485302274\n",
      "Accuracy лучшей модели на валидационной выборке: 0.7920133111480865 RandomForestClassifier(max_depth=6, n_estimators=200, random_state=42)\n"
     ]
    }
   ],
   "source": [
    "print(\"Accuracy лучшей модели на обучающей выборке:\",accuracy_score(target_train, best_model_forest_classifier.predict(features_train)))\n",
    "print(\"Accuracy лучшей модели на валидационной выборке:\", best_result, best_model_forest_classifier)"
   ]
  },
  {
   "cell_type": "markdown",
   "metadata": {},
   "source": [
    "### Логистическая регрессия "
   ]
  },
  {
   "cell_type": "markdown",
   "metadata": {},
   "source": [
    "Реализуем модель логистической регрессии."
   ]
  },
  {
   "cell_type": "code",
   "execution_count": 19,
   "metadata": {},
   "outputs": [
    {
     "name": "stdout",
     "output_type": "stream",
     "text": [
      "Accuracy модели на обучающей выборке: 0.7365501941209096\n",
      "Accuracy модели на валидационной выборке: 0.7371048252911814\n"
     ]
    }
   ],
   "source": [
    "logistic_regression_model = LogisticRegression(random_state = 12345,solver='lbfgs', max_iter=1000, C = 10000)\n",
    "logistic_regression_model.fit(features_train,target_train)\n",
    "logistic_regression_model.predict(features_valid)\n",
    "\n",
    "#dump(logistic_regression_model, 'model_9_1.joblib')\n",
    "\n",
    "print(\"Accuracy модели на обучающей выборке:\",logistic_regression_model.score(features_train,target_train))\n",
    "print(\"Accuracy модели на валидационной выборке:\",logistic_regression_model.score(features_valid,target_valid))"
   ]
  },
  {
   "cell_type": "code",
   "execution_count": 20,
   "metadata": {},
   "outputs": [
    {
     "name": "stdout",
     "output_type": "stream",
     "text": [
      "Лучшая конфигурация LogisticRegression(C=1, max_iter=100000, random_state=12345) 0.7371048252911814\n"
     ]
    }
   ],
   "source": [
    "best_model_logistic_reg = None\n",
    "best_result = 0\n",
    "\n",
    "for regularization_s in [1,10,100,1000]:\n",
    "    for solver in ['lbfgs', 'liblinear','sag', 'saga']:\n",
    "        model = LogisticRegression(random_state = 12345,solver=solver, max_iter=100000, C = regularization_s)\n",
    "        model.fit(features_train,target_train)\n",
    "        model.predict(features_valid)\n",
    "        result = model.score(features_valid,target_valid)\n",
    "        #print(model,result)\n",
    "            \n",
    "        if result > best_result:\n",
    "            best_model_logistic_reg =  model \n",
    "            best_result = result \n",
    "            \n",
    "            \n",
    "print('Лучшая конфигурация',best_model_logistic_reg,best_result)       "
   ]
  },
  {
   "cell_type": "code",
   "execution_count": 21,
   "metadata": {},
   "outputs": [],
   "source": [
    "poly = PolynomialFeatures(degree=3)\n",
    "feature_poly = poly.fit_transform(features_train)"
   ]
  },
  {
   "cell_type": "code",
   "execution_count": 22,
   "metadata": {},
   "outputs": [
    {
     "data": {
      "text/plain": [
       "0.7359955629506378"
      ]
     },
     "execution_count": 22,
     "metadata": {},
     "output_type": "execute_result"
    }
   ],
   "source": [
    "logit = LogisticRegression(C=1, max_iter=1e20, random_state=12345)\n",
    "logit.fit(feature_poly, target_train)\n",
    "\n",
    "logit.score(feature_poly, target_train)"
   ]
  },
  {
   "cell_type": "markdown",
   "metadata": {},
   "source": [
    "## Проверка модель на тестовой выборке"
   ]
  },
  {
   "cell_type": "markdown",
   "metadata": {},
   "source": [
    "### Проверка модели дерева классификации"
   ]
  },
  {
   "cell_type": "code",
   "execution_count": 24,
   "metadata": {},
   "outputs": [
    {
     "name": "stdout",
     "output_type": "stream",
     "text": [
      "Accuracy модели на тестовой выборке: 0.778702163061564\n"
     ]
    }
   ],
   "source": [
    "predictions_tree = best_model_tree_classifier.predict(features_test)\n",
    "print(\"Accuracy модели на тестовой выборке:\",accuracy_score(target_test, predictions_tree))"
   ]
  },
  {
   "cell_type": "markdown",
   "metadata": {},
   "source": [
    "### Проверка модели случайный лес"
   ]
  },
  {
   "cell_type": "code",
   "execution_count": 25,
   "metadata": {},
   "outputs": [
    {
     "name": "stdout",
     "output_type": "stream",
     "text": [
      "Accuracy модели на тестовой выборке: 0.8036605657237936\n"
     ]
    }
   ],
   "source": [
    "predictions_forest = best_model_forest_classifier.predict(features_test)\n",
    "print(\"Accuracy модели на тестовой выборке:\",accuracy_score(target_test,predictions_forest))"
   ]
  },
  {
   "cell_type": "markdown",
   "metadata": {},
   "source": [
    "### Проверка модели логистической регрессии"
   ]
  },
  {
   "cell_type": "code",
   "execution_count": 26,
   "metadata": {},
   "outputs": [
    {
     "name": "stdout",
     "output_type": "stream",
     "text": [
      "Accuracy модели на тестовой выборке: 0.7371048252911814\n"
     ]
    }
   ],
   "source": [
    "predictions_logistic = logistic_regression_model.predict(features_test)\n",
    "print(\"Accuracy модели на тестовой выборке:\",accuracy_score(target_test,predictions_logistic))"
   ]
  },
  {
   "cell_type": "markdown",
   "metadata": {},
   "source": [
    "Наилучший результат показывает модель случайного леса."
   ]
  },
  {
   "cell_type": "markdown",
   "metadata": {},
   "source": [
    "## (бонус) Проверка моделей на адекватность"
   ]
  },
  {
   "cell_type": "code",
   "execution_count": 27,
   "metadata": {},
   "outputs": [
    {
     "data": {
      "text/plain": [
       "0.22129783693843594"
      ]
     },
     "execution_count": 27,
     "metadata": {},
     "output_type": "execute_result"
    }
   ],
   "source": [
    "mean_squared_error(target_test,predictions_tree)"
   ]
  },
  {
   "cell_type": "code",
   "execution_count": 28,
   "metadata": {},
   "outputs": [
    {
     "data": {
      "text/plain": [
       "0.19633943427620631"
      ]
     },
     "execution_count": 28,
     "metadata": {},
     "output_type": "execute_result"
    }
   ],
   "source": [
    "mean_squared_error(target_test,predictions_forest)"
   ]
  },
  {
   "cell_type": "code",
   "execution_count": 29,
   "metadata": {},
   "outputs": [
    {
     "data": {
      "text/plain": [
       "0.2628951747088186"
      ]
     },
     "execution_count": 29,
     "metadata": {},
     "output_type": "execute_result"
    }
   ],
   "source": [
    "mean_squared_error(target_test,predictions_logistic)"
   ]
  },
  {
   "cell_type": "code",
   "execution_count": 30,
   "metadata": {
    "scrolled": true
   },
   "outputs": [
    {
     "data": {
      "text/plain": [
       "0.19393899795404776"
      ]
     },
     "execution_count": 30,
     "metadata": {},
     "output_type": "execute_result"
    }
   ],
   "source": [
    "predictions_mean = pd.Series(target.mean(), index=target.index) \n",
    "mse = mean_squared_error(target, predictions_mean)\n",
    "mse"
   ]
  },
  {
   "cell_type": "markdown",
   "metadata": {},
   "source": [
    "Создадим константную модель, чтобы сравнить результат ее работы с результатами наших моделей."
   ]
  },
  {
   "cell_type": "code",
   "execution_count": 31,
   "metadata": {},
   "outputs": [
    {
     "data": {
      "text/plain": [
       "0.7365501941209096"
      ]
     },
     "execution_count": 31,
     "metadata": {},
     "output_type": "execute_result"
    }
   ],
   "source": [
    "dummy_clf = DummyClassifier(strategy=\"most_frequent\")\n",
    "dummy_clf.fit(features_train, target_train)\n",
    "\n",
    "dummy_clf.predict(features_valid)\n",
    "\n",
    "dummy_clf.score(features_train, target_train)"
   ]
  },
  {
   "cell_type": "markdown",
   "metadata": {},
   "source": [
    "### Вывод:\n",
    "\n",
    "В результате работы были опробоованы три модели классификации: дерево классификации, случайный лес и логистическая регрессия.\n",
    "\n",
    "Был осуществлен подбор гиперпараметров, а также кросс-валидация (для модели случайного леса).\n",
    "\n",
    "Модель случайного леса с параметрами n_estimators= 200, max_depth=6, дает наилучший результат 0.8036, что отвечает запросу заказчика."
   ]
  },
  {
   "cell_type": "code",
   "execution_count": null,
   "metadata": {},
   "outputs": [],
   "source": []
  }
 ],
 "metadata": {
  "ExecuteTimeLog": [
   {
    "duration": 2072,
    "start_time": "2022-05-16T13:15:08.506Z"
   },
   {
    "duration": 19,
    "start_time": "2022-05-16T13:15:10.580Z"
   },
   {
    "duration": 25,
    "start_time": "2022-05-16T13:15:10.601Z"
   },
   {
    "duration": 33,
    "start_time": "2022-05-16T13:15:10.629Z"
   },
   {
    "duration": 1106,
    "start_time": "2022-05-16T13:15:10.664Z"
   },
   {
    "duration": 1171,
    "start_time": "2022-05-16T13:15:11.825Z"
   },
   {
    "duration": 37,
    "start_time": "2022-05-16T13:15:12.998Z"
   },
   {
    "duration": 25,
    "start_time": "2022-05-16T13:15:13.037Z"
   },
   {
    "duration": 203,
    "start_time": "2022-05-16T13:15:13.065Z"
   },
   {
    "duration": 3522,
    "start_time": "2022-05-16T13:15:13.271Z"
   },
   {
    "duration": 60,
    "start_time": "2022-05-16T13:15:16.796Z"
   },
   {
    "duration": 9,
    "start_time": "2022-05-16T13:15:16.859Z"
   },
   {
    "duration": 24,
    "start_time": "2022-05-16T13:15:16.870Z"
   },
   {
    "duration": 31,
    "start_time": "2022-05-16T13:15:16.896Z"
   },
   {
    "duration": 14,
    "start_time": "2022-05-16T13:15:16.929Z"
   },
   {
    "duration": 9,
    "start_time": "2022-05-16T13:15:16.946Z"
   },
   {
    "duration": 7,
    "start_time": "2022-05-16T13:15:16.957Z"
   },
   {
    "duration": 12,
    "start_time": "2022-05-16T13:15:16.967Z"
   }
  ],
  "kernelspec": {
   "display_name": "Python 3 (ipykernel)",
   "language": "python",
   "name": "python3"
  },
  "language_info": {
   "codemirror_mode": {
    "name": "ipython",
    "version": 3
   },
   "file_extension": ".py",
   "mimetype": "text/x-python",
   "name": "python",
   "nbconvert_exporter": "python",
   "pygments_lexer": "ipython3",
   "version": "3.9.12"
  },
  "toc": {
   "base_numbering": 1,
   "nav_menu": {},
   "number_sections": true,
   "sideBar": true,
   "skip_h1_title": true,
   "title_cell": "Table of Contents",
   "title_sidebar": "Contents",
   "toc_cell": false,
   "toc_position": {
    "height": "calc(100% - 180px)",
    "left": "10px",
    "top": "150px",
    "width": "265.717px"
   },
   "toc_section_display": true,
   "toc_window_display": true
  }
 },
 "nbformat": 4,
 "nbformat_minor": 2
}

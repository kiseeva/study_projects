{
 "cells": [
  {
   "cell_type": "markdown",
   "metadata": {},
   "source": [
    "# Защита персональных данных клиентов"
   ]
  },
  {
   "cell_type": "markdown",
   "metadata": {},
   "source": [
    "`Цель:` защитить данные клиентов страховой компании «N». \n",
    "\n",
    "`Задача:` разработать такой метод преобразования данных, чтобы по ним было сложно восстановить персональную информацию. \n",
    "\n",
    "Нужно защитить данные, чтобы при преобразовании качество моделей машинного обучения не ухудшилось. Подбирать наилучшую модель не требуется.\n",
    "\n",
    "\n",
    "`Описание данных:`\n",
    "    - Признаки: пол, возраст и зарплата застрахованного, количество членов его семьи.\n",
    "    - Целевой признак: количество страховых выплат клиенту за последние 5 лет.\n",
    "      \n",
    "    \n",
    "`План:`\n",
    "- Загрузка и изучние данных\n",
    "- Исследование вопросов:\n",
    "      + Изменится ли качество линейной регрессии при умножении признаков  на обратимую матрицу?\n",
    "      + Как связаны параметры линейной регрессии в исходной задаче и в преобразованной?\n",
    "- Разработка алгоритма преобразования данных для решения задачи      \n",
    "- Реализация алгоритма, проверка качества регрессии\n",
    "    \n",
    "`Метрика:` R2    \n",
    "    "
   ]
  },
  {
   "cell_type": "markdown",
   "metadata": {},
   "source": [
    "### Подключение библиотек"
   ]
  },
  {
   "cell_type": "code",
   "execution_count": 4,
   "metadata": {},
   "outputs": [],
   "source": [
    "import pandas as pd\n",
    "import numpy as np\n",
    "\n",
    "from sklearn.model_selection import train_test_split\n",
    "from sklearn.linear_model import LinearRegression\n",
    "from numpy import linalg as LA\n",
    "from sklearn.metrics import r2_score\n",
    "from numpy.linalg import inv"
   ]
  },
  {
   "cell_type": "markdown",
   "metadata": {},
   "source": [
    "## Загрузка данных"
   ]
  },
  {
   "cell_type": "code",
   "execution_count": 5,
   "metadata": {},
   "outputs": [],
   "source": [
    "insurance_data = pd.read_csv('/datasets/insurance.csv')"
   ]
  },
  {
   "cell_type": "code",
   "execution_count": 6,
   "metadata": {},
   "outputs": [
    {
     "data": {
      "text/html": [
       "<div>\n",
       "<style scoped>\n",
       "    .dataframe tbody tr th:only-of-type {\n",
       "        vertical-align: middle;\n",
       "    }\n",
       "\n",
       "    .dataframe tbody tr th {\n",
       "        vertical-align: top;\n",
       "    }\n",
       "\n",
       "    .dataframe thead th {\n",
       "        text-align: right;\n",
       "    }\n",
       "</style>\n",
       "<table border=\"1\" class=\"dataframe\">\n",
       "  <thead>\n",
       "    <tr style=\"text-align: right;\">\n",
       "      <th></th>\n",
       "      <th>Пол</th>\n",
       "      <th>Возраст</th>\n",
       "      <th>Зарплата</th>\n",
       "      <th>Члены семьи</th>\n",
       "      <th>Страховые выплаты</th>\n",
       "    </tr>\n",
       "  </thead>\n",
       "  <tbody>\n",
       "    <tr>\n",
       "      <th>0</th>\n",
       "      <td>1</td>\n",
       "      <td>41.0</td>\n",
       "      <td>49600.0</td>\n",
       "      <td>1</td>\n",
       "      <td>0</td>\n",
       "    </tr>\n",
       "    <tr>\n",
       "      <th>1</th>\n",
       "      <td>0</td>\n",
       "      <td>46.0</td>\n",
       "      <td>38000.0</td>\n",
       "      <td>1</td>\n",
       "      <td>1</td>\n",
       "    </tr>\n",
       "    <tr>\n",
       "      <th>2</th>\n",
       "      <td>0</td>\n",
       "      <td>29.0</td>\n",
       "      <td>21000.0</td>\n",
       "      <td>0</td>\n",
       "      <td>0</td>\n",
       "    </tr>\n",
       "    <tr>\n",
       "      <th>3</th>\n",
       "      <td>0</td>\n",
       "      <td>21.0</td>\n",
       "      <td>41700.0</td>\n",
       "      <td>2</td>\n",
       "      <td>0</td>\n",
       "    </tr>\n",
       "    <tr>\n",
       "      <th>4</th>\n",
       "      <td>1</td>\n",
       "      <td>28.0</td>\n",
       "      <td>26100.0</td>\n",
       "      <td>0</td>\n",
       "      <td>0</td>\n",
       "    </tr>\n",
       "  </tbody>\n",
       "</table>\n",
       "</div>"
      ],
      "text/plain": [
       "   Пол  Возраст  Зарплата  Члены семьи  Страховые выплаты\n",
       "0    1     41.0   49600.0            1                  0\n",
       "1    0     46.0   38000.0            1                  1\n",
       "2    0     29.0   21000.0            0                  0\n",
       "3    0     21.0   41700.0            2                  0\n",
       "4    1     28.0   26100.0            0                  0"
      ]
     },
     "execution_count": 6,
     "metadata": {},
     "output_type": "execute_result"
    }
   ],
   "source": [
    "insurance_data.head()"
   ]
  },
  {
   "cell_type": "code",
   "execution_count": 7,
   "metadata": {},
   "outputs": [
    {
     "data": {
      "text/html": [
       "<div>\n",
       "<style scoped>\n",
       "    .dataframe tbody tr th:only-of-type {\n",
       "        vertical-align: middle;\n",
       "    }\n",
       "\n",
       "    .dataframe tbody tr th {\n",
       "        vertical-align: top;\n",
       "    }\n",
       "\n",
       "    .dataframe thead th {\n",
       "        text-align: right;\n",
       "    }\n",
       "</style>\n",
       "<table border=\"1\" class=\"dataframe\">\n",
       "  <thead>\n",
       "    <tr style=\"text-align: right;\">\n",
       "      <th></th>\n",
       "      <th>Пол</th>\n",
       "      <th>Возраст</th>\n",
       "      <th>Зарплата</th>\n",
       "      <th>Члены семьи</th>\n",
       "      <th>Страховые выплаты</th>\n",
       "    </tr>\n",
       "  </thead>\n",
       "  <tbody>\n",
       "    <tr>\n",
       "      <th>count</th>\n",
       "      <td>5000.000000</td>\n",
       "      <td>5000.000000</td>\n",
       "      <td>5000.000000</td>\n",
       "      <td>5000.000000</td>\n",
       "      <td>5000.000000</td>\n",
       "    </tr>\n",
       "    <tr>\n",
       "      <th>mean</th>\n",
       "      <td>0.499000</td>\n",
       "      <td>30.952800</td>\n",
       "      <td>39916.360000</td>\n",
       "      <td>1.194200</td>\n",
       "      <td>0.148000</td>\n",
       "    </tr>\n",
       "    <tr>\n",
       "      <th>std</th>\n",
       "      <td>0.500049</td>\n",
       "      <td>8.440807</td>\n",
       "      <td>9900.083569</td>\n",
       "      <td>1.091387</td>\n",
       "      <td>0.463183</td>\n",
       "    </tr>\n",
       "    <tr>\n",
       "      <th>min</th>\n",
       "      <td>0.000000</td>\n",
       "      <td>18.000000</td>\n",
       "      <td>5300.000000</td>\n",
       "      <td>0.000000</td>\n",
       "      <td>0.000000</td>\n",
       "    </tr>\n",
       "    <tr>\n",
       "      <th>25%</th>\n",
       "      <td>0.000000</td>\n",
       "      <td>24.000000</td>\n",
       "      <td>33300.000000</td>\n",
       "      <td>0.000000</td>\n",
       "      <td>0.000000</td>\n",
       "    </tr>\n",
       "    <tr>\n",
       "      <th>50%</th>\n",
       "      <td>0.000000</td>\n",
       "      <td>30.000000</td>\n",
       "      <td>40200.000000</td>\n",
       "      <td>1.000000</td>\n",
       "      <td>0.000000</td>\n",
       "    </tr>\n",
       "    <tr>\n",
       "      <th>75%</th>\n",
       "      <td>1.000000</td>\n",
       "      <td>37.000000</td>\n",
       "      <td>46600.000000</td>\n",
       "      <td>2.000000</td>\n",
       "      <td>0.000000</td>\n",
       "    </tr>\n",
       "    <tr>\n",
       "      <th>max</th>\n",
       "      <td>1.000000</td>\n",
       "      <td>65.000000</td>\n",
       "      <td>79000.000000</td>\n",
       "      <td>6.000000</td>\n",
       "      <td>5.000000</td>\n",
       "    </tr>\n",
       "  </tbody>\n",
       "</table>\n",
       "</div>"
      ],
      "text/plain": [
       "               Пол      Возраст      Зарплата  Члены семьи  Страховые выплаты\n",
       "count  5000.000000  5000.000000   5000.000000  5000.000000        5000.000000\n",
       "mean      0.499000    30.952800  39916.360000     1.194200           0.148000\n",
       "std       0.500049     8.440807   9900.083569     1.091387           0.463183\n",
       "min       0.000000    18.000000   5300.000000     0.000000           0.000000\n",
       "25%       0.000000    24.000000  33300.000000     0.000000           0.000000\n",
       "50%       0.000000    30.000000  40200.000000     1.000000           0.000000\n",
       "75%       1.000000    37.000000  46600.000000     2.000000           0.000000\n",
       "max       1.000000    65.000000  79000.000000     6.000000           5.000000"
      ]
     },
     "execution_count": 7,
     "metadata": {},
     "output_type": "execute_result"
    }
   ],
   "source": [
    "insurance_data.describe()"
   ]
  },
  {
   "cell_type": "code",
   "execution_count": 8,
   "metadata": {},
   "outputs": [
    {
     "data": {
      "text/html": [
       "<div>\n",
       "<style scoped>\n",
       "    .dataframe tbody tr th:only-of-type {\n",
       "        vertical-align: middle;\n",
       "    }\n",
       "\n",
       "    .dataframe tbody tr th {\n",
       "        vertical-align: top;\n",
       "    }\n",
       "\n",
       "    .dataframe thead th {\n",
       "        text-align: right;\n",
       "    }\n",
       "</style>\n",
       "<table border=\"1\" class=\"dataframe\">\n",
       "  <thead>\n",
       "    <tr style=\"text-align: right;\">\n",
       "      <th></th>\n",
       "      <th>Пол</th>\n",
       "      <th>Возраст</th>\n",
       "      <th>Зарплата</th>\n",
       "      <th>Члены семьи</th>\n",
       "      <th>Страховые выплаты</th>\n",
       "    </tr>\n",
       "  </thead>\n",
       "  <tbody>\n",
       "    <tr>\n",
       "      <th>4995</th>\n",
       "      <td>0</td>\n",
       "      <td>28.0</td>\n",
       "      <td>35700.0</td>\n",
       "      <td>2</td>\n",
       "      <td>0</td>\n",
       "    </tr>\n",
       "    <tr>\n",
       "      <th>4996</th>\n",
       "      <td>0</td>\n",
       "      <td>34.0</td>\n",
       "      <td>52400.0</td>\n",
       "      <td>1</td>\n",
       "      <td>0</td>\n",
       "    </tr>\n",
       "    <tr>\n",
       "      <th>4997</th>\n",
       "      <td>0</td>\n",
       "      <td>20.0</td>\n",
       "      <td>33900.0</td>\n",
       "      <td>2</td>\n",
       "      <td>0</td>\n",
       "    </tr>\n",
       "    <tr>\n",
       "      <th>4998</th>\n",
       "      <td>1</td>\n",
       "      <td>22.0</td>\n",
       "      <td>32700.0</td>\n",
       "      <td>3</td>\n",
       "      <td>0</td>\n",
       "    </tr>\n",
       "    <tr>\n",
       "      <th>4999</th>\n",
       "      <td>1</td>\n",
       "      <td>28.0</td>\n",
       "      <td>40600.0</td>\n",
       "      <td>1</td>\n",
       "      <td>0</td>\n",
       "    </tr>\n",
       "  </tbody>\n",
       "</table>\n",
       "</div>"
      ],
      "text/plain": [
       "      Пол  Возраст  Зарплата  Члены семьи  Страховые выплаты\n",
       "4995    0     28.0   35700.0            2                  0\n",
       "4996    0     34.0   52400.0            1                  0\n",
       "4997    0     20.0   33900.0            2                  0\n",
       "4998    1     22.0   32700.0            3                  0\n",
       "4999    1     28.0   40600.0            1                  0"
      ]
     },
     "execution_count": 8,
     "metadata": {},
     "output_type": "execute_result"
    }
   ],
   "source": [
    "insurance_data.tail()"
   ]
  },
  {
   "cell_type": "code",
   "execution_count": 9,
   "metadata": {},
   "outputs": [
    {
     "name": "stdout",
     "output_type": "stream",
     "text": [
      "<class 'pandas.core.frame.DataFrame'>\n",
      "RangeIndex: 5000 entries, 0 to 4999\n",
      "Data columns (total 5 columns):\n",
      " #   Column             Non-Null Count  Dtype  \n",
      "---  ------             --------------  -----  \n",
      " 0   Пол                5000 non-null   int64  \n",
      " 1   Возраст            5000 non-null   float64\n",
      " 2   Зарплата           5000 non-null   float64\n",
      " 3   Члены семьи        5000 non-null   int64  \n",
      " 4   Страховые выплаты  5000 non-null   int64  \n",
      "dtypes: float64(2), int64(3)\n",
      "memory usage: 195.4 KB\n"
     ]
    }
   ],
   "source": [
    "insurance_data.info()"
   ]
  },
  {
   "cell_type": "markdown",
   "metadata": {},
   "source": [
    "Кол-во значений по всем признакам одинаково, значит пропусков нет.\n",
    "\n",
    "Проверим данные на дубликаты."
   ]
  },
  {
   "cell_type": "code",
   "execution_count": 10,
   "metadata": {},
   "outputs": [
    {
     "data": {
      "text/plain": [
       "153"
      ]
     },
     "execution_count": 10,
     "metadata": {},
     "output_type": "execute_result"
    }
   ],
   "source": [
    "insurance_data.duplicated().sum()"
   ]
  },
  {
   "cell_type": "code",
   "execution_count": 12,
   "metadata": {},
   "outputs": [
    {
     "data": {
      "text/plain": [
       "0"
      ]
     },
     "execution_count": 12,
     "metadata": {},
     "output_type": "execute_result"
    }
   ],
   "source": [
    "insurance_data = insurance_data.drop_duplicates()\n",
    "insurance_data.duplicated().sum()"
   ]
  },
  {
   "cell_type": "code",
   "execution_count": 13,
   "metadata": {},
   "outputs": [
    {
     "data": {
      "text/html": [
       "<div>\n",
       "<style scoped>\n",
       "    .dataframe tbody tr th:only-of-type {\n",
       "        vertical-align: middle;\n",
       "    }\n",
       "\n",
       "    .dataframe tbody tr th {\n",
       "        vertical-align: top;\n",
       "    }\n",
       "\n",
       "    .dataframe thead th {\n",
       "        text-align: right;\n",
       "    }\n",
       "</style>\n",
       "<table border=\"1\" class=\"dataframe\">\n",
       "  <thead>\n",
       "    <tr style=\"text-align: right;\">\n",
       "      <th></th>\n",
       "      <th>Пол</th>\n",
       "      <th>Возраст</th>\n",
       "      <th>Зарплата</th>\n",
       "      <th>Члены семьи</th>\n",
       "      <th>Страховые выплаты</th>\n",
       "    </tr>\n",
       "  </thead>\n",
       "  <tbody>\n",
       "    <tr>\n",
       "      <th>Пол</th>\n",
       "      <td>1.000000</td>\n",
       "      <td>0.001953</td>\n",
       "      <td>0.015456</td>\n",
       "      <td>-0.007315</td>\n",
       "      <td>0.011565</td>\n",
       "    </tr>\n",
       "    <tr>\n",
       "      <th>Возраст</th>\n",
       "      <td>0.001953</td>\n",
       "      <td>1.000000</td>\n",
       "      <td>-0.017386</td>\n",
       "      <td>-0.009064</td>\n",
       "      <td>0.654964</td>\n",
       "    </tr>\n",
       "    <tr>\n",
       "      <th>Зарплата</th>\n",
       "      <td>0.015456</td>\n",
       "      <td>-0.017386</td>\n",
       "      <td>1.000000</td>\n",
       "      <td>-0.031687</td>\n",
       "      <td>-0.013123</td>\n",
       "    </tr>\n",
       "    <tr>\n",
       "      <th>Члены семьи</th>\n",
       "      <td>-0.007315</td>\n",
       "      <td>-0.009064</td>\n",
       "      <td>-0.031687</td>\n",
       "      <td>1.000000</td>\n",
       "      <td>-0.039303</td>\n",
       "    </tr>\n",
       "    <tr>\n",
       "      <th>Страховые выплаты</th>\n",
       "      <td>0.011565</td>\n",
       "      <td>0.654964</td>\n",
       "      <td>-0.013123</td>\n",
       "      <td>-0.039303</td>\n",
       "      <td>1.000000</td>\n",
       "    </tr>\n",
       "  </tbody>\n",
       "</table>\n",
       "</div>"
      ],
      "text/plain": [
       "                        Пол   Возраст  Зарплата  Члены семьи  \\\n",
       "Пол                1.000000  0.001953  0.015456    -0.007315   \n",
       "Возраст            0.001953  1.000000 -0.017386    -0.009064   \n",
       "Зарплата           0.015456 -0.017386  1.000000    -0.031687   \n",
       "Члены семьи       -0.007315 -0.009064 -0.031687     1.000000   \n",
       "Страховые выплаты  0.011565  0.654964 -0.013123    -0.039303   \n",
       "\n",
       "                   Страховые выплаты  \n",
       "Пол                         0.011565  \n",
       "Возраст                     0.654964  \n",
       "Зарплата                   -0.013123  \n",
       "Члены семьи                -0.039303  \n",
       "Страховые выплаты           1.000000  "
      ]
     },
     "execution_count": 13,
     "metadata": {},
     "output_type": "execute_result"
    }
   ],
   "source": [
    "insurance_data.corr()"
   ]
  },
  {
   "cell_type": "markdown",
   "metadata": {},
   "source": [
    "Заметная корреляция только между параметрами Возраст/Страховые выплаты, но не слишком выокая.\n",
    "\n",
    "Разделим данные на тренировочную и тестовую выборки."
   ]
  },
  {
   "cell_type": "code",
   "execution_count": 16,
   "metadata": {},
   "outputs": [],
   "source": [
    "features = insurance_data.drop('Страховые выплаты',axis=1)\n",
    "target = insurance_data['Страховые выплаты']"
   ]
  },
  {
   "cell_type": "code",
   "execution_count": 17,
   "metadata": {},
   "outputs": [
    {
     "data": {
      "text/html": [
       "<div>\n",
       "<style scoped>\n",
       "    .dataframe tbody tr th:only-of-type {\n",
       "        vertical-align: middle;\n",
       "    }\n",
       "\n",
       "    .dataframe tbody tr th {\n",
       "        vertical-align: top;\n",
       "    }\n",
       "\n",
       "    .dataframe thead th {\n",
       "        text-align: right;\n",
       "    }\n",
       "</style>\n",
       "<table border=\"1\" class=\"dataframe\">\n",
       "  <thead>\n",
       "    <tr style=\"text-align: right;\">\n",
       "      <th></th>\n",
       "      <th>Пол</th>\n",
       "      <th>Возраст</th>\n",
       "      <th>Зарплата</th>\n",
       "      <th>Члены семьи</th>\n",
       "    </tr>\n",
       "  </thead>\n",
       "  <tbody>\n",
       "    <tr>\n",
       "      <th>0</th>\n",
       "      <td>1</td>\n",
       "      <td>41.0</td>\n",
       "      <td>49600.0</td>\n",
       "      <td>1</td>\n",
       "    </tr>\n",
       "    <tr>\n",
       "      <th>1</th>\n",
       "      <td>0</td>\n",
       "      <td>46.0</td>\n",
       "      <td>38000.0</td>\n",
       "      <td>1</td>\n",
       "    </tr>\n",
       "    <tr>\n",
       "      <th>2</th>\n",
       "      <td>0</td>\n",
       "      <td>29.0</td>\n",
       "      <td>21000.0</td>\n",
       "      <td>0</td>\n",
       "    </tr>\n",
       "    <tr>\n",
       "      <th>3</th>\n",
       "      <td>0</td>\n",
       "      <td>21.0</td>\n",
       "      <td>41700.0</td>\n",
       "      <td>2</td>\n",
       "    </tr>\n",
       "    <tr>\n",
       "      <th>4</th>\n",
       "      <td>1</td>\n",
       "      <td>28.0</td>\n",
       "      <td>26100.0</td>\n",
       "      <td>0</td>\n",
       "    </tr>\n",
       "  </tbody>\n",
       "</table>\n",
       "</div>"
      ],
      "text/plain": [
       "   Пол  Возраст  Зарплата  Члены семьи\n",
       "0    1     41.0   49600.0            1\n",
       "1    0     46.0   38000.0            1\n",
       "2    0     29.0   21000.0            0\n",
       "3    0     21.0   41700.0            2\n",
       "4    1     28.0   26100.0            0"
      ]
     },
     "execution_count": 17,
     "metadata": {},
     "output_type": "execute_result"
    }
   ],
   "source": [
    "features.head()"
   ]
  },
  {
   "cell_type": "code",
   "execution_count": 18,
   "metadata": {},
   "outputs": [
    {
     "data": {
      "text/plain": [
       "0    0\n",
       "1    1\n",
       "2    0\n",
       "3    0\n",
       "4    0\n",
       "Name: Страховые выплаты, dtype: int64"
      ]
     },
     "execution_count": 18,
     "metadata": {},
     "output_type": "execute_result"
    }
   ],
   "source": [
    "target.head()"
   ]
  },
  {
   "cell_type": "code",
   "execution_count": 21,
   "metadata": {},
   "outputs": [
    {
     "data": {
      "text/plain": [
       "(4847, 4)"
      ]
     },
     "execution_count": 21,
     "metadata": {},
     "output_type": "execute_result"
    }
   ],
   "source": [
    "features.shape\n",
    "#target.shape"
   ]
  },
  {
   "cell_type": "markdown",
   "metadata": {},
   "source": [
    "## Умножение матриц"
   ]
  },
  {
   "cell_type": "markdown",
   "metadata": {},
   "source": [
    "Обозначения:\n",
    "\n",
    "- $X$ — матрица признаков (нулевой столбец состоит из единиц)\n",
    "\n",
    "- $y$ — вектор целевого признака\n",
    "\n",
    "- $P$ — матрица, на которую умножаются признаки\n",
    "\n",
    "- $w$ — вектор весов линейной регрессии (нулевой элемент равен сдвигу)"
   ]
  },
  {
   "cell_type": "markdown",
   "metadata": {},
   "source": [
    "Предсказания:\n",
    "\n",
    "$$\n",
    "a = Xw\n",
    "$$\n",
    "\n",
    "Задача обучения:\n",
    "\n",
    "$$\n",
    "w = \\arg\\min_w MSE(Xw, y)\n",
    "$$\n",
    "\n",
    "Формула обучения:\n",
    "\n",
    "$$\n",
    "w = (X^T X)^{-1} X^T y\n",
    "$$"
   ]
  },
  {
   "cell_type": "markdown",
   "metadata": {},
   "source": [
    "###### Вопрос: Признаки умножают на обратимую матрицу. Изменится ли качество линейной регрессии?\n",
    "\n",
    "**Ответ:** Не изменится.\n",
    "\n",
    "**Обоснование:** \n",
    "\n",
    "Понадобятся формулы:\n",
    "\n",
    "\n",
    "$$\n",
    "1. w = (X^T X)^{-1} X^T y\n",
    "$$\n",
    "\n",
    "$$\n",
    "2. (A*B)^T = B^T*A^T\n",
    "$$\n",
    "\n",
    "$$\n",
    "3. (A*B)^{-1} = B^{-1}*A^{-1}\n",
    "$$\n",
    "\n",
    "$$\n",
    "4. A*A^{-1}=E\n",
    "$$\n",
    "\n",
    "$$\n",
    "5.A*E=A\n",
    "$$"
   ]
  },
  {
   "cell_type": "markdown",
   "metadata": {},
   "source": [
    "Пусть C - обратимая матрица.\n",
    "\n",
    "Необходимо выяснить изменится ли качество линейной регрессии.\n",
    "Подставим в формулу (1) \n",
    "$$\n",
    "X = XC\n",
    "$$\n",
    "Получим:\n",
    "$$\n",
    "w= ((XC)^T XC)^{-1} (XC)^T y\n",
    "$$\n",
    "Преобразуем выражение используя св-ва матриц:\n",
    "\n",
    "1. По формуле 3:\n",
    "\n",
    "$$\n",
    "w= (XC)^{-1}(XC)^T)^{-1}(XC)^T y\n",
    "$$\n",
    "\n",
    "\n",
    "2. По формуле 4  $$((XC)^T)^{-1}(XC)^T=E$$  \n",
    "\n",
    "3. По формуле 5\n",
    "$$\n",
    "w = C^{-1}X^{-1}y\n",
    "$$\n",
    "\n",
    "4. Умножим левую и правую часть на C:\n",
    "$$\n",
    "Cw=X^{-1}y\n",
    "$$\n",
    "\n",
    "5. Веремся к изначальной формуле и преобразуем ее по тем же св-вам:\n",
    "$$\n",
    "w = (X^T X)^{-1} X^T y = X^{-1}y\n",
    "$$\n",
    "\n",
    "Отсюда видим, что:\n",
    "\n",
    "$$\n",
    "w -> Cw\n",
    "$$\n",
    "\n",
    "\n",
    "Сравним предсказания до и после преобразования X = XC, введя новый вектор w':\n",
    "\n",
    "$$\n",
    "a = a'\n",
    "$$\n",
    "$$\n",
    "Xw=X'w'\n",
    "$$\n",
    "$$\n",
    "XX^{-1}y=XC C^{-1}X^{-1}y\n",
    "$$\n",
    "$$\n",
    "y=y\n",
    "$$"
   ]
  },
  {
   "cell_type": "markdown",
   "metadata": {},
   "source": [
    "## Алгоритм преобразования"
   ]
  },
  {
   "cell_type": "markdown",
   "metadata": {},
   "source": [
    "**Алгоритм**\n",
    "\n",
    "1. Сгенерируем случайную квадратную матрицу С\n",
    "2. Проверим ее на обратимость (определитель не равен нулю)\n",
    "3. Умножим матрицу признаком на матрицу С\n",
    "\n",
    "Чтобы матрицы можно было умножать размерность С должна быть равно 4х4.\n",
    "\n"
   ]
  },
  {
   "cell_type": "markdown",
   "metadata": {},
   "source": [
    "**Обоснование**\n",
    "\n",
    "Умножение на обратимую матрицу не влияет на качество линейной регрессии т.к. было показано в пункте 2.\n",
    "\n",
    "$$\n",
    "Xw=X'w'\n",
    "$$"
   ]
  },
  {
   "cell_type": "markdown",
   "metadata": {},
   "source": [
    "## Проверка алгоритма"
   ]
  },
  {
   "cell_type": "markdown",
   "metadata": {},
   "source": [
    "###### Реализация"
   ]
  },
  {
   "cell_type": "code",
   "execution_count": 25,
   "metadata": {},
   "outputs": [],
   "source": [
    "def encryption(features):\n",
    "    features[0] = 1\n",
    "    n = features.shape[1]\n",
    "    #print(n)\n",
    "    C = np.random.normal(0,1,(n, n))\n",
    "    #print(C)\n",
    "    print(LA.det(C) != 0)\n",
    "    C_inv = inv(C)\n",
    "    features_encription = features.values.dot(C)\n",
    "    return C, C_inv,features_encription"
   ]
  },
  {
   "cell_type": "code",
   "execution_count": 27,
   "metadata": {},
   "outputs": [
    {
     "name": "stdout",
     "output_type": "stream",
     "text": [
      "True\n"
     ]
    }
   ],
   "source": [
    "C, C_inv,features_encription = encryption(features)"
   ]
  },
  {
   "cell_type": "code",
   "execution_count": 28,
   "metadata": {},
   "outputs": [],
   "source": [
    "features_train, features_test, target_train, target_test = train_test_split(features_encription,target,test_size=0.25,random_state=12345)"
   ]
  },
  {
   "cell_type": "code",
   "execution_count": 30,
   "metadata": {},
   "outputs": [
    {
     "name": "stdout",
     "output_type": "stream",
     "text": [
      "0.4352599711889201\n"
     ]
    }
   ],
   "source": [
    "# Обучим модель на зашифрованных данных и оценим качество модели\n",
    "\n",
    "model = LinearRegression().fit(features_train, target_train)\n",
    "predictions = model.predict(features_test)\n",
    "print(r2_score(target_test, predictions))"
   ]
  },
  {
   "cell_type": "code",
   "execution_count": 31,
   "metadata": {},
   "outputs": [
    {
     "name": "stdout",
     "output_type": "stream",
     "text": [
      "0.4249455028666801\n"
     ]
    }
   ],
   "source": [
    "# Проверим что качество модели без шифрования не отличается \n",
    "\n",
    "model = LinearRegression().fit(features, target)\n",
    "predictions = model.predict(features)\n",
    "print(r2_score(target, predictions))"
   ]
  },
  {
   "cell_type": "markdown",
   "metadata": {},
   "source": [
    "###### Вывод: качество модели без шифрования не отличается от модели построенной на зашифрованных данных\n"
   ]
  }
 ],
 "metadata": {
  "ExecuteTimeLog": [
   {
    "duration": 412,
    "start_time": "2022-06-22T09:29:53.344Z"
   },
   {
    "duration": 3,
    "start_time": "2022-06-22T09:31:08.486Z"
   },
   {
    "duration": 73,
    "start_time": "2022-06-22T09:31:55.553Z"
   },
   {
    "duration": 87,
    "start_time": "2022-06-22T09:32:02.950Z"
   },
   {
    "duration": 20,
    "start_time": "2022-06-22T09:32:07.989Z"
   },
   {
    "duration": 9,
    "start_time": "2022-06-22T09:32:14.118Z"
   },
   {
    "duration": 24,
    "start_time": "2022-06-22T09:44:50.129Z"
   },
   {
    "duration": 46,
    "start_time": "2022-06-23T12:40:13.073Z"
   },
   {
    "duration": 351,
    "start_time": "2022-06-23T12:40:21.480Z"
   },
   {
    "duration": 77,
    "start_time": "2022-06-23T12:40:22.614Z"
   },
   {
    "duration": 16,
    "start_time": "2022-06-23T12:40:23.063Z"
   },
   {
    "duration": 27,
    "start_time": "2022-06-23T12:40:24.319Z"
   },
   {
    "duration": 35,
    "start_time": "2022-06-23T12:40:24.871Z"
   },
   {
    "duration": 4,
    "start_time": "2022-06-23T12:40:37.719Z"
   },
   {
    "duration": 13,
    "start_time": "2022-06-23T12:41:08.086Z"
   },
   {
    "duration": 2,
    "start_time": "2022-06-23T13:25:00.327Z"
   },
   {
    "duration": 3,
    "start_time": "2022-06-23T13:25:05.174Z"
   },
   {
    "duration": 5,
    "start_time": "2022-06-23T13:25:08.647Z"
   },
   {
    "duration": 6,
    "start_time": "2022-06-23T13:25:16.255Z"
   },
   {
    "duration": 5,
    "start_time": "2022-06-23T13:25:23.854Z"
   },
   {
    "duration": 5,
    "start_time": "2022-06-23T13:27:13.005Z"
   },
   {
    "duration": 3,
    "start_time": "2022-06-23T13:28:33.189Z"
   },
   {
    "duration": 71,
    "start_time": "2022-06-23T13:28:55.749Z"
   },
   {
    "duration": 740,
    "start_time": "2022-06-23T13:29:09.940Z"
   },
   {
    "duration": 12703,
    "start_time": "2022-06-23T13:29:11.421Z"
   },
   {
    "duration": 733,
    "start_time": "2022-06-23T13:29:44.910Z"
   },
   {
    "duration": 17390,
    "start_time": "2022-06-23T13:29:45.645Z"
   },
   {
    "duration": 6,
    "start_time": "2022-06-23T13:30:28.468Z"
   },
   {
    "duration": 4,
    "start_time": "2022-06-23T13:30:29.180Z"
   },
   {
    "duration": 693,
    "start_time": "2022-06-23T13:31:10.563Z"
   },
   {
    "duration": 11174,
    "start_time": "2022-06-23T13:31:11.868Z"
   },
   {
    "duration": 849,
    "start_time": "2022-06-23T13:35:32.290Z"
   },
   {
    "duration": 16749,
    "start_time": "2022-06-23T13:35:35.185Z"
   },
   {
    "duration": 706,
    "start_time": "2022-06-23T13:41:34.702Z"
   },
   {
    "duration": 5427,
    "start_time": "2022-06-23T13:41:36.799Z"
   },
   {
    "duration": 701,
    "start_time": "2022-06-23T13:59:38.534Z"
   },
   {
    "duration": 4563,
    "start_time": "2022-06-23T13:59:40.661Z"
   },
   {
    "duration": 754,
    "start_time": "2022-06-23T14:03:51.835Z"
   },
   {
    "duration": 51,
    "start_time": "2022-06-23T14:04:42.627Z"
   },
   {
    "duration": 16,
    "start_time": "2022-06-23T14:04:50.690Z"
   },
   {
    "duration": 3,
    "start_time": "2022-06-23T14:05:05.443Z"
   },
   {
    "duration": 9,
    "start_time": "2022-06-23T14:05:10.164Z"
   },
   {
    "duration": 12,
    "start_time": "2022-06-23T14:05:59.946Z"
   },
   {
    "duration": 181,
    "start_time": "2022-06-23T14:06:21.145Z"
   },
   {
    "duration": 214,
    "start_time": "2022-06-23T14:08:03.912Z"
   },
   {
    "duration": 44,
    "start_time": "2022-06-23T14:11:48.583Z"
   },
   {
    "duration": 4,
    "start_time": "2022-06-23T14:13:31.034Z"
   },
   {
    "duration": 32,
    "start_time": "2022-06-23T14:13:42.738Z"
   },
   {
    "duration": 11,
    "start_time": "2022-06-23T14:13:43.238Z"
   },
   {
    "duration": 28,
    "start_time": "2022-06-23T14:13:43.935Z"
   },
   {
    "duration": 5,
    "start_time": "2022-06-23T14:13:45.741Z"
   },
   {
    "duration": 11,
    "start_time": "2022-06-23T14:13:46.854Z"
   },
   {
    "duration": 700,
    "start_time": "2022-06-23T14:13:53.158Z"
   },
   {
    "duration": 11249,
    "start_time": "2022-06-23T14:13:54.977Z"
   },
   {
    "duration": 9,
    "start_time": "2022-06-23T14:14:09.598Z"
   },
   {
    "duration": 148,
    "start_time": "2022-06-23T14:14:10.477Z"
   },
   {
    "duration": 4,
    "start_time": "2022-06-23T14:14:11.773Z"
   },
   {
    "duration": 4,
    "start_time": "2022-06-23T14:14:21.784Z"
   },
   {
    "duration": 12,
    "start_time": "2022-06-23T14:14:22.493Z"
   },
   {
    "duration": 4,
    "start_time": "2022-06-23T14:14:28.637Z"
   },
   {
    "duration": 9,
    "start_time": "2022-06-23T14:15:19.070Z"
   },
   {
    "duration": 12,
    "start_time": "2022-06-23T14:16:10.390Z"
   },
   {
    "duration": 679,
    "start_time": "2022-06-23T14:16:17.782Z"
   },
   {
    "duration": 4,
    "start_time": "2022-06-23T14:16:21.525Z"
   },
   {
    "duration": 9,
    "start_time": "2022-06-23T14:16:23.021Z"
   },
   {
    "duration": 1150,
    "start_time": "2022-06-24T08:33:29.351Z"
   },
   {
    "duration": 381,
    "start_time": "2022-06-24T08:40:38.399Z"
   },
   {
    "duration": 4,
    "start_time": "2022-06-24T08:40:45.597Z"
   },
   {
    "duration": 111,
    "start_time": "2022-06-24T08:40:46.836Z"
   },
   {
    "duration": 13,
    "start_time": "2022-06-24T08:40:47.189Z"
   },
   {
    "duration": 28,
    "start_time": "2022-06-24T08:40:49.405Z"
   },
   {
    "duration": 4,
    "start_time": "2022-06-24T08:40:50.252Z"
   },
   {
    "duration": 18,
    "start_time": "2022-06-24T08:40:56.789Z"
   },
   {
    "duration": 152,
    "start_time": "2022-06-24T08:43:15.532Z"
   },
   {
    "duration": 3,
    "start_time": "2022-06-24T08:44:18.333Z"
   },
   {
    "duration": 5,
    "start_time": "2022-06-24T08:44:21.883Z"
   },
   {
    "duration": 9,
    "start_time": "2022-06-24T08:46:12.570Z"
   },
   {
    "duration": 4,
    "start_time": "2022-06-24T08:46:17.469Z"
   },
   {
    "duration": 5,
    "start_time": "2022-06-24T09:04:20.186Z"
   },
   {
    "duration": 90,
    "start_time": "2022-06-24T09:04:47.786Z"
   },
   {
    "duration": 4,
    "start_time": "2022-06-24T09:05:21.929Z"
   },
   {
    "duration": 4,
    "start_time": "2022-06-24T09:05:25.512Z"
   },
   {
    "duration": 70,
    "start_time": "2022-06-24T09:05:26.730Z"
   },
   {
    "duration": 4,
    "start_time": "2022-06-24T09:05:47.145Z"
   },
   {
    "duration": 84,
    "start_time": "2022-06-24T09:05:48.842Z"
   },
   {
    "duration": 6,
    "start_time": "2022-06-24T09:06:04.480Z"
   },
   {
    "duration": 14,
    "start_time": "2022-06-24T09:06:05.145Z"
   },
   {
    "duration": 4,
    "start_time": "2022-06-24T09:07:02.084Z"
   },
   {
    "duration": 7,
    "start_time": "2022-06-24T09:07:03.033Z"
   },
   {
    "duration": 3,
    "start_time": "2022-06-24T09:07:38.712Z"
   },
   {
    "duration": 8,
    "start_time": "2022-06-24T09:07:39.993Z"
   },
   {
    "duration": 5,
    "start_time": "2022-06-24T09:08:44.475Z"
   },
   {
    "duration": 5,
    "start_time": "2022-06-24T09:09:48.119Z"
   },
   {
    "duration": 7,
    "start_time": "2022-06-24T09:10:28.927Z"
   },
   {
    "duration": 6,
    "start_time": "2022-06-24T09:11:49.279Z"
   },
   {
    "duration": 77,
    "start_time": "2022-06-24T09:12:16.887Z"
   },
   {
    "duration": 339,
    "start_time": "2022-06-24T12:25:17.083Z"
   },
   {
    "duration": 102,
    "start_time": "2022-06-24T12:34:40.100Z"
   },
   {
    "duration": 39,
    "start_time": "2022-06-24T12:34:58.451Z"
   },
   {
    "duration": 1445,
    "start_time": "2022-06-24T12:35:02.894Z"
   },
   {
    "duration": 113,
    "start_time": "2022-06-24T12:35:04.341Z"
   },
   {
    "duration": 14,
    "start_time": "2022-06-24T12:35:04.456Z"
   },
   {
    "duration": 21,
    "start_time": "2022-06-24T12:35:05.083Z"
   },
   {
    "duration": 9,
    "start_time": "2022-06-24T12:35:07.098Z"
   },
   {
    "duration": 11,
    "start_time": "2022-06-24T12:35:19.595Z"
   },
   {
    "duration": 7,
    "start_time": "2022-06-24T12:35:50.603Z"
   },
   {
    "duration": 7,
    "start_time": "2022-06-24T12:36:38.450Z"
   },
   {
    "duration": 8,
    "start_time": "2022-06-24T12:36:44.747Z"
   },
   {
    "duration": 9,
    "start_time": "2022-06-24T12:37:00.971Z"
   },
   {
    "duration": 116,
    "start_time": "2022-06-24T12:38:24.906Z"
   },
   {
    "duration": 58,
    "start_time": "2022-06-24T12:38:40.546Z"
   },
   {
    "duration": 4,
    "start_time": "2022-06-24T12:38:46.530Z"
   },
   {
    "duration": 9,
    "start_time": "2022-06-24T12:38:47.146Z"
   },
   {
    "duration": 5,
    "start_time": "2022-06-24T12:38:57.727Z"
   },
   {
    "duration": 9,
    "start_time": "2022-06-24T12:39:26.546Z"
   },
   {
    "duration": 4,
    "start_time": "2022-06-24T12:39:31.433Z"
   },
   {
    "duration": 4,
    "start_time": "2022-06-24T12:39:40.874Z"
   },
   {
    "duration": 95,
    "start_time": "2022-06-24T12:41:11.389Z"
   }
  ],
  "kernelspec": {
   "display_name": "Python 3 (ipykernel)",
   "language": "python",
   "name": "python3"
  },
  "language_info": {
   "codemirror_mode": {
    "name": "ipython",
    "version": 3
   },
   "file_extension": ".py",
   "mimetype": "text/x-python",
   "name": "python",
   "nbconvert_exporter": "python",
   "pygments_lexer": "ipython3",
   "version": "3.9.12"
  },
  "toc": {
   "base_numbering": 1,
   "nav_menu": {},
   "number_sections": true,
   "sideBar": true,
   "skip_h1_title": true,
   "title_cell": "Содержание",
   "title_sidebar": "Contents",
   "toc_cell": true,
   "toc_position": {
    "height": "calc(100% - 180px)",
    "left": "10px",
    "top": "150px",
    "width": "290.333px"
   },
   "toc_section_display": true,
   "toc_window_display": true
  }
 },
 "nbformat": 4,
 "nbformat_minor": 2
}

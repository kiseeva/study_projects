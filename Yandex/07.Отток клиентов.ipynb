{
 "cells": [
  {
   "cell_type": "markdown",
   "metadata": {},
   "source": [
    "# Отток клиентов"
   ]
  },
  {
   "cell_type": "markdown",
   "metadata": {},
   "source": [
    "Из «N-Банка» каждый месяц стало уходить некоторое кол-во клиентов. Банковские маркетологи посчитали: сохранять текущих клиентов дешевле, чем привлекать новых.\n",
    "\n",
    "`Цель:` Нужно спрогнозировать, уйдёт клиент из банка в ближайшее время или нет. Вам предоставлены исторические данные о поведении клиентов и расторжении договоров с банком. \n",
    "\n",
    "`Задача:`Построить модель прогнозирование ухода клиента.\n",
    "\n",
    "`Метрика:` *F1*\n",
    "\n",
    "`Дополнительна метрика:` *AUC-ROC*\n",
    " \n",
    "`Условие принятия:` метрика 0.59\n",
    "\n",
    "\n",
    "`Источник данных:` [https://www.kaggle.com/barelydedicated/bank-customer-churn-modeling](https://www.kaggle.com/barelydedicated/bank-customer-churn-modeling)\n",
    "\n",
    "\n",
    "\n",
    "`Описание данных`\n",
    "Данные находятся в файле /datasets/Churn.csv (англ. «отток клиентов»). Скачать датасет\n",
    "\n",
    "`Признаки:`\n",
    "- RowNumber — индекс строки в данных\n",
    "- CustomerId — уникальный идентификатор клиента\n",
    "- Surname — фамилия\n",
    "- CreditScore — кредитный рейтинг\n",
    "- Geography — страна проживания\n",
    "- Gender — пол\n",
    "- Age — возраст\n",
    "- Tenure — сколько лет человек является клиентом банка\n",
    "- Balance — баланс на счёте\n",
    "- NumOfProducts — количество продуктов банка, используемых клиентом\n",
    "- HasCrCard — наличие кредитной карты\n",
    "- IsActiveMember — активность клиента\n",
    "- EstimatedSalary — предполагаемая зарплата\n",
    "\n",
    "\n",
    "`Целевой признак:`\n",
    "- Exited — факт ухода клиента\n",
    "\n",
    "`План:`\n",
    "- Подготовка данных\n",
    "- Исследование данных (включая баланс классов)\n",
    "- Обучение моделей без учета дисбаланса\n",
    "- Обработка дисбаланса классов\n",
    "- Обучение моделей после обработки данных\n",
    "- Тестирование"
   ]
  },
  {
   "cell_type": "markdown",
   "metadata": {},
   "source": [
    "### Подключение библиотек"
   ]
  },
  {
   "cell_type": "code",
   "execution_count": 2,
   "metadata": {},
   "outputs": [],
   "source": [
    "import pandas as pd\n",
    "import numpy as np\n",
    "import matplotlib.pyplot as plt\n",
    "import seaborn as sns\n",
    "\n",
    "\n",
    "from scipy import stats\n",
    "from sklearn.model_selection import train_test_split\n",
    "from sklearn.preprocessing import StandardScaler\n",
    "from sklearn.model_selection import GridSearchCV\n",
    "from sklearn.dummy import DummyClassifier\n",
    "from sklearn.utils import shuffle\n",
    "from sklearn.metrics import roc_auc_score\n",
    "from sklearn.metrics import roc_curve\n",
    "from sklearn.preprocessing import PolynomialFeatures\n",
    "import warnings\n",
    "\n",
    "\n",
    "from sklearn.metrics import f1_score\n",
    "from sklearn.metrics import accuracy_score \n",
    "from sklearn.metrics import precision_score, recall_score\n",
    "\n",
    "\n",
    "\n",
    "from sklearn.tree import DecisionTreeClassifier \n",
    "from sklearn.ensemble import RandomForestClassifier \n",
    "from sklearn.linear_model import LogisticRegression "
   ]
  },
  {
   "cell_type": "code",
   "execution_count": 2,
   "metadata": {},
   "outputs": [],
   "source": [
    "warnings.filterwarnings('ignore')"
   ]
  },
  {
   "cell_type": "markdown",
   "metadata": {},
   "source": [
    "### Загрузка данных и основная информация"
   ]
  },
  {
   "cell_type": "code",
   "execution_count": 3,
   "metadata": {},
   "outputs": [],
   "source": [
    "df = pd.read_csv('/datasets/Churn.csv')"
   ]
  },
  {
   "cell_type": "code",
   "execution_count": 4,
   "metadata": {},
   "outputs": [
    {
     "data": {
      "text/html": [
       "<div>\n",
       "<style scoped>\n",
       "    .dataframe tbody tr th:only-of-type {\n",
       "        vertical-align: middle;\n",
       "    }\n",
       "\n",
       "    .dataframe tbody tr th {\n",
       "        vertical-align: top;\n",
       "    }\n",
       "\n",
       "    .dataframe thead th {\n",
       "        text-align: right;\n",
       "    }\n",
       "</style>\n",
       "<table border=\"1\" class=\"dataframe\">\n",
       "  <thead>\n",
       "    <tr style=\"text-align: right;\">\n",
       "      <th></th>\n",
       "      <th>RowNumber</th>\n",
       "      <th>CustomerId</th>\n",
       "      <th>Surname</th>\n",
       "      <th>CreditScore</th>\n",
       "      <th>Geography</th>\n",
       "      <th>Gender</th>\n",
       "      <th>Age</th>\n",
       "      <th>Tenure</th>\n",
       "      <th>Balance</th>\n",
       "      <th>NumOfProducts</th>\n",
       "      <th>HasCrCard</th>\n",
       "      <th>IsActiveMember</th>\n",
       "      <th>EstimatedSalary</th>\n",
       "      <th>Exited</th>\n",
       "    </tr>\n",
       "  </thead>\n",
       "  <tbody>\n",
       "    <tr>\n",
       "      <th>0</th>\n",
       "      <td>1</td>\n",
       "      <td>15634602</td>\n",
       "      <td>Hargrave</td>\n",
       "      <td>619</td>\n",
       "      <td>France</td>\n",
       "      <td>Female</td>\n",
       "      <td>42</td>\n",
       "      <td>2.0</td>\n",
       "      <td>0.00</td>\n",
       "      <td>1</td>\n",
       "      <td>1</td>\n",
       "      <td>1</td>\n",
       "      <td>101348.88</td>\n",
       "      <td>1</td>\n",
       "    </tr>\n",
       "    <tr>\n",
       "      <th>1</th>\n",
       "      <td>2</td>\n",
       "      <td>15647311</td>\n",
       "      <td>Hill</td>\n",
       "      <td>608</td>\n",
       "      <td>Spain</td>\n",
       "      <td>Female</td>\n",
       "      <td>41</td>\n",
       "      <td>1.0</td>\n",
       "      <td>83807.86</td>\n",
       "      <td>1</td>\n",
       "      <td>0</td>\n",
       "      <td>1</td>\n",
       "      <td>112542.58</td>\n",
       "      <td>0</td>\n",
       "    </tr>\n",
       "    <tr>\n",
       "      <th>2</th>\n",
       "      <td>3</td>\n",
       "      <td>15619304</td>\n",
       "      <td>Onio</td>\n",
       "      <td>502</td>\n",
       "      <td>France</td>\n",
       "      <td>Female</td>\n",
       "      <td>42</td>\n",
       "      <td>8.0</td>\n",
       "      <td>159660.80</td>\n",
       "      <td>3</td>\n",
       "      <td>1</td>\n",
       "      <td>0</td>\n",
       "      <td>113931.57</td>\n",
       "      <td>1</td>\n",
       "    </tr>\n",
       "    <tr>\n",
       "      <th>3</th>\n",
       "      <td>4</td>\n",
       "      <td>15701354</td>\n",
       "      <td>Boni</td>\n",
       "      <td>699</td>\n",
       "      <td>France</td>\n",
       "      <td>Female</td>\n",
       "      <td>39</td>\n",
       "      <td>1.0</td>\n",
       "      <td>0.00</td>\n",
       "      <td>2</td>\n",
       "      <td>0</td>\n",
       "      <td>0</td>\n",
       "      <td>93826.63</td>\n",
       "      <td>0</td>\n",
       "    </tr>\n",
       "    <tr>\n",
       "      <th>4</th>\n",
       "      <td>5</td>\n",
       "      <td>15737888</td>\n",
       "      <td>Mitchell</td>\n",
       "      <td>850</td>\n",
       "      <td>Spain</td>\n",
       "      <td>Female</td>\n",
       "      <td>43</td>\n",
       "      <td>2.0</td>\n",
       "      <td>125510.82</td>\n",
       "      <td>1</td>\n",
       "      <td>1</td>\n",
       "      <td>1</td>\n",
       "      <td>79084.10</td>\n",
       "      <td>0</td>\n",
       "    </tr>\n",
       "  </tbody>\n",
       "</table>\n",
       "</div>"
      ],
      "text/plain": [
       "   RowNumber  CustomerId   Surname  CreditScore Geography  Gender  Age  \\\n",
       "0          1    15634602  Hargrave          619    France  Female   42   \n",
       "1          2    15647311      Hill          608     Spain  Female   41   \n",
       "2          3    15619304      Onio          502    France  Female   42   \n",
       "3          4    15701354      Boni          699    France  Female   39   \n",
       "4          5    15737888  Mitchell          850     Spain  Female   43   \n",
       "\n",
       "   Tenure    Balance  NumOfProducts  HasCrCard  IsActiveMember  \\\n",
       "0     2.0       0.00              1          1               1   \n",
       "1     1.0   83807.86              1          0               1   \n",
       "2     8.0  159660.80              3          1               0   \n",
       "3     1.0       0.00              2          0               0   \n",
       "4     2.0  125510.82              1          1               1   \n",
       "\n",
       "   EstimatedSalary  Exited  \n",
       "0        101348.88       1  \n",
       "1        112542.58       0  \n",
       "2        113931.57       1  \n",
       "3         93826.63       0  \n",
       "4         79084.10       0  "
      ]
     },
     "execution_count": 4,
     "metadata": {},
     "output_type": "execute_result"
    }
   ],
   "source": [
    "df.head()"
   ]
  },
  {
   "cell_type": "markdown",
   "metadata": {},
   "source": [
    "Уберем лишние признаки."
   ]
  },
  {
   "cell_type": "code",
   "execution_count": 5,
   "metadata": {},
   "outputs": [],
   "source": [
    "df = df.drop(['RowNumber','CustomerId','Surname'],axis=1)"
   ]
  },
  {
   "cell_type": "code",
   "execution_count": 6,
   "metadata": {},
   "outputs": [
    {
     "name": "stdout",
     "output_type": "stream",
     "text": [
      "<class 'pandas.core.frame.DataFrame'>\n",
      "RangeIndex: 10000 entries, 0 to 9999\n",
      "Data columns (total 11 columns):\n",
      " #   Column           Non-Null Count  Dtype  \n",
      "---  ------           --------------  -----  \n",
      " 0   CreditScore      10000 non-null  int64  \n",
      " 1   Geography        10000 non-null  object \n",
      " 2   Gender           10000 non-null  object \n",
      " 3   Age              10000 non-null  int64  \n",
      " 4   Tenure           9091 non-null   float64\n",
      " 5   Balance          10000 non-null  float64\n",
      " 6   NumOfProducts    10000 non-null  int64  \n",
      " 7   HasCrCard        10000 non-null  int64  \n",
      " 8   IsActiveMember   10000 non-null  int64  \n",
      " 9   EstimatedSalary  10000 non-null  float64\n",
      " 10  Exited           10000 non-null  int64  \n",
      "dtypes: float64(3), int64(6), object(2)\n",
      "memory usage: 859.5+ KB\n"
     ]
    }
   ],
   "source": [
    "df.info()"
   ]
  },
  {
   "cell_type": "code",
   "execution_count": 7,
   "metadata": {
    "scrolled": true
   },
   "outputs": [
    {
     "data": {
      "text/html": [
       "<div>\n",
       "<style scoped>\n",
       "    .dataframe tbody tr th:only-of-type {\n",
       "        vertical-align: middle;\n",
       "    }\n",
       "\n",
       "    .dataframe tbody tr th {\n",
       "        vertical-align: top;\n",
       "    }\n",
       "\n",
       "    .dataframe thead th {\n",
       "        text-align: right;\n",
       "    }\n",
       "</style>\n",
       "<table border=\"1\" class=\"dataframe\">\n",
       "  <thead>\n",
       "    <tr style=\"text-align: right;\">\n",
       "      <th></th>\n",
       "      <th>CreditScore</th>\n",
       "      <th>Age</th>\n",
       "      <th>Tenure</th>\n",
       "      <th>Balance</th>\n",
       "      <th>NumOfProducts</th>\n",
       "      <th>HasCrCard</th>\n",
       "      <th>IsActiveMember</th>\n",
       "      <th>EstimatedSalary</th>\n",
       "      <th>Exited</th>\n",
       "    </tr>\n",
       "  </thead>\n",
       "  <tbody>\n",
       "    <tr>\n",
       "      <th>count</th>\n",
       "      <td>10000.000000</td>\n",
       "      <td>10000.000000</td>\n",
       "      <td>9091.000000</td>\n",
       "      <td>10000.000000</td>\n",
       "      <td>10000.000000</td>\n",
       "      <td>10000.00000</td>\n",
       "      <td>10000.000000</td>\n",
       "      <td>10000.000000</td>\n",
       "      <td>10000.000000</td>\n",
       "    </tr>\n",
       "    <tr>\n",
       "      <th>mean</th>\n",
       "      <td>650.528800</td>\n",
       "      <td>38.921800</td>\n",
       "      <td>4.997690</td>\n",
       "      <td>76485.889288</td>\n",
       "      <td>1.530200</td>\n",
       "      <td>0.70550</td>\n",
       "      <td>0.515100</td>\n",
       "      <td>100090.239881</td>\n",
       "      <td>0.203700</td>\n",
       "    </tr>\n",
       "    <tr>\n",
       "      <th>std</th>\n",
       "      <td>96.653299</td>\n",
       "      <td>10.487806</td>\n",
       "      <td>2.894723</td>\n",
       "      <td>62397.405202</td>\n",
       "      <td>0.581654</td>\n",
       "      <td>0.45584</td>\n",
       "      <td>0.499797</td>\n",
       "      <td>57510.492818</td>\n",
       "      <td>0.402769</td>\n",
       "    </tr>\n",
       "    <tr>\n",
       "      <th>min</th>\n",
       "      <td>350.000000</td>\n",
       "      <td>18.000000</td>\n",
       "      <td>0.000000</td>\n",
       "      <td>0.000000</td>\n",
       "      <td>1.000000</td>\n",
       "      <td>0.00000</td>\n",
       "      <td>0.000000</td>\n",
       "      <td>11.580000</td>\n",
       "      <td>0.000000</td>\n",
       "    </tr>\n",
       "    <tr>\n",
       "      <th>25%</th>\n",
       "      <td>584.000000</td>\n",
       "      <td>32.000000</td>\n",
       "      <td>2.000000</td>\n",
       "      <td>0.000000</td>\n",
       "      <td>1.000000</td>\n",
       "      <td>0.00000</td>\n",
       "      <td>0.000000</td>\n",
       "      <td>51002.110000</td>\n",
       "      <td>0.000000</td>\n",
       "    </tr>\n",
       "    <tr>\n",
       "      <th>50%</th>\n",
       "      <td>652.000000</td>\n",
       "      <td>37.000000</td>\n",
       "      <td>5.000000</td>\n",
       "      <td>97198.540000</td>\n",
       "      <td>1.000000</td>\n",
       "      <td>1.00000</td>\n",
       "      <td>1.000000</td>\n",
       "      <td>100193.915000</td>\n",
       "      <td>0.000000</td>\n",
       "    </tr>\n",
       "    <tr>\n",
       "      <th>75%</th>\n",
       "      <td>718.000000</td>\n",
       "      <td>44.000000</td>\n",
       "      <td>7.000000</td>\n",
       "      <td>127644.240000</td>\n",
       "      <td>2.000000</td>\n",
       "      <td>1.00000</td>\n",
       "      <td>1.000000</td>\n",
       "      <td>149388.247500</td>\n",
       "      <td>0.000000</td>\n",
       "    </tr>\n",
       "    <tr>\n",
       "      <th>max</th>\n",
       "      <td>850.000000</td>\n",
       "      <td>92.000000</td>\n",
       "      <td>10.000000</td>\n",
       "      <td>250898.090000</td>\n",
       "      <td>4.000000</td>\n",
       "      <td>1.00000</td>\n",
       "      <td>1.000000</td>\n",
       "      <td>199992.480000</td>\n",
       "      <td>1.000000</td>\n",
       "    </tr>\n",
       "  </tbody>\n",
       "</table>\n",
       "</div>"
      ],
      "text/plain": [
       "        CreditScore           Age       Tenure        Balance  NumOfProducts  \\\n",
       "count  10000.000000  10000.000000  9091.000000   10000.000000   10000.000000   \n",
       "mean     650.528800     38.921800     4.997690   76485.889288       1.530200   \n",
       "std       96.653299     10.487806     2.894723   62397.405202       0.581654   \n",
       "min      350.000000     18.000000     0.000000       0.000000       1.000000   \n",
       "25%      584.000000     32.000000     2.000000       0.000000       1.000000   \n",
       "50%      652.000000     37.000000     5.000000   97198.540000       1.000000   \n",
       "75%      718.000000     44.000000     7.000000  127644.240000       2.000000   \n",
       "max      850.000000     92.000000    10.000000  250898.090000       4.000000   \n",
       "\n",
       "         HasCrCard  IsActiveMember  EstimatedSalary        Exited  \n",
       "count  10000.00000    10000.000000     10000.000000  10000.000000  \n",
       "mean       0.70550        0.515100    100090.239881      0.203700  \n",
       "std        0.45584        0.499797     57510.492818      0.402769  \n",
       "min        0.00000        0.000000        11.580000      0.000000  \n",
       "25%        0.00000        0.000000     51002.110000      0.000000  \n",
       "50%        1.00000        1.000000    100193.915000      0.000000  \n",
       "75%        1.00000        1.000000    149388.247500      0.000000  \n",
       "max        1.00000        1.000000    199992.480000      1.000000  "
      ]
     },
     "execution_count": 7,
     "metadata": {},
     "output_type": "execute_result"
    }
   ],
   "source": [
    "df.describe()"
   ]
  },
  {
   "cell_type": "markdown",
   "metadata": {},
   "source": [
    "#### Вывод: \n",
    "\n",
    "- Удалены лишние признаки.\n",
    "\n",
    "- Типы данных в порядке, пропуски присутствуют в столбце Tenure.\n",
    "\n",
    "- Из основной статистики: отрицательных (аномальных для данных признаков) значений нет. \n",
    "\n",
    "- Похоже присутствуют выбросы по признаку Balance, так как 75% данных ниже 130000, а максимальное значение 250000. \n",
    "\n",
    "- Миинимальное значение возраста адекватное 18 лет. Возможно выброс по верхнему значению."
   ]
  },
  {
   "cell_type": "markdown",
   "metadata": {},
   "source": [
    "### Проверка данных на пропуски, дубликаты и аномалии"
   ]
  },
  {
   "cell_type": "code",
   "execution_count": 8,
   "metadata": {
    "scrolled": true
   },
   "outputs": [
    {
     "data": {
      "text/plain": [
       "CreditScore          0\n",
       "Geography            0\n",
       "Gender               0\n",
       "Age                  0\n",
       "Tenure             909\n",
       "Balance              0\n",
       "NumOfProducts        0\n",
       "HasCrCard            0\n",
       "IsActiveMember       0\n",
       "EstimatedSalary      0\n",
       "Exited               0\n",
       "dtype: int64"
      ]
     },
     "execution_count": 8,
     "metadata": {},
     "output_type": "execute_result"
    }
   ],
   "source": [
    "df.isna().sum() # подсчёт пропусков"
   ]
  },
  {
   "cell_type": "code",
   "execution_count": 9,
   "metadata": {},
   "outputs": [
    {
     "data": {
      "text/plain": [
       "CreditScore        0.0000\n",
       "Geography          0.0000\n",
       "Gender             0.0000\n",
       "Age                0.0000\n",
       "Tenure             0.0909\n",
       "Balance            0.0000\n",
       "NumOfProducts      0.0000\n",
       "HasCrCard          0.0000\n",
       "IsActiveMember     0.0000\n",
       "EstimatedSalary    0.0000\n",
       "Exited             0.0000\n",
       "dtype: float64"
      ]
     },
     "execution_count": 9,
     "metadata": {},
     "output_type": "execute_result"
    }
   ],
   "source": [
    "df.isna().mean() # Доля пропусков"
   ]
  },
  {
   "cell_type": "markdown",
   "metadata": {},
   "source": [
    "Пропуски есть только в признаке 'Tenure' — сколько лет человек является клиентом банка, меньше 10% , при небольшом кол-ве можно удалить."
   ]
  },
  {
   "cell_type": "code",
   "execution_count": 10,
   "metadata": {},
   "outputs": [],
   "source": [
    "#df['Tenure'].median()\n",
    "\n",
    "df = df.fillna(df['Tenure'].median())"
   ]
  },
  {
   "cell_type": "code",
   "execution_count": 11,
   "metadata": {},
   "outputs": [
    {
     "data": {
      "text/plain": [
       "CreditScore        0\n",
       "Geography          0\n",
       "Gender             0\n",
       "Age                0\n",
       "Tenure             0\n",
       "Balance            0\n",
       "NumOfProducts      0\n",
       "HasCrCard          0\n",
       "IsActiveMember     0\n",
       "EstimatedSalary    0\n",
       "Exited             0\n",
       "dtype: int64"
      ]
     },
     "execution_count": 11,
     "metadata": {},
     "output_type": "execute_result"
    }
   ],
   "source": [
    "#df = df.dropna()\n",
    "df.isna().sum()"
   ]
  },
  {
   "cell_type": "code",
   "execution_count": 12,
   "metadata": {},
   "outputs": [
    {
     "data": {
      "text/plain": [
       "0"
      ]
     },
     "execution_count": 12,
     "metadata": {},
     "output_type": "execute_result"
    }
   ],
   "source": [
    "df.duplicated().sum() # подсчет дубликатов"
   ]
  },
  {
   "cell_type": "markdown",
   "metadata": {},
   "source": [
    "Явных дубликатов нет."
   ]
  },
  {
   "cell_type": "markdown",
   "metadata": {},
   "source": [
    "Построим боксплоты для количественных признаков, чтобы отследить выбросы в данных."
   ]
  },
  {
   "cell_type": "code",
   "execution_count": 13,
   "metadata": {
    "scrolled": true
   },
   "outputs": [
    {
     "data": {
      "image/png": "[encoded data removed]",
      "text/plain": [
       "<Figure size 432x288 with 1 Axes>"
      ]
     },
     "metadata": {
      "needs_background": "light"
     },
     "output_type": "display_data"
    },
    {
     "data": {
      "image/png": "[encoded data removed]",
      "text/plain": [
       "<Figure size 432x288 with 1 Axes>"
      ]
     },
     "metadata": {
      "needs_background": "light"
     },
     "output_type": "display_data"
    },
    {
     "data": {
      "image/png": "[encoded data removed]",
      "text/plain": [
       "<Figure size 432x288 with 1 Axes>"
      ]
     },
     "metadata": {
      "needs_background": "light"
     },
     "output_type": "display_data"
    },
    {
     "data": {
      "image/png": "[encoded data removed]",
      "text/plain": [
       "<Figure size 432x288 with 1 Axes>"
      ]
     },
     "metadata": {
      "needs_background": "light"
     },
     "output_type": "display_data"
    },
    {
     "data": {
      "image/png": "[encoded data removed]",
      "text/plain": [
       "<Figure size 432x288 with 1 Axes>"
      ]
     },
     "metadata": {
      "needs_background": "light"
     },
     "output_type": "display_data"
    }
   ],
   "source": [
    "par_list = ['CreditScore','Age','Balance','Tenure','EstimatedSalary']\n",
    "\n",
    "\n",
    "for par in par_list:\n",
    "    df.boxplot(column =par)\n",
    "    plt.show()"
   ]
  },
  {
   "cell_type": "markdown",
   "metadata": {},
   "source": [
    "Есть выбросы в двух признаках: 'Age', 'CreditScore' "
   ]
  },
  {
   "cell_type": "code",
   "execution_count": 14,
   "metadata": {},
   "outputs": [
    {
     "data": {
      "text/plain": [
       "count    10000.000000\n",
       "mean        38.921800\n",
       "std         10.487806\n",
       "min         18.000000\n",
       "25%         32.000000\n",
       "50%         37.000000\n",
       "75%         44.000000\n",
       "max         92.000000\n",
       "Name: Age, dtype: float64"
      ]
     },
     "execution_count": 14,
     "metadata": {},
     "output_type": "execute_result"
    }
   ],
   "source": [
    "df['Age'].describe()"
   ]
  },
  {
   "cell_type": "code",
   "execution_count": 15,
   "metadata": {},
   "outputs": [
    {
     "data": {
      "text/plain": [
       "0.01718213058419244"
      ]
     },
     "execution_count": 15,
     "metadata": {},
     "output_type": "execute_result"
    }
   ],
   "source": [
    "sum(df.loc[df['Age'] > 65,'Exited'] == 1)/sum(df['Exited'] == 1) \n",
    "#доля людей старше 65 среди ушедших клиентов"
   ]
  },
  {
   "cell_type": "code",
   "execution_count": 16,
   "metadata": {},
   "outputs": [
    {
     "data": {
      "text/plain": [
       "count    10000.000000\n",
       "mean       650.528800\n",
       "std         96.653299\n",
       "min        350.000000\n",
       "25%        584.000000\n",
       "50%        652.000000\n",
       "75%        718.000000\n",
       "max        850.000000\n",
       "Name: CreditScore, dtype: float64"
      ]
     },
     "execution_count": 16,
     "metadata": {},
     "output_type": "execute_result"
    }
   ],
   "source": [
    "df['CreditScore'].describe()"
   ]
  },
  {
   "cell_type": "code",
   "execution_count": 17,
   "metadata": {},
   "outputs": [
    {
     "data": {
      "text/plain": [
       "0.009327442317133039"
      ]
     },
     "execution_count": 17,
     "metadata": {},
     "output_type": "execute_result"
    }
   ],
   "source": [
    "sum(df.loc[df['CreditScore'] < 401,'Exited'] == 1)/sum(df['Exited'] == 1) \n",
    "# доля людей с рейтингом меньше 400 среди ушедших клиентов"
   ]
  },
  {
   "cell_type": "markdown",
   "metadata": {},
   "source": [
    "Возьмем к исследованию только данные входящие в доверительный интервал (99%)"
   ]
  },
  {
   "cell_type": "code",
   "execution_count": 18,
   "metadata": {},
   "outputs": [
    {
     "name": "stdout",
     "output_type": "stream",
     "text": [
      "(11.908351585479647, 65.93524841452034)\n",
      "(401.26869609563335, 899.050531513241)\n"
     ]
    }
   ],
   "source": [
    "par_list = ['Age','CreditScore']\n",
    "\n",
    "\n",
    "for par in par_list:    \n",
    "    mean, sigma = np.mean(df[par]), np.std(df[par])\n",
    "\n",
    "    conf_int = stats.norm.interval(0.99, loc=mean, scale=sigma) \n",
    "    print(conf_int)\n",
    "\n",
    "    df = df.loc[df[par] >= 0 ] # в наших данных не должно быть отрицательных значений, поэтому поставила >= 0\n",
    "    df = df.loc[df[par] < conf_int[1]]"
   ]
  },
  {
   "cell_type": "markdown",
   "metadata": {},
   "source": [
    "Посмотрим корреляцию между количественными признаками:"
   ]
  },
  {
   "cell_type": "code",
   "execution_count": 19,
   "metadata": {},
   "outputs": [
    {
     "name": "stdout",
     "output_type": "stream",
     "text": [
      "                 CreditScore       Age   Balance    Tenure  EstimatedSalary\n",
      "CreditScore         1.000000 -0.019050  0.006002 -0.000078        -0.000669\n",
      "Age                -0.019050  1.000000  0.042245 -0.017375        -0.008136\n",
      "Balance             0.006002  0.042245  1.000000 -0.008812         0.011371\n",
      "Tenure             -0.000078 -0.017375 -0.008812  1.000000         0.011059\n",
      "EstimatedSalary    -0.000669 -0.008136  0.011371  0.011059         1.000000\n"
     ]
    }
   ],
   "source": [
    "par = ['CreditScore','Age','Balance','Tenure','EstimatedSalary']\n",
    "\n",
    "\n",
    "corr_df=df[par]  \n",
    "cor= corr_df.corr(method='pearson')\n",
    "print(cor)"
   ]
  },
  {
   "cell_type": "code",
   "execution_count": 20,
   "metadata": {
    "scrolled": true
   },
   "outputs": [
    {
     "data": {
      "image/png": "[encoded data removed]",
      "text/plain": [
       "<Figure size 576x432 with 2 Axes>"
      ]
     },
     "metadata": {
      "needs_background": "light"
     },
     "output_type": "display_data"
    }
   ],
   "source": [
    "fig, ax =plt.subplots(figsize=(8, 6))\n",
    "plt.title(\"Correlation Plot\")\n",
    "sns.heatmap(cor, mask=np.zeros_like(cor, dtype=bool), cmap=sns.diverging_palette(220, 10, as_cmap=True),\n",
    "            square=True, ax=ax)\n",
    "plt.show()"
   ]
  },
  {
   "cell_type": "markdown",
   "metadata": {},
   "source": [
    "Кореляция отсутствует."
   ]
  },
  {
   "cell_type": "markdown",
   "metadata": {},
   "source": [
    "### Подготовка признаков и разделение данных\n",
    "\n",
    "В особенности для линейных моделей необходимо масштабирование и кодирование категориальных признаков."
   ]
  },
  {
   "cell_type": "code",
   "execution_count": 21,
   "metadata": {},
   "outputs": [],
   "source": [
    "df_ohe =  pd.get_dummies(df, drop_first=True) # кодирование категориальных признаков"
   ]
  },
  {
   "cell_type": "code",
   "execution_count": 22,
   "metadata": {},
   "outputs": [
    {
     "data": {
      "text/html": [
       "<div>\n",
       "<style scoped>\n",
       "    .dataframe tbody tr th:only-of-type {\n",
       "        vertical-align: middle;\n",
       "    }\n",
       "\n",
       "    .dataframe tbody tr th {\n",
       "        vertical-align: top;\n",
       "    }\n",
       "\n",
       "    .dataframe thead th {\n",
       "        text-align: right;\n",
       "    }\n",
       "</style>\n",
       "<table border=\"1\" class=\"dataframe\">\n",
       "  <thead>\n",
       "    <tr style=\"text-align: right;\">\n",
       "      <th></th>\n",
       "      <th>CreditScore</th>\n",
       "      <th>Age</th>\n",
       "      <th>Tenure</th>\n",
       "      <th>Balance</th>\n",
       "      <th>NumOfProducts</th>\n",
       "      <th>HasCrCard</th>\n",
       "      <th>IsActiveMember</th>\n",
       "      <th>EstimatedSalary</th>\n",
       "      <th>Exited</th>\n",
       "      <th>Geography_Germany</th>\n",
       "      <th>Geography_Spain</th>\n",
       "      <th>Gender_Male</th>\n",
       "    </tr>\n",
       "  </thead>\n",
       "  <tbody>\n",
       "    <tr>\n",
       "      <th>0</th>\n",
       "      <td>619</td>\n",
       "      <td>42</td>\n",
       "      <td>2.0</td>\n",
       "      <td>0.00</td>\n",
       "      <td>1</td>\n",
       "      <td>1</td>\n",
       "      <td>1</td>\n",
       "      <td>101348.88</td>\n",
       "      <td>1</td>\n",
       "      <td>0</td>\n",
       "      <td>0</td>\n",
       "      <td>0</td>\n",
       "    </tr>\n",
       "    <tr>\n",
       "      <th>1</th>\n",
       "      <td>608</td>\n",
       "      <td>41</td>\n",
       "      <td>1.0</td>\n",
       "      <td>83807.86</td>\n",
       "      <td>1</td>\n",
       "      <td>0</td>\n",
       "      <td>1</td>\n",
       "      <td>112542.58</td>\n",
       "      <td>0</td>\n",
       "      <td>0</td>\n",
       "      <td>1</td>\n",
       "      <td>0</td>\n",
       "    </tr>\n",
       "    <tr>\n",
       "      <th>2</th>\n",
       "      <td>502</td>\n",
       "      <td>42</td>\n",
       "      <td>8.0</td>\n",
       "      <td>159660.80</td>\n",
       "      <td>3</td>\n",
       "      <td>1</td>\n",
       "      <td>0</td>\n",
       "      <td>113931.57</td>\n",
       "      <td>1</td>\n",
       "      <td>0</td>\n",
       "      <td>0</td>\n",
       "      <td>0</td>\n",
       "    </tr>\n",
       "    <tr>\n",
       "      <th>3</th>\n",
       "      <td>699</td>\n",
       "      <td>39</td>\n",
       "      <td>1.0</td>\n",
       "      <td>0.00</td>\n",
       "      <td>2</td>\n",
       "      <td>0</td>\n",
       "      <td>0</td>\n",
       "      <td>93826.63</td>\n",
       "      <td>0</td>\n",
       "      <td>0</td>\n",
       "      <td>0</td>\n",
       "      <td>0</td>\n",
       "    </tr>\n",
       "    <tr>\n",
       "      <th>4</th>\n",
       "      <td>850</td>\n",
       "      <td>43</td>\n",
       "      <td>2.0</td>\n",
       "      <td>125510.82</td>\n",
       "      <td>1</td>\n",
       "      <td>1</td>\n",
       "      <td>1</td>\n",
       "      <td>79084.10</td>\n",
       "      <td>0</td>\n",
       "      <td>0</td>\n",
       "      <td>1</td>\n",
       "      <td>0</td>\n",
       "    </tr>\n",
       "    <tr>\n",
       "      <th>...</th>\n",
       "      <td>...</td>\n",
       "      <td>...</td>\n",
       "      <td>...</td>\n",
       "      <td>...</td>\n",
       "      <td>...</td>\n",
       "      <td>...</td>\n",
       "      <td>...</td>\n",
       "      <td>...</td>\n",
       "      <td>...</td>\n",
       "      <td>...</td>\n",
       "      <td>...</td>\n",
       "      <td>...</td>\n",
       "    </tr>\n",
       "    <tr>\n",
       "      <th>9995</th>\n",
       "      <td>771</td>\n",
       "      <td>39</td>\n",
       "      <td>5.0</td>\n",
       "      <td>0.00</td>\n",
       "      <td>2</td>\n",
       "      <td>1</td>\n",
       "      <td>0</td>\n",
       "      <td>96270.64</td>\n",
       "      <td>0</td>\n",
       "      <td>0</td>\n",
       "      <td>0</td>\n",
       "      <td>1</td>\n",
       "    </tr>\n",
       "    <tr>\n",
       "      <th>9996</th>\n",
       "      <td>516</td>\n",
       "      <td>35</td>\n",
       "      <td>10.0</td>\n",
       "      <td>57369.61</td>\n",
       "      <td>1</td>\n",
       "      <td>1</td>\n",
       "      <td>1</td>\n",
       "      <td>101699.77</td>\n",
       "      <td>0</td>\n",
       "      <td>0</td>\n",
       "      <td>0</td>\n",
       "      <td>1</td>\n",
       "    </tr>\n",
       "    <tr>\n",
       "      <th>9997</th>\n",
       "      <td>709</td>\n",
       "      <td>36</td>\n",
       "      <td>7.0</td>\n",
       "      <td>0.00</td>\n",
       "      <td>1</td>\n",
       "      <td>0</td>\n",
       "      <td>1</td>\n",
       "      <td>42085.58</td>\n",
       "      <td>1</td>\n",
       "      <td>0</td>\n",
       "      <td>0</td>\n",
       "      <td>0</td>\n",
       "    </tr>\n",
       "    <tr>\n",
       "      <th>9998</th>\n",
       "      <td>772</td>\n",
       "      <td>42</td>\n",
       "      <td>3.0</td>\n",
       "      <td>75075.31</td>\n",
       "      <td>2</td>\n",
       "      <td>1</td>\n",
       "      <td>0</td>\n",
       "      <td>92888.52</td>\n",
       "      <td>1</td>\n",
       "      <td>1</td>\n",
       "      <td>0</td>\n",
       "      <td>1</td>\n",
       "    </tr>\n",
       "    <tr>\n",
       "      <th>9999</th>\n",
       "      <td>792</td>\n",
       "      <td>28</td>\n",
       "      <td>5.0</td>\n",
       "      <td>130142.79</td>\n",
       "      <td>1</td>\n",
       "      <td>1</td>\n",
       "      <td>0</td>\n",
       "      <td>38190.78</td>\n",
       "      <td>0</td>\n",
       "      <td>0</td>\n",
       "      <td>0</td>\n",
       "      <td>0</td>\n",
       "    </tr>\n",
       "  </tbody>\n",
       "</table>\n",
       "<p>9736 rows × 12 columns</p>\n",
       "</div>"
      ],
      "text/plain": [
       "      CreditScore  Age  Tenure    Balance  NumOfProducts  HasCrCard  \\\n",
       "0             619   42     2.0       0.00              1          1   \n",
       "1             608   41     1.0   83807.86              1          0   \n",
       "2             502   42     8.0  159660.80              3          1   \n",
       "3             699   39     1.0       0.00              2          0   \n",
       "4             850   43     2.0  125510.82              1          1   \n",
       "...           ...  ...     ...        ...            ...        ...   \n",
       "9995          771   39     5.0       0.00              2          1   \n",
       "9996          516   35    10.0   57369.61              1          1   \n",
       "9997          709   36     7.0       0.00              1          0   \n",
       "9998          772   42     3.0   75075.31              2          1   \n",
       "9999          792   28     5.0  130142.79              1          1   \n",
       "\n",
       "      IsActiveMember  EstimatedSalary  Exited  Geography_Germany  \\\n",
       "0                  1        101348.88       1                  0   \n",
       "1                  1        112542.58       0                  0   \n",
       "2                  0        113931.57       1                  0   \n",
       "3                  0         93826.63       0                  0   \n",
       "4                  1         79084.10       0                  0   \n",
       "...              ...              ...     ...                ...   \n",
       "9995               0         96270.64       0                  0   \n",
       "9996               1        101699.77       0                  0   \n",
       "9997               1         42085.58       1                  0   \n",
       "9998               0         92888.52       1                  1   \n",
       "9999               0         38190.78       0                  0   \n",
       "\n",
       "      Geography_Spain  Gender_Male  \n",
       "0                   0            0  \n",
       "1                   1            0  \n",
       "2                   0            0  \n",
       "3                   0            0  \n",
       "4                   1            0  \n",
       "...               ...          ...  \n",
       "9995                0            1  \n",
       "9996                0            1  \n",
       "9997                0            0  \n",
       "9998                0            1  \n",
       "9999                0            0  \n",
       "\n",
       "[9736 rows x 12 columns]"
      ]
     },
     "execution_count": 22,
     "metadata": {},
     "output_type": "execute_result"
    }
   ],
   "source": [
    "df_ohe"
   ]
  },
  {
   "cell_type": "code",
   "execution_count": 23,
   "metadata": {},
   "outputs": [],
   "source": [
    "target = df_ohe['Exited']\n",
    "features = df_ohe.drop('Exited',axis=1)\n",
    "\n",
    "#features_train, features_valid,target_train, target_valid = train_test_split(features,target,\n",
    " #                                                                            test_size = 0.25, \n",
    "  #                                                                           random_state=12345)"
   ]
  },
  {
   "cell_type": "code",
   "execution_count": 24,
   "metadata": {},
   "outputs": [
    {
     "name": "stdout",
     "output_type": "stream",
     "text": [
      "(7734, 12) (2002, 12)\n",
      "Количество строк в target_train по классам: [4640 1201]\n",
      "Количество строк в target_test по классам: [3094  801]\n",
      "\n",
      "Количество строк в target_train по классам: [4640 1201]\n",
      "Количество строк в target_valid по классам: [1547  401]\n"
     ]
    }
   ],
   "source": [
    "print(df_ohe.loc[df['Exited'] == 0].shape, df_ohe.loc[df['Exited'] == 1].shape) # изначальное распределение меток ~ 3:1\n",
    "\n",
    "features_train, features_test, target_train, target_test = train_test_split(\n",
    "   features, target, test_size=0.4, random_state=12345,stratify=target)\n",
    "\n",
    "print(f\"Количество строк в target_train по классам: {np.bincount(target_train)}\")\n",
    "print(f\"Количество строк в target_test по классам: {np.bincount(target_test)}\")\n",
    "print()\n",
    "\n",
    "\n",
    "features_test, features_valid, target_test, target_valid = train_test_split(\n",
    "   features_test, target_test, test_size=0.5, random_state=12345, stratify= target_test)\n",
    "\n",
    "\n",
    "print(f\"Количество строк в target_train по классам: {np.bincount(target_train)}\")\n",
    "print(f\"Количество строк в target_valid по классам: {np.bincount(target_valid)}\")"
   ]
  },
  {
   "cell_type": "code",
   "execution_count": 25,
   "metadata": {},
   "outputs": [],
   "source": [
    "# масштабирование численных признаков\n",
    "\n",
    "numeric = ['CreditScore', 'Age', 'Balance', 'Tenure','NumOfProducts','EstimatedSalary'] \n",
    "\n",
    "scaler = StandardScaler()\n",
    "scaler.fit(features_train[numeric])\n",
    "features_train[numeric] = scaler.transform(features_train[numeric])\n",
    "features_valid[numeric] = scaler.transform(features_valid[numeric])"
   ]
  },
  {
   "cell_type": "markdown",
   "metadata": {},
   "source": [
    "## Исследование задачи"
   ]
  },
  {
   "cell_type": "markdown",
   "metadata": {},
   "source": [
    "### Изучим баланс классов"
   ]
  },
  {
   "cell_type": "code",
   "execution_count": 26,
   "metadata": {},
   "outputs": [
    {
     "data": {
      "image/png": "[encoded data removed]",
      "text/plain": [
       "<Figure size 432x288 with 1 Axes>"
      ]
     },
     "metadata": {
      "needs_background": "light"
     },
     "output_type": "display_data"
    }
   ],
   "source": [
    "class_frequency = target.value_counts(normalize=True)\n",
    "\n",
    "class_frequency.plot(kind='bar')\n",
    "plt.show()"
   ]
  },
  {
   "cell_type": "code",
   "execution_count": 27,
   "metadata": {},
   "outputs": [
    {
     "data": {
      "text/plain": [
       "0    0.794371\n",
       "1    0.205629\n",
       "Name: Exited, dtype: float64"
      ]
     },
     "execution_count": 27,
     "metadata": {},
     "output_type": "execute_result"
    }
   ],
   "source": [
    "class_frequency"
   ]
  },
  {
   "cell_type": "markdown",
   "metadata": {},
   "source": [
    "Сильный дисбаланс классов"
   ]
  },
  {
   "cell_type": "markdown",
   "metadata": {},
   "source": [
    "### Изучим модели без учёта дисбаланса"
   ]
  },
  {
   "cell_type": "markdown",
   "metadata": {},
   "source": [
    "#### Дерево классификации"
   ]
  },
  {
   "cell_type": "code",
   "execution_count": 28,
   "metadata": {},
   "outputs": [
    {
     "name": "stdout",
     "output_type": "stream",
     "text": [
      "Accuracy лучшей модели на обучающей выборке: 0.847457627118644\n",
      "Accuracy лучшей модели на валидационной выборке: 0.8434291581108829\n",
      "DecisionTreeClassifier(max_depth=3, random_state=12345)\n"
     ]
    }
   ],
   "source": [
    "best_model_tree_classifier = None\n",
    "best_result = 0\n",
    "for depth in range(1, 4):\n",
    "    model = DecisionTreeClassifier(random_state=12345, max_depth= depth) \n",
    "    model.fit(features_train,target_train) \n",
    "    predictions = model.predict(features_valid) \n",
    "    result = accuracy_score(target_valid, predictions)\n",
    "    if result > best_result:\n",
    "        best_model_tree_classifier = model\n",
    "        best_result = result\n",
    "print(\"Accuracy лучшей модели на обучающей выборке:\", accuracy_score(target_train, best_model_tree_classifier.predict(features_train)))\n",
    "print(\"Accuracy лучшей модели на валидационной выборке:\", best_result)\n",
    "print(best_model_tree_classifier)"
   ]
  },
  {
   "cell_type": "code",
   "execution_count": 29,
   "metadata": {},
   "outputs": [
    {
     "name": "stdout",
     "output_type": "stream",
     "text": [
      "F1: 0.5211930926216639\n"
     ]
    }
   ],
   "source": [
    "predicted_valid = best_model_tree_classifier.predict(features_valid)\n",
    "\n",
    "print(\"F1:\", f1_score(target_valid, predicted_valid))"
   ]
  },
  {
   "cell_type": "markdown",
   "metadata": {},
   "source": [
    "#### Случайный лес"
   ]
  },
  {
   "cell_type": "code",
   "execution_count": 30,
   "metadata": {},
   "outputs": [
    {
     "name": "stdout",
     "output_type": "stream",
     "text": [
      "{'max_depth': 6, 'n_estimators': 100}\n"
     ]
    }
   ],
   "source": [
    "rfc=RandomForestClassifier(random_state=42)\n",
    "\n",
    "param_grid = { \n",
    "    'n_estimators': [10,100],\n",
    "    'max_depth' : [2,3,4,5,6],\n",
    "}\n",
    "\n",
    "CV_rfc = GridSearchCV(estimator=rfc, param_grid=param_grid, cv= 5)\n",
    "CV_rfc.fit(features_train, target_train)\n",
    "\n",
    "\n",
    "print(CV_rfc.best_params_)"
   ]
  },
  {
   "cell_type": "code",
   "execution_count": 57,
   "metadata": {},
   "outputs": [],
   "source": [
    "best_model_forest_classifier = RandomForestClassifier(random_state=42,  n_estimators= 100, max_depth=6)"
   ]
  },
  {
   "cell_type": "code",
   "execution_count": 58,
   "metadata": {},
   "outputs": [
    {
     "data": {
      "text/plain": [
       "RandomForestClassifier(max_depth=6, random_state=42)"
      ]
     },
     "execution_count": 58,
     "metadata": {},
     "output_type": "execute_result"
    }
   ],
   "source": [
    "best_model_forest_classifier.fit(features_train, target_train)"
   ]
  },
  {
   "cell_type": "code",
   "execution_count": 59,
   "metadata": {},
   "outputs": [
    {
     "name": "stdout",
     "output_type": "stream",
     "text": [
      "Accuracy лучшей модели на обучающей выборке: 0.819980643079901\n",
      "Accuracy лучшей модели на валидационной выборке: 0.8208418891170431\n"
     ]
    }
   ],
   "source": [
    "print(\"Accuracy лучшей модели на обучающей выборке:\",accuracy_score(target_train, \n",
    "                                                                    best_model_forest_classifier.\n",
    "                                                                    predict(features_train)))\n",
    "print(\"Accuracy лучшей модели на валидационной выборке:\", best_result)"
   ]
  },
  {
   "cell_type": "code",
   "execution_count": 60,
   "metadata": {},
   "outputs": [
    {
     "name": "stdout",
     "output_type": "stream",
     "text": [
      "F1: 0.5218617771509169\n"
     ]
    }
   ],
   "source": [
    "predicted_valid = best_model_forest_classifier.predict(features_valid)\n",
    "\n",
    "print(\"F1:\", f1_score(target_valid, predicted_valid))"
   ]
  },
  {
   "cell_type": "markdown",
   "metadata": {},
   "source": [
    "#### Логистическая регрессия"
   ]
  },
  {
   "cell_type": "code",
   "execution_count": 35,
   "metadata": {},
   "outputs": [
    {
     "name": "stdout",
     "output_type": "stream",
     "text": [
      "Лучшая конфигурация LogisticRegression(C=1, max_iter=1000, random_state=12345, solver='liblinear') 0.8208418891170431\n"
     ]
    }
   ],
   "source": [
    "best_model_logistic_reg = None\n",
    "best_result = 0\n",
    "\n",
    "for regularization_s in [1,10,100]:\n",
    "    for solver in ['lbfgs', 'liblinear']:\n",
    "        model = LogisticRegression(random_state = 12345,solver=solver, max_iter=1000, C = regularization_s)\n",
    "        model.fit(features_train,target_train)\n",
    "        model.predict(features_valid)\n",
    "        result = model.score(features_valid,target_valid)\n",
    "        #print(model,result)\n",
    "            \n",
    "        if result > best_result:\n",
    "            best_model_logistic_reg =  model \n",
    "            best_result = result \n",
    "            \n",
    "            \n",
    "print('Лучшая конфигурация',best_model_logistic_reg,best_result)   \n",
    "\n"
   ]
  },
  {
   "cell_type": "code",
   "execution_count": 36,
   "metadata": {},
   "outputs": [
    {
     "name": "stdout",
     "output_type": "stream",
     "text": [
      "0.8216058894024996\n",
      "F1: 0.39931153184165236\n"
     ]
    }
   ],
   "source": [
    "predicted_valid = best_model_logistic_reg.predict(features_valid)\n",
    "\n",
    "print(best_model_logistic_reg.score(features_train, target_train))\n",
    "print(\"F1:\", f1_score(target_valid, predicted_valid))"
   ]
  },
  {
   "cell_type": "markdown",
   "metadata": {},
   "source": [
    "## Борьба с дисбалансом"
   ]
  },
  {
   "cell_type": "markdown",
   "metadata": {},
   "source": [
    "### Взвешивание классов"
   ]
  },
  {
   "cell_type": "markdown",
   "metadata": {},
   "source": [
    "Возьмем лучшие подобранные конфигурации моделей и добавим параметр class_weight='balanced'"
   ]
  },
  {
   "cell_type": "code",
   "execution_count": 38,
   "metadata": {},
   "outputs": [
    {
     "name": "stdout",
     "output_type": "stream",
     "text": [
      "F1: 0.5429769392033543\n"
     ]
    }
   ],
   "source": [
    "# дерево\n",
    "\n",
    "model_tree = DecisionTreeClassifier(max_depth=3, random_state=12345,class_weight='balanced')\n",
    "model_tree.fit(features_train,target_train)\n",
    "predicted_valid =model_tree.predict(features_valid)\n",
    "model_tree.score(features_valid,target_valid)\n",
    "print(\"F1:\", f1_score(target_valid, predicted_valid))"
   ]
  },
  {
   "cell_type": "code",
   "execution_count": 61,
   "metadata": {},
   "outputs": [
    {
     "name": "stdout",
     "output_type": "stream",
     "text": [
      "F1: 0.6276595744680852\n"
     ]
    }
   ],
   "source": [
    "# лес\n",
    "\n",
    "model_forest = RandomForestClassifier(max_depth=6, n_estimators=100,random_state=12345,\n",
    "                                      class_weight='balanced')\n",
    "model_forest.fit(features_train,target_train)\n",
    "predicted_valid = model_forest.predict(features_valid)\n",
    "print(\"F1:\", f1_score(target_valid, predicted_valid))"
   ]
  },
  {
   "cell_type": "code",
   "execution_count": 40,
   "metadata": {},
   "outputs": [
    {
     "name": "stdout",
     "output_type": "stream",
     "text": [
      "F1: 0.5189873417721519\n"
     ]
    }
   ],
   "source": [
    "# лин. регрессия\n",
    "\n",
    "model_log_reg = LogisticRegression(C=1, max_iter=1000, random_state=12345,class_weight='balanced')\n",
    "model_log_reg.fit(features_train,target_train)\n",
    "predicted_valid = model_log_reg.predict(features_valid)\n",
    "print(\"F1:\", f1_score(target_valid, predicted_valid))"
   ]
  },
  {
   "cell_type": "markdown",
   "metadata": {},
   "source": [
    "### Борьба с дисбалансом с помощью увеличение выборки"
   ]
  },
  {
   "cell_type": "code",
   "execution_count": 62,
   "metadata": {},
   "outputs": [],
   "source": [
    "# Функция для создания копий объектов редкого класса внутри данных\n",
    "\n",
    "def upsample(features, target, repeat):\n",
    "    features_zeros = features[target == 0]\n",
    "    features_ones = features[target == 1]\n",
    "    target_zeros = target[target == 0]\n",
    "    target_ones = target[target == 1]\n",
    "\n",
    "    features_upsampled = pd.concat([features_zeros] + [features_ones] * repeat)\n",
    "    target_upsampled = pd.concat([target_zeros] + [target_ones] * repeat)\n",
    "    \n",
    "    features_upsampled, target_upsampled = shuffle(\n",
    "        features_upsampled, target_upsampled, random_state=12345)\n",
    "    return features_upsampled, target_upsampled\n"
   ]
  },
  {
   "cell_type": "code",
   "execution_count": 63,
   "metadata": {},
   "outputs": [],
   "source": [
    "features_upsampled, target_upsampled = upsample(features_train, target_train, 10)"
   ]
  },
  {
   "cell_type": "code",
   "execution_count": 65,
   "metadata": {},
   "outputs": [
    {
     "name": "stdout",
     "output_type": "stream",
     "text": [
      "Tree F1: 0.5429769392033543\n",
      "Forrest F1: 0.6180257510729613\n",
      "L. Reg. F1: 0.519927536231884\n"
     ]
    }
   ],
   "source": [
    "model_tree = DecisionTreeClassifier(max_depth=3, random_state=12345,class_weight='balanced')\n",
    "model_tree.fit(features_upsampled, target_upsampled)\n",
    "predicted_valid =model_tree.predict(features_valid)\n",
    "\n",
    "print(\"Tree F1:\", f1_score(target_valid, predicted_valid))\n",
    "\n",
    "model_forest = RandomForestClassifier(max_depth=6, n_estimators=100,random_state=12345,\n",
    "                                      class_weight='balanced')\n",
    "model_forest.fit(features_upsampled, target_upsampled)\n",
    "predicted_valid = model_forest.predict(features_valid)\n",
    "print(\"Forrest F1:\", f1_score(target_valid, predicted_valid))\n",
    "\n",
    "\n",
    "model_log_reg = LogisticRegression(C=1, max_iter=1000, random_state=12345,class_weight='balanced')\n",
    "model_log_reg.fit(features_upsampled, target_upsampled)\n",
    "predicted_valid = model_log_reg.predict(features_valid)\n",
    "print(\"L. Reg. F1:\", f1_score(target_valid, predicted_valid))\n"
   ]
  },
  {
   "cell_type": "markdown",
   "metadata": {},
   "source": [
    "###  Борьба с дисбалансом с помощью уменьшение выборки"
   ]
  },
  {
   "cell_type": "code",
   "execution_count": 44,
   "metadata": {},
   "outputs": [],
   "source": [
    "# Функция для удаления объектов популярного класса внутри данных\n",
    "\n",
    "def downsample(features, target, fraction):\n",
    "    features_zeros = features[target == 0]\n",
    "    features_ones = features[target == 1]\n",
    "    target_zeros = target[target == 0]\n",
    "    target_ones = target[target == 1]\n",
    "\n",
    "    features_downsampled = pd.concat(\n",
    "        [features_zeros.sample(frac=fraction, random_state=12345)] + [features_ones])\n",
    "    target_downsampled = pd.concat(\n",
    "        [target_zeros.sample(frac=fraction, random_state=12345)] + [target_ones])\n",
    "    \n",
    "    features_downsampled, target_downsampled = shuffle(\n",
    "        features_downsampled, target_downsampled, random_state=12345)\n",
    "    \n",
    "    return features_downsampled, target_downsampled"
   ]
  },
  {
   "cell_type": "code",
   "execution_count": 45,
   "metadata": {},
   "outputs": [],
   "source": [
    "features_downsampled, target_downsampled = downsample(features_train, target_train, 0.1)"
   ]
  },
  {
   "cell_type": "markdown",
   "metadata": {},
   "source": [
    "### Результаты моделей после балансировки"
   ]
  },
  {
   "cell_type": "code",
   "execution_count": 66,
   "metadata": {},
   "outputs": [
    {
     "name": "stdout",
     "output_type": "stream",
     "text": [
      "Tree F1: 0.5352743561030235\n",
      "Forrest F1: 0.5642795513373597\n",
      "L. Reg. F1: 0.5082680591818972\n"
     ]
    }
   ],
   "source": [
    "model_tree = DecisionTreeClassifier(max_depth=3, random_state=12345,class_weight='balanced')\n",
    "model_tree.fit(features_downsampled, target_downsampled)\n",
    "predicted_valid =model_tree.predict(features_valid)\n",
    "\n",
    "print(\"Tree F1:\", f1_score(target_valid, predicted_valid))\n",
    "\n",
    "model_forest = RandomForestClassifier(max_depth=6, n_estimators=100,random_state=12345,\n",
    "                                      class_weight='balanced')\n",
    "model_forest.fit(features_downsampled, target_downsampled)\n",
    "predicted_valid = model_forest.predict(features_valid)\n",
    "print(\"Forrest F1:\", f1_score(target_valid, predicted_valid))\n",
    "\n",
    "\n",
    "model_log_reg = LogisticRegression(C=1, max_iter=1000, random_state=12345,class_weight='balanced')\n",
    "model_log_reg.fit(features_downsampled, target_downsampled)\n",
    "predicted_valid = model_log_reg.predict(features_valid)\n",
    "print(\"L. Reg. F1:\", f1_score(target_valid, predicted_valid))"
   ]
  },
  {
   "cell_type": "code",
   "execution_count": 67,
   "metadata": {},
   "outputs": [],
   "source": [
    "#features_train, target_train = features_downsampled, target_downsampled\n",
    "\n",
    "features_train, target_train = features_upsampled, target_upsampled\n"
   ]
  },
  {
   "cell_type": "markdown",
   "metadata": {},
   "source": [
    "### Уменьшение порога\n",
    "\n",
    "Любая наша модель выдаёт вероятности на выходе. А потом, с помощью порога переводим в 1 и 0. Внутри predict-а зашит порог 0.5 по умолчанию. Мы можем подобрать иной порог для маркировки 1 и 0."
   ]
  },
  {
   "cell_type": "code",
   "execution_count": 48,
   "metadata": {},
   "outputs": [],
   "source": [
    "probabilities_tree = model_tree.predict_proba(features_valid)\n",
    "probabilities_forest = model_forest.predict_proba(features_valid)\n",
    "probabilities_log_reg = model_log_reg.predict_proba(features_valid)"
   ]
  },
  {
   "cell_type": "code",
   "execution_count": 49,
   "metadata": {},
   "outputs": [],
   "source": [
    "probabilities_one_valid_tree = probabilities_tree[:,1]\n",
    "probabilities_one_valid_forest = probabilities_forest[:,1]\n",
    "probabilities_one_valid_log_reg = probabilities_log_reg[:,1]"
   ]
  },
  {
   "cell_type": "code",
   "execution_count": 50,
   "metadata": {},
   "outputs": [],
   "source": [
    "# Подбор порога\n",
    "\n",
    "def threshold(probabilities_one_valid, a,b,c):\n",
    "    predicted_valid = 0\n",
    "    precision = 0\n",
    "    recall = 0\n",
    "    for threshold in np.arange(a,b,c):\n",
    "        predicted_valid = probabilities_one_valid > threshold \n",
    "        precision = precision_score(target_valid, predicted_valid) \n",
    "        recall = recall_score(target_valid, predicted_valid) \n",
    "        \n",
    "        print(\"Порог = {:.2f} | Точность = {:.3f}, Полнота = {:.3f}\".format(\n",
    "        threshold, precision, recall))\n",
    "    \n",
    "    fpr, tpr, thresholds = roc_curve(target_valid, probabilities_one_valid) # < напишите код здесь >\n",
    "\n",
    "    plt.figure()\n",
    "    plt.plot(fpr, tpr)\n",
    "    plt.title(\"ROC-кривая\")\n",
    "    return roc_auc_score(target_valid,probabilities_one_valid)"
   ]
  },
  {
   "cell_type": "code",
   "execution_count": 51,
   "metadata": {},
   "outputs": [
    {
     "name": "stdout",
     "output_type": "stream",
     "text": [
      "Порог = 0.00 | Точность = 0.206, Полнота = 1.000\n",
      "Порог = 0.05 | Точность = 0.206, Полнота = 1.000\n",
      "Порог = 0.10 | Точность = 0.206, Полнота = 1.000\n",
      "Порог = 0.15 | Точность = 0.296, Полнота = 0.943\n",
      "Порог = 0.20 | Точность = 0.296, Полнота = 0.943\n",
      "Порог = 0.25 | Точность = 0.296, Полнота = 0.943\n",
      "Порог = 0.30 | Точность = 0.296, Полнота = 0.943\n",
      "Порог = 0.35 | Точность = 0.296, Полнота = 0.943\n",
      "Порог = 0.40 | Точность = 0.296, Полнота = 0.943\n",
      "Порог = 0.45 | Точность = 0.486, Полнота = 0.596\n",
      "Порог = 0.50 | Точность = 0.486, Полнота = 0.596\n",
      "Порог = 0.55 | Точность = 0.486, Полнота = 0.596\n",
      "Порог = 0.60 | Точность = 0.486, Полнота = 0.596\n",
      "Порог = 0.65 | Точность = 0.493, Полнота = 0.594\n",
      "Порог = 0.70 | Точность = 0.493, Полнота = 0.594\n",
      "Порог = 0.75 | Точность = 0.768, Полнота = 0.297\n"
     ]
    },
    {
     "data": {
      "text/plain": [
       "0.7990100701704048"
      ]
     },
     "execution_count": 51,
     "metadata": {},
     "output_type": "execute_result"
    },
    {
     "data": {
      "image/png": "[encoded data removed]",
      "text/plain": [
       "<Figure size 432x288 with 1 Axes>"
      ]
     },
     "metadata": {
      "needs_background": "light"
     },
     "output_type": "display_data"
    }
   ],
   "source": [
    "threshold(probabilities_one_valid_tree,0,  0.8, 0.05)"
   ]
  },
  {
   "cell_type": "code",
   "execution_count": 52,
   "metadata": {},
   "outputs": [
    {
     "name": "stdout",
     "output_type": "stream",
     "text": [
      "Порог = 0.00 | Точность = 0.206, Полнота = 1.000\n",
      "Порог = 0.05 | Точность = 0.206, Полнота = 1.000\n",
      "Порог = 0.10 | Точность = 0.206, Полнота = 1.000\n",
      "Порог = 0.15 | Точность = 0.219, Полнота = 1.000\n",
      "Порог = 0.20 | Точность = 0.231, Полнота = 0.993\n",
      "Порог = 0.25 | Точность = 0.259, Полнота = 0.970\n",
      "Порог = 0.30 | Точность = 0.298, Полнота = 0.953\n",
      "Порог = 0.35 | Точность = 0.322, Полнота = 0.913\n",
      "Порог = 0.40 | Точность = 0.348, Полнота = 0.870\n",
      "Порог = 0.45 | Точность = 0.391, Полнота = 0.833\n",
      "Порог = 0.50 | Точность = 0.452, Полнота = 0.793\n",
      "Порог = 0.55 | Точность = 0.511, Полнота = 0.723\n",
      "Порог = 0.60 | Точность = 0.581, Полнота = 0.663\n",
      "Порог = 0.65 | Точность = 0.628, Полнота = 0.581\n",
      "Порог = 0.70 | Точность = 0.694, Полнота = 0.481\n",
      "Порог = 0.75 | Точность = 0.753, Полнота = 0.404\n"
     ]
    },
    {
     "data": {
      "text/plain": [
       "0.8496784863955174"
      ]
     },
     "execution_count": 52,
     "metadata": {},
     "output_type": "execute_result"
    },
    {
     "data": {
      "image/png": "[encoded data removed]",
      "text/plain": [
       "<Figure size 432x288 with 1 Axes>"
      ]
     },
     "metadata": {
      "needs_background": "light"
     },
     "output_type": "display_data"
    }
   ],
   "source": [
    "threshold(probabilities_one_valid_forest,0,  0.8, 0.05)"
   ]
  },
  {
   "cell_type": "code",
   "execution_count": 53,
   "metadata": {},
   "outputs": [
    {
     "name": "stdout",
     "output_type": "stream",
     "text": [
      "Порог = 0.00 | Точность = 0.206, Полнота = 1.000\n",
      "Порог = 0.05 | Точность = 0.207, Полнота = 0.998\n",
      "Порог = 0.10 | Точность = 0.217, Полнота = 0.995\n",
      "Порог = 0.15 | Точность = 0.231, Полнота = 0.980\n",
      "Порог = 0.20 | Точность = 0.251, Полнота = 0.965\n",
      "Порог = 0.25 | Точность = 0.269, Полнота = 0.930\n",
      "Порог = 0.30 | Точность = 0.292, Полнота = 0.903\n",
      "Порог = 0.35 | Точность = 0.311, Полнота = 0.865\n",
      "Порог = 0.40 | Точность = 0.344, Полнота = 0.835\n",
      "Порог = 0.45 | Точность = 0.366, Полнота = 0.786\n",
      "Порог = 0.50 | Точность = 0.390, Полнота = 0.728\n",
      "Порог = 0.55 | Точность = 0.417, Полнота = 0.671\n",
      "Порог = 0.60 | Точность = 0.465, Полнота = 0.618\n",
      "Порог = 0.65 | Точность = 0.497, Полнота = 0.534\n",
      "Порог = 0.70 | Точность = 0.546, Полнота = 0.471\n",
      "Порог = 0.75 | Точность = 0.581, Полнота = 0.401\n"
     ]
    },
    {
     "data": {
      "text/plain": [
       "0.792703116159182"
      ]
     },
     "execution_count": 53,
     "metadata": {},
     "output_type": "execute_result"
    },
    {
     "data": {
      "image/png": "[encoded data removed]",
      "text/plain": [
       "<Figure size 432x288 with 1 Axes>"
      ]
     },
     "metadata": {
      "needs_background": "light"
     },
     "output_type": "display_data"
    }
   ],
   "source": [
    "threshold(probabilities_one_valid_log_reg,0,  0.8, 0.05)"
   ]
  },
  {
   "cell_type": "markdown",
   "metadata": {},
   "source": [
    "## Тестирование модели"
   ]
  },
  {
   "cell_type": "code",
   "execution_count": 54,
   "metadata": {},
   "outputs": [],
   "source": [
    "## Обобщим обучающую выборку"
   ]
  },
  {
   "cell_type": "code",
   "execution_count": 68,
   "metadata": {},
   "outputs": [],
   "source": [
    "features_train = pd.concat([features_train, features_valid], axis=0)\n",
    "\n",
    "\n",
    "target_train = pd.concat([target_train, target_valid], axis=0)\n"
   ]
  },
  {
   "cell_type": "code",
   "execution_count": 28,
   "metadata": {},
   "outputs": [],
   "source": [
    "features_test[numeric] = scaler.transform(features_test[numeric])"
   ]
  },
  {
   "cell_type": "code",
   "execution_count": 29,
   "metadata": {},
   "outputs": [
    {
     "name": "stdout",
     "output_type": "stream",
     "text": [
      "Tree F1 valid: 0.5429769392033543\n",
      "Tree F1 test: 0.5294748124330118\n",
      "Recall 0.6458852867830424 Precision 0.46835443037974683\n",
      "\n",
      "Forest F1 valid: 0.6258064516129032\n",
      "Forrest F1 test: 0.5945945945945946\n",
      "Recall 0.7256857855361596 Precision 0.5500945179584121\n",
      "\n",
      "\n",
      "L. Reg. F1 valid: 0.5189873417721519\n",
      "L. Reg. F1 test: 0.5162488393686165\n",
      "Recall 0.71571072319202 Precision 0.40709219858156026\n",
      "\n",
      "\n"
     ]
    }
   ],
   "source": [
    "model_tree = DecisionTreeClassifier(max_depth=3, random_state=12345,class_weight='balanced')\n",
    "model_tree.fit(features_train, target_train)\n",
    "predicted_valid =model_tree.predict(features_valid)\n",
    "predicted_test =model_tree.predict(features_test)\n",
    "\n",
    "\n",
    "print(\"Tree F1 valid:\", f1_score(target_valid, predicted_valid))\n",
    "print(\"Tree F1 test:\", f1_score(target_test, predicted_test))\n",
    "print('Recall',recall_score(target_valid,predicted_valid),\n",
    "      'Precision', precision_score(target_valid,predicted_valid))\n",
    "print()\n",
    "\n",
    "\n",
    "model_forest = RandomForestClassifier(max_depth=6, n_estimators=100,random_state=12345,class_weight='balanced')\n",
    "model_forest.fit(features_train, target_train)\n",
    "predicted_valid =model_forest.predict(features_valid)\n",
    "predicted_test = model_forest.predict(features_test)\n",
    "\n",
    "print(\"Forest F1 valid:\", f1_score(target_valid, predicted_valid))\n",
    "print(\"Forrest F1 test:\", f1_score(target_test, predicted_test))\n",
    "print('Recall',recall_score(target_valid,predicted_valid),\n",
    "      'Precision', precision_score(target_valid,predicted_valid))\n",
    "print()\n",
    "print()\n",
    "\n",
    "\n",
    "model_log_reg = LogisticRegression(C=1, max_iter=1000, random_state=12345,class_weight='balanced')\n",
    "model_log_reg.fit(features_train, target_train)\n",
    "predicted_valid =model_log_reg.predict(features_valid)\n",
    "predicted_test = model_log_reg.predict(features_test)\n",
    "\n",
    "\n",
    "print(\"L. Reg. F1 valid:\", f1_score(target_valid, predicted_valid))\n",
    "print(\"L. Reg. F1 test:\", f1_score(target_test, predicted_test))\n",
    "print('Recall',recall_score(target_valid,predicted_valid),\n",
    "      'Precision', precision_score(target_valid,predicted_valid))\n",
    "print()\n",
    "print()\n"
   ]
  },
  {
   "cell_type": "markdown",
   "metadata": {},
   "source": [
    "## Вывод\n",
    "\n",
    "В результате работы было сделано следующее:\n",
    "\n",
    "- Проведена предобработка данных, обработка пропусков и дубликатов\n",
    "- Исследован баланс классов\n",
    "- Обучены три модели без учета дисбаланса\n",
    "- Проведена обработка дисбаланса классов тремя различными способами\n",
    "- Обучены модели после обработки данных\n",
    "- Проведено тестирование\n",
    "\n",
    "Лучший результат показала модель случайного леса с параметрами: max_depth=6, n_estimators=100,random_state=12345,class_weight='balanced'\n",
    "\n",
    "На валидационной выборке лес дает приемлемый результат f1, но точность достаточно низкая, значит модель часто дает ложно-положительый ответ."
   ]
  }
 ],
 "metadata": {
  "ExecuteTimeLog": [
   {
    "duration": 648,
    "start_time": "2022-05-19T09:23:50.856Z"
   },
   {
    "duration": 128,
    "start_time": "2022-05-19T09:24:25.220Z"
   },
   {
    "duration": 168,
    "start_time": "2022-05-19T09:24:33.076Z"
   },
   {
    "duration": 33,
    "start_time": "2022-05-19T09:24:41.595Z"
   },
   {
    "duration": 17,
    "start_time": "2022-05-19T09:25:17.450Z"
   },
   {
    "duration": 12,
    "start_time": "2022-05-19T09:28:05.064Z"
   },
   {
    "duration": 8,
    "start_time": "2022-05-19T09:29:32.690Z"
   },
   {
    "duration": 15,
    "start_time": "2022-05-19T09:30:04.984Z"
   },
   {
    "duration": 40,
    "start_time": "2022-05-19T09:31:54.623Z"
   },
   {
    "duration": 643,
    "start_time": "2022-05-19T09:33:43.846Z"
   },
   {
    "duration": 3,
    "start_time": "2022-05-19T09:34:04.831Z"
   },
   {
    "duration": 37,
    "start_time": "2022-05-19T09:34:05.175Z"
   },
   {
    "duration": 13,
    "start_time": "2022-05-19T09:34:05.551Z"
   },
   {
    "duration": 13,
    "start_time": "2022-05-19T09:34:05.950Z"
   },
   {
    "duration": 38,
    "start_time": "2022-05-19T09:34:06.372Z"
   },
   {
    "duration": 6,
    "start_time": "2022-05-19T09:34:06.761Z"
   },
   {
    "duration": 8,
    "start_time": "2022-05-19T09:34:07.222Z"
   },
   {
    "duration": 18,
    "start_time": "2022-05-19T09:34:07.607Z"
   },
   {
    "duration": 99,
    "start_time": "2022-05-19T09:34:08.111Z"
   },
   {
    "duration": 4,
    "start_time": "2022-05-19T09:36:28.797Z"
   },
   {
    "duration": 728,
    "start_time": "2022-05-19T09:36:33.023Z"
   },
   {
    "duration": 1359,
    "start_time": "2022-05-19T09:36:54.192Z"
   },
   {
    "duration": 532,
    "start_time": "2022-05-19T09:37:13.630Z"
   },
   {
    "duration": 10,
    "start_time": "2022-05-19T09:37:45.346Z"
   },
   {
    "duration": 14,
    "start_time": "2022-05-19T09:39:58.251Z"
   },
   {
    "duration": 676,
    "start_time": "2022-05-19T09:40:21.196Z"
   },
   {
    "duration": 13,
    "start_time": "2022-05-19T09:40:25.806Z"
   },
   {
    "duration": 9,
    "start_time": "2022-05-19T09:42:35.883Z"
   },
   {
    "duration": 139,
    "start_time": "2022-05-19T09:42:47.211Z"
   },
   {
    "duration": 10,
    "start_time": "2022-05-19T09:42:55.747Z"
   },
   {
    "duration": 1108,
    "start_time": "2022-05-19T09:43:07.906Z"
   },
   {
    "duration": 38,
    "start_time": "2022-05-19T09:43:09.016Z"
   },
   {
    "duration": 21,
    "start_time": "2022-05-19T09:43:09.056Z"
   },
   {
    "duration": 16,
    "start_time": "2022-05-19T09:43:09.079Z"
   },
   {
    "duration": 77,
    "start_time": "2022-05-19T09:43:09.096Z"
   },
   {
    "duration": 9,
    "start_time": "2022-05-19T09:43:09.175Z"
   },
   {
    "duration": 11,
    "start_time": "2022-05-19T09:43:09.186Z"
   },
   {
    "duration": 15,
    "start_time": "2022-05-19T09:43:09.199Z"
   },
   {
    "duration": 622,
    "start_time": "2022-05-19T09:43:09.217Z"
   },
   {
    "duration": 17,
    "start_time": "2022-05-19T09:43:09.842Z"
   },
   {
    "duration": 37,
    "start_time": "2022-05-19T09:43:09.861Z"
   },
   {
    "duration": 37,
    "start_time": "2022-05-19T09:43:09.910Z"
   },
   {
    "duration": 1027,
    "start_time": "2022-05-19T09:44:00.491Z"
   },
   {
    "duration": 45,
    "start_time": "2022-05-19T09:44:01.520Z"
   },
   {
    "duration": 24,
    "start_time": "2022-05-19T09:44:01.567Z"
   },
   {
    "duration": 32,
    "start_time": "2022-05-19T09:44:01.593Z"
   },
   {
    "duration": 91,
    "start_time": "2022-05-19T09:44:01.627Z"
   },
   {
    "duration": 41,
    "start_time": "2022-05-19T09:44:01.720Z"
   },
   {
    "duration": 21,
    "start_time": "2022-05-19T09:44:01.764Z"
   },
   {
    "duration": 36,
    "start_time": "2022-05-19T09:44:01.786Z"
   },
   {
    "duration": 626,
    "start_time": "2022-05-19T09:44:01.824Z"
   },
   {
    "duration": 10,
    "start_time": "2022-05-19T09:44:02.460Z"
   },
   {
    "duration": 25,
    "start_time": "2022-05-19T09:44:02.472Z"
   },
   {
    "duration": 6,
    "start_time": "2022-05-19T09:44:02.499Z"
   },
   {
    "duration": 51,
    "start_time": "2022-05-19T09:45:21.585Z"
   },
   {
    "duration": 151,
    "start_time": "2022-05-19T09:45:25.125Z"
   },
   {
    "duration": 13,
    "start_time": "2022-05-19T09:45:30.365Z"
   },
   {
    "duration": 14,
    "start_time": "2022-05-19T09:45:34.653Z"
   },
   {
    "duration": 34,
    "start_time": "2022-05-19T09:45:38.677Z"
   },
   {
    "duration": 29,
    "start_time": "2022-05-19T09:45:59.829Z"
   },
   {
    "duration": 9,
    "start_time": "2022-05-19T09:46:21.031Z"
   },
   {
    "duration": 7,
    "start_time": "2022-05-19T09:46:27.597Z"
   },
   {
    "duration": 7,
    "start_time": "2022-05-19T09:46:42.532Z"
   },
   {
    "duration": 9,
    "start_time": "2022-05-19T09:47:35.492Z"
   },
   {
    "duration": 16,
    "start_time": "2022-05-19T09:48:02.166Z"
   },
   {
    "duration": 26,
    "start_time": "2022-05-19T09:55:44.058Z"
   },
   {
    "duration": 45,
    "start_time": "2022-05-19T09:56:08.887Z"
   },
   {
    "duration": 17,
    "start_time": "2022-05-19T09:56:09.706Z"
   },
   {
    "duration": 17,
    "start_time": "2022-05-19T09:56:10.417Z"
   },
   {
    "duration": 68,
    "start_time": "2022-05-19T09:56:11.685Z"
   },
   {
    "duration": 14,
    "start_time": "2022-05-19T09:56:14.080Z"
   },
   {
    "duration": 11,
    "start_time": "2022-05-19T09:56:15.505Z"
   },
   {
    "duration": 30,
    "start_time": "2022-05-19T09:56:18.168Z"
   },
   {
    "duration": 47,
    "start_time": "2022-05-19T09:56:35.201Z"
   },
   {
    "duration": 8,
    "start_time": "2022-05-19T09:56:43.379Z"
   },
   {
    "duration": 32,
    "start_time": "2022-05-19T09:56:59.971Z"
   },
   {
    "duration": 27,
    "start_time": "2022-05-19T09:57:05.080Z"
   },
   {
    "duration": 664,
    "start_time": "2022-05-19T09:59:58.521Z"
   },
   {
    "duration": 4,
    "start_time": "2022-05-19T10:01:51.780Z"
   },
   {
    "duration": 5,
    "start_time": "2022-05-19T10:01:58.952Z"
   },
   {
    "duration": 14,
    "start_time": "2022-05-19T10:02:10.399Z"
   },
   {
    "duration": 19,
    "start_time": "2022-05-19T10:02:27.381Z"
   },
   {
    "duration": 13,
    "start_time": "2022-05-19T10:03:25.554Z"
   },
   {
    "duration": 6,
    "start_time": "2022-05-19T10:04:01.030Z"
   },
   {
    "duration": 7,
    "start_time": "2022-05-19T10:04:10.381Z"
   },
   {
    "duration": 5,
    "start_time": "2022-05-19T10:04:20.381Z"
   },
   {
    "duration": 8,
    "start_time": "2022-05-19T10:04:31.830Z"
   },
   {
    "duration": 8,
    "start_time": "2022-05-19T10:06:12.484Z"
   },
   {
    "duration": 10,
    "start_time": "2022-05-19T10:07:08.620Z"
   },
   {
    "duration": 18,
    "start_time": "2022-05-19T10:08:35.282Z"
   },
   {
    "duration": 7,
    "start_time": "2022-05-19T10:09:43.491Z"
   },
   {
    "duration": 6,
    "start_time": "2022-05-19T10:10:49.818Z"
   },
   {
    "duration": 11,
    "start_time": "2022-05-19T10:10:51.703Z"
   },
   {
    "duration": 8,
    "start_time": "2022-05-19T10:10:54.202Z"
   },
   {
    "duration": 21,
    "start_time": "2022-05-19T10:11:09.779Z"
   },
   {
    "duration": 13,
    "start_time": "2022-05-19T10:13:31.772Z"
   },
   {
    "duration": 128,
    "start_time": "2022-05-19T10:13:41.775Z"
   },
   {
    "duration": 336,
    "start_time": "2022-05-19T10:13:59.279Z"
   },
   {
    "duration": 359,
    "start_time": "2022-05-19T10:14:07.584Z"
   },
   {
    "duration": 5,
    "start_time": "2022-05-19T10:14:44.678Z"
   },
   {
    "duration": 13,
    "start_time": "2022-05-19T10:31:36.378Z"
   },
   {
    "duration": 16,
    "start_time": "2022-05-19T10:32:12.922Z"
   },
   {
    "duration": 18,
    "start_time": "2022-05-19T10:32:40.174Z"
   },
   {
    "duration": 18,
    "start_time": "2022-05-19T10:32:47.378Z"
   },
   {
    "duration": 438,
    "start_time": "2022-05-19T10:33:03.026Z"
   },
   {
    "duration": 23,
    "start_time": "2022-05-19T10:33:07.178Z"
   },
   {
    "duration": 6,
    "start_time": "2022-05-19T10:33:23.083Z"
   },
   {
    "duration": 4,
    "start_time": "2022-05-19T10:33:41.977Z"
   },
   {
    "duration": 12,
    "start_time": "2022-05-19T10:34:01.370Z"
   },
   {
    "duration": 13,
    "start_time": "2022-05-19T10:34:11.685Z"
   },
   {
    "duration": 7,
    "start_time": "2022-05-19T10:35:27.985Z"
   },
   {
    "duration": 157,
    "start_time": "2022-05-19T10:35:43.800Z"
   },
   {
    "duration": 136,
    "start_time": "2022-05-19T10:36:05.488Z"
   },
   {
    "duration": 153,
    "start_time": "2022-05-19T10:36:29.183Z"
   },
   {
    "duration": 7,
    "start_time": "2022-05-19T10:36:47.579Z"
   },
   {
    "duration": 2,
    "start_time": "2022-05-19T10:39:42.513Z"
   },
   {
    "duration": 42,
    "start_time": "2022-05-19T10:41:15.273Z"
   },
   {
    "duration": 36,
    "start_time": "2022-05-19T10:42:10.055Z"
   },
   {
    "duration": 3,
    "start_time": "2022-05-19T10:43:03.413Z"
   },
   {
    "duration": 23,
    "start_time": "2022-05-19T10:43:19.221Z"
   },
   {
    "duration": 17,
    "start_time": "2022-05-19T10:43:26.521Z"
   },
   {
    "duration": 30,
    "start_time": "2022-05-19T10:43:29.057Z"
   },
   {
    "duration": 10,
    "start_time": "2022-05-19T10:43:44.006Z"
   },
   {
    "duration": 36,
    "start_time": "2022-05-19T10:43:48.695Z"
   },
   {
    "duration": 18,
    "start_time": "2022-05-19T10:45:33.302Z"
   },
   {
    "duration": 26,
    "start_time": "2022-05-19T10:46:06.797Z"
   },
   {
    "duration": 3,
    "start_time": "2022-05-19T10:47:49.899Z"
   },
   {
    "duration": 11,
    "start_time": "2022-05-19T10:51:31.843Z"
   },
   {
    "duration": 1244,
    "start_time": "2022-05-19T10:51:45.897Z"
   },
   {
    "duration": 50,
    "start_time": "2022-05-19T10:51:47.143Z"
   },
   {
    "duration": 19,
    "start_time": "2022-05-19T10:51:47.195Z"
   },
   {
    "duration": 15,
    "start_time": "2022-05-19T10:51:47.216Z"
   },
   {
    "duration": 59,
    "start_time": "2022-05-19T10:51:47.232Z"
   },
   {
    "duration": 8,
    "start_time": "2022-05-19T10:51:47.294Z"
   },
   {
    "duration": 11,
    "start_time": "2022-05-19T10:51:47.303Z"
   },
   {
    "duration": 13,
    "start_time": "2022-05-19T10:51:47.315Z"
   },
   {
    "duration": 10,
    "start_time": "2022-05-19T10:51:47.330Z"
   },
   {
    "duration": 572,
    "start_time": "2022-05-19T10:51:47.342Z"
   },
   {
    "duration": 10,
    "start_time": "2022-05-19T10:51:47.915Z"
   },
   {
    "duration": 52,
    "start_time": "2022-05-19T10:51:47.927Z"
   },
   {
    "duration": 34,
    "start_time": "2022-05-19T10:51:47.984Z"
   },
   {
    "duration": 10,
    "start_time": "2022-05-19T10:51:48.020Z"
   },
   {
    "duration": 24,
    "start_time": "2022-05-19T10:51:48.032Z"
   },
   {
    "duration": 43,
    "start_time": "2022-05-19T10:51:48.058Z"
   },
   {
    "duration": 344,
    "start_time": "2022-05-19T10:51:48.103Z"
   },
   {
    "duration": 135,
    "start_time": "2022-05-19T10:51:48.448Z"
   },
   {
    "duration": 0,
    "start_time": "2022-05-19T10:51:48.586Z"
   },
   {
    "duration": 0,
    "start_time": "2022-05-19T10:51:48.587Z"
   },
   {
    "duration": 0,
    "start_time": "2022-05-19T10:51:48.588Z"
   },
   {
    "duration": 0,
    "start_time": "2022-05-19T10:51:48.589Z"
   },
   {
    "duration": 0,
    "start_time": "2022-05-19T10:51:48.589Z"
   },
   {
    "duration": 0,
    "start_time": "2022-05-19T10:51:48.590Z"
   },
   {
    "duration": 155,
    "start_time": "2022-05-19T10:51:58.617Z"
   },
   {
    "duration": 111,
    "start_time": "2022-05-19T10:52:18.337Z"
   },
   {
    "duration": 10,
    "start_time": "2022-05-19T10:56:20.246Z"
   },
   {
    "duration": 4,
    "start_time": "2022-05-19T10:56:37.516Z"
   },
   {
    "duration": 33,
    "start_time": "2022-05-19T10:56:42.687Z"
   },
   {
    "duration": 16,
    "start_time": "2022-05-19T10:57:28.942Z"
   },
   {
    "duration": 9,
    "start_time": "2022-05-19T10:57:31.487Z"
   },
   {
    "duration": 15,
    "start_time": "2022-05-19T10:57:36.743Z"
   },
   {
    "duration": 22,
    "start_time": "2022-05-19T10:58:09.094Z"
   },
   {
    "duration": 17,
    "start_time": "2022-05-19T10:58:33.884Z"
   },
   {
    "duration": 21,
    "start_time": "2022-05-19T10:59:23.377Z"
   },
   {
    "duration": 21,
    "start_time": "2022-05-19T11:04:58.203Z"
   },
   {
    "duration": 1349,
    "start_time": "2022-05-19T11:07:03.652Z"
   },
   {
    "duration": 38,
    "start_time": "2022-05-19T11:07:05.003Z"
   },
   {
    "duration": 15,
    "start_time": "2022-05-19T11:07:05.043Z"
   },
   {
    "duration": 47,
    "start_time": "2022-05-19T11:07:05.066Z"
   },
   {
    "duration": 85,
    "start_time": "2022-05-19T11:07:05.116Z"
   },
   {
    "duration": 23,
    "start_time": "2022-05-19T11:07:05.203Z"
   },
   {
    "duration": 77,
    "start_time": "2022-05-19T11:07:05.228Z"
   },
   {
    "duration": 27,
    "start_time": "2022-05-19T11:07:05.306Z"
   },
   {
    "duration": 72,
    "start_time": "2022-05-19T11:07:05.336Z"
   },
   {
    "duration": 569,
    "start_time": "2022-05-19T11:07:05.411Z"
   },
   {
    "duration": 14,
    "start_time": "2022-05-19T11:07:05.982Z"
   },
   {
    "duration": 24,
    "start_time": "2022-05-19T11:07:05.997Z"
   },
   {
    "duration": 73,
    "start_time": "2022-05-19T11:07:06.023Z"
   },
   {
    "duration": 24,
    "start_time": "2022-05-19T11:07:06.098Z"
   },
   {
    "duration": 37,
    "start_time": "2022-05-19T11:07:06.124Z"
   },
   {
    "duration": 42,
    "start_time": "2022-05-19T11:07:06.162Z"
   },
   {
    "duration": 349,
    "start_time": "2022-05-19T11:07:06.206Z"
   },
   {
    "duration": 157,
    "start_time": "2022-05-19T11:07:06.557Z"
   },
   {
    "duration": 124,
    "start_time": "2022-05-19T11:07:06.716Z"
   },
   {
    "duration": 45,
    "start_time": "2022-05-19T11:07:06.842Z"
   },
   {
    "duration": 129,
    "start_time": "2022-05-19T11:07:06.889Z"
   },
   {
    "duration": 5,
    "start_time": "2022-05-19T11:07:07.020Z"
   },
   {
    "duration": 1192,
    "start_time": "2022-05-19T11:07:07.027Z"
   },
   {
    "duration": 358,
    "start_time": "2022-05-19T11:07:08.221Z"
   },
   {
    "duration": 5,
    "start_time": "2022-05-19T11:08:07.381Z"
   },
   {
    "duration": 922,
    "start_time": "2022-05-19T11:08:18.000Z"
   },
   {
    "duration": 913,
    "start_time": "2022-05-19T11:08:42.201Z"
   },
   {
    "duration": 41,
    "start_time": "2022-05-19T11:10:06.742Z"
   },
   {
    "duration": 11,
    "start_time": "2022-05-19T11:10:16.131Z"
   },
   {
    "duration": 4,
    "start_time": "2022-05-19T11:10:32.241Z"
   },
   {
    "duration": 16470,
    "start_time": "2022-05-19T11:10:36.700Z"
   },
   {
    "duration": 3,
    "start_time": "2022-05-19T11:11:26.866Z"
   },
   {
    "duration": 180,
    "start_time": "2022-05-19T11:11:39.404Z"
   },
   {
    "duration": 139,
    "start_time": "2022-05-19T11:12:30.906Z"
   },
   {
    "duration": 160,
    "start_time": "2022-05-19T11:12:40.545Z"
   },
   {
    "duration": 141,
    "start_time": "2022-05-19T11:12:50.801Z"
   },
   {
    "duration": 1420,
    "start_time": "2022-05-19T11:16:20.544Z"
   },
   {
    "duration": 49,
    "start_time": "2022-05-19T11:16:21.973Z"
   },
   {
    "duration": 16,
    "start_time": "2022-05-19T11:16:22.024Z"
   },
   {
    "duration": 24,
    "start_time": "2022-05-19T11:16:22.042Z"
   },
   {
    "duration": 75,
    "start_time": "2022-05-19T11:16:22.068Z"
   },
   {
    "duration": 8,
    "start_time": "2022-05-19T11:16:22.145Z"
   },
   {
    "duration": 40,
    "start_time": "2022-05-19T11:16:22.154Z"
   },
   {
    "duration": 19,
    "start_time": "2022-05-19T11:16:22.197Z"
   },
   {
    "duration": 16,
    "start_time": "2022-05-19T11:16:22.217Z"
   },
   {
    "duration": 564,
    "start_time": "2022-05-19T11:16:22.235Z"
   },
   {
    "duration": 9,
    "start_time": "2022-05-19T11:16:22.801Z"
   },
   {
    "duration": 12,
    "start_time": "2022-05-19T11:16:22.811Z"
   },
   {
    "duration": 19,
    "start_time": "2022-05-19T11:16:22.824Z"
   },
   {
    "duration": 22,
    "start_time": "2022-05-19T11:16:22.845Z"
   },
   {
    "duration": 31,
    "start_time": "2022-05-19T11:16:22.875Z"
   },
   {
    "duration": 12,
    "start_time": "2022-05-19T11:16:22.908Z"
   },
   {
    "duration": 333,
    "start_time": "2022-05-19T11:16:22.921Z"
   },
   {
    "duration": 162,
    "start_time": "2022-05-19T11:16:23.258Z"
   },
   {
    "duration": 127,
    "start_time": "2022-05-19T11:16:23.421Z"
   },
   {
    "duration": 31,
    "start_time": "2022-05-19T11:16:23.550Z"
   },
   {
    "duration": 153,
    "start_time": "2022-05-19T11:16:23.582Z"
   },
   {
    "duration": 5,
    "start_time": "2022-05-19T11:16:23.736Z"
   },
   {
    "duration": 938,
    "start_time": "2022-05-19T11:16:23.743Z"
   },
   {
    "duration": 16683,
    "start_time": "2022-05-19T11:16:24.682Z"
   },
   {
    "duration": 6,
    "start_time": "2022-05-19T11:16:41.372Z"
   },
   {
    "duration": 195,
    "start_time": "2022-05-19T11:16:41.380Z"
   },
   {
    "duration": 131,
    "start_time": "2022-05-19T11:16:41.583Z"
   },
   {
    "duration": 8956,
    "start_time": "2022-05-19T11:16:41.718Z"
   },
   {
    "duration": 174,
    "start_time": "2022-05-19T11:20:34.922Z"
   },
   {
    "duration": 7,
    "start_time": "2022-05-19T11:20:50.993Z"
   },
   {
    "duration": 8,
    "start_time": "2022-05-19T11:20:54.618Z"
   },
   {
    "duration": 2,
    "start_time": "2022-05-19T11:31:57.093Z"
   },
   {
    "duration": 353,
    "start_time": "2022-05-19T11:32:32.316Z"
   },
   {
    "duration": 362,
    "start_time": "2022-05-19T11:32:39.253Z"
   },
   {
    "duration": 347,
    "start_time": "2022-05-19T11:32:59.989Z"
   },
   {
    "duration": 3,
    "start_time": "2022-05-19T11:33:06.092Z"
   },
   {
    "duration": 2,
    "start_time": "2022-05-19T11:33:23.389Z"
   },
   {
    "duration": 688,
    "start_time": "2022-05-19T11:34:23.140Z"
   },
   {
    "duration": 11,
    "start_time": "2022-05-19T11:34:47.044Z"
   },
   {
    "duration": 270,
    "start_time": "2022-05-19T11:35:29.868Z"
   },
   {
    "duration": 322,
    "start_time": "2022-05-19T11:35:49.096Z"
   },
   {
    "duration": 1192,
    "start_time": "2022-05-19T11:37:40.271Z"
   },
   {
    "duration": 259,
    "start_time": "2022-05-19T11:37:57.122Z"
   },
   {
    "duration": 18694,
    "start_time": "2022-05-19T11:38:31.211Z"
   },
   {
    "duration": 5,
    "start_time": "2022-05-19T11:41:42.571Z"
   },
   {
    "duration": 4,
    "start_time": "2022-05-19T11:41:56.249Z"
   },
   {
    "duration": 87,
    "start_time": "2022-05-19T11:42:09.355Z"
   },
   {
    "duration": 4,
    "start_time": "2022-05-19T11:42:30.617Z"
   },
   {
    "duration": 203,
    "start_time": "2022-05-19T11:42:34.630Z"
   },
   {
    "duration": 336,
    "start_time": "2022-05-19T11:44:23.113Z"
   },
   {
    "duration": 5,
    "start_time": "2022-05-19T11:45:09.112Z"
   },
   {
    "duration": 321,
    "start_time": "2022-05-19T11:45:16.177Z"
   },
   {
    "duration": 251,
    "start_time": "2022-05-19T11:45:20.296Z"
   },
   {
    "duration": 217,
    "start_time": "2022-05-19T11:45:33.401Z"
   },
   {
    "duration": 1051,
    "start_time": "2022-05-19T11:45:40.312Z"
   },
   {
    "duration": 47,
    "start_time": "2022-05-19T11:47:40.712Z"
   },
   {
    "duration": 53,
    "start_time": "2022-05-19T11:48:22.324Z"
   },
   {
    "duration": 60,
    "start_time": "2022-05-19T11:48:43.903Z"
   },
   {
    "duration": 16,
    "start_time": "2022-05-19T11:48:46.009Z"
   },
   {
    "duration": 343,
    "start_time": "2022-05-19T11:48:49.807Z"
   },
   {
    "duration": 228,
    "start_time": "2022-05-19T11:48:50.959Z"
   },
   {
    "duration": 855,
    "start_time": "2022-05-19T11:48:52.936Z"
   },
   {
    "duration": 4,
    "start_time": "2022-05-19T11:48:58.031Z"
   },
   {
    "duration": 208,
    "start_time": "2022-05-19T11:48:59.318Z"
   },
   {
    "duration": 3256,
    "start_time": "2022-05-19T11:52:48.413Z"
   },
   {
    "duration": 3334,
    "start_time": "2022-05-19T11:53:26.829Z"
   },
   {
    "duration": 9,
    "start_time": "2022-05-19T11:58:44.355Z"
   },
   {
    "duration": 58,
    "start_time": "2022-05-19T11:59:01.890Z"
   },
   {
    "duration": 260,
    "start_time": "2022-05-19T12:00:26.544Z"
   },
   {
    "duration": 5297,
    "start_time": "2022-05-19T12:01:09.402Z"
   },
   {
    "duration": 407,
    "start_time": "2022-05-19T12:04:22.681Z"
   },
   {
    "duration": 4,
    "start_time": "2022-05-19T12:04:58.785Z"
   },
   {
    "duration": 3,
    "start_time": "2022-05-19T12:07:12.247Z"
   },
   {
    "duration": 172,
    "start_time": "2022-05-19T12:07:25.792Z"
   },
   {
    "duration": 2,
    "start_time": "2022-05-19T12:08:40.584Z"
   },
   {
    "duration": 14,
    "start_time": "2022-05-19T12:11:43.676Z"
   },
   {
    "duration": 35,
    "start_time": "2022-05-19T12:12:09.677Z"
   },
   {
    "duration": 3,
    "start_time": "2022-05-19T12:12:13.788Z"
   },
   {
    "duration": 12,
    "start_time": "2022-05-19T12:12:14.788Z"
   },
   {
    "duration": 4,
    "start_time": "2022-05-19T12:12:33.410Z"
   },
   {
    "duration": 4,
    "start_time": "2022-05-19T12:12:37.912Z"
   },
   {
    "duration": 12,
    "start_time": "2022-05-19T12:12:38.500Z"
   },
   {
    "duration": 5,
    "start_time": "2022-05-19T12:13:14.081Z"
   },
   {
    "duration": 12,
    "start_time": "2022-05-19T12:13:16.454Z"
   },
   {
    "duration": 9,
    "start_time": "2022-05-19T12:13:46.563Z"
   },
   {
    "duration": 13,
    "start_time": "2022-05-19T12:13:47.763Z"
   },
   {
    "duration": 11,
    "start_time": "2022-05-19T12:14:48.187Z"
   },
   {
    "duration": 8,
    "start_time": "2022-05-19T12:14:50.235Z"
   },
   {
    "duration": 10,
    "start_time": "2022-05-19T12:15:22.248Z"
   },
   {
    "duration": 55,
    "start_time": "2022-05-19T12:15:34.684Z"
   },
   {
    "duration": 4,
    "start_time": "2022-05-19T12:16:12.023Z"
   },
   {
    "duration": 9,
    "start_time": "2022-05-19T12:16:12.748Z"
   },
   {
    "duration": 3,
    "start_time": "2022-05-19T12:16:22.520Z"
   },
   {
    "duration": 67,
    "start_time": "2022-05-19T12:16:23.010Z"
   },
   {
    "duration": 3,
    "start_time": "2022-05-19T12:16:35.904Z"
   },
   {
    "duration": 9,
    "start_time": "2022-05-19T12:16:37.121Z"
   },
   {
    "duration": 53,
    "start_time": "2022-05-19T12:16:50.090Z"
   },
   {
    "duration": 51,
    "start_time": "2022-05-19T12:17:11.392Z"
   },
   {
    "duration": 48,
    "start_time": "2022-05-19T12:17:42.015Z"
   },
   {
    "duration": 4,
    "start_time": "2022-05-19T12:18:23.415Z"
   },
   {
    "duration": 82,
    "start_time": "2022-05-19T12:18:24.208Z"
   },
   {
    "duration": 66,
    "start_time": "2022-05-19T12:18:26.187Z"
   },
   {
    "duration": 59,
    "start_time": "2022-05-19T12:18:27.080Z"
   },
   {
    "duration": 1270,
    "start_time": "2022-05-19T12:18:42.087Z"
   },
   {
    "duration": 53,
    "start_time": "2022-05-19T12:18:43.359Z"
   },
   {
    "duration": 19,
    "start_time": "2022-05-19T12:18:43.414Z"
   },
   {
    "duration": 11,
    "start_time": "2022-05-19T12:18:43.435Z"
   },
   {
    "duration": 46,
    "start_time": "2022-05-19T12:18:43.448Z"
   },
   {
    "duration": 10,
    "start_time": "2022-05-19T12:18:43.495Z"
   },
   {
    "duration": 9,
    "start_time": "2022-05-19T12:18:43.507Z"
   },
   {
    "duration": 14,
    "start_time": "2022-05-19T12:18:43.518Z"
   },
   {
    "duration": 17,
    "start_time": "2022-05-19T12:18:43.562Z"
   },
   {
    "duration": 539,
    "start_time": "2022-05-19T12:18:43.582Z"
   },
   {
    "duration": 9,
    "start_time": "2022-05-19T12:18:44.123Z"
   },
   {
    "duration": 16,
    "start_time": "2022-05-19T12:18:44.133Z"
   },
   {
    "duration": 17,
    "start_time": "2022-05-19T12:18:44.159Z"
   },
   {
    "duration": 13,
    "start_time": "2022-05-19T12:18:44.178Z"
   },
   {
    "duration": 19,
    "start_time": "2022-05-19T12:18:44.193Z"
   },
   {
    "duration": 10,
    "start_time": "2022-05-19T12:18:44.214Z"
   },
   {
    "duration": 341,
    "start_time": "2022-05-19T12:18:44.226Z"
   },
   {
    "duration": 166,
    "start_time": "2022-05-19T12:18:44.568Z"
   },
   {
    "duration": 115,
    "start_time": "2022-05-19T12:18:44.736Z"
   },
   {
    "duration": 35,
    "start_time": "2022-05-19T12:18:44.853Z"
   },
   {
    "duration": 123,
    "start_time": "2022-05-19T12:18:44.889Z"
   },
   {
    "duration": 5,
    "start_time": "2022-05-19T12:18:45.013Z"
   },
   {
    "duration": 903,
    "start_time": "2022-05-19T12:18:45.020Z"
   },
   {
    "duration": 55,
    "start_time": "2022-05-19T12:18:45.925Z"
   },
   {
    "duration": 19348,
    "start_time": "2022-05-19T12:18:45.982Z"
   },
   {
    "duration": 2,
    "start_time": "2022-05-19T12:19:05.332Z"
   },
   {
    "duration": 179,
    "start_time": "2022-05-19T12:19:05.336Z"
   },
   {
    "duration": 126,
    "start_time": "2022-05-19T12:19:05.518Z"
   },
   {
    "duration": 53,
    "start_time": "2022-05-19T12:19:05.645Z"
   },
   {
    "duration": 9175,
    "start_time": "2022-05-19T12:19:05.699Z"
   },
   {
    "duration": 190,
    "start_time": "2022-05-19T12:19:14.876Z"
   },
   {
    "duration": 16,
    "start_time": "2022-05-19T12:19:15.070Z"
   },
   {
    "duration": 427,
    "start_time": "2022-05-19T12:19:15.088Z"
   },
   {
    "duration": 217,
    "start_time": "2022-05-19T12:19:15.517Z"
   },
   {
    "duration": 1027,
    "start_time": "2022-05-19T12:19:15.736Z"
   },
   {
    "duration": 7,
    "start_time": "2022-05-19T12:19:16.765Z"
   },
   {
    "duration": 294,
    "start_time": "2022-05-19T12:19:16.776Z"
   },
   {
    "duration": 3395,
    "start_time": "2022-05-19T12:19:17.075Z"
   },
   {
    "duration": 14,
    "start_time": "2022-05-19T12:19:20.472Z"
   },
   {
    "duration": 256,
    "start_time": "2022-05-19T12:19:20.560Z"
   },
   {
    "duration": 5547,
    "start_time": "2022-05-19T12:19:20.817Z"
   },
   {
    "duration": 4,
    "start_time": "2022-05-19T12:19:26.370Z"
   },
   {
    "duration": 233,
    "start_time": "2022-05-19T12:19:26.376Z"
   },
   {
    "duration": 53,
    "start_time": "2022-05-19T12:19:26.611Z"
   },
   {
    "duration": 116,
    "start_time": "2022-05-19T12:19:26.666Z"
   },
   {
    "duration": 53,
    "start_time": "2022-05-19T12:19:26.784Z"
   },
   {
    "duration": 61,
    "start_time": "2022-05-19T12:19:26.838Z"
   },
   {
    "duration": 59,
    "start_time": "2022-05-19T12:19:26.901Z"
   },
   {
    "duration": 5,
    "start_time": "2022-05-19T12:29:50.207Z"
   },
   {
    "duration": 4,
    "start_time": "2022-05-19T12:36:33.915Z"
   },
   {
    "duration": 58,
    "start_time": "2022-05-19T12:36:40.378Z"
   },
   {
    "duration": 46,
    "start_time": "2022-05-19T12:36:41.883Z"
   },
   {
    "duration": 46,
    "start_time": "2022-05-19T12:36:42.793Z"
   },
   {
    "duration": 5,
    "start_time": "2022-05-19T12:40:32.572Z"
   },
   {
    "duration": 124,
    "start_time": "2022-05-19T12:40:34.152Z"
   },
   {
    "duration": 5,
    "start_time": "2022-05-19T12:40:47.249Z"
   },
   {
    "duration": 4,
    "start_time": "2022-05-19T12:40:52.473Z"
   },
   {
    "duration": 103,
    "start_time": "2022-05-19T12:40:53.087Z"
   },
   {
    "duration": 9,
    "start_time": "2022-05-19T12:41:58.153Z"
   },
   {
    "duration": 59,
    "start_time": "2022-05-19T12:41:59.744Z"
   },
   {
    "duration": 4,
    "start_time": "2022-05-19T12:42:13.207Z"
   },
   {
    "duration": 54,
    "start_time": "2022-05-19T12:42:13.975Z"
   },
   {
    "duration": 4,
    "start_time": "2022-05-19T12:42:39.254Z"
   },
   {
    "duration": 194,
    "start_time": "2022-05-19T12:42:39.798Z"
   },
   {
    "duration": 139,
    "start_time": "2022-05-19T12:42:45.175Z"
   },
   {
    "duration": 222,
    "start_time": "2022-05-19T12:42:47.422Z"
   },
   {
    "duration": 5,
    "start_time": "2022-05-19T12:43:12.526Z"
   },
   {
    "duration": 146,
    "start_time": "2022-05-19T12:43:13.086Z"
   },
   {
    "duration": 166,
    "start_time": "2022-05-19T12:43:14.158Z"
   },
   {
    "duration": 141,
    "start_time": "2022-05-19T12:43:15.399Z"
   },
   {
    "duration": 141,
    "start_time": "2022-05-19T12:45:02.446Z"
   },
   {
    "duration": 125,
    "start_time": "2022-05-19T12:45:16.582Z"
   },
   {
    "duration": 152,
    "start_time": "2022-05-19T12:45:30.918Z"
   },
   {
    "duration": 167,
    "start_time": "2022-05-19T12:45:41.638Z"
   },
   {
    "duration": 147,
    "start_time": "2022-05-19T12:45:48.478Z"
   },
   {
    "duration": 162,
    "start_time": "2022-05-19T12:46:14.275Z"
   },
   {
    "duration": 164,
    "start_time": "2022-05-19T12:46:47.013Z"
   },
   {
    "duration": 1578,
    "start_time": "2022-05-20T12:17:42.029Z"
   },
   {
    "duration": 58,
    "start_time": "2022-05-20T12:17:46.537Z"
   },
   {
    "duration": 17,
    "start_time": "2022-05-20T12:17:47.503Z"
   },
   {
    "duration": 13,
    "start_time": "2022-05-20T12:17:48.383Z"
   },
   {
    "duration": 44,
    "start_time": "2022-05-20T12:17:49.426Z"
   },
   {
    "duration": 8,
    "start_time": "2022-05-20T12:17:51.417Z"
   },
   {
    "duration": 8,
    "start_time": "2022-05-20T12:17:52.688Z"
   },
   {
    "duration": 15,
    "start_time": "2022-05-20T12:17:54.338Z"
   },
   {
    "duration": 14,
    "start_time": "2022-05-20T12:17:59.257Z"
   },
   {
    "duration": 561,
    "start_time": "2022-05-20T12:18:01.529Z"
   },
   {
    "duration": 9,
    "start_time": "2022-05-20T12:18:04.388Z"
   },
   {
    "duration": 7,
    "start_time": "2022-05-20T12:18:04.893Z"
   },
   {
    "duration": 9,
    "start_time": "2022-05-20T12:18:06.121Z"
   },
   {
    "duration": 6,
    "start_time": "2022-05-20T12:18:06.633Z"
   },
   {
    "duration": 11,
    "start_time": "2022-05-20T12:18:10.714Z"
   },
   {
    "duration": 11,
    "start_time": "2022-05-20T12:18:13.258Z"
   },
   {
    "duration": 362,
    "start_time": "2022-05-20T12:18:14.392Z"
   },
   {
    "duration": 173,
    "start_time": "2022-05-20T12:18:18.291Z"
   },
   {
    "duration": 125,
    "start_time": "2022-05-20T12:18:19.265Z"
   },
   {
    "duration": 240,
    "start_time": "2022-05-20T12:18:20.337Z"
   },
   {
    "duration": 308,
    "start_time": "2022-05-20T12:19:16.492Z"
   },
   {
    "duration": 28,
    "start_time": "2022-05-20T12:19:18.209Z"
   },
   {
    "duration": 117,
    "start_time": "2022-05-20T12:19:32.336Z"
   },
   {
    "duration": 8,
    "start_time": "2022-05-20T12:19:33.433Z"
   },
   {
    "duration": 1427,
    "start_time": "2022-05-20T12:19:37.864Z"
   },
   {
    "duration": 76,
    "start_time": "2022-05-20T12:19:45.593Z"
   },
   {
    "duration": 22504,
    "start_time": "2022-05-20T12:19:47.694Z"
   },
   {
    "duration": 4,
    "start_time": "2022-05-20T12:20:15.137Z"
   },
   {
    "duration": 300,
    "start_time": "2022-05-20T12:20:17.023Z"
   },
   {
    "duration": 206,
    "start_time": "2022-05-20T12:20:19.041Z"
   },
   {
    "duration": 87,
    "start_time": "2022-05-20T12:20:21.012Z"
   },
   {
    "duration": 4,
    "start_time": "2022-05-20T12:20:26.263Z"
   },
   {
    "duration": 257,
    "start_time": "2022-05-20T12:20:26.707Z"
   },
   {
    "duration": 249,
    "start_time": "2022-05-20T12:20:28.832Z"
   },
   {
    "duration": 3,
    "start_time": "2022-05-20T12:20:33.415Z"
   },
   {
    "duration": 255,
    "start_time": "2022-05-20T12:20:34.195Z"
   },
   {
    "duration": 273,
    "start_time": "2022-05-20T12:20:37.440Z"
   },
   {
    "duration": 62,
    "start_time": "2022-05-20T12:20:40.554Z"
   },
   {
    "duration": 3,
    "start_time": "2022-05-20T12:20:45.462Z"
   },
   {
    "duration": 384,
    "start_time": "2022-05-20T12:20:46.111Z"
   },
   {
    "duration": 238,
    "start_time": "2022-05-20T12:20:46.656Z"
   },
   {
    "duration": 55,
    "start_time": "2022-05-20T12:20:47.639Z"
   },
   {
    "duration": 11566,
    "start_time": "2022-05-20T12:20:49.687Z"
   },
   {
    "duration": 100,
    "start_time": "2022-05-20T12:21:01.344Z"
   },
   {
    "duration": 7,
    "start_time": "2022-05-20T12:21:07.002Z"
   },
   {
    "duration": 426,
    "start_time": "2022-05-20T12:21:12.023Z"
   },
   {
    "duration": 190,
    "start_time": "2022-05-20T12:21:17.609Z"
   },
   {
    "duration": 1042,
    "start_time": "2022-05-20T12:21:20.199Z"
   },
   {
    "duration": 4,
    "start_time": "2022-05-20T12:21:22.787Z"
   },
   {
    "duration": 167,
    "start_time": "2022-05-20T12:21:23.406Z"
   },
   {
    "duration": 3451,
    "start_time": "2022-05-20T12:21:26.194Z"
   },
   {
    "duration": 4,
    "start_time": "2022-05-20T12:21:32.584Z"
   },
   {
    "duration": 211,
    "start_time": "2022-05-20T12:21:36.238Z"
   },
   {
    "duration": 4469,
    "start_time": "2022-05-20T12:21:37.158Z"
   },
   {
    "duration": 94,
    "start_time": "2022-05-20T12:21:41.633Z"
   },
   {
    "duration": 76,
    "start_time": "2022-05-20T12:21:43.414Z"
   },
   {
    "duration": 2,
    "start_time": "2022-05-20T12:21:44.198Z"
   },
   {
    "duration": 6,
    "start_time": "2022-05-20T12:21:46.295Z"
   },
   {
    "duration": 177,
    "start_time": "2022-05-20T12:21:47.223Z"
   },
   {
    "duration": 154,
    "start_time": "2022-05-20T12:21:48.215Z"
   },
   {
    "duration": 156,
    "start_time": "2022-05-20T12:21:53.695Z"
   },
   {
    "duration": 4531,
    "start_time": "2022-05-20T12:23:55.909Z"
   },
   {
    "duration": 5626,
    "start_time": "2022-05-20T12:27:12.515Z"
   },
   {
    "duration": 116,
    "start_time": "2022-05-20T12:32:22.976Z"
   },
   {
    "duration": 4,
    "start_time": "2022-05-20T12:32:39.057Z"
   },
   {
    "duration": 55,
    "start_time": "2022-05-20T12:34:38.517Z"
   },
   {
    "duration": 1338,
    "start_time": "2022-05-20T12:34:55.606Z"
   },
   {
    "duration": 29,
    "start_time": "2022-05-20T12:34:56.946Z"
   },
   {
    "duration": 15,
    "start_time": "2022-05-20T12:34:56.977Z"
   },
   {
    "duration": 28,
    "start_time": "2022-05-20T12:34:56.995Z"
   },
   {
    "duration": 44,
    "start_time": "2022-05-20T12:34:57.025Z"
   },
   {
    "duration": 6,
    "start_time": "2022-05-20T12:34:57.071Z"
   },
   {
    "duration": 11,
    "start_time": "2022-05-20T12:34:57.079Z"
   },
   {
    "duration": 14,
    "start_time": "2022-05-20T12:34:57.091Z"
   },
   {
    "duration": 21,
    "start_time": "2022-05-20T12:34:57.106Z"
   },
   {
    "duration": 504,
    "start_time": "2022-05-20T12:34:57.130Z"
   },
   {
    "duration": 9,
    "start_time": "2022-05-20T12:34:57.635Z"
   },
   {
    "duration": 6,
    "start_time": "2022-05-20T12:34:57.646Z"
   },
   {
    "duration": 12,
    "start_time": "2022-05-20T12:34:57.653Z"
   },
   {
    "duration": 6,
    "start_time": "2022-05-20T12:34:57.667Z"
   },
   {
    "duration": 15,
    "start_time": "2022-05-20T12:34:57.675Z"
   },
   {
    "duration": 35,
    "start_time": "2022-05-20T12:34:57.692Z"
   },
   {
    "duration": 288,
    "start_time": "2022-05-20T12:34:57.729Z"
   },
   {
    "duration": 152,
    "start_time": "2022-05-20T12:34:58.027Z"
   },
   {
    "duration": 62,
    "start_time": "2022-05-20T12:34:58.180Z"
   },
   {
    "duration": 130,
    "start_time": "2022-05-20T12:34:58.244Z"
   },
   {
    "duration": 22,
    "start_time": "2022-05-20T12:34:58.376Z"
   },
   {
    "duration": 115,
    "start_time": "2022-05-20T12:34:58.400Z"
   },
   {
    "duration": 4,
    "start_time": "2022-05-20T12:34:58.517Z"
   },
   {
    "duration": 688,
    "start_time": "2022-05-20T12:34:58.527Z"
   },
   {
    "duration": 40,
    "start_time": "2022-05-20T12:34:59.216Z"
   },
   {
    "duration": 15769,
    "start_time": "2022-05-20T12:34:59.258Z"
   },
   {
    "duration": 4,
    "start_time": "2022-05-20T12:35:15.028Z"
   },
   {
    "duration": 170,
    "start_time": "2022-05-20T12:35:15.035Z"
   },
   {
    "duration": 108,
    "start_time": "2022-05-20T12:35:15.207Z"
   },
   {
    "duration": 48,
    "start_time": "2022-05-20T12:35:15.317Z"
   },
   {
    "duration": 7973,
    "start_time": "2022-05-20T12:35:15.366Z"
   },
   {
    "duration": 287,
    "start_time": "2022-05-20T12:35:23.341Z"
   },
   {
    "duration": 98,
    "start_time": "2022-05-20T12:35:23.631Z"
   },
   {
    "duration": 298,
    "start_time": "2022-05-20T12:35:23.730Z"
   },
   {
    "duration": 192,
    "start_time": "2022-05-20T12:35:24.030Z"
   },
   {
    "duration": 730,
    "start_time": "2022-05-20T12:35:24.223Z"
   },
   {
    "duration": 72,
    "start_time": "2022-05-20T12:35:24.956Z"
   },
   {
    "duration": 258,
    "start_time": "2022-05-20T12:35:25.031Z"
   },
   {
    "duration": 3336,
    "start_time": "2022-05-20T12:35:25.291Z"
   },
   {
    "duration": 7,
    "start_time": "2022-05-20T12:35:28.630Z"
   },
   {
    "duration": 297,
    "start_time": "2022-05-20T12:35:28.638Z"
   },
   {
    "duration": 4614,
    "start_time": "2022-05-20T12:35:28.937Z"
   },
   {
    "duration": 80,
    "start_time": "2022-05-20T12:35:33.553Z"
   },
   {
    "duration": 199,
    "start_time": "2022-05-20T12:35:33.639Z"
   },
   {
    "duration": 4,
    "start_time": "2022-05-20T12:35:33.840Z"
   },
   {
    "duration": 100,
    "start_time": "2022-05-20T12:35:33.934Z"
   },
   {
    "duration": 169,
    "start_time": "2022-05-20T12:35:34.036Z"
   },
   {
    "duration": 176,
    "start_time": "2022-05-20T12:35:34.207Z"
   },
   {
    "duration": 253,
    "start_time": "2022-05-20T12:35:34.385Z"
   },
   {
    "duration": 4686,
    "start_time": "2022-05-20T12:35:34.640Z"
   },
   {
    "duration": 184693,
    "start_time": "2022-05-20T12:35:39.330Z"
   },
   {
    "duration": 27,
    "start_time": "2022-05-20T12:40:35.748Z"
   },
   {
    "duration": 6176,
    "start_time": "2022-05-20T12:41:08.252Z"
   },
   {
    "duration": 5200,
    "start_time": "2022-05-20T12:41:16.828Z"
   },
   {
    "duration": 5738,
    "start_time": "2022-05-20T12:41:43.891Z"
   },
   {
    "duration": 5867,
    "start_time": "2022-05-20T12:41:53.582Z"
   },
   {
    "duration": 5236,
    "start_time": "2022-05-20T12:42:05.692Z"
   },
   {
    "duration": 61102,
    "start_time": "2022-05-20T12:43:04.323Z"
   },
   {
    "duration": 2277,
    "start_time": "2022-05-21T09:19:34.631Z"
   },
   {
    "duration": 356,
    "start_time": "2022-05-21T09:19:36.910Z"
   },
   {
    "duration": 18,
    "start_time": "2022-05-21T09:19:37.267Z"
   },
   {
    "duration": 13,
    "start_time": "2022-05-21T09:19:37.287Z"
   },
   {
    "duration": 46,
    "start_time": "2022-05-21T09:19:37.676Z"
   },
   {
    "duration": 10,
    "start_time": "2022-05-21T09:20:18.019Z"
   },
   {
    "duration": 11,
    "start_time": "2022-05-21T09:20:18.569Z"
   },
   {
    "duration": 16,
    "start_time": "2022-05-21T09:20:19.810Z"
   },
   {
    "duration": 12,
    "start_time": "2022-05-21T09:20:20.066Z"
   },
   {
    "duration": 553,
    "start_time": "2022-05-21T09:20:21.928Z"
   },
   {
    "duration": 8,
    "start_time": "2022-05-21T09:20:23.536Z"
   },
   {
    "duration": 9,
    "start_time": "2022-05-21T09:20:23.830Z"
   },
   {
    "duration": 9,
    "start_time": "2022-05-21T09:20:24.069Z"
   },
   {
    "duration": 6,
    "start_time": "2022-05-21T09:20:24.765Z"
   },
   {
    "duration": 14,
    "start_time": "2022-05-21T09:20:25.781Z"
   },
   {
    "duration": 11,
    "start_time": "2022-05-21T09:20:26.471Z"
   },
   {
    "duration": 381,
    "start_time": "2022-05-21T09:20:27.124Z"
   },
   {
    "duration": 175,
    "start_time": "2022-05-21T09:22:22.165Z"
   },
   {
    "duration": 62,
    "start_time": "2022-05-21T09:22:23.799Z"
   },
   {
    "duration": 140,
    "start_time": "2022-05-21T09:22:25.573Z"
   },
   {
    "duration": 28,
    "start_time": "2022-05-21T09:22:26.167Z"
   },
   {
    "duration": 112,
    "start_time": "2022-05-21T09:23:54.033Z"
   },
   {
    "duration": 6,
    "start_time": "2022-05-21T09:23:54.960Z"
   },
   {
    "duration": 25,
    "start_time": "2022-05-21T09:29:03.579Z"
   },
   {
    "duration": 23,
    "start_time": "2022-05-21T09:29:37.082Z"
   },
   {
    "duration": 4,
    "start_time": "2022-05-23T07:00:44.330Z"
   },
   {
    "duration": 235,
    "start_time": "2022-05-23T07:00:45.146Z"
   },
   {
    "duration": 15,
    "start_time": "2022-05-23T07:00:45.628Z"
   },
   {
    "duration": 13,
    "start_time": "2022-05-23T07:00:46.106Z"
   },
   {
    "duration": 42,
    "start_time": "2022-05-23T07:00:46.522Z"
   },
   {
    "duration": 9,
    "start_time": "2022-05-23T07:00:47.785Z"
   },
   {
    "duration": 10,
    "start_time": "2022-05-23T07:00:48.242Z"
   },
   {
    "duration": 254,
    "start_time": "2022-05-23T07:00:50.842Z"
   },
   {
    "duration": 11,
    "start_time": "2022-05-23T07:00:51.381Z"
   },
   {
    "duration": 481,
    "start_time": "2022-05-23T07:00:53.436Z"
   },
   {
    "duration": 9,
    "start_time": "2022-05-23T07:00:55.009Z"
   },
   {
    "duration": 6,
    "start_time": "2022-05-23T07:00:55.478Z"
   },
   {
    "duration": 8,
    "start_time": "2022-05-23T07:00:55.913Z"
   },
   {
    "duration": 5,
    "start_time": "2022-05-23T07:00:56.338Z"
   },
   {
    "duration": 11,
    "start_time": "2022-05-23T07:00:57.673Z"
   },
   {
    "duration": 8,
    "start_time": "2022-05-23T07:00:58.386Z"
   },
   {
    "duration": 357,
    "start_time": "2022-05-23T07:00:59.513Z"
   },
   {
    "duration": 155,
    "start_time": "2022-05-23T07:01:05.780Z"
   },
   {
    "duration": 123,
    "start_time": "2022-05-23T07:01:07.212Z"
   },
   {
    "duration": 10,
    "start_time": "2022-05-23T07:01:15.677Z"
   },
   {
    "duration": 57,
    "start_time": "2022-05-23T07:02:03.800Z"
   },
   {
    "duration": 22,
    "start_time": "2022-05-23T07:02:06.697Z"
   },
   {
    "duration": 135,
    "start_time": "2022-05-23T07:02:47.225Z"
   },
   {
    "duration": 34,
    "start_time": "2022-05-23T07:03:24.689Z"
   },
   {
    "duration": 6,
    "start_time": "2022-05-23T07:03:43.911Z"
   },
   {
    "duration": 3,
    "start_time": "2022-05-23T07:04:14.657Z"
   },
   {
    "duration": 21,
    "start_time": "2022-05-23T07:04:23.496Z"
   },
   {
    "duration": 130,
    "start_time": "2022-05-23T07:04:29.344Z"
   },
   {
    "duration": 4,
    "start_time": "2022-05-23T07:04:30.808Z"
   },
   {
    "duration": 698,
    "start_time": "2022-05-23T07:04:33.632Z"
   },
   {
    "duration": 47,
    "start_time": "2022-05-23T07:04:37.058Z"
   },
   {
    "duration": 16593,
    "start_time": "2022-05-23T07:04:48.800Z"
   },
   {
    "duration": 5,
    "start_time": "2022-05-23T07:07:28.173Z"
   },
   {
    "duration": 1485,
    "start_time": "2022-05-23T07:07:36.572Z"
   },
   {
    "duration": 3,
    "start_time": "2022-05-23T07:07:38.059Z"
   },
   {
    "duration": 52,
    "start_time": "2022-05-23T07:07:38.064Z"
   },
   {
    "duration": 27,
    "start_time": "2022-05-23T07:07:38.119Z"
   },
   {
    "duration": 6,
    "start_time": "2022-05-23T07:07:38.150Z"
   },
   {
    "duration": 14,
    "start_time": "2022-05-23T07:07:38.158Z"
   },
   {
    "duration": 73,
    "start_time": "2022-05-23T07:07:38.174Z"
   },
   {
    "duration": 10,
    "start_time": "2022-05-23T07:07:38.249Z"
   },
   {
    "duration": 15,
    "start_time": "2022-05-23T07:07:38.261Z"
   },
   {
    "duration": 26,
    "start_time": "2022-05-23T07:07:38.278Z"
   },
   {
    "duration": 40,
    "start_time": "2022-05-23T07:07:38.305Z"
   },
   {
    "duration": 540,
    "start_time": "2022-05-23T07:07:38.348Z"
   },
   {
    "duration": 9,
    "start_time": "2022-05-23T07:07:38.890Z"
   },
   {
    "duration": 44,
    "start_time": "2022-05-23T07:07:38.904Z"
   },
   {
    "duration": 14,
    "start_time": "2022-05-23T07:07:38.950Z"
   },
   {
    "duration": 8,
    "start_time": "2022-05-23T07:07:38.966Z"
   },
   {
    "duration": 25,
    "start_time": "2022-05-23T07:07:38.976Z"
   },
   {
    "duration": 13,
    "start_time": "2022-05-23T07:07:39.003Z"
   },
   {
    "duration": 312,
    "start_time": "2022-05-23T07:07:39.043Z"
   },
   {
    "duration": 13,
    "start_time": "2022-05-23T07:07:39.356Z"
   },
   {
    "duration": 158,
    "start_time": "2022-05-23T07:07:39.371Z"
   },
   {
    "duration": 0,
    "start_time": "2022-05-23T07:07:39.532Z"
   },
   {
    "duration": 0,
    "start_time": "2022-05-23T07:07:39.541Z"
   },
   {
    "duration": 0,
    "start_time": "2022-05-23T07:07:39.543Z"
   },
   {
    "duration": 0,
    "start_time": "2022-05-23T07:07:39.545Z"
   },
   {
    "duration": 0,
    "start_time": "2022-05-23T07:07:39.546Z"
   },
   {
    "duration": 0,
    "start_time": "2022-05-23T07:07:39.548Z"
   },
   {
    "duration": 0,
    "start_time": "2022-05-23T07:07:39.549Z"
   },
   {
    "duration": 1,
    "start_time": "2022-05-23T07:07:39.550Z"
   },
   {
    "duration": 0,
    "start_time": "2022-05-23T07:07:39.552Z"
   },
   {
    "duration": 0,
    "start_time": "2022-05-23T07:07:39.553Z"
   },
   {
    "duration": 0,
    "start_time": "2022-05-23T07:07:39.555Z"
   },
   {
    "duration": 0,
    "start_time": "2022-05-23T07:07:39.557Z"
   },
   {
    "duration": 0,
    "start_time": "2022-05-23T07:07:39.558Z"
   },
   {
    "duration": 0,
    "start_time": "2022-05-23T07:07:39.560Z"
   },
   {
    "duration": 0,
    "start_time": "2022-05-23T07:07:39.561Z"
   },
   {
    "duration": 0,
    "start_time": "2022-05-23T07:07:39.563Z"
   },
   {
    "duration": 0,
    "start_time": "2022-05-23T07:07:39.564Z"
   },
   {
    "duration": 0,
    "start_time": "2022-05-23T07:07:39.565Z"
   },
   {
    "duration": 0,
    "start_time": "2022-05-23T07:07:39.566Z"
   },
   {
    "duration": 0,
    "start_time": "2022-05-23T07:07:39.567Z"
   },
   {
    "duration": 0,
    "start_time": "2022-05-23T07:07:39.568Z"
   },
   {
    "duration": 0,
    "start_time": "2022-05-23T07:07:39.569Z"
   },
   {
    "duration": 0,
    "start_time": "2022-05-23T07:07:39.570Z"
   },
   {
    "duration": 0,
    "start_time": "2022-05-23T07:07:39.571Z"
   },
   {
    "duration": 0,
    "start_time": "2022-05-23T07:07:39.572Z"
   },
   {
    "duration": 0,
    "start_time": "2022-05-23T07:07:39.573Z"
   },
   {
    "duration": 0,
    "start_time": "2022-05-23T07:07:39.574Z"
   },
   {
    "duration": 0,
    "start_time": "2022-05-23T07:07:39.575Z"
   },
   {
    "duration": 0,
    "start_time": "2022-05-23T07:07:39.577Z"
   },
   {
    "duration": 0,
    "start_time": "2022-05-23T07:07:39.578Z"
   },
   {
    "duration": 0,
    "start_time": "2022-05-23T07:07:39.579Z"
   },
   {
    "duration": 0,
    "start_time": "2022-05-23T07:07:39.580Z"
   },
   {
    "duration": 33,
    "start_time": "2022-05-23T07:08:35.725Z"
   },
   {
    "duration": 5,
    "start_time": "2022-05-23T07:10:34.882Z"
   },
   {
    "duration": 40,
    "start_time": "2022-05-23T07:11:35.093Z"
   },
   {
    "duration": 5,
    "start_time": "2022-05-23T07:13:25.395Z"
   },
   {
    "duration": 6,
    "start_time": "2022-05-23T07:13:32.635Z"
   },
   {
    "duration": 27,
    "start_time": "2022-05-23T07:13:33.177Z"
   },
   {
    "duration": 34,
    "start_time": "2022-05-23T07:13:54.580Z"
   },
   {
    "duration": 127,
    "start_time": "2022-05-23T07:13:58.531Z"
   },
   {
    "duration": 7,
    "start_time": "2022-05-23T07:14:00.878Z"
   },
   {
    "duration": 53,
    "start_time": "2022-05-23T07:14:19.577Z"
   },
   {
    "duration": 9,
    "start_time": "2022-05-23T07:14:22.616Z"
   },
   {
    "duration": 8133,
    "start_time": "2022-05-23T07:14:23.800Z"
   },
   {
    "duration": 3,
    "start_time": "2022-05-23T07:14:36.120Z"
   },
   {
    "duration": 52,
    "start_time": "2022-05-23T07:14:37.077Z"
   },
   {
    "duration": 14,
    "start_time": "2022-05-23T07:14:39.785Z"
   },
   {
    "duration": 12,
    "start_time": "2022-05-23T07:14:43.878Z"
   },
   {
    "duration": 1587,
    "start_time": "2022-05-23T07:14:49.376Z"
   },
   {
    "duration": 14,
    "start_time": "2022-05-23T07:14:52.370Z"
   },
   {
    "duration": 8,
    "start_time": "2022-05-23T07:14:56.720Z"
   },
   {
    "duration": 7,
    "start_time": "2022-05-23T07:15:40.522Z"
   },
   {
    "duration": 11,
    "start_time": "2022-05-23T07:16:18.156Z"
   },
   {
    "duration": 8,
    "start_time": "2022-05-23T07:16:36.177Z"
   },
   {
    "duration": 20,
    "start_time": "2022-05-23T07:17:40.137Z"
   },
   {
    "duration": 18,
    "start_time": "2022-05-23T07:19:59.563Z"
   },
   {
    "duration": 51,
    "start_time": "2022-05-23T07:20:03.023Z"
   },
   {
    "duration": 84,
    "start_time": "2022-05-23T07:20:05.478Z"
   },
   {
    "duration": 6,
    "start_time": "2022-05-23T07:22:35.661Z"
   },
   {
    "duration": 19,
    "start_time": "2022-05-23T07:22:37.462Z"
   },
   {
    "duration": 697,
    "start_time": "2022-05-23T07:22:48.269Z"
   },
   {
    "duration": 62,
    "start_time": "2022-05-23T07:24:28.746Z"
   },
   {
    "duration": 10,
    "start_time": "2022-05-23T07:27:23.483Z"
   },
   {
    "duration": 5,
    "start_time": "2022-05-23T07:27:30.418Z"
   },
   {
    "duration": 10,
    "start_time": "2022-05-23T07:27:31.291Z"
   },
   {
    "duration": 206,
    "start_time": "2022-05-23T07:27:38.939Z"
   },
   {
    "duration": 3,
    "start_time": "2022-05-23T07:27:54.276Z"
   },
   {
    "duration": 14,
    "start_time": "2022-05-23T07:28:09.618Z"
   },
   {
    "duration": 4,
    "start_time": "2022-05-23T07:28:10.436Z"
   },
   {
    "duration": 6,
    "start_time": "2022-05-23T07:28:10.987Z"
   },
   {
    "duration": 166,
    "start_time": "2022-05-23T07:28:13.617Z"
   },
   {
    "duration": 178,
    "start_time": "2022-05-23T07:28:20.531Z"
   },
   {
    "duration": 164,
    "start_time": "2022-05-23T07:28:22.874Z"
   },
   {
    "duration": 40,
    "start_time": "2022-05-23T07:31:35.590Z"
   },
   {
    "duration": 44,
    "start_time": "2022-05-23T07:32:47.415Z"
   },
   {
    "duration": 576,
    "start_time": "2022-05-23T07:33:42.783Z"
   },
   {
    "duration": 564,
    "start_time": "2022-05-23T07:34:27.382Z"
   },
   {
    "duration": 3,
    "start_time": "2022-05-23T07:37:34.299Z"
   },
   {
    "duration": 6,
    "start_time": "2022-05-23T07:40:14.801Z"
   },
   {
    "duration": 671,
    "start_time": "2022-05-23T07:40:16.300Z"
   },
   {
    "duration": 670,
    "start_time": "2022-05-23T07:40:51.178Z"
   },
   {
    "duration": 1081,
    "start_time": "2022-05-23T07:45:26.962Z"
   },
   {
    "duration": 638,
    "start_time": "2022-05-23T07:45:41.713Z"
   },
   {
    "duration": 23,
    "start_time": "2022-05-23T07:48:16.596Z"
   },
   {
    "duration": 397,
    "start_time": "2022-05-23T07:48:22.849Z"
   },
   {
    "duration": 2,
    "start_time": "2022-05-23T07:50:38.878Z"
   },
   {
    "duration": 1357,
    "start_time": "2022-05-23T07:50:44.405Z"
   },
   {
    "duration": 3,
    "start_time": "2022-05-23T07:50:45.764Z"
   },
   {
    "duration": 43,
    "start_time": "2022-05-23T07:50:45.768Z"
   },
   {
    "duration": 23,
    "start_time": "2022-05-23T07:50:45.814Z"
   },
   {
    "duration": 13,
    "start_time": "2022-05-23T07:50:45.839Z"
   },
   {
    "duration": 16,
    "start_time": "2022-05-23T07:50:45.858Z"
   },
   {
    "duration": 34,
    "start_time": "2022-05-23T07:50:45.876Z"
   },
   {
    "duration": 7,
    "start_time": "2022-05-23T07:50:45.912Z"
   },
   {
    "duration": 24,
    "start_time": "2022-05-23T07:50:45.920Z"
   },
   {
    "duration": 20,
    "start_time": "2022-05-23T07:50:45.948Z"
   },
   {
    "duration": 10,
    "start_time": "2022-05-23T07:50:45.970Z"
   },
   {
    "duration": 578,
    "start_time": "2022-05-23T07:50:45.982Z"
   },
   {
    "duration": 10,
    "start_time": "2022-05-23T07:50:46.561Z"
   },
   {
    "duration": 23,
    "start_time": "2022-05-23T07:50:46.573Z"
   },
   {
    "duration": 10,
    "start_time": "2022-05-23T07:50:46.597Z"
   },
   {
    "duration": 7,
    "start_time": "2022-05-23T07:50:46.609Z"
   },
   {
    "duration": 35,
    "start_time": "2022-05-23T07:50:46.617Z"
   },
   {
    "duration": 18,
    "start_time": "2022-05-23T07:50:46.654Z"
   },
   {
    "duration": 340,
    "start_time": "2022-05-23T07:50:46.674Z"
   },
   {
    "duration": 26,
    "start_time": "2022-05-23T07:50:47.017Z"
   },
   {
    "duration": 26,
    "start_time": "2022-05-23T07:50:47.045Z"
   },
   {
    "duration": 16,
    "start_time": "2022-05-23T07:50:47.074Z"
   },
   {
    "duration": 42,
    "start_time": "2022-05-23T07:50:47.092Z"
   },
   {
    "duration": 32,
    "start_time": "2022-05-23T07:50:47.137Z"
   },
   {
    "duration": 160,
    "start_time": "2022-05-23T07:50:47.172Z"
   },
   {
    "duration": 12,
    "start_time": "2022-05-23T07:50:47.334Z"
   },
   {
    "duration": 51,
    "start_time": "2022-05-23T07:50:47.347Z"
   },
   {
    "duration": 7,
    "start_time": "2022-05-23T07:50:47.402Z"
   },
   {
    "duration": 8483,
    "start_time": "2022-05-23T07:50:47.411Z"
   },
   {
    "duration": 2,
    "start_time": "2022-05-23T07:50:55.896Z"
   },
   {
    "duration": 60,
    "start_time": "2022-05-23T07:50:55.899Z"
   },
   {
    "duration": 13,
    "start_time": "2022-05-23T07:50:55.960Z"
   },
   {
    "duration": 10,
    "start_time": "2022-05-23T07:50:55.975Z"
   },
   {
    "duration": 1471,
    "start_time": "2022-05-23T07:50:55.987Z"
   },
   {
    "duration": 104,
    "start_time": "2022-05-23T07:50:57.542Z"
   },
   {
    "duration": 111,
    "start_time": "2022-05-23T07:50:57.654Z"
   },
   {
    "duration": 19,
    "start_time": "2022-05-23T07:50:57.767Z"
   },
   {
    "duration": 48,
    "start_time": "2022-05-23T07:50:57.787Z"
   },
   {
    "duration": 212,
    "start_time": "2022-05-23T07:50:57.843Z"
   },
   {
    "duration": 4,
    "start_time": "2022-05-23T07:50:58.057Z"
   },
   {
    "duration": 190,
    "start_time": "2022-05-23T07:50:58.063Z"
   },
   {
    "duration": 796,
    "start_time": "2022-05-23T07:50:58.254Z"
   },
   {
    "duration": 10,
    "start_time": "2022-05-23T07:50:59.057Z"
   },
   {
    "duration": 28,
    "start_time": "2022-05-23T07:50:59.142Z"
   },
   {
    "duration": 274,
    "start_time": "2022-05-23T07:50:59.172Z"
   },
   {
    "duration": 3,
    "start_time": "2022-05-23T07:50:59.449Z"
   },
   {
    "duration": 117,
    "start_time": "2022-05-23T07:50:59.454Z"
   },
   {
    "duration": 69,
    "start_time": "2022-05-23T07:50:59.574Z"
   },
   {
    "duration": 108,
    "start_time": "2022-05-23T07:50:59.652Z"
   },
   {
    "duration": 216,
    "start_time": "2022-05-23T07:50:59.762Z"
   },
   {
    "duration": 215,
    "start_time": "2022-05-23T07:50:59.980Z"
   },
   {
    "duration": 294,
    "start_time": "2022-05-23T07:51:00.196Z"
   },
   {
    "duration": 3,
    "start_time": "2022-05-23T07:51:00.492Z"
   },
   {
    "duration": 18,
    "start_time": "2022-05-23T07:51:00.497Z"
   },
   {
    "duration": 1042,
    "start_time": "2022-05-23T07:51:00.517Z"
   },
   {
    "duration": 6,
    "start_time": "2022-05-23T07:55:12.757Z"
   },
   {
    "duration": 1314,
    "start_time": "2022-05-23T07:55:25.001Z"
   },
   {
    "duration": 3,
    "start_time": "2022-05-23T07:55:26.317Z"
   },
   {
    "duration": 47,
    "start_time": "2022-05-23T07:55:26.321Z"
   },
   {
    "duration": 16,
    "start_time": "2022-05-23T07:55:26.370Z"
   },
   {
    "duration": 4,
    "start_time": "2022-05-23T07:55:26.387Z"
   },
   {
    "duration": 13,
    "start_time": "2022-05-23T07:55:26.392Z"
   },
   {
    "duration": 54,
    "start_time": "2022-05-23T07:55:26.407Z"
   },
   {
    "duration": 9,
    "start_time": "2022-05-23T07:55:26.462Z"
   },
   {
    "duration": 9,
    "start_time": "2022-05-23T07:55:26.472Z"
   },
   {
    "duration": 14,
    "start_time": "2022-05-23T07:55:26.484Z"
   },
   {
    "duration": 8,
    "start_time": "2022-05-23T07:55:26.500Z"
   },
   {
    "duration": 23,
    "start_time": "2022-05-23T07:55:26.543Z"
   },
   {
    "duration": 643,
    "start_time": "2022-05-23T07:55:26.567Z"
   },
   {
    "duration": 0,
    "start_time": "2022-05-23T07:55:27.212Z"
   },
   {
    "duration": 0,
    "start_time": "2022-05-23T07:55:27.213Z"
   },
   {
    "duration": 0,
    "start_time": "2022-05-23T07:55:27.215Z"
   },
   {
    "duration": 0,
    "start_time": "2022-05-23T07:55:27.216Z"
   },
   {
    "duration": 0,
    "start_time": "2022-05-23T07:55:27.217Z"
   },
   {
    "duration": 0,
    "start_time": "2022-05-23T07:55:27.218Z"
   },
   {
    "duration": 0,
    "start_time": "2022-05-23T07:55:27.219Z"
   },
   {
    "duration": 0,
    "start_time": "2022-05-23T07:55:27.221Z"
   },
   {
    "duration": 0,
    "start_time": "2022-05-23T07:55:27.222Z"
   },
   {
    "duration": 0,
    "start_time": "2022-05-23T07:55:27.223Z"
   },
   {
    "duration": 0,
    "start_time": "2022-05-23T07:55:27.249Z"
   },
   {
    "duration": 0,
    "start_time": "2022-05-23T07:55:27.253Z"
   },
   {
    "duration": 0,
    "start_time": "2022-05-23T07:55:27.254Z"
   },
   {
    "duration": 0,
    "start_time": "2022-05-23T07:55:27.258Z"
   },
   {
    "duration": 0,
    "start_time": "2022-05-23T07:55:27.261Z"
   },
   {
    "duration": 0,
    "start_time": "2022-05-23T07:55:27.264Z"
   },
   {
    "duration": 0,
    "start_time": "2022-05-23T07:55:27.264Z"
   },
   {
    "duration": 0,
    "start_time": "2022-05-23T07:55:27.266Z"
   },
   {
    "duration": 0,
    "start_time": "2022-05-23T07:55:27.267Z"
   },
   {
    "duration": 0,
    "start_time": "2022-05-23T07:55:27.268Z"
   },
   {
    "duration": 0,
    "start_time": "2022-05-23T07:55:27.269Z"
   },
   {
    "duration": 0,
    "start_time": "2022-05-23T07:55:27.270Z"
   },
   {
    "duration": 0,
    "start_time": "2022-05-23T07:55:27.271Z"
   },
   {
    "duration": 0,
    "start_time": "2022-05-23T07:55:27.271Z"
   },
   {
    "duration": 0,
    "start_time": "2022-05-23T07:55:27.273Z"
   },
   {
    "duration": 0,
    "start_time": "2022-05-23T07:55:27.275Z"
   },
   {
    "duration": 0,
    "start_time": "2022-05-23T07:55:27.279Z"
   },
   {
    "duration": 0,
    "start_time": "2022-05-23T07:55:27.281Z"
   },
   {
    "duration": 0,
    "start_time": "2022-05-23T07:55:27.282Z"
   },
   {
    "duration": 0,
    "start_time": "2022-05-23T07:55:27.284Z"
   },
   {
    "duration": 0,
    "start_time": "2022-05-23T07:55:27.285Z"
   },
   {
    "duration": 0,
    "start_time": "2022-05-23T07:55:27.287Z"
   },
   {
    "duration": 0,
    "start_time": "2022-05-23T07:55:27.289Z"
   },
   {
    "duration": 0,
    "start_time": "2022-05-23T07:55:27.290Z"
   },
   {
    "duration": 0,
    "start_time": "2022-05-23T07:55:27.344Z"
   },
   {
    "duration": 0,
    "start_time": "2022-05-23T07:55:27.349Z"
   },
   {
    "duration": 0,
    "start_time": "2022-05-23T07:55:27.350Z"
   },
   {
    "duration": 1,
    "start_time": "2022-05-23T07:55:27.350Z"
   },
   {
    "duration": 0,
    "start_time": "2022-05-23T07:55:27.354Z"
   },
   {
    "duration": 0,
    "start_time": "2022-05-23T07:55:27.355Z"
   },
   {
    "duration": 0,
    "start_time": "2022-05-23T07:55:27.356Z"
   },
   {
    "duration": 0,
    "start_time": "2022-05-23T07:55:27.356Z"
   },
   {
    "duration": 0,
    "start_time": "2022-05-23T07:55:27.357Z"
   },
   {
    "duration": 1369,
    "start_time": "2022-05-23T07:56:33.341Z"
   },
   {
    "duration": 2,
    "start_time": "2022-05-23T07:56:34.712Z"
   },
   {
    "duration": 49,
    "start_time": "2022-05-23T07:56:34.716Z"
   },
   {
    "duration": 19,
    "start_time": "2022-05-23T07:56:34.768Z"
   },
   {
    "duration": 7,
    "start_time": "2022-05-23T07:56:34.789Z"
   },
   {
    "duration": 20,
    "start_time": "2022-05-23T07:56:34.798Z"
   },
   {
    "duration": 57,
    "start_time": "2022-05-23T07:56:34.820Z"
   },
   {
    "duration": 7,
    "start_time": "2022-05-23T07:56:34.879Z"
   },
   {
    "duration": 8,
    "start_time": "2022-05-23T07:56:34.887Z"
   },
   {
    "duration": 15,
    "start_time": "2022-05-23T07:56:34.898Z"
   },
   {
    "duration": 38,
    "start_time": "2022-05-23T07:56:34.914Z"
   },
   {
    "duration": 13,
    "start_time": "2022-05-23T07:56:34.961Z"
   },
   {
    "duration": 603,
    "start_time": "2022-05-23T07:56:34.976Z"
   },
   {
    "duration": 0,
    "start_time": "2022-05-23T07:56:35.582Z"
   },
   {
    "duration": 0,
    "start_time": "2022-05-23T07:56:35.583Z"
   },
   {
    "duration": 0,
    "start_time": "2022-05-23T07:56:35.585Z"
   },
   {
    "duration": 0,
    "start_time": "2022-05-23T07:56:35.587Z"
   },
   {
    "duration": 0,
    "start_time": "2022-05-23T07:56:35.589Z"
   },
   {
    "duration": 0,
    "start_time": "2022-05-23T07:56:35.590Z"
   },
   {
    "duration": 0,
    "start_time": "2022-05-23T07:56:35.592Z"
   },
   {
    "duration": 0,
    "start_time": "2022-05-23T07:56:35.593Z"
   },
   {
    "duration": 0,
    "start_time": "2022-05-23T07:56:35.594Z"
   },
   {
    "duration": 0,
    "start_time": "2022-05-23T07:56:35.596Z"
   },
   {
    "duration": 0,
    "start_time": "2022-05-23T07:56:35.598Z"
   },
   {
    "duration": 0,
    "start_time": "2022-05-23T07:56:35.599Z"
   },
   {
    "duration": 0,
    "start_time": "2022-05-23T07:56:35.601Z"
   },
   {
    "duration": 0,
    "start_time": "2022-05-23T07:56:35.602Z"
   },
   {
    "duration": 0,
    "start_time": "2022-05-23T07:56:35.604Z"
   },
   {
    "duration": 0,
    "start_time": "2022-05-23T07:56:35.648Z"
   },
   {
    "duration": 0,
    "start_time": "2022-05-23T07:56:35.649Z"
   },
   {
    "duration": 0,
    "start_time": "2022-05-23T07:56:35.650Z"
   },
   {
    "duration": 0,
    "start_time": "2022-05-23T07:56:35.653Z"
   },
   {
    "duration": 0,
    "start_time": "2022-05-23T07:56:35.653Z"
   },
   {
    "duration": 0,
    "start_time": "2022-05-23T07:56:35.654Z"
   },
   {
    "duration": 0,
    "start_time": "2022-05-23T07:56:35.657Z"
   },
   {
    "duration": 0,
    "start_time": "2022-05-23T07:56:35.658Z"
   },
   {
    "duration": 0,
    "start_time": "2022-05-23T07:56:35.660Z"
   },
   {
    "duration": 0,
    "start_time": "2022-05-23T07:56:35.662Z"
   },
   {
    "duration": 0,
    "start_time": "2022-05-23T07:56:35.664Z"
   },
   {
    "duration": 0,
    "start_time": "2022-05-23T07:56:35.665Z"
   },
   {
    "duration": 0,
    "start_time": "2022-05-23T07:56:35.666Z"
   },
   {
    "duration": 0,
    "start_time": "2022-05-23T07:56:35.667Z"
   },
   {
    "duration": 0,
    "start_time": "2022-05-23T07:56:35.669Z"
   },
   {
    "duration": 0,
    "start_time": "2022-05-23T07:56:35.670Z"
   },
   {
    "duration": 0,
    "start_time": "2022-05-23T07:56:35.672Z"
   },
   {
    "duration": 0,
    "start_time": "2022-05-23T07:56:35.673Z"
   },
   {
    "duration": 0,
    "start_time": "2022-05-23T07:56:35.674Z"
   },
   {
    "duration": 0,
    "start_time": "2022-05-23T07:56:35.675Z"
   },
   {
    "duration": 0,
    "start_time": "2022-05-23T07:56:35.676Z"
   },
   {
    "duration": 0,
    "start_time": "2022-05-23T07:56:35.677Z"
   },
   {
    "duration": 0,
    "start_time": "2022-05-23T07:56:35.679Z"
   },
   {
    "duration": 0,
    "start_time": "2022-05-23T07:56:35.680Z"
   },
   {
    "duration": 0,
    "start_time": "2022-05-23T07:56:35.681Z"
   },
   {
    "duration": 0,
    "start_time": "2022-05-23T07:56:35.683Z"
   },
   {
    "duration": 0,
    "start_time": "2022-05-23T07:56:35.684Z"
   },
   {
    "duration": 0,
    "start_time": "2022-05-23T07:56:35.743Z"
   },
   {
    "duration": 10,
    "start_time": "2022-05-23T07:56:51.691Z"
   },
   {
    "duration": 9,
    "start_time": "2022-05-23T07:56:53.675Z"
   },
   {
    "duration": 10,
    "start_time": "2022-05-23T07:56:54.210Z"
   },
   {
    "duration": 8,
    "start_time": "2022-05-23T07:57:03.106Z"
   },
   {
    "duration": 17,
    "start_time": "2022-05-23T07:57:06.351Z"
   },
   {
    "duration": 9,
    "start_time": "2022-05-23T07:57:11.363Z"
   },
   {
    "duration": 330,
    "start_time": "2022-05-23T07:57:15.068Z"
   },
   {
    "duration": 16,
    "start_time": "2022-05-23T07:57:24.760Z"
   },
   {
    "duration": 32,
    "start_time": "2022-05-23T07:57:26.714Z"
   },
   {
    "duration": 5,
    "start_time": "2022-05-23T07:57:43.899Z"
   },
   {
    "duration": 22,
    "start_time": "2022-05-23T07:57:44.829Z"
   },
   {
    "duration": 14,
    "start_time": "2022-05-23T07:57:46.594Z"
   },
   {
    "duration": 20,
    "start_time": "2022-05-23T07:59:30.313Z"
   },
   {
    "duration": 16,
    "start_time": "2022-05-23T07:59:55.267Z"
   },
   {
    "duration": 3,
    "start_time": "2022-05-23T07:59:59.666Z"
   },
   {
    "duration": 8,
    "start_time": "2022-05-23T08:00:03.683Z"
   },
   {
    "duration": 19,
    "start_time": "2022-05-23T08:00:17.853Z"
   },
   {
    "duration": 7,
    "start_time": "2022-05-23T08:00:20.199Z"
   },
   {
    "duration": 18,
    "start_time": "2022-05-23T08:01:17.458Z"
   },
   {
    "duration": 11,
    "start_time": "2022-05-23T08:02:35.179Z"
   },
   {
    "duration": 7,
    "start_time": "2022-05-23T08:03:01.234Z"
   },
   {
    "duration": 23,
    "start_time": "2022-05-23T08:03:05.479Z"
   },
   {
    "duration": 7,
    "start_time": "2022-05-23T08:03:30.206Z"
   },
   {
    "duration": 22,
    "start_time": "2022-05-23T08:03:36.165Z"
   },
   {
    "duration": 19,
    "start_time": "2022-05-23T08:03:46.470Z"
   },
   {
    "duration": 16,
    "start_time": "2022-05-23T08:05:37.206Z"
   },
   {
    "duration": 1363,
    "start_time": "2022-05-23T08:05:56.303Z"
   },
   {
    "duration": 3,
    "start_time": "2022-05-23T08:05:57.668Z"
   },
   {
    "duration": 43,
    "start_time": "2022-05-23T08:05:57.672Z"
   },
   {
    "duration": 19,
    "start_time": "2022-05-23T08:05:57.718Z"
   },
   {
    "duration": 4,
    "start_time": "2022-05-23T08:05:57.739Z"
   },
   {
    "duration": 15,
    "start_time": "2022-05-23T08:05:57.745Z"
   },
   {
    "duration": 34,
    "start_time": "2022-05-23T08:05:57.762Z"
   },
   {
    "duration": 6,
    "start_time": "2022-05-23T08:05:57.797Z"
   },
   {
    "duration": 40,
    "start_time": "2022-05-23T08:05:57.805Z"
   },
   {
    "duration": 4,
    "start_time": "2022-05-23T08:05:57.848Z"
   },
   {
    "duration": 9,
    "start_time": "2022-05-23T08:05:57.854Z"
   },
   {
    "duration": 11,
    "start_time": "2022-05-23T08:05:57.865Z"
   },
   {
    "duration": 569,
    "start_time": "2022-05-23T08:05:57.878Z"
   },
   {
    "duration": 9,
    "start_time": "2022-05-23T08:05:58.448Z"
   },
   {
    "duration": 34,
    "start_time": "2022-05-23T08:05:58.458Z"
   },
   {
    "duration": 9,
    "start_time": "2022-05-23T08:05:58.493Z"
   },
   {
    "duration": 7,
    "start_time": "2022-05-23T08:05:58.503Z"
   },
   {
    "duration": 14,
    "start_time": "2022-05-23T08:05:58.511Z"
   },
   {
    "duration": 23,
    "start_time": "2022-05-23T08:05:58.527Z"
   },
   {
    "duration": 300,
    "start_time": "2022-05-23T08:05:58.552Z"
   },
   {
    "duration": 10,
    "start_time": "2022-05-23T08:05:58.854Z"
   },
   {
    "duration": 20,
    "start_time": "2022-05-23T08:05:58.866Z"
   },
   {
    "duration": 5,
    "start_time": "2022-05-23T08:05:58.887Z"
   },
   {
    "duration": 52,
    "start_time": "2022-05-23T08:05:58.893Z"
   },
   {
    "duration": 22,
    "start_time": "2022-05-23T08:05:58.947Z"
   },
   {
    "duration": 128,
    "start_time": "2022-05-23T08:05:58.971Z"
   },
   {
    "duration": 9,
    "start_time": "2022-05-23T08:05:59.101Z"
   },
   {
    "duration": 155,
    "start_time": "2022-05-23T08:05:59.114Z"
   },
   {
    "duration": 0,
    "start_time": "2022-05-23T08:05:59.271Z"
   },
   {
    "duration": 0,
    "start_time": "2022-05-23T08:05:59.273Z"
   },
   {
    "duration": 0,
    "start_time": "2022-05-23T08:05:59.274Z"
   },
   {
    "duration": 0,
    "start_time": "2022-05-23T08:05:59.276Z"
   },
   {
    "duration": 0,
    "start_time": "2022-05-23T08:05:59.277Z"
   },
   {
    "duration": 0,
    "start_time": "2022-05-23T08:05:59.278Z"
   },
   {
    "duration": 0,
    "start_time": "2022-05-23T08:05:59.280Z"
   },
   {
    "duration": 0,
    "start_time": "2022-05-23T08:05:59.281Z"
   },
   {
    "duration": 0,
    "start_time": "2022-05-23T08:05:59.284Z"
   },
   {
    "duration": 0,
    "start_time": "2022-05-23T08:05:59.285Z"
   },
   {
    "duration": 0,
    "start_time": "2022-05-23T08:05:59.286Z"
   },
   {
    "duration": 0,
    "start_time": "2022-05-23T08:05:59.288Z"
   },
   {
    "duration": 0,
    "start_time": "2022-05-23T08:05:59.289Z"
   },
   {
    "duration": 0,
    "start_time": "2022-05-23T08:05:59.290Z"
   },
   {
    "duration": 0,
    "start_time": "2022-05-23T08:05:59.292Z"
   },
   {
    "duration": 0,
    "start_time": "2022-05-23T08:05:59.293Z"
   },
   {
    "duration": 1,
    "start_time": "2022-05-23T08:05:59.294Z"
   },
   {
    "duration": 0,
    "start_time": "2022-05-23T08:05:59.296Z"
   },
   {
    "duration": 0,
    "start_time": "2022-05-23T08:05:59.298Z"
   },
   {
    "duration": 0,
    "start_time": "2022-05-23T08:05:59.299Z"
   },
   {
    "duration": 0,
    "start_time": "2022-05-23T08:05:59.342Z"
   },
   {
    "duration": 0,
    "start_time": "2022-05-23T08:05:59.343Z"
   },
   {
    "duration": 0,
    "start_time": "2022-05-23T08:05:59.344Z"
   },
   {
    "duration": 0,
    "start_time": "2022-05-23T08:05:59.346Z"
   },
   {
    "duration": 0,
    "start_time": "2022-05-23T08:05:59.347Z"
   },
   {
    "duration": 0,
    "start_time": "2022-05-23T08:05:59.348Z"
   },
   {
    "duration": 0,
    "start_time": "2022-05-23T08:05:59.349Z"
   },
   {
    "duration": 0,
    "start_time": "2022-05-23T08:05:59.350Z"
   },
   {
    "duration": 1368,
    "start_time": "2022-05-23T08:06:23.972Z"
   },
   {
    "duration": 4,
    "start_time": "2022-05-23T08:06:25.342Z"
   },
   {
    "duration": 44,
    "start_time": "2022-05-23T08:06:25.347Z"
   },
   {
    "duration": 19,
    "start_time": "2022-05-23T08:06:25.393Z"
   },
   {
    "duration": 4,
    "start_time": "2022-05-23T08:06:25.413Z"
   },
   {
    "duration": 23,
    "start_time": "2022-05-23T08:06:25.419Z"
   },
   {
    "duration": 38,
    "start_time": "2022-05-23T08:06:25.444Z"
   },
   {
    "duration": 7,
    "start_time": "2022-05-23T08:06:25.483Z"
   },
   {
    "duration": 9,
    "start_time": "2022-05-23T08:06:25.491Z"
   },
   {
    "duration": 39,
    "start_time": "2022-05-23T08:06:25.502Z"
   },
   {
    "duration": 7,
    "start_time": "2022-05-23T08:06:25.543Z"
   },
   {
    "duration": 14,
    "start_time": "2022-05-23T08:06:25.552Z"
   },
   {
    "duration": 541,
    "start_time": "2022-05-23T08:06:25.568Z"
   },
   {
    "duration": 10,
    "start_time": "2022-05-23T08:06:26.111Z"
   },
   {
    "duration": 23,
    "start_time": "2022-05-23T08:06:26.123Z"
   },
   {
    "duration": 8,
    "start_time": "2022-05-23T08:06:26.148Z"
   },
   {
    "duration": 6,
    "start_time": "2022-05-23T08:06:26.157Z"
   },
   {
    "duration": 15,
    "start_time": "2022-05-23T08:06:26.165Z"
   },
   {
    "duration": 9,
    "start_time": "2022-05-23T08:06:26.182Z"
   },
   {
    "duration": 338,
    "start_time": "2022-05-23T08:06:26.192Z"
   },
   {
    "duration": 14,
    "start_time": "2022-05-23T08:06:26.531Z"
   },
   {
    "duration": 18,
    "start_time": "2022-05-23T08:06:26.547Z"
   },
   {
    "duration": 5,
    "start_time": "2022-05-23T08:06:26.567Z"
   },
   {
    "duration": 18,
    "start_time": "2022-05-23T08:06:26.574Z"
   },
   {
    "duration": 56,
    "start_time": "2022-05-23T08:06:26.593Z"
   },
   {
    "duration": 118,
    "start_time": "2022-05-23T08:06:26.651Z"
   },
   {
    "duration": 4,
    "start_time": "2022-05-23T08:06:26.771Z"
   },
   {
    "duration": 35,
    "start_time": "2022-05-23T08:06:26.779Z"
   },
   {
    "duration": 30,
    "start_time": "2022-05-23T08:06:26.816Z"
   },
   {
    "duration": 11101,
    "start_time": "2022-05-23T08:06:26.851Z"
   },
   {
    "duration": 3,
    "start_time": "2022-05-23T08:06:37.954Z"
   },
   {
    "duration": 96,
    "start_time": "2022-05-23T08:06:37.959Z"
   },
   {
    "duration": 13,
    "start_time": "2022-05-23T08:06:38.057Z"
   },
   {
    "duration": 11,
    "start_time": "2022-05-23T08:06:38.071Z"
   },
   {
    "duration": 1565,
    "start_time": "2022-05-23T08:06:38.084Z"
   },
   {
    "duration": 191,
    "start_time": "2022-05-23T08:06:39.651Z"
   },
   {
    "duration": 111,
    "start_time": "2022-05-23T08:06:39.845Z"
   },
   {
    "duration": 26,
    "start_time": "2022-05-23T08:06:39.958Z"
   },
   {
    "duration": 59,
    "start_time": "2022-05-23T08:06:39.986Z"
   },
   {
    "duration": 202,
    "start_time": "2022-05-23T08:06:40.047Z"
   },
   {
    "duration": 198,
    "start_time": "2022-05-23T08:06:40.250Z"
   },
   {
    "duration": 18,
    "start_time": "2022-05-23T08:06:40.449Z"
   },
   {
    "duration": 574,
    "start_time": "2022-05-23T08:06:40.468Z"
   },
   {
    "duration": 7,
    "start_time": "2022-05-23T08:06:41.044Z"
   },
   {
    "duration": 23,
    "start_time": "2022-05-23T08:06:41.147Z"
   },
   {
    "duration": 179,
    "start_time": "2022-05-23T08:06:41.172Z"
   },
   {
    "duration": 5,
    "start_time": "2022-05-23T08:06:41.443Z"
   },
   {
    "duration": 107,
    "start_time": "2022-05-23T08:06:41.450Z"
   },
   {
    "duration": 182,
    "start_time": "2022-05-23T08:06:41.560Z"
   },
   {
    "duration": 6,
    "start_time": "2022-05-23T08:06:41.744Z"
   },
   {
    "duration": 177,
    "start_time": "2022-05-23T08:06:41.751Z"
   },
   {
    "duration": 195,
    "start_time": "2022-05-23T08:06:41.930Z"
   },
   {
    "duration": 283,
    "start_time": "2022-05-23T08:06:42.127Z"
   },
   {
    "duration": 3,
    "start_time": "2022-05-23T08:06:42.411Z"
   },
   {
    "duration": 10,
    "start_time": "2022-05-23T08:06:42.415Z"
   },
   {
    "duration": 820,
    "start_time": "2022-05-23T08:06:42.427Z"
   },
   {
    "duration": 3,
    "start_time": "2022-05-23T08:07:19.791Z"
   },
   {
    "duration": 964,
    "start_time": "2022-05-23T08:07:20.632Z"
   },
   {
    "duration": 169,
    "start_time": "2022-05-23T08:07:23.087Z"
   },
   {
    "duration": 37,
    "start_time": "2022-05-23T08:07:28.231Z"
   },
   {
    "duration": 972,
    "start_time": "2022-05-23T08:07:51.095Z"
   },
   {
    "duration": 4,
    "start_time": "2022-05-23T08:08:00.159Z"
   },
   {
    "duration": 45,
    "start_time": "2022-05-23T08:08:00.665Z"
   },
   {
    "duration": 2408,
    "start_time": "2022-05-23T08:08:02.142Z"
   },
   {
    "duration": 6600,
    "start_time": "2022-05-23T08:08:11.143Z"
   },
   {
    "duration": 367,
    "start_time": "2022-05-23T08:08:42.479Z"
   },
   {
    "duration": 3,
    "start_time": "2022-05-23T08:08:49.150Z"
   },
   {
    "duration": 9,
    "start_time": "2022-05-23T08:08:58.311Z"
   },
   {
    "duration": 4327,
    "start_time": "2022-05-23T08:09:05.414Z"
   },
   {
    "duration": 6960,
    "start_time": "2022-05-23T08:09:25.086Z"
   },
   {
    "duration": 52,
    "start_time": "2022-05-23T08:13:01.493Z"
   },
   {
    "duration": 7434,
    "start_time": "2022-05-23T12:24:47.009Z"
   },
   {
    "duration": 7577,
    "start_time": "2022-05-23T12:25:16.470Z"
   },
   {
    "duration": 7434,
    "start_time": "2022-05-23T12:25:29.512Z"
   },
   {
    "duration": 5698,
    "start_time": "2022-05-23T12:25:41.263Z"
   },
   {
    "duration": 7168,
    "start_time": "2022-05-23T12:26:41.175Z"
   },
   {
    "duration": 7285,
    "start_time": "2022-05-23T12:27:01.358Z"
   },
   {
    "duration": 7217,
    "start_time": "2022-05-23T12:27:18.526Z"
   },
   {
    "duration": 2166,
    "start_time": "2022-05-23T13:00:30.434Z"
   },
   {
    "duration": 3,
    "start_time": "2022-05-23T13:00:32.602Z"
   },
   {
    "duration": 77,
    "start_time": "2022-05-23T13:00:32.608Z"
   },
   {
    "duration": 20,
    "start_time": "2022-05-23T13:00:32.688Z"
   },
   {
    "duration": 5,
    "start_time": "2022-05-23T13:00:32.710Z"
   },
   {
    "duration": 30,
    "start_time": "2022-05-23T13:00:32.717Z"
   },
   {
    "duration": 47,
    "start_time": "2022-05-23T13:00:32.754Z"
   },
   {
    "duration": 7,
    "start_time": "2022-05-23T13:00:33.679Z"
   },
   {
    "duration": 7,
    "start_time": "2022-05-23T13:00:33.868Z"
   },
   {
    "duration": 6,
    "start_time": "2022-05-23T13:00:34.303Z"
   },
   {
    "duration": 8,
    "start_time": "2022-05-23T13:00:34.465Z"
   },
   {
    "duration": 14,
    "start_time": "2022-05-23T13:00:34.627Z"
   },
   {
    "duration": 521,
    "start_time": "2022-05-23T13:00:35.166Z"
   },
   {
    "duration": 8,
    "start_time": "2022-05-23T13:00:35.689Z"
   },
   {
    "duration": 16,
    "start_time": "2022-05-23T13:00:35.698Z"
   },
   {
    "duration": 12,
    "start_time": "2022-05-23T13:00:35.824Z"
   },
   {
    "duration": 7,
    "start_time": "2022-05-23T13:00:36.009Z"
   },
   {
    "duration": 11,
    "start_time": "2022-05-23T13:00:36.361Z"
   },
   {
    "duration": 9,
    "start_time": "2022-05-23T13:00:36.913Z"
   },
   {
    "duration": 325,
    "start_time": "2022-05-23T13:00:37.105Z"
   },
   {
    "duration": 10,
    "start_time": "2022-05-23T13:00:38.604Z"
   },
   {
    "duration": 26,
    "start_time": "2022-05-23T13:00:39.726Z"
   },
   {
    "duration": 7,
    "start_time": "2022-05-23T13:00:41.422Z"
   },
   {
    "duration": 22,
    "start_time": "2022-05-23T13:00:41.916Z"
   },
   {
    "duration": 24,
    "start_time": "2022-05-23T13:00:43.110Z"
   },
   {
    "duration": 125,
    "start_time": "2022-05-23T13:00:46.523Z"
   },
   {
    "duration": 5,
    "start_time": "2022-05-23T13:00:51.165Z"
   },
   {
    "duration": 11,
    "start_time": "2022-05-23T13:02:03.882Z"
   },
   {
    "duration": 1593,
    "start_time": "2022-05-23T13:02:05.733Z"
   },
   {
    "duration": 1462,
    "start_time": "2022-05-24T09:00:23.158Z"
   },
   {
    "duration": 4,
    "start_time": "2022-05-24T09:00:30.356Z"
   }
  ],
  "kernelspec": {
   "display_name": "Python 3 (ipykernel)",
   "language": "python",
   "name": "python3"
  },
  "language_info": {
   "codemirror_mode": {
    "name": "ipython",
    "version": 3
   },
   "file_extension": ".py",
   "mimetype": "text/x-python",
   "name": "python",
   "nbconvert_exporter": "python",
   "pygments_lexer": "ipython3",
   "version": "3.9.12"
  },
  "toc": {
   "base_numbering": 1,
   "nav_menu": {},
   "number_sections": true,
   "sideBar": true,
   "skip_h1_title": true,
   "title_cell": "Содержание",
   "title_sidebar": "Contents",
   "toc_cell": true,
   "toc_position": {
    "height": "calc(100% - 180px)",
    "left": "10px",
    "top": "150px",
    "width": "265.683px"
   },
   "toc_section_display": true,
   "toc_window_display": true
  }
 },
 "nbformat": 4,
 "nbformat_minor": 2
}

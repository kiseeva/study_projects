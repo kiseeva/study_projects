{
 "cells": [
  {
   "cell_type": "markdown",
   "metadata": {},
   "source": [
    "# Восстановление золота из руды"
   ]
  },
  {
   "cell_type": "markdown",
   "metadata": {},
   "source": [
    " Компания \"Цифры\" разрабатывает решения для эффективной работы промышленных предприятий.\n",
    "\n",
    "`Цель:` оптимизировать производство так, чтобы не запускать предприятие с убыточными характеристиками.\n",
    "\n",
    "\n",
    "`Задача:` подготовить прототип модели машинного обучения Модель должна предсказать коэффициент восстановления золота из золотосодержащей руды.   \n",
    "\n",
    "`Входные данные:` данные с параметрами добычи и очистки.\n",
    "\n",
    "Данные находятся в трёх файлах:\n",
    "- gold_recovery_train_new.csv — обучающая выборка;\n",
    "- gold_recovery_test_new.csv — тестовая выборка;\n",
    "- gold_recovery_full_new.csv — исходные данные.\n",
    "\n",
    "Данные индексируются датой и временем получения информации (признак date). Соседние по времени параметры часто похожи.\n",
    "Некоторые параметры недоступны, потому что замеряются и/или рассчитываются значительно позже. Из-за этого в тестовой выборке отсутствуют некоторые признаки, которые могут быть в обучающей. Также в тестовом наборе нет целевых признаков.\n",
    "\n",
    "`Этапы:`\n",
    "\n",
    "1. Подготовить данные;\n",
    "2. Провести исследовательский анализ данных;\n",
    "3. Построить и обучить модель.\n"
   ]
  },
  {
   "cell_type": "markdown",
   "metadata": {},
   "source": [
    "## Подготовка данных"
   ]
  },
  {
   "cell_type": "markdown",
   "metadata": {},
   "source": [
    "### Подключение библиотек"
   ]
  },
  {
   "cell_type": "code",
   "execution_count": 1,
   "metadata": {},
   "outputs": [],
   "source": [
    "import pandas as pd \n",
    "import seaborn as sns\n",
    "import matplotlib.pyplot as plt\n",
    "\n",
    "import warnings\n",
    "from sklearn import svm\n",
    "from sklearn.model_selection import cross_val_score\n",
    "from sklearn.metrics import  make_scorer\n",
    "from sklearn.metrics import mean_absolute_error\n",
    "from sklearn.model_selection import GridSearchCV\n",
    "from sklearn.dummy import DummyRegressor\n",
    "from sklearn.preprocessing import StandardScaler\n",
    "\n",
    "from sklearn.ensemble import RandomForestRegressor \n",
    "from sklearn.linear_model import LinearRegression"
   ]
  },
  {
   "cell_type": "code",
   "execution_count": 2,
   "metadata": {},
   "outputs": [],
   "source": [
    "# Игнорирование предупреждений\n",
    "warnings.filterwarnings('ignore')"
   ]
  },
  {
   "cell_type": "markdown",
   "metadata": {},
   "source": [
    "### Загрузка данных"
   ]
  },
  {
   "cell_type": "code",
   "execution_count": 3,
   "metadata": {},
   "outputs": [],
   "source": [
    "full = pd.read_csv('/datasets/gold_recovery_full_new.csv') \n",
    "\n",
    "train = pd.read_csv('/datasets/gold_recovery_train_new.csv') \n",
    "test = pd.read_csv('/datasets/gold_recovery_test_new.csv') "
   ]
  },
  {
   "cell_type": "code",
   "execution_count": 4,
   "metadata": {},
   "outputs": [
    {
     "name": "stdout",
     "output_type": "stream",
     "text": [
      "<class 'pandas.core.frame.DataFrame'>\n",
      "RangeIndex: 19439 entries, 0 to 19438\n",
      "Data columns (total 87 columns):\n",
      " #   Column                                              Non-Null Count  Dtype  \n",
      "---  ------                                              --------------  -----  \n",
      " 0   date                                                19439 non-null  object \n",
      " 1   final.output.concentrate_ag                         19438 non-null  float64\n",
      " 2   final.output.concentrate_pb                         19438 non-null  float64\n",
      " 3   final.output.concentrate_sol                        19228 non-null  float64\n",
      " 4   final.output.concentrate_au                         19439 non-null  float64\n",
      " 5   final.output.recovery                               19439 non-null  float64\n",
      " 6   final.output.tail_ag                                19438 non-null  float64\n",
      " 7   final.output.tail_pb                                19338 non-null  float64\n",
      " 8   final.output.tail_sol                               19433 non-null  float64\n",
      " 9   final.output.tail_au                                19439 non-null  float64\n",
      " 10  primary_cleaner.input.sulfate                       19415 non-null  float64\n",
      " 11  primary_cleaner.input.depressant                    19402 non-null  float64\n",
      " 12  primary_cleaner.input.feed_size                     19439 non-null  float64\n",
      " 13  primary_cleaner.input.xanthate                      19335 non-null  float64\n",
      " 14  primary_cleaner.output.concentrate_ag               19439 non-null  float64\n",
      " 15  primary_cleaner.output.concentrate_pb               19323 non-null  float64\n",
      " 16  primary_cleaner.output.concentrate_sol              19069 non-null  float64\n",
      " 17  primary_cleaner.output.concentrate_au               19439 non-null  float64\n",
      " 18  primary_cleaner.output.tail_ag                      19435 non-null  float64\n",
      " 19  primary_cleaner.output.tail_pb                      19418 non-null  float64\n",
      " 20  primary_cleaner.output.tail_sol                     19377 non-null  float64\n",
      " 21  primary_cleaner.output.tail_au                      19439 non-null  float64\n",
      " 22  primary_cleaner.state.floatbank8_a_air              19435 non-null  float64\n",
      " 23  primary_cleaner.state.floatbank8_a_level            19438 non-null  float64\n",
      " 24  primary_cleaner.state.floatbank8_b_air              19435 non-null  float64\n",
      " 25  primary_cleaner.state.floatbank8_b_level            19438 non-null  float64\n",
      " 26  primary_cleaner.state.floatbank8_c_air              19437 non-null  float64\n",
      " 27  primary_cleaner.state.floatbank8_c_level            19438 non-null  float64\n",
      " 28  primary_cleaner.state.floatbank8_d_air              19436 non-null  float64\n",
      " 29  primary_cleaner.state.floatbank8_d_level            19438 non-null  float64\n",
      " 30  rougher.calculation.sulfate_to_au_concentrate       19437 non-null  float64\n",
      " 31  rougher.calculation.floatbank10_sulfate_to_au_feed  19437 non-null  float64\n",
      " 32  rougher.calculation.floatbank11_sulfate_to_au_feed  19437 non-null  float64\n",
      " 33  rougher.calculation.au_pb_ratio                     19439 non-null  float64\n",
      " 34  rougher.input.feed_ag                               19439 non-null  float64\n",
      " 35  rougher.input.feed_pb                               19339 non-null  float64\n",
      " 36  rougher.input.feed_rate                             19428 non-null  float64\n",
      " 37  rougher.input.feed_size                             19294 non-null  float64\n",
      " 38  rougher.input.feed_sol                              19340 non-null  float64\n",
      " 39  rougher.input.feed_au                               19439 non-null  float64\n",
      " 40  rougher.input.floatbank10_sulfate                   19405 non-null  float64\n",
      " 41  rougher.input.floatbank10_xanthate                  19431 non-null  float64\n",
      " 42  rougher.input.floatbank11_sulfate                   19395 non-null  float64\n",
      " 43  rougher.input.floatbank11_xanthate                  18986 non-null  float64\n",
      " 44  rougher.output.concentrate_ag                       19439 non-null  float64\n",
      " 45  rougher.output.concentrate_pb                       19439 non-null  float64\n",
      " 46  rougher.output.concentrate_sol                      19416 non-null  float64\n",
      " 47  rougher.output.concentrate_au                       19439 non-null  float64\n",
      " 48  rougher.output.recovery                             19439 non-null  float64\n",
      " 49  rougher.output.tail_ag                              19438 non-null  float64\n",
      " 50  rougher.output.tail_pb                              19439 non-null  float64\n",
      " 51  rougher.output.tail_sol                             19439 non-null  float64\n",
      " 52  rougher.output.tail_au                              19439 non-null  float64\n",
      " 53  rougher.state.floatbank10_a_air                     19438 non-null  float64\n",
      " 54  rougher.state.floatbank10_a_level                   19438 non-null  float64\n",
      " 55  rougher.state.floatbank10_b_air                     19438 non-null  float64\n",
      " 56  rougher.state.floatbank10_b_level                   19438 non-null  float64\n",
      " 57  rougher.state.floatbank10_c_air                     19438 non-null  float64\n",
      " 58  rougher.state.floatbank10_c_level                   19438 non-null  float64\n",
      " 59  rougher.state.floatbank10_d_air                     19439 non-null  float64\n",
      " 60  rougher.state.floatbank10_d_level                   19439 non-null  float64\n",
      " 61  rougher.state.floatbank10_e_air                     19003 non-null  float64\n",
      " 62  rougher.state.floatbank10_e_level                   19439 non-null  float64\n",
      " 63  rougher.state.floatbank10_f_air                     19439 non-null  float64\n",
      " 64  rougher.state.floatbank10_f_level                   19439 non-null  float64\n",
      " 65  secondary_cleaner.output.tail_ag                    19437 non-null  float64\n",
      " 66  secondary_cleaner.output.tail_pb                    19427 non-null  float64\n",
      " 67  secondary_cleaner.output.tail_sol                   17691 non-null  float64\n",
      " 68  secondary_cleaner.output.tail_au                    19439 non-null  float64\n",
      " 69  secondary_cleaner.state.floatbank2_a_air            19219 non-null  float64\n",
      " 70  secondary_cleaner.state.floatbank2_a_level          19438 non-null  float64\n",
      " 71  secondary_cleaner.state.floatbank2_b_air            19416 non-null  float64\n",
      " 72  secondary_cleaner.state.floatbank2_b_level          19438 non-null  float64\n",
      " 73  secondary_cleaner.state.floatbank3_a_air            19426 non-null  float64\n",
      " 74  secondary_cleaner.state.floatbank3_a_level          19438 non-null  float64\n",
      " 75  secondary_cleaner.state.floatbank3_b_air            19438 non-null  float64\n",
      " 76  secondary_cleaner.state.floatbank3_b_level          19438 non-null  float64\n",
      " 77  secondary_cleaner.state.floatbank4_a_air            19433 non-null  float64\n",
      " 78  secondary_cleaner.state.floatbank4_a_level          19438 non-null  float64\n",
      " 79  secondary_cleaner.state.floatbank4_b_air            19438 non-null  float64\n",
      " 80  secondary_cleaner.state.floatbank4_b_level          19438 non-null  float64\n",
      " 81  secondary_cleaner.state.floatbank5_a_air            19438 non-null  float64\n",
      " 82  secondary_cleaner.state.floatbank5_a_level          19438 non-null  float64\n",
      " 83  secondary_cleaner.state.floatbank5_b_air            19438 non-null  float64\n",
      " 84  secondary_cleaner.state.floatbank5_b_level          19438 non-null  float64\n",
      " 85  secondary_cleaner.state.floatbank6_a_air            19437 non-null  float64\n",
      " 86  secondary_cleaner.state.floatbank6_a_level          19438 non-null  float64\n",
      "dtypes: float64(86), object(1)\n",
      "memory usage: 12.9+ MB\n"
     ]
    }
   ],
   "source": [
    "full.info()"
   ]
  },
  {
   "cell_type": "markdown",
   "metadata": {},
   "source": [
    "### Проверка расчета эффективности обогащения золота"
   ]
  },
  {
   "cell_type": "markdown",
   "metadata": {},
   "source": [
    "По заданию первоначально нужно проверить, что эффективность обогащения рассчитана правильно. Вычислить её на обучающей выборке для признака rougher.output.recovery. Найти MAE между расчётами и значением признака."
   ]
  },
  {
   "cell_type": "code",
   "execution_count": 5,
   "metadata": {},
   "outputs": [
    {
     "data": {
      "text/plain": [
       "0        87.107763\n",
       "1        86.843261\n",
       "2        86.842308\n",
       "3        87.226430\n",
       "4        86.688794\n",
       "           ...    \n",
       "14144    89.574376\n",
       "14145    87.724007\n",
       "14146    88.890579\n",
       "14147    89.858126\n",
       "14148    89.514960\n",
       "Name: rougher.output.recovery, Length: 14149, dtype: float64"
      ]
     },
     "execution_count": 5,
     "metadata": {},
     "output_type": "execute_result"
    }
   ],
   "source": [
    "train['rougher.output.recovery']"
   ]
  },
  {
   "cell_type": "code",
   "execution_count": 6,
   "metadata": {},
   "outputs": [],
   "source": [
    "C = train['rougher.output.concentrate_au']\n",
    "T = train['rougher.output.tail_au']\n",
    "F = train['rougher.input.feed_au']"
   ]
  },
  {
   "cell_type": "code",
   "execution_count": 7,
   "metadata": {},
   "outputs": [],
   "source": [
    "train['rougher.output.recovery_check'] = C * (F - T) * 100 / (F * (C - T))"
   ]
  },
  {
   "cell_type": "code",
   "execution_count": 8,
   "metadata": {},
   "outputs": [
    {
     "data": {
      "text/plain": [
       "0        87.107763\n",
       "1        86.843261\n",
       "2        86.842308\n",
       "3        87.226430\n",
       "4        86.688794\n",
       "           ...    \n",
       "14144    89.574376\n",
       "14145    87.724007\n",
       "14146    88.890579\n",
       "14147    89.858126\n",
       "14148    89.514960\n",
       "Name: rougher.output.recovery_check, Length: 14149, dtype: float64"
      ]
     },
     "execution_count": 8,
     "metadata": {},
     "output_type": "execute_result"
    }
   ],
   "source": [
    "train['rougher.output.recovery_check'] "
   ]
  },
  {
   "cell_type": "code",
   "execution_count": 9,
   "metadata": {},
   "outputs": [
    {
     "data": {
      "text/plain": [
       "1.1131451184435918e-14"
      ]
     },
     "execution_count": 9,
     "metadata": {},
     "output_type": "execute_result"
    }
   ],
   "source": [
    "mean_absolute_error(train['rougher.output.recovery'],train['rougher.output.recovery_check'])"
   ]
  },
  {
   "cell_type": "markdown",
   "metadata": {},
   "source": [
    "###### Значение очень маленькое, значит данные очень близки. Можно считать, что эффективность посчитана верно."
   ]
  },
  {
   "cell_type": "markdown",
   "metadata": {},
   "source": [
    "### Признаки, недоступные в тестовой выборке"
   ]
  },
  {
   "cell_type": "markdown",
   "metadata": {},
   "source": [
    "Проанализируем признаки, недоступные в тестовой выборке."
   ]
  },
  {
   "cell_type": "code",
   "execution_count": 10,
   "metadata": {},
   "outputs": [
    {
     "data": {
      "text/plain": [
       "(5290, 53)"
      ]
     },
     "execution_count": 10,
     "metadata": {},
     "output_type": "execute_result"
    }
   ],
   "source": [
    "test.shape"
   ]
  },
  {
   "cell_type": "code",
   "execution_count": 11,
   "metadata": {},
   "outputs": [],
   "source": [
    "#test.info()"
   ]
  },
  {
   "cell_type": "code",
   "execution_count": 12,
   "metadata": {},
   "outputs": [
    {
     "data": {
      "text/plain": [
       "['final.output.concentrate_ag',\n",
       " 'final.output.concentrate_au',\n",
       " 'final.output.concentrate_pb',\n",
       " 'final.output.concentrate_sol',\n",
       " 'final.output.recovery',\n",
       " 'final.output.tail_ag',\n",
       " 'final.output.tail_au',\n",
       " 'final.output.tail_pb',\n",
       " 'final.output.tail_sol',\n",
       " 'primary_cleaner.output.concentrate_ag',\n",
       " 'primary_cleaner.output.concentrate_au',\n",
       " 'primary_cleaner.output.concentrate_pb',\n",
       " 'primary_cleaner.output.concentrate_sol',\n",
       " 'primary_cleaner.output.tail_ag',\n",
       " 'primary_cleaner.output.tail_au',\n",
       " 'primary_cleaner.output.tail_pb',\n",
       " 'primary_cleaner.output.tail_sol',\n",
       " 'rougher.calculation.au_pb_ratio',\n",
       " 'rougher.calculation.floatbank10_sulfate_to_au_feed',\n",
       " 'rougher.calculation.floatbank11_sulfate_to_au_feed',\n",
       " 'rougher.calculation.sulfate_to_au_concentrate',\n",
       " 'rougher.output.concentrate_ag',\n",
       " 'rougher.output.concentrate_au',\n",
       " 'rougher.output.concentrate_pb',\n",
       " 'rougher.output.concentrate_sol',\n",
       " 'rougher.output.recovery',\n",
       " 'rougher.output.recovery_check',\n",
       " 'rougher.output.tail_ag',\n",
       " 'rougher.output.tail_au',\n",
       " 'rougher.output.tail_pb',\n",
       " 'rougher.output.tail_sol',\n",
       " 'secondary_cleaner.output.tail_ag',\n",
       " 'secondary_cleaner.output.tail_au',\n",
       " 'secondary_cleaner.output.tail_pb',\n",
       " 'secondary_cleaner.output.tail_sol']"
      ]
     },
     "execution_count": 12,
     "metadata": {},
     "output_type": "execute_result"
    }
   ],
   "source": [
    "columns_drop = list(train.columns.difference(test.columns))\n",
    "columns_drop"
   ]
  },
  {
   "cell_type": "markdown",
   "metadata": {},
   "source": [
    "###### Отсутствуют параметры output с каждого этапа,  а также расчётные характеристики, потому что замеряются и/или рассчитываются значительно позже. А также отсутствует целевой признак 'rougher.output.recovery'"
   ]
  },
  {
   "cell_type": "markdown",
   "metadata": {},
   "source": [
    "Стоит удалить признаки не входящие в тест из полной выборки, при формировании датасетов (кроме целевого)"
   ]
  },
  {
   "cell_type": "code",
   "execution_count": 13,
   "metadata": {},
   "outputs": [
    {
     "data": {
      "text/plain": [
       "['final.output.concentrate_ag',\n",
       " 'final.output.concentrate_au',\n",
       " 'final.output.concentrate_pb',\n",
       " 'final.output.concentrate_sol',\n",
       " 'final.output.tail_ag',\n",
       " 'final.output.tail_au',\n",
       " 'final.output.tail_pb',\n",
       " 'final.output.tail_sol',\n",
       " 'primary_cleaner.output.concentrate_ag',\n",
       " 'primary_cleaner.output.concentrate_au',\n",
       " 'primary_cleaner.output.concentrate_pb',\n",
       " 'primary_cleaner.output.concentrate_sol',\n",
       " 'primary_cleaner.output.tail_ag',\n",
       " 'primary_cleaner.output.tail_au',\n",
       " 'primary_cleaner.output.tail_pb',\n",
       " 'primary_cleaner.output.tail_sol',\n",
       " 'rougher.calculation.au_pb_ratio',\n",
       " 'rougher.calculation.floatbank10_sulfate_to_au_feed',\n",
       " 'rougher.calculation.floatbank11_sulfate_to_au_feed',\n",
       " 'rougher.calculation.sulfate_to_au_concentrate',\n",
       " 'rougher.output.concentrate_ag',\n",
       " 'rougher.output.concentrate_au',\n",
       " 'rougher.output.concentrate_pb',\n",
       " 'rougher.output.concentrate_sol',\n",
       " 'rougher.output.recovery_check',\n",
       " 'rougher.output.tail_ag',\n",
       " 'rougher.output.tail_au',\n",
       " 'rougher.output.tail_pb',\n",
       " 'rougher.output.tail_sol',\n",
       " 'secondary_cleaner.output.tail_ag',\n",
       " 'secondary_cleaner.output.tail_au',\n",
       " 'secondary_cleaner.output.tail_pb',\n",
       " 'secondary_cleaner.output.tail_sol']"
      ]
     },
     "execution_count": 13,
     "metadata": {},
     "output_type": "execute_result"
    }
   ],
   "source": [
    "columns_drop.remove('final.output.recovery')\n",
    "columns_drop.remove('rougher.output.recovery')\n",
    "columns_drop"
   ]
  },
  {
   "cell_type": "code",
   "execution_count": 14,
   "metadata": {},
   "outputs": [
    {
     "name": "stdout",
     "output_type": "stream",
     "text": [
      "(14149, 55)\n",
      "(5290, 53)\n"
     ]
    }
   ],
   "source": [
    "train = train.drop(columns = columns_drop)\n",
    "print(train.shape)\n",
    "print(test.shape)"
   ]
  },
  {
   "cell_type": "markdown",
   "metadata": {},
   "source": [
    "### Предобработка данных"
   ]
  },
  {
   "cell_type": "code",
   "execution_count": 15,
   "metadata": {},
   "outputs": [],
   "source": [
    "#train.info()"
   ]
  },
  {
   "cell_type": "markdown",
   "metadata": {},
   "source": [
    "Необходимо преобразовать тип в столбце с датой."
   ]
  },
  {
   "cell_type": "code",
   "execution_count": 16,
   "metadata": {},
   "outputs": [],
   "source": [
    "train['date'] = pd.to_datetime(train['date'], format='%Y-%m-%dT%H:%M:%S')\n",
    "test['date'] = pd.to_datetime(test['date'], format='%Y-%m-%dT%H:%M:%S')\n",
    "full['date'] = pd.to_datetime(full['date'], format='%Y-%m-%dT%H:%M:%S')"
   ]
  },
  {
   "cell_type": "markdown",
   "metadata": {},
   "source": [
    "Просмотрим столбцы с долей пропусков больше 5 процентов в каждом наборе данных."
   ]
  },
  {
   "cell_type": "code",
   "execution_count": 19,
   "metadata": {},
   "outputs": [
    {
     "name": "stdout",
     "output_type": "stream",
     "text": [
      "rougher.input.feed_size 0.010177397695950243\n",
      "rougher.input.floatbank11_xanthate 0.03024948759629656\n",
      "rougher.state.floatbank10_e_air 0.030814898579404906\n",
      "secondary_cleaner.state.floatbank2_a_air 0.01533677291681391\n",
      "\n",
      "rougher.input.feed_size 0.010177397695950243\n",
      "rougher.input.floatbank11_xanthate 0.03024948759629656\n",
      "rougher.state.floatbank10_e_air 0.030814898579404906\n",
      "secondary_cleaner.state.floatbank2_a_air 0.01533677291681391\n",
      "\n",
      "rougher.input.feed_size 0.010177397695950243\n",
      "rougher.input.floatbank11_xanthate 0.03024948759629656\n",
      "rougher.state.floatbank10_e_air 0.030814898579404906\n",
      "secondary_cleaner.state.floatbank2_a_air 0.01533677291681391\n",
      "\n"
     ]
    }
   ],
   "source": [
    "for df in [train,test,full]:\n",
    "    for column in train.columns:\n",
    "        if train[column].isna().mean() > 0.01:\n",
    "            print(column,  train[column].isna().mean()) # доля пропусков\n",
    "            \n",
    "        \n",
    "    print()    "
   ]
  },
  {
   "cell_type": "markdown",
   "metadata": {},
   "source": [
    "Наибольшая доля пропусков ~ 3%.\n",
    "По условию данные в соседние периоды близки, следовательно можем заполнить пропуски следующим значением, удалив перед этим пропуски в целевых признаках"
   ]
  },
  {
   "cell_type": "code",
   "execution_count": 20,
   "metadata": {},
   "outputs": [
    {
     "data": {
      "text/plain": [
       "0        70.541216\n",
       "1        69.266198\n",
       "2        68.116445\n",
       "3        68.347543\n",
       "4        66.927016\n",
       "           ...    \n",
       "14144    73.755150\n",
       "14145    69.049291\n",
       "14146    67.002189\n",
       "14147    65.523246\n",
       "14148    70.281454\n",
       "Name: final.output.recovery, Length: 14149, dtype: float64"
      ]
     },
     "execution_count": 20,
     "metadata": {},
     "output_type": "execute_result"
    }
   ],
   "source": [
    "train['final.output.recovery']"
   ]
  },
  {
   "cell_type": "code",
   "execution_count": 21,
   "metadata": {},
   "outputs": [],
   "source": [
    "train['rougher.output.recovery'] = train['rougher.output.recovery'].dropna()\n",
    "train['final.output.recovery'] = train['final.output.recovery'].dropna()\n",
    "\n",
    "full['rougher.output.recovery'] = full['rougher.output.recovery'].dropna()\n",
    "full['final.output.recovery'] = full['final.output.recovery'].dropna()"
   ]
  },
  {
   "cell_type": "code",
   "execution_count": 22,
   "metadata": {},
   "outputs": [],
   "source": [
    "train=train.fillna(method= 'bfill')\n",
    "test=test.fillna(method= 'bfill')\n",
    "full=full.fillna(method= 'bfill')"
   ]
  },
  {
   "cell_type": "code",
   "execution_count": 23,
   "metadata": {},
   "outputs": [
    {
     "name": "stdout",
     "output_type": "stream",
     "text": [
      "date                                          0\n",
      "final.output.recovery                         0\n",
      "primary_cleaner.input.sulfate                 0\n",
      "primary_cleaner.input.depressant              0\n",
      "primary_cleaner.input.feed_size               0\n",
      "primary_cleaner.input.xanthate                0\n",
      "primary_cleaner.state.floatbank8_a_air        0\n",
      "primary_cleaner.state.floatbank8_a_level      0\n",
      "primary_cleaner.state.floatbank8_b_air        0\n",
      "primary_cleaner.state.floatbank8_b_level      0\n",
      "primary_cleaner.state.floatbank8_c_air        0\n",
      "primary_cleaner.state.floatbank8_c_level      0\n",
      "primary_cleaner.state.floatbank8_d_air        0\n",
      "primary_cleaner.state.floatbank8_d_level      0\n",
      "rougher.input.feed_ag                         0\n",
      "rougher.input.feed_pb                         0\n",
      "rougher.input.feed_rate                       0\n",
      "rougher.input.feed_size                       0\n",
      "rougher.input.feed_sol                        0\n",
      "rougher.input.feed_au                         0\n",
      "rougher.input.floatbank10_sulfate             0\n",
      "rougher.input.floatbank10_xanthate            0\n",
      "rougher.input.floatbank11_sulfate             0\n",
      "rougher.input.floatbank11_xanthate            0\n",
      "rougher.output.recovery                       0\n",
      "rougher.state.floatbank10_a_air               0\n",
      "rougher.state.floatbank10_a_level             0\n",
      "rougher.state.floatbank10_b_air               0\n",
      "rougher.state.floatbank10_b_level             0\n",
      "rougher.state.floatbank10_c_air               0\n",
      "rougher.state.floatbank10_c_level             0\n",
      "rougher.state.floatbank10_d_air               0\n",
      "rougher.state.floatbank10_d_level             0\n",
      "rougher.state.floatbank10_e_air               0\n",
      "rougher.state.floatbank10_e_level             0\n",
      "rougher.state.floatbank10_f_air               0\n",
      "rougher.state.floatbank10_f_level             0\n",
      "secondary_cleaner.state.floatbank2_a_air      0\n",
      "secondary_cleaner.state.floatbank2_a_level    0\n",
      "secondary_cleaner.state.floatbank2_b_air      0\n",
      "secondary_cleaner.state.floatbank2_b_level    0\n",
      "secondary_cleaner.state.floatbank3_a_air      0\n",
      "secondary_cleaner.state.floatbank3_a_level    0\n",
      "secondary_cleaner.state.floatbank3_b_air      0\n",
      "secondary_cleaner.state.floatbank3_b_level    0\n",
      "secondary_cleaner.state.floatbank4_a_air      0\n",
      "secondary_cleaner.state.floatbank4_a_level    0\n",
      "secondary_cleaner.state.floatbank4_b_air      0\n",
      "secondary_cleaner.state.floatbank4_b_level    0\n",
      "secondary_cleaner.state.floatbank5_a_air      0\n",
      "secondary_cleaner.state.floatbank5_a_level    0\n",
      "secondary_cleaner.state.floatbank5_b_air      0\n",
      "secondary_cleaner.state.floatbank5_b_level    0\n",
      "secondary_cleaner.state.floatbank6_a_air      0\n",
      "secondary_cleaner.state.floatbank6_a_level    0\n",
      "dtype: int64\n",
      "date                                          0\n",
      "final.output.concentrate_ag                   0\n",
      "final.output.concentrate_pb                   0\n",
      "final.output.concentrate_sol                  0\n",
      "final.output.concentrate_au                   0\n",
      "                                             ..\n",
      "secondary_cleaner.state.floatbank5_a_level    0\n",
      "secondary_cleaner.state.floatbank5_b_air      0\n",
      "secondary_cleaner.state.floatbank5_b_level    0\n",
      "secondary_cleaner.state.floatbank6_a_air      0\n",
      "secondary_cleaner.state.floatbank6_a_level    0\n",
      "Length: 87, dtype: int64\n"
     ]
    }
   ],
   "source": [
    "for df in [train,full]:\n",
    "    print(df.isna().sum())"
   ]
  },
  {
   "cell_type": "markdown",
   "metadata": {},
   "source": [
    "Проверим на дубликаты."
   ]
  },
  {
   "cell_type": "code",
   "execution_count": 24,
   "metadata": {},
   "outputs": [
    {
     "name": "stdout",
     "output_type": "stream",
     "text": [
      "0\n",
      "0\n",
      "0\n"
     ]
    }
   ],
   "source": [
    "for df in [train,test,full]:\n",
    "    print(df.duplicated().sum())"
   ]
  },
  {
   "cell_type": "markdown",
   "metadata": {},
   "source": [
    "## Анализ данных"
   ]
  },
  {
   "cell_type": "markdown",
   "metadata": {},
   "source": [
    "##### Посмотрим как меняется концентрация металлов (Au, Ag, Pb) на различных этапах очистки"
   ]
  },
  {
   "cell_type": "code",
   "execution_count": 25,
   "metadata": {},
   "outputs": [
    {
     "data": {
      "image/png": "[encoded data removed]",
      "text/plain": [
       "<Figure size 1080x360 with 4 Axes>"
      ]
     },
     "metadata": {
      "needs_background": "light"
     },
     "output_type": "display_data"
    }
   ],
   "source": [
    "metals = ['au', 'ag', 'pb']\n",
    "\n",
    "processes= ['rougher.input.feed',\n",
    "           'rougher.output.concentrate',\n",
    "           'primary_cleaner.output.concentrate',\n",
    "           'final.output.concentrate']\n",
    "\n",
    "fig, axs = plt.subplots(1, len(processes), figsize=(15, 5), constrained_layout=True)\n",
    "fig.suptitle('Концентрация металлов на каждом этапе', fontsize=20)\n",
    "\n",
    "\n",
    "for process,ax in zip(processes, axs):\n",
    "    ax.set_title(process)\n",
    "    for metal in metals:\n",
    "        #train.columns.str.contains(process+'_'+metal)\n",
    "        sns.distplot(full.loc[:,process+'_'+metal].dropna(),label=metal, ax=ax)\n",
    "        ax.set_xlim([0, 50])\n",
    "        \n",
    "plt.legend()\n",
    "plt.show()\n"
   ]
  },
  {
   "cell_type": "markdown",
   "metadata": {},
   "source": [
    "Концентрация золота значительно (~ х2) росла на каждом этапе. Остальные металлы выросли совсем немного."
   ]
  },
  {
   "cell_type": "markdown",
   "metadata": {},
   "source": [
    "##### Сравним распределениe размеров гранул сырья на обучающей и тестовой выборках"
   ]
  },
  {
   "cell_type": "code",
   "execution_count": 26,
   "metadata": {},
   "outputs": [
    {
     "data": {
      "image/png": "[encoded data removed]",
      "text/plain": [
       "<Figure size 432x288 with 1 Axes>"
      ]
     },
     "metadata": {
      "needs_background": "light"
     },
     "output_type": "display_data"
    }
   ],
   "source": [
    "train['rougher.input.feed_size'].dropna().hist(bins = 50,alpha=0.5, label='train')\n",
    "test['rougher.input.feed_size'].dropna().hist(bins = 50,alpha=0.5, label='test')\n",
    "plt.legend()\n",
    "plt.title('Распределениe размеров гранул сырья')\n",
    "plt.show()"
   ]
  },
  {
   "cell_type": "markdown",
   "metadata": {},
   "source": [
    "###### Если распределения сильно отличаются друг от друга, оценка модели будет неправильной. Здесь распределения похожи, значит можем строоить модель.\n",
    "Видно, что есть незначительное смещение распределения от нормального в сторону увеличения гранул. Также, на тестовой выборке имеется большее значение очень маленьких гранул. "
   ]
  },
  {
   "cell_type": "markdown",
   "metadata": {},
   "source": [
    "##### Исследуем суммарную концентрацию всех веществ на разных стадиях: в сырье, в черновом и финальном концентратах."
   ]
  },
  {
   "cell_type": "code",
   "execution_count": 27,
   "metadata": {},
   "outputs": [],
   "source": [
    "# Создадим дополнительный суммарный столбец \n",
    "df = [full]\n",
    "\n",
    "for data in df:\n",
    "    \n",
    "    data.loc[:,'feed_sum'] = data.loc[:,['rougher.input.feed_au',\n",
    "                                'rougher.input.feed_ag',\n",
    "                                'rougher.input.feed_pb',\n",
    "                                'rougher.input.feed_sol']].sum(axis=1)\n",
    "\n",
    "    data.loc[:, 'rougher_sum'] = data.loc[:, ['rougher.output.concentrate_au',\n",
    "                                'rougher.output.concentrate_ag',\n",
    "                                'rougher.output.concentrate_pb',\n",
    "                                'rougher.output.concentrate_sol']].sum(axis=1)\n",
    "\n",
    "    \n",
    "    data.loc[:, 'final_sum'] = data.loc[:, ['final.output.concentrate_au',\n",
    "                               'final.output.concentrate_ag',\n",
    "                               'final.output.concentrate_pb',\n",
    "                               'final.output.concentrate_sol']].sum(axis=1)"
   ]
  },
  {
   "cell_type": "code",
   "execution_count": 28,
   "metadata": {},
   "outputs": [
    {
     "data": {
      "image/png": "[encoded data removed]",
      "text/plain": [
       "<Figure size 648x216 with 3 Axes>"
      ]
     },
     "metadata": {
      "needs_background": "light"
     },
     "output_type": "display_data"
    }
   ],
   "source": [
    "for data in df:\n",
    "    f, axes = plt.subplots(1,3, figsize=(9, 3))\n",
    "    sns.distplot(data['feed_sum'],  ax=axes[0])\n",
    "    sns.distplot(data['rougher_sum'],  ax=axes[1])   \n",
    "    sns.distplot(data['final_sum'], ax=axes[2])   "
   ]
  },
  {
   "cell_type": "markdown",
   "metadata": {},
   "source": [
    "На плотах видно аномалии, их нужно удалить из тестовой и тренировочной выборки.\n",
    "В целом отдельно по каждому веществу ноль может быть (не всегда же есть крупинки золота в руде), а ноль суммарно - вряд ли (в руде хоть что-то но будет). А если мы имеем ноль, значит большая вероятность неточности в измерениях."
   ]
  },
  {
   "cell_type": "code",
   "execution_count": 29,
   "metadata": {},
   "outputs": [],
   "source": [
    "test = test[(full['rougher_sum'] > 10) & (full['final_sum'] > 10)]\n",
    "train = train[(full['rougher_sum'] > 10) & (full['final_sum'] > 10)]"
   ]
  },
  {
   "cell_type": "code",
   "execution_count": 30,
   "metadata": {},
   "outputs": [
    {
     "data": {
      "text/plain": [
       "(13798, 55)"
      ]
     },
     "execution_count": 30,
     "metadata": {},
     "output_type": "execute_result"
    }
   ],
   "source": [
    "test.shape\n",
    "train.shape"
   ]
  },
  {
   "cell_type": "markdown",
   "metadata": {},
   "source": [
    "## Модель"
   ]
  },
  {
   "cell_type": "markdown",
   "metadata": {},
   "source": [
    "Напишим функцию для вычисления итоговой sMAPE (метрика качества).\n",
    "\n",
    "Обучим разные модели и оценим их качество кросс-валидацией. Выберем лучшую модель и проверим её на тестовой выборке"
   ]
  },
  {
   "cell_type": "code",
   "execution_count": 32,
   "metadata": {},
   "outputs": [],
   "source": [
    "numeric = test.drop('date',axis=1).columns"
   ]
  },
  {
   "cell_type": "code",
   "execution_count": 33,
   "metadata": {},
   "outputs": [],
   "source": [
    "def sMAPE(target, predict):\n",
    "    \n",
    "    sMAPE = ((abs(target - predict) / ((abs(target) + abs(predict)) / 2)).mean() * 100)\n",
    "    \n",
    "    return sMAPE\n",
    "\n",
    "smape = make_scorer(sMAPE, greater_is_better=False)"
   ]
  },
  {
   "cell_type": "code",
   "execution_count": 34,
   "metadata": {},
   "outputs": [],
   "source": [
    "def full_sMAPE(rougher_sMAPE, final_sMAPE):\n",
    "    \n",
    "    full_sMAPE = 0.25*rougher_sMAPE + 0.75*final_sMAPE\n",
    "    \n",
    "    return full_sMAPE "
   ]
  },
  {
   "cell_type": "markdown",
   "metadata": {},
   "source": [
    "Разделим данные."
   ]
  },
  {
   "cell_type": "code",
   "execution_count": 35,
   "metadata": {},
   "outputs": [],
   "source": [
    "features_train_rougher = train.drop(['date','rougher.output.recovery','final.output.recovery'],axis=1)\n",
    "target_train_rougher = train['rougher.output.recovery']\n",
    "\n",
    "features_train_final = train.drop(['date','rougher.output.recovery','final.output.recovery'],axis=1)\n",
    "target_train_final = train['final.output.recovery']\n",
    "\n",
    "test_full = full[full['date'].isin(test['date'])]\n",
    "features_test = test.drop(['date'],axis=1)\n",
    "target_test_rougher = test_full['rougher.output.recovery']\n",
    "target_test_final = test_full['final.output.recovery']\n"
   ]
  },
  {
   "cell_type": "code",
   "execution_count": 36,
   "metadata": {},
   "outputs": [
    {
     "data": {
      "text/plain": [
       "['final.output.recovery', 'rougher.output.recovery']"
      ]
     },
     "execution_count": 36,
     "metadata": {},
     "output_type": "execute_result"
    }
   ],
   "source": [
    "list(train.columns.difference(test.columns))"
   ]
  },
  {
   "cell_type": "code",
   "execution_count": 37,
   "metadata": {},
   "outputs": [],
   "source": [
    "reg_rougher = LinearRegression()\n",
    "reg_final = LinearRegression()"
   ]
  },
  {
   "cell_type": "code",
   "execution_count": 38,
   "metadata": {},
   "outputs": [
    {
     "name": "stdout",
     "output_type": "stream",
     "text": [
      "{'max_depth': 6, 'n_estimators': 10}\n"
     ]
    }
   ],
   "source": [
    "forrest_rougher=RandomForestRegressor(random_state=42)\n",
    "\n",
    "param_grid = { \n",
    "    'n_estimators': [10,100],\n",
    "    'max_depth' : [2,3,4,5,6],\n",
    "}\n",
    "\n",
    "CV_forrest_rougher = GridSearchCV(estimator=forrest_rougher, param_grid=param_grid, cv= 5,scoring=smape)\n",
    "CV_forrest_rougher.fit(features_train_rougher, target_train_rougher)\n",
    "\n",
    "\n",
    "print(CV_forrest_rougher.best_params_)"
   ]
  },
  {
   "cell_type": "code",
   "execution_count": 39,
   "metadata": {},
   "outputs": [
    {
     "name": "stdout",
     "output_type": "stream",
     "text": [
      "{'max_depth': 6, 'n_estimators': 10}\n"
     ]
    }
   ],
   "source": [
    "forrest_final=RandomForestRegressor(random_state=42)\n",
    "\n",
    "param_grid = { \n",
    "    'n_estimators': [10,100],\n",
    "    'max_depth' : [2,3,4,5,6],\n",
    "}\n",
    "\n",
    "CV_forrest_final = GridSearchCV(estimator=forrest_rougher, param_grid=param_grid, cv= 5, scoring=smape)\n",
    "CV_forrest_final.fit(features_train_final, target_train_final)\n",
    "\n",
    "\n",
    "print(CV_forrest_rougher.best_params_)"
   ]
  },
  {
   "cell_type": "code",
   "execution_count": 40,
   "metadata": {},
   "outputs": [],
   "source": [
    "forrest_rougher =  RandomForestRegressor(random_state=42,  n_estimators= 100, max_depth=6)\n",
    "forrest_final = RandomForestRegressor(random_state=42,  n_estimators= 100, max_depth=6)"
   ]
  },
  {
   "cell_type": "code",
   "execution_count": 41,
   "metadata": {},
   "outputs": [
    {
     "data": {
      "text/plain": [
       "RandomForestRegressor(max_depth=6, random_state=42)"
      ]
     },
     "execution_count": 41,
     "metadata": {},
     "output_type": "execute_result"
    }
   ],
   "source": [
    "forrest_rougher.fit(features_train_rougher,target_train_rougher)\n",
    "forrest_final.fit(features_train_final,target_train_final)\n"
   ]
  },
  {
   "cell_type": "code",
   "execution_count": 42,
   "metadata": {},
   "outputs": [
    {
     "data": {
      "text/plain": [
       "array([-13.11890921,  -7.42950921, -18.82851549, -15.0913339 ,\n",
       "        -8.886689  ])"
      ]
     },
     "execution_count": 42,
     "metadata": {},
     "output_type": "execute_result"
    }
   ],
   "source": [
    "scores = cross_val_score(reg_rougher,features_train_rougher, target_train_rougher,cv=5, scoring=smape)\n",
    "scores"
   ]
  },
  {
   "cell_type": "code",
   "execution_count": 43,
   "metadata": {},
   "outputs": [
    {
     "data": {
      "text/plain": [
       "array([87.10776293, 86.84326051, 86.84230826, ..., 88.89057853,\n",
       "       89.858126  , 89.51495973])"
      ]
     },
     "execution_count": 43,
     "metadata": {},
     "output_type": "execute_result"
    }
   ],
   "source": [
    "target_train_rougher.values"
   ]
  },
  {
   "cell_type": "code",
   "execution_count": 44,
   "metadata": {},
   "outputs": [
    {
     "data": {
      "text/plain": [
       "array([ -7.98408658,  -6.89807942, -14.07766369, -16.18242946,\n",
       "        -8.87945844])"
      ]
     },
     "execution_count": 44,
     "metadata": {},
     "output_type": "execute_result"
    }
   ],
   "source": [
    "scores = cross_val_score(forrest_rougher,features_train_rougher, target_train_rougher,cv=5, scoring=smape)\n",
    "scores"
   ]
  },
  {
   "cell_type": "code",
   "execution_count": 45,
   "metadata": {},
   "outputs": [
    {
     "data": {
      "text/plain": [
       "array([-13.2428284 , -10.18171298, -10.56896666, -10.88002196,\n",
       "       -14.66715721])"
      ]
     },
     "execution_count": 45,
     "metadata": {},
     "output_type": "execute_result"
    }
   ],
   "source": [
    "scores = cross_val_score(reg_final,features_train_final, target_train_final,cv=5, scoring=smape)\n",
    "scores"
   ]
  },
  {
   "cell_type": "code",
   "execution_count": 46,
   "metadata": {},
   "outputs": [
    {
     "data": {
      "text/plain": [
       "array([-13.11890921,  -7.42950921, -18.82851549, -15.0913339 ,\n",
       "        -8.886689  ])"
      ]
     },
     "execution_count": 46,
     "metadata": {},
     "output_type": "execute_result"
    }
   ],
   "source": [
    "scores = cross_val_score(reg_rougher,features_train_rougher, target_train_rougher,cv=5, scoring=smape)\n",
    "scores"
   ]
  },
  {
   "cell_type": "code",
   "execution_count": 47,
   "metadata": {},
   "outputs": [
    {
     "data": {
      "text/plain": [
       "RandomForestRegressor(max_depth=6, random_state=42)"
      ]
     },
     "execution_count": 47,
     "metadata": {},
     "output_type": "execute_result"
    }
   ],
   "source": [
    "forrest_rougher.fit(features_train_rougher,target_train_rougher)\n",
    "forrest_final.fit(features_train_final,target_train_final)"
   ]
  },
  {
   "cell_type": "code",
   "execution_count": 48,
   "metadata": {},
   "outputs": [],
   "source": [
    "predict_rougher_forrest = forrest_rougher.predict(features_test)\n",
    "predict_final_forrest =forrest_final.predict(features_test)"
   ]
  },
  {
   "cell_type": "code",
   "execution_count": 49,
   "metadata": {},
   "outputs": [
    {
     "data": {
      "text/plain": [
       "LinearRegression()"
      ]
     },
     "execution_count": 49,
     "metadata": {},
     "output_type": "execute_result"
    }
   ],
   "source": [
    "reg_rougher.fit(features_train_rougher,target_train_rougher)\n",
    "reg_final.fit(features_train_final,target_train_final)\n"
   ]
  },
  {
   "cell_type": "code",
   "execution_count": 50,
   "metadata": {},
   "outputs": [],
   "source": [
    "predict_rougher_reg = reg_rougher.predict(features_test)\n",
    "predict_final_reg = reg_final.predict(features_test)"
   ]
  },
  {
   "cell_type": "code",
   "execution_count": 51,
   "metadata": {},
   "outputs": [
    {
     "data": {
      "text/plain": [
       "10.04531950841754"
      ]
     },
     "execution_count": 51,
     "metadata": {},
     "output_type": "execute_result"
    }
   ],
   "source": [
    "full_sMAPE(sMAPE(target_test_rougher,predict_rougher_forrest),sMAPE(target_test_final,predict_final_forrest))"
   ]
  },
  {
   "cell_type": "code",
   "execution_count": 52,
   "metadata": {},
   "outputs": [
    {
     "data": {
      "text/plain": [
       "9.951761714889008"
      ]
     },
     "execution_count": 52,
     "metadata": {},
     "output_type": "execute_result"
    }
   ],
   "source": [
    "full_sMAPE(sMAPE(target_test_rougher,predict_rougher_reg),sMAPE(target_test_final,predict_final_reg))"
   ]
  },
  {
   "cell_type": "markdown",
   "metadata": {},
   "source": [
    "## Проверка моделей на адекватность"
   ]
  },
  {
   "cell_type": "markdown",
   "metadata": {},
   "source": [
    "Определим две константные модели и сравним результаты с результатами наших моделей."
   ]
  },
  {
   "cell_type": "code",
   "execution_count": 53,
   "metadata": {},
   "outputs": [],
   "source": [
    "dummy_reg_rougher = DummyRegressor(strategy=\"mean\")\n",
    "dummy_reg_rougher.fit(features_train_rougher, target_train_rougher)\n",
    "\n",
    "prediction_rougher = dummy_reg_rougher.predict(features_test)\n",
    "\n"
   ]
  },
  {
   "cell_type": "code",
   "execution_count": 54,
   "metadata": {},
   "outputs": [],
   "source": [
    "dummy_reg_final = DummyRegressor(strategy=\"mean\")\n",
    "dummy_reg_final.fit(features_train_final,target_train_final)\n",
    "\n",
    "prediction_final = dummy_reg_final.predict(features_test)\n"
   ]
  },
  {
   "cell_type": "code",
   "execution_count": 55,
   "metadata": {},
   "outputs": [
    {
     "data": {
      "text/plain": [
       "10.29750321993464"
      ]
     },
     "execution_count": 55,
     "metadata": {},
     "output_type": "execute_result"
    }
   ],
   "source": [
    "full_sMAPE(sMAPE(target_test_rougher,prediction_rougher),sMAPE(target_test_final,prediction_final))"
   ]
  },
  {
   "cell_type": "markdown",
   "metadata": {},
   "source": [
    "###### Вывод: ошибка линейной регрессии меньше ошибки константной модели"
   ]
  }
 ],
 "metadata": {
  "ExecuteTimeLog": [
   {
    "duration": 684,
    "start_time": "2022-06-01T09:07:01.627Z"
   },
   {
    "duration": 4,
    "start_time": "2022-06-01T09:07:03.136Z"
   },
   {
    "duration": 90,
    "start_time": "2022-06-01T09:07:09.783Z"
   },
   {
    "duration": 1817,
    "start_time": "2022-06-01T09:08:21.625Z"
   },
   {
    "duration": 36,
    "start_time": "2022-06-01T09:14:58.607Z"
   },
   {
    "duration": 6,
    "start_time": "2022-06-01T09:15:39.584Z"
   },
   {
    "duration": 16,
    "start_time": "2022-06-01T09:18:56.412Z"
   },
   {
    "duration": 89,
    "start_time": "2022-06-01T09:40:02.710Z"
   },
   {
    "duration": 25,
    "start_time": "2022-06-01T09:40:20.312Z"
   },
   {
    "duration": 12,
    "start_time": "2022-06-01T09:40:31.135Z"
   },
   {
    "duration": 7,
    "start_time": "2022-06-01T09:41:02.633Z"
   },
   {
    "duration": 42,
    "start_time": "2022-06-01T09:43:01.906Z"
   },
   {
    "duration": 25,
    "start_time": "2022-06-01T09:43:28.506Z"
   },
   {
    "duration": 240,
    "start_time": "2022-06-01T09:43:53.146Z"
   },
   {
    "duration": 5,
    "start_time": "2022-06-01T09:44:04.338Z"
   },
   {
    "duration": 10,
    "start_time": "2022-06-01T09:50:03.065Z"
   },
   {
    "duration": 6,
    "start_time": "2022-06-01T09:50:04.637Z"
   },
   {
    "duration": 68,
    "start_time": "2022-06-01T09:50:34.568Z"
   },
   {
    "duration": 5,
    "start_time": "2022-06-01T09:50:40.299Z"
   },
   {
    "duration": 5,
    "start_time": "2022-06-01T09:50:41.222Z"
   },
   {
    "duration": 7,
    "start_time": "2022-06-01T09:51:09.080Z"
   },
   {
    "duration": 7,
    "start_time": "2022-06-01T09:51:10.029Z"
   },
   {
    "duration": 9,
    "start_time": "2022-06-01T09:51:25.992Z"
   },
   {
    "duration": 29,
    "start_time": "2022-06-01T09:51:32.910Z"
   },
   {
    "duration": 6,
    "start_time": "2022-06-01T09:51:56.503Z"
   },
   {
    "duration": 6,
    "start_time": "2022-06-01T09:51:56.976Z"
   },
   {
    "duration": 13,
    "start_time": "2022-06-01T09:52:43.054Z"
   },
   {
    "duration": 17,
    "start_time": "2022-06-01T09:52:58.193Z"
   },
   {
    "duration": 8,
    "start_time": "2022-06-01T09:53:25.370Z"
   },
   {
    "duration": 6,
    "start_time": "2022-06-01T09:53:36.866Z"
   },
   {
    "duration": 4,
    "start_time": "2022-06-01T09:54:10.082Z"
   },
   {
    "duration": 437,
    "start_time": "2022-06-01T09:56:52.808Z"
   },
   {
    "duration": 5,
    "start_time": "2022-06-01T09:57:48.404Z"
   },
   {
    "duration": 6,
    "start_time": "2022-06-01T09:57:53.102Z"
   },
   {
    "duration": 67,
    "start_time": "2022-06-01T10:04:07.844Z"
   },
   {
    "duration": 53,
    "start_time": "2022-06-01T10:04:20.430Z"
   },
   {
    "duration": 58,
    "start_time": "2022-06-01T10:04:25.253Z"
   },
   {
    "duration": 17,
    "start_time": "2022-06-01T10:05:36.076Z"
   },
   {
    "duration": 506,
    "start_time": "2022-06-01T10:05:45.570Z"
   },
   {
    "duration": 567,
    "start_time": "2022-06-01T10:06:06.045Z"
   },
   {
    "duration": 25,
    "start_time": "2022-06-01T10:06:21.238Z"
   },
   {
    "duration": 43,
    "start_time": "2022-06-01T10:06:33.246Z"
   },
   {
    "duration": 384,
    "start_time": "2022-06-01T10:06:36.733Z"
   },
   {
    "duration": 21,
    "start_time": "2022-06-01T10:07:07.814Z"
   },
   {
    "duration": 46,
    "start_time": "2022-06-01T10:07:38.486Z"
   },
   {
    "duration": 27,
    "start_time": "2022-06-01T10:08:20.807Z"
   },
   {
    "duration": 38,
    "start_time": "2022-06-01T10:08:28.194Z"
   },
   {
    "duration": 952,
    "start_time": "2022-06-01T10:12:03.712Z"
   },
   {
    "duration": 949,
    "start_time": "2022-06-01T10:12:04.666Z"
   },
   {
    "duration": 11,
    "start_time": "2022-06-01T10:12:05.616Z"
   },
   {
    "duration": 13,
    "start_time": "2022-06-01T10:12:05.629Z"
   },
   {
    "duration": 22,
    "start_time": "2022-06-01T10:12:05.644Z"
   },
   {
    "duration": 45,
    "start_time": "2022-06-01T10:12:05.673Z"
   },
   {
    "duration": 9,
    "start_time": "2022-06-01T10:12:05.719Z"
   },
   {
    "duration": 65,
    "start_time": "2022-06-01T10:12:05.729Z"
   },
   {
    "duration": 36,
    "start_time": "2022-06-01T10:12:05.796Z"
   },
   {
    "duration": 123,
    "start_time": "2022-06-01T10:12:28.680Z"
   },
   {
    "duration": 15,
    "start_time": "2022-06-01T10:12:37.016Z"
   },
   {
    "duration": 9,
    "start_time": "2022-06-01T10:14:15.841Z"
   },
   {
    "duration": 6,
    "start_time": "2022-06-01T10:14:42.538Z"
   },
   {
    "duration": 17,
    "start_time": "2022-06-01T10:14:52.584Z"
   },
   {
    "duration": 14,
    "start_time": "2022-06-01T10:15:15.771Z"
   },
   {
    "duration": 16,
    "start_time": "2022-06-01T10:16:52.210Z"
   },
   {
    "duration": 23,
    "start_time": "2022-06-01T10:17:05.094Z"
   },
   {
    "duration": 321,
    "start_time": "2022-06-01T10:18:11.880Z"
   },
   {
    "duration": 5,
    "start_time": "2022-06-01T10:19:12.702Z"
   },
   {
    "duration": 803,
    "start_time": "2022-06-01T10:19:46.195Z"
   },
   {
    "duration": 7,
    "start_time": "2022-06-01T10:19:51.824Z"
   },
   {
    "duration": 10,
    "start_time": "2022-06-01T10:20:13.582Z"
   },
   {
    "duration": 641,
    "start_time": "2022-06-01T10:20:30.596Z"
   },
   {
    "duration": 14,
    "start_time": "2022-06-01T10:20:35.615Z"
   },
   {
    "duration": 6,
    "start_time": "2022-06-01T10:21:15.517Z"
   },
   {
    "duration": 8,
    "start_time": "2022-06-01T10:21:36.592Z"
   },
   {
    "duration": 3,
    "start_time": "2022-06-01T10:22:45.022Z"
   },
   {
    "duration": 10,
    "start_time": "2022-06-01T10:22:51.725Z"
   },
   {
    "duration": 6,
    "start_time": "2022-06-01T10:23:07.214Z"
   },
   {
    "duration": 4,
    "start_time": "2022-06-01T10:23:18.934Z"
   },
   {
    "duration": 5,
    "start_time": "2022-06-01T10:23:38.333Z"
   },
   {
    "duration": 14,
    "start_time": "2022-06-01T10:23:52.278Z"
   },
   {
    "duration": 931,
    "start_time": "2022-06-01T10:30:25.045Z"
   },
   {
    "duration": 925,
    "start_time": "2022-06-01T10:30:25.984Z"
   },
   {
    "duration": 18,
    "start_time": "2022-06-01T10:30:26.914Z"
   },
   {
    "duration": 14,
    "start_time": "2022-06-01T10:30:26.935Z"
   },
   {
    "duration": 44,
    "start_time": "2022-06-01T10:30:26.962Z"
   },
   {
    "duration": 26,
    "start_time": "2022-06-01T10:30:27.009Z"
   },
   {
    "duration": 21,
    "start_time": "2022-06-01T10:30:27.037Z"
   },
   {
    "duration": 52,
    "start_time": "2022-06-01T10:30:27.059Z"
   },
   {
    "duration": 9,
    "start_time": "2022-06-01T10:30:27.117Z"
   },
   {
    "duration": 22,
    "start_time": "2022-06-01T10:30:27.129Z"
   },
   {
    "duration": 5,
    "start_time": "2022-06-01T10:30:27.153Z"
   },
   {
    "duration": 6,
    "start_time": "2022-06-01T10:31:05.189Z"
   },
   {
    "duration": 9,
    "start_time": "2022-06-01T10:31:06.282Z"
   },
   {
    "duration": 7,
    "start_time": "2022-06-01T10:31:11.442Z"
   },
   {
    "duration": 111,
    "start_time": "2022-06-01T10:31:50.937Z"
   },
   {
    "duration": 9,
    "start_time": "2022-06-01T10:31:54.365Z"
   },
   {
    "duration": 4,
    "start_time": "2022-06-01T10:32:03.622Z"
   },
   {
    "duration": 3,
    "start_time": "2022-06-01T10:32:21.565Z"
   },
   {
    "duration": 1013,
    "start_time": "2022-06-01T10:32:22.583Z"
   },
   {
    "duration": 3,
    "start_time": "2022-06-01T10:32:24.122Z"
   },
   {
    "duration": 5,
    "start_time": "2022-06-01T10:32:25.138Z"
   },
   {
    "duration": 3,
    "start_time": "2022-06-01T10:32:25.602Z"
   },
   {
    "duration": 6,
    "start_time": "2022-06-01T10:32:26.087Z"
   },
   {
    "duration": 6,
    "start_time": "2022-06-01T10:32:26.618Z"
   },
   {
    "duration": 18,
    "start_time": "2022-06-01T10:32:27.155Z"
   },
   {
    "duration": 6,
    "start_time": "2022-06-01T10:32:28.548Z"
   },
   {
    "duration": 4,
    "start_time": "2022-06-01T10:32:29.002Z"
   },
   {
    "duration": 17,
    "start_time": "2022-06-01T10:32:29.451Z"
   },
   {
    "duration": 42,
    "start_time": "2022-06-01T10:34:10.377Z"
   },
   {
    "duration": 6,
    "start_time": "2022-06-01T10:34:45.979Z"
   },
   {
    "duration": 4,
    "start_time": "2022-06-01T10:35:08.740Z"
   },
   {
    "duration": 7,
    "start_time": "2022-06-01T10:35:16.586Z"
   },
   {
    "duration": 5,
    "start_time": "2022-06-01T10:36:52.490Z"
   },
   {
    "duration": 8,
    "start_time": "2022-06-01T10:38:34.006Z"
   },
   {
    "duration": 28,
    "start_time": "2022-06-01T10:38:41.093Z"
   },
   {
    "duration": 11,
    "start_time": "2022-06-01T10:41:45.903Z"
   },
   {
    "duration": 21,
    "start_time": "2022-06-01T10:41:59.592Z"
   },
   {
    "duration": 15,
    "start_time": "2022-06-01T13:42:04.328Z"
   },
   {
    "duration": 11,
    "start_time": "2022-06-01T13:47:38.468Z"
   },
   {
    "duration": 85,
    "start_time": "2022-06-01T13:48:02.203Z"
   },
   {
    "duration": 80,
    "start_time": "2022-06-01T13:49:45.620Z"
   },
   {
    "duration": 11,
    "start_time": "2022-06-01T13:51:57.581Z"
   },
   {
    "duration": 12,
    "start_time": "2022-06-01T13:52:09.413Z"
   },
   {
    "duration": 15,
    "start_time": "2022-06-01T13:52:15.442Z"
   },
   {
    "duration": 2,
    "start_time": "2022-06-01T13:52:30.309Z"
   },
   {
    "duration": 13,
    "start_time": "2022-06-01T13:56:12.151Z"
   },
   {
    "duration": 56,
    "start_time": "2022-06-01T13:56:16.927Z"
   },
   {
    "duration": 9,
    "start_time": "2022-06-01T13:56:32.207Z"
   },
   {
    "duration": 15,
    "start_time": "2022-06-01T13:56:39.276Z"
   },
   {
    "duration": 8,
    "start_time": "2022-06-01T13:56:40.392Z"
   },
   {
    "duration": 7,
    "start_time": "2022-06-01T13:57:07.519Z"
   },
   {
    "duration": 10,
    "start_time": "2022-06-01T13:57:37.623Z"
   },
   {
    "duration": 9,
    "start_time": "2022-06-01T14:00:16.979Z"
   },
   {
    "duration": 2,
    "start_time": "2022-06-01T14:00:29.641Z"
   },
   {
    "duration": 10,
    "start_time": "2022-06-01T14:01:18.581Z"
   },
   {
    "duration": 879,
    "start_time": "2022-06-01T14:01:30.533Z"
   },
   {
    "duration": 793,
    "start_time": "2022-06-01T14:01:31.414Z"
   },
   {
    "duration": 8,
    "start_time": "2022-06-01T14:01:32.209Z"
   },
   {
    "duration": 21,
    "start_time": "2022-06-01T14:01:32.219Z"
   },
   {
    "duration": 16,
    "start_time": "2022-06-01T14:01:32.241Z"
   },
   {
    "duration": 34,
    "start_time": "2022-06-01T14:01:32.259Z"
   },
   {
    "duration": 10,
    "start_time": "2022-06-01T14:01:32.295Z"
   },
   {
    "duration": 6,
    "start_time": "2022-06-01T14:01:32.306Z"
   },
   {
    "duration": 8,
    "start_time": "2022-06-01T14:01:32.313Z"
   },
   {
    "duration": 6,
    "start_time": "2022-06-01T14:01:32.322Z"
   },
   {
    "duration": 14,
    "start_time": "2022-06-01T14:01:32.330Z"
   },
   {
    "duration": 4,
    "start_time": "2022-06-01T14:01:32.346Z"
   },
   {
    "duration": 32,
    "start_time": "2022-06-01T14:01:32.351Z"
   },
   {
    "duration": 15,
    "start_time": "2022-06-01T14:01:32.385Z"
   },
   {
    "duration": 10,
    "start_time": "2022-06-01T14:01:32.401Z"
   },
   {
    "duration": 17,
    "start_time": "2022-06-01T14:01:32.412Z"
   },
   {
    "duration": 7,
    "start_time": "2022-06-01T14:01:32.431Z"
   },
   {
    "duration": 4,
    "start_time": "2022-06-01T14:01:32.440Z"
   },
   {
    "duration": 35,
    "start_time": "2022-06-01T14:01:32.446Z"
   },
   {
    "duration": 52,
    "start_time": "2022-06-01T14:03:35.981Z"
   },
   {
    "duration": 35,
    "start_time": "2022-06-01T14:04:53.766Z"
   },
   {
    "duration": 21,
    "start_time": "2022-06-01T14:04:58.171Z"
   },
   {
    "duration": 822,
    "start_time": "2022-06-01T14:05:06.720Z"
   },
   {
    "duration": 582,
    "start_time": "2022-06-01T14:05:07.544Z"
   },
   {
    "duration": 8,
    "start_time": "2022-06-01T14:05:08.127Z"
   },
   {
    "duration": 25,
    "start_time": "2022-06-01T14:05:08.136Z"
   },
   {
    "duration": 5,
    "start_time": "2022-06-01T14:05:08.165Z"
   },
   {
    "duration": 8,
    "start_time": "2022-06-01T14:05:08.172Z"
   },
   {
    "duration": 7,
    "start_time": "2022-06-01T14:05:08.181Z"
   },
   {
    "duration": 12,
    "start_time": "2022-06-01T14:05:08.189Z"
   },
   {
    "duration": 10,
    "start_time": "2022-06-01T14:05:08.202Z"
   },
   {
    "duration": 4,
    "start_time": "2022-06-01T14:05:08.214Z"
   },
   {
    "duration": 16,
    "start_time": "2022-06-01T14:05:08.220Z"
   },
   {
    "duration": 19,
    "start_time": "2022-06-01T14:05:08.238Z"
   },
   {
    "duration": 7,
    "start_time": "2022-06-01T14:05:08.263Z"
   },
   {
    "duration": 15,
    "start_time": "2022-06-01T14:05:08.272Z"
   },
   {
    "duration": 53,
    "start_time": "2022-06-01T14:05:08.289Z"
   },
   {
    "duration": 26,
    "start_time": "2022-06-01T14:05:08.344Z"
   },
   {
    "duration": 13,
    "start_time": "2022-06-01T14:05:08.372Z"
   },
   {
    "duration": 7,
    "start_time": "2022-06-01T14:05:08.386Z"
   },
   {
    "duration": 21,
    "start_time": "2022-06-01T14:05:08.394Z"
   },
   {
    "duration": 41,
    "start_time": "2022-06-01T14:05:22.991Z"
   },
   {
    "duration": 872,
    "start_time": "2022-06-01T14:05:30.406Z"
   },
   {
    "duration": 725,
    "start_time": "2022-06-01T14:05:31.280Z"
   },
   {
    "duration": 9,
    "start_time": "2022-06-01T14:05:32.007Z"
   },
   {
    "duration": 53,
    "start_time": "2022-06-01T14:05:32.018Z"
   },
   {
    "duration": 6,
    "start_time": "2022-06-01T14:05:32.074Z"
   },
   {
    "duration": 18,
    "start_time": "2022-06-01T14:05:32.081Z"
   },
   {
    "duration": 22,
    "start_time": "2022-06-01T14:05:32.101Z"
   },
   {
    "duration": 9,
    "start_time": "2022-06-01T14:05:32.125Z"
   },
   {
    "duration": 9,
    "start_time": "2022-06-01T14:05:32.136Z"
   },
   {
    "duration": 41,
    "start_time": "2022-06-01T14:05:32.147Z"
   },
   {
    "duration": 42,
    "start_time": "2022-06-01T14:05:32.189Z"
   },
   {
    "duration": 13,
    "start_time": "2022-06-01T14:05:32.233Z"
   },
   {
    "duration": 21,
    "start_time": "2022-06-01T14:05:32.248Z"
   },
   {
    "duration": 26,
    "start_time": "2022-06-01T14:05:32.271Z"
   },
   {
    "duration": 28,
    "start_time": "2022-06-01T14:05:32.299Z"
   },
   {
    "duration": 21,
    "start_time": "2022-06-01T14:05:32.328Z"
   },
   {
    "duration": 17,
    "start_time": "2022-06-01T14:05:32.351Z"
   },
   {
    "duration": 6,
    "start_time": "2022-06-01T14:05:32.370Z"
   },
   {
    "duration": 23,
    "start_time": "2022-06-01T14:05:32.378Z"
   },
   {
    "duration": 68,
    "start_time": "2022-06-01T14:06:30.043Z"
   },
   {
    "duration": 864,
    "start_time": "2022-06-01T14:06:36.405Z"
   },
   {
    "duration": 689,
    "start_time": "2022-06-01T14:06:37.271Z"
   },
   {
    "duration": 9,
    "start_time": "2022-06-01T14:06:37.970Z"
   },
   {
    "duration": 22,
    "start_time": "2022-06-01T14:06:37.980Z"
   },
   {
    "duration": 6,
    "start_time": "2022-06-01T14:06:38.005Z"
   },
   {
    "duration": 9,
    "start_time": "2022-06-01T14:06:38.012Z"
   },
   {
    "duration": 12,
    "start_time": "2022-06-01T14:06:38.023Z"
   },
   {
    "duration": 6,
    "start_time": "2022-06-01T14:06:38.036Z"
   },
   {
    "duration": 15,
    "start_time": "2022-06-01T14:06:38.044Z"
   },
   {
    "duration": 16,
    "start_time": "2022-06-01T14:06:38.061Z"
   },
   {
    "duration": 14,
    "start_time": "2022-06-01T14:06:38.079Z"
   },
   {
    "duration": 6,
    "start_time": "2022-06-01T14:06:38.094Z"
   },
   {
    "duration": 3,
    "start_time": "2022-06-01T14:06:38.102Z"
   },
   {
    "duration": 14,
    "start_time": "2022-06-01T14:06:38.108Z"
   },
   {
    "duration": 136,
    "start_time": "2022-06-01T14:06:38.123Z"
   },
   {
    "duration": 24,
    "start_time": "2022-06-01T14:06:38.262Z"
   },
   {
    "duration": 10,
    "start_time": "2022-06-01T14:06:38.288Z"
   },
   {
    "duration": 2,
    "start_time": "2022-06-01T14:06:38.300Z"
   },
   {
    "duration": 23,
    "start_time": "2022-06-01T14:06:38.304Z"
   },
   {
    "duration": 55,
    "start_time": "2022-06-01T14:07:27.684Z"
   },
   {
    "duration": 807,
    "start_time": "2022-06-01T14:07:34.396Z"
   },
   {
    "duration": 628,
    "start_time": "2022-06-01T14:07:35.205Z"
   },
   {
    "duration": 9,
    "start_time": "2022-06-01T14:07:35.835Z"
   },
   {
    "duration": 25,
    "start_time": "2022-06-01T14:07:35.846Z"
   },
   {
    "duration": 7,
    "start_time": "2022-06-01T14:07:35.873Z"
   },
   {
    "duration": 4,
    "start_time": "2022-06-01T14:07:35.882Z"
   },
   {
    "duration": 8,
    "start_time": "2022-06-01T14:07:35.887Z"
   },
   {
    "duration": 8,
    "start_time": "2022-06-01T14:07:35.896Z"
   },
   {
    "duration": 6,
    "start_time": "2022-06-01T14:07:35.905Z"
   },
   {
    "duration": 4,
    "start_time": "2022-06-01T14:07:35.914Z"
   },
   {
    "duration": 43,
    "start_time": "2022-06-01T14:07:35.919Z"
   },
   {
    "duration": 4,
    "start_time": "2022-06-01T14:07:35.963Z"
   },
   {
    "duration": 3,
    "start_time": "2022-06-01T14:07:35.969Z"
   },
   {
    "duration": 12,
    "start_time": "2022-06-01T14:07:35.974Z"
   },
   {
    "duration": 77,
    "start_time": "2022-06-01T14:07:35.988Z"
   },
   {
    "duration": 19,
    "start_time": "2022-06-01T14:07:36.067Z"
   },
   {
    "duration": 8,
    "start_time": "2022-06-01T14:07:36.088Z"
   },
   {
    "duration": 2,
    "start_time": "2022-06-01T14:07:36.097Z"
   },
   {
    "duration": 26,
    "start_time": "2022-06-01T14:07:36.100Z"
   },
   {
    "duration": 45,
    "start_time": "2022-06-01T14:09:00.668Z"
   },
   {
    "duration": 57,
    "start_time": "2022-06-01T14:11:38.251Z"
   },
   {
    "duration": 861,
    "start_time": "2022-06-01T14:12:41.728Z"
   },
   {
    "duration": 594,
    "start_time": "2022-06-01T14:12:42.592Z"
   },
   {
    "duration": 9,
    "start_time": "2022-06-01T14:12:43.187Z"
   },
   {
    "duration": 20,
    "start_time": "2022-06-01T14:12:43.198Z"
   },
   {
    "duration": 5,
    "start_time": "2022-06-01T14:12:43.220Z"
   },
   {
    "duration": 3,
    "start_time": "2022-06-01T14:12:43.227Z"
   },
   {
    "duration": 28,
    "start_time": "2022-06-01T14:12:43.232Z"
   },
   {
    "duration": 10,
    "start_time": "2022-06-01T14:12:43.262Z"
   },
   {
    "duration": 7,
    "start_time": "2022-06-01T14:12:43.274Z"
   },
   {
    "duration": 3,
    "start_time": "2022-06-01T14:12:43.283Z"
   },
   {
    "duration": 16,
    "start_time": "2022-06-01T14:12:43.287Z"
   },
   {
    "duration": 5,
    "start_time": "2022-06-01T14:12:43.304Z"
   },
   {
    "duration": 5,
    "start_time": "2022-06-01T14:12:43.310Z"
   },
   {
    "duration": 13,
    "start_time": "2022-06-01T14:12:43.316Z"
   },
   {
    "duration": 82,
    "start_time": "2022-06-01T14:12:43.330Z"
   },
   {
    "duration": 22,
    "start_time": "2022-06-01T14:12:43.414Z"
   },
   {
    "duration": 5,
    "start_time": "2022-06-01T14:13:20.149Z"
   },
   {
    "duration": 312,
    "start_time": "2022-06-01T14:13:26.350Z"
   },
   {
    "duration": 909,
    "start_time": "2022-06-01T14:17:19.650Z"
   },
   {
    "duration": 591,
    "start_time": "2022-06-01T14:17:20.561Z"
   },
   {
    "duration": 8,
    "start_time": "2022-06-01T14:17:21.158Z"
   },
   {
    "duration": 37,
    "start_time": "2022-06-01T14:17:21.168Z"
   },
   {
    "duration": 6,
    "start_time": "2022-06-01T14:17:21.208Z"
   },
   {
    "duration": 7,
    "start_time": "2022-06-01T14:17:21.215Z"
   },
   {
    "duration": 8,
    "start_time": "2022-06-01T14:17:21.224Z"
   },
   {
    "duration": 7,
    "start_time": "2022-06-01T14:17:21.233Z"
   },
   {
    "duration": 7,
    "start_time": "2022-06-01T14:17:21.241Z"
   },
   {
    "duration": 5,
    "start_time": "2022-06-01T14:17:21.253Z"
   },
   {
    "duration": 19,
    "start_time": "2022-06-01T14:17:21.259Z"
   },
   {
    "duration": 6,
    "start_time": "2022-06-01T14:17:21.279Z"
   },
   {
    "duration": 7,
    "start_time": "2022-06-01T14:17:21.286Z"
   },
   {
    "duration": 17,
    "start_time": "2022-06-01T14:17:21.295Z"
   },
   {
    "duration": 91,
    "start_time": "2022-06-01T14:17:21.314Z"
   },
   {
    "duration": 5,
    "start_time": "2022-06-01T14:17:21.407Z"
   },
   {
    "duration": 39,
    "start_time": "2022-06-01T14:17:21.414Z"
   },
   {
    "duration": 375,
    "start_time": "2022-06-01T14:17:21.456Z"
   },
   {
    "duration": 1169,
    "start_time": "2022-06-04T13:44:21.416Z"
   },
   {
    "duration": 1637,
    "start_time": "2022-06-04T13:44:22.587Z"
   },
   {
    "duration": 8,
    "start_time": "2022-06-04T13:44:24.266Z"
   },
   {
    "duration": 23,
    "start_time": "2022-06-04T13:44:24.276Z"
   },
   {
    "duration": 17,
    "start_time": "2022-06-04T13:44:24.301Z"
   },
   {
    "duration": 3,
    "start_time": "2022-06-04T13:44:24.366Z"
   },
   {
    "duration": 11,
    "start_time": "2022-06-04T13:44:24.370Z"
   },
   {
    "duration": 7,
    "start_time": "2022-06-04T13:44:24.382Z"
   },
   {
    "duration": 7,
    "start_time": "2022-06-04T13:44:24.391Z"
   },
   {
    "duration": 9,
    "start_time": "2022-06-04T13:44:24.399Z"
   },
   {
    "duration": 63,
    "start_time": "2022-06-04T13:44:24.409Z"
   },
   {
    "duration": 5,
    "start_time": "2022-06-04T13:44:24.474Z"
   },
   {
    "duration": 6,
    "start_time": "2022-06-04T13:44:24.480Z"
   },
   {
    "duration": 15,
    "start_time": "2022-06-04T13:44:24.488Z"
   },
   {
    "duration": 175,
    "start_time": "2022-06-04T13:44:24.505Z"
   },
   {
    "duration": 4,
    "start_time": "2022-06-04T13:44:24.681Z"
   },
   {
    "duration": 92,
    "start_time": "2022-06-04T13:44:24.687Z"
   },
   {
    "duration": 535,
    "start_time": "2022-06-04T13:44:24.781Z"
   },
   {
    "duration": 6,
    "start_time": "2022-06-04T13:44:25.320Z"
   },
   {
    "duration": 31,
    "start_time": "2022-06-04T13:44:32.557Z"
   },
   {
    "duration": 6,
    "start_time": "2022-06-04T13:45:20.396Z"
   },
   {
    "duration": 28,
    "start_time": "2022-06-04T13:45:31.044Z"
   },
   {
    "duration": 6,
    "start_time": "2022-06-04T13:45:44.148Z"
   },
   {
    "duration": 25,
    "start_time": "2022-06-04T13:47:01.653Z"
   },
   {
    "duration": 6,
    "start_time": "2022-06-04T13:51:45.152Z"
   },
   {
    "duration": 8,
    "start_time": "2022-06-04T13:51:54.805Z"
   },
   {
    "duration": 6,
    "start_time": "2022-06-04T13:52:59.119Z"
   },
   {
    "duration": 5,
    "start_time": "2022-06-04T13:53:41.521Z"
   },
   {
    "duration": 8,
    "start_time": "2022-06-04T13:53:45.810Z"
   },
   {
    "duration": 3,
    "start_time": "2022-06-04T13:57:12.536Z"
   },
   {
    "duration": 4,
    "start_time": "2022-06-04T13:57:22.514Z"
   },
   {
    "duration": 3,
    "start_time": "2022-06-04T13:57:45.947Z"
   },
   {
    "duration": 2,
    "start_time": "2022-06-04T13:57:50.801Z"
   },
   {
    "duration": 29,
    "start_time": "2022-06-04T14:06:41.458Z"
   },
   {
    "duration": 15,
    "start_time": "2022-06-04T14:06:51.987Z"
   },
   {
    "duration": 6,
    "start_time": "2022-06-04T14:08:40.246Z"
   },
   {
    "duration": 9,
    "start_time": "2022-06-04T14:08:49.844Z"
   },
   {
    "duration": 40,
    "start_time": "2022-06-04T14:11:26.922Z"
   },
   {
    "duration": 7,
    "start_time": "2022-06-04T14:11:45.703Z"
   },
   {
    "duration": 106,
    "start_time": "2022-06-04T14:12:16.212Z"
   },
   {
    "duration": 22,
    "start_time": "2022-06-04T14:12:20.883Z"
   },
   {
    "duration": 83,
    "start_time": "2022-06-04T14:12:46.096Z"
   },
   {
    "duration": 24,
    "start_time": "2022-06-04T14:12:56.291Z"
   },
   {
    "duration": 736,
    "start_time": "2022-06-04T14:13:10.999Z"
   },
   {
    "duration": 292,
    "start_time": "2022-06-04T14:13:38.536Z"
   },
   {
    "duration": 55,
    "start_time": "2022-06-04T14:14:22.032Z"
   },
   {
    "duration": 3540,
    "start_time": "2022-06-04T14:14:43.400Z"
   },
   {
    "duration": 2,
    "start_time": "2022-06-04T14:15:45.292Z"
   },
   {
    "duration": 3,
    "start_time": "2022-06-04T14:15:46.695Z"
   },
   {
    "duration": 24,
    "start_time": "2022-06-04T14:18:32.451Z"
   },
   {
    "duration": 3,
    "start_time": "2022-06-04T14:18:53.731Z"
   },
   {
    "duration": 3872,
    "start_time": "2022-06-04T14:18:56.220Z"
   },
   {
    "duration": 6165,
    "start_time": "2022-06-04T14:19:44.699Z"
   },
   {
    "duration": 17125,
    "start_time": "2022-06-04T14:21:01.211Z"
   },
   {
    "duration": 7322,
    "start_time": "2022-06-04T14:21:48.718Z"
   },
   {
    "duration": 6159,
    "start_time": "2022-06-04T14:21:57.995Z"
   },
   {
    "duration": 7795,
    "start_time": "2022-06-04T14:23:08.022Z"
   },
   {
    "duration": 7561,
    "start_time": "2022-06-04T14:24:16.936Z"
   },
   {
    "duration": 8098,
    "start_time": "2022-06-04T14:25:00.647Z"
   },
   {
    "duration": 4644,
    "start_time": "2022-06-04T14:25:15.847Z"
   },
   {
    "duration": 5050,
    "start_time": "2022-06-04T14:26:00.996Z"
   },
   {
    "duration": 4610,
    "start_time": "2022-06-04T14:26:08.492Z"
   },
   {
    "duration": 646,
    "start_time": "2022-06-04T14:26:40.824Z"
   },
   {
    "duration": 4794,
    "start_time": "2022-06-04T14:26:48.892Z"
   },
   {
    "duration": 16,
    "start_time": "2022-06-04T14:27:12.823Z"
   },
   {
    "duration": 25,
    "start_time": "2022-06-04T14:28:28.944Z"
   },
   {
    "duration": 5076,
    "start_time": "2022-06-04T14:28:35.552Z"
   },
   {
    "duration": 4496,
    "start_time": "2022-06-04T14:28:51.900Z"
   },
   {
    "duration": 4728,
    "start_time": "2022-06-04T14:31:34.538Z"
   },
   {
    "duration": 4413,
    "start_time": "2022-06-04T14:32:14.138Z"
   },
   {
    "duration": 4559,
    "start_time": "2022-06-04T14:33:03.115Z"
   },
   {
    "duration": 1008,
    "start_time": "2022-06-04T14:34:12.922Z"
   },
   {
    "duration": 1118,
    "start_time": "2022-06-04T14:34:21.700Z"
   },
   {
    "duration": 1206,
    "start_time": "2022-06-04T14:34:30.411Z"
   },
   {
    "duration": 1060,
    "start_time": "2022-06-04T14:34:51.154Z"
   },
   {
    "duration": 958,
    "start_time": "2022-06-04T14:34:59.018Z"
   },
   {
    "duration": 4639,
    "start_time": "2022-06-04T14:35:10.738Z"
   },
   {
    "duration": 4692,
    "start_time": "2022-06-04T14:35:27.122Z"
   },
   {
    "duration": 4562,
    "start_time": "2022-06-04T14:36:47.099Z"
   },
   {
    "duration": 4440,
    "start_time": "2022-06-04T14:39:39.926Z"
   },
   {
    "duration": 288,
    "start_time": "2022-06-04T14:44:02.300Z"
   },
   {
    "duration": 15,
    "start_time": "2022-06-04T14:45:02.030Z"
   },
   {
    "duration": 11,
    "start_time": "2022-06-04T14:45:06.464Z"
   },
   {
    "duration": 135,
    "start_time": "2022-06-04T14:45:13.822Z"
   },
   {
    "duration": 135,
    "start_time": "2022-06-04T14:45:39.870Z"
   },
   {
    "duration": 153,
    "start_time": "2022-06-04T14:47:00.720Z"
   },
   {
    "duration": 12,
    "start_time": "2022-06-04T14:50:28.152Z"
   },
   {
    "duration": 133,
    "start_time": "2022-06-04T14:50:41.330Z"
   },
   {
    "duration": 12,
    "start_time": "2022-06-04T14:51:32.211Z"
   },
   {
    "duration": 130,
    "start_time": "2022-06-04T14:51:41.126Z"
   },
   {
    "duration": 148,
    "start_time": "2022-06-04T14:53:03.702Z"
   },
   {
    "duration": 950,
    "start_time": "2022-06-04T14:53:29.147Z"
   },
   {
    "duration": 335,
    "start_time": "2022-06-04T14:53:40.697Z"
   },
   {
    "duration": 259,
    "start_time": "2022-06-04T14:53:49.506Z"
   },
   {
    "duration": 274,
    "start_time": "2022-06-04T14:55:10.813Z"
   },
   {
    "duration": 427,
    "start_time": "2022-06-04T14:55:52.202Z"
   },
   {
    "duration": 283,
    "start_time": "2022-06-04T14:56:40.564Z"
   },
   {
    "duration": 10,
    "start_time": "2022-06-04T15:17:52.589Z"
   },
   {
    "duration": 415,
    "start_time": "2022-06-04T15:18:03.638Z"
   },
   {
    "duration": 20,
    "start_time": "2022-06-04T15:18:17.701Z"
   },
   {
    "duration": 13,
    "start_time": "2022-06-04T15:18:26.246Z"
   },
   {
    "duration": 14,
    "start_time": "2022-06-04T15:18:37.382Z"
   },
   {
    "duration": 16,
    "start_time": "2022-06-04T15:18:49.121Z"
   },
   {
    "duration": 13,
    "start_time": "2022-06-04T15:19:08.481Z"
   },
   {
    "duration": 1185,
    "start_time": "2022-06-04T15:19:27.782Z"
   },
   {
    "duration": 3,
    "start_time": "2022-06-04T15:19:28.970Z"
   },
   {
    "duration": 1519,
    "start_time": "2022-06-04T15:19:28.975Z"
   },
   {
    "duration": 10,
    "start_time": "2022-06-04T15:19:30.496Z"
   },
   {
    "duration": 20,
    "start_time": "2022-06-04T15:19:30.508Z"
   },
   {
    "duration": 28,
    "start_time": "2022-06-04T15:19:30.530Z"
   },
   {
    "duration": 26,
    "start_time": "2022-06-04T15:19:30.560Z"
   },
   {
    "duration": 25,
    "start_time": "2022-06-04T15:19:30.587Z"
   },
   {
    "duration": 14,
    "start_time": "2022-06-04T15:19:30.614Z"
   },
   {
    "duration": 12,
    "start_time": "2022-06-04T15:19:30.629Z"
   },
   {
    "duration": 9,
    "start_time": "2022-06-04T15:19:30.642Z"
   },
   {
    "duration": 26,
    "start_time": "2022-06-04T15:19:30.652Z"
   },
   {
    "duration": 29,
    "start_time": "2022-06-04T15:19:30.679Z"
   },
   {
    "duration": 23,
    "start_time": "2022-06-04T15:19:30.710Z"
   },
   {
    "duration": 23,
    "start_time": "2022-06-04T15:19:30.735Z"
   },
   {
    "duration": 146,
    "start_time": "2022-06-04T15:19:30.760Z"
   },
   {
    "duration": 5,
    "start_time": "2022-06-04T15:19:30.908Z"
   },
   {
    "duration": 40,
    "start_time": "2022-06-04T15:19:30.914Z"
   },
   {
    "duration": 264,
    "start_time": "2022-06-04T15:19:30.956Z"
   },
   {
    "duration": 5,
    "start_time": "2022-06-04T15:19:31.222Z"
   },
   {
    "duration": 17,
    "start_time": "2022-06-04T15:19:31.229Z"
   },
   {
    "duration": 10,
    "start_time": "2022-06-04T15:19:31.248Z"
   },
   {
    "duration": 34,
    "start_time": "2022-06-04T15:19:31.260Z"
   },
   {
    "duration": 4679,
    "start_time": "2022-06-04T15:19:31.296Z"
   },
   {
    "duration": 373,
    "start_time": "2022-06-04T15:19:35.976Z"
   },
   {
    "duration": 117,
    "start_time": "2022-06-04T15:19:36.350Z"
   },
   {
    "duration": 11,
    "start_time": "2022-06-04T15:19:51.525Z"
   },
   {
    "duration": 28,
    "start_time": "2022-06-04T15:19:58.426Z"
   },
   {
    "duration": 46,
    "start_time": "2022-06-04T15:20:57.677Z"
   },
   {
    "duration": 1130,
    "start_time": "2022-06-04T15:22:00.518Z"
   },
   {
    "duration": 3,
    "start_time": "2022-06-04T15:22:01.650Z"
   },
   {
    "duration": 702,
    "start_time": "2022-06-04T15:22:01.655Z"
   },
   {
    "duration": 9,
    "start_time": "2022-06-04T15:22:02.359Z"
   },
   {
    "duration": 6,
    "start_time": "2022-06-04T15:22:02.370Z"
   },
   {
    "duration": 13,
    "start_time": "2022-06-04T15:22:02.378Z"
   },
   {
    "duration": 11,
    "start_time": "2022-06-04T15:22:02.392Z"
   },
   {
    "duration": 22,
    "start_time": "2022-06-04T15:22:02.404Z"
   },
   {
    "duration": 11,
    "start_time": "2022-06-04T15:22:02.428Z"
   },
   {
    "duration": 13,
    "start_time": "2022-06-04T15:22:02.440Z"
   },
   {
    "duration": 20,
    "start_time": "2022-06-04T15:22:02.455Z"
   },
   {
    "duration": 14,
    "start_time": "2022-06-04T15:22:02.477Z"
   },
   {
    "duration": 12,
    "start_time": "2022-06-04T15:22:02.492Z"
   },
   {
    "duration": 16,
    "start_time": "2022-06-04T15:22:02.506Z"
   },
   {
    "duration": 17,
    "start_time": "2022-06-04T15:22:02.524Z"
   },
   {
    "duration": 146,
    "start_time": "2022-06-04T15:22:02.542Z"
   },
   {
    "duration": 4,
    "start_time": "2022-06-04T15:22:02.690Z"
   },
   {
    "duration": 42,
    "start_time": "2022-06-04T15:22:02.696Z"
   },
   {
    "duration": 277,
    "start_time": "2022-06-04T15:22:02.740Z"
   },
   {
    "duration": 6,
    "start_time": "2022-06-04T15:22:03.019Z"
   },
   {
    "duration": 13,
    "start_time": "2022-06-04T15:22:03.027Z"
   },
   {
    "duration": 5,
    "start_time": "2022-06-04T15:22:03.042Z"
   },
   {
    "duration": 27,
    "start_time": "2022-06-04T15:22:03.049Z"
   },
   {
    "duration": 4625,
    "start_time": "2022-06-04T15:22:03.078Z"
   },
   {
    "duration": 382,
    "start_time": "2022-06-04T15:22:07.705Z"
   },
   {
    "duration": 164,
    "start_time": "2022-06-04T15:22:08.089Z"
   },
   {
    "duration": 0,
    "start_time": "2022-06-04T15:22:08.255Z"
   },
   {
    "duration": 7,
    "start_time": "2022-06-04T15:26:05.784Z"
   },
   {
    "duration": 426,
    "start_time": "2022-06-04T15:26:11.881Z"
   },
   {
    "duration": 5,
    "start_time": "2022-06-04T15:27:28.941Z"
   },
   {
    "duration": 10,
    "start_time": "2022-06-04T15:27:36.845Z"
   },
   {
    "duration": 14,
    "start_time": "2022-06-04T15:27:50.469Z"
   },
   {
    "duration": 1246,
    "start_time": "2022-06-04T15:28:05.933Z"
   },
   {
    "duration": 4,
    "start_time": "2022-06-04T15:28:07.181Z"
   },
   {
    "duration": 694,
    "start_time": "2022-06-04T15:28:07.187Z"
   },
   {
    "duration": 9,
    "start_time": "2022-06-04T15:28:07.883Z"
   },
   {
    "duration": 5,
    "start_time": "2022-06-04T15:28:07.894Z"
   },
   {
    "duration": 8,
    "start_time": "2022-06-04T15:28:07.900Z"
   },
   {
    "duration": 5,
    "start_time": "2022-06-04T15:28:07.910Z"
   },
   {
    "duration": 9,
    "start_time": "2022-06-04T15:28:07.916Z"
   },
   {
    "duration": 7,
    "start_time": "2022-06-04T15:28:07.927Z"
   },
   {
    "duration": 6,
    "start_time": "2022-06-04T15:28:07.964Z"
   },
   {
    "duration": 5,
    "start_time": "2022-06-04T15:28:07.972Z"
   },
   {
    "duration": 4,
    "start_time": "2022-06-04T15:28:07.979Z"
   },
   {
    "duration": 6,
    "start_time": "2022-06-04T15:28:07.985Z"
   },
   {
    "duration": 8,
    "start_time": "2022-06-04T15:28:07.995Z"
   },
   {
    "duration": 20,
    "start_time": "2022-06-04T15:28:08.004Z"
   },
   {
    "duration": 170,
    "start_time": "2022-06-04T15:28:08.026Z"
   },
   {
    "duration": 5,
    "start_time": "2022-06-04T15:28:08.197Z"
   },
   {
    "duration": 34,
    "start_time": "2022-06-04T15:28:08.204Z"
   },
   {
    "duration": 278,
    "start_time": "2022-06-04T15:28:08.239Z"
   },
   {
    "duration": 5,
    "start_time": "2022-06-04T15:28:08.519Z"
   },
   {
    "duration": 6,
    "start_time": "2022-06-04T15:28:08.526Z"
   },
   {
    "duration": 38,
    "start_time": "2022-06-04T15:28:08.533Z"
   },
   {
    "duration": 22,
    "start_time": "2022-06-04T15:28:08.573Z"
   },
   {
    "duration": 4418,
    "start_time": "2022-06-04T15:28:08.597Z"
   },
   {
    "duration": 405,
    "start_time": "2022-06-04T15:28:13.017Z"
   },
   {
    "duration": 6,
    "start_time": "2022-06-04T15:28:13.424Z"
   },
   {
    "duration": 51,
    "start_time": "2022-06-04T15:28:13.431Z"
   },
   {
    "duration": 33,
    "start_time": "2022-06-04T15:28:13.484Z"
   },
   {
    "duration": 1277,
    "start_time": "2022-06-04T15:28:26.722Z"
   },
   {
    "duration": 3,
    "start_time": "2022-06-04T15:28:28.001Z"
   },
   {
    "duration": 656,
    "start_time": "2022-06-04T15:28:28.006Z"
   },
   {
    "duration": 10,
    "start_time": "2022-06-04T15:28:28.663Z"
   },
   {
    "duration": 9,
    "start_time": "2022-06-04T15:28:28.674Z"
   },
   {
    "duration": 8,
    "start_time": "2022-06-04T15:28:28.685Z"
   },
   {
    "duration": 6,
    "start_time": "2022-06-04T15:28:28.695Z"
   },
   {
    "duration": 14,
    "start_time": "2022-06-04T15:28:28.703Z"
   },
   {
    "duration": 5,
    "start_time": "2022-06-04T15:28:28.719Z"
   },
   {
    "duration": 20,
    "start_time": "2022-06-04T15:28:28.727Z"
   },
   {
    "duration": 16,
    "start_time": "2022-06-04T15:28:28.750Z"
   },
   {
    "duration": 6,
    "start_time": "2022-06-04T15:28:28.769Z"
   },
   {
    "duration": 8,
    "start_time": "2022-06-04T15:28:28.778Z"
   },
   {
    "duration": 6,
    "start_time": "2022-06-04T15:28:28.787Z"
   },
   {
    "duration": 15,
    "start_time": "2022-06-04T15:28:28.794Z"
   },
   {
    "duration": 194,
    "start_time": "2022-06-04T15:28:28.811Z"
   },
   {
    "duration": 6,
    "start_time": "2022-06-04T15:28:29.007Z"
   },
   {
    "duration": 60,
    "start_time": "2022-06-04T15:28:29.016Z"
   },
   {
    "duration": 316,
    "start_time": "2022-06-04T15:28:29.079Z"
   },
   {
    "duration": 5,
    "start_time": "2022-06-04T15:28:29.396Z"
   },
   {
    "duration": 3,
    "start_time": "2022-06-04T15:28:29.403Z"
   },
   {
    "duration": 35,
    "start_time": "2022-06-04T15:28:29.408Z"
   },
   {
    "duration": 30,
    "start_time": "2022-06-04T15:28:29.444Z"
   },
   {
    "duration": 4723,
    "start_time": "2022-06-04T15:28:29.476Z"
   },
   {
    "duration": 423,
    "start_time": "2022-06-04T15:28:34.201Z"
   },
   {
    "duration": 152,
    "start_time": "2022-06-04T15:28:34.626Z"
   },
   {
    "duration": 0,
    "start_time": "2022-06-04T15:28:34.780Z"
   },
   {
    "duration": 0,
    "start_time": "2022-06-04T15:28:34.782Z"
   },
   {
    "duration": 3966,
    "start_time": "2022-06-05T07:51:46.782Z"
   },
   {
    "duration": 3,
    "start_time": "2022-06-05T07:51:50.751Z"
   },
   {
    "duration": 3544,
    "start_time": "2022-06-05T07:51:50.756Z"
   },
   {
    "duration": 10,
    "start_time": "2022-06-05T07:51:54.302Z"
   },
   {
    "duration": 6,
    "start_time": "2022-06-05T07:51:54.314Z"
   },
   {
    "duration": 12,
    "start_time": "2022-06-05T07:51:54.321Z"
   },
   {
    "duration": 5,
    "start_time": "2022-06-05T07:51:54.334Z"
   },
   {
    "duration": 9,
    "start_time": "2022-06-05T07:51:54.341Z"
   },
   {
    "duration": 5,
    "start_time": "2022-06-05T07:51:54.352Z"
   },
   {
    "duration": 27,
    "start_time": "2022-06-05T07:51:54.360Z"
   },
   {
    "duration": 8,
    "start_time": "2022-06-05T07:51:54.389Z"
   },
   {
    "duration": 5,
    "start_time": "2022-06-05T07:51:54.399Z"
   },
   {
    "duration": 11,
    "start_time": "2022-06-05T07:51:54.406Z"
   },
   {
    "duration": 4,
    "start_time": "2022-06-05T07:51:54.419Z"
   },
   {
    "duration": 17,
    "start_time": "2022-06-05T07:51:54.425Z"
   },
   {
    "duration": 155,
    "start_time": "2022-06-05T07:51:54.444Z"
   },
   {
    "duration": 5,
    "start_time": "2022-06-05T07:51:54.601Z"
   },
   {
    "duration": 63,
    "start_time": "2022-06-05T07:51:54.608Z"
   },
   {
    "duration": 283,
    "start_time": "2022-06-05T07:51:54.674Z"
   },
   {
    "duration": 9,
    "start_time": "2022-06-05T07:51:54.959Z"
   },
   {
    "duration": 19,
    "start_time": "2022-06-05T07:51:54.970Z"
   },
   {
    "duration": 35,
    "start_time": "2022-06-05T07:51:54.991Z"
   },
   {
    "duration": 16,
    "start_time": "2022-06-05T07:51:55.028Z"
   },
   {
    "duration": 5069,
    "start_time": "2022-06-05T07:51:55.046Z"
   },
   {
    "duration": 467,
    "start_time": "2022-06-05T07:52:00.117Z"
   },
   {
    "duration": 166,
    "start_time": "2022-06-05T07:52:00.586Z"
   },
   {
    "duration": 0,
    "start_time": "2022-06-05T07:52:00.753Z"
   },
   {
    "duration": 0,
    "start_time": "2022-06-05T07:52:00.755Z"
   },
   {
    "duration": 2,
    "start_time": "2022-06-05T07:53:32.399Z"
   },
   {
    "duration": 2,
    "start_time": "2022-06-05T07:53:32.927Z"
   },
   {
    "duration": 849,
    "start_time": "2022-06-05T07:53:34.301Z"
   },
   {
    "duration": 11,
    "start_time": "2022-06-05T07:53:36.448Z"
   },
   {
    "duration": 15,
    "start_time": "2022-06-05T07:55:28.808Z"
   },
   {
    "duration": 3,
    "start_time": "2022-06-05T07:55:38.980Z"
   },
   {
    "duration": 1230,
    "start_time": "2022-06-05T07:58:24.211Z"
   },
   {
    "duration": 2,
    "start_time": "2022-06-05T07:58:25.444Z"
   },
   {
    "duration": 790,
    "start_time": "2022-06-05T07:58:25.448Z"
   },
   {
    "duration": 10,
    "start_time": "2022-06-05T07:58:26.241Z"
   },
   {
    "duration": 11,
    "start_time": "2022-06-05T07:58:26.253Z"
   },
   {
    "duration": 7,
    "start_time": "2022-06-05T07:58:26.266Z"
   },
   {
    "duration": 5,
    "start_time": "2022-06-05T07:58:26.274Z"
   },
   {
    "duration": 12,
    "start_time": "2022-06-05T07:58:26.281Z"
   },
   {
    "duration": 8,
    "start_time": "2022-06-05T07:58:26.294Z"
   },
   {
    "duration": 9,
    "start_time": "2022-06-05T07:58:26.305Z"
   },
   {
    "duration": 9,
    "start_time": "2022-06-05T07:58:26.316Z"
   },
   {
    "duration": 5,
    "start_time": "2022-06-05T07:58:26.327Z"
   },
   {
    "duration": 7,
    "start_time": "2022-06-05T07:58:26.334Z"
   },
   {
    "duration": 3,
    "start_time": "2022-06-05T07:58:26.365Z"
   },
   {
    "duration": 17,
    "start_time": "2022-06-05T07:58:26.369Z"
   },
   {
    "duration": 161,
    "start_time": "2022-06-05T07:58:26.389Z"
   },
   {
    "duration": 12,
    "start_time": "2022-06-05T07:58:26.552Z"
   },
   {
    "duration": 33,
    "start_time": "2022-06-05T07:58:26.567Z"
   },
   {
    "duration": 256,
    "start_time": "2022-06-05T07:58:26.601Z"
   },
   {
    "duration": 9,
    "start_time": "2022-06-05T07:58:26.859Z"
   },
   {
    "duration": 11,
    "start_time": "2022-06-05T07:58:26.870Z"
   },
   {
    "duration": 35,
    "start_time": "2022-06-05T07:58:26.883Z"
   },
   {
    "duration": 15,
    "start_time": "2022-06-05T07:58:26.921Z"
   },
   {
    "duration": 4792,
    "start_time": "2022-06-05T07:58:26.937Z"
   },
   {
    "duration": 449,
    "start_time": "2022-06-05T07:58:31.731Z"
   },
   {
    "duration": 142,
    "start_time": "2022-06-05T07:58:32.182Z"
   },
   {
    "duration": 0,
    "start_time": "2022-06-05T07:58:32.326Z"
   },
   {
    "duration": 0,
    "start_time": "2022-06-05T07:58:32.328Z"
   },
   {
    "duration": 9,
    "start_time": "2022-06-05T08:05:49.006Z"
   },
   {
    "duration": 5,
    "start_time": "2022-06-05T08:06:07.561Z"
   },
   {
    "duration": 9,
    "start_time": "2022-06-05T08:06:29.280Z"
   },
   {
    "duration": 7,
    "start_time": "2022-06-05T08:07:02.593Z"
   },
   {
    "duration": 21,
    "start_time": "2022-06-05T08:07:09.810Z"
   },
   {
    "duration": 1232,
    "start_time": "2022-06-05T08:07:53.017Z"
   },
   {
    "duration": 3,
    "start_time": "2022-06-05T08:07:54.251Z"
   },
   {
    "duration": 863,
    "start_time": "2022-06-05T08:07:54.256Z"
   },
   {
    "duration": 14,
    "start_time": "2022-06-05T08:07:55.122Z"
   },
   {
    "duration": 12,
    "start_time": "2022-06-05T08:07:55.138Z"
   },
   {
    "duration": 23,
    "start_time": "2022-06-05T08:07:55.153Z"
   },
   {
    "duration": 24,
    "start_time": "2022-06-05T08:07:55.179Z"
   },
   {
    "duration": 17,
    "start_time": "2022-06-05T08:07:55.205Z"
   },
   {
    "duration": 6,
    "start_time": "2022-06-05T08:07:55.224Z"
   },
   {
    "duration": 12,
    "start_time": "2022-06-05T08:07:55.233Z"
   },
   {
    "duration": 8,
    "start_time": "2022-06-05T08:07:55.247Z"
   },
   {
    "duration": 41,
    "start_time": "2022-06-05T08:07:55.257Z"
   },
   {
    "duration": 17,
    "start_time": "2022-06-05T08:07:55.299Z"
   },
   {
    "duration": 8,
    "start_time": "2022-06-05T08:07:55.318Z"
   },
   {
    "duration": 20,
    "start_time": "2022-06-05T08:07:55.328Z"
   },
   {
    "duration": 148,
    "start_time": "2022-06-05T08:07:55.350Z"
   },
   {
    "duration": 5,
    "start_time": "2022-06-05T08:07:55.500Z"
   },
   {
    "duration": 34,
    "start_time": "2022-06-05T08:07:55.506Z"
   },
   {
    "duration": 268,
    "start_time": "2022-06-05T08:07:55.542Z"
   },
   {
    "duration": 5,
    "start_time": "2022-06-05T08:07:55.812Z"
   },
   {
    "duration": 161,
    "start_time": "2022-06-05T08:07:55.819Z"
   },
   {
    "duration": 0,
    "start_time": "2022-06-05T08:07:55.989Z"
   },
   {
    "duration": 0,
    "start_time": "2022-06-05T08:07:55.990Z"
   },
   {
    "duration": 0,
    "start_time": "2022-06-05T08:07:55.991Z"
   },
   {
    "duration": 0,
    "start_time": "2022-06-05T08:07:55.992Z"
   },
   {
    "duration": 0,
    "start_time": "2022-06-05T08:07:55.993Z"
   },
   {
    "duration": 0,
    "start_time": "2022-06-05T08:07:55.994Z"
   },
   {
    "duration": 0,
    "start_time": "2022-06-05T08:07:55.996Z"
   },
   {
    "duration": 0,
    "start_time": "2022-06-05T08:07:55.997Z"
   },
   {
    "duration": 12,
    "start_time": "2022-06-05T08:08:01.493Z"
   },
   {
    "duration": 16,
    "start_time": "2022-06-05T08:08:18.620Z"
   },
   {
    "duration": 5,
    "start_time": "2022-06-05T08:09:31.958Z"
   },
   {
    "duration": 15,
    "start_time": "2022-06-05T08:09:32.597Z"
   },
   {
    "duration": 26,
    "start_time": "2022-06-05T08:11:14.558Z"
   },
   {
    "duration": 15,
    "start_time": "2022-06-05T08:11:15.511Z"
   },
   {
    "duration": 50,
    "start_time": "2022-06-05T08:11:31.937Z"
   },
   {
    "duration": 3,
    "start_time": "2022-06-05T08:13:42.535Z"
   },
   {
    "duration": 3,
    "start_time": "2022-06-05T08:13:42.918Z"
   },
   {
    "duration": 785,
    "start_time": "2022-06-05T08:13:43.823Z"
   },
   {
    "duration": 3,
    "start_time": "2022-06-05T08:13:44.610Z"
   },
   {
    "duration": 6,
    "start_time": "2022-06-05T08:13:45.582Z"
   },
   {
    "duration": 3,
    "start_time": "2022-06-05T08:13:48.919Z"
   },
   {
    "duration": 7,
    "start_time": "2022-06-05T08:13:49.584Z"
   },
   {
    "duration": 6,
    "start_time": "2022-06-05T08:13:51.190Z"
   },
   {
    "duration": 9,
    "start_time": "2022-06-05T08:13:52.096Z"
   },
   {
    "duration": 4,
    "start_time": "2022-06-05T08:13:55.328Z"
   },
   {
    "duration": 3,
    "start_time": "2022-06-05T08:13:59.143Z"
   },
   {
    "duration": 6,
    "start_time": "2022-06-05T08:13:59.759Z"
   },
   {
    "duration": 4,
    "start_time": "2022-06-05T08:14:10.177Z"
   },
   {
    "duration": 21,
    "start_time": "2022-06-05T08:14:13.379Z"
   },
   {
    "duration": 60,
    "start_time": "2022-06-05T08:14:14.281Z"
   },
   {
    "duration": 41,
    "start_time": "2022-06-05T08:14:22.182Z"
   },
   {
    "duration": 71,
    "start_time": "2022-06-05T08:14:27.884Z"
   },
   {
    "duration": 7,
    "start_time": "2022-06-05T08:14:30.481Z"
   },
   {
    "duration": 27,
    "start_time": "2022-06-05T08:14:31.887Z"
   },
   {
    "duration": 255,
    "start_time": "2022-06-05T08:14:34.286Z"
   },
   {
    "duration": 14,
    "start_time": "2022-06-05T08:15:18.633Z"
   },
   {
    "duration": 9,
    "start_time": "2022-06-05T08:15:22.719Z"
   },
   {
    "duration": 1165,
    "start_time": "2022-06-05T08:16:03.887Z"
   },
   {
    "duration": 3,
    "start_time": "2022-06-05T08:16:05.054Z"
   },
   {
    "duration": 844,
    "start_time": "2022-06-05T08:16:05.058Z"
   },
   {
    "duration": 3,
    "start_time": "2022-06-05T08:16:05.904Z"
   },
   {
    "duration": 15,
    "start_time": "2022-06-05T08:16:05.909Z"
   },
   {
    "duration": 6,
    "start_time": "2022-06-05T08:16:05.926Z"
   },
   {
    "duration": 17,
    "start_time": "2022-06-05T08:16:05.934Z"
   },
   {
    "duration": 23,
    "start_time": "2022-06-05T08:16:05.953Z"
   },
   {
    "duration": 6,
    "start_time": "2022-06-05T08:16:05.977Z"
   },
   {
    "duration": 11,
    "start_time": "2022-06-05T08:16:05.984Z"
   },
   {
    "duration": 7,
    "start_time": "2022-06-05T08:16:05.997Z"
   },
   {
    "duration": 17,
    "start_time": "2022-06-05T08:16:06.006Z"
   },
   {
    "duration": 6,
    "start_time": "2022-06-05T08:16:06.025Z"
   },
   {
    "duration": 25,
    "start_time": "2022-06-05T08:16:06.034Z"
   },
   {
    "duration": 10,
    "start_time": "2022-06-05T08:16:06.062Z"
   },
   {
    "duration": 205,
    "start_time": "2022-06-05T08:16:06.076Z"
   },
   {
    "duration": 6,
    "start_time": "2022-06-05T08:16:06.288Z"
   },
   {
    "duration": 56,
    "start_time": "2022-06-05T08:16:06.295Z"
   },
   {
    "duration": 291,
    "start_time": "2022-06-05T08:16:06.354Z"
   },
   {
    "duration": 4725,
    "start_time": "2022-06-05T08:16:06.647Z"
   },
   {
    "duration": 434,
    "start_time": "2022-06-05T08:16:11.375Z"
   },
   {
    "duration": 6,
    "start_time": "2022-06-05T08:16:11.810Z"
   },
   {
    "duration": 56,
    "start_time": "2022-06-05T08:16:11.818Z"
   },
   {
    "duration": 34,
    "start_time": "2022-06-05T08:16:11.877Z"
   },
   {
    "duration": 12,
    "start_time": "2022-06-05T08:16:37.829Z"
   },
   {
    "duration": 6,
    "start_time": "2022-06-05T08:16:58.541Z"
   },
   {
    "duration": 9,
    "start_time": "2022-06-05T08:16:59.812Z"
   },
   {
    "duration": 646,
    "start_time": "2022-06-05T08:17:10.150Z"
   },
   {
    "duration": 17,
    "start_time": "2022-06-05T08:17:15.988Z"
   },
   {
    "duration": 8,
    "start_time": "2022-06-05T08:17:23.693Z"
   },
   {
    "duration": 6,
    "start_time": "2022-06-05T08:17:24.429Z"
   },
   {
    "duration": 91,
    "start_time": "2022-06-05T08:17:28.756Z"
   },
   {
    "duration": 4,
    "start_time": "2022-06-05T08:17:29.549Z"
   },
   {
    "duration": 29,
    "start_time": "2022-06-05T08:17:30.004Z"
   },
   {
    "duration": 279,
    "start_time": "2022-06-05T08:17:30.782Z"
   },
   {
    "duration": 4966,
    "start_time": "2022-06-05T08:17:32.541Z"
   },
   {
    "duration": 469,
    "start_time": "2022-06-05T08:17:41.725Z"
   },
   {
    "duration": 6,
    "start_time": "2022-06-05T08:17:44.917Z"
   },
   {
    "duration": 26,
    "start_time": "2022-06-05T08:17:49.757Z"
   },
   {
    "duration": 1940,
    "start_time": "2022-06-05T08:37:41.891Z"
   },
   {
    "duration": 284,
    "start_time": "2022-06-05T08:38:30.342Z"
   },
   {
    "duration": 642,
    "start_time": "2022-06-05T08:38:49.822Z"
   },
   {
    "duration": 1930,
    "start_time": "2022-06-05T08:39:03.734Z"
   },
   {
    "duration": 1989,
    "start_time": "2022-06-05T08:39:30.689Z"
   },
   {
    "duration": 2203,
    "start_time": "2022-06-05T08:39:51.111Z"
   },
   {
    "duration": 2517,
    "start_time": "2022-06-05T08:40:00.090Z"
   },
   {
    "duration": 38,
    "start_time": "2022-06-05T08:40:45.712Z"
   },
   {
    "duration": 21,
    "start_time": "2022-06-05T08:43:38.788Z"
   },
   {
    "duration": 2132,
    "start_time": "2022-06-05T08:43:45.623Z"
   },
   {
    "duration": 16,
    "start_time": "2022-06-05T08:44:04.782Z"
   },
   {
    "duration": 2447,
    "start_time": "2022-06-05T08:44:05.855Z"
   },
   {
    "duration": 13,
    "start_time": "2022-06-05T08:44:56.387Z"
   },
   {
    "duration": 2176,
    "start_time": "2022-06-05T08:44:57.094Z"
   },
   {
    "duration": 4,
    "start_time": "2022-06-05T08:47:01.081Z"
   },
   {
    "duration": 38,
    "start_time": "2022-06-05T08:47:11.151Z"
   },
   {
    "duration": 19,
    "start_time": "2022-06-05T08:47:22.350Z"
   },
   {
    "duration": 14,
    "start_time": "2022-06-05T08:47:40.014Z"
   },
   {
    "duration": 2222,
    "start_time": "2022-06-05T08:47:41.587Z"
   },
   {
    "duration": 727,
    "start_time": "2022-06-05T08:48:21.311Z"
   },
   {
    "duration": 498,
    "start_time": "2022-06-05T08:49:04.192Z"
   },
   {
    "duration": 536,
    "start_time": "2022-06-05T08:49:12.342Z"
   },
   {
    "duration": 1951,
    "start_time": "2022-06-05T08:49:29.000Z"
   },
   {
    "duration": 1169,
    "start_time": "2022-06-05T08:49:41.139Z"
   },
   {
    "duration": 2,
    "start_time": "2022-06-05T08:49:42.310Z"
   },
   {
    "duration": 777,
    "start_time": "2022-06-05T08:49:42.314Z"
   },
   {
    "duration": 3,
    "start_time": "2022-06-05T08:49:43.093Z"
   },
   {
    "duration": 10,
    "start_time": "2022-06-05T08:49:43.098Z"
   },
   {
    "duration": 5,
    "start_time": "2022-06-05T08:49:43.109Z"
   },
   {
    "duration": 7,
    "start_time": "2022-06-05T08:49:43.115Z"
   },
   {
    "duration": 7,
    "start_time": "2022-06-05T08:49:43.123Z"
   },
   {
    "duration": 5,
    "start_time": "2022-06-05T08:49:43.132Z"
   },
   {
    "duration": 32,
    "start_time": "2022-06-05T08:49:43.139Z"
   },
   {
    "duration": 8,
    "start_time": "2022-06-05T08:49:43.176Z"
   },
   {
    "duration": 10,
    "start_time": "2022-06-05T08:49:43.185Z"
   },
   {
    "duration": 6,
    "start_time": "2022-06-05T08:49:43.196Z"
   },
   {
    "duration": 16,
    "start_time": "2022-06-05T08:49:43.205Z"
   },
   {
    "duration": 10,
    "start_time": "2022-06-05T08:49:43.222Z"
   },
   {
    "duration": 6,
    "start_time": "2022-06-05T08:49:43.233Z"
   },
   {
    "duration": 156,
    "start_time": "2022-06-05T08:49:43.241Z"
   },
   {
    "duration": 4,
    "start_time": "2022-06-05T08:49:43.399Z"
   },
   {
    "duration": 36,
    "start_time": "2022-06-05T08:49:43.404Z"
   },
   {
    "duration": 295,
    "start_time": "2022-06-05T08:49:43.442Z"
   },
   {
    "duration": 4868,
    "start_time": "2022-06-05T08:49:43.739Z"
   },
   {
    "duration": 445,
    "start_time": "2022-06-05T08:49:48.608Z"
   },
   {
    "duration": 50,
    "start_time": "2022-06-05T08:49:49.055Z"
   },
   {
    "duration": 1931,
    "start_time": "2022-06-05T08:49:49.107Z"
   },
   {
    "duration": 522,
    "start_time": "2022-06-05T08:49:51.040Z"
   },
   {
    "duration": 1942,
    "start_time": "2022-06-05T08:49:51.569Z"
   },
   {
    "duration": 6,
    "start_time": "2022-06-05T08:50:24.687Z"
   },
   {
    "duration": 1820,
    "start_time": "2022-06-05T08:50:26.207Z"
   },
   {
    "duration": 1785,
    "start_time": "2022-06-05T08:51:14.152Z"
   },
   {
    "duration": 583,
    "start_time": "2022-06-05T08:51:44.591Z"
   },
   {
    "duration": 5,
    "start_time": "2022-06-05T08:51:46.295Z"
   },
   {
    "duration": 1476,
    "start_time": "2022-06-05T08:51:48.113Z"
   },
   {
    "duration": 17,
    "start_time": "2022-06-05T08:52:04.200Z"
   },
   {
    "duration": 1909,
    "start_time": "2022-06-05T08:52:04.883Z"
   },
   {
    "duration": 580,
    "start_time": "2022-06-05T08:52:10.047Z"
   },
   {
    "duration": 1485,
    "start_time": "2022-06-05T08:52:11.751Z"
   },
   {
    "duration": 15,
    "start_time": "2022-06-05T09:03:44.131Z"
   },
   {
    "duration": 1856,
    "start_time": "2022-06-05T09:03:44.584Z"
   },
   {
    "duration": 557,
    "start_time": "2022-06-05T09:03:58.914Z"
   },
   {
    "duration": 1621,
    "start_time": "2022-06-05T09:04:00.829Z"
   },
   {
    "duration": 1813,
    "start_time": "2022-06-05T09:04:41.380Z"
   },
   {
    "duration": 1153,
    "start_time": "2022-06-05T09:04:55.429Z"
   },
   {
    "duration": 3,
    "start_time": "2022-06-05T09:04:56.584Z"
   },
   {
    "duration": 793,
    "start_time": "2022-06-05T09:04:56.588Z"
   },
   {
    "duration": 3,
    "start_time": "2022-06-05T09:04:57.384Z"
   },
   {
    "duration": 24,
    "start_time": "2022-06-05T09:04:57.390Z"
   },
   {
    "duration": 8,
    "start_time": "2022-06-05T09:04:57.416Z"
   },
   {
    "duration": 9,
    "start_time": "2022-06-05T09:04:57.425Z"
   },
   {
    "duration": 9,
    "start_time": "2022-06-05T09:04:57.435Z"
   },
   {
    "duration": 10,
    "start_time": "2022-06-05T09:04:57.446Z"
   },
   {
    "duration": 20,
    "start_time": "2022-06-05T09:04:57.457Z"
   },
   {
    "duration": 8,
    "start_time": "2022-06-05T09:04:57.486Z"
   },
   {
    "duration": 6,
    "start_time": "2022-06-05T09:04:57.496Z"
   },
   {
    "duration": 6,
    "start_time": "2022-06-05T09:04:57.503Z"
   },
   {
    "duration": 14,
    "start_time": "2022-06-05T09:04:57.512Z"
   },
   {
    "duration": 6,
    "start_time": "2022-06-05T09:04:57.528Z"
   },
   {
    "duration": 5,
    "start_time": "2022-06-05T09:04:57.536Z"
   },
   {
    "duration": 139,
    "start_time": "2022-06-05T09:04:57.542Z"
   },
   {
    "duration": 4,
    "start_time": "2022-06-05T09:04:57.683Z"
   },
   {
    "duration": 33,
    "start_time": "2022-06-05T09:04:57.689Z"
   },
   {
    "duration": 270,
    "start_time": "2022-06-05T09:04:57.724Z"
   },
   {
    "duration": 4660,
    "start_time": "2022-06-05T09:04:57.995Z"
   },
   {
    "duration": 425,
    "start_time": "2022-06-05T09:05:02.657Z"
   },
   {
    "duration": 40,
    "start_time": "2022-06-05T09:05:03.084Z"
   },
   {
    "duration": 1833,
    "start_time": "2022-06-05T09:05:03.125Z"
   },
   {
    "duration": 592,
    "start_time": "2022-06-05T09:05:04.960Z"
   },
   {
    "duration": 2128,
    "start_time": "2022-06-05T09:05:05.554Z"
   },
   {
    "duration": 2052,
    "start_time": "2022-06-05T09:05:07.683Z"
   },
   {
    "duration": 740,
    "start_time": "2022-06-05T09:05:42.826Z"
   },
   {
    "duration": 2006,
    "start_time": "2022-06-05T09:05:44.480Z"
   },
   {
    "duration": 11,
    "start_time": "2022-06-05T09:07:31.136Z"
   },
   {
    "duration": 2029,
    "start_time": "2022-06-05T09:07:32.752Z"
   },
   {
    "duration": 18,
    "start_time": "2022-06-05T09:33:53.777Z"
   },
   {
    "duration": 5,
    "start_time": "2022-06-05T09:34:03.897Z"
   },
   {
    "duration": 11,
    "start_time": "2022-06-05T12:48:22.049Z"
   },
   {
    "duration": 35,
    "start_time": "2022-06-05T12:51:42.182Z"
   },
   {
    "duration": 127,
    "start_time": "2022-06-05T12:51:58.029Z"
   },
   {
    "duration": 232,
    "start_time": "2022-06-05T12:52:12.358Z"
   },
   {
    "duration": 8943,
    "start_time": "2022-06-05T12:52:31.006Z"
   },
   {
    "duration": 8130,
    "start_time": "2022-06-05T12:54:26.437Z"
   },
   {
    "duration": 12,
    "start_time": "2022-06-05T12:54:53.490Z"
   },
   {
    "duration": 19,
    "start_time": "2022-06-05T12:55:38.254Z"
   },
   {
    "duration": 13,
    "start_time": "2022-06-05T12:56:16.208Z"
   },
   {
    "duration": 9,
    "start_time": "2022-06-05T12:58:40.282Z"
   },
   {
    "duration": 56,
    "start_time": "2022-06-05T13:01:13.544Z"
   },
   {
    "duration": 45,
    "start_time": "2022-06-05T13:01:18.609Z"
   },
   {
    "duration": 34,
    "start_time": "2022-06-05T13:02:11.543Z"
   },
   {
    "duration": 21,
    "start_time": "2022-06-05T13:02:20.435Z"
   },
   {
    "duration": 27,
    "start_time": "2022-06-05T13:02:36.494Z"
   },
   {
    "duration": 4,
    "start_time": "2022-06-05T13:02:54.884Z"
   },
   {
    "duration": 16,
    "start_time": "2022-06-05T13:02:58.154Z"
   },
   {
    "duration": 20,
    "start_time": "2022-06-05T13:03:00.291Z"
   },
   {
    "duration": 9,
    "start_time": "2022-06-05T13:03:43.419Z"
   },
   {
    "duration": 13,
    "start_time": "2022-06-05T13:04:41.580Z"
   },
   {
    "duration": 16,
    "start_time": "2022-06-05T13:04:54.547Z"
   },
   {
    "duration": 279,
    "start_time": "2022-06-05T13:05:28.019Z"
   },
   {
    "duration": 1238,
    "start_time": "2022-06-05T13:05:40.412Z"
   },
   {
    "duration": 3,
    "start_time": "2022-06-05T13:05:41.652Z"
   },
   {
    "duration": 777,
    "start_time": "2022-06-05T13:05:41.656Z"
   },
   {
    "duration": 3,
    "start_time": "2022-06-05T13:05:42.435Z"
   },
   {
    "duration": 10,
    "start_time": "2022-06-05T13:05:42.439Z"
   },
   {
    "duration": 20,
    "start_time": "2022-06-05T13:05:42.450Z"
   },
   {
    "duration": 10,
    "start_time": "2022-06-05T13:05:42.474Z"
   },
   {
    "duration": 6,
    "start_time": "2022-06-05T13:05:42.485Z"
   },
   {
    "duration": 9,
    "start_time": "2022-06-05T13:05:42.493Z"
   },
   {
    "duration": 4,
    "start_time": "2022-06-05T13:05:42.505Z"
   },
   {
    "duration": 4,
    "start_time": "2022-06-05T13:05:42.510Z"
   },
   {
    "duration": 7,
    "start_time": "2022-06-05T13:05:42.515Z"
   },
   {
    "duration": 4,
    "start_time": "2022-06-05T13:05:42.523Z"
   },
   {
    "duration": 14,
    "start_time": "2022-06-05T13:05:42.529Z"
   },
   {
    "duration": 36,
    "start_time": "2022-06-05T13:05:42.544Z"
   },
   {
    "duration": 16,
    "start_time": "2022-06-05T13:05:42.583Z"
   },
   {
    "duration": 60,
    "start_time": "2022-06-05T13:05:42.600Z"
   },
   {
    "duration": 141,
    "start_time": "2022-06-05T13:05:42.662Z"
   },
   {
    "duration": 0,
    "start_time": "2022-06-05T13:05:42.804Z"
   },
   {
    "duration": 0,
    "start_time": "2022-06-05T13:05:42.806Z"
   },
   {
    "duration": 0,
    "start_time": "2022-06-05T13:05:42.806Z"
   },
   {
    "duration": 0,
    "start_time": "2022-06-05T13:05:42.807Z"
   },
   {
    "duration": 0,
    "start_time": "2022-06-05T13:05:42.809Z"
   },
   {
    "duration": 0,
    "start_time": "2022-06-05T13:05:42.810Z"
   },
   {
    "duration": 0,
    "start_time": "2022-06-05T13:05:42.811Z"
   },
   {
    "duration": 0,
    "start_time": "2022-06-05T13:05:42.812Z"
   },
   {
    "duration": 0,
    "start_time": "2022-06-05T13:05:42.813Z"
   },
   {
    "duration": 0,
    "start_time": "2022-06-05T13:05:42.814Z"
   },
   {
    "duration": 0,
    "start_time": "2022-06-05T13:05:42.815Z"
   },
   {
    "duration": 0,
    "start_time": "2022-06-05T13:05:42.816Z"
   },
   {
    "duration": 0,
    "start_time": "2022-06-05T13:05:42.817Z"
   },
   {
    "duration": 0,
    "start_time": "2022-06-05T13:05:42.818Z"
   },
   {
    "duration": 0,
    "start_time": "2022-06-05T13:05:42.819Z"
   },
   {
    "duration": 0,
    "start_time": "2022-06-05T13:05:42.820Z"
   },
   {
    "duration": 0,
    "start_time": "2022-06-05T13:05:42.821Z"
   },
   {
    "duration": 1221,
    "start_time": "2022-06-05T13:07:37.678Z"
   },
   {
    "duration": 2,
    "start_time": "2022-06-05T13:07:38.902Z"
   },
   {
    "duration": 825,
    "start_time": "2022-06-05T13:07:38.906Z"
   },
   {
    "duration": 3,
    "start_time": "2022-06-05T13:07:39.732Z"
   },
   {
    "duration": 10,
    "start_time": "2022-06-05T13:07:39.736Z"
   },
   {
    "duration": 6,
    "start_time": "2022-06-05T13:07:39.748Z"
   },
   {
    "duration": 13,
    "start_time": "2022-06-05T13:07:39.764Z"
   },
   {
    "duration": 10,
    "start_time": "2022-06-05T13:07:39.778Z"
   },
   {
    "duration": 6,
    "start_time": "2022-06-05T13:07:39.790Z"
   },
   {
    "duration": 4,
    "start_time": "2022-06-05T13:07:39.800Z"
   },
   {
    "duration": 6,
    "start_time": "2022-06-05T13:07:39.806Z"
   },
   {
    "duration": 7,
    "start_time": "2022-06-05T13:07:39.813Z"
   },
   {
    "duration": 8,
    "start_time": "2022-06-05T13:07:39.821Z"
   },
   {
    "duration": 38,
    "start_time": "2022-06-05T13:07:39.831Z"
   },
   {
    "duration": 7,
    "start_time": "2022-06-05T13:07:39.874Z"
   },
   {
    "duration": 8,
    "start_time": "2022-06-05T13:07:39.883Z"
   },
   {
    "duration": 140,
    "start_time": "2022-06-05T13:07:39.893Z"
   },
   {
    "duration": 5,
    "start_time": "2022-06-05T13:07:40.034Z"
   },
   {
    "duration": 43,
    "start_time": "2022-06-05T13:07:40.040Z"
   },
   {
    "duration": 262,
    "start_time": "2022-06-05T13:07:40.084Z"
   },
   {
    "duration": 5840,
    "start_time": "2022-06-05T13:07:40.347Z"
   },
   {
    "duration": 404,
    "start_time": "2022-06-05T13:07:46.188Z"
   },
   {
    "duration": 39,
    "start_time": "2022-06-05T13:07:46.594Z"
   },
   {
    "duration": 1752,
    "start_time": "2022-06-05T13:07:46.635Z"
   },
   {
    "duration": 17,
    "start_time": "2022-06-05T13:07:48.388Z"
   },
   {
    "duration": 1917,
    "start_time": "2022-06-05T13:07:48.407Z"
   },
   {
    "duration": 3,
    "start_time": "2022-06-05T13:09:53.614Z"
   },
   {
    "duration": 14,
    "start_time": "2022-06-05T13:16:45.347Z"
   },
   {
    "duration": 112,
    "start_time": "2022-06-05T13:19:26.647Z"
   },
   {
    "duration": 9,
    "start_time": "2022-06-05T13:20:10.654Z"
   },
   {
    "duration": 46,
    "start_time": "2022-06-05T13:21:06.639Z"
   },
   {
    "duration": 16,
    "start_time": "2022-06-05T13:21:10.470Z"
   },
   {
    "duration": 3,
    "start_time": "2022-06-05T13:21:29.645Z"
   },
   {
    "duration": 349,
    "start_time": "2022-06-05T13:21:33.543Z"
   },
   {
    "duration": 1229,
    "start_time": "2022-06-05T13:22:22.903Z"
   },
   {
    "duration": 2,
    "start_time": "2022-06-05T13:22:24.134Z"
   },
   {
    "duration": 731,
    "start_time": "2022-06-05T13:22:24.138Z"
   },
   {
    "duration": 3,
    "start_time": "2022-06-05T13:22:24.871Z"
   },
   {
    "duration": 29,
    "start_time": "2022-06-05T13:22:24.876Z"
   },
   {
    "duration": 6,
    "start_time": "2022-06-05T13:22:24.907Z"
   },
   {
    "duration": 16,
    "start_time": "2022-06-05T13:22:24.915Z"
   },
   {
    "duration": 20,
    "start_time": "2022-06-05T13:22:24.932Z"
   },
   {
    "duration": 6,
    "start_time": "2022-06-05T13:22:24.954Z"
   },
   {
    "duration": 4,
    "start_time": "2022-06-05T13:22:24.963Z"
   },
   {
    "duration": 6,
    "start_time": "2022-06-05T13:22:24.968Z"
   },
   {
    "duration": 10,
    "start_time": "2022-06-05T13:22:24.975Z"
   },
   {
    "duration": 7,
    "start_time": "2022-06-05T13:22:24.986Z"
   },
   {
    "duration": 16,
    "start_time": "2022-06-05T13:22:24.994Z"
   },
   {
    "duration": 9,
    "start_time": "2022-06-05T13:22:25.012Z"
   },
   {
    "duration": 6,
    "start_time": "2022-06-05T13:22:25.022Z"
   },
   {
    "duration": 86,
    "start_time": "2022-06-05T13:22:25.030Z"
   },
   {
    "duration": 5,
    "start_time": "2022-06-05T13:22:25.117Z"
   },
   {
    "duration": 47,
    "start_time": "2022-06-05T13:22:25.123Z"
   },
   {
    "duration": 259,
    "start_time": "2022-06-05T13:22:25.172Z"
   },
   {
    "duration": 4436,
    "start_time": "2022-06-05T13:22:25.433Z"
   },
   {
    "duration": 390,
    "start_time": "2022-06-05T13:22:29.871Z"
   },
   {
    "duration": 38,
    "start_time": "2022-06-05T13:22:30.263Z"
   },
   {
    "duration": 1759,
    "start_time": "2022-06-05T13:22:30.303Z"
   },
   {
    "duration": 14,
    "start_time": "2022-06-05T13:22:32.064Z"
   },
   {
    "duration": 1920,
    "start_time": "2022-06-05T13:22:32.080Z"
   },
   {
    "duration": 4,
    "start_time": "2022-06-05T13:22:34.001Z"
   },
   {
    "duration": 14,
    "start_time": "2022-06-05T13:22:34.008Z"
   },
   {
    "duration": 454,
    "start_time": "2022-06-05T13:22:34.023Z"
   },
   {
    "duration": 1332,
    "start_time": "2022-06-05T13:23:45.070Z"
   },
   {
    "duration": 2,
    "start_time": "2022-06-05T13:23:46.405Z"
   },
   {
    "duration": 890,
    "start_time": "2022-06-05T13:23:46.409Z"
   },
   {
    "duration": 2,
    "start_time": "2022-06-05T13:23:47.301Z"
   },
   {
    "duration": 61,
    "start_time": "2022-06-05T13:23:47.306Z"
   },
   {
    "duration": 7,
    "start_time": "2022-06-05T13:23:47.369Z"
   },
   {
    "duration": 12,
    "start_time": "2022-06-05T13:23:47.378Z"
   },
   {
    "duration": 12,
    "start_time": "2022-06-05T13:23:47.392Z"
   },
   {
    "duration": 61,
    "start_time": "2022-06-05T13:23:47.406Z"
   },
   {
    "duration": 4,
    "start_time": "2022-06-05T13:23:47.470Z"
   },
   {
    "duration": 12,
    "start_time": "2022-06-05T13:23:47.475Z"
   },
   {
    "duration": 10,
    "start_time": "2022-06-05T13:23:47.489Z"
   },
   {
    "duration": 3,
    "start_time": "2022-06-05T13:23:47.501Z"
   },
   {
    "duration": 63,
    "start_time": "2022-06-05T13:23:47.507Z"
   },
   {
    "duration": 11,
    "start_time": "2022-06-05T13:23:47.571Z"
   },
   {
    "duration": 8,
    "start_time": "2022-06-05T13:23:47.583Z"
   },
   {
    "duration": 184,
    "start_time": "2022-06-05T13:23:47.593Z"
   },
   {
    "duration": 297,
    "start_time": "2022-06-05T13:23:47.779Z"
   },
   {
    "duration": 0,
    "start_time": "2022-06-05T13:23:48.078Z"
   },
   {
    "duration": 0,
    "start_time": "2022-06-05T13:23:48.079Z"
   },
   {
    "duration": 0,
    "start_time": "2022-06-05T13:23:48.080Z"
   },
   {
    "duration": 0,
    "start_time": "2022-06-05T13:23:48.081Z"
   },
   {
    "duration": 0,
    "start_time": "2022-06-05T13:23:48.082Z"
   },
   {
    "duration": 0,
    "start_time": "2022-06-05T13:23:48.083Z"
   },
   {
    "duration": 0,
    "start_time": "2022-06-05T13:23:48.084Z"
   },
   {
    "duration": 0,
    "start_time": "2022-06-05T13:23:48.084Z"
   },
   {
    "duration": 0,
    "start_time": "2022-06-05T13:23:48.085Z"
   },
   {
    "duration": 0,
    "start_time": "2022-06-05T13:23:48.086Z"
   },
   {
    "duration": 0,
    "start_time": "2022-06-05T13:23:48.087Z"
   },
   {
    "duration": 0,
    "start_time": "2022-06-05T13:23:48.088Z"
   },
   {
    "duration": 4,
    "start_time": "2022-06-05T13:24:25.870Z"
   },
   {
    "duration": 27,
    "start_time": "2022-06-05T13:24:38.370Z"
   },
   {
    "duration": 34,
    "start_time": "2022-06-05T13:25:13.841Z"
   },
   {
    "duration": 344,
    "start_time": "2022-06-05T13:25:18.644Z"
   },
   {
    "duration": 414,
    "start_time": "2022-06-05T13:25:32.643Z"
   },
   {
    "duration": 17,
    "start_time": "2022-06-05T13:26:11.572Z"
   },
   {
    "duration": 5,
    "start_time": "2022-06-05T13:27:38.518Z"
   },
   {
    "duration": 6,
    "start_time": "2022-06-05T13:28:00.877Z"
   },
   {
    "duration": 1291,
    "start_time": "2022-06-05T13:28:11.041Z"
   },
   {
    "duration": 3,
    "start_time": "2022-06-05T13:28:12.334Z"
   },
   {
    "duration": 769,
    "start_time": "2022-06-05T13:28:12.341Z"
   },
   {
    "duration": 17,
    "start_time": "2022-06-05T13:28:13.113Z"
   },
   {
    "duration": 7,
    "start_time": "2022-06-05T13:28:13.132Z"
   },
   {
    "duration": 8,
    "start_time": "2022-06-05T13:28:13.141Z"
   },
   {
    "duration": 17,
    "start_time": "2022-06-05T13:28:13.150Z"
   },
   {
    "duration": 6,
    "start_time": "2022-06-05T13:28:13.169Z"
   },
   {
    "duration": 9,
    "start_time": "2022-06-05T13:28:13.176Z"
   },
   {
    "duration": 6,
    "start_time": "2022-06-05T13:28:13.186Z"
   },
   {
    "duration": 4,
    "start_time": "2022-06-05T13:28:13.194Z"
   },
   {
    "duration": 10,
    "start_time": "2022-06-05T13:28:13.199Z"
   },
   {
    "duration": 6,
    "start_time": "2022-06-05T13:28:13.211Z"
   },
   {
    "duration": 17,
    "start_time": "2022-06-05T13:28:13.219Z"
   },
   {
    "duration": 26,
    "start_time": "2022-06-05T13:28:13.238Z"
   },
   {
    "duration": 6,
    "start_time": "2022-06-05T13:28:13.266Z"
   },
   {
    "duration": 67,
    "start_time": "2022-06-05T13:28:13.274Z"
   },
   {
    "duration": 23,
    "start_time": "2022-06-05T13:28:13.343Z"
   },
   {
    "duration": 7,
    "start_time": "2022-06-05T13:28:13.368Z"
   },
   {
    "duration": 34,
    "start_time": "2022-06-05T13:28:13.376Z"
   },
   {
    "duration": 12,
    "start_time": "2022-06-05T13:28:13.412Z"
   },
   {
    "duration": 286,
    "start_time": "2022-06-05T13:28:13.426Z"
   },
   {
    "duration": 4829,
    "start_time": "2022-06-05T13:28:13.714Z"
   },
   {
    "duration": 303,
    "start_time": "2022-06-05T13:28:18.545Z"
   },
   {
    "duration": 50,
    "start_time": "2022-06-05T13:28:18.851Z"
   },
   {
    "duration": 1748,
    "start_time": "2022-06-05T13:28:18.903Z"
   },
   {
    "duration": 22,
    "start_time": "2022-06-05T13:28:20.652Z"
   },
   {
    "duration": 1877,
    "start_time": "2022-06-05T13:28:20.676Z"
   },
   {
    "duration": 4,
    "start_time": "2022-06-05T13:28:22.554Z"
   },
   {
    "duration": 18,
    "start_time": "2022-06-05T13:28:22.564Z"
   },
   {
    "duration": 446,
    "start_time": "2022-06-05T13:28:22.583Z"
   },
   {
    "duration": 25,
    "start_time": "2022-06-05T13:32:27.241Z"
   },
   {
    "duration": 8,
    "start_time": "2022-06-05T13:32:32.097Z"
   },
   {
    "duration": 24,
    "start_time": "2022-06-05T13:32:32.698Z"
   },
   {
    "duration": 13,
    "start_time": "2022-06-05T13:32:33.425Z"
   },
   {
    "duration": 1319,
    "start_time": "2022-06-05T13:32:44.241Z"
   },
   {
    "duration": 3,
    "start_time": "2022-06-05T13:32:45.562Z"
   },
   {
    "duration": 782,
    "start_time": "2022-06-05T13:32:45.566Z"
   },
   {
    "duration": 21,
    "start_time": "2022-06-05T13:32:46.350Z"
   },
   {
    "duration": 8,
    "start_time": "2022-06-05T13:32:46.373Z"
   },
   {
    "duration": 12,
    "start_time": "2022-06-05T13:32:46.383Z"
   },
   {
    "duration": 11,
    "start_time": "2022-06-05T13:32:46.397Z"
   },
   {
    "duration": 8,
    "start_time": "2022-06-05T13:32:46.409Z"
   },
   {
    "duration": 13,
    "start_time": "2022-06-05T13:32:46.418Z"
   },
   {
    "duration": 4,
    "start_time": "2022-06-05T13:32:46.435Z"
   },
   {
    "duration": 7,
    "start_time": "2022-06-05T13:32:46.441Z"
   },
   {
    "duration": 6,
    "start_time": "2022-06-05T13:32:46.464Z"
   },
   {
    "duration": 20,
    "start_time": "2022-06-05T13:32:46.471Z"
   },
   {
    "duration": 19,
    "start_time": "2022-06-05T13:32:46.493Z"
   },
   {
    "duration": 10,
    "start_time": "2022-06-05T13:32:46.514Z"
   },
   {
    "duration": 7,
    "start_time": "2022-06-05T13:32:46.525Z"
   },
   {
    "duration": 74,
    "start_time": "2022-06-05T13:32:46.534Z"
   },
   {
    "duration": 6,
    "start_time": "2022-06-05T13:32:46.610Z"
   },
   {
    "duration": 10,
    "start_time": "2022-06-05T13:32:46.618Z"
   },
   {
    "duration": 52,
    "start_time": "2022-06-05T13:32:46.630Z"
   },
   {
    "duration": 13,
    "start_time": "2022-06-05T13:32:46.684Z"
   },
   {
    "duration": 257,
    "start_time": "2022-06-05T13:32:46.699Z"
   },
   {
    "duration": 5799,
    "start_time": "2022-06-05T13:32:46.965Z"
   },
   {
    "duration": 325,
    "start_time": "2022-06-05T13:32:52.766Z"
   },
   {
    "duration": 37,
    "start_time": "2022-06-05T13:32:53.092Z"
   },
   {
    "duration": 2025,
    "start_time": "2022-06-05T13:32:53.131Z"
   },
   {
    "duration": 19,
    "start_time": "2022-06-05T13:32:55.158Z"
   },
   {
    "duration": 1868,
    "start_time": "2022-06-05T13:32:55.180Z"
   },
   {
    "duration": 3,
    "start_time": "2022-06-05T13:32:57.050Z"
   },
   {
    "duration": 15,
    "start_time": "2022-06-05T13:32:57.065Z"
   },
   {
    "duration": 495,
    "start_time": "2022-06-05T13:32:57.082Z"
   },
   {
    "duration": 13,
    "start_time": "2022-06-05T13:35:30.952Z"
   },
   {
    "duration": 2,
    "start_time": "2022-06-05T13:35:39.870Z"
   },
   {
    "duration": 192,
    "start_time": "2022-06-05T13:35:46.584Z"
   },
   {
    "duration": 628,
    "start_time": "2022-06-05T13:36:21.744Z"
   },
   {
    "duration": 4,
    "start_time": "2022-06-05T13:51:37.873Z"
   },
   {
    "duration": 30,
    "start_time": "2022-06-05T13:54:06.898Z"
   },
   {
    "duration": 14,
    "start_time": "2022-06-05T13:54:35.346Z"
   },
   {
    "duration": 1327,
    "start_time": "2022-06-05T13:55:22.316Z"
   },
   {
    "duration": 3,
    "start_time": "2022-06-05T13:55:23.644Z"
   },
   {
    "duration": 735,
    "start_time": "2022-06-05T13:55:23.649Z"
   },
   {
    "duration": 20,
    "start_time": "2022-06-05T13:55:24.387Z"
   },
   {
    "duration": 9,
    "start_time": "2022-06-05T13:55:24.408Z"
   },
   {
    "duration": 11,
    "start_time": "2022-06-05T13:55:24.418Z"
   },
   {
    "duration": 10,
    "start_time": "2022-06-05T13:55:24.431Z"
   },
   {
    "duration": 26,
    "start_time": "2022-06-05T13:55:24.442Z"
   },
   {
    "duration": 11,
    "start_time": "2022-06-05T13:55:24.470Z"
   },
   {
    "duration": 12,
    "start_time": "2022-06-05T13:55:24.484Z"
   },
   {
    "duration": 7,
    "start_time": "2022-06-05T13:55:24.498Z"
   },
   {
    "duration": 14,
    "start_time": "2022-06-05T13:55:24.506Z"
   },
   {
    "duration": 6,
    "start_time": "2022-06-05T13:55:24.521Z"
   },
   {
    "duration": 19,
    "start_time": "2022-06-05T13:55:24.528Z"
   },
   {
    "duration": 10,
    "start_time": "2022-06-05T13:55:24.549Z"
   },
   {
    "duration": 8,
    "start_time": "2022-06-05T13:55:24.561Z"
   },
   {
    "duration": 71,
    "start_time": "2022-06-05T13:55:24.571Z"
   },
   {
    "duration": 6,
    "start_time": "2022-06-05T13:55:24.644Z"
   },
   {
    "duration": 6,
    "start_time": "2022-06-05T13:55:24.664Z"
   },
   {
    "duration": 35,
    "start_time": "2022-06-05T13:55:24.672Z"
   },
   {
    "duration": 15,
    "start_time": "2022-06-05T13:55:24.709Z"
   },
   {
    "duration": 287,
    "start_time": "2022-06-05T13:55:24.725Z"
   },
   {
    "duration": 4819,
    "start_time": "2022-06-05T13:55:25.014Z"
   },
   {
    "duration": 306,
    "start_time": "2022-06-05T13:55:29.835Z"
   },
   {
    "duration": 47,
    "start_time": "2022-06-05T13:55:30.142Z"
   },
   {
    "duration": 1824,
    "start_time": "2022-06-05T13:55:30.191Z"
   },
   {
    "duration": 16,
    "start_time": "2022-06-05T13:55:32.016Z"
   },
   {
    "duration": 1956,
    "start_time": "2022-06-05T13:55:32.035Z"
   },
   {
    "duration": 8,
    "start_time": "2022-06-05T13:55:33.993Z"
   },
   {
    "duration": 8,
    "start_time": "2022-06-05T13:55:34.003Z"
   },
   {
    "duration": 23,
    "start_time": "2022-06-05T13:55:34.012Z"
   },
   {
    "duration": 6,
    "start_time": "2022-06-05T13:55:34.037Z"
   },
   {
    "duration": 536,
    "start_time": "2022-06-05T13:55:34.045Z"
   },
   {
    "duration": 5,
    "start_time": "2022-06-05T13:56:31.611Z"
   },
   {
    "duration": 16,
    "start_time": "2022-06-05T13:57:47.249Z"
   },
   {
    "duration": 1306,
    "start_time": "2022-06-05T13:58:10.546Z"
   },
   {
    "duration": 3,
    "start_time": "2022-06-05T13:58:11.854Z"
   },
   {
    "duration": 768,
    "start_time": "2022-06-05T13:58:11.858Z"
   },
   {
    "duration": 17,
    "start_time": "2022-06-05T13:58:12.628Z"
   },
   {
    "duration": 7,
    "start_time": "2022-06-05T13:58:12.647Z"
   },
   {
    "duration": 2,
    "start_time": "2022-06-05T13:58:12.665Z"
   },
   {
    "duration": 9,
    "start_time": "2022-06-05T13:58:12.668Z"
   },
   {
    "duration": 7,
    "start_time": "2022-06-05T13:58:12.679Z"
   },
   {
    "duration": 9,
    "start_time": "2022-06-05T13:58:12.688Z"
   },
   {
    "duration": 7,
    "start_time": "2022-06-05T13:58:12.699Z"
   },
   {
    "duration": 5,
    "start_time": "2022-06-05T13:58:12.707Z"
   },
   {
    "duration": 8,
    "start_time": "2022-06-05T13:58:12.714Z"
   },
   {
    "duration": 7,
    "start_time": "2022-06-05T13:58:12.723Z"
   },
   {
    "duration": 22,
    "start_time": "2022-06-05T13:58:12.764Z"
   },
   {
    "duration": 14,
    "start_time": "2022-06-05T13:58:12.788Z"
   },
   {
    "duration": 8,
    "start_time": "2022-06-05T13:58:12.804Z"
   },
   {
    "duration": 93,
    "start_time": "2022-06-05T13:58:12.814Z"
   },
   {
    "duration": 6,
    "start_time": "2022-06-05T13:58:12.908Z"
   },
   {
    "duration": 8,
    "start_time": "2022-06-05T13:58:12.915Z"
   },
   {
    "duration": 47,
    "start_time": "2022-06-05T13:58:12.924Z"
   },
   {
    "duration": 13,
    "start_time": "2022-06-05T13:58:12.973Z"
   },
   {
    "duration": 291,
    "start_time": "2022-06-05T13:58:12.988Z"
   },
   {
    "duration": 5611,
    "start_time": "2022-06-05T13:58:13.282Z"
   },
   {
    "duration": 418,
    "start_time": "2022-06-05T13:58:18.896Z"
   },
   {
    "duration": 48,
    "start_time": "2022-06-05T13:58:19.316Z"
   },
   {
    "duration": 1860,
    "start_time": "2022-06-05T13:58:19.367Z"
   },
   {
    "duration": 15,
    "start_time": "2022-06-05T13:58:21.229Z"
   },
   {
    "duration": 2027,
    "start_time": "2022-06-05T13:58:21.246Z"
   },
   {
    "duration": 9,
    "start_time": "2022-06-05T13:58:23.275Z"
   },
   {
    "duration": 8,
    "start_time": "2022-06-05T13:58:23.285Z"
   },
   {
    "duration": 24,
    "start_time": "2022-06-05T13:58:23.294Z"
   },
   {
    "duration": 5,
    "start_time": "2022-06-05T13:58:23.320Z"
   },
   {
    "duration": 354,
    "start_time": "2022-06-05T13:58:23.326Z"
   },
   {
    "duration": 4,
    "start_time": "2022-06-05T14:01:46.798Z"
   },
   {
    "duration": 163,
    "start_time": "2022-06-05T14:03:31.977Z"
   },
   {
    "duration": 3,
    "start_time": "2022-06-05T14:03:59.382Z"
   },
   {
    "duration": 2443,
    "start_time": "2022-06-05T14:04:05.223Z"
   },
   {
    "duration": 1678,
    "start_time": "2022-06-05T14:14:06.393Z"
   },
   {
    "duration": 4,
    "start_time": "2022-06-05T14:22:33.898Z"
   },
   {
    "duration": 2130,
    "start_time": "2022-06-05T14:37:54.998Z"
   },
   {
    "duration": 2,
    "start_time": "2022-06-05T14:37:57.130Z"
   },
   {
    "duration": 733,
    "start_time": "2022-06-05T14:37:57.134Z"
   },
   {
    "duration": 17,
    "start_time": "2022-06-05T14:37:57.869Z"
   },
   {
    "duration": 7,
    "start_time": "2022-06-05T14:37:57.888Z"
   },
   {
    "duration": 5,
    "start_time": "2022-06-05T14:37:57.897Z"
   },
   {
    "duration": 10,
    "start_time": "2022-06-05T14:37:57.903Z"
   },
   {
    "duration": 6,
    "start_time": "2022-06-05T14:37:57.915Z"
   },
   {
    "duration": 7,
    "start_time": "2022-06-05T14:37:57.923Z"
   },
   {
    "duration": 9,
    "start_time": "2022-06-05T14:37:57.931Z"
   },
   {
    "duration": 4,
    "start_time": "2022-06-05T14:37:57.942Z"
   },
   {
    "duration": 21,
    "start_time": "2022-06-05T14:37:57.947Z"
   },
   {
    "duration": 10,
    "start_time": "2022-06-05T14:37:57.970Z"
   },
   {
    "duration": 17,
    "start_time": "2022-06-05T14:37:57.983Z"
   },
   {
    "duration": 8,
    "start_time": "2022-06-05T14:37:58.001Z"
   },
   {
    "duration": 8,
    "start_time": "2022-06-05T14:37:58.010Z"
   },
   {
    "duration": 77,
    "start_time": "2022-06-05T14:37:58.020Z"
   },
   {
    "duration": 6,
    "start_time": "2022-06-05T14:37:58.098Z"
   },
   {
    "duration": 5,
    "start_time": "2022-06-05T14:37:58.106Z"
   },
   {
    "duration": 32,
    "start_time": "2022-06-05T14:37:58.113Z"
   },
   {
    "duration": 12,
    "start_time": "2022-06-05T14:37:58.165Z"
   },
   {
    "duration": 260,
    "start_time": "2022-06-05T14:37:58.179Z"
   },
   {
    "duration": 4825,
    "start_time": "2022-06-05T14:37:58.441Z"
   },
   {
    "duration": 291,
    "start_time": "2022-06-05T14:38:03.267Z"
   },
   {
    "duration": 37,
    "start_time": "2022-06-05T14:38:03.560Z"
   },
   {
    "duration": 1757,
    "start_time": "2022-06-05T14:38:03.599Z"
   },
   {
    "duration": 19,
    "start_time": "2022-06-05T14:38:05.358Z"
   },
   {
    "duration": 1999,
    "start_time": "2022-06-05T14:38:05.380Z"
   },
   {
    "duration": 9,
    "start_time": "2022-06-05T14:38:07.381Z"
   },
   {
    "duration": 12,
    "start_time": "2022-06-05T14:38:07.392Z"
   },
   {
    "duration": 0,
    "start_time": "2022-06-05T14:38:07.406Z"
   },
   {
    "duration": 0,
    "start_time": "2022-06-05T14:38:07.407Z"
   },
   {
    "duration": 0,
    "start_time": "2022-06-05T14:38:07.409Z"
   },
   {
    "duration": 0,
    "start_time": "2022-06-05T14:38:07.410Z"
   },
   {
    "duration": 5,
    "start_time": "2022-06-05T14:39:28.699Z"
   },
   {
    "duration": 21,
    "start_time": "2022-06-05T14:39:30.023Z"
   },
   {
    "duration": 6,
    "start_time": "2022-06-05T14:39:30.909Z"
   },
   {
    "duration": 1205,
    "start_time": "2022-06-05T14:39:32.062Z"
   },
   {
    "duration": 156,
    "start_time": "2022-06-05T14:39:34.542Z"
   },
   {
    "duration": 2609,
    "start_time": "2022-06-05T14:39:45.956Z"
   },
   {
    "duration": 3,
    "start_time": "2022-06-05T14:43:41.024Z"
   },
   {
    "duration": 1452,
    "start_time": "2022-06-05T14:43:41.522Z"
   },
   {
    "duration": 12,
    "start_time": "2022-06-05T14:49:19.226Z"
   },
   {
    "duration": 4,
    "start_time": "2022-06-05T14:49:26.058Z"
   },
   {
    "duration": 12,
    "start_time": "2022-06-05T14:49:32.491Z"
   },
   {
    "duration": 5,
    "start_time": "2022-06-05T14:49:54.342Z"
   },
   {
    "duration": 651582,
    "start_time": "2022-06-05T14:50:06.398Z"
   },
   {
    "duration": 662799,
    "start_time": "2022-06-05T15:02:36.970Z"
   },
   {
    "duration": 3,
    "start_time": "2022-06-05T15:27:21.629Z"
   },
   {
    "duration": 4,
    "start_time": "2022-06-05T15:29:08.493Z"
   },
   {
    "duration": 16,
    "start_time": "2022-06-05T15:29:10.510Z"
   },
   {
    "duration": 4,
    "start_time": "2022-06-05T15:29:15.661Z"
   },
   {
    "duration": 4,
    "start_time": "2022-06-05T15:29:19.494Z"
   },
   {
    "duration": 1991,
    "start_time": "2022-06-05T15:29:20.878Z"
   },
   {
    "duration": 4,
    "start_time": "2022-06-05T15:29:40.872Z"
   },
   {
    "duration": 1849,
    "start_time": "2022-06-05T15:29:44.326Z"
   },
   {
    "duration": 364,
    "start_time": "2022-06-05T15:31:14.386Z"
   },
   {
    "duration": 44,
    "start_time": "2022-06-06T13:48:39.123Z"
   },
   {
    "duration": 1353,
    "start_time": "2022-06-06T13:50:53.953Z"
   },
   {
    "duration": 2,
    "start_time": "2022-06-06T13:50:55.308Z"
   },
   {
    "duration": 715,
    "start_time": "2022-06-06T13:50:55.312Z"
   },
   {
    "duration": 20,
    "start_time": "2022-06-06T13:50:56.029Z"
   },
   {
    "duration": 7,
    "start_time": "2022-06-06T13:50:56.050Z"
   },
   {
    "duration": 13,
    "start_time": "2022-06-06T13:50:56.059Z"
   },
   {
    "duration": 16,
    "start_time": "2022-06-06T13:50:56.073Z"
   },
   {
    "duration": 15,
    "start_time": "2022-06-06T13:50:56.091Z"
   },
   {
    "duration": 20,
    "start_time": "2022-06-06T13:50:56.107Z"
   },
   {
    "duration": 25,
    "start_time": "2022-06-06T13:50:56.129Z"
   },
   {
    "duration": 15,
    "start_time": "2022-06-06T13:50:56.156Z"
   },
   {
    "duration": 17,
    "start_time": "2022-06-06T13:50:56.172Z"
   },
   {
    "duration": 12,
    "start_time": "2022-06-06T13:50:56.191Z"
   },
   {
    "duration": 15,
    "start_time": "2022-06-06T13:50:56.754Z"
   },
   {
    "duration": 6,
    "start_time": "2022-06-06T13:50:57.814Z"
   },
   {
    "duration": 6,
    "start_time": "2022-06-06T13:50:57.850Z"
   },
   {
    "duration": 61,
    "start_time": "2022-06-06T13:50:57.920Z"
   },
   {
    "duration": 5,
    "start_time": "2022-06-06T13:50:57.983Z"
   },
   {
    "duration": 6,
    "start_time": "2022-06-06T13:50:58.007Z"
   },
   {
    "duration": 36,
    "start_time": "2022-06-06T13:50:58.787Z"
   },
   {
    "duration": 14,
    "start_time": "2022-06-06T13:50:59.865Z"
   },
   {
    "duration": 264,
    "start_time": "2022-06-06T13:51:00.407Z"
   },
   {
    "duration": 5092,
    "start_time": "2022-06-06T13:51:00.673Z"
   },
   {
    "duration": 329,
    "start_time": "2022-06-06T13:51:05.766Z"
   },
   {
    "duration": 47,
    "start_time": "2022-06-06T13:51:06.098Z"
   },
   {
    "duration": 1829,
    "start_time": "2022-06-06T13:51:06.147Z"
   },
   {
    "duration": 16,
    "start_time": "2022-06-06T13:51:07.978Z"
   },
   {
    "duration": 1978,
    "start_time": "2022-06-06T13:51:07.996Z"
   },
   {
    "duration": 9,
    "start_time": "2022-06-06T13:51:09.976Z"
   },
   {
    "duration": 132,
    "start_time": "2022-06-06T13:51:09.988Z"
   },
   {
    "duration": 0,
    "start_time": "2022-06-06T13:51:10.126Z"
   },
   {
    "duration": 0,
    "start_time": "2022-06-06T13:51:10.127Z"
   },
   {
    "duration": 0,
    "start_time": "2022-06-06T13:51:10.128Z"
   },
   {
    "duration": 0,
    "start_time": "2022-06-06T13:51:10.129Z"
   },
   {
    "duration": 0,
    "start_time": "2022-06-06T13:51:10.130Z"
   },
   {
    "duration": 38,
    "start_time": "2022-06-06T13:53:42.537Z"
   },
   {
    "duration": 0,
    "start_time": "2022-06-06T14:55:34.688Z"
   },
   {
    "duration": 0,
    "start_time": "2022-06-06T14:55:34.690Z"
   },
   {
    "duration": 0,
    "start_time": "2022-06-06T14:55:34.692Z"
   },
   {
    "duration": 0,
    "start_time": "2022-06-06T14:55:34.694Z"
   },
   {
    "duration": 0,
    "start_time": "2022-06-06T14:55:34.695Z"
   },
   {
    "duration": 0,
    "start_time": "2022-06-06T14:55:34.697Z"
   },
   {
    "duration": 0,
    "start_time": "2022-06-06T14:55:34.699Z"
   },
   {
    "duration": 0,
    "start_time": "2022-06-06T14:55:34.700Z"
   },
   {
    "duration": 0,
    "start_time": "2022-06-06T14:55:34.702Z"
   },
   {
    "duration": 0,
    "start_time": "2022-06-06T14:55:34.703Z"
   },
   {
    "duration": 0,
    "start_time": "2022-06-06T14:55:34.705Z"
   },
   {
    "duration": 0,
    "start_time": "2022-06-06T14:55:34.706Z"
   },
   {
    "duration": 0,
    "start_time": "2022-06-06T14:55:34.708Z"
   },
   {
    "duration": 0,
    "start_time": "2022-06-06T14:55:34.710Z"
   },
   {
    "duration": 0,
    "start_time": "2022-06-06T14:55:34.711Z"
   },
   {
    "duration": 0,
    "start_time": "2022-06-06T14:55:34.713Z"
   },
   {
    "duration": 0,
    "start_time": "2022-06-06T14:55:34.715Z"
   },
   {
    "duration": 0,
    "start_time": "2022-06-06T14:55:34.716Z"
   },
   {
    "duration": 0,
    "start_time": "2022-06-06T14:55:34.717Z"
   },
   {
    "duration": 0,
    "start_time": "2022-06-06T14:55:34.719Z"
   },
   {
    "duration": 0,
    "start_time": "2022-06-06T14:55:34.720Z"
   },
   {
    "duration": 0,
    "start_time": "2022-06-06T14:55:34.722Z"
   },
   {
    "duration": 0,
    "start_time": "2022-06-06T14:55:34.723Z"
   },
   {
    "duration": 0,
    "start_time": "2022-06-06T14:55:34.725Z"
   },
   {
    "duration": 0,
    "start_time": "2022-06-06T14:55:34.726Z"
   },
   {
    "duration": 0,
    "start_time": "2022-06-06T14:55:34.727Z"
   },
   {
    "duration": 0,
    "start_time": "2022-06-06T14:55:34.728Z"
   },
   {
    "duration": 0,
    "start_time": "2022-06-06T14:55:34.764Z"
   },
   {
    "duration": 0,
    "start_time": "2022-06-06T14:55:34.766Z"
   },
   {
    "duration": 0,
    "start_time": "2022-06-06T14:55:34.767Z"
   },
   {
    "duration": 0,
    "start_time": "2022-06-06T14:55:34.768Z"
   },
   {
    "duration": 0,
    "start_time": "2022-06-06T14:55:34.770Z"
   },
   {
    "duration": 0,
    "start_time": "2022-06-06T14:55:34.771Z"
   },
   {
    "duration": 0,
    "start_time": "2022-06-06T14:55:34.772Z"
   },
   {
    "duration": 0,
    "start_time": "2022-06-06T14:55:34.775Z"
   },
   {
    "duration": 0,
    "start_time": "2022-06-06T14:55:34.777Z"
   },
   {
    "duration": 0,
    "start_time": "2022-06-06T14:55:34.780Z"
   },
   {
    "duration": 4,
    "start_time": "2022-06-06T18:34:48.292Z"
   },
   {
    "duration": 4,
    "start_time": "2022-06-06T18:34:49.683Z"
   },
   {
    "duration": 844,
    "start_time": "2022-06-06T18:34:51.482Z"
   },
   {
    "duration": 31,
    "start_time": "2022-06-06T18:34:53.281Z"
   },
   {
    "duration": 7,
    "start_time": "2022-06-06T18:34:56.409Z"
   },
   {
    "duration": 3,
    "start_time": "2022-06-06T18:34:57.710Z"
   },
   {
    "duration": 6,
    "start_time": "2022-06-06T18:34:58.121Z"
   },
   {
    "duration": 10,
    "start_time": "2022-06-06T18:34:58.490Z"
   },
   {
    "duration": 5,
    "start_time": "2022-06-06T18:34:59.800Z"
   },
   {
    "duration": 14,
    "start_time": "2022-06-06T18:35:02.675Z"
   },
   {
    "duration": 3,
    "start_time": "2022-06-06T18:35:21.112Z"
   },
   {
    "duration": 6,
    "start_time": "2022-06-06T18:35:22.113Z"
   },
   {
    "duration": 5,
    "start_time": "2022-06-06T18:37:34.597Z"
   },
   {
    "duration": 6,
    "start_time": "2022-06-06T18:39:42.949Z"
   },
   {
    "duration": 15,
    "start_time": "2022-06-06T18:43:36.606Z"
   },
   {
    "duration": 12,
    "start_time": "2022-06-06T18:43:44.511Z"
   },
   {
    "duration": 6,
    "start_time": "2022-06-06T18:45:28.717Z"
   },
   {
    "duration": 5,
    "start_time": "2022-06-06T18:46:36.495Z"
   },
   {
    "duration": 4,
    "start_time": "2022-06-06T18:46:37.280Z"
   },
   {
    "duration": 782,
    "start_time": "2022-06-06T18:46:38.285Z"
   },
   {
    "duration": 24,
    "start_time": "2022-06-06T18:46:39.069Z"
   },
   {
    "duration": 8,
    "start_time": "2022-06-06T18:46:43.214Z"
   },
   {
    "duration": 5,
    "start_time": "2022-06-06T18:46:43.687Z"
   },
   {
    "duration": 6,
    "start_time": "2022-06-06T18:46:44.194Z"
   },
   {
    "duration": 6,
    "start_time": "2022-06-06T18:46:44.641Z"
   },
   {
    "duration": 6,
    "start_time": "2022-06-06T18:46:45.098Z"
   },
   {
    "duration": 5,
    "start_time": "2022-06-06T18:46:47.300Z"
   },
   {
    "duration": 5,
    "start_time": "2022-06-06T18:46:47.780Z"
   },
   {
    "duration": 7,
    "start_time": "2022-06-06T18:46:57.204Z"
   },
   {
    "duration": 13,
    "start_time": "2022-06-06T18:47:01.128Z"
   },
   {
    "duration": 10,
    "start_time": "2022-06-06T18:47:14.943Z"
   },
   {
    "duration": 3,
    "start_time": "2022-06-06T18:47:31.406Z"
   },
   {
    "duration": 16,
    "start_time": "2022-06-06T18:47:37.673Z"
   },
   {
    "duration": 6,
    "start_time": "2022-06-06T18:47:46.252Z"
   },
   {
    "duration": 6,
    "start_time": "2022-06-06T18:47:48.345Z"
   },
   {
    "duration": 55,
    "start_time": "2022-06-06T18:47:53.945Z"
   },
   {
    "duration": 7,
    "start_time": "2022-06-06T18:48:22.690Z"
   },
   {
    "duration": 7,
    "start_time": "2022-06-06T18:48:39.353Z"
   },
   {
    "duration": 31,
    "start_time": "2022-06-06T18:49:14.601Z"
   },
   {
    "duration": 1468,
    "start_time": "2022-06-07T09:25:43.421Z"
   },
   {
    "duration": 4,
    "start_time": "2022-06-07T09:25:44.891Z"
   },
   {
    "duration": 3190,
    "start_time": "2022-06-07T09:26:00.401Z"
   },
   {
    "duration": 21,
    "start_time": "2022-06-07T09:26:06.132Z"
   },
   {
    "duration": 11,
    "start_time": "2022-06-07T09:26:07.708Z"
   },
   {
    "duration": 3,
    "start_time": "2022-06-07T09:26:08.659Z"
   },
   {
    "duration": 8,
    "start_time": "2022-06-07T09:26:09.141Z"
   },
   {
    "duration": 7,
    "start_time": "2022-06-07T09:26:09.795Z"
   },
   {
    "duration": 6,
    "start_time": "2022-06-07T09:26:10.380Z"
   },
   {
    "duration": 4,
    "start_time": "2022-06-07T09:26:13.940Z"
   },
   {
    "duration": 2,
    "start_time": "2022-06-07T09:26:14.788Z"
   },
   {
    "duration": 7,
    "start_time": "2022-06-07T09:26:15.468Z"
   },
   {
    "duration": 5,
    "start_time": "2022-06-07T09:26:16.940Z"
   },
   {
    "duration": 20,
    "start_time": "2022-06-07T09:26:17.532Z"
   },
   {
    "duration": 4,
    "start_time": "2022-06-07T09:26:27.675Z"
   },
   {
    "duration": 17,
    "start_time": "2022-06-07T09:26:29.699Z"
   },
   {
    "duration": 6,
    "start_time": "2022-06-07T09:26:32.051Z"
   },
   {
    "duration": 4,
    "start_time": "2022-06-07T09:26:54.155Z"
   },
   {
    "duration": 3,
    "start_time": "2022-06-07T09:26:54.468Z"
   },
   {
    "duration": 749,
    "start_time": "2022-06-07T09:26:55.276Z"
   },
   {
    "duration": 21,
    "start_time": "2022-06-07T09:26:57.227Z"
   },
   {
    "duration": 6,
    "start_time": "2022-06-07T09:27:00.403Z"
   },
   {
    "duration": 3,
    "start_time": "2022-06-07T09:27:00.747Z"
   },
   {
    "duration": 6,
    "start_time": "2022-06-07T09:27:01.355Z"
   },
   {
    "duration": 6,
    "start_time": "2022-06-07T09:27:01.692Z"
   },
   {
    "duration": 6,
    "start_time": "2022-06-07T09:27:02.043Z"
   },
   {
    "duration": 4,
    "start_time": "2022-06-07T09:27:03.587Z"
   },
   {
    "duration": 3,
    "start_time": "2022-06-07T09:27:03.923Z"
   },
   {
    "duration": 5,
    "start_time": "2022-06-07T09:27:04.363Z"
   },
   {
    "duration": 6,
    "start_time": "2022-06-07T09:27:05.956Z"
   },
   {
    "duration": 13,
    "start_time": "2022-06-07T09:27:06.556Z"
   },
   {
    "duration": 3,
    "start_time": "2022-06-07T09:27:10.947Z"
   },
   {
    "duration": 14,
    "start_time": "2022-06-07T09:27:14.515Z"
   },
   {
    "duration": 122,
    "start_time": "2022-06-07T09:27:17.779Z"
   },
   {
    "duration": 4,
    "start_time": "2022-06-07T09:27:30.388Z"
   },
   {
    "duration": 41,
    "start_time": "2022-06-07T09:27:32.611Z"
   },
   {
    "duration": 62,
    "start_time": "2022-06-07T09:28:00.963Z"
   },
   {
    "duration": 35,
    "start_time": "2022-06-07T09:28:11.683Z"
   },
   {
    "duration": 7,
    "start_time": "2022-06-07T09:28:27.331Z"
   },
   {
    "duration": 48,
    "start_time": "2022-06-07T09:28:44.890Z"
   },
   {
    "duration": 5,
    "start_time": "2022-06-07T09:30:07.650Z"
   },
   {
    "duration": 6,
    "start_time": "2022-06-07T09:30:19.507Z"
   },
   {
    "duration": 20,
    "start_time": "2022-06-07T09:30:20.721Z"
   },
   {
    "duration": 12,
    "start_time": "2022-06-07T09:30:25.497Z"
   },
   {
    "duration": 191,
    "start_time": "2022-06-07T09:30:30.986Z"
   },
   {
    "duration": 2170,
    "start_time": "2022-06-07T09:30:34.769Z"
   },
   {
    "duration": 5358,
    "start_time": "2022-06-07T09:31:18.723Z"
   },
   {
    "duration": 308,
    "start_time": "2022-06-07T09:32:29.800Z"
   },
   {
    "duration": 31,
    "start_time": "2022-06-07T09:32:41.921Z"
   },
   {
    "duration": 22,
    "start_time": "2022-06-07T09:37:37.335Z"
   },
   {
    "duration": 17,
    "start_time": "2022-06-07T09:38:52.560Z"
   },
   {
    "duration": 31,
    "start_time": "2022-06-07T09:39:26.718Z"
   },
   {
    "duration": 36,
    "start_time": "2022-06-07T09:40:05.391Z"
   },
   {
    "duration": 1329,
    "start_time": "2022-06-07T09:40:08.669Z"
   },
   {
    "duration": 513,
    "start_time": "2022-06-07T09:41:10.932Z"
   },
   {
    "duration": 8,
    "start_time": "2022-06-07T09:42:05.269Z"
   },
   {
    "duration": 33,
    "start_time": "2022-06-07T09:42:37.892Z"
   },
   {
    "duration": 12,
    "start_time": "2022-06-07T09:43:18.165Z"
   },
   {
    "duration": 134,
    "start_time": "2022-06-07T09:43:34.821Z"
   },
   {
    "duration": 4,
    "start_time": "2022-06-07T09:44:27.685Z"
   },
   {
    "duration": 1349,
    "start_time": "2022-06-07T09:46:12.242Z"
   },
   {
    "duration": 1340,
    "start_time": "2022-06-07T09:47:18.105Z"
   },
   {
    "duration": 1247,
    "start_time": "2022-06-07T09:47:31.370Z"
   },
   {
    "duration": 3,
    "start_time": "2022-06-07T09:48:20.834Z"
   },
   {
    "duration": 3,
    "start_time": "2022-06-07T09:48:36.307Z"
   },
   {
    "duration": 4,
    "start_time": "2022-06-07T09:48:38.224Z"
   },
   {
    "duration": 35,
    "start_time": "2022-06-07T09:48:41.458Z"
   },
   {
    "duration": 7,
    "start_time": "2022-06-07T09:48:49.329Z"
   },
   {
    "duration": 3,
    "start_time": "2022-06-07T09:49:20.633Z"
   },
   {
    "duration": 2,
    "start_time": "2022-06-07T09:49:20.954Z"
   },
   {
    "duration": 744,
    "start_time": "2022-06-07T09:49:21.521Z"
   },
   {
    "duration": 18,
    "start_time": "2022-06-07T09:49:22.268Z"
   },
   {
    "duration": 7,
    "start_time": "2022-06-07T09:49:22.729Z"
   },
   {
    "duration": 3,
    "start_time": "2022-06-07T09:49:23.008Z"
   },
   {
    "duration": 6,
    "start_time": "2022-06-07T09:49:23.312Z"
   },
   {
    "duration": 6,
    "start_time": "2022-06-07T09:49:23.586Z"
   },
   {
    "duration": 6,
    "start_time": "2022-06-07T09:49:23.873Z"
   },
   {
    "duration": 4,
    "start_time": "2022-06-07T09:49:25.105Z"
   },
   {
    "duration": 3,
    "start_time": "2022-06-07T09:49:25.377Z"
   },
   {
    "duration": 5,
    "start_time": "2022-06-07T09:49:25.648Z"
   },
   {
    "duration": 7,
    "start_time": "2022-06-07T09:49:26.877Z"
   },
   {
    "duration": 21,
    "start_time": "2022-06-07T09:49:27.169Z"
   },
   {
    "duration": 3,
    "start_time": "2022-06-07T09:49:28.336Z"
   },
   {
    "duration": 23,
    "start_time": "2022-06-07T09:49:28.953Z"
   },
   {
    "duration": 4,
    "start_time": "2022-06-07T09:49:29.513Z"
   },
   {
    "duration": 3,
    "start_time": "2022-06-07T09:49:29.817Z"
   },
   {
    "duration": 56,
    "start_time": "2022-06-07T09:49:30.392Z"
   },
   {
    "duration": 6,
    "start_time": "2022-06-07T09:49:33.833Z"
   },
   {
    "duration": 8,
    "start_time": "2022-06-07T09:49:34.208Z"
   },
   {
    "duration": 18,
    "start_time": "2022-06-07T09:49:34.520Z"
   },
   {
    "duration": 17,
    "start_time": "2022-06-07T09:49:35.201Z"
   },
   {
    "duration": 217,
    "start_time": "2022-06-07T09:49:35.881Z"
   },
   {
    "duration": 5623,
    "start_time": "2022-06-07T09:49:38.000Z"
   },
   {
    "duration": 402,
    "start_time": "2022-06-07T09:49:49.608Z"
   },
   {
    "duration": 42,
    "start_time": "2022-06-07T09:49:56.904Z"
   },
   {
    "duration": 1669,
    "start_time": "2022-06-07T09:49:58.665Z"
   },
   {
    "duration": 11,
    "start_time": "2022-06-07T09:50:00.337Z"
   },
   {
    "duration": 28,
    "start_time": "2022-06-07T09:50:00.349Z"
   },
   {
    "duration": 9,
    "start_time": "2022-06-07T09:50:00.379Z"
   },
   {
    "duration": 3,
    "start_time": "2022-06-07T09:50:03.120Z"
   },
   {
    "duration": 4,
    "start_time": "2022-06-07T09:50:03.520Z"
   },
   {
    "duration": 22,
    "start_time": "2022-06-07T09:50:04.880Z"
   },
   {
    "duration": 6,
    "start_time": "2022-06-07T09:50:06.160Z"
   },
   {
    "duration": 3,
    "start_time": "2022-06-07T09:50:15.432Z"
   },
   {
    "duration": 3,
    "start_time": "2022-06-07T10:04:34.138Z"
   },
   {
    "duration": 3,
    "start_time": "2022-06-07T10:06:52.944Z"
   },
   {
    "duration": 13,
    "start_time": "2022-06-07T10:07:11.360Z"
   },
   {
    "duration": 5,
    "start_time": "2022-06-07T10:07:13.904Z"
   },
   {
    "duration": 3,
    "start_time": "2022-06-07T10:07:14.936Z"
   },
   {
    "duration": 1394,
    "start_time": "2022-06-08T09:44:57.451Z"
   },
   {
    "duration": 2,
    "start_time": "2022-06-08T09:44:58.847Z"
   },
   {
    "duration": 1725,
    "start_time": "2022-06-08T09:44:58.850Z"
   },
   {
    "duration": 19,
    "start_time": "2022-06-08T09:45:00.577Z"
   },
   {
    "duration": 8,
    "start_time": "2022-06-08T09:45:00.597Z"
   },
   {
    "duration": 10,
    "start_time": "2022-06-08T09:45:00.606Z"
   },
   {
    "duration": 14,
    "start_time": "2022-06-08T09:45:00.618Z"
   },
   {
    "duration": 8,
    "start_time": "2022-06-08T09:45:00.633Z"
   },
   {
    "duration": 20,
    "start_time": "2022-06-08T09:45:00.642Z"
   },
   {
    "duration": 7,
    "start_time": "2022-06-08T09:45:00.664Z"
   },
   {
    "duration": 12,
    "start_time": "2022-06-08T09:45:00.673Z"
   },
   {
    "duration": 13,
    "start_time": "2022-06-08T09:45:00.687Z"
   },
   {
    "duration": 17,
    "start_time": "2022-06-08T09:45:00.701Z"
   },
   {
    "duration": 23,
    "start_time": "2022-06-08T09:45:00.720Z"
   },
   {
    "duration": 3,
    "start_time": "2022-06-08T09:45:00.744Z"
   },
   {
    "duration": 20,
    "start_time": "2022-06-08T09:45:00.749Z"
   },
   {
    "duration": 15,
    "start_time": "2022-06-08T09:45:00.771Z"
   },
   {
    "duration": 7,
    "start_time": "2022-06-08T09:45:00.787Z"
   },
   {
    "duration": 48,
    "start_time": "2022-06-08T09:45:00.796Z"
   },
   {
    "duration": 5,
    "start_time": "2022-06-08T09:45:00.846Z"
   },
   {
    "duration": 18,
    "start_time": "2022-06-08T09:45:00.853Z"
   },
   {
    "duration": 23,
    "start_time": "2022-06-08T09:45:00.873Z"
   },
   {
    "duration": 13,
    "start_time": "2022-06-08T09:45:00.898Z"
   },
   {
    "duration": 210,
    "start_time": "2022-06-08T09:45:00.913Z"
   },
   {
    "duration": 5148,
    "start_time": "2022-06-08T09:45:01.125Z"
   },
   {
    "duration": 287,
    "start_time": "2022-06-08T09:45:06.275Z"
   },
   {
    "duration": 38,
    "start_time": "2022-06-08T09:45:06.564Z"
   },
   {
    "duration": 1281,
    "start_time": "2022-06-08T09:45:06.605Z"
   },
   {
    "duration": 10,
    "start_time": "2022-06-08T09:45:07.888Z"
   },
   {
    "duration": 3,
    "start_time": "2022-06-08T09:45:07.900Z"
   },
   {
    "duration": 4,
    "start_time": "2022-06-08T09:45:07.905Z"
   },
   {
    "duration": 6,
    "start_time": "2022-06-08T09:45:07.911Z"
   },
   {
    "duration": 6,
    "start_time": "2022-06-08T09:45:07.919Z"
   },
   {
    "duration": 18,
    "start_time": "2022-06-08T09:45:07.927Z"
   },
   {
    "duration": 31,
    "start_time": "2022-06-08T09:45:07.946Z"
   },
   {
    "duration": 4,
    "start_time": "2022-06-08T09:45:07.978Z"
   },
   {
    "duration": 4,
    "start_time": "2022-06-08T09:45:07.984Z"
   },
   {
    "duration": 349654,
    "start_time": "2022-06-08T09:45:07.989Z"
   },
   {
    "duration": 342938,
    "start_time": "2022-06-08T09:50:57.645Z"
   },
   {
    "duration": 126,
    "start_time": "2022-06-08T09:56:40.584Z"
   },
   {
    "duration": 0,
    "start_time": "2022-06-08T09:56:40.712Z"
   },
   {
    "duration": 3,
    "start_time": "2022-06-08T09:57:04.014Z"
   },
   {
    "duration": 1495,
    "start_time": "2022-06-08T09:57:05.155Z"
   },
   {
    "duration": 12,
    "start_time": "2022-06-08T09:57:10.551Z"
   },
   {
    "duration": 46263,
    "start_time": "2022-06-08T10:01:13.050Z"
   },
   {
    "duration": 50,
    "start_time": "2022-06-08T10:02:45.564Z"
   },
   {
    "duration": 8,
    "start_time": "2022-06-08T10:03:01.691Z"
   },
   {
    "duration": 180,
    "start_time": "2022-06-08T10:04:13.267Z"
   },
   {
    "duration": 11,
    "start_time": "2022-06-08T10:04:16.730Z"
   },
   {
    "duration": 8,
    "start_time": "2022-06-08T10:04:18.553Z"
   },
   {
    "duration": 8,
    "start_time": "2022-06-08T10:04:19.234Z"
   },
   {
    "duration": 11,
    "start_time": "2022-06-08T10:11:01.161Z"
   },
   {
    "duration": 3,
    "start_time": "2022-06-08T10:11:15.824Z"
   },
   {
    "duration": 5,
    "start_time": "2022-06-08T10:11:20.959Z"
   },
   {
    "duration": 6,
    "start_time": "2022-06-08T10:12:37.102Z"
   },
   {
    "duration": 5,
    "start_time": "2022-06-08T10:12:53.998Z"
   },
   {
    "duration": 4,
    "start_time": "2022-06-08T10:12:55.614Z"
   },
   {
    "duration": 8,
    "start_time": "2022-06-08T10:13:09.862Z"
   },
   {
    "duration": 3,
    "start_time": "2022-06-08T10:16:06.324Z"
   },
   {
    "duration": 28,
    "start_time": "2022-06-08T10:24:41.680Z"
   },
   {
    "duration": 92802,
    "start_time": "2022-06-08T10:25:37.231Z"
   },
   {
    "duration": 1618,
    "start_time": "2022-06-08T10:27:27.030Z"
   },
   {
    "duration": 93034,
    "start_time": "2022-06-08T10:27:57.485Z"
   },
   {
    "duration": 1722,
    "start_time": "2022-06-09T07:01:20.940Z"
   },
   {
    "duration": 3,
    "start_time": "2022-06-09T07:01:22.665Z"
   },
   {
    "duration": 1896,
    "start_time": "2022-06-09T07:01:22.670Z"
   },
   {
    "duration": 25,
    "start_time": "2022-06-09T07:01:24.568Z"
   },
   {
    "duration": 10,
    "start_time": "2022-06-09T07:01:24.596Z"
   },
   {
    "duration": 6,
    "start_time": "2022-06-09T07:01:24.608Z"
   },
   {
    "duration": 11,
    "start_time": "2022-06-09T07:01:24.626Z"
   },
   {
    "duration": 7,
    "start_time": "2022-06-09T07:01:24.639Z"
   },
   {
    "duration": 8,
    "start_time": "2022-06-09T07:01:24.648Z"
   },
   {
    "duration": 10,
    "start_time": "2022-06-09T07:01:24.660Z"
   },
   {
    "duration": 6,
    "start_time": "2022-06-09T07:01:24.672Z"
   },
   {
    "duration": 9,
    "start_time": "2022-06-09T07:01:24.680Z"
   },
   {
    "duration": 36,
    "start_time": "2022-06-09T07:01:24.691Z"
   },
   {
    "duration": 25,
    "start_time": "2022-06-09T07:01:24.729Z"
   },
   {
    "duration": 2,
    "start_time": "2022-06-09T07:01:24.757Z"
   },
   {
    "duration": 27,
    "start_time": "2022-06-09T07:01:24.761Z"
   },
   {
    "duration": 4,
    "start_time": "2022-06-09T07:01:24.790Z"
   },
   {
    "duration": 3,
    "start_time": "2022-06-09T07:01:24.826Z"
   },
   {
    "duration": 79,
    "start_time": "2022-06-09T07:01:24.831Z"
   },
   {
    "duration": 19,
    "start_time": "2022-06-09T07:01:24.912Z"
   },
   {
    "duration": 20,
    "start_time": "2022-06-09T07:01:24.934Z"
   },
   {
    "duration": 33,
    "start_time": "2022-06-09T07:01:24.959Z"
   },
   {
    "duration": 35,
    "start_time": "2022-06-09T07:01:24.995Z"
   },
   {
    "duration": 247,
    "start_time": "2022-06-09T07:01:25.033Z"
   },
   {
    "duration": 5199,
    "start_time": "2022-06-09T07:01:25.282Z"
   },
   {
    "duration": 348,
    "start_time": "2022-06-09T07:01:30.508Z"
   },
   {
    "duration": 69,
    "start_time": "2022-06-09T07:01:30.859Z"
   },
   {
    "duration": 1538,
    "start_time": "2022-06-09T07:01:30.935Z"
   },
   {
    "duration": 15,
    "start_time": "2022-06-09T07:01:32.475Z"
   },
   {
    "duration": 35,
    "start_time": "2022-06-09T07:01:32.492Z"
   },
   {
    "duration": 41,
    "start_time": "2022-06-09T07:01:32.529Z"
   },
   {
    "duration": 29,
    "start_time": "2022-06-09T07:01:32.572Z"
   },
   {
    "duration": 31,
    "start_time": "2022-06-09T07:01:32.604Z"
   },
   {
    "duration": 40,
    "start_time": "2022-06-09T07:01:32.637Z"
   },
   {
    "duration": 81,
    "start_time": "2022-06-09T07:01:32.679Z"
   },
   {
    "duration": 7,
    "start_time": "2022-06-09T07:01:32.763Z"
   },
   {
    "duration": 25,
    "start_time": "2022-06-09T07:01:32.773Z"
   },
   {
    "duration": 380419,
    "start_time": "2022-06-09T07:01:32.800Z"
   },
   {
    "duration": 383711,
    "start_time": "2022-06-09T07:07:53.221Z"
   },
   {
    "duration": 8,
    "start_time": "2022-06-09T07:14:16.934Z"
   },
   {
    "duration": 51275,
    "start_time": "2022-06-09T07:14:16.948Z"
   },
   {
    "duration": 1213,
    "start_time": "2022-06-09T07:15:08.228Z"
   },
   {
    "duration": 101469,
    "start_time": "2022-06-09T07:15:09.527Z"
   },
   {
    "duration": 112,
    "start_time": "2022-06-09T07:58:32.899Z"
   },
   {
    "duration": 89373,
    "start_time": "2022-06-09T07:58:39.539Z"
   },
   {
    "duration": 41,
    "start_time": "2022-06-09T08:00:22.110Z"
   },
   {
    "duration": 6,
    "start_time": "2022-06-09T08:00:29.015Z"
   },
   {
    "duration": 5,
    "start_time": "2022-06-09T08:00:35.152Z"
   },
   {
    "duration": 90585,
    "start_time": "2022-06-09T08:01:02.709Z"
   },
   {
    "duration": 93075,
    "start_time": "2022-06-09T08:08:10.741Z"
   },
   {
    "duration": 1256,
    "start_time": "2022-06-09T08:23:57.244Z"
   },
   {
    "duration": 2,
    "start_time": "2022-06-09T08:23:58.502Z"
   },
   {
    "duration": 1615,
    "start_time": "2022-06-09T08:23:58.505Z"
   },
   {
    "duration": 17,
    "start_time": "2022-06-09T08:24:00.121Z"
   },
   {
    "duration": 12,
    "start_time": "2022-06-09T08:24:00.139Z"
   },
   {
    "duration": 10,
    "start_time": "2022-06-09T08:24:00.152Z"
   },
   {
    "duration": 10,
    "start_time": "2022-06-09T08:24:00.163Z"
   },
   {
    "duration": 7,
    "start_time": "2022-06-09T08:24:00.175Z"
   },
   {
    "duration": 9,
    "start_time": "2022-06-09T08:24:00.183Z"
   },
   {
    "duration": 7,
    "start_time": "2022-06-09T08:24:00.195Z"
   },
   {
    "duration": 17,
    "start_time": "2022-06-09T08:24:00.204Z"
   },
   {
    "duration": 9,
    "start_time": "2022-06-09T08:24:00.222Z"
   },
   {
    "duration": 7,
    "start_time": "2022-06-09T08:24:00.232Z"
   },
   {
    "duration": 38,
    "start_time": "2022-06-09T08:24:00.240Z"
   },
   {
    "duration": 11,
    "start_time": "2022-06-09T08:24:00.279Z"
   },
   {
    "duration": 39,
    "start_time": "2022-06-09T08:24:00.291Z"
   },
   {
    "duration": 18,
    "start_time": "2022-06-09T08:24:00.332Z"
   },
   {
    "duration": 28,
    "start_time": "2022-06-09T08:24:00.352Z"
   },
   {
    "duration": 73,
    "start_time": "2022-06-09T08:24:00.382Z"
   },
   {
    "duration": 5,
    "start_time": "2022-06-09T08:24:00.456Z"
   },
   {
    "duration": 22,
    "start_time": "2022-06-09T08:24:00.462Z"
   },
   {
    "duration": 37,
    "start_time": "2022-06-09T08:24:00.485Z"
   },
   {
    "duration": 18,
    "start_time": "2022-06-09T08:24:00.523Z"
   },
   {
    "duration": 179,
    "start_time": "2022-06-09T08:24:00.542Z"
   },
   {
    "duration": 4427,
    "start_time": "2022-06-09T08:24:00.722Z"
   },
   {
    "duration": 236,
    "start_time": "2022-06-09T08:24:05.150Z"
   },
   {
    "duration": 36,
    "start_time": "2022-06-09T08:24:05.390Z"
   },
   {
    "duration": 1142,
    "start_time": "2022-06-09T08:24:05.430Z"
   },
   {
    "duration": 8,
    "start_time": "2022-06-09T08:24:06.574Z"
   },
   {
    "duration": 9,
    "start_time": "2022-06-09T08:24:06.583Z"
   },
   {
    "duration": 10,
    "start_time": "2022-06-09T08:24:06.593Z"
   },
   {
    "duration": 7,
    "start_time": "2022-06-09T08:24:06.604Z"
   },
   {
    "duration": 4,
    "start_time": "2022-06-09T08:24:06.612Z"
   },
   {
    "duration": 5,
    "start_time": "2022-06-09T08:24:06.617Z"
   },
   {
    "duration": 29,
    "start_time": "2022-06-09T08:24:06.623Z"
   },
   {
    "duration": 3,
    "start_time": "2022-06-09T08:24:06.654Z"
   },
   {
    "duration": 7,
    "start_time": "2022-06-09T08:24:06.659Z"
   },
   {
    "duration": 308736,
    "start_time": "2022-06-09T08:24:06.667Z"
   },
   {
    "duration": 305866,
    "start_time": "2022-06-09T08:29:15.404Z"
   },
   {
    "duration": 3,
    "start_time": "2022-06-09T08:34:21.272Z"
   },
   {
    "duration": 41197,
    "start_time": "2022-06-09T08:34:21.276Z"
   },
   {
    "duration": 1118,
    "start_time": "2022-06-09T08:35:02.474Z"
   },
   {
    "duration": 4,
    "start_time": "2022-06-09T08:35:03.593Z"
   },
   {
    "duration": 81896,
    "start_time": "2022-06-09T08:35:03.598Z"
   },
   {
    "duration": 897,
    "start_time": "2022-06-09T08:36:25.495Z"
   },
   {
    "duration": 1101,
    "start_time": "2022-06-09T08:36:26.394Z"
   },
   {
    "duration": 40806,
    "start_time": "2022-06-09T08:36:27.496Z"
   },
   {
    "duration": 194,
    "start_time": "2022-06-09T08:37:08.303Z"
   },
   {
    "duration": 97,
    "start_time": "2022-06-09T08:37:08.499Z"
   },
   {
    "duration": 283,
    "start_time": "2022-06-09T08:37:08.598Z"
   },
   {
    "duration": 0,
    "start_time": "2022-06-09T08:37:08.882Z"
   },
   {
    "duration": 0,
    "start_time": "2022-06-09T08:37:08.891Z"
   },
   {
    "duration": 0,
    "start_time": "2022-06-09T08:37:08.892Z"
   },
   {
    "duration": 0,
    "start_time": "2022-06-09T08:37:08.893Z"
   },
   {
    "duration": 62,
    "start_time": "2022-06-09T08:39:37.155Z"
   },
   {
    "duration": 361,
    "start_time": "2022-06-09T08:39:38.034Z"
   },
   {
    "duration": 56,
    "start_time": "2022-06-09T08:39:39.134Z"
   },
   {
    "duration": 7,
    "start_time": "2022-06-09T08:39:39.927Z"
   },
   {
    "duration": 6,
    "start_time": "2022-06-09T08:39:42.127Z"
   },
   {
    "duration": 4,
    "start_time": "2022-06-09T08:39:44.339Z"
   },
   {
    "duration": 4,
    "start_time": "2022-06-09T08:39:49.442Z"
   },
   {
    "duration": 8,
    "start_time": "2022-06-09T08:39:50.318Z"
   },
   {
    "duration": 9,
    "start_time": "2022-06-09T08:41:38.539Z"
   },
   {
    "duration": 3,
    "start_time": "2022-06-09T08:41:53.753Z"
   },
   {
    "duration": 9,
    "start_time": "2022-06-09T08:41:58.023Z"
   },
   {
    "duration": 4,
    "start_time": "2022-06-09T08:42:09.747Z"
   },
   {
    "duration": 3,
    "start_time": "2022-06-09T08:42:45.569Z"
   },
   {
    "duration": 6,
    "start_time": "2022-06-09T08:42:46.976Z"
   },
   {
    "duration": 3,
    "start_time": "2022-06-09T09:48:29.099Z"
   },
   {
    "duration": 4,
    "start_time": "2022-06-09T09:48:41.713Z"
   },
   {
    "duration": 15,
    "start_time": "2022-06-09T09:49:14.787Z"
   },
   {
    "duration": 30,
    "start_time": "2022-06-09T09:49:28.578Z"
   },
   {
    "duration": 6,
    "start_time": "2022-06-09T09:49:33.729Z"
   },
   {
    "duration": 3,
    "start_time": "2022-06-09T09:49:44.414Z"
   },
   {
    "duration": 9,
    "start_time": "2022-06-09T09:53:59.431Z"
   },
   {
    "duration": 4,
    "start_time": "2022-06-09T09:54:50.872Z"
   },
   {
    "duration": 23,
    "start_time": "2022-06-09T09:54:57.722Z"
   },
   {
    "duration": 31,
    "start_time": "2022-06-09T09:55:06.909Z"
   },
   {
    "duration": 4,
    "start_time": "2022-06-09T09:56:48.613Z"
   },
   {
    "duration": 3,
    "start_time": "2022-06-09T09:56:49.917Z"
   },
   {
    "duration": 1279,
    "start_time": "2022-06-09T09:57:02.854Z"
   },
   {
    "duration": 3,
    "start_time": "2022-06-09T09:57:04.134Z"
   },
   {
    "duration": 621,
    "start_time": "2022-06-09T09:57:04.138Z"
   },
   {
    "duration": 17,
    "start_time": "2022-06-09T09:57:04.761Z"
   },
   {
    "duration": 7,
    "start_time": "2022-06-09T09:57:04.779Z"
   },
   {
    "duration": 4,
    "start_time": "2022-06-09T09:57:04.787Z"
   },
   {
    "duration": 11,
    "start_time": "2022-06-09T09:57:04.793Z"
   },
   {
    "duration": 6,
    "start_time": "2022-06-09T09:57:04.805Z"
   },
   {
    "duration": 7,
    "start_time": "2022-06-09T09:57:04.812Z"
   },
   {
    "duration": 4,
    "start_time": "2022-06-09T09:57:04.821Z"
   },
   {
    "duration": 4,
    "start_time": "2022-06-09T09:57:04.826Z"
   },
   {
    "duration": 8,
    "start_time": "2022-06-09T09:57:04.832Z"
   },
   {
    "duration": 5,
    "start_time": "2022-06-09T09:57:04.841Z"
   },
   {
    "duration": 17,
    "start_time": "2022-06-09T09:57:04.847Z"
   },
   {
    "duration": 2,
    "start_time": "2022-06-09T09:57:04.865Z"
   },
   {
    "duration": 33,
    "start_time": "2022-06-09T09:57:04.868Z"
   },
   {
    "duration": 4,
    "start_time": "2022-06-09T09:57:04.902Z"
   },
   {
    "duration": 5,
    "start_time": "2022-06-09T09:57:04.908Z"
   },
   {
    "duration": 40,
    "start_time": "2022-06-09T09:57:04.915Z"
   },
   {
    "duration": 5,
    "start_time": "2022-06-09T09:57:04.956Z"
   },
   {
    "duration": 6,
    "start_time": "2022-06-09T09:57:04.962Z"
   },
   {
    "duration": 34,
    "start_time": "2022-06-09T09:57:04.970Z"
   },
   {
    "duration": 9,
    "start_time": "2022-06-09T09:57:05.006Z"
   },
   {
    "duration": 167,
    "start_time": "2022-06-09T09:57:05.017Z"
   },
   {
    "duration": 4338,
    "start_time": "2022-06-09T09:57:05.191Z"
   },
   {
    "duration": 247,
    "start_time": "2022-06-09T09:57:09.531Z"
   },
   {
    "duration": 36,
    "start_time": "2022-06-09T09:57:09.780Z"
   },
   {
    "duration": 1174,
    "start_time": "2022-06-09T09:57:09.819Z"
   },
   {
    "duration": 8,
    "start_time": "2022-06-09T09:57:10.995Z"
   },
   {
    "duration": 5,
    "start_time": "2022-06-09T09:57:11.004Z"
   },
   {
    "duration": 4,
    "start_time": "2022-06-09T09:57:11.010Z"
   },
   {
    "duration": 6,
    "start_time": "2022-06-09T09:57:11.015Z"
   },
   {
    "duration": 5,
    "start_time": "2022-06-09T09:57:11.022Z"
   },
   {
    "duration": 4,
    "start_time": "2022-06-09T09:57:11.029Z"
   },
   {
    "duration": 28,
    "start_time": "2022-06-09T09:57:11.034Z"
   },
   {
    "duration": 45,
    "start_time": "2022-06-09T09:57:11.064Z"
   },
   {
    "duration": 24,
    "start_time": "2022-06-09T09:57:11.110Z"
   },
   {
    "duration": 4,
    "start_time": "2022-06-09T09:57:11.135Z"
   },
   {
    "duration": 7,
    "start_time": "2022-06-09T09:57:11.140Z"
   },
   {
    "duration": 322941,
    "start_time": "2022-06-09T09:57:11.148Z"
   },
   {
    "duration": 318061,
    "start_time": "2022-06-09T10:02:34.091Z"
   },
   {
    "duration": 3,
    "start_time": "2022-06-09T10:07:52.153Z"
   },
   {
    "duration": 43789,
    "start_time": "2022-06-09T10:07:52.158Z"
   },
   {
    "duration": 1546,
    "start_time": "2022-06-09T10:08:35.949Z"
   },
   {
    "duration": 4,
    "start_time": "2022-06-09T10:08:37.497Z"
   },
   {
    "duration": 85274,
    "start_time": "2022-06-09T10:08:37.502Z"
   },
   {
    "duration": 1423,
    "start_time": "2022-06-09T10:10:02.777Z"
   },
   {
    "duration": 1587,
    "start_time": "2022-06-09T10:10:04.205Z"
   },
   {
    "duration": 42201,
    "start_time": "2022-06-09T10:10:05.794Z"
   },
   {
    "duration": 34,
    "start_time": "2022-06-09T10:10:47.997Z"
   },
   {
    "duration": 360,
    "start_time": "2022-06-09T10:10:48.032Z"
   },
   {
    "duration": 97,
    "start_time": "2022-06-09T10:10:48.394Z"
   },
   {
    "duration": 11,
    "start_time": "2022-06-09T10:10:48.493Z"
   },
   {
    "duration": 9,
    "start_time": "2022-06-09T10:10:48.591Z"
   },
   {
    "duration": 7,
    "start_time": "2022-06-09T10:10:48.601Z"
   },
   {
    "duration": 4,
    "start_time": "2022-06-09T10:10:48.609Z"
   },
   {
    "duration": 7,
    "start_time": "2022-06-09T10:10:48.615Z"
   },
   {
    "duration": 1080,
    "start_time": "2022-06-09T10:28:13.342Z"
   },
   {
    "duration": 3,
    "start_time": "2022-06-09T10:28:14.424Z"
   },
   {
    "duration": 576,
    "start_time": "2022-06-09T10:28:14.428Z"
   },
   {
    "duration": 18,
    "start_time": "2022-06-09T10:28:15.005Z"
   },
   {
    "duration": 7,
    "start_time": "2022-06-09T10:28:15.024Z"
   },
   {
    "duration": 5,
    "start_time": "2022-06-09T10:28:15.032Z"
   },
   {
    "duration": 19,
    "start_time": "2022-06-09T10:28:15.039Z"
   },
   {
    "duration": 6,
    "start_time": "2022-06-09T10:28:15.059Z"
   },
   {
    "duration": 6,
    "start_time": "2022-06-09T10:28:15.067Z"
   },
   {
    "duration": 7,
    "start_time": "2022-06-09T10:28:15.075Z"
   },
   {
    "duration": 10,
    "start_time": "2022-06-09T10:28:15.083Z"
   },
   {
    "duration": 7,
    "start_time": "2022-06-09T10:28:15.094Z"
   },
   {
    "duration": 6,
    "start_time": "2022-06-09T10:28:15.102Z"
   },
   {
    "duration": 18,
    "start_time": "2022-06-09T10:28:15.109Z"
   },
   {
    "duration": 2,
    "start_time": "2022-06-09T10:28:15.129Z"
   },
   {
    "duration": 13,
    "start_time": "2022-06-09T10:28:15.133Z"
   },
   {
    "duration": 4,
    "start_time": "2022-06-09T10:28:15.147Z"
   },
   {
    "duration": 7,
    "start_time": "2022-06-09T10:28:15.152Z"
   },
   {
    "duration": 55,
    "start_time": "2022-06-09T10:28:15.161Z"
   },
   {
    "duration": 5,
    "start_time": "2022-06-09T10:28:15.218Z"
   },
   {
    "duration": 7,
    "start_time": "2022-06-09T10:28:15.224Z"
   },
   {
    "duration": 18,
    "start_time": "2022-06-09T10:28:15.232Z"
   },
   {
    "duration": 9,
    "start_time": "2022-06-09T10:28:15.252Z"
   },
   {
    "duration": 184,
    "start_time": "2022-06-09T10:28:15.263Z"
   },
   {
    "duration": 4320,
    "start_time": "2022-06-09T10:28:15.449Z"
   },
   {
    "duration": 231,
    "start_time": "2022-06-09T10:28:19.770Z"
   },
   {
    "duration": 33,
    "start_time": "2022-06-09T10:28:20.002Z"
   },
   {
    "duration": 1046,
    "start_time": "2022-06-09T10:28:20.038Z"
   },
   {
    "duration": 11,
    "start_time": "2022-06-09T10:28:21.086Z"
   },
   {
    "duration": 3,
    "start_time": "2022-06-09T10:28:21.098Z"
   },
   {
    "duration": 5,
    "start_time": "2022-06-09T10:28:21.102Z"
   },
   {
    "duration": 6,
    "start_time": "2022-06-09T10:28:21.108Z"
   },
   {
    "duration": 5,
    "start_time": "2022-06-09T10:28:21.115Z"
   },
   {
    "duration": 4,
    "start_time": "2022-06-09T10:28:21.121Z"
   },
   {
    "duration": 27,
    "start_time": "2022-06-09T10:28:21.126Z"
   },
   {
    "duration": 4,
    "start_time": "2022-06-09T10:28:21.154Z"
   },
   {
    "duration": 4,
    "start_time": "2022-06-09T10:28:21.159Z"
   },
   {
    "duration": 312777,
    "start_time": "2022-06-09T10:28:21.164Z"
   },
   {
    "duration": 308681,
    "start_time": "2022-06-09T10:33:33.943Z"
   },
   {
    "duration": 3,
    "start_time": "2022-06-09T10:38:42.626Z"
   },
   {
    "duration": 41448,
    "start_time": "2022-06-09T10:38:42.630Z"
   },
   {
    "duration": 1315,
    "start_time": "2022-06-09T10:39:24.080Z"
   },
   {
    "duration": 4,
    "start_time": "2022-06-09T10:39:25.397Z"
   },
   {
    "duration": 82422,
    "start_time": "2022-06-09T10:39:25.402Z"
   },
   {
    "duration": 1068,
    "start_time": "2022-06-09T10:40:47.826Z"
   },
   {
    "duration": 1496,
    "start_time": "2022-06-09T10:40:48.896Z"
   },
   {
    "duration": 41966,
    "start_time": "2022-06-09T10:40:50.394Z"
   },
   {
    "duration": 56,
    "start_time": "2022-06-09T10:41:32.361Z"
   },
   {
    "duration": 183,
    "start_time": "2022-06-09T10:41:32.419Z"
   },
   {
    "duration": 100,
    "start_time": "2022-06-09T10:41:32.696Z"
   },
   {
    "duration": 194,
    "start_time": "2022-06-09T10:41:32.797Z"
   },
   {
    "duration": 7,
    "start_time": "2022-06-09T10:41:32.993Z"
   },
   {
    "duration": 3,
    "start_time": "2022-06-09T10:41:33.001Z"
   },
   {
    "duration": 5,
    "start_time": "2022-06-09T10:41:33.005Z"
   },
   {
    "duration": 10,
    "start_time": "2022-06-09T10:41:33.012Z"
   },
   {
    "duration": 43,
    "start_time": "2022-06-09T10:44:36.039Z"
   }
  ],
  "kernelspec": {
   "display_name": "Python 3 (ipykernel)",
   "language": "python",
   "name": "python3"
  },
  "language_info": {
   "codemirror_mode": {
    "name": "ipython",
    "version": 3
   },
   "file_extension": ".py",
   "mimetype": "text/x-python",
   "name": "python",
   "nbconvert_exporter": "python",
   "pygments_lexer": "ipython3",
   "version": "3.9.12"
  },
  "toc": {
   "base_numbering": 1,
   "nav_menu": {},
   "number_sections": true,
   "sideBar": true,
   "skip_h1_title": true,
   "title_cell": "Содержание",
   "title_sidebar": "Contents",
   "toc_cell": true,
   "toc_position": {
    "height": "calc(100% - 180px)",
    "left": "10px",
    "top": "150px",
    "width": "331.45px"
   },
   "toc_section_display": true,
   "toc_window_display": true
  }
 },
 "nbformat": 4,
 "nbformat_minor": 2
}

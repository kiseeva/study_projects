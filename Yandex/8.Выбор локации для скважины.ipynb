{
 "cells": [
  {
   "cell_type": "markdown",
   "metadata": {},
   "source": [
    "# Выбор локации для скважины"
   ]
  },
  {
   "cell_type": "markdown",
   "metadata": {},
   "source": [
    "`Цель:`  добывающей компании «N» необходимо решить,  новую скважину\n",
    "\n",
    "`Задача:` построить модель машинного обучения, которая поможет определить регион, где добыча принесёт наибольшую прибыль. Проанализировать возможную прибыль и риски техникой *Bootstrap.*\n",
    "\n",
    "`Входные данные:` пробы нефти в трёх регионах: в каждом из 10 000 месторождений.  качество нефти и объём её запасов.\n",
    "\n",
    "\n",
    "`Описание данных:`\n",
    "Данные геологоразведки трёх регионов находятся в файлах:\n",
    "- /datasets/geo_data_0.csv.\n",
    "- /datasets/geo_data_1.csv. \n",
    "- /datasets/geo_data_2.csv. \n",
    "\n",
    "`id` — уникальный идентификатор скважины;\n",
    "`f0, f1, f2` — три признака точек;\n",
    "`product` — объём запасов в скважине (тыс. баррелей).\n",
    "\n",
    "\n",
    "`Условия задачи:`\n",
    "- Для обучения модели подходит только линейная регрессия (остальные — недостаточно предсказуемые).\n",
    "- При разведке региона исследуют 500 точек, из которых с помощью машинного обучения выбирают 200 лучших для разработки.\n",
    "- Бюджет на разработку скважин в регионе — 10 млрд рублей.\n",
    "- При нынешних ценах один баррель сырья приносит 450 рублей дохода. Доход с каждой единицы продукта составляет 450 тыс. рублей, поскольку объём указан в тысячах баррелей.\n",
    "- После оценки рисков нужно оставить лишь те регионы, в которых вероятность убытков меньше 2.5%. Среди них выбирают регион с наибольшей средней прибылью.\n",
    "- Данные синтетические: детали контрактов и характеристики месторождений не разглашаются.\n",
    "\n",
    "`Этапы исследования:`\n",
    "1. Загрузка и подготовка данные. \n",
    "2. Обучение и проверка моделей для каждого региона:\n",
    "3. Подготовка к расчёту прибыли:\n",
    "4. Написание функцию для расчёта прибыли по выбранным скважинам и предсказаниям модели:\n",
    "5. Расчет рисков и прибыли для каждого региона:\n",
    "6. Вывод"
   ]
  },
  {
   "cell_type": "markdown",
   "metadata": {},
   "source": [
    "## Загрузка и подготовка данных"
   ]
  },
  {
   "cell_type": "markdown",
   "metadata": {},
   "source": [
    "### Подключение библиотек"
   ]
  },
  {
   "cell_type": "code",
   "execution_count": 1,
   "metadata": {},
   "outputs": [],
   "source": [
    "# Импорт библиотек и методов\n",
    "import pandas as pd\n",
    "import matplotlib.pyplot as plt\n",
    "import numpy as np\n",
    "import seaborn as sns\n",
    "\n",
    "import warnings\n",
    "\n",
    "from scipy import stats\n",
    "from sklearn.model_selection import train_test_split\n",
    "from sklearn.preprocessing import StandardScaler\n",
    "from sklearn.metrics import mean_squared_error\n",
    "\n",
    "from sklearn.linear_model import LinearRegression "
   ]
  },
  {
   "cell_type": "code",
   "execution_count": 2,
   "metadata": {},
   "outputs": [],
   "source": [
    "# Игнорирование предупреждений\n",
    "warnings.filterwarnings('ignore')"
   ]
  },
  {
   "cell_type": "markdown",
   "metadata": {},
   "source": [
    "### Загрузка данных и основная информация"
   ]
  },
  {
   "cell_type": "code",
   "execution_count": 3,
   "metadata": {},
   "outputs": [],
   "source": [
    "# Загрузка данных\n",
    "geo_0 = pd.read_csv('/datasets/geo_data_0.csv')\n",
    "geo_1 = pd.read_csv('/datasets/geo_data_1.csv')\n",
    "geo_2 = pd.read_csv('/datasets/geo_data_2.csv')"
   ]
  },
  {
   "cell_type": "code",
   "execution_count": 4,
   "metadata": {},
   "outputs": [
    {
     "data": {
      "text/html": [
       "<div>\n",
       "<style scoped>\n",
       "    .dataframe tbody tr th:only-of-type {\n",
       "        vertical-align: middle;\n",
       "    }\n",
       "\n",
       "    .dataframe tbody tr th {\n",
       "        vertical-align: top;\n",
       "    }\n",
       "\n",
       "    .dataframe thead th {\n",
       "        text-align: right;\n",
       "    }\n",
       "</style>\n",
       "<table border=\"1\" class=\"dataframe\">\n",
       "  <thead>\n",
       "    <tr style=\"text-align: right;\">\n",
       "      <th></th>\n",
       "      <th>id</th>\n",
       "      <th>f0</th>\n",
       "      <th>f1</th>\n",
       "      <th>f2</th>\n",
       "      <th>product</th>\n",
       "    </tr>\n",
       "  </thead>\n",
       "  <tbody>\n",
       "    <tr>\n",
       "      <th>0</th>\n",
       "      <td>fwXo0</td>\n",
       "      <td>-1.146987</td>\n",
       "      <td>0.963328</td>\n",
       "      <td>-0.828965</td>\n",
       "      <td>27.758673</td>\n",
       "    </tr>\n",
       "    <tr>\n",
       "      <th>1</th>\n",
       "      <td>WJtFt</td>\n",
       "      <td>0.262778</td>\n",
       "      <td>0.269839</td>\n",
       "      <td>-2.530187</td>\n",
       "      <td>56.069697</td>\n",
       "    </tr>\n",
       "    <tr>\n",
       "      <th>2</th>\n",
       "      <td>ovLUW</td>\n",
       "      <td>0.194587</td>\n",
       "      <td>0.289035</td>\n",
       "      <td>-5.586433</td>\n",
       "      <td>62.871910</td>\n",
       "    </tr>\n",
       "    <tr>\n",
       "      <th>3</th>\n",
       "      <td>q6cA6</td>\n",
       "      <td>2.236060</td>\n",
       "      <td>-0.553760</td>\n",
       "      <td>0.930038</td>\n",
       "      <td>114.572842</td>\n",
       "    </tr>\n",
       "    <tr>\n",
       "      <th>4</th>\n",
       "      <td>WPMUX</td>\n",
       "      <td>-0.515993</td>\n",
       "      <td>1.716266</td>\n",
       "      <td>5.899011</td>\n",
       "      <td>149.600746</td>\n",
       "    </tr>\n",
       "  </tbody>\n",
       "</table>\n",
       "</div>"
      ],
      "text/plain": [
       "      id        f0        f1        f2     product\n",
       "0  fwXo0 -1.146987  0.963328 -0.828965   27.758673\n",
       "1  WJtFt  0.262778  0.269839 -2.530187   56.069697\n",
       "2  ovLUW  0.194587  0.289035 -5.586433   62.871910\n",
       "3  q6cA6  2.236060 -0.553760  0.930038  114.572842\n",
       "4  WPMUX -0.515993  1.716266  5.899011  149.600746"
      ]
     },
     "execution_count": 4,
     "metadata": {},
     "output_type": "execute_result"
    }
   ],
   "source": [
    "#geo_0.head()\n",
    "#geo_1.head()\n",
    "geo_2.head()"
   ]
  },
  {
   "cell_type": "code",
   "execution_count": 5,
   "metadata": {},
   "outputs": [],
   "source": [
    "# Удаление лишнего признака\n",
    "\n",
    "geo_0 = geo_0.drop(['id'],axis=1)\n",
    "geo_1 = geo_1.drop(['id'],axis=1)\n",
    "geo_2 = geo_2.drop(['id'],axis=1)"
   ]
  },
  {
   "cell_type": "code",
   "execution_count": 6,
   "metadata": {},
   "outputs": [
    {
     "name": "stdout",
     "output_type": "stream",
     "text": [
      "<class 'pandas.core.frame.DataFrame'>\n",
      "RangeIndex: 100000 entries, 0 to 99999\n",
      "Data columns (total 4 columns):\n",
      " #   Column   Non-Null Count   Dtype  \n",
      "---  ------   --------------   -----  \n",
      " 0   f0       100000 non-null  float64\n",
      " 1   f1       100000 non-null  float64\n",
      " 2   f2       100000 non-null  float64\n",
      " 3   product  100000 non-null  float64\n",
      "dtypes: float64(4)\n",
      "memory usage: 3.1 MB\n"
     ]
    }
   ],
   "source": [
    "# Основная информация о таблицах\n",
    "\n",
    "#geo_0.info()\n",
    "#geo_1.info()\n",
    "geo_2.info()"
   ]
  },
  {
   "cell_type": "code",
   "execution_count": 7,
   "metadata": {
    "scrolled": true
   },
   "outputs": [
    {
     "data": {
      "text/html": [
       "<div>\n",
       "<style scoped>\n",
       "    .dataframe tbody tr th:only-of-type {\n",
       "        vertical-align: middle;\n",
       "    }\n",
       "\n",
       "    .dataframe tbody tr th {\n",
       "        vertical-align: top;\n",
       "    }\n",
       "\n",
       "    .dataframe thead th {\n",
       "        text-align: right;\n",
       "    }\n",
       "</style>\n",
       "<table border=\"1\" class=\"dataframe\">\n",
       "  <thead>\n",
       "    <tr style=\"text-align: right;\">\n",
       "      <th></th>\n",
       "      <th>f0</th>\n",
       "      <th>f1</th>\n",
       "      <th>f2</th>\n",
       "      <th>product</th>\n",
       "    </tr>\n",
       "  </thead>\n",
       "  <tbody>\n",
       "    <tr>\n",
       "      <th>count</th>\n",
       "      <td>100000.000000</td>\n",
       "      <td>100000.000000</td>\n",
       "      <td>100000.000000</td>\n",
       "      <td>100000.000000</td>\n",
       "    </tr>\n",
       "    <tr>\n",
       "      <th>mean</th>\n",
       "      <td>0.500419</td>\n",
       "      <td>0.250143</td>\n",
       "      <td>2.502647</td>\n",
       "      <td>92.500000</td>\n",
       "    </tr>\n",
       "    <tr>\n",
       "      <th>std</th>\n",
       "      <td>0.871832</td>\n",
       "      <td>0.504433</td>\n",
       "      <td>3.248248</td>\n",
       "      <td>44.288691</td>\n",
       "    </tr>\n",
       "    <tr>\n",
       "      <th>min</th>\n",
       "      <td>-1.408605</td>\n",
       "      <td>-0.848218</td>\n",
       "      <td>-12.088328</td>\n",
       "      <td>0.000000</td>\n",
       "    </tr>\n",
       "    <tr>\n",
       "      <th>25%</th>\n",
       "      <td>-0.072580</td>\n",
       "      <td>-0.200881</td>\n",
       "      <td>0.287748</td>\n",
       "      <td>56.497507</td>\n",
       "    </tr>\n",
       "    <tr>\n",
       "      <th>50%</th>\n",
       "      <td>0.502360</td>\n",
       "      <td>0.250252</td>\n",
       "      <td>2.515969</td>\n",
       "      <td>91.849972</td>\n",
       "    </tr>\n",
       "    <tr>\n",
       "      <th>75%</th>\n",
       "      <td>1.073581</td>\n",
       "      <td>0.700646</td>\n",
       "      <td>4.715088</td>\n",
       "      <td>128.564089</td>\n",
       "    </tr>\n",
       "    <tr>\n",
       "      <th>max</th>\n",
       "      <td>2.362331</td>\n",
       "      <td>1.343769</td>\n",
       "      <td>16.003790</td>\n",
       "      <td>185.364347</td>\n",
       "    </tr>\n",
       "  </tbody>\n",
       "</table>\n",
       "</div>"
      ],
      "text/plain": [
       "                  f0             f1             f2        product\n",
       "count  100000.000000  100000.000000  100000.000000  100000.000000\n",
       "mean        0.500419       0.250143       2.502647      92.500000\n",
       "std         0.871832       0.504433       3.248248      44.288691\n",
       "min        -1.408605      -0.848218     -12.088328       0.000000\n",
       "25%        -0.072580      -0.200881       0.287748      56.497507\n",
       "50%         0.502360       0.250252       2.515969      91.849972\n",
       "75%         1.073581       0.700646       4.715088     128.564089\n",
       "max         2.362331       1.343769      16.003790     185.364347"
      ]
     },
     "execution_count": 7,
     "metadata": {},
     "output_type": "execute_result"
    }
   ],
   "source": [
    "# Статистическая информация о таблицах\n",
    "\n",
    "geo_0.describe()\n",
    "#geo_1.describe()\n",
    "#geo_2.describe()"
   ]
  },
  {
   "cell_type": "markdown",
   "metadata": {},
   "source": [
    "### Проверка данных на пропуски, дубликаты и аномалии"
   ]
  },
  {
   "cell_type": "code",
   "execution_count": 8,
   "metadata": {},
   "outputs": [
    {
     "name": "stdout",
     "output_type": "stream",
     "text": [
      "f0         0\n",
      "f1         0\n",
      "f2         0\n",
      "product    0\n",
      "dtype: int64\n",
      "f0         0\n",
      "f1         0\n",
      "f2         0\n",
      "product    0\n",
      "dtype: int64\n",
      "f0         0\n",
      "f1         0\n",
      "f2         0\n",
      "product    0\n",
      "dtype: int64\n"
     ]
    }
   ],
   "source": [
    "print(geo_0.isna().sum()) # подсчёт пропусков\n",
    "print(geo_1.isna().sum())\n",
    "print(geo_2.isna().sum())"
   ]
  },
  {
   "cell_type": "code",
   "execution_count": 9,
   "metadata": {},
   "outputs": [
    {
     "name": "stdout",
     "output_type": "stream",
     "text": [
      "0\n",
      "0\n",
      "0\n"
     ]
    }
   ],
   "source": [
    "print(geo_0.duplicated().sum()) # подсчет дубликатов\n",
    "print(geo_1.duplicated().sum())\n",
    "print(geo_2.duplicated().sum())"
   ]
  },
  {
   "cell_type": "markdown",
   "metadata": {},
   "source": [
    "Дубликаты и пропуски отсутствуют, проверим данные на выбросы."
   ]
  },
  {
   "cell_type": "code",
   "execution_count": 10,
   "metadata": {},
   "outputs": [
    {
     "name": "stdout",
     "output_type": "stream",
     "text": [
      "f0\n"
     ]
    },
    {
     "data": {
      "image/png": "[encoded data removed]",
      "text/plain": [
       "<Figure size 432x288 with 1 Axes>"
      ]
     },
     "metadata": {
      "needs_background": "light"
     },
     "output_type": "display_data"
    },
    {
     "name": "stdout",
     "output_type": "stream",
     "text": [
      "f1\n"
     ]
    },
    {
     "data": {
      "image/png": "[encoded data removed]",
      "text/plain": [
       "<Figure size 432x288 with 1 Axes>"
      ]
     },
     "metadata": {
      "needs_background": "light"
     },
     "output_type": "display_data"
    },
    {
     "name": "stdout",
     "output_type": "stream",
     "text": [
      "f2\n"
     ]
    },
    {
     "data": {
      "image/png": "[encoded data removed]",
      "text/plain": [
       "<Figure size 432x288 with 1 Axes>"
      ]
     },
     "metadata": {
      "needs_background": "light"
     },
     "output_type": "display_data"
    },
    {
     "name": "stdout",
     "output_type": "stream",
     "text": [
      "product\n"
     ]
    },
    {
     "data": {
      "image/png": "[encoded data removed]",
      "text/plain": [
       "<Figure size 432x288 with 1 Axes>"
      ]
     },
     "metadata": {
      "needs_background": "light"
     },
     "output_type": "display_data"
    },
    {
     "name": "stdout",
     "output_type": "stream",
     "text": [
      "f0\n"
     ]
    },
    {
     "data": {
      "image/png": "[encoded data removed]",
      "text/plain": [
       "<Figure size 432x288 with 1 Axes>"
      ]
     },
     "metadata": {
      "needs_background": "light"
     },
     "output_type": "display_data"
    },
    {
     "name": "stdout",
     "output_type": "stream",
     "text": [
      "f1\n"
     ]
    },
    {
     "data": {
      "image/png": "[encoded data removed]",
      "text/plain": [
       "<Figure size 432x288 with 1 Axes>"
      ]
     },
     "metadata": {
      "needs_background": "light"
     },
     "output_type": "display_data"
    },
    {
     "name": "stdout",
     "output_type": "stream",
     "text": [
      "f2\n"
     ]
    },
    {
     "data": {
      "image/png": "[encoded data removed]",
      "text/plain": [
       "<Figure size 432x288 with 1 Axes>"
      ]
     },
     "metadata": {
      "needs_background": "light"
     },
     "output_type": "display_data"
    },
    {
     "name": "stdout",
     "output_type": "stream",
     "text": [
      "product\n"
     ]
    },
    {
     "data": {
      "image/png": "[encoded data removed]",
      "text/plain": [
       "<Figure size 432x288 with 1 Axes>"
      ]
     },
     "metadata": {
      "needs_background": "light"
     },
     "output_type": "display_data"
    },
    {
     "name": "stdout",
     "output_type": "stream",
     "text": [
      "f0\n"
     ]
    },
    {
     "data": {
      "image/png": "[encoded data removed]",
      "text/plain": [
       "<Figure size 432x288 with 1 Axes>"
      ]
     },
     "metadata": {
      "needs_background": "light"
     },
     "output_type": "display_data"
    },
    {
     "name": "stdout",
     "output_type": "stream",
     "text": [
      "f1\n"
     ]
    },
    {
     "data": {
      "image/png": "[encoded data removed]",
      "text/plain": [
       "<Figure size 432x288 with 1 Axes>"
      ]
     },
     "metadata": {
      "needs_background": "light"
     },
     "output_type": "display_data"
    },
    {
     "name": "stdout",
     "output_type": "stream",
     "text": [
      "f2\n"
     ]
    },
    {
     "data": {
      "image/png": "[encoded data removed]",
      "text/plain": [
       "<Figure size 432x288 with 1 Axes>"
      ]
     },
     "metadata": {
      "needs_background": "light"
     },
     "output_type": "display_data"
    },
    {
     "name": "stdout",
     "output_type": "stream",
     "text": [
      "product\n"
     ]
    },
    {
     "data": {
      "image/png": "[encoded data removed]",
      "text/plain": [
       "<Figure size 432x288 with 1 Axes>"
      ]
     },
     "metadata": {
      "needs_background": "light"
     },
     "output_type": "display_data"
    }
   ],
   "source": [
    "# Построение боксплотов для отслеживания выбросов\n",
    "df_list = [geo_0,geo_1,geo_2]\n",
    "par_list = ['f0','f1','f2','product']\n",
    "\n",
    "for df in df_list:\n",
    "    for par in par_list:\n",
    "        print(par)\n",
    "        df.boxplot(column =par)\n",
    "        plt.show()"
   ]
  },
  {
   "cell_type": "markdown",
   "metadata": {},
   "source": [
    "Выбросы есть, но не ошибки. Их не стоит удалять."
   ]
  },
  {
   "cell_type": "code",
   "execution_count": 12,
   "metadata": {},
   "outputs": [
    {
     "data": {
      "text/html": [
       "<div>\n",
       "<style scoped>\n",
       "    .dataframe tbody tr th:only-of-type {\n",
       "        vertical-align: middle;\n",
       "    }\n",
       "\n",
       "    .dataframe tbody tr th {\n",
       "        vertical-align: top;\n",
       "    }\n",
       "\n",
       "    .dataframe thead th {\n",
       "        text-align: right;\n",
       "    }\n",
       "</style>\n",
       "<table border=\"1\" class=\"dataframe\">\n",
       "  <thead>\n",
       "    <tr style=\"text-align: right;\">\n",
       "      <th></th>\n",
       "      <th>f0</th>\n",
       "      <th>f1</th>\n",
       "      <th>f2</th>\n",
       "      <th>product</th>\n",
       "    </tr>\n",
       "  </thead>\n",
       "  <tbody>\n",
       "    <tr>\n",
       "      <th>count</th>\n",
       "      <td>100000.000000</td>\n",
       "      <td>100000.000000</td>\n",
       "      <td>100000.000000</td>\n",
       "      <td>100000.000000</td>\n",
       "    </tr>\n",
       "    <tr>\n",
       "      <th>mean</th>\n",
       "      <td>1.141296</td>\n",
       "      <td>-4.796579</td>\n",
       "      <td>2.494541</td>\n",
       "      <td>68.825000</td>\n",
       "    </tr>\n",
       "    <tr>\n",
       "      <th>std</th>\n",
       "      <td>8.965932</td>\n",
       "      <td>5.119872</td>\n",
       "      <td>1.703572</td>\n",
       "      <td>45.944423</td>\n",
       "    </tr>\n",
       "    <tr>\n",
       "      <th>min</th>\n",
       "      <td>-31.609576</td>\n",
       "      <td>-26.358598</td>\n",
       "      <td>-0.018144</td>\n",
       "      <td>0.000000</td>\n",
       "    </tr>\n",
       "    <tr>\n",
       "      <th>25%</th>\n",
       "      <td>-6.298551</td>\n",
       "      <td>-8.267985</td>\n",
       "      <td>1.000021</td>\n",
       "      <td>26.953261</td>\n",
       "    </tr>\n",
       "    <tr>\n",
       "      <th>50%</th>\n",
       "      <td>1.153055</td>\n",
       "      <td>-4.813172</td>\n",
       "      <td>2.011479</td>\n",
       "      <td>57.085625</td>\n",
       "    </tr>\n",
       "    <tr>\n",
       "      <th>75%</th>\n",
       "      <td>8.621015</td>\n",
       "      <td>-1.332816</td>\n",
       "      <td>3.999904</td>\n",
       "      <td>107.813044</td>\n",
       "    </tr>\n",
       "    <tr>\n",
       "      <th>max</th>\n",
       "      <td>29.421755</td>\n",
       "      <td>18.734063</td>\n",
       "      <td>5.019721</td>\n",
       "      <td>137.945408</td>\n",
       "    </tr>\n",
       "  </tbody>\n",
       "</table>\n",
       "</div>"
      ],
      "text/plain": [
       "                  f0             f1             f2        product\n",
       "count  100000.000000  100000.000000  100000.000000  100000.000000\n",
       "mean        1.141296      -4.796579       2.494541      68.825000\n",
       "std         8.965932       5.119872       1.703572      45.944423\n",
       "min       -31.609576     -26.358598      -0.018144       0.000000\n",
       "25%        -6.298551      -8.267985       1.000021      26.953261\n",
       "50%         1.153055      -4.813172       2.011479      57.085625\n",
       "75%         8.621015      -1.332816       3.999904     107.813044\n",
       "max        29.421755      18.734063       5.019721     137.945408"
      ]
     },
     "execution_count": 12,
     "metadata": {},
     "output_type": "execute_result"
    }
   ],
   "source": [
    "geo_1.describe()"
   ]
  },
  {
   "cell_type": "markdown",
   "metadata": {},
   "source": [
    "###  Подготовка признаков и разделение данных"
   ]
  },
  {
   "cell_type": "code",
   "execution_count": 13,
   "metadata": {},
   "outputs": [],
   "source": [
    "target_geo_0 = geo_0['product']\n",
    "features_geo_0 = geo_0.drop('product',axis=1)\n",
    "\n",
    "target_geo_1 = geo_1['product']\n",
    "features_geo_1 = geo_1.drop('product',axis=1)\n",
    "\n",
    "target_geo_2 = geo_2['product']\n",
    "features_geo_2 = geo_2.drop('product',axis=1)"
   ]
  },
  {
   "cell_type": "code",
   "execution_count": 14,
   "metadata": {},
   "outputs": [
    {
     "data": {
      "text/plain": [
       "0        105.280062\n",
       "1         73.037750\n",
       "2         85.265647\n",
       "3        168.620776\n",
       "4        154.036647\n",
       "            ...    \n",
       "99995    110.744026\n",
       "99996    122.346843\n",
       "99997     64.375443\n",
       "99998     74.040764\n",
       "99999    149.633246\n",
       "Name: product, Length: 100000, dtype: float64"
      ]
     },
     "execution_count": 14,
     "metadata": {},
     "output_type": "execute_result"
    }
   ],
   "source": [
    "target_geo_0"
   ]
  },
  {
   "cell_type": "markdown",
   "metadata": {},
   "source": [
    "Разделим данные на выборки"
   ]
  },
  {
   "cell_type": "code",
   "execution_count": 15,
   "metadata": {},
   "outputs": [],
   "source": [
    "\n",
    "features_train_geo_0, features_valid_geo_0,target_train_geo_0, target_valid_geo_0 = train_test_split(features_geo_0,target_geo_0,\n",
    "                                                                             test_size = 0.25, \n",
    "                                                                             random_state=12345)\n",
    "\n",
    "features_train_geo_1, features_valid_geo_1,target_train_geo_1, target_valid_geo_1 = train_test_split(features_geo_1,target_geo_1,\n",
    "                                                                             test_size = 0.25, \n",
    "                                                                             random_state=12345)\n",
    "\n",
    "features_train_geo_2, features_valid_geo_2,target_train_geo_2, target_valid_geo_2 = train_test_split(features_geo_2,target_geo_2,\n",
    "                                                                             test_size = 0.25, \n",
    "                                                                             random_state=12345)\n"
   ]
  },
  {
   "cell_type": "code",
   "execution_count": 16,
   "metadata": {},
   "outputs": [
    {
     "data": {
      "text/plain": [
       "71751     10.038645\n",
       "80493    114.551489\n",
       "2655     132.603635\n",
       "53233    169.072125\n",
       "91141    122.325180\n",
       "            ...    \n",
       "12581    170.116726\n",
       "18456     93.632175\n",
       "73035    127.352259\n",
       "63834     99.782700\n",
       "43558    177.821022\n",
       "Name: product, Length: 25000, dtype: float64"
      ]
     },
     "execution_count": 16,
     "metadata": {},
     "output_type": "execute_result"
    }
   ],
   "source": [
    "target_valid_geo_0"
   ]
  },
  {
   "cell_type": "code",
   "execution_count": 17,
   "metadata": {},
   "outputs": [
    {
     "data": {
      "text/html": [
       "<div>\n",
       "<style scoped>\n",
       "    .dataframe tbody tr th:only-of-type {\n",
       "        vertical-align: middle;\n",
       "    }\n",
       "\n",
       "    .dataframe tbody tr th {\n",
       "        vertical-align: top;\n",
       "    }\n",
       "\n",
       "    .dataframe thead th {\n",
       "        text-align: right;\n",
       "    }\n",
       "</style>\n",
       "<table border=\"1\" class=\"dataframe\">\n",
       "  <thead>\n",
       "    <tr style=\"text-align: right;\">\n",
       "      <th></th>\n",
       "      <th>f0</th>\n",
       "      <th>f1</th>\n",
       "      <th>f2</th>\n",
       "    </tr>\n",
       "  </thead>\n",
       "  <tbody>\n",
       "    <tr>\n",
       "      <th>71751</th>\n",
       "      <td>0.948970</td>\n",
       "      <td>-0.057547</td>\n",
       "      <td>2.095727</td>\n",
       "    </tr>\n",
       "    <tr>\n",
       "      <th>80493</th>\n",
       "      <td>0.992974</td>\n",
       "      <td>0.206671</td>\n",
       "      <td>-0.142278</td>\n",
       "    </tr>\n",
       "    <tr>\n",
       "      <th>2655</th>\n",
       "      <td>1.199854</td>\n",
       "      <td>-0.563356</td>\n",
       "      <td>-1.852991</td>\n",
       "    </tr>\n",
       "    <tr>\n",
       "      <th>53233</th>\n",
       "      <td>0.691422</td>\n",
       "      <td>-0.433347</td>\n",
       "      <td>0.564974</td>\n",
       "    </tr>\n",
       "    <tr>\n",
       "      <th>91141</th>\n",
       "      <td>0.420772</td>\n",
       "      <td>0.972638</td>\n",
       "      <td>0.736190</td>\n",
       "    </tr>\n",
       "    <tr>\n",
       "      <th>...</th>\n",
       "      <td>...</td>\n",
       "      <td>...</td>\n",
       "      <td>...</td>\n",
       "    </tr>\n",
       "    <tr>\n",
       "      <th>12581</th>\n",
       "      <td>1.841106</td>\n",
       "      <td>-0.107678</td>\n",
       "      <td>2.585648</td>\n",
       "    </tr>\n",
       "    <tr>\n",
       "      <th>18456</th>\n",
       "      <td>0.041859</td>\n",
       "      <td>0.489280</td>\n",
       "      <td>2.168001</td>\n",
       "    </tr>\n",
       "    <tr>\n",
       "      <th>73035</th>\n",
       "      <td>0.376389</td>\n",
       "      <td>1.054298</td>\n",
       "      <td>-0.430104</td>\n",
       "    </tr>\n",
       "    <tr>\n",
       "      <th>63834</th>\n",
       "      <td>1.071330</td>\n",
       "      <td>-0.470046</td>\n",
       "      <td>4.527099</td>\n",
       "    </tr>\n",
       "    <tr>\n",
       "      <th>43558</th>\n",
       "      <td>1.726318</td>\n",
       "      <td>-0.077871</td>\n",
       "      <td>5.007083</td>\n",
       "    </tr>\n",
       "  </tbody>\n",
       "</table>\n",
       "<p>25000 rows × 3 columns</p>\n",
       "</div>"
      ],
      "text/plain": [
       "             f0        f1        f2\n",
       "71751  0.948970 -0.057547  2.095727\n",
       "80493  0.992974  0.206671 -0.142278\n",
       "2655   1.199854 -0.563356 -1.852991\n",
       "53233  0.691422 -0.433347  0.564974\n",
       "91141  0.420772  0.972638  0.736190\n",
       "...         ...       ...       ...\n",
       "12581  1.841106 -0.107678  2.585648\n",
       "18456  0.041859  0.489280  2.168001\n",
       "73035  0.376389  1.054298 -0.430104\n",
       "63834  1.071330 -0.470046  4.527099\n",
       "43558  1.726318 -0.077871  5.007083\n",
       "\n",
       "[25000 rows x 3 columns]"
      ]
     },
     "execution_count": 17,
     "metadata": {},
     "output_type": "execute_result"
    }
   ],
   "source": [
    "features_valid_geo_0"
   ]
  },
  {
   "cell_type": "markdown",
   "metadata": {},
   "source": [
    "Масштабируем численные признаки"
   ]
  },
  {
   "cell_type": "code",
   "execution_count": 18,
   "metadata": {},
   "outputs": [],
   "source": [
    "# масштабирование численных признаков\n",
    "\n",
    "numeric = ['f0','f1','f2'] \n",
    "\n",
    "scaler = StandardScaler()\n",
    "scaler.fit(features_train_geo_0[numeric])\n",
    "features_train_geo_0[numeric] = scaler.transform(features_train_geo_0[numeric])\n",
    "features_valid_geo_0[numeric] = scaler.transform(features_valid_geo_0[numeric])\n",
    "\n",
    "scaler = StandardScaler()\n",
    "scaler.fit(features_train_geo_1[numeric])\n",
    "features_train_geo_1[numeric] = scaler.transform(features_train_geo_1[numeric])\n",
    "features_valid_geo_1[numeric] = scaler.transform(features_valid_geo_1[numeric])\n",
    "\n",
    "\n",
    "scaler = StandardScaler()\n",
    "scaler.fit(features_train_geo_2[numeric])\n",
    "features_train_geo_2[numeric] = scaler.transform(features_train_geo_2[numeric])\n",
    "features_valid_geo_2[numeric] = scaler.transform(features_valid_geo_2[numeric])"
   ]
  },
  {
   "cell_type": "markdown",
   "metadata": {},
   "source": [
    "## Обучение и проверка модели"
   ]
  },
  {
   "cell_type": "code",
   "execution_count": 21,
   "metadata": {},
   "outputs": [
    {
     "name": "stdout",
     "output_type": "stream",
     "text": [
      "Регион 0\n",
      "Средний запас предсказанного сырья:  92.64046775305691\n",
      "Средний запас сырья регион 0:  92.07859674082927\n",
      "RMSE:  37.72999219904026\n",
      "\n",
      "Регион 1\n",
      "Средний запас предсказанного сырья:  68.85895465854665\n",
      "Средний запас сырья регион 0:  68.72313602435997\n",
      "RMSE:  0.8894720773917386\n",
      "\n",
      "Регион 2\n",
      "Средний запас предсказанного сырья:  95.03858906371522\n",
      "Средний запас сырья регион 0:  94.88423280885438\n",
      "RMSE:  40.06425978832384\n",
      "\n"
     ]
    }
   ],
   "source": [
    "fearures_list = [features_train_geo_0,features_train_geo_1,features_train_geo_2]\n",
    "\n",
    "target_list = [target_train_geo_0,target_train_geo_1,target_train_geo_2]\n",
    "\n",
    "target_valid_list = [target_valid_geo_0,target_valid_geo_1,target_valid_geo_2]\n",
    "i = 0\n",
    "\n",
    "for features,target,target_valid in zip(fearures_list,target_list,target_valid_list):\n",
    "    \n",
    "    model = LinearRegression().fit(features,target)\n",
    "    predictions = model.predict(features)\n",
    "    \n",
    "    print('Регион', i)\n",
    "    print('Средний запас предсказанного сырья: ', predictions.mean())\n",
    "    print('Средний запас сырья регион 0: ', target_valid.mean())\n",
    "    print('RMSE: ', mean_squared_error(target, predictions, squared=False))\n",
    "    print()\n",
    "    i+=1\n"
   ]
  },
  {
   "cell_type": "markdown",
   "metadata": {},
   "source": [
    "Показатель rmse для моделей достаточно хорошие, особенно выделяется показатель для первого региона."
   ]
  },
  {
   "cell_type": "markdown",
   "metadata": {},
   "source": [
    "## Подготовка к расчёту прибыли\n",
    "\n",
    "Подготовим константы, которые понадобятся в расчетах."
   ]
  },
  {
   "cell_type": "code",
   "execution_count": 22,
   "metadata": {},
   "outputs": [
    {
     "name": "stdout",
     "output_type": "stream",
     "text": [
      "Бюджет на разработку скважин в регионе 10000000000.0\n",
      "Доход с каждой единицы продукта 450000.0\n",
      "Максимальная вероятность убытков 0.025\n",
      "Всего скважин 500\n",
      "Скважин к разработке 200\n"
     ]
    }
   ],
   "source": [
    "BUDGET = 10e9\n",
    "UNIT_INCOME = 45*10e3\n",
    "MAX_PROB = 0.025\n",
    "NUMBER_WELLS_ALL = 500\n",
    "NUMBER_WELLS = 200\n",
    "\n",
    "print('Бюджет на разработку скважин в регионе', BUDGET)\n",
    "print('Доход с каждой единицы продукта',UNIT_INCOME)\n",
    "print('Максимальная вероятность убытков', MAX_PROB )\n",
    "print('Всего скважин',NUMBER_WELLS_ALL)\n",
    "print('Скважин к разработке',NUMBER_WELLS)"
   ]
  },
  {
   "cell_type": "code",
   "execution_count": 23,
   "metadata": {},
   "outputs": [
    {
     "data": {
      "text/plain": [
       "111.11111111111111"
      ]
     },
     "execution_count": 23,
     "metadata": {},
     "output_type": "execute_result"
    }
   ],
   "source": [
    "# Необходимый объем для 0 прибыли\n",
    "\n",
    "BUDGET / UNIT_INCOME / 200"
   ]
  },
  {
   "cell_type": "markdown",
   "metadata": {},
   "source": [
    "Судя по средним значением запасов сырья безубыточным возможно будет регион 2, возможно 0 тоже, а вот 1 вряд ли"
   ]
  },
  {
   "cell_type": "markdown",
   "metadata": {},
   "source": [
    "## Расчёт прибыли и рисков "
   ]
  },
  {
   "cell_type": "markdown",
   "metadata": {},
   "source": [
    "### Расчёт прибыли"
   ]
  },
  {
   "cell_type": "code",
   "execution_count": 24,
   "metadata": {},
   "outputs": [],
   "source": [
    "def revenue(df):\n",
    "    return df.sum() * UNIT_INCOME"
   ]
  },
  {
   "cell_type": "code",
   "execution_count": 25,
   "metadata": {},
   "outputs": [
    {
     "name": "stdout",
     "output_type": "stream",
     "text": [
      "Реальная прибыль для 0 региона 12515937173.684607\n",
      "\n",
      "Реальная прибыль для 1 региона 12201927868.477467\n",
      "\n",
      "Реальная прибыль для 2 региона 12710349963.599833\n",
      "\n"
     ]
    }
   ],
   "source": [
    "features_valid_list = [features_valid_geo_0,features_valid_geo_1,features_valid_geo_2]\n",
    "target_valid_list = [target_valid_geo_0,target_valid_geo_1,target_valid_geo_2]\n",
    "prediction_list = [[],[],[]]\n",
    "i=0\n",
    "\n",
    "for features_valid,target_valid in zip(features_valid_list, target_valid_list):\n",
    "    \n",
    "    predictions = model.predict(features_valid)\n",
    "    prediction_list[i]=predictions\n",
    "    predictions = pd.Series(predictions)\n",
    "    \n",
    "    geo_top = predictions.sort_values(ascending=False).head(200)\n",
    "\n",
    "    target_valid_geo_top = target_valid.iloc[geo_top.index]\n",
    "    \n",
    "    print('Реальная прибыль для',i,'региона',revenue(target_valid_geo_top))\n",
    "    print()\n",
    "    \n",
    "    \n",
    "    i+=1\n"
   ]
  },
  {
   "cell_type": "markdown",
   "metadata": {},
   "source": [
    "###  Bootstrap"
   ]
  },
  {
   "cell_type": "code",
   "execution_count": 28,
   "metadata": {},
   "outputs": [],
   "source": [
    "state = np.random.RandomState(12345)"
   ]
  },
  {
   "cell_type": "code",
   "execution_count": 29,
   "metadata": {},
   "outputs": [
    {
     "data": {
      "text/plain": [
       "[array([ 92.608829  ,  78.92397256,  68.61379951, ...,  77.00874105,\n",
       "        107.50457535, 110.41585412]),\n",
       " array([100.88390304,  89.38918414,  77.62128855, ..., 124.14879483,\n",
       "        100.94088035,  89.25399754]),\n",
       " array([ 93.59963303,  75.10515854,  90.06680936, ...,  99.40728116,\n",
       "         77.77991248, 129.03241718])]"
      ]
     },
     "execution_count": 29,
     "metadata": {},
     "output_type": "execute_result"
    }
   ],
   "source": [
    "prediction_list"
   ]
  },
  {
   "cell_type": "code",
   "execution_count": 30,
   "metadata": {},
   "outputs": [],
   "source": [
    "prediction_0 = pd.Series(prediction_list[0])\n",
    "prediction_1 = pd.Series(prediction_list[1])\n",
    "prediction_2 = pd.Series(prediction_list[2])"
   ]
  },
  {
   "cell_type": "code",
   "execution_count": 31,
   "metadata": {},
   "outputs": [],
   "source": [
    "target_valid_geo_0 = target_valid_geo_0.reset_index(drop=True)\n",
    "target_valid_geo_1 = target_valid_geo_1.reset_index(drop=True)\n",
    "target_valid_geo_2 = target_valid_geo_2.reset_index(drop=True)\n"
   ]
  },
  {
   "cell_type": "code",
   "execution_count": 49,
   "metadata": {},
   "outputs": [
    {
     "name": "stdout",
     "output_type": "stream",
     "text": [
      "2.5% квантиль: -261801615.9744963\n",
      "97.5% квантиль: 747023373.9086686\n",
      "Средняя выручка: 238061064.87789458\n",
      "Количество убыточных скважин: 188\n",
      "Вероятность убытка 0.188\n",
      "\n",
      "2.5% квантиль: 37931918.370180815\n",
      "97.5% квантиль: 815387847.8541434\n",
      "Средняя выручка: 425155860.0466862\n",
      "Количество убыточных скважин: 17\n",
      "Вероятность убытка 0.017\n",
      "\n",
      "2.5% квантиль: -155876262.87190527\n",
      "97.5% квантиль: 908273829.9453012\n",
      "Средняя выручка: 397204398.5228207\n",
      "Количество убыточных скважин: 77\n",
      "Вероятность убытка 0.077\n",
      "\n"
     ]
    }
   ],
   "source": [
    "list_df = [target_valid_geo_0,target_valid_geo_1,target_valid_geo_2] \n",
    "pred_list = [prediction_0,prediction_1,prediction_2]\n",
    "\n",
    "\n",
    "for target,prediction in zip(list_df,pred_list):\n",
    "    values = []\n",
    "\n",
    "    for i in range(1000):\n",
    "        real_200 = []\n",
    "        \n",
    "        subsample_target = target.sample(n = 500, replace=False, random_state=state)    \n",
    "        pred = prediction.iloc[subsample_target.index]        \n",
    "        top_pred_200 =pred.sort_values(ascending=False).head(200)\n",
    "        \n",
    "        real_200 = subsample_target[top_pred_200.index]\n",
    "        \n",
    "        #print(real_200.duplicated().sum())#len(real_200))\n",
    "        #real_200 = real_200.drop_duplicates()\n",
    "        #print(real_200.duplicated().sum())#len(real_200))\n",
    "        \n",
    "        \n",
    "        real_200 = pd.Series(real_200)\n",
    "        #print(real_200.size)\n",
    "        #print()\n",
    "        rev = revenue(real_200) - BUDGET\n",
    "        values.append(rev)\n",
    "\n",
    "   \n",
    "    values = pd.Series(values)\n",
    "    waste = values.loc[values < 0]\n",
    "\n",
    "    mean = values.mean()\n",
    "    lower = values.quantile(0.025)\n",
    "    upper = values.quantile(0.975)\n",
    "    max_waste = waste.min()\n",
    "    prob_waste = (values < 0).mean()\n",
    "\n",
    "    print('2.5% квантиль:',lower)\n",
    "    print('97.5% квантиль:',upper)\n",
    "    print('Средняя выручка:',mean)\n",
    "    print('Количество убыточных скважин:',len(waste))\n",
    "    print('Вероятность убытка',prob_waste)\n",
    "    print()"
   ]
  },
  {
   "cell_type": "markdown",
   "metadata": {},
   "source": [
    "Наименьшая вероятность уйти в убыток при разроботке скавжин в 1 регионе,вероятность убытка в других регионах (0,2) выше.   \n",
    "По результатам исследование рекомендовали бы 1 регион."
   ]
  },
  {
   "cell_type": "code",
   "execution_count": null,
   "metadata": {},
   "outputs": [],
   "source": [
    "# Старый вариант\n",
    "list_df = [target_valid_geo_0,target_valid_geo_1,target_valid_geo_2] \n",
    "\n",
    "for df in list_df:\n",
    "    values = []\n",
    "\n",
    "    for i in range(1000):\n",
    "        subsample = df.sample(n = 500, replace=True, random_state=state)\n",
    "        subsample_top = subsample.sort_values(ascending=False).head(200)\n",
    "        rev = revenue(subsample_top) \n",
    "        values.append(rev)\n",
    "\n",
    "\n",
    "    values = pd.Series(values)\n",
    "    waste = values.loc[values < 0]\n",
    "\n",
    "    mean = values.mean()\n",
    "    lower = values.quantile(0.025)\n",
    "    upper = values.quantile(0.975)\n",
    "    max_waste = waste.min()\n",
    "    prob_waste = (values < 0).mean()\n",
    "\n",
    "    print('2.5% квантиль:',lower)\n",
    "    print('97.5% квантиль:',upper)\n",
    "    print('Средняя выручка:',mean)\n",
    "    print('Количество убыточных скважин:',len(waste))\n",
    "    print()\n",
    "    print()"
   ]
  },
  {
   "cell_type": "markdown",
   "metadata": {},
   "source": [
    "По полученым результатам предпочтительней разрабатывать 2 регион (geo_2): наибольшая среднее по распределению выручки и малое количество убыточных вариантов.\n",
    "\n",
    "\n",
    "- Средняя выручка: 425155860.0466862\n",
    "- Количество убыточных скважин: 17\n",
    "- Вероятность убытка 0.017 ~ 2% \n",
    "\n",
    "`В процессе исследования:`\n",
    "1. Загружены и подготовлены данные. \n",
    "2. Обучены и проверены модели для каждого региона\n",
    "3. Проведена подготовка к расчёту прибыли\n",
    "4. Написана функция для расчёта прибыли по выбранным скважинам и предсказаниям модели\n",
    "5. Расчитаны риски и прибыль для каждого региона\n",
    "6. Вывод"
   ]
  }
 ],
 "metadata": {
  "ExecuteTimeLog": [
   {
    "duration": 462,
    "start_time": "2022-05-24T07:37:54.355Z"
   },
   {
    "duration": 2060,
    "start_time": "2022-05-24T07:38:53.129Z"
   },
   {
    "duration": 17,
    "start_time": "2022-05-24T07:39:14.073Z"
   },
   {
    "duration": 11,
    "start_time": "2022-05-24T07:39:51.689Z"
   },
   {
    "duration": 9,
    "start_time": "2022-05-24T07:40:03.753Z"
   },
   {
    "duration": 17,
    "start_time": "2022-05-24T07:40:08.789Z"
   },
   {
    "duration": 3,
    "start_time": "2022-05-24T07:41:32.474Z"
   },
   {
    "duration": 72,
    "start_time": "2022-05-24T07:41:51.578Z"
   },
   {
    "duration": 3,
    "start_time": "2022-05-24T07:42:05.305Z"
   },
   {
    "duration": 3,
    "start_time": "2022-05-24T07:42:06.029Z"
   },
   {
    "duration": 393,
    "start_time": "2022-05-24T07:42:06.921Z"
   },
   {
    "duration": 9,
    "start_time": "2022-05-24T07:42:09.220Z"
   },
   {
    "duration": 402,
    "start_time": "2022-05-24T07:42:41.537Z"
   },
   {
    "duration": 16,
    "start_time": "2022-05-24T07:44:47.564Z"
   },
   {
    "duration": 12,
    "start_time": "2022-05-24T07:45:03.897Z"
   },
   {
    "duration": 10,
    "start_time": "2022-05-24T07:45:43.657Z"
   },
   {
    "duration": 43,
    "start_time": "2022-05-24T07:46:17.793Z"
   },
   {
    "duration": 40,
    "start_time": "2022-05-24T07:46:40.010Z"
   },
   {
    "duration": 37,
    "start_time": "2022-05-24T07:46:54.970Z"
   },
   {
    "duration": 9,
    "start_time": "2022-05-24T07:49:27.033Z"
   },
   {
    "duration": 8,
    "start_time": "2022-05-24T07:49:36.394Z"
   },
   {
    "duration": 10,
    "start_time": "2022-05-24T07:49:52.859Z"
   },
   {
    "duration": 13,
    "start_time": "2022-05-24T07:50:16.498Z"
   },
   {
    "duration": 10,
    "start_time": "2022-05-24T07:50:31.057Z"
   },
   {
    "duration": 76,
    "start_time": "2022-05-24T07:51:37.746Z"
   },
   {
    "duration": 8,
    "start_time": "2022-05-24T07:54:09.547Z"
   },
   {
    "duration": 823,
    "start_time": "2022-05-24T07:54:28.155Z"
   },
   {
    "duration": 3,
    "start_time": "2022-05-24T07:55:22.731Z"
   },
   {
    "duration": 2172,
    "start_time": "2022-05-24T07:55:27.075Z"
   },
   {
    "duration": 2106,
    "start_time": "2022-05-24T07:55:42.324Z"
   },
   {
    "duration": 2145,
    "start_time": "2022-05-24T07:56:09.171Z"
   },
   {
    "duration": 2512,
    "start_time": "2022-05-24T07:58:00.814Z"
   },
   {
    "duration": 21,
    "start_time": "2022-05-24T08:01:18.309Z"
   },
   {
    "duration": 35,
    "start_time": "2022-05-24T08:02:53.885Z"
   },
   {
    "duration": 16,
    "start_time": "2022-05-24T08:02:57.662Z"
   },
   {
    "duration": 801,
    "start_time": "2022-05-24T08:03:17.758Z"
   },
   {
    "duration": 48,
    "start_time": "2022-05-24T08:03:26.654Z"
   },
   {
    "duration": 42,
    "start_time": "2022-05-24T08:03:38.896Z"
   },
   {
    "duration": 30,
    "start_time": "2022-05-24T08:03:53.005Z"
   },
   {
    "duration": 192,
    "start_time": "2022-05-24T08:05:25.542Z"
   },
   {
    "duration": 1318,
    "start_time": "2022-05-24T08:05:51.046Z"
   },
   {
    "duration": 3,
    "start_time": "2022-05-24T08:05:52.366Z"
   },
   {
    "duration": 484,
    "start_time": "2022-05-24T08:05:52.371Z"
   },
   {
    "duration": 15,
    "start_time": "2022-05-24T08:05:52.858Z"
   },
   {
    "duration": 29,
    "start_time": "2022-05-24T08:05:52.875Z"
   },
   {
    "duration": 21,
    "start_time": "2022-05-24T08:05:52.906Z"
   },
   {
    "duration": 80,
    "start_time": "2022-05-24T08:05:52.931Z"
   },
   {
    "duration": 15,
    "start_time": "2022-05-24T08:05:53.014Z"
   },
   {
    "duration": 118,
    "start_time": "2022-05-24T08:05:53.032Z"
   },
   {
    "duration": 3945,
    "start_time": "2022-05-24T08:05:53.153Z"
   },
   {
    "duration": 37,
    "start_time": "2022-05-24T08:05:57.101Z"
   },
   {
    "duration": 12,
    "start_time": "2022-05-24T08:06:51.329Z"
   },
   {
    "duration": 11,
    "start_time": "2022-05-24T08:07:04.361Z"
   },
   {
    "duration": 3,
    "start_time": "2022-05-24T08:07:43.479Z"
   },
   {
    "duration": 3,
    "start_time": "2022-05-24T08:07:43.983Z"
   },
   {
    "duration": 407,
    "start_time": "2022-05-24T08:07:44.799Z"
   },
   {
    "duration": 14,
    "start_time": "2022-05-24T08:07:45.209Z"
   },
   {
    "duration": 19,
    "start_time": "2022-05-24T08:07:46.407Z"
   },
   {
    "duration": 11,
    "start_time": "2022-05-24T08:07:47.374Z"
   },
   {
    "duration": 49,
    "start_time": "2022-05-24T08:07:47.800Z"
   },
   {
    "duration": 9,
    "start_time": "2022-05-24T08:07:49.262Z"
   },
   {
    "duration": 78,
    "start_time": "2022-05-24T08:07:49.750Z"
   },
   {
    "duration": 2317,
    "start_time": "2022-05-24T08:07:50.846Z"
   },
   {
    "duration": 35,
    "start_time": "2022-05-24T08:07:54.263Z"
   },
   {
    "duration": 27,
    "start_time": "2022-05-24T08:11:11.440Z"
   },
   {
    "duration": 26,
    "start_time": "2022-05-24T08:13:39.458Z"
   },
   {
    "duration": 12,
    "start_time": "2022-05-24T08:13:40.933Z"
   },
   {
    "duration": 39,
    "start_time": "2022-05-24T08:14:17.501Z"
   },
   {
    "duration": 130,
    "start_time": "2022-05-24T08:14:49.124Z"
   },
   {
    "duration": 3,
    "start_time": "2022-05-24T08:15:02.260Z"
   },
   {
    "duration": 29,
    "start_time": "2022-05-24T08:15:07.150Z"
   },
   {
    "duration": 40,
    "start_time": "2022-05-24T08:16:10.677Z"
   },
   {
    "duration": 71,
    "start_time": "2022-05-24T08:16:24.981Z"
   },
   {
    "duration": 15,
    "start_time": "2022-05-24T08:17:44.751Z"
   },
   {
    "duration": 342,
    "start_time": "2022-05-24T08:19:00.951Z"
   },
   {
    "duration": 16,
    "start_time": "2022-05-24T08:19:07.535Z"
   },
   {
    "duration": 1564,
    "start_time": "2022-05-24T08:19:50.789Z"
   },
   {
    "duration": 3,
    "start_time": "2022-05-24T08:19:52.356Z"
   },
   {
    "duration": 606,
    "start_time": "2022-05-24T08:19:52.361Z"
   },
   {
    "duration": 26,
    "start_time": "2022-05-24T08:19:52.972Z"
   },
   {
    "duration": 26,
    "start_time": "2022-05-24T08:19:53.001Z"
   },
   {
    "duration": 31,
    "start_time": "2022-05-24T08:19:53.033Z"
   },
   {
    "duration": 68,
    "start_time": "2022-05-24T08:19:53.072Z"
   },
   {
    "duration": 16,
    "start_time": "2022-05-24T08:19:53.146Z"
   },
   {
    "duration": 142,
    "start_time": "2022-05-24T08:19:53.165Z"
   },
   {
    "duration": 5201,
    "start_time": "2022-05-24T08:19:53.310Z"
   },
   {
    "duration": 42,
    "start_time": "2022-05-24T08:19:58.513Z"
   },
   {
    "duration": 98,
    "start_time": "2022-05-24T08:19:58.557Z"
   },
   {
    "duration": 220,
    "start_time": "2022-05-24T08:19:58.657Z"
   },
   {
    "duration": 14,
    "start_time": "2022-05-24T08:22:07.350Z"
   },
   {
    "duration": 1251,
    "start_time": "2022-05-24T08:42:24.712Z"
   },
   {
    "duration": 3,
    "start_time": "2022-05-24T08:42:25.966Z"
   },
   {
    "duration": 436,
    "start_time": "2022-05-24T08:42:25.970Z"
   },
   {
    "duration": 14,
    "start_time": "2022-05-24T08:42:26.408Z"
   },
   {
    "duration": 3,
    "start_time": "2022-05-24T08:42:26.424Z"
   },
   {
    "duration": 18,
    "start_time": "2022-05-24T08:42:26.429Z"
   },
   {
    "duration": 69,
    "start_time": "2022-05-24T08:42:26.448Z"
   },
   {
    "duration": 21,
    "start_time": "2022-05-24T08:42:26.518Z"
   },
   {
    "duration": 181,
    "start_time": "2022-05-24T08:42:26.540Z"
   },
   {
    "duration": 2486,
    "start_time": "2022-05-24T08:42:26.723Z"
   },
   {
    "duration": 38,
    "start_time": "2022-05-24T08:42:29.211Z"
   },
   {
    "duration": 66,
    "start_time": "2022-05-24T08:42:29.250Z"
   },
   {
    "duration": 134,
    "start_time": "2022-05-24T08:42:29.318Z"
   },
   {
    "duration": 0,
    "start_time": "2022-05-24T08:42:29.454Z"
   },
   {
    "duration": 26,
    "start_time": "2022-05-24T08:43:23.570Z"
   },
   {
    "duration": 17,
    "start_time": "2022-05-24T08:44:08.873Z"
   },
   {
    "duration": 229,
    "start_time": "2022-05-24T08:46:35.482Z"
   },
   {
    "duration": 10,
    "start_time": "2022-05-24T08:55:02.321Z"
   },
   {
    "duration": 188,
    "start_time": "2022-05-24T08:55:18.539Z"
   },
   {
    "duration": 78,
    "start_time": "2022-05-24T08:55:22.419Z"
   },
   {
    "duration": 20,
    "start_time": "2022-05-24T08:57:22.051Z"
   },
   {
    "duration": 4,
    "start_time": "2022-05-24T08:57:38.124Z"
   },
   {
    "duration": 73,
    "start_time": "2022-05-24T08:57:43.684Z"
   },
   {
    "duration": 169,
    "start_time": "2022-05-24T08:58:31.077Z"
   },
   {
    "duration": 127,
    "start_time": "2022-05-24T09:00:35.317Z"
   },
   {
    "duration": 40,
    "start_time": "2022-05-24T09:04:01.126Z"
   },
   {
    "duration": 1339,
    "start_time": "2022-05-24T09:04:33.776Z"
   },
   {
    "duration": 2,
    "start_time": "2022-05-24T09:04:35.117Z"
   },
   {
    "duration": 396,
    "start_time": "2022-05-24T09:04:35.121Z"
   },
   {
    "duration": 15,
    "start_time": "2022-05-24T09:04:35.520Z"
   },
   {
    "duration": 18,
    "start_time": "2022-05-24T09:04:35.537Z"
   },
   {
    "duration": 32,
    "start_time": "2022-05-24T09:04:35.556Z"
   },
   {
    "duration": 52,
    "start_time": "2022-05-24T09:04:35.590Z"
   },
   {
    "duration": 13,
    "start_time": "2022-05-24T09:04:35.644Z"
   },
   {
    "duration": 114,
    "start_time": "2022-05-24T09:04:35.660Z"
   },
   {
    "duration": 3140,
    "start_time": "2022-05-24T09:04:35.784Z"
   },
   {
    "duration": 84,
    "start_time": "2022-05-24T09:04:38.926Z"
   },
   {
    "duration": 94,
    "start_time": "2022-05-24T09:04:39.012Z"
   },
   {
    "duration": 8,
    "start_time": "2022-05-24T09:04:39.108Z"
   },
   {
    "duration": 90,
    "start_time": "2022-05-24T09:04:39.118Z"
   },
   {
    "duration": 42,
    "start_time": "2022-05-24T09:04:39.209Z"
   },
   {
    "duration": 142,
    "start_time": "2022-05-24T09:04:39.253Z"
   },
   {
    "duration": 21,
    "start_time": "2022-05-24T09:04:52.486Z"
   },
   {
    "duration": 13,
    "start_time": "2022-05-24T09:05:02.718Z"
   },
   {
    "duration": 23,
    "start_time": "2022-05-24T09:06:08.305Z"
   },
   {
    "duration": 83,
    "start_time": "2022-05-24T09:06:13.703Z"
   },
   {
    "duration": 13,
    "start_time": "2022-05-24T09:07:17.305Z"
   },
   {
    "duration": 112,
    "start_time": "2022-05-24T09:08:48.796Z"
   },
   {
    "duration": 197,
    "start_time": "2022-05-24T09:09:05.196Z"
   },
   {
    "duration": 6,
    "start_time": "2022-05-24T09:12:23.850Z"
   },
   {
    "duration": 144,
    "start_time": "2022-05-24T09:16:30.547Z"
   },
   {
    "duration": 4,
    "start_time": "2022-05-24T09:16:47.180Z"
   },
   {
    "duration": 153,
    "start_time": "2022-05-24T09:16:52.835Z"
   },
   {
    "duration": 45,
    "start_time": "2022-05-24T09:25:32.222Z"
   },
   {
    "duration": 3,
    "start_time": "2022-05-24T09:33:12.449Z"
   },
   {
    "duration": 4,
    "start_time": "2022-05-24T09:33:19.185Z"
   },
   {
    "duration": 3,
    "start_time": "2022-05-24T09:34:31.172Z"
   },
   {
    "duration": 3,
    "start_time": "2022-05-24T09:34:38.171Z"
   },
   {
    "duration": 4,
    "start_time": "2022-05-24T09:34:48.441Z"
   },
   {
    "duration": 4,
    "start_time": "2022-05-24T09:36:09.826Z"
   },
   {
    "duration": 4,
    "start_time": "2022-05-24T09:36:21.906Z"
   },
   {
    "duration": 4,
    "start_time": "2022-05-24T09:38:40.975Z"
   },
   {
    "duration": 10,
    "start_time": "2022-05-24T09:42:08.663Z"
   },
   {
    "duration": 5,
    "start_time": "2022-05-24T09:42:28.190Z"
   },
   {
    "duration": 4,
    "start_time": "2022-05-24T09:44:08.171Z"
   },
   {
    "duration": 4,
    "start_time": "2022-05-24T09:45:24.181Z"
   },
   {
    "duration": 5,
    "start_time": "2022-05-24T09:46:49.238Z"
   },
   {
    "duration": 6,
    "start_time": "2022-05-24T09:50:51.274Z"
   },
   {
    "duration": 5,
    "start_time": "2022-05-24T09:51:36.098Z"
   },
   {
    "duration": 30,
    "start_time": "2022-05-24T09:55:00.154Z"
   },
   {
    "duration": 26,
    "start_time": "2022-05-24T10:00:01.146Z"
   },
   {
    "duration": 12,
    "start_time": "2022-05-24T10:00:34.236Z"
   },
   {
    "duration": 7,
    "start_time": "2022-05-24T10:01:33.620Z"
   },
   {
    "duration": 10,
    "start_time": "2022-05-24T10:01:40.572Z"
   },
   {
    "duration": 21,
    "start_time": "2022-05-24T10:03:05.834Z"
   },
   {
    "duration": 17,
    "start_time": "2022-05-24T10:03:10.017Z"
   },
   {
    "duration": 471,
    "start_time": "2022-05-24T10:04:06.625Z"
   },
   {
    "duration": 7,
    "start_time": "2022-05-24T10:04:42.203Z"
   },
   {
    "duration": 11,
    "start_time": "2022-05-24T10:05:11.967Z"
   },
   {
    "duration": 17,
    "start_time": "2022-05-24T10:08:01.204Z"
   },
   {
    "duration": 16,
    "start_time": "2022-05-24T10:08:32.972Z"
   },
   {
    "duration": 14,
    "start_time": "2022-05-24T10:08:46.644Z"
   },
   {
    "duration": 5,
    "start_time": "2022-05-24T10:09:48.640Z"
   },
   {
    "duration": 7,
    "start_time": "2022-05-24T10:11:41.931Z"
   },
   {
    "duration": 3,
    "start_time": "2022-05-24T10:12:05.063Z"
   },
   {
    "duration": 14,
    "start_time": "2022-05-24T10:12:32.405Z"
   },
   {
    "duration": 9,
    "start_time": "2022-05-24T10:12:45.801Z"
   },
   {
    "duration": 10,
    "start_time": "2022-05-24T10:13:23.197Z"
   },
   {
    "duration": 10,
    "start_time": "2022-05-24T10:14:31.648Z"
   },
   {
    "duration": 6,
    "start_time": "2022-05-24T10:14:36.335Z"
   },
   {
    "duration": 8,
    "start_time": "2022-05-24T10:15:33.421Z"
   },
   {
    "duration": 15,
    "start_time": "2022-05-24T10:16:37.969Z"
   },
   {
    "duration": 5,
    "start_time": "2022-05-24T10:17:40.952Z"
   },
   {
    "duration": 15,
    "start_time": "2022-05-24T10:18:49.631Z"
   },
   {
    "duration": 7,
    "start_time": "2022-05-24T10:20:41.234Z"
   },
   {
    "duration": 18,
    "start_time": "2022-05-24T10:21:28.492Z"
   },
   {
    "duration": 8,
    "start_time": "2022-05-24T10:21:37.474Z"
   },
   {
    "duration": 5,
    "start_time": "2022-05-24T10:32:42.883Z"
   },
   {
    "duration": 584,
    "start_time": "2022-05-24T10:45:28.532Z"
   },
   {
    "duration": 413,
    "start_time": "2022-05-24T10:50:10.608Z"
   },
   {
    "duration": 453,
    "start_time": "2022-05-24T10:50:27.476Z"
   },
   {
    "duration": 508,
    "start_time": "2022-05-24T10:50:57.204Z"
   },
   {
    "duration": 418,
    "start_time": "2022-05-24T10:51:46.811Z"
   },
   {
    "duration": 424,
    "start_time": "2022-05-24T10:53:56.652Z"
   },
   {
    "duration": 1269,
    "start_time": "2022-05-24T10:55:50.412Z"
   },
   {
    "duration": 1382,
    "start_time": "2022-05-24T10:57:14.657Z"
   },
   {
    "duration": 2,
    "start_time": "2022-05-24T10:57:16.041Z"
   },
   {
    "duration": 427,
    "start_time": "2022-05-24T10:57:16.046Z"
   },
   {
    "duration": 15,
    "start_time": "2022-05-24T10:57:16.475Z"
   },
   {
    "duration": 14,
    "start_time": "2022-05-24T10:57:16.491Z"
   },
   {
    "duration": 14,
    "start_time": "2022-05-24T10:57:16.507Z"
   },
   {
    "duration": 39,
    "start_time": "2022-05-24T10:57:16.523Z"
   },
   {
    "duration": 10,
    "start_time": "2022-05-24T10:57:16.583Z"
   },
   {
    "duration": 96,
    "start_time": "2022-05-24T10:57:16.595Z"
   },
   {
    "duration": 2222,
    "start_time": "2022-05-24T10:57:16.694Z"
   },
   {
    "duration": 3,
    "start_time": "2022-05-24T10:57:18.917Z"
   },
   {
    "duration": 46,
    "start_time": "2022-05-24T10:57:18.922Z"
   },
   {
    "duration": 20,
    "start_time": "2022-05-24T10:57:18.970Z"
   },
   {
    "duration": 41,
    "start_time": "2022-05-24T10:57:18.992Z"
   },
   {
    "duration": 159,
    "start_time": "2022-05-24T10:57:19.035Z"
   },
   {
    "duration": 195,
    "start_time": "2022-05-24T10:57:19.195Z"
   },
   {
    "duration": 97,
    "start_time": "2022-05-24T10:57:19.391Z"
   },
   {
    "duration": 103,
    "start_time": "2022-05-24T10:57:19.490Z"
   },
   {
    "duration": 7,
    "start_time": "2022-05-24T10:57:19.595Z"
   },
   {
    "duration": 20,
    "start_time": "2022-05-24T10:57:19.604Z"
   },
   {
    "duration": 9,
    "start_time": "2022-05-24T10:57:19.626Z"
   },
   {
    "duration": 5,
    "start_time": "2022-05-24T10:57:19.637Z"
   },
   {
    "duration": 508,
    "start_time": "2022-05-24T10:57:19.644Z"
   },
   {
    "duration": 1283,
    "start_time": "2022-05-24T10:57:20.154Z"
   },
   {
    "duration": 1208,
    "start_time": "2022-05-24T10:58:23.566Z"
   },
   {
    "duration": 1261,
    "start_time": "2022-05-24T10:59:25.774Z"
   },
   {
    "duration": 1284,
    "start_time": "2022-05-24T11:00:21.450Z"
   },
   {
    "duration": 1248,
    "start_time": "2022-05-24T12:01:02.175Z"
   },
   {
    "duration": 2,
    "start_time": "2022-05-24T12:07:58.737Z"
   },
   {
    "duration": 3,
    "start_time": "2022-05-24T12:08:23.649Z"
   },
   {
    "duration": 8,
    "start_time": "2022-05-24T12:08:54.770Z"
   },
   {
    "duration": 3,
    "start_time": "2022-05-24T12:09:09.406Z"
   },
   {
    "duration": 6,
    "start_time": "2022-05-24T12:09:09.766Z"
   },
   {
    "duration": 716,
    "start_time": "2022-05-24T12:09:37.104Z"
   },
   {
    "duration": 1321,
    "start_time": "2022-05-24T12:09:53.440Z"
   },
   {
    "duration": 15,
    "start_time": "2022-05-25T07:23:10.366Z"
   },
   {
    "duration": 3,
    "start_time": "2022-05-25T07:37:07.705Z"
   },
   {
    "duration": 1428,
    "start_time": "2022-05-25T07:39:46.662Z"
   },
   {
    "duration": 3,
    "start_time": "2022-05-25T07:39:48.092Z"
   },
   {
    "duration": 2275,
    "start_time": "2022-05-25T07:39:48.097Z"
   },
   {
    "duration": 17,
    "start_time": "2022-05-25T07:39:50.375Z"
   },
   {
    "duration": 18,
    "start_time": "2022-05-25T07:39:50.394Z"
   },
   {
    "duration": 14,
    "start_time": "2022-05-25T07:39:50.414Z"
   },
   {
    "duration": 64,
    "start_time": "2022-05-25T07:39:50.430Z"
   },
   {
    "duration": 11,
    "start_time": "2022-05-25T07:39:50.496Z"
   },
   {
    "duration": 111,
    "start_time": "2022-05-25T07:39:50.509Z"
   },
   {
    "duration": 1993,
    "start_time": "2022-05-25T07:39:50.623Z"
   },
   {
    "duration": 3,
    "start_time": "2022-05-25T07:39:52.618Z"
   },
   {
    "duration": 64,
    "start_time": "2022-05-25T07:39:52.623Z"
   },
   {
    "duration": 9,
    "start_time": "2022-05-25T07:39:52.689Z"
   },
   {
    "duration": 46,
    "start_time": "2022-05-25T07:39:52.700Z"
   },
   {
    "duration": 55,
    "start_time": "2022-05-25T07:39:52.760Z"
   },
   {
    "duration": 157,
    "start_time": "2022-05-25T07:39:52.818Z"
   },
   {
    "duration": 84,
    "start_time": "2022-05-25T07:39:52.977Z"
   },
   {
    "duration": 101,
    "start_time": "2022-05-25T07:39:53.063Z"
   },
   {
    "duration": 6,
    "start_time": "2022-05-25T07:39:53.166Z"
   },
   {
    "duration": 20,
    "start_time": "2022-05-25T07:39:53.174Z"
   },
   {
    "duration": 17,
    "start_time": "2022-05-25T07:39:53.196Z"
   },
   {
    "duration": 10,
    "start_time": "2022-05-25T07:39:53.215Z"
   },
   {
    "duration": 8,
    "start_time": "2022-05-25T07:39:53.227Z"
   },
   {
    "duration": 1312,
    "start_time": "2022-05-25T07:39:53.237Z"
   },
   {
    "duration": 35,
    "start_time": "2022-05-25T08:52:04.105Z"
   },
   {
    "duration": 119,
    "start_time": "2022-05-25T09:07:43.098Z"
   },
   {
    "duration": 10,
    "start_time": "2022-05-25T09:10:46.121Z"
   },
   {
    "duration": 10,
    "start_time": "2022-05-25T09:15:25.686Z"
   },
   {
    "duration": 16,
    "start_time": "2022-05-25T09:15:57.460Z"
   },
   {
    "duration": 39,
    "start_time": "2022-05-25T09:16:02.038Z"
   },
   {
    "duration": 117,
    "start_time": "2022-05-25T09:16:37.653Z"
   },
   {
    "duration": 3,
    "start_time": "2022-05-25T09:17:43.691Z"
   },
   {
    "duration": 122,
    "start_time": "2022-05-25T09:19:25.257Z"
   },
   {
    "duration": 160,
    "start_time": "2022-05-25T09:19:41.705Z"
   },
   {
    "duration": 120,
    "start_time": "2022-05-25T09:19:50.841Z"
   },
   {
    "duration": 2,
    "start_time": "2022-05-25T09:20:16.585Z"
   },
   {
    "duration": 52,
    "start_time": "2022-05-25T09:21:32.477Z"
   },
   {
    "duration": 155,
    "start_time": "2022-05-25T09:22:56.406Z"
   },
   {
    "duration": 5,
    "start_time": "2022-05-25T09:24:42.239Z"
   },
   {
    "duration": 5,
    "start_time": "2022-05-25T09:25:00.529Z"
   },
   {
    "duration": 72,
    "start_time": "2022-05-25T09:25:18.277Z"
   },
   {
    "duration": 4,
    "start_time": "2022-05-25T09:27:11.092Z"
   },
   {
    "duration": 3,
    "start_time": "2022-05-25T09:29:34.466Z"
   },
   {
    "duration": 3,
    "start_time": "2022-05-25T09:29:42.482Z"
   },
   {
    "duration": 18,
    "start_time": "2022-05-25T09:47:55.742Z"
   },
   {
    "duration": 28,
    "start_time": "2022-05-25T09:49:24.638Z"
   },
   {
    "duration": 6,
    "start_time": "2022-05-25T09:49:34.966Z"
   },
   {
    "duration": 1254,
    "start_time": "2022-05-25T09:49:56.463Z"
   },
   {
    "duration": 2,
    "start_time": "2022-05-25T09:49:57.719Z"
   },
   {
    "duration": 1335,
    "start_time": "2022-05-25T09:49:57.722Z"
   },
   {
    "duration": 11,
    "start_time": "2022-05-25T09:49:59.059Z"
   },
   {
    "duration": 22,
    "start_time": "2022-05-25T09:49:59.072Z"
   },
   {
    "duration": 36,
    "start_time": "2022-05-25T09:49:59.095Z"
   },
   {
    "duration": 55,
    "start_time": "2022-05-25T09:49:59.132Z"
   },
   {
    "duration": 7,
    "start_time": "2022-05-25T09:49:59.188Z"
   },
   {
    "duration": 93,
    "start_time": "2022-05-25T09:49:59.196Z"
   },
   {
    "duration": 1732,
    "start_time": "2022-05-25T09:49:59.291Z"
   },
   {
    "duration": 3,
    "start_time": "2022-05-25T09:50:01.024Z"
   },
   {
    "duration": 51,
    "start_time": "2022-05-25T09:50:01.029Z"
   },
   {
    "duration": 11,
    "start_time": "2022-05-25T09:50:01.082Z"
   },
   {
    "duration": 61,
    "start_time": "2022-05-25T09:50:01.095Z"
   },
   {
    "duration": 38,
    "start_time": "2022-05-25T09:50:01.158Z"
   },
   {
    "duration": 10,
    "start_time": "2022-05-25T09:50:01.197Z"
   },
   {
    "duration": 32,
    "start_time": "2022-05-25T09:50:01.208Z"
   },
   {
    "duration": 225,
    "start_time": "2022-05-25T09:50:01.241Z"
   },
   {
    "duration": 294,
    "start_time": "2022-05-25T09:50:01.468Z"
   },
   {
    "duration": 0,
    "start_time": "2022-05-25T09:50:01.763Z"
   },
   {
    "duration": 0,
    "start_time": "2022-05-25T09:50:01.764Z"
   },
   {
    "duration": 0,
    "start_time": "2022-05-25T09:50:01.765Z"
   },
   {
    "duration": 0,
    "start_time": "2022-05-25T09:50:01.766Z"
   },
   {
    "duration": 0,
    "start_time": "2022-05-25T09:50:01.766Z"
   },
   {
    "duration": 0,
    "start_time": "2022-05-25T09:50:01.767Z"
   },
   {
    "duration": 0,
    "start_time": "2022-05-25T09:50:01.768Z"
   },
   {
    "duration": 1162,
    "start_time": "2022-05-25T09:50:45.555Z"
   },
   {
    "duration": 2,
    "start_time": "2022-05-25T09:50:46.719Z"
   },
   {
    "duration": 344,
    "start_time": "2022-05-25T09:50:46.723Z"
   },
   {
    "duration": 12,
    "start_time": "2022-05-25T09:50:47.068Z"
   },
   {
    "duration": 12,
    "start_time": "2022-05-25T09:50:47.082Z"
   },
   {
    "duration": 12,
    "start_time": "2022-05-25T09:50:47.096Z"
   },
   {
    "duration": 50,
    "start_time": "2022-05-25T09:50:47.110Z"
   },
   {
    "duration": 7,
    "start_time": "2022-05-25T09:50:47.162Z"
   },
   {
    "duration": 65,
    "start_time": "2022-05-25T09:50:47.171Z"
   },
   {
    "duration": 1773,
    "start_time": "2022-05-25T09:50:47.237Z"
   },
   {
    "duration": 3,
    "start_time": "2022-05-25T09:50:49.011Z"
   },
   {
    "duration": 34,
    "start_time": "2022-05-25T09:50:49.015Z"
   },
   {
    "duration": 15,
    "start_time": "2022-05-25T09:50:49.050Z"
   },
   {
    "duration": 29,
    "start_time": "2022-05-25T09:50:49.068Z"
   },
   {
    "duration": 38,
    "start_time": "2022-05-25T09:50:49.098Z"
   },
   {
    "duration": 2,
    "start_time": "2022-05-25T09:50:49.137Z"
   },
   {
    "duration": 19,
    "start_time": "2022-05-25T09:50:49.141Z"
   },
   {
    "duration": 204,
    "start_time": "2022-05-25T09:50:49.161Z"
   },
   {
    "duration": 97,
    "start_time": "2022-05-25T09:50:49.367Z"
   },
   {
    "duration": 94,
    "start_time": "2022-05-25T09:50:49.467Z"
   },
   {
    "duration": 5,
    "start_time": "2022-05-25T09:50:49.563Z"
   },
   {
    "duration": 293,
    "start_time": "2022-05-25T09:50:49.570Z"
   },
   {
    "duration": 0,
    "start_time": "2022-05-25T09:50:49.864Z"
   },
   {
    "duration": 0,
    "start_time": "2022-05-25T09:50:49.865Z"
   },
   {
    "duration": 0,
    "start_time": "2022-05-25T09:50:49.866Z"
   },
   {
    "duration": 0,
    "start_time": "2022-05-25T09:50:49.868Z"
   },
   {
    "duration": 2,
    "start_time": "2022-05-25T09:51:13.580Z"
   },
   {
    "duration": 39,
    "start_time": "2022-05-25T09:51:14.927Z"
   },
   {
    "duration": 9,
    "start_time": "2022-05-25T09:51:17.276Z"
   },
   {
    "duration": 140,
    "start_time": "2022-05-25T09:52:06.128Z"
   },
   {
    "duration": 196,
    "start_time": "2022-05-25T09:52:25.764Z"
   },
   {
    "duration": 2,
    "start_time": "2022-05-25T09:52:54.627Z"
   },
   {
    "duration": 3,
    "start_time": "2022-05-25T09:53:09.242Z"
   },
   {
    "duration": 107,
    "start_time": "2022-05-25T09:58:09.653Z"
   },
   {
    "duration": 110,
    "start_time": "2022-05-25T09:58:38.048Z"
   },
   {
    "duration": 158,
    "start_time": "2022-05-25T09:58:50.503Z"
   },
   {
    "duration": 41,
    "start_time": "2022-05-25T09:58:57.725Z"
   },
   {
    "duration": 11,
    "start_time": "2022-05-25T10:00:17.664Z"
   },
   {
    "duration": 4,
    "start_time": "2022-05-25T10:00:39.560Z"
   },
   {
    "duration": 12,
    "start_time": "2022-05-25T10:00:41.328Z"
   },
   {
    "duration": 8,
    "start_time": "2022-05-25T10:01:28.728Z"
   },
   {
    "duration": 8,
    "start_time": "2022-05-25T10:01:32.561Z"
   },
   {
    "duration": 4,
    "start_time": "2022-05-25T10:01:38.847Z"
   },
   {
    "duration": 49,
    "start_time": "2022-05-25T10:02:22.719Z"
   },
   {
    "duration": 25,
    "start_time": "2022-05-25T10:02:31.744Z"
   },
   {
    "duration": 2,
    "start_time": "2022-05-25T10:02:32.854Z"
   },
   {
    "duration": 2,
    "start_time": "2022-05-25T10:02:33.271Z"
   },
   {
    "duration": 3,
    "start_time": "2022-05-25T10:02:35.412Z"
   },
   {
    "duration": 5,
    "start_time": "2022-05-25T10:02:36.307Z"
   },
   {
    "duration": 14,
    "start_time": "2022-05-25T10:02:39.928Z"
   },
   {
    "duration": 3,
    "start_time": "2022-05-25T10:02:53.879Z"
   },
   {
    "duration": 4,
    "start_time": "2022-05-25T10:03:01.611Z"
   },
   {
    "duration": 12,
    "start_time": "2022-05-25T10:03:08.111Z"
   },
   {
    "duration": 9,
    "start_time": "2022-05-25T10:03:17.782Z"
   },
   {
    "duration": 108,
    "start_time": "2022-05-25T10:03:27.552Z"
   },
   {
    "duration": 3,
    "start_time": "2022-05-25T10:03:29.108Z"
   },
   {
    "duration": 3,
    "start_time": "2022-05-25T10:03:29.462Z"
   },
   {
    "duration": 3,
    "start_time": "2022-05-25T10:03:31.014Z"
   },
   {
    "duration": 5,
    "start_time": "2022-05-25T10:03:31.655Z"
   },
   {
    "duration": 22,
    "start_time": "2022-05-25T10:03:32.883Z"
   },
   {
    "duration": 2,
    "start_time": "2022-05-25T10:04:30.238Z"
   },
   {
    "duration": 3,
    "start_time": "2022-05-25T10:04:48.886Z"
   },
   {
    "duration": 7,
    "start_time": "2022-05-25T10:05:01.670Z"
   },
   {
    "duration": 4,
    "start_time": "2022-05-25T10:05:30.934Z"
   },
   {
    "duration": 180,
    "start_time": "2022-05-25T10:06:29.915Z"
   },
   {
    "duration": 3,
    "start_time": "2022-05-25T10:07:13.576Z"
   },
   {
    "duration": 8,
    "start_time": "2022-05-25T10:07:20.037Z"
   },
   {
    "duration": 17,
    "start_time": "2022-05-25T10:07:42.216Z"
   },
   {
    "duration": 8,
    "start_time": "2022-05-25T10:08:35.869Z"
   },
   {
    "duration": 178,
    "start_time": "2022-05-25T10:08:54.085Z"
   },
   {
    "duration": 5,
    "start_time": "2022-05-25T10:08:59.023Z"
   },
   {
    "duration": 178,
    "start_time": "2022-05-25T10:09:00.069Z"
   },
   {
    "duration": 6,
    "start_time": "2022-05-25T10:10:55.475Z"
   },
   {
    "duration": 60,
    "start_time": "2022-05-25T10:11:05.410Z"
   },
   {
    "duration": 3,
    "start_time": "2022-05-25T10:11:06.867Z"
   },
   {
    "duration": 2,
    "start_time": "2022-05-25T10:11:07.328Z"
   },
   {
    "duration": 4,
    "start_time": "2022-05-25T10:11:08.819Z"
   },
   {
    "duration": 5,
    "start_time": "2022-05-25T10:11:09.185Z"
   },
   {
    "duration": 5,
    "start_time": "2022-05-25T10:11:22.155Z"
   },
   {
    "duration": 19,
    "start_time": "2022-05-25T10:11:46.713Z"
   },
   {
    "duration": 4,
    "start_time": "2022-05-25T10:13:36.017Z"
   },
   {
    "duration": 138,
    "start_time": "2022-05-25T10:13:43.730Z"
   },
   {
    "duration": 4,
    "start_time": "2022-05-25T10:13:45.954Z"
   },
   {
    "duration": 16,
    "start_time": "2022-05-25T10:14:17.145Z"
   },
   {
    "duration": 5,
    "start_time": "2022-05-25T10:14:38.003Z"
   },
   {
    "duration": 148,
    "start_time": "2022-05-25T10:15:05.913Z"
   },
   {
    "duration": 201,
    "start_time": "2022-05-25T10:15:23.274Z"
   },
   {
    "duration": 1610,
    "start_time": "2022-05-25T10:15:32.872Z"
   },
   {
    "duration": 5,
    "start_time": "2022-05-25T10:15:58.001Z"
   },
   {
    "duration": 11,
    "start_time": "2022-05-25T10:16:02.129Z"
   },
   {
    "duration": 102,
    "start_time": "2022-05-25T10:16:23.065Z"
   },
   {
    "duration": 3,
    "start_time": "2022-05-25T10:16:24.176Z"
   },
   {
    "duration": 2,
    "start_time": "2022-05-25T10:16:24.639Z"
   },
   {
    "duration": 3,
    "start_time": "2022-05-25T10:16:26.016Z"
   },
   {
    "duration": 4,
    "start_time": "2022-05-25T10:16:26.545Z"
   },
   {
    "duration": 1606,
    "start_time": "2022-05-25T10:16:28.210Z"
   },
   {
    "duration": 14,
    "start_time": "2022-05-25T10:16:50.417Z"
   },
   {
    "duration": 82,
    "start_time": "2022-05-25T10:16:56.081Z"
   },
   {
    "duration": 3,
    "start_time": "2022-05-25T10:16:58.002Z"
   },
   {
    "duration": 3,
    "start_time": "2022-05-25T10:16:58.415Z"
   },
   {
    "duration": 3,
    "start_time": "2022-05-25T10:16:59.272Z"
   },
   {
    "duration": 4,
    "start_time": "2022-05-25T10:16:59.801Z"
   },
   {
    "duration": 196,
    "start_time": "2022-05-25T10:17:00.233Z"
   },
   {
    "duration": 169,
    "start_time": "2022-05-25T10:17:39.592Z"
   },
   {
    "duration": 3,
    "start_time": "2022-05-25T10:17:41.958Z"
   },
   {
    "duration": 5,
    "start_time": "2022-05-25T10:17:42.336Z"
   },
   {
    "duration": 215,
    "start_time": "2022-05-25T10:17:43.544Z"
   },
   {
    "duration": 91,
    "start_time": "2022-05-25T10:17:57.176Z"
   },
   {
    "duration": 3,
    "start_time": "2022-05-25T10:17:59.745Z"
   },
   {
    "duration": 210,
    "start_time": "2022-05-25T10:18:01.065Z"
   },
   {
    "duration": 159,
    "start_time": "2022-05-25T10:19:03.903Z"
   },
   {
    "duration": 4,
    "start_time": "2022-05-25T10:19:06.741Z"
   },
   {
    "duration": 272,
    "start_time": "2022-05-25T10:19:07.899Z"
   },
   {
    "duration": 101,
    "start_time": "2022-05-25T10:19:31.159Z"
   },
   {
    "duration": 2,
    "start_time": "2022-05-25T10:19:32.679Z"
   },
   {
    "duration": 2,
    "start_time": "2022-05-25T10:19:33.103Z"
   },
   {
    "duration": 3,
    "start_time": "2022-05-25T10:19:34.574Z"
   },
   {
    "duration": 4,
    "start_time": "2022-05-25T10:19:35.119Z"
   },
   {
    "duration": 17,
    "start_time": "2022-05-25T10:19:36.087Z"
   },
   {
    "duration": 4,
    "start_time": "2022-05-25T10:19:59.759Z"
   },
   {
    "duration": 4,
    "start_time": "2022-05-25T10:20:04.352Z"
   },
   {
    "duration": 5,
    "start_time": "2022-05-25T10:20:10.647Z"
   },
   {
    "duration": 17,
    "start_time": "2022-05-25T10:20:21.432Z"
   },
   {
    "duration": 17,
    "start_time": "2022-05-25T10:20:31.736Z"
   },
   {
    "duration": 202,
    "start_time": "2022-05-25T10:21:12.767Z"
   },
   {
    "duration": 2773,
    "start_time": "2022-05-25T10:21:25.174Z"
   },
   {
    "duration": 1962,
    "start_time": "2022-05-25T10:21:40.533Z"
   },
   {
    "duration": 19,
    "start_time": "2022-05-25T10:21:53.102Z"
   },
   {
    "duration": 13,
    "start_time": "2022-05-25T10:22:37.214Z"
   },
   {
    "duration": 13,
    "start_time": "2022-05-25T10:22:54.376Z"
   },
   {
    "duration": 15,
    "start_time": "2022-05-25T10:23:32.613Z"
   },
   {
    "duration": 3379,
    "start_time": "2022-05-25T10:23:48.149Z"
   },
   {
    "duration": 1615,
    "start_time": "2022-05-25T10:24:11.422Z"
   },
   {
    "duration": 230,
    "start_time": "2022-05-25T10:25:08.077Z"
   },
   {
    "duration": 5,
    "start_time": "2022-05-25T10:26:11.143Z"
   },
   {
    "duration": 795,
    "start_time": "2022-05-25T10:26:57.892Z"
   },
   {
    "duration": 1566,
    "start_time": "2022-05-25T10:27:09.595Z"
   },
   {
    "duration": 1688,
    "start_time": "2022-05-25T10:27:32.657Z"
   },
   {
    "duration": 17,
    "start_time": "2022-05-25T10:29:48.746Z"
   },
   {
    "duration": 10,
    "start_time": "2022-05-25T10:33:40.239Z"
   },
   {
    "duration": 216,
    "start_time": "2022-05-25T10:33:49.543Z"
   },
   {
    "duration": 225,
    "start_time": "2022-05-25T10:33:55.711Z"
   },
   {
    "duration": 1110,
    "start_time": "2022-05-25T10:39:58.436Z"
   },
   {
    "duration": 55,
    "start_time": "2022-05-25T10:43:06.051Z"
   },
   {
    "duration": 84,
    "start_time": "2022-05-25T10:43:49.371Z"
   },
   {
    "duration": 29,
    "start_time": "2022-05-25T10:44:01.091Z"
   },
   {
    "duration": 1002,
    "start_time": "2022-05-25T10:46:36.397Z"
   },
   {
    "duration": 9,
    "start_time": "2022-05-25T10:49:50.500Z"
   },
   {
    "duration": 9,
    "start_time": "2022-05-25T10:49:55.571Z"
   },
   {
    "duration": 64,
    "start_time": "2022-05-25T10:49:59.004Z"
   },
   {
    "duration": 5,
    "start_time": "2022-05-25T10:50:01.828Z"
   },
   {
    "duration": 6,
    "start_time": "2022-05-25T10:50:02.979Z"
   },
   {
    "duration": 966,
    "start_time": "2022-05-25T10:56:41.194Z"
   },
   {
    "duration": 232,
    "start_time": "2022-05-25T10:57:54.473Z"
   },
   {
    "duration": 16,
    "start_time": "2022-05-25T10:58:35.728Z"
   },
   {
    "duration": 164,
    "start_time": "2022-05-25T10:58:41.196Z"
   },
   {
    "duration": 2,
    "start_time": "2022-05-25T10:58:42.417Z"
   },
   {
    "duration": 3,
    "start_time": "2022-05-25T10:58:42.759Z"
   },
   {
    "duration": 3,
    "start_time": "2022-05-25T10:58:43.611Z"
   },
   {
    "duration": 4,
    "start_time": "2022-05-25T10:58:43.999Z"
   },
   {
    "duration": 5,
    "start_time": "2022-05-25T10:58:44.503Z"
   },
   {
    "duration": 223,
    "start_time": "2022-05-25T10:58:45.111Z"
   },
   {
    "duration": 287,
    "start_time": "2022-05-25T11:01:27.919Z"
   },
   {
    "duration": 343,
    "start_time": "2022-05-25T11:01:58.517Z"
   },
   {
    "duration": 4,
    "start_time": "2022-05-25T11:02:04.749Z"
   },
   {
    "duration": 5,
    "start_time": "2022-05-25T11:02:05.181Z"
   },
   {
    "duration": 230,
    "start_time": "2022-05-25T11:02:08.178Z"
   },
   {
    "duration": 1118,
    "start_time": "2022-05-25T11:12:16.138Z"
   },
   {
    "duration": 8,
    "start_time": "2022-05-26T08:54:09.380Z"
   },
   {
    "duration": 1447,
    "start_time": "2022-05-26T08:57:59.080Z"
   },
   {
    "duration": 3,
    "start_time": "2022-05-26T08:58:00.529Z"
   },
   {
    "duration": 806,
    "start_time": "2022-05-26T08:58:00.536Z"
   },
   {
    "duration": 14,
    "start_time": "2022-05-26T08:58:01.344Z"
   },
   {
    "duration": 18,
    "start_time": "2022-05-26T08:58:01.359Z"
   },
   {
    "duration": 19,
    "start_time": "2022-05-26T08:58:01.379Z"
   },
   {
    "duration": 40,
    "start_time": "2022-05-26T08:58:01.400Z"
   },
   {
    "duration": 9,
    "start_time": "2022-05-26T08:58:01.441Z"
   },
   {
    "duration": 88,
    "start_time": "2022-05-26T08:58:01.453Z"
   },
   {
    "duration": 1951,
    "start_time": "2022-05-26T08:58:01.543Z"
   },
   {
    "duration": 2,
    "start_time": "2022-05-26T08:58:03.496Z"
   },
   {
    "duration": 49,
    "start_time": "2022-05-26T08:58:03.500Z"
   },
   {
    "duration": 8,
    "start_time": "2022-05-26T08:58:03.550Z"
   },
   {
    "duration": 33,
    "start_time": "2022-05-26T08:58:03.562Z"
   },
   {
    "duration": 144,
    "start_time": "2022-05-26T08:58:03.598Z"
   },
   {
    "duration": 3,
    "start_time": "2022-05-26T08:58:03.744Z"
   },
   {
    "duration": 6,
    "start_time": "2022-05-26T08:58:03.749Z"
   },
   {
    "duration": 273,
    "start_time": "2022-05-26T08:58:03.757Z"
   },
   {
    "duration": 6,
    "start_time": "2022-05-26T08:58:04.126Z"
   },
   {
    "duration": 7,
    "start_time": "2022-05-26T08:58:04.134Z"
   },
   {
    "duration": 4,
    "start_time": "2022-05-26T08:58:04.143Z"
   },
   {
    "duration": 182,
    "start_time": "2022-05-26T08:58:04.148Z"
   },
   {
    "duration": 3,
    "start_time": "2022-05-26T08:58:04.332Z"
   },
   {
    "duration": 6,
    "start_time": "2022-05-26T08:58:04.427Z"
   },
   {
    "duration": 7,
    "start_time": "2022-05-26T08:58:04.435Z"
   },
   {
    "duration": 7,
    "start_time": "2022-05-26T08:58:04.443Z"
   },
   {
    "duration": 8,
    "start_time": "2022-05-26T08:58:04.453Z"
   },
   {
    "duration": 250,
    "start_time": "2022-05-26T08:58:04.463Z"
   },
   {
    "duration": 1154,
    "start_time": "2022-05-26T08:58:04.715Z"
   },
   {
    "duration": 108,
    "start_time": "2022-05-26T08:59:42.697Z"
   },
   {
    "duration": 154,
    "start_time": "2022-05-26T09:01:01.073Z"
   },
   {
    "duration": 4,
    "start_time": "2022-05-26T09:01:22.592Z"
   },
   {
    "duration": 4,
    "start_time": "2022-05-26T09:01:38.176Z"
   },
   {
    "duration": 4,
    "start_time": "2022-05-26T09:01:54.088Z"
   },
   {
    "duration": 3,
    "start_time": "2022-05-26T09:02:22.112Z"
   },
   {
    "duration": 3,
    "start_time": "2022-05-26T09:02:48.782Z"
   },
   {
    "duration": 20,
    "start_time": "2022-05-26T09:03:07.367Z"
   },
   {
    "duration": 903,
    "start_time": "2022-05-26T09:03:59.063Z"
   },
   {
    "duration": 14,
    "start_time": "2022-05-26T09:04:22.131Z"
   },
   {
    "duration": 18,
    "start_time": "2022-05-26T09:04:36.860Z"
   },
   {
    "duration": 3621,
    "start_time": "2022-05-26T09:05:07.055Z"
   },
   {
    "duration": 3657,
    "start_time": "2022-05-26T09:06:39.449Z"
   },
   {
    "duration": 4027,
    "start_time": "2022-05-26T09:07:24.453Z"
   },
   {
    "duration": 5,
    "start_time": "2022-05-26T09:08:51.705Z"
   },
   {
    "duration": 3699,
    "start_time": "2022-05-26T09:09:51.729Z"
   },
   {
    "duration": 5,
    "start_time": "2022-05-26T09:11:25.662Z"
   },
   {
    "duration": 6,
    "start_time": "2022-05-26T09:11:49.469Z"
   },
   {
    "duration": 5,
    "start_time": "2022-05-26T09:12:34.334Z"
   },
   {
    "duration": 3,
    "start_time": "2022-05-26T09:13:58.945Z"
   },
   {
    "duration": 11,
    "start_time": "2022-05-26T09:15:50.062Z"
   },
   {
    "duration": 6,
    "start_time": "2022-05-26T09:16:23.269Z"
   },
   {
    "duration": 7,
    "start_time": "2022-05-26T09:17:46.024Z"
   },
   {
    "duration": 3699,
    "start_time": "2022-05-26T09:17:49.763Z"
   },
   {
    "duration": 20,
    "start_time": "2022-05-26T09:18:07.074Z"
   },
   {
    "duration": 4,
    "start_time": "2022-05-26T09:18:53.197Z"
   },
   {
    "duration": 4,
    "start_time": "2022-05-26T09:18:58.196Z"
   },
   {
    "duration": 7,
    "start_time": "2022-05-26T09:19:30.947Z"
   },
   {
    "duration": 19,
    "start_time": "2022-05-26T09:19:34.326Z"
   },
   {
    "duration": 6,
    "start_time": "2022-05-26T09:20:07.653Z"
   },
   {
    "duration": 23,
    "start_time": "2022-05-26T09:20:09.956Z"
   },
   {
    "duration": 7,
    "start_time": "2022-05-26T09:20:20.061Z"
   },
   {
    "duration": 9,
    "start_time": "2022-05-26T09:20:25.157Z"
   },
   {
    "duration": 4,
    "start_time": "2022-05-26T09:20:42.229Z"
   },
   {
    "duration": 23,
    "start_time": "2022-05-26T09:20:42.765Z"
   },
   {
    "duration": 15,
    "start_time": "2022-05-26T09:21:18.861Z"
   },
   {
    "duration": 4096,
    "start_time": "2022-05-26T09:21:28.189Z"
   },
   {
    "duration": 3862,
    "start_time": "2022-05-26T09:21:36.284Z"
   },
   {
    "duration": 3889,
    "start_time": "2022-05-26T09:21:57.264Z"
   },
   {
    "duration": 24,
    "start_time": "2022-05-26T09:22:12.163Z"
   },
   {
    "duration": 1371,
    "start_time": "2022-05-26T09:23:24.820Z"
   },
   {
    "duration": 1342,
    "start_time": "2022-05-26T09:23:47.612Z"
   },
   {
    "duration": 1978,
    "start_time": "2022-05-26T09:24:05.512Z"
   },
   {
    "duration": 3,
    "start_time": "2022-05-26T09:24:59.889Z"
   },
   {
    "duration": 2065,
    "start_time": "2022-05-26T09:25:02.712Z"
   },
   {
    "duration": 233,
    "start_time": "2022-05-26T09:25:09.510Z"
   },
   {
    "duration": 3,
    "start_time": "2022-05-26T09:25:40.067Z"
   },
   {
    "duration": 229,
    "start_time": "2022-05-26T09:25:43.099Z"
   },
   {
    "duration": 4907,
    "start_time": "2022-05-26T09:26:04.459Z"
   },
   {
    "duration": 5157,
    "start_time": "2022-05-26T09:27:17.392Z"
   },
   {
    "duration": 14,
    "start_time": "2022-05-26T09:27:24.420Z"
   },
   {
    "duration": 4929,
    "start_time": "2022-05-26T09:27:52.116Z"
   },
   {
    "duration": 3,
    "start_time": "2022-05-26T09:28:24.498Z"
   },
   {
    "duration": 23,
    "start_time": "2022-05-26T09:28:26.018Z"
   },
   {
    "duration": 19,
    "start_time": "2022-05-26T09:30:25.812Z"
   },
   {
    "duration": 1221,
    "start_time": "2022-05-26T09:30:45.708Z"
   },
   {
    "duration": 4900,
    "start_time": "2022-05-26T09:31:07.791Z"
   },
   {
    "duration": 5099,
    "start_time": "2022-05-26T09:31:26.090Z"
   },
   {
    "duration": 5179,
    "start_time": "2022-05-26T09:31:39.085Z"
   },
   {
    "duration": 5924,
    "start_time": "2022-05-26T09:32:00.922Z"
   },
   {
    "duration": 50,
    "start_time": "2022-05-26T09:32:37.027Z"
   },
   {
    "duration": 4955,
    "start_time": "2022-05-26T09:32:51.375Z"
   },
   {
    "duration": 21,
    "start_time": "2022-05-26T09:33:11.859Z"
   },
   {
    "duration": 3309,
    "start_time": "2022-05-26T09:33:36.592Z"
   },
   {
    "duration": 2667,
    "start_time": "2022-05-26T09:34:22.798Z"
   },
   {
    "duration": 17,
    "start_time": "2022-05-26T09:34:48.912Z"
   },
   {
    "duration": 3383,
    "start_time": "2022-05-26T09:35:04.222Z"
   },
   {
    "duration": 2464,
    "start_time": "2022-05-26T09:35:12.342Z"
   },
   {
    "duration": 18,
    "start_time": "2022-05-26T09:36:00.322Z"
   },
   {
    "duration": 4770,
    "start_time": "2022-05-26T09:36:53.925Z"
   },
   {
    "duration": 4928,
    "start_time": "2022-05-26T09:37:05.412Z"
   },
   {
    "duration": 4359,
    "start_time": "2022-05-26T09:43:46.526Z"
   },
   {
    "duration": 4726,
    "start_time": "2022-05-26T09:44:48.451Z"
   },
   {
    "duration": 20,
    "start_time": "2022-05-26T10:04:33.632Z"
   },
   {
    "duration": 20,
    "start_time": "2022-05-26T10:09:25.408Z"
   },
   {
    "duration": 22,
    "start_time": "2022-05-26T10:09:51.450Z"
   },
   {
    "duration": 0,
    "start_time": "2022-05-26T10:13:11.864Z"
   },
   {
    "duration": 46,
    "start_time": "2022-05-26T10:15:05.383Z"
   },
   {
    "duration": 22,
    "start_time": "2022-05-26T10:15:32.991Z"
   },
   {
    "duration": 18,
    "start_time": "2022-05-26T10:15:57.694Z"
   },
   {
    "duration": 16,
    "start_time": "2022-05-26T10:16:06.030Z"
   },
   {
    "duration": 1375,
    "start_time": "2022-05-26T10:17:46.775Z"
   },
   {
    "duration": 3,
    "start_time": "2022-05-26T10:17:48.152Z"
   },
   {
    "duration": 406,
    "start_time": "2022-05-26T10:17:48.156Z"
   },
   {
    "duration": 14,
    "start_time": "2022-05-26T10:17:48.565Z"
   },
   {
    "duration": 43,
    "start_time": "2022-05-26T10:17:48.581Z"
   },
   {
    "duration": 35,
    "start_time": "2022-05-26T10:17:48.626Z"
   },
   {
    "duration": 38,
    "start_time": "2022-05-26T10:17:48.663Z"
   },
   {
    "duration": 9,
    "start_time": "2022-05-26T10:17:48.702Z"
   },
   {
    "duration": 85,
    "start_time": "2022-05-26T10:17:48.713Z"
   },
   {
    "duration": 1856,
    "start_time": "2022-05-26T10:17:48.801Z"
   },
   {
    "duration": 3,
    "start_time": "2022-05-26T10:17:50.659Z"
   },
   {
    "duration": 50,
    "start_time": "2022-05-26T10:17:50.663Z"
   },
   {
    "duration": 14,
    "start_time": "2022-05-26T10:17:50.714Z"
   },
   {
    "duration": 10,
    "start_time": "2022-05-26T10:17:50.729Z"
   },
   {
    "duration": 37,
    "start_time": "2022-05-26T10:17:50.741Z"
   },
   {
    "duration": 129,
    "start_time": "2022-05-26T10:17:50.781Z"
   },
   {
    "duration": 13,
    "start_time": "2022-05-26T10:17:50.911Z"
   },
   {
    "duration": 43,
    "start_time": "2022-05-26T10:17:50.927Z"
   },
   {
    "duration": 3,
    "start_time": "2022-05-26T10:17:50.971Z"
   },
   {
    "duration": 10,
    "start_time": "2022-05-26T10:17:50.976Z"
   },
   {
    "duration": 245,
    "start_time": "2022-05-26T10:17:50.988Z"
   },
   {
    "duration": 93,
    "start_time": "2022-05-26T10:17:51.235Z"
   },
   {
    "duration": 104,
    "start_time": "2022-05-26T10:17:51.330Z"
   },
   {
    "duration": 6,
    "start_time": "2022-05-26T10:17:51.436Z"
   },
   {
    "duration": 94,
    "start_time": "2022-05-26T10:17:51.444Z"
   },
   {
    "duration": 104,
    "start_time": "2022-05-26T10:17:51.628Z"
   },
   {
    "duration": 6,
    "start_time": "2022-05-26T10:17:51.733Z"
   },
   {
    "duration": 10,
    "start_time": "2022-05-26T10:17:51.742Z"
   },
   {
    "duration": 8,
    "start_time": "2022-05-26T10:17:51.753Z"
   },
   {
    "duration": 8,
    "start_time": "2022-05-26T10:17:51.764Z"
   },
   {
    "duration": 23,
    "start_time": "2022-05-26T10:17:51.774Z"
   },
   {
    "duration": 10,
    "start_time": "2022-05-26T10:17:51.799Z"
   },
   {
    "duration": 9903,
    "start_time": "2022-05-26T10:17:51.811Z"
   },
   {
    "duration": 127,
    "start_time": "2022-05-26T10:18:01.715Z"
   },
   {
    "duration": 0,
    "start_time": "2022-05-26T10:18:01.844Z"
   },
   {
    "duration": 15925,
    "start_time": "2022-05-26T10:18:17.546Z"
   },
   {
    "duration": 16,
    "start_time": "2022-05-26T10:19:11.751Z"
   },
   {
    "duration": 16769,
    "start_time": "2022-05-26T10:19:34.479Z"
   },
   {
    "duration": 46764,
    "start_time": "2022-05-26T10:19:53.006Z"
   },
   {
    "duration": 15894,
    "start_time": "2022-05-26T10:20:44.319Z"
   },
   {
    "duration": 50122,
    "start_time": "2022-05-26T10:21:58.231Z"
   },
   {
    "duration": 1292,
    "start_time": "2022-05-26T10:24:14.022Z"
   },
   {
    "duration": 3,
    "start_time": "2022-05-26T10:24:15.316Z"
   },
   {
    "duration": 382,
    "start_time": "2022-05-26T10:24:15.321Z"
   },
   {
    "duration": 13,
    "start_time": "2022-05-26T10:24:15.705Z"
   },
   {
    "duration": 16,
    "start_time": "2022-05-26T10:24:15.726Z"
   },
   {
    "duration": 20,
    "start_time": "2022-05-26T10:24:15.744Z"
   },
   {
    "duration": 36,
    "start_time": "2022-05-26T10:24:15.766Z"
   },
   {
    "duration": 23,
    "start_time": "2022-05-26T10:24:15.803Z"
   },
   {
    "duration": 74,
    "start_time": "2022-05-26T10:24:15.828Z"
   },
   {
    "duration": 2003,
    "start_time": "2022-05-26T10:24:15.904Z"
   },
   {
    "duration": 2,
    "start_time": "2022-05-26T10:24:17.909Z"
   },
   {
    "duration": 47,
    "start_time": "2022-05-26T10:24:17.913Z"
   },
   {
    "duration": 8,
    "start_time": "2022-05-26T10:24:17.961Z"
   },
   {
    "duration": 24,
    "start_time": "2022-05-26T10:24:17.970Z"
   },
   {
    "duration": 42,
    "start_time": "2022-05-26T10:24:17.995Z"
   },
   {
    "duration": 108,
    "start_time": "2022-05-26T10:24:18.039Z"
   },
   {
    "duration": 34,
    "start_time": "2022-05-26T10:24:18.149Z"
   },
   {
    "duration": 53,
    "start_time": "2022-05-26T10:24:18.184Z"
   },
   {
    "duration": 3,
    "start_time": "2022-05-26T10:24:18.239Z"
   },
   {
    "duration": 26,
    "start_time": "2022-05-26T10:24:18.243Z"
   },
   {
    "duration": 262,
    "start_time": "2022-05-26T10:24:18.271Z"
   },
   {
    "duration": 98,
    "start_time": "2022-05-26T10:24:18.536Z"
   },
   {
    "duration": 92,
    "start_time": "2022-05-26T10:24:18.636Z"
   },
   {
    "duration": 26,
    "start_time": "2022-05-26T10:24:18.730Z"
   },
   {
    "duration": 173,
    "start_time": "2022-05-26T10:24:18.758Z"
   },
   {
    "duration": 108,
    "start_time": "2022-05-26T10:24:18.936Z"
   },
   {
    "duration": 35,
    "start_time": "2022-05-26T10:24:19.046Z"
   },
   {
    "duration": 15,
    "start_time": "2022-05-26T10:24:19.084Z"
   },
   {
    "duration": 27,
    "start_time": "2022-05-26T10:24:19.100Z"
   },
   {
    "duration": 29,
    "start_time": "2022-05-26T10:24:19.128Z"
   },
   {
    "duration": 29,
    "start_time": "2022-05-26T10:24:19.158Z"
   },
   {
    "duration": 31,
    "start_time": "2022-05-26T10:24:19.189Z"
   },
   {
    "duration": 10053,
    "start_time": "2022-05-26T10:24:19.221Z"
   },
   {
    "duration": 113,
    "start_time": "2022-05-26T10:24:29.276Z"
   },
   {
    "duration": 0,
    "start_time": "2022-05-26T10:24:29.390Z"
   },
   {
    "duration": 10389,
    "start_time": "2022-05-26T10:24:54.885Z"
   },
   {
    "duration": 10119,
    "start_time": "2022-05-26T10:29:31.065Z"
   },
   {
    "duration": 10381,
    "start_time": "2022-05-26T10:29:56.928Z"
   },
   {
    "duration": 15808,
    "start_time": "2022-05-26T10:36:22.229Z"
   },
   {
    "duration": 15928,
    "start_time": "2022-05-26T10:37:20.196Z"
   },
   {
    "duration": 14380,
    "start_time": "2022-05-26T10:58:32.482Z"
   },
   {
    "duration": 55,
    "start_time": "2022-05-26T10:59:53.707Z"
   },
   {
    "duration": 18,
    "start_time": "2022-05-26T11:00:17.608Z"
   },
   {
    "duration": 17,
    "start_time": "2022-05-26T11:01:39.503Z"
   },
   {
    "duration": 14074,
    "start_time": "2022-05-26T11:03:33.126Z"
   },
   {
    "duration": 14429,
    "start_time": "2022-05-26T13:17:20.206Z"
   },
   {
    "duration": 50,
    "start_time": "2022-05-26T13:18:43.155Z"
   },
   {
    "duration": 51,
    "start_time": "2022-05-26T13:18:47.443Z"
   },
   {
    "duration": 50,
    "start_time": "2022-05-26T13:18:53.388Z"
   },
   {
    "duration": 12254,
    "start_time": "2022-05-26T13:19:07.476Z"
   },
   {
    "duration": 14033,
    "start_time": "2022-05-26T13:20:38.956Z"
   },
   {
    "duration": 1359,
    "start_time": "2022-05-27T07:13:37.098Z"
   },
   {
    "duration": 2,
    "start_time": "2022-05-27T07:13:38.459Z"
   },
   {
    "duration": 1523,
    "start_time": "2022-05-27T07:13:38.463Z"
   },
   {
    "duration": 12,
    "start_time": "2022-05-27T07:13:39.988Z"
   },
   {
    "duration": 35,
    "start_time": "2022-05-27T07:13:40.002Z"
   },
   {
    "duration": 30,
    "start_time": "2022-05-27T07:13:40.038Z"
   },
   {
    "duration": 43,
    "start_time": "2022-05-27T07:13:40.070Z"
   },
   {
    "duration": 8,
    "start_time": "2022-05-27T07:13:40.115Z"
   },
   {
    "duration": 81,
    "start_time": "2022-05-27T07:13:40.124Z"
   },
   {
    "duration": 1880,
    "start_time": "2022-05-27T07:13:40.208Z"
   },
   {
    "duration": 3,
    "start_time": "2022-05-27T07:13:42.094Z"
   },
   {
    "duration": 43,
    "start_time": "2022-05-27T07:13:42.098Z"
   },
   {
    "duration": 8,
    "start_time": "2022-05-27T07:13:42.143Z"
   },
   {
    "duration": 9,
    "start_time": "2022-05-27T07:13:42.153Z"
   },
   {
    "duration": 47,
    "start_time": "2022-05-27T07:13:42.163Z"
   },
   {
    "duration": 95,
    "start_time": "2022-05-27T07:13:42.212Z"
   },
   {
    "duration": 13,
    "start_time": "2022-05-27T07:13:42.309Z"
   },
   {
    "duration": 41,
    "start_time": "2022-05-27T07:13:42.324Z"
   },
   {
    "duration": 2,
    "start_time": "2022-05-27T07:13:42.367Z"
   },
   {
    "duration": 24,
    "start_time": "2022-05-27T07:13:42.371Z"
   },
   {
    "duration": 207,
    "start_time": "2022-05-27T07:13:42.397Z"
   },
   {
    "duration": 95,
    "start_time": "2022-05-27T07:13:42.605Z"
   },
   {
    "duration": 101,
    "start_time": "2022-05-27T07:13:42.702Z"
   },
   {
    "duration": 9,
    "start_time": "2022-05-27T07:13:42.804Z"
   },
   {
    "duration": 187,
    "start_time": "2022-05-27T07:13:42.815Z"
   },
   {
    "duration": 9,
    "start_time": "2022-05-27T07:13:43.094Z"
   },
   {
    "duration": 8,
    "start_time": "2022-05-27T07:13:43.105Z"
   },
   {
    "duration": 3,
    "start_time": "2022-05-27T07:13:43.196Z"
   },
   {
    "duration": 17,
    "start_time": "2022-05-27T07:13:43.200Z"
   },
   {
    "duration": 33,
    "start_time": "2022-05-27T07:13:43.219Z"
   },
   {
    "duration": 9,
    "start_time": "2022-05-27T07:13:43.254Z"
   },
   {
    "duration": 18,
    "start_time": "2022-05-27T07:13:43.265Z"
   },
   {
    "duration": 121,
    "start_time": "2022-05-27T07:13:43.284Z"
   },
   {
    "duration": 0,
    "start_time": "2022-05-27T07:13:43.406Z"
   },
   {
    "duration": 5884,
    "start_time": "2022-05-27T07:14:01.754Z"
   },
   {
    "duration": 6186,
    "start_time": "2022-05-27T07:14:14.748Z"
   },
   {
    "duration": 2786,
    "start_time": "2022-05-27T07:14:26.502Z"
   },
   {
    "duration": 2719,
    "start_time": "2022-05-27T07:14:33.163Z"
   },
   {
    "duration": 3,
    "start_time": "2022-05-27T07:17:21.194Z"
   },
   {
    "duration": 3091,
    "start_time": "2022-05-27T07:17:24.393Z"
   },
   {
    "duration": 3,
    "start_time": "2022-05-27T07:18:35.121Z"
   },
   {
    "duration": 13,
    "start_time": "2022-05-27T07:18:37.137Z"
   },
   {
    "duration": 3,
    "start_time": "2022-05-27T07:20:08.496Z"
   },
   {
    "duration": 14,
    "start_time": "2022-05-27T07:20:12.752Z"
   },
   {
    "duration": 1208,
    "start_time": "2022-05-27T07:20:20.083Z"
   },
   {
    "duration": 3,
    "start_time": "2022-05-27T07:20:21.293Z"
   },
   {
    "duration": 351,
    "start_time": "2022-05-27T07:20:21.297Z"
   },
   {
    "duration": 13,
    "start_time": "2022-05-27T07:20:21.650Z"
   },
   {
    "duration": 13,
    "start_time": "2022-05-27T07:20:21.665Z"
   },
   {
    "duration": 23,
    "start_time": "2022-05-27T07:20:21.679Z"
   },
   {
    "duration": 35,
    "start_time": "2022-05-27T07:20:21.704Z"
   },
   {
    "duration": 9,
    "start_time": "2022-05-27T07:20:21.741Z"
   },
   {
    "duration": 93,
    "start_time": "2022-05-27T07:20:21.752Z"
   },
   {
    "duration": 1824,
    "start_time": "2022-05-27T07:20:21.848Z"
   },
   {
    "duration": 2,
    "start_time": "2022-05-27T07:20:23.674Z"
   },
   {
    "duration": 48,
    "start_time": "2022-05-27T07:20:23.677Z"
   },
   {
    "duration": 8,
    "start_time": "2022-05-27T07:20:23.726Z"
   },
   {
    "duration": 9,
    "start_time": "2022-05-27T07:20:23.736Z"
   },
   {
    "duration": 32,
    "start_time": "2022-05-27T07:20:23.746Z"
   },
   {
    "duration": 100,
    "start_time": "2022-05-27T07:20:23.779Z"
   },
   {
    "duration": 19,
    "start_time": "2022-05-27T07:20:23.880Z"
   },
   {
    "duration": 40,
    "start_time": "2022-05-27T07:20:23.901Z"
   },
   {
    "duration": 2,
    "start_time": "2022-05-27T07:20:23.943Z"
   },
   {
    "duration": 7,
    "start_time": "2022-05-27T07:20:23.946Z"
   },
   {
    "duration": 246,
    "start_time": "2022-05-27T07:20:23.954Z"
   },
   {
    "duration": 4,
    "start_time": "2022-05-27T07:20:24.294Z"
   },
   {
    "duration": 5,
    "start_time": "2022-05-27T07:20:24.300Z"
   },
   {
    "duration": 4,
    "start_time": "2022-05-27T07:20:24.307Z"
   },
   {
    "duration": 182,
    "start_time": "2022-05-27T07:20:24.312Z"
   },
   {
    "duration": 102,
    "start_time": "2022-05-27T07:20:24.497Z"
   },
   {
    "duration": 4,
    "start_time": "2022-05-27T07:20:24.601Z"
   },
   {
    "duration": 5,
    "start_time": "2022-05-27T07:20:24.608Z"
   },
   {
    "duration": 4,
    "start_time": "2022-05-27T07:20:24.615Z"
   },
   {
    "duration": 14,
    "start_time": "2022-05-27T07:20:24.621Z"
   },
   {
    "duration": 5,
    "start_time": "2022-05-27T07:20:24.636Z"
   },
   {
    "duration": 8,
    "start_time": "2022-05-27T07:20:24.643Z"
   },
   {
    "duration": 2812,
    "start_time": "2022-05-27T07:20:24.652Z"
   },
   {
    "duration": 1127,
    "start_time": "2022-05-27T07:20:27.466Z"
   },
   {
    "duration": 2957,
    "start_time": "2022-05-27T07:21:44.690Z"
   },
   {
    "duration": 2756,
    "start_time": "2022-05-27T07:23:51.058Z"
   },
   {
    "duration": 1199,
    "start_time": "2022-05-27T07:36:36.763Z"
   },
   {
    "duration": 1614,
    "start_time": "2022-05-30T09:01:15.587Z"
   },
   {
    "duration": 11,
    "start_time": "2022-05-30T09:01:17.217Z"
   },
   {
    "duration": 717,
    "start_time": "2022-05-30T09:01:17.230Z"
   },
   {
    "duration": 16,
    "start_time": "2022-05-30T09:01:17.950Z"
   },
   {
    "duration": 76,
    "start_time": "2022-05-30T09:01:17.969Z"
   },
   {
    "duration": 80,
    "start_time": "2022-05-30T09:01:18.050Z"
   },
   {
    "duration": 93,
    "start_time": "2022-05-30T09:01:18.135Z"
   },
   {
    "duration": 42,
    "start_time": "2022-05-30T09:01:18.230Z"
   },
   {
    "duration": 167,
    "start_time": "2022-05-30T09:01:18.277Z"
   },
   {
    "duration": 2927,
    "start_time": "2022-05-30T09:01:18.447Z"
   },
   {
    "duration": 5,
    "start_time": "2022-05-30T09:01:21.380Z"
   },
   {
    "duration": 111,
    "start_time": "2022-05-30T09:01:21.390Z"
   },
   {
    "duration": 10,
    "start_time": "2022-05-30T09:01:21.503Z"
   },
   {
    "duration": 19,
    "start_time": "2022-05-30T09:01:21.523Z"
   },
   {
    "duration": 64,
    "start_time": "2022-05-30T09:01:21.544Z"
   },
   {
    "duration": 34,
    "start_time": "2022-05-30T09:01:21.613Z"
   },
   {
    "duration": 60,
    "start_time": "2022-05-30T09:01:21.651Z"
   },
   {
    "duration": 86,
    "start_time": "2022-05-30T09:01:21.713Z"
   },
   {
    "duration": 5,
    "start_time": "2022-05-30T09:01:21.804Z"
   },
   {
    "duration": 27,
    "start_time": "2022-05-30T09:01:21.814Z"
   },
   {
    "duration": 356,
    "start_time": "2022-05-30T09:01:21.844Z"
   },
   {
    "duration": 79,
    "start_time": "2022-05-30T09:01:22.215Z"
   },
   {
    "duration": 35,
    "start_time": "2022-05-30T09:01:22.302Z"
   },
   {
    "duration": 6,
    "start_time": "2022-05-30T09:01:22.339Z"
   },
   {
    "duration": 65,
    "start_time": "2022-05-30T09:01:22.347Z"
   },
   {
    "duration": 108,
    "start_time": "2022-05-30T09:01:22.418Z"
   },
   {
    "duration": 5,
    "start_time": "2022-05-30T09:01:22.534Z"
   },
   {
    "duration": 8,
    "start_time": "2022-05-30T09:01:22.541Z"
   },
   {
    "duration": 53,
    "start_time": "2022-05-30T09:01:22.551Z"
   },
   {
    "duration": 28,
    "start_time": "2022-05-30T09:01:22.606Z"
   },
   {
    "duration": 8,
    "start_time": "2022-05-30T09:01:22.636Z"
   },
   {
    "duration": 19,
    "start_time": "2022-05-30T09:01:22.646Z"
   },
   {
    "duration": 0,
    "start_time": "2022-05-30T09:01:22.679Z"
   },
   {
    "duration": 9371,
    "start_time": "2022-05-30T09:01:53.853Z"
   },
   {
    "duration": 6394,
    "start_time": "2022-05-30T09:03:07.961Z"
   },
   {
    "duration": 6620,
    "start_time": "2022-05-30T09:03:21.541Z"
   },
   {
    "duration": 16353,
    "start_time": "2022-05-30T09:05:20.754Z"
   },
   {
    "duration": 211,
    "start_time": "2022-05-30T09:06:32.586Z"
   },
   {
    "duration": 40,
    "start_time": "2022-05-30T09:06:41.709Z"
   },
   {
    "duration": 10467,
    "start_time": "2022-05-30T09:07:10.916Z"
   },
   {
    "duration": 12158,
    "start_time": "2022-05-30T09:08:35.040Z"
   },
   {
    "duration": 13671,
    "start_time": "2022-05-30T09:09:22.945Z"
   },
   {
    "duration": 11211,
    "start_time": "2022-05-30T09:09:46.142Z"
   },
   {
    "duration": 9611,
    "start_time": "2022-05-30T09:10:26.060Z"
   },
   {
    "duration": 10084,
    "start_time": "2022-05-30T09:10:40.486Z"
   },
   {
    "duration": 10975,
    "start_time": "2022-05-30T09:11:54.099Z"
   },
   {
    "duration": 20909,
    "start_time": "2022-05-30T09:12:54.645Z"
   },
   {
    "duration": 9772,
    "start_time": "2022-05-30T09:14:51.645Z"
   },
   {
    "duration": 8664,
    "start_time": "2022-05-30T09:15:44.641Z"
   },
   {
    "duration": 5314,
    "start_time": "2022-05-30T09:16:11.739Z"
   }
  ],
  "kernelspec": {
   "display_name": "Python 3 (ipykernel)",
   "language": "python",
   "name": "python3"
  },
  "language_info": {
   "codemirror_mode": {
    "name": "ipython",
    "version": 3
   },
   "file_extension": ".py",
   "mimetype": "text/x-python",
   "name": "python",
   "nbconvert_exporter": "python",
   "pygments_lexer": "ipython3",
   "version": "3.9.12"
  },
  "toc": {
   "base_numbering": 1,
   "nav_menu": {},
   "number_sections": true,
   "sideBar": true,
   "skip_h1_title": true,
   "title_cell": "Table of Contents",
   "title_sidebar": "Contents",
   "toc_cell": false,
   "toc_position": {
    "height": "calc(100% - 180px)",
    "left": "10px",
    "top": "150px",
    "width": "331.45px"
   },
   "toc_section_display": true,
   "toc_window_display": true
  }
 },
 "nbformat": 4,
 "nbformat_minor": 2
}

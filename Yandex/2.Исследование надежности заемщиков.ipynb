{
 "cells": [
  {
   "cell_type": "markdown",
   "id": "9a759fbc",
   "metadata": {},
   "source": [
    "# Исследование надежности заемщиков.\n",
    "\n",
    "На данных кредитного отдела банка необходимо выявить факторы, влияющие на степень надежности заемщиков.\n",
    "\n",
    "Цель исследования — определить: влияет ли следующие факторы на факт погашения кредита в срок, \n",
    "\n",
    "- семейное положение\n",
    "- доход\n",
    "- количество детей клиента\n",
    "\n",
    "\n",
    "Ход исследования:\n",
    "\n",
    "1. Обзор данных.\n",
    "2. Предобработка данных.\n",
    "3. Ответы на вопросы\n",
    "\n",
    "Входные данные: `'/datasets/data.csv'`"
   ]
  },
  {
   "cell_type": "markdown",
   "id": "6e33fd5e",
   "metadata": {},
   "source": [
    "<div class=\"alert alert-success\">\n",
    "<b>✔️ Комментарий ревьюера v1:</b> \n",
    "<br>Молодец, что добавляешь описание проекта. Это поможет тебе быстро вспомнить о чем проект, если спустя время ты решишь к нему вернуться)\n",
    "</div>"
   ]
  },
  {
   "cell_type": "markdown",
   "id": "8aa2bdf3",
   "metadata": {},
   "source": [
    "## Обзор данных\n",
    "\n",
    "Импортируем библиотеку pandas, прочтем файл data.csv из папки /datasets, просмотрим информацию о таблице и ее содержание."
   ]
  },
  {
   "cell_type": "code",
   "execution_count": 1,
   "id": "edfaba1a",
   "metadata": {},
   "outputs": [],
   "source": [
    "import pandas as pd"
   ]
  },
  {
   "cell_type": "code",
   "execution_count": 2,
   "id": "b3080c3c",
   "metadata": {},
   "outputs": [
    {
     "name": "stdout",
     "output_type": "stream",
     "text": [
      "<class 'pandas.core.frame.DataFrame'>\n",
      "RangeIndex: 21525 entries, 0 to 21524\n",
      "Data columns (total 12 columns):\n",
      "children            21525 non-null int64\n",
      "days_employed       19351 non-null float64\n",
      "dob_years           21525 non-null int64\n",
      "education           21525 non-null object\n",
      "education_id        21525 non-null int64\n",
      "family_status       21525 non-null object\n",
      "family_status_id    21525 non-null int64\n",
      "gender              21525 non-null object\n",
      "income_type         21525 non-null object\n",
      "debt                21525 non-null int64\n",
      "total_income        19351 non-null float64\n",
      "purpose             21525 non-null object\n",
      "dtypes: float64(2), int64(5), object(5)\n",
      "memory usage: 2.0+ MB\n"
     ]
    }
   ],
   "source": [
    "clients_stat = pd.read_csv('/datasets/data.csv')\n",
    "clients_stat.info()"
   ]
  },
  {
   "cell_type": "code",
   "execution_count": 3,
   "id": "253d913d",
   "metadata": {},
   "outputs": [
    {
     "data": {
      "text/html": [
       "<div>\n",
       "<style scoped>\n",
       "    .dataframe tbody tr th:only-of-type {\n",
       "        vertical-align: middle;\n",
       "    }\n",
       "\n",
       "    .dataframe tbody tr th {\n",
       "        vertical-align: top;\n",
       "    }\n",
       "\n",
       "    .dataframe thead th {\n",
       "        text-align: right;\n",
       "    }\n",
       "</style>\n",
       "<table border=\"1\" class=\"dataframe\">\n",
       "  <thead>\n",
       "    <tr style=\"text-align: right;\">\n",
       "      <th></th>\n",
       "      <th>children</th>\n",
       "      <th>days_employed</th>\n",
       "      <th>dob_years</th>\n",
       "      <th>education</th>\n",
       "      <th>education_id</th>\n",
       "      <th>family_status</th>\n",
       "      <th>family_status_id</th>\n",
       "      <th>gender</th>\n",
       "      <th>income_type</th>\n",
       "      <th>debt</th>\n",
       "      <th>total_income</th>\n",
       "      <th>purpose</th>\n",
       "    </tr>\n",
       "  </thead>\n",
       "  <tbody>\n",
       "    <tr>\n",
       "      <td>0</td>\n",
       "      <td>1</td>\n",
       "      <td>-8437.673028</td>\n",
       "      <td>42</td>\n",
       "      <td>высшее</td>\n",
       "      <td>0</td>\n",
       "      <td>женат / замужем</td>\n",
       "      <td>0</td>\n",
       "      <td>F</td>\n",
       "      <td>сотрудник</td>\n",
       "      <td>0</td>\n",
       "      <td>253875.639453</td>\n",
       "      <td>покупка жилья</td>\n",
       "    </tr>\n",
       "    <tr>\n",
       "      <td>1</td>\n",
       "      <td>1</td>\n",
       "      <td>-4024.803754</td>\n",
       "      <td>36</td>\n",
       "      <td>среднее</td>\n",
       "      <td>1</td>\n",
       "      <td>женат / замужем</td>\n",
       "      <td>0</td>\n",
       "      <td>F</td>\n",
       "      <td>сотрудник</td>\n",
       "      <td>0</td>\n",
       "      <td>112080.014102</td>\n",
       "      <td>приобретение автомобиля</td>\n",
       "    </tr>\n",
       "    <tr>\n",
       "      <td>2</td>\n",
       "      <td>0</td>\n",
       "      <td>-5623.422610</td>\n",
       "      <td>33</td>\n",
       "      <td>Среднее</td>\n",
       "      <td>1</td>\n",
       "      <td>женат / замужем</td>\n",
       "      <td>0</td>\n",
       "      <td>M</td>\n",
       "      <td>сотрудник</td>\n",
       "      <td>0</td>\n",
       "      <td>145885.952297</td>\n",
       "      <td>покупка жилья</td>\n",
       "    </tr>\n",
       "    <tr>\n",
       "      <td>3</td>\n",
       "      <td>3</td>\n",
       "      <td>-4124.747207</td>\n",
       "      <td>32</td>\n",
       "      <td>среднее</td>\n",
       "      <td>1</td>\n",
       "      <td>женат / замужем</td>\n",
       "      <td>0</td>\n",
       "      <td>M</td>\n",
       "      <td>сотрудник</td>\n",
       "      <td>0</td>\n",
       "      <td>267628.550329</td>\n",
       "      <td>дополнительное образование</td>\n",
       "    </tr>\n",
       "    <tr>\n",
       "      <td>4</td>\n",
       "      <td>0</td>\n",
       "      <td>340266.072047</td>\n",
       "      <td>53</td>\n",
       "      <td>среднее</td>\n",
       "      <td>1</td>\n",
       "      <td>гражданский брак</td>\n",
       "      <td>1</td>\n",
       "      <td>F</td>\n",
       "      <td>пенсионер</td>\n",
       "      <td>0</td>\n",
       "      <td>158616.077870</td>\n",
       "      <td>сыграть свадьбу</td>\n",
       "    </tr>\n",
       "    <tr>\n",
       "      <td>5</td>\n",
       "      <td>0</td>\n",
       "      <td>-926.185831</td>\n",
       "      <td>27</td>\n",
       "      <td>высшее</td>\n",
       "      <td>0</td>\n",
       "      <td>гражданский брак</td>\n",
       "      <td>1</td>\n",
       "      <td>M</td>\n",
       "      <td>компаньон</td>\n",
       "      <td>0</td>\n",
       "      <td>255763.565419</td>\n",
       "      <td>покупка жилья</td>\n",
       "    </tr>\n",
       "    <tr>\n",
       "      <td>6</td>\n",
       "      <td>0</td>\n",
       "      <td>-2879.202052</td>\n",
       "      <td>43</td>\n",
       "      <td>высшее</td>\n",
       "      <td>0</td>\n",
       "      <td>женат / замужем</td>\n",
       "      <td>0</td>\n",
       "      <td>F</td>\n",
       "      <td>компаньон</td>\n",
       "      <td>0</td>\n",
       "      <td>240525.971920</td>\n",
       "      <td>операции с жильем</td>\n",
       "    </tr>\n",
       "    <tr>\n",
       "      <td>7</td>\n",
       "      <td>0</td>\n",
       "      <td>-152.779569</td>\n",
       "      <td>50</td>\n",
       "      <td>СРЕДНЕЕ</td>\n",
       "      <td>1</td>\n",
       "      <td>женат / замужем</td>\n",
       "      <td>0</td>\n",
       "      <td>M</td>\n",
       "      <td>сотрудник</td>\n",
       "      <td>0</td>\n",
       "      <td>135823.934197</td>\n",
       "      <td>образование</td>\n",
       "    </tr>\n",
       "    <tr>\n",
       "      <td>8</td>\n",
       "      <td>2</td>\n",
       "      <td>-6929.865299</td>\n",
       "      <td>35</td>\n",
       "      <td>ВЫСШЕЕ</td>\n",
       "      <td>0</td>\n",
       "      <td>гражданский брак</td>\n",
       "      <td>1</td>\n",
       "      <td>F</td>\n",
       "      <td>сотрудник</td>\n",
       "      <td>0</td>\n",
       "      <td>95856.832424</td>\n",
       "      <td>на проведение свадьбы</td>\n",
       "    </tr>\n",
       "    <tr>\n",
       "      <td>9</td>\n",
       "      <td>0</td>\n",
       "      <td>-2188.756445</td>\n",
       "      <td>41</td>\n",
       "      <td>среднее</td>\n",
       "      <td>1</td>\n",
       "      <td>женат / замужем</td>\n",
       "      <td>0</td>\n",
       "      <td>M</td>\n",
       "      <td>сотрудник</td>\n",
       "      <td>0</td>\n",
       "      <td>144425.938277</td>\n",
       "      <td>покупка жилья для семьи</td>\n",
       "    </tr>\n",
       "  </tbody>\n",
       "</table>\n",
       "</div>"
      ],
      "text/plain": [
       "   children  days_employed  dob_years education  education_id  \\\n",
       "0         1   -8437.673028         42    высшее             0   \n",
       "1         1   -4024.803754         36   среднее             1   \n",
       "2         0   -5623.422610         33   Среднее             1   \n",
       "3         3   -4124.747207         32   среднее             1   \n",
       "4         0  340266.072047         53   среднее             1   \n",
       "5         0    -926.185831         27    высшее             0   \n",
       "6         0   -2879.202052         43    высшее             0   \n",
       "7         0    -152.779569         50   СРЕДНЕЕ             1   \n",
       "8         2   -6929.865299         35    ВЫСШЕЕ             0   \n",
       "9         0   -2188.756445         41   среднее             1   \n",
       "\n",
       "      family_status  family_status_id gender income_type  debt   total_income  \\\n",
       "0   женат / замужем                 0      F   сотрудник     0  253875.639453   \n",
       "1   женат / замужем                 0      F   сотрудник     0  112080.014102   \n",
       "2   женат / замужем                 0      M   сотрудник     0  145885.952297   \n",
       "3   женат / замужем                 0      M   сотрудник     0  267628.550329   \n",
       "4  гражданский брак                 1      F   пенсионер     0  158616.077870   \n",
       "5  гражданский брак                 1      M   компаньон     0  255763.565419   \n",
       "6   женат / замужем                 0      F   компаньон     0  240525.971920   \n",
       "7   женат / замужем                 0      M   сотрудник     0  135823.934197   \n",
       "8  гражданский брак                 1      F   сотрудник     0   95856.832424   \n",
       "9   женат / замужем                 0      M   сотрудник     0  144425.938277   \n",
       "\n",
       "                      purpose  \n",
       "0               покупка жилья  \n",
       "1     приобретение автомобиля  \n",
       "2               покупка жилья  \n",
       "3  дополнительное образование  \n",
       "4             сыграть свадьбу  \n",
       "5               покупка жилья  \n",
       "6           операции с жильем  \n",
       "7                 образование  \n",
       "8       на проведение свадьбы  \n",
       "9     покупка жилья для семьи  "
      ]
     },
     "execution_count": 3,
     "metadata": {},
     "output_type": "execute_result"
    }
   ],
   "source": [
    "clients_stat.head(10)"
   ]
  },
  {
   "cell_type": "markdown",
   "id": "a2d6eca0",
   "metadata": {},
   "source": [
    " Описание данных: \n",
    "\n",
    "* `children` — количество детей в семье. Тип int\n",
    "* `days_employed` — общий трудовой стаж в днях. Тип float\n",
    "* `dob_years` — возраст клиента в годах. Тип int\n",
    "* `education` — уровень образования клиента. Тип object\n",
    "* `education_id` — идентификатор уровня образования Тип int\n",
    "* `family_status` — семейное положение. Тип object\n",
    "* `family_status_id` — идентификатор семейного положения. Тип int\n",
    "* `gender` — пол клиента. Тип object\n",
    "* `income_type` — тип занятости. Тип object\n",
    "* `debt` — имел ли задолженность по возврату кредитов. Тип int\n",
    "* `total_income` — ежемесячный доход. Тип float\n",
    "* `purpose` — цель получения кредита. Тип object\n",
    "\n",
    "В названиях колонок нарушений нет.\n",
    "Количество значений в столбцах различается. Значит, в данных есть пропущенные значения."
   ]
  },
  {
   "cell_type": "code",
   "execution_count": 4,
   "id": "d15e7621",
   "metadata": {},
   "outputs": [
    {
     "data": {
      "text/html": [
       "<div>\n",
       "<style scoped>\n",
       "    .dataframe tbody tr th:only-of-type {\n",
       "        vertical-align: middle;\n",
       "    }\n",
       "\n",
       "    .dataframe tbody tr th {\n",
       "        vertical-align: top;\n",
       "    }\n",
       "\n",
       "    .dataframe thead th {\n",
       "        text-align: right;\n",
       "    }\n",
       "</style>\n",
       "<table border=\"1\" class=\"dataframe\">\n",
       "  <thead>\n",
       "    <tr style=\"text-align: right;\">\n",
       "      <th></th>\n",
       "      <th>children</th>\n",
       "      <th>days_employed</th>\n",
       "      <th>dob_years</th>\n",
       "      <th>education_id</th>\n",
       "      <th>family_status_id</th>\n",
       "      <th>debt</th>\n",
       "      <th>total_income</th>\n",
       "    </tr>\n",
       "  </thead>\n",
       "  <tbody>\n",
       "    <tr>\n",
       "      <td>count</td>\n",
       "      <td>21525.000000</td>\n",
       "      <td>19351.000000</td>\n",
       "      <td>21525.000000</td>\n",
       "      <td>21525.000000</td>\n",
       "      <td>21525.000000</td>\n",
       "      <td>21525.000000</td>\n",
       "      <td>1.935100e+04</td>\n",
       "    </tr>\n",
       "    <tr>\n",
       "      <td>mean</td>\n",
       "      <td>0.538908</td>\n",
       "      <td>63046.497661</td>\n",
       "      <td>43.293380</td>\n",
       "      <td>0.817236</td>\n",
       "      <td>0.972544</td>\n",
       "      <td>0.080883</td>\n",
       "      <td>1.674223e+05</td>\n",
       "    </tr>\n",
       "    <tr>\n",
       "      <td>std</td>\n",
       "      <td>1.381587</td>\n",
       "      <td>140827.311974</td>\n",
       "      <td>12.574584</td>\n",
       "      <td>0.548138</td>\n",
       "      <td>1.420324</td>\n",
       "      <td>0.272661</td>\n",
       "      <td>1.029716e+05</td>\n",
       "    </tr>\n",
       "    <tr>\n",
       "      <td>min</td>\n",
       "      <td>-1.000000</td>\n",
       "      <td>-18388.949901</td>\n",
       "      <td>0.000000</td>\n",
       "      <td>0.000000</td>\n",
       "      <td>0.000000</td>\n",
       "      <td>0.000000</td>\n",
       "      <td>2.066726e+04</td>\n",
       "    </tr>\n",
       "    <tr>\n",
       "      <td>25%</td>\n",
       "      <td>0.000000</td>\n",
       "      <td>-2747.423625</td>\n",
       "      <td>33.000000</td>\n",
       "      <td>1.000000</td>\n",
       "      <td>0.000000</td>\n",
       "      <td>0.000000</td>\n",
       "      <td>1.030532e+05</td>\n",
       "    </tr>\n",
       "    <tr>\n",
       "      <td>50%</td>\n",
       "      <td>0.000000</td>\n",
       "      <td>-1203.369529</td>\n",
       "      <td>42.000000</td>\n",
       "      <td>1.000000</td>\n",
       "      <td>0.000000</td>\n",
       "      <td>0.000000</td>\n",
       "      <td>1.450179e+05</td>\n",
       "    </tr>\n",
       "    <tr>\n",
       "      <td>75%</td>\n",
       "      <td>1.000000</td>\n",
       "      <td>-291.095954</td>\n",
       "      <td>53.000000</td>\n",
       "      <td>1.000000</td>\n",
       "      <td>1.000000</td>\n",
       "      <td>0.000000</td>\n",
       "      <td>2.034351e+05</td>\n",
       "    </tr>\n",
       "    <tr>\n",
       "      <td>max</td>\n",
       "      <td>20.000000</td>\n",
       "      <td>401755.400475</td>\n",
       "      <td>75.000000</td>\n",
       "      <td>4.000000</td>\n",
       "      <td>4.000000</td>\n",
       "      <td>1.000000</td>\n",
       "      <td>2.265604e+06</td>\n",
       "    </tr>\n",
       "  </tbody>\n",
       "</table>\n",
       "</div>"
      ],
      "text/plain": [
       "           children  days_employed     dob_years  education_id  \\\n",
       "count  21525.000000   19351.000000  21525.000000  21525.000000   \n",
       "mean       0.538908   63046.497661     43.293380      0.817236   \n",
       "std        1.381587  140827.311974     12.574584      0.548138   \n",
       "min       -1.000000  -18388.949901      0.000000      0.000000   \n",
       "25%        0.000000   -2747.423625     33.000000      1.000000   \n",
       "50%        0.000000   -1203.369529     42.000000      1.000000   \n",
       "75%        1.000000    -291.095954     53.000000      1.000000   \n",
       "max       20.000000  401755.400475     75.000000      4.000000   \n",
       "\n",
       "       family_status_id          debt  total_income  \n",
       "count      21525.000000  21525.000000  1.935100e+04  \n",
       "mean           0.972544      0.080883  1.674223e+05  \n",
       "std            1.420324      0.272661  1.029716e+05  \n",
       "min            0.000000      0.000000  2.066726e+04  \n",
       "25%            0.000000      0.000000  1.030532e+05  \n",
       "50%            0.000000      0.000000  1.450179e+05  \n",
       "75%            1.000000      0.000000  2.034351e+05  \n",
       "max            4.000000      1.000000  2.265604e+06  "
      ]
     },
     "execution_count": 4,
     "metadata": {},
     "output_type": "execute_result"
    }
   ],
   "source": [
    "clients_stat.describe()"
   ]
  },
  {
   "cell_type": "markdown",
   "id": "a6fce941",
   "metadata": {},
   "source": [
    "## Предобработка данных"
   ]
  },
  {
   "cell_type": "markdown",
   "id": "8c89d891",
   "metadata": {},
   "source": [
    "### Заполнение пропусков\n",
    "\n",
    "Посчитаем сколько в таблице пропущенных значений."
   ]
  },
  {
   "cell_type": "code",
   "execution_count": 5,
   "id": "4e53fb1e",
   "metadata": {},
   "outputs": [
    {
     "data": {
      "text/plain": [
       "children               0\n",
       "days_employed       2174\n",
       "dob_years              0\n",
       "education              0\n",
       "education_id           0\n",
       "family_status          0\n",
       "family_status_id       0\n",
       "gender                 0\n",
       "income_type            0\n",
       "debt                   0\n",
       "total_income        2174\n",
       "purpose                0\n",
       "dtype: int64"
      ]
     },
     "execution_count": 5,
     "metadata": {},
     "output_type": "execute_result"
    }
   ],
   "source": [
    "clients_stat.isna().sum() # подсчёт пропусков"
   ]
  },
  {
   "cell_type": "markdown",
   "id": "be43877b",
   "metadata": {},
   "source": [
    "Пропуски в столбцах days_employed и total_income. Причем одинаковое кол-во 2174. Просмотрим строки с пропусками, возможно есть еще закономерность."
   ]
  },
  {
   "cell_type": "code",
   "execution_count": 6,
   "id": "a7a553ab",
   "metadata": {},
   "outputs": [
    {
     "data": {
      "text/html": [
       "<div>\n",
       "<style scoped>\n",
       "    .dataframe tbody tr th:only-of-type {\n",
       "        vertical-align: middle;\n",
       "    }\n",
       "\n",
       "    .dataframe tbody tr th {\n",
       "        vertical-align: top;\n",
       "    }\n",
       "\n",
       "    .dataframe thead th {\n",
       "        text-align: right;\n",
       "    }\n",
       "</style>\n",
       "<table border=\"1\" class=\"dataframe\">\n",
       "  <thead>\n",
       "    <tr style=\"text-align: right;\">\n",
       "      <th></th>\n",
       "      <th>children</th>\n",
       "      <th>days_employed</th>\n",
       "      <th>dob_years</th>\n",
       "      <th>education</th>\n",
       "      <th>education_id</th>\n",
       "      <th>family_status</th>\n",
       "      <th>family_status_id</th>\n",
       "      <th>gender</th>\n",
       "      <th>income_type</th>\n",
       "      <th>debt</th>\n",
       "      <th>total_income</th>\n",
       "      <th>purpose</th>\n",
       "    </tr>\n",
       "  </thead>\n",
       "  <tbody>\n",
       "    <tr>\n",
       "      <td>12</td>\n",
       "      <td>0</td>\n",
       "      <td>NaN</td>\n",
       "      <td>65</td>\n",
       "      <td>среднее</td>\n",
       "      <td>1</td>\n",
       "      <td>гражданский брак</td>\n",
       "      <td>1</td>\n",
       "      <td>M</td>\n",
       "      <td>пенсионер</td>\n",
       "      <td>0</td>\n",
       "      <td>NaN</td>\n",
       "      <td>сыграть свадьбу</td>\n",
       "    </tr>\n",
       "    <tr>\n",
       "      <td>26</td>\n",
       "      <td>0</td>\n",
       "      <td>NaN</td>\n",
       "      <td>41</td>\n",
       "      <td>среднее</td>\n",
       "      <td>1</td>\n",
       "      <td>женат / замужем</td>\n",
       "      <td>0</td>\n",
       "      <td>M</td>\n",
       "      <td>госслужащий</td>\n",
       "      <td>0</td>\n",
       "      <td>NaN</td>\n",
       "      <td>образование</td>\n",
       "    </tr>\n",
       "    <tr>\n",
       "      <td>29</td>\n",
       "      <td>0</td>\n",
       "      <td>NaN</td>\n",
       "      <td>63</td>\n",
       "      <td>среднее</td>\n",
       "      <td>1</td>\n",
       "      <td>Не женат / не замужем</td>\n",
       "      <td>4</td>\n",
       "      <td>F</td>\n",
       "      <td>пенсионер</td>\n",
       "      <td>0</td>\n",
       "      <td>NaN</td>\n",
       "      <td>строительство жилой недвижимости</td>\n",
       "    </tr>\n",
       "    <tr>\n",
       "      <td>41</td>\n",
       "      <td>0</td>\n",
       "      <td>NaN</td>\n",
       "      <td>50</td>\n",
       "      <td>среднее</td>\n",
       "      <td>1</td>\n",
       "      <td>женат / замужем</td>\n",
       "      <td>0</td>\n",
       "      <td>F</td>\n",
       "      <td>госслужащий</td>\n",
       "      <td>0</td>\n",
       "      <td>NaN</td>\n",
       "      <td>сделка с подержанным автомобилем</td>\n",
       "    </tr>\n",
       "    <tr>\n",
       "      <td>55</td>\n",
       "      <td>0</td>\n",
       "      <td>NaN</td>\n",
       "      <td>54</td>\n",
       "      <td>среднее</td>\n",
       "      <td>1</td>\n",
       "      <td>гражданский брак</td>\n",
       "      <td>1</td>\n",
       "      <td>F</td>\n",
       "      <td>пенсионер</td>\n",
       "      <td>1</td>\n",
       "      <td>NaN</td>\n",
       "      <td>сыграть свадьбу</td>\n",
       "    </tr>\n",
       "    <tr>\n",
       "      <td>65</td>\n",
       "      <td>0</td>\n",
       "      <td>NaN</td>\n",
       "      <td>21</td>\n",
       "      <td>среднее</td>\n",
       "      <td>1</td>\n",
       "      <td>Не женат / не замужем</td>\n",
       "      <td>4</td>\n",
       "      <td>M</td>\n",
       "      <td>компаньон</td>\n",
       "      <td>0</td>\n",
       "      <td>NaN</td>\n",
       "      <td>операции с коммерческой недвижимостью</td>\n",
       "    </tr>\n",
       "    <tr>\n",
       "      <td>67</td>\n",
       "      <td>0</td>\n",
       "      <td>NaN</td>\n",
       "      <td>52</td>\n",
       "      <td>высшее</td>\n",
       "      <td>0</td>\n",
       "      <td>женат / замужем</td>\n",
       "      <td>0</td>\n",
       "      <td>F</td>\n",
       "      <td>пенсионер</td>\n",
       "      <td>0</td>\n",
       "      <td>NaN</td>\n",
       "      <td>покупка жилья для семьи</td>\n",
       "    </tr>\n",
       "    <tr>\n",
       "      <td>72</td>\n",
       "      <td>1</td>\n",
       "      <td>NaN</td>\n",
       "      <td>32</td>\n",
       "      <td>высшее</td>\n",
       "      <td>0</td>\n",
       "      <td>женат / замужем</td>\n",
       "      <td>0</td>\n",
       "      <td>M</td>\n",
       "      <td>госслужащий</td>\n",
       "      <td>0</td>\n",
       "      <td>NaN</td>\n",
       "      <td>операции с коммерческой недвижимостью</td>\n",
       "    </tr>\n",
       "    <tr>\n",
       "      <td>82</td>\n",
       "      <td>2</td>\n",
       "      <td>NaN</td>\n",
       "      <td>50</td>\n",
       "      <td>высшее</td>\n",
       "      <td>0</td>\n",
       "      <td>женат / замужем</td>\n",
       "      <td>0</td>\n",
       "      <td>F</td>\n",
       "      <td>сотрудник</td>\n",
       "      <td>0</td>\n",
       "      <td>NaN</td>\n",
       "      <td>жилье</td>\n",
       "    </tr>\n",
       "    <tr>\n",
       "      <td>83</td>\n",
       "      <td>0</td>\n",
       "      <td>NaN</td>\n",
       "      <td>52</td>\n",
       "      <td>среднее</td>\n",
       "      <td>1</td>\n",
       "      <td>женат / замужем</td>\n",
       "      <td>0</td>\n",
       "      <td>M</td>\n",
       "      <td>сотрудник</td>\n",
       "      <td>0</td>\n",
       "      <td>NaN</td>\n",
       "      <td>жилье</td>\n",
       "    </tr>\n",
       "  </tbody>\n",
       "</table>\n",
       "</div>"
      ],
      "text/plain": [
       "    children  days_employed  dob_years education  education_id  \\\n",
       "12         0            NaN         65   среднее             1   \n",
       "26         0            NaN         41   среднее             1   \n",
       "29         0            NaN         63   среднее             1   \n",
       "41         0            NaN         50   среднее             1   \n",
       "55         0            NaN         54   среднее             1   \n",
       "65         0            NaN         21   среднее             1   \n",
       "67         0            NaN         52    высшее             0   \n",
       "72         1            NaN         32    высшее             0   \n",
       "82         2            NaN         50    высшее             0   \n",
       "83         0            NaN         52   среднее             1   \n",
       "\n",
       "            family_status  family_status_id gender  income_type  debt  \\\n",
       "12       гражданский брак                 1      M    пенсионер     0   \n",
       "26        женат / замужем                 0      M  госслужащий     0   \n",
       "29  Не женат / не замужем                 4      F    пенсионер     0   \n",
       "41        женат / замужем                 0      F  госслужащий     0   \n",
       "55       гражданский брак                 1      F    пенсионер     1   \n",
       "65  Не женат / не замужем                 4      M    компаньон     0   \n",
       "67        женат / замужем                 0      F    пенсионер     0   \n",
       "72        женат / замужем                 0      M  госслужащий     0   \n",
       "82        женат / замужем                 0      F    сотрудник     0   \n",
       "83        женат / замужем                 0      M    сотрудник     0   \n",
       "\n",
       "    total_income                                purpose  \n",
       "12           NaN                        сыграть свадьбу  \n",
       "26           NaN                            образование  \n",
       "29           NaN       строительство жилой недвижимости  \n",
       "41           NaN       сделка с подержанным автомобилем  \n",
       "55           NaN                        сыграть свадьбу  \n",
       "65           NaN  операции с коммерческой недвижимостью  \n",
       "67           NaN                покупка жилья для семьи  \n",
       "72           NaN  операции с коммерческой недвижимостью  \n",
       "82           NaN                                  жилье  \n",
       "83           NaN                                  жилье  "
      ]
     },
     "execution_count": 6,
     "metadata": {},
     "output_type": "execute_result"
    }
   ],
   "source": [
    "clients_stat[clients_stat['days_employed'].isna()].head(10)"
   ]
  },
  {
   "cell_type": "markdown",
   "id": "0586b66f",
   "metadata": {},
   "source": [
    "Очевидных закономерностей нет, кроме того, что пропуск в каждой строке одновременно в обоих столбцах.\n",
    "Оба столбца несут важную информацию, которая влияет на результат исследования. \n",
    "Посмотрим  какую долю составляют пропущенные значения в каждом из столбцов с пропусками, кол-во строк на кол-во пропусков:"
   ]
  },
  {
   "cell_type": "code",
   "execution_count": 7,
   "id": "56d0805e",
   "metadata": {},
   "outputs": [
    {
     "data": {
      "text/plain": [
       "0.11234561521368405"
      ]
     },
     "execution_count": 7,
     "metadata": {},
     "output_type": "execute_result"
    }
   ],
   "source": [
    "clients_stat['days_employed'].isna().sum()/clients_stat['days_employed'].count()"
   ]
  },
  {
   "cell_type": "code",
   "execution_count": 8,
   "id": "7b94f6c9",
   "metadata": {},
   "outputs": [
    {
     "data": {
      "text/plain": [
       "0.11234561521368405"
      ]
     },
     "execution_count": 8,
     "metadata": {},
     "output_type": "execute_result"
    }
   ],
   "source": [
    "clients_stat['total_income'].isna().sum()/clients_stat['total_income'].count()"
   ]
  },
  {
   "cell_type": "code",
   "execution_count": 9,
   "id": "0813b29e",
   "metadata": {},
   "outputs": [
    {
     "data": {
      "text/plain": [
       "0.10099883855981417"
      ]
     },
     "execution_count": 9,
     "metadata": {},
     "output_type": "execute_result"
    }
   ],
   "source": [
    "clients_stat['days_employed'].isna().mean()"
   ]
  },
  {
   "cell_type": "code",
   "execution_count": 10,
   "id": "ac6e6c55",
   "metadata": {},
   "outputs": [
    {
     "data": {
      "text/plain": [
       "0.10099883855981417"
      ]
     },
     "execution_count": 10,
     "metadata": {},
     "output_type": "execute_result"
    }
   ],
   "source": [
    "clients_stat['total_income'].isna().mean()"
   ]
  },
  {
   "cell_type": "markdown",
   "id": "f4ab6598",
   "metadata": {},
   "source": [
    "Доля пропусков 10%.\n",
    "Заполнить пропуски необходимо числовыми значениями, чтобы была возможность без проблем производить мат операции. \n",
    "Заполнить средними значемниями лучшее решение, так как наимение серьезно повлияет на результат. Заполнение нулями может дать сильное отклонение"
   ]
  },
  {
   "cell_type": "code",
   "execution_count": 11,
   "id": "a9f157e3",
   "metadata": {},
   "outputs": [
    {
     "data": {
      "text/plain": [
       "145017.93753253992"
      ]
     },
     "execution_count": 11,
     "metadata": {},
     "output_type": "execute_result"
    }
   ],
   "source": [
    "days_employed_median = clients_stat['days_employed'].median() #вычисление среднего значения\n",
    "total_income_median = clients_stat['total_income'].median()\n",
    "total_income_median"
   ]
  },
  {
   "cell_type": "code",
   "execution_count": 12,
   "id": "f9c04bc2",
   "metadata": {},
   "outputs": [
    {
     "data": {
      "text/plain": [
       "children            0\n",
       "days_employed       0\n",
       "dob_years           0\n",
       "education           0\n",
       "education_id        0\n",
       "family_status       0\n",
       "family_status_id    0\n",
       "gender              0\n",
       "income_type         0\n",
       "debt                0\n",
       "total_income        0\n",
       "purpose             0\n",
       "dtype: int64"
      ]
     },
     "execution_count": 12,
     "metadata": {},
     "output_type": "execute_result"
    }
   ],
   "source": [
    "# заполнение средними пропусков значениями\n",
    "clients_stat['days_employed'] = clients_stat['days_employed'].fillna(days_employed_median)\n",
    "clients_stat['total_income'] = clients_stat['total_income'].fillna(total_income_median)\n",
    "\n",
    "clients_stat.isna().sum() #проверка"
   ]
  },
  {
   "cell_type": "markdown",
   "id": "4ed5ad4e",
   "metadata": {},
   "source": [
    "###  Проверка данных на аномалии и исправления."
   ]
  },
  {
   "cell_type": "markdown",
   "id": "0c1c3b05",
   "metadata": {},
   "source": [
    "Таблица содержит количественные и категориальные переменные.\n",
    "\n",
    "1. Проверим количественные переменные (children, days_employed, total_income): \n",
    "\n",
    "- выбросы с отрицательным значением\n",
    "- выбросы со слишком большим значением"
   ]
  },
  {
   "cell_type": "markdown",
   "id": "1274ada2",
   "metadata": {},
   "source": [
    "Проверка столбца children:"
   ]
  },
  {
   "cell_type": "code",
   "execution_count": 13,
   "id": "052e09c3",
   "metadata": {},
   "outputs": [
    {
     "data": {
      "text/plain": [
       "47"
      ]
     },
     "execution_count": 13,
     "metadata": {},
     "output_type": "execute_result"
    }
   ],
   "source": [
    "# Поиск отрицательных значений:\n",
    "len(clients_stat.loc[clients_stat['children'] < 0])"
   ]
  },
  {
   "cell_type": "code",
   "execution_count": 14,
   "id": "afcea729",
   "metadata": {},
   "outputs": [
    {
     "data": {
      "text/plain": [
       "47"
      ]
     },
     "execution_count": 14,
     "metadata": {},
     "output_type": "execute_result"
    }
   ],
   "source": [
    "len(clients_stat.loc[clients_stat['children'] == -1])"
   ]
  },
  {
   "cell_type": "code",
   "execution_count": 15,
   "id": "a27bd310",
   "metadata": {},
   "outputs": [
    {
     "data": {
      "text/plain": [
       "0"
      ]
     },
     "execution_count": 15,
     "metadata": {},
     "output_type": "execute_result"
    }
   ],
   "source": [
    "# В столбце 47 строк с отрицательным значением в столбце children. \n",
    "# Все значения равны -1, вероятнее всего имелось в виду 1.\n",
    "# Заменим эти значения:\n",
    "\n",
    "clients_stat['children'] = clients_stat['children'].replace(-1 , 1)\n",
    "len(clients_stat.loc[clients_stat['children'] < 0])"
   ]
  },
  {
   "cell_type": "code",
   "execution_count": 16,
   "id": "2549b1c2",
   "metadata": {},
   "outputs": [
    {
     "data": {
      "text/plain": [
       "15812    20\n",
       "16795    20\n",
       "15313    20\n",
       "5020     20\n",
       "3302     20\n",
       "Name: children, dtype: int64"
      ]
     },
     "execution_count": 16,
     "metadata": {},
     "output_type": "execute_result"
    }
   ],
   "source": [
    "# Поиск аномально больших значний. Отсортируем данные столбца в порядке убывания:\n",
    "clients_stat['children'].sort_values(ascending = False).head()"
   ]
  },
  {
   "cell_type": "code",
   "execution_count": 17,
   "id": "d5518764",
   "metadata": {},
   "outputs": [
    {
     "data": {
      "text/plain": [
       "76"
      ]
     },
     "execution_count": 17,
     "metadata": {},
     "output_type": "execute_result"
    }
   ],
   "source": [
    "#len(clients_stat.loc[clients_stat['children'] > 5])\n",
    "len(clients_stat.loc[clients_stat['children'] == 20])"
   ]
  },
  {
   "cell_type": "code",
   "execution_count": 18,
   "id": "f0e0bcbd",
   "metadata": {},
   "outputs": [
    {
     "data": {
      "text/plain": [
       "0"
      ]
     },
     "execution_count": 18,
     "metadata": {},
     "output_type": "execute_result"
    }
   ],
   "source": [
    "# в столбце 76 значений равных 20. \n",
    "# Так как этот столбец содержит информацию о кол-ве детей, это аномальный показатель, \n",
    "# причем показателей в интервале (5,20) нет, вероятней всего имелось в виду 2. Так же два является медианным значением.\n",
    "# Заменим значения:\n",
    "\n",
    "clients_stat['children'] = clients_stat['children'].replace(20, 2)\n",
    "len(clients_stat.loc[clients_stat['children'] == 20])"
   ]
  },
  {
   "cell_type": "markdown",
   "id": "9a3bfc2e",
   "metadata": {},
   "source": [
    "По аналогии обработаем остальные столбцы.\n",
    "\n",
    "Проверка столбца days_employed"
   ]
  },
  {
   "cell_type": "code",
   "execution_count": 19,
   "id": "4fdde70e",
   "metadata": {},
   "outputs": [
    {
     "data": {
      "text/plain": [
       "18080"
      ]
     },
     "execution_count": 19,
     "metadata": {},
     "output_type": "execute_result"
    }
   ],
   "source": [
    "len(clients_stat.loc[clients_stat['days_employed'] < 0])"
   ]
  },
  {
   "cell_type": "code",
   "execution_count": 20,
   "id": "33fe3eac",
   "metadata": {},
   "outputs": [
    {
     "data": {
      "text/html": [
       "<div>\n",
       "<style scoped>\n",
       "    .dataframe tbody tr th:only-of-type {\n",
       "        vertical-align: middle;\n",
       "    }\n",
       "\n",
       "    .dataframe tbody tr th {\n",
       "        vertical-align: top;\n",
       "    }\n",
       "\n",
       "    .dataframe thead th {\n",
       "        text-align: right;\n",
       "    }\n",
       "</style>\n",
       "<table border=\"1\" class=\"dataframe\">\n",
       "  <thead>\n",
       "    <tr style=\"text-align: right;\">\n",
       "      <th></th>\n",
       "      <th>children</th>\n",
       "      <th>days_employed</th>\n",
       "      <th>dob_years</th>\n",
       "      <th>education</th>\n",
       "      <th>education_id</th>\n",
       "      <th>family_status</th>\n",
       "      <th>family_status_id</th>\n",
       "      <th>gender</th>\n",
       "      <th>income_type</th>\n",
       "      <th>debt</th>\n",
       "      <th>total_income</th>\n",
       "      <th>purpose</th>\n",
       "    </tr>\n",
       "  </thead>\n",
       "  <tbody>\n",
       "    <tr>\n",
       "      <td>0</td>\n",
       "      <td>1</td>\n",
       "      <td>-8437.673028</td>\n",
       "      <td>42</td>\n",
       "      <td>высшее</td>\n",
       "      <td>0</td>\n",
       "      <td>женат / замужем</td>\n",
       "      <td>0</td>\n",
       "      <td>F</td>\n",
       "      <td>сотрудник</td>\n",
       "      <td>0</td>\n",
       "      <td>253875.639453</td>\n",
       "      <td>покупка жилья</td>\n",
       "    </tr>\n",
       "    <tr>\n",
       "      <td>1</td>\n",
       "      <td>1</td>\n",
       "      <td>-4024.803754</td>\n",
       "      <td>36</td>\n",
       "      <td>среднее</td>\n",
       "      <td>1</td>\n",
       "      <td>женат / замужем</td>\n",
       "      <td>0</td>\n",
       "      <td>F</td>\n",
       "      <td>сотрудник</td>\n",
       "      <td>0</td>\n",
       "      <td>112080.014102</td>\n",
       "      <td>приобретение автомобиля</td>\n",
       "    </tr>\n",
       "    <tr>\n",
       "      <td>2</td>\n",
       "      <td>0</td>\n",
       "      <td>-5623.422610</td>\n",
       "      <td>33</td>\n",
       "      <td>Среднее</td>\n",
       "      <td>1</td>\n",
       "      <td>женат / замужем</td>\n",
       "      <td>0</td>\n",
       "      <td>M</td>\n",
       "      <td>сотрудник</td>\n",
       "      <td>0</td>\n",
       "      <td>145885.952297</td>\n",
       "      <td>покупка жилья</td>\n",
       "    </tr>\n",
       "    <tr>\n",
       "      <td>3</td>\n",
       "      <td>3</td>\n",
       "      <td>-4124.747207</td>\n",
       "      <td>32</td>\n",
       "      <td>среднее</td>\n",
       "      <td>1</td>\n",
       "      <td>женат / замужем</td>\n",
       "      <td>0</td>\n",
       "      <td>M</td>\n",
       "      <td>сотрудник</td>\n",
       "      <td>0</td>\n",
       "      <td>267628.550329</td>\n",
       "      <td>дополнительное образование</td>\n",
       "    </tr>\n",
       "    <tr>\n",
       "      <td>5</td>\n",
       "      <td>0</td>\n",
       "      <td>-926.185831</td>\n",
       "      <td>27</td>\n",
       "      <td>высшее</td>\n",
       "      <td>0</td>\n",
       "      <td>гражданский брак</td>\n",
       "      <td>1</td>\n",
       "      <td>M</td>\n",
       "      <td>компаньон</td>\n",
       "      <td>0</td>\n",
       "      <td>255763.565419</td>\n",
       "      <td>покупка жилья</td>\n",
       "    </tr>\n",
       "  </tbody>\n",
       "</table>\n",
       "</div>"
      ],
      "text/plain": [
       "   children  days_employed  dob_years education  education_id  \\\n",
       "0         1   -8437.673028         42    высшее             0   \n",
       "1         1   -4024.803754         36   среднее             1   \n",
       "2         0   -5623.422610         33   Среднее             1   \n",
       "3         3   -4124.747207         32   среднее             1   \n",
       "5         0    -926.185831         27    высшее             0   \n",
       "\n",
       "      family_status  family_status_id gender income_type  debt   total_income  \\\n",
       "0   женат / замужем                 0      F   сотрудник     0  253875.639453   \n",
       "1   женат / замужем                 0      F   сотрудник     0  112080.014102   \n",
       "2   женат / замужем                 0      M   сотрудник     0  145885.952297   \n",
       "3   женат / замужем                 0      M   сотрудник     0  267628.550329   \n",
       "5  гражданский брак                 1      M   компаньон     0  255763.565419   \n",
       "\n",
       "                      purpose  \n",
       "0               покупка жилья  \n",
       "1     приобретение автомобиля  \n",
       "2               покупка жилья  \n",
       "3  дополнительное образование  \n",
       "5               покупка жилья  "
      ]
     },
     "execution_count": 20,
     "metadata": {},
     "output_type": "execute_result"
    }
   ],
   "source": [
    "clients_stat.loc[clients_stat['days_employed'] < 0].head()"
   ]
  },
  {
   "cell_type": "code",
   "execution_count": 21,
   "id": "1eb1f84a",
   "metadata": {},
   "outputs": [
    {
     "data": {
      "text/plain": [
       "0"
      ]
     },
     "execution_count": 21,
     "metadata": {},
     "output_type": "execute_result"
    }
   ],
   "source": [
    "# Значения отрицательные, но разные, похоже нужно заменить на модуль указанного значения\n",
    "\n",
    "clients_stat['days_employed'] = clients_stat['days_employed'].abs()\n",
    "len(clients_stat.loc[clients_stat['days_employed'] < 0])"
   ]
  },
  {
   "cell_type": "markdown",
   "id": "e1a03731",
   "metadata": {},
   "source": [
    "Выведем таблицу, отсортированную по столбцу days_employed, чтобы посмотреть на самые большие значения"
   ]
  },
  {
   "cell_type": "code",
   "execution_count": 22,
   "id": "f0cbe17c",
   "metadata": {},
   "outputs": [
    {
     "data": {
      "text/plain": [
       "6954     401755.400475\n",
       "10006    401715.811749\n",
       "7664     401675.093434\n",
       "2156     401674.466633\n",
       "7794     401663.850046\n",
       "4697     401635.032697\n",
       "13420    401619.633298\n",
       "17823    401614.475622\n",
       "10991    401591.828457\n",
       "8369     401590.452231\n",
       "1184     401575.196728\n",
       "4949     401573.905288\n",
       "15192    401556.753550\n",
       "5716     401524.259153\n",
       "10484    401517.276388\n",
       "16237    401486.706746\n",
       "15599    401458.877781\n",
       "701      401446.446720\n",
       "14356    401440.834336\n",
       "5762     401381.736156\n",
       "Name: days_employed, dtype: float64"
      ]
     },
     "execution_count": 22,
     "metadata": {},
     "output_type": "execute_result"
    }
   ],
   "source": [
    "clients_stat['days_employed'].sort_values(ascending = False).head(20)"
   ]
  },
  {
   "cell_type": "markdown",
   "id": "f08655c5",
   "metadata": {},
   "source": [
    "Очевидно аномальные значения. Возможно указано кол-во часов, а не дней."
   ]
  },
  {
   "cell_type": "code",
   "execution_count": 23,
   "id": "73d9da57",
   "metadata": {},
   "outputs": [
    {
     "data": {
      "text/plain": [
       "45.86248863869862"
      ]
     },
     "execution_count": 23,
     "metadata": {},
     "output_type": "execute_result"
    }
   ],
   "source": [
    "# Если в столбце указанно кол-во дней, то\n",
    "401755.400475 / 365 # = 1100.699727328767 лет\n",
    "\n",
    "401755.400475 /24 / 365 # = 45.9 лет более реальная цифра"
   ]
  },
  {
   "cell_type": "markdown",
   "id": "d83e719d",
   "metadata": {},
   "source": [
    "Заменим значения солбца."
   ]
  },
  {
   "cell_type": "code",
   "execution_count": 24,
   "id": "d8c1e261",
   "metadata": {},
   "outputs": [
    {
     "data": {
      "text/plain": [
       "6954     16739.808353\n",
       "10006    16738.158823\n",
       "7664     16736.462226\n",
       "2156     16736.436110\n",
       "7794     16735.993752\n",
       "Name: days_employed, dtype: float64"
      ]
     },
     "execution_count": 24,
     "metadata": {},
     "output_type": "execute_result"
    }
   ],
   "source": [
    "clients_stat['days_employed'] = clients_stat['days_employed']/24\n",
    "clients_stat['days_employed'].sort_values(ascending = False).head()"
   ]
  },
  {
   "cell_type": "markdown",
   "id": "464ef50f",
   "metadata": {},
   "source": [
    "Проверка total_income"
   ]
  },
  {
   "cell_type": "code",
   "execution_count": 25,
   "id": "c0f36584",
   "metadata": {},
   "outputs": [
    {
     "data": {
      "text/plain": [
       "0"
      ]
     },
     "execution_count": 25,
     "metadata": {},
     "output_type": "execute_result"
    }
   ],
   "source": [
    "# Отрицательных значений нет\n",
    "len(clients_stat['total_income'].loc[clients_stat['total_income'] < 0].unique())"
   ]
  },
  {
   "cell_type": "code",
   "execution_count": 26,
   "id": "935c6fcf",
   "metadata": {},
   "outputs": [
    {
     "data": {
      "text/plain": [
       "12412    2.265604e+06\n",
       "19606    2.200852e+06\n",
       "9169     1.726276e+06\n",
       "20809    1.715018e+06\n",
       "17178    1.711309e+06\n",
       "17503    1.597613e+06\n",
       "18368    1.551153e+06\n",
       "18353    1.427934e+06\n",
       "15268    1.350246e+06\n",
       "11071    1.286281e+06\n",
       "2224     1.278623e+06\n",
       "7447     1.240165e+06\n",
       "19813    1.223042e+06\n",
       "15211    1.172460e+06\n",
       "13090    1.128836e+06\n",
       "9871     1.103455e+06\n",
       "10004    1.097955e+06\n",
       "18766    1.092608e+06\n",
       "19338    1.091628e+06\n",
       "1590     1.089120e+06\n",
       "Name: total_income, dtype: float64"
      ]
     },
     "execution_count": 26,
     "metadata": {},
     "output_type": "execute_result"
    }
   ],
   "source": [
    "# Посмотрим самый большой доход, отсортировав значения по убыванию\n",
    "clients_stat['total_income'].sort_values(ascending = False).head(20)"
   ]
  },
  {
   "cell_type": "code",
   "execution_count": 27,
   "id": "ef458f48",
   "metadata": {},
   "outputs": [
    {
     "data": {
      "text/html": [
       "<div>\n",
       "<style scoped>\n",
       "    .dataframe tbody tr th:only-of-type {\n",
       "        vertical-align: middle;\n",
       "    }\n",
       "\n",
       "    .dataframe tbody tr th {\n",
       "        vertical-align: top;\n",
       "    }\n",
       "\n",
       "    .dataframe thead th {\n",
       "        text-align: right;\n",
       "    }\n",
       "</style>\n",
       "<table border=\"1\" class=\"dataframe\">\n",
       "  <thead>\n",
       "    <tr style=\"text-align: right;\">\n",
       "      <th></th>\n",
       "      <th>children</th>\n",
       "      <th>days_employed</th>\n",
       "      <th>dob_years</th>\n",
       "      <th>education</th>\n",
       "      <th>education_id</th>\n",
       "      <th>family_status</th>\n",
       "      <th>family_status_id</th>\n",
       "      <th>gender</th>\n",
       "      <th>income_type</th>\n",
       "      <th>debt</th>\n",
       "      <th>total_income</th>\n",
       "      <th>purpose</th>\n",
       "    </tr>\n",
       "  </thead>\n",
       "  <tbody>\n",
       "    <tr>\n",
       "      <td>39</td>\n",
       "      <td>0</td>\n",
       "      <td>27.107825</td>\n",
       "      <td>31</td>\n",
       "      <td>высшее</td>\n",
       "      <td>0</td>\n",
       "      <td>гражданский брак</td>\n",
       "      <td>1</td>\n",
       "      <td>F</td>\n",
       "      <td>компаньон</td>\n",
       "      <td>0</td>\n",
       "      <td>754240.797248</td>\n",
       "      <td>заняться образованием</td>\n",
       "    </tr>\n",
       "    <tr>\n",
       "      <td>68</td>\n",
       "      <td>2</td>\n",
       "      <td>89.686480</td>\n",
       "      <td>46</td>\n",
       "      <td>высшее</td>\n",
       "      <td>0</td>\n",
       "      <td>женат / замужем</td>\n",
       "      <td>0</td>\n",
       "      <td>M</td>\n",
       "      <td>компаньон</td>\n",
       "      <td>0</td>\n",
       "      <td>592071.464571</td>\n",
       "      <td>операции с коммерческой недвижимостью</td>\n",
       "    </tr>\n",
       "    <tr>\n",
       "      <td>365</td>\n",
       "      <td>2</td>\n",
       "      <td>57.191088</td>\n",
       "      <td>36</td>\n",
       "      <td>высшее</td>\n",
       "      <td>0</td>\n",
       "      <td>женат / замужем</td>\n",
       "      <td>0</td>\n",
       "      <td>M</td>\n",
       "      <td>компаньон</td>\n",
       "      <td>0</td>\n",
       "      <td>553624.230462</td>\n",
       "      <td>покупка жилой недвижимости</td>\n",
       "    </tr>\n",
       "    <tr>\n",
       "      <td>379</td>\n",
       "      <td>0</td>\n",
       "      <td>296.499361</td>\n",
       "      <td>50</td>\n",
       "      <td>среднее</td>\n",
       "      <td>1</td>\n",
       "      <td>женат / замужем</td>\n",
       "      <td>0</td>\n",
       "      <td>F</td>\n",
       "      <td>сотрудник</td>\n",
       "      <td>1</td>\n",
       "      <td>506773.985753</td>\n",
       "      <td>жилье</td>\n",
       "    </tr>\n",
       "    <tr>\n",
       "      <td>685</td>\n",
       "      <td>0</td>\n",
       "      <td>76.662650</td>\n",
       "      <td>52</td>\n",
       "      <td>среднее</td>\n",
       "      <td>1</td>\n",
       "      <td>в разводе</td>\n",
       "      <td>3</td>\n",
       "      <td>F</td>\n",
       "      <td>сотрудник</td>\n",
       "      <td>0</td>\n",
       "      <td>536888.901920</td>\n",
       "      <td>высшее образование</td>\n",
       "    </tr>\n",
       "    <tr>\n",
       "      <td>...</td>\n",
       "      <td>...</td>\n",
       "      <td>...</td>\n",
       "      <td>...</td>\n",
       "      <td>...</td>\n",
       "      <td>...</td>\n",
       "      <td>...</td>\n",
       "      <td>...</td>\n",
       "      <td>...</td>\n",
       "      <td>...</td>\n",
       "      <td>...</td>\n",
       "      <td>...</td>\n",
       "      <td>...</td>\n",
       "    </tr>\n",
       "    <tr>\n",
       "      <td>21224</td>\n",
       "      <td>0</td>\n",
       "      <td>117.330303</td>\n",
       "      <td>39</td>\n",
       "      <td>неоконченное высшее</td>\n",
       "      <td>2</td>\n",
       "      <td>в разводе</td>\n",
       "      <td>3</td>\n",
       "      <td>F</td>\n",
       "      <td>компаньон</td>\n",
       "      <td>0</td>\n",
       "      <td>574891.367390</td>\n",
       "      <td>покупка жилой недвижимости</td>\n",
       "    </tr>\n",
       "    <tr>\n",
       "      <td>21259</td>\n",
       "      <td>0</td>\n",
       "      <td>230.909825</td>\n",
       "      <td>48</td>\n",
       "      <td>среднее</td>\n",
       "      <td>1</td>\n",
       "      <td>женат / замужем</td>\n",
       "      <td>0</td>\n",
       "      <td>M</td>\n",
       "      <td>компаньон</td>\n",
       "      <td>0</td>\n",
       "      <td>575689.161830</td>\n",
       "      <td>получение дополнительного образования</td>\n",
       "    </tr>\n",
       "    <tr>\n",
       "      <td>21295</td>\n",
       "      <td>0</td>\n",
       "      <td>14.668694</td>\n",
       "      <td>51</td>\n",
       "      <td>высшее</td>\n",
       "      <td>0</td>\n",
       "      <td>Не женат / не замужем</td>\n",
       "      <td>4</td>\n",
       "      <td>F</td>\n",
       "      <td>сотрудник</td>\n",
       "      <td>0</td>\n",
       "      <td>816023.123518</td>\n",
       "      <td>приобретение автомобиля</td>\n",
       "    </tr>\n",
       "    <tr>\n",
       "      <td>21392</td>\n",
       "      <td>2</td>\n",
       "      <td>68.504644</td>\n",
       "      <td>35</td>\n",
       "      <td>высшее</td>\n",
       "      <td>0</td>\n",
       "      <td>женат / замужем</td>\n",
       "      <td>0</td>\n",
       "      <td>M</td>\n",
       "      <td>компаньон</td>\n",
       "      <td>0</td>\n",
       "      <td>636515.293426</td>\n",
       "      <td>строительство собственной недвижимости</td>\n",
       "    </tr>\n",
       "    <tr>\n",
       "      <td>21476</td>\n",
       "      <td>0</td>\n",
       "      <td>105.812616</td>\n",
       "      <td>52</td>\n",
       "      <td>высшее</td>\n",
       "      <td>0</td>\n",
       "      <td>женат / замужем</td>\n",
       "      <td>0</td>\n",
       "      <td>M</td>\n",
       "      <td>компаньон</td>\n",
       "      <td>0</td>\n",
       "      <td>527452.833253</td>\n",
       "      <td>операции со своей недвижимостью</td>\n",
       "    </tr>\n",
       "  </tbody>\n",
       "</table>\n",
       "<p>222 rows × 12 columns</p>\n",
       "</div>"
      ],
      "text/plain": [
       "       children  days_employed  dob_years            education  education_id  \\\n",
       "39            0      27.107825         31               высшее             0   \n",
       "68            2      89.686480         46               высшее             0   \n",
       "365           2      57.191088         36               высшее             0   \n",
       "379           0     296.499361         50              среднее             1   \n",
       "685           0      76.662650         52              среднее             1   \n",
       "...         ...            ...        ...                  ...           ...   \n",
       "21224         0     117.330303         39  неоконченное высшее             2   \n",
       "21259         0     230.909825         48              среднее             1   \n",
       "21295         0      14.668694         51               высшее             0   \n",
       "21392         2      68.504644         35               высшее             0   \n",
       "21476         0     105.812616         52               высшее             0   \n",
       "\n",
       "               family_status  family_status_id gender income_type  debt  \\\n",
       "39          гражданский брак                 1      F   компаньон     0   \n",
       "68           женат / замужем                 0      M   компаньон     0   \n",
       "365          женат / замужем                 0      M   компаньон     0   \n",
       "379          женат / замужем                 0      F   сотрудник     1   \n",
       "685                в разводе                 3      F   сотрудник     0   \n",
       "...                      ...               ...    ...         ...   ...   \n",
       "21224              в разводе                 3      F   компаньон     0   \n",
       "21259        женат / замужем                 0      M   компаньон     0   \n",
       "21295  Не женат / не замужем                 4      F   сотрудник     0   \n",
       "21392        женат / замужем                 0      M   компаньон     0   \n",
       "21476        женат / замужем                 0      M   компаньон     0   \n",
       "\n",
       "        total_income                                 purpose  \n",
       "39     754240.797248                   заняться образованием  \n",
       "68     592071.464571   операции с коммерческой недвижимостью  \n",
       "365    553624.230462              покупка жилой недвижимости  \n",
       "379    506773.985753                                   жилье  \n",
       "685    536888.901920                      высшее образование  \n",
       "...              ...                                     ...  \n",
       "21224  574891.367390              покупка жилой недвижимости  \n",
       "21259  575689.161830   получение дополнительного образования  \n",
       "21295  816023.123518                 приобретение автомобиля  \n",
       "21392  636515.293426  строительство собственной недвижимости  \n",
       "21476  527452.833253         операции со своей недвижимостью  \n",
       "\n",
       "[222 rows x 12 columns]"
      ]
     },
     "execution_count": 27,
     "metadata": {},
     "output_type": "execute_result"
    }
   ],
   "source": [
    " \n",
    "clients_stat.loc[clients_stat['total_income'] > 500000]"
   ]
  },
  {
   "cell_type": "markdown",
   "id": "0a4e0024",
   "metadata": {},
   "source": [
    "Проверка столбца dob_years:"
   ]
  },
  {
   "cell_type": "code",
   "execution_count": 28,
   "id": "5f2c46ae",
   "metadata": {},
   "outputs": [
    {
     "data": {
      "text/html": [
       "<div>\n",
       "<style scoped>\n",
       "    .dataframe tbody tr th:only-of-type {\n",
       "        vertical-align: middle;\n",
       "    }\n",
       "\n",
       "    .dataframe tbody tr th {\n",
       "        vertical-align: top;\n",
       "    }\n",
       "\n",
       "    .dataframe thead th {\n",
       "        text-align: right;\n",
       "    }\n",
       "</style>\n",
       "<table border=\"1\" class=\"dataframe\">\n",
       "  <thead>\n",
       "    <tr style=\"text-align: right;\">\n",
       "      <th></th>\n",
       "      <th>children</th>\n",
       "      <th>days_employed</th>\n",
       "      <th>dob_years</th>\n",
       "      <th>education</th>\n",
       "      <th>education_id</th>\n",
       "      <th>family_status</th>\n",
       "      <th>family_status_id</th>\n",
       "      <th>gender</th>\n",
       "      <th>income_type</th>\n",
       "      <th>debt</th>\n",
       "      <th>total_income</th>\n",
       "      <th>purpose</th>\n",
       "    </tr>\n",
       "  </thead>\n",
       "  <tbody>\n",
       "    <tr>\n",
       "      <td>99</td>\n",
       "      <td>0</td>\n",
       "      <td>14439.234121</td>\n",
       "      <td>0</td>\n",
       "      <td>Среднее</td>\n",
       "      <td>1</td>\n",
       "      <td>женат / замужем</td>\n",
       "      <td>0</td>\n",
       "      <td>F</td>\n",
       "      <td>пенсионер</td>\n",
       "      <td>0</td>\n",
       "      <td>71291.522491</td>\n",
       "      <td>автомобиль</td>\n",
       "    </tr>\n",
       "    <tr>\n",
       "      <td>149</td>\n",
       "      <td>0</td>\n",
       "      <td>111.011382</td>\n",
       "      <td>0</td>\n",
       "      <td>среднее</td>\n",
       "      <td>1</td>\n",
       "      <td>в разводе</td>\n",
       "      <td>3</td>\n",
       "      <td>F</td>\n",
       "      <td>сотрудник</td>\n",
       "      <td>0</td>\n",
       "      <td>70176.435951</td>\n",
       "      <td>операции с жильем</td>\n",
       "    </tr>\n",
       "    <tr>\n",
       "      <td>270</td>\n",
       "      <td>3</td>\n",
       "      <td>78.027633</td>\n",
       "      <td>0</td>\n",
       "      <td>среднее</td>\n",
       "      <td>1</td>\n",
       "      <td>женат / замужем</td>\n",
       "      <td>0</td>\n",
       "      <td>F</td>\n",
       "      <td>сотрудник</td>\n",
       "      <td>0</td>\n",
       "      <td>102166.458894</td>\n",
       "      <td>ремонт жилью</td>\n",
       "    </tr>\n",
       "    <tr>\n",
       "      <td>578</td>\n",
       "      <td>0</td>\n",
       "      <td>16577.356876</td>\n",
       "      <td>0</td>\n",
       "      <td>среднее</td>\n",
       "      <td>1</td>\n",
       "      <td>женат / замужем</td>\n",
       "      <td>0</td>\n",
       "      <td>F</td>\n",
       "      <td>пенсионер</td>\n",
       "      <td>0</td>\n",
       "      <td>97620.687042</td>\n",
       "      <td>строительство собственной недвижимости</td>\n",
       "    </tr>\n",
       "    <tr>\n",
       "      <td>1040</td>\n",
       "      <td>0</td>\n",
       "      <td>48.251232</td>\n",
       "      <td>0</td>\n",
       "      <td>высшее</td>\n",
       "      <td>0</td>\n",
       "      <td>в разводе</td>\n",
       "      <td>3</td>\n",
       "      <td>F</td>\n",
       "      <td>компаньон</td>\n",
       "      <td>0</td>\n",
       "      <td>303994.134987</td>\n",
       "      <td>свой автомобиль</td>\n",
       "    </tr>\n",
       "    <tr>\n",
       "      <td>...</td>\n",
       "      <td>...</td>\n",
       "      <td>...</td>\n",
       "      <td>...</td>\n",
       "      <td>...</td>\n",
       "      <td>...</td>\n",
       "      <td>...</td>\n",
       "      <td>...</td>\n",
       "      <td>...</td>\n",
       "      <td>...</td>\n",
       "      <td>...</td>\n",
       "      <td>...</td>\n",
       "      <td>...</td>\n",
       "    </tr>\n",
       "    <tr>\n",
       "      <td>19829</td>\n",
       "      <td>0</td>\n",
       "      <td>50.140397</td>\n",
       "      <td>0</td>\n",
       "      <td>среднее</td>\n",
       "      <td>1</td>\n",
       "      <td>женат / замужем</td>\n",
       "      <td>0</td>\n",
       "      <td>F</td>\n",
       "      <td>сотрудник</td>\n",
       "      <td>0</td>\n",
       "      <td>145017.937533</td>\n",
       "      <td>жилье</td>\n",
       "    </tr>\n",
       "    <tr>\n",
       "      <td>20462</td>\n",
       "      <td>0</td>\n",
       "      <td>14113.952856</td>\n",
       "      <td>0</td>\n",
       "      <td>среднее</td>\n",
       "      <td>1</td>\n",
       "      <td>женат / замужем</td>\n",
       "      <td>0</td>\n",
       "      <td>F</td>\n",
       "      <td>пенсионер</td>\n",
       "      <td>0</td>\n",
       "      <td>259193.920299</td>\n",
       "      <td>покупка своего жилья</td>\n",
       "    </tr>\n",
       "    <tr>\n",
       "      <td>20577</td>\n",
       "      <td>0</td>\n",
       "      <td>13822.552977</td>\n",
       "      <td>0</td>\n",
       "      <td>среднее</td>\n",
       "      <td>1</td>\n",
       "      <td>Не женат / не замужем</td>\n",
       "      <td>4</td>\n",
       "      <td>F</td>\n",
       "      <td>пенсионер</td>\n",
       "      <td>0</td>\n",
       "      <td>129788.762899</td>\n",
       "      <td>недвижимость</td>\n",
       "    </tr>\n",
       "    <tr>\n",
       "      <td>21179</td>\n",
       "      <td>2</td>\n",
       "      <td>4.540293</td>\n",
       "      <td>0</td>\n",
       "      <td>высшее</td>\n",
       "      <td>0</td>\n",
       "      <td>женат / замужем</td>\n",
       "      <td>0</td>\n",
       "      <td>M</td>\n",
       "      <td>компаньон</td>\n",
       "      <td>0</td>\n",
       "      <td>240702.007382</td>\n",
       "      <td>строительство жилой недвижимости</td>\n",
       "    </tr>\n",
       "    <tr>\n",
       "      <td>21313</td>\n",
       "      <td>0</td>\n",
       "      <td>52.853655</td>\n",
       "      <td>0</td>\n",
       "      <td>среднее</td>\n",
       "      <td>1</td>\n",
       "      <td>Не женат / не замужем</td>\n",
       "      <td>4</td>\n",
       "      <td>M</td>\n",
       "      <td>сотрудник</td>\n",
       "      <td>0</td>\n",
       "      <td>152419.184851</td>\n",
       "      <td>операции с жильем</td>\n",
       "    </tr>\n",
       "  </tbody>\n",
       "</table>\n",
       "<p>101 rows × 12 columns</p>\n",
       "</div>"
      ],
      "text/plain": [
       "       children  days_employed  dob_years education  education_id  \\\n",
       "99            0   14439.234121          0   Среднее             1   \n",
       "149           0     111.011382          0   среднее             1   \n",
       "270           3      78.027633          0   среднее             1   \n",
       "578           0   16577.356876          0   среднее             1   \n",
       "1040          0      48.251232          0    высшее             0   \n",
       "...         ...            ...        ...       ...           ...   \n",
       "19829         0      50.140397          0   среднее             1   \n",
       "20462         0   14113.952856          0   среднее             1   \n",
       "20577         0   13822.552977          0   среднее             1   \n",
       "21179         2       4.540293          0    высшее             0   \n",
       "21313         0      52.853655          0   среднее             1   \n",
       "\n",
       "               family_status  family_status_id gender income_type  debt  \\\n",
       "99           женат / замужем                 0      F   пенсионер     0   \n",
       "149                в разводе                 3      F   сотрудник     0   \n",
       "270          женат / замужем                 0      F   сотрудник     0   \n",
       "578          женат / замужем                 0      F   пенсионер     0   \n",
       "1040               в разводе                 3      F   компаньон     0   \n",
       "...                      ...               ...    ...         ...   ...   \n",
       "19829        женат / замужем                 0      F   сотрудник     0   \n",
       "20462        женат / замужем                 0      F   пенсионер     0   \n",
       "20577  Не женат / не замужем                 4      F   пенсионер     0   \n",
       "21179        женат / замужем                 0      M   компаньон     0   \n",
       "21313  Не женат / не замужем                 4      M   сотрудник     0   \n",
       "\n",
       "        total_income                                 purpose  \n",
       "99      71291.522491                              автомобиль  \n",
       "149     70176.435951                       операции с жильем  \n",
       "270    102166.458894                            ремонт жилью  \n",
       "578     97620.687042  строительство собственной недвижимости  \n",
       "1040   303994.134987                         свой автомобиль  \n",
       "...              ...                                     ...  \n",
       "19829  145017.937533                                   жилье  \n",
       "20462  259193.920299                    покупка своего жилья  \n",
       "20577  129788.762899                            недвижимость  \n",
       "21179  240702.007382        строительство жилой недвижимости  \n",
       "21313  152419.184851                       операции с жильем  \n",
       "\n",
       "[101 rows x 12 columns]"
      ]
     },
     "execution_count": 28,
     "metadata": {},
     "output_type": "execute_result"
    }
   ],
   "source": [
    "# 101 строка с нулевым значением в столбце dob_years\n",
    "clients_stat.loc[clients_stat['dob_years'] == 0]"
   ]
  },
  {
   "cell_type": "code",
   "execution_count": 29,
   "id": "a080fc81",
   "metadata": {},
   "outputs": [
    {
     "data": {
      "text/plain": [
       "0"
      ]
     },
     "execution_count": 29,
     "metadata": {},
     "output_type": "execute_result"
    }
   ],
   "source": [
    "# Так как это возраст, логичнее всего заменить на среднее\n",
    "clients_stat['dob_years'] = clients_stat['dob_years'].replace(0,clients_stat['dob_years'].mean())\n",
    "len(clients_stat.loc[clients_stat['dob_years'] == 0])"
   ]
  },
  {
   "cell_type": "code",
   "execution_count": 30,
   "id": "81f6312a",
   "metadata": {},
   "outputs": [
    {
     "data": {
      "text/html": [
       "<div>\n",
       "<style scoped>\n",
       "    .dataframe tbody tr th:only-of-type {\n",
       "        vertical-align: middle;\n",
       "    }\n",
       "\n",
       "    .dataframe tbody tr th {\n",
       "        vertical-align: top;\n",
       "    }\n",
       "\n",
       "    .dataframe thead th {\n",
       "        text-align: right;\n",
       "    }\n",
       "</style>\n",
       "<table border=\"1\" class=\"dataframe\">\n",
       "  <thead>\n",
       "    <tr style=\"text-align: right;\">\n",
       "      <th></th>\n",
       "      <th>children</th>\n",
       "      <th>days_employed</th>\n",
       "      <th>dob_years</th>\n",
       "      <th>education</th>\n",
       "      <th>education_id</th>\n",
       "      <th>family_status</th>\n",
       "      <th>family_status_id</th>\n",
       "      <th>gender</th>\n",
       "      <th>income_type</th>\n",
       "      <th>debt</th>\n",
       "      <th>total_income</th>\n",
       "      <th>purpose</th>\n",
       "    </tr>\n",
       "  </thead>\n",
       "  <tbody>\n",
       "    <tr>\n",
       "      <td>157</td>\n",
       "      <td>0</td>\n",
       "      <td>14517.251167</td>\n",
       "      <td>38.00000</td>\n",
       "      <td>среднее</td>\n",
       "      <td>1</td>\n",
       "      <td>женат / замужем</td>\n",
       "      <td>0</td>\n",
       "      <td>F</td>\n",
       "      <td>пенсионер</td>\n",
       "      <td>1</td>\n",
       "      <td>113560.650035</td>\n",
       "      <td>сделка с автомобилем</td>\n",
       "    </tr>\n",
       "    <tr>\n",
       "      <td>578</td>\n",
       "      <td>0</td>\n",
       "      <td>16577.356876</td>\n",
       "      <td>43.29338</td>\n",
       "      <td>среднее</td>\n",
       "      <td>1</td>\n",
       "      <td>женат / замужем</td>\n",
       "      <td>0</td>\n",
       "      <td>F</td>\n",
       "      <td>пенсионер</td>\n",
       "      <td>0</td>\n",
       "      <td>97620.687042</td>\n",
       "      <td>строительство собственной недвижимости</td>\n",
       "    </tr>\n",
       "    <tr>\n",
       "      <td>751</td>\n",
       "      <td>0</td>\n",
       "      <td>16281.477669</td>\n",
       "      <td>41.00000</td>\n",
       "      <td>среднее</td>\n",
       "      <td>1</td>\n",
       "      <td>женат / замужем</td>\n",
       "      <td>0</td>\n",
       "      <td>M</td>\n",
       "      <td>пенсионер</td>\n",
       "      <td>0</td>\n",
       "      <td>151898.693438</td>\n",
       "      <td>операции со своей недвижимостью</td>\n",
       "    </tr>\n",
       "    <tr>\n",
       "      <td>776</td>\n",
       "      <td>0</td>\n",
       "      <td>15222.356680</td>\n",
       "      <td>38.00000</td>\n",
       "      <td>среднее</td>\n",
       "      <td>1</td>\n",
       "      <td>женат / замужем</td>\n",
       "      <td>0</td>\n",
       "      <td>F</td>\n",
       "      <td>пенсионер</td>\n",
       "      <td>0</td>\n",
       "      <td>73859.425084</td>\n",
       "      <td>покупка недвижимости</td>\n",
       "    </tr>\n",
       "    <tr>\n",
       "      <td>1242</td>\n",
       "      <td>0</td>\n",
       "      <td>13948.510826</td>\n",
       "      <td>22.00000</td>\n",
       "      <td>Среднее</td>\n",
       "      <td>1</td>\n",
       "      <td>Не женат / не замужем</td>\n",
       "      <td>4</td>\n",
       "      <td>F</td>\n",
       "      <td>пенсионер</td>\n",
       "      <td>0</td>\n",
       "      <td>89368.600062</td>\n",
       "      <td>получение высшего образования</td>\n",
       "    </tr>\n",
       "    <tr>\n",
       "      <td>1383</td>\n",
       "      <td>0</td>\n",
       "      <td>14741.783820</td>\n",
       "      <td>37.00000</td>\n",
       "      <td>среднее</td>\n",
       "      <td>1</td>\n",
       "      <td>вдовец / вдова</td>\n",
       "      <td>2</td>\n",
       "      <td>F</td>\n",
       "      <td>пенсионер</td>\n",
       "      <td>0</td>\n",
       "      <td>216452.226085</td>\n",
       "      <td>строительство недвижимости</td>\n",
       "    </tr>\n",
       "    <tr>\n",
       "      <td>1446</td>\n",
       "      <td>0</td>\n",
       "      <td>14122.485068</td>\n",
       "      <td>37.00000</td>\n",
       "      <td>СРЕДНЕЕ</td>\n",
       "      <td>1</td>\n",
       "      <td>гражданский брак</td>\n",
       "      <td>1</td>\n",
       "      <td>M</td>\n",
       "      <td>пенсионер</td>\n",
       "      <td>0</td>\n",
       "      <td>148657.128499</td>\n",
       "      <td>свадьба</td>\n",
       "    </tr>\n",
       "    <tr>\n",
       "      <td>1637</td>\n",
       "      <td>0</td>\n",
       "      <td>16635.852021</td>\n",
       "      <td>39.00000</td>\n",
       "      <td>среднее</td>\n",
       "      <td>1</td>\n",
       "      <td>женат / замужем</td>\n",
       "      <td>0</td>\n",
       "      <td>M</td>\n",
       "      <td>пенсионер</td>\n",
       "      <td>0</td>\n",
       "      <td>211513.978152</td>\n",
       "      <td>операции с недвижимостью</td>\n",
       "    </tr>\n",
       "    <tr>\n",
       "      <td>1752</td>\n",
       "      <td>1</td>\n",
       "      <td>16249.126643</td>\n",
       "      <td>38.00000</td>\n",
       "      <td>ВЫСШЕЕ</td>\n",
       "      <td>0</td>\n",
       "      <td>Не женат / не замужем</td>\n",
       "      <td>4</td>\n",
       "      <td>F</td>\n",
       "      <td>пенсионер</td>\n",
       "      <td>0</td>\n",
       "      <td>311574.433591</td>\n",
       "      <td>покупка недвижимости</td>\n",
       "    </tr>\n",
       "    <tr>\n",
       "      <td>2992</td>\n",
       "      <td>0</td>\n",
       "      <td>15114.224288</td>\n",
       "      <td>39.00000</td>\n",
       "      <td>среднее</td>\n",
       "      <td>1</td>\n",
       "      <td>в разводе</td>\n",
       "      <td>3</td>\n",
       "      <td>F</td>\n",
       "      <td>пенсионер</td>\n",
       "      <td>0</td>\n",
       "      <td>96891.811526</td>\n",
       "      <td>покупка недвижимости</td>\n",
       "    </tr>\n",
       "    <tr>\n",
       "      <td>3133</td>\n",
       "      <td>1</td>\n",
       "      <td>14063.519451</td>\n",
       "      <td>31.00000</td>\n",
       "      <td>среднее</td>\n",
       "      <td>1</td>\n",
       "      <td>женат / замужем</td>\n",
       "      <td>0</td>\n",
       "      <td>M</td>\n",
       "      <td>безработный</td>\n",
       "      <td>1</td>\n",
       "      <td>59956.991984</td>\n",
       "      <td>покупка жилья для сдачи</td>\n",
       "    </tr>\n",
       "    <tr>\n",
       "      <td>3504</td>\n",
       "      <td>2</td>\n",
       "      <td>16456.219944</td>\n",
       "      <td>38.00000</td>\n",
       "      <td>среднее</td>\n",
       "      <td>1</td>\n",
       "      <td>женат / замужем</td>\n",
       "      <td>0</td>\n",
       "      <td>F</td>\n",
       "      <td>пенсионер</td>\n",
       "      <td>1</td>\n",
       "      <td>117596.916323</td>\n",
       "      <td>получение дополнительного образования</td>\n",
       "    </tr>\n",
       "    <tr>\n",
       "      <td>3963</td>\n",
       "      <td>0</td>\n",
       "      <td>16331.719751</td>\n",
       "      <td>34.00000</td>\n",
       "      <td>среднее</td>\n",
       "      <td>1</td>\n",
       "      <td>Не женат / не замужем</td>\n",
       "      <td>4</td>\n",
       "      <td>M</td>\n",
       "      <td>пенсионер</td>\n",
       "      <td>0</td>\n",
       "      <td>79906.589697</td>\n",
       "      <td>высшее образование</td>\n",
       "    </tr>\n",
       "    <tr>\n",
       "      <td>4749</td>\n",
       "      <td>0</td>\n",
       "      <td>15554.055296</td>\n",
       "      <td>41.00000</td>\n",
       "      <td>среднее</td>\n",
       "      <td>1</td>\n",
       "      <td>гражданский брак</td>\n",
       "      <td>1</td>\n",
       "      <td>F</td>\n",
       "      <td>пенсионер</td>\n",
       "      <td>0</td>\n",
       "      <td>158776.834019</td>\n",
       "      <td>строительство жилой недвижимости</td>\n",
       "    </tr>\n",
       "    <tr>\n",
       "      <td>4910</td>\n",
       "      <td>0</td>\n",
       "      <td>16127.536006</td>\n",
       "      <td>38.00000</td>\n",
       "      <td>высшее</td>\n",
       "      <td>0</td>\n",
       "      <td>Не женат / не замужем</td>\n",
       "      <td>4</td>\n",
       "      <td>F</td>\n",
       "      <td>пенсионер</td>\n",
       "      <td>0</td>\n",
       "      <td>376300.519672</td>\n",
       "      <td>получение образования</td>\n",
       "    </tr>\n",
       "    <tr>\n",
       "      <td>5717</td>\n",
       "      <td>0</td>\n",
       "      <td>16579.375133</td>\n",
       "      <td>33.00000</td>\n",
       "      <td>среднее</td>\n",
       "      <td>1</td>\n",
       "      <td>гражданский брак</td>\n",
       "      <td>1</td>\n",
       "      <td>M</td>\n",
       "      <td>пенсионер</td>\n",
       "      <td>0</td>\n",
       "      <td>94270.049769</td>\n",
       "      <td>на проведение свадьбы</td>\n",
       "    </tr>\n",
       "    <tr>\n",
       "      <td>5842</td>\n",
       "      <td>2</td>\n",
       "      <td>16564.531969</td>\n",
       "      <td>34.00000</td>\n",
       "      <td>среднее</td>\n",
       "      <td>1</td>\n",
       "      <td>женат / замужем</td>\n",
       "      <td>0</td>\n",
       "      <td>F</td>\n",
       "      <td>пенсионер</td>\n",
       "      <td>0</td>\n",
       "      <td>298041.412070</td>\n",
       "      <td>операции с коммерческой недвижимостью</td>\n",
       "    </tr>\n",
       "    <tr>\n",
       "      <td>6354</td>\n",
       "      <td>0</td>\n",
       "      <td>16041.479218</td>\n",
       "      <td>43.00000</td>\n",
       "      <td>среднее</td>\n",
       "      <td>1</td>\n",
       "      <td>Не женат / не замужем</td>\n",
       "      <td>4</td>\n",
       "      <td>M</td>\n",
       "      <td>пенсионер</td>\n",
       "      <td>1</td>\n",
       "      <td>95013.282467</td>\n",
       "      <td>заняться высшим образованием</td>\n",
       "    </tr>\n",
       "    <tr>\n",
       "      <td>6552</td>\n",
       "      <td>1</td>\n",
       "      <td>14766.557406</td>\n",
       "      <td>36.00000</td>\n",
       "      <td>среднее</td>\n",
       "      <td>1</td>\n",
       "      <td>в разводе</td>\n",
       "      <td>3</td>\n",
       "      <td>F</td>\n",
       "      <td>пенсионер</td>\n",
       "      <td>0</td>\n",
       "      <td>115340.175144</td>\n",
       "      <td>операции с коммерческой недвижимостью</td>\n",
       "    </tr>\n",
       "    <tr>\n",
       "      <td>6945</td>\n",
       "      <td>1</td>\n",
       "      <td>16526.957458</td>\n",
       "      <td>41.00000</td>\n",
       "      <td>среднее</td>\n",
       "      <td>1</td>\n",
       "      <td>женат / замужем</td>\n",
       "      <td>0</td>\n",
       "      <td>M</td>\n",
       "      <td>пенсионер</td>\n",
       "      <td>0</td>\n",
       "      <td>158482.936488</td>\n",
       "      <td>недвижимость</td>\n",
       "    </tr>\n",
       "    <tr>\n",
       "      <td>7229</td>\n",
       "      <td>1</td>\n",
       "      <td>13701.139403</td>\n",
       "      <td>32.00000</td>\n",
       "      <td>среднее</td>\n",
       "      <td>1</td>\n",
       "      <td>гражданский брак</td>\n",
       "      <td>1</td>\n",
       "      <td>F</td>\n",
       "      <td>пенсионер</td>\n",
       "      <td>0</td>\n",
       "      <td>122162.965695</td>\n",
       "      <td>сыграть свадьбу</td>\n",
       "    </tr>\n",
       "    <tr>\n",
       "      <td>8017</td>\n",
       "      <td>0</td>\n",
       "      <td>16227.537386</td>\n",
       "      <td>40.00000</td>\n",
       "      <td>среднее</td>\n",
       "      <td>1</td>\n",
       "      <td>в разводе</td>\n",
       "      <td>3</td>\n",
       "      <td>M</td>\n",
       "      <td>пенсионер</td>\n",
       "      <td>0</td>\n",
       "      <td>144546.428029</td>\n",
       "      <td>покупка жилья для сдачи</td>\n",
       "    </tr>\n",
       "    <tr>\n",
       "      <td>8099</td>\n",
       "      <td>0</td>\n",
       "      <td>15287.700443</td>\n",
       "      <td>39.00000</td>\n",
       "      <td>высшее</td>\n",
       "      <td>0</td>\n",
       "      <td>гражданский брак</td>\n",
       "      <td>1</td>\n",
       "      <td>F</td>\n",
       "      <td>пенсионер</td>\n",
       "      <td>0</td>\n",
       "      <td>85531.665056</td>\n",
       "      <td>на проведение свадьбы</td>\n",
       "    </tr>\n",
       "    <tr>\n",
       "      <td>8658</td>\n",
       "      <td>2</td>\n",
       "      <td>15805.220494</td>\n",
       "      <td>39.00000</td>\n",
       "      <td>Среднее</td>\n",
       "      <td>1</td>\n",
       "      <td>женат / замужем</td>\n",
       "      <td>0</td>\n",
       "      <td>M</td>\n",
       "      <td>пенсионер</td>\n",
       "      <td>0</td>\n",
       "      <td>117098.226827</td>\n",
       "      <td>жилье</td>\n",
       "    </tr>\n",
       "    <tr>\n",
       "      <td>9733</td>\n",
       "      <td>0</td>\n",
       "      <td>16021.357277</td>\n",
       "      <td>42.00000</td>\n",
       "      <td>высшее</td>\n",
       "      <td>0</td>\n",
       "      <td>гражданский брак</td>\n",
       "      <td>1</td>\n",
       "      <td>M</td>\n",
       "      <td>пенсионер</td>\n",
       "      <td>0</td>\n",
       "      <td>283079.131763</td>\n",
       "      <td>получение дополнительного образования</td>\n",
       "    </tr>\n",
       "    <tr>\n",
       "      <td>9846</td>\n",
       "      <td>0</td>\n",
       "      <td>15441.497734</td>\n",
       "      <td>40.00000</td>\n",
       "      <td>среднее</td>\n",
       "      <td>1</td>\n",
       "      <td>гражданский брак</td>\n",
       "      <td>1</td>\n",
       "      <td>M</td>\n",
       "      <td>пенсионер</td>\n",
       "      <td>0</td>\n",
       "      <td>82667.409207</td>\n",
       "      <td>свадьба</td>\n",
       "    </tr>\n",
       "    <tr>\n",
       "      <td>10288</td>\n",
       "      <td>0</td>\n",
       "      <td>16689.741601</td>\n",
       "      <td>42.00000</td>\n",
       "      <td>начальное</td>\n",
       "      <td>3</td>\n",
       "      <td>гражданский брак</td>\n",
       "      <td>1</td>\n",
       "      <td>F</td>\n",
       "      <td>пенсионер</td>\n",
       "      <td>1</td>\n",
       "      <td>136297.922676</td>\n",
       "      <td>свадьба</td>\n",
       "    </tr>\n",
       "    <tr>\n",
       "      <td>11153</td>\n",
       "      <td>3</td>\n",
       "      <td>13966.195282</td>\n",
       "      <td>38.00000</td>\n",
       "      <td>среднее</td>\n",
       "      <td>1</td>\n",
       "      <td>женат / замужем</td>\n",
       "      <td>0</td>\n",
       "      <td>F</td>\n",
       "      <td>пенсионер</td>\n",
       "      <td>0</td>\n",
       "      <td>104207.119572</td>\n",
       "      <td>жилье</td>\n",
       "    </tr>\n",
       "    <tr>\n",
       "      <td>12240</td>\n",
       "      <td>1</td>\n",
       "      <td>16514.886370</td>\n",
       "      <td>43.00000</td>\n",
       "      <td>среднее</td>\n",
       "      <td>1</td>\n",
       "      <td>гражданский брак</td>\n",
       "      <td>1</td>\n",
       "      <td>F</td>\n",
       "      <td>пенсионер</td>\n",
       "      <td>1</td>\n",
       "      <td>133040.653326</td>\n",
       "      <td>получение образования</td>\n",
       "    </tr>\n",
       "    <tr>\n",
       "      <td>12410</td>\n",
       "      <td>0</td>\n",
       "      <td>16334.583862</td>\n",
       "      <td>42.00000</td>\n",
       "      <td>среднее</td>\n",
       "      <td>1</td>\n",
       "      <td>гражданский брак</td>\n",
       "      <td>1</td>\n",
       "      <td>M</td>\n",
       "      <td>пенсионер</td>\n",
       "      <td>0</td>\n",
       "      <td>156461.422035</td>\n",
       "      <td>свадьба</td>\n",
       "    </tr>\n",
       "    <tr>\n",
       "      <td>12423</td>\n",
       "      <td>0</td>\n",
       "      <td>14980.733146</td>\n",
       "      <td>35.00000</td>\n",
       "      <td>среднее</td>\n",
       "      <td>1</td>\n",
       "      <td>гражданский брак</td>\n",
       "      <td>1</td>\n",
       "      <td>M</td>\n",
       "      <td>пенсионер</td>\n",
       "      <td>0</td>\n",
       "      <td>113760.279287</td>\n",
       "      <td>свадьба</td>\n",
       "    </tr>\n",
       "    <tr>\n",
       "      <td>12507</td>\n",
       "      <td>0</td>\n",
       "      <td>15812.170938</td>\n",
       "      <td>27.00000</td>\n",
       "      <td>среднее</td>\n",
       "      <td>1</td>\n",
       "      <td>Не женат / не замужем</td>\n",
       "      <td>4</td>\n",
       "      <td>F</td>\n",
       "      <td>пенсионер</td>\n",
       "      <td>0</td>\n",
       "      <td>50969.340462</td>\n",
       "      <td>сделка с автомобилем</td>\n",
       "    </tr>\n",
       "    <tr>\n",
       "      <td>12692</td>\n",
       "      <td>0</td>\n",
       "      <td>14710.668755</td>\n",
       "      <td>32.00000</td>\n",
       "      <td>среднее</td>\n",
       "      <td>1</td>\n",
       "      <td>женат / замужем</td>\n",
       "      <td>0</td>\n",
       "      <td>M</td>\n",
       "      <td>пенсионер</td>\n",
       "      <td>1</td>\n",
       "      <td>165724.073337</td>\n",
       "      <td>автомобиль</td>\n",
       "    </tr>\n",
       "    <tr>\n",
       "      <td>12734</td>\n",
       "      <td>0</td>\n",
       "      <td>16272.364035</td>\n",
       "      <td>44.00000</td>\n",
       "      <td>среднее</td>\n",
       "      <td>1</td>\n",
       "      <td>женат / замужем</td>\n",
       "      <td>0</td>\n",
       "      <td>F</td>\n",
       "      <td>пенсионер</td>\n",
       "      <td>0</td>\n",
       "      <td>41209.690802</td>\n",
       "      <td>покупка своего жилья</td>\n",
       "    </tr>\n",
       "    <tr>\n",
       "      <td>12735</td>\n",
       "      <td>0</td>\n",
       "      <td>14008.890983</td>\n",
       "      <td>32.00000</td>\n",
       "      <td>Среднее</td>\n",
       "      <td>1</td>\n",
       "      <td>гражданский брак</td>\n",
       "      <td>1</td>\n",
       "      <td>M</td>\n",
       "      <td>пенсионер</td>\n",
       "      <td>0</td>\n",
       "      <td>127022.044881</td>\n",
       "      <td>операции с коммерческой недвижимостью</td>\n",
       "    </tr>\n",
       "    <tr>\n",
       "      <td>12753</td>\n",
       "      <td>1</td>\n",
       "      <td>13740.904375</td>\n",
       "      <td>27.00000</td>\n",
       "      <td>среднее</td>\n",
       "      <td>1</td>\n",
       "      <td>женат / замужем</td>\n",
       "      <td>0</td>\n",
       "      <td>F</td>\n",
       "      <td>пенсионер</td>\n",
       "      <td>0</td>\n",
       "      <td>65198.102341</td>\n",
       "      <td>получение образования</td>\n",
       "    </tr>\n",
       "    <tr>\n",
       "      <td>12879</td>\n",
       "      <td>2</td>\n",
       "      <td>15387.598283</td>\n",
       "      <td>36.00000</td>\n",
       "      <td>высшее</td>\n",
       "      <td>0</td>\n",
       "      <td>женат / замужем</td>\n",
       "      <td>0</td>\n",
       "      <td>F</td>\n",
       "      <td>пенсионер</td>\n",
       "      <td>0</td>\n",
       "      <td>143707.112331</td>\n",
       "      <td>заняться высшим образованием</td>\n",
       "    </tr>\n",
       "    <tr>\n",
       "      <td>13006</td>\n",
       "      <td>0</td>\n",
       "      <td>15404.524546</td>\n",
       "      <td>37.00000</td>\n",
       "      <td>среднее</td>\n",
       "      <td>1</td>\n",
       "      <td>гражданский брак</td>\n",
       "      <td>1</td>\n",
       "      <td>M</td>\n",
       "      <td>пенсионер</td>\n",
       "      <td>0</td>\n",
       "      <td>21205.280566</td>\n",
       "      <td>заняться высшим образованием</td>\n",
       "    </tr>\n",
       "    <tr>\n",
       "      <td>13591</td>\n",
       "      <td>0</td>\n",
       "      <td>14619.083551</td>\n",
       "      <td>38.00000</td>\n",
       "      <td>среднее</td>\n",
       "      <td>1</td>\n",
       "      <td>Не женат / не замужем</td>\n",
       "      <td>4</td>\n",
       "      <td>F</td>\n",
       "      <td>пенсионер</td>\n",
       "      <td>0</td>\n",
       "      <td>60457.402134</td>\n",
       "      <td>жилье</td>\n",
       "    </tr>\n",
       "    <tr>\n",
       "      <td>13953</td>\n",
       "      <td>0</td>\n",
       "      <td>15701.024409</td>\n",
       "      <td>27.00000</td>\n",
       "      <td>среднее</td>\n",
       "      <td>1</td>\n",
       "      <td>в разводе</td>\n",
       "      <td>3</td>\n",
       "      <td>M</td>\n",
       "      <td>пенсионер</td>\n",
       "      <td>0</td>\n",
       "      <td>97961.993557</td>\n",
       "      <td>операции с жильем</td>\n",
       "    </tr>\n",
       "    <tr>\n",
       "      <td>14035</td>\n",
       "      <td>1</td>\n",
       "      <td>14886.028029</td>\n",
       "      <td>40.00000</td>\n",
       "      <td>среднее</td>\n",
       "      <td>1</td>\n",
       "      <td>женат / замужем</td>\n",
       "      <td>0</td>\n",
       "      <td>F</td>\n",
       "      <td>пенсионер</td>\n",
       "      <td>0</td>\n",
       "      <td>82854.904531</td>\n",
       "      <td>заняться высшим образованием</td>\n",
       "    </tr>\n",
       "    <tr>\n",
       "      <td>14514</td>\n",
       "      <td>0</td>\n",
       "      <td>16708.015654</td>\n",
       "      <td>43.29338</td>\n",
       "      <td>среднее</td>\n",
       "      <td>1</td>\n",
       "      <td>вдовец / вдова</td>\n",
       "      <td>2</td>\n",
       "      <td>F</td>\n",
       "      <td>пенсионер</td>\n",
       "      <td>0</td>\n",
       "      <td>87215.410371</td>\n",
       "      <td>заняться высшим образованием</td>\n",
       "    </tr>\n",
       "    <tr>\n",
       "      <td>14659</td>\n",
       "      <td>0</td>\n",
       "      <td>16456.222702</td>\n",
       "      <td>43.29338</td>\n",
       "      <td>среднее</td>\n",
       "      <td>1</td>\n",
       "      <td>Не женат / не замужем</td>\n",
       "      <td>4</td>\n",
       "      <td>F</td>\n",
       "      <td>пенсионер</td>\n",
       "      <td>0</td>\n",
       "      <td>34974.450366</td>\n",
       "      <td>жилье</td>\n",
       "    </tr>\n",
       "    <tr>\n",
       "      <td>14695</td>\n",
       "      <td>1</td>\n",
       "      <td>14524.828389</td>\n",
       "      <td>38.00000</td>\n",
       "      <td>среднее</td>\n",
       "      <td>1</td>\n",
       "      <td>гражданский брак</td>\n",
       "      <td>1</td>\n",
       "      <td>F</td>\n",
       "      <td>пенсионер</td>\n",
       "      <td>1</td>\n",
       "      <td>115598.588237</td>\n",
       "      <td>свадьба</td>\n",
       "    </tr>\n",
       "    <tr>\n",
       "      <td>14798</td>\n",
       "      <td>0</td>\n",
       "      <td>16470.951611</td>\n",
       "      <td>45.00000</td>\n",
       "      <td>Высшее</td>\n",
       "      <td>0</td>\n",
       "      <td>гражданский брак</td>\n",
       "      <td>1</td>\n",
       "      <td>F</td>\n",
       "      <td>безработный</td>\n",
       "      <td>0</td>\n",
       "      <td>202722.511368</td>\n",
       "      <td>ремонт жилью</td>\n",
       "    </tr>\n",
       "    <tr>\n",
       "      <td>15460</td>\n",
       "      <td>0</td>\n",
       "      <td>14815.435224</td>\n",
       "      <td>37.00000</td>\n",
       "      <td>среднее</td>\n",
       "      <td>1</td>\n",
       "      <td>гражданский брак</td>\n",
       "      <td>1</td>\n",
       "      <td>M</td>\n",
       "      <td>пенсионер</td>\n",
       "      <td>0</td>\n",
       "      <td>246814.073872</td>\n",
       "      <td>на проведение свадьбы</td>\n",
       "    </tr>\n",
       "    <tr>\n",
       "      <td>16134</td>\n",
       "      <td>0</td>\n",
       "      <td>16431.802703</td>\n",
       "      <td>45.00000</td>\n",
       "      <td>высшее</td>\n",
       "      <td>0</td>\n",
       "      <td>гражданский брак</td>\n",
       "      <td>1</td>\n",
       "      <td>F</td>\n",
       "      <td>пенсионер</td>\n",
       "      <td>0</td>\n",
       "      <td>579005.050802</td>\n",
       "      <td>сыграть свадьбу</td>\n",
       "    </tr>\n",
       "    <tr>\n",
       "      <td>16166</td>\n",
       "      <td>0</td>\n",
       "      <td>15181.174890</td>\n",
       "      <td>26.00000</td>\n",
       "      <td>среднее</td>\n",
       "      <td>1</td>\n",
       "      <td>гражданский брак</td>\n",
       "      <td>1</td>\n",
       "      <td>M</td>\n",
       "      <td>пенсионер</td>\n",
       "      <td>0</td>\n",
       "      <td>80044.196101</td>\n",
       "      <td>автомобиль</td>\n",
       "    </tr>\n",
       "    <tr>\n",
       "      <td>16414</td>\n",
       "      <td>0</td>\n",
       "      <td>16569.646038</td>\n",
       "      <td>45.00000</td>\n",
       "      <td>высшее</td>\n",
       "      <td>0</td>\n",
       "      <td>гражданский брак</td>\n",
       "      <td>1</td>\n",
       "      <td>M</td>\n",
       "      <td>пенсионер</td>\n",
       "      <td>0</td>\n",
       "      <td>151002.822805</td>\n",
       "      <td>сыграть свадьбу</td>\n",
       "    </tr>\n",
       "    <tr>\n",
       "      <td>16819</td>\n",
       "      <td>0</td>\n",
       "      <td>16365.633331</td>\n",
       "      <td>40.00000</td>\n",
       "      <td>среднее</td>\n",
       "      <td>1</td>\n",
       "      <td>женат / замужем</td>\n",
       "      <td>0</td>\n",
       "      <td>F</td>\n",
       "      <td>пенсионер</td>\n",
       "      <td>0</td>\n",
       "      <td>288573.379971</td>\n",
       "      <td>покупка жилья для сдачи</td>\n",
       "    </tr>\n",
       "    <tr>\n",
       "      <td>16861</td>\n",
       "      <td>0</td>\n",
       "      <td>16495.575557</td>\n",
       "      <td>43.29338</td>\n",
       "      <td>среднее</td>\n",
       "      <td>1</td>\n",
       "      <td>в разводе</td>\n",
       "      <td>3</td>\n",
       "      <td>F</td>\n",
       "      <td>пенсионер</td>\n",
       "      <td>0</td>\n",
       "      <td>218284.757642</td>\n",
       "      <td>покупка жилья</td>\n",
       "    </tr>\n",
       "    <tr>\n",
       "      <td>18699</td>\n",
       "      <td>0</td>\n",
       "      <td>15356.500433</td>\n",
       "      <td>34.00000</td>\n",
       "      <td>среднее</td>\n",
       "      <td>1</td>\n",
       "      <td>гражданский брак</td>\n",
       "      <td>1</td>\n",
       "      <td>M</td>\n",
       "      <td>пенсионер</td>\n",
       "      <td>0</td>\n",
       "      <td>73720.447531</td>\n",
       "      <td>сыграть свадьбу</td>\n",
       "    </tr>\n",
       "    <tr>\n",
       "      <td>18866</td>\n",
       "      <td>0</td>\n",
       "      <td>15717.042032</td>\n",
       "      <td>36.00000</td>\n",
       "      <td>начальное</td>\n",
       "      <td>3</td>\n",
       "      <td>Не женат / не замужем</td>\n",
       "      <td>4</td>\n",
       "      <td>M</td>\n",
       "      <td>пенсионер</td>\n",
       "      <td>0</td>\n",
       "      <td>88367.913869</td>\n",
       "      <td>операции с коммерческой недвижимостью</td>\n",
       "    </tr>\n",
       "    <tr>\n",
       "      <td>19417</td>\n",
       "      <td>1</td>\n",
       "      <td>14597.531676</td>\n",
       "      <td>28.00000</td>\n",
       "      <td>среднее</td>\n",
       "      <td>1</td>\n",
       "      <td>в разводе</td>\n",
       "      <td>3</td>\n",
       "      <td>F</td>\n",
       "      <td>пенсионер</td>\n",
       "      <td>0</td>\n",
       "      <td>52872.993654</td>\n",
       "      <td>автомобили</td>\n",
       "    </tr>\n",
       "    <tr>\n",
       "      <td>19439</td>\n",
       "      <td>0</td>\n",
       "      <td>16224.881982</td>\n",
       "      <td>26.00000</td>\n",
       "      <td>высшее</td>\n",
       "      <td>0</td>\n",
       "      <td>женат / замужем</td>\n",
       "      <td>0</td>\n",
       "      <td>F</td>\n",
       "      <td>пенсионер</td>\n",
       "      <td>0</td>\n",
       "      <td>214963.301941</td>\n",
       "      <td>покупка недвижимости</td>\n",
       "    </tr>\n",
       "    <tr>\n",
       "      <td>20271</td>\n",
       "      <td>0</td>\n",
       "      <td>15993.010180</td>\n",
       "      <td>37.00000</td>\n",
       "      <td>высшее</td>\n",
       "      <td>0</td>\n",
       "      <td>женат / замужем</td>\n",
       "      <td>0</td>\n",
       "      <td>F</td>\n",
       "      <td>пенсионер</td>\n",
       "      <td>0</td>\n",
       "      <td>188236.765814</td>\n",
       "      <td>на покупку автомобиля</td>\n",
       "    </tr>\n",
       "    <tr>\n",
       "      <td>20560</td>\n",
       "      <td>0</td>\n",
       "      <td>13891.416702</td>\n",
       "      <td>33.00000</td>\n",
       "      <td>Среднее</td>\n",
       "      <td>1</td>\n",
       "      <td>женат / замужем</td>\n",
       "      <td>0</td>\n",
       "      <td>M</td>\n",
       "      <td>пенсионер</td>\n",
       "      <td>0</td>\n",
       "      <td>163411.879628</td>\n",
       "      <td>образование</td>\n",
       "    </tr>\n",
       "    <tr>\n",
       "      <td>20829</td>\n",
       "      <td>1</td>\n",
       "      <td>16591.942999</td>\n",
       "      <td>40.00000</td>\n",
       "      <td>среднее</td>\n",
       "      <td>1</td>\n",
       "      <td>женат / замужем</td>\n",
       "      <td>0</td>\n",
       "      <td>F</td>\n",
       "      <td>пенсионер</td>\n",
       "      <td>0</td>\n",
       "      <td>39107.907534</td>\n",
       "      <td>получение образования</td>\n",
       "    </tr>\n",
       "  </tbody>\n",
       "</table>\n",
       "</div>"
      ],
      "text/plain": [
       "       children  days_employed  dob_years  education  education_id  \\\n",
       "157           0   14517.251167   38.00000    среднее             1   \n",
       "578           0   16577.356876   43.29338    среднее             1   \n",
       "751           0   16281.477669   41.00000    среднее             1   \n",
       "776           0   15222.356680   38.00000    среднее             1   \n",
       "1242          0   13948.510826   22.00000    Среднее             1   \n",
       "1383          0   14741.783820   37.00000    среднее             1   \n",
       "1446          0   14122.485068   37.00000    СРЕДНЕЕ             1   \n",
       "1637          0   16635.852021   39.00000    среднее             1   \n",
       "1752          1   16249.126643   38.00000     ВЫСШЕЕ             0   \n",
       "2992          0   15114.224288   39.00000    среднее             1   \n",
       "3133          1   14063.519451   31.00000    среднее             1   \n",
       "3504          2   16456.219944   38.00000    среднее             1   \n",
       "3963          0   16331.719751   34.00000    среднее             1   \n",
       "4749          0   15554.055296   41.00000    среднее             1   \n",
       "4910          0   16127.536006   38.00000     высшее             0   \n",
       "5717          0   16579.375133   33.00000    среднее             1   \n",
       "5842          2   16564.531969   34.00000    среднее             1   \n",
       "6354          0   16041.479218   43.00000    среднее             1   \n",
       "6552          1   14766.557406   36.00000    среднее             1   \n",
       "6945          1   16526.957458   41.00000    среднее             1   \n",
       "7229          1   13701.139403   32.00000    среднее             1   \n",
       "8017          0   16227.537386   40.00000    среднее             1   \n",
       "8099          0   15287.700443   39.00000     высшее             0   \n",
       "8658          2   15805.220494   39.00000    Среднее             1   \n",
       "9733          0   16021.357277   42.00000     высшее             0   \n",
       "9846          0   15441.497734   40.00000    среднее             1   \n",
       "10288         0   16689.741601   42.00000  начальное             3   \n",
       "11153         3   13966.195282   38.00000    среднее             1   \n",
       "12240         1   16514.886370   43.00000    среднее             1   \n",
       "12410         0   16334.583862   42.00000    среднее             1   \n",
       "12423         0   14980.733146   35.00000    среднее             1   \n",
       "12507         0   15812.170938   27.00000    среднее             1   \n",
       "12692         0   14710.668755   32.00000    среднее             1   \n",
       "12734         0   16272.364035   44.00000    среднее             1   \n",
       "12735         0   14008.890983   32.00000    Среднее             1   \n",
       "12753         1   13740.904375   27.00000    среднее             1   \n",
       "12879         2   15387.598283   36.00000     высшее             0   \n",
       "13006         0   15404.524546   37.00000    среднее             1   \n",
       "13591         0   14619.083551   38.00000    среднее             1   \n",
       "13953         0   15701.024409   27.00000    среднее             1   \n",
       "14035         1   14886.028029   40.00000    среднее             1   \n",
       "14514         0   16708.015654   43.29338    среднее             1   \n",
       "14659         0   16456.222702   43.29338    среднее             1   \n",
       "14695         1   14524.828389   38.00000    среднее             1   \n",
       "14798         0   16470.951611   45.00000     Высшее             0   \n",
       "15460         0   14815.435224   37.00000    среднее             1   \n",
       "16134         0   16431.802703   45.00000     высшее             0   \n",
       "16166         0   15181.174890   26.00000    среднее             1   \n",
       "16414         0   16569.646038   45.00000     высшее             0   \n",
       "16819         0   16365.633331   40.00000    среднее             1   \n",
       "16861         0   16495.575557   43.29338    среднее             1   \n",
       "18699         0   15356.500433   34.00000    среднее             1   \n",
       "18866         0   15717.042032   36.00000  начальное             3   \n",
       "19417         1   14597.531676   28.00000    среднее             1   \n",
       "19439         0   16224.881982   26.00000     высшее             0   \n",
       "20271         0   15993.010180   37.00000     высшее             0   \n",
       "20560         0   13891.416702   33.00000    Среднее             1   \n",
       "20829         1   16591.942999   40.00000    среднее             1   \n",
       "\n",
       "               family_status  family_status_id gender  income_type  debt  \\\n",
       "157          женат / замужем                 0      F    пенсионер     1   \n",
       "578          женат / замужем                 0      F    пенсионер     0   \n",
       "751          женат / замужем                 0      M    пенсионер     0   \n",
       "776          женат / замужем                 0      F    пенсионер     0   \n",
       "1242   Не женат / не замужем                 4      F    пенсионер     0   \n",
       "1383          вдовец / вдова                 2      F    пенсионер     0   \n",
       "1446        гражданский брак                 1      M    пенсионер     0   \n",
       "1637         женат / замужем                 0      M    пенсионер     0   \n",
       "1752   Не женат / не замужем                 4      F    пенсионер     0   \n",
       "2992               в разводе                 3      F    пенсионер     0   \n",
       "3133         женат / замужем                 0      M  безработный     1   \n",
       "3504         женат / замужем                 0      F    пенсионер     1   \n",
       "3963   Не женат / не замужем                 4      M    пенсионер     0   \n",
       "4749        гражданский брак                 1      F    пенсионер     0   \n",
       "4910   Не женат / не замужем                 4      F    пенсионер     0   \n",
       "5717        гражданский брак                 1      M    пенсионер     0   \n",
       "5842         женат / замужем                 0      F    пенсионер     0   \n",
       "6354   Не женат / не замужем                 4      M    пенсионер     1   \n",
       "6552               в разводе                 3      F    пенсионер     0   \n",
       "6945         женат / замужем                 0      M    пенсионер     0   \n",
       "7229        гражданский брак                 1      F    пенсионер     0   \n",
       "8017               в разводе                 3      M    пенсионер     0   \n",
       "8099        гражданский брак                 1      F    пенсионер     0   \n",
       "8658         женат / замужем                 0      M    пенсионер     0   \n",
       "9733        гражданский брак                 1      M    пенсионер     0   \n",
       "9846        гражданский брак                 1      M    пенсионер     0   \n",
       "10288       гражданский брак                 1      F    пенсионер     1   \n",
       "11153        женат / замужем                 0      F    пенсионер     0   \n",
       "12240       гражданский брак                 1      F    пенсионер     1   \n",
       "12410       гражданский брак                 1      M    пенсионер     0   \n",
       "12423       гражданский брак                 1      M    пенсионер     0   \n",
       "12507  Не женат / не замужем                 4      F    пенсионер     0   \n",
       "12692        женат / замужем                 0      M    пенсионер     1   \n",
       "12734        женат / замужем                 0      F    пенсионер     0   \n",
       "12735       гражданский брак                 1      M    пенсионер     0   \n",
       "12753        женат / замужем                 0      F    пенсионер     0   \n",
       "12879        женат / замужем                 0      F    пенсионер     0   \n",
       "13006       гражданский брак                 1      M    пенсионер     0   \n",
       "13591  Не женат / не замужем                 4      F    пенсионер     0   \n",
       "13953              в разводе                 3      M    пенсионер     0   \n",
       "14035        женат / замужем                 0      F    пенсионер     0   \n",
       "14514         вдовец / вдова                 2      F    пенсионер     0   \n",
       "14659  Не женат / не замужем                 4      F    пенсионер     0   \n",
       "14695       гражданский брак                 1      F    пенсионер     1   \n",
       "14798       гражданский брак                 1      F  безработный     0   \n",
       "15460       гражданский брак                 1      M    пенсионер     0   \n",
       "16134       гражданский брак                 1      F    пенсионер     0   \n",
       "16166       гражданский брак                 1      M    пенсионер     0   \n",
       "16414       гражданский брак                 1      M    пенсионер     0   \n",
       "16819        женат / замужем                 0      F    пенсионер     0   \n",
       "16861              в разводе                 3      F    пенсионер     0   \n",
       "18699       гражданский брак                 1      M    пенсионер     0   \n",
       "18866  Не женат / не замужем                 4      M    пенсионер     0   \n",
       "19417              в разводе                 3      F    пенсионер     0   \n",
       "19439        женат / замужем                 0      F    пенсионер     0   \n",
       "20271        женат / замужем                 0      F    пенсионер     0   \n",
       "20560        женат / замужем                 0      M    пенсионер     0   \n",
       "20829        женат / замужем                 0      F    пенсионер     0   \n",
       "\n",
       "        total_income                                 purpose  \n",
       "157    113560.650035                    сделка с автомобилем  \n",
       "578     97620.687042  строительство собственной недвижимости  \n",
       "751    151898.693438         операции со своей недвижимостью  \n",
       "776     73859.425084                    покупка недвижимости  \n",
       "1242    89368.600062           получение высшего образования  \n",
       "1383   216452.226085              строительство недвижимости  \n",
       "1446   148657.128499                                 свадьба  \n",
       "1637   211513.978152                операции с недвижимостью  \n",
       "1752   311574.433591                    покупка недвижимости  \n",
       "2992    96891.811526                    покупка недвижимости  \n",
       "3133    59956.991984                 покупка жилья для сдачи  \n",
       "3504   117596.916323   получение дополнительного образования  \n",
       "3963    79906.589697                      высшее образование  \n",
       "4749   158776.834019        строительство жилой недвижимости  \n",
       "4910   376300.519672                   получение образования  \n",
       "5717    94270.049769                   на проведение свадьбы  \n",
       "5842   298041.412070   операции с коммерческой недвижимостью  \n",
       "6354    95013.282467            заняться высшим образованием  \n",
       "6552   115340.175144   операции с коммерческой недвижимостью  \n",
       "6945   158482.936488                            недвижимость  \n",
       "7229   122162.965695                         сыграть свадьбу  \n",
       "8017   144546.428029                 покупка жилья для сдачи  \n",
       "8099    85531.665056                   на проведение свадьбы  \n",
       "8658   117098.226827                                   жилье  \n",
       "9733   283079.131763   получение дополнительного образования  \n",
       "9846    82667.409207                                 свадьба  \n",
       "10288  136297.922676                                 свадьба  \n",
       "11153  104207.119572                                   жилье  \n",
       "12240  133040.653326                   получение образования  \n",
       "12410  156461.422035                                 свадьба  \n",
       "12423  113760.279287                                 свадьба  \n",
       "12507   50969.340462                    сделка с автомобилем  \n",
       "12692  165724.073337                              автомобиль  \n",
       "12734   41209.690802                    покупка своего жилья  \n",
       "12735  127022.044881   операции с коммерческой недвижимостью  \n",
       "12753   65198.102341                   получение образования  \n",
       "12879  143707.112331            заняться высшим образованием  \n",
       "13006   21205.280566            заняться высшим образованием  \n",
       "13591   60457.402134                                   жилье  \n",
       "13953   97961.993557                       операции с жильем  \n",
       "14035   82854.904531            заняться высшим образованием  \n",
       "14514   87215.410371            заняться высшим образованием  \n",
       "14659   34974.450366                                   жилье  \n",
       "14695  115598.588237                                 свадьба  \n",
       "14798  202722.511368                            ремонт жилью  \n",
       "15460  246814.073872                   на проведение свадьбы  \n",
       "16134  579005.050802                         сыграть свадьбу  \n",
       "16166   80044.196101                              автомобиль  \n",
       "16414  151002.822805                         сыграть свадьбу  \n",
       "16819  288573.379971                 покупка жилья для сдачи  \n",
       "16861  218284.757642                           покупка жилья  \n",
       "18699   73720.447531                         сыграть свадьбу  \n",
       "18866   88367.913869   операции с коммерческой недвижимостью  \n",
       "19417   52872.993654                              автомобили  \n",
       "19439  214963.301941                    покупка недвижимости  \n",
       "20271  188236.765814                   на покупку автомобиля  \n",
       "20560  163411.879628                             образование  \n",
       "20829   39107.907534                   получение образования  "
      ]
     },
     "execution_count": 30,
     "metadata": {},
     "output_type": "execute_result"
    }
   ],
   "source": [
    "# Проверим есть ли строки в которых возраст больше опыта\n",
    "len(clients_stat.loc[clients_stat['days_employed']/365 >= clients_stat['dob_years']])\n",
    "clients_stat.loc[clients_stat['days_employed']/365 >= clients_stat['dob_years']]"
   ]
  },
  {
   "cell_type": "markdown",
   "id": "267c1a55",
   "metadata": {},
   "source": [
    "58 строк \n",
    "- 56/58 имеют стиатус пенсионера, значит указанный возраст явно не соответствует действительности. Присвоим начальный пенсионный возраст\n",
    "- 2/58 безработные, нет общих параметров, скорее всего опечатка"
   ]
  },
  {
   "cell_type": "code",
   "execution_count": 31,
   "id": "00ca4dc1",
   "metadata": {},
   "outputs": [
    {
     "data": {
      "text/plain": [
       "0"
      ]
     },
     "execution_count": 31,
     "metadata": {},
     "output_type": "execute_result"
    }
   ],
   "source": [
    "# \n",
    "clients_stat.loc[clients_stat['days_employed']/365 >= clients_stat['dob_years'], 'dob_years'] = 65\n",
    "len(clients_stat.loc[clients_stat['days_employed']/365 >= clients_stat['dob_years']])"
   ]
  },
  {
   "cell_type": "markdown",
   "id": "5451db76",
   "metadata": {},
   "source": [
    "2. Теперь можно перейти к проверке категориальных переменных. \n",
    "\n",
    "Основные проблемы, которые могут встретиться:\n",
    "- регистр\n",
    "- опечатки\n",
    "- неадекватное значение (по смыслу)"
   ]
  },
  {
   "cell_type": "code",
   "execution_count": 32,
   "id": "be3636d1",
   "metadata": {},
   "outputs": [
    {
     "data": {
      "text/plain": [
       "array(['высшее', 'среднее', 'Среднее', 'СРЕДНЕЕ', 'ВЫСШЕЕ',\n",
       "       'неоконченное высшее', 'начальное', 'Высшее',\n",
       "       'НЕОКОНЧЕННОЕ ВЫСШЕЕ', 'Неоконченное высшее', 'НАЧАЛЬНОЕ',\n",
       "       'Начальное', 'Ученая степень', 'УЧЕНАЯ СТЕПЕНЬ', 'ученая степень'],\n",
       "      dtype=object)"
      ]
     },
     "execution_count": 32,
     "metadata": {},
     "output_type": "execute_result"
    }
   ],
   "source": [
    "# Просмотрим уникальные значения education\n",
    "clients_stat['education'].unique()"
   ]
  },
  {
   "cell_type": "code",
   "execution_count": 33,
   "id": "28962916",
   "metadata": {},
   "outputs": [
    {
     "data": {
      "text/plain": [
       "array(['высшее', 'среднее', 'неоконченное высшее', 'начальное',\n",
       "       'ученая степень'], dtype=object)"
      ]
     },
     "execution_count": 33,
     "metadata": {},
     "output_type": "execute_result"
    }
   ],
   "source": [
    "# Приведем все значения к нижнему регистру\n",
    "clients_stat['education'] = clients_stat['education'].str.lower()\n",
    "clients_stat['education'].unique()"
   ]
  },
  {
   "cell_type": "markdown",
   "id": "e5634d64",
   "metadata": {},
   "source": [
    "Аналогично с другими столбцами."
   ]
  },
  {
   "cell_type": "code",
   "execution_count": 34,
   "id": "bba22d88",
   "metadata": {},
   "outputs": [
    {
     "data": {
      "text/plain": [
       "array(['женат / замужем', 'гражданский брак', 'вдовец / вдова',\n",
       "       'в разводе', 'Не женат / не замужем'], dtype=object)"
      ]
     },
     "execution_count": 34,
     "metadata": {},
     "output_type": "execute_result"
    }
   ],
   "source": [
    "clients_stat['family_status'].unique() "
   ]
  },
  {
   "cell_type": "code",
   "execution_count": 35,
   "id": "1e72117d",
   "metadata": {},
   "outputs": [
    {
     "data": {
      "text/plain": [
       "array(['женат / замужем', 'гражданский брак', 'вдовец / вдова',\n",
       "       'в разводе', 'не женат / не замужем'], dtype=object)"
      ]
     },
     "execution_count": 35,
     "metadata": {},
     "output_type": "execute_result"
    }
   ],
   "source": [
    "clients_stat['family_status'] = clients_stat['family_status'].str.lower()\n",
    "clients_stat['family_status'].unique()"
   ]
  },
  {
   "cell_type": "code",
   "execution_count": 36,
   "id": "988e6407",
   "metadata": {},
   "outputs": [
    {
     "data": {
      "text/plain": [
       "array(['F', 'M', 'XNA'], dtype=object)"
      ]
     },
     "execution_count": 36,
     "metadata": {},
     "output_type": "execute_result"
    }
   ],
   "source": [
    "clients_stat['gender'].unique()"
   ]
  },
  {
   "cell_type": "code",
   "execution_count": 37,
   "id": "8da85fa2",
   "metadata": {},
   "outputs": [
    {
     "data": {
      "text/html": [
       "<div>\n",
       "<style scoped>\n",
       "    .dataframe tbody tr th:only-of-type {\n",
       "        vertical-align: middle;\n",
       "    }\n",
       "\n",
       "    .dataframe tbody tr th {\n",
       "        vertical-align: top;\n",
       "    }\n",
       "\n",
       "    .dataframe thead th {\n",
       "        text-align: right;\n",
       "    }\n",
       "</style>\n",
       "<table border=\"1\" class=\"dataframe\">\n",
       "  <thead>\n",
       "    <tr style=\"text-align: right;\">\n",
       "      <th></th>\n",
       "      <th>children</th>\n",
       "      <th>days_employed</th>\n",
       "      <th>dob_years</th>\n",
       "      <th>education</th>\n",
       "      <th>education_id</th>\n",
       "      <th>family_status</th>\n",
       "      <th>family_status_id</th>\n",
       "      <th>gender</th>\n",
       "      <th>income_type</th>\n",
       "      <th>debt</th>\n",
       "      <th>total_income</th>\n",
       "      <th>purpose</th>\n",
       "    </tr>\n",
       "  </thead>\n",
       "  <tbody>\n",
       "    <tr>\n",
       "      <td>10701</td>\n",
       "      <td>0</td>\n",
       "      <td>98.275021</td>\n",
       "      <td>24.0</td>\n",
       "      <td>неоконченное высшее</td>\n",
       "      <td>2</td>\n",
       "      <td>гражданский брак</td>\n",
       "      <td>1</td>\n",
       "      <td>XNA</td>\n",
       "      <td>компаньон</td>\n",
       "      <td>0</td>\n",
       "      <td>203905.157261</td>\n",
       "      <td>покупка недвижимости</td>\n",
       "    </tr>\n",
       "  </tbody>\n",
       "</table>\n",
       "</div>"
      ],
      "text/plain": [
       "       children  days_employed  dob_years            education  education_id  \\\n",
       "10701         0      98.275021       24.0  неоконченное высшее             2   \n",
       "\n",
       "          family_status  family_status_id gender income_type  debt  \\\n",
       "10701  гражданский брак                 1    XNA   компаньон     0   \n",
       "\n",
       "        total_income               purpose  \n",
       "10701  203905.157261  покупка недвижимости  "
      ]
     },
     "execution_count": 37,
     "metadata": {},
     "output_type": "execute_result"
    }
   ],
   "source": [
    "clients_stat.loc[clients_stat['gender'] == 'XNA']"
   ]
  },
  {
   "cell_type": "markdown",
   "id": "1adf6b3d",
   "metadata": {},
   "source": [
    "В столбце gender странное значение XNA. Но так как в исследовании пол нас не интересует, оставим без изменений."
   ]
  },
  {
   "cell_type": "code",
   "execution_count": 38,
   "id": "9547ab5e",
   "metadata": {},
   "outputs": [
    {
     "data": {
      "text/plain": [
       "array(['сотрудник', 'пенсионер', 'компаньон', 'госслужащий',\n",
       "       'безработный', 'предприниматель', 'студент', 'в декрете'],\n",
       "      dtype=object)"
      ]
     },
     "execution_count": 38,
     "metadata": {},
     "output_type": "execute_result"
    }
   ],
   "source": [
    "clients_stat['income_type'].unique()"
   ]
  },
  {
   "cell_type": "code",
   "execution_count": 39,
   "id": "5fac7a99",
   "metadata": {},
   "outputs": [
    {
     "data": {
      "text/plain": [
       "array(['покупка жилья', 'приобретение автомобиля',\n",
       "       'дополнительное образование', 'сыграть свадьбу',\n",
       "       'операции с жильем', 'образование', 'на проведение свадьбы',\n",
       "       'покупка жилья для семьи', 'покупка недвижимости',\n",
       "       'покупка коммерческой недвижимости', 'покупка жилой недвижимости',\n",
       "       'строительство собственной недвижимости', 'недвижимость',\n",
       "       'строительство недвижимости', 'на покупку подержанного автомобиля',\n",
       "       'на покупку своего автомобиля',\n",
       "       'операции с коммерческой недвижимостью',\n",
       "       'строительство жилой недвижимости', 'жилье',\n",
       "       'операции со своей недвижимостью', 'автомобили',\n",
       "       'заняться образованием', 'сделка с подержанным автомобилем',\n",
       "       'получение образования', 'автомобиль', 'свадьба',\n",
       "       'получение дополнительного образования', 'покупка своего жилья',\n",
       "       'операции с недвижимостью', 'получение высшего образования',\n",
       "       'свой автомобиль', 'сделка с автомобилем',\n",
       "       'профильное образование', 'высшее образование',\n",
       "       'покупка жилья для сдачи', 'на покупку автомобиля', 'ремонт жилью',\n",
       "       'заняться высшим образованием'], dtype=object)"
      ]
     },
     "execution_count": 39,
     "metadata": {},
     "output_type": "execute_result"
    }
   ],
   "source": [
    "clients_stat['purpose'].unique()"
   ]
  },
  {
   "cell_type": "markdown",
   "id": "9f71fb67",
   "metadata": {},
   "source": [
    "###  Изменение типов данных. \n"
   ]
  },
  {
   "cell_type": "code",
   "execution_count": 40,
   "id": "bb66a977",
   "metadata": {},
   "outputs": [
    {
     "name": "stdout",
     "output_type": "stream",
     "text": [
      "<class 'pandas.core.frame.DataFrame'>\n",
      "RangeIndex: 21525 entries, 0 to 21524\n",
      "Data columns (total 12 columns):\n",
      "children            21525 non-null int64\n",
      "days_employed       21525 non-null float64\n",
      "dob_years           21525 non-null float64\n",
      "education           21525 non-null object\n",
      "education_id        21525 non-null int64\n",
      "family_status       21525 non-null object\n",
      "family_status_id    21525 non-null int64\n",
      "gender              21525 non-null object\n",
      "income_type         21525 non-null object\n",
      "debt                21525 non-null int64\n",
      "total_income        21525 non-null float64\n",
      "purpose             21525 non-null object\n",
      "dtypes: float64(3), int64(4), object(5)\n",
      "memory usage: 2.0+ MB\n"
     ]
    }
   ],
   "source": [
    "clients_stat.info()"
   ]
  },
  {
   "cell_type": "markdown",
   "id": "eff2b4e2",
   "metadata": {},
   "source": [
    "Заменим тип days_employed, dob_years, total_income на float"
   ]
  },
  {
   "cell_type": "code",
   "execution_count": 41,
   "id": "76e15c96",
   "metadata": {},
   "outputs": [],
   "source": [
    "clients_stat['days_employed'] = clients_stat['days_employed'].astype(int)\n",
    "clients_stat['dob_years'] = clients_stat['dob_years'].astype(int)\n",
    "clients_stat['total_income'] = clients_stat['total_income'].astype(int)"
   ]
  },
  {
   "cell_type": "code",
   "execution_count": 42,
   "id": "950af3fb",
   "metadata": {},
   "outputs": [
    {
     "name": "stdout",
     "output_type": "stream",
     "text": [
      "<class 'pandas.core.frame.DataFrame'>\n",
      "RangeIndex: 21525 entries, 0 to 21524\n",
      "Data columns (total 12 columns):\n",
      "children            21525 non-null int64\n",
      "days_employed       21525 non-null int64\n",
      "dob_years           21525 non-null int64\n",
      "education           21525 non-null object\n",
      "education_id        21525 non-null int64\n",
      "family_status       21525 non-null object\n",
      "family_status_id    21525 non-null int64\n",
      "gender              21525 non-null object\n",
      "income_type         21525 non-null object\n",
      "debt                21525 non-null int64\n",
      "total_income        21525 non-null int64\n",
      "purpose             21525 non-null object\n",
      "dtypes: int64(7), object(5)\n",
      "memory usage: 2.0+ MB\n"
     ]
    }
   ],
   "source": [
    "clients_stat.info()"
   ]
  },
  {
   "cell_type": "markdown",
   "id": "7534aab4",
   "metadata": {},
   "source": [
    "###  Удаление дубликатов.\n",
    "\n",
    "Посчитаем и удалим явные дупликаты:"
   ]
  },
  {
   "cell_type": "code",
   "execution_count": 43,
   "id": "1473a4f7",
   "metadata": {},
   "outputs": [
    {
     "data": {
      "text/plain": [
       "71"
      ]
     },
     "execution_count": 43,
     "metadata": {},
     "output_type": "execute_result"
    }
   ],
   "source": [
    "clients_stat.duplicated().sum()"
   ]
  },
  {
   "cell_type": "code",
   "execution_count": 44,
   "id": "9e0e95ba",
   "metadata": {},
   "outputs": [],
   "source": [
    "clients_stat = clients_stat.drop_duplicates().reset_index(drop = True)"
   ]
  },
  {
   "cell_type": "code",
   "execution_count": 45,
   "id": "ca782265",
   "metadata": {},
   "outputs": [
    {
     "data": {
      "text/plain": [
       "0"
      ]
     },
     "execution_count": 45,
     "metadata": {},
     "output_type": "execute_result"
    }
   ],
   "source": [
    "clients_stat.duplicated().sum() # Проверка"
   ]
  },
  {
   "cell_type": "code",
   "execution_count": 46,
   "id": "4774b4de",
   "metadata": {},
   "outputs": [
    {
     "data": {
      "text/plain": [
       "array(['женат / замужем', 'гражданский брак', 'вдовец / вдова',\n",
       "       'в разводе', 'не женат / не замужем'], dtype=object)"
      ]
     },
     "execution_count": 46,
     "metadata": {},
     "output_type": "execute_result"
    }
   ],
   "source": [
    "# Просмотрим столбцы на неявные дубликаты\n",
    "\n",
    "#clients_stat['education'].unique()\n",
    "clients_stat['family_status'].unique()"
   ]
  },
  {
   "cell_type": "markdown",
   "id": "3d4f3a02",
   "metadata": {},
   "source": [
    "Дубликаты отсутствуют. "
   ]
  },
  {
   "cell_type": "markdown",
   "id": "3e4a7190",
   "metadata": {},
   "source": [
    "###  Формирование дополнительных датафреймов словарей, декомпозиция исходного датафрейма.\n",
    "\n",
    "Создайте два новых датафрейма, которые будем использовать как словари: идентификатор - значение.\n",
    "Использование таких структур \"облегчит\" основную таблицу без потери информации."
   ]
  },
  {
   "cell_type": "code",
   "execution_count": 47,
   "id": "a9828b65",
   "metadata": {},
   "outputs": [
    {
     "data": {
      "text/html": [
       "<div>\n",
       "<style scoped>\n",
       "    .dataframe tbody tr th:only-of-type {\n",
       "        vertical-align: middle;\n",
       "    }\n",
       "\n",
       "    .dataframe tbody tr th {\n",
       "        vertical-align: top;\n",
       "    }\n",
       "\n",
       "    .dataframe thead th {\n",
       "        text-align: right;\n",
       "    }\n",
       "</style>\n",
       "<table border=\"1\" class=\"dataframe\">\n",
       "  <thead>\n",
       "    <tr style=\"text-align: right;\">\n",
       "      <th></th>\n",
       "      <th>family_status_id</th>\n",
       "      <th>family_status</th>\n",
       "    </tr>\n",
       "  </thead>\n",
       "  <tbody>\n",
       "    <tr>\n",
       "      <td>0</td>\n",
       "      <td>0</td>\n",
       "      <td>женат / замужем</td>\n",
       "    </tr>\n",
       "    <tr>\n",
       "      <td>1</td>\n",
       "      <td>1</td>\n",
       "      <td>гражданский брак</td>\n",
       "    </tr>\n",
       "    <tr>\n",
       "      <td>2</td>\n",
       "      <td>2</td>\n",
       "      <td>вдовец / вдова</td>\n",
       "    </tr>\n",
       "    <tr>\n",
       "      <td>3</td>\n",
       "      <td>3</td>\n",
       "      <td>в разводе</td>\n",
       "    </tr>\n",
       "    <tr>\n",
       "      <td>4</td>\n",
       "      <td>4</td>\n",
       "      <td>не женат / не замужем</td>\n",
       "    </tr>\n",
       "  </tbody>\n",
       "</table>\n",
       "</div>"
      ],
      "text/plain": [
       "   family_status_id          family_status\n",
       "0                 0        женат / замужем\n",
       "1                 1       гражданский брак\n",
       "2                 2         вдовец / вдова\n",
       "3                 3              в разводе\n",
       "4                 4  не женат / не замужем"
      ]
     },
     "execution_count": 47,
     "metadata": {},
     "output_type": "execute_result"
    }
   ],
   "source": [
    "education_dict = clients_stat[['education_id','education']]\n",
    "education_dict = education_dict.drop_duplicates().reset_index(drop=True) # удаление дубликатов\n",
    "\n",
    "family_dict = clients_stat[['family_status_id','family_status']]\n",
    "family_dict = family_dict.drop_duplicates().reset_index(drop=True)\n",
    "\n",
    "family_dict.head()"
   ]
  },
  {
   "cell_type": "code",
   "execution_count": 48,
   "id": "a5108da3",
   "metadata": {},
   "outputs": [
    {
     "name": "stdout",
     "output_type": "stream",
     "text": [
      "<class 'pandas.core.frame.DataFrame'>\n",
      "RangeIndex: 21454 entries, 0 to 21453\n",
      "Data columns (total 10 columns):\n",
      "children            21454 non-null int64\n",
      "days_employed       21454 non-null int64\n",
      "dob_years           21454 non-null int64\n",
      "education_id        21454 non-null int64\n",
      "family_status_id    21454 non-null int64\n",
      "gender              21454 non-null object\n",
      "income_type         21454 non-null object\n",
      "debt                21454 non-null int64\n",
      "total_income        21454 non-null int64\n",
      "purpose             21454 non-null object\n",
      "dtypes: int64(7), object(3)\n",
      "memory usage: 1.6+ MB\n"
     ]
    }
   ],
   "source": [
    "clients_stat.drop(['education', 'family_status'], axis='columns', inplace=True) # Удалим столбцы из основной таблицы\n",
    "clients_stat.info() # проверка"
   ]
  },
  {
   "cell_type": "markdown",
   "id": "35272b19",
   "metadata": {},
   "source": [
    "### Категоризация дохода.\n",
    "\n",
    "Присвоем каждой строке категорию по уровню дохода. Это необходимо для оценки влияние дохода на надежность клиента. Так как все показатели в столбце разные и нужно сгрупировать их, для выяления общей тенденции.\n",
    "\n",
    "Для этого реализуем функцию, которая будет присваевать категорию по следующим правилам:\n",
    "\n",
    "* 0–30000 — 'E';\n",
    "* 30001–50000 — 'D';\n",
    "* 50001–200000 — 'C';\n",
    "* 200001–1000000 — 'B';\n",
    "* выше — 'A',"
   ]
  },
  {
   "cell_type": "code",
   "execution_count": 49,
   "id": "2b68a4c4",
   "metadata": {},
   "outputs": [],
   "source": [
    " def total_income_category(total_income):\n",
    "        if total_income <= 30000:\n",
    "            return'E'\n",
    "        elif total_income <= 50000:\n",
    "            return'D'\n",
    "        elif total_income <= 200000:\n",
    "            return 'C'\n",
    "        elif total_income <= 1000000:\n",
    "            return 'B'\n",
    "        elif total_income >= 1000001:\n",
    "            return 'A'  "
   ]
  },
  {
   "cell_type": "code",
   "execution_count": 50,
   "id": "f3287575",
   "metadata": {},
   "outputs": [
    {
     "data": {
      "text/html": [
       "<div>\n",
       "<style scoped>\n",
       "    .dataframe tbody tr th:only-of-type {\n",
       "        vertical-align: middle;\n",
       "    }\n",
       "\n",
       "    .dataframe tbody tr th {\n",
       "        vertical-align: top;\n",
       "    }\n",
       "\n",
       "    .dataframe thead th {\n",
       "        text-align: right;\n",
       "    }\n",
       "</style>\n",
       "<table border=\"1\" class=\"dataframe\">\n",
       "  <thead>\n",
       "    <tr style=\"text-align: right;\">\n",
       "      <th></th>\n",
       "      <th>children</th>\n",
       "      <th>days_employed</th>\n",
       "      <th>dob_years</th>\n",
       "      <th>education_id</th>\n",
       "      <th>family_status_id</th>\n",
       "      <th>gender</th>\n",
       "      <th>income_type</th>\n",
       "      <th>debt</th>\n",
       "      <th>total_income</th>\n",
       "      <th>purpose</th>\n",
       "      <th>total_income_category</th>\n",
       "    </tr>\n",
       "  </thead>\n",
       "  <tbody>\n",
       "    <tr>\n",
       "      <td>0</td>\n",
       "      <td>1</td>\n",
       "      <td>351</td>\n",
       "      <td>42</td>\n",
       "      <td>0</td>\n",
       "      <td>0</td>\n",
       "      <td>F</td>\n",
       "      <td>сотрудник</td>\n",
       "      <td>0</td>\n",
       "      <td>253875</td>\n",
       "      <td>покупка жилья</td>\n",
       "      <td>B</td>\n",
       "    </tr>\n",
       "    <tr>\n",
       "      <td>1</td>\n",
       "      <td>1</td>\n",
       "      <td>167</td>\n",
       "      <td>36</td>\n",
       "      <td>1</td>\n",
       "      <td>0</td>\n",
       "      <td>F</td>\n",
       "      <td>сотрудник</td>\n",
       "      <td>0</td>\n",
       "      <td>112080</td>\n",
       "      <td>приобретение автомобиля</td>\n",
       "      <td>C</td>\n",
       "    </tr>\n",
       "    <tr>\n",
       "      <td>2</td>\n",
       "      <td>0</td>\n",
       "      <td>234</td>\n",
       "      <td>33</td>\n",
       "      <td>1</td>\n",
       "      <td>0</td>\n",
       "      <td>M</td>\n",
       "      <td>сотрудник</td>\n",
       "      <td>0</td>\n",
       "      <td>145885</td>\n",
       "      <td>покупка жилья</td>\n",
       "      <td>C</td>\n",
       "    </tr>\n",
       "    <tr>\n",
       "      <td>3</td>\n",
       "      <td>3</td>\n",
       "      <td>171</td>\n",
       "      <td>32</td>\n",
       "      <td>1</td>\n",
       "      <td>0</td>\n",
       "      <td>M</td>\n",
       "      <td>сотрудник</td>\n",
       "      <td>0</td>\n",
       "      <td>267628</td>\n",
       "      <td>дополнительное образование</td>\n",
       "      <td>B</td>\n",
       "    </tr>\n",
       "    <tr>\n",
       "      <td>4</td>\n",
       "      <td>0</td>\n",
       "      <td>14177</td>\n",
       "      <td>53</td>\n",
       "      <td>1</td>\n",
       "      <td>1</td>\n",
       "      <td>F</td>\n",
       "      <td>пенсионер</td>\n",
       "      <td>0</td>\n",
       "      <td>158616</td>\n",
       "      <td>сыграть свадьбу</td>\n",
       "      <td>C</td>\n",
       "    </tr>\n",
       "  </tbody>\n",
       "</table>\n",
       "</div>"
      ],
      "text/plain": [
       "   children  days_employed  dob_years  education_id  family_status_id gender  \\\n",
       "0         1            351         42             0                 0      F   \n",
       "1         1            167         36             1                 0      F   \n",
       "2         0            234         33             1                 0      M   \n",
       "3         3            171         32             1                 0      M   \n",
       "4         0          14177         53             1                 1      F   \n",
       "\n",
       "  income_type  debt  total_income                     purpose  \\\n",
       "0   сотрудник     0        253875               покупка жилья   \n",
       "1   сотрудник     0        112080     приобретение автомобиля   \n",
       "2   сотрудник     0        145885               покупка жилья   \n",
       "3   сотрудник     0        267628  дополнительное образование   \n",
       "4   пенсионер     0        158616             сыграть свадьбу   \n",
       "\n",
       "  total_income_category  \n",
       "0                     B  \n",
       "1                     C  \n",
       "2                     C  \n",
       "3                     B  \n",
       "4                     C  "
      ]
     },
     "execution_count": 50,
     "metadata": {},
     "output_type": "execute_result"
    }
   ],
   "source": [
    "clients_stat['total_income_category'] =  clients_stat['total_income'].apply(total_income_category) # Запишем результат работы функции в новый столбец\n",
    "clients_stat.head()"
   ]
  },
  {
   "cell_type": "markdown",
   "id": "ca40c0b1",
   "metadata": {},
   "source": [
    "###  Категоризация целей кредита.\n",
    "\n",
    "Так как один из вопросов, которые нам надо исследовать: \"Как разные цели кредита влияют на его возврат в срок?\", цели тоже следует разбить на категории. \n",
    "\n",
    "Сделаем это следующим образом, на основании данных из столбца purpose: \n",
    "* 'операции с автомобилем',\n",
    "* 'операции с недвижимостью',\n",
    "* 'проведение свадьбы',\n",
    "* 'получение образования'.\n",
    "\n",
    "И сформируем новый столбец purpose_category."
   ]
  },
  {
   "cell_type": "code",
   "execution_count": 51,
   "id": "b12fccba",
   "metadata": {},
   "outputs": [
    {
     "data": {
      "text/plain": [
       "array(['покупка жилья', 'приобретение автомобиля',\n",
       "       'дополнительное образование', 'сыграть свадьбу',\n",
       "       'операции с жильем', 'образование', 'на проведение свадьбы',\n",
       "       'покупка жилья для семьи', 'покупка недвижимости',\n",
       "       'покупка коммерческой недвижимости', 'покупка жилой недвижимости',\n",
       "       'строительство собственной недвижимости', 'недвижимость',\n",
       "       'строительство недвижимости', 'на покупку подержанного автомобиля',\n",
       "       'на покупку своего автомобиля',\n",
       "       'операции с коммерческой недвижимостью',\n",
       "       'строительство жилой недвижимости', 'жилье',\n",
       "       'операции со своей недвижимостью', 'автомобили',\n",
       "       'заняться образованием', 'сделка с подержанным автомобилем',\n",
       "       'получение образования', 'автомобиль', 'свадьба',\n",
       "       'получение дополнительного образования', 'покупка своего жилья',\n",
       "       'операции с недвижимостью', 'получение высшего образования',\n",
       "       'свой автомобиль', 'сделка с автомобилем',\n",
       "       'профильное образование', 'высшее образование',\n",
       "       'покупка жилья для сдачи', 'на покупку автомобиля', 'ремонт жилью',\n",
       "       'заняться высшим образованием'], dtype=object)"
      ]
     },
     "execution_count": 51,
     "metadata": {},
     "output_type": "execute_result"
    }
   ],
   "source": [
    "clients_stat['purpose'].unique() # Просмотри уникальные значения в столбце"
   ]
  },
  {
   "cell_type": "code",
   "execution_count": 52,
   "id": "c4cee829",
   "metadata": {},
   "outputs": [],
   "source": [
    "# Функция, осуществляющая поиск подстроки в данных столбца, и по результату присваивающая категорию.\n",
    "\n",
    "def purpose_category(purpose):\n",
    "    if purpose.find('авто') != -1:\n",
    "        return 'операции с автомобилем'\n",
    "    elif purpose.find('жил') != -1 or purpose.find('недвижи')!= -1:\n",
    "        return 'операции с недвижимостью'\n",
    "    elif purpose.find('свад') != -1:\n",
    "        return 'проведение свадьбы'\n",
    "    elif purpose.find('образов') != -1:\n",
    "        return 'получение образования'\n",
    "    else: 'error'"
   ]
  },
  {
   "cell_type": "code",
   "execution_count": 53,
   "id": "96a20711",
   "metadata": {},
   "outputs": [],
   "source": [
    "# Результат работы функции запишем в новый столбец purpose_category\n",
    "clients_stat['purpose_category'] = clients_stat['purpose'].apply(purpose_category)\n",
    "#clients_stat[clients_stat['purpose_category'] == 'error']\n",
    "#clients_stat.head(50)"
   ]
  },
  {
   "cell_type": "markdown",
   "id": "155834c6",
   "metadata": {},
   "source": [
    "## Ответы на вопросы\n",
    "\n",
    "Данные подготовлены теперь можно исследовать зависимости.\n",
    "\n",
    "Нас интересуют следующие вопросы:\n",
    "- Есть ли зависимость между количеством детей и возвратом кредита в срок?\n",
    "- Есть ли зависимость между семейным положением и возвратом кредита в срок?\n",
    "- Есть ли зависимость между уровнем дохода и возвратом кредита в срок?\n",
    "- Как разные цели кредита влияют на его возврат в срок?\n"
   ]
  },
  {
   "cell_type": "markdown",
   "id": "ff3581d0",
   "metadata": {},
   "source": [
    "##### Есть ли зависимость между количеством детей и возвратом кредита в срок?\n",
    "Для того чтобы ответить на превый вопрос сгруппируем данные таблицы по столбцу children, и посчитаем кол-во должников для каждой группы.\n",
    "\n",
    "Но показательной будет только доля должников от кол-ва людей в группе. Посчитаем процент должников:"
   ]
  },
  {
   "cell_type": "code",
   "execution_count": 54,
   "id": "9a85b0c8",
   "metadata": {},
   "outputs": [
    {
     "data": {
      "text/plain": [
       "0.07543822297920659"
      ]
     },
     "execution_count": 54,
     "metadata": {},
     "output_type": "execute_result"
    }
   ],
   "source": [
    "a = len(clients_stat.query('children == 0 and debt == 1')) \n",
    "b = len(clients_stat.query('children == 0 and debt == 0'))\n",
    "a/(a+b)"
   ]
  },
  {
   "cell_type": "code",
   "execution_count": 55,
   "id": "3557e7e1",
   "metadata": {},
   "outputs": [
    {
     "data": {
      "text/plain": [
       "0.09165808444902163"
      ]
     },
     "execution_count": 55,
     "metadata": {},
     "output_type": "execute_result"
    }
   ],
   "source": [
    "a = len(clients_stat.query('children == 1 and debt == 1')) \n",
    "b = len(clients_stat.query('children == 1 and debt == 0'))\n",
    "a/(a+b)"
   ]
  },
  {
   "cell_type": "code",
   "execution_count": 56,
   "id": "52ed025a",
   "metadata": {},
   "outputs": [
    {
     "data": {
      "text/plain": [
       "0.09492481203007519"
      ]
     },
     "execution_count": 56,
     "metadata": {},
     "output_type": "execute_result"
    }
   ],
   "source": [
    "a = len(clients_stat.query('children == 2 and debt == 1')) \n",
    "b = len(clients_stat.query('children == 2 and debt == 0'))\n",
    "a/(a+b)"
   ]
  },
  {
   "cell_type": "code",
   "execution_count": 57,
   "id": "5e6cc45e",
   "metadata": {},
   "outputs": [
    {
     "data": {
      "text/plain": [
       "0.08181818181818182"
      ]
     },
     "execution_count": 57,
     "metadata": {},
     "output_type": "execute_result"
    }
   ],
   "source": [
    "a = len(clients_stat.query('children == 3 and debt == 1')) \n",
    "b = len(clients_stat.query('children == 3 and debt == 0'))\n",
    "a/(a+b)"
   ]
  },
  {
   "cell_type": "code",
   "execution_count": 58,
   "id": "46860ece",
   "metadata": {},
   "outputs": [
    {
     "data": {
      "text/plain": [
       "0.0975609756097561"
      ]
     },
     "execution_count": 58,
     "metadata": {},
     "output_type": "execute_result"
    }
   ],
   "source": [
    "a = len(clients_stat.query('children == 4 and debt == 1')) \n",
    "b = len(clients_stat.query('children == 4 and debt == 0'))\n",
    "a/(a+b)"
   ]
  },
  {
   "cell_type": "code",
   "execution_count": 59,
   "id": "a06a58d5",
   "metadata": {},
   "outputs": [
    {
     "data": {
      "text/plain": [
       "0.0"
      ]
     },
     "execution_count": 59,
     "metadata": {},
     "output_type": "execute_result"
    }
   ],
   "source": [
    "a = len(clients_stat.query('children == 5 and debt == 1')) \n",
    "b = len(clients_stat.query('children == 5 and debt == 0'))\n",
    "a/(a+b)"
   ]
  },
  {
   "cell_type": "code",
   "execution_count": 60,
   "id": "b6dfbb71",
   "metadata": {},
   "outputs": [
    {
     "data": {
      "text/html": [
       "<div>\n",
       "<style scoped>\n",
       "    .dataframe tbody tr th:only-of-type {\n",
       "        vertical-align: middle;\n",
       "    }\n",
       "\n",
       "    .dataframe tbody tr th {\n",
       "        vertical-align: top;\n",
       "    }\n",
       "\n",
       "    .dataframe thead th {\n",
       "        text-align: right;\n",
       "    }\n",
       "</style>\n",
       "<table border=\"1\" class=\"dataframe\">\n",
       "  <thead>\n",
       "    <tr style=\"text-align: right;\">\n",
       "      <th>debt</th>\n",
       "      <th>0</th>\n",
       "      <th>1</th>\n",
       "    </tr>\n",
       "    <tr>\n",
       "      <th>children</th>\n",
       "      <th></th>\n",
       "      <th></th>\n",
       "    </tr>\n",
       "  </thead>\n",
       "  <tbody>\n",
       "    <tr>\n",
       "      <td>0</td>\n",
       "      <td>13028.0</td>\n",
       "      <td>1063.0</td>\n",
       "    </tr>\n",
       "    <tr>\n",
       "      <td>1</td>\n",
       "      <td>4410.0</td>\n",
       "      <td>445.0</td>\n",
       "    </tr>\n",
       "    <tr>\n",
       "      <td>2</td>\n",
       "      <td>1926.0</td>\n",
       "      <td>202.0</td>\n",
       "    </tr>\n",
       "    <tr>\n",
       "      <td>3</td>\n",
       "      <td>303.0</td>\n",
       "      <td>27.0</td>\n",
       "    </tr>\n",
       "    <tr>\n",
       "      <td>4</td>\n",
       "      <td>37.0</td>\n",
       "      <td>4.0</td>\n",
       "    </tr>\n",
       "    <tr>\n",
       "      <td>5</td>\n",
       "      <td>9.0</td>\n",
       "      <td>NaN</td>\n",
       "    </tr>\n",
       "  </tbody>\n",
       "</table>\n",
       "</div>"
      ],
      "text/plain": [
       "debt            0       1\n",
       "children                 \n",
       "0         13028.0  1063.0\n",
       "1          4410.0   445.0\n",
       "2          1926.0   202.0\n",
       "3           303.0    27.0\n",
       "4            37.0     4.0\n",
       "5             9.0     NaN"
      ]
     },
     "metadata": {},
     "output_type": "display_data"
    }
   ],
   "source": [
    "pivot_children = pd.pivot_table(clients_stat, values = 'days_employed',index=['children'], columns=['debt'], aggfunc='count')\n",
    "display(pivot_children)"
   ]
  },
  {
   "cell_type": "code",
   "execution_count": 61,
   "id": "8b1ade20",
   "metadata": {},
   "outputs": [
    {
     "data": {
      "text/html": [
       "<div>\n",
       "<style scoped>\n",
       "    .dataframe tbody tr th:only-of-type {\n",
       "        vertical-align: middle;\n",
       "    }\n",
       "\n",
       "    .dataframe tbody tr th {\n",
       "        vertical-align: top;\n",
       "    }\n",
       "\n",
       "    .dataframe thead th {\n",
       "        text-align: right;\n",
       "    }\n",
       "</style>\n",
       "<table border=\"1\" class=\"dataframe\">\n",
       "  <thead>\n",
       "    <tr style=\"text-align: right;\">\n",
       "      <th>debt</th>\n",
       "      <th>0</th>\n",
       "      <th>1</th>\n",
       "      <th>percent</th>\n",
       "    </tr>\n",
       "    <tr>\n",
       "      <th>children</th>\n",
       "      <th></th>\n",
       "      <th></th>\n",
       "      <th></th>\n",
       "    </tr>\n",
       "  </thead>\n",
       "  <tbody>\n",
       "    <tr>\n",
       "      <td>0</td>\n",
       "      <td>13028.0</td>\n",
       "      <td>1063.0</td>\n",
       "      <td>0.075438</td>\n",
       "    </tr>\n",
       "    <tr>\n",
       "      <td>1</td>\n",
       "      <td>4410.0</td>\n",
       "      <td>445.0</td>\n",
       "      <td>0.091658</td>\n",
       "    </tr>\n",
       "    <tr>\n",
       "      <td>2</td>\n",
       "      <td>1926.0</td>\n",
       "      <td>202.0</td>\n",
       "      <td>0.094925</td>\n",
       "    </tr>\n",
       "    <tr>\n",
       "      <td>3</td>\n",
       "      <td>303.0</td>\n",
       "      <td>27.0</td>\n",
       "      <td>0.081818</td>\n",
       "    </tr>\n",
       "    <tr>\n",
       "      <td>4</td>\n",
       "      <td>37.0</td>\n",
       "      <td>4.0</td>\n",
       "      <td>0.097561</td>\n",
       "    </tr>\n",
       "    <tr>\n",
       "      <td>5</td>\n",
       "      <td>9.0</td>\n",
       "      <td>NaN</td>\n",
       "      <td>NaN</td>\n",
       "    </tr>\n",
       "  </tbody>\n",
       "</table>\n",
       "</div>"
      ],
      "text/plain": [
       "debt            0       1   percent\n",
       "children                           \n",
       "0         13028.0  1063.0  0.075438\n",
       "1          4410.0   445.0  0.091658\n",
       "2          1926.0   202.0  0.094925\n",
       "3           303.0    27.0  0.081818\n",
       "4            37.0     4.0  0.097561\n",
       "5             9.0     NaN       NaN"
      ]
     },
     "execution_count": 61,
     "metadata": {},
     "output_type": "execute_result"
    }
   ],
   "source": [
    "pivot_children['percent'] = pivot_children[1]/(pivot_children[0]+pivot_children[1])\n",
    "pivot_children"
   ]
  },
  {
   "cell_type": "markdown",
   "id": "04905b56",
   "metadata": {},
   "source": [
    "###### Вывод\n",
    "\n",
    " Самые низкие показатели у категории людей без детей - 7.5%\n",
    "Самые высокие - 9,7% ( 4 ребёнка)\n",
    "Выборка людей у которых 5 детей не показательна."
   ]
  },
  {
   "cell_type": "markdown",
   "id": "de626518",
   "metadata": {},
   "source": [
    "#####  Есть ли зависимость между семейным положением и возвратом кредита в срок?\n",
    "\n",
    "Так же поступим с вопросом о влияние семейного положения на надежность клиента. \n",
    "\n",
    "Отличие в следующем: изначально мы будем работать с идентификатором семейного положения, после для наглядности объединим полученную таблицу со \"словарем\" family_dict."
   ]
  },
  {
   "cell_type": "code",
   "execution_count": 62,
   "id": "5a9b2cb4",
   "metadata": {},
   "outputs": [
    {
     "data": {
      "text/plain": [
       "0.07545181943431396"
      ]
     },
     "execution_count": 62,
     "metadata": {},
     "output_type": "execute_result"
    }
   ],
   "source": [
    "a = len(clients_stat.query('family_status_id == 0 and debt == 1')) \n",
    "b = len(clients_stat.query('family_status_id == 0 and debt == 0'))\n",
    "a/(a+b)\n"
   ]
  },
  {
   "cell_type": "code",
   "execution_count": 63,
   "id": "694e5c48",
   "metadata": {},
   "outputs": [
    {
     "data": {
      "text/plain": [
       "0.09347145266200915"
      ]
     },
     "execution_count": 63,
     "metadata": {},
     "output_type": "execute_result"
    }
   ],
   "source": [
    "a = len(clients_stat.query('family_status_id == 1 and debt == 1')) \n",
    "b = len(clients_stat.query('family_status_id == 1 and debt == 0'))\n",
    "a/(a+b)"
   ]
  },
  {
   "cell_type": "code",
   "execution_count": 64,
   "id": "7ca464c6",
   "metadata": {},
   "outputs": [
    {
     "data": {
      "text/plain": [
       "0.06569343065693431"
      ]
     },
     "execution_count": 64,
     "metadata": {},
     "output_type": "execute_result"
    }
   ],
   "source": [
    "a = len(clients_stat.query('family_status_id == 2 and debt == 1')) \n",
    "b = len(clients_stat.query('family_status_id == 2 and debt == 0'))\n",
    "a/(a+b)"
   ]
  },
  {
   "cell_type": "code",
   "execution_count": 65,
   "id": "0eb276b1",
   "metadata": {},
   "outputs": [
    {
     "data": {
      "text/plain": [
       "0.07112970711297072"
      ]
     },
     "execution_count": 65,
     "metadata": {},
     "output_type": "execute_result"
    }
   ],
   "source": [
    "a = len(clients_stat.query('family_status_id == 3 and debt == 1')) \n",
    "b = len(clients_stat.query('family_status_id == 3 and debt == 0'))\n",
    "a/(a+b)"
   ]
  },
  {
   "cell_type": "code",
   "execution_count": 66,
   "id": "33b14e38",
   "metadata": {},
   "outputs": [
    {
     "data": {
      "text/plain": [
       "0.09750889679715302"
      ]
     },
     "execution_count": 66,
     "metadata": {},
     "output_type": "execute_result"
    }
   ],
   "source": [
    "a = len(clients_stat.query('family_status_id == 4 and debt == 1')) \n",
    "b = len(clients_stat.query('family_status_id == 4 and debt == 0'))\n",
    "a/(a+b)"
   ]
  },
  {
   "cell_type": "markdown",
   "id": "3364312c",
   "metadata": {},
   "source": [
    "###### Вывод\n",
    "Самый низкий процент должников среди вдовцов - 6,5%, самый высокий у людей не состоящих в браке - 9,7%.\n"
   ]
  },
  {
   "cell_type": "markdown",
   "id": "494e3b89",
   "metadata": {},
   "source": [
    "##### Есть ли зависимость между уровнем дохода и возвратом кредита в срок?\n",
    "Для определения влияние дохода сгрупируем по категориям, присвоенным ранее."
   ]
  },
  {
   "cell_type": "code",
   "execution_count": 67,
   "id": "40b5c5b0",
   "metadata": {},
   "outputs": [
    {
     "data": {
      "text/plain": [
       "0.08"
      ]
     },
     "execution_count": 67,
     "metadata": {},
     "output_type": "execute_result"
    }
   ],
   "source": [
    "a = len(clients_stat.query('total_income_category == \"A\" and debt == 1')) \n",
    "b = len(clients_stat.query('total_income_category == \"A\" and debt == 0'))\n",
    "a/(a+b)\n"
   ]
  },
  {
   "cell_type": "code",
   "execution_count": 68,
   "id": "5c0f9e29",
   "metadata": {},
   "outputs": [
    {
     "data": {
      "text/plain": [
       "0.07062090854989089"
      ]
     },
     "execution_count": 68,
     "metadata": {},
     "output_type": "execute_result"
    }
   ],
   "source": [
    "a = len(clients_stat.query('total_income_category == \"B\" and debt == 1')) \n",
    "b = len(clients_stat.query('total_income_category == \"B\" and debt == 0'))\n",
    "a/(a+b)\n"
   ]
  },
  {
   "cell_type": "code",
   "execution_count": 69,
   "id": "1152a46b",
   "metadata": {},
   "outputs": [
    {
     "data": {
      "text/plain": [
       "0.08491508491508491"
      ]
     },
     "execution_count": 69,
     "metadata": {},
     "output_type": "execute_result"
    }
   ],
   "source": [
    "a = len(clients_stat.query('total_income_category == \"C\" and debt == 1')) \n",
    "b = len(clients_stat.query('total_income_category == \"C\" and debt == 0'))\n",
    "a/(a+b)\n"
   ]
  },
  {
   "cell_type": "code",
   "execution_count": 70,
   "id": "0fa00c00",
   "metadata": {},
   "outputs": [
    {
     "data": {
      "text/plain": [
       "0.06"
      ]
     },
     "execution_count": 70,
     "metadata": {},
     "output_type": "execute_result"
    }
   ],
   "source": [
    "a = len(clients_stat.query('total_income_category == \"D\" and debt == 1')) \n",
    "b = len(clients_stat.query('total_income_category == \"D\" and debt == 0'))\n",
    "a/(a+b)\n"
   ]
  },
  {
   "cell_type": "code",
   "execution_count": 71,
   "id": "4c05389c",
   "metadata": {},
   "outputs": [
    {
     "data": {
      "text/plain": [
       "0.09090909090909091"
      ]
     },
     "execution_count": 71,
     "metadata": {},
     "output_type": "execute_result"
    }
   ],
   "source": [
    "a = len(clients_stat.query('total_income_category == \"E\" and debt == 1')) \n",
    "b = len(clients_stat.query('total_income_category == \"E\" and debt == 0'))\n",
    "a/(a+b)\n"
   ]
  },
  {
   "cell_type": "markdown",
   "id": "5cc0d7d1",
   "metadata": {},
   "source": [
    "###### Вывод\n",
    "\n",
    "Меньше всего должников среди людей с уровнем дохода 30001–50000"
   ]
  },
  {
   "cell_type": "markdown",
   "id": "2bde1ad2",
   "metadata": {},
   "source": [
    "##### Как разные цели кредита влияют на его возврат в срок?"
   ]
  },
  {
   "cell_type": "code",
   "execution_count": 72,
   "id": "f1543384",
   "metadata": {},
   "outputs": [
    {
     "data": {
      "text/plain": [
       "0.09359033906177427"
      ]
     },
     "execution_count": 72,
     "metadata": {},
     "output_type": "execute_result"
    }
   ],
   "source": [
    "a = len(clients_stat.query('purpose_category == \"операции с автомобилем\" and debt == 1')) \n",
    "b = len(clients_stat.query('purpose_category == \"операции с автомобилем\" and debt == 0'))\n",
    "a/(a+b)\n",
    "\n"
   ]
  },
  {
   "cell_type": "code",
   "execution_count": 73,
   "id": "092e60e8",
   "metadata": {},
   "outputs": [
    {
     "data": {
      "text/plain": [
       "0.0723337341596522"
      ]
     },
     "execution_count": 73,
     "metadata": {},
     "output_type": "execute_result"
    }
   ],
   "source": [
    "a = len(clients_stat.query('purpose_category == \"операции с недвижимостью\" and debt == 1')) \n",
    "b = len(clients_stat.query('purpose_category == \"операции с недвижимостью\" and debt == 0'))\n",
    "a/(a+b)\n"
   ]
  },
  {
   "cell_type": "code",
   "execution_count": 74,
   "id": "6548963c",
   "metadata": {},
   "outputs": [
    {
     "data": {
      "text/plain": [
       "0.0922003488661849"
      ]
     },
     "execution_count": 74,
     "metadata": {},
     "output_type": "execute_result"
    }
   ],
   "source": [
    "a = len(clients_stat.query('purpose_category == \"получение образования\" and debt == 1')) \n",
    "b = len(clients_stat.query('purpose_category == \"получение образования\" and debt == 0'))\n",
    "a/(a+b)\n"
   ]
  },
  {
   "cell_type": "code",
   "execution_count": 75,
   "id": "d8e07d99",
   "metadata": {},
   "outputs": [
    {
     "data": {
      "text/plain": [
       "0.08003442340791739"
      ]
     },
     "execution_count": 75,
     "metadata": {},
     "output_type": "execute_result"
    }
   ],
   "source": [
    "a = len(clients_stat.query('purpose_category == \"проведение свадьбы\" and debt == 1')) \n",
    "b = len(clients_stat.query('purpose_category == \"проведение свадьбы\" and debt == 0'))\n",
    "a/(a+b)\n"
   ]
  },
  {
   "cell_type": "markdown",
   "id": "88e593b7",
   "metadata": {},
   "source": [
    "Больше всего должников в категории \"операции автомобилем\"."
   ]
  },
  {
   "cell_type": "markdown",
   "id": "bbd54160",
   "metadata": {},
   "source": [
    "## Общий вывод:"
   ]
  },
  {
   "cell_type": "markdown",
   "id": "723223fc",
   "metadata": {},
   "source": [
    "В ходе исследования определили:\n",
    "\n",
    "1. зависимость между количеством детей и возвратом кредита в срок\n",
    "    -  Самые низкие показатели по задолженностям у категории людей без детей - 7.5%\n",
    "       Самые высокие - 9,7% (4 ребёнка)\n",
    "       Выборка людей у которых 5 детей не показательна.\n",
    "\n",
    "\n",
    "\n",
    "2. зависимость между семейным положением и возвратом кредита в срок\n",
    "    -  Вдовцы и холостые люди реже оказываются должниками.\n",
    "  \n",
    "  \n",
    "3. зависимость между уровнем дохода и возвратом кредита в срок\n",
    "    -  Меньше всего должников среди людей с уровнем дохода 30001–50000,больше всего среди людей с доходами меньше 30000.\n",
    "  \n",
    "  \n",
    "4. зависимость между целью кредита и возвратом кредита в срок\n",
    "    -  Операции с автомобилем чаще всего становятся причиной задолженности.\n",
    "\n",
    "\n",
    "\n",
    "На самом деле процент должников, независимо от данных параметров колеблется от 7 до 10 процентов, нужна информация насколько существенна такая разница.\n",
    "\n",
    "Наименьшие риски несёт клиент без детей, холостой, с доходом 30000-50000, планирующий купить недвижимость"
   ]
  }
 ],
 "metadata": {
  "ExecuteTimeLog": [
   {
    "duration": 51,
    "start_time": "2022-02-25T08:47:00.794Z"
   },
   {
    "duration": 59,
    "start_time": "2022-02-25T08:47:13.272Z"
   },
   {
    "duration": 51,
    "start_time": "2022-02-25T08:47:34.166Z"
   },
   {
    "duration": 49,
    "start_time": "2022-02-25T08:47:44.160Z"
   },
   {
    "duration": 50,
    "start_time": "2022-02-25T08:49:56.153Z"
   },
   {
    "duration": 50,
    "start_time": "2022-02-25T08:52:55.180Z"
   },
   {
    "duration": 12,
    "start_time": "2022-02-25T08:52:59.498Z"
   },
   {
    "duration": 50,
    "start_time": "2022-02-25T08:53:04.466Z"
   },
   {
    "duration": 10,
    "start_time": "2022-02-25T08:54:51.212Z"
   },
   {
    "duration": 327,
    "start_time": "2022-02-25T08:58:14.364Z"
   },
   {
    "duration": 9,
    "start_time": "2022-02-25T08:58:20.371Z"
   },
   {
    "duration": 15,
    "start_time": "2022-02-25T08:59:02.517Z"
   },
   {
    "duration": 25,
    "start_time": "2022-02-25T09:00:07.998Z"
   },
   {
    "duration": 22,
    "start_time": "2022-02-25T09:02:06.127Z"
   },
   {
    "duration": 165,
    "start_time": "2022-02-25T09:02:30.546Z"
   },
   {
    "duration": 189,
    "start_time": "2022-02-25T09:09:13.469Z"
   },
   {
    "duration": 141,
    "start_time": "2022-02-25T09:09:20.650Z"
   },
   {
    "duration": 15,
    "start_time": "2022-02-25T09:10:58.679Z"
   },
   {
    "duration": 14,
    "start_time": "2022-02-25T09:11:39.126Z"
   },
   {
    "duration": 4,
    "start_time": "2022-02-25T09:13:37.796Z"
   },
   {
    "duration": 5,
    "start_time": "2022-02-25T09:14:19.711Z"
   },
   {
    "duration": 4,
    "start_time": "2022-02-25T09:15:39.733Z"
   },
   {
    "duration": 4,
    "start_time": "2022-02-25T09:15:58.213Z"
   },
   {
    "duration": 10,
    "start_time": "2022-02-25T09:16:23.663Z"
   },
   {
    "duration": 12,
    "start_time": "2022-02-25T09:17:31.726Z"
   },
   {
    "duration": 6,
    "start_time": "2022-02-25T09:57:46.366Z"
   },
   {
    "duration": 61,
    "start_time": "2022-02-25T09:57:56.632Z"
   },
   {
    "duration": 14,
    "start_time": "2022-02-25T09:57:57.514Z"
   },
   {
    "duration": 9,
    "start_time": "2022-02-25T09:58:06.880Z"
   },
   {
    "duration": 15,
    "start_time": "2022-02-25T09:58:13.016Z"
   },
   {
    "duration": 5,
    "start_time": "2022-02-25T09:58:14.584Z"
   },
   {
    "duration": 5,
    "start_time": "2022-02-25T09:58:32.672Z"
   },
   {
    "duration": 15,
    "start_time": "2022-02-25T10:24:39.852Z"
   },
   {
    "duration": 661,
    "start_time": "2022-02-25T10:26:16.254Z"
   },
   {
    "duration": 15,
    "start_time": "2022-02-25T10:26:20.520Z"
   },
   {
    "duration": 10,
    "start_time": "2022-02-25T10:26:23.269Z"
   },
   {
    "duration": 18,
    "start_time": "2022-02-25T10:26:24.021Z"
   },
   {
    "duration": 6,
    "start_time": "2022-02-25T10:26:24.573Z"
   },
   {
    "duration": 5,
    "start_time": "2022-02-25T10:26:25.333Z"
   },
   {
    "duration": 4,
    "start_time": "2022-02-25T10:26:26.746Z"
   },
   {
    "duration": 14,
    "start_time": "2022-02-25T10:26:28.725Z"
   },
   {
    "duration": 61,
    "start_time": "2022-02-25T10:29:42.431Z"
   },
   {
    "duration": 23,
    "start_time": "2022-02-25T10:29:42.720Z"
   },
   {
    "duration": 10,
    "start_time": "2022-02-25T10:29:43.984Z"
   },
   {
    "duration": 14,
    "start_time": "2022-02-25T10:29:44.353Z"
   },
   {
    "duration": 5,
    "start_time": "2022-02-25T10:29:44.655Z"
   },
   {
    "duration": 5,
    "start_time": "2022-02-25T10:29:50.567Z"
   },
   {
    "duration": 4,
    "start_time": "2022-02-25T10:29:51.350Z"
   },
   {
    "duration": 11,
    "start_time": "2022-02-25T10:29:52.549Z"
   },
   {
    "duration": 529,
    "start_time": "2022-02-25T10:30:05.928Z"
   },
   {
    "duration": 511,
    "start_time": "2022-02-25T10:30:43.512Z"
   },
   {
    "duration": 510,
    "start_time": "2022-02-25T10:32:10.854Z"
   },
   {
    "duration": 499,
    "start_time": "2022-02-25T10:32:37.556Z"
   },
   {
    "duration": 5,
    "start_time": "2022-02-25T10:32:55.402Z"
   },
   {
    "duration": 207,
    "start_time": "2022-02-25T10:33:44.186Z"
   },
   {
    "duration": 7,
    "start_time": "2022-02-25T10:33:58.882Z"
   },
   {
    "duration": 305,
    "start_time": "2022-02-25T10:34:07.273Z"
   },
   {
    "duration": 141,
    "start_time": "2022-02-25T10:34:25.057Z"
   },
   {
    "duration": 191,
    "start_time": "2022-02-25T10:34:32.658Z"
   },
   {
    "duration": 7,
    "start_time": "2022-02-25T10:35:16.153Z"
   },
   {
    "duration": 5,
    "start_time": "2022-02-25T10:36:39.682Z"
   },
   {
    "duration": 5,
    "start_time": "2022-02-25T10:37:10.756Z"
   },
   {
    "duration": 6,
    "start_time": "2022-02-25T10:37:29.018Z"
   },
   {
    "duration": 7,
    "start_time": "2022-02-25T10:37:47.787Z"
   },
   {
    "duration": 7,
    "start_time": "2022-02-25T10:37:59.044Z"
   },
   {
    "duration": 5,
    "start_time": "2022-02-25T10:38:59.933Z"
   },
   {
    "duration": 5,
    "start_time": "2022-02-25T10:39:24.316Z"
   },
   {
    "duration": 21,
    "start_time": "2022-02-25T10:41:02.190Z"
   },
   {
    "duration": 13,
    "start_time": "2022-02-25T10:41:22.076Z"
   },
   {
    "duration": 494,
    "start_time": "2022-02-25T10:44:31.766Z"
   },
   {
    "duration": 518,
    "start_time": "2022-02-25T10:45:03.622Z"
   },
   {
    "duration": 2974,
    "start_time": "2022-02-25T10:45:18.614Z"
   },
   {
    "duration": 5,
    "start_time": "2022-02-25T10:46:09.102Z"
   },
   {
    "duration": 521,
    "start_time": "2022-02-25T10:46:53.927Z"
   },
   {
    "duration": 6,
    "start_time": "2022-02-25T10:46:59.495Z"
   },
   {
    "duration": 144,
    "start_time": "2022-02-25T10:48:53.947Z"
   },
   {
    "duration": 155,
    "start_time": "2022-02-25T10:53:14.116Z"
   },
   {
    "duration": 5,
    "start_time": "2022-02-25T10:54:05.706Z"
   },
   {
    "duration": 202,
    "start_time": "2022-02-25T10:54:49.348Z"
   },
   {
    "duration": 149,
    "start_time": "2022-02-25T10:54:56.163Z"
   },
   {
    "duration": 9,
    "start_time": "2022-02-25T10:55:07.867Z"
   },
   {
    "duration": 8,
    "start_time": "2022-02-25T10:55:48.795Z"
   },
   {
    "duration": 8,
    "start_time": "2022-02-25T10:56:08.748Z"
   },
   {
    "duration": 8,
    "start_time": "2022-02-25T10:56:38.855Z"
   },
   {
    "duration": 8,
    "start_time": "2022-02-25T10:56:45.148Z"
   },
   {
    "duration": 9,
    "start_time": "2022-02-25T10:56:53.483Z"
   },
   {
    "duration": 17,
    "start_time": "2022-02-25T10:57:13.132Z"
   },
   {
    "duration": 5,
    "start_time": "2022-02-25T10:59:37.246Z"
   },
   {
    "duration": 5,
    "start_time": "2022-02-25T10:59:43.517Z"
   },
   {
    "duration": 5,
    "start_time": "2022-02-25T10:59:59.454Z"
   },
   {
    "duration": 305,
    "start_time": "2022-02-25T11:00:10.348Z"
   },
   {
    "duration": 12,
    "start_time": "2022-02-25T11:00:19.614Z"
   },
   {
    "duration": 17,
    "start_time": "2022-02-25T11:00:33.772Z"
   },
   {
    "duration": 13,
    "start_time": "2022-02-25T11:01:24.494Z"
   },
   {
    "duration": 5,
    "start_time": "2022-02-25T11:03:45.184Z"
   },
   {
    "duration": 8,
    "start_time": "2022-02-25T11:03:46.502Z"
   },
   {
    "duration": 13,
    "start_time": "2022-02-25T11:03:49.581Z"
   },
   {
    "duration": 5,
    "start_time": "2022-02-25T11:07:03.512Z"
   },
   {
    "duration": 69,
    "start_time": "2022-02-25T11:07:58.224Z"
   },
   {
    "duration": 46,
    "start_time": "2022-02-25T11:09:23.201Z"
   },
   {
    "duration": 5,
    "start_time": "2022-02-25T11:09:47.210Z"
   },
   {
    "duration": 6,
    "start_time": "2022-02-25T11:20:03.574Z"
   },
   {
    "duration": 223,
    "start_time": "2022-02-25T11:20:26.462Z"
   },
   {
    "duration": 23,
    "start_time": "2022-02-25T11:20:37.254Z"
   },
   {
    "duration": 8,
    "start_time": "2022-02-25T11:21:11.287Z"
   },
   {
    "duration": 244,
    "start_time": "2022-02-25T11:21:31.904Z"
   },
   {
    "duration": 133,
    "start_time": "2022-02-25T11:21:38.663Z"
   },
   {
    "duration": 13,
    "start_time": "2022-02-25T11:21:51.055Z"
   },
   {
    "duration": 14,
    "start_time": "2022-02-25T11:22:36.315Z"
   },
   {
    "duration": 8,
    "start_time": "2022-02-25T11:24:20.230Z"
   },
   {
    "duration": 7,
    "start_time": "2022-02-25T11:24:44.528Z"
   },
   {
    "duration": 7,
    "start_time": "2022-02-25T11:24:49.942Z"
   },
   {
    "duration": 6,
    "start_time": "2022-02-25T11:24:55.846Z"
   },
   {
    "duration": 6,
    "start_time": "2022-02-25T11:25:19.225Z"
   },
   {
    "duration": 31,
    "start_time": "2022-02-25T11:26:08.529Z"
   },
   {
    "duration": 26,
    "start_time": "2022-02-25T11:26:26.044Z"
   },
   {
    "duration": 83,
    "start_time": "2022-02-25T11:26:33.898Z"
   },
   {
    "duration": 9,
    "start_time": "2022-02-25T11:26:38.305Z"
   },
   {
    "duration": 24,
    "start_time": "2022-02-25T11:26:48.889Z"
   },
   {
    "duration": 24,
    "start_time": "2022-02-25T11:27:00.177Z"
   },
   {
    "duration": 12,
    "start_time": "2022-02-25T11:27:33.863Z"
   },
   {
    "duration": 5,
    "start_time": "2022-02-25T11:27:50.820Z"
   },
   {
    "duration": 5,
    "start_time": "2022-02-25T11:28:13.118Z"
   },
   {
    "duration": 5,
    "start_time": "2022-02-25T11:28:32.810Z"
   },
   {
    "duration": 6,
    "start_time": "2022-02-25T11:28:38.042Z"
   },
   {
    "duration": 5,
    "start_time": "2022-02-25T11:28:44.351Z"
   },
   {
    "duration": 5,
    "start_time": "2022-02-25T11:30:03.427Z"
   },
   {
    "duration": 5,
    "start_time": "2022-02-25T11:34:35.558Z"
   },
   {
    "duration": 6,
    "start_time": "2022-02-25T11:43:20.627Z"
   },
   {
    "duration": 5,
    "start_time": "2022-02-25T11:43:38.691Z"
   },
   {
    "duration": 6,
    "start_time": "2022-02-25T11:43:52.810Z"
   },
   {
    "duration": 6,
    "start_time": "2022-02-25T11:45:14.780Z"
   },
   {
    "duration": 248,
    "start_time": "2022-02-25T11:46:21.676Z"
   },
   {
    "duration": 8,
    "start_time": "2022-02-25T11:46:27.846Z"
   },
   {
    "duration": 5,
    "start_time": "2022-02-25T11:47:50.981Z"
   },
   {
    "duration": 6,
    "start_time": "2022-02-25T11:48:46.957Z"
   },
   {
    "duration": 6,
    "start_time": "2022-02-25T11:50:03.494Z"
   },
   {
    "duration": 7,
    "start_time": "2022-02-25T11:50:08.429Z"
   },
   {
    "duration": 7,
    "start_time": "2022-02-25T11:52:10.687Z"
   },
   {
    "duration": 14,
    "start_time": "2022-02-25T11:53:42.664Z"
   },
   {
    "duration": 7,
    "start_time": "2022-02-25T11:57:00.865Z"
   },
   {
    "duration": 9,
    "start_time": "2022-02-25T11:58:20.796Z"
   },
   {
    "duration": 4,
    "start_time": "2022-02-25T11:59:09.098Z"
   },
   {
    "duration": 7,
    "start_time": "2022-02-25T12:00:21.531Z"
   },
   {
    "duration": 10,
    "start_time": "2022-02-25T12:01:01.683Z"
   },
   {
    "duration": 8,
    "start_time": "2022-02-25T12:01:14.601Z"
   },
   {
    "duration": 13,
    "start_time": "2022-02-25T12:01:23.748Z"
   },
   {
    "duration": 9,
    "start_time": "2022-02-25T12:01:39.035Z"
   },
   {
    "duration": 8,
    "start_time": "2022-02-25T12:01:47.451Z"
   },
   {
    "duration": 9,
    "start_time": "2022-02-25T12:02:02.460Z"
   },
   {
    "duration": 12,
    "start_time": "2022-02-25T12:02:10.587Z"
   },
   {
    "duration": 9,
    "start_time": "2022-02-25T12:02:28.739Z"
   },
   {
    "duration": 5,
    "start_time": "2022-02-25T12:02:54.867Z"
   },
   {
    "duration": 8,
    "start_time": "2022-02-25T12:03:18.515Z"
   },
   {
    "duration": 4,
    "start_time": "2022-02-25T12:03:31.719Z"
   },
   {
    "duration": 5,
    "start_time": "2022-02-25T12:03:59.885Z"
   },
   {
    "duration": 4,
    "start_time": "2022-02-25T12:04:02.628Z"
   },
   {
    "duration": 3,
    "start_time": "2022-02-25T12:04:55.886Z"
   },
   {
    "duration": 3,
    "start_time": "2022-02-25T12:06:04.166Z"
   },
   {
    "duration": 4,
    "start_time": "2022-02-25T12:07:15.127Z"
   },
   {
    "duration": 3,
    "start_time": "2022-02-25T12:08:23.002Z"
   },
   {
    "duration": 4,
    "start_time": "2022-02-25T12:09:44.841Z"
   },
   {
    "duration": 7,
    "start_time": "2022-02-25T12:20:48.478Z"
   },
   {
    "duration": 11,
    "start_time": "2022-02-25T12:21:21.910Z"
   },
   {
    "duration": 53,
    "start_time": "2022-02-25T12:21:30.499Z"
   },
   {
    "duration": 15,
    "start_time": "2022-02-25T12:21:31.129Z"
   },
   {
    "duration": 10,
    "start_time": "2022-02-25T12:21:33.209Z"
   },
   {
    "duration": 14,
    "start_time": "2022-02-25T12:21:33.820Z"
   },
   {
    "duration": 6,
    "start_time": "2022-02-25T12:21:34.238Z"
   },
   {
    "duration": 5,
    "start_time": "2022-02-25T12:21:34.749Z"
   },
   {
    "duration": 4,
    "start_time": "2022-02-25T12:21:35.620Z"
   },
   {
    "duration": 12,
    "start_time": "2022-02-25T12:21:36.761Z"
   },
   {
    "duration": 6,
    "start_time": "2022-02-25T12:21:38.469Z"
   },
   {
    "duration": 7,
    "start_time": "2022-02-25T12:21:38.937Z"
   },
   {
    "duration": 8,
    "start_time": "2022-02-25T12:21:39.533Z"
   },
   {
    "duration": 7,
    "start_time": "2022-02-25T12:21:40.085Z"
   },
   {
    "duration": 5,
    "start_time": "2022-02-25T12:21:40.695Z"
   },
   {
    "duration": 9,
    "start_time": "2022-02-25T12:21:41.357Z"
   },
   {
    "duration": 7,
    "start_time": "2022-02-25T12:21:42.787Z"
   },
   {
    "duration": 13,
    "start_time": "2022-02-25T12:21:43.664Z"
   },
   {
    "duration": 6,
    "start_time": "2022-02-25T12:21:44.688Z"
   },
   {
    "duration": 8,
    "start_time": "2022-02-25T12:21:46.901Z"
   },
   {
    "duration": 8,
    "start_time": "2022-02-25T12:21:54.887Z"
   },
   {
    "duration": 12,
    "start_time": "2022-02-25T12:21:56.317Z"
   },
   {
    "duration": 4,
    "start_time": "2022-02-25T12:21:58.309Z"
   },
   {
    "duration": 10,
    "start_time": "2022-02-25T12:22:01.109Z"
   },
   {
    "duration": 4,
    "start_time": "2022-02-25T12:22:28.990Z"
   },
   {
    "duration": 4,
    "start_time": "2022-02-25T12:23:20.694Z"
   },
   {
    "duration": 6,
    "start_time": "2022-02-25T12:25:07.480Z"
   },
   {
    "duration": 6,
    "start_time": "2022-02-25T12:25:26.080Z"
   },
   {
    "duration": 9,
    "start_time": "2022-02-25T12:25:27.559Z"
   },
   {
    "duration": 8,
    "start_time": "2022-02-25T12:26:41.560Z"
   },
   {
    "duration": 12,
    "start_time": "2022-02-25T12:26:51.352Z"
   },
   {
    "duration": 4,
    "start_time": "2022-02-25T12:30:22.701Z"
   },
   {
    "duration": 23,
    "start_time": "2022-02-25T12:38:31.686Z"
   },
   {
    "duration": 4,
    "start_time": "2022-02-25T12:47:56.037Z"
   },
   {
    "duration": 4,
    "start_time": "2022-02-25T14:16:40.450Z"
   },
   {
    "duration": 11,
    "start_time": "2022-02-25T14:17:03.296Z"
   },
   {
    "duration": 7,
    "start_time": "2022-02-25T14:17:14.507Z"
   },
   {
    "duration": 22,
    "start_time": "2022-02-25T14:43:34.332Z"
   },
   {
    "duration": 52,
    "start_time": "2022-02-25T14:48:59.737Z"
   },
   {
    "duration": 15,
    "start_time": "2022-02-25T14:49:02.125Z"
   },
   {
    "duration": 9,
    "start_time": "2022-02-25T14:49:03.772Z"
   },
   {
    "duration": 14,
    "start_time": "2022-02-25T14:49:05.844Z"
   },
   {
    "duration": 5,
    "start_time": "2022-02-25T14:49:06.548Z"
   },
   {
    "duration": 5,
    "start_time": "2022-02-25T14:49:07.214Z"
   },
   {
    "duration": 4,
    "start_time": "2022-02-25T14:49:08.275Z"
   },
   {
    "duration": 13,
    "start_time": "2022-02-25T14:49:10.020Z"
   },
   {
    "duration": 5,
    "start_time": "2022-02-25T14:49:17.700Z"
   },
   {
    "duration": 6,
    "start_time": "2022-02-25T14:49:18.164Z"
   },
   {
    "duration": 7,
    "start_time": "2022-02-25T14:49:18.644Z"
   },
   {
    "duration": 7,
    "start_time": "2022-02-25T14:49:19.092Z"
   },
   {
    "duration": 5,
    "start_time": "2022-02-25T14:49:19.660Z"
   },
   {
    "duration": 7,
    "start_time": "2022-02-25T14:49:20.340Z"
   },
   {
    "duration": 6,
    "start_time": "2022-02-25T14:49:21.068Z"
   },
   {
    "duration": 14,
    "start_time": "2022-02-25T14:49:21.476Z"
   },
   {
    "duration": 6,
    "start_time": "2022-02-25T14:49:22.268Z"
   },
   {
    "duration": 8,
    "start_time": "2022-02-25T14:49:22.804Z"
   },
   {
    "duration": 4,
    "start_time": "2022-02-25T14:49:23.340Z"
   },
   {
    "duration": 8,
    "start_time": "2022-02-25T14:49:24.140Z"
   },
   {
    "duration": 5,
    "start_time": "2022-02-25T14:49:25.827Z"
   },
   {
    "duration": 9,
    "start_time": "2022-02-25T14:49:27.956Z"
   },
   {
    "duration": 14,
    "start_time": "2022-02-25T14:49:29.317Z"
   },
   {
    "duration": 22,
    "start_time": "2022-02-25T14:49:33.548Z"
   },
   {
    "duration": 8,
    "start_time": "2022-02-25T14:49:37.956Z"
   },
   {
    "duration": 26,
    "start_time": "2022-02-25T14:50:34.133Z"
   },
   {
    "duration": 6,
    "start_time": "2022-02-25T14:50:57.502Z"
   },
   {
    "duration": 110,
    "start_time": "2022-02-25T14:51:07.317Z"
   },
   {
    "duration": 25,
    "start_time": "2022-02-25T14:51:10.414Z"
   },
   {
    "duration": 12,
    "start_time": "2022-02-25T15:11:20.707Z"
   },
   {
    "duration": 11,
    "start_time": "2022-02-25T15:11:56.346Z"
   },
   {
    "duration": 8,
    "start_time": "2022-02-25T15:12:07.644Z"
   },
   {
    "duration": 54,
    "start_time": "2022-02-25T15:12:14.205Z"
   },
   {
    "duration": 14,
    "start_time": "2022-02-25T15:12:14.581Z"
   },
   {
    "duration": 10,
    "start_time": "2022-02-25T15:12:15.726Z"
   },
   {
    "duration": 13,
    "start_time": "2022-02-25T15:12:15.894Z"
   },
   {
    "duration": 5,
    "start_time": "2022-02-25T15:12:16.071Z"
   },
   {
    "duration": 5,
    "start_time": "2022-02-25T15:12:16.276Z"
   },
   {
    "duration": 4,
    "start_time": "2022-02-25T15:12:16.668Z"
   },
   {
    "duration": 12,
    "start_time": "2022-02-25T15:12:17.238Z"
   },
   {
    "duration": 6,
    "start_time": "2022-02-25T15:12:18.621Z"
   },
   {
    "duration": 6,
    "start_time": "2022-02-25T15:12:18.868Z"
   },
   {
    "duration": 6,
    "start_time": "2022-02-25T15:12:19.079Z"
   },
   {
    "duration": 6,
    "start_time": "2022-02-25T15:12:19.272Z"
   },
   {
    "duration": 5,
    "start_time": "2022-02-25T15:12:19.457Z"
   },
   {
    "duration": 6,
    "start_time": "2022-02-25T15:12:19.661Z"
   },
   {
    "duration": 7,
    "start_time": "2022-02-25T15:12:20.028Z"
   },
   {
    "duration": 13,
    "start_time": "2022-02-25T15:12:20.222Z"
   },
   {
    "duration": 7,
    "start_time": "2022-02-25T15:12:20.444Z"
   },
   {
    "duration": 8,
    "start_time": "2022-02-25T15:12:20.653Z"
   },
   {
    "duration": 4,
    "start_time": "2022-02-25T15:12:20.863Z"
   },
   {
    "duration": 8,
    "start_time": "2022-02-25T15:12:21.039Z"
   },
   {
    "duration": 6,
    "start_time": "2022-02-25T15:12:21.612Z"
   },
   {
    "duration": 8,
    "start_time": "2022-02-25T15:12:21.877Z"
   },
   {
    "duration": 13,
    "start_time": "2022-02-25T15:12:22.208Z"
   },
   {
    "duration": 23,
    "start_time": "2022-02-25T15:12:22.573Z"
   },
   {
    "duration": 9,
    "start_time": "2022-02-25T15:12:26.341Z"
   },
   {
    "duration": 28,
    "start_time": "2022-02-25T15:12:26.902Z"
   },
   {
    "duration": 10,
    "start_time": "2022-02-25T15:12:27.612Z"
   },
   {
    "duration": 5,
    "start_time": "2022-02-25T15:13:55.102Z"
   },
   {
    "duration": 191,
    "start_time": "2022-02-25T15:16:19.360Z"
   },
   {
    "duration": 143,
    "start_time": "2022-02-25T15:17:08.863Z"
   },
   {
    "duration": 135,
    "start_time": "2022-02-25T15:17:15.058Z"
   },
   {
    "duration": 11,
    "start_time": "2022-02-25T15:17:47.352Z"
   },
   {
    "duration": 16,
    "start_time": "2022-02-25T15:18:00.784Z"
   },
   {
    "duration": 6,
    "start_time": "2022-02-25T15:19:19.717Z"
   },
   {
    "duration": 17,
    "start_time": "2022-02-25T15:20:22.921Z"
   },
   {
    "duration": 5,
    "start_time": "2022-02-25T15:21:10.289Z"
   },
   {
    "duration": 12,
    "start_time": "2022-02-25T15:22:21.363Z"
   },
   {
    "duration": 4,
    "start_time": "2022-02-25T15:24:58.219Z"
   },
   {
    "duration": 7,
    "start_time": "2022-02-25T15:25:09.243Z"
   },
   {
    "duration": 11,
    "start_time": "2022-02-25T15:26:42.682Z"
   },
   {
    "duration": 4,
    "start_time": "2022-02-25T15:28:24.652Z"
   },
   {
    "duration": 11,
    "start_time": "2022-02-25T15:28:40.692Z"
   },
   {
    "duration": 5,
    "start_time": "2022-02-25T15:29:08.911Z"
   },
   {
    "duration": 12,
    "start_time": "2022-02-25T15:29:09.548Z"
   },
   {
    "duration": 15,
    "start_time": "2022-02-25T15:30:12.429Z"
   },
   {
    "duration": 16,
    "start_time": "2022-02-25T15:30:35.819Z"
   },
   {
    "duration": 32,
    "start_time": "2022-02-25T15:31:28.830Z"
   },
   {
    "duration": 29,
    "start_time": "2022-02-25T15:31:46.700Z"
   },
   {
    "duration": 28,
    "start_time": "2022-02-25T15:31:58.782Z"
   },
   {
    "duration": 30,
    "start_time": "2022-02-25T15:32:04.518Z"
   },
   {
    "duration": 17,
    "start_time": "2022-02-25T15:32:19.094Z"
   },
   {
    "duration": 19,
    "start_time": "2022-02-25T15:33:39.718Z"
   },
   {
    "duration": 16,
    "start_time": "2022-02-25T15:33:43.901Z"
   },
   {
    "duration": 5,
    "start_time": "2022-02-25T15:34:25.799Z"
   },
   {
    "duration": 17,
    "start_time": "2022-02-25T15:35:00.655Z"
   },
   {
    "duration": 15,
    "start_time": "2022-02-25T15:35:06.350Z"
   },
   {
    "duration": 6,
    "start_time": "2022-02-25T15:35:34.269Z"
   },
   {
    "duration": 5,
    "start_time": "2022-02-25T15:36:42.848Z"
   },
   {
    "duration": 9,
    "start_time": "2022-02-25T17:48:37.800Z"
   },
   {
    "duration": 8,
    "start_time": "2022-02-25T17:48:54.310Z"
   },
   {
    "duration": 10,
    "start_time": "2022-02-25T17:50:44.594Z"
   },
   {
    "duration": 10,
    "start_time": "2022-02-25T17:51:05.081Z"
   },
   {
    "duration": 6,
    "start_time": "2022-02-25T17:51:16.521Z"
   },
   {
    "duration": 12,
    "start_time": "2022-02-25T17:55:42.514Z"
   },
   {
    "duration": 136,
    "start_time": "2022-02-25T18:00:20.566Z"
   },
   {
    "duration": 50,
    "start_time": "2022-02-25T18:00:35.526Z"
   },
   {
    "duration": 16,
    "start_time": "2022-02-25T18:00:35.924Z"
   },
   {
    "duration": 10,
    "start_time": "2022-02-25T18:00:38.045Z"
   },
   {
    "duration": 15,
    "start_time": "2022-02-25T18:00:38.421Z"
   },
   {
    "duration": 6,
    "start_time": "2022-02-25T18:00:38.832Z"
   },
   {
    "duration": 5,
    "start_time": "2022-02-25T18:00:39.246Z"
   },
   {
    "duration": 3,
    "start_time": "2022-02-25T18:00:40.046Z"
   },
   {
    "duration": 12,
    "start_time": "2022-02-25T18:00:41.240Z"
   },
   {
    "duration": 5,
    "start_time": "2022-02-25T18:00:42.999Z"
   },
   {
    "duration": 7,
    "start_time": "2022-02-25T18:00:43.381Z"
   },
   {
    "duration": 7,
    "start_time": "2022-02-25T18:00:43.789Z"
   },
   {
    "duration": 8,
    "start_time": "2022-02-25T18:00:44.125Z"
   },
   {
    "duration": 6,
    "start_time": "2022-02-25T18:00:44.469Z"
   },
   {
    "duration": 7,
    "start_time": "2022-02-25T18:00:44.869Z"
   },
   {
    "duration": 7,
    "start_time": "2022-02-25T18:00:45.532Z"
   },
   {
    "duration": 13,
    "start_time": "2022-02-25T18:00:45.889Z"
   },
   {
    "duration": 6,
    "start_time": "2022-02-25T18:00:46.310Z"
   },
   {
    "duration": 9,
    "start_time": "2022-02-25T18:00:46.687Z"
   },
   {
    "duration": 3,
    "start_time": "2022-02-25T18:00:47.048Z"
   },
   {
    "duration": 9,
    "start_time": "2022-02-25T18:00:47.461Z"
   },
   {
    "duration": 5,
    "start_time": "2022-02-25T18:00:48.238Z"
   },
   {
    "duration": 8,
    "start_time": "2022-02-25T18:00:48.532Z"
   },
   {
    "duration": 13,
    "start_time": "2022-02-25T18:00:49.086Z"
   },
   {
    "duration": 22,
    "start_time": "2022-02-25T18:00:50.077Z"
   },
   {
    "duration": 10,
    "start_time": "2022-02-25T18:00:50.605Z"
   },
   {
    "duration": 28,
    "start_time": "2022-02-25T18:00:52.218Z"
   },
   {
    "duration": 9,
    "start_time": "2022-02-25T18:00:52.669Z"
   },
   {
    "duration": 6,
    "start_time": "2022-02-25T18:00:53.836Z"
   },
   {
    "duration": 16,
    "start_time": "2022-02-25T18:00:54.206Z"
   },
   {
    "duration": 5,
    "start_time": "2022-02-25T18:00:54.577Z"
   },
   {
    "duration": 18,
    "start_time": "2022-02-25T18:00:55.086Z"
   },
   {
    "duration": 5,
    "start_time": "2022-02-25T18:00:55.637Z"
   },
   {
    "duration": 13,
    "start_time": "2022-02-25T18:00:56.648Z"
   },
   {
    "duration": 5,
    "start_time": "2022-02-25T18:00:58.325Z"
   },
   {
    "duration": 6,
    "start_time": "2022-02-25T18:00:59.392Z"
   },
   {
    "duration": 11,
    "start_time": "2022-02-25T18:01:02.551Z"
   },
   {
    "duration": 5,
    "start_time": "2022-02-25T18:01:06.741Z"
   },
   {
    "duration": 13,
    "start_time": "2022-02-25T18:01:07.597Z"
   },
   {
    "duration": 17,
    "start_time": "2022-02-25T18:01:10.076Z"
   },
   {
    "duration": 18,
    "start_time": "2022-02-25T18:01:11.525Z"
   },
   {
    "duration": 17,
    "start_time": "2022-02-25T18:01:11.836Z"
   },
   {
    "duration": 6,
    "start_time": "2022-02-25T18:01:12.844Z"
   },
   {
    "duration": 46,
    "start_time": "2022-02-25T18:01:14.356Z"
   },
   {
    "duration": 11,
    "start_time": "2022-02-25T18:01:25.805Z"
   },
   {
    "duration": 17,
    "start_time": "2022-02-25T18:03:06.221Z"
   },
   {
    "duration": 18,
    "start_time": "2022-02-25T18:03:48.419Z"
   },
   {
    "duration": 18,
    "start_time": "2022-02-25T18:04:06.183Z"
   },
   {
    "duration": 16,
    "start_time": "2022-02-25T18:05:02.901Z"
   },
   {
    "duration": 17,
    "start_time": "2022-02-25T18:05:11.519Z"
   },
   {
    "duration": 12,
    "start_time": "2022-02-25T18:05:17.143Z"
   },
   {
    "duration": 48,
    "start_time": "2022-02-25T18:18:29.088Z"
   },
   {
    "duration": 59,
    "start_time": "2022-02-25T18:18:56.101Z"
   },
   {
    "duration": 3,
    "start_time": "2022-02-25T18:19:02.420Z"
   },
   {
    "duration": 16,
    "start_time": "2022-02-25T18:19:27.191Z"
   },
   {
    "duration": 3,
    "start_time": "2022-02-25T18:24:12.808Z"
   },
   {
    "duration": 17,
    "start_time": "2022-02-25T18:24:13.487Z"
   },
   {
    "duration": 5,
    "start_time": "2022-02-25T18:32:32.803Z"
   },
   {
    "duration": 87,
    "start_time": "2022-02-25T18:35:57.396Z"
   },
   {
    "duration": 4,
    "start_time": "2022-02-25T18:36:09.351Z"
   },
   {
    "duration": 22,
    "start_time": "2022-02-25T18:37:40.390Z"
   },
   {
    "duration": 21,
    "start_time": "2022-02-25T18:38:01.153Z"
   },
   {
    "duration": 14,
    "start_time": "2022-02-25T18:44:12.535Z"
   },
   {
    "duration": 20,
    "start_time": "2022-02-25T18:44:53.410Z"
   },
   {
    "duration": 65,
    "start_time": "2022-02-25T18:45:03.281Z"
   },
   {
    "duration": 22,
    "start_time": "2022-02-25T18:45:07.657Z"
   },
   {
    "duration": 53,
    "start_time": "2022-02-25T18:45:57.305Z"
   },
   {
    "duration": 13,
    "start_time": "2022-02-25T18:46:02.796Z"
   },
   {
    "duration": 142,
    "start_time": "2022-02-25T18:59:46.158Z"
   },
   {
    "duration": 7,
    "start_time": "2022-02-25T18:59:53.175Z"
   },
   {
    "duration": 49,
    "start_time": "2022-02-25T19:00:10.279Z"
   },
   {
    "duration": 12,
    "start_time": "2022-02-25T19:00:10.544Z"
   },
   {
    "duration": 10,
    "start_time": "2022-02-25T19:00:10.924Z"
   },
   {
    "duration": 15,
    "start_time": "2022-02-25T19:00:11.113Z"
   },
   {
    "duration": 5,
    "start_time": "2022-02-25T19:00:11.296Z"
   },
   {
    "duration": 6,
    "start_time": "2022-02-25T19:00:11.487Z"
   },
   {
    "duration": 4,
    "start_time": "2022-02-25T19:00:11.917Z"
   },
   {
    "duration": 11,
    "start_time": "2022-02-25T19:00:12.516Z"
   },
   {
    "duration": 6,
    "start_time": "2022-02-25T19:00:13.303Z"
   },
   {
    "duration": 6,
    "start_time": "2022-02-25T19:00:13.493Z"
   },
   {
    "duration": 7,
    "start_time": "2022-02-25T19:00:13.717Z"
   },
   {
    "duration": 6,
    "start_time": "2022-02-25T19:00:14.285Z"
   },
   {
    "duration": 5,
    "start_time": "2022-02-25T19:00:14.477Z"
   },
   {
    "duration": 6,
    "start_time": "2022-02-25T19:00:14.614Z"
   },
   {
    "duration": 8,
    "start_time": "2022-02-25T19:00:14.933Z"
   },
   {
    "duration": 12,
    "start_time": "2022-02-25T19:00:15.078Z"
   },
   {
    "duration": 6,
    "start_time": "2022-02-25T19:00:15.238Z"
   },
   {
    "duration": 7,
    "start_time": "2022-02-25T19:00:15.390Z"
   },
   {
    "duration": 3,
    "start_time": "2022-02-25T19:00:15.559Z"
   },
   {
    "duration": 9,
    "start_time": "2022-02-25T19:00:15.740Z"
   },
   {
    "duration": 6,
    "start_time": "2022-02-25T19:00:16.045Z"
   },
   {
    "duration": 9,
    "start_time": "2022-02-25T19:00:16.207Z"
   },
   {
    "duration": 14,
    "start_time": "2022-02-25T19:00:16.368Z"
   },
   {
    "duration": 22,
    "start_time": "2022-02-25T19:00:16.543Z"
   },
   {
    "duration": 7,
    "start_time": "2022-02-25T19:00:16.710Z"
   },
   {
    "duration": 26,
    "start_time": "2022-02-25T19:00:16.880Z"
   },
   {
    "duration": 9,
    "start_time": "2022-02-25T19:00:17.051Z"
   },
   {
    "duration": 5,
    "start_time": "2022-02-25T19:00:17.390Z"
   },
   {
    "duration": 15,
    "start_time": "2022-02-25T19:00:17.564Z"
   },
   {
    "duration": 5,
    "start_time": "2022-02-25T19:00:17.726Z"
   },
   {
    "duration": 19,
    "start_time": "2022-02-25T19:00:17.966Z"
   },
   {
    "duration": 5,
    "start_time": "2022-02-25T19:00:18.158Z"
   },
   {
    "duration": 13,
    "start_time": "2022-02-25T19:00:18.342Z"
   },
   {
    "duration": 5,
    "start_time": "2022-02-25T19:00:18.510Z"
   },
   {
    "duration": 5,
    "start_time": "2022-02-25T19:00:18.679Z"
   },
   {
    "duration": 12,
    "start_time": "2022-02-25T19:00:19.230Z"
   },
   {
    "duration": 6,
    "start_time": "2022-02-25T19:00:19.413Z"
   },
   {
    "duration": 13,
    "start_time": "2022-02-25T19:00:19.646Z"
   },
   {
    "duration": 16,
    "start_time": "2022-02-25T19:00:20.493Z"
   },
   {
    "duration": 18,
    "start_time": "2022-02-25T19:00:20.669Z"
   },
   {
    "duration": 16,
    "start_time": "2022-02-25T19:00:20.855Z"
   },
   {
    "duration": 6,
    "start_time": "2022-02-25T19:00:21.023Z"
   },
   {
    "duration": 17,
    "start_time": "2022-02-25T19:00:21.550Z"
   },
   {
    "duration": 14,
    "start_time": "2022-02-25T19:00:21.725Z"
   },
   {
    "duration": 3,
    "start_time": "2022-02-25T19:00:22.086Z"
   },
   {
    "duration": 16,
    "start_time": "2022-02-25T19:00:22.255Z"
   },
   {
    "duration": 6,
    "start_time": "2022-02-25T19:00:22.630Z"
   },
   {
    "duration": 4,
    "start_time": "2022-02-25T19:00:22.862Z"
   },
   {
    "duration": 21,
    "start_time": "2022-02-25T19:00:23.407Z"
   },
   {
    "duration": 8,
    "start_time": "2022-02-25T19:00:23.608Z"
   },
   {
    "duration": 6,
    "start_time": "2022-02-25T19:06:17.960Z"
   },
   {
    "duration": 5,
    "start_time": "2022-02-25T19:06:45.496Z"
   },
   {
    "duration": 6,
    "start_time": "2022-02-25T19:06:54.035Z"
   },
   {
    "duration": 135,
    "start_time": "2022-02-25T19:10:11.114Z"
   },
   {
    "duration": 6,
    "start_time": "2022-02-25T19:11:59.970Z"
   },
   {
    "duration": 9,
    "start_time": "2022-02-25T19:12:20.234Z"
   },
   {
    "duration": 133,
    "start_time": "2022-02-25T19:13:01.050Z"
   },
   {
    "duration": 130,
    "start_time": "2022-02-25T19:13:27.163Z"
   },
   {
    "duration": 11,
    "start_time": "2022-02-25T19:13:44.210Z"
   },
   {
    "duration": 157,
    "start_time": "2022-02-25T19:14:14.500Z"
   },
   {
    "duration": 6,
    "start_time": "2022-02-25T19:14:55.916Z"
   },
   {
    "duration": 8,
    "start_time": "2022-02-25T19:15:10.019Z"
   },
   {
    "duration": 7,
    "start_time": "2022-02-25T19:15:48.129Z"
   },
   {
    "duration": 7,
    "start_time": "2022-02-25T19:16:57.740Z"
   },
   {
    "duration": 833,
    "start_time": "2022-02-26T15:09:29.892Z"
   },
   {
    "duration": 30,
    "start_time": "2022-02-26T15:24:27.483Z"
   },
   {
    "duration": 16,
    "start_time": "2022-02-26T15:24:33.931Z"
   },
   {
    "duration": 22,
    "start_time": "2022-02-26T15:26:53.187Z"
   },
   {
    "duration": 8,
    "start_time": "2022-02-26T16:40:42.277Z"
   },
   {
    "duration": 7,
    "start_time": "2022-02-26T16:40:43.530Z"
   },
   {
    "duration": 6,
    "start_time": "2022-02-26T17:04:04.903Z"
   },
   {
    "duration": 19,
    "start_time": "2022-02-26T17:04:06.304Z"
   },
   {
    "duration": 7,
    "start_time": "2022-02-26T17:04:16.704Z"
   },
   {
    "duration": 7,
    "start_time": "2022-02-26T17:04:17.504Z"
   },
   {
    "duration": 9,
    "start_time": "2022-02-26T17:04:22.024Z"
   },
   {
    "duration": 10,
    "start_time": "2022-02-26T17:04:26.200Z"
   },
   {
    "duration": 9,
    "start_time": "2022-02-26T17:04:28.433Z"
   },
   {
    "duration": 11,
    "start_time": "2022-02-26T17:04:29.023Z"
   },
   {
    "duration": 10,
    "start_time": "2022-02-26T17:04:39.616Z"
   },
   {
    "duration": 22,
    "start_time": "2022-02-26T17:04:42.312Z"
   },
   {
    "duration": 11,
    "start_time": "2022-02-26T17:04:50.289Z"
   },
   {
    "duration": 13,
    "start_time": "2022-02-26T17:06:22.833Z"
   },
   {
    "duration": 8,
    "start_time": "2022-02-26T17:07:49.529Z"
   },
   {
    "duration": 17,
    "start_time": "2022-02-26T17:08:22.995Z"
   },
   {
    "duration": 9,
    "start_time": "2022-02-26T17:08:35.571Z"
   },
   {
    "duration": 12,
    "start_time": "2022-02-26T17:08:36.362Z"
   },
   {
    "duration": 20,
    "start_time": "2022-02-26T17:08:41.571Z"
   },
   {
    "duration": 41,
    "start_time": "2022-02-26T17:09:56.357Z"
   },
   {
    "duration": 13,
    "start_time": "2022-02-26T17:10:35.261Z"
   },
   {
    "duration": 44,
    "start_time": "2022-02-26T17:10:40.228Z"
   },
   {
    "duration": 12,
    "start_time": "2022-02-26T17:13:09.099Z"
   },
   {
    "duration": 7,
    "start_time": "2022-02-26T17:13:53.845Z"
   },
   {
    "duration": 25,
    "start_time": "2022-02-26T17:14:01.351Z"
   },
   {
    "duration": 8,
    "start_time": "2022-02-26T17:14:50.291Z"
   },
   {
    "duration": 40,
    "start_time": "2022-02-26T17:14:54.814Z"
   },
   {
    "duration": 8,
    "start_time": "2022-02-26T17:15:01.229Z"
   },
   {
    "duration": 19,
    "start_time": "2022-02-26T17:15:03.910Z"
   },
   {
    "duration": 8,
    "start_time": "2022-02-26T17:19:08.198Z"
   },
   {
    "duration": 8,
    "start_time": "2022-02-26T17:19:11.333Z"
   },
   {
    "duration": 22,
    "start_time": "2022-02-26T17:20:12.759Z"
   },
   {
    "duration": 9,
    "start_time": "2022-02-26T17:35:08.836Z"
   },
   {
    "duration": 16,
    "start_time": "2022-02-26T17:35:10.754Z"
   },
   {
    "duration": 23,
    "start_time": "2022-02-26T17:36:43.972Z"
   },
   {
    "duration": 27,
    "start_time": "2022-02-26T17:36:48.411Z"
   },
   {
    "duration": 31,
    "start_time": "2022-02-26T17:37:12.807Z"
   },
   {
    "duration": 10,
    "start_time": "2022-02-26T17:38:38.439Z"
   },
   {
    "duration": 27,
    "start_time": "2022-02-26T18:12:47.862Z"
   },
   {
    "duration": 24,
    "start_time": "2022-02-26T18:12:52.949Z"
   },
   {
    "duration": 18,
    "start_time": "2022-02-26T18:13:17.284Z"
   },
   {
    "duration": 378,
    "start_time": "2022-02-26T18:22:49.633Z"
   },
   {
    "duration": 5,
    "start_time": "2022-02-26T18:22:52.127Z"
   },
   {
    "duration": 27,
    "start_time": "2022-02-26T18:22:53.057Z"
   },
   {
    "duration": 9,
    "start_time": "2022-02-26T18:27:49.155Z"
   },
   {
    "duration": 5,
    "start_time": "2022-02-26T18:29:04.546Z"
   },
   {
    "duration": 39,
    "start_time": "2022-02-26T18:29:48.766Z"
   },
   {
    "duration": 13,
    "start_time": "2022-02-26T18:35:00.999Z"
   },
   {
    "duration": 10,
    "start_time": "2022-02-26T18:37:28.938Z"
   },
   {
    "duration": 16,
    "start_time": "2022-02-26T18:37:29.886Z"
   },
   {
    "duration": 11,
    "start_time": "2022-02-26T18:41:31.196Z"
   },
   {
    "duration": 12,
    "start_time": "2022-02-26T18:42:49.640Z"
   },
   {
    "duration": 40,
    "start_time": "2022-02-26T18:43:24.812Z"
   },
   {
    "duration": 50,
    "start_time": "2022-02-26T18:43:55.319Z"
   },
   {
    "duration": 5,
    "start_time": "2022-02-26T18:45:00.218Z"
   },
   {
    "duration": 52,
    "start_time": "2022-02-26T18:45:02.118Z"
   },
   {
    "duration": 89,
    "start_time": "2022-02-26T18:46:11.815Z"
   },
   {
    "duration": 6,
    "start_time": "2022-02-26T18:46:20.100Z"
   },
   {
    "duration": 54,
    "start_time": "2022-02-26T18:46:21.509Z"
   },
   {
    "duration": 6,
    "start_time": "2022-02-26T18:46:43.564Z"
   },
   {
    "duration": 5,
    "start_time": "2022-02-26T18:48:01.133Z"
   },
   {
    "duration": 55,
    "start_time": "2022-02-26T18:48:01.736Z"
   },
   {
    "duration": 57,
    "start_time": "2022-02-26T18:49:16.448Z"
   },
   {
    "duration": 35,
    "start_time": "2022-02-26T18:49:23.720Z"
   },
   {
    "duration": 34,
    "start_time": "2022-02-26T18:49:38.953Z"
   },
   {
    "duration": 34,
    "start_time": "2022-02-26T18:49:44.429Z"
   },
   {
    "duration": 55,
    "start_time": "2022-02-26T18:49:52.120Z"
   },
   {
    "duration": 5,
    "start_time": "2022-02-26T18:50:06.583Z"
   },
   {
    "duration": 57,
    "start_time": "2022-02-26T18:50:08.644Z"
   },
   {
    "duration": 5,
    "start_time": "2022-02-26T18:52:15.746Z"
   },
   {
    "duration": 54,
    "start_time": "2022-02-26T18:52:16.357Z"
   },
   {
    "duration": 5,
    "start_time": "2022-02-26T18:52:38.847Z"
   },
   {
    "duration": 54,
    "start_time": "2022-02-26T18:52:39.578Z"
   },
   {
    "duration": 5,
    "start_time": "2022-02-26T18:53:00.943Z"
   },
   {
    "duration": 54,
    "start_time": "2022-02-26T18:53:01.400Z"
   },
   {
    "duration": 57,
    "start_time": "2022-02-26T18:53:08.768Z"
   },
   {
    "duration": 34,
    "start_time": "2022-02-26T18:53:13.243Z"
   },
   {
    "duration": 24,
    "start_time": "2022-02-26T18:53:16.847Z"
   },
   {
    "duration": 10,
    "start_time": "2022-02-26T18:53:24.415Z"
   },
   {
    "duration": 10,
    "start_time": "2022-02-26T18:53:25.551Z"
   },
   {
    "duration": 16,
    "start_time": "2022-02-26T18:53:26.167Z"
   },
   {
    "duration": 12,
    "start_time": "2022-02-26T18:53:27.624Z"
   },
   {
    "duration": 11,
    "start_time": "2022-02-26T18:53:28.149Z"
   },
   {
    "duration": 3,
    "start_time": "2022-02-26T19:05:40.725Z"
   },
   {
    "duration": 8,
    "start_time": "2022-02-26T19:18:36.908Z"
   },
   {
    "duration": 24,
    "start_time": "2022-02-26T19:21:33.101Z"
   },
   {
    "duration": 8,
    "start_time": "2022-02-26T19:22:05.916Z"
   },
   {
    "duration": 11,
    "start_time": "2022-02-26T19:22:37.486Z"
   },
   {
    "duration": 9,
    "start_time": "2022-02-26T19:23:06.148Z"
   },
   {
    "duration": 10,
    "start_time": "2022-02-26T19:23:52.013Z"
   },
   {
    "duration": 8,
    "start_time": "2022-02-26T19:32:32.386Z"
   },
   {
    "duration": 11,
    "start_time": "2022-02-26T19:33:35.089Z"
   },
   {
    "duration": 264,
    "start_time": "2022-02-26T19:33:41.257Z"
   },
   {
    "duration": 271,
    "start_time": "2022-02-26T19:35:05.215Z"
   },
   {
    "duration": 256,
    "start_time": "2022-02-26T19:35:33.090Z"
   },
   {
    "duration": 90,
    "start_time": "2022-02-26T19:37:15.166Z"
   },
   {
    "duration": 623,
    "start_time": "2022-02-26T19:37:21.074Z"
   },
   {
    "duration": 8,
    "start_time": "2022-02-26T19:37:45.666Z"
   },
   {
    "duration": 15,
    "start_time": "2022-02-26T19:37:53.960Z"
   },
   {
    "duration": 15,
    "start_time": "2022-02-26T19:39:07.606Z"
   },
   {
    "duration": 10,
    "start_time": "2022-02-26T19:40:40.892Z"
   },
   {
    "duration": 11,
    "start_time": "2022-02-26T19:40:50.229Z"
   },
   {
    "duration": 15,
    "start_time": "2022-02-26T19:41:31.897Z"
   },
   {
    "duration": 18,
    "start_time": "2022-02-26T19:42:30.445Z"
   },
   {
    "duration": 76,
    "start_time": "2022-02-26T19:45:52.679Z"
   },
   {
    "duration": 251,
    "start_time": "2022-02-26T19:48:16.409Z"
   },
   {
    "duration": 17,
    "start_time": "2022-02-26T19:48:21.495Z"
   },
   {
    "duration": 28,
    "start_time": "2022-02-26T19:54:02.209Z"
   },
   {
    "duration": 27,
    "start_time": "2022-02-26T19:54:44.996Z"
   },
   {
    "duration": 29,
    "start_time": "2022-02-26T19:54:53.596Z"
   },
   {
    "duration": 28,
    "start_time": "2022-02-26T19:54:59.947Z"
   },
   {
    "duration": 27,
    "start_time": "2022-02-26T19:55:07.268Z"
   },
   {
    "duration": 174,
    "start_time": "2022-02-26T19:57:02.397Z"
   },
   {
    "duration": 672,
    "start_time": "2022-03-07T09:38:44.298Z"
   },
   {
    "duration": 17,
    "start_time": "2022-03-07T09:38:44.972Z"
   },
   {
    "duration": 9,
    "start_time": "2022-03-07T09:38:44.991Z"
   },
   {
    "duration": 14,
    "start_time": "2022-03-07T09:38:45.002Z"
   },
   {
    "duration": 5,
    "start_time": "2022-03-07T09:38:45.017Z"
   },
   {
    "duration": 13,
    "start_time": "2022-03-07T09:38:45.024Z"
   },
   {
    "duration": 5,
    "start_time": "2022-03-07T09:38:45.039Z"
   },
   {
    "duration": 11,
    "start_time": "2022-03-07T09:38:45.046Z"
   },
   {
    "duration": 3,
    "start_time": "2022-03-07T09:38:45.060Z"
   },
   {
    "duration": 12,
    "start_time": "2022-03-07T09:38:45.066Z"
   },
   {
    "duration": 23,
    "start_time": "2022-03-07T09:38:45.079Z"
   },
   {
    "duration": 8,
    "start_time": "2022-03-07T09:38:45.104Z"
   },
   {
    "duration": 7,
    "start_time": "2022-03-07T09:38:45.113Z"
   },
   {
    "duration": 9,
    "start_time": "2022-03-07T09:38:45.122Z"
   },
   {
    "duration": 11,
    "start_time": "2022-03-07T09:38:45.133Z"
   },
   {
    "duration": 15,
    "start_time": "2022-03-07T09:38:45.146Z"
   },
   {
    "duration": 5,
    "start_time": "2022-03-07T09:38:45.162Z"
   },
   {
    "duration": 35,
    "start_time": "2022-03-07T09:38:45.169Z"
   },
   {
    "duration": 3,
    "start_time": "2022-03-07T09:38:45.206Z"
   },
   {
    "duration": 11,
    "start_time": "2022-03-07T09:38:45.211Z"
   },
   {
    "duration": 5,
    "start_time": "2022-03-07T09:38:45.224Z"
   },
   {
    "duration": 14,
    "start_time": "2022-03-07T09:38:45.230Z"
   },
   {
    "duration": 19,
    "start_time": "2022-03-07T09:38:45.246Z"
   },
   {
    "duration": 43,
    "start_time": "2022-03-07T09:38:45.267Z"
   },
   {
    "duration": 7,
    "start_time": "2022-03-07T09:38:45.312Z"
   },
   {
    "duration": 24,
    "start_time": "2022-03-07T09:38:45.320Z"
   },
   {
    "duration": 7,
    "start_time": "2022-03-07T09:38:45.347Z"
   },
   {
    "duration": 5,
    "start_time": "2022-03-07T09:38:45.356Z"
   },
   {
    "duration": 40,
    "start_time": "2022-03-07T09:38:45.363Z"
   },
   {
    "duration": 6,
    "start_time": "2022-03-07T09:38:45.405Z"
   },
   {
    "duration": 17,
    "start_time": "2022-03-07T09:38:45.412Z"
   },
   {
    "duration": 5,
    "start_time": "2022-03-07T09:38:45.431Z"
   },
   {
    "duration": 15,
    "start_time": "2022-03-07T09:38:45.438Z"
   },
   {
    "duration": 8,
    "start_time": "2022-03-07T09:38:45.454Z"
   },
   {
    "duration": 11,
    "start_time": "2022-03-07T09:38:45.463Z"
   },
   {
    "duration": 11,
    "start_time": "2022-03-07T09:38:45.501Z"
   },
   {
    "duration": 6,
    "start_time": "2022-03-07T09:38:45.514Z"
   },
   {
    "duration": 13,
    "start_time": "2022-03-07T09:38:45.521Z"
   },
   {
    "duration": 15,
    "start_time": "2022-03-07T09:38:45.536Z"
   },
   {
    "duration": 17,
    "start_time": "2022-03-07T09:38:45.553Z"
   },
   {
    "duration": 16,
    "start_time": "2022-03-07T09:38:45.602Z"
   },
   {
    "duration": 6,
    "start_time": "2022-03-07T09:38:45.619Z"
   },
   {
    "duration": 17,
    "start_time": "2022-03-07T09:38:45.627Z"
   },
   {
    "duration": 11,
    "start_time": "2022-03-07T09:38:45.646Z"
   },
   {
    "duration": 44,
    "start_time": "2022-03-07T09:38:45.659Z"
   },
   {
    "duration": 18,
    "start_time": "2022-03-07T09:38:45.705Z"
   },
   {
    "duration": 7,
    "start_time": "2022-03-07T09:38:45.724Z"
   },
   {
    "duration": 5,
    "start_time": "2022-03-07T09:38:45.732Z"
   },
   {
    "duration": 21,
    "start_time": "2022-03-07T09:38:45.739Z"
   },
   {
    "duration": 10,
    "start_time": "2022-03-07T09:38:45.762Z"
   },
   {
    "duration": 30,
    "start_time": "2022-03-07T09:38:45.773Z"
   },
   {
    "duration": 6,
    "start_time": "2022-03-07T09:38:45.805Z"
   },
   {
    "duration": 6,
    "start_time": "2022-03-07T09:38:45.812Z"
   },
   {
    "duration": 11,
    "start_time": "2022-03-07T09:38:45.820Z"
   },
   {
    "duration": 15,
    "start_time": "2022-03-07T09:38:45.832Z"
   },
   {
    "duration": 11,
    "start_time": "2022-03-07T09:38:45.848Z"
   },
   {
    "duration": 5,
    "start_time": "2022-03-07T09:41:43.628Z"
   },
   {
    "duration": 29,
    "start_time": "2022-03-07T09:42:08.946Z"
   },
   {
    "duration": 14,
    "start_time": "2022-03-07T09:43:35.018Z"
   },
   {
    "duration": 6,
    "start_time": "2022-03-07T09:43:43.333Z"
   },
   {
    "duration": 6,
    "start_time": "2022-03-07T09:44:14.668Z"
   },
   {
    "duration": 7,
    "start_time": "2022-03-07T09:44:28.068Z"
   },
   {
    "duration": 622,
    "start_time": "2022-03-13T14:14:27.636Z"
   },
   {
    "duration": 54,
    "start_time": "2022-03-13T14:14:34.976Z"
   },
   {
    "duration": 20,
    "start_time": "2022-03-13T14:14:47.833Z"
   },
   {
    "duration": 290,
    "start_time": "2022-03-13T14:17:35.841Z"
   },
   {
    "duration": 34,
    "start_time": "2022-03-13T14:17:57.160Z"
   },
   {
    "duration": 10,
    "start_time": "2022-03-13T14:22:42.440Z"
   },
   {
    "duration": 14,
    "start_time": "2022-03-13T14:22:44.420Z"
   },
   {
    "duration": 4,
    "start_time": "2022-03-13T14:22:44.460Z"
   },
   {
    "duration": 11,
    "start_time": "2022-03-13T14:23:36.447Z"
   },
   {
    "duration": 4,
    "start_time": "2022-03-13T14:23:52.189Z"
   },
   {
    "duration": 5,
    "start_time": "2022-03-13T14:24:41.864Z"
   },
   {
    "duration": 245,
    "start_time": "2022-03-13T14:25:30.951Z"
   },
   {
    "duration": 5,
    "start_time": "2022-03-13T14:25:43.576Z"
   },
   {
    "duration": 5,
    "start_time": "2022-03-13T14:26:22.545Z"
   },
   {
    "duration": 6,
    "start_time": "2022-03-13T14:29:25.600Z"
   },
   {
    "duration": 4,
    "start_time": "2022-03-13T14:29:42.102Z"
   },
   {
    "duration": 13,
    "start_time": "2022-03-13T14:29:51.314Z"
   },
   {
    "duration": 6,
    "start_time": "2022-03-13T14:30:02.364Z"
   },
   {
    "duration": 7,
    "start_time": "2022-03-13T14:30:08.673Z"
   },
   {
    "duration": 6,
    "start_time": "2022-03-13T14:31:14.612Z"
   },
   {
    "duration": 6,
    "start_time": "2022-03-13T14:35:24.929Z"
   },
   {
    "duration": 5,
    "start_time": "2022-03-13T14:35:25.370Z"
   },
   {
    "duration": 7,
    "start_time": "2022-03-13T14:35:25.745Z"
   },
   {
    "duration": 7,
    "start_time": "2022-03-13T14:35:26.146Z"
   },
   {
    "duration": 6,
    "start_time": "2022-03-13T14:35:26.508Z"
   },
   {
    "duration": 8,
    "start_time": "2022-03-13T14:35:26.873Z"
   },
   {
    "duration": 8,
    "start_time": "2022-03-13T14:35:27.858Z"
   },
   {
    "duration": 19,
    "start_time": "2022-03-13T14:35:28.179Z"
   },
   {
    "duration": 6,
    "start_time": "2022-03-13T14:35:28.819Z"
   },
   {
    "duration": 8,
    "start_time": "2022-03-13T14:35:29.778Z"
   },
   {
    "duration": 5,
    "start_time": "2022-03-13T14:35:30.746Z"
   },
   {
    "duration": 10,
    "start_time": "2022-03-13T14:35:31.724Z"
   },
   {
    "duration": 7,
    "start_time": "2022-03-13T14:35:33.368Z"
   },
   {
    "duration": 9,
    "start_time": "2022-03-13T14:35:34.177Z"
   },
   {
    "duration": 25,
    "start_time": "2022-03-13T14:35:35.290Z"
   },
   {
    "duration": 26,
    "start_time": "2022-03-13T14:35:36.593Z"
   },
   {
    "duration": 9,
    "start_time": "2022-03-13T14:35:37.137Z"
   },
   {
    "duration": 27,
    "start_time": "2022-03-13T14:35:37.627Z"
   },
   {
    "duration": 8,
    "start_time": "2022-03-13T14:35:38.928Z"
   },
   {
    "duration": 6,
    "start_time": "2022-03-13T14:36:12.257Z"
   },
   {
    "duration": 19,
    "start_time": "2022-03-13T14:36:12.585Z"
   },
   {
    "duration": 5,
    "start_time": "2022-03-13T14:36:12.987Z"
   },
   {
    "duration": 12,
    "start_time": "2022-03-13T14:36:13.401Z"
   },
   {
    "duration": 7,
    "start_time": "2022-03-13T14:36:18.905Z"
   },
   {
    "duration": 8,
    "start_time": "2022-03-13T14:36:19.370Z"
   },
   {
    "duration": 18,
    "start_time": "2022-03-13T14:36:21.246Z"
   },
   {
    "duration": 6,
    "start_time": "2022-03-13T14:36:23.328Z"
   },
   {
    "duration": 14,
    "start_time": "2022-03-13T14:36:24.833Z"
   },
   {
    "duration": 18,
    "start_time": "2022-03-13T14:36:27.792Z"
   },
   {
    "duration": 28,
    "start_time": "2022-03-13T14:36:28.193Z"
   },
   {
    "duration": 16,
    "start_time": "2022-03-13T14:36:28.577Z"
   },
   {
    "duration": 6,
    "start_time": "2022-03-13T14:36:29.057Z"
   },
   {
    "duration": 26,
    "start_time": "2022-03-13T14:36:32.010Z"
   },
   {
    "duration": 3,
    "start_time": "2022-03-13T14:37:20.187Z"
   },
   {
    "duration": 19,
    "start_time": "2022-03-13T14:37:21.702Z"
   },
   {
    "duration": 6,
    "start_time": "2022-03-13T14:37:23.985Z"
   },
   {
    "duration": 4,
    "start_time": "2022-03-13T14:37:25.476Z"
   },
   {
    "duration": 17,
    "start_time": "2022-03-13T14:37:25.945Z"
   },
   {
    "duration": 10,
    "start_time": "2022-03-13T14:37:28.601Z"
   },
   {
    "duration": 6,
    "start_time": "2022-03-13T14:37:29.945Z"
   },
   {
    "duration": 8,
    "start_time": "2022-03-13T14:37:30.436Z"
   },
   {
    "duration": 251,
    "start_time": "2022-03-14T08:24:37.611Z"
   },
   {
    "duration": 564,
    "start_time": "2022-03-14T08:24:47.236Z"
   },
   {
    "duration": 71,
    "start_time": "2022-03-14T08:24:47.802Z"
   },
   {
    "duration": 20,
    "start_time": "2022-03-14T08:24:47.874Z"
   },
   {
    "duration": 35,
    "start_time": "2022-03-14T08:24:48.249Z"
   },
   {
    "duration": 11,
    "start_time": "2022-03-14T08:24:49.699Z"
   },
   {
    "duration": 16,
    "start_time": "2022-03-14T08:24:50.200Z"
   },
   {
    "duration": 5,
    "start_time": "2022-03-14T08:24:50.641Z"
   },
   {
    "duration": 6,
    "start_time": "2022-03-14T08:24:50.857Z"
   },
   {
    "duration": 5,
    "start_time": "2022-03-14T08:24:51.073Z"
   },
   {
    "duration": 6,
    "start_time": "2022-03-14T08:24:51.298Z"
   },
   {
    "duration": 7,
    "start_time": "2022-03-14T08:24:52.121Z"
   },
   {
    "duration": 13,
    "start_time": "2022-03-14T08:24:52.409Z"
   },
   {
    "duration": 6,
    "start_time": "2022-03-14T08:24:54.057Z"
   },
   {
    "duration": 6,
    "start_time": "2022-03-14T08:24:54.265Z"
   },
   {
    "duration": 8,
    "start_time": "2022-03-14T08:24:54.473Z"
   },
   {
    "duration": 7,
    "start_time": "2022-03-14T08:24:54.705Z"
   },
   {
    "duration": 6,
    "start_time": "2022-03-14T08:24:54.915Z"
   },
   {
    "duration": 8,
    "start_time": "2022-03-14T08:24:55.161Z"
   },
   {
    "duration": 8,
    "start_time": "2022-03-14T08:24:55.817Z"
   },
   {
    "duration": 17,
    "start_time": "2022-03-14T08:24:56.049Z"
   },
   {
    "duration": 7,
    "start_time": "2022-03-14T08:24:56.282Z"
   },
   {
    "duration": 9,
    "start_time": "2022-03-14T08:24:56.704Z"
   },
   {
    "duration": 4,
    "start_time": "2022-03-14T08:24:57.169Z"
   },
   {
    "duration": 11,
    "start_time": "2022-03-14T08:24:57.633Z"
   },
   {
    "duration": 6,
    "start_time": "2022-03-14T08:24:58.385Z"
   },
   {
    "duration": 9,
    "start_time": "2022-03-14T08:24:58.674Z"
   },
   {
    "duration": 24,
    "start_time": "2022-03-14T08:24:59.258Z"
   },
   {
    "duration": 24,
    "start_time": "2022-03-14T08:25:00.371Z"
   },
   {
    "duration": 9,
    "start_time": "2022-03-14T08:25:00.713Z"
   },
   {
    "duration": 30,
    "start_time": "2022-03-14T08:25:01.090Z"
   },
   {
    "duration": 9,
    "start_time": "2022-03-14T08:25:01.882Z"
   },
   {
    "duration": 6,
    "start_time": "2022-03-14T08:25:02.575Z"
   },
   {
    "duration": 17,
    "start_time": "2022-03-14T08:25:02.881Z"
   },
   {
    "duration": 5,
    "start_time": "2022-03-14T08:25:03.570Z"
   },
   {
    "duration": 19,
    "start_time": "2022-03-14T08:25:03.785Z"
   },
   {
    "duration": 5,
    "start_time": "2022-03-14T08:25:04.010Z"
   },
   {
    "duration": 14,
    "start_time": "2022-03-14T08:25:04.233Z"
   },
   {
    "duration": 5,
    "start_time": "2022-03-14T08:25:04.873Z"
   },
   {
    "duration": 6,
    "start_time": "2022-03-14T08:25:05.089Z"
   },
   {
    "duration": 12,
    "start_time": "2022-03-14T08:25:05.569Z"
   },
   {
    "duration": 5,
    "start_time": "2022-03-14T08:25:06.138Z"
   },
   {
    "duration": 15,
    "start_time": "2022-03-14T08:25:06.329Z"
   },
   {
    "duration": 18,
    "start_time": "2022-03-14T08:25:07.009Z"
   },
   {
    "duration": 20,
    "start_time": "2022-03-14T08:25:07.257Z"
   },
   {
    "duration": 17,
    "start_time": "2022-03-14T08:25:07.657Z"
   },
   {
    "duration": 6,
    "start_time": "2022-03-14T08:25:08.249Z"
   },
   {
    "duration": 19,
    "start_time": "2022-03-14T08:25:11.249Z"
   },
   {
    "duration": 13,
    "start_time": "2022-03-14T08:25:11.753Z"
   },
   {
    "duration": 3,
    "start_time": "2022-03-14T08:25:13.946Z"
   },
   {
    "duration": 17,
    "start_time": "2022-03-14T08:25:14.427Z"
   },
   {
    "duration": 6,
    "start_time": "2022-03-14T08:25:15.569Z"
   },
   {
    "duration": 4,
    "start_time": "2022-03-14T08:25:15.961Z"
   },
   {
    "duration": 16,
    "start_time": "2022-03-14T08:25:16.441Z"
   },
   {
    "duration": 22,
    "start_time": "2022-03-14T08:25:21.401Z"
   },
   {
    "duration": 8,
    "start_time": "2022-03-14T08:25:37.722Z"
   },
   {
    "duration": 226,
    "start_time": "2022-03-14T08:26:25.393Z"
   },
   {
    "duration": 224,
    "start_time": "2022-03-14T08:26:32.273Z"
   },
   {
    "duration": 22,
    "start_time": "2022-03-14T08:27:20.129Z"
   },
   {
    "duration": 8,
    "start_time": "2022-03-14T08:27:36.753Z"
   },
   {
    "duration": 8,
    "start_time": "2022-03-14T08:28:27.032Z"
   },
   {
    "duration": 7,
    "start_time": "2022-03-14T08:29:26.392Z"
   },
   {
    "duration": 9,
    "start_time": "2022-03-14T08:29:27.031Z"
   },
   {
    "duration": 8,
    "start_time": "2022-03-14T08:29:44.168Z"
   },
   {
    "duration": 5,
    "start_time": "2022-03-14T08:29:44.671Z"
   },
   {
    "duration": 12,
    "start_time": "2022-03-14T08:32:39.749Z"
   },
   {
    "duration": 11,
    "start_time": "2022-03-14T08:32:53.062Z"
   },
   {
    "duration": 11,
    "start_time": "2022-03-14T08:33:05.079Z"
   },
   {
    "duration": 10,
    "start_time": "2022-03-14T08:33:28.623Z"
   },
   {
    "duration": 9,
    "start_time": "2022-03-14T08:33:48.471Z"
   },
   {
    "duration": 11,
    "start_time": "2022-03-14T08:34:06.959Z"
   },
   {
    "duration": 11,
    "start_time": "2022-03-14T08:36:29.447Z"
   },
   {
    "duration": 13,
    "start_time": "2022-03-14T08:36:36.881Z"
   },
   {
    "duration": 12,
    "start_time": "2022-03-14T08:37:24.576Z"
   },
   {
    "duration": 12,
    "start_time": "2022-03-14T08:37:32.056Z"
   },
   {
    "duration": 11,
    "start_time": "2022-03-14T08:37:40.406Z"
   },
   {
    "duration": 11,
    "start_time": "2022-03-14T08:37:50.076Z"
   },
   {
    "duration": 12,
    "start_time": "2022-03-14T08:37:56.303Z"
   },
   {
    "duration": 282,
    "start_time": "2022-03-14T08:38:57.896Z"
   },
   {
    "duration": 11,
    "start_time": "2022-03-14T08:39:12.019Z"
   },
   {
    "duration": 12,
    "start_time": "2022-03-14T08:39:31.889Z"
   },
   {
    "duration": 13,
    "start_time": "2022-03-14T08:39:40.288Z"
   },
   {
    "duration": 12,
    "start_time": "2022-03-14T08:39:49.712Z"
   },
   {
    "duration": 12,
    "start_time": "2022-03-14T08:39:57.409Z"
   },
   {
    "duration": 12,
    "start_time": "2022-03-14T08:42:18.569Z"
   },
   {
    "duration": 14,
    "start_time": "2022-03-14T08:42:19.407Z"
   },
   {
    "duration": 11,
    "start_time": "2022-03-14T08:42:20.008Z"
   },
   {
    "duration": 12,
    "start_time": "2022-03-14T08:42:20.440Z"
   },
   {
    "duration": 224,
    "start_time": "2022-03-14T09:56:11.429Z"
   },
   {
    "duration": 230,
    "start_time": "2022-03-14T09:56:36.637Z"
   },
   {
    "duration": 219,
    "start_time": "2022-03-14T09:56:42.405Z"
   },
   {
    "duration": 21,
    "start_time": "2022-03-14T09:56:50.333Z"
   },
   {
    "duration": 45,
    "start_time": "2022-03-14T09:57:05.484Z"
   },
   {
    "duration": 20,
    "start_time": "2022-03-14T09:58:20.854Z"
   },
   {
    "duration": 217,
    "start_time": "2022-03-14T10:01:18.867Z"
   },
   {
    "duration": 4185,
    "start_time": "2022-03-14T10:01:40.384Z"
   },
   {
    "duration": 17,
    "start_time": "2022-03-14T10:07:28.203Z"
   },
   {
    "duration": 5970,
    "start_time": "2022-03-14T10:07:29.122Z"
   },
   {
    "duration": 225,
    "start_time": "2022-03-14T10:08:39.770Z"
   },
   {
    "duration": 266,
    "start_time": "2022-03-14T10:08:52.833Z"
   },
   {
    "duration": 285,
    "start_time": "2022-03-14T10:08:57.089Z"
   },
   {
    "duration": 10,
    "start_time": "2022-03-14T10:09:03.906Z"
   },
   {
    "duration": 246,
    "start_time": "2022-03-14T10:09:35.433Z"
   },
   {
    "duration": 5,
    "start_time": "2022-03-14T10:12:00.136Z"
   },
   {
    "duration": 5,
    "start_time": "2022-03-14T10:12:07.429Z"
   },
   {
    "duration": 4,
    "start_time": "2022-03-14T10:12:35.112Z"
   },
   {
    "duration": 10,
    "start_time": "2022-03-14T10:12:46.767Z"
   },
   {
    "duration": 533,
    "start_time": "2022-03-15T09:55:55.910Z"
   },
   {
    "duration": 63,
    "start_time": "2022-03-15T09:55:56.445Z"
   },
   {
    "duration": 19,
    "start_time": "2022-03-15T09:55:56.510Z"
   },
   {
    "duration": 37,
    "start_time": "2022-03-15T09:55:56.531Z"
   },
   {
    "duration": 10,
    "start_time": "2022-03-15T09:55:56.569Z"
   },
   {
    "duration": 14,
    "start_time": "2022-03-15T09:55:56.580Z"
   },
   {
    "duration": 4,
    "start_time": "2022-03-15T09:55:56.595Z"
   },
   {
    "duration": 4,
    "start_time": "2022-03-15T09:55:56.602Z"
   },
   {
    "duration": 5,
    "start_time": "2022-03-15T09:55:56.608Z"
   },
   {
    "duration": 45,
    "start_time": "2022-03-15T09:55:56.615Z"
   },
   {
    "duration": 7,
    "start_time": "2022-03-15T09:55:56.662Z"
   },
   {
    "duration": 12,
    "start_time": "2022-03-15T09:55:56.670Z"
   },
   {
    "duration": 5,
    "start_time": "2022-03-15T09:55:56.683Z"
   },
   {
    "duration": 7,
    "start_time": "2022-03-15T09:55:56.690Z"
   },
   {
    "duration": 7,
    "start_time": "2022-03-15T09:55:56.698Z"
   },
   {
    "duration": 5,
    "start_time": "2022-03-15T09:55:56.707Z"
   },
   {
    "duration": 46,
    "start_time": "2022-03-15T09:55:56.714Z"
   },
   {
    "duration": 6,
    "start_time": "2022-03-15T09:55:56.762Z"
   },
   {
    "duration": 13,
    "start_time": "2022-03-15T09:55:56.770Z"
   },
   {
    "duration": 14,
    "start_time": "2022-03-15T09:55:56.784Z"
   },
   {
    "duration": 6,
    "start_time": "2022-03-15T09:55:56.800Z"
   },
   {
    "duration": 8,
    "start_time": "2022-03-15T09:55:56.808Z"
   },
   {
    "duration": 41,
    "start_time": "2022-03-15T09:55:56.820Z"
   },
   {
    "duration": 14,
    "start_time": "2022-03-15T09:55:56.864Z"
   },
   {
    "duration": 6,
    "start_time": "2022-03-15T09:55:56.879Z"
   },
   {
    "duration": 26,
    "start_time": "2022-03-15T09:55:56.887Z"
   },
   {
    "duration": 33,
    "start_time": "2022-03-15T09:55:56.914Z"
   },
   {
    "duration": 26,
    "start_time": "2022-03-15T09:55:56.948Z"
   },
   {
    "duration": 7,
    "start_time": "2022-03-15T09:55:56.976Z"
   },
   {
    "duration": 26,
    "start_time": "2022-03-15T09:55:56.985Z"
   },
   {
    "duration": 7,
    "start_time": "2022-03-15T09:55:57.013Z"
   },
   {
    "duration": 38,
    "start_time": "2022-03-15T09:55:57.022Z"
   },
   {
    "duration": 15,
    "start_time": "2022-03-15T09:55:57.061Z"
   },
   {
    "duration": 5,
    "start_time": "2022-03-15T09:55:57.078Z"
   },
   {
    "duration": 19,
    "start_time": "2022-03-15T09:55:57.084Z"
   },
   {
    "duration": 5,
    "start_time": "2022-03-15T09:55:57.104Z"
   },
   {
    "duration": 18,
    "start_time": "2022-03-15T09:55:57.111Z"
   },
   {
    "duration": 32,
    "start_time": "2022-03-15T09:55:57.131Z"
   },
   {
    "duration": 6,
    "start_time": "2022-03-15T09:55:57.164Z"
   },
   {
    "duration": 10,
    "start_time": "2022-03-15T09:55:57.172Z"
   },
   {
    "duration": 7,
    "start_time": "2022-03-15T09:55:57.184Z"
   },
   {
    "duration": 13,
    "start_time": "2022-03-15T09:55:57.192Z"
   },
   {
    "duration": 16,
    "start_time": "2022-03-15T09:55:57.206Z"
   },
   {
    "duration": 51,
    "start_time": "2022-03-15T09:55:57.224Z"
   },
   {
    "duration": 16,
    "start_time": "2022-03-15T09:55:57.277Z"
   },
   {
    "duration": 6,
    "start_time": "2022-03-15T09:55:57.294Z"
   },
   {
    "duration": 18,
    "start_time": "2022-03-15T09:55:57.301Z"
   },
   {
    "duration": 40,
    "start_time": "2022-03-15T09:55:57.320Z"
   },
   {
    "duration": 3,
    "start_time": "2022-03-15T09:55:57.362Z"
   },
   {
    "duration": 19,
    "start_time": "2022-03-15T09:55:57.367Z"
   },
   {
    "duration": 6,
    "start_time": "2022-03-15T09:55:57.388Z"
   },
   {
    "duration": 4,
    "start_time": "2022-03-15T09:55:57.395Z"
   },
   {
    "duration": 17,
    "start_time": "2022-03-15T09:55:57.401Z"
   },
   {
    "duration": 43,
    "start_time": "2022-03-15T09:55:57.420Z"
   },
   {
    "duration": 10,
    "start_time": "2022-03-15T09:55:57.465Z"
   },
   {
    "duration": 10,
    "start_time": "2022-03-15T09:55:57.477Z"
   },
   {
    "duration": 10,
    "start_time": "2022-03-15T09:55:57.488Z"
   },
   {
    "duration": 10,
    "start_time": "2022-03-15T09:55:57.499Z"
   },
   {
    "duration": 49,
    "start_time": "2022-03-15T09:55:57.511Z"
   },
   {
    "duration": 17,
    "start_time": "2022-03-15T09:55:57.562Z"
   },
   {
    "duration": 8,
    "start_time": "2022-03-15T09:55:57.581Z"
   },
   {
    "duration": 10,
    "start_time": "2022-03-15T09:55:57.591Z"
   },
   {
    "duration": 9,
    "start_time": "2022-03-15T09:55:57.603Z"
   },
   {
    "duration": 46,
    "start_time": "2022-03-15T09:55:57.614Z"
   },
   {
    "duration": 10,
    "start_time": "2022-03-15T09:55:57.662Z"
   },
   {
    "duration": 9,
    "start_time": "2022-03-15T09:55:57.673Z"
   },
   {
    "duration": 9,
    "start_time": "2022-03-15T09:55:57.684Z"
   },
   {
    "duration": 12,
    "start_time": "2022-03-15T09:55:57.698Z"
   },
   {
    "duration": 11,
    "start_time": "2022-03-15T09:55:57.712Z"
   },
   {
    "duration": 11,
    "start_time": "2022-03-15T09:55:57.759Z"
   },
   {
    "duration": 9,
    "start_time": "2022-03-15T09:55:57.772Z"
   },
   {
    "duration": 11,
    "start_time": "2022-03-15T09:55:57.782Z"
   },
   {
    "duration": 11,
    "start_time": "2022-03-15T09:55:57.795Z"
   },
   {
    "duration": 9,
    "start_time": "2022-03-15T09:55:57.808Z"
   },
   {
    "duration": 50,
    "start_time": "2022-03-15T09:55:57.819Z"
   },
   {
    "duration": 4,
    "start_time": "2022-03-15T10:45:17.084Z"
   },
   {
    "duration": 543,
    "start_time": "2022-03-15T10:45:52.013Z"
   },
   {
    "duration": 55,
    "start_time": "2022-03-15T10:45:52.558Z"
   },
   {
    "duration": 20,
    "start_time": "2022-03-15T10:45:52.617Z"
   },
   {
    "duration": 50,
    "start_time": "2022-03-15T10:45:52.638Z"
   },
   {
    "duration": 9,
    "start_time": "2022-03-15T10:45:52.690Z"
   },
   {
    "duration": 14,
    "start_time": "2022-03-15T10:45:52.701Z"
   },
   {
    "duration": 5,
    "start_time": "2022-03-15T10:45:52.717Z"
   },
   {
    "duration": 35,
    "start_time": "2022-03-15T10:45:52.724Z"
   },
   {
    "duration": 4,
    "start_time": "2022-03-15T10:45:52.761Z"
   },
   {
    "duration": 4,
    "start_time": "2022-03-15T10:45:52.767Z"
   },
   {
    "duration": 5,
    "start_time": "2022-03-15T10:45:52.773Z"
   },
   {
    "duration": 6,
    "start_time": "2022-03-15T10:45:52.779Z"
   },
   {
    "duration": 12,
    "start_time": "2022-03-15T10:45:52.787Z"
   },
   {
    "duration": 5,
    "start_time": "2022-03-15T10:45:52.800Z"
   },
   {
    "duration": 9,
    "start_time": "2022-03-15T10:45:52.807Z"
   },
   {
    "duration": 7,
    "start_time": "2022-03-15T10:45:52.859Z"
   },
   {
    "duration": 6,
    "start_time": "2022-03-15T10:45:52.867Z"
   },
   {
    "duration": 5,
    "start_time": "2022-03-15T10:45:52.874Z"
   },
   {
    "duration": 6,
    "start_time": "2022-03-15T10:45:52.881Z"
   },
   {
    "duration": 12,
    "start_time": "2022-03-15T10:45:52.888Z"
   },
   {
    "duration": 14,
    "start_time": "2022-03-15T10:45:52.902Z"
   },
   {
    "duration": 41,
    "start_time": "2022-03-15T10:45:52.919Z"
   },
   {
    "duration": 8,
    "start_time": "2022-03-15T10:45:52.962Z"
   },
   {
    "duration": 4,
    "start_time": "2022-03-15T10:45:52.971Z"
   },
   {
    "duration": 13,
    "start_time": "2022-03-15T10:45:52.976Z"
   },
   {
    "duration": 5,
    "start_time": "2022-03-15T10:45:52.990Z"
   },
   {
    "duration": 8,
    "start_time": "2022-03-15T10:45:52.996Z"
   },
   {
    "duration": 55,
    "start_time": "2022-03-15T10:45:53.006Z"
   },
   {
    "duration": 23,
    "start_time": "2022-03-15T10:45:53.063Z"
   },
   {
    "duration": 8,
    "start_time": "2022-03-15T10:45:53.087Z"
   },
   {
    "duration": 25,
    "start_time": "2022-03-15T10:45:53.097Z"
   },
   {
    "duration": 36,
    "start_time": "2022-03-15T10:45:53.124Z"
   },
   {
    "duration": 5,
    "start_time": "2022-03-15T10:45:53.161Z"
   },
   {
    "duration": 15,
    "start_time": "2022-03-15T10:45:53.167Z"
   },
   {
    "duration": 4,
    "start_time": "2022-03-15T10:45:53.184Z"
   },
   {
    "duration": 18,
    "start_time": "2022-03-15T10:45:53.189Z"
   },
   {
    "duration": 4,
    "start_time": "2022-03-15T10:45:53.208Z"
   },
   {
    "duration": 49,
    "start_time": "2022-03-15T10:45:53.214Z"
   },
   {
    "duration": 5,
    "start_time": "2022-03-15T10:45:53.264Z"
   },
   {
    "duration": 6,
    "start_time": "2022-03-15T10:45:53.270Z"
   },
   {
    "duration": 10,
    "start_time": "2022-03-15T10:45:53.277Z"
   },
   {
    "duration": 4,
    "start_time": "2022-03-15T10:45:53.289Z"
   },
   {
    "duration": 11,
    "start_time": "2022-03-15T10:45:53.295Z"
   },
   {
    "duration": 14,
    "start_time": "2022-03-15T10:45:53.307Z"
   },
   {
    "duration": 53,
    "start_time": "2022-03-15T10:45:53.323Z"
   },
   {
    "duration": 14,
    "start_time": "2022-03-15T10:45:53.378Z"
   },
   {
    "duration": 5,
    "start_time": "2022-03-15T10:45:53.394Z"
   },
   {
    "duration": 15,
    "start_time": "2022-03-15T10:45:53.401Z"
   },
   {
    "duration": 41,
    "start_time": "2022-03-15T10:45:53.418Z"
   },
   {
    "duration": 3,
    "start_time": "2022-03-15T10:45:53.461Z"
   },
   {
    "duration": 18,
    "start_time": "2022-03-15T10:45:53.465Z"
   },
   {
    "duration": 6,
    "start_time": "2022-03-15T10:45:53.485Z"
   },
   {
    "duration": 3,
    "start_time": "2022-03-15T10:45:53.493Z"
   },
   {
    "duration": 18,
    "start_time": "2022-03-15T10:45:53.498Z"
   },
   {
    "duration": 50,
    "start_time": "2022-03-15T10:45:53.518Z"
   },
   {
    "duration": 13,
    "start_time": "2022-03-15T10:45:53.570Z"
   },
   {
    "duration": 12,
    "start_time": "2022-03-15T10:45:53.585Z"
   },
   {
    "duration": 12,
    "start_time": "2022-03-15T10:45:53.600Z"
   },
   {
    "duration": 12,
    "start_time": "2022-03-15T10:45:53.614Z"
   },
   {
    "duration": 43,
    "start_time": "2022-03-15T10:45:53.628Z"
   },
   {
    "duration": 26,
    "start_time": "2022-03-15T10:45:53.673Z"
   },
   {
    "duration": 9,
    "start_time": "2022-03-15T10:45:53.700Z"
   },
   {
    "duration": 12,
    "start_time": "2022-03-15T10:45:53.710Z"
   },
   {
    "duration": 42,
    "start_time": "2022-03-15T10:45:53.723Z"
   },
   {
    "duration": 10,
    "start_time": "2022-03-15T10:45:53.767Z"
   },
   {
    "duration": 10,
    "start_time": "2022-03-15T10:45:53.778Z"
   },
   {
    "duration": 9,
    "start_time": "2022-03-15T10:45:53.792Z"
   },
   {
    "duration": 9,
    "start_time": "2022-03-15T10:45:53.803Z"
   },
   {
    "duration": 48,
    "start_time": "2022-03-15T10:45:53.814Z"
   },
   {
    "duration": 12,
    "start_time": "2022-03-15T10:45:53.864Z"
   },
   {
    "duration": 10,
    "start_time": "2022-03-15T10:45:53.877Z"
   },
   {
    "duration": 10,
    "start_time": "2022-03-15T10:45:53.888Z"
   },
   {
    "duration": 10,
    "start_time": "2022-03-15T10:45:53.899Z"
   },
   {
    "duration": 10,
    "start_time": "2022-03-15T10:45:53.911Z"
   },
   {
    "duration": 11,
    "start_time": "2022-03-15T10:45:53.959Z"
   },
   {
    "duration": 10,
    "start_time": "2022-03-15T10:45:53.971Z"
   },
   {
    "duration": 593,
    "start_time": "2022-03-15T10:48:09.869Z"
   },
   {
    "duration": 59,
    "start_time": "2022-03-15T10:48:10.464Z"
   },
   {
    "duration": 18,
    "start_time": "2022-03-15T10:48:10.525Z"
   },
   {
    "duration": 53,
    "start_time": "2022-03-15T10:48:10.545Z"
   },
   {
    "duration": 9,
    "start_time": "2022-03-15T10:48:10.599Z"
   },
   {
    "duration": 14,
    "start_time": "2022-03-15T10:48:10.609Z"
   },
   {
    "duration": 12,
    "start_time": "2022-03-15T10:48:10.625Z"
   },
   {
    "duration": 24,
    "start_time": "2022-03-15T10:48:10.638Z"
   },
   {
    "duration": 25,
    "start_time": "2022-03-15T10:48:10.664Z"
   },
   {
    "duration": 36,
    "start_time": "2022-03-15T10:48:10.692Z"
   },
   {
    "duration": 12,
    "start_time": "2022-03-15T10:48:10.730Z"
   },
   {
    "duration": 10,
    "start_time": "2022-03-15T10:48:10.744Z"
   },
   {
    "duration": 35,
    "start_time": "2022-03-15T10:48:10.755Z"
   },
   {
    "duration": 13,
    "start_time": "2022-03-15T10:48:10.791Z"
   },
   {
    "duration": 28,
    "start_time": "2022-03-15T10:48:10.805Z"
   },
   {
    "duration": 13,
    "start_time": "2022-03-15T10:48:10.835Z"
   },
   {
    "duration": 11,
    "start_time": "2022-03-15T10:48:10.850Z"
   },
   {
    "duration": 6,
    "start_time": "2022-03-15T10:48:10.863Z"
   },
   {
    "duration": 20,
    "start_time": "2022-03-15T10:48:10.870Z"
   },
   {
    "duration": 22,
    "start_time": "2022-03-15T10:48:10.892Z"
   },
   {
    "duration": 22,
    "start_time": "2022-03-15T10:48:10.916Z"
   },
   {
    "duration": 4,
    "start_time": "2022-03-15T10:48:10.940Z"
   },
   {
    "duration": 13,
    "start_time": "2022-03-15T10:48:10.946Z"
   },
   {
    "duration": 7,
    "start_time": "2022-03-15T10:48:10.961Z"
   },
   {
    "duration": 30,
    "start_time": "2022-03-15T10:48:10.970Z"
   },
   {
    "duration": 17,
    "start_time": "2022-03-15T10:48:11.002Z"
   },
   {
    "duration": 26,
    "start_time": "2022-03-15T10:48:11.025Z"
   },
   {
    "duration": 24,
    "start_time": "2022-03-15T10:48:11.054Z"
   },
   {
    "duration": 22,
    "start_time": "2022-03-15T10:48:11.080Z"
   },
   {
    "duration": 20,
    "start_time": "2022-03-15T10:48:11.104Z"
   },
   {
    "duration": 41,
    "start_time": "2022-03-15T10:48:11.126Z"
   },
   {
    "duration": 7,
    "start_time": "2022-03-15T10:48:11.169Z"
   },
   {
    "duration": 32,
    "start_time": "2022-03-15T10:48:11.178Z"
   },
   {
    "duration": 21,
    "start_time": "2022-03-15T10:48:11.212Z"
   },
   {
    "duration": 16,
    "start_time": "2022-03-15T10:48:11.235Z"
   },
   {
    "duration": 32,
    "start_time": "2022-03-15T10:48:11.253Z"
   },
   {
    "duration": 12,
    "start_time": "2022-03-15T10:48:11.287Z"
   },
   {
    "duration": 38,
    "start_time": "2022-03-15T10:48:11.300Z"
   },
   {
    "duration": 25,
    "start_time": "2022-03-15T10:48:11.339Z"
   },
   {
    "duration": 25,
    "start_time": "2022-03-15T10:48:11.366Z"
   },
   {
    "duration": 26,
    "start_time": "2022-03-15T10:48:11.392Z"
   },
   {
    "duration": 5,
    "start_time": "2022-03-15T10:48:11.420Z"
   },
   {
    "duration": 16,
    "start_time": "2022-03-15T10:48:11.427Z"
   },
   {
    "duration": 15,
    "start_time": "2022-03-15T10:48:11.445Z"
   },
   {
    "duration": 25,
    "start_time": "2022-03-15T10:48:11.462Z"
   },
   {
    "duration": 18,
    "start_time": "2022-03-15T10:48:11.489Z"
   },
   {
    "duration": 5,
    "start_time": "2022-03-15T10:48:11.509Z"
   },
   {
    "duration": 38,
    "start_time": "2022-03-15T10:48:11.516Z"
   },
   {
    "duration": 19,
    "start_time": "2022-03-15T10:48:11.556Z"
   },
   {
    "duration": 9,
    "start_time": "2022-03-15T10:48:11.577Z"
   },
   {
    "duration": 32,
    "start_time": "2022-03-15T10:48:11.588Z"
   },
   {
    "duration": 28,
    "start_time": "2022-03-15T10:48:11.622Z"
   },
   {
    "duration": 5,
    "start_time": "2022-03-15T10:48:11.652Z"
   },
   {
    "duration": 36,
    "start_time": "2022-03-15T10:48:11.659Z"
   },
   {
    "duration": 32,
    "start_time": "2022-03-15T10:48:11.697Z"
   },
   {
    "duration": 11,
    "start_time": "2022-03-15T10:48:11.731Z"
   },
   {
    "duration": 30,
    "start_time": "2022-03-15T10:48:11.744Z"
   },
   {
    "duration": 17,
    "start_time": "2022-03-15T10:48:11.775Z"
   },
   {
    "duration": 10,
    "start_time": "2022-03-15T10:48:11.794Z"
   },
   {
    "duration": 26,
    "start_time": "2022-03-15T10:48:11.806Z"
   },
   {
    "duration": 19,
    "start_time": "2022-03-15T10:48:11.833Z"
   },
   {
    "duration": 21,
    "start_time": "2022-03-15T10:48:11.854Z"
   },
   {
    "duration": 35,
    "start_time": "2022-03-15T10:48:11.877Z"
   },
   {
    "duration": 19,
    "start_time": "2022-03-15T10:48:11.914Z"
   },
   {
    "duration": 15,
    "start_time": "2022-03-15T10:48:11.935Z"
   },
   {
    "duration": 15,
    "start_time": "2022-03-15T10:48:11.952Z"
   },
   {
    "duration": 21,
    "start_time": "2022-03-15T10:48:11.969Z"
   },
   {
    "duration": 22,
    "start_time": "2022-03-15T10:48:11.992Z"
   },
   {
    "duration": 20,
    "start_time": "2022-03-15T10:48:12.016Z"
   },
   {
    "duration": 11,
    "start_time": "2022-03-15T10:48:12.038Z"
   },
   {
    "duration": 10,
    "start_time": "2022-03-15T10:48:12.050Z"
   },
   {
    "duration": 22,
    "start_time": "2022-03-15T10:48:12.062Z"
   },
   {
    "duration": 20,
    "start_time": "2022-03-15T10:48:12.086Z"
   },
   {
    "duration": 37,
    "start_time": "2022-03-15T10:48:12.107Z"
   },
   {
    "duration": 14,
    "start_time": "2022-03-15T10:48:12.146Z"
   },
   {
    "duration": 33,
    "start_time": "2022-03-15T10:48:12.162Z"
   },
   {
    "duration": 6,
    "start_time": "2022-03-15T10:50:06.068Z"
   },
   {
    "duration": 572,
    "start_time": "2022-03-15T10:50:21.871Z"
   },
   {
    "duration": 55,
    "start_time": "2022-03-15T10:50:22.445Z"
   },
   {
    "duration": 255,
    "start_time": "2022-03-15T10:50:25.954Z"
   },
   {
    "duration": 9,
    "start_time": "2022-03-15T10:50:28.462Z"
   },
   {
    "duration": 5,
    "start_time": "2022-03-15T10:50:32.618Z"
   },
   {
    "duration": 5,
    "start_time": "2022-03-15T10:50:40.169Z"
   },
   {
    "duration": 4,
    "start_time": "2022-03-15T10:50:45.943Z"
   },
   {
    "duration": 4,
    "start_time": "2022-03-15T10:50:52.203Z"
   },
   {
    "duration": 6,
    "start_time": "2022-03-15T10:51:10.379Z"
   },
   {
    "duration": 5,
    "start_time": "2022-03-15T10:53:35.325Z"
   },
   {
    "duration": 4,
    "start_time": "2022-03-15T10:53:37.403Z"
   },
   {
    "duration": 6,
    "start_time": "2022-03-15T10:53:50.711Z"
   },
   {
    "duration": 5,
    "start_time": "2022-03-15T10:53:54.575Z"
   },
   {
    "duration": 80,
    "start_time": "2022-03-15T10:53:57.877Z"
   },
   {
    "duration": 5,
    "start_time": "2022-03-15T10:53:59.965Z"
   },
   {
    "duration": 586,
    "start_time": "2022-03-15T10:57:07.745Z"
   },
   {
    "duration": 66,
    "start_time": "2022-03-15T10:57:08.333Z"
   },
   {
    "duration": 20,
    "start_time": "2022-03-15T10:57:08.402Z"
   },
   {
    "duration": 43,
    "start_time": "2022-03-15T10:57:08.424Z"
   },
   {
    "duration": 10,
    "start_time": "2022-03-15T10:57:08.468Z"
   },
   {
    "duration": 15,
    "start_time": "2022-03-15T10:57:08.479Z"
   },
   {
    "duration": 4,
    "start_time": "2022-03-15T10:57:08.495Z"
   },
   {
    "duration": 7,
    "start_time": "2022-03-15T10:57:08.501Z"
   },
   {
    "duration": 4,
    "start_time": "2022-03-15T10:57:08.511Z"
   },
   {
    "duration": 4,
    "start_time": "2022-03-15T10:57:08.517Z"
   },
   {
    "duration": 8,
    "start_time": "2022-03-15T10:57:08.561Z"
   },
   {
    "duration": 13,
    "start_time": "2022-03-15T10:57:08.571Z"
   },
   {
    "duration": 6,
    "start_time": "2022-03-15T10:57:08.586Z"
   },
   {
    "duration": 8,
    "start_time": "2022-03-15T10:57:08.594Z"
   },
   {
    "duration": 7,
    "start_time": "2022-03-15T10:57:08.604Z"
   },
   {
    "duration": 52,
    "start_time": "2022-03-15T10:57:08.613Z"
   },
   {
    "duration": 5,
    "start_time": "2022-03-15T10:57:08.667Z"
   },
   {
    "duration": 7,
    "start_time": "2022-03-15T10:57:08.674Z"
   },
   {
    "duration": 6,
    "start_time": "2022-03-15T10:57:08.682Z"
   },
   {
    "duration": 16,
    "start_time": "2022-03-15T10:57:08.690Z"
   },
   {
    "duration": 7,
    "start_time": "2022-03-15T10:57:08.707Z"
   },
   {
    "duration": 8,
    "start_time": "2022-03-15T10:57:08.759Z"
   },
   {
    "duration": 4,
    "start_time": "2022-03-15T10:57:08.771Z"
   },
   {
    "duration": 10,
    "start_time": "2022-03-15T10:57:08.777Z"
   },
   {
    "duration": 4,
    "start_time": "2022-03-15T10:57:08.789Z"
   },
   {
    "duration": 10,
    "start_time": "2022-03-15T10:57:08.795Z"
   },
   {
    "duration": 60,
    "start_time": "2022-03-15T10:57:08.806Z"
   },
   {
    "duration": 21,
    "start_time": "2022-03-15T10:57:08.868Z"
   },
   {
    "duration": 9,
    "start_time": "2022-03-15T10:57:08.890Z"
   },
   {
    "duration": 27,
    "start_time": "2022-03-15T10:57:08.901Z"
   },
   {
    "duration": 33,
    "start_time": "2022-03-15T10:57:08.930Z"
   },
   {
    "duration": 5,
    "start_time": "2022-03-15T10:57:08.965Z"
   },
   {
    "duration": 17,
    "start_time": "2022-03-15T10:57:08.971Z"
   },
   {
    "duration": 4,
    "start_time": "2022-03-15T10:57:08.990Z"
   },
   {
    "duration": 16,
    "start_time": "2022-03-15T10:57:08.996Z"
   },
   {
    "duration": 4,
    "start_time": "2022-03-15T10:57:09.014Z"
   },
   {
    "duration": 50,
    "start_time": "2022-03-15T10:57:09.020Z"
   },
   {
    "duration": 4,
    "start_time": "2022-03-15T10:57:09.072Z"
   },
   {
    "duration": 5,
    "start_time": "2022-03-15T10:57:09.078Z"
   },
   {
    "duration": 12,
    "start_time": "2022-03-15T10:57:09.085Z"
   },
   {
    "duration": 4,
    "start_time": "2022-03-15T10:57:09.098Z"
   },
   {
    "duration": 11,
    "start_time": "2022-03-15T10:57:09.104Z"
   },
   {
    "duration": 52,
    "start_time": "2022-03-15T10:57:09.116Z"
   },
   {
    "duration": 17,
    "start_time": "2022-03-15T10:57:09.169Z"
   },
   {
    "duration": 15,
    "start_time": "2022-03-15T10:57:09.188Z"
   },
   {
    "duration": 5,
    "start_time": "2022-03-15T10:57:09.205Z"
   },
   {
    "duration": 21,
    "start_time": "2022-03-15T10:57:09.211Z"
   },
   {
    "duration": 38,
    "start_time": "2022-03-15T10:57:09.233Z"
   },
   {
    "duration": 4,
    "start_time": "2022-03-15T10:57:09.272Z"
   },
   {
    "duration": 22,
    "start_time": "2022-03-15T10:57:09.278Z"
   },
   {
    "duration": 5,
    "start_time": "2022-03-15T10:57:09.302Z"
   },
   {
    "duration": 4,
    "start_time": "2022-03-15T10:57:09.309Z"
   },
   {
    "duration": 45,
    "start_time": "2022-03-15T10:57:09.315Z"
   },
   {
    "duration": 15,
    "start_time": "2022-03-15T10:57:09.362Z"
   },
   {
    "duration": 10,
    "start_time": "2022-03-15T10:57:09.379Z"
   },
   {
    "duration": 11,
    "start_time": "2022-03-15T10:57:09.391Z"
   },
   {
    "duration": 9,
    "start_time": "2022-03-15T10:57:09.403Z"
   },
   {
    "duration": 11,
    "start_time": "2022-03-15T10:57:09.413Z"
   },
   {
    "duration": 10,
    "start_time": "2022-03-15T10:57:09.460Z"
   },
   {
    "duration": 17,
    "start_time": "2022-03-15T10:57:09.471Z"
   },
   {
    "duration": 8,
    "start_time": "2022-03-15T10:57:09.490Z"
   },
   {
    "duration": 12,
    "start_time": "2022-03-15T10:57:09.499Z"
   },
   {
    "duration": 10,
    "start_time": "2022-03-15T10:57:09.512Z"
   },
   {
    "duration": 45,
    "start_time": "2022-03-15T10:57:09.523Z"
   },
   {
    "duration": 10,
    "start_time": "2022-03-15T10:57:09.569Z"
   },
   {
    "duration": 9,
    "start_time": "2022-03-15T10:57:09.580Z"
   },
   {
    "duration": 9,
    "start_time": "2022-03-15T10:57:09.590Z"
   },
   {
    "duration": 9,
    "start_time": "2022-03-15T10:57:09.604Z"
   },
   {
    "duration": 48,
    "start_time": "2022-03-15T10:57:09.615Z"
   },
   {
    "duration": 10,
    "start_time": "2022-03-15T10:57:09.664Z"
   },
   {
    "duration": 10,
    "start_time": "2022-03-15T10:57:09.675Z"
   },
   {
    "duration": 11,
    "start_time": "2022-03-15T10:57:09.686Z"
   },
   {
    "duration": 12,
    "start_time": "2022-03-15T10:57:09.699Z"
   },
   {
    "duration": 48,
    "start_time": "2022-03-15T10:57:09.712Z"
   },
   {
    "duration": 11,
    "start_time": "2022-03-15T10:57:09.762Z"
   }
  ],
  "kernelspec": {
   "display_name": "Python 3 (ipykernel)",
   "language": "python",
   "name": "python3"
  },
  "language_info": {
   "codemirror_mode": {
    "name": "ipython",
    "version": 3
   },
   "file_extension": ".py",
   "mimetype": "text/x-python",
   "name": "python",
   "nbconvert_exporter": "python",
   "pygments_lexer": "ipython3",
   "version": "3.9.12"
  },
  "toc": {
   "base_numbering": 1,
   "nav_menu": {
    "height": "295.99px",
    "width": "482.986px"
   },
   "number_sections": true,
   "sideBar": true,
   "skip_h1_title": true,
   "title_cell": "Table of Contents",
   "title_sidebar": "Contents",
   "toc_cell": false,
   "toc_position": {},
   "toc_section_display": true,
   "toc_window_display": true
  }
 },
 "nbformat": 4,
 "nbformat_minor": 5
}

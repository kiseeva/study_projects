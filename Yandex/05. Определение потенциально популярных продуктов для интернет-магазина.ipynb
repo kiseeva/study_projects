{
 "cells": [
  {
   "cell_type": "markdown",
   "metadata": {},
   "source": [
    "# Определение потенциально популярных продуктов для интернет-магазина «N» \n",
    "\n",
    "`Цель:` спланировать рекламные кампании для интернет-магазина.\n",
    "`Задача:` проанализировать данные о прошлых продажах в магазине и определить факторы предсказывающие популярность продукта, выявить определяющие успешность игры закономерности\n",
    "\n",
    "Ход исследования:\n",
    "\n",
    "1. Обзор данных.\n",
    "2. Предобработка данных.\n",
    "3. Анализ данных\n",
    "4. Формулировка закономерностей\n",
    "\n",
    "`Входные данные:` games.csv\n",
    "\n",
    "`Описание полей данных:`\n",
    "\n",
    "- Name — название игры\n",
    "- Platform — платформа\n",
    "- Year_of_Release — год выпуска\n",
    "- Genre — жанр игры\n",
    "- NA_sales — продажи в Северной Америке (миллионы проданных копий)\n",
    "- EU_sales — продажи в Европе (миллионы проданных копий)\n",
    "- JP_sales — продажи в Японии (миллионы проданных копий)\n",
    "- Other_sales — продажи в других странах (миллионы проданных копий)\n",
    "- Critic_Score — оценка критиков (максимум 100)\n",
    "- User_Score — оценка пользователей (максимум 10)\n",
    "- Rating — рейтинг от организации ESRB (англ. Entertainment Software Rating Board). Эта ассоциация определяет рейтинг компьютерных игр и присваивает им подходящую возрастную категорию."
   ]
  },
  {
   "cell_type": "markdown",
   "metadata": {},
   "source": [
    "## Обзор данных"
   ]
  },
  {
   "cell_type": "code",
   "execution_count": 1,
   "metadata": {},
   "outputs": [],
   "source": [
    "import pandas as pd\n",
    "import matplotlib.pyplot as plt\n",
    "import numpy as np\n",
    "from scipy import stats as st"
   ]
  },
  {
   "cell_type": "code",
   "execution_count": 2,
   "metadata": {},
   "outputs": [
    {
     "data": {
      "text/html": [
       "<div>\n",
       "<style scoped>\n",
       "    .dataframe tbody tr th:only-of-type {\n",
       "        vertical-align: middle;\n",
       "    }\n",
       "\n",
       "    .dataframe tbody tr th {\n",
       "        vertical-align: top;\n",
       "    }\n",
       "\n",
       "    .dataframe thead th {\n",
       "        text-align: right;\n",
       "    }\n",
       "</style>\n",
       "<table border=\"1\" class=\"dataframe\">\n",
       "  <thead>\n",
       "    <tr style=\"text-align: right;\">\n",
       "      <th></th>\n",
       "      <th>Name</th>\n",
       "      <th>Platform</th>\n",
       "      <th>Year_of_Release</th>\n",
       "      <th>Genre</th>\n",
       "      <th>NA_sales</th>\n",
       "      <th>EU_sales</th>\n",
       "      <th>JP_sales</th>\n",
       "      <th>Other_sales</th>\n",
       "      <th>Critic_Score</th>\n",
       "      <th>User_Score</th>\n",
       "      <th>Rating</th>\n",
       "    </tr>\n",
       "  </thead>\n",
       "  <tbody>\n",
       "    <tr>\n",
       "      <th>0</th>\n",
       "      <td>Wii Sports</td>\n",
       "      <td>Wii</td>\n",
       "      <td>2006.0</td>\n",
       "      <td>Sports</td>\n",
       "      <td>41.36</td>\n",
       "      <td>28.96</td>\n",
       "      <td>3.77</td>\n",
       "      <td>8.45</td>\n",
       "      <td>76.0</td>\n",
       "      <td>8</td>\n",
       "      <td>E</td>\n",
       "    </tr>\n",
       "    <tr>\n",
       "      <th>1</th>\n",
       "      <td>Super Mario Bros.</td>\n",
       "      <td>NES</td>\n",
       "      <td>1985.0</td>\n",
       "      <td>Platform</td>\n",
       "      <td>29.08</td>\n",
       "      <td>3.58</td>\n",
       "      <td>6.81</td>\n",
       "      <td>0.77</td>\n",
       "      <td>NaN</td>\n",
       "      <td>NaN</td>\n",
       "      <td>NaN</td>\n",
       "    </tr>\n",
       "    <tr>\n",
       "      <th>2</th>\n",
       "      <td>Mario Kart Wii</td>\n",
       "      <td>Wii</td>\n",
       "      <td>2008.0</td>\n",
       "      <td>Racing</td>\n",
       "      <td>15.68</td>\n",
       "      <td>12.76</td>\n",
       "      <td>3.79</td>\n",
       "      <td>3.29</td>\n",
       "      <td>82.0</td>\n",
       "      <td>8.3</td>\n",
       "      <td>E</td>\n",
       "    </tr>\n",
       "    <tr>\n",
       "      <th>3</th>\n",
       "      <td>Wii Sports Resort</td>\n",
       "      <td>Wii</td>\n",
       "      <td>2009.0</td>\n",
       "      <td>Sports</td>\n",
       "      <td>15.61</td>\n",
       "      <td>10.93</td>\n",
       "      <td>3.28</td>\n",
       "      <td>2.95</td>\n",
       "      <td>80.0</td>\n",
       "      <td>8</td>\n",
       "      <td>E</td>\n",
       "    </tr>\n",
       "    <tr>\n",
       "      <th>4</th>\n",
       "      <td>Pokemon Red/Pokemon Blue</td>\n",
       "      <td>GB</td>\n",
       "      <td>1996.0</td>\n",
       "      <td>Role-Playing</td>\n",
       "      <td>11.27</td>\n",
       "      <td>8.89</td>\n",
       "      <td>10.22</td>\n",
       "      <td>1.00</td>\n",
       "      <td>NaN</td>\n",
       "      <td>NaN</td>\n",
       "      <td>NaN</td>\n",
       "    </tr>\n",
       "  </tbody>\n",
       "</table>\n",
       "</div>"
      ],
      "text/plain": [
       "                       Name Platform  Year_of_Release         Genre  NA_sales  \\\n",
       "0                Wii Sports      Wii           2006.0        Sports     41.36   \n",
       "1         Super Mario Bros.      NES           1985.0      Platform     29.08   \n",
       "2            Mario Kart Wii      Wii           2008.0        Racing     15.68   \n",
       "3         Wii Sports Resort      Wii           2009.0        Sports     15.61   \n",
       "4  Pokemon Red/Pokemon Blue       GB           1996.0  Role-Playing     11.27   \n",
       "\n",
       "   EU_sales  JP_sales  Other_sales  Critic_Score User_Score Rating  \n",
       "0     28.96      3.77         8.45          76.0          8      E  \n",
       "1      3.58      6.81         0.77           NaN        NaN    NaN  \n",
       "2     12.76      3.79         3.29          82.0        8.3      E  \n",
       "3     10.93      3.28         2.95          80.0          8      E  \n",
       "4      8.89     10.22         1.00           NaN        NaN    NaN  "
      ]
     },
     "execution_count": 2,
     "metadata": {},
     "output_type": "execute_result"
    }
   ],
   "source": [
    "games_info = pd.read_csv('/datasets/games.csv')\n",
    "games_info.head()"
   ]
  },
  {
   "cell_type": "code",
   "execution_count": 3,
   "metadata": {},
   "outputs": [
    {
     "name": "stdout",
     "output_type": "stream",
     "text": [
      "<class 'pandas.core.frame.DataFrame'>\n",
      "RangeIndex: 16715 entries, 0 to 16714\n",
      "Data columns (total 11 columns):\n",
      " #   Column           Non-Null Count  Dtype  \n",
      "---  ------           --------------  -----  \n",
      " 0   Name             16713 non-null  object \n",
      " 1   Platform         16715 non-null  object \n",
      " 2   Year_of_Release  16446 non-null  float64\n",
      " 3   Genre            16713 non-null  object \n",
      " 4   NA_sales         16715 non-null  float64\n",
      " 5   EU_sales         16715 non-null  float64\n",
      " 6   JP_sales         16715 non-null  float64\n",
      " 7   Other_sales      16715 non-null  float64\n",
      " 8   Critic_Score     8137 non-null   float64\n",
      " 9   User_Score       10014 non-null  object \n",
      " 10  Rating           9949 non-null   object \n",
      "dtypes: float64(6), object(5)\n",
      "memory usage: 1.4+ MB\n"
     ]
    }
   ],
   "source": [
    "games_info.info()"
   ]
  },
  {
   "cell_type": "code",
   "execution_count": 4,
   "metadata": {},
   "outputs": [
    {
     "data": {
      "text/html": [
       "<div>\n",
       "<style scoped>\n",
       "    .dataframe tbody tr th:only-of-type {\n",
       "        vertical-align: middle;\n",
       "    }\n",
       "\n",
       "    .dataframe tbody tr th {\n",
       "        vertical-align: top;\n",
       "    }\n",
       "\n",
       "    .dataframe thead th {\n",
       "        text-align: right;\n",
       "    }\n",
       "</style>\n",
       "<table border=\"1\" class=\"dataframe\">\n",
       "  <thead>\n",
       "    <tr style=\"text-align: right;\">\n",
       "      <th></th>\n",
       "      <th>Year_of_Release</th>\n",
       "      <th>NA_sales</th>\n",
       "      <th>EU_sales</th>\n",
       "      <th>JP_sales</th>\n",
       "      <th>Other_sales</th>\n",
       "      <th>Critic_Score</th>\n",
       "    </tr>\n",
       "  </thead>\n",
       "  <tbody>\n",
       "    <tr>\n",
       "      <th>count</th>\n",
       "      <td>16446.000000</td>\n",
       "      <td>16715.000000</td>\n",
       "      <td>16715.000000</td>\n",
       "      <td>16715.000000</td>\n",
       "      <td>16715.000000</td>\n",
       "      <td>8137.000000</td>\n",
       "    </tr>\n",
       "    <tr>\n",
       "      <th>mean</th>\n",
       "      <td>2006.484616</td>\n",
       "      <td>0.263377</td>\n",
       "      <td>0.145060</td>\n",
       "      <td>0.077617</td>\n",
       "      <td>0.047342</td>\n",
       "      <td>68.967679</td>\n",
       "    </tr>\n",
       "    <tr>\n",
       "      <th>std</th>\n",
       "      <td>5.877050</td>\n",
       "      <td>0.813604</td>\n",
       "      <td>0.503339</td>\n",
       "      <td>0.308853</td>\n",
       "      <td>0.186731</td>\n",
       "      <td>13.938165</td>\n",
       "    </tr>\n",
       "    <tr>\n",
       "      <th>min</th>\n",
       "      <td>1980.000000</td>\n",
       "      <td>0.000000</td>\n",
       "      <td>0.000000</td>\n",
       "      <td>0.000000</td>\n",
       "      <td>0.000000</td>\n",
       "      <td>13.000000</td>\n",
       "    </tr>\n",
       "    <tr>\n",
       "      <th>25%</th>\n",
       "      <td>2003.000000</td>\n",
       "      <td>0.000000</td>\n",
       "      <td>0.000000</td>\n",
       "      <td>0.000000</td>\n",
       "      <td>0.000000</td>\n",
       "      <td>60.000000</td>\n",
       "    </tr>\n",
       "    <tr>\n",
       "      <th>50%</th>\n",
       "      <td>2007.000000</td>\n",
       "      <td>0.080000</td>\n",
       "      <td>0.020000</td>\n",
       "      <td>0.000000</td>\n",
       "      <td>0.010000</td>\n",
       "      <td>71.000000</td>\n",
       "    </tr>\n",
       "    <tr>\n",
       "      <th>75%</th>\n",
       "      <td>2010.000000</td>\n",
       "      <td>0.240000</td>\n",
       "      <td>0.110000</td>\n",
       "      <td>0.040000</td>\n",
       "      <td>0.030000</td>\n",
       "      <td>79.000000</td>\n",
       "    </tr>\n",
       "    <tr>\n",
       "      <th>max</th>\n",
       "      <td>2016.000000</td>\n",
       "      <td>41.360000</td>\n",
       "      <td>28.960000</td>\n",
       "      <td>10.220000</td>\n",
       "      <td>10.570000</td>\n",
       "      <td>98.000000</td>\n",
       "    </tr>\n",
       "  </tbody>\n",
       "</table>\n",
       "</div>"
      ],
      "text/plain": [
       "       Year_of_Release      NA_sales      EU_sales      JP_sales  \\\n",
       "count     16446.000000  16715.000000  16715.000000  16715.000000   \n",
       "mean       2006.484616      0.263377      0.145060      0.077617   \n",
       "std           5.877050      0.813604      0.503339      0.308853   \n",
       "min        1980.000000      0.000000      0.000000      0.000000   \n",
       "25%        2003.000000      0.000000      0.000000      0.000000   \n",
       "50%        2007.000000      0.080000      0.020000      0.000000   \n",
       "75%        2010.000000      0.240000      0.110000      0.040000   \n",
       "max        2016.000000     41.360000     28.960000     10.220000   \n",
       "\n",
       "        Other_sales  Critic_Score  \n",
       "count  16715.000000   8137.000000  \n",
       "mean       0.047342     68.967679  \n",
       "std        0.186731     13.938165  \n",
       "min        0.000000     13.000000  \n",
       "25%        0.000000     60.000000  \n",
       "50%        0.010000     71.000000  \n",
       "75%        0.030000     79.000000  \n",
       "max       10.570000     98.000000  "
      ]
     },
     "execution_count": 4,
     "metadata": {},
     "output_type": "execute_result"
    }
   ],
   "source": [
    "games_info.describe()"
   ]
  },
  {
   "cell_type": "markdown",
   "metadata": {},
   "source": [
    "##### Вывод:\n",
    "Просмотрена основная информация и статистика данных.\n",
    "\n",
    "- Данные предоставлены за период 1980-2016 гг.,из трех регионов, в достаточном объеме ~16713 записей.\n",
    "- В данных присутствуют пропуски. \n",
    "- Тип некоторых полей данных не соответствует содержанию."
   ]
  },
  {
   "cell_type": "markdown",
   "metadata": {},
   "source": [
    "## Предобработка данных"
   ]
  },
  {
   "cell_type": "markdown",
   "metadata": {},
   "source": [
    "План предобработки данных:\n",
    "\n",
    "1. Исправить стилистические нарушения - привести названия столбцов к нижнему регистру\n",
    "2. Преобразуйте данные в нужные типы.\n",
    "3. Обработать пропуски\n",
    "4. Проверить наличие дубликатов\n",
    "\n",
    "И дополнительно по заданию требуется посчитать суммарные продажи во всех регионах."
   ]
  },
  {
   "cell_type": "markdown",
   "metadata": {},
   "source": [
    "### Исправление стилистических нарушений\n",
    "\n",
    "Приведем названия столбцов к нижнему регистру."
   ]
  },
  {
   "cell_type": "code",
   "execution_count": 5,
   "metadata": {},
   "outputs": [
    {
     "data": {
      "text/plain": [
       "Index(['Name', 'Platform', 'Year_of_Release', 'Genre', 'NA_sales', 'EU_sales',\n",
       "       'JP_sales', 'Other_sales', 'Critic_Score', 'User_Score', 'Rating'],\n",
       "      dtype='object')"
      ]
     },
     "execution_count": 5,
     "metadata": {},
     "output_type": "execute_result"
    }
   ],
   "source": [
    "games_info.columns"
   ]
  },
  {
   "cell_type": "code",
   "execution_count": 6,
   "metadata": {},
   "outputs": [
    {
     "data": {
      "text/plain": [
       "Index(['name', 'platform', 'year_of_release', 'genre', 'na_sales', 'eu_sales',\n",
       "       'jp_sales', 'other_sales', 'critic_score', 'user_score', 'rating'],\n",
       "      dtype='object')"
      ]
     },
     "execution_count": 6,
     "metadata": {},
     "output_type": "execute_result"
    }
   ],
   "source": [
    "games_info.columns = games_info.columns.str.lower()\n",
    "games_info.columns"
   ]
  },
  {
   "cell_type": "markdown",
   "metadata": {},
   "source": [
    "### Заполнение пропусков"
   ]
  },
  {
   "cell_type": "markdown",
   "metadata": {},
   "source": [
    "Перед преобразованием типов обработаем пропуски. \n",
    "\n",
    "Посмотрим, где в таблице есть пропуски:"
   ]
  },
  {
   "cell_type": "code",
   "execution_count": 7,
   "metadata": {},
   "outputs": [
    {
     "name": "stdout",
     "output_type": "stream",
     "text": [
      "name 2\n",
      "platform 0\n",
      "year_of_release 269\n",
      "genre 2\n",
      "na_sales 0\n",
      "eu_sales 0\n",
      "jp_sales 0\n",
      "other_sales 0\n",
      "critic_score 8578\n",
      "user_score 6701\n",
      "rating 6766\n"
     ]
    }
   ],
   "source": [
    "games_info_name_list = list(games_info.columns)\n",
    "    \n",
    "for name in games_info_name_list:\n",
    "    print(name ,games_info[name].isna().sum())\n"
   ]
  },
  {
   "cell_type": "code",
   "execution_count": 9,
   "metadata": {},
   "outputs": [
    {
     "data": {
      "text/html": [
       "<div>\n",
       "<style scoped>\n",
       "    .dataframe tbody tr th:only-of-type {\n",
       "        vertical-align: middle;\n",
       "    }\n",
       "\n",
       "    .dataframe tbody tr th {\n",
       "        vertical-align: top;\n",
       "    }\n",
       "\n",
       "    .dataframe thead th {\n",
       "        text-align: right;\n",
       "    }\n",
       "</style>\n",
       "<table border=\"1\" class=\"dataframe\">\n",
       "  <thead>\n",
       "    <tr style=\"text-align: right;\">\n",
       "      <th></th>\n",
       "      <th>name</th>\n",
       "      <th>platform</th>\n",
       "      <th>year_of_release</th>\n",
       "      <th>genre</th>\n",
       "      <th>na_sales</th>\n",
       "      <th>eu_sales</th>\n",
       "      <th>jp_sales</th>\n",
       "      <th>other_sales</th>\n",
       "      <th>critic_score</th>\n",
       "      <th>user_score</th>\n",
       "      <th>rating</th>\n",
       "    </tr>\n",
       "  </thead>\n",
       "  <tbody>\n",
       "    <tr>\n",
       "      <th>659</th>\n",
       "      <td>NaN</td>\n",
       "      <td>GEN</td>\n",
       "      <td>1993.0</td>\n",
       "      <td>NaN</td>\n",
       "      <td>1.78</td>\n",
       "      <td>0.53</td>\n",
       "      <td>0.00</td>\n",
       "      <td>0.08</td>\n",
       "      <td>NaN</td>\n",
       "      <td>NaN</td>\n",
       "      <td>NaN</td>\n",
       "    </tr>\n",
       "    <tr>\n",
       "      <th>14244</th>\n",
       "      <td>NaN</td>\n",
       "      <td>GEN</td>\n",
       "      <td>1993.0</td>\n",
       "      <td>NaN</td>\n",
       "      <td>0.00</td>\n",
       "      <td>0.00</td>\n",
       "      <td>0.03</td>\n",
       "      <td>0.00</td>\n",
       "      <td>NaN</td>\n",
       "      <td>NaN</td>\n",
       "      <td>NaN</td>\n",
       "    </tr>\n",
       "  </tbody>\n",
       "</table>\n",
       "</div>"
      ],
      "text/plain": [
       "      name platform  year_of_release genre  na_sales  eu_sales  jp_sales  \\\n",
       "659    NaN      GEN           1993.0   NaN      1.78      0.53      0.00   \n",
       "14244  NaN      GEN           1993.0   NaN      0.00      0.00      0.03   \n",
       "\n",
       "       other_sales  critic_score user_score rating  \n",
       "659           0.08           NaN        NaN    NaN  \n",
       "14244         0.00           NaN        NaN    NaN  "
      ]
     },
     "execution_count": 9,
     "metadata": {},
     "output_type": "execute_result"
    }
   ],
   "source": [
    "games_info[games_info['name'].isna() == True]"
   ]
  },
  {
   "cell_type": "code",
   "execution_count": 10,
   "metadata": {},
   "outputs": [
    {
     "data": {
      "text/html": [
       "<div>\n",
       "<style scoped>\n",
       "    .dataframe tbody tr th:only-of-type {\n",
       "        vertical-align: middle;\n",
       "    }\n",
       "\n",
       "    .dataframe tbody tr th {\n",
       "        vertical-align: top;\n",
       "    }\n",
       "\n",
       "    .dataframe thead th {\n",
       "        text-align: right;\n",
       "    }\n",
       "</style>\n",
       "<table border=\"1\" class=\"dataframe\">\n",
       "  <thead>\n",
       "    <tr style=\"text-align: right;\">\n",
       "      <th></th>\n",
       "      <th>name</th>\n",
       "      <th>platform</th>\n",
       "      <th>year_of_release</th>\n",
       "      <th>genre</th>\n",
       "      <th>na_sales</th>\n",
       "      <th>eu_sales</th>\n",
       "      <th>jp_sales</th>\n",
       "      <th>other_sales</th>\n",
       "      <th>critic_score</th>\n",
       "      <th>user_score</th>\n",
       "      <th>rating</th>\n",
       "    </tr>\n",
       "  </thead>\n",
       "  <tbody>\n",
       "    <tr>\n",
       "      <th>183</th>\n",
       "      <td>Madden NFL 2004</td>\n",
       "      <td>PS2</td>\n",
       "      <td>NaN</td>\n",
       "      <td>Sports</td>\n",
       "      <td>4.26</td>\n",
       "      <td>0.26</td>\n",
       "      <td>0.01</td>\n",
       "      <td>0.71</td>\n",
       "      <td>94.0</td>\n",
       "      <td>8.5</td>\n",
       "      <td>E</td>\n",
       "    </tr>\n",
       "    <tr>\n",
       "      <th>377</th>\n",
       "      <td>FIFA Soccer 2004</td>\n",
       "      <td>PS2</td>\n",
       "      <td>NaN</td>\n",
       "      <td>Sports</td>\n",
       "      <td>0.59</td>\n",
       "      <td>2.36</td>\n",
       "      <td>0.04</td>\n",
       "      <td>0.51</td>\n",
       "      <td>84.0</td>\n",
       "      <td>6.4</td>\n",
       "      <td>E</td>\n",
       "    </tr>\n",
       "    <tr>\n",
       "      <th>456</th>\n",
       "      <td>LEGO Batman: The Videogame</td>\n",
       "      <td>Wii</td>\n",
       "      <td>NaN</td>\n",
       "      <td>Action</td>\n",
       "      <td>1.80</td>\n",
       "      <td>0.97</td>\n",
       "      <td>0.00</td>\n",
       "      <td>0.29</td>\n",
       "      <td>74.0</td>\n",
       "      <td>7.9</td>\n",
       "      <td>E10+</td>\n",
       "    </tr>\n",
       "    <tr>\n",
       "      <th>475</th>\n",
       "      <td>wwe Smackdown vs. Raw 2006</td>\n",
       "      <td>PS2</td>\n",
       "      <td>NaN</td>\n",
       "      <td>Fighting</td>\n",
       "      <td>1.57</td>\n",
       "      <td>1.02</td>\n",
       "      <td>0.00</td>\n",
       "      <td>0.41</td>\n",
       "      <td>NaN</td>\n",
       "      <td>NaN</td>\n",
       "      <td>NaN</td>\n",
       "    </tr>\n",
       "    <tr>\n",
       "      <th>609</th>\n",
       "      <td>Space Invaders</td>\n",
       "      <td>2600</td>\n",
       "      <td>NaN</td>\n",
       "      <td>Shooter</td>\n",
       "      <td>2.36</td>\n",
       "      <td>0.14</td>\n",
       "      <td>0.00</td>\n",
       "      <td>0.03</td>\n",
       "      <td>NaN</td>\n",
       "      <td>NaN</td>\n",
       "      <td>NaN</td>\n",
       "    </tr>\n",
       "  </tbody>\n",
       "</table>\n",
       "</div>"
      ],
      "text/plain": [
       "                           name platform  year_of_release     genre  na_sales  \\\n",
       "183             Madden NFL 2004      PS2              NaN    Sports      4.26   \n",
       "377            FIFA Soccer 2004      PS2              NaN    Sports      0.59   \n",
       "456  LEGO Batman: The Videogame      Wii              NaN    Action      1.80   \n",
       "475  wwe Smackdown vs. Raw 2006      PS2              NaN  Fighting      1.57   \n",
       "609              Space Invaders     2600              NaN   Shooter      2.36   \n",
       "\n",
       "     eu_sales  jp_sales  other_sales  critic_score user_score rating  \n",
       "183      0.26      0.01         0.71          94.0        8.5      E  \n",
       "377      2.36      0.04         0.51          84.0        6.4      E  \n",
       "456      0.97      0.00         0.29          74.0        7.9   E10+  \n",
       "475      1.02      0.00         0.41           NaN        NaN    NaN  \n",
       "609      0.14      0.00         0.03           NaN        NaN    NaN  "
      ]
     },
     "execution_count": 10,
     "metadata": {},
     "output_type": "execute_result"
    }
   ],
   "source": [
    "games_info[games_info['year_of_release'].isna() == True].head()"
   ]
  },
  {
   "cell_type": "markdown",
   "metadata": {},
   "source": [
    "    name 2 - возможно стоит удалить эти строки полность. Продажи этих игр небольшие и информация пропущена в 5 параметра. Или заменить на 'неизвестно'\n",
    "\n",
    "    year_of_release 269 - удалим\n",
    "    genre 2 - незначительно\n",
    "\n",
    "    critic_score 8578 - поставим заглушку -1\n",
    "    user_score 6701 - поставим заглушку -1\n",
    "\n",
    "\n",
    "    rating 6766 заполним просто неизвестным значением."
   ]
  },
  {
   "cell_type": "code",
   "execution_count": 11,
   "metadata": {},
   "outputs": [
    {
     "data": {
      "text/plain": [
       "0                           Wii Sports\n",
       "1                    Super Mario Bros.\n",
       "2                       Mario Kart Wii\n",
       "3                    Wii Sports Resort\n",
       "4             Pokemon Red/Pokemon Blue\n",
       "                     ...              \n",
       "16710    Samurai Warriors: Sanada Maru\n",
       "16711                 LMA Manager 2007\n",
       "16712          Haitaka no Psychedelica\n",
       "16713                 Spirits & Spells\n",
       "16714              Winning Post 8 2016\n",
       "Name: name, Length: 16713, dtype: object"
      ]
     },
     "execution_count": 11,
     "metadata": {},
     "output_type": "execute_result"
    }
   ],
   "source": [
    "games_info['rating'] = games_info['rating'].fillna('unknown')\n",
    "games_info['name'].dropna()"
   ]
  },
  {
   "cell_type": "code",
   "execution_count": 12,
   "metadata": {},
   "outputs": [],
   "source": [
    "games_info = games_info.dropna(subset = ['year_of_release'])\n",
    "games_info['critic_score'] = games_info['critic_score'].fillna(-1)\n",
    "games_info['user_score'] = games_info['user_score'].fillna(-1)"
   ]
  },
  {
   "cell_type": "code",
   "execution_count": 13,
   "metadata": {},
   "outputs": [
    {
     "name": "stdout",
     "output_type": "stream",
     "text": [
      "name 2\n",
      "platform 0\n",
      "year_of_release 0\n",
      "genre 2\n",
      "na_sales 0\n",
      "eu_sales 0\n",
      "jp_sales 0\n",
      "other_sales 0\n",
      "critic_score 0\n",
      "user_score 0\n",
      "rating 0\n"
     ]
    }
   ],
   "source": [
    "# контрольная проверка\n",
    "\n",
    "games_info_name_list = list(games_info.columns)\n",
    "\n",
    "for name in games_info_name_list:\n",
    "    print(name ,games_info[name].isna().sum())"
   ]
  },
  {
   "cell_type": "markdown",
   "metadata": {},
   "source": [
    "Теперь нужно разобраться с tbd."
   ]
  },
  {
   "cell_type": "code",
   "execution_count": 14,
   "metadata": {},
   "outputs": [
    {
     "data": {
      "text/html": [
       "<div>\n",
       "<style scoped>\n",
       "    .dataframe tbody tr th:only-of-type {\n",
       "        vertical-align: middle;\n",
       "    }\n",
       "\n",
       "    .dataframe tbody tr th {\n",
       "        vertical-align: top;\n",
       "    }\n",
       "\n",
       "    .dataframe thead th {\n",
       "        text-align: right;\n",
       "    }\n",
       "</style>\n",
       "<table border=\"1\" class=\"dataframe\">\n",
       "  <thead>\n",
       "    <tr style=\"text-align: right;\">\n",
       "      <th></th>\n",
       "      <th>name</th>\n",
       "      <th>platform</th>\n",
       "      <th>year_of_release</th>\n",
       "      <th>genre</th>\n",
       "      <th>na_sales</th>\n",
       "      <th>eu_sales</th>\n",
       "      <th>jp_sales</th>\n",
       "      <th>other_sales</th>\n",
       "      <th>critic_score</th>\n",
       "      <th>user_score</th>\n",
       "      <th>rating</th>\n",
       "    </tr>\n",
       "  </thead>\n",
       "  <tbody>\n",
       "    <tr>\n",
       "      <th>119</th>\n",
       "      <td>Zumba Fitness</td>\n",
       "      <td>Wii</td>\n",
       "      <td>2010.0</td>\n",
       "      <td>Sports</td>\n",
       "      <td>3.45</td>\n",
       "      <td>2.59</td>\n",
       "      <td>0.0</td>\n",
       "      <td>0.66</td>\n",
       "      <td>-1.0</td>\n",
       "      <td>tbd</td>\n",
       "      <td>E</td>\n",
       "    </tr>\n",
       "    <tr>\n",
       "      <th>301</th>\n",
       "      <td>Namco Museum: 50th Anniversary</td>\n",
       "      <td>PS2</td>\n",
       "      <td>2005.0</td>\n",
       "      <td>Misc</td>\n",
       "      <td>2.08</td>\n",
       "      <td>1.35</td>\n",
       "      <td>0.0</td>\n",
       "      <td>0.54</td>\n",
       "      <td>61.0</td>\n",
       "      <td>tbd</td>\n",
       "      <td>E10+</td>\n",
       "    </tr>\n",
       "    <tr>\n",
       "      <th>520</th>\n",
       "      <td>Zumba Fitness 2</td>\n",
       "      <td>Wii</td>\n",
       "      <td>2011.0</td>\n",
       "      <td>Sports</td>\n",
       "      <td>1.51</td>\n",
       "      <td>1.03</td>\n",
       "      <td>0.0</td>\n",
       "      <td>0.27</td>\n",
       "      <td>-1.0</td>\n",
       "      <td>tbd</td>\n",
       "      <td>T</td>\n",
       "    </tr>\n",
       "    <tr>\n",
       "      <th>645</th>\n",
       "      <td>uDraw Studio</td>\n",
       "      <td>Wii</td>\n",
       "      <td>2010.0</td>\n",
       "      <td>Misc</td>\n",
       "      <td>1.65</td>\n",
       "      <td>0.57</td>\n",
       "      <td>0.0</td>\n",
       "      <td>0.20</td>\n",
       "      <td>71.0</td>\n",
       "      <td>tbd</td>\n",
       "      <td>E</td>\n",
       "    </tr>\n",
       "    <tr>\n",
       "      <th>718</th>\n",
       "      <td>Just Dance Kids</td>\n",
       "      <td>Wii</td>\n",
       "      <td>2010.0</td>\n",
       "      <td>Misc</td>\n",
       "      <td>1.52</td>\n",
       "      <td>0.54</td>\n",
       "      <td>0.0</td>\n",
       "      <td>0.18</td>\n",
       "      <td>-1.0</td>\n",
       "      <td>tbd</td>\n",
       "      <td>E</td>\n",
       "    </tr>\n",
       "    <tr>\n",
       "      <th>...</th>\n",
       "      <td>...</td>\n",
       "      <td>...</td>\n",
       "      <td>...</td>\n",
       "      <td>...</td>\n",
       "      <td>...</td>\n",
       "      <td>...</td>\n",
       "      <td>...</td>\n",
       "      <td>...</td>\n",
       "      <td>...</td>\n",
       "      <td>...</td>\n",
       "      <td>...</td>\n",
       "    </tr>\n",
       "    <tr>\n",
       "      <th>16695</th>\n",
       "      <td>Planet Monsters</td>\n",
       "      <td>GBA</td>\n",
       "      <td>2001.0</td>\n",
       "      <td>Action</td>\n",
       "      <td>0.01</td>\n",
       "      <td>0.00</td>\n",
       "      <td>0.0</td>\n",
       "      <td>0.00</td>\n",
       "      <td>67.0</td>\n",
       "      <td>tbd</td>\n",
       "      <td>E</td>\n",
       "    </tr>\n",
       "    <tr>\n",
       "      <th>16697</th>\n",
       "      <td>Bust-A-Move 3000</td>\n",
       "      <td>GC</td>\n",
       "      <td>2003.0</td>\n",
       "      <td>Puzzle</td>\n",
       "      <td>0.01</td>\n",
       "      <td>0.00</td>\n",
       "      <td>0.0</td>\n",
       "      <td>0.00</td>\n",
       "      <td>53.0</td>\n",
       "      <td>tbd</td>\n",
       "      <td>E</td>\n",
       "    </tr>\n",
       "    <tr>\n",
       "      <th>16698</th>\n",
       "      <td>Mega Brain Boost</td>\n",
       "      <td>DS</td>\n",
       "      <td>2008.0</td>\n",
       "      <td>Puzzle</td>\n",
       "      <td>0.01</td>\n",
       "      <td>0.00</td>\n",
       "      <td>0.0</td>\n",
       "      <td>0.00</td>\n",
       "      <td>48.0</td>\n",
       "      <td>tbd</td>\n",
       "      <td>E</td>\n",
       "    </tr>\n",
       "    <tr>\n",
       "      <th>16704</th>\n",
       "      <td>Plushees</td>\n",
       "      <td>DS</td>\n",
       "      <td>2008.0</td>\n",
       "      <td>Simulation</td>\n",
       "      <td>0.01</td>\n",
       "      <td>0.00</td>\n",
       "      <td>0.0</td>\n",
       "      <td>0.00</td>\n",
       "      <td>-1.0</td>\n",
       "      <td>tbd</td>\n",
       "      <td>E</td>\n",
       "    </tr>\n",
       "    <tr>\n",
       "      <th>16706</th>\n",
       "      <td>Men in Black II: Alien Escape</td>\n",
       "      <td>GC</td>\n",
       "      <td>2003.0</td>\n",
       "      <td>Shooter</td>\n",
       "      <td>0.01</td>\n",
       "      <td>0.00</td>\n",
       "      <td>0.0</td>\n",
       "      <td>0.00</td>\n",
       "      <td>-1.0</td>\n",
       "      <td>tbd</td>\n",
       "      <td>T</td>\n",
       "    </tr>\n",
       "  </tbody>\n",
       "</table>\n",
       "<p>2376 rows × 11 columns</p>\n",
       "</div>"
      ],
      "text/plain": [
       "                                 name platform  year_of_release       genre  \\\n",
       "119                     Zumba Fitness      Wii           2010.0      Sports   \n",
       "301    Namco Museum: 50th Anniversary      PS2           2005.0        Misc   \n",
       "520                   Zumba Fitness 2      Wii           2011.0      Sports   \n",
       "645                      uDraw Studio      Wii           2010.0        Misc   \n",
       "718                   Just Dance Kids      Wii           2010.0        Misc   \n",
       "...                               ...      ...              ...         ...   \n",
       "16695                 Planet Monsters      GBA           2001.0      Action   \n",
       "16697                Bust-A-Move 3000       GC           2003.0      Puzzle   \n",
       "16698                Mega Brain Boost       DS           2008.0      Puzzle   \n",
       "16704                        Plushees       DS           2008.0  Simulation   \n",
       "16706   Men in Black II: Alien Escape       GC           2003.0     Shooter   \n",
       "\n",
       "       na_sales  eu_sales  jp_sales  other_sales  critic_score user_score  \\\n",
       "119        3.45      2.59       0.0         0.66          -1.0        tbd   \n",
       "301        2.08      1.35       0.0         0.54          61.0        tbd   \n",
       "520        1.51      1.03       0.0         0.27          -1.0        tbd   \n",
       "645        1.65      0.57       0.0         0.20          71.0        tbd   \n",
       "718        1.52      0.54       0.0         0.18          -1.0        tbd   \n",
       "...         ...       ...       ...          ...           ...        ...   \n",
       "16695      0.01      0.00       0.0         0.00          67.0        tbd   \n",
       "16697      0.01      0.00       0.0         0.00          53.0        tbd   \n",
       "16698      0.01      0.00       0.0         0.00          48.0        tbd   \n",
       "16704      0.01      0.00       0.0         0.00          -1.0        tbd   \n",
       "16706      0.01      0.00       0.0         0.00          -1.0        tbd   \n",
       "\n",
       "      rating  \n",
       "119        E  \n",
       "301     E10+  \n",
       "520        T  \n",
       "645        E  \n",
       "718        E  \n",
       "...      ...  \n",
       "16695      E  \n",
       "16697      E  \n",
       "16698      E  \n",
       "16704      E  \n",
       "16706      T  \n",
       "\n",
       "[2376 rows x 11 columns]"
      ]
     },
     "execution_count": 14,
     "metadata": {},
     "output_type": "execute_result"
    }
   ],
   "source": [
    "games_info[games_info['user_score'] == 'tbd']"
   ]
  },
  {
   "cell_type": "code",
   "execution_count": 15,
   "metadata": {},
   "outputs": [
    {
     "data": {
      "text/plain": [
       "array(['8', -1, '8.3', '8.5', '6.6', '8.4', '8.6', '7.7', '6.3', '7.4',\n",
       "       '8.2', '9', '7.9', '8.1', '8.7', '7.1', '3.4', '5.3', '4.8', '3.2',\n",
       "       '8.9', '6.4', '7.8', '7.5', '2.6', '7.2', '9.2', '7', '7.3', '4.3',\n",
       "       '7.6', '5.7', '5', '9.1', '6.5', 'tbd', '8.8', '6.9', '9.4', '6.8',\n",
       "       '6.1', '6.7', '5.4', '4', '4.9', '4.5', '9.3', '6.2', '4.2', '6',\n",
       "       '3.7', '4.1', '5.8', '5.6', '5.5', '4.4', '4.6', '5.9', '3.9',\n",
       "       '3.1', '2.9', '5.2', '3.3', '4.7', '5.1', '3.5', '2.5', '1.9', '3',\n",
       "       '2.7', '2.2', '2', '9.5', '2.1', '3.6', '2.8', '1.8', '3.8', '0',\n",
       "       '1.6', '9.6', '2.4', '1.7', '1.1', '0.3', '1.5', '0.7', '1.2',\n",
       "       '2.3', '0.5', '1.3', '0.2', '0.6', '1.4', '0.9', '1', '9.7'],\n",
       "      dtype=object)"
      ]
     },
     "execution_count": 15,
     "metadata": {},
     "output_type": "execute_result"
    }
   ],
   "source": [
    "games_info['user_score'].unique()"
   ]
  },
  {
   "cell_type": "markdown",
   "metadata": {},
   "source": [
    "- TBD means \"To Be Decided\" or \"To Be Determined.\" It is a placeholder term, like TBC (to be confirmed) and TBA (to be announced).\n",
    "\n",
    "То есть по сути, можно заменить на заглушку, которую можно преобразовать во флот. возьмем -1"
   ]
  },
  {
   "cell_type": "code",
   "execution_count": 16,
   "metadata": {},
   "outputs": [],
   "source": [
    "games_info.loc[games_info['user_score'] == 'tbd','user_score'] = -1"
   ]
  },
  {
   "cell_type": "code",
   "execution_count": 18,
   "metadata": {},
   "outputs": [
    {
     "data": {
      "text/html": [
       "<div>\n",
       "<style scoped>\n",
       "    .dataframe tbody tr th:only-of-type {\n",
       "        vertical-align: middle;\n",
       "    }\n",
       "\n",
       "    .dataframe tbody tr th {\n",
       "        vertical-align: top;\n",
       "    }\n",
       "\n",
       "    .dataframe thead th {\n",
       "        text-align: right;\n",
       "    }\n",
       "</style>\n",
       "<table border=\"1\" class=\"dataframe\">\n",
       "  <thead>\n",
       "    <tr style=\"text-align: right;\">\n",
       "      <th></th>\n",
       "      <th>name</th>\n",
       "      <th>platform</th>\n",
       "      <th>year_of_release</th>\n",
       "      <th>genre</th>\n",
       "      <th>na_sales</th>\n",
       "      <th>eu_sales</th>\n",
       "      <th>jp_sales</th>\n",
       "      <th>other_sales</th>\n",
       "      <th>critic_score</th>\n",
       "      <th>user_score</th>\n",
       "      <th>rating</th>\n",
       "    </tr>\n",
       "  </thead>\n",
       "  <tbody>\n",
       "    <tr>\n",
       "      <th>1</th>\n",
       "      <td>Super Mario Bros.</td>\n",
       "      <td>NES</td>\n",
       "      <td>1985.0</td>\n",
       "      <td>Platform</td>\n",
       "      <td>29.08</td>\n",
       "      <td>3.58</td>\n",
       "      <td>6.81</td>\n",
       "      <td>0.77</td>\n",
       "      <td>-1.0</td>\n",
       "      <td>-1</td>\n",
       "      <td>unknown</td>\n",
       "    </tr>\n",
       "    <tr>\n",
       "      <th>4</th>\n",
       "      <td>Pokemon Red/Pokemon Blue</td>\n",
       "      <td>GB</td>\n",
       "      <td>1996.0</td>\n",
       "      <td>Role-Playing</td>\n",
       "      <td>11.27</td>\n",
       "      <td>8.89</td>\n",
       "      <td>10.22</td>\n",
       "      <td>1.00</td>\n",
       "      <td>-1.0</td>\n",
       "      <td>-1</td>\n",
       "      <td>unknown</td>\n",
       "    </tr>\n",
       "    <tr>\n",
       "      <th>5</th>\n",
       "      <td>Tetris</td>\n",
       "      <td>GB</td>\n",
       "      <td>1989.0</td>\n",
       "      <td>Puzzle</td>\n",
       "      <td>23.20</td>\n",
       "      <td>2.26</td>\n",
       "      <td>4.22</td>\n",
       "      <td>0.58</td>\n",
       "      <td>-1.0</td>\n",
       "      <td>-1</td>\n",
       "      <td>unknown</td>\n",
       "    </tr>\n",
       "    <tr>\n",
       "      <th>9</th>\n",
       "      <td>Duck Hunt</td>\n",
       "      <td>NES</td>\n",
       "      <td>1984.0</td>\n",
       "      <td>Shooter</td>\n",
       "      <td>26.93</td>\n",
       "      <td>0.63</td>\n",
       "      <td>0.28</td>\n",
       "      <td>0.47</td>\n",
       "      <td>-1.0</td>\n",
       "      <td>-1</td>\n",
       "      <td>unknown</td>\n",
       "    </tr>\n",
       "    <tr>\n",
       "      <th>10</th>\n",
       "      <td>Nintendogs</td>\n",
       "      <td>DS</td>\n",
       "      <td>2005.0</td>\n",
       "      <td>Simulation</td>\n",
       "      <td>9.05</td>\n",
       "      <td>10.95</td>\n",
       "      <td>1.93</td>\n",
       "      <td>2.74</td>\n",
       "      <td>-1.0</td>\n",
       "      <td>-1</td>\n",
       "      <td>unknown</td>\n",
       "    </tr>\n",
       "    <tr>\n",
       "      <th>...</th>\n",
       "      <td>...</td>\n",
       "      <td>...</td>\n",
       "      <td>...</td>\n",
       "      <td>...</td>\n",
       "      <td>...</td>\n",
       "      <td>...</td>\n",
       "      <td>...</td>\n",
       "      <td>...</td>\n",
       "      <td>...</td>\n",
       "      <td>...</td>\n",
       "      <td>...</td>\n",
       "    </tr>\n",
       "    <tr>\n",
       "      <th>16710</th>\n",
       "      <td>Samurai Warriors: Sanada Maru</td>\n",
       "      <td>PS3</td>\n",
       "      <td>2016.0</td>\n",
       "      <td>Action</td>\n",
       "      <td>0.00</td>\n",
       "      <td>0.00</td>\n",
       "      <td>0.01</td>\n",
       "      <td>0.00</td>\n",
       "      <td>-1.0</td>\n",
       "      <td>-1</td>\n",
       "      <td>unknown</td>\n",
       "    </tr>\n",
       "    <tr>\n",
       "      <th>16711</th>\n",
       "      <td>LMA Manager 2007</td>\n",
       "      <td>X360</td>\n",
       "      <td>2006.0</td>\n",
       "      <td>Sports</td>\n",
       "      <td>0.00</td>\n",
       "      <td>0.01</td>\n",
       "      <td>0.00</td>\n",
       "      <td>0.00</td>\n",
       "      <td>-1.0</td>\n",
       "      <td>-1</td>\n",
       "      <td>unknown</td>\n",
       "    </tr>\n",
       "    <tr>\n",
       "      <th>16712</th>\n",
       "      <td>Haitaka no Psychedelica</td>\n",
       "      <td>PSV</td>\n",
       "      <td>2016.0</td>\n",
       "      <td>Adventure</td>\n",
       "      <td>0.00</td>\n",
       "      <td>0.00</td>\n",
       "      <td>0.01</td>\n",
       "      <td>0.00</td>\n",
       "      <td>-1.0</td>\n",
       "      <td>-1</td>\n",
       "      <td>unknown</td>\n",
       "    </tr>\n",
       "    <tr>\n",
       "      <th>16713</th>\n",
       "      <td>Spirits &amp; Spells</td>\n",
       "      <td>GBA</td>\n",
       "      <td>2003.0</td>\n",
       "      <td>Platform</td>\n",
       "      <td>0.01</td>\n",
       "      <td>0.00</td>\n",
       "      <td>0.00</td>\n",
       "      <td>0.00</td>\n",
       "      <td>-1.0</td>\n",
       "      <td>-1</td>\n",
       "      <td>unknown</td>\n",
       "    </tr>\n",
       "    <tr>\n",
       "      <th>16714</th>\n",
       "      <td>Winning Post 8 2016</td>\n",
       "      <td>PSV</td>\n",
       "      <td>2016.0</td>\n",
       "      <td>Simulation</td>\n",
       "      <td>0.00</td>\n",
       "      <td>0.00</td>\n",
       "      <td>0.01</td>\n",
       "      <td>0.00</td>\n",
       "      <td>-1.0</td>\n",
       "      <td>-1</td>\n",
       "      <td>unknown</td>\n",
       "    </tr>\n",
       "  </tbody>\n",
       "</table>\n",
       "<p>8983 rows × 11 columns</p>\n",
       "</div>"
      ],
      "text/plain": [
       "                                name platform  year_of_release         genre  \\\n",
       "1                  Super Mario Bros.      NES           1985.0      Platform   \n",
       "4           Pokemon Red/Pokemon Blue       GB           1996.0  Role-Playing   \n",
       "5                             Tetris       GB           1989.0        Puzzle   \n",
       "9                          Duck Hunt      NES           1984.0       Shooter   \n",
       "10                        Nintendogs       DS           2005.0    Simulation   \n",
       "...                              ...      ...              ...           ...   \n",
       "16710  Samurai Warriors: Sanada Maru      PS3           2016.0        Action   \n",
       "16711               LMA Manager 2007     X360           2006.0        Sports   \n",
       "16712        Haitaka no Psychedelica      PSV           2016.0     Adventure   \n",
       "16713               Spirits & Spells      GBA           2003.0      Platform   \n",
       "16714            Winning Post 8 2016      PSV           2016.0    Simulation   \n",
       "\n",
       "       na_sales  eu_sales  jp_sales  other_sales  critic_score user_score  \\\n",
       "1         29.08      3.58      6.81         0.77          -1.0         -1   \n",
       "4         11.27      8.89     10.22         1.00          -1.0         -1   \n",
       "5         23.20      2.26      4.22         0.58          -1.0         -1   \n",
       "9         26.93      0.63      0.28         0.47          -1.0         -1   \n",
       "10         9.05     10.95      1.93         2.74          -1.0         -1   \n",
       "...         ...       ...       ...          ...           ...        ...   \n",
       "16710      0.00      0.00      0.01         0.00          -1.0         -1   \n",
       "16711      0.00      0.01      0.00         0.00          -1.0         -1   \n",
       "16712      0.00      0.00      0.01         0.00          -1.0         -1   \n",
       "16713      0.01      0.00      0.00         0.00          -1.0         -1   \n",
       "16714      0.00      0.00      0.01         0.00          -1.0         -1   \n",
       "\n",
       "        rating  \n",
       "1      unknown  \n",
       "4      unknown  \n",
       "5      unknown  \n",
       "9      unknown  \n",
       "10     unknown  \n",
       "...        ...  \n",
       "16710  unknown  \n",
       "16711  unknown  \n",
       "16712  unknown  \n",
       "16713  unknown  \n",
       "16714  unknown  \n",
       "\n",
       "[8983 rows x 11 columns]"
      ]
     },
     "execution_count": 18,
     "metadata": {},
     "output_type": "execute_result"
    }
   ],
   "source": [
    "games_info.loc[games_info['user_score'] == -1]"
   ]
  },
  {
   "cell_type": "markdown",
   "metadata": {},
   "source": [
    "### Преобразования типов\n",
    "\n",
    "Из обзора данных:\n",
    "\n",
    "     0   Name             16713 non-null  object \n",
    "     1   Platform         16715 non-null  object \n",
    "     2   Year_of_Release  16446 non-null  float64  стоит преобразовать в int\n",
    "     3   Genre            16713 non-null  object \n",
    "     4   NA_sales         16715 non-null  float64\n",
    "     5   EU_sales         16715 non-null  float64\n",
    "     6   JP_sales         16715 non-null  float64\n",
    "     7   Other_sales      16715 non-null  float64\n",
    "     8   Critic_Score     8137 non-null   float64\n",
    "     9   User_Score       10014 non-null  object   стоит преобразовать во float64\n",
    "     10  Rating           9949 non-null   object \n",
    "\n"
   ]
  },
  {
   "cell_type": "code",
   "execution_count": 19,
   "metadata": {},
   "outputs": [
    {
     "name": "stdout",
     "output_type": "stream",
     "text": [
      "<class 'pandas.core.frame.DataFrame'>\n",
      "Int64Index: 16446 entries, 0 to 16714\n",
      "Data columns (total 11 columns):\n",
      " #   Column           Non-Null Count  Dtype  \n",
      "---  ------           --------------  -----  \n",
      " 0   name             16444 non-null  object \n",
      " 1   platform         16446 non-null  object \n",
      " 2   year_of_release  16446 non-null  int64  \n",
      " 3   genre            16444 non-null  object \n",
      " 4   na_sales         16446 non-null  float64\n",
      " 5   eu_sales         16446 non-null  float64\n",
      " 6   jp_sales         16446 non-null  float64\n",
      " 7   other_sales      16446 non-null  float64\n",
      " 8   critic_score     16446 non-null  float64\n",
      " 9   user_score       16446 non-null  float64\n",
      " 10  rating           16446 non-null  object \n",
      "dtypes: float64(6), int64(1), object(4)\n",
      "memory usage: 1.5+ MB\n"
     ]
    }
   ],
   "source": [
    "games_info['year_of_release'] = games_info['year_of_release'].astype(int)\n",
    "games_info['user_score'] = games_info['user_score'].astype(float)\n",
    "games_info.info()"
   ]
  },
  {
   "cell_type": "markdown",
   "metadata": {},
   "source": [
    "### Обработка дубликатов"
   ]
  },
  {
   "cell_type": "markdown",
   "metadata": {},
   "source": [
    "1. Обработаем явные дубликаты\n",
    "2. Просмотрим уникальные значения name, для выявления неявных дубликатов"
   ]
  },
  {
   "cell_type": "code",
   "execution_count": 20,
   "metadata": {},
   "outputs": [
    {
     "data": {
      "text/plain": [
       "0"
      ]
     },
     "execution_count": 20,
     "metadata": {},
     "output_type": "execute_result"
    }
   ],
   "source": [
    "games_info.duplicated().sum()"
   ]
  },
  {
   "cell_type": "code",
   "execution_count": 21,
   "metadata": {},
   "outputs": [],
   "source": [
    "games_info = games_info.drop_duplicates()"
   ]
  },
  {
   "cell_type": "code",
   "execution_count": 23,
   "metadata": {},
   "outputs": [
    {
     "data": {
      "text/plain": [
       "array(['Wii Sports', 'Super Mario Bros.', 'Mario Kart Wii', ...,\n",
       "       'Woody Woodpecker in Crazy Castle 5', 'LMA Manager 2007',\n",
       "       'Haitaka no Psychedelica'], dtype=object)"
      ]
     },
     "execution_count": 23,
     "metadata": {},
     "output_type": "execute_result"
    }
   ],
   "source": [
    "games_info['name'].unique()"
   ]
  },
  {
   "cell_type": "code",
   "execution_count": 24,
   "metadata": {},
   "outputs": [
    {
     "data": {
      "text/plain": [
       "0"
      ]
     },
     "execution_count": 24,
     "metadata": {},
     "output_type": "execute_result"
    }
   ],
   "source": [
    "games_info.duplicated().sum()"
   ]
  },
  {
   "cell_type": "markdown",
   "metadata": {},
   "source": [
    "### Дополнительные расчеты \n",
    "\n",
    "Требуется посчитать суммарные продажи во всех регионах."
   ]
  },
  {
   "cell_type": "code",
   "execution_count": 25,
   "metadata": {},
   "outputs": [],
   "source": [
    "games_info['sales_all'] = games_info['na_sales'] + games_info['eu_sales'] + games_info['jp_sales'] + games_info['other_sales']"
   ]
  },
  {
   "cell_type": "code",
   "execution_count": 26,
   "metadata": {},
   "outputs": [
    {
     "data": {
      "text/html": [
       "<div>\n",
       "<style scoped>\n",
       "    .dataframe tbody tr th:only-of-type {\n",
       "        vertical-align: middle;\n",
       "    }\n",
       "\n",
       "    .dataframe tbody tr th {\n",
       "        vertical-align: top;\n",
       "    }\n",
       "\n",
       "    .dataframe thead th {\n",
       "        text-align: right;\n",
       "    }\n",
       "</style>\n",
       "<table border=\"1\" class=\"dataframe\">\n",
       "  <thead>\n",
       "    <tr style=\"text-align: right;\">\n",
       "      <th></th>\n",
       "      <th>name</th>\n",
       "      <th>platform</th>\n",
       "      <th>year_of_release</th>\n",
       "      <th>genre</th>\n",
       "      <th>na_sales</th>\n",
       "      <th>eu_sales</th>\n",
       "      <th>jp_sales</th>\n",
       "      <th>other_sales</th>\n",
       "      <th>critic_score</th>\n",
       "      <th>user_score</th>\n",
       "      <th>rating</th>\n",
       "      <th>sales_all</th>\n",
       "    </tr>\n",
       "  </thead>\n",
       "  <tbody>\n",
       "    <tr>\n",
       "      <th>0</th>\n",
       "      <td>Wii Sports</td>\n",
       "      <td>Wii</td>\n",
       "      <td>2006</td>\n",
       "      <td>Sports</td>\n",
       "      <td>41.36</td>\n",
       "      <td>28.96</td>\n",
       "      <td>3.77</td>\n",
       "      <td>8.45</td>\n",
       "      <td>76.0</td>\n",
       "      <td>8.0</td>\n",
       "      <td>E</td>\n",
       "      <td>82.54</td>\n",
       "    </tr>\n",
       "    <tr>\n",
       "      <th>1</th>\n",
       "      <td>Super Mario Bros.</td>\n",
       "      <td>NES</td>\n",
       "      <td>1985</td>\n",
       "      <td>Platform</td>\n",
       "      <td>29.08</td>\n",
       "      <td>3.58</td>\n",
       "      <td>6.81</td>\n",
       "      <td>0.77</td>\n",
       "      <td>-1.0</td>\n",
       "      <td>-1.0</td>\n",
       "      <td>unknown</td>\n",
       "      <td>40.24</td>\n",
       "    </tr>\n",
       "    <tr>\n",
       "      <th>2</th>\n",
       "      <td>Mario Kart Wii</td>\n",
       "      <td>Wii</td>\n",
       "      <td>2008</td>\n",
       "      <td>Racing</td>\n",
       "      <td>15.68</td>\n",
       "      <td>12.76</td>\n",
       "      <td>3.79</td>\n",
       "      <td>3.29</td>\n",
       "      <td>82.0</td>\n",
       "      <td>8.3</td>\n",
       "      <td>E</td>\n",
       "      <td>35.52</td>\n",
       "    </tr>\n",
       "    <tr>\n",
       "      <th>3</th>\n",
       "      <td>Wii Sports Resort</td>\n",
       "      <td>Wii</td>\n",
       "      <td>2009</td>\n",
       "      <td>Sports</td>\n",
       "      <td>15.61</td>\n",
       "      <td>10.93</td>\n",
       "      <td>3.28</td>\n",
       "      <td>2.95</td>\n",
       "      <td>80.0</td>\n",
       "      <td>8.0</td>\n",
       "      <td>E</td>\n",
       "      <td>32.77</td>\n",
       "    </tr>\n",
       "    <tr>\n",
       "      <th>4</th>\n",
       "      <td>Pokemon Red/Pokemon Blue</td>\n",
       "      <td>GB</td>\n",
       "      <td>1996</td>\n",
       "      <td>Role-Playing</td>\n",
       "      <td>11.27</td>\n",
       "      <td>8.89</td>\n",
       "      <td>10.22</td>\n",
       "      <td>1.00</td>\n",
       "      <td>-1.0</td>\n",
       "      <td>-1.0</td>\n",
       "      <td>unknown</td>\n",
       "      <td>31.38</td>\n",
       "    </tr>\n",
       "    <tr>\n",
       "      <th>...</th>\n",
       "      <td>...</td>\n",
       "      <td>...</td>\n",
       "      <td>...</td>\n",
       "      <td>...</td>\n",
       "      <td>...</td>\n",
       "      <td>...</td>\n",
       "      <td>...</td>\n",
       "      <td>...</td>\n",
       "      <td>...</td>\n",
       "      <td>...</td>\n",
       "      <td>...</td>\n",
       "      <td>...</td>\n",
       "    </tr>\n",
       "    <tr>\n",
       "      <th>16710</th>\n",
       "      <td>Samurai Warriors: Sanada Maru</td>\n",
       "      <td>PS3</td>\n",
       "      <td>2016</td>\n",
       "      <td>Action</td>\n",
       "      <td>0.00</td>\n",
       "      <td>0.00</td>\n",
       "      <td>0.01</td>\n",
       "      <td>0.00</td>\n",
       "      <td>-1.0</td>\n",
       "      <td>-1.0</td>\n",
       "      <td>unknown</td>\n",
       "      <td>0.01</td>\n",
       "    </tr>\n",
       "    <tr>\n",
       "      <th>16711</th>\n",
       "      <td>LMA Manager 2007</td>\n",
       "      <td>X360</td>\n",
       "      <td>2006</td>\n",
       "      <td>Sports</td>\n",
       "      <td>0.00</td>\n",
       "      <td>0.01</td>\n",
       "      <td>0.00</td>\n",
       "      <td>0.00</td>\n",
       "      <td>-1.0</td>\n",
       "      <td>-1.0</td>\n",
       "      <td>unknown</td>\n",
       "      <td>0.01</td>\n",
       "    </tr>\n",
       "    <tr>\n",
       "      <th>16712</th>\n",
       "      <td>Haitaka no Psychedelica</td>\n",
       "      <td>PSV</td>\n",
       "      <td>2016</td>\n",
       "      <td>Adventure</td>\n",
       "      <td>0.00</td>\n",
       "      <td>0.00</td>\n",
       "      <td>0.01</td>\n",
       "      <td>0.00</td>\n",
       "      <td>-1.0</td>\n",
       "      <td>-1.0</td>\n",
       "      <td>unknown</td>\n",
       "      <td>0.01</td>\n",
       "    </tr>\n",
       "    <tr>\n",
       "      <th>16713</th>\n",
       "      <td>Spirits &amp; Spells</td>\n",
       "      <td>GBA</td>\n",
       "      <td>2003</td>\n",
       "      <td>Platform</td>\n",
       "      <td>0.01</td>\n",
       "      <td>0.00</td>\n",
       "      <td>0.00</td>\n",
       "      <td>0.00</td>\n",
       "      <td>-1.0</td>\n",
       "      <td>-1.0</td>\n",
       "      <td>unknown</td>\n",
       "      <td>0.01</td>\n",
       "    </tr>\n",
       "    <tr>\n",
       "      <th>16714</th>\n",
       "      <td>Winning Post 8 2016</td>\n",
       "      <td>PSV</td>\n",
       "      <td>2016</td>\n",
       "      <td>Simulation</td>\n",
       "      <td>0.00</td>\n",
       "      <td>0.00</td>\n",
       "      <td>0.01</td>\n",
       "      <td>0.00</td>\n",
       "      <td>-1.0</td>\n",
       "      <td>-1.0</td>\n",
       "      <td>unknown</td>\n",
       "      <td>0.01</td>\n",
       "    </tr>\n",
       "  </tbody>\n",
       "</table>\n",
       "<p>16446 rows × 12 columns</p>\n",
       "</div>"
      ],
      "text/plain": [
       "                                name platform  year_of_release         genre  \\\n",
       "0                         Wii Sports      Wii             2006        Sports   \n",
       "1                  Super Mario Bros.      NES             1985      Platform   \n",
       "2                     Mario Kart Wii      Wii             2008        Racing   \n",
       "3                  Wii Sports Resort      Wii             2009        Sports   \n",
       "4           Pokemon Red/Pokemon Blue       GB             1996  Role-Playing   \n",
       "...                              ...      ...              ...           ...   \n",
       "16710  Samurai Warriors: Sanada Maru      PS3             2016        Action   \n",
       "16711               LMA Manager 2007     X360             2006        Sports   \n",
       "16712        Haitaka no Psychedelica      PSV             2016     Adventure   \n",
       "16713               Spirits & Spells      GBA             2003      Platform   \n",
       "16714            Winning Post 8 2016      PSV             2016    Simulation   \n",
       "\n",
       "       na_sales  eu_sales  jp_sales  other_sales  critic_score  user_score  \\\n",
       "0         41.36     28.96      3.77         8.45          76.0         8.0   \n",
       "1         29.08      3.58      6.81         0.77          -1.0        -1.0   \n",
       "2         15.68     12.76      3.79         3.29          82.0         8.3   \n",
       "3         15.61     10.93      3.28         2.95          80.0         8.0   \n",
       "4         11.27      8.89     10.22         1.00          -1.0        -1.0   \n",
       "...         ...       ...       ...          ...           ...         ...   \n",
       "16710      0.00      0.00      0.01         0.00          -1.0        -1.0   \n",
       "16711      0.00      0.01      0.00         0.00          -1.0        -1.0   \n",
       "16712      0.00      0.00      0.01         0.00          -1.0        -1.0   \n",
       "16713      0.01      0.00      0.00         0.00          -1.0        -1.0   \n",
       "16714      0.00      0.00      0.01         0.00          -1.0        -1.0   \n",
       "\n",
       "        rating  sales_all  \n",
       "0            E      82.54  \n",
       "1      unknown      40.24  \n",
       "2            E      35.52  \n",
       "3            E      32.77  \n",
       "4      unknown      31.38  \n",
       "...        ...        ...  \n",
       "16710  unknown       0.01  \n",
       "16711  unknown       0.01  \n",
       "16712  unknown       0.01  \n",
       "16713  unknown       0.01  \n",
       "16714  unknown       0.01  \n",
       "\n",
       "[16446 rows x 12 columns]"
      ]
     },
     "execution_count": 26,
     "metadata": {},
     "output_type": "execute_result"
    }
   ],
   "source": [
    "games_info"
   ]
  },
  {
   "cell_type": "code",
   "execution_count": 27,
   "metadata": {},
   "outputs": [
    {
     "name": "stdout",
     "output_type": "stream",
     "text": [
      "<class 'pandas.core.frame.DataFrame'>\n",
      "Int64Index: 16446 entries, 0 to 16714\n",
      "Data columns (total 12 columns):\n",
      " #   Column           Non-Null Count  Dtype  \n",
      "---  ------           --------------  -----  \n",
      " 0   name             16444 non-null  object \n",
      " 1   platform         16446 non-null  object \n",
      " 2   year_of_release  16446 non-null  int64  \n",
      " 3   genre            16444 non-null  object \n",
      " 4   na_sales         16446 non-null  float64\n",
      " 5   eu_sales         16446 non-null  float64\n",
      " 6   jp_sales         16446 non-null  float64\n",
      " 7   other_sales      16446 non-null  float64\n",
      " 8   critic_score     16446 non-null  float64\n",
      " 9   user_score       16446 non-null  float64\n",
      " 10  rating           16446 non-null  object \n",
      " 11  sales_all        16446 non-null  float64\n",
      "dtypes: float64(7), int64(1), object(4)\n",
      "memory usage: 1.6+ MB\n",
      "None\n",
      "-------------------------\n",
      "name ['Wii Sports' 'Super Mario Bros.' 'Mario Kart Wii' ...\n",
      " 'Woody Woodpecker in Crazy Castle 5' 'LMA Manager 2007'\n",
      " 'Haitaka no Psychedelica']\n",
      "name : кол-во NaN 2 , процент NaN 0.01 %\n",
      "-------------------------\n",
      "platform ['Wii' 'NES' 'GB' 'DS' 'X360' 'PS3' 'PS2' 'SNES' 'GBA' 'PS4' '3DS' 'N64'\n",
      " 'PS' 'XB' 'PC' '2600' 'PSP' 'XOne' 'WiiU' 'GC' 'GEN' 'DC' 'PSV' 'SAT'\n",
      " 'SCD' 'WS' 'NG' 'TG16' '3DO' 'GG' 'PCFX']\n",
      "platform : кол-во NaN 0 , процент NaN 0.0 %\n",
      "-------------------------\n",
      "year_of_release [2006 1985 2008 2009 1996 1989 1984 2005 1999 2007 2010 2013 2004 1990\n",
      " 1988 2002 2001 2011 1998 2015 2012 2014 1992 1997 1993 1994 1982 2016\n",
      " 2003 1986 2000 1995 1991 1981 1987 1980 1983]\n",
      "year_of_release : кол-во NaN 0 , процент NaN 0.0 %\n",
      "-------------------------\n",
      "genre ['Sports' 'Platform' 'Racing' 'Role-Playing' 'Puzzle' 'Misc' 'Shooter'\n",
      " 'Simulation' 'Action' 'Fighting' 'Adventure' 'Strategy' nan]\n",
      "genre : кол-во NaN 2 , процент NaN 0.01 %\n",
      "-------------------------\n",
      "critic_score [76. -1. 82. 80. 89. 58. 87. 91. 61. 97. 95. 77. 88. 83. 94. 93. 85. 86.\n",
      " 98. 96. 90. 84. 73. 74. 78. 92. 71. 72. 68. 62. 49. 67. 81. 66. 56. 79.\n",
      " 70. 59. 64. 75. 60. 63. 69. 50. 25. 42. 44. 55. 48. 57. 29. 47. 65. 54.\n",
      " 20. 53. 37. 38. 33. 52. 30. 32. 43. 45. 51. 40. 46. 39. 34. 41. 36. 31.\n",
      " 27. 35. 26. 19. 28. 23. 24. 21. 17. 13.]\n",
      "critic_score : кол-во NaN 0 , процент NaN 0.0 %\n",
      "-------------------------\n",
      "user_score [ 8.  -1.   8.3  8.5  6.6  8.4  8.6  7.7  6.3  7.4  8.2  9.   7.9  8.1\n",
      "  8.7  7.1  3.4  5.3  4.8  3.2  8.9  6.4  7.8  7.5  2.6  7.2  9.2  7.\n",
      "  7.3  4.3  7.6  5.7  5.   9.1  6.5  8.8  6.9  9.4  6.8  6.1  6.7  5.4\n",
      "  4.   4.9  4.5  9.3  6.2  4.2  6.   3.7  4.1  5.8  5.6  5.5  4.4  4.6\n",
      "  5.9  3.9  3.1  2.9  5.2  3.3  4.7  5.1  3.5  2.5  1.9  3.   2.7  2.2\n",
      "  2.   9.5  2.1  3.6  2.8  1.8  3.8  0.   1.6  9.6  2.4  1.7  1.1  0.3\n",
      "  1.5  0.7  1.2  2.3  0.5  1.3  0.2  0.6  1.4  0.9  1.   9.7]\n",
      "user_score : кол-во NaN 0 , процент NaN 0.0 %\n",
      "-------------------------\n",
      "rating ['E' 'unknown' 'M' 'T' 'E10+' 'K-A' 'AO' 'EC' 'RP']\n",
      "rating : кол-во NaN 0 , процент NaN 0.0 %\n"
     ]
    }
   ],
   "source": [
    "# Посмотрим, что у нас осталось\n",
    "temp = games_info.copy() \n",
    "list_c = ['name', 'platform', 'year_of_release', 'genre', 'critic_score', 'user_score', 'rating']\n",
    "print(temp.info())\n",
    "for col_l in list_c:\n",
    "  print('-------------------------')\n",
    "  print(col_l, temp[col_l].unique())\n",
    "  print(col_l,': кол-во NaN',temp[col_l].isna().sum(),\n",
    "        ', процент NaN', round(temp[col_l].isna().sum()/len(temp)*100, 2),'%')"
   ]
  },
  {
   "cell_type": "markdown",
   "metadata": {},
   "source": [
    "## Анализ данных"
   ]
  },
  {
   "cell_type": "markdown",
   "metadata": {},
   "source": [
    "Посмотрим, сколько игр выпускалось в разные годы."
   ]
  },
  {
   "cell_type": "code",
   "execution_count": 28,
   "metadata": {},
   "outputs": [
    {
     "data": {
      "text/html": [
       "<div>\n",
       "<style scoped>\n",
       "    .dataframe tbody tr th:only-of-type {\n",
       "        vertical-align: middle;\n",
       "    }\n",
       "\n",
       "    .dataframe tbody tr th {\n",
       "        vertical-align: top;\n",
       "    }\n",
       "\n",
       "    .dataframe thead th {\n",
       "        text-align: right;\n",
       "    }\n",
       "</style>\n",
       "<table border=\"1\" class=\"dataframe\">\n",
       "  <thead>\n",
       "    <tr style=\"text-align: right;\">\n",
       "      <th></th>\n",
       "      <th>name</th>\n",
       "      <th>platform</th>\n",
       "      <th>genre</th>\n",
       "      <th>na_sales</th>\n",
       "      <th>eu_sales</th>\n",
       "      <th>jp_sales</th>\n",
       "      <th>other_sales</th>\n",
       "      <th>critic_score</th>\n",
       "      <th>user_score</th>\n",
       "      <th>rating</th>\n",
       "      <th>sales_all</th>\n",
       "    </tr>\n",
       "    <tr>\n",
       "      <th>year_of_release</th>\n",
       "      <th></th>\n",
       "      <th></th>\n",
       "      <th></th>\n",
       "      <th></th>\n",
       "      <th></th>\n",
       "      <th></th>\n",
       "      <th></th>\n",
       "      <th></th>\n",
       "      <th></th>\n",
       "      <th></th>\n",
       "      <th></th>\n",
       "    </tr>\n",
       "  </thead>\n",
       "  <tbody>\n",
       "    <tr>\n",
       "      <th>1980</th>\n",
       "      <td>9</td>\n",
       "      <td>9</td>\n",
       "      <td>9</td>\n",
       "      <td>9</td>\n",
       "      <td>9</td>\n",
       "      <td>9</td>\n",
       "      <td>9</td>\n",
       "      <td>9</td>\n",
       "      <td>9</td>\n",
       "      <td>9</td>\n",
       "      <td>9</td>\n",
       "    </tr>\n",
       "    <tr>\n",
       "      <th>1981</th>\n",
       "      <td>46</td>\n",
       "      <td>46</td>\n",
       "      <td>46</td>\n",
       "      <td>46</td>\n",
       "      <td>46</td>\n",
       "      <td>46</td>\n",
       "      <td>46</td>\n",
       "      <td>46</td>\n",
       "      <td>46</td>\n",
       "      <td>46</td>\n",
       "      <td>46</td>\n",
       "    </tr>\n",
       "    <tr>\n",
       "      <th>1982</th>\n",
       "      <td>36</td>\n",
       "      <td>36</td>\n",
       "      <td>36</td>\n",
       "      <td>36</td>\n",
       "      <td>36</td>\n",
       "      <td>36</td>\n",
       "      <td>36</td>\n",
       "      <td>36</td>\n",
       "      <td>36</td>\n",
       "      <td>36</td>\n",
       "      <td>36</td>\n",
       "    </tr>\n",
       "    <tr>\n",
       "      <th>1983</th>\n",
       "      <td>17</td>\n",
       "      <td>17</td>\n",
       "      <td>17</td>\n",
       "      <td>17</td>\n",
       "      <td>17</td>\n",
       "      <td>17</td>\n",
       "      <td>17</td>\n",
       "      <td>17</td>\n",
       "      <td>17</td>\n",
       "      <td>17</td>\n",
       "      <td>17</td>\n",
       "    </tr>\n",
       "    <tr>\n",
       "      <th>1984</th>\n",
       "      <td>14</td>\n",
       "      <td>14</td>\n",
       "      <td>14</td>\n",
       "      <td>14</td>\n",
       "      <td>14</td>\n",
       "      <td>14</td>\n",
       "      <td>14</td>\n",
       "      <td>14</td>\n",
       "      <td>14</td>\n",
       "      <td>14</td>\n",
       "      <td>14</td>\n",
       "    </tr>\n",
       "    <tr>\n",
       "      <th>1985</th>\n",
       "      <td>14</td>\n",
       "      <td>14</td>\n",
       "      <td>14</td>\n",
       "      <td>14</td>\n",
       "      <td>14</td>\n",
       "      <td>14</td>\n",
       "      <td>14</td>\n",
       "      <td>14</td>\n",
       "      <td>14</td>\n",
       "      <td>14</td>\n",
       "      <td>14</td>\n",
       "    </tr>\n",
       "    <tr>\n",
       "      <th>1986</th>\n",
       "      <td>21</td>\n",
       "      <td>21</td>\n",
       "      <td>21</td>\n",
       "      <td>21</td>\n",
       "      <td>21</td>\n",
       "      <td>21</td>\n",
       "      <td>21</td>\n",
       "      <td>21</td>\n",
       "      <td>21</td>\n",
       "      <td>21</td>\n",
       "      <td>21</td>\n",
       "    </tr>\n",
       "    <tr>\n",
       "      <th>1987</th>\n",
       "      <td>16</td>\n",
       "      <td>16</td>\n",
       "      <td>16</td>\n",
       "      <td>16</td>\n",
       "      <td>16</td>\n",
       "      <td>16</td>\n",
       "      <td>16</td>\n",
       "      <td>16</td>\n",
       "      <td>16</td>\n",
       "      <td>16</td>\n",
       "      <td>16</td>\n",
       "    </tr>\n",
       "    <tr>\n",
       "      <th>1988</th>\n",
       "      <td>15</td>\n",
       "      <td>15</td>\n",
       "      <td>15</td>\n",
       "      <td>15</td>\n",
       "      <td>15</td>\n",
       "      <td>15</td>\n",
       "      <td>15</td>\n",
       "      <td>15</td>\n",
       "      <td>15</td>\n",
       "      <td>15</td>\n",
       "      <td>15</td>\n",
       "    </tr>\n",
       "    <tr>\n",
       "      <th>1989</th>\n",
       "      <td>17</td>\n",
       "      <td>17</td>\n",
       "      <td>17</td>\n",
       "      <td>17</td>\n",
       "      <td>17</td>\n",
       "      <td>17</td>\n",
       "      <td>17</td>\n",
       "      <td>17</td>\n",
       "      <td>17</td>\n",
       "      <td>17</td>\n",
       "      <td>17</td>\n",
       "    </tr>\n",
       "    <tr>\n",
       "      <th>1990</th>\n",
       "      <td>16</td>\n",
       "      <td>16</td>\n",
       "      <td>16</td>\n",
       "      <td>16</td>\n",
       "      <td>16</td>\n",
       "      <td>16</td>\n",
       "      <td>16</td>\n",
       "      <td>16</td>\n",
       "      <td>16</td>\n",
       "      <td>16</td>\n",
       "      <td>16</td>\n",
       "    </tr>\n",
       "    <tr>\n",
       "      <th>1991</th>\n",
       "      <td>41</td>\n",
       "      <td>41</td>\n",
       "      <td>41</td>\n",
       "      <td>41</td>\n",
       "      <td>41</td>\n",
       "      <td>41</td>\n",
       "      <td>41</td>\n",
       "      <td>41</td>\n",
       "      <td>41</td>\n",
       "      <td>41</td>\n",
       "      <td>41</td>\n",
       "    </tr>\n",
       "    <tr>\n",
       "      <th>1992</th>\n",
       "      <td>43</td>\n",
       "      <td>43</td>\n",
       "      <td>43</td>\n",
       "      <td>43</td>\n",
       "      <td>43</td>\n",
       "      <td>43</td>\n",
       "      <td>43</td>\n",
       "      <td>43</td>\n",
       "      <td>43</td>\n",
       "      <td>43</td>\n",
       "      <td>43</td>\n",
       "    </tr>\n",
       "    <tr>\n",
       "      <th>1993</th>\n",
       "      <td>60</td>\n",
       "      <td>62</td>\n",
       "      <td>60</td>\n",
       "      <td>62</td>\n",
       "      <td>62</td>\n",
       "      <td>62</td>\n",
       "      <td>62</td>\n",
       "      <td>62</td>\n",
       "      <td>62</td>\n",
       "      <td>62</td>\n",
       "      <td>62</td>\n",
       "    </tr>\n",
       "    <tr>\n",
       "      <th>1994</th>\n",
       "      <td>121</td>\n",
       "      <td>121</td>\n",
       "      <td>121</td>\n",
       "      <td>121</td>\n",
       "      <td>121</td>\n",
       "      <td>121</td>\n",
       "      <td>121</td>\n",
       "      <td>121</td>\n",
       "      <td>121</td>\n",
       "      <td>121</td>\n",
       "      <td>121</td>\n",
       "    </tr>\n",
       "    <tr>\n",
       "      <th>1995</th>\n",
       "      <td>219</td>\n",
       "      <td>219</td>\n",
       "      <td>219</td>\n",
       "      <td>219</td>\n",
       "      <td>219</td>\n",
       "      <td>219</td>\n",
       "      <td>219</td>\n",
       "      <td>219</td>\n",
       "      <td>219</td>\n",
       "      <td>219</td>\n",
       "      <td>219</td>\n",
       "    </tr>\n",
       "    <tr>\n",
       "      <th>1996</th>\n",
       "      <td>263</td>\n",
       "      <td>263</td>\n",
       "      <td>263</td>\n",
       "      <td>263</td>\n",
       "      <td>263</td>\n",
       "      <td>263</td>\n",
       "      <td>263</td>\n",
       "      <td>263</td>\n",
       "      <td>263</td>\n",
       "      <td>263</td>\n",
       "      <td>263</td>\n",
       "    </tr>\n",
       "    <tr>\n",
       "      <th>1997</th>\n",
       "      <td>289</td>\n",
       "      <td>289</td>\n",
       "      <td>289</td>\n",
       "      <td>289</td>\n",
       "      <td>289</td>\n",
       "      <td>289</td>\n",
       "      <td>289</td>\n",
       "      <td>289</td>\n",
       "      <td>289</td>\n",
       "      <td>289</td>\n",
       "      <td>289</td>\n",
       "    </tr>\n",
       "    <tr>\n",
       "      <th>1998</th>\n",
       "      <td>379</td>\n",
       "      <td>379</td>\n",
       "      <td>379</td>\n",
       "      <td>379</td>\n",
       "      <td>379</td>\n",
       "      <td>379</td>\n",
       "      <td>379</td>\n",
       "      <td>379</td>\n",
       "      <td>379</td>\n",
       "      <td>379</td>\n",
       "      <td>379</td>\n",
       "    </tr>\n",
       "    <tr>\n",
       "      <th>1999</th>\n",
       "      <td>338</td>\n",
       "      <td>338</td>\n",
       "      <td>338</td>\n",
       "      <td>338</td>\n",
       "      <td>338</td>\n",
       "      <td>338</td>\n",
       "      <td>338</td>\n",
       "      <td>338</td>\n",
       "      <td>338</td>\n",
       "      <td>338</td>\n",
       "      <td>338</td>\n",
       "    </tr>\n",
       "    <tr>\n",
       "      <th>2000</th>\n",
       "      <td>350</td>\n",
       "      <td>350</td>\n",
       "      <td>350</td>\n",
       "      <td>350</td>\n",
       "      <td>350</td>\n",
       "      <td>350</td>\n",
       "      <td>350</td>\n",
       "      <td>350</td>\n",
       "      <td>350</td>\n",
       "      <td>350</td>\n",
       "      <td>350</td>\n",
       "    </tr>\n",
       "    <tr>\n",
       "      <th>2001</th>\n",
       "      <td>482</td>\n",
       "      <td>482</td>\n",
       "      <td>482</td>\n",
       "      <td>482</td>\n",
       "      <td>482</td>\n",
       "      <td>482</td>\n",
       "      <td>482</td>\n",
       "      <td>482</td>\n",
       "      <td>482</td>\n",
       "      <td>482</td>\n",
       "      <td>482</td>\n",
       "    </tr>\n",
       "    <tr>\n",
       "      <th>2002</th>\n",
       "      <td>829</td>\n",
       "      <td>829</td>\n",
       "      <td>829</td>\n",
       "      <td>829</td>\n",
       "      <td>829</td>\n",
       "      <td>829</td>\n",
       "      <td>829</td>\n",
       "      <td>829</td>\n",
       "      <td>829</td>\n",
       "      <td>829</td>\n",
       "      <td>829</td>\n",
       "    </tr>\n",
       "    <tr>\n",
       "      <th>2003</th>\n",
       "      <td>775</td>\n",
       "      <td>775</td>\n",
       "      <td>775</td>\n",
       "      <td>775</td>\n",
       "      <td>775</td>\n",
       "      <td>775</td>\n",
       "      <td>775</td>\n",
       "      <td>775</td>\n",
       "      <td>775</td>\n",
       "      <td>775</td>\n",
       "      <td>775</td>\n",
       "    </tr>\n",
       "    <tr>\n",
       "      <th>2004</th>\n",
       "      <td>762</td>\n",
       "      <td>762</td>\n",
       "      <td>762</td>\n",
       "      <td>762</td>\n",
       "      <td>762</td>\n",
       "      <td>762</td>\n",
       "      <td>762</td>\n",
       "      <td>762</td>\n",
       "      <td>762</td>\n",
       "      <td>762</td>\n",
       "      <td>762</td>\n",
       "    </tr>\n",
       "    <tr>\n",
       "      <th>2005</th>\n",
       "      <td>939</td>\n",
       "      <td>939</td>\n",
       "      <td>939</td>\n",
       "      <td>939</td>\n",
       "      <td>939</td>\n",
       "      <td>939</td>\n",
       "      <td>939</td>\n",
       "      <td>939</td>\n",
       "      <td>939</td>\n",
       "      <td>939</td>\n",
       "      <td>939</td>\n",
       "    </tr>\n",
       "    <tr>\n",
       "      <th>2006</th>\n",
       "      <td>1006</td>\n",
       "      <td>1006</td>\n",
       "      <td>1006</td>\n",
       "      <td>1006</td>\n",
       "      <td>1006</td>\n",
       "      <td>1006</td>\n",
       "      <td>1006</td>\n",
       "      <td>1006</td>\n",
       "      <td>1006</td>\n",
       "      <td>1006</td>\n",
       "      <td>1006</td>\n",
       "    </tr>\n",
       "    <tr>\n",
       "      <th>2007</th>\n",
       "      <td>1197</td>\n",
       "      <td>1197</td>\n",
       "      <td>1197</td>\n",
       "      <td>1197</td>\n",
       "      <td>1197</td>\n",
       "      <td>1197</td>\n",
       "      <td>1197</td>\n",
       "      <td>1197</td>\n",
       "      <td>1197</td>\n",
       "      <td>1197</td>\n",
       "      <td>1197</td>\n",
       "    </tr>\n",
       "    <tr>\n",
       "      <th>2008</th>\n",
       "      <td>1427</td>\n",
       "      <td>1427</td>\n",
       "      <td>1427</td>\n",
       "      <td>1427</td>\n",
       "      <td>1427</td>\n",
       "      <td>1427</td>\n",
       "      <td>1427</td>\n",
       "      <td>1427</td>\n",
       "      <td>1427</td>\n",
       "      <td>1427</td>\n",
       "      <td>1427</td>\n",
       "    </tr>\n",
       "    <tr>\n",
       "      <th>2009</th>\n",
       "      <td>1426</td>\n",
       "      <td>1426</td>\n",
       "      <td>1426</td>\n",
       "      <td>1426</td>\n",
       "      <td>1426</td>\n",
       "      <td>1426</td>\n",
       "      <td>1426</td>\n",
       "      <td>1426</td>\n",
       "      <td>1426</td>\n",
       "      <td>1426</td>\n",
       "      <td>1426</td>\n",
       "    </tr>\n",
       "    <tr>\n",
       "      <th>2010</th>\n",
       "      <td>1255</td>\n",
       "      <td>1255</td>\n",
       "      <td>1255</td>\n",
       "      <td>1255</td>\n",
       "      <td>1255</td>\n",
       "      <td>1255</td>\n",
       "      <td>1255</td>\n",
       "      <td>1255</td>\n",
       "      <td>1255</td>\n",
       "      <td>1255</td>\n",
       "      <td>1255</td>\n",
       "    </tr>\n",
       "    <tr>\n",
       "      <th>2011</th>\n",
       "      <td>1136</td>\n",
       "      <td>1136</td>\n",
       "      <td>1136</td>\n",
       "      <td>1136</td>\n",
       "      <td>1136</td>\n",
       "      <td>1136</td>\n",
       "      <td>1136</td>\n",
       "      <td>1136</td>\n",
       "      <td>1136</td>\n",
       "      <td>1136</td>\n",
       "      <td>1136</td>\n",
       "    </tr>\n",
       "    <tr>\n",
       "      <th>2012</th>\n",
       "      <td>653</td>\n",
       "      <td>653</td>\n",
       "      <td>653</td>\n",
       "      <td>653</td>\n",
       "      <td>653</td>\n",
       "      <td>653</td>\n",
       "      <td>653</td>\n",
       "      <td>653</td>\n",
       "      <td>653</td>\n",
       "      <td>653</td>\n",
       "      <td>653</td>\n",
       "    </tr>\n",
       "    <tr>\n",
       "      <th>2013</th>\n",
       "      <td>544</td>\n",
       "      <td>544</td>\n",
       "      <td>544</td>\n",
       "      <td>544</td>\n",
       "      <td>544</td>\n",
       "      <td>544</td>\n",
       "      <td>544</td>\n",
       "      <td>544</td>\n",
       "      <td>544</td>\n",
       "      <td>544</td>\n",
       "      <td>544</td>\n",
       "    </tr>\n",
       "    <tr>\n",
       "      <th>2014</th>\n",
       "      <td>581</td>\n",
       "      <td>581</td>\n",
       "      <td>581</td>\n",
       "      <td>581</td>\n",
       "      <td>581</td>\n",
       "      <td>581</td>\n",
       "      <td>581</td>\n",
       "      <td>581</td>\n",
       "      <td>581</td>\n",
       "      <td>581</td>\n",
       "      <td>581</td>\n",
       "    </tr>\n",
       "    <tr>\n",
       "      <th>2015</th>\n",
       "      <td>606</td>\n",
       "      <td>606</td>\n",
       "      <td>606</td>\n",
       "      <td>606</td>\n",
       "      <td>606</td>\n",
       "      <td>606</td>\n",
       "      <td>606</td>\n",
       "      <td>606</td>\n",
       "      <td>606</td>\n",
       "      <td>606</td>\n",
       "      <td>606</td>\n",
       "    </tr>\n",
       "    <tr>\n",
       "      <th>2016</th>\n",
       "      <td>502</td>\n",
       "      <td>502</td>\n",
       "      <td>502</td>\n",
       "      <td>502</td>\n",
       "      <td>502</td>\n",
       "      <td>502</td>\n",
       "      <td>502</td>\n",
       "      <td>502</td>\n",
       "      <td>502</td>\n",
       "      <td>502</td>\n",
       "      <td>502</td>\n",
       "    </tr>\n",
       "  </tbody>\n",
       "</table>\n",
       "</div>"
      ],
      "text/plain": [
       "                 name  platform  genre  na_sales  eu_sales  jp_sales  \\\n",
       "year_of_release                                                        \n",
       "1980                9         9      9         9         9         9   \n",
       "1981               46        46     46        46        46        46   \n",
       "1982               36        36     36        36        36        36   \n",
       "1983               17        17     17        17        17        17   \n",
       "1984               14        14     14        14        14        14   \n",
       "1985               14        14     14        14        14        14   \n",
       "1986               21        21     21        21        21        21   \n",
       "1987               16        16     16        16        16        16   \n",
       "1988               15        15     15        15        15        15   \n",
       "1989               17        17     17        17        17        17   \n",
       "1990               16        16     16        16        16        16   \n",
       "1991               41        41     41        41        41        41   \n",
       "1992               43        43     43        43        43        43   \n",
       "1993               60        62     60        62        62        62   \n",
       "1994              121       121    121       121       121       121   \n",
       "1995              219       219    219       219       219       219   \n",
       "1996              263       263    263       263       263       263   \n",
       "1997              289       289    289       289       289       289   \n",
       "1998              379       379    379       379       379       379   \n",
       "1999              338       338    338       338       338       338   \n",
       "2000              350       350    350       350       350       350   \n",
       "2001              482       482    482       482       482       482   \n",
       "2002              829       829    829       829       829       829   \n",
       "2003              775       775    775       775       775       775   \n",
       "2004              762       762    762       762       762       762   \n",
       "2005              939       939    939       939       939       939   \n",
       "2006             1006      1006   1006      1006      1006      1006   \n",
       "2007             1197      1197   1197      1197      1197      1197   \n",
       "2008             1427      1427   1427      1427      1427      1427   \n",
       "2009             1426      1426   1426      1426      1426      1426   \n",
       "2010             1255      1255   1255      1255      1255      1255   \n",
       "2011             1136      1136   1136      1136      1136      1136   \n",
       "2012              653       653    653       653       653       653   \n",
       "2013              544       544    544       544       544       544   \n",
       "2014              581       581    581       581       581       581   \n",
       "2015              606       606    606       606       606       606   \n",
       "2016              502       502    502       502       502       502   \n",
       "\n",
       "                 other_sales  critic_score  user_score  rating  sales_all  \n",
       "year_of_release                                                            \n",
       "1980                       9             9           9       9          9  \n",
       "1981                      46            46          46      46         46  \n",
       "1982                      36            36          36      36         36  \n",
       "1983                      17            17          17      17         17  \n",
       "1984                      14            14          14      14         14  \n",
       "1985                      14            14          14      14         14  \n",
       "1986                      21            21          21      21         21  \n",
       "1987                      16            16          16      16         16  \n",
       "1988                      15            15          15      15         15  \n",
       "1989                      17            17          17      17         17  \n",
       "1990                      16            16          16      16         16  \n",
       "1991                      41            41          41      41         41  \n",
       "1992                      43            43          43      43         43  \n",
       "1993                      62            62          62      62         62  \n",
       "1994                     121           121         121     121        121  \n",
       "1995                     219           219         219     219        219  \n",
       "1996                     263           263         263     263        263  \n",
       "1997                     289           289         289     289        289  \n",
       "1998                     379           379         379     379        379  \n",
       "1999                     338           338         338     338        338  \n",
       "2000                     350           350         350     350        350  \n",
       "2001                     482           482         482     482        482  \n",
       "2002                     829           829         829     829        829  \n",
       "2003                     775           775         775     775        775  \n",
       "2004                     762           762         762     762        762  \n",
       "2005                     939           939         939     939        939  \n",
       "2006                    1006          1006        1006    1006       1006  \n",
       "2007                    1197          1197        1197    1197       1197  \n",
       "2008                    1427          1427        1427    1427       1427  \n",
       "2009                    1426          1426        1426    1426       1426  \n",
       "2010                    1255          1255        1255    1255       1255  \n",
       "2011                    1136          1136        1136    1136       1136  \n",
       "2012                     653           653         653     653        653  \n",
       "2013                     544           544         544     544        544  \n",
       "2014                     581           581         581     581        581  \n",
       "2015                     606           606         606     606        606  \n",
       "2016                     502           502         502     502        502  "
      ]
     },
     "execution_count": 28,
     "metadata": {},
     "output_type": "execute_result"
    }
   ],
   "source": [
    "games_info.groupby('year_of_release').agg('count')"
   ]
  },
  {
   "cell_type": "code",
   "execution_count": 29,
   "metadata": {},
   "outputs": [
    {
     "data": {
      "image/png": "[encoded data removed]",
      "text/plain": [
       "<Figure size 432x288 with 1 Axes>"
      ]
     },
     "metadata": {
      "needs_background": "light"
     },
     "output_type": "display_data"
    }
   ],
   "source": [
    "years_list = games_info.groupby('year_of_release').agg('count').index\n",
    "tmp = []\n",
    "\n",
    "for year in years_list:\n",
    "    tmp.append(games_info.loc[games_info['year_of_release'] == year,'sales_all'].count())\n",
    "    \n",
    "plt.plot(years_list,tmp)\n",
    "plt.show()\n",
    "    "
   ]
  },
  {
   "cell_type": "markdown",
   "metadata": {},
   "source": [
    "Вопрос: Важны ли данные за все периоды?\n",
    "\n",
    "Для задачи прогнозирования популярности не нужен такой большой промежуток. Стоит смотреть данные за последние 3-5 лет не больше.."
   ]
  },
  {
   "cell_type": "markdown",
   "metadata": {},
   "source": [
    "##### Зависимость продаж от платформы\n",
    "Посмотрим, как менялись продажи по платформам. Выберем платформы с наибольшими суммарными продажами и постройте распределение по годам. "
   ]
  },
  {
   "cell_type": "code",
   "execution_count": 30,
   "metadata": {},
   "outputs": [
    {
     "data": {
      "text/html": [
       "<div>\n",
       "<style scoped>\n",
       "    .dataframe tbody tr th:only-of-type {\n",
       "        vertical-align: middle;\n",
       "    }\n",
       "\n",
       "    .dataframe tbody tr th {\n",
       "        vertical-align: top;\n",
       "    }\n",
       "\n",
       "    .dataframe thead th {\n",
       "        text-align: right;\n",
       "    }\n",
       "</style>\n",
       "<table border=\"1\" class=\"dataframe\">\n",
       "  <thead>\n",
       "    <tr style=\"text-align: right;\">\n",
       "      <th></th>\n",
       "      <th>year_of_release</th>\n",
       "      <th>na_sales</th>\n",
       "      <th>eu_sales</th>\n",
       "      <th>jp_sales</th>\n",
       "      <th>other_sales</th>\n",
       "      <th>critic_score</th>\n",
       "      <th>user_score</th>\n",
       "      <th>sales_all</th>\n",
       "    </tr>\n",
       "    <tr>\n",
       "      <th>platform</th>\n",
       "      <th></th>\n",
       "      <th></th>\n",
       "      <th></th>\n",
       "      <th></th>\n",
       "      <th></th>\n",
       "      <th></th>\n",
       "      <th></th>\n",
       "      <th></th>\n",
       "    </tr>\n",
       "  </thead>\n",
       "  <tbody>\n",
       "    <tr>\n",
       "      <th>PS2</th>\n",
       "      <td>4263750</td>\n",
       "      <td>572.92</td>\n",
       "      <td>332.63</td>\n",
       "      <td>137.54</td>\n",
       "      <td>190.47</td>\n",
       "      <td>86759.0</td>\n",
       "      <td>8395.9</td>\n",
       "      <td>1233.56</td>\n",
       "    </tr>\n",
       "    <tr>\n",
       "      <th>X360</th>\n",
       "      <td>2476173</td>\n",
       "      <td>595.74</td>\n",
       "      <td>268.32</td>\n",
       "      <td>12.30</td>\n",
       "      <td>84.88</td>\n",
       "      <td>61067.0</td>\n",
       "      <td>6026.3</td>\n",
       "      <td>961.24</td>\n",
       "    </tr>\n",
       "    <tr>\n",
       "      <th>PS3</th>\n",
       "      <td>2626158</td>\n",
       "      <td>390.13</td>\n",
       "      <td>327.21</td>\n",
       "      <td>79.41</td>\n",
       "      <td>134.59</td>\n",
       "      <td>56155.0</td>\n",
       "      <td>5340.5</td>\n",
       "      <td>931.34</td>\n",
       "    </tr>\n",
       "    <tr>\n",
       "      <th>Wii</th>\n",
       "      <td>2583531</td>\n",
       "      <td>486.87</td>\n",
       "      <td>258.32</td>\n",
       "      <td>68.28</td>\n",
       "      <td>77.71</td>\n",
       "      <td>34940.0</td>\n",
       "      <td>2954.4</td>\n",
       "      <td>891.18</td>\n",
       "    </tr>\n",
       "    <tr>\n",
       "      <th>DS</th>\n",
       "      <td>4259361</td>\n",
       "      <td>380.31</td>\n",
       "      <td>188.41</td>\n",
       "      <td>175.02</td>\n",
       "      <td>59.04</td>\n",
       "      <td>43707.0</td>\n",
       "      <td>1986.6</td>\n",
       "      <td>802.78</td>\n",
       "    </tr>\n",
       "    <tr>\n",
       "      <th>PS</th>\n",
       "      <td>2377627</td>\n",
       "      <td>334.72</td>\n",
       "      <td>212.39</td>\n",
       "      <td>139.78</td>\n",
       "      <td>40.69</td>\n",
       "      <td>13037.0</td>\n",
       "      <td>218.5</td>\n",
       "      <td>727.58</td>\n",
       "    </tr>\n",
       "    <tr>\n",
       "      <th>PS4</th>\n",
       "      <td>789937</td>\n",
       "      <td>108.74</td>\n",
       "      <td>141.09</td>\n",
       "      <td>15.96</td>\n",
       "      <td>48.35</td>\n",
       "      <td>18027.0</td>\n",
       "      <td>1599.3</td>\n",
       "      <td>314.14</td>\n",
       "    </tr>\n",
       "    <tr>\n",
       "      <th>GBA</th>\n",
       "      <td>1624604</td>\n",
       "      <td>184.12</td>\n",
       "      <td>74.59</td>\n",
       "      <td>46.56</td>\n",
       "      <td>7.61</td>\n",
       "      <td>28563.0</td>\n",
       "      <td>1365.0</td>\n",
       "      <td>312.88</td>\n",
       "    </tr>\n",
       "    <tr>\n",
       "      <th>PSP</th>\n",
       "      <td>2396417</td>\n",
       "      <td>107.27</td>\n",
       "      <td>65.62</td>\n",
       "      <td>75.88</td>\n",
       "      <td>40.76</td>\n",
       "      <td>30059.0</td>\n",
       "      <td>2250.0</td>\n",
       "      <td>289.53</td>\n",
       "    </tr>\n",
       "    <tr>\n",
       "      <th>3DS</th>\n",
       "      <td>1030721</td>\n",
       "      <td>82.65</td>\n",
       "      <td>61.27</td>\n",
       "      <td>100.62</td>\n",
       "      <td>13.27</td>\n",
       "      <td>10802.0</td>\n",
       "      <td>830.7</td>\n",
       "      <td>257.81</td>\n",
       "    </tr>\n",
       "  </tbody>\n",
       "</table>\n",
       "</div>"
      ],
      "text/plain": [
       "          year_of_release  na_sales  eu_sales  jp_sales  other_sales  \\\n",
       "platform                                                               \n",
       "PS2               4263750    572.92    332.63    137.54       190.47   \n",
       "X360              2476173    595.74    268.32     12.30        84.88   \n",
       "PS3               2626158    390.13    327.21     79.41       134.59   \n",
       "Wii               2583531    486.87    258.32     68.28        77.71   \n",
       "DS                4259361    380.31    188.41    175.02        59.04   \n",
       "PS                2377627    334.72    212.39    139.78        40.69   \n",
       "PS4                789937    108.74    141.09     15.96        48.35   \n",
       "GBA               1624604    184.12     74.59     46.56         7.61   \n",
       "PSP               2396417    107.27     65.62     75.88        40.76   \n",
       "3DS               1030721     82.65     61.27    100.62        13.27   \n",
       "\n",
       "          critic_score  user_score  sales_all  \n",
       "platform                                       \n",
       "PS2            86759.0      8395.9    1233.56  \n",
       "X360           61067.0      6026.3     961.24  \n",
       "PS3            56155.0      5340.5     931.34  \n",
       "Wii            34940.0      2954.4     891.18  \n",
       "DS             43707.0      1986.6     802.78  \n",
       "PS             13037.0       218.5     727.58  \n",
       "PS4            18027.0      1599.3     314.14  \n",
       "GBA            28563.0      1365.0     312.88  \n",
       "PSP            30059.0      2250.0     289.53  \n",
       "3DS            10802.0       830.7     257.81  "
      ]
     },
     "execution_count": 30,
     "metadata": {},
     "output_type": "execute_result"
    }
   ],
   "source": [
    "games_info.groupby('platform').agg('sum').sort_values(by = 'sales_all', ascending = False).head(10)"
   ]
  },
  {
   "cell_type": "code",
   "execution_count": 31,
   "metadata": {},
   "outputs": [
    {
     "data": {
      "image/png": "[encoded data removed]",
      "text/plain": [
       "<Figure size 720x576 with 1 Axes>"
      ]
     },
     "metadata": {
      "needs_background": "light"
     },
     "output_type": "display_data"
    }
   ],
   "source": [
    "plarform_list = ['PS2','X360','PS3','Wii','PS']\n",
    "\n",
    "\n",
    "for platform in plarform_list:\n",
    "    games_info[games_info['platform'] == platform]['year_of_release'].hist(bins = 70, alpha=0.6, figsize = (10,8))\n",
    "    plt.ylabel('Number of Sales')\n",
    "    plt.xlabel('Year')\n",
    "    \n",
    "    \n",
    "#games_info[games_info['platform'] == 'PS2']['year_of_release'].hist(bins = 50, alpha=0.5)"
   ]
  },
  {
   "cell_type": "markdown",
   "metadata": {},
   "source": [
    "Вопрос: За какой характерный срок появляются новые и исчезают старые платформы?\n",
    "\n",
    "\n",
    "На гистограмме видно, что жизненный цикл платфрмы 5-7 лет."
   ]
  },
  {
   "cell_type": "markdown",
   "metadata": {},
   "source": [
    "Возьмем данные за последние 5 лет"
   ]
  },
  {
   "cell_type": "code",
   "execution_count": 32,
   "metadata": {},
   "outputs": [],
   "source": [
    "games_good_info = games_info[games_info['year_of_release'] >= 2012]"
   ]
  },
  {
   "cell_type": "code",
   "execution_count": 33,
   "metadata": {},
   "outputs": [
    {
     "data": {
      "text/html": [
       "<div>\n",
       "<style scoped>\n",
       "    .dataframe tbody tr th:only-of-type {\n",
       "        vertical-align: middle;\n",
       "    }\n",
       "\n",
       "    .dataframe tbody tr th {\n",
       "        vertical-align: top;\n",
       "    }\n",
       "\n",
       "    .dataframe thead th {\n",
       "        text-align: right;\n",
       "    }\n",
       "</style>\n",
       "<table border=\"1\" class=\"dataframe\">\n",
       "  <thead>\n",
       "    <tr style=\"text-align: right;\">\n",
       "      <th></th>\n",
       "      <th>name</th>\n",
       "      <th>platform</th>\n",
       "      <th>year_of_release</th>\n",
       "      <th>genre</th>\n",
       "      <th>na_sales</th>\n",
       "      <th>eu_sales</th>\n",
       "      <th>jp_sales</th>\n",
       "      <th>other_sales</th>\n",
       "      <th>critic_score</th>\n",
       "      <th>user_score</th>\n",
       "      <th>rating</th>\n",
       "      <th>sales_all</th>\n",
       "    </tr>\n",
       "  </thead>\n",
       "  <tbody>\n",
       "    <tr>\n",
       "      <th>16</th>\n",
       "      <td>Grand Theft Auto V</td>\n",
       "      <td>PS3</td>\n",
       "      <td>2013</td>\n",
       "      <td>Action</td>\n",
       "      <td>7.02</td>\n",
       "      <td>9.09</td>\n",
       "      <td>0.98</td>\n",
       "      <td>3.96</td>\n",
       "      <td>97.0</td>\n",
       "      <td>8.2</td>\n",
       "      <td>M</td>\n",
       "      <td>21.05</td>\n",
       "    </tr>\n",
       "    <tr>\n",
       "      <th>23</th>\n",
       "      <td>Grand Theft Auto V</td>\n",
       "      <td>X360</td>\n",
       "      <td>2013</td>\n",
       "      <td>Action</td>\n",
       "      <td>9.66</td>\n",
       "      <td>5.14</td>\n",
       "      <td>0.06</td>\n",
       "      <td>1.41</td>\n",
       "      <td>97.0</td>\n",
       "      <td>8.1</td>\n",
       "      <td>M</td>\n",
       "      <td>16.27</td>\n",
       "    </tr>\n",
       "    <tr>\n",
       "      <th>31</th>\n",
       "      <td>Call of Duty: Black Ops 3</td>\n",
       "      <td>PS4</td>\n",
       "      <td>2015</td>\n",
       "      <td>Shooter</td>\n",
       "      <td>6.03</td>\n",
       "      <td>5.86</td>\n",
       "      <td>0.36</td>\n",
       "      <td>2.38</td>\n",
       "      <td>-1.0</td>\n",
       "      <td>-1.0</td>\n",
       "      <td>unknown</td>\n",
       "      <td>14.63</td>\n",
       "    </tr>\n",
       "    <tr>\n",
       "      <th>33</th>\n",
       "      <td>Pokemon X/Pokemon Y</td>\n",
       "      <td>3DS</td>\n",
       "      <td>2013</td>\n",
       "      <td>Role-Playing</td>\n",
       "      <td>5.28</td>\n",
       "      <td>4.19</td>\n",
       "      <td>4.35</td>\n",
       "      <td>0.78</td>\n",
       "      <td>-1.0</td>\n",
       "      <td>-1.0</td>\n",
       "      <td>unknown</td>\n",
       "      <td>14.60</td>\n",
       "    </tr>\n",
       "    <tr>\n",
       "      <th>34</th>\n",
       "      <td>Call of Duty: Black Ops II</td>\n",
       "      <td>PS3</td>\n",
       "      <td>2012</td>\n",
       "      <td>Shooter</td>\n",
       "      <td>4.99</td>\n",
       "      <td>5.73</td>\n",
       "      <td>0.65</td>\n",
       "      <td>2.42</td>\n",
       "      <td>83.0</td>\n",
       "      <td>5.3</td>\n",
       "      <td>M</td>\n",
       "      <td>13.79</td>\n",
       "    </tr>\n",
       "  </tbody>\n",
       "</table>\n",
       "</div>"
      ],
      "text/plain": [
       "                          name platform  year_of_release         genre  \\\n",
       "16          Grand Theft Auto V      PS3             2013        Action   \n",
       "23          Grand Theft Auto V     X360             2013        Action   \n",
       "31   Call of Duty: Black Ops 3      PS4             2015       Shooter   \n",
       "33         Pokemon X/Pokemon Y      3DS             2013  Role-Playing   \n",
       "34  Call of Duty: Black Ops II      PS3             2012       Shooter   \n",
       "\n",
       "    na_sales  eu_sales  jp_sales  other_sales  critic_score  user_score  \\\n",
       "16      7.02      9.09      0.98         3.96          97.0         8.2   \n",
       "23      9.66      5.14      0.06         1.41          97.0         8.1   \n",
       "31      6.03      5.86      0.36         2.38          -1.0        -1.0   \n",
       "33      5.28      4.19      4.35         0.78          -1.0        -1.0   \n",
       "34      4.99      5.73      0.65         2.42          83.0         5.3   \n",
       "\n",
       "     rating  sales_all  \n",
       "16        M      21.05  \n",
       "23        M      16.27  \n",
       "31  unknown      14.63  \n",
       "33  unknown      14.60  \n",
       "34        M      13.79  "
      ]
     },
     "execution_count": 33,
     "metadata": {},
     "output_type": "execute_result"
    }
   ],
   "source": [
    "games_good_info.head()"
   ]
  },
  {
   "cell_type": "code",
   "execution_count": 34,
   "metadata": {},
   "outputs": [
    {
     "data": {
      "text/html": [
       "<div>\n",
       "<style scoped>\n",
       "    .dataframe tbody tr th:only-of-type {\n",
       "        vertical-align: middle;\n",
       "    }\n",
       "\n",
       "    .dataframe tbody tr th {\n",
       "        vertical-align: top;\n",
       "    }\n",
       "\n",
       "    .dataframe thead th {\n",
       "        text-align: right;\n",
       "    }\n",
       "</style>\n",
       "<table border=\"1\" class=\"dataframe\">\n",
       "  <thead>\n",
       "    <tr style=\"text-align: right;\">\n",
       "      <th></th>\n",
       "      <th>year_of_release</th>\n",
       "      <th>na_sales</th>\n",
       "      <th>eu_sales</th>\n",
       "      <th>jp_sales</th>\n",
       "      <th>other_sales</th>\n",
       "      <th>critic_score</th>\n",
       "      <th>user_score</th>\n",
       "      <th>sales_all</th>\n",
       "    </tr>\n",
       "    <tr>\n",
       "      <th>platform</th>\n",
       "      <th></th>\n",
       "      <th></th>\n",
       "      <th></th>\n",
       "      <th></th>\n",
       "      <th></th>\n",
       "      <th></th>\n",
       "      <th></th>\n",
       "      <th></th>\n",
       "    </tr>\n",
       "  </thead>\n",
       "  <tbody>\n",
       "    <tr>\n",
       "      <th>PS4</th>\n",
       "      <td>789937</td>\n",
       "      <td>108.74</td>\n",
       "      <td>141.09</td>\n",
       "      <td>15.96</td>\n",
       "      <td>48.35</td>\n",
       "      <td>18027.0</td>\n",
       "      <td>1599.3</td>\n",
       "      <td>314.14</td>\n",
       "    </tr>\n",
       "    <tr>\n",
       "      <th>PS3</th>\n",
       "      <td>992629</td>\n",
       "      <td>103.38</td>\n",
       "      <td>106.86</td>\n",
       "      <td>35.29</td>\n",
       "      <td>43.26</td>\n",
       "      <td>15036.0</td>\n",
       "      <td>1638.8</td>\n",
       "      <td>288.79</td>\n",
       "    </tr>\n",
       "    <tr>\n",
       "      <th>X360</th>\n",
       "      <td>587862</td>\n",
       "      <td>140.05</td>\n",
       "      <td>74.52</td>\n",
       "      <td>1.57</td>\n",
       "      <td>20.40</td>\n",
       "      <td>11998.0</td>\n",
       "      <td>1404.9</td>\n",
       "      <td>236.54</td>\n",
       "    </tr>\n",
       "    <tr>\n",
       "      <th>3DS</th>\n",
       "      <td>797445</td>\n",
       "      <td>55.31</td>\n",
       "      <td>42.64</td>\n",
       "      <td>87.79</td>\n",
       "      <td>8.87</td>\n",
       "      <td>6969.0</td>\n",
       "      <td>519.8</td>\n",
       "      <td>194.61</td>\n",
       "    </tr>\n",
       "    <tr>\n",
       "      <th>XOne</th>\n",
       "      <td>497693</td>\n",
       "      <td>93.12</td>\n",
       "      <td>51.59</td>\n",
       "      <td>0.34</td>\n",
       "      <td>14.27</td>\n",
       "      <td>12314.0</td>\n",
       "      <td>1121.9</td>\n",
       "      <td>159.32</td>\n",
       "    </tr>\n",
       "    <tr>\n",
       "      <th>WiiU</th>\n",
       "      <td>296008</td>\n",
       "      <td>38.10</td>\n",
       "      <td>25.13</td>\n",
       "      <td>13.01</td>\n",
       "      <td>5.95</td>\n",
       "      <td>6309.0</td>\n",
       "      <td>643.4</td>\n",
       "      <td>82.19</td>\n",
       "    </tr>\n",
       "    <tr>\n",
       "      <th>PC</th>\n",
       "      <td>503498</td>\n",
       "      <td>19.12</td>\n",
       "      <td>37.76</td>\n",
       "      <td>0.00</td>\n",
       "      <td>5.77</td>\n",
       "      <td>14964.0</td>\n",
       "      <td>1280.3</td>\n",
       "      <td>62.65</td>\n",
       "    </tr>\n",
       "    <tr>\n",
       "      <th>PSV</th>\n",
       "      <td>827865</td>\n",
       "      <td>10.98</td>\n",
       "      <td>11.36</td>\n",
       "      <td>21.04</td>\n",
       "      <td>5.80</td>\n",
       "      <td>7328.0</td>\n",
       "      <td>682.3</td>\n",
       "      <td>49.18</td>\n",
       "    </tr>\n",
       "    <tr>\n",
       "      <th>Wii</th>\n",
       "      <td>108688</td>\n",
       "      <td>17.45</td>\n",
       "      <td>11.92</td>\n",
       "      <td>3.39</td>\n",
       "      <td>2.61</td>\n",
       "      <td>332.0</td>\n",
       "      <td>66.4</td>\n",
       "      <td>35.37</td>\n",
       "    </tr>\n",
       "    <tr>\n",
       "      <th>DS</th>\n",
       "      <td>62380</td>\n",
       "      <td>4.59</td>\n",
       "      <td>3.53</td>\n",
       "      <td>3.72</td>\n",
       "      <td>0.71</td>\n",
       "      <td>50.0</td>\n",
       "      <td>-7.0</td>\n",
       "      <td>12.55</td>\n",
       "    </tr>\n",
       "  </tbody>\n",
       "</table>\n",
       "</div>"
      ],
      "text/plain": [
       "          year_of_release  na_sales  eu_sales  jp_sales  other_sales  \\\n",
       "platform                                                               \n",
       "PS4                789937    108.74    141.09     15.96        48.35   \n",
       "PS3                992629    103.38    106.86     35.29        43.26   \n",
       "X360               587862    140.05     74.52      1.57        20.40   \n",
       "3DS                797445     55.31     42.64     87.79         8.87   \n",
       "XOne               497693     93.12     51.59      0.34        14.27   \n",
       "WiiU               296008     38.10     25.13     13.01         5.95   \n",
       "PC                 503498     19.12     37.76      0.00         5.77   \n",
       "PSV                827865     10.98     11.36     21.04         5.80   \n",
       "Wii                108688     17.45     11.92      3.39         2.61   \n",
       "DS                  62380      4.59      3.53      3.72         0.71   \n",
       "\n",
       "          critic_score  user_score  sales_all  \n",
       "platform                                       \n",
       "PS4            18027.0      1599.3     314.14  \n",
       "PS3            15036.0      1638.8     288.79  \n",
       "X360           11998.0      1404.9     236.54  \n",
       "3DS             6969.0       519.8     194.61  \n",
       "XOne           12314.0      1121.9     159.32  \n",
       "WiiU            6309.0       643.4      82.19  \n",
       "PC             14964.0      1280.3      62.65  \n",
       "PSV             7328.0       682.3      49.18  \n",
       "Wii              332.0        66.4      35.37  \n",
       "DS                50.0        -7.0      12.55  "
      ]
     },
     "execution_count": 34,
     "metadata": {},
     "output_type": "execute_result"
    }
   ],
   "source": [
    "games_good_info.groupby('platform').agg('sum').sort_values(by = 'sales_all', ascending = False).head(10)"
   ]
  },
  {
   "cell_type": "code",
   "execution_count": 35,
   "metadata": {
    "scrolled": true
   },
   "outputs": [
    {
     "data": {
      "image/png": "[encoded data removed]",
      "text/plain": [
       "<Figure size 432x288 with 1 Axes>"
      ]
     },
     "metadata": {
      "needs_background": "light"
     },
     "output_type": "display_data"
    },
    {
     "data": {
      "image/png": "[encoded data removed]",
      "text/plain": [
       "<Figure size 432x288 with 1 Axes>"
      ]
     },
     "metadata": {
      "needs_background": "light"
     },
     "output_type": "display_data"
    },
    {
     "data": {
      "image/png": "[encoded data removed]",
      "text/plain": [
       "<Figure size 432x288 with 1 Axes>"
      ]
     },
     "metadata": {
      "needs_background": "light"
     },
     "output_type": "display_data"
    },
    {
     "data": {
      "image/png": "[encoded data removed]",
      "text/plain": [
       "<Figure size 432x288 with 1 Axes>"
      ]
     },
     "metadata": {
      "needs_background": "light"
     },
     "output_type": "display_data"
    },
    {
     "data": {
      "image/png": "[encoded data removed]",
      "text/plain": [
       "<Figure size 432x288 with 1 Axes>"
      ]
     },
     "metadata": {
      "needs_background": "light"
     },
     "output_type": "display_data"
    }
   ],
   "source": [
    "plarform_list = ['PS4','PS3','X360','3DS','XOne']\n",
    "\n",
    "\n",
    "for platform in plarform_list:\n",
    "    pivot = games_good_info[games_good_info['platform'] == platform].pivot_table(index = 'year_of_release', values = 'sales_all').plot()\n",
    "    plt.legend(platform)"
   ]
  },
  {
   "cell_type": "markdown",
   "metadata": {},
   "source": [
    "Продажи падают у всех платформ, меньше у PS4 и XOne"
   ]
  },
  {
   "cell_type": "code",
   "execution_count": 36,
   "metadata": {
    "scrolled": true
   },
   "outputs": [
    {
     "data": {
      "image/png": "[encoded data removed]",
      "text/plain": [
       "<Figure size 432x288 with 1 Axes>"
      ]
     },
     "metadata": {
      "needs_background": "light"
     },
     "output_type": "display_data"
    },
    {
     "data": {
      "image/png": "[encoded data removed]",
      "text/plain": [
       "<Figure size 432x288 with 1 Axes>"
      ]
     },
     "metadata": {
      "needs_background": "light"
     },
     "output_type": "display_data"
    },
    {
     "data": {
      "image/png": "[encoded data removed]",
      "text/plain": [
       "<Figure size 432x288 with 1 Axes>"
      ]
     },
     "metadata": {
      "needs_background": "light"
     },
     "output_type": "display_data"
    },
    {
     "data": {
      "image/png": "[encoded data removed]",
      "text/plain": [
       "<Figure size 432x288 with 1 Axes>"
      ]
     },
     "metadata": {
      "needs_background": "light"
     },
     "output_type": "display_data"
    },
    {
     "data": {
      "image/png": "[encoded data removed]",
      "text/plain": [
       "<Figure size 432x288 with 1 Axes>"
      ]
     },
     "metadata": {
      "needs_background": "light"
     },
     "output_type": "display_data"
    }
   ],
   "source": [
    "plarform_list = ['PS4','PS3','X360','3DS','XOne']\n",
    "\n",
    "\n",
    "for platform in plarform_list:\n",
    "    pivot = games_good_info[games_good_info['platform'] == platform].pivot_table(index = 'year_of_release', values = 'sales_all').boxplot(column ='sales_all')\n",
    "    \n",
    "    plt.show()\n",
    "    "
   ]
  },
  {
   "cell_type": "markdown",
   "metadata": {},
   "source": [
    "Диаграммы размаха показывают, что медиана продаж PS4 существенно выше. \n",
    "\n",
    "Верхняя граница продаж для 3DS и XOne ~2 раза ниже остальных платформ."
   ]
  },
  {
   "cell_type": "markdown",
   "metadata": {},
   "source": [
    "##### Влияние отзывов на продажи\n",
    "\n",
    "Посмотрим, как влияют на продажи внутри одной популярной платформы отзывы пользователей и критиков."
   ]
  },
  {
   "cell_type": "code",
   "execution_count": 37,
   "metadata": {},
   "outputs": [
    {
     "data": {
      "text/plain": [
       "[-0.031957110204556376,\n",
       " -0.005143522887113828,\n",
       " 0.006163978646213326,\n",
       " 0.19758263411038599,\n",
       " -0.06892505328279414]"
      ]
     },
     "execution_count": 37,
     "metadata": {},
     "output_type": "execute_result"
    },
    {
     "data": {
      "image/png": "[encoded data removed]",
      "text/plain": [
       "<Figure size 432x288 with 1 Axes>"
      ]
     },
     "metadata": {
      "needs_background": "light"
     },
     "output_type": "display_data"
    },
    {
     "data": {
      "image/png": "[encoded data removed]",
      "text/plain": [
       "<Figure size 432x288 with 1 Axes>"
      ]
     },
     "metadata": {
      "needs_background": "light"
     },
     "output_type": "display_data"
    },
    {
     "data": {
      "image/png": "[encoded data removed]",
      "text/plain": [
       "<Figure size 432x288 with 1 Axes>"
      ]
     },
     "metadata": {
      "needs_background": "light"
     },
     "output_type": "display_data"
    },
    {
     "data": {
      "image/png": "[encoded data removed]",
      "text/plain": [
       "<Figure size 432x288 with 1 Axes>"
      ]
     },
     "metadata": {
      "needs_background": "light"
     },
     "output_type": "display_data"
    },
    {
     "data": {
      "image/png": "[encoded data removed]",
      "text/plain": [
       "<Figure size 432x288 with 1 Axes>"
      ]
     },
     "metadata": {
      "needs_background": "light"
     },
     "output_type": "display_data"
    }
   ],
   "source": [
    "plarform_list = ['PS4','PS3','X360','3DS','XOne']\n",
    "corr_list_user = []\n",
    "tmp = games_good_info[games_good_info['user_score'] >= 0]\n",
    "\n",
    "for platform in plarform_list:\n",
    "    tmp[tmp['platform'] == platform].plot(x='user_score',y ='sales_all', kind='scatter', alpha=1) \n",
    "    corr_list_user.append(tmp[tmp['platform'] == platform]['user_score'].corr(tmp[tmp['platform'] == platform]['sales_all']))\n",
    "corr_list_user"
   ]
  },
  {
   "cell_type": "code",
   "execution_count": 38,
   "metadata": {},
   "outputs": [
    {
     "data": {
      "text/plain": [
       "[0.40656790206178095,\n",
       " 0.3314972592629587,\n",
       " 0.3605734888507336,\n",
       " 0.3208028695360785,\n",
       " 0.4169983280084017]"
      ]
     },
     "execution_count": 38,
     "metadata": {},
     "output_type": "execute_result"
    },
    {
     "data": {
      "image/png": "[encoded data removed]",
      "text/plain": [
       "<Figure size 432x288 with 1 Axes>"
      ]
     },
     "metadata": {
      "needs_background": "light"
     },
     "output_type": "display_data"
    },
    {
     "data": {
      "image/png": "[encoded data removed]",
      "text/plain": [
       "<Figure size 432x288 with 1 Axes>"
      ]
     },
     "metadata": {
      "needs_background": "light"
     },
     "output_type": "display_data"
    },
    {
     "data": {
      "image/png": "[encoded data removed]",
      "text/plain": [
       "<Figure size 432x288 with 1 Axes>"
      ]
     },
     "metadata": {
      "needs_background": "light"
     },
     "output_type": "display_data"
    },
    {
     "data": {
      "image/png": "[encoded data removed]",
      "text/plain": [
       "<Figure size 432x288 with 1 Axes>"
      ]
     },
     "metadata": {
      "needs_background": "light"
     },
     "output_type": "display_data"
    },
    {
     "data": {
      "image/png": "[encoded data removed]",
      "text/plain": [
       "<Figure size 432x288 with 1 Axes>"
      ]
     },
     "metadata": {
      "needs_background": "light"
     },
     "output_type": "display_data"
    }
   ],
   "source": [
    "plarform_list = ['PS4','PS3','X360','3DS','XOne']\n",
    "corr_list_critic = []\n",
    "tmp = games_good_info[games_good_info['critic_score'] >= 0]\n",
    "\n",
    "for platform in plarform_list:\n",
    "    tmp[tmp['platform'] == platform].plot(x='critic_score',y ='sales_all', kind='scatter', alpha=1) \n",
    "    corr_list_critic.append(tmp[tmp['platform'] == platform]['critic_score'].corr(tmp[tmp['platform'] == platform]['sales_all']))\n",
    "corr_list_critic\n"
   ]
  },
  {
   "cell_type": "markdown",
   "metadata": {},
   "source": [
    "Корреляция между оценками критиков и кол-вом продаж заметно выше, но все-таки небольшая."
   ]
  },
  {
   "cell_type": "markdown",
   "metadata": {},
   "source": [
    "#####  Зависимость продаж от жанра\n",
    "Посмотрим на общее распределение игр по жанрам. "
   ]
  },
  {
   "cell_type": "code",
   "execution_count": 39,
   "metadata": {},
   "outputs": [
    {
     "data": {
      "text/plain": [
       "<AxesSubplot:xlabel='genre'>"
      ]
     },
     "execution_count": 39,
     "metadata": {},
     "output_type": "execute_result"
    },
    {
     "data": {
      "image/png": "[encoded data removed]",
      "text/plain": [
       "<Figure size 432x288 with 1 Axes>"
      ]
     },
     "metadata": {
      "needs_background": "light"
     },
     "output_type": "display_data"
    }
   ],
   "source": [
    "pivot = games_good_info.pivot_table(index = 'genre', values = 'sales_all', aggfunc = 'sum')\n",
    "pivot.plot()"
   ]
  },
  {
   "cell_type": "code",
   "execution_count": 40,
   "metadata": {},
   "outputs": [
    {
     "data": {
      "text/plain": [
       "<AxesSubplot:>"
      ]
     },
     "execution_count": 40,
     "metadata": {},
     "output_type": "execute_result"
    },
    {
     "data": {
      "image/png": "[encoded data removed]",
      "text/plain": [
       "<Figure size 432x288 with 1 Axes>"
      ]
     },
     "metadata": {
      "needs_background": "light"
     },
     "output_type": "display_data"
    }
   ],
   "source": [
    "pivot.boxplot()"
   ]
  },
  {
   "cell_type": "code",
   "execution_count": 41,
   "metadata": {},
   "outputs": [
    {
     "data": {
      "text/plain": [
       "135.22051938547858"
      ]
     },
     "execution_count": 41,
     "metadata": {},
     "output_type": "execute_result"
    }
   ],
   "source": [
    "np.sqrt(pivot['sales_all'].var())"
   ]
  },
  {
   "cell_type": "code",
   "execution_count": 42,
   "metadata": {},
   "outputs": [
    {
     "data": {
      "text/html": [
       "<div>\n",
       "<style scoped>\n",
       "    .dataframe tbody tr th:only-of-type {\n",
       "        vertical-align: middle;\n",
       "    }\n",
       "\n",
       "    .dataframe tbody tr th {\n",
       "        vertical-align: top;\n",
       "    }\n",
       "\n",
       "    .dataframe thead th {\n",
       "        text-align: right;\n",
       "    }\n",
       "</style>\n",
       "<table border=\"1\" class=\"dataframe\">\n",
       "  <thead>\n",
       "    <tr style=\"text-align: right;\">\n",
       "      <th></th>\n",
       "      <th>year_of_release</th>\n",
       "      <th>na_sales</th>\n",
       "      <th>eu_sales</th>\n",
       "      <th>jp_sales</th>\n",
       "      <th>other_sales</th>\n",
       "      <th>critic_score</th>\n",
       "      <th>user_score</th>\n",
       "      <th>sales_all</th>\n",
       "    </tr>\n",
       "    <tr>\n",
       "      <th>genre</th>\n",
       "      <th></th>\n",
       "      <th></th>\n",
       "      <th></th>\n",
       "      <th></th>\n",
       "      <th></th>\n",
       "      <th></th>\n",
       "      <th></th>\n",
       "      <th></th>\n",
       "    </tr>\n",
       "  </thead>\n",
       "  <tbody>\n",
       "    <tr>\n",
       "      <th>Action</th>\n",
       "      <td>2076366</td>\n",
       "      <td>177.84</td>\n",
       "      <td>159.34</td>\n",
       "      <td>52.80</td>\n",
       "      <td>51.14</td>\n",
       "      <td>30526.0</td>\n",
       "      <td>3061.5</td>\n",
       "      <td>441.12</td>\n",
       "    </tr>\n",
       "    <tr>\n",
       "      <th>Shooter</th>\n",
       "      <td>473263</td>\n",
       "      <td>144.77</td>\n",
       "      <td>113.47</td>\n",
       "      <td>9.23</td>\n",
       "      <td>37.26</td>\n",
       "      <td>12640.0</td>\n",
       "      <td>1215.0</td>\n",
       "      <td>304.73</td>\n",
       "    </tr>\n",
       "    <tr>\n",
       "      <th>Role-Playing</th>\n",
       "      <td>745139</td>\n",
       "      <td>64.00</td>\n",
       "      <td>48.53</td>\n",
       "      <td>65.44</td>\n",
       "      <td>14.83</td>\n",
       "      <td>11552.0</td>\n",
       "      <td>1042.2</td>\n",
       "      <td>192.80</td>\n",
       "    </tr>\n",
       "    <tr>\n",
       "      <th>Sports</th>\n",
       "      <td>539746</td>\n",
       "      <td>81.53</td>\n",
       "      <td>69.09</td>\n",
       "      <td>8.01</td>\n",
       "      <td>22.44</td>\n",
       "      <td>10299.0</td>\n",
       "      <td>990.9</td>\n",
       "      <td>181.07</td>\n",
       "    </tr>\n",
       "    <tr>\n",
       "      <th>Misc</th>\n",
       "      <td>386675</td>\n",
       "      <td>38.19</td>\n",
       "      <td>26.32</td>\n",
       "      <td>12.86</td>\n",
       "      <td>7.67</td>\n",
       "      <td>4015.0</td>\n",
       "      <td>339.9</td>\n",
       "      <td>85.04</td>\n",
       "    </tr>\n",
       "    <tr>\n",
       "      <th>Platform</th>\n",
       "      <td>171175</td>\n",
       "      <td>25.38</td>\n",
       "      <td>21.41</td>\n",
       "      <td>8.63</td>\n",
       "      <td>5.58</td>\n",
       "      <td>4376.0</td>\n",
       "      <td>430.2</td>\n",
       "      <td>61.00</td>\n",
       "    </tr>\n",
       "    <tr>\n",
       "      <th>Racing</th>\n",
       "      <td>231600</td>\n",
       "      <td>17.22</td>\n",
       "      <td>27.29</td>\n",
       "      <td>2.50</td>\n",
       "      <td>6.49</td>\n",
       "      <td>5787.0</td>\n",
       "      <td>500.0</td>\n",
       "      <td>53.50</td>\n",
       "    </tr>\n",
       "    <tr>\n",
       "      <th>Fighting</th>\n",
       "      <td>219501</td>\n",
       "      <td>19.79</td>\n",
       "      <td>10.79</td>\n",
       "      <td>9.44</td>\n",
       "      <td>4.47</td>\n",
       "      <td>4461.0</td>\n",
       "      <td>443.7</td>\n",
       "      <td>44.49</td>\n",
       "    </tr>\n",
       "    <tr>\n",
       "      <th>Simulation</th>\n",
       "      <td>161117</td>\n",
       "      <td>7.97</td>\n",
       "      <td>14.55</td>\n",
       "      <td>10.41</td>\n",
       "      <td>2.19</td>\n",
       "      <td>2557.0</td>\n",
       "      <td>235.5</td>\n",
       "      <td>35.12</td>\n",
       "    </tr>\n",
       "    <tr>\n",
       "      <th>Adventure</th>\n",
       "      <td>608220</td>\n",
       "      <td>8.92</td>\n",
       "      <td>9.46</td>\n",
       "      <td>8.24</td>\n",
       "      <td>2.81</td>\n",
       "      <td>4044.0</td>\n",
       "      <td>307.6</td>\n",
       "      <td>29.43</td>\n",
       "    </tr>\n",
       "    <tr>\n",
       "      <th>Strategy</th>\n",
       "      <td>142987</td>\n",
       "      <td>4.23</td>\n",
       "      <td>5.17</td>\n",
       "      <td>2.88</td>\n",
       "      <td>1.06</td>\n",
       "      <td>2312.0</td>\n",
       "      <td>188.7</td>\n",
       "      <td>13.34</td>\n",
       "    </tr>\n",
       "    <tr>\n",
       "      <th>Puzzle</th>\n",
       "      <td>56375</td>\n",
       "      <td>1.13</td>\n",
       "      <td>1.40</td>\n",
       "      <td>2.14</td>\n",
       "      <td>0.22</td>\n",
       "      <td>660.0</td>\n",
       "      <td>49.7</td>\n",
       "      <td>4.89</td>\n",
       "    </tr>\n",
       "  </tbody>\n",
       "</table>\n",
       "</div>"
      ],
      "text/plain": [
       "              year_of_release  na_sales  eu_sales  jp_sales  other_sales  \\\n",
       "genre                                                                      \n",
       "Action                2076366    177.84    159.34     52.80        51.14   \n",
       "Shooter                473263    144.77    113.47      9.23        37.26   \n",
       "Role-Playing           745139     64.00     48.53     65.44        14.83   \n",
       "Sports                 539746     81.53     69.09      8.01        22.44   \n",
       "Misc                   386675     38.19     26.32     12.86         7.67   \n",
       "Platform               171175     25.38     21.41      8.63         5.58   \n",
       "Racing                 231600     17.22     27.29      2.50         6.49   \n",
       "Fighting               219501     19.79     10.79      9.44         4.47   \n",
       "Simulation             161117      7.97     14.55     10.41         2.19   \n",
       "Adventure              608220      8.92      9.46      8.24         2.81   \n",
       "Strategy               142987      4.23      5.17      2.88         1.06   \n",
       "Puzzle                  56375      1.13      1.40      2.14         0.22   \n",
       "\n",
       "              critic_score  user_score  sales_all  \n",
       "genre                                              \n",
       "Action             30526.0      3061.5     441.12  \n",
       "Shooter            12640.0      1215.0     304.73  \n",
       "Role-Playing       11552.0      1042.2     192.80  \n",
       "Sports             10299.0       990.9     181.07  \n",
       "Misc                4015.0       339.9      85.04  \n",
       "Platform            4376.0       430.2      61.00  \n",
       "Racing              5787.0       500.0      53.50  \n",
       "Fighting            4461.0       443.7      44.49  \n",
       "Simulation          2557.0       235.5      35.12  \n",
       "Adventure           4044.0       307.6      29.43  \n",
       "Strategy            2312.0       188.7      13.34  \n",
       "Puzzle               660.0        49.7       4.89  "
      ]
     },
     "execution_count": 42,
     "metadata": {},
     "output_type": "execute_result"
    }
   ],
   "source": [
    "games_good_info.groupby('genre').agg('sum').sort_values(by = 'sales_all', ascending = False)"
   ]
  },
  {
   "cell_type": "markdown",
   "metadata": {},
   "source": [
    "Самые прибыльные жанры Action и Shooter. Жанры с высокой прибылью сильно выделяются."
   ]
  },
  {
   "cell_type": "code",
   "execution_count": 43,
   "metadata": {},
   "outputs": [
    {
     "name": "stdout",
     "output_type": "stream",
     "text": [
      " \n",
      "PS3\n",
      "Index(['Shooter', 'Sports', 'Action', 'Platform', 'Fighting'], dtype='object', name='genre')\n",
      " \n",
      "X360\n",
      "Index(['Role-Playing', 'Shooter', 'Sports', 'Strategy', 'Action'], dtype='object', name='genre')\n",
      " \n",
      "PS4\n",
      "Index(['Shooter', 'Sports', 'Platform', 'Racing', 'Simulation'], dtype='object', name='genre')\n",
      " \n",
      "3DS\n",
      "Index(['Racing', 'Role-Playing', 'Platform', 'Sports', 'Simulation'], dtype='object', name='genre')\n",
      " \n",
      "DS\n",
      "Index(['Role-Playing', 'Platform', 'Misc', 'Simulation', 'Sports'], dtype='object', name='genre')\n",
      " \n",
      "XOne\n",
      "Index(['Shooter', 'Sports', 'Role-Playing', 'Fighting', 'Racing'], dtype='object', name='genre')\n",
      " \n",
      "WiiU\n",
      "Index(['Platform', 'Racing', 'Role-Playing', 'Sports', 'Misc'], dtype='object', name='genre')\n",
      " \n",
      "Wii\n",
      "Index(['Platform', 'Puzzle', 'Role-Playing', 'Sports', 'Strategy'], dtype='object', name='genre')\n",
      " \n",
      "PC\n",
      "Index(['Shooter', 'Role-Playing', 'Simulation', 'Action', 'Strategy'], dtype='object', name='genre')\n",
      " \n",
      "PSV\n",
      "Index(['Shooter', 'Fighting', 'Sports', 'Platform', 'Role-Playing'], dtype='object', name='genre')\n",
      " \n",
      "PSP\n",
      "Index(['Strategy', 'Sports', 'Role-Playing', 'Simulation', 'Action'], dtype='object', name='genre')\n"
     ]
    }
   ],
   "source": [
    "plarform_list = list(games_good_info['platform'].unique())\n",
    "\n",
    "\n",
    "for platform in plarform_list:\n",
    "    print(' ')\n",
    "    print(platform)\n",
    "    #display(games_good_info[games_good_info['platform'] == platform].groupby('genre').agg('median').sort_values(by = 'sales_all', ascending = False).head())\n",
    "    #tmp.append(games_good_info[games_good_info['platform'] == platform].groupby('genre').agg('median').sort_values(by = 'sales_all', ascending = False).head().index)\n",
    "    tmp = games_good_info[games_good_info['platform'] == platform].groupby('genre').agg('median').sort_values(by = 'sales_all', ascending = False).head()\n",
    "    print(tmp.head().index)\n",
    "    #display(tmp.pivot_table(index = 'genre',values = 'sales_all'))\n",
    "    \n",
    "    #plt.pie(tmp['sales_all'],)\n",
    "    #lt.show()"
   ]
  },
  {
   "cell_type": "code",
   "execution_count": 44,
   "metadata": {},
   "outputs": [
    {
     "data": {
      "image/png": "[encoded data removed]",
      "text/plain": [
       "<Figure size 432x288 with 1 Axes>"
      ]
     },
     "metadata": {
      "needs_background": "light"
     },
     "output_type": "display_data"
    },
    {
     "data": {
      "image/png": "[encoded data removed]",
      "text/plain": [
       "<Figure size 432x288 with 1 Axes>"
      ]
     },
     "metadata": {
      "needs_background": "light"
     },
     "output_type": "display_data"
    },
    {
     "data": {
      "image/png": "[encoded data removed]",
      "text/plain": [
       "<Figure size 432x288 with 1 Axes>"
      ]
     },
     "metadata": {
      "needs_background": "light"
     },
     "output_type": "display_data"
    },
    {
     "data": {
      "image/png": "[encoded data removed]",
      "text/plain": [
       "<Figure size 432x288 with 1 Axes>"
      ]
     },
     "metadata": {
      "needs_background": "light"
     },
     "output_type": "display_data"
    },
    {
     "data": {
      "image/png": "[encoded data removed]",
      "text/plain": [
       "<Figure size 432x288 with 1 Axes>"
      ]
     },
     "metadata": {
      "needs_background": "light"
     },
     "output_type": "display_data"
    },
    {
     "data": {
      "image/png": "[encoded data removed]",
      "text/plain": [
       "<Figure size 432x288 with 1 Axes>"
      ]
     },
     "metadata": {
      "needs_background": "light"
     },
     "output_type": "display_data"
    },
    {
     "data": {
      "image/png": "[encoded data removed]",
      "text/plain": [
       "<Figure size 432x288 with 1 Axes>"
      ]
     },
     "metadata": {
      "needs_background": "light"
     },
     "output_type": "display_data"
    },
    {
     "data": {
      "image/png": "[encoded data removed]",
      "text/plain": [
       "<Figure size 432x288 with 1 Axes>"
      ]
     },
     "metadata": {
      "needs_background": "light"
     },
     "output_type": "display_data"
    },
    {
     "data": {
      "image/png": "[encoded data removed]",
      "text/plain": [
       "<Figure size 432x288 with 1 Axes>"
      ]
     },
     "metadata": {
      "needs_background": "light"
     },
     "output_type": "display_data"
    },
    {
     "data": {
      "image/png": "[encoded data removed]",
      "text/plain": [
       "<Figure size 432x288 with 1 Axes>"
      ]
     },
     "metadata": {
      "needs_background": "light"
     },
     "output_type": "display_data"
    },
    {
     "data": {
      "image/png": "[encoded data removed]",
      "text/plain": [
       "<Figure size 432x288 with 1 Axes>"
      ]
     },
     "metadata": {
      "needs_background": "light"
     },
     "output_type": "display_data"
    }
   ],
   "source": [
    "plarform_list = list(games_good_info['platform'].unique())\n",
    "#plarform_list = ['PS4','PS3','X360','3DS','XOne']\n",
    "for platform in plarform_list:\n",
    "    tmp = games_good_info[games_good_info['platform'] == platform].groupby('genre').agg('median').sort_values(by = 'sales_all', ascending = False)\n",
    "    pivot = tmp.pivot_table(index = 'genre', values = 'sales_all').boxplot(column ='sales_all')\n",
    "    plt.title(platform)\n",
    "    plt.show()\n",
    "    "
   ]
  },
  {
   "cell_type": "markdown",
   "metadata": {},
   "source": [
    "#### Анализ различий по регионам"
   ]
  },
  {
   "cell_type": "markdown",
   "metadata": {},
   "source": [
    "Определим для пользователя каждого региона (NA, EU, JP):\n",
    "\n",
    "    Самые популярные платформы (топ-5).\n",
    "    Самые популярные жанры (топ-5). \n",
    "    Влияет ли рейтинг ESRB на продажи в отдельном регионе?"
   ]
  },
  {
   "cell_type": "code",
   "execution_count": 45,
   "metadata": {},
   "outputs": [
    {
     "data": {
      "text/html": [
       "<div>\n",
       "<style scoped>\n",
       "    .dataframe tbody tr th:only-of-type {\n",
       "        vertical-align: middle;\n",
       "    }\n",
       "\n",
       "    .dataframe tbody tr th {\n",
       "        vertical-align: top;\n",
       "    }\n",
       "\n",
       "    .dataframe thead th {\n",
       "        text-align: right;\n",
       "    }\n",
       "</style>\n",
       "<table border=\"1\" class=\"dataframe\">\n",
       "  <thead>\n",
       "    <tr style=\"text-align: right;\">\n",
       "      <th></th>\n",
       "      <th>name</th>\n",
       "      <th>platform</th>\n",
       "      <th>year_of_release</th>\n",
       "      <th>genre</th>\n",
       "      <th>na_sales</th>\n",
       "      <th>eu_sales</th>\n",
       "      <th>jp_sales</th>\n",
       "      <th>other_sales</th>\n",
       "      <th>critic_score</th>\n",
       "      <th>user_score</th>\n",
       "      <th>rating</th>\n",
       "      <th>sales_all</th>\n",
       "    </tr>\n",
       "  </thead>\n",
       "  <tbody>\n",
       "    <tr>\n",
       "      <th>16</th>\n",
       "      <td>Grand Theft Auto V</td>\n",
       "      <td>PS3</td>\n",
       "      <td>2013</td>\n",
       "      <td>Action</td>\n",
       "      <td>7.02</td>\n",
       "      <td>9.09</td>\n",
       "      <td>0.98</td>\n",
       "      <td>3.96</td>\n",
       "      <td>97.0</td>\n",
       "      <td>8.2</td>\n",
       "      <td>M</td>\n",
       "      <td>21.05</td>\n",
       "    </tr>\n",
       "    <tr>\n",
       "      <th>23</th>\n",
       "      <td>Grand Theft Auto V</td>\n",
       "      <td>X360</td>\n",
       "      <td>2013</td>\n",
       "      <td>Action</td>\n",
       "      <td>9.66</td>\n",
       "      <td>5.14</td>\n",
       "      <td>0.06</td>\n",
       "      <td>1.41</td>\n",
       "      <td>97.0</td>\n",
       "      <td>8.1</td>\n",
       "      <td>M</td>\n",
       "      <td>16.27</td>\n",
       "    </tr>\n",
       "    <tr>\n",
       "      <th>31</th>\n",
       "      <td>Call of Duty: Black Ops 3</td>\n",
       "      <td>PS4</td>\n",
       "      <td>2015</td>\n",
       "      <td>Shooter</td>\n",
       "      <td>6.03</td>\n",
       "      <td>5.86</td>\n",
       "      <td>0.36</td>\n",
       "      <td>2.38</td>\n",
       "      <td>-1.0</td>\n",
       "      <td>-1.0</td>\n",
       "      <td>unknown</td>\n",
       "      <td>14.63</td>\n",
       "    </tr>\n",
       "    <tr>\n",
       "      <th>33</th>\n",
       "      <td>Pokemon X/Pokemon Y</td>\n",
       "      <td>3DS</td>\n",
       "      <td>2013</td>\n",
       "      <td>Role-Playing</td>\n",
       "      <td>5.28</td>\n",
       "      <td>4.19</td>\n",
       "      <td>4.35</td>\n",
       "      <td>0.78</td>\n",
       "      <td>-1.0</td>\n",
       "      <td>-1.0</td>\n",
       "      <td>unknown</td>\n",
       "      <td>14.60</td>\n",
       "    </tr>\n",
       "    <tr>\n",
       "      <th>34</th>\n",
       "      <td>Call of Duty: Black Ops II</td>\n",
       "      <td>PS3</td>\n",
       "      <td>2012</td>\n",
       "      <td>Shooter</td>\n",
       "      <td>4.99</td>\n",
       "      <td>5.73</td>\n",
       "      <td>0.65</td>\n",
       "      <td>2.42</td>\n",
       "      <td>83.0</td>\n",
       "      <td>5.3</td>\n",
       "      <td>M</td>\n",
       "      <td>13.79</td>\n",
       "    </tr>\n",
       "    <tr>\n",
       "      <th>...</th>\n",
       "      <td>...</td>\n",
       "      <td>...</td>\n",
       "      <td>...</td>\n",
       "      <td>...</td>\n",
       "      <td>...</td>\n",
       "      <td>...</td>\n",
       "      <td>...</td>\n",
       "      <td>...</td>\n",
       "      <td>...</td>\n",
       "      <td>...</td>\n",
       "      <td>...</td>\n",
       "      <td>...</td>\n",
       "    </tr>\n",
       "    <tr>\n",
       "      <th>16703</th>\n",
       "      <td>Strawberry Nauts</td>\n",
       "      <td>PSV</td>\n",
       "      <td>2016</td>\n",
       "      <td>Adventure</td>\n",
       "      <td>0.00</td>\n",
       "      <td>0.00</td>\n",
       "      <td>0.01</td>\n",
       "      <td>0.00</td>\n",
       "      <td>-1.0</td>\n",
       "      <td>-1.0</td>\n",
       "      <td>unknown</td>\n",
       "      <td>0.01</td>\n",
       "    </tr>\n",
       "    <tr>\n",
       "      <th>16707</th>\n",
       "      <td>Aiyoku no Eustia</td>\n",
       "      <td>PSV</td>\n",
       "      <td>2014</td>\n",
       "      <td>Misc</td>\n",
       "      <td>0.00</td>\n",
       "      <td>0.00</td>\n",
       "      <td>0.01</td>\n",
       "      <td>0.00</td>\n",
       "      <td>-1.0</td>\n",
       "      <td>-1.0</td>\n",
       "      <td>unknown</td>\n",
       "      <td>0.01</td>\n",
       "    </tr>\n",
       "    <tr>\n",
       "      <th>16710</th>\n",
       "      <td>Samurai Warriors: Sanada Maru</td>\n",
       "      <td>PS3</td>\n",
       "      <td>2016</td>\n",
       "      <td>Action</td>\n",
       "      <td>0.00</td>\n",
       "      <td>0.00</td>\n",
       "      <td>0.01</td>\n",
       "      <td>0.00</td>\n",
       "      <td>-1.0</td>\n",
       "      <td>-1.0</td>\n",
       "      <td>unknown</td>\n",
       "      <td>0.01</td>\n",
       "    </tr>\n",
       "    <tr>\n",
       "      <th>16712</th>\n",
       "      <td>Haitaka no Psychedelica</td>\n",
       "      <td>PSV</td>\n",
       "      <td>2016</td>\n",
       "      <td>Adventure</td>\n",
       "      <td>0.00</td>\n",
       "      <td>0.00</td>\n",
       "      <td>0.01</td>\n",
       "      <td>0.00</td>\n",
       "      <td>-1.0</td>\n",
       "      <td>-1.0</td>\n",
       "      <td>unknown</td>\n",
       "      <td>0.01</td>\n",
       "    </tr>\n",
       "    <tr>\n",
       "      <th>16714</th>\n",
       "      <td>Winning Post 8 2016</td>\n",
       "      <td>PSV</td>\n",
       "      <td>2016</td>\n",
       "      <td>Simulation</td>\n",
       "      <td>0.00</td>\n",
       "      <td>0.00</td>\n",
       "      <td>0.01</td>\n",
       "      <td>0.00</td>\n",
       "      <td>-1.0</td>\n",
       "      <td>-1.0</td>\n",
       "      <td>unknown</td>\n",
       "      <td>0.01</td>\n",
       "    </tr>\n",
       "  </tbody>\n",
       "</table>\n",
       "<p>2886 rows × 12 columns</p>\n",
       "</div>"
      ],
      "text/plain": [
       "                                name platform  year_of_release         genre  \\\n",
       "16                Grand Theft Auto V      PS3             2013        Action   \n",
       "23                Grand Theft Auto V     X360             2013        Action   \n",
       "31         Call of Duty: Black Ops 3      PS4             2015       Shooter   \n",
       "33               Pokemon X/Pokemon Y      3DS             2013  Role-Playing   \n",
       "34        Call of Duty: Black Ops II      PS3             2012       Shooter   \n",
       "...                              ...      ...              ...           ...   \n",
       "16703               Strawberry Nauts      PSV             2016     Adventure   \n",
       "16707               Aiyoku no Eustia      PSV             2014          Misc   \n",
       "16710  Samurai Warriors: Sanada Maru      PS3             2016        Action   \n",
       "16712        Haitaka no Psychedelica      PSV             2016     Adventure   \n",
       "16714            Winning Post 8 2016      PSV             2016    Simulation   \n",
       "\n",
       "       na_sales  eu_sales  jp_sales  other_sales  critic_score  user_score  \\\n",
       "16         7.02      9.09      0.98         3.96          97.0         8.2   \n",
       "23         9.66      5.14      0.06         1.41          97.0         8.1   \n",
       "31         6.03      5.86      0.36         2.38          -1.0        -1.0   \n",
       "33         5.28      4.19      4.35         0.78          -1.0        -1.0   \n",
       "34         4.99      5.73      0.65         2.42          83.0         5.3   \n",
       "...         ...       ...       ...          ...           ...         ...   \n",
       "16703      0.00      0.00      0.01         0.00          -1.0        -1.0   \n",
       "16707      0.00      0.00      0.01         0.00          -1.0        -1.0   \n",
       "16710      0.00      0.00      0.01         0.00          -1.0        -1.0   \n",
       "16712      0.00      0.00      0.01         0.00          -1.0        -1.0   \n",
       "16714      0.00      0.00      0.01         0.00          -1.0        -1.0   \n",
       "\n",
       "        rating  sales_all  \n",
       "16           M      21.05  \n",
       "23           M      16.27  \n",
       "31     unknown      14.63  \n",
       "33     unknown      14.60  \n",
       "34           M      13.79  \n",
       "...        ...        ...  \n",
       "16703  unknown       0.01  \n",
       "16707  unknown       0.01  \n",
       "16710  unknown       0.01  \n",
       "16712  unknown       0.01  \n",
       "16714  unknown       0.01  \n",
       "\n",
       "[2886 rows x 12 columns]"
      ]
     },
     "execution_count": 45,
     "metadata": {},
     "output_type": "execute_result"
    }
   ],
   "source": [
    "games_good_info"
   ]
  },
  {
   "cell_type": "markdown",
   "metadata": {},
   "source": [
    "##### Самые популярные платформы по регионам"
   ]
  },
  {
   "cell_type": "code",
   "execution_count": 46,
   "metadata": {},
   "outputs": [
    {
     "data": {
      "text/html": [
       "<div>\n",
       "<style scoped>\n",
       "    .dataframe tbody tr th:only-of-type {\n",
       "        vertical-align: middle;\n",
       "    }\n",
       "\n",
       "    .dataframe tbody tr th {\n",
       "        vertical-align: top;\n",
       "    }\n",
       "\n",
       "    .dataframe thead th {\n",
       "        text-align: right;\n",
       "    }\n",
       "</style>\n",
       "<table border=\"1\" class=\"dataframe\">\n",
       "  <thead>\n",
       "    <tr style=\"text-align: right;\">\n",
       "      <th></th>\n",
       "      <th>year_of_release</th>\n",
       "      <th>na_sales</th>\n",
       "      <th>eu_sales</th>\n",
       "      <th>jp_sales</th>\n",
       "      <th>other_sales</th>\n",
       "      <th>critic_score</th>\n",
       "      <th>user_score</th>\n",
       "      <th>sales_all</th>\n",
       "    </tr>\n",
       "    <tr>\n",
       "      <th>platform</th>\n",
       "      <th></th>\n",
       "      <th></th>\n",
       "      <th></th>\n",
       "      <th></th>\n",
       "      <th></th>\n",
       "      <th></th>\n",
       "      <th></th>\n",
       "      <th></th>\n",
       "    </tr>\n",
       "  </thead>\n",
       "  <tbody>\n",
       "    <tr>\n",
       "      <th>X360</th>\n",
       "      <td>587862</td>\n",
       "      <td>140.05</td>\n",
       "      <td>74.52</td>\n",
       "      <td>1.57</td>\n",
       "      <td>20.40</td>\n",
       "      <td>11998.0</td>\n",
       "      <td>1404.9</td>\n",
       "      <td>236.54</td>\n",
       "    </tr>\n",
       "    <tr>\n",
       "      <th>PS4</th>\n",
       "      <td>789937</td>\n",
       "      <td>108.74</td>\n",
       "      <td>141.09</td>\n",
       "      <td>15.96</td>\n",
       "      <td>48.35</td>\n",
       "      <td>18027.0</td>\n",
       "      <td>1599.3</td>\n",
       "      <td>314.14</td>\n",
       "    </tr>\n",
       "    <tr>\n",
       "      <th>PS3</th>\n",
       "      <td>992629</td>\n",
       "      <td>103.38</td>\n",
       "      <td>106.86</td>\n",
       "      <td>35.29</td>\n",
       "      <td>43.26</td>\n",
       "      <td>15036.0</td>\n",
       "      <td>1638.8</td>\n",
       "      <td>288.79</td>\n",
       "    </tr>\n",
       "    <tr>\n",
       "      <th>XOne</th>\n",
       "      <td>497693</td>\n",
       "      <td>93.12</td>\n",
       "      <td>51.59</td>\n",
       "      <td>0.34</td>\n",
       "      <td>14.27</td>\n",
       "      <td>12314.0</td>\n",
       "      <td>1121.9</td>\n",
       "      <td>159.32</td>\n",
       "    </tr>\n",
       "    <tr>\n",
       "      <th>3DS</th>\n",
       "      <td>797445</td>\n",
       "      <td>55.31</td>\n",
       "      <td>42.64</td>\n",
       "      <td>87.79</td>\n",
       "      <td>8.87</td>\n",
       "      <td>6969.0</td>\n",
       "      <td>519.8</td>\n",
       "      <td>194.61</td>\n",
       "    </tr>\n",
       "  </tbody>\n",
       "</table>\n",
       "</div>"
      ],
      "text/plain": [
       "          year_of_release  na_sales  eu_sales  jp_sales  other_sales  \\\n",
       "platform                                                               \n",
       "X360               587862    140.05     74.52      1.57        20.40   \n",
       "PS4                789937    108.74    141.09     15.96        48.35   \n",
       "PS3                992629    103.38    106.86     35.29        43.26   \n",
       "XOne               497693     93.12     51.59      0.34        14.27   \n",
       "3DS                797445     55.31     42.64     87.79         8.87   \n",
       "\n",
       "          critic_score  user_score  sales_all  \n",
       "platform                                       \n",
       "X360           11998.0      1404.9     236.54  \n",
       "PS4            18027.0      1599.3     314.14  \n",
       "PS3            15036.0      1638.8     288.79  \n",
       "XOne           12314.0      1121.9     159.32  \n",
       "3DS             6969.0       519.8     194.61  "
      ]
     },
     "execution_count": 46,
     "metadata": {},
     "output_type": "execute_result"
    }
   ],
   "source": [
    "# Топ платформ для Северной Америки\n",
    "top_platform_na = games_good_info.groupby('platform').agg('sum').sort_values(by = 'na_sales', ascending = False).head()\n",
    "top_platform_na"
   ]
  },
  {
   "cell_type": "code",
   "execution_count": 47,
   "metadata": {},
   "outputs": [],
   "source": [
    "# Топ платформ для Европы\n",
    "top_platform_eu = games_good_info.groupby('platform').agg('sum').sort_values(by = 'eu_sales', ascending = False).head()"
   ]
  },
  {
   "cell_type": "code",
   "execution_count": 48,
   "metadata": {},
   "outputs": [],
   "source": [
    "# Топ платформ для Японии\n",
    "top_platform_jp = games_good_info.groupby('platform').agg('sum').sort_values(by = 'jp_sales', ascending = False).head()"
   ]
  },
  {
   "cell_type": "code",
   "execution_count": 49,
   "metadata": {},
   "outputs": [
    {
     "name": "stdout",
     "output_type": "stream",
     "text": [
      "na_sales\n"
     ]
    },
    {
     "data": {
      "image/png": "[encoded data removed]",
      "text/plain": [
       "<Figure size 432x288 with 1 Axes>"
      ]
     },
     "metadata": {},
     "output_type": "display_data"
    },
    {
     "name": "stdout",
     "output_type": "stream",
     "text": [
      "eu_sales\n"
     ]
    },
    {
     "data": {
      "image/png": "[encoded data removed]",
      "text/plain": [
       "<Figure size 432x288 with 1 Axes>"
      ]
     },
     "metadata": {},
     "output_type": "display_data"
    },
    {
     "name": "stdout",
     "output_type": "stream",
     "text": [
      "jp_sales\n"
     ]
    },
    {
     "data": {
      "image/png": "[encoded data removed]",
      "text/plain": [
       "<Figure size 432x288 with 1 Axes>"
      ]
     },
     "metadata": {},
     "output_type": "display_data"
    }
   ],
   "source": [
    "# Доли продаж\n",
    "games_grouped = games_good_info.groupby('platform').agg('sum').sort_values(by = 'sales_all', ascending = False)\n",
    "\n",
    "region_list = ['na_sales','eu_sales', 'jp_sales']\n",
    "#share_list= []\n",
    "\n",
    "plarform_list = list(games_good_info['platform'].unique())\n",
    "\n",
    "\n",
    "for region in region_list:\n",
    "    tmp = games_grouped[region]/games_grouped['sales_all']\n",
    "    print(region)\n",
    "    plt.pie(tmp, labels=plarform_list)\n",
    "    plt.show()\n",
    "    \n",
    "    #share_list  games_grouped[region]/games_grouped['sales_all']\n",
    "    "
   ]
  },
  {
   "cell_type": "markdown",
   "metadata": {},
   "source": [
    "Показатели продаж в Японии сильно отличаются от показателей Европы и Северной Америки."
   ]
  },
  {
   "cell_type": "markdown",
   "metadata": {},
   "source": [
    "##### Самые популярные жанры по регионам"
   ]
  },
  {
   "cell_type": "code",
   "execution_count": 50,
   "metadata": {},
   "outputs": [
    {
     "data": {
      "text/html": [
       "<div>\n",
       "<style scoped>\n",
       "    .dataframe tbody tr th:only-of-type {\n",
       "        vertical-align: middle;\n",
       "    }\n",
       "\n",
       "    .dataframe tbody tr th {\n",
       "        vertical-align: top;\n",
       "    }\n",
       "\n",
       "    .dataframe thead th {\n",
       "        text-align: right;\n",
       "    }\n",
       "</style>\n",
       "<table border=\"1\" class=\"dataframe\">\n",
       "  <thead>\n",
       "    <tr style=\"text-align: right;\">\n",
       "      <th></th>\n",
       "      <th>year_of_release</th>\n",
       "      <th>na_sales</th>\n",
       "      <th>eu_sales</th>\n",
       "      <th>jp_sales</th>\n",
       "      <th>other_sales</th>\n",
       "      <th>critic_score</th>\n",
       "      <th>user_score</th>\n",
       "      <th>sales_all</th>\n",
       "    </tr>\n",
       "    <tr>\n",
       "      <th>genre</th>\n",
       "      <th></th>\n",
       "      <th></th>\n",
       "      <th></th>\n",
       "      <th></th>\n",
       "      <th></th>\n",
       "      <th></th>\n",
       "      <th></th>\n",
       "      <th></th>\n",
       "    </tr>\n",
       "  </thead>\n",
       "  <tbody>\n",
       "    <tr>\n",
       "      <th>Action</th>\n",
       "      <td>2076366</td>\n",
       "      <td>177.84</td>\n",
       "      <td>159.34</td>\n",
       "      <td>52.80</td>\n",
       "      <td>51.14</td>\n",
       "      <td>30526.0</td>\n",
       "      <td>3061.5</td>\n",
       "      <td>441.12</td>\n",
       "    </tr>\n",
       "    <tr>\n",
       "      <th>Shooter</th>\n",
       "      <td>473263</td>\n",
       "      <td>144.77</td>\n",
       "      <td>113.47</td>\n",
       "      <td>9.23</td>\n",
       "      <td>37.26</td>\n",
       "      <td>12640.0</td>\n",
       "      <td>1215.0</td>\n",
       "      <td>304.73</td>\n",
       "    </tr>\n",
       "    <tr>\n",
       "      <th>Sports</th>\n",
       "      <td>539746</td>\n",
       "      <td>81.53</td>\n",
       "      <td>69.09</td>\n",
       "      <td>8.01</td>\n",
       "      <td>22.44</td>\n",
       "      <td>10299.0</td>\n",
       "      <td>990.9</td>\n",
       "      <td>181.07</td>\n",
       "    </tr>\n",
       "    <tr>\n",
       "      <th>Role-Playing</th>\n",
       "      <td>745139</td>\n",
       "      <td>64.00</td>\n",
       "      <td>48.53</td>\n",
       "      <td>65.44</td>\n",
       "      <td>14.83</td>\n",
       "      <td>11552.0</td>\n",
       "      <td>1042.2</td>\n",
       "      <td>192.80</td>\n",
       "    </tr>\n",
       "    <tr>\n",
       "      <th>Misc</th>\n",
       "      <td>386675</td>\n",
       "      <td>38.19</td>\n",
       "      <td>26.32</td>\n",
       "      <td>12.86</td>\n",
       "      <td>7.67</td>\n",
       "      <td>4015.0</td>\n",
       "      <td>339.9</td>\n",
       "      <td>85.04</td>\n",
       "    </tr>\n",
       "  </tbody>\n",
       "</table>\n",
       "</div>"
      ],
      "text/plain": [
       "              year_of_release  na_sales  eu_sales  jp_sales  other_sales  \\\n",
       "genre                                                                      \n",
       "Action                2076366    177.84    159.34     52.80        51.14   \n",
       "Shooter                473263    144.77    113.47      9.23        37.26   \n",
       "Sports                 539746     81.53     69.09      8.01        22.44   \n",
       "Role-Playing           745139     64.00     48.53     65.44        14.83   \n",
       "Misc                   386675     38.19     26.32     12.86         7.67   \n",
       "\n",
       "              critic_score  user_score  sales_all  \n",
       "genre                                              \n",
       "Action             30526.0      3061.5     441.12  \n",
       "Shooter            12640.0      1215.0     304.73  \n",
       "Sports             10299.0       990.9     181.07  \n",
       "Role-Playing       11552.0      1042.2     192.80  \n",
       "Misc                4015.0       339.9      85.04  "
      ]
     },
     "execution_count": 50,
     "metadata": {},
     "output_type": "execute_result"
    }
   ],
   "source": [
    "games_good_info.groupby('genre').agg('sum').sort_values(by = 'na_sales', ascending = False).head()"
   ]
  },
  {
   "cell_type": "code",
   "execution_count": 51,
   "metadata": {},
   "outputs": [
    {
     "data": {
      "text/html": [
       "<div>\n",
       "<style scoped>\n",
       "    .dataframe tbody tr th:only-of-type {\n",
       "        vertical-align: middle;\n",
       "    }\n",
       "\n",
       "    .dataframe tbody tr th {\n",
       "        vertical-align: top;\n",
       "    }\n",
       "\n",
       "    .dataframe thead th {\n",
       "        text-align: right;\n",
       "    }\n",
       "</style>\n",
       "<table border=\"1\" class=\"dataframe\">\n",
       "  <thead>\n",
       "    <tr style=\"text-align: right;\">\n",
       "      <th></th>\n",
       "      <th>year_of_release</th>\n",
       "      <th>na_sales</th>\n",
       "      <th>eu_sales</th>\n",
       "      <th>jp_sales</th>\n",
       "      <th>other_sales</th>\n",
       "      <th>critic_score</th>\n",
       "      <th>user_score</th>\n",
       "      <th>sales_all</th>\n",
       "    </tr>\n",
       "    <tr>\n",
       "      <th>genre</th>\n",
       "      <th></th>\n",
       "      <th></th>\n",
       "      <th></th>\n",
       "      <th></th>\n",
       "      <th></th>\n",
       "      <th></th>\n",
       "      <th></th>\n",
       "      <th></th>\n",
       "    </tr>\n",
       "  </thead>\n",
       "  <tbody>\n",
       "    <tr>\n",
       "      <th>Action</th>\n",
       "      <td>2076366</td>\n",
       "      <td>177.84</td>\n",
       "      <td>159.34</td>\n",
       "      <td>52.80</td>\n",
       "      <td>51.14</td>\n",
       "      <td>30526.0</td>\n",
       "      <td>3061.5</td>\n",
       "      <td>441.12</td>\n",
       "    </tr>\n",
       "    <tr>\n",
       "      <th>Shooter</th>\n",
       "      <td>473263</td>\n",
       "      <td>144.77</td>\n",
       "      <td>113.47</td>\n",
       "      <td>9.23</td>\n",
       "      <td>37.26</td>\n",
       "      <td>12640.0</td>\n",
       "      <td>1215.0</td>\n",
       "      <td>304.73</td>\n",
       "    </tr>\n",
       "    <tr>\n",
       "      <th>Sports</th>\n",
       "      <td>539746</td>\n",
       "      <td>81.53</td>\n",
       "      <td>69.09</td>\n",
       "      <td>8.01</td>\n",
       "      <td>22.44</td>\n",
       "      <td>10299.0</td>\n",
       "      <td>990.9</td>\n",
       "      <td>181.07</td>\n",
       "    </tr>\n",
       "    <tr>\n",
       "      <th>Role-Playing</th>\n",
       "      <td>745139</td>\n",
       "      <td>64.00</td>\n",
       "      <td>48.53</td>\n",
       "      <td>65.44</td>\n",
       "      <td>14.83</td>\n",
       "      <td>11552.0</td>\n",
       "      <td>1042.2</td>\n",
       "      <td>192.80</td>\n",
       "    </tr>\n",
       "    <tr>\n",
       "      <th>Racing</th>\n",
       "      <td>231600</td>\n",
       "      <td>17.22</td>\n",
       "      <td>27.29</td>\n",
       "      <td>2.50</td>\n",
       "      <td>6.49</td>\n",
       "      <td>5787.0</td>\n",
       "      <td>500.0</td>\n",
       "      <td>53.50</td>\n",
       "    </tr>\n",
       "  </tbody>\n",
       "</table>\n",
       "</div>"
      ],
      "text/plain": [
       "              year_of_release  na_sales  eu_sales  jp_sales  other_sales  \\\n",
       "genre                                                                      \n",
       "Action                2076366    177.84    159.34     52.80        51.14   \n",
       "Shooter                473263    144.77    113.47      9.23        37.26   \n",
       "Sports                 539746     81.53     69.09      8.01        22.44   \n",
       "Role-Playing           745139     64.00     48.53     65.44        14.83   \n",
       "Racing                 231600     17.22     27.29      2.50         6.49   \n",
       "\n",
       "              critic_score  user_score  sales_all  \n",
       "genre                                              \n",
       "Action             30526.0      3061.5     441.12  \n",
       "Shooter            12640.0      1215.0     304.73  \n",
       "Sports             10299.0       990.9     181.07  \n",
       "Role-Playing       11552.0      1042.2     192.80  \n",
       "Racing              5787.0       500.0      53.50  "
      ]
     },
     "execution_count": 51,
     "metadata": {},
     "output_type": "execute_result"
    }
   ],
   "source": [
    "games_good_info.groupby('genre').agg('sum').sort_values(by = 'eu_sales', ascending = False).head()"
   ]
  },
  {
   "cell_type": "code",
   "execution_count": 52,
   "metadata": {},
   "outputs": [
    {
     "data": {
      "text/html": [
       "<div>\n",
       "<style scoped>\n",
       "    .dataframe tbody tr th:only-of-type {\n",
       "        vertical-align: middle;\n",
       "    }\n",
       "\n",
       "    .dataframe tbody tr th {\n",
       "        vertical-align: top;\n",
       "    }\n",
       "\n",
       "    .dataframe thead th {\n",
       "        text-align: right;\n",
       "    }\n",
       "</style>\n",
       "<table border=\"1\" class=\"dataframe\">\n",
       "  <thead>\n",
       "    <tr style=\"text-align: right;\">\n",
       "      <th></th>\n",
       "      <th>year_of_release</th>\n",
       "      <th>na_sales</th>\n",
       "      <th>eu_sales</th>\n",
       "      <th>jp_sales</th>\n",
       "      <th>other_sales</th>\n",
       "      <th>critic_score</th>\n",
       "      <th>user_score</th>\n",
       "      <th>sales_all</th>\n",
       "    </tr>\n",
       "    <tr>\n",
       "      <th>genre</th>\n",
       "      <th></th>\n",
       "      <th></th>\n",
       "      <th></th>\n",
       "      <th></th>\n",
       "      <th></th>\n",
       "      <th></th>\n",
       "      <th></th>\n",
       "      <th></th>\n",
       "    </tr>\n",
       "  </thead>\n",
       "  <tbody>\n",
       "    <tr>\n",
       "      <th>Role-Playing</th>\n",
       "      <td>745139</td>\n",
       "      <td>64.00</td>\n",
       "      <td>48.53</td>\n",
       "      <td>65.44</td>\n",
       "      <td>14.83</td>\n",
       "      <td>11552.0</td>\n",
       "      <td>1042.2</td>\n",
       "      <td>192.80</td>\n",
       "    </tr>\n",
       "    <tr>\n",
       "      <th>Action</th>\n",
       "      <td>2076366</td>\n",
       "      <td>177.84</td>\n",
       "      <td>159.34</td>\n",
       "      <td>52.80</td>\n",
       "      <td>51.14</td>\n",
       "      <td>30526.0</td>\n",
       "      <td>3061.5</td>\n",
       "      <td>441.12</td>\n",
       "    </tr>\n",
       "    <tr>\n",
       "      <th>Misc</th>\n",
       "      <td>386675</td>\n",
       "      <td>38.19</td>\n",
       "      <td>26.32</td>\n",
       "      <td>12.86</td>\n",
       "      <td>7.67</td>\n",
       "      <td>4015.0</td>\n",
       "      <td>339.9</td>\n",
       "      <td>85.04</td>\n",
       "    </tr>\n",
       "    <tr>\n",
       "      <th>Simulation</th>\n",
       "      <td>161117</td>\n",
       "      <td>7.97</td>\n",
       "      <td>14.55</td>\n",
       "      <td>10.41</td>\n",
       "      <td>2.19</td>\n",
       "      <td>2557.0</td>\n",
       "      <td>235.5</td>\n",
       "      <td>35.12</td>\n",
       "    </tr>\n",
       "    <tr>\n",
       "      <th>Fighting</th>\n",
       "      <td>219501</td>\n",
       "      <td>19.79</td>\n",
       "      <td>10.79</td>\n",
       "      <td>9.44</td>\n",
       "      <td>4.47</td>\n",
       "      <td>4461.0</td>\n",
       "      <td>443.7</td>\n",
       "      <td>44.49</td>\n",
       "    </tr>\n",
       "  </tbody>\n",
       "</table>\n",
       "</div>"
      ],
      "text/plain": [
       "              year_of_release  na_sales  eu_sales  jp_sales  other_sales  \\\n",
       "genre                                                                      \n",
       "Role-Playing           745139     64.00     48.53     65.44        14.83   \n",
       "Action                2076366    177.84    159.34     52.80        51.14   \n",
       "Misc                   386675     38.19     26.32     12.86         7.67   \n",
       "Simulation             161117      7.97     14.55     10.41         2.19   \n",
       "Fighting               219501     19.79     10.79      9.44         4.47   \n",
       "\n",
       "              critic_score  user_score  sales_all  \n",
       "genre                                              \n",
       "Role-Playing       11552.0      1042.2     192.80  \n",
       "Action             30526.0      3061.5     441.12  \n",
       "Misc                4015.0       339.9      85.04  \n",
       "Simulation          2557.0       235.5      35.12  \n",
       "Fighting            4461.0       443.7      44.49  "
      ]
     },
     "execution_count": 52,
     "metadata": {},
     "output_type": "execute_result"
    }
   ],
   "source": [
    "games_good_info.groupby('genre').agg('sum').sort_values(by = 'jp_sales', ascending = False).head()"
   ]
  },
  {
   "cell_type": "code",
   "execution_count": 53,
   "metadata": {},
   "outputs": [
    {
     "data": {
      "text/plain": [
       "(12, 8)"
      ]
     },
     "execution_count": 53,
     "metadata": {},
     "output_type": "execute_result"
    }
   ],
   "source": [
    "games_grouped = games_good_info.groupby('genre').agg('sum').sort_values(by = 'sales_all', ascending = False)\n",
    "games_grouped.shape"
   ]
  },
  {
   "cell_type": "code",
   "execution_count": 54,
   "metadata": {},
   "outputs": [
    {
     "name": "stdout",
     "output_type": "stream",
     "text": [
      "na_sales\n"
     ]
    },
    {
     "data": {
      "image/png": "[encoded data removed]",
      "text/plain": [
       "<Figure size 432x288 with 1 Axes>"
      ]
     },
     "metadata": {},
     "output_type": "display_data"
    },
    {
     "name": "stdout",
     "output_type": "stream",
     "text": [
      "eu_sales\n"
     ]
    },
    {
     "data": {
      "image/png": "[encoded data removed]",
      "text/plain": [
       "<Figure size 432x288 with 1 Axes>"
      ]
     },
     "metadata": {},
     "output_type": "display_data"
    },
    {
     "name": "stdout",
     "output_type": "stream",
     "text": [
      "jp_sales\n"
     ]
    },
    {
     "data": {
      "image/png": "[encoded data removed]",
      "text/plain": [
       "<Figure size 432x288 with 1 Axes>"
      ]
     },
     "metadata": {},
     "output_type": "display_data"
    }
   ],
   "source": [
    "# Доли продаж\n",
    "games_grouped = games_good_info.groupby('genre').agg('sum').sort_values(by = 'sales_all', ascending = False)\n",
    "top = []\n",
    "explode = np.zeros(12)\n",
    "\n",
    "\n",
    "region_list = ['na_sales','eu_sales', 'jp_sales']\n",
    "genre_list = list(games_good_info['genre'].unique())\n",
    "games_grouped_list = list(games_grouped.index)\n",
    "\n",
    "\n",
    "for region in region_list:\n",
    "    print(region)\n",
    "    tmp = games_grouped[region]/games_grouped['sales_all']\n",
    "    top = games_good_info.groupby('genre').agg('sum').sort_values(by = region, ascending = False).head().index\n",
    "    list(top)\n",
    "    idx = []\n",
    "    \n",
    "    for i in range(0,len(top)): #\n",
    "        if top[i] in games_grouped_list: idx.append(games_grouped_list.index(top[i]))\n",
    "    for i in idx: explode[i] = .25\n",
    "        \n",
    "    #print(explode)\n",
    "    \n",
    "    plt.pie(tmp, labels=genre_list, explode = explode)\n",
    "    plt.show()\n",
    "    \n",
    "    \n"
   ]
  },
  {
   "cell_type": "markdown",
   "metadata": {},
   "source": [
    "##### Влияет ли рейтинг ESRB на продажи в отдельном регионе"
   ]
  },
  {
   "cell_type": "code",
   "execution_count": 55,
   "metadata": {},
   "outputs": [
    {
     "data": {
      "text/html": [
       "<div>\n",
       "<style scoped>\n",
       "    .dataframe tbody tr th:only-of-type {\n",
       "        vertical-align: middle;\n",
       "    }\n",
       "\n",
       "    .dataframe tbody tr th {\n",
       "        vertical-align: top;\n",
       "    }\n",
       "\n",
       "    .dataframe thead th {\n",
       "        text-align: right;\n",
       "    }\n",
       "</style>\n",
       "<table border=\"1\" class=\"dataframe\">\n",
       "  <thead>\n",
       "    <tr style=\"text-align: right;\">\n",
       "      <th></th>\n",
       "      <th>year_of_release</th>\n",
       "      <th>na_sales</th>\n",
       "      <th>eu_sales</th>\n",
       "      <th>jp_sales</th>\n",
       "      <th>other_sales</th>\n",
       "      <th>critic_score</th>\n",
       "      <th>user_score</th>\n",
       "      <th>sales_all</th>\n",
       "    </tr>\n",
       "    <tr>\n",
       "      <th>rating</th>\n",
       "      <th></th>\n",
       "      <th></th>\n",
       "      <th></th>\n",
       "      <th></th>\n",
       "      <th></th>\n",
       "      <th></th>\n",
       "      <th></th>\n",
       "      <th></th>\n",
       "    </tr>\n",
       "  </thead>\n",
       "  <tbody>\n",
       "    <tr>\n",
       "      <th>M</th>\n",
       "      <td>1002837</td>\n",
       "      <td>231.57</td>\n",
       "      <td>193.96</td>\n",
       "      <td>21.20</td>\n",
       "      <td>63.38</td>\n",
       "      <td>32450.0</td>\n",
       "      <td>3300.1</td>\n",
       "      <td>510.11</td>\n",
       "    </tr>\n",
       "    <tr>\n",
       "      <th>E</th>\n",
       "      <td>795480</td>\n",
       "      <td>114.37</td>\n",
       "      <td>113.03</td>\n",
       "      <td>28.33</td>\n",
       "      <td>31.44</td>\n",
       "      <td>19378.0</td>\n",
       "      <td>1955.1</td>\n",
       "      <td>287.17</td>\n",
       "    </tr>\n",
       "    <tr>\n",
       "      <th>unknown</th>\n",
       "      <td>2567761</td>\n",
       "      <td>103.31</td>\n",
       "      <td>91.50</td>\n",
       "      <td>108.84</td>\n",
       "      <td>27.17</td>\n",
       "      <td>1855.0</td>\n",
       "      <td>-864.1</td>\n",
       "      <td>330.82</td>\n",
       "    </tr>\n",
       "    <tr>\n",
       "      <th>E10+</th>\n",
       "      <td>616260</td>\n",
       "      <td>75.70</td>\n",
       "      <td>55.37</td>\n",
       "      <td>8.19</td>\n",
       "      <td>16.23</td>\n",
       "      <td>15464.0</td>\n",
       "      <td>1719.7</td>\n",
       "      <td>155.49</td>\n",
       "    </tr>\n",
       "    <tr>\n",
       "      <th>T</th>\n",
       "      <td>829826</td>\n",
       "      <td>66.02</td>\n",
       "      <td>52.96</td>\n",
       "      <td>26.02</td>\n",
       "      <td>17.94</td>\n",
       "      <td>24082.0</td>\n",
       "      <td>2694.1</td>\n",
       "      <td>162.94</td>\n",
       "    </tr>\n",
       "  </tbody>\n",
       "</table>\n",
       "</div>"
      ],
      "text/plain": [
       "         year_of_release  na_sales  eu_sales  jp_sales  other_sales  \\\n",
       "rating                                                                \n",
       "M                1002837    231.57    193.96     21.20        63.38   \n",
       "E                 795480    114.37    113.03     28.33        31.44   \n",
       "unknown          2567761    103.31     91.50    108.84        27.17   \n",
       "E10+              616260     75.70     55.37      8.19        16.23   \n",
       "T                 829826     66.02     52.96     26.02        17.94   \n",
       "\n",
       "         critic_score  user_score  sales_all  \n",
       "rating                                        \n",
       "M             32450.0      3300.1     510.11  \n",
       "E             19378.0      1955.1     287.17  \n",
       "unknown        1855.0      -864.1     330.82  \n",
       "E10+          15464.0      1719.7     155.49  \n",
       "T             24082.0      2694.1     162.94  "
      ]
     },
     "execution_count": 55,
     "metadata": {},
     "output_type": "execute_result"
    }
   ],
   "source": [
    "games_good_info.groupby('rating').agg('sum').sort_values(by = 'na_sales', ascending = False).head()"
   ]
  },
  {
   "cell_type": "code",
   "execution_count": 56,
   "metadata": {},
   "outputs": [
    {
     "data": {
      "text/html": [
       "<div>\n",
       "<style scoped>\n",
       "    .dataframe tbody tr th:only-of-type {\n",
       "        vertical-align: middle;\n",
       "    }\n",
       "\n",
       "    .dataframe tbody tr th {\n",
       "        vertical-align: top;\n",
       "    }\n",
       "\n",
       "    .dataframe thead th {\n",
       "        text-align: right;\n",
       "    }\n",
       "</style>\n",
       "<table border=\"1\" class=\"dataframe\">\n",
       "  <thead>\n",
       "    <tr style=\"text-align: right;\">\n",
       "      <th></th>\n",
       "      <th>year_of_release</th>\n",
       "      <th>na_sales</th>\n",
       "      <th>eu_sales</th>\n",
       "      <th>jp_sales</th>\n",
       "      <th>other_sales</th>\n",
       "      <th>critic_score</th>\n",
       "      <th>user_score</th>\n",
       "      <th>sales_all</th>\n",
       "    </tr>\n",
       "    <tr>\n",
       "      <th>rating</th>\n",
       "      <th></th>\n",
       "      <th></th>\n",
       "      <th></th>\n",
       "      <th></th>\n",
       "      <th></th>\n",
       "      <th></th>\n",
       "      <th></th>\n",
       "      <th></th>\n",
       "    </tr>\n",
       "  </thead>\n",
       "  <tbody>\n",
       "    <tr>\n",
       "      <th>M</th>\n",
       "      <td>1002837</td>\n",
       "      <td>231.57</td>\n",
       "      <td>193.96</td>\n",
       "      <td>21.20</td>\n",
       "      <td>63.38</td>\n",
       "      <td>32450.0</td>\n",
       "      <td>3300.1</td>\n",
       "      <td>510.11</td>\n",
       "    </tr>\n",
       "    <tr>\n",
       "      <th>E</th>\n",
       "      <td>795480</td>\n",
       "      <td>114.37</td>\n",
       "      <td>113.03</td>\n",
       "      <td>28.33</td>\n",
       "      <td>31.44</td>\n",
       "      <td>19378.0</td>\n",
       "      <td>1955.1</td>\n",
       "      <td>287.17</td>\n",
       "    </tr>\n",
       "    <tr>\n",
       "      <th>unknown</th>\n",
       "      <td>2567761</td>\n",
       "      <td>103.31</td>\n",
       "      <td>91.50</td>\n",
       "      <td>108.84</td>\n",
       "      <td>27.17</td>\n",
       "      <td>1855.0</td>\n",
       "      <td>-864.1</td>\n",
       "      <td>330.82</td>\n",
       "    </tr>\n",
       "    <tr>\n",
       "      <th>E10+</th>\n",
       "      <td>616260</td>\n",
       "      <td>75.70</td>\n",
       "      <td>55.37</td>\n",
       "      <td>8.19</td>\n",
       "      <td>16.23</td>\n",
       "      <td>15464.0</td>\n",
       "      <td>1719.7</td>\n",
       "      <td>155.49</td>\n",
       "    </tr>\n",
       "    <tr>\n",
       "      <th>T</th>\n",
       "      <td>829826</td>\n",
       "      <td>66.02</td>\n",
       "      <td>52.96</td>\n",
       "      <td>26.02</td>\n",
       "      <td>17.94</td>\n",
       "      <td>24082.0</td>\n",
       "      <td>2694.1</td>\n",
       "      <td>162.94</td>\n",
       "    </tr>\n",
       "  </tbody>\n",
       "</table>\n",
       "</div>"
      ],
      "text/plain": [
       "         year_of_release  na_sales  eu_sales  jp_sales  other_sales  \\\n",
       "rating                                                                \n",
       "M                1002837    231.57    193.96     21.20        63.38   \n",
       "E                 795480    114.37    113.03     28.33        31.44   \n",
       "unknown          2567761    103.31     91.50    108.84        27.17   \n",
       "E10+              616260     75.70     55.37      8.19        16.23   \n",
       "T                 829826     66.02     52.96     26.02        17.94   \n",
       "\n",
       "         critic_score  user_score  sales_all  \n",
       "rating                                        \n",
       "M             32450.0      3300.1     510.11  \n",
       "E             19378.0      1955.1     287.17  \n",
       "unknown        1855.0      -864.1     330.82  \n",
       "E10+          15464.0      1719.7     155.49  \n",
       "T             24082.0      2694.1     162.94  "
      ]
     },
     "execution_count": 56,
     "metadata": {},
     "output_type": "execute_result"
    }
   ],
   "source": [
    "games_good_info.groupby('rating').agg('sum').sort_values(by = 'eu_sales', ascending = False).head()"
   ]
  },
  {
   "cell_type": "code",
   "execution_count": 57,
   "metadata": {},
   "outputs": [
    {
     "data": {
      "text/html": [
       "<div>\n",
       "<style scoped>\n",
       "    .dataframe tbody tr th:only-of-type {\n",
       "        vertical-align: middle;\n",
       "    }\n",
       "\n",
       "    .dataframe tbody tr th {\n",
       "        vertical-align: top;\n",
       "    }\n",
       "\n",
       "    .dataframe thead th {\n",
       "        text-align: right;\n",
       "    }\n",
       "</style>\n",
       "<table border=\"1\" class=\"dataframe\">\n",
       "  <thead>\n",
       "    <tr style=\"text-align: right;\">\n",
       "      <th></th>\n",
       "      <th>year_of_release</th>\n",
       "      <th>na_sales</th>\n",
       "      <th>eu_sales</th>\n",
       "      <th>jp_sales</th>\n",
       "      <th>other_sales</th>\n",
       "      <th>critic_score</th>\n",
       "      <th>user_score</th>\n",
       "      <th>sales_all</th>\n",
       "    </tr>\n",
       "    <tr>\n",
       "      <th>rating</th>\n",
       "      <th></th>\n",
       "      <th></th>\n",
       "      <th></th>\n",
       "      <th></th>\n",
       "      <th></th>\n",
       "      <th></th>\n",
       "      <th></th>\n",
       "      <th></th>\n",
       "    </tr>\n",
       "  </thead>\n",
       "  <tbody>\n",
       "    <tr>\n",
       "      <th>unknown</th>\n",
       "      <td>2567761</td>\n",
       "      <td>103.31</td>\n",
       "      <td>91.50</td>\n",
       "      <td>108.84</td>\n",
       "      <td>27.17</td>\n",
       "      <td>1855.0</td>\n",
       "      <td>-864.1</td>\n",
       "      <td>330.82</td>\n",
       "    </tr>\n",
       "    <tr>\n",
       "      <th>E</th>\n",
       "      <td>795480</td>\n",
       "      <td>114.37</td>\n",
       "      <td>113.03</td>\n",
       "      <td>28.33</td>\n",
       "      <td>31.44</td>\n",
       "      <td>19378.0</td>\n",
       "      <td>1955.1</td>\n",
       "      <td>287.17</td>\n",
       "    </tr>\n",
       "    <tr>\n",
       "      <th>T</th>\n",
       "      <td>829826</td>\n",
       "      <td>66.02</td>\n",
       "      <td>52.96</td>\n",
       "      <td>26.02</td>\n",
       "      <td>17.94</td>\n",
       "      <td>24082.0</td>\n",
       "      <td>2694.1</td>\n",
       "      <td>162.94</td>\n",
       "    </tr>\n",
       "    <tr>\n",
       "      <th>M</th>\n",
       "      <td>1002837</td>\n",
       "      <td>231.57</td>\n",
       "      <td>193.96</td>\n",
       "      <td>21.20</td>\n",
       "      <td>63.38</td>\n",
       "      <td>32450.0</td>\n",
       "      <td>3300.1</td>\n",
       "      <td>510.11</td>\n",
       "    </tr>\n",
       "    <tr>\n",
       "      <th>E10+</th>\n",
       "      <td>616260</td>\n",
       "      <td>75.70</td>\n",
       "      <td>55.37</td>\n",
       "      <td>8.19</td>\n",
       "      <td>16.23</td>\n",
       "      <td>15464.0</td>\n",
       "      <td>1719.7</td>\n",
       "      <td>155.49</td>\n",
       "    </tr>\n",
       "  </tbody>\n",
       "</table>\n",
       "</div>"
      ],
      "text/plain": [
       "         year_of_release  na_sales  eu_sales  jp_sales  other_sales  \\\n",
       "rating                                                                \n",
       "unknown          2567761    103.31     91.50    108.84        27.17   \n",
       "E                 795480    114.37    113.03     28.33        31.44   \n",
       "T                 829826     66.02     52.96     26.02        17.94   \n",
       "M                1002837    231.57    193.96     21.20        63.38   \n",
       "E10+              616260     75.70     55.37      8.19        16.23   \n",
       "\n",
       "         critic_score  user_score  sales_all  \n",
       "rating                                        \n",
       "unknown        1855.0      -864.1     330.82  \n",
       "E             19378.0      1955.1     287.17  \n",
       "T             24082.0      2694.1     162.94  \n",
       "M             32450.0      3300.1     510.11  \n",
       "E10+          15464.0      1719.7     155.49  "
      ]
     },
     "execution_count": 57,
     "metadata": {},
     "output_type": "execute_result"
    }
   ],
   "source": [
    "games_good_info.groupby('rating').agg('sum').sort_values(by = 'jp_sales', ascending = False).head()"
   ]
  },
  {
   "cell_type": "markdown",
   "metadata": {},
   "source": [
    "В каждом регионе, чем строже ограничение, тем ниже продажи. "
   ]
  },
  {
   "cell_type": "markdown",
   "metadata": {},
   "source": [
    "## Проверка гипотез"
   ]
  },
  {
   "cell_type": "markdown",
   "metadata": {},
   "source": [
    "#### Гипотеза 1: средние пользовательские рейтинги платформ Xbox One и PC одинаковые;"
   ]
  },
  {
   "cell_type": "markdown",
   "metadata": {},
   "source": [
    "    H0 -пользовательские рейтинги платформ Xbox One и PC одинаковые\n",
    "    H1 - пользовательские рейтинги платформ Xbox One и PC различаются"
   ]
  },
  {
   "cell_type": "code",
   "execution_count": 58,
   "metadata": {},
   "outputs": [
    {
     "data": {
      "text/html": [
       "<div>\n",
       "<style scoped>\n",
       "    .dataframe tbody tr th:only-of-type {\n",
       "        vertical-align: middle;\n",
       "    }\n",
       "\n",
       "    .dataframe tbody tr th {\n",
       "        vertical-align: top;\n",
       "    }\n",
       "\n",
       "    .dataframe thead th {\n",
       "        text-align: right;\n",
       "    }\n",
       "</style>\n",
       "<table border=\"1\" class=\"dataframe\">\n",
       "  <thead>\n",
       "    <tr style=\"text-align: right;\">\n",
       "      <th></th>\n",
       "      <th>year_of_release</th>\n",
       "      <th>na_sales</th>\n",
       "      <th>eu_sales</th>\n",
       "      <th>jp_sales</th>\n",
       "      <th>other_sales</th>\n",
       "      <th>critic_score</th>\n",
       "      <th>user_score</th>\n",
       "      <th>sales_all</th>\n",
       "    </tr>\n",
       "    <tr>\n",
       "      <th>platform</th>\n",
       "      <th></th>\n",
       "      <th></th>\n",
       "      <th></th>\n",
       "      <th></th>\n",
       "      <th></th>\n",
       "      <th></th>\n",
       "      <th></th>\n",
       "      <th></th>\n",
       "    </tr>\n",
       "  </thead>\n",
       "  <tbody>\n",
       "    <tr>\n",
       "      <th>PC</th>\n",
       "      <td>2013.992000</td>\n",
       "      <td>0.076480</td>\n",
       "      <td>0.151040</td>\n",
       "      <td>0.000000</td>\n",
       "      <td>0.023080</td>\n",
       "      <td>59.856000</td>\n",
       "      <td>5.121200</td>\n",
       "      <td>0.250600</td>\n",
       "    </tr>\n",
       "    <tr>\n",
       "      <th>X360</th>\n",
       "      <td>2013.226027</td>\n",
       "      <td>0.479623</td>\n",
       "      <td>0.255205</td>\n",
       "      <td>0.005377</td>\n",
       "      <td>0.069863</td>\n",
       "      <td>41.089041</td>\n",
       "      <td>4.811301</td>\n",
       "      <td>0.810068</td>\n",
       "    </tr>\n",
       "    <tr>\n",
       "      <th>XOne</th>\n",
       "      <td>2014.951417</td>\n",
       "      <td>0.377004</td>\n",
       "      <td>0.208866</td>\n",
       "      <td>0.001377</td>\n",
       "      <td>0.057773</td>\n",
       "      <td>49.854251</td>\n",
       "      <td>4.542105</td>\n",
       "      <td>0.645020</td>\n",
       "    </tr>\n",
       "    <tr>\n",
       "      <th>WiiU</th>\n",
       "      <td>2013.659864</td>\n",
       "      <td>0.259184</td>\n",
       "      <td>0.170952</td>\n",
       "      <td>0.088503</td>\n",
       "      <td>0.040476</td>\n",
       "      <td>42.918367</td>\n",
       "      <td>4.376871</td>\n",
       "      <td>0.559116</td>\n",
       "    </tr>\n",
       "    <tr>\n",
       "      <th>PS4</th>\n",
       "      <td>2015.145408</td>\n",
       "      <td>0.277398</td>\n",
       "      <td>0.359923</td>\n",
       "      <td>0.040714</td>\n",
       "      <td>0.123342</td>\n",
       "      <td>45.987245</td>\n",
       "      <td>4.079847</td>\n",
       "      <td>0.801378</td>\n",
       "    </tr>\n",
       "  </tbody>\n",
       "</table>\n",
       "</div>"
      ],
      "text/plain": [
       "          year_of_release  na_sales  eu_sales  jp_sales  other_sales  \\\n",
       "platform                                                               \n",
       "PC            2013.992000  0.076480  0.151040  0.000000     0.023080   \n",
       "X360          2013.226027  0.479623  0.255205  0.005377     0.069863   \n",
       "XOne          2014.951417  0.377004  0.208866  0.001377     0.057773   \n",
       "WiiU          2013.659864  0.259184  0.170952  0.088503     0.040476   \n",
       "PS4           2015.145408  0.277398  0.359923  0.040714     0.123342   \n",
       "\n",
       "          critic_score  user_score  sales_all  \n",
       "platform                                       \n",
       "PC           59.856000    5.121200   0.250600  \n",
       "X360         41.089041    4.811301   0.810068  \n",
       "XOne         49.854251    4.542105   0.645020  \n",
       "WiiU         42.918367    4.376871   0.559116  \n",
       "PS4          45.987245    4.079847   0.801378  "
      ]
     },
     "execution_count": 58,
     "metadata": {},
     "output_type": "execute_result"
    }
   ],
   "source": [
    "games_good_info.groupby('platform').agg('mean').sort_values(by = 'user_score', ascending = False).head()\n"
   ]
  },
  {
   "cell_type": "code",
   "execution_count": 59,
   "metadata": {},
   "outputs": [],
   "source": [
    "tmp = games_good_info[games_good_info['user_score'] >= 0]"
   ]
  },
  {
   "cell_type": "code",
   "execution_count": 60,
   "metadata": {},
   "outputs": [],
   "source": [
    "xbox_data = tmp[tmp['platform'] == 'XOne']\n",
    "pc_data = tmp[tmp['platform'] == 'PC']"
   ]
  },
  {
   "cell_type": "code",
   "execution_count": 61,
   "metadata": {},
   "outputs": [
    {
     "name": "stdout",
     "output_type": "stream",
     "text": [
      "p-значение: 0.5535080500643661\n",
      "Не получилось отвергнуть нулевую гипотезу\n"
     ]
    }
   ],
   "source": [
    "alpha = .01\n",
    "\n",
    "results = st.ttest_ind(\n",
    "    xbox_data['user_score'], \n",
    "    pc_data['user_score'])\n",
    "\n",
    "print('p-значение:', results.pvalue)\n",
    "\n",
    "if results.pvalue < alpha:\n",
    "    print(\"Отвергаем нулевую гипотезу\")\n",
    "else:\n",
    "    print(\"Не получилось отвергнуть нулевую гипотезу\") "
   ]
  },
  {
   "cell_type": "code",
   "execution_count": 62,
   "metadata": {},
   "outputs": [
    {
     "data": {
      "text/plain": [
       "(1.6, 1.4)"
      ]
     },
     "execution_count": 62,
     "metadata": {},
     "output_type": "execute_result"
    }
   ],
   "source": [
    "# \n",
    "xbox_data.user_score.min(), pc_data.user_score.min()"
   ]
  },
  {
   "cell_type": "markdown",
   "metadata": {},
   "source": [
    "###### Гипотеза 1 подтвердилась.\n",
    "\n",
    "Был выбран метод предназначеный для сравнения средний двух независимых совокупностей."
   ]
  },
  {
   "cell_type": "markdown",
   "metadata": {},
   "source": [
    "#### Гипотеза 2: средние пользовательские рейтинги жанров Action (англ. «действие», экшен-игры) и Sports (англ. «спортивные соревнования») разные."
   ]
  },
  {
   "cell_type": "markdown",
   "metadata": {},
   "source": [
    "    Н0 - средние пользовательские рейтинги жанров Action и Sports одинаковые.\n",
    "    Н1 - средние пользовательские рейтинги жанров Action и Sports различаются."
   ]
  },
  {
   "cell_type": "code",
   "execution_count": 63,
   "metadata": {},
   "outputs": [],
   "source": [
    "tmp = games_good_info[games_good_info['user_score'] >= 0]"
   ]
  },
  {
   "cell_type": "code",
   "execution_count": 64,
   "metadata": {},
   "outputs": [],
   "source": [
    "action_data = tmp[tmp['genre'] == 'Action']\n",
    "sports_data = tmp[tmp['genre'] == 'Sports']"
   ]
  },
  {
   "cell_type": "code",
   "execution_count": 65,
   "metadata": {},
   "outputs": [
    {
     "name": "stdout",
     "output_type": "stream",
     "text": [
      "p-значение: 3.7163089460934874e-26\n",
      "Отвергаем нулевую гипотезу\n"
     ]
    }
   ],
   "source": [
    "alpha = .01\n",
    "\n",
    "results = st.ttest_ind(\n",
    "    action_data['user_score'], \n",
    "    sports_data['user_score'])\n",
    "\n",
    "print('p-значение:', results.pvalue)\n",
    "\n",
    "if results.pvalue < alpha:\n",
    "    print(\"Отвергаем нулевую гипотезу\")\n",
    "else:\n",
    "    print(\"Не получилось отвергнуть нулевую гипотезу\") "
   ]
  },
  {
   "cell_type": "code",
   "execution_count": 66,
   "metadata": {},
   "outputs": [
    {
     "data": {
      "text/plain": [
       "(1.6, 0.2)"
      ]
     },
     "execution_count": 66,
     "metadata": {},
     "output_type": "execute_result"
    }
   ],
   "source": [
    "action_data.user_score.min(), sports_data.user_score.min()"
   ]
  },
  {
   "cell_type": "markdown",
   "metadata": {},
   "source": [
    "###### Гипотеза 2 также подтвердилась"
   ]
  },
  {
   "cell_type": "markdown",
   "metadata": {},
   "source": [
    "## Выводы\n",
    "\n",
    "В процессе анализа получилось выявить следующие закономерности определяющие успешность игры: "
   ]
  },
  {
   "cell_type": "markdown",
   "metadata": {},
   "source": [
    "    - обьемы продаж ззависят от платформы, которая предоставляет игру\n",
    "    - 'жизненный цикл' платформы 5-7 лет, стоит выбирать платформу, которая существует около 3 лет\n",
    "    - отзывы критиков имеют большее влияние, чем отзывы пользователей\n",
    "    - популярность платформ и жанров для Японии и Северной Америки/Европы стоит рассматривать отдельно\n",
    "    - популярные жанры для Северной Америки/Европы: Action, Shooter, Role-Playing, Platform, Misc, Sports\n",
    "    - популярные жанры для Японии:Role-Playing,Racing, Misc Action\n",
    "    \n",
    "    - популярные платформы для Северной Америки: PS4,PS3,PSV,DS, XOne \n",
    "    - популярные платформы для Европы: 'PS4','PS3','X360','XOne',WiiU\n",
    "    - популярные платформы для Японии: PSV ','WiiU','XOne','3DS'\n",
    "    \n",
    "    - чем строже оганичение по возрасту,тем ниже продажи\n",
    "    - средние пользовательские рейтинги платформ Xbox One и PC одинаковые\n",
    "    - средние пользовательские рейтинги жанров Action и Sports различаются"
   ]
  },
  {
   "cell_type": "markdown",
   "metadata": {},
   "source": [
    "Рекламные компании стоит планировать с учетом специфики рынка: пускать рекламу востребованного в региое продукта, доступного на популярных платформах. \n",
    "\n",
    "Самый устойчивый к рынку жанр Action, к платформам Role-Playing\n",
    "\n",
    "\n",
    "Есть смысл получить хорошие отзывы у критиков."
   ]
  }
 ],
 "metadata": {
  "ExecuteTimeLog": [
   {
    "duration": 481,
    "start_time": "2022-04-26T07:18:56.427Z"
   },
   {
    "duration": 53,
    "start_time": "2022-04-26T07:18:58.385Z"
   },
   {
    "duration": 71,
    "start_time": "2022-04-26T07:19:19.146Z"
   },
   {
    "duration": 61,
    "start_time": "2022-04-26T07:19:27.058Z"
   },
   {
    "duration": 20,
    "start_time": "2022-04-26T07:19:39.337Z"
   },
   {
    "duration": 41,
    "start_time": "2022-04-26T07:28:57.988Z"
   },
   {
    "duration": 6,
    "start_time": "2022-04-26T07:35:58.184Z"
   },
   {
    "duration": 94,
    "start_time": "2022-04-26T07:36:48.574Z"
   },
   {
    "duration": 4,
    "start_time": "2022-04-26T07:39:31.582Z"
   },
   {
    "duration": 6,
    "start_time": "2022-04-26T07:39:39.718Z"
   },
   {
    "duration": 21,
    "start_time": "2022-04-26T07:48:34.419Z"
   },
   {
    "duration": 17,
    "start_time": "2022-04-26T07:48:39.507Z"
   },
   {
    "duration": 19,
    "start_time": "2022-04-26T07:49:26.378Z"
   },
   {
    "duration": 70,
    "start_time": "2022-04-26T07:50:34.458Z"
   },
   {
    "duration": 41,
    "start_time": "2022-04-26T07:52:07.328Z"
   },
   {
    "duration": 6,
    "start_time": "2022-04-26T07:52:20.152Z"
   },
   {
    "duration": 41,
    "start_time": "2022-04-26T07:52:23.495Z"
   },
   {
    "duration": 20,
    "start_time": "2022-04-26T07:52:47.416Z"
   },
   {
    "duration": 7,
    "start_time": "2022-04-26T07:53:45.151Z"
   },
   {
    "duration": 16,
    "start_time": "2022-04-26T07:54:01.279Z"
   },
   {
    "duration": 19,
    "start_time": "2022-04-26T07:55:10.447Z"
   },
   {
    "duration": 9,
    "start_time": "2022-04-26T07:56:49.677Z"
   },
   {
    "duration": 18,
    "start_time": "2022-04-26T07:57:55.725Z"
   },
   {
    "duration": 12,
    "start_time": "2022-04-26T08:00:26.780Z"
   },
   {
    "duration": 3,
    "start_time": "2022-04-26T08:00:56.435Z"
   },
   {
    "duration": 66,
    "start_time": "2022-04-26T08:00:56.892Z"
   },
   {
    "duration": 20,
    "start_time": "2022-04-26T08:00:57.403Z"
   },
   {
    "duration": 40,
    "start_time": "2022-04-26T08:00:57.851Z"
   },
   {
    "duration": 6,
    "start_time": "2022-04-26T08:01:00.195Z"
   },
   {
    "duration": 6,
    "start_time": "2022-04-26T08:01:00.604Z"
   },
   {
    "duration": 12,
    "start_time": "2022-04-26T08:01:02.395Z"
   },
   {
    "duration": 19,
    "start_time": "2022-04-26T08:01:13.347Z"
   },
   {
    "duration": 12,
    "start_time": "2022-04-26T08:01:44.891Z"
   },
   {
    "duration": 8,
    "start_time": "2022-04-26T08:01:57.051Z"
   },
   {
    "duration": 12,
    "start_time": "2022-04-26T08:03:24.106Z"
   },
   {
    "duration": 11,
    "start_time": "2022-04-26T08:03:31.530Z"
   },
   {
    "duration": 11,
    "start_time": "2022-04-26T08:05:28.737Z"
   },
   {
    "duration": 16,
    "start_time": "2022-04-26T08:05:41.785Z"
   },
   {
    "duration": 17,
    "start_time": "2022-04-26T08:05:55.513Z"
   },
   {
    "duration": 24,
    "start_time": "2022-04-26T08:13:07.956Z"
   },
   {
    "duration": 69,
    "start_time": "2022-04-26T08:13:50.943Z"
   },
   {
    "duration": 3,
    "start_time": "2022-04-26T08:14:04.437Z"
   },
   {
    "duration": 62,
    "start_time": "2022-04-26T08:14:04.873Z"
   },
   {
    "duration": 20,
    "start_time": "2022-04-26T08:14:05.332Z"
   },
   {
    "duration": 40,
    "start_time": "2022-04-26T08:14:05.749Z"
   },
   {
    "duration": 6,
    "start_time": "2022-04-26T08:14:08.372Z"
   },
   {
    "duration": 6,
    "start_time": "2022-04-26T08:14:09.525Z"
   },
   {
    "duration": 18,
    "start_time": "2022-04-26T08:14:11.484Z"
   },
   {
    "duration": 20,
    "start_time": "2022-04-26T08:14:13.053Z"
   },
   {
    "duration": 33,
    "start_time": "2022-04-26T08:16:03.811Z"
   },
   {
    "duration": 31,
    "start_time": "2022-04-26T08:16:20.741Z"
   },
   {
    "duration": 8,
    "start_time": "2022-04-26T08:28:48.822Z"
   },
   {
    "duration": 22,
    "start_time": "2022-04-26T08:29:31.295Z"
   },
   {
    "duration": 27,
    "start_time": "2022-04-26T08:32:35.068Z"
   },
   {
    "duration": 12,
    "start_time": "2022-04-26T08:42:34.606Z"
   },
   {
    "duration": 9,
    "start_time": "2022-04-26T08:48:11.372Z"
   },
   {
    "duration": 21,
    "start_time": "2022-04-26T08:48:33.380Z"
   },
   {
    "duration": 20,
    "start_time": "2022-04-26T08:48:58.677Z"
   },
   {
    "duration": 532,
    "start_time": "2022-04-26T08:49:41.057Z"
   },
   {
    "duration": 79,
    "start_time": "2022-04-26T08:49:41.592Z"
   },
   {
    "duration": 25,
    "start_time": "2022-04-26T08:49:41.673Z"
   },
   {
    "duration": 39,
    "start_time": "2022-04-26T08:49:41.701Z"
   },
   {
    "duration": 5,
    "start_time": "2022-04-26T08:49:41.742Z"
   },
   {
    "duration": 35,
    "start_time": "2022-04-26T08:49:41.750Z"
   },
   {
    "duration": 24,
    "start_time": "2022-04-26T08:49:41.788Z"
   },
   {
    "duration": 22,
    "start_time": "2022-04-26T08:49:41.814Z"
   },
   {
    "duration": 46,
    "start_time": "2022-04-26T08:49:41.838Z"
   },
   {
    "duration": 13,
    "start_time": "2022-04-26T08:49:41.887Z"
   },
   {
    "duration": 21,
    "start_time": "2022-04-26T08:49:41.902Z"
   },
   {
    "duration": 19,
    "start_time": "2022-04-26T08:49:41.925Z"
   },
   {
    "duration": 130,
    "start_time": "2022-04-26T08:49:41.947Z"
   },
   {
    "duration": 35,
    "start_time": "2022-04-26T08:51:21.196Z"
   },
   {
    "duration": 496,
    "start_time": "2022-04-26T09:06:32.711Z"
   },
   {
    "duration": 76,
    "start_time": "2022-04-26T09:06:33.209Z"
   },
   {
    "duration": 20,
    "start_time": "2022-04-26T09:06:33.287Z"
   },
   {
    "duration": 38,
    "start_time": "2022-04-26T09:06:33.309Z"
   },
   {
    "duration": 6,
    "start_time": "2022-04-26T09:06:33.349Z"
   },
   {
    "duration": 8,
    "start_time": "2022-04-26T09:06:33.381Z"
   },
   {
    "duration": 23,
    "start_time": "2022-04-26T09:06:33.391Z"
   },
   {
    "duration": 22,
    "start_time": "2022-04-26T09:06:33.417Z"
   },
   {
    "duration": 62,
    "start_time": "2022-04-26T09:06:33.441Z"
   },
   {
    "duration": 9,
    "start_time": "2022-04-26T09:06:33.507Z"
   },
   {
    "duration": 27,
    "start_time": "2022-04-26T09:06:33.518Z"
   },
   {
    "duration": 36,
    "start_time": "2022-04-26T09:06:33.547Z"
   },
   {
    "duration": 32,
    "start_time": "2022-04-26T09:06:33.585Z"
   },
   {
    "duration": 125,
    "start_time": "2022-04-26T09:06:33.619Z"
   },
   {
    "duration": 12,
    "start_time": "2022-04-26T09:07:11.084Z"
   },
   {
    "duration": 19,
    "start_time": "2022-04-26T09:07:11.709Z"
   },
   {
    "duration": 6,
    "start_time": "2022-04-26T09:09:29.491Z"
   },
   {
    "duration": 14,
    "start_time": "2022-04-26T09:09:55.530Z"
   },
   {
    "duration": 19,
    "start_time": "2022-04-26T09:09:56.243Z"
   },
   {
    "duration": 33,
    "start_time": "2022-04-26T09:09:58.644Z"
   },
   {
    "duration": 6,
    "start_time": "2022-04-26T09:10:03.604Z"
   },
   {
    "duration": 478,
    "start_time": "2022-04-26T09:10:11.123Z"
   },
   {
    "duration": 78,
    "start_time": "2022-04-26T09:10:11.603Z"
   },
   {
    "duration": 20,
    "start_time": "2022-04-26T09:10:11.684Z"
   },
   {
    "duration": 40,
    "start_time": "2022-04-26T09:10:11.707Z"
   },
   {
    "duration": 33,
    "start_time": "2022-04-26T09:10:11.749Z"
   },
   {
    "duration": 7,
    "start_time": "2022-04-26T09:10:11.784Z"
   },
   {
    "duration": 22,
    "start_time": "2022-04-26T09:10:11.793Z"
   },
   {
    "duration": 23,
    "start_time": "2022-04-26T09:10:11.817Z"
   },
   {
    "duration": 58,
    "start_time": "2022-04-26T09:10:11.842Z"
   },
   {
    "duration": 8,
    "start_time": "2022-04-26T09:10:11.904Z"
   },
   {
    "duration": 13,
    "start_time": "2022-04-26T09:10:11.914Z"
   },
   {
    "duration": 17,
    "start_time": "2022-04-26T09:10:11.929Z"
   },
   {
    "duration": 32,
    "start_time": "2022-04-26T09:10:11.981Z"
   },
   {
    "duration": 7,
    "start_time": "2022-04-26T09:10:12.015Z"
   },
   {
    "duration": 131,
    "start_time": "2022-04-26T09:10:12.023Z"
   },
   {
    "duration": 8,
    "start_time": "2022-04-26T09:11:03.841Z"
   },
   {
    "duration": 12,
    "start_time": "2022-04-26T09:20:23.310Z"
   },
   {
    "duration": 18,
    "start_time": "2022-04-26T09:20:27.686Z"
   },
   {
    "duration": 13,
    "start_time": "2022-04-26T09:22:10.900Z"
   },
   {
    "duration": 20,
    "start_time": "2022-04-26T09:22:11.277Z"
   },
   {
    "duration": 14,
    "start_time": "2022-04-26T09:22:12.245Z"
   },
   {
    "duration": 7,
    "start_time": "2022-04-26T09:22:12.733Z"
   },
   {
    "duration": 11,
    "start_time": "2022-04-26T09:22:13.780Z"
   },
   {
    "duration": 18,
    "start_time": "2022-04-26T09:22:15.269Z"
   },
   {
    "duration": 529,
    "start_time": "2022-04-26T09:22:24.436Z"
   },
   {
    "duration": 79,
    "start_time": "2022-04-26T09:22:24.969Z"
   },
   {
    "duration": 34,
    "start_time": "2022-04-26T09:22:25.051Z"
   },
   {
    "duration": 39,
    "start_time": "2022-04-26T09:22:25.089Z"
   },
   {
    "duration": 5,
    "start_time": "2022-04-26T09:22:25.130Z"
   },
   {
    "duration": 9,
    "start_time": "2022-04-26T09:22:25.137Z"
   },
   {
    "duration": 54,
    "start_time": "2022-04-26T09:22:25.148Z"
   },
   {
    "duration": 23,
    "start_time": "2022-04-26T09:22:25.204Z"
   },
   {
    "duration": 22,
    "start_time": "2022-04-26T09:22:25.229Z"
   },
   {
    "duration": 9,
    "start_time": "2022-04-26T09:22:25.283Z"
   },
   {
    "duration": 17,
    "start_time": "2022-04-26T09:22:25.294Z"
   },
   {
    "duration": 20,
    "start_time": "2022-04-26T09:22:25.313Z"
   },
   {
    "duration": 75,
    "start_time": "2022-04-26T09:22:25.335Z"
   },
   {
    "duration": 8,
    "start_time": "2022-04-26T09:22:25.412Z"
   },
   {
    "duration": 13,
    "start_time": "2022-04-26T09:22:25.423Z"
   },
   {
    "duration": 52,
    "start_time": "2022-04-26T09:22:25.438Z"
   },
   {
    "duration": 19,
    "start_time": "2022-04-26T09:25:54.876Z"
   },
   {
    "duration": 42,
    "start_time": "2022-04-26T09:29:20.586Z"
   },
   {
    "duration": 20,
    "start_time": "2022-04-26T09:30:09.292Z"
   },
   {
    "duration": 20,
    "start_time": "2022-04-26T09:30:17.450Z"
   },
   {
    "duration": 20,
    "start_time": "2022-04-26T09:30:26.930Z"
   },
   {
    "duration": 24,
    "start_time": "2022-04-26T09:31:00.211Z"
   },
   {
    "duration": 13,
    "start_time": "2022-04-26T09:31:08.730Z"
   },
   {
    "duration": 9,
    "start_time": "2022-04-26T09:31:17.777Z"
   },
   {
    "duration": 18,
    "start_time": "2022-04-26T09:31:35.369Z"
   },
   {
    "duration": 30,
    "start_time": "2022-04-26T09:42:24.012Z"
   },
   {
    "duration": 6,
    "start_time": "2022-04-26T09:42:55.895Z"
   },
   {
    "duration": 32,
    "start_time": "2022-04-26T09:43:00.029Z"
   },
   {
    "duration": 98,
    "start_time": "2022-04-26T09:49:18.608Z"
   },
   {
    "duration": 32,
    "start_time": "2022-04-26T09:49:23.466Z"
   },
   {
    "duration": 28,
    "start_time": "2022-04-26T09:56:21.151Z"
   },
   {
    "duration": 121,
    "start_time": "2022-04-26T09:56:35.264Z"
   },
   {
    "duration": 18,
    "start_time": "2022-04-26T09:56:49.198Z"
   },
   {
    "duration": 28,
    "start_time": "2022-04-26T09:57:14.497Z"
   },
   {
    "duration": 37,
    "start_time": "2022-04-26T09:58:30.534Z"
   },
   {
    "duration": 27,
    "start_time": "2022-04-26T09:59:34.701Z"
   },
   {
    "duration": 9,
    "start_time": "2022-04-26T10:02:01.495Z"
   },
   {
    "duration": 2072,
    "start_time": "2022-04-26T10:02:07.260Z"
   },
   {
    "duration": 282,
    "start_time": "2022-04-26T10:02:46.356Z"
   },
   {
    "duration": 130,
    "start_time": "2022-04-26T10:04:57.299Z"
   },
   {
    "duration": 556,
    "start_time": "2022-04-26T10:05:06.172Z"
   },
   {
    "duration": 501,
    "start_time": "2022-04-26T10:05:15.522Z"
   },
   {
    "duration": 777,
    "start_time": "2022-04-26T10:05:46.295Z"
   },
   {
    "duration": 878,
    "start_time": "2022-04-26T10:06:00.258Z"
   },
   {
    "duration": 1005,
    "start_time": "2022-04-26T10:06:06.770Z"
   },
   {
    "duration": 972,
    "start_time": "2022-04-26T10:07:21.475Z"
   },
   {
    "duration": 1002,
    "start_time": "2022-04-26T10:07:29.562Z"
   },
   {
    "duration": 1821,
    "start_time": "2022-04-26T10:11:20.022Z"
   },
   {
    "duration": 7,
    "start_time": "2022-04-26T10:12:43.725Z"
   },
   {
    "duration": 22,
    "start_time": "2022-04-26T10:12:54.195Z"
   },
   {
    "duration": 5,
    "start_time": "2022-04-26T10:13:02.598Z"
   },
   {
    "duration": 22,
    "start_time": "2022-04-26T10:13:03.527Z"
   },
   {
    "duration": 590,
    "start_time": "2022-04-26T10:17:28.237Z"
   },
   {
    "duration": 197,
    "start_time": "2022-04-26T10:17:44.495Z"
   },
   {
    "duration": 239,
    "start_time": "2022-04-26T10:19:34.334Z"
   },
   {
    "duration": 608,
    "start_time": "2022-04-26T10:24:40.368Z"
   },
   {
    "duration": 311,
    "start_time": "2022-04-26T10:28:25.736Z"
   },
   {
    "duration": 430,
    "start_time": "2022-04-26T10:28:44.440Z"
   },
   {
    "duration": 47,
    "start_time": "2022-04-26T10:33:25.626Z"
   },
   {
    "duration": 48,
    "start_time": "2022-04-26T10:33:38.064Z"
   },
   {
    "duration": 1019,
    "start_time": "2022-04-26T10:35:11.795Z"
   },
   {
    "duration": 24,
    "start_time": "2022-04-26T10:35:27.995Z"
   },
   {
    "duration": 78,
    "start_time": "2022-04-26T10:36:00.514Z"
   },
   {
    "duration": 4,
    "start_time": "2022-04-26T10:37:15.655Z"
   },
   {
    "duration": 2493,
    "start_time": "2022-04-26T10:38:37.495Z"
   },
   {
    "duration": 266,
    "start_time": "2022-04-26T10:39:23.472Z"
   },
   {
    "duration": 232,
    "start_time": "2022-04-26T10:39:48.595Z"
   },
   {
    "duration": 252,
    "start_time": "2022-04-26T10:40:14.429Z"
   },
   {
    "duration": 47,
    "start_time": "2022-04-26T10:40:48.237Z"
   },
   {
    "duration": 2137,
    "start_time": "2022-04-26T10:40:51.555Z"
   },
   {
    "duration": 78,
    "start_time": "2022-04-26T10:43:15.748Z"
   },
   {
    "duration": 163,
    "start_time": "2022-04-26T10:54:56.815Z"
   },
   {
    "duration": 185,
    "start_time": "2022-04-26T10:56:17.364Z"
   },
   {
    "duration": 1073,
    "start_time": "2022-04-26T10:57:29.421Z"
   },
   {
    "duration": 5,
    "start_time": "2022-04-26T10:58:05.204Z"
   },
   {
    "duration": 939,
    "start_time": "2022-04-26T10:58:09.458Z"
   },
   {
    "duration": 1079,
    "start_time": "2022-04-26T11:05:38.264Z"
   },
   {
    "duration": 1269,
    "start_time": "2022-04-26T11:06:06.831Z"
   },
   {
    "duration": 6,
    "start_time": "2022-04-26T11:07:06.375Z"
   },
   {
    "duration": 29,
    "start_time": "2022-04-26T11:07:38.399Z"
   },
   {
    "duration": 1116,
    "start_time": "2022-04-26T11:07:41.005Z"
   },
   {
    "duration": 9,
    "start_time": "2022-04-26T11:07:45.782Z"
   },
   {
    "duration": 23,
    "start_time": "2022-04-26T11:07:46.110Z"
   },
   {
    "duration": 186,
    "start_time": "2022-04-26T11:07:47.055Z"
   },
   {
    "duration": 6,
    "start_time": "2022-04-26T11:08:03.054Z"
   },
   {
    "duration": 26,
    "start_time": "2022-04-26T11:09:03.495Z"
   },
   {
    "duration": 6,
    "start_time": "2022-04-26T11:09:36.630Z"
   },
   {
    "duration": 22,
    "start_time": "2022-04-26T11:09:37.142Z"
   },
   {
    "duration": 27,
    "start_time": "2022-04-26T11:09:37.796Z"
   },
   {
    "duration": 1291,
    "start_time": "2022-04-26T11:10:01.326Z"
   },
   {
    "duration": 129,
    "start_time": "2022-04-26T11:10:22.216Z"
   },
   {
    "duration": 1392,
    "start_time": "2022-04-26T11:10:27.245Z"
   },
   {
    "duration": 1422,
    "start_time": "2022-04-26T11:11:28.405Z"
   },
   {
    "duration": 1127,
    "start_time": "2022-04-26T11:11:43.174Z"
   },
   {
    "duration": 1415,
    "start_time": "2022-04-26T11:15:50.131Z"
   },
   {
    "duration": 1127,
    "start_time": "2022-04-26T11:16:07.524Z"
   },
   {
    "duration": 582,
    "start_time": "2022-04-26T11:21:16.512Z"
   },
   {
    "duration": 50,
    "start_time": "2022-04-26T11:21:42.546Z"
   },
   {
    "duration": 315,
    "start_time": "2022-04-26T11:21:50.433Z"
   },
   {
    "duration": 1324,
    "start_time": "2022-04-26T11:21:58.642Z"
   },
   {
    "duration": 186,
    "start_time": "2022-04-26T11:22:51.200Z"
   },
   {
    "duration": 1221,
    "start_time": "2022-04-26T11:24:53.079Z"
   },
   {
    "duration": 975,
    "start_time": "2022-05-05T07:14:35.399Z"
   },
   {
    "duration": 58,
    "start_time": "2022-05-05T07:14:36.377Z"
   },
   {
    "duration": 20,
    "start_time": "2022-05-05T07:14:36.437Z"
   },
   {
    "duration": 36,
    "start_time": "2022-05-05T07:14:36.459Z"
   },
   {
    "duration": 4,
    "start_time": "2022-05-05T07:14:36.497Z"
   },
   {
    "duration": 27,
    "start_time": "2022-05-05T07:14:36.502Z"
   },
   {
    "duration": 30,
    "start_time": "2022-05-05T07:14:36.531Z"
   },
   {
    "duration": 16,
    "start_time": "2022-05-05T07:14:36.563Z"
   },
   {
    "duration": 14,
    "start_time": "2022-05-05T07:14:36.581Z"
   },
   {
    "duration": 26,
    "start_time": "2022-05-05T07:14:36.597Z"
   },
   {
    "duration": 26,
    "start_time": "2022-05-05T07:14:36.625Z"
   },
   {
    "duration": 24,
    "start_time": "2022-05-05T07:14:36.654Z"
   },
   {
    "duration": 24,
    "start_time": "2022-05-05T07:14:36.680Z"
   },
   {
    "duration": 10,
    "start_time": "2022-05-05T07:14:36.706Z"
   },
   {
    "duration": 26,
    "start_time": "2022-05-05T07:14:36.717Z"
   },
   {
    "duration": 24,
    "start_time": "2022-05-05T07:14:36.745Z"
   },
   {
    "duration": 16,
    "start_time": "2022-05-05T07:14:36.771Z"
   },
   {
    "duration": 38,
    "start_time": "2022-05-05T07:14:36.789Z"
   },
   {
    "duration": 37,
    "start_time": "2022-05-05T07:14:36.829Z"
   },
   {
    "duration": 20,
    "start_time": "2022-05-05T07:14:36.868Z"
   },
   {
    "duration": 32,
    "start_time": "2022-05-05T07:14:36.890Z"
   },
   {
    "duration": 6,
    "start_time": "2022-05-05T07:14:36.924Z"
   },
   {
    "duration": 49,
    "start_time": "2022-05-05T07:14:36.933Z"
   },
   {
    "duration": 24,
    "start_time": "2022-05-05T07:14:36.983Z"
   },
   {
    "duration": 31,
    "start_time": "2022-05-05T07:14:37.009Z"
   },
   {
    "duration": 725,
    "start_time": "2022-05-05T07:14:37.042Z"
   },
   {
    "duration": 5,
    "start_time": "2022-05-05T07:14:37.769Z"
   },
   {
    "duration": 43,
    "start_time": "2022-05-05T07:14:37.776Z"
   },
   {
    "duration": 35,
    "start_time": "2022-05-05T07:14:37.821Z"
   },
   {
    "duration": 752,
    "start_time": "2022-05-05T07:14:37.858Z"
   },
   {
    "duration": 204,
    "start_time": "2022-05-05T07:14:38.612Z"
   },
   {
    "duration": 135,
    "start_time": "2022-05-05T07:14:38.817Z"
   },
   {
    "duration": 98,
    "start_time": "2022-05-05T07:16:34.866Z"
   },
   {
    "duration": 131,
    "start_time": "2022-05-05T07:18:14.378Z"
   },
   {
    "duration": 160,
    "start_time": "2022-05-05T07:18:24.605Z"
   },
   {
    "duration": 103,
    "start_time": "2022-05-05T07:19:46.396Z"
   },
   {
    "duration": 110,
    "start_time": "2022-05-05T07:19:56.071Z"
   },
   {
    "duration": 201,
    "start_time": "2022-05-05T07:20:06.252Z"
   },
   {
    "duration": 114,
    "start_time": "2022-05-05T07:20:17.028Z"
   },
   {
    "duration": 113,
    "start_time": "2022-05-05T07:20:29.636Z"
   },
   {
    "duration": 122,
    "start_time": "2022-05-05T07:22:58.990Z"
   },
   {
    "duration": 132,
    "start_time": "2022-05-05T07:23:09.606Z"
   },
   {
    "duration": 114,
    "start_time": "2022-05-05T07:23:17.453Z"
   },
   {
    "duration": 96,
    "start_time": "2022-05-05T07:23:29.941Z"
   },
   {
    "duration": 3586,
    "start_time": "2022-05-05T07:32:42.065Z"
   },
   {
    "duration": 1016,
    "start_time": "2022-05-05T07:33:01.243Z"
   },
   {
    "duration": 816,
    "start_time": "2022-05-05T07:33:11.297Z"
   },
   {
    "duration": 696,
    "start_time": "2022-05-05T07:33:19.152Z"
   },
   {
    "duration": 840,
    "start_time": "2022-05-05T07:33:25.913Z"
   },
   {
    "duration": 1809,
    "start_time": "2022-05-05T07:34:20.065Z"
   },
   {
    "duration": 1636,
    "start_time": "2022-05-05T07:34:46.505Z"
   },
   {
    "duration": 873,
    "start_time": "2022-05-05T07:35:28.956Z"
   },
   {
    "duration": 1095,
    "start_time": "2022-05-05T07:35:37.099Z"
   },
   {
    "duration": 239,
    "start_time": "2022-05-05T07:38:01.348Z"
   },
   {
    "duration": 1056,
    "start_time": "2022-05-05T07:38:18.741Z"
   },
   {
    "duration": 593,
    "start_time": "2022-05-05T07:38:53.055Z"
   },
   {
    "duration": 972,
    "start_time": "2022-05-05T07:39:06.476Z"
   },
   {
    "duration": 131,
    "start_time": "2022-05-05T07:39:39.196Z"
   },
   {
    "duration": 971,
    "start_time": "2022-05-05T07:40:15.829Z"
   },
   {
    "duration": 672,
    "start_time": "2022-05-05T07:40:44.820Z"
   },
   {
    "duration": 863,
    "start_time": "2022-05-05T07:41:44.949Z"
   },
   {
    "duration": 75,
    "start_time": "2022-05-05T07:41:45.814Z"
   },
   {
    "duration": 29,
    "start_time": "2022-05-05T07:41:45.894Z"
   },
   {
    "duration": 39,
    "start_time": "2022-05-05T07:41:45.925Z"
   },
   {
    "duration": 6,
    "start_time": "2022-05-05T07:41:45.966Z"
   },
   {
    "duration": 9,
    "start_time": "2022-05-05T07:41:45.974Z"
   },
   {
    "duration": 39,
    "start_time": "2022-05-05T07:41:45.985Z"
   },
   {
    "duration": 17,
    "start_time": "2022-05-05T07:41:46.026Z"
   },
   {
    "duration": 16,
    "start_time": "2022-05-05T07:41:46.047Z"
   },
   {
    "duration": 8,
    "start_time": "2022-05-05T07:41:46.066Z"
   },
   {
    "duration": 48,
    "start_time": "2022-05-05T07:41:46.075Z"
   },
   {
    "duration": 15,
    "start_time": "2022-05-05T07:41:46.125Z"
   },
   {
    "duration": 24,
    "start_time": "2022-05-05T07:41:46.142Z"
   },
   {
    "duration": 5,
    "start_time": "2022-05-05T07:41:46.168Z"
   },
   {
    "duration": 48,
    "start_time": "2022-05-05T07:41:46.175Z"
   },
   {
    "duration": 16,
    "start_time": "2022-05-05T07:41:46.225Z"
   },
   {
    "duration": 14,
    "start_time": "2022-05-05T07:41:46.243Z"
   },
   {
    "duration": 13,
    "start_time": "2022-05-05T07:41:46.259Z"
   },
   {
    "duration": 14,
    "start_time": "2022-05-05T07:41:46.274Z"
   },
   {
    "duration": 8,
    "start_time": "2022-05-05T07:41:46.322Z"
   },
   {
    "duration": 18,
    "start_time": "2022-05-05T07:41:46.331Z"
   },
   {
    "duration": 6,
    "start_time": "2022-05-05T07:41:46.350Z"
   },
   {
    "duration": 22,
    "start_time": "2022-05-05T07:41:46.358Z"
   },
   {
    "duration": 49,
    "start_time": "2022-05-05T07:41:46.382Z"
   },
   {
    "duration": 18,
    "start_time": "2022-05-05T07:41:46.433Z"
   },
   {
    "duration": 646,
    "start_time": "2022-05-05T07:41:46.453Z"
   },
   {
    "duration": 5,
    "start_time": "2022-05-05T07:41:47.101Z"
   },
   {
    "duration": 27,
    "start_time": "2022-05-05T07:41:47.109Z"
   },
   {
    "duration": 19,
    "start_time": "2022-05-05T07:41:47.137Z"
   },
   {
    "duration": 717,
    "start_time": "2022-05-05T07:41:47.159Z"
   },
   {
    "duration": 202,
    "start_time": "2022-05-05T07:41:47.878Z"
   },
   {
    "duration": 112,
    "start_time": "2022-05-05T07:41:48.082Z"
   },
   {
    "duration": 888,
    "start_time": "2022-05-05T07:41:48.196Z"
   },
   {
    "duration": 1320,
    "start_time": "2022-05-05T07:41:49.087Z"
   },
   {
    "duration": 982,
    "start_time": "2022-05-05T07:42:07.263Z"
   },
   {
    "duration": 24,
    "start_time": "2022-05-05T07:49:50.610Z"
   },
   {
    "duration": 2821,
    "start_time": "2022-05-05T07:51:03.596Z"
   },
   {
    "duration": 19,
    "start_time": "2022-05-05T07:52:16.156Z"
   },
   {
    "duration": 25,
    "start_time": "2022-05-05T07:52:32.604Z"
   },
   {
    "duration": 144,
    "start_time": "2022-05-05T07:52:37.403Z"
   },
   {
    "duration": 11,
    "start_time": "2022-05-05T07:53:03.438Z"
   },
   {
    "duration": 19,
    "start_time": "2022-05-05T07:53:11.498Z"
   },
   {
    "duration": 216,
    "start_time": "2022-05-05T07:53:21.323Z"
   },
   {
    "duration": 11,
    "start_time": "2022-05-05T07:56:42.071Z"
   },
   {
    "duration": 13,
    "start_time": "2022-05-05T07:57:08.781Z"
   },
   {
    "duration": 187,
    "start_time": "2022-05-05T07:57:47.847Z"
   },
   {
    "duration": 4,
    "start_time": "2022-05-05T07:58:26.390Z"
   },
   {
    "duration": 152,
    "start_time": "2022-05-05T07:58:29.559Z"
   },
   {
    "duration": 5,
    "start_time": "2022-05-05T07:58:31.438Z"
   },
   {
    "duration": 4,
    "start_time": "2022-05-05T07:58:44.573Z"
   },
   {
    "duration": 143,
    "start_time": "2022-05-05T07:59:05.526Z"
   },
   {
    "duration": 21,
    "start_time": "2022-05-05T07:59:07.232Z"
   },
   {
    "duration": 16,
    "start_time": "2022-05-05T07:59:14.389Z"
   },
   {
    "duration": 150,
    "start_time": "2022-05-05T07:59:17.659Z"
   },
   {
    "duration": 102,
    "start_time": "2022-05-05T07:59:33.589Z"
   },
   {
    "duration": 5,
    "start_time": "2022-05-05T08:03:41.576Z"
   },
   {
    "duration": 8,
    "start_time": "2022-05-05T08:04:23.507Z"
   },
   {
    "duration": 8,
    "start_time": "2022-05-05T08:04:36.576Z"
   },
   {
    "duration": 3,
    "start_time": "2022-05-05T08:04:52.800Z"
   },
   {
    "duration": 5,
    "start_time": "2022-05-05T08:04:58.257Z"
   },
   {
    "duration": 5,
    "start_time": "2022-05-11T07:00:17.311Z"
   },
   {
    "duration": 90,
    "start_time": "2022-05-11T07:02:24.061Z"
   },
   {
    "duration": 1225,
    "start_time": "2022-05-11T07:02:33.295Z"
   },
   {
    "duration": 79,
    "start_time": "2022-05-11T07:02:34.523Z"
   },
   {
    "duration": 38,
    "start_time": "2022-05-11T07:02:34.605Z"
   },
   {
    "duration": 43,
    "start_time": "2022-05-11T07:02:34.647Z"
   },
   {
    "duration": 39,
    "start_time": "2022-05-11T07:02:34.692Z"
   },
   {
    "duration": 17,
    "start_time": "2022-05-11T07:02:34.734Z"
   },
   {
    "duration": 22,
    "start_time": "2022-05-11T07:02:34.753Z"
   },
   {
    "duration": 55,
    "start_time": "2022-05-11T07:02:34.778Z"
   },
   {
    "duration": 26,
    "start_time": "2022-05-11T07:02:34.836Z"
   },
   {
    "duration": 20,
    "start_time": "2022-05-11T07:02:34.866Z"
   },
   {
    "duration": 43,
    "start_time": "2022-05-11T07:02:34.888Z"
   },
   {
    "duration": 22,
    "start_time": "2022-05-11T07:02:34.935Z"
   },
   {
    "duration": 37,
    "start_time": "2022-05-11T07:02:34.959Z"
   },
   {
    "duration": 27,
    "start_time": "2022-05-11T07:02:34.998Z"
   },
   {
    "duration": 24,
    "start_time": "2022-05-11T07:02:35.029Z"
   },
   {
    "duration": 28,
    "start_time": "2022-05-11T07:02:35.055Z"
   },
   {
    "duration": 18,
    "start_time": "2022-05-11T07:02:35.086Z"
   },
   {
    "duration": 37,
    "start_time": "2022-05-11T07:02:35.106Z"
   },
   {
    "duration": 23,
    "start_time": "2022-05-11T07:02:35.146Z"
   },
   {
    "duration": 38,
    "start_time": "2022-05-11T07:02:35.172Z"
   },
   {
    "duration": 38,
    "start_time": "2022-05-11T07:02:35.213Z"
   },
   {
    "duration": 17,
    "start_time": "2022-05-11T07:02:35.253Z"
   },
   {
    "duration": 52,
    "start_time": "2022-05-11T07:02:35.272Z"
   },
   {
    "duration": 39,
    "start_time": "2022-05-11T07:02:35.327Z"
   },
   {
    "duration": 27,
    "start_time": "2022-05-11T07:02:35.369Z"
   },
   {
    "duration": 1137,
    "start_time": "2022-05-11T07:02:35.398Z"
   },
   {
    "duration": 6,
    "start_time": "2022-05-11T07:02:36.538Z"
   },
   {
    "duration": 21,
    "start_time": "2022-05-11T07:02:36.549Z"
   },
   {
    "duration": 27,
    "start_time": "2022-05-11T07:02:36.572Z"
   },
   {
    "duration": 1205,
    "start_time": "2022-05-11T07:02:36.601Z"
   },
   {
    "duration": 349,
    "start_time": "2022-05-11T07:02:37.808Z"
   },
   {
    "duration": 178,
    "start_time": "2022-05-11T07:02:38.160Z"
   },
   {
    "duration": 1092,
    "start_time": "2022-05-11T07:02:38.341Z"
   },
   {
    "duration": 1303,
    "start_time": "2022-05-11T07:02:39.436Z"
   },
   {
    "duration": 243,
    "start_time": "2022-05-11T07:02:40.742Z"
   },
   {
    "duration": 176,
    "start_time": "2022-05-11T07:02:40.987Z"
   },
   {
    "duration": 7,
    "start_time": "2022-05-11T07:02:41.165Z"
   },
   {
    "duration": 64,
    "start_time": "2022-05-11T07:02:41.174Z"
   },
   {
    "duration": 2465,
    "start_time": "2022-05-11T07:02:41.242Z"
   },
   {
    "duration": 42,
    "start_time": "2022-05-11T07:04:03.518Z"
   },
   {
    "duration": 18,
    "start_time": "2022-05-11T07:04:16.176Z"
   },
   {
    "duration": 31,
    "start_time": "2022-05-11T07:05:01.327Z"
   },
   {
    "duration": 29,
    "start_time": "2022-05-11T07:05:59.632Z"
   },
   {
    "duration": 22,
    "start_time": "2022-05-11T07:06:02.442Z"
   },
   {
    "duration": 22,
    "start_time": "2022-05-11T07:06:35.164Z"
   },
   {
    "duration": 31,
    "start_time": "2022-05-11T07:06:56.812Z"
   },
   {
    "duration": 13,
    "start_time": "2022-05-11T07:19:02.094Z"
   },
   {
    "duration": 58,
    "start_time": "2022-05-11T07:20:29.518Z"
   },
   {
    "duration": 51,
    "start_time": "2022-05-11T07:21:17.174Z"
   },
   {
    "duration": 45,
    "start_time": "2022-05-11T07:21:39.070Z"
   },
   {
    "duration": 59,
    "start_time": "2022-05-11T07:22:06.702Z"
   },
   {
    "duration": 202,
    "start_time": "2022-05-11T07:23:53.845Z"
   },
   {
    "duration": 95,
    "start_time": "2022-05-11T07:25:24.165Z"
   },
   {
    "duration": 43,
    "start_time": "2022-05-11T07:27:08.572Z"
   },
   {
    "duration": 239,
    "start_time": "2022-05-11T07:27:37.668Z"
   },
   {
    "duration": 25,
    "start_time": "2022-05-11T07:28:17.787Z"
   },
   {
    "duration": 26,
    "start_time": "2022-05-11T07:29:40.699Z"
   },
   {
    "duration": 17,
    "start_time": "2022-05-11T07:30:17.533Z"
   },
   {
    "duration": 16,
    "start_time": "2022-05-11T07:30:30.650Z"
   },
   {
    "duration": 25,
    "start_time": "2022-05-11T07:30:45.322Z"
   },
   {
    "duration": 133,
    "start_time": "2022-05-11T07:31:03.931Z"
   },
   {
    "duration": 19,
    "start_time": "2022-05-11T07:31:20.353Z"
   },
   {
    "duration": 23,
    "start_time": "2022-05-11T07:34:09.096Z"
   },
   {
    "duration": 26,
    "start_time": "2022-05-11T07:34:39.008Z"
   },
   {
    "duration": 24,
    "start_time": "2022-05-11T07:34:41.338Z"
   },
   {
    "duration": 25,
    "start_time": "2022-05-11T07:39:04.133Z"
   },
   {
    "duration": 4,
    "start_time": "2022-05-11T07:40:06.478Z"
   },
   {
    "duration": 23,
    "start_time": "2022-05-11T07:41:00.054Z"
   },
   {
    "duration": 24,
    "start_time": "2022-05-11T07:41:02.589Z"
   },
   {
    "duration": 24,
    "start_time": "2022-05-11T07:52:30.589Z"
   },
   {
    "duration": 23,
    "start_time": "2022-05-11T07:53:10.342Z"
   },
   {
    "duration": 10,
    "start_time": "2022-05-11T08:01:12.716Z"
   },
   {
    "duration": 22,
    "start_time": "2022-05-11T08:01:17.857Z"
   },
   {
    "duration": 7,
    "start_time": "2022-05-11T08:02:00.873Z"
   },
   {
    "duration": 34,
    "start_time": "2022-05-11T08:02:08.640Z"
   },
   {
    "duration": 7,
    "start_time": "2022-05-11T08:02:37.265Z"
   },
   {
    "duration": 12,
    "start_time": "2022-05-11T08:03:57.064Z"
   },
   {
    "duration": 549,
    "start_time": "2022-05-11T08:04:25.339Z"
   },
   {
    "duration": 7,
    "start_time": "2022-05-11T08:04:31.065Z"
   },
   {
    "duration": 7,
    "start_time": "2022-05-11T08:09:19.759Z"
   },
   {
    "duration": 10,
    "start_time": "2022-05-11T08:09:47.198Z"
   },
   {
    "duration": 135,
    "start_time": "2022-05-11T08:36:00.268Z"
   },
   {
    "duration": 1511,
    "start_time": "2022-05-11T08:37:05.901Z"
   },
   {
    "duration": 82,
    "start_time": "2022-05-11T08:37:07.414Z"
   },
   {
    "duration": 40,
    "start_time": "2022-05-11T08:37:07.498Z"
   },
   {
    "duration": 40,
    "start_time": "2022-05-11T08:37:07.542Z"
   },
   {
    "duration": 6,
    "start_time": "2022-05-11T08:37:07.584Z"
   },
   {
    "duration": 37,
    "start_time": "2022-05-11T08:37:07.593Z"
   },
   {
    "duration": 25,
    "start_time": "2022-05-11T08:37:07.634Z"
   },
   {
    "duration": 23,
    "start_time": "2022-05-11T08:37:07.661Z"
   },
   {
    "duration": 66,
    "start_time": "2022-05-11T08:37:07.686Z"
   },
   {
    "duration": 11,
    "start_time": "2022-05-11T08:37:07.756Z"
   },
   {
    "duration": 22,
    "start_time": "2022-05-11T08:37:07.769Z"
   },
   {
    "duration": 49,
    "start_time": "2022-05-11T08:37:07.793Z"
   },
   {
    "duration": 38,
    "start_time": "2022-05-11T08:37:07.844Z"
   },
   {
    "duration": 9,
    "start_time": "2022-05-11T08:37:07.885Z"
   },
   {
    "duration": 51,
    "start_time": "2022-05-11T08:37:07.897Z"
   },
   {
    "duration": 22,
    "start_time": "2022-05-11T08:37:07.951Z"
   },
   {
    "duration": 19,
    "start_time": "2022-05-11T08:37:07.976Z"
   },
   {
    "duration": 36,
    "start_time": "2022-05-11T08:37:07.997Z"
   },
   {
    "duration": 14,
    "start_time": "2022-05-11T08:37:08.038Z"
   },
   {
    "duration": 15,
    "start_time": "2022-05-11T08:37:08.055Z"
   },
   {
    "duration": 22,
    "start_time": "2022-05-11T08:37:08.072Z"
   },
   {
    "duration": 12,
    "start_time": "2022-05-11T08:37:08.129Z"
   },
   {
    "duration": 33,
    "start_time": "2022-05-11T08:37:08.143Z"
   },
   {
    "duration": 56,
    "start_time": "2022-05-11T08:37:08.179Z"
   },
   {
    "duration": 26,
    "start_time": "2022-05-11T08:37:08.240Z"
   },
   {
    "duration": 1040,
    "start_time": "2022-05-11T08:37:08.268Z"
   },
   {
    "duration": 5,
    "start_time": "2022-05-11T08:37:09.310Z"
   },
   {
    "duration": 23,
    "start_time": "2022-05-11T08:37:09.333Z"
   },
   {
    "duration": 27,
    "start_time": "2022-05-11T08:37:09.358Z"
   },
   {
    "duration": 1183,
    "start_time": "2022-05-11T08:37:09.387Z"
   },
   {
    "duration": 347,
    "start_time": "2022-05-11T08:37:10.572Z"
   },
   {
    "duration": 173,
    "start_time": "2022-05-11T08:37:10.930Z"
   },
   {
    "duration": 1161,
    "start_time": "2022-05-11T08:37:11.105Z"
   },
   {
    "duration": 1147,
    "start_time": "2022-05-11T08:37:12.268Z"
   },
   {
    "duration": 326,
    "start_time": "2022-05-11T08:37:13.418Z"
   },
   {
    "duration": 164,
    "start_time": "2022-05-11T08:37:13.747Z"
   },
   {
    "duration": 17,
    "start_time": "2022-05-11T08:37:13.913Z"
   },
   {
    "duration": 34,
    "start_time": "2022-05-11T08:37:13.933Z"
   },
   {
    "duration": 57,
    "start_time": "2022-05-11T08:37:13.970Z"
   },
   {
    "duration": 27,
    "start_time": "2022-05-11T08:37:14.033Z"
   },
   {
    "duration": 22,
    "start_time": "2022-05-11T08:37:14.062Z"
   },
   {
    "duration": 55,
    "start_time": "2022-05-11T08:37:14.086Z"
   },
   {
    "duration": 17,
    "start_time": "2022-05-11T08:37:14.143Z"
   },
   {
    "duration": 22,
    "start_time": "2022-05-11T08:37:14.162Z"
   },
   {
    "duration": 61,
    "start_time": "2022-05-11T08:37:14.187Z"
   },
   {
    "duration": 23,
    "start_time": "2022-05-11T08:37:14.250Z"
   },
   {
    "duration": 40,
    "start_time": "2022-05-11T08:37:14.275Z"
   },
   {
    "duration": 26,
    "start_time": "2022-05-11T08:37:14.332Z"
   },
   {
    "duration": 22,
    "start_time": "2022-05-11T08:37:14.361Z"
   },
   {
    "duration": 53,
    "start_time": "2022-05-11T08:37:14.385Z"
   },
   {
    "duration": 6,
    "start_time": "2022-05-11T08:37:14.440Z"
   },
   {
    "duration": 16,
    "start_time": "2022-05-11T08:37:14.449Z"
   },
   {
    "duration": 16,
    "start_time": "2022-05-11T08:37:14.468Z"
   },
   {
    "duration": 11,
    "start_time": "2022-05-11T08:37:14.486Z"
   },
   {
    "duration": 1451,
    "start_time": "2022-05-11T17:13:27.038Z"
   },
   {
    "duration": 68,
    "start_time": "2022-05-11T17:13:28.492Z"
   },
   {
    "duration": 20,
    "start_time": "2022-05-11T17:13:28.562Z"
   },
   {
    "duration": 64,
    "start_time": "2022-05-11T17:13:28.585Z"
   },
   {
    "duration": 8,
    "start_time": "2022-05-11T17:13:28.653Z"
   },
   {
    "duration": 15,
    "start_time": "2022-05-11T17:13:28.664Z"
   },
   {
    "duration": 53,
    "start_time": "2022-05-11T17:13:28.682Z"
   },
   {
    "duration": 25,
    "start_time": "2022-05-11T17:13:28.738Z"
   },
   {
    "duration": 22,
    "start_time": "2022-05-11T17:13:28.765Z"
   },
   {
    "duration": 35,
    "start_time": "2022-05-11T17:13:28.790Z"
   },
   {
    "duration": 31,
    "start_time": "2022-05-11T17:13:28.828Z"
   },
   {
    "duration": 19,
    "start_time": "2022-05-11T17:13:28.861Z"
   },
   {
    "duration": 58,
    "start_time": "2022-05-11T17:13:28.884Z"
   },
   {
    "duration": 7,
    "start_time": "2022-05-11T17:13:28.949Z"
   },
   {
    "duration": 14,
    "start_time": "2022-05-11T17:13:28.958Z"
   },
   {
    "duration": 61,
    "start_time": "2022-05-11T17:13:28.975Z"
   },
   {
    "duration": 21,
    "start_time": "2022-05-11T17:13:29.039Z"
   },
   {
    "duration": 20,
    "start_time": "2022-05-11T17:13:29.062Z"
   },
   {
    "duration": 42,
    "start_time": "2022-05-11T17:13:29.085Z"
   },
   {
    "duration": 13,
    "start_time": "2022-05-11T17:13:29.130Z"
   },
   {
    "duration": 24,
    "start_time": "2022-05-11T17:13:29.146Z"
   },
   {
    "duration": 7,
    "start_time": "2022-05-11T17:13:29.172Z"
   },
   {
    "duration": 71,
    "start_time": "2022-05-11T17:13:29.181Z"
   },
   {
    "duration": 32,
    "start_time": "2022-05-11T17:13:29.254Z"
   },
   {
    "duration": 54,
    "start_time": "2022-05-11T17:13:29.289Z"
   },
   {
    "duration": 978,
    "start_time": "2022-05-11T17:13:29.345Z"
   },
   {
    "duration": 6,
    "start_time": "2022-05-11T17:13:30.325Z"
   },
   {
    "duration": 27,
    "start_time": "2022-05-11T17:13:30.333Z"
   },
   {
    "duration": 30,
    "start_time": "2022-05-11T17:13:30.363Z"
   },
   {
    "duration": 1246,
    "start_time": "2022-05-11T17:13:30.396Z"
   },
   {
    "duration": 345,
    "start_time": "2022-05-11T17:13:31.645Z"
   },
   {
    "duration": 195,
    "start_time": "2022-05-11T17:13:31.992Z"
   },
   {
    "duration": 1174,
    "start_time": "2022-05-11T17:13:32.189Z"
   },
   {
    "duration": 1137,
    "start_time": "2022-05-11T17:13:33.366Z"
   },
   {
    "duration": 222,
    "start_time": "2022-05-11T17:13:34.505Z"
   },
   {
    "duration": 160,
    "start_time": "2022-05-11T17:13:34.729Z"
   },
   {
    "duration": 6,
    "start_time": "2022-05-11T17:13:34.892Z"
   },
   {
    "duration": 43,
    "start_time": "2022-05-11T17:13:34.900Z"
   },
   {
    "duration": 33,
    "start_time": "2022-05-11T17:13:34.945Z"
   },
   {
    "duration": 46,
    "start_time": "2022-05-11T17:13:34.980Z"
   },
   {
    "duration": 24,
    "start_time": "2022-05-11T17:13:35.032Z"
   },
   {
    "duration": 24,
    "start_time": "2022-05-11T17:13:35.058Z"
   },
   {
    "duration": 49,
    "start_time": "2022-05-11T17:13:35.084Z"
   },
   {
    "duration": 26,
    "start_time": "2022-05-11T17:13:35.135Z"
   },
   {
    "duration": 25,
    "start_time": "2022-05-11T17:13:35.164Z"
   },
   {
    "duration": 54,
    "start_time": "2022-05-11T17:13:35.192Z"
   },
   {
    "duration": 26,
    "start_time": "2022-05-11T17:13:35.249Z"
   },
   {
    "duration": 62,
    "start_time": "2022-05-11T17:13:35.277Z"
   },
   {
    "duration": 22,
    "start_time": "2022-05-11T17:13:35.342Z"
   },
   {
    "duration": 54,
    "start_time": "2022-05-11T17:13:35.366Z"
   },
   {
    "duration": 7,
    "start_time": "2022-05-11T17:13:35.422Z"
   },
   {
    "duration": 31,
    "start_time": "2022-05-11T17:13:35.431Z"
   },
   {
    "duration": 21,
    "start_time": "2022-05-11T17:13:35.465Z"
   },
   {
    "duration": 53,
    "start_time": "2022-05-11T17:13:35.488Z"
   },
   {
    "duration": 6,
    "start_time": "2022-05-11T17:26:38.132Z"
   },
   {
    "duration": 6,
    "start_time": "2022-05-11T17:26:50.083Z"
   },
   {
    "duration": 6,
    "start_time": "2022-05-11T17:27:22.277Z"
   },
   {
    "duration": 1670,
    "start_time": "2022-05-11T18:38:24.190Z"
   },
   {
    "duration": 274,
    "start_time": "2022-05-11T18:38:25.862Z"
   },
   {
    "duration": 23,
    "start_time": "2022-05-11T18:38:26.139Z"
   },
   {
    "duration": 66,
    "start_time": "2022-05-11T18:38:26.165Z"
   },
   {
    "duration": 24,
    "start_time": "2022-05-11T18:38:26.236Z"
   },
   {
    "duration": 6,
    "start_time": "2022-05-11T18:38:26.263Z"
   },
   {
    "duration": 8,
    "start_time": "2022-05-11T18:38:26.272Z"
   },
   {
    "duration": 56,
    "start_time": "2022-05-11T18:38:26.282Z"
   },
   {
    "duration": 6,
    "start_time": "2022-05-11T18:38:26.341Z"
   },
   {
    "duration": 27,
    "start_time": "2022-05-11T18:38:26.350Z"
   },
   {
    "duration": 56,
    "start_time": "2022-05-11T18:38:26.380Z"
   },
   {
    "duration": 12,
    "start_time": "2022-05-11T18:38:26.438Z"
   },
   {
    "duration": 18,
    "start_time": "2022-05-11T18:38:26.452Z"
   },
   {
    "duration": 54,
    "start_time": "2022-05-11T18:38:26.476Z"
   },
   {
    "duration": 17,
    "start_time": "2022-05-11T18:38:26.533Z"
   },
   {
    "duration": 32,
    "start_time": "2022-05-11T18:38:26.552Z"
   },
   {
    "duration": 43,
    "start_time": "2022-05-11T18:38:26.586Z"
   },
   {
    "duration": 14,
    "start_time": "2022-05-11T18:38:26.631Z"
   },
   {
    "duration": 20,
    "start_time": "2022-05-11T18:38:26.647Z"
   },
   {
    "duration": 23,
    "start_time": "2022-05-11T18:38:26.669Z"
   },
   {
    "duration": 49,
    "start_time": "2022-05-11T18:38:26.694Z"
   },
   {
    "duration": 18,
    "start_time": "2022-05-11T18:38:26.745Z"
   },
   {
    "duration": 14,
    "start_time": "2022-05-11T18:38:26.766Z"
   },
   {
    "duration": 47,
    "start_time": "2022-05-11T18:38:26.783Z"
   },
   {
    "duration": 23,
    "start_time": "2022-05-11T18:38:26.832Z"
   },
   {
    "duration": 7,
    "start_time": "2022-05-11T18:38:26.857Z"
   },
   {
    "duration": 60,
    "start_time": "2022-05-11T18:38:26.866Z"
   },
   {
    "duration": 31,
    "start_time": "2022-05-11T18:38:26.928Z"
   },
   {
    "duration": 30,
    "start_time": "2022-05-11T18:38:26.962Z"
   },
   {
    "duration": 1596,
    "start_time": "2022-05-11T18:38:26.995Z"
   },
   {
    "duration": 6,
    "start_time": "2022-05-11T18:38:28.593Z"
   },
   {
    "duration": 38,
    "start_time": "2022-05-11T18:38:28.601Z"
   },
   {
    "duration": 34,
    "start_time": "2022-05-11T18:38:28.641Z"
   },
   {
    "duration": 1130,
    "start_time": "2022-05-11T18:38:28.677Z"
   },
   {
    "duration": 318,
    "start_time": "2022-05-11T18:38:29.809Z"
   },
   {
    "duration": 176,
    "start_time": "2022-05-11T18:38:30.129Z"
   },
   {
    "duration": 1145,
    "start_time": "2022-05-11T18:38:30.307Z"
   },
   {
    "duration": 1169,
    "start_time": "2022-05-11T18:38:31.455Z"
   },
   {
    "duration": 215,
    "start_time": "2022-05-11T18:38:32.627Z"
   },
   {
    "duration": 245,
    "start_time": "2022-05-11T18:38:32.845Z"
   },
   {
    "duration": 8,
    "start_time": "2022-05-11T18:38:33.100Z"
   },
   {
    "duration": 32,
    "start_time": "2022-05-11T18:38:33.125Z"
   },
   {
    "duration": 50,
    "start_time": "2022-05-11T18:38:33.159Z"
   },
   {
    "duration": 35,
    "start_time": "2022-05-11T18:38:33.211Z"
   },
   {
    "duration": 34,
    "start_time": "2022-05-11T18:38:33.248Z"
   },
   {
    "duration": 47,
    "start_time": "2022-05-11T18:38:33.285Z"
   },
   {
    "duration": 19,
    "start_time": "2022-05-11T18:38:33.334Z"
   },
   {
    "duration": 47,
    "start_time": "2022-05-11T18:38:33.356Z"
   },
   {
    "duration": 37,
    "start_time": "2022-05-11T18:38:33.406Z"
   },
   {
    "duration": 27,
    "start_time": "2022-05-11T18:38:33.446Z"
   },
   {
    "duration": 51,
    "start_time": "2022-05-11T18:38:33.475Z"
   },
   {
    "duration": 25,
    "start_time": "2022-05-11T18:38:33.529Z"
   },
   {
    "duration": 29,
    "start_time": "2022-05-11T18:38:33.557Z"
   },
   {
    "duration": 50,
    "start_time": "2022-05-11T18:38:33.588Z"
   },
   {
    "duration": 6,
    "start_time": "2022-05-11T18:38:33.641Z"
   },
   {
    "duration": 33,
    "start_time": "2022-05-11T18:38:33.650Z"
   },
   {
    "duration": 15,
    "start_time": "2022-05-11T18:38:33.685Z"
   },
   {
    "duration": 30,
    "start_time": "2022-05-11T18:38:33.702Z"
   },
   {
    "duration": 1834,
    "start_time": "2022-05-11T18:43:48.847Z"
   },
   {
    "duration": 76,
    "start_time": "2022-05-11T18:43:50.685Z"
   },
   {
    "duration": 20,
    "start_time": "2022-05-11T18:43:50.764Z"
   },
   {
    "duration": 62,
    "start_time": "2022-05-11T18:43:50.787Z"
   },
   {
    "duration": 7,
    "start_time": "2022-05-11T18:43:50.853Z"
   },
   {
    "duration": 29,
    "start_time": "2022-05-11T18:43:50.863Z"
   },
   {
    "duration": 36,
    "start_time": "2022-05-11T18:43:50.895Z"
   },
   {
    "duration": 6,
    "start_time": "2022-05-11T18:43:50.933Z"
   },
   {
    "duration": 43,
    "start_time": "2022-05-11T18:43:50.942Z"
   },
   {
    "duration": 39,
    "start_time": "2022-05-11T18:43:50.987Z"
   },
   {
    "duration": 11,
    "start_time": "2022-05-11T18:43:51.029Z"
   },
   {
    "duration": 15,
    "start_time": "2022-05-11T18:43:51.044Z"
   },
   {
    "duration": 28,
    "start_time": "2022-05-11T18:43:51.062Z"
   },
   {
    "duration": 63,
    "start_time": "2022-05-11T18:43:51.095Z"
   },
   {
    "duration": 7,
    "start_time": "2022-05-11T18:43:51.160Z"
   },
   {
    "duration": 57,
    "start_time": "2022-05-11T18:43:51.169Z"
   },
   {
    "duration": 12,
    "start_time": "2022-05-11T18:43:51.228Z"
   },
   {
    "duration": 26,
    "start_time": "2022-05-11T18:43:51.242Z"
   },
   {
    "duration": 24,
    "start_time": "2022-05-11T18:43:51.271Z"
   },
   {
    "duration": 19,
    "start_time": "2022-05-11T18:43:51.326Z"
   },
   {
    "duration": 19,
    "start_time": "2022-05-11T18:43:51.348Z"
   },
   {
    "duration": 13,
    "start_time": "2022-05-11T18:43:51.370Z"
   },
   {
    "duration": 43,
    "start_time": "2022-05-11T18:43:51.386Z"
   },
   {
    "duration": 21,
    "start_time": "2022-05-11T18:43:51.431Z"
   },
   {
    "duration": 7,
    "start_time": "2022-05-11T18:43:51.454Z"
   },
   {
    "duration": 63,
    "start_time": "2022-05-11T18:43:51.463Z"
   },
   {
    "duration": 36,
    "start_time": "2022-05-11T18:43:51.529Z"
   },
   {
    "duration": 28,
    "start_time": "2022-05-11T18:43:51.567Z"
   },
   {
    "duration": 991,
    "start_time": "2022-05-11T18:43:51.598Z"
   },
   {
    "duration": 6,
    "start_time": "2022-05-11T18:43:52.592Z"
   },
   {
    "duration": 38,
    "start_time": "2022-05-11T18:43:52.601Z"
   },
   {
    "duration": 29,
    "start_time": "2022-05-11T18:43:52.641Z"
   },
   {
    "duration": 1136,
    "start_time": "2022-05-11T18:43:52.673Z"
   },
   {
    "duration": 324,
    "start_time": "2022-05-11T18:43:53.811Z"
   },
   {
    "duration": 198,
    "start_time": "2022-05-11T18:43:54.138Z"
   },
   {
    "duration": 1140,
    "start_time": "2022-05-11T18:43:54.339Z"
   },
   {
    "duration": 1132,
    "start_time": "2022-05-11T18:43:55.481Z"
   },
   {
    "duration": 225,
    "start_time": "2022-05-11T18:43:56.615Z"
   },
   {
    "duration": 183,
    "start_time": "2022-05-11T18:43:56.843Z"
   },
   {
    "duration": 9,
    "start_time": "2022-05-11T18:43:57.029Z"
   },
   {
    "duration": 29,
    "start_time": "2022-05-11T18:43:57.045Z"
   },
   {
    "duration": 70,
    "start_time": "2022-05-11T18:43:57.077Z"
   },
   {
    "duration": 25,
    "start_time": "2022-05-11T18:43:57.150Z"
   },
   {
    "duration": 57,
    "start_time": "2022-05-11T18:43:57.178Z"
   },
   {
    "duration": 25,
    "start_time": "2022-05-11T18:43:57.238Z"
   },
   {
    "duration": 18,
    "start_time": "2022-05-11T18:43:57.266Z"
   },
   {
    "duration": 60,
    "start_time": "2022-05-11T18:43:57.286Z"
   },
   {
    "duration": 25,
    "start_time": "2022-05-11T18:43:57.348Z"
   },
   {
    "duration": 52,
    "start_time": "2022-05-11T18:43:57.376Z"
   },
   {
    "duration": 23,
    "start_time": "2022-05-11T18:43:57.432Z"
   },
   {
    "duration": 24,
    "start_time": "2022-05-11T18:43:57.460Z"
   },
   {
    "duration": 57,
    "start_time": "2022-05-11T18:43:57.486Z"
   },
   {
    "duration": 22,
    "start_time": "2022-05-11T18:43:57.545Z"
   },
   {
    "duration": 9,
    "start_time": "2022-05-11T18:43:57.570Z"
   },
   {
    "duration": 10,
    "start_time": "2022-05-11T18:43:57.581Z"
   },
   {
    "duration": 8,
    "start_time": "2022-05-11T18:43:57.625Z"
   },
   {
    "duration": 9,
    "start_time": "2022-05-11T18:43:57.635Z"
   },
   {
    "duration": 9,
    "start_time": "2022-05-11T18:45:54.196Z"
   },
   {
    "duration": 36,
    "start_time": "2022-05-11T18:46:44.011Z"
   },
   {
    "duration": 37,
    "start_time": "2022-05-11T18:48:42.441Z"
   },
   {
    "duration": 23,
    "start_time": "2022-05-11T18:50:50.037Z"
   },
   {
    "duration": 31,
    "start_time": "2022-05-11T18:56:03.664Z"
   },
   {
    "duration": 24,
    "start_time": "2022-05-11T18:57:43.183Z"
   },
   {
    "duration": 162,
    "start_time": "2022-05-11T18:57:57.237Z"
   },
   {
    "duration": 15,
    "start_time": "2022-05-11T18:58:10.513Z"
   },
   {
    "duration": 24,
    "start_time": "2022-05-11T18:59:52.740Z"
   },
   {
    "duration": 536,
    "start_time": "2022-05-11T19:03:04.841Z"
   },
   {
    "duration": 48,
    "start_time": "2022-05-11T19:05:24.973Z"
   },
   {
    "duration": 48,
    "start_time": "2022-05-11T19:09:30.180Z"
   },
   {
    "duration": 36,
    "start_time": "2022-05-11T19:34:19.854Z"
   },
   {
    "duration": 1731,
    "start_time": "2022-05-11T19:35:10.375Z"
   },
   {
    "duration": 137,
    "start_time": "2022-05-11T19:35:12.110Z"
   },
   {
    "duration": 28,
    "start_time": "2022-05-11T19:35:12.249Z"
   },
   {
    "duration": 77,
    "start_time": "2022-05-11T19:35:12.280Z"
   },
   {
    "duration": 7,
    "start_time": "2022-05-11T19:35:12.360Z"
   },
   {
    "duration": 11,
    "start_time": "2022-05-11T19:35:12.370Z"
   },
   {
    "duration": 52,
    "start_time": "2022-05-11T19:35:12.383Z"
   },
   {
    "duration": 7,
    "start_time": "2022-05-11T19:35:12.437Z"
   },
   {
    "duration": 39,
    "start_time": "2022-05-11T19:35:12.447Z"
   },
   {
    "duration": 40,
    "start_time": "2022-05-11T19:35:12.488Z"
   },
   {
    "duration": 34,
    "start_time": "2022-05-11T19:35:12.531Z"
   },
   {
    "duration": 29,
    "start_time": "2022-05-11T19:35:12.568Z"
   },
   {
    "duration": 30,
    "start_time": "2022-05-11T19:35:12.600Z"
   },
   {
    "duration": 43,
    "start_time": "2022-05-11T19:35:12.638Z"
   },
   {
    "duration": 8,
    "start_time": "2022-05-11T19:35:12.684Z"
   },
   {
    "duration": 41,
    "start_time": "2022-05-11T19:35:12.694Z"
   },
   {
    "duration": 49,
    "start_time": "2022-05-11T19:35:12.738Z"
   },
   {
    "duration": 62,
    "start_time": "2022-05-11T19:35:12.789Z"
   },
   {
    "duration": 21,
    "start_time": "2022-05-11T19:35:12.854Z"
   },
   {
    "duration": 23,
    "start_time": "2022-05-11T19:35:12.877Z"
   },
   {
    "duration": 44,
    "start_time": "2022-05-11T19:35:12.902Z"
   },
   {
    "duration": 10,
    "start_time": "2022-05-11T19:35:12.950Z"
   },
   {
    "duration": 30,
    "start_time": "2022-05-11T19:35:12.962Z"
   },
   {
    "duration": 32,
    "start_time": "2022-05-11T19:35:12.995Z"
   },
   {
    "duration": 45,
    "start_time": "2022-05-11T19:35:13.034Z"
   },
   {
    "duration": 30,
    "start_time": "2022-05-11T19:35:13.081Z"
   },
   {
    "duration": 33,
    "start_time": "2022-05-11T19:35:13.125Z"
   },
   {
    "duration": 1139,
    "start_time": "2022-05-11T19:35:13.161Z"
   },
   {
    "duration": 6,
    "start_time": "2022-05-11T19:35:14.303Z"
   },
   {
    "duration": 28,
    "start_time": "2022-05-11T19:35:14.324Z"
   },
   {
    "duration": 28,
    "start_time": "2022-05-11T19:35:14.354Z"
   },
   {
    "duration": 1352,
    "start_time": "2022-05-11T19:35:14.385Z"
   },
   {
    "duration": 363,
    "start_time": "2022-05-11T19:35:15.740Z"
   },
   {
    "duration": 210,
    "start_time": "2022-05-11T19:35:16.106Z"
   },
   {
    "duration": 1546,
    "start_time": "2022-05-11T19:35:16.318Z"
   },
   {
    "duration": 1914,
    "start_time": "2022-05-11T19:35:17.867Z"
   },
   {
    "duration": 254,
    "start_time": "2022-05-11T19:35:19.783Z"
   },
   {
    "duration": 193,
    "start_time": "2022-05-11T19:35:20.040Z"
   },
   {
    "duration": 17,
    "start_time": "2022-05-11T19:35:20.236Z"
   },
   {
    "duration": 28,
    "start_time": "2022-05-11T19:35:20.255Z"
   },
   {
    "duration": 77,
    "start_time": "2022-05-11T19:35:20.293Z"
   },
   {
    "duration": 57,
    "start_time": "2022-05-11T19:35:20.373Z"
   },
   {
    "duration": 42,
    "start_time": "2022-05-11T19:35:20.433Z"
   },
   {
    "duration": 37,
    "start_time": "2022-05-11T19:35:20.478Z"
   },
   {
    "duration": 23,
    "start_time": "2022-05-11T19:35:20.528Z"
   },
   {
    "duration": 30,
    "start_time": "2022-05-11T19:35:20.554Z"
   },
   {
    "duration": 61,
    "start_time": "2022-05-11T19:35:20.587Z"
   },
   {
    "duration": 24,
    "start_time": "2022-05-11T19:35:20.651Z"
   },
   {
    "duration": 50,
    "start_time": "2022-05-11T19:35:20.677Z"
   },
   {
    "duration": 29,
    "start_time": "2022-05-11T19:35:20.733Z"
   },
   {
    "duration": 26,
    "start_time": "2022-05-11T19:35:20.765Z"
   },
   {
    "duration": 37,
    "start_time": "2022-05-11T19:35:20.826Z"
   },
   {
    "duration": 12,
    "start_time": "2022-05-11T19:35:20.866Z"
   },
   {
    "duration": 14,
    "start_time": "2022-05-11T19:35:20.882Z"
   },
   {
    "duration": 40,
    "start_time": "2022-05-11T19:35:20.898Z"
   },
   {
    "duration": 15,
    "start_time": "2022-05-11T19:35:20.942Z"
   },
   {
    "duration": 176,
    "start_time": "2022-05-11T19:58:11.136Z"
   },
   {
    "duration": 63,
    "start_time": "2022-05-11T19:58:43.116Z"
   },
   {
    "duration": 66,
    "start_time": "2022-05-11T19:59:19.152Z"
   },
   {
    "duration": 1539,
    "start_time": "2022-05-11T19:59:55.182Z"
   },
   {
    "duration": 75,
    "start_time": "2022-05-11T19:59:56.724Z"
   },
   {
    "duration": 32,
    "start_time": "2022-05-11T19:59:56.801Z"
   },
   {
    "duration": 61,
    "start_time": "2022-05-11T19:59:56.838Z"
   },
   {
    "duration": 24,
    "start_time": "2022-05-11T19:59:56.903Z"
   },
   {
    "duration": 10,
    "start_time": "2022-05-11T19:59:56.929Z"
   },
   {
    "duration": 23,
    "start_time": "2022-05-11T19:59:56.941Z"
   },
   {
    "duration": 6,
    "start_time": "2022-05-11T19:59:56.966Z"
   },
   {
    "duration": 22,
    "start_time": "2022-05-11T19:59:57.024Z"
   },
   {
    "duration": 24,
    "start_time": "2022-05-11T19:59:57.051Z"
   },
   {
    "duration": 20,
    "start_time": "2022-05-11T19:59:57.079Z"
   },
   {
    "duration": 16,
    "start_time": "2022-05-11T19:59:57.125Z"
   },
   {
    "duration": 22,
    "start_time": "2022-05-11T19:59:57.144Z"
   },
   {
    "duration": 76,
    "start_time": "2022-05-11T19:59:57.169Z"
   },
   {
    "duration": 23,
    "start_time": "2022-05-11T19:59:57.247Z"
   },
   {
    "duration": 16,
    "start_time": "2022-05-11T19:59:57.273Z"
   },
   {
    "duration": 69,
    "start_time": "2022-05-11T19:59:57.291Z"
   },
   {
    "duration": 25,
    "start_time": "2022-05-11T19:59:57.362Z"
   },
   {
    "duration": 45,
    "start_time": "2022-05-11T19:59:57.390Z"
   },
   {
    "duration": 19,
    "start_time": "2022-05-11T19:59:57.437Z"
   },
   {
    "duration": 15,
    "start_time": "2022-05-11T19:59:57.458Z"
   },
   {
    "duration": 22,
    "start_time": "2022-05-11T19:59:57.476Z"
   },
   {
    "duration": 19,
    "start_time": "2022-05-11T19:59:57.525Z"
   },
   {
    "duration": 6,
    "start_time": "2022-05-11T19:59:57.547Z"
   },
   {
    "duration": 31,
    "start_time": "2022-05-11T19:59:57.555Z"
   },
   {
    "duration": 51,
    "start_time": "2022-05-11T19:59:57.625Z"
   },
   {
    "duration": 76,
    "start_time": "2022-05-11T19:59:57.679Z"
   },
   {
    "duration": 60,
    "start_time": "2022-05-11T19:59:57.766Z"
   },
   {
    "duration": 1630,
    "start_time": "2022-05-11T19:59:57.830Z"
   },
   {
    "duration": 6,
    "start_time": "2022-05-11T19:59:59.463Z"
   },
   {
    "duration": 24,
    "start_time": "2022-05-11T19:59:59.471Z"
   },
   {
    "duration": 55,
    "start_time": "2022-05-11T19:59:59.498Z"
   },
   {
    "duration": 1678,
    "start_time": "2022-05-11T19:59:59.555Z"
   },
   {
    "duration": 540,
    "start_time": "2022-05-11T20:00:01.236Z"
   },
   {
    "duration": 209,
    "start_time": "2022-05-11T20:00:01.779Z"
   },
   {
    "duration": 1193,
    "start_time": "2022-05-11T20:00:01.991Z"
   },
   {
    "duration": 1107,
    "start_time": "2022-05-11T20:00:03.187Z"
   },
   {
    "duration": 219,
    "start_time": "2022-05-11T20:00:04.296Z"
   },
   {
    "duration": 166,
    "start_time": "2022-05-11T20:00:04.517Z"
   },
   {
    "duration": 7,
    "start_time": "2022-05-11T20:00:04.685Z"
   },
   {
    "duration": 45,
    "start_time": "2022-05-11T20:00:04.694Z"
   },
   {
    "duration": 33,
    "start_time": "2022-05-11T20:00:04.742Z"
   },
   {
    "duration": 49,
    "start_time": "2022-05-11T20:00:04.778Z"
   },
   {
    "duration": 25,
    "start_time": "2022-05-11T20:00:04.830Z"
   },
   {
    "duration": 43,
    "start_time": "2022-05-11T20:00:04.857Z"
   },
   {
    "duration": 30,
    "start_time": "2022-05-11T20:00:04.903Z"
   },
   {
    "duration": 24,
    "start_time": "2022-05-11T20:00:04.935Z"
   },
   {
    "duration": 24,
    "start_time": "2022-05-11T20:00:04.961Z"
   },
   {
    "duration": 59,
    "start_time": "2022-05-11T20:00:04.988Z"
   },
   {
    "duration": 25,
    "start_time": "2022-05-11T20:00:05.050Z"
   },
   {
    "duration": 65,
    "start_time": "2022-05-11T20:00:05.078Z"
   },
   {
    "duration": 35,
    "start_time": "2022-05-11T20:00:05.146Z"
   },
   {
    "duration": 60,
    "start_time": "2022-05-11T20:00:05.184Z"
   },
   {
    "duration": 10,
    "start_time": "2022-05-11T20:00:05.246Z"
   },
   {
    "duration": 30,
    "start_time": "2022-05-11T20:00:05.259Z"
   },
   {
    "duration": 14,
    "start_time": "2022-05-11T20:00:05.292Z"
   },
   {
    "duration": 22,
    "start_time": "2022-05-11T20:00:05.309Z"
   },
   {
    "duration": 392,
    "start_time": "2022-05-11T20:12:54.848Z"
   },
   {
    "duration": 298,
    "start_time": "2022-05-11T20:13:08.391Z"
   },
   {
    "duration": 944,
    "start_time": "2022-05-11T20:14:21.811Z"
   },
   {
    "duration": 299,
    "start_time": "2022-05-11T20:24:59.306Z"
   },
   {
    "duration": 6,
    "start_time": "2022-05-11T20:38:27.477Z"
   },
   {
    "duration": 6,
    "start_time": "2022-05-11T20:39:08.451Z"
   },
   {
    "duration": 6,
    "start_time": "2022-05-11T20:39:40.012Z"
   },
   {
    "duration": 1240,
    "start_time": "2022-05-12T07:06:11.733Z"
   },
   {
    "duration": 46,
    "start_time": "2022-05-12T07:06:12.978Z"
   },
   {
    "duration": 13,
    "start_time": "2022-05-12T07:06:13.026Z"
   },
   {
    "duration": 25,
    "start_time": "2022-05-12T07:06:13.492Z"
   },
   {
    "duration": 4,
    "start_time": "2022-05-12T07:06:16.668Z"
   },
   {
    "duration": 4,
    "start_time": "2022-05-12T07:06:19.027Z"
   },
   {
    "duration": 13,
    "start_time": "2022-05-12T07:06:21.402Z"
   },
   {
    "duration": 7,
    "start_time": "2022-05-12T07:06:24.473Z"
   },
   {
    "duration": 116,
    "start_time": "2022-05-12T07:06:51.572Z"
   },
   {
    "duration": 14,
    "start_time": "2022-05-12T07:06:57.499Z"
   },
   {
    "duration": 10,
    "start_time": "2022-05-12T07:11:53.172Z"
   },
   {
    "duration": 12,
    "start_time": "2022-05-12T07:25:00.906Z"
   },
   {
    "duration": 12,
    "start_time": "2022-05-12T07:25:03.642Z"
   },
   {
    "duration": 14,
    "start_time": "2022-05-12T07:25:22.977Z"
   },
   {
    "duration": 12,
    "start_time": "2022-05-12T07:25:30.697Z"
   },
   {
    "duration": 6,
    "start_time": "2022-05-12T07:26:26.265Z"
   },
   {
    "duration": 20,
    "start_time": "2022-05-12T07:26:29.482Z"
   },
   {
    "duration": 9,
    "start_time": "2022-05-12T07:27:01.290Z"
   },
   {
    "duration": 20,
    "start_time": "2022-05-12T07:27:13.729Z"
   },
   {
    "duration": 16,
    "start_time": "2022-05-12T07:28:26.544Z"
   },
   {
    "duration": 19,
    "start_time": "2022-05-12T07:28:26.889Z"
   },
   {
    "duration": 16,
    "start_time": "2022-05-12T07:28:29.376Z"
   },
   {
    "duration": 14,
    "start_time": "2022-05-12T07:28:43.096Z"
   },
   {
    "duration": 13,
    "start_time": "2022-05-12T07:28:45.976Z"
   },
   {
    "duration": 9,
    "start_time": "2022-05-12T07:29:33.967Z"
   },
   {
    "duration": 12,
    "start_time": "2022-05-12T07:29:37.320Z"
   },
   {
    "duration": 4,
    "start_time": "2022-05-12T07:29:41.136Z"
   },
   {
    "duration": 20,
    "start_time": "2022-05-12T07:30:15.408Z"
   },
   {
    "duration": 40,
    "start_time": "2022-05-12T07:30:19.351Z"
   },
   {
    "duration": 23,
    "start_time": "2022-05-12T07:35:18.423Z"
   },
   {
    "duration": 2504,
    "start_time": "2022-05-12T07:37:29.866Z"
   },
   {
    "duration": 211,
    "start_time": "2022-05-12T07:38:15.020Z"
   },
   {
    "duration": 166,
    "start_time": "2022-05-12T07:38:21.683Z"
   },
   {
    "duration": 1731,
    "start_time": "2022-05-12T07:39:33.579Z"
   },
   {
    "duration": 1813,
    "start_time": "2022-05-12T07:40:29.930Z"
   },
   {
    "duration": 21,
    "start_time": "2022-05-12T07:40:56.659Z"
   },
   {
    "duration": 16,
    "start_time": "2022-05-12T07:41:10.475Z"
   },
   {
    "duration": 10,
    "start_time": "2022-05-12T07:42:46.085Z"
   },
   {
    "duration": 216882,
    "start_time": "2022-05-12T07:44:33.417Z"
   },
   {
    "duration": 54838,
    "start_time": "2022-05-12T07:52:22.524Z"
   },
   {
    "duration": 26,
    "start_time": "2022-05-12T07:54:20.129Z"
   },
   {
    "duration": 774,
    "start_time": "2022-05-12T07:54:39.827Z"
   },
   {
    "duration": 863,
    "start_time": "2022-05-12T07:57:29.933Z"
   },
   {
    "duration": 107,
    "start_time": "2022-05-12T07:58:13.575Z"
   },
   {
    "duration": 28,
    "start_time": "2022-05-12T07:58:17.776Z"
   },
   {
    "duration": 106,
    "start_time": "2022-05-12T07:58:29.922Z"
   },
   {
    "duration": 107,
    "start_time": "2022-05-12T07:58:34.435Z"
   },
   {
    "duration": 102,
    "start_time": "2022-05-12T07:58:51.985Z"
   },
   {
    "duration": 837,
    "start_time": "2022-05-12T07:59:27.450Z"
   },
   {
    "duration": 37,
    "start_time": "2022-05-12T07:59:50.810Z"
   },
   {
    "duration": 146,
    "start_time": "2022-05-12T08:01:15.656Z"
   },
   {
    "duration": 148,
    "start_time": "2022-05-12T08:02:03.353Z"
   },
   {
    "duration": 3721,
    "start_time": "2022-05-12T08:02:40.017Z"
   },
   {
    "duration": 14,
    "start_time": "2022-05-12T08:10:43.279Z"
   },
   {
    "duration": 151,
    "start_time": "2022-05-12T08:10:49.276Z"
   },
   {
    "duration": 19,
    "start_time": "2022-05-12T08:11:33.885Z"
   },
   {
    "duration": 113,
    "start_time": "2022-05-12T08:12:23.777Z"
   },
   {
    "duration": 132,
    "start_time": "2022-05-12T08:12:31.448Z"
   },
   {
    "duration": 128,
    "start_time": "2022-05-12T08:13:16.313Z"
   },
   {
    "duration": 228,
    "start_time": "2022-05-12T08:13:40.544Z"
   },
   {
    "duration": 138,
    "start_time": "2022-05-12T08:18:01.919Z"
   },
   {
    "duration": 139,
    "start_time": "2022-05-12T08:20:08.533Z"
   },
   {
    "duration": 98,
    "start_time": "2022-05-12T08:21:07.910Z"
   },
   {
    "duration": 494,
    "start_time": "2022-05-12T08:23:12.749Z"
   },
   {
    "duration": 1111,
    "start_time": "2022-05-12T08:23:45.084Z"
   },
   {
    "duration": 508,
    "start_time": "2022-05-12T08:24:00.540Z"
   },
   {
    "duration": 9,
    "start_time": "2022-05-12T08:24:49.469Z"
   },
   {
    "duration": 484,
    "start_time": "2022-05-12T08:25:42.944Z"
   },
   {
    "duration": 484,
    "start_time": "2022-05-12T08:28:45.866Z"
   },
   {
    "duration": 490,
    "start_time": "2022-05-12T08:28:54.042Z"
   },
   {
    "duration": 480,
    "start_time": "2022-05-12T08:29:12.650Z"
   },
   {
    "duration": 9,
    "start_time": "2022-05-12T08:32:05.288Z"
   },
   {
    "duration": 23,
    "start_time": "2022-05-12T08:32:24.553Z"
   },
   {
    "duration": 500,
    "start_time": "2022-05-12T08:32:25.808Z"
   },
   {
    "duration": 4,
    "start_time": "2022-05-12T08:32:33.152Z"
   },
   {
    "duration": 17,
    "start_time": "2022-05-12T08:32:36.289Z"
   },
   {
    "duration": 26,
    "start_time": "2022-05-12T08:32:36.825Z"
   },
   {
    "duration": 662,
    "start_time": "2022-05-12T08:32:46.192Z"
   },
   {
    "duration": 168,
    "start_time": "2022-05-12T08:32:54.576Z"
   },
   {
    "duration": 185,
    "start_time": "2022-05-12T08:34:25.839Z"
   },
   {
    "duration": 414,
    "start_time": "2022-05-12T08:34:38.769Z"
   },
   {
    "duration": 440,
    "start_time": "2022-05-12T08:35:02.570Z"
   },
   {
    "duration": 464,
    "start_time": "2022-05-12T08:35:41.999Z"
   },
   {
    "duration": 536,
    "start_time": "2022-05-12T08:36:09.391Z"
   },
   {
    "duration": 5411,
    "start_time": "2022-05-12T08:36:19.936Z"
   },
   {
    "duration": 469,
    "start_time": "2022-05-12T08:36:48.886Z"
   },
   {
    "duration": 444,
    "start_time": "2022-05-12T08:38:36.647Z"
   },
   {
    "duration": 106,
    "start_time": "2022-05-12T08:39:05.126Z"
   },
   {
    "duration": 12,
    "start_time": "2022-05-12T08:40:30.038Z"
   },
   {
    "duration": 1603,
    "start_time": "2022-05-12T08:41:00.510Z"
   },
   {
    "duration": 101,
    "start_time": "2022-05-12T08:41:55.116Z"
   },
   {
    "duration": 1688,
    "start_time": "2022-05-12T08:42:01.044Z"
   },
   {
    "duration": 592,
    "start_time": "2022-05-12T08:42:34.383Z"
   },
   {
    "duration": 570,
    "start_time": "2022-05-12T08:43:46.957Z"
   },
   {
    "duration": 617,
    "start_time": "2022-05-12T08:44:15.126Z"
   },
   {
    "duration": 563,
    "start_time": "2022-05-12T08:44:47.092Z"
   },
   {
    "duration": 819,
    "start_time": "2022-05-12T08:48:32.796Z"
   },
   {
    "duration": 598,
    "start_time": "2022-05-12T08:49:59.178Z"
   },
   {
    "duration": 150,
    "start_time": "2022-05-12T08:51:48.402Z"
   },
   {
    "duration": 80,
    "start_time": "2022-05-12T08:51:52.635Z"
   },
   {
    "duration": 5,
    "start_time": "2022-05-12T08:51:54.656Z"
   },
   {
    "duration": 20,
    "start_time": "2022-05-12T08:51:55.647Z"
   },
   {
    "duration": 17,
    "start_time": "2022-05-12T09:05:02.177Z"
   },
   {
    "duration": 19,
    "start_time": "2022-05-12T09:06:26.489Z"
   },
   {
    "duration": 102,
    "start_time": "2022-05-12T09:06:51.840Z"
   },
   {
    "duration": 146,
    "start_time": "2022-05-12T09:07:00.569Z"
   },
   {
    "duration": 3,
    "start_time": "2022-05-12T09:07:04.640Z"
   },
   {
    "duration": 4,
    "start_time": "2022-05-12T09:07:11.536Z"
   },
   {
    "duration": 5,
    "start_time": "2022-05-12T09:07:19.936Z"
   },
   {
    "duration": 2773,
    "start_time": "2022-05-12T09:07:51.112Z"
   },
   {
    "duration": 2105,
    "start_time": "2022-05-12T09:08:41.535Z"
   },
   {
    "duration": 1973,
    "start_time": "2022-05-12T09:09:33.462Z"
   },
   {
    "duration": 2283,
    "start_time": "2022-05-12T09:09:45.399Z"
   },
   {
    "duration": 2307,
    "start_time": "2022-05-12T09:09:59.654Z"
   },
   {
    "duration": 17,
    "start_time": "2022-05-12T09:10:31.718Z"
   },
   {
    "duration": 78,
    "start_time": "2022-05-12T09:10:51.518Z"
   },
   {
    "duration": 141,
    "start_time": "2022-05-12T09:11:23.902Z"
   },
   {
    "duration": 191,
    "start_time": "2022-05-12T09:13:07.506Z"
   },
   {
    "duration": 123,
    "start_time": "2022-05-12T09:14:24.412Z"
   },
   {
    "duration": 198,
    "start_time": "2022-05-12T09:14:40.397Z"
   },
   {
    "duration": 138,
    "start_time": "2022-05-12T09:14:47.019Z"
   },
   {
    "duration": 112,
    "start_time": "2022-05-12T09:15:06.890Z"
   },
   {
    "duration": 169,
    "start_time": "2022-05-12T09:15:12.740Z"
   },
   {
    "duration": 1080,
    "start_time": "2022-05-12T09:15:37.947Z"
   },
   {
    "duration": 1048,
    "start_time": "2022-05-12T09:15:47.690Z"
   },
   {
    "duration": 14,
    "start_time": "2022-05-12T09:16:11.731Z"
   },
   {
    "duration": 446,
    "start_time": "2022-05-12T09:17:36.067Z"
   },
   {
    "duration": 1060,
    "start_time": "2022-05-12T09:17:46.488Z"
   },
   {
    "duration": 1140,
    "start_time": "2022-05-12T09:19:27.938Z"
   },
   {
    "duration": 202,
    "start_time": "2022-05-12T09:22:19.480Z"
   },
   {
    "duration": 197,
    "start_time": "2022-05-12T09:25:18.966Z"
   },
   {
    "duration": 167,
    "start_time": "2022-05-12T09:25:46.071Z"
   },
   {
    "duration": 52,
    "start_time": "2022-05-12T09:27:34.431Z"
   },
   {
    "duration": 33,
    "start_time": "2022-05-12T09:28:02.193Z"
   },
   {
    "duration": 33,
    "start_time": "2022-05-12T09:28:56.895Z"
   },
   {
    "duration": 51,
    "start_time": "2022-05-12T09:29:09.074Z"
   },
   {
    "duration": 14,
    "start_time": "2022-05-12T09:29:35.495Z"
   },
   {
    "duration": 39,
    "start_time": "2022-05-12T09:29:41.616Z"
   },
   {
    "duration": 42,
    "start_time": "2022-05-12T09:30:01.600Z"
   },
   {
    "duration": 55,
    "start_time": "2022-05-12T09:32:13.151Z"
   },
   {
    "duration": 162,
    "start_time": "2022-05-12T09:32:50.854Z"
   },
   {
    "duration": 14,
    "start_time": "2022-05-12T09:33:55.402Z"
   },
   {
    "duration": 19,
    "start_time": "2022-05-12T09:34:03.367Z"
   },
   {
    "duration": 74,
    "start_time": "2022-05-12T09:34:33.575Z"
   },
   {
    "duration": 74,
    "start_time": "2022-05-12T09:34:46.061Z"
   },
   {
    "duration": 167,
    "start_time": "2022-05-12T09:34:57.941Z"
   },
   {
    "duration": 198,
    "start_time": "2022-05-12T09:35:30.874Z"
   },
   {
    "duration": 1468,
    "start_time": "2022-05-12T09:36:42.337Z"
   },
   {
    "duration": 1378,
    "start_time": "2022-05-12T09:36:58.502Z"
   },
   {
    "duration": 68,
    "start_time": "2022-05-12T09:37:26.069Z"
   },
   {
    "duration": 128,
    "start_time": "2022-05-12T09:37:34.819Z"
   },
   {
    "duration": 20,
    "start_time": "2022-05-12T09:41:18.101Z"
   },
   {
    "duration": 104,
    "start_time": "2022-05-12T09:41:26.994Z"
   },
   {
    "duration": 470,
    "start_time": "2022-05-12T09:42:14.257Z"
   },
   {
    "duration": 393,
    "start_time": "2022-05-12T09:42:32.533Z"
   },
   {
    "duration": 806,
    "start_time": "2022-05-12T09:42:46.475Z"
   },
   {
    "duration": 788,
    "start_time": "2022-05-12T09:43:48.147Z"
   },
   {
    "duration": 131,
    "start_time": "2022-05-12T09:45:07.787Z"
   },
   {
    "duration": 115,
    "start_time": "2022-05-12T09:45:49.512Z"
   },
   {
    "duration": 44,
    "start_time": "2022-05-12T09:46:47.825Z"
   },
   {
    "duration": 39,
    "start_time": "2022-05-12T09:46:58.606Z"
   },
   {
    "duration": 1636,
    "start_time": "2022-05-12T09:50:43.715Z"
   },
   {
    "duration": 211,
    "start_time": "2022-05-12T09:52:56.754Z"
   },
   {
    "duration": 42,
    "start_time": "2022-05-12T09:53:33.310Z"
   },
   {
    "duration": 1312,
    "start_time": "2022-05-12T10:20:58.390Z"
   },
   {
    "duration": 35,
    "start_time": "2022-05-12T10:21:02.254Z"
   },
   {
    "duration": 15,
    "start_time": "2022-05-12T10:21:04.503Z"
   },
   {
    "duration": 15,
    "start_time": "2022-05-12T10:21:04.942Z"
   },
   {
    "duration": 15,
    "start_time": "2022-05-12T10:21:06.102Z"
   },
   {
    "duration": 12,
    "start_time": "2022-05-12T10:21:06.847Z"
   },
   {
    "duration": 19,
    "start_time": "2022-05-12T10:21:12.252Z"
   },
   {
    "duration": 15,
    "start_time": "2022-05-12T10:21:13.597Z"
   },
   {
    "duration": 16,
    "start_time": "2022-05-12T10:21:14.637Z"
   },
   {
    "duration": 8,
    "start_time": "2022-05-12T10:22:49.717Z"
   },
   {
    "duration": 7,
    "start_time": "2022-05-12T10:22:50.606Z"
   },
   {
    "duration": 10,
    "start_time": "2022-05-12T10:22:51.286Z"
   },
   {
    "duration": 14,
    "start_time": "2022-05-12T10:23:38.148Z"
   },
   {
    "duration": 16,
    "start_time": "2022-05-12T10:24:05.323Z"
   },
   {
    "duration": 7,
    "start_time": "2022-05-12T10:24:06.189Z"
   },
   {
    "duration": 7,
    "start_time": "2022-05-12T10:24:07.196Z"
   },
   {
    "duration": 22,
    "start_time": "2022-05-12T10:28:32.555Z"
   },
   {
    "duration": 12,
    "start_time": "2022-05-12T10:28:38.345Z"
   },
   {
    "duration": 21,
    "start_time": "2022-05-12T10:30:04.889Z"
   },
   {
    "duration": 18,
    "start_time": "2022-05-12T10:30:31.471Z"
   },
   {
    "duration": 15,
    "start_time": "2022-05-12T10:30:35.287Z"
   },
   {
    "duration": 12,
    "start_time": "2022-05-12T10:30:49.048Z"
   },
   {
    "duration": 9,
    "start_time": "2022-05-12T10:31:47.291Z"
   },
   {
    "duration": 135,
    "start_time": "2022-05-12T10:31:53.759Z"
   },
   {
    "duration": 22,
    "start_time": "2022-05-12T10:31:57.224Z"
   },
   {
    "duration": 14,
    "start_time": "2022-05-12T10:34:21.303Z"
   },
   {
    "duration": 11,
    "start_time": "2022-05-12T10:34:53.081Z"
   },
   {
    "duration": 16,
    "start_time": "2022-05-12T10:35:07.885Z"
   },
   {
    "duration": 1773,
    "start_time": "2022-05-12T10:37:08.429Z"
   },
   {
    "duration": 105,
    "start_time": "2022-05-12T10:37:32.175Z"
   },
   {
    "duration": 2225,
    "start_time": "2022-05-12T10:39:12.941Z"
   },
   {
    "duration": 21,
    "start_time": "2022-05-12T10:39:26.605Z"
   },
   {
    "duration": 255,
    "start_time": "2022-05-12T10:39:30.229Z"
   },
   {
    "duration": 101,
    "start_time": "2022-05-12T10:40:43.280Z"
   },
   {
    "duration": 106,
    "start_time": "2022-05-12T10:41:03.940Z"
   },
   {
    "duration": 109,
    "start_time": "2022-05-12T10:41:39.487Z"
   },
   {
    "duration": 16,
    "start_time": "2022-05-12T10:41:48.391Z"
   },
   {
    "duration": 11,
    "start_time": "2022-05-12T10:41:57.225Z"
   },
   {
    "duration": 13,
    "start_time": "2022-05-12T10:42:08.028Z"
   },
   {
    "duration": 11,
    "start_time": "2022-05-12T10:42:32.442Z"
   },
   {
    "duration": 8,
    "start_time": "2022-05-12T10:42:43.938Z"
   },
   {
    "duration": 12,
    "start_time": "2022-05-12T10:42:54.209Z"
   },
   {
    "duration": 13,
    "start_time": "2022-05-12T10:43:10.890Z"
   },
   {
    "duration": 8,
    "start_time": "2022-05-12T10:43:31.546Z"
   },
   {
    "duration": 115,
    "start_time": "2022-05-12T10:44:27.648Z"
   },
   {
    "duration": 10,
    "start_time": "2022-05-12T10:44:42.121Z"
   },
   {
    "duration": 10,
    "start_time": "2022-05-12T10:44:52.096Z"
   },
   {
    "duration": 139,
    "start_time": "2022-05-12T10:45:30.734Z"
   },
   {
    "duration": 102,
    "start_time": "2022-05-12T10:45:58.554Z"
   },
   {
    "duration": 10,
    "start_time": "2022-05-12T10:46:07.816Z"
   },
   {
    "duration": 290,
    "start_time": "2022-05-12T10:47:10.391Z"
   },
   {
    "duration": 267,
    "start_time": "2022-05-12T10:47:23.409Z"
   },
   {
    "duration": 350,
    "start_time": "2022-05-12T10:47:37.202Z"
   },
   {
    "duration": 281,
    "start_time": "2022-05-12T10:48:12.434Z"
   },
   {
    "duration": 7,
    "start_time": "2022-05-12T11:06:26.266Z"
   },
   {
    "duration": 19,
    "start_time": "2022-05-12T11:06:31.576Z"
   },
   {
    "duration": 356,
    "start_time": "2022-05-12T11:06:53.186Z"
   },
   {
    "duration": 309,
    "start_time": "2022-05-12T11:08:02.624Z"
   },
   {
    "duration": 107,
    "start_time": "2022-05-12T11:09:19.097Z"
   },
   {
    "duration": 312,
    "start_time": "2022-05-12T11:09:28.959Z"
   },
   {
    "duration": 1741,
    "start_time": "2022-05-12T11:09:38.472Z"
   },
   {
    "duration": 424,
    "start_time": "2022-05-12T11:09:51.072Z"
   },
   {
    "duration": 383,
    "start_time": "2022-05-12T11:11:29.016Z"
   },
   {
    "duration": 373,
    "start_time": "2022-05-12T11:11:41.209Z"
   },
   {
    "duration": 96,
    "start_time": "2022-05-12T11:15:58.013Z"
   },
   {
    "duration": 127,
    "start_time": "2022-05-12T11:18:44.148Z"
   },
   {
    "duration": 558,
    "start_time": "2022-05-12T11:18:52.036Z"
   },
   {
    "duration": 19,
    "start_time": "2022-05-12T11:25:05.818Z"
   },
   {
    "duration": 21,
    "start_time": "2022-05-12T11:25:15.626Z"
   },
   {
    "duration": 331,
    "start_time": "2022-05-12T11:29:09.471Z"
   },
   {
    "duration": 15,
    "start_time": "2022-05-12T11:29:25.071Z"
   },
   {
    "duration": 17,
    "start_time": "2022-05-12T11:29:26.191Z"
   },
   {
    "duration": 15,
    "start_time": "2022-05-12T11:29:26.780Z"
   },
   {
    "duration": 15,
    "start_time": "2022-05-12T11:29:43.375Z"
   },
   {
    "duration": 6,
    "start_time": "2022-05-12T11:29:44.543Z"
   },
   {
    "duration": 8,
    "start_time": "2022-05-12T11:32:15.311Z"
   },
   {
    "duration": 19,
    "start_time": "2022-05-12T11:33:04.944Z"
   },
   {
    "duration": 5,
    "start_time": "2022-05-12T11:33:17.341Z"
   },
   {
    "duration": 7,
    "start_time": "2022-05-12T11:33:28.702Z"
   },
   {
    "duration": 5,
    "start_time": "2022-05-12T11:33:29.597Z"
   },
   {
    "duration": 6,
    "start_time": "2022-05-12T11:33:55.201Z"
   },
   {
    "duration": 5,
    "start_time": "2022-05-12T11:33:56.717Z"
   },
   {
    "duration": 5,
    "start_time": "2022-05-12T11:34:34.285Z"
   },
   {
    "duration": 6,
    "start_time": "2022-05-12T11:34:34.742Z"
   },
   {
    "duration": 5,
    "start_time": "2022-05-12T11:34:35.494Z"
   },
   {
    "duration": 5,
    "start_time": "2022-05-12T11:35:13.140Z"
   },
   {
    "duration": 7,
    "start_time": "2022-05-12T11:35:28.565Z"
   },
   {
    "duration": 6,
    "start_time": "2022-05-12T11:35:28.998Z"
   },
   {
    "duration": 6,
    "start_time": "2022-05-12T11:35:29.517Z"
   },
   {
    "duration": 5,
    "start_time": "2022-05-12T11:35:49.101Z"
   },
   {
    "duration": 102,
    "start_time": "2022-05-12T11:35:53.790Z"
   },
   {
    "duration": 4,
    "start_time": "2022-05-12T11:36:02.917Z"
   },
   {
    "duration": 9,
    "start_time": "2022-05-12T11:38:14.692Z"
   },
   {
    "duration": 106,
    "start_time": "2022-05-12T11:39:55.393Z"
   },
   {
    "duration": 15,
    "start_time": "2022-05-12T11:40:10.435Z"
   },
   {
    "duration": 554,
    "start_time": "2022-05-12T11:40:54.956Z"
   },
   {
    "duration": 345,
    "start_time": "2022-05-12T11:44:08.692Z"
   },
   {
    "duration": 20,
    "start_time": "2022-05-12T11:47:11.881Z"
   },
   {
    "duration": 383,
    "start_time": "2022-05-12T11:47:21.185Z"
   },
   {
    "duration": 371,
    "start_time": "2022-05-12T11:47:36.315Z"
   },
   {
    "duration": 20,
    "start_time": "2022-05-12T11:49:15.841Z"
   },
   {
    "duration": 379,
    "start_time": "2022-05-12T11:50:36.327Z"
   },
   {
    "duration": 339,
    "start_time": "2022-05-12T11:50:51.880Z"
   },
   {
    "duration": 19,
    "start_time": "2022-05-12T11:51:54.208Z"
   },
   {
    "duration": 363,
    "start_time": "2022-05-12T11:52:20.254Z"
   },
   {
    "duration": 412,
    "start_time": "2022-05-12T11:57:02.611Z"
   },
   {
    "duration": 115,
    "start_time": "2022-05-12T11:57:15.315Z"
   },
   {
    "duration": 360,
    "start_time": "2022-05-12T11:57:26.226Z"
   },
   {
    "duration": 345,
    "start_time": "2022-05-12T11:57:38.380Z"
   },
   {
    "duration": 362,
    "start_time": "2022-05-12T11:57:46.190Z"
   },
   {
    "duration": 333,
    "start_time": "2022-05-12T11:57:52.805Z"
   },
   {
    "duration": 355,
    "start_time": "2022-05-12T12:01:29.978Z"
   },
   {
    "duration": 1173,
    "start_time": "2022-05-12T12:12:37.570Z"
   },
   {
    "duration": 61,
    "start_time": "2022-05-12T12:12:38.747Z"
   },
   {
    "duration": 14,
    "start_time": "2022-05-12T12:12:38.810Z"
   },
   {
    "duration": 47,
    "start_time": "2022-05-12T12:12:38.827Z"
   },
   {
    "duration": 7,
    "start_time": "2022-05-12T12:12:38.878Z"
   },
   {
    "duration": 7,
    "start_time": "2022-05-12T12:12:38.887Z"
   },
   {
    "duration": 17,
    "start_time": "2022-05-12T12:12:38.895Z"
   },
   {
    "duration": 4,
    "start_time": "2022-05-12T12:12:38.914Z"
   },
   {
    "duration": 18,
    "start_time": "2022-05-12T12:12:38.920Z"
   },
   {
    "duration": 44,
    "start_time": "2022-05-12T12:12:38.940Z"
   },
   {
    "duration": 9,
    "start_time": "2022-05-12T12:12:38.986Z"
   },
   {
    "duration": 9,
    "start_time": "2022-05-12T12:12:38.997Z"
   },
   {
    "duration": 14,
    "start_time": "2022-05-12T12:12:39.010Z"
   },
   {
    "duration": 55,
    "start_time": "2022-05-12T12:12:39.026Z"
   },
   {
    "duration": 4,
    "start_time": "2022-05-12T12:12:39.083Z"
   },
   {
    "duration": 14,
    "start_time": "2022-05-12T12:12:39.089Z"
   },
   {
    "duration": 21,
    "start_time": "2022-05-12T12:12:39.105Z"
   },
   {
    "duration": 42,
    "start_time": "2022-05-12T12:12:39.128Z"
   },
   {
    "duration": 21,
    "start_time": "2022-05-12T12:12:39.171Z"
   },
   {
    "duration": 13,
    "start_time": "2022-05-12T12:12:39.193Z"
   },
   {
    "duration": 28,
    "start_time": "2022-05-12T12:12:39.208Z"
   },
   {
    "duration": 2,
    "start_time": "2022-05-12T12:12:39.238Z"
   },
   {
    "duration": 8,
    "start_time": "2022-05-12T12:12:39.242Z"
   },
   {
    "duration": 40,
    "start_time": "2022-05-12T12:12:39.252Z"
   },
   {
    "duration": 6,
    "start_time": "2022-05-12T12:12:39.294Z"
   },
   {
    "duration": 23,
    "start_time": "2022-05-12T12:12:39.302Z"
   },
   {
    "duration": 44,
    "start_time": "2022-05-12T12:12:39.327Z"
   },
   {
    "duration": 24,
    "start_time": "2022-05-12T12:12:39.373Z"
   },
   {
    "duration": 190,
    "start_time": "2022-05-12T12:12:39.399Z"
   },
   {
    "duration": 27,
    "start_time": "2022-05-12T12:12:39.591Z"
   },
   {
    "duration": 782,
    "start_time": "2022-05-12T12:12:39.621Z"
   },
   {
    "duration": 5,
    "start_time": "2022-05-12T12:12:40.405Z"
   },
   {
    "duration": 35,
    "start_time": "2022-05-12T12:12:40.412Z"
   },
   {
    "duration": 31,
    "start_time": "2022-05-12T12:12:40.449Z"
   },
   {
    "duration": 718,
    "start_time": "2022-05-12T12:12:40.481Z"
   },
   {
    "duration": 619,
    "start_time": "2022-05-12T12:12:41.201Z"
   },
   {
    "duration": 896,
    "start_time": "2022-05-12T12:12:41.822Z"
   },
   {
    "duration": 767,
    "start_time": "2022-05-12T12:12:42.720Z"
   },
   {
    "duration": 155,
    "start_time": "2022-05-12T12:12:43.489Z"
   },
   {
    "duration": 232,
    "start_time": "2022-05-12T12:12:43.649Z"
   },
   {
    "duration": 7,
    "start_time": "2022-05-12T12:12:43.883Z"
   },
   {
    "duration": 24,
    "start_time": "2022-05-12T12:12:43.891Z"
   },
   {
    "duration": 76,
    "start_time": "2022-05-12T12:12:43.917Z"
   },
   {
    "duration": 1411,
    "start_time": "2022-05-12T12:12:43.995Z"
   },
   {
    "duration": 20,
    "start_time": "2022-05-12T12:12:45.408Z"
   },
   {
    "duration": 16,
    "start_time": "2022-05-12T12:12:45.430Z"
   },
   {
    "duration": 7,
    "start_time": "2022-05-12T12:12:45.463Z"
   },
   {
    "duration": 18,
    "start_time": "2022-05-12T12:12:45.471Z"
   },
   {
    "duration": 380,
    "start_time": "2022-05-12T12:12:45.490Z"
   },
   {
    "duration": 19,
    "start_time": "2022-05-12T12:12:45.873Z"
   },
   {
    "duration": 15,
    "start_time": "2022-05-12T12:12:45.893Z"
   },
   {
    "duration": 20,
    "start_time": "2022-05-12T12:12:45.909Z"
   },
   {
    "duration": 36,
    "start_time": "2022-05-12T12:12:45.930Z"
   },
   {
    "duration": 356,
    "start_time": "2022-05-12T12:12:45.970Z"
   },
   {
    "duration": 16,
    "start_time": "2022-05-12T12:12:46.328Z"
   },
   {
    "duration": 46,
    "start_time": "2022-05-12T12:12:46.345Z"
   },
   {
    "duration": 16,
    "start_time": "2022-05-12T12:12:46.393Z"
   },
   {
    "duration": 15,
    "start_time": "2022-05-12T12:12:46.411Z"
   },
   {
    "duration": 4,
    "start_time": "2022-05-12T12:12:46.428Z"
   },
   {
    "duration": 7,
    "start_time": "2022-05-12T12:12:46.433Z"
   },
   {
    "duration": 26,
    "start_time": "2022-05-12T12:12:46.441Z"
   },
   {
    "duration": 7,
    "start_time": "2022-05-12T12:12:46.469Z"
   },
   {
    "duration": 13,
    "start_time": "2022-05-12T12:12:46.477Z"
   },
   {
    "duration": 7,
    "start_time": "2022-05-12T12:12:46.492Z"
   },
   {
    "duration": 6,
    "start_time": "2022-05-12T12:12:46.500Z"
   },
   {
    "duration": 10,
    "start_time": "2022-05-12T12:12:46.508Z"
   },
   {
    "duration": 1312,
    "start_time": "2022-05-12T23:35:00.683Z"
   },
   {
    "duration": 59,
    "start_time": "2022-05-12T23:35:01.998Z"
   },
   {
    "duration": 16,
    "start_time": "2022-05-12T23:35:02.059Z"
   },
   {
    "duration": 39,
    "start_time": "2022-05-12T23:35:02.077Z"
   },
   {
    "duration": 5,
    "start_time": "2022-05-12T23:35:02.118Z"
   },
   {
    "duration": 42,
    "start_time": "2022-05-12T23:35:02.124Z"
   },
   {
    "duration": 27,
    "start_time": "2022-05-12T23:35:02.168Z"
   },
   {
    "duration": 5,
    "start_time": "2022-05-12T23:35:02.196Z"
   },
   {
    "duration": 20,
    "start_time": "2022-05-12T23:35:02.203Z"
   },
   {
    "duration": 15,
    "start_time": "2022-05-12T23:35:02.226Z"
   },
   {
    "duration": 14,
    "start_time": "2022-05-12T23:35:02.243Z"
   },
   {
    "duration": 29,
    "start_time": "2022-05-12T23:35:02.259Z"
   },
   {
    "duration": 13,
    "start_time": "2022-05-12T23:35:02.290Z"
   },
   {
    "duration": 26,
    "start_time": "2022-05-12T23:35:02.304Z"
   },
   {
    "duration": 4,
    "start_time": "2022-05-12T23:35:02.332Z"
   },
   {
    "duration": 18,
    "start_time": "2022-05-12T23:35:02.338Z"
   },
   {
    "duration": 38,
    "start_time": "2022-05-12T23:35:02.357Z"
   },
   {
    "duration": 21,
    "start_time": "2022-05-12T23:35:02.396Z"
   },
   {
    "duration": 23,
    "start_time": "2022-05-12T23:35:02.418Z"
   },
   {
    "duration": 13,
    "start_time": "2022-05-12T23:35:02.443Z"
   },
   {
    "duration": 38,
    "start_time": "2022-05-12T23:35:02.457Z"
   },
   {
    "duration": 3,
    "start_time": "2022-05-12T23:35:02.496Z"
   },
   {
    "duration": 47,
    "start_time": "2022-05-12T23:35:02.500Z"
   },
   {
    "duration": 36,
    "start_time": "2022-05-12T23:35:02.549Z"
   },
   {
    "duration": 29,
    "start_time": "2022-05-12T23:35:02.587Z"
   },
   {
    "duration": 46,
    "start_time": "2022-05-12T23:35:02.618Z"
   },
   {
    "duration": 51,
    "start_time": "2022-05-12T23:35:02.666Z"
   },
   {
    "duration": 40,
    "start_time": "2022-05-12T23:35:02.721Z"
   },
   {
    "duration": 153,
    "start_time": "2022-05-12T23:35:02.763Z"
   },
   {
    "duration": 19,
    "start_time": "2022-05-12T23:35:02.918Z"
   },
   {
    "duration": 559,
    "start_time": "2022-05-12T23:35:02.938Z"
   },
   {
    "duration": 5,
    "start_time": "2022-05-12T23:35:03.498Z"
   },
   {
    "duration": 23,
    "start_time": "2022-05-12T23:35:03.504Z"
   },
   {
    "duration": 20,
    "start_time": "2022-05-12T23:35:03.529Z"
   },
   {
    "duration": 706,
    "start_time": "2022-05-12T23:35:03.551Z"
   },
   {
    "duration": 594,
    "start_time": "2022-05-12T23:35:04.259Z"
   },
   {
    "duration": 610,
    "start_time": "2022-05-12T23:35:04.854Z"
   },
   {
    "duration": 747,
    "start_time": "2022-05-12T23:35:05.465Z"
   },
   {
    "duration": 133,
    "start_time": "2022-05-12T23:35:06.213Z"
   },
   {
    "duration": 181,
    "start_time": "2022-05-12T23:35:06.347Z"
   },
   {
    "duration": 4,
    "start_time": "2022-05-12T23:35:06.530Z"
   },
   {
    "duration": 20,
    "start_time": "2022-05-12T23:35:06.535Z"
   },
   {
    "duration": 64,
    "start_time": "2022-05-12T23:35:06.557Z"
   },
   {
    "duration": 1036,
    "start_time": "2022-05-12T23:35:06.624Z"
   },
   {
    "duration": 28,
    "start_time": "2022-05-12T23:35:07.661Z"
   },
   {
    "duration": 17,
    "start_time": "2022-05-12T23:35:07.690Z"
   },
   {
    "duration": 7,
    "start_time": "2022-05-12T23:35:07.708Z"
   },
   {
    "duration": 8,
    "start_time": "2022-05-12T23:35:07.716Z"
   },
   {
    "duration": 412,
    "start_time": "2022-05-12T23:35:07.726Z"
   },
   {
    "duration": 16,
    "start_time": "2022-05-12T23:35:08.140Z"
   },
   {
    "duration": 32,
    "start_time": "2022-05-12T23:35:08.158Z"
   },
   {
    "duration": 15,
    "start_time": "2022-05-12T23:35:08.192Z"
   },
   {
    "duration": 7,
    "start_time": "2022-05-12T23:35:08.209Z"
   },
   {
    "duration": 359,
    "start_time": "2022-05-12T23:35:08.218Z"
   },
   {
    "duration": 22,
    "start_time": "2022-05-12T23:35:08.579Z"
   },
   {
    "duration": 16,
    "start_time": "2022-05-12T23:35:08.603Z"
   },
   {
    "duration": 17,
    "start_time": "2022-05-12T23:35:08.620Z"
   },
   {
    "duration": 14,
    "start_time": "2022-05-12T23:35:08.638Z"
   },
   {
    "duration": 36,
    "start_time": "2022-05-12T23:35:08.654Z"
   },
   {
    "duration": 8,
    "start_time": "2022-05-12T23:35:08.692Z"
   },
   {
    "duration": 7,
    "start_time": "2022-05-12T23:35:08.702Z"
   },
   {
    "duration": 7,
    "start_time": "2022-05-12T23:35:08.710Z"
   },
   {
    "duration": 6,
    "start_time": "2022-05-12T23:35:08.719Z"
   },
   {
    "duration": 9,
    "start_time": "2022-05-12T23:35:08.726Z"
   },
   {
    "duration": 7,
    "start_time": "2022-05-12T23:35:08.736Z"
   },
   {
    "duration": 8,
    "start_time": "2022-05-12T23:35:08.745Z"
   }
  ],
  "kernelspec": {
   "display_name": "Python 3 (ipykernel)",
   "language": "python",
   "name": "python3"
  },
  "language_info": {
   "codemirror_mode": {
    "name": "ipython",
    "version": 3
   },
   "file_extension": ".py",
   "mimetype": "text/x-python",
   "name": "python",
   "nbconvert_exporter": "python",
   "pygments_lexer": "ipython3",
   "version": "3.9.12"
  },
  "toc": {
   "base_numbering": 1,
   "nav_menu": {},
   "number_sections": true,
   "sideBar": true,
   "skip_h1_title": true,
   "title_cell": "Table of Contents",
   "title_sidebar": "Contents",
   "toc_cell": false,
   "toc_position": {
    "height": "calc(100% - 180px)",
    "left": "10px",
    "top": "150px",
    "width": "183.333px"
   },
   "toc_section_display": true,
   "toc_window_display": true
  }
 },
 "nbformat": 4,
 "nbformat_minor": 2
}

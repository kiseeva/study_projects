{
 "cells": [
  {
   "cell_type": "markdown",
   "metadata": {},
   "source": [
    "# Определение стоимости автомобилей"
   ]
  },
  {
   "cell_type": "markdown",
   "metadata": {},
   "source": [
    "Сервис по продаже автомобилей с пробегом разрабатывает приложение для привлечения новых клиентов. В нём можно быстро узнать рыночную стоимость своего автомобиля. В распоряжении исторические данные: технические характеристики, комплектации и цены автомобилей. Необходимо построить модель для определения стоимости. \n",
    "\n",
    "###### Цель работы: построить модель для определения стоимости автомобиля.\n",
    "\n",
    "###### Описание предоставленных данных:\n",
    "\n",
    "Датасет содержащий  технические характеристики, комплектации и цены автомобилей. Всего 16 признаков  (включая целевой).\n",
    "###### Признаки\n",
    "- DateCrawled — дата скачивания анкеты из базы\n",
    "- VehicleType — тип автомобильного кузова\n",
    "- RegistrationYear — год регистрации автомобиля\n",
    "- Gearbox — тип коробки передач\n",
    "- Power — мощность (л. с.)\n",
    "- Model — модель автомобиля\n",
    "- Kilometer — пробег (км)\n",
    "- RegistrationMonth — месяц регистрации автомобиля\n",
    "- FuelType — тип топлива\n",
    "- Brand — марка автомобиля\n",
    "- NotRepaired — была машина в ремонте или нет\n",
    "- DateCreated — дата создания анкеты\n",
    "- NumberOfPictures — количество фотографий автомобиля\n",
    "- PostalCode — почтовый индекс владельца анкеты (пользователя)\n",
    "- LastSeen — дата последней активности пользователя\n",
    "###### Целевой признак\n",
    "- Price — цена (евро)\n",
    "\n",
    "\n",
    "###### Заказчику важны:\n",
    "\n",
    "- качество предсказания;\n",
    "- скорость предсказания;\n",
    "- время обучения.\n",
    "\n",
    "###### План работы: \n",
    "- Загрузка и подготовка данных.\n",
    "- Обучение разных моделей. \n",
    "- Настройка гиперпараметров.\n",
    "- Анализ скорости работы и качества моделей."
   ]
  },
  {
   "cell_type": "markdown",
   "metadata": {},
   "source": [
    "Примечания:\n",
    "- Для оценки качества моделей необходимо применять метрику RMSE.\n",
    "- Значение метрики RMSE должно быть меньше 2500.\n",
    "- Средствами библиотеки LightGBM построить модели градиентного бустинга.\n",
    "- Время выполнения ячейки кода Jupyter Notebook нужно получить специальной командой.\n",
    "- Поскольку модель градиентного бустинга может обучаться долго, изменить у неё только два-три параметра.\n",
    "- Если перестанет работать Jupyter Notebook, удалить лишние переменные оператором del:"
   ]
  },
  {
   "cell_type": "markdown",
   "metadata": {},
   "source": [
    "### Подключение библиотек"
   ]
  },
  {
   "cell_type": "code",
   "execution_count": 3,
   "metadata": {},
   "outputs": [],
   "source": [
    "import pandas as pd\n",
    "import seaborn as sns\n",
    "import numpy as np\n",
    "import matplotlib.pyplot as plt\n",
    "\n",
    "from sklearn.model_selection import train_test_split\n",
    "from sklearn.metrics import mean_squared_error\n",
    "from sklearn.metrics import mean_squared_error as mse\n",
    "from sklearn.model_selection import GridSearchCV\n",
    "\n",
    "from sklearn.linear_model import LinearRegression\n",
    "from catboost import CatBoostRegressor, Pool\n",
    "from lightgbm import LGBMRegressor\n",
    "\n",
    "import time\n",
    "\n",
    "# Игнорирование предупреждений\n",
    "import warnings\n",
    "warnings.filterwarnings('ignore')"
   ]
  },
  {
   "cell_type": "markdown",
   "metadata": {},
   "source": [
    "### Определение метрики"
   ]
  },
  {
   "cell_type": "code",
   "execution_count": 4,
   "metadata": {},
   "outputs": [],
   "source": [
    "def rmse(y,a):\n",
    "    return mse(y,a)**0.5"
   ]
  },
  {
   "cell_type": "markdown",
   "metadata": {},
   "source": [
    "## Изучение и подготовка данных"
   ]
  },
  {
   "cell_type": "code",
   "execution_count": 5,
   "metadata": {},
   "outputs": [],
   "source": [
    "auto = pd.read_csv('/datasets/autos.csv')"
   ]
  },
  {
   "cell_type": "code",
   "execution_count": 6,
   "metadata": {},
   "outputs": [
    {
     "data": {
      "text/html": [
       "<div>\n",
       "<style scoped>\n",
       "    .dataframe tbody tr th:only-of-type {\n",
       "        vertical-align: middle;\n",
       "    }\n",
       "\n",
       "    .dataframe tbody tr th {\n",
       "        vertical-align: top;\n",
       "    }\n",
       "\n",
       "    .dataframe thead th {\n",
       "        text-align: right;\n",
       "    }\n",
       "</style>\n",
       "<table border=\"1\" class=\"dataframe\">\n",
       "  <thead>\n",
       "    <tr style=\"text-align: right;\">\n",
       "      <th></th>\n",
       "      <th>DateCrawled</th>\n",
       "      <th>Price</th>\n",
       "      <th>VehicleType</th>\n",
       "      <th>RegistrationYear</th>\n",
       "      <th>Gearbox</th>\n",
       "      <th>Power</th>\n",
       "      <th>Model</th>\n",
       "      <th>Kilometer</th>\n",
       "      <th>RegistrationMonth</th>\n",
       "      <th>FuelType</th>\n",
       "      <th>Brand</th>\n",
       "      <th>NotRepaired</th>\n",
       "      <th>DateCreated</th>\n",
       "      <th>NumberOfPictures</th>\n",
       "      <th>PostalCode</th>\n",
       "      <th>LastSeen</th>\n",
       "    </tr>\n",
       "  </thead>\n",
       "  <tbody>\n",
       "    <tr>\n",
       "      <th>0</th>\n",
       "      <td>2016-03-24 11:52:17</td>\n",
       "      <td>480</td>\n",
       "      <td>NaN</td>\n",
       "      <td>1993</td>\n",
       "      <td>manual</td>\n",
       "      <td>0</td>\n",
       "      <td>golf</td>\n",
       "      <td>150000</td>\n",
       "      <td>0</td>\n",
       "      <td>petrol</td>\n",
       "      <td>volkswagen</td>\n",
       "      <td>NaN</td>\n",
       "      <td>2016-03-24 00:00:00</td>\n",
       "      <td>0</td>\n",
       "      <td>70435</td>\n",
       "      <td>2016-04-07 03:16:57</td>\n",
       "    </tr>\n",
       "    <tr>\n",
       "      <th>1</th>\n",
       "      <td>2016-03-24 10:58:45</td>\n",
       "      <td>18300</td>\n",
       "      <td>coupe</td>\n",
       "      <td>2011</td>\n",
       "      <td>manual</td>\n",
       "      <td>190</td>\n",
       "      <td>NaN</td>\n",
       "      <td>125000</td>\n",
       "      <td>5</td>\n",
       "      <td>gasoline</td>\n",
       "      <td>audi</td>\n",
       "      <td>yes</td>\n",
       "      <td>2016-03-24 00:00:00</td>\n",
       "      <td>0</td>\n",
       "      <td>66954</td>\n",
       "      <td>2016-04-07 01:46:50</td>\n",
       "    </tr>\n",
       "    <tr>\n",
       "      <th>2</th>\n",
       "      <td>2016-03-14 12:52:21</td>\n",
       "      <td>9800</td>\n",
       "      <td>suv</td>\n",
       "      <td>2004</td>\n",
       "      <td>auto</td>\n",
       "      <td>163</td>\n",
       "      <td>grand</td>\n",
       "      <td>125000</td>\n",
       "      <td>8</td>\n",
       "      <td>gasoline</td>\n",
       "      <td>jeep</td>\n",
       "      <td>NaN</td>\n",
       "      <td>2016-03-14 00:00:00</td>\n",
       "      <td>0</td>\n",
       "      <td>90480</td>\n",
       "      <td>2016-04-05 12:47:46</td>\n",
       "    </tr>\n",
       "    <tr>\n",
       "      <th>3</th>\n",
       "      <td>2016-03-17 16:54:04</td>\n",
       "      <td>1500</td>\n",
       "      <td>small</td>\n",
       "      <td>2001</td>\n",
       "      <td>manual</td>\n",
       "      <td>75</td>\n",
       "      <td>golf</td>\n",
       "      <td>150000</td>\n",
       "      <td>6</td>\n",
       "      <td>petrol</td>\n",
       "      <td>volkswagen</td>\n",
       "      <td>no</td>\n",
       "      <td>2016-03-17 00:00:00</td>\n",
       "      <td>0</td>\n",
       "      <td>91074</td>\n",
       "      <td>2016-03-17 17:40:17</td>\n",
       "    </tr>\n",
       "    <tr>\n",
       "      <th>4</th>\n",
       "      <td>2016-03-31 17:25:20</td>\n",
       "      <td>3600</td>\n",
       "      <td>small</td>\n",
       "      <td>2008</td>\n",
       "      <td>manual</td>\n",
       "      <td>69</td>\n",
       "      <td>fabia</td>\n",
       "      <td>90000</td>\n",
       "      <td>7</td>\n",
       "      <td>gasoline</td>\n",
       "      <td>skoda</td>\n",
       "      <td>no</td>\n",
       "      <td>2016-03-31 00:00:00</td>\n",
       "      <td>0</td>\n",
       "      <td>60437</td>\n",
       "      <td>2016-04-06 10:17:21</td>\n",
       "    </tr>\n",
       "  </tbody>\n",
       "</table>\n",
       "</div>"
      ],
      "text/plain": [
       "           DateCrawled  Price VehicleType  RegistrationYear Gearbox  Power  \\\n",
       "0  2016-03-24 11:52:17    480         NaN              1993  manual      0   \n",
       "1  2016-03-24 10:58:45  18300       coupe              2011  manual    190   \n",
       "2  2016-03-14 12:52:21   9800         suv              2004    auto    163   \n",
       "3  2016-03-17 16:54:04   1500       small              2001  manual     75   \n",
       "4  2016-03-31 17:25:20   3600       small              2008  manual     69   \n",
       "\n",
       "   Model  Kilometer  RegistrationMonth  FuelType       Brand NotRepaired  \\\n",
       "0   golf     150000                  0    petrol  volkswagen         NaN   \n",
       "1    NaN     125000                  5  gasoline        audi         yes   \n",
       "2  grand     125000                  8  gasoline        jeep         NaN   \n",
       "3   golf     150000                  6    petrol  volkswagen          no   \n",
       "4  fabia      90000                  7  gasoline       skoda          no   \n",
       "\n",
       "           DateCreated  NumberOfPictures  PostalCode             LastSeen  \n",
       "0  2016-03-24 00:00:00                 0       70435  2016-04-07 03:16:57  \n",
       "1  2016-03-24 00:00:00                 0       66954  2016-04-07 01:46:50  \n",
       "2  2016-03-14 00:00:00                 0       90480  2016-04-05 12:47:46  \n",
       "3  2016-03-17 00:00:00                 0       91074  2016-03-17 17:40:17  \n",
       "4  2016-03-31 00:00:00                 0       60437  2016-04-06 10:17:21  "
      ]
     },
     "execution_count": 6,
     "metadata": {},
     "output_type": "execute_result"
    }
   ],
   "source": [
    "auto.head()"
   ]
  },
  {
   "cell_type": "code",
   "execution_count": 7,
   "metadata": {},
   "outputs": [
    {
     "data": {
      "text/html": [
       "<div>\n",
       "<style scoped>\n",
       "    .dataframe tbody tr th:only-of-type {\n",
       "        vertical-align: middle;\n",
       "    }\n",
       "\n",
       "    .dataframe tbody tr th {\n",
       "        vertical-align: top;\n",
       "    }\n",
       "\n",
       "    .dataframe thead th {\n",
       "        text-align: right;\n",
       "    }\n",
       "</style>\n",
       "<table border=\"1\" class=\"dataframe\">\n",
       "  <thead>\n",
       "    <tr style=\"text-align: right;\">\n",
       "      <th></th>\n",
       "      <th>Price</th>\n",
       "      <th>RegistrationYear</th>\n",
       "      <th>Power</th>\n",
       "      <th>Kilometer</th>\n",
       "      <th>RegistrationMonth</th>\n",
       "      <th>NumberOfPictures</th>\n",
       "      <th>PostalCode</th>\n",
       "    </tr>\n",
       "  </thead>\n",
       "  <tbody>\n",
       "    <tr>\n",
       "      <th>count</th>\n",
       "      <td>354369.000000</td>\n",
       "      <td>354369.000000</td>\n",
       "      <td>354369.000000</td>\n",
       "      <td>354369.000000</td>\n",
       "      <td>354369.000000</td>\n",
       "      <td>354369.0</td>\n",
       "      <td>354369.000000</td>\n",
       "    </tr>\n",
       "    <tr>\n",
       "      <th>mean</th>\n",
       "      <td>4416.656776</td>\n",
       "      <td>2004.234448</td>\n",
       "      <td>110.094337</td>\n",
       "      <td>128211.172535</td>\n",
       "      <td>5.714645</td>\n",
       "      <td>0.0</td>\n",
       "      <td>50508.689087</td>\n",
       "    </tr>\n",
       "    <tr>\n",
       "      <th>std</th>\n",
       "      <td>4514.158514</td>\n",
       "      <td>90.227958</td>\n",
       "      <td>189.850405</td>\n",
       "      <td>37905.341530</td>\n",
       "      <td>3.726421</td>\n",
       "      <td>0.0</td>\n",
       "      <td>25783.096248</td>\n",
       "    </tr>\n",
       "    <tr>\n",
       "      <th>min</th>\n",
       "      <td>0.000000</td>\n",
       "      <td>1000.000000</td>\n",
       "      <td>0.000000</td>\n",
       "      <td>5000.000000</td>\n",
       "      <td>0.000000</td>\n",
       "      <td>0.0</td>\n",
       "      <td>1067.000000</td>\n",
       "    </tr>\n",
       "    <tr>\n",
       "      <th>25%</th>\n",
       "      <td>1050.000000</td>\n",
       "      <td>1999.000000</td>\n",
       "      <td>69.000000</td>\n",
       "      <td>125000.000000</td>\n",
       "      <td>3.000000</td>\n",
       "      <td>0.0</td>\n",
       "      <td>30165.000000</td>\n",
       "    </tr>\n",
       "    <tr>\n",
       "      <th>50%</th>\n",
       "      <td>2700.000000</td>\n",
       "      <td>2003.000000</td>\n",
       "      <td>105.000000</td>\n",
       "      <td>150000.000000</td>\n",
       "      <td>6.000000</td>\n",
       "      <td>0.0</td>\n",
       "      <td>49413.000000</td>\n",
       "    </tr>\n",
       "    <tr>\n",
       "      <th>75%</th>\n",
       "      <td>6400.000000</td>\n",
       "      <td>2008.000000</td>\n",
       "      <td>143.000000</td>\n",
       "      <td>150000.000000</td>\n",
       "      <td>9.000000</td>\n",
       "      <td>0.0</td>\n",
       "      <td>71083.000000</td>\n",
       "    </tr>\n",
       "    <tr>\n",
       "      <th>max</th>\n",
       "      <td>20000.000000</td>\n",
       "      <td>9999.000000</td>\n",
       "      <td>20000.000000</td>\n",
       "      <td>150000.000000</td>\n",
       "      <td>12.000000</td>\n",
       "      <td>0.0</td>\n",
       "      <td>99998.000000</td>\n",
       "    </tr>\n",
       "  </tbody>\n",
       "</table>\n",
       "</div>"
      ],
      "text/plain": [
       "               Price  RegistrationYear          Power      Kilometer  \\\n",
       "count  354369.000000     354369.000000  354369.000000  354369.000000   \n",
       "mean     4416.656776       2004.234448     110.094337  128211.172535   \n",
       "std      4514.158514         90.227958     189.850405   37905.341530   \n",
       "min         0.000000       1000.000000       0.000000    5000.000000   \n",
       "25%      1050.000000       1999.000000      69.000000  125000.000000   \n",
       "50%      2700.000000       2003.000000     105.000000  150000.000000   \n",
       "75%      6400.000000       2008.000000     143.000000  150000.000000   \n",
       "max     20000.000000       9999.000000   20000.000000  150000.000000   \n",
       "\n",
       "       RegistrationMonth  NumberOfPictures     PostalCode  \n",
       "count      354369.000000          354369.0  354369.000000  \n",
       "mean            5.714645               0.0   50508.689087  \n",
       "std             3.726421               0.0   25783.096248  \n",
       "min             0.000000               0.0    1067.000000  \n",
       "25%             3.000000               0.0   30165.000000  \n",
       "50%             6.000000               0.0   49413.000000  \n",
       "75%             9.000000               0.0   71083.000000  \n",
       "max            12.000000               0.0   99998.000000  "
      ]
     },
     "execution_count": 7,
     "metadata": {},
     "output_type": "execute_result"
    }
   ],
   "source": [
    "auto.describe()"
   ]
  },
  {
   "cell_type": "code",
   "execution_count": 8,
   "metadata": {},
   "outputs": [
    {
     "data": {
      "text/plain": [
       "(354369, 16)"
      ]
     },
     "execution_count": 8,
     "metadata": {},
     "output_type": "execute_result"
    }
   ],
   "source": [
    "auto.shape"
   ]
  },
  {
   "cell_type": "code",
   "execution_count": 9,
   "metadata": {},
   "outputs": [
    {
     "name": "stdout",
     "output_type": "stream",
     "text": [
      "<class 'pandas.core.frame.DataFrame'>\n",
      "RangeIndex: 354369 entries, 0 to 354368\n",
      "Data columns (total 16 columns):\n",
      " #   Column             Non-Null Count   Dtype \n",
      "---  ------             --------------   ----- \n",
      " 0   DateCrawled        354369 non-null  object\n",
      " 1   Price              354369 non-null  int64 \n",
      " 2   VehicleType        316879 non-null  object\n",
      " 3   RegistrationYear   354369 non-null  int64 \n",
      " 4   Gearbox            334536 non-null  object\n",
      " 5   Power              354369 non-null  int64 \n",
      " 6   Model              334664 non-null  object\n",
      " 7   Kilometer          354369 non-null  int64 \n",
      " 8   RegistrationMonth  354369 non-null  int64 \n",
      " 9   FuelType           321474 non-null  object\n",
      " 10  Brand              354369 non-null  object\n",
      " 11  NotRepaired        283215 non-null  object\n",
      " 12  DateCreated        354369 non-null  object\n",
      " 13  NumberOfPictures   354369 non-null  int64 \n",
      " 14  PostalCode         354369 non-null  int64 \n",
      " 15  LastSeen           354369 non-null  object\n",
      "dtypes: int64(7), object(9)\n",
      "memory usage: 43.3+ MB\n"
     ]
    }
   ],
   "source": [
    "auto.info()"
   ]
  },
  {
   "cell_type": "markdown",
   "metadata": {},
   "source": [
    "По основной статистике и информации о таблице, можно сделать следующие выводы:\n",
    " - в таблице есть пропуски\n",
    " - есть аномалии  "
   ]
  },
  {
   "cell_type": "markdown",
   "metadata": {},
   "source": [
    "#### Проверка числовых признаков на аномалии"
   ]
  },
  {
   "cell_type": "code",
   "execution_count": 10,
   "metadata": {},
   "outputs": [],
   "source": [
    "numeric = ['Price','RegistrationYear','Power','Kilometer']"
   ]
  },
  {
   "cell_type": "code",
   "execution_count": 17,
   "metadata": {},
   "outputs": [],
   "source": [
    "def distplot_anomalies(data,numeric):\n",
    "    fig, axes = plt.subplots(2, 2, figsize=(10, 10))\n",
    "    for column, ax in zip(numeric, axes.ravel()):\n",
    "        ax.set_title(column)\n",
    "        sns.distplot(data[column], ax=ax)\n",
    "        \n",
    "def boxplot_anomalies(data,numeric):    \n",
    "    fig, axes = plt.subplots(2, 2, figsize=(10, 10))\n",
    "    for column, ax in zip(numeric, axes.ravel()):\n",
    "        ax.set_title(column)\n",
    "        sns.boxplot(data[column], ax=ax)    "
   ]
  },
  {
   "cell_type": "code",
   "execution_count": 15,
   "metadata": {},
   "outputs": [
    {
     "data": {
      "image/png": "[encoded data removed]",
      "text/plain": [
       "<Figure size 720x720 with 4 Axes>"
      ]
     },
     "metadata": {
      "needs_background": "light"
     },
     "output_type": "display_data"
    }
   ],
   "source": [
    "distplot_anomalies(auto,numeric)"
   ]
  },
  {
   "cell_type": "code",
   "execution_count": 16,
   "metadata": {},
   "outputs": [
    {
     "name": "stdout",
     "output_type": "stream",
     "text": [
      "[<AxesSubplot:> <AxesSubplot:> <AxesSubplot:> <AxesSubplot:>]\n",
      "[<AxesSubplot:title={'center':'Price'}, xlabel='Price'> <AxesSubplot:>\n",
      " <AxesSubplot:> <AxesSubplot:>]\n",
      "[<AxesSubplot:title={'center':'Price'}, xlabel='Price'>\n",
      " <AxesSubplot:title={'center':'RegistrationYear'}, xlabel='RegistrationYear'>\n",
      " <AxesSubplot:> <AxesSubplot:>]\n",
      "[<AxesSubplot:title={'center':'Price'}, xlabel='Price'>\n",
      " <AxesSubplot:title={'center':'RegistrationYear'}, xlabel='RegistrationYear'>\n",
      " <AxesSubplot:title={'center':'Power'}, xlabel='Power'> <AxesSubplot:>]\n"
     ]
    },
    {
     "data": {
      "image/png": "[encoded data removed]",
      "text/plain": [
       "<Figure size 720x720 with 4 Axes>"
      ]
     },
     "metadata": {
      "needs_background": "light"
     },
     "output_type": "display_data"
    }
   ],
   "source": [
    "boxplot_anomalies(auto,numeric)"
   ]
  },
  {
   "cell_type": "markdown",
   "metadata": {},
   "source": [
    "##### Аномалии по признаку 'Price'\n",
    "\n",
    "Много авто с аномально низкой ценой. Установим допустимую цену  > 300eu."
   ]
  },
  {
   "cell_type": "code",
   "execution_count": 12,
   "metadata": {},
   "outputs": [
    {
     "data": {
      "text/plain": [
       "0.06536406965620582"
      ]
     },
     "execution_count": 12,
     "metadata": {},
     "output_type": "execute_result"
    }
   ],
   "source": [
    "auto.loc[auto['Price'] <300, 'Price'].shape[0]/auto.shape[0] # доля меньше 7% "
   ]
  },
  {
   "cell_type": "code",
   "execution_count": 13,
   "metadata": {},
   "outputs": [],
   "source": [
    "auto = auto.loc[auto['Price'] >300]"
   ]
  },
  {
   "cell_type": "markdown",
   "metadata": {},
   "source": [
    "##### Аномалии по признаку 'RegistrationYear'\n",
    "\n",
    "Явные ошибки в указании года заменим медианой по столбцу."
   ]
  },
  {
   "cell_type": "code",
   "execution_count": 14,
   "metadata": {},
   "outputs": [],
   "source": [
    "auto.loc[(auto['RegistrationYear'] < 1990) & (auto['RegistrationYear'] >2021) , 'RegistrationYear'] = auto['RegistrationYear'].median()"
   ]
  },
  {
   "cell_type": "markdown",
   "metadata": {},
   "source": [
    "##### Аномалии по признаку 'Power'\n",
    "\n",
    "Множество нуливых значений, посмотрим их долю. "
   ]
  },
  {
   "cell_type": "code",
   "execution_count": 15,
   "metadata": {},
   "outputs": [
    {
     "data": {
      "text/plain": [
       "0.09499048633838192"
      ]
     },
     "execution_count": 15,
     "metadata": {},
     "output_type": "execute_result"
    }
   ],
   "source": [
    "auto.loc[auto['Power'] == 0].shape[0]/auto.shape[0]"
   ]
  },
  {
   "cell_type": "markdown",
   "metadata": {},
   "source": [
    "Поставим ограничение 50 л.с."
   ]
  },
  {
   "cell_type": "code",
   "execution_count": 16,
   "metadata": {},
   "outputs": [],
   "source": [
    "auto = auto.loc[auto['Power'] > 50]"
   ]
  },
  {
   "cell_type": "markdown",
   "metadata": {},
   "source": [
    "##### Аномалии по признаку 'Kilometer'\n",
    "\n",
    "Возможны продажи авто с небольшим пробегом, оставим."
   ]
  },
  {
   "cell_type": "code",
   "execution_count": 17,
   "metadata": {},
   "outputs": [
    {
     "data": {
      "image/png": "[encoded data removed]",
      "text/plain": [
       "<Figure size 720x720 with 4 Axes>"
      ]
     },
     "metadata": {
      "needs_background": "light"
     },
     "output_type": "display_data"
    }
   ],
   "source": [
    "distplot_anomalies(auto,numeric)"
   ]
  },
  {
   "cell_type": "markdown",
   "metadata": {},
   "source": [
    "#### Работа с пропусками\n",
    "\n",
    "При выводе auto.info() видно, что в данных есть пропуски, посмотрим долю пропусков."
   ]
  },
  {
   "cell_type": "code",
   "execution_count": 18,
   "metadata": {},
   "outputs": [
    {
     "data": {
      "text/plain": [
       "DateCrawled          0.000000\n",
       "Price                0.000000\n",
       "VehicleType          0.065167\n",
       "RegistrationYear     0.000000\n",
       "Gearbox              0.017418\n",
       "Power                0.000000\n",
       "Model                0.037792\n",
       "Kilometer            0.000000\n",
       "RegistrationMonth    0.000000\n",
       "FuelType             0.059258\n",
       "Brand                0.000000\n",
       "NotRepaired          0.144230\n",
       "DateCreated          0.000000\n",
       "NumberOfPictures     0.000000\n",
       "PostalCode           0.000000\n",
       "LastSeen             0.000000\n",
       "dtype: float64"
      ]
     },
     "execution_count": 18,
     "metadata": {},
     "output_type": "execute_result"
    }
   ],
   "source": [
    "auto.isna().sum()/auto.shape[0]"
   ]
  },
  {
   "cell_type": "markdown",
   "metadata": {},
   "source": [
    "Пропуски только в категориальных признаках. Самая существенная доля пропусков по признаку NotRepaired ~ 15%.\n",
    "Заполним пропуски специальным значением 'Nan'."
   ]
  },
  {
   "cell_type": "code",
   "execution_count": 19,
   "metadata": {},
   "outputs": [
    {
     "data": {
      "text/plain": [
       "DateCrawled          0\n",
       "Price                0\n",
       "VehicleType          0\n",
       "RegistrationYear     0\n",
       "Gearbox              0\n",
       "Power                0\n",
       "Model                0\n",
       "Kilometer            0\n",
       "RegistrationMonth    0\n",
       "FuelType             0\n",
       "Brand                0\n",
       "NotRepaired          0\n",
       "DateCreated          0\n",
       "NumberOfPictures     0\n",
       "PostalCode           0\n",
       "LastSeen             0\n",
       "dtype: int64"
      ]
     },
     "execution_count": 19,
     "metadata": {},
     "output_type": "execute_result"
    }
   ],
   "source": [
    "fill_columns = ['VehicleType','Gearbox','Model','FuelType','NotRepaired']\n",
    "\n",
    "auto[fill_columns] = auto[fill_columns].fillna('Nan') \n",
    "auto.isna().sum()"
   ]
  },
  {
   "cell_type": "markdown",
   "metadata": {},
   "source": [
    "#### Проверка на явные дубликаты"
   ]
  },
  {
   "cell_type": "code",
   "execution_count": 20,
   "metadata": {},
   "outputs": [
    {
     "data": {
      "text/plain": [
       "4"
      ]
     },
     "execution_count": 20,
     "metadata": {},
     "output_type": "execute_result"
    }
   ],
   "source": [
    "auto.duplicated().sum()"
   ]
  },
  {
   "cell_type": "code",
   "execution_count": 21,
   "metadata": {},
   "outputs": [
    {
     "data": {
      "text/plain": [
       "0"
      ]
     },
     "execution_count": 21,
     "metadata": {},
     "output_type": "execute_result"
    }
   ],
   "source": [
    "auto = auto.drop_duplicates()\n",
    "auto.duplicated().sum()"
   ]
  },
  {
   "cell_type": "markdown",
   "metadata": {},
   "source": [
    "Просмотрим категориальные признаки на наличие неявных дубликатов."
   ]
  },
  {
   "cell_type": "code",
   "execution_count": 22,
   "metadata": {},
   "outputs": [
    {
     "data": {
      "text/plain": [
       "array(['coupe', 'suv', 'small', 'sedan', 'convertible', 'bus', 'wagon',\n",
       "       'Nan', 'other'], dtype=object)"
      ]
     },
     "execution_count": 22,
     "metadata": {},
     "output_type": "execute_result"
    }
   ],
   "source": [
    "auto['VehicleType'].unique()"
   ]
  },
  {
   "cell_type": "code",
   "execution_count": 23,
   "metadata": {},
   "outputs": [
    {
     "data": {
      "text/plain": [
       "array(['manual', 'auto', 'Nan'], dtype=object)"
      ]
     },
     "execution_count": 23,
     "metadata": {},
     "output_type": "execute_result"
    }
   ],
   "source": [
    "auto['Gearbox'].unique()"
   ]
  },
  {
   "cell_type": "code",
   "execution_count": 24,
   "metadata": {},
   "outputs": [
    {
     "data": {
      "text/plain": [
       "array(['Nan', 'grand', 'golf', 'fabia', '3er', '2_reihe', 'c_max',\n",
       "       '3_reihe', 'passat', 'navara', 'twingo', 'a_klasse', 'scirocco',\n",
       "       '5er', 'meriva', 'other', 'c4', 'civic', 'punto', 'e_klasse',\n",
       "       'clio', 'kadett', 'one', 'fortwo', '1er', 'b_klasse', 'a8',\n",
       "       'jetta', 'astra', 'c_klasse', 'micra', 'vito', 'sprinter',\n",
       "       'escort', 'forester', 'xc_reihe', 'fiesta', 'scenic', 'a1',\n",
       "       'transporter', 'focus', 'a4', 'tt', 'a6', 'jazz', 'omega', 'polo',\n",
       "       'slk', '7er', 'combo', '80', '147', 'z_reihe', 'sportage',\n",
       "       'sorento', 'ibiza', 'mustang', 'eos', 'touran', 'getz', 'insignia',\n",
       "       'ka', 'almera', 'megane', 'a3', 'r19', 'caddy', 'corsa', 'mondeo',\n",
       "       'cordoba', 'colt', 'impreza', 'vectra', 'lupo', 'berlingo',\n",
       "       'tiguan', 'i_reihe', '6_reihe', 'panda', 'up', 'ceed', 'kangoo',\n",
       "       '5_reihe', 'yeti', 'octavia', 'zafira', 'mii', 'rx_reihe', '6er',\n",
       "       'modus', 'fox', 'matiz', 'beetle', 'rio', 'touareg', 'logan',\n",
       "       'spider', 'cuore', 's_max', 'a2', 'galaxy', 'c3', 'viano',\n",
       "       's_klasse', '1_reihe', 'sharan', 'avensis', 'roomster', 'sl',\n",
       "       'santa', 'leon', 'cooper', '4_reihe', 'a5', 'laguna', 'ptcruiser',\n",
       "       'clk', 'primera', 'espace', 'exeo', '159', 'transit', 'juke',\n",
       "       'x_reihe', 'v40', 'carisma', 'accord', 'corolla', 'lanos',\n",
       "       'phaeton', 'verso', 'rav', 'qashqai', 'swift', 'picanto',\n",
       "       'boxster', 'superb', 'stilo', 'alhambra', 'roadster', 'galant',\n",
       "       'justy', '90', 'sirion', 'signum', 'crossfire', 'agila', 'duster',\n",
       "       'v50', 'mx_reihe', 'c_reihe', 'v_klasse', 'm_klasse', 'yaris',\n",
       "       'c5', 'aygo', 'cc', 'carnival', 'fusion', '911', 'bora', 'cl',\n",
       "       'tigra', '156', '300c', '500', '100', 'cr_reihe', 'spark', 'kuga',\n",
       "       'x_type', 'ducato', 's_type', 'x_trail', 'toledo', 'altea',\n",
       "       'voyager', 'v70', 'bravo', 'forfour', 'tucson', 'c1', 'citigo',\n",
       "       'jimny', 'cayenne', 'wrangler', 'lybra', 'lancer', 'captiva', 'c2',\n",
       "       'discovery', 'freelander', 'sandero', 'q7', 'note', 'seicento',\n",
       "       'antara', '900', 'cherokee', 'clubman', 'arosa', 'defender',\n",
       "       'cx_reihe', 'legacy', 'pajero', 'auris', 'niva', 's60', 'm_reihe',\n",
       "       'nubira', 'vivaro', 'g_klasse', 'ypsilon', 'lodgy', 'range_rover',\n",
       "       '850', 'q3', 'serie_2', 'calibra', 'glk', 'charade', 'croma',\n",
       "       'outlander', 'kaefer', 'doblo', 'musa', '9000', 'kalos', 'v60',\n",
       "       'aveo', '200', '145', 'b_max', 'range_rover_sport', 'rangerover',\n",
       "       'q5', 'move', 'range_rover_evoque', 'materia', 'terios', 'gl',\n",
       "       'kalina', 'elefantino', 'delta', 'i3', 'samara', 'amarok', 'kappa',\n",
       "       'serie_3'], dtype=object)"
      ]
     },
     "execution_count": 24,
     "metadata": {},
     "output_type": "execute_result"
    }
   ],
   "source": [
    "auto['Model'].unique()"
   ]
  },
  {
   "cell_type": "code",
   "execution_count": 25,
   "metadata": {},
   "outputs": [
    {
     "data": {
      "text/plain": [
       "array(['gasoline', 'petrol', 'Nan', 'lpg', 'other', 'hybrid', 'cng',\n",
       "       'electric'], dtype=object)"
      ]
     },
     "execution_count": 25,
     "metadata": {},
     "output_type": "execute_result"
    }
   ],
   "source": [
    "auto['FuelType'].unique()"
   ]
  },
  {
   "cell_type": "code",
   "execution_count": 26,
   "metadata": {},
   "outputs": [
    {
     "data": {
      "text/plain": [
       "array(['audi', 'jeep', 'volkswagen', 'skoda', 'bmw', 'peugeot', 'ford',\n",
       "       'mazda', 'nissan', 'renault', 'mercedes_benz', 'opel', 'citroen',\n",
       "       'honda', 'fiat', 'mini', 'smart', 'hyundai', 'seat', 'subaru',\n",
       "       'volvo', 'mitsubishi', 'alfa_romeo', 'kia', 'lancia', 'toyota',\n",
       "       'chevrolet', 'dacia', 'suzuki', 'daihatsu', 'chrysler',\n",
       "       'sonstige_autos', 'jaguar', 'daewoo', 'rover', 'porsche', 'saab',\n",
       "       'land_rover', 'lada', 'trabant'], dtype=object)"
      ]
     },
     "execution_count": 26,
     "metadata": {},
     "output_type": "execute_result"
    }
   ],
   "source": [
    "auto['Brand'].unique()"
   ]
  },
  {
   "cell_type": "code",
   "execution_count": 27,
   "metadata": {},
   "outputs": [
    {
     "name": "stdout",
     "output_type": "stream",
     "text": [
      "(3,)\n"
     ]
    },
    {
     "data": {
      "text/plain": [
       "(0,)"
      ]
     },
     "execution_count": 27,
     "metadata": {},
     "output_type": "execute_result"
    }
   ],
   "source": [
    "print(auto.loc[auto['Model'] == 'rangerover','Model'].shape)\n",
    "auto.loc[auto['Model'] == 'rangerover','Model'] = 'range_rover'\n",
    "auto.loc[auto['Model'] == 'rangerover','Model'].shape"
   ]
  },
  {
   "cell_type": "markdown",
   "metadata": {},
   "source": [
    "#### Удаление избыточных признаков\n",
    "\n",
    "Удалим признаки не влияющие на вывод модели."
   ]
  },
  {
   "cell_type": "code",
   "execution_count": 28,
   "metadata": {},
   "outputs": [
    {
     "name": "stdout",
     "output_type": "stream",
     "text": [
      "<class 'pandas.core.frame.DataFrame'>\n",
      "Int64Index: 288549 entries, 1 to 354368\n",
      "Data columns (total 11 columns):\n",
      " #   Column             Non-Null Count   Dtype  \n",
      "---  ------             --------------   -----  \n",
      " 0   Price              288549 non-null  int64  \n",
      " 1   VehicleType        288549 non-null  object \n",
      " 2   RegistrationYear   288549 non-null  float64\n",
      " 3   Gearbox            288549 non-null  object \n",
      " 4   Power              288549 non-null  int64  \n",
      " 5   Model              288549 non-null  object \n",
      " 6   Kilometer          288549 non-null  int64  \n",
      " 7   RegistrationMonth  288549 non-null  int64  \n",
      " 8   FuelType           288549 non-null  object \n",
      " 9   Brand              288549 non-null  object \n",
      " 10  NotRepaired        288549 non-null  object \n",
      "dtypes: float64(1), int64(4), object(6)\n",
      "memory usage: 26.4+ MB\n"
     ]
    }
   ],
   "source": [
    "columns_drop = ['DateCrawled',  'DateCreated', 'NumberOfPictures','LastSeen','PostalCode']\n",
    "\n",
    "auto = auto.drop(columns_drop, axis=1)\n",
    "auto.info()"
   ]
  },
  {
   "cell_type": "markdown",
   "metadata": {},
   "source": [
    "#### Разделение данных"
   ]
  },
  {
   "cell_type": "code",
   "execution_count": 29,
   "metadata": {},
   "outputs": [],
   "source": [
    "features = auto.drop('Price',axis=1)\n",
    "target = auto['Price']"
   ]
  },
  {
   "cell_type": "markdown",
   "metadata": {},
   "source": [
    "## Обучение моделей"
   ]
  },
  {
   "cell_type": "markdown",
   "metadata": {},
   "source": [
    "#### Функция для оценки скорости работы модели\n",
    "Определим функцию, опредяляющую время обучения и время предсказания."
   ]
  },
  {
   "cell_type": "code",
   "execution_count": 30,
   "metadata": {},
   "outputs": [],
   "source": [
    "def model_time_rmse(model,features_train, target_train, features_valid, target_valid):\n",
    "    \n",
    "    begin = time.time()\n",
    "    model.fit(features_train,target_train)\n",
    "    fit_time = time.time() - begin\n",
    "    \n",
    "    begin = time.time()\n",
    "    predictions = model.predict(features_valid)\n",
    "    predict_time = time.time() - begin\n",
    "    \n",
    "    metric = rmse(target_valid, predictions)\n",
    "    return fit_time, predict_time, metric\n",
    "    "
   ]
  },
  {
   "cell_type": "markdown",
   "metadata": {},
   "source": [
    "#### LinearRegression\n",
    "Начнем с более простой модели линейной регрессии."
   ]
  },
  {
   "cell_type": "markdown",
   "metadata": {},
   "source": [
    "Для линейной регрессии используем OHE кодирование."
   ]
  },
  {
   "cell_type": "code",
   "execution_count": 31,
   "metadata": {},
   "outputs": [],
   "source": [
    "# OHE\n",
    "features_ohe = pd.get_dummies(features, drop_first=True)"
   ]
  },
  {
   "cell_type": "code",
   "execution_count": 32,
   "metadata": {},
   "outputs": [
    {
     "data": {
      "text/plain": [
       "(288549, 309)"
      ]
     },
     "execution_count": 32,
     "metadata": {},
     "output_type": "execute_result"
    }
   ],
   "source": [
    "features_ohe.shape"
   ]
  },
  {
   "cell_type": "code",
   "execution_count": 34,
   "metadata": {},
   "outputs": [],
   "source": [
    "features_train_ohe, features_valid_ohe, target_train_ohe, target_valid_ohe = train_test_split(features_ohe,target,test_size=0.4,random_state=12345)\n",
    "features_valid_ohe,features_test_ohe, target_valid_ohe, target_test_ohe = train_test_split(features_valid_ohe,target_valid_ohe,test_size=0.5,random_state=12345)"
   ]
  },
  {
   "cell_type": "code",
   "execution_count": 35,
   "metadata": {},
   "outputs": [],
   "source": [
    "# LinearRegression\n",
    "linear_reg_model = LinearRegression()\n"
   ]
  },
  {
   "cell_type": "code",
   "execution_count": 36,
   "metadata": {},
   "outputs": [],
   "source": [
    "linear_reg_results = model_time_rmse(linear_reg_model,features_train_ohe, target_train_ohe,features_valid_ohe,target_valid_ohe)"
   ]
  },
  {
   "cell_type": "markdown",
   "metadata": {},
   "source": [
    "#### CatBoostRegressor"
   ]
  },
  {
   "cell_type": "markdown",
   "metadata": {},
   "source": [
    "Для этой модели не нужно использовать OHE, поэтому разделим признаки заново."
   ]
  },
  {
   "cell_type": "code",
   "execution_count": 37,
   "metadata": {},
   "outputs": [],
   "source": [
    "features_train, features_valid, target_train, target_valid = train_test_split(features,target,test_size=0.4,random_state=12345)\n",
    "features_valid,features_test, target_valid, target_test = train_test_split(features_valid,target_valid,test_size=0.5,random_state=12345)"
   ]
  },
  {
   "cell_type": "code",
   "execution_count": 38,
   "metadata": {},
   "outputs": [
    {
     "name": "stdout",
     "output_type": "stream",
     "text": [
      "<class 'pandas.core.frame.DataFrame'>\n",
      "Int64Index: 173129 entries, 229092 to 267224\n",
      "Data columns (total 10 columns):\n",
      " #   Column             Non-Null Count   Dtype  \n",
      "---  ------             --------------   -----  \n",
      " 0   VehicleType        173129 non-null  object \n",
      " 1   RegistrationYear   173129 non-null  float64\n",
      " 2   Gearbox            173129 non-null  object \n",
      " 3   Power              173129 non-null  int64  \n",
      " 4   Model              173129 non-null  object \n",
      " 5   Kilometer          173129 non-null  int64  \n",
      " 6   RegistrationMonth  173129 non-null  int64  \n",
      " 7   FuelType           173129 non-null  object \n",
      " 8   Brand              173129 non-null  object \n",
      " 9   NotRepaired        173129 non-null  object \n",
      "dtypes: float64(1), int64(3), object(6)\n",
      "memory usage: 14.5+ MB\n"
     ]
    }
   ],
   "source": [
    "features_train.info()"
   ]
  },
  {
   "cell_type": "code",
   "execution_count": 39,
   "metadata": {},
   "outputs": [],
   "source": [
    "cat_model = CatBoostRegressor(loss_function=\"RMSE\", iterations=50, random_state=12345)"
   ]
  },
  {
   "cell_type": "code",
   "execution_count": 40,
   "metadata": {},
   "outputs": [],
   "source": [
    "cat_features = ['VehicleType','Gearbox','Model','FuelType','Brand','NotRepaired']\n",
    "ignored_features = ['RegistrationMonth','Gearbox','FuelType']"
   ]
  },
  {
   "cell_type": "code",
   "execution_count": 41,
   "metadata": {},
   "outputs": [],
   "source": [
    "def model_time_rmse_cat(model,features_train, target_train, features_valid, target_valid,cat_features):\n",
    "    \n",
    "    begin = time.time()\n",
    "    model.fit(features_train,target_train,cat_features=cat_features, verbose=10)\n",
    "    fit_time = time.time() - begin\n",
    "    \n",
    "    begin = time.time()\n",
    "    predictions = model.predict(features_valid)\n",
    "    predict_time = time.time() - begin\n",
    "    \n",
    "    metric = rmse(target_valid, predictions)\n",
    "    return fit_time, predict_time, metric"
   ]
  },
  {
   "cell_type": "code",
   "execution_count": 42,
   "metadata": {},
   "outputs": [
    {
     "name": "stdout",
     "output_type": "stream",
     "text": [
      "Learning rate set to 0.5\n",
      "0:\tlearn: 3348.8451754\ttotal: 145ms\tremaining: 7.09s\n",
      "10:\tlearn: 1932.7180039\ttotal: 906ms\tremaining: 3.21s\n",
      "20:\tlearn: 1828.0117924\ttotal: 1.6s\tremaining: 2.21s\n",
      "30:\tlearn: 1771.9192215\ttotal: 2.25s\tremaining: 1.38s\n",
      "40:\tlearn: 1736.1506209\ttotal: 2.95s\tremaining: 648ms\n",
      "49:\tlearn: 1713.4967670\ttotal: 3.71s\tremaining: 0us\n"
     ]
    },
    {
     "data": {
      "text/plain": [
       "(4.612110376358032, 0.09244990348815918, 1740.6309260838098)"
      ]
     },
     "execution_count": 42,
     "metadata": {},
     "output_type": "execute_result"
    }
   ],
   "source": [
    "model_time_rmse_cat(cat_model,features_train, target_train, features_valid, target_valid,cat_features)"
   ]
  },
  {
   "cell_type": "code",
   "execution_count": 43,
   "metadata": {},
   "outputs": [],
   "source": [
    "# Функцию нагуглила\n",
    "def plot_feature_importance(importance,names,model_type):\n",
    "    \n",
    "    #Create arrays from feature importance and feature names\n",
    "    feature_importance = np.array(importance)\n",
    "    feature_names = np.array(names)\n",
    "    \n",
    "    #Create a DataFrame using a Dictionary\n",
    "    data={'feature_names':feature_names,'feature_importance':feature_importance}\n",
    "    fi_df = pd.DataFrame(data)\n",
    "    \n",
    "    #Sort the DataFrame in order decreasing feature importance\n",
    "    fi_df.sort_values(by=['feature_importance'], ascending=False,inplace=True)\n",
    "    \n",
    "    #Define size of bar plot\n",
    "    plt.figure(figsize=(10,8))\n",
    "    #Plot Searborn bar chart\n",
    "    sns.barplot(x=fi_df['feature_importance'], y=fi_df['feature_names'])\n",
    "    #Add chart labels\n",
    "    plt.title(model_type + 'FEATURE IMPORTANCE')\n",
    "    plt.xlabel('FEATURE IMPORTANCE')\n",
    "    plt.ylabel('FEATURE NAMES')"
   ]
  },
  {
   "cell_type": "code",
   "execution_count": 44,
   "metadata": {},
   "outputs": [
    {
     "data": {
      "image/png": "[encoded data removed]",
      "text/plain": [
       "<Figure size 720x576 with 1 Axes>"
      ]
     },
     "metadata": {
      "needs_background": "light"
     },
     "output_type": "display_data"
    }
   ],
   "source": [
    "plot_feature_importance(cat_model.get_feature_importance(),features_train.columns,'CATBOOST')"
   ]
  },
  {
   "cell_type": "markdown",
   "metadata": {},
   "source": [
    "Можно добавить игнорирование наименее значимых признаков."
   ]
  },
  {
   "cell_type": "code",
   "execution_count": 45,
   "metadata": {},
   "outputs": [],
   "source": [
    "cat_model = CatBoostRegressor(loss_function=\"RMSE\", iterations=50, random_state=12345,ignored_features=ignored_features)"
   ]
  },
  {
   "cell_type": "code",
   "execution_count": 46,
   "metadata": {},
   "outputs": [
    {
     "name": "stdout",
     "output_type": "stream",
     "text": [
      "Learning rate set to 0.5\n",
      "0:\tlearn: 3319.7283748\ttotal: 68.6ms\tremaining: 3.36s\n",
      "10:\tlearn: 1948.0404841\ttotal: 615ms\tremaining: 2.18s\n",
      "20:\tlearn: 1853.8813965\ttotal: 1.12s\tremaining: 1.55s\n",
      "30:\tlearn: 1805.9872389\ttotal: 1.68s\tremaining: 1.03s\n",
      "40:\tlearn: 1766.6720293\ttotal: 2.29s\tremaining: 503ms\n",
      "49:\tlearn: 1743.0871636\ttotal: 2.78s\tremaining: 0us\n"
     ]
    },
    {
     "data": {
      "text/plain": [
       "(3.6574175357818604, 0.07226753234863281, 1758.0286067800373)"
      ]
     },
     "execution_count": 46,
     "metadata": {},
     "output_type": "execute_result"
    }
   ],
   "source": [
    "model_time_rmse_cat(cat_model,features_train, target_train, features_valid, target_valid,cat_features)"
   ]
  },
  {
   "cell_type": "markdown",
   "metadata": {},
   "source": [
    "Воспользуемся кросс-валидацией GridSearchCV: для данной модели."
   ]
  },
  {
   "cell_type": "code",
   "execution_count": null,
   "metadata": {},
   "outputs": [],
   "source": [
    "model = CatBoostRegressor() \n",
    "params = {'learning_rate': [0.03, 0.1],\n",
    "          'depth': [4, 6, 10],\n",
    "          'l2_leaf_reg': [1, 3, 5, 7, 9]\n",
    "         }\n",
    "\n",
    "grid = GridSearchCV(model, params, scoring='neg_mean_squared_error')\n",
    "grid.fit(features_train, target_train,cat_features=cat_features)\n",
    "\n",
    "print('Лучшие параметры',grid.best_params_)"
   ]
  },
  {
   "cell_type": "markdown",
   "metadata": {},
   "source": [
    "Лучшие параметры {'depth': 10, 'l2_leaf_reg': 1, 'learning_rate': 0.1}"
   ]
  },
  {
   "cell_type": "code",
   "execution_count": 53,
   "metadata": {},
   "outputs": [],
   "source": [
    "cat_model = CatBoostRegressor(loss_function=\"RMSE\", iterations=50, random_state=12345,ignored_features=ignored_features,depth=10,learning_rate=0.1,l2_leaf_reg=1)"
   ]
  },
  {
   "cell_type": "code",
   "execution_count": 54,
   "metadata": {},
   "outputs": [
    {
     "name": "stdout",
     "output_type": "stream",
     "text": [
      "0:\tlearn: 4286.2730288\ttotal: 106ms\tremaining: 5.2s\n",
      "10:\tlearn: 2572.2152973\ttotal: 1.02s\tremaining: 3.62s\n",
      "20:\tlearn: 2035.3225475\ttotal: 1.9s\tremaining: 2.63s\n",
      "30:\tlearn: 1868.1747959\ttotal: 2.79s\tremaining: 1.71s\n",
      "40:\tlearn: 1804.6754747\ttotal: 3.73s\tremaining: 819ms\n",
      "49:\tlearn: 1773.2330088\ttotal: 4.56s\tremaining: 0us\n"
     ]
    }
   ],
   "source": [
    "cat_model_results = model_time_rmse_cat(cat_model,features_train, target_train, features_valid, target_valid,cat_features)"
   ]
  },
  {
   "cell_type": "markdown",
   "metadata": {},
   "source": [
    "#### LightGBM "
   ]
  },
  {
   "cell_type": "code",
   "execution_count": 49,
   "metadata": {},
   "outputs": [],
   "source": [
    "lgbm_model = LGBMRegressor(num_leaves=31, learning_rate=0.1, n_estimators=20, random_state=12345)"
   ]
  },
  {
   "cell_type": "code",
   "execution_count": 51,
   "metadata": {},
   "outputs": [],
   "source": [
    "lgbm_model_results = model_time_rmse(lgbm_model, features_train_ohe, target_train_ohe,features_valid_ohe,target_valid_ohe)"
   ]
  },
  {
   "cell_type": "markdown",
   "metadata": {},
   "source": [
    "## Прогон на тестовой выборке"
   ]
  },
  {
   "cell_type": "code",
   "execution_count": 57,
   "metadata": {},
   "outputs": [],
   "source": [
    "test_result_linear_reg = model_time_rmse(linear_reg_model,features_train_ohe, target_train_ohe,features_test_ohe,target_test_ohe)"
   ]
  },
  {
   "cell_type": "code",
   "execution_count": 59,
   "metadata": {},
   "outputs": [
    {
     "data": {
      "text/plain": [
       "(57.74160122871399, 0.24706673622131348, 3109.254216652626)"
      ]
     },
     "execution_count": 59,
     "metadata": {},
     "output_type": "execute_result"
    }
   ],
   "source": [
    "test_result_linear_reg"
   ]
  },
  {
   "cell_type": "code",
   "execution_count": 60,
   "metadata": {},
   "outputs": [
    {
     "name": "stdout",
     "output_type": "stream",
     "text": [
      "0:\tlearn: 4286.2730288\ttotal: 132ms\tremaining: 6.47s\n",
      "10:\tlearn: 2572.2152973\ttotal: 1.08s\tremaining: 3.82s\n",
      "20:\tlearn: 2035.3225475\ttotal: 2.08s\tremaining: 2.87s\n",
      "30:\tlearn: 1868.1747959\ttotal: 3.06s\tremaining: 1.88s\n",
      "40:\tlearn: 1804.6754747\ttotal: 3.98s\tremaining: 873ms\n",
      "49:\tlearn: 1773.2330088\ttotal: 4.86s\tremaining: 0us\n"
     ]
    },
    {
     "data": {
      "text/plain": [
       "(5.77178430557251, 0.0831754207611084, 1779.6714154159783)"
      ]
     },
     "execution_count": 60,
     "metadata": {},
     "output_type": "execute_result"
    }
   ],
   "source": [
    "test_result_catboost = model_time_rmse_cat(cat_model,features_train, target_train, features_test, target_test,cat_features)\n",
    "test_result_catboost"
   ]
  },
  {
   "cell_type": "code",
   "execution_count": 61,
   "metadata": {},
   "outputs": [
    {
     "data": {
      "text/plain": [
       "(77.1848828792572, 0.3994452953338623, 2098.0084189800314)"
      ]
     },
     "execution_count": 61,
     "metadata": {},
     "output_type": "execute_result"
    }
   ],
   "source": [
    "test_result_lgbm =  model_time_rmse(lgbm_model, features_train_ohe, target_train_ohe, features_test_ohe, target_test_ohe)\n",
    "test_result_lgbm"
   ]
  },
  {
   "cell_type": "markdown",
   "metadata": {},
   "source": [
    "## Анализ моделей"
   ]
  },
  {
   "cell_type": "code",
   "execution_count": 55,
   "metadata": {},
   "outputs": [],
   "source": [
    "result_models = {'LinearRegression':linear_reg_results,'CatBoostRegressor':cat_model_results,'LGBMRegressor':lgbm_model_results}\n",
    "results =  pd.DataFrame(result_models)"
   ]
  },
  {
   "cell_type": "code",
   "execution_count": 56,
   "metadata": {},
   "outputs": [
    {
     "data": {
      "text/html": [
       "<div>\n",
       "<style scoped>\n",
       "    .dataframe tbody tr th:only-of-type {\n",
       "        vertical-align: middle;\n",
       "    }\n",
       "\n",
       "    .dataframe tbody tr th {\n",
       "        vertical-align: top;\n",
       "    }\n",
       "\n",
       "    .dataframe thead th {\n",
       "        text-align: right;\n",
       "    }\n",
       "</style>\n",
       "<table border=\"1\" class=\"dataframe\">\n",
       "  <thead>\n",
       "    <tr style=\"text-align: right;\">\n",
       "      <th></th>\n",
       "      <th>LinearRegression</th>\n",
       "      <th>CatBoostRegressor</th>\n",
       "      <th>LGBMRegressor</th>\n",
       "    </tr>\n",
       "  </thead>\n",
       "  <tbody>\n",
       "    <tr>\n",
       "      <th>0</th>\n",
       "      <td>33.864555</td>\n",
       "      <td>5.416279</td>\n",
       "      <td>98.321703</td>\n",
       "    </tr>\n",
       "    <tr>\n",
       "      <th>1</th>\n",
       "      <td>0.183017</td>\n",
       "      <td>0.080854</td>\n",
       "      <td>0.315523</td>\n",
       "    </tr>\n",
       "    <tr>\n",
       "      <th>2</th>\n",
       "      <td>3140.245283</td>\n",
       "      <td>1787.690238</td>\n",
       "      <td>2106.557580</td>\n",
       "    </tr>\n",
       "  </tbody>\n",
       "</table>\n",
       "</div>"
      ],
      "text/plain": [
       "   LinearRegression  CatBoostRegressor  LGBMRegressor\n",
       "0         33.864555           5.416279      98.321703\n",
       "1          0.183017           0.080854       0.315523\n",
       "2       3140.245283        1787.690238    2106.557580"
      ]
     },
     "execution_count": 56,
     "metadata": {},
     "output_type": "execute_result"
    }
   ],
   "source": [
    "results"
   ]
  },
  {
   "cell_type": "code",
   "execution_count": 62,
   "metadata": {},
   "outputs": [
    {
     "data": {
      "text/html": [
       "<div>\n",
       "<style scoped>\n",
       "    .dataframe tbody tr th:only-of-type {\n",
       "        vertical-align: middle;\n",
       "    }\n",
       "\n",
       "    .dataframe tbody tr th {\n",
       "        vertical-align: top;\n",
       "    }\n",
       "\n",
       "    .dataframe thead th {\n",
       "        text-align: right;\n",
       "    }\n",
       "</style>\n",
       "<table border=\"1\" class=\"dataframe\">\n",
       "  <thead>\n",
       "    <tr style=\"text-align: right;\">\n",
       "      <th></th>\n",
       "      <th>LinearRegression</th>\n",
       "      <th>CatBoostRegressor</th>\n",
       "      <th>LGBMRegressor</th>\n",
       "    </tr>\n",
       "  </thead>\n",
       "  <tbody>\n",
       "    <tr>\n",
       "      <th>0</th>\n",
       "      <td>57.741601</td>\n",
       "      <td>5.771784</td>\n",
       "      <td>77.184883</td>\n",
       "    </tr>\n",
       "    <tr>\n",
       "      <th>1</th>\n",
       "      <td>0.247067</td>\n",
       "      <td>0.083175</td>\n",
       "      <td>0.399445</td>\n",
       "    </tr>\n",
       "    <tr>\n",
       "      <th>2</th>\n",
       "      <td>3109.254217</td>\n",
       "      <td>1779.671415</td>\n",
       "      <td>2098.008419</td>\n",
       "    </tr>\n",
       "  </tbody>\n",
       "</table>\n",
       "</div>"
      ],
      "text/plain": [
       "   LinearRegression  CatBoostRegressor  LGBMRegressor\n",
       "0         57.741601           5.771784      77.184883\n",
       "1          0.247067           0.083175       0.399445\n",
       "2       3109.254217        1779.671415    2098.008419"
      ]
     },
     "execution_count": 62,
     "metadata": {},
     "output_type": "execute_result"
    }
   ],
   "source": [
    "test_result_models = {'LinearRegression':test_result_linear_reg,'CatBoostRegressor':test_result_catboost,'LGBMRegressor':test_result_lgbm}\n",
    "test_results =  pd.DataFrame(test_result_models)\n",
    "test_results"
   ]
  },
  {
   "cell_type": "markdown",
   "metadata": {},
   "source": [
    "#### Вывод: на основе результатов, предпочтительно использовать модель CatBoostRegressor.\n",
    "\n",
    "Результаты на валидационной выборке:\n",
    "\n",
    "- Скорость обучения:  5.416279\t\n",
    "- Скорость предсказания: 0.08085\n",
    "- RMSE: 1787.690238\t\t\n",
    "\n",
    "Результаты на тестовой выборке:\n",
    "\n",
    "- Скорость обучения:  5.771784\n",
    "- Скорость предсказания: 0.083175\n",
    "- RMSE: 1779.671415\t\t\t\n",
    "\n",
    "\n",
    "\n",
    "Модель LGBMRegressor показывает также неплохие результаты, незначительно уступает CatBoostRegressor по выбранной метрике, но сильно уступает по скорости обучения.\n",
    "\n",
    "\n",
    "В ходе работы было сделано:\n",
    "\n",
    "- Загрузка и подготовка данных.\n",
    "- Обучение разных моделей. \n",
    "- Настройка гиперпараметров для модели CatBoostRegressor.\n",
    "- Анализ скорости работы и качества моделей.\n"
   ]
  }
 ],
 "metadata": {
  "ExecuteTimeLog": [
   {
    "duration": 360,
    "start_time": "2022-06-30T08:38:59.599Z"
   },
   {
    "duration": 1024,
    "start_time": "2022-06-30T08:39:32.822Z"
   },
   {
    "duration": 21,
    "start_time": "2022-06-30T08:39:41.566Z"
   },
   {
    "duration": 107,
    "start_time": "2022-06-30T08:39:58.061Z"
   },
   {
    "duration": 106,
    "start_time": "2022-06-30T08:40:12.829Z"
   },
   {
    "duration": 101,
    "start_time": "2022-06-30T08:40:39.909Z"
   },
   {
    "duration": 97,
    "start_time": "2022-06-30T08:42:24.476Z"
   },
   {
    "duration": 5,
    "start_time": "2022-06-30T08:42:48.908Z"
   },
   {
    "duration": 4,
    "start_time": "2022-06-30T08:42:55.701Z"
   },
   {
    "duration": 97,
    "start_time": "2022-06-30T08:43:00.765Z"
   },
   {
    "duration": 484,
    "start_time": "2022-06-30T08:46:08.827Z"
   },
   {
    "duration": 61,
    "start_time": "2022-06-30T08:46:31.026Z"
   },
   {
    "duration": 480,
    "start_time": "2022-06-30T08:48:15.528Z"
   },
   {
    "duration": 887,
    "start_time": "2022-06-30T08:48:23.809Z"
   },
   {
    "duration": 63,
    "start_time": "2022-06-30T08:50:25.087Z"
   },
   {
    "duration": 962,
    "start_time": "2022-06-30T08:50:51.311Z"
   },
   {
    "duration": 7253,
    "start_time": "2022-06-30T08:52:16.857Z"
   },
   {
    "duration": 0,
    "start_time": "2022-06-30T08:52:43.123Z"
   },
   {
    "duration": 3,
    "start_time": "2022-06-30T08:53:05.470Z"
   },
   {
    "duration": 7210,
    "start_time": "2022-06-30T08:53:10.060Z"
   },
   {
    "duration": 545,
    "start_time": "2022-06-30T08:53:36.894Z"
   },
   {
    "duration": 609,
    "start_time": "2022-06-30T08:54:02.564Z"
   },
   {
    "duration": 519,
    "start_time": "2022-06-30T08:55:37.844Z"
   },
   {
    "duration": 662,
    "start_time": "2022-06-30T08:59:24.555Z"
   },
   {
    "duration": 50,
    "start_time": "2022-06-30T09:02:32.040Z"
   },
   {
    "duration": 367,
    "start_time": "2022-06-30T09:02:36.120Z"
   },
   {
    "duration": 399,
    "start_time": "2022-06-30T09:02:48.385Z"
   },
   {
    "duration": 542,
    "start_time": "2022-06-30T09:03:50.119Z"
   },
   {
    "duration": 536,
    "start_time": "2022-06-30T09:04:01.487Z"
   },
   {
    "duration": 420,
    "start_time": "2022-06-30T09:04:20.879Z"
   },
   {
    "duration": 447,
    "start_time": "2022-06-30T09:05:22.734Z"
   },
   {
    "duration": 593,
    "start_time": "2022-06-30T09:06:24.698Z"
   },
   {
    "duration": 451,
    "start_time": "2022-06-30T09:07:38.909Z"
   },
   {
    "duration": 497,
    "start_time": "2022-06-30T09:10:08.013Z"
   },
   {
    "duration": 425,
    "start_time": "2022-06-30T09:10:14.637Z"
   },
   {
    "duration": 537,
    "start_time": "2022-06-30T09:10:20.590Z"
   },
   {
    "duration": 450,
    "start_time": "2022-06-30T09:10:26.820Z"
   },
   {
    "duration": 519,
    "start_time": "2022-06-30T09:10:32.811Z"
   },
   {
    "duration": 506,
    "start_time": "2022-06-30T09:10:46.563Z"
   },
   {
    "duration": 605,
    "start_time": "2022-06-30T09:10:50.922Z"
   },
   {
    "duration": 536,
    "start_time": "2022-06-30T09:11:08.331Z"
   },
   {
    "duration": 539,
    "start_time": "2022-06-30T09:11:32.732Z"
   },
   {
    "duration": 380,
    "start_time": "2022-06-30T09:13:41.263Z"
   },
   {
    "duration": 659,
    "start_time": "2022-06-30T09:13:46.426Z"
   },
   {
    "duration": 49,
    "start_time": "2022-07-11T06:57:20.446Z"
   },
   {
    "duration": 1559,
    "start_time": "2022-07-11T06:57:24.863Z"
   },
   {
    "duration": 1033,
    "start_time": "2022-07-11T06:57:26.595Z"
   },
   {
    "duration": 18,
    "start_time": "2022-07-11T06:57:27.631Z"
   },
   {
    "duration": 94,
    "start_time": "2022-07-11T06:57:27.651Z"
   },
   {
    "duration": 128,
    "start_time": "2022-07-11T06:57:27.786Z"
   },
   {
    "duration": 120,
    "start_time": "2022-07-11T06:57:28.765Z"
   },
   {
    "duration": 423,
    "start_time": "2022-07-11T06:57:31.509Z"
   },
   {
    "duration": 988,
    "start_time": "2022-07-11T06:57:32.430Z"
   },
   {
    "duration": 595,
    "start_time": "2022-07-11T06:57:33.948Z"
   },
   {
    "duration": 398,
    "start_time": "2022-07-11T06:57:38.563Z"
   },
   {
    "duration": 639,
    "start_time": "2022-07-11T06:57:48.245Z"
   },
   {
    "duration": 495,
    "start_time": "2022-07-11T06:58:05.107Z"
   },
   {
    "duration": 34,
    "start_time": "2022-07-11T07:00:07.411Z"
   },
   {
    "duration": 48,
    "start_time": "2022-07-11T07:08:58.277Z"
   },
   {
    "duration": 1280,
    "start_time": "2022-07-11T07:10:14.815Z"
   },
   {
    "duration": 70,
    "start_time": "2022-07-11T07:10:19.317Z"
   },
   {
    "duration": 3,
    "start_time": "2022-07-11T07:10:25.405Z"
   },
   {
    "duration": 1063,
    "start_time": "2022-07-11T07:10:26.069Z"
   },
   {
    "duration": 16,
    "start_time": "2022-07-11T07:10:27.134Z"
   },
   {
    "duration": 90,
    "start_time": "2022-07-11T07:10:27.151Z"
   },
   {
    "duration": 132,
    "start_time": "2022-07-11T07:10:27.243Z"
   },
   {
    "duration": 124,
    "start_time": "2022-07-11T07:10:27.966Z"
   },
   {
    "duration": 448,
    "start_time": "2022-07-11T07:10:29.765Z"
   },
   {
    "duration": 989,
    "start_time": "2022-07-11T07:10:30.216Z"
   },
   {
    "duration": 604,
    "start_time": "2022-07-11T07:10:31.208Z"
   },
   {
    "duration": 464,
    "start_time": "2022-07-11T07:10:31.814Z"
   },
   {
    "duration": 31,
    "start_time": "2022-07-11T07:10:32.280Z"
   },
   {
    "duration": 44,
    "start_time": "2022-07-11T07:10:37.766Z"
   },
   {
    "duration": 988,
    "start_time": "2022-07-11T07:11:35.861Z"
   },
   {
    "duration": 17,
    "start_time": "2022-07-11T07:11:44.813Z"
   },
   {
    "duration": 4,
    "start_time": "2022-07-11T07:14:15.388Z"
   },
   {
    "duration": 9,
    "start_time": "2022-07-11T07:14:58.131Z"
   },
   {
    "duration": 3,
    "start_time": "2022-07-11T07:15:12.971Z"
   },
   {
    "duration": 578,
    "start_time": "2022-07-11T07:15:17.459Z"
   },
   {
    "duration": 6,
    "start_time": "2022-07-11T07:17:30.162Z"
   },
   {
    "duration": 3,
    "start_time": "2022-07-11T07:18:17.226Z"
   },
   {
    "duration": 2395,
    "start_time": "2022-07-11T07:18:39.451Z"
   },
   {
    "duration": 95,
    "start_time": "2022-07-11T07:22:47.905Z"
   },
   {
    "duration": 215,
    "start_time": "2022-07-11T07:23:51.255Z"
   },
   {
    "duration": 27,
    "start_time": "2022-07-11T07:23:56.455Z"
   },
   {
    "duration": 3,
    "start_time": "2022-07-11T07:24:31.024Z"
   },
   {
    "duration": 3,
    "start_time": "2022-07-11T07:24:31.600Z"
   },
   {
    "duration": 873,
    "start_time": "2022-07-11T07:24:32.479Z"
   },
   {
    "duration": 21,
    "start_time": "2022-07-11T07:24:33.354Z"
   },
   {
    "duration": 105,
    "start_time": "2022-07-11T07:24:33.379Z"
   },
   {
    "duration": 131,
    "start_time": "2022-07-11T07:24:33.486Z"
   },
   {
    "duration": 146,
    "start_time": "2022-07-11T07:24:34.030Z"
   },
   {
    "duration": 407,
    "start_time": "2022-07-11T07:24:36.143Z"
   },
   {
    "duration": 893,
    "start_time": "2022-07-11T07:24:36.552Z"
   },
   {
    "duration": 640,
    "start_time": "2022-07-11T07:24:37.447Z"
   },
   {
    "duration": 509,
    "start_time": "2022-07-11T07:24:38.089Z"
   },
   {
    "duration": 240,
    "start_time": "2022-07-11T07:24:38.601Z"
   },
   {
    "duration": 37,
    "start_time": "2022-07-11T07:24:38.843Z"
   },
   {
    "duration": 36,
    "start_time": "2022-07-11T07:24:44.711Z"
   },
   {
    "duration": 856,
    "start_time": "2022-07-11T07:24:46.222Z"
   },
   {
    "duration": 4,
    "start_time": "2022-07-11T07:24:47.735Z"
   },
   {
    "duration": 472,
    "start_time": "2022-07-11T07:24:48.414Z"
   },
   {
    "duration": 4926,
    "start_time": "2022-07-11T07:24:49.896Z"
   },
   {
    "duration": 9,
    "start_time": "2022-07-11T07:32:01.196Z"
   },
   {
    "duration": 58,
    "start_time": "2022-07-11T07:32:04.480Z"
   },
   {
    "duration": 3,
    "start_time": "2022-07-11T07:32:08.548Z"
   },
   {
    "duration": 22,
    "start_time": "2022-07-11T07:33:31.834Z"
   },
   {
    "duration": 1666,
    "start_time": "2022-07-13T07:17:16.258Z"
   },
   {
    "duration": 3,
    "start_time": "2022-07-13T07:17:18.729Z"
   },
   {
    "duration": 1146,
    "start_time": "2022-07-13T07:17:20.297Z"
   },
   {
    "duration": 33,
    "start_time": "2022-07-13T07:17:21.858Z"
   },
   {
    "duration": 127,
    "start_time": "2022-07-13T07:17:22.953Z"
   },
   {
    "duration": 4,
    "start_time": "2022-07-13T07:17:24.838Z"
   },
   {
    "duration": 127,
    "start_time": "2022-07-13T07:18:40.467Z"
   },
   {
    "duration": 144,
    "start_time": "2022-07-13T07:22:57.144Z"
   },
   {
    "duration": 86,
    "start_time": "2022-07-13T07:23:07.879Z"
   },
   {
    "duration": 35,
    "start_time": "2022-07-13T07:23:17.246Z"
   },
   {
    "duration": 13,
    "start_time": "2022-07-13T07:23:32.310Z"
   },
   {
    "duration": 2,
    "start_time": "2022-07-13T07:23:38.199Z"
   },
   {
    "duration": 3,
    "start_time": "2022-07-13T07:23:38.928Z"
   },
   {
    "duration": 931,
    "start_time": "2022-07-13T07:23:39.589Z"
   },
   {
    "duration": 12,
    "start_time": "2022-07-13T07:23:40.523Z"
   },
   {
    "duration": 121,
    "start_time": "2022-07-13T07:23:40.537Z"
   },
   {
    "duration": 7,
    "start_time": "2022-07-13T07:23:40.881Z"
   },
   {
    "duration": 135,
    "start_time": "2022-07-13T07:23:42.405Z"
   },
   {
    "duration": 144,
    "start_time": "2022-07-13T07:23:44.397Z"
   },
   {
    "duration": 117,
    "start_time": "2022-07-13T07:27:58.249Z"
   },
   {
    "duration": 251,
    "start_time": "2022-07-13T07:33:15.461Z"
   },
   {
    "duration": 314,
    "start_time": "2022-07-13T07:33:50.510Z"
   },
   {
    "duration": 610,
    "start_time": "2022-07-13T07:33:54.084Z"
   },
   {
    "duration": 3,
    "start_time": "2022-07-13T07:36:04.408Z"
   },
   {
    "duration": 15,
    "start_time": "2022-07-13T07:39:37.755Z"
   },
   {
    "duration": 402,
    "start_time": "2022-07-13T07:40:05.069Z"
   },
   {
    "duration": 33,
    "start_time": "2022-07-13T07:40:38.478Z"
   },
   {
    "duration": 7,
    "start_time": "2022-07-13T07:40:42.439Z"
   },
   {
    "duration": 7427,
    "start_time": "2022-07-13T07:40:43.102Z"
   },
   {
    "duration": 7,
    "start_time": "2022-07-13T07:52:42.476Z"
   },
   {
    "duration": 6741,
    "start_time": "2022-07-13T07:52:43.418Z"
   },
   {
    "duration": 41,
    "start_time": "2022-07-13T07:53:46.449Z"
   },
   {
    "duration": 3,
    "start_time": "2022-07-13T07:54:02.723Z"
   },
   {
    "duration": 6883,
    "start_time": "2022-07-13T07:54:06.308Z"
   },
   {
    "duration": 502,
    "start_time": "2022-07-13T07:54:28.796Z"
   },
   {
    "duration": 6,
    "start_time": "2022-07-13T07:54:59.679Z"
   },
   {
    "duration": 6475,
    "start_time": "2022-07-13T07:55:00.652Z"
   },
   {
    "duration": 6,
    "start_time": "2022-07-13T07:55:22.685Z"
   },
   {
    "duration": 6487,
    "start_time": "2022-07-13T07:55:23.084Z"
   },
   {
    "duration": 79,
    "start_time": "2022-07-13T07:55:59.114Z"
   },
   {
    "duration": 6529,
    "start_time": "2022-07-13T07:55:59.421Z"
   },
   {
    "duration": 5,
    "start_time": "2022-07-13T07:56:08.605Z"
   },
   {
    "duration": 6557,
    "start_time": "2022-07-13T07:56:09.293Z"
   },
   {
    "duration": 5,
    "start_time": "2022-07-13T07:56:29.821Z"
   },
   {
    "duration": 6525,
    "start_time": "2022-07-13T07:56:30.413Z"
   },
   {
    "duration": 5,
    "start_time": "2022-07-13T07:56:49.799Z"
   },
   {
    "duration": 6900,
    "start_time": "2022-07-13T07:56:50.549Z"
   },
   {
    "duration": 6,
    "start_time": "2022-07-13T07:57:09.586Z"
   },
   {
    "duration": 6588,
    "start_time": "2022-07-13T07:57:10.206Z"
   },
   {
    "duration": 5,
    "start_time": "2022-07-13T07:57:25.953Z"
   },
   {
    "duration": 6224,
    "start_time": "2022-07-13T07:57:26.598Z"
   },
   {
    "duration": 5,
    "start_time": "2022-07-13T07:57:40.778Z"
   },
   {
    "duration": 6405,
    "start_time": "2022-07-13T07:57:41.118Z"
   },
   {
    "duration": 15,
    "start_time": "2022-07-13T08:08:00.421Z"
   },
   {
    "duration": 6,
    "start_time": "2022-07-13T08:08:10.388Z"
   },
   {
    "duration": 19,
    "start_time": "2022-07-13T08:11:18.702Z"
   },
   {
    "duration": 24,
    "start_time": "2022-07-13T08:15:07.049Z"
   },
   {
    "duration": 27,
    "start_time": "2022-07-13T08:18:21.057Z"
   },
   {
    "duration": 15,
    "start_time": "2022-07-13T08:18:26.411Z"
   },
   {
    "duration": 15,
    "start_time": "2022-07-13T08:18:43.685Z"
   },
   {
    "duration": 31,
    "start_time": "2022-07-13T08:21:11.574Z"
   },
   {
    "duration": 6012,
    "start_time": "2022-07-13T08:23:14.214Z"
   },
   {
    "duration": 49,
    "start_time": "2022-07-13T08:26:25.449Z"
   },
   {
    "duration": 6236,
    "start_time": "2022-07-13T08:26:27.279Z"
   },
   {
    "duration": 897,
    "start_time": "2022-07-13T08:30:17.994Z"
   },
   {
    "duration": 13,
    "start_time": "2022-07-13T08:30:18.893Z"
   },
   {
    "duration": 96,
    "start_time": "2022-07-13T08:30:18.908Z"
   },
   {
    "duration": 4,
    "start_time": "2022-07-13T08:30:19.006Z"
   },
   {
    "duration": 145,
    "start_time": "2022-07-13T08:30:19.376Z"
   },
   {
    "duration": 107,
    "start_time": "2022-07-13T08:30:20.105Z"
   },
   {
    "duration": 107,
    "start_time": "2022-07-13T08:30:22.301Z"
   },
   {
    "duration": 239,
    "start_time": "2022-07-13T08:30:23.853Z"
   },
   {
    "duration": 178,
    "start_time": "2022-07-13T08:30:25.253Z"
   },
   {
    "duration": 348,
    "start_time": "2022-07-13T08:30:28.553Z"
   },
   {
    "duration": 3,
    "start_time": "2022-07-13T08:30:31.489Z"
   },
   {
    "duration": 4,
    "start_time": "2022-07-13T08:30:32.881Z"
   },
   {
    "duration": 6148,
    "start_time": "2022-07-13T08:30:33.748Z"
   },
   {
    "duration": 4,
    "start_time": "2022-07-13T08:30:59.462Z"
   },
   {
    "duration": 3,
    "start_time": "2022-07-13T08:31:00.157Z"
   },
   {
    "duration": 5,
    "start_time": "2022-07-13T08:31:01.896Z"
   },
   {
    "duration": 1052,
    "start_time": "2022-07-13T08:31:03.878Z"
   },
   {
    "duration": 3,
    "start_time": "2022-07-13T08:31:12.562Z"
   },
   {
    "duration": 6,
    "start_time": "2022-07-13T08:31:13.217Z"
   },
   {
    "duration": 6325,
    "start_time": "2022-07-13T08:31:16.236Z"
   },
   {
    "duration": 645,
    "start_time": "2022-07-13T08:31:28.810Z"
   },
   {
    "duration": 6,
    "start_time": "2022-07-13T08:31:35.906Z"
   },
   {
    "duration": 20,
    "start_time": "2022-07-13T08:31:37.757Z"
   },
   {
    "duration": 26,
    "start_time": "2022-07-13T08:31:39.555Z"
   },
   {
    "duration": 45,
    "start_time": "2022-07-13T08:31:41.289Z"
   },
   {
    "duration": 5741,
    "start_time": "2022-07-13T08:31:45.578Z"
   },
   {
    "duration": 124,
    "start_time": "2022-07-13T08:32:11.514Z"
   },
   {
    "duration": 149,
    "start_time": "2022-07-13T08:33:16.004Z"
   },
   {
    "duration": 1728,
    "start_time": "2022-07-13T08:36:02.383Z"
   },
   {
    "duration": 2,
    "start_time": "2022-07-13T08:36:04.114Z"
   },
   {
    "duration": 17,
    "start_time": "2022-07-13T08:36:04.118Z"
   },
   {
    "duration": 934,
    "start_time": "2022-07-13T08:36:04.137Z"
   },
   {
    "duration": 23,
    "start_time": "2022-07-13T08:36:05.073Z"
   },
   {
    "duration": 182,
    "start_time": "2022-07-13T08:36:05.099Z"
   },
   {
    "duration": 5,
    "start_time": "2022-07-13T08:36:05.283Z"
   },
   {
    "duration": 197,
    "start_time": "2022-07-13T08:36:05.291Z"
   },
   {
    "duration": 145,
    "start_time": "2022-07-13T08:36:05.491Z"
   },
   {
    "duration": 3,
    "start_time": "2022-07-13T08:36:05.638Z"
   },
   {
    "duration": 9,
    "start_time": "2022-07-13T08:36:05.643Z"
   },
   {
    "duration": 6867,
    "start_time": "2022-07-13T08:36:05.654Z"
   },
   {
    "duration": 672,
    "start_time": "2022-07-13T08:36:12.522Z"
   },
   {
    "duration": 5,
    "start_time": "2022-07-13T08:36:13.196Z"
   },
   {
    "duration": 22,
    "start_time": "2022-07-13T08:36:13.203Z"
   },
   {
    "duration": 12,
    "start_time": "2022-07-13T08:36:13.227Z"
   },
   {
    "duration": 57,
    "start_time": "2022-07-13T08:36:13.240Z"
   },
   {
    "duration": 6254,
    "start_time": "2022-07-13T08:36:13.299Z"
   },
   {
    "duration": 93,
    "start_time": "2022-07-13T08:36:19.555Z"
   },
   {
    "duration": 196,
    "start_time": "2022-07-13T08:36:19.650Z"
   },
   {
    "duration": 165,
    "start_time": "2022-07-13T08:36:19.848Z"
   },
   {
    "duration": 320,
    "start_time": "2022-07-13T08:36:20.015Z"
   },
   {
    "duration": 137,
    "start_time": "2022-07-13T08:36:20.337Z"
   },
   {
    "duration": 0,
    "start_time": "2022-07-13T08:36:20.477Z"
   },
   {
    "duration": 0,
    "start_time": "2022-07-13T08:36:20.479Z"
   },
   {
    "duration": 0,
    "start_time": "2022-07-13T08:36:20.480Z"
   },
   {
    "duration": 0,
    "start_time": "2022-07-13T08:36:20.482Z"
   },
   {
    "duration": 0,
    "start_time": "2022-07-13T08:36:20.483Z"
   },
   {
    "duration": 0,
    "start_time": "2022-07-13T08:36:20.485Z"
   },
   {
    "duration": 0,
    "start_time": "2022-07-13T08:36:20.486Z"
   },
   {
    "duration": 1969,
    "start_time": "2022-07-13T08:38:19.053Z"
   },
   {
    "duration": 3,
    "start_time": "2022-07-13T08:38:21.023Z"
   },
   {
    "duration": 8,
    "start_time": "2022-07-13T08:38:21.029Z"
   },
   {
    "duration": 836,
    "start_time": "2022-07-13T08:38:21.040Z"
   },
   {
    "duration": 19,
    "start_time": "2022-07-13T08:38:21.879Z"
   },
   {
    "duration": 87,
    "start_time": "2022-07-13T08:38:21.900Z"
   },
   {
    "duration": 4,
    "start_time": "2022-07-13T08:38:21.988Z"
   },
   {
    "duration": 135,
    "start_time": "2022-07-13T08:38:21.993Z"
   },
   {
    "duration": 2,
    "start_time": "2022-07-13T08:38:22.130Z"
   },
   {
    "duration": 24,
    "start_time": "2022-07-13T08:38:22.137Z"
   },
   {
    "duration": 5656,
    "start_time": "2022-07-13T08:38:22.163Z"
   },
   {
    "duration": 566,
    "start_time": "2022-07-13T08:38:27.821Z"
   },
   {
    "duration": 6,
    "start_time": "2022-07-13T08:38:28.389Z"
   },
   {
    "duration": 31,
    "start_time": "2022-07-13T08:38:28.396Z"
   },
   {
    "duration": 19,
    "start_time": "2022-07-13T08:38:28.429Z"
   },
   {
    "duration": 47,
    "start_time": "2022-07-13T08:38:28.461Z"
   },
   {
    "duration": 5124,
    "start_time": "2022-07-13T08:38:28.510Z"
   },
   {
    "duration": 103,
    "start_time": "2022-07-13T08:38:33.636Z"
   },
   {
    "duration": 217,
    "start_time": "2022-07-13T08:38:33.741Z"
   },
   {
    "duration": 362,
    "start_time": "2022-07-13T08:38:33.960Z"
   },
   {
    "duration": 789,
    "start_time": "2022-07-13T08:38:34.324Z"
   },
   {
    "duration": 105,
    "start_time": "2022-07-13T08:38:35.115Z"
   },
   {
    "duration": 133,
    "start_time": "2022-07-13T08:38:35.222Z"
   },
   {
    "duration": 0,
    "start_time": "2022-07-13T08:38:35.357Z"
   },
   {
    "duration": 0,
    "start_time": "2022-07-13T08:38:35.359Z"
   },
   {
    "duration": 0,
    "start_time": "2022-07-13T08:38:35.361Z"
   },
   {
    "duration": 0,
    "start_time": "2022-07-13T08:38:35.362Z"
   },
   {
    "duration": 0,
    "start_time": "2022-07-13T08:38:35.364Z"
   },
   {
    "duration": 0,
    "start_time": "2022-07-13T08:38:35.365Z"
   },
   {
    "duration": 0,
    "start_time": "2022-07-13T08:38:35.366Z"
   },
   {
    "duration": 49,
    "start_time": "2022-07-13T08:48:41.304Z"
   },
   {
    "duration": 4,
    "start_time": "2022-07-13T08:54:47.256Z"
   },
   {
    "duration": 20,
    "start_time": "2022-07-13T08:54:56.170Z"
   },
   {
    "duration": 4,
    "start_time": "2022-07-13T08:54:57.753Z"
   },
   {
    "duration": 877,
    "start_time": "2022-07-13T08:57:11.358Z"
   },
   {
    "duration": 5,
    "start_time": "2022-07-13T08:57:13.819Z"
   },
   {
    "duration": 498,
    "start_time": "2022-07-13T08:57:19.859Z"
   },
   {
    "duration": 7649,
    "start_time": "2022-07-13T08:57:24.946Z"
   },
   {
    "duration": 1426,
    "start_time": "2022-07-13T13:33:46.690Z"
   },
   {
    "duration": 3,
    "start_time": "2022-07-13T13:33:48.118Z"
   },
   {
    "duration": 7,
    "start_time": "2022-07-13T13:33:48.122Z"
   },
   {
    "duration": 1303,
    "start_time": "2022-07-13T13:33:48.130Z"
   },
   {
    "duration": 17,
    "start_time": "2022-07-13T13:33:49.435Z"
   },
   {
    "duration": 100,
    "start_time": "2022-07-13T13:33:49.454Z"
   },
   {
    "duration": 3,
    "start_time": "2022-07-13T13:33:49.556Z"
   },
   {
    "duration": 157,
    "start_time": "2022-07-13T13:33:49.575Z"
   },
   {
    "duration": 3,
    "start_time": "2022-07-13T13:33:49.733Z"
   },
   {
    "duration": 9,
    "start_time": "2022-07-13T13:33:49.737Z"
   },
   {
    "duration": 7890,
    "start_time": "2022-07-13T13:33:49.747Z"
   },
   {
    "duration": 661,
    "start_time": "2022-07-13T13:33:57.638Z"
   },
   {
    "duration": 6,
    "start_time": "2022-07-13T13:33:58.301Z"
   },
   {
    "duration": 22,
    "start_time": "2022-07-13T13:33:58.310Z"
   },
   {
    "duration": 55,
    "start_time": "2022-07-13T13:33:58.334Z"
   },
   {
    "duration": 44,
    "start_time": "2022-07-13T13:33:58.392Z"
   },
   {
    "duration": 6958,
    "start_time": "2022-07-13T13:33:58.438Z"
   },
   {
    "duration": 134,
    "start_time": "2022-07-13T13:34:05.398Z"
   },
   {
    "duration": 249,
    "start_time": "2022-07-13T13:34:05.534Z"
   },
   {
    "duration": 420,
    "start_time": "2022-07-13T13:34:05.786Z"
   },
   {
    "duration": 985,
    "start_time": "2022-07-13T13:34:06.208Z"
   },
   {
    "duration": 125,
    "start_time": "2022-07-13T13:34:07.195Z"
   },
   {
    "duration": 16,
    "start_time": "2022-07-13T13:34:07.321Z"
   },
   {
    "duration": 5,
    "start_time": "2022-07-13T13:34:07.339Z"
   },
   {
    "duration": 721,
    "start_time": "2022-07-13T13:34:07.345Z"
   },
   {
    "duration": 10,
    "start_time": "2022-07-13T13:34:08.068Z"
   },
   {
    "duration": 397,
    "start_time": "2022-07-13T13:34:08.082Z"
   },
   {
    "duration": 82371,
    "start_time": "2022-07-13T13:34:08.481Z"
   },
   {
    "duration": 0,
    "start_time": "2022-07-13T13:35:30.854Z"
   },
   {
    "duration": 0,
    "start_time": "2022-07-13T13:35:30.855Z"
   },
   {
    "duration": 0,
    "start_time": "2022-07-13T13:35:30.856Z"
   },
   {
    "duration": 4,
    "start_time": "2022-07-13T13:36:36.472Z"
   },
   {
    "duration": 63701,
    "start_time": "2022-07-13T13:36:46.777Z"
   },
   {
    "duration": 3,
    "start_time": "2022-07-13T13:39:11.717Z"
   },
   {
    "duration": 4,
    "start_time": "2022-07-13T13:39:13.418Z"
   },
   {
    "duration": 3,
    "start_time": "2022-07-13T13:39:14.804Z"
   },
   {
    "duration": 3,
    "start_time": "2022-07-13T13:40:42.013Z"
   },
   {
    "duration": 13,
    "start_time": "2022-07-13T13:41:55.979Z"
   },
   {
    "duration": 4,
    "start_time": "2022-07-13T13:42:01.184Z"
   },
   {
    "duration": 670,
    "start_time": "2022-07-13T13:42:06.622Z"
   },
   {
    "duration": 4,
    "start_time": "2022-07-13T13:42:07.294Z"
   },
   {
    "duration": 372,
    "start_time": "2022-07-13T13:42:07.884Z"
   },
   {
    "duration": 64398,
    "start_time": "2022-07-13T13:42:08.584Z"
   },
   {
    "duration": 111,
    "start_time": "2022-07-13T13:43:13.065Z"
   },
   {
    "duration": 8,
    "start_time": "2022-07-13T13:47:03.540Z"
   },
   {
    "duration": 15,
    "start_time": "2022-07-13T13:47:10.385Z"
   },
   {
    "duration": 12,
    "start_time": "2022-07-13T13:47:29.785Z"
   },
   {
    "duration": 1376,
    "start_time": "2022-07-13T13:47:49.889Z"
   },
   {
    "duration": 10,
    "start_time": "2022-07-13T13:47:51.267Z"
   },
   {
    "duration": 835,
    "start_time": "2022-07-13T13:47:51.281Z"
   },
   {
    "duration": 17,
    "start_time": "2022-07-13T13:47:52.118Z"
   },
   {
    "duration": 106,
    "start_time": "2022-07-13T13:47:52.138Z"
   },
   {
    "duration": 4,
    "start_time": "2022-07-13T13:47:52.246Z"
   },
   {
    "duration": 178,
    "start_time": "2022-07-13T13:47:52.251Z"
   },
   {
    "duration": 2,
    "start_time": "2022-07-13T13:47:52.431Z"
   },
   {
    "duration": 7,
    "start_time": "2022-07-13T13:47:52.435Z"
   },
   {
    "duration": 6461,
    "start_time": "2022-07-13T13:47:52.443Z"
   },
   {
    "duration": 627,
    "start_time": "2022-07-13T13:47:58.906Z"
   },
   {
    "duration": 6,
    "start_time": "2022-07-13T13:47:59.534Z"
   },
   {
    "duration": 32,
    "start_time": "2022-07-13T13:47:59.542Z"
   },
   {
    "duration": 24,
    "start_time": "2022-07-13T13:47:59.577Z"
   },
   {
    "duration": 68,
    "start_time": "2022-07-13T13:47:59.604Z"
   },
   {
    "duration": 5815,
    "start_time": "2022-07-13T13:47:59.674Z"
   },
   {
    "duration": 123,
    "start_time": "2022-07-13T13:48:05.491Z"
   },
   {
    "duration": 250,
    "start_time": "2022-07-13T13:48:05.616Z"
   },
   {
    "duration": 415,
    "start_time": "2022-07-13T13:48:05.868Z"
   },
   {
    "duration": 918,
    "start_time": "2022-07-13T13:48:06.285Z"
   },
   {
    "duration": 120,
    "start_time": "2022-07-13T13:48:07.205Z"
   },
   {
    "duration": 17,
    "start_time": "2022-07-13T13:48:07.327Z"
   },
   {
    "duration": 6,
    "start_time": "2022-07-13T13:48:07.346Z"
   },
   {
    "duration": 694,
    "start_time": "2022-07-13T13:48:07.354Z"
   },
   {
    "duration": 4,
    "start_time": "2022-07-13T13:48:08.051Z"
   },
   {
    "duration": 397,
    "start_time": "2022-07-13T13:48:08.060Z"
   },
   {
    "duration": 78007,
    "start_time": "2022-07-13T13:48:08.459Z"
   },
   {
    "duration": 227,
    "start_time": "2022-07-13T13:49:26.468Z"
   },
   {
    "duration": 0,
    "start_time": "2022-07-13T13:49:26.697Z"
   },
   {
    "duration": 0,
    "start_time": "2022-07-13T13:49:26.698Z"
   },
   {
    "duration": 0,
    "start_time": "2022-07-13T13:49:26.700Z"
   },
   {
    "duration": 4,
    "start_time": "2022-07-13T13:49:51.828Z"
   },
   {
    "duration": 13,
    "start_time": "2022-07-13T13:49:55.397Z"
   },
   {
    "duration": 3,
    "start_time": "2022-07-13T13:50:12.534Z"
   },
   {
    "duration": 76930,
    "start_time": "2022-07-13T13:50:15.647Z"
   },
   {
    "duration": 9,
    "start_time": "2022-07-13T13:52:42.162Z"
   },
   {
    "duration": 58882,
    "start_time": "2022-07-13T13:52:45.592Z"
   },
   {
    "duration": 12,
    "start_time": "2022-07-13T13:56:38.158Z"
   },
   {
    "duration": 69793,
    "start_time": "2022-07-13T13:56:44.985Z"
   },
   {
    "duration": 72,
    "start_time": "2022-07-13T13:58:38.462Z"
   },
   {
    "duration": 8,
    "start_time": "2022-07-13T13:58:39.489Z"
   },
   {
    "duration": 3,
    "start_time": "2022-07-13T13:58:53.732Z"
   },
   {
    "duration": 2,
    "start_time": "2022-07-13T13:59:01.748Z"
   },
   {
    "duration": 94,
    "start_time": "2022-07-13T13:59:03.452Z"
   },
   {
    "duration": 2989,
    "start_time": "2022-07-13T14:00:35.339Z"
   },
   {
    "duration": 303,
    "start_time": "2022-07-13T14:01:15.888Z"
   },
   {
    "duration": 4016,
    "start_time": "2022-07-13T14:01:22.357Z"
   },
   {
    "duration": 47,
    "start_time": "2022-07-14T06:47:31.986Z"
   },
   {
    "duration": 1644,
    "start_time": "2022-07-14T06:49:15.465Z"
   },
   {
    "duration": 3,
    "start_time": "2022-07-14T06:49:18.337Z"
   },
   {
    "duration": 1132,
    "start_time": "2022-07-14T06:49:19.120Z"
   },
   {
    "duration": 17,
    "start_time": "2022-07-14T06:49:20.254Z"
   },
   {
    "duration": 92,
    "start_time": "2022-07-14T06:49:20.273Z"
   },
   {
    "duration": 4,
    "start_time": "2022-07-14T06:49:20.367Z"
   },
   {
    "duration": 145,
    "start_time": "2022-07-14T06:49:20.373Z"
   },
   {
    "duration": 2,
    "start_time": "2022-07-14T06:49:20.608Z"
   },
   {
    "duration": 5,
    "start_time": "2022-07-14T06:49:20.856Z"
   },
   {
    "duration": 5888,
    "start_time": "2022-07-14T06:49:21.097Z"
   },
   {
    "duration": 579,
    "start_time": "2022-07-14T06:49:26.987Z"
   },
   {
    "duration": 6,
    "start_time": "2022-07-14T06:49:27.567Z"
   },
   {
    "duration": 23,
    "start_time": "2022-07-14T06:49:27.575Z"
   },
   {
    "duration": 20,
    "start_time": "2022-07-14T06:49:27.600Z"
   },
   {
    "duration": 67,
    "start_time": "2022-07-14T06:49:27.622Z"
   },
   {
    "duration": 5113,
    "start_time": "2022-07-14T06:49:27.691Z"
   },
   {
    "duration": 117,
    "start_time": "2022-07-14T06:49:32.806Z"
   },
   {
    "duration": 198,
    "start_time": "2022-07-14T06:49:32.926Z"
   },
   {
    "duration": 376,
    "start_time": "2022-07-14T06:49:33.126Z"
   },
   {
    "duration": 802,
    "start_time": "2022-07-14T06:49:33.504Z"
   },
   {
    "duration": 111,
    "start_time": "2022-07-14T06:49:34.308Z"
   },
   {
    "duration": 18,
    "start_time": "2022-07-14T06:49:35.800Z"
   },
   {
    "duration": 75,
    "start_time": "2022-07-14T06:49:44.663Z"
   },
   {
    "duration": 2,
    "start_time": "2022-07-14T06:49:50.538Z"
   },
   {
    "duration": 10,
    "start_time": "2022-07-14T06:49:51.968Z"
   },
   {
    "duration": 9,
    "start_time": "2022-07-14T06:50:04.290Z"
   },
   {
    "duration": 4,
    "start_time": "2022-07-14T06:50:14.361Z"
   },
   {
    "duration": 10,
    "start_time": "2022-07-14T06:50:19.073Z"
   },
   {
    "duration": 790,
    "start_time": "2022-07-14T06:50:29.018Z"
   },
   {
    "duration": 5,
    "start_time": "2022-07-14T06:50:30.312Z"
   },
   {
    "duration": 391,
    "start_time": "2022-07-14T06:50:31.105Z"
   },
   {
    "duration": 5413,
    "start_time": "2022-07-14T06:50:35.849Z"
   },
   {
    "duration": 23228,
    "start_time": "2022-07-14T07:02:13.220Z"
   },
   {
    "duration": 2,
    "start_time": "2022-07-14T07:02:38.085Z"
   },
   {
    "duration": 10,
    "start_time": "2022-07-14T07:02:40.444Z"
   },
   {
    "duration": 3,
    "start_time": "2022-07-14T07:02:47.599Z"
   },
   {
    "duration": 22517,
    "start_time": "2022-07-14T07:02:48.429Z"
   },
   {
    "duration": 4,
    "start_time": "2022-07-14T07:04:53.219Z"
   },
   {
    "duration": 3616,
    "start_time": "2022-07-14T07:04:53.901Z"
   },
   {
    "duration": 2,
    "start_time": "2022-07-14T07:04:57.519Z"
   },
   {
    "duration": 4,
    "start_time": "2022-07-14T07:05:17.915Z"
   },
   {
    "duration": 4335,
    "start_time": "2022-07-14T07:05:18.623Z"
   },
   {
    "duration": 4,
    "start_time": "2022-07-14T07:08:48.858Z"
   },
   {
    "duration": 6391,
    "start_time": "2022-07-14T07:08:49.775Z"
   },
   {
    "duration": 4,
    "start_time": "2022-07-14T07:09:00.160Z"
   },
   {
    "duration": 8,
    "start_time": "2022-07-14T07:09:10.020Z"
   },
   {
    "duration": 3,
    "start_time": "2022-07-14T07:09:38.297Z"
   },
   {
    "duration": 4112,
    "start_time": "2022-07-14T07:09:39.245Z"
   },
   {
    "duration": 4,
    "start_time": "2022-07-14T07:09:44.587Z"
   },
   {
    "duration": 9,
    "start_time": "2022-07-14T07:09:45.196Z"
   },
   {
    "duration": 1452,
    "start_time": "2022-07-16T08:43:11.940Z"
   },
   {
    "duration": 2,
    "start_time": "2022-07-16T08:43:13.394Z"
   },
   {
    "duration": 2824,
    "start_time": "2022-07-16T08:43:14.501Z"
   },
   {
    "duration": 16,
    "start_time": "2022-07-16T08:43:17.327Z"
   },
   {
    "duration": 82,
    "start_time": "2022-07-16T08:43:17.344Z"
   },
   {
    "duration": 3,
    "start_time": "2022-07-16T08:43:17.543Z"
   },
   {
    "duration": 96,
    "start_time": "2022-07-16T08:43:18.206Z"
   },
   {
    "duration": 2,
    "start_time": "2022-07-16T08:43:20.302Z"
   },
   {
    "duration": 4,
    "start_time": "2022-07-16T08:43:20.688Z"
   },
   {
    "duration": 5070,
    "start_time": "2022-07-16T08:43:21.943Z"
   },
   {
    "duration": 504,
    "start_time": "2022-07-16T08:43:27.015Z"
   },
   {
    "duration": 112,
    "start_time": "2022-07-16T08:44:09.352Z"
   },
   {
    "duration": 6,
    "start_time": "2022-07-16T08:44:29.256Z"
   },
   {
    "duration": 16,
    "start_time": "2022-07-16T08:45:19.488Z"
   },
   {
    "duration": 18,
    "start_time": "2022-07-16T08:45:20.912Z"
   },
   {
    "duration": 40,
    "start_time": "2022-07-16T08:45:22.760Z"
   },
   {
    "duration": 4323,
    "start_time": "2022-07-16T08:45:26.694Z"
   },
   {
    "duration": 671,
    "start_time": "2022-07-16T08:46:25.033Z"
   },
   {
    "duration": 11,
    "start_time": "2022-07-16T08:46:25.706Z"
   },
   {
    "duration": 84,
    "start_time": "2022-07-16T08:46:25.718Z"
   },
   {
    "duration": 3,
    "start_time": "2022-07-16T08:46:25.999Z"
   },
   {
    "duration": 94,
    "start_time": "2022-07-16T08:46:26.345Z"
   },
   {
    "duration": 3,
    "start_time": "2022-07-16T08:46:27.591Z"
   },
   {
    "duration": 3,
    "start_time": "2022-07-16T08:46:28.217Z"
   },
   {
    "duration": 5108,
    "start_time": "2022-07-16T08:46:29.491Z"
   },
   {
    "duration": 524,
    "start_time": "2022-07-16T08:46:34.601Z"
   },
   {
    "duration": 6,
    "start_time": "2022-07-16T08:46:48.530Z"
   },
   {
    "duration": 6,
    "start_time": "2022-07-16T08:47:10.420Z"
   },
   {
    "duration": 5,
    "start_time": "2022-07-16T08:48:44.891Z"
   },
   {
    "duration": 1269,
    "start_time": "2022-07-16T08:48:49.384Z"
   },
   {
    "duration": 638,
    "start_time": "2022-07-16T08:49:15.115Z"
   },
   {
    "duration": 12,
    "start_time": "2022-07-16T08:49:15.754Z"
   },
   {
    "duration": 76,
    "start_time": "2022-07-16T08:49:15.899Z"
   },
   {
    "duration": 4,
    "start_time": "2022-07-16T08:49:16.195Z"
   },
   {
    "duration": 94,
    "start_time": "2022-07-16T08:49:16.549Z"
   },
   {
    "duration": 3,
    "start_time": "2022-07-16T08:49:17.554Z"
   },
   {
    "duration": 4,
    "start_time": "2022-07-16T08:49:17.913Z"
   },
   {
    "duration": 4804,
    "start_time": "2022-07-16T08:49:18.700Z"
   },
   {
    "duration": 421,
    "start_time": "2022-07-16T08:49:23.506Z"
   },
   {
    "duration": 32,
    "start_time": "2022-07-16T08:49:27.843Z"
   },
   {
    "duration": 16,
    "start_time": "2022-07-16T08:49:30.134Z"
   },
   {
    "duration": 16,
    "start_time": "2022-07-16T08:49:31.867Z"
   },
   {
    "duration": 46,
    "start_time": "2022-07-16T08:49:33.411Z"
   },
   {
    "duration": 4248,
    "start_time": "2022-07-16T08:49:36.683Z"
   },
   {
    "duration": 78,
    "start_time": "2022-07-16T08:49:45.899Z"
   },
   {
    "duration": 137,
    "start_time": "2022-07-16T08:49:51.486Z"
   },
   {
    "duration": 15,
    "start_time": "2022-07-16T08:50:42.213Z"
   },
   {
    "duration": 15,
    "start_time": "2022-07-16T08:52:16.976Z"
   },
   {
    "duration": 17,
    "start_time": "2022-07-16T08:52:19.518Z"
   },
   {
    "duration": 16,
    "start_time": "2022-07-16T08:52:29.022Z"
   },
   {
    "duration": 1195,
    "start_time": "2022-07-16T08:52:32.261Z"
   },
   {
    "duration": 17,
    "start_time": "2022-07-16T08:52:36.767Z"
   },
   {
    "duration": 17,
    "start_time": "2022-07-16T08:57:00.026Z"
   },
   {
    "duration": 40,
    "start_time": "2022-07-16T08:57:22.825Z"
   },
   {
    "duration": 39,
    "start_time": "2022-07-16T08:57:34.810Z"
   },
   {
    "duration": 1292,
    "start_time": "2022-07-16T08:57:53.106Z"
   },
   {
    "duration": 2,
    "start_time": "2022-07-16T08:57:54.400Z"
   },
   {
    "duration": 706,
    "start_time": "2022-07-16T08:57:54.403Z"
   },
   {
    "duration": 19,
    "start_time": "2022-07-16T08:57:55.110Z"
   },
   {
    "duration": 147,
    "start_time": "2022-07-16T08:57:55.131Z"
   },
   {
    "duration": 3,
    "start_time": "2022-07-16T08:57:55.279Z"
   },
   {
    "duration": 107,
    "start_time": "2022-07-16T08:57:55.283Z"
   },
   {
    "duration": 3,
    "start_time": "2022-07-16T08:57:55.391Z"
   },
   {
    "duration": 9,
    "start_time": "2022-07-16T08:57:55.395Z"
   },
   {
    "duration": 5100,
    "start_time": "2022-07-16T08:57:55.406Z"
   },
   {
    "duration": 515,
    "start_time": "2022-07-16T08:58:00.508Z"
   },
   {
    "duration": 6,
    "start_time": "2022-07-16T08:58:01.025Z"
   },
   {
    "duration": 44,
    "start_time": "2022-07-16T08:58:01.032Z"
   },
   {
    "duration": 29,
    "start_time": "2022-07-16T08:58:01.078Z"
   },
   {
    "duration": 15,
    "start_time": "2022-07-16T08:58:01.109Z"
   },
   {
    "duration": 45,
    "start_time": "2022-07-16T08:58:01.126Z"
   },
   {
    "duration": 4308,
    "start_time": "2022-07-16T08:58:01.172Z"
   },
   {
    "duration": 80,
    "start_time": "2022-07-16T08:58:05.482Z"
   },
   {
    "duration": 146,
    "start_time": "2022-07-16T08:58:05.564Z"
   },
   {
    "duration": 326,
    "start_time": "2022-07-16T08:58:05.711Z"
   },
   {
    "duration": 670,
    "start_time": "2022-07-16T08:58:06.038Z"
   },
   {
    "duration": 15,
    "start_time": "2022-07-16T08:58:06.709Z"
   },
   {
    "duration": 32,
    "start_time": "2022-07-16T08:58:06.726Z"
   },
   {
    "duration": 37,
    "start_time": "2022-07-16T08:58:06.759Z"
   },
   {
    "duration": 33,
    "start_time": "2022-07-16T08:58:06.798Z"
   },
   {
    "duration": 25,
    "start_time": "2022-07-16T08:58:06.833Z"
   },
   {
    "duration": 56,
    "start_time": "2022-07-16T08:58:06.859Z"
   },
   {
    "duration": 96,
    "start_time": "2022-07-16T08:58:06.917Z"
   },
   {
    "duration": 0,
    "start_time": "2022-07-16T08:58:07.015Z"
   },
   {
    "duration": 0,
    "start_time": "2022-07-16T08:58:07.016Z"
   },
   {
    "duration": 0,
    "start_time": "2022-07-16T08:58:07.017Z"
   },
   {
    "duration": 0,
    "start_time": "2022-07-16T08:58:07.018Z"
   },
   {
    "duration": 0,
    "start_time": "2022-07-16T08:58:07.019Z"
   },
   {
    "duration": 0,
    "start_time": "2022-07-16T08:58:07.020Z"
   },
   {
    "duration": 0,
    "start_time": "2022-07-16T08:58:07.021Z"
   },
   {
    "duration": 0,
    "start_time": "2022-07-16T08:58:07.022Z"
   },
   {
    "duration": 0,
    "start_time": "2022-07-16T08:58:07.023Z"
   },
   {
    "duration": 0,
    "start_time": "2022-07-16T08:58:07.024Z"
   },
   {
    "duration": 0,
    "start_time": "2022-07-16T08:58:07.024Z"
   },
   {
    "duration": 0,
    "start_time": "2022-07-16T08:58:07.026Z"
   },
   {
    "duration": 0,
    "start_time": "2022-07-16T08:58:07.026Z"
   },
   {
    "duration": 0,
    "start_time": "2022-07-16T08:58:07.028Z"
   },
   {
    "duration": 72,
    "start_time": "2022-07-16T09:01:25.582Z"
   },
   {
    "duration": 13,
    "start_time": "2022-07-16T09:01:29.846Z"
   },
   {
    "duration": 3,
    "start_time": "2022-07-16T09:01:32.500Z"
   },
   {
    "duration": 504,
    "start_time": "2022-07-16T09:02:35.224Z"
   },
   {
    "duration": 137,
    "start_time": "2022-07-16T09:02:38.142Z"
   },
   {
    "duration": 84,
    "start_time": "2022-07-16T09:05:11.516Z"
   },
   {
    "duration": 329,
    "start_time": "2022-07-16T09:05:32.031Z"
   },
   {
    "duration": 253,
    "start_time": "2022-07-16T09:05:53.546Z"
   },
   {
    "duration": 10,
    "start_time": "2022-07-16T09:05:58.647Z"
   },
   {
    "duration": 82,
    "start_time": "2022-07-16T09:07:26.931Z"
   },
   {
    "duration": 336,
    "start_time": "2022-07-16T09:07:37.472Z"
   },
   {
    "duration": 322,
    "start_time": "2022-07-16T09:30:37.065Z"
   },
   {
    "duration": 125,
    "start_time": "2022-07-16T09:31:30.200Z"
   },
   {
    "duration": 77,
    "start_time": "2022-07-16T09:31:36.904Z"
   },
   {
    "duration": 2,
    "start_time": "2022-07-16T09:31:38.230Z"
   },
   {
    "duration": 3463,
    "start_time": "2022-07-16T09:31:40.049Z"
   },
   {
    "duration": 3,
    "start_time": "2022-07-16T09:36:41.075Z"
   },
   {
    "duration": 2967,
    "start_time": "2022-07-16T09:37:27.231Z"
   },
   {
    "duration": 36,
    "start_time": "2022-07-16T09:38:30.998Z"
   },
   {
    "duration": 3,
    "start_time": "2022-07-16T09:38:58.644Z"
   },
   {
    "duration": 4040,
    "start_time": "2022-07-16T09:38:59.429Z"
   },
   {
    "duration": 4,
    "start_time": "2022-07-16T09:41:44.646Z"
   },
   {
    "duration": 3,
    "start_time": "2022-07-16T09:42:24.951Z"
   },
   {
    "duration": 77,
    "start_time": "2022-07-16T09:43:04.409Z"
   },
   {
    "duration": 37,
    "start_time": "2022-07-16T09:43:04.921Z"
   },
   {
    "duration": 2,
    "start_time": "2022-07-16T09:43:06.159Z"
   },
   {
    "duration": 2,
    "start_time": "2022-07-16T09:43:06.831Z"
   },
   {
    "duration": 5,
    "start_time": "2022-07-16T09:43:07.391Z"
   },
   {
    "duration": 72,
    "start_time": "2022-07-16T09:43:08.175Z"
   },
   {
    "duration": 3793,
    "start_time": "2022-07-16T09:43:12.447Z"
   },
   {
    "duration": 4,
    "start_time": "2022-07-16T09:45:48.090Z"
   },
   {
    "duration": 4,
    "start_time": "2022-07-16T09:46:06.042Z"
   },
   {
    "duration": 9,
    "start_time": "2022-07-16T09:46:42.769Z"
   },
   {
    "duration": 12,
    "start_time": "2022-07-16T09:46:53.721Z"
   },
   {
    "duration": 3,
    "start_time": "2022-07-16T09:47:08.148Z"
   },
   {
    "duration": 4,
    "start_time": "2022-07-16T09:47:13.354Z"
   },
   {
    "duration": 162,
    "start_time": "2022-07-16T09:47:13.825Z"
   },
   {
    "duration": 197,
    "start_time": "2022-07-16T09:54:14.256Z"
   },
   {
    "duration": 4,
    "start_time": "2022-07-16T09:56:11.793Z"
   },
   {
    "duration": 12,
    "start_time": "2022-07-16T09:56:13.496Z"
   },
   {
    "duration": 4,
    "start_time": "2022-07-16T09:58:46.320Z"
   },
   {
    "duration": 11,
    "start_time": "2022-07-16T09:58:46.768Z"
   },
   {
    "duration": 3,
    "start_time": "2022-07-16T09:58:53.337Z"
   },
   {
    "duration": 4,
    "start_time": "2022-07-16T09:58:53.856Z"
   },
   {
    "duration": 11,
    "start_time": "2022-07-16T09:58:54.360Z"
   },
   {
    "duration": 3,
    "start_time": "2022-07-16T09:59:19.793Z"
   },
   {
    "duration": 3,
    "start_time": "2022-07-16T09:59:33.097Z"
   },
   {
    "duration": 3,
    "start_time": "2022-07-16T09:59:50.561Z"
   },
   {
    "duration": 3,
    "start_time": "2022-07-16T09:59:51.377Z"
   },
   {
    "duration": 4,
    "start_time": "2022-07-16T09:59:53.697Z"
   },
   {
    "duration": 3899,
    "start_time": "2022-07-16T09:59:55.782Z"
   },
   {
    "duration": 4,
    "start_time": "2022-07-16T09:59:59.683Z"
   },
   {
    "duration": 3,
    "start_time": "2022-07-16T10:00:09.004Z"
   },
   {
    "duration": 3030,
    "start_time": "2022-07-16T10:00:22.871Z"
   },
   {
    "duration": 9,
    "start_time": "2022-07-16T10:02:33.227Z"
   },
   {
    "duration": 11,
    "start_time": "2022-07-16T10:03:37.989Z"
   },
   {
    "duration": 3,
    "start_time": "2022-07-16T10:04:52.876Z"
   },
   {
    "duration": 11,
    "start_time": "2022-07-16T10:04:54.412Z"
   },
   {
    "duration": 3733,
    "start_time": "2022-07-16T10:05:00.132Z"
   },
   {
    "duration": 88,
    "start_time": "2022-07-16T10:05:53.813Z"
   },
   {
    "duration": 74,
    "start_time": "2022-07-16T10:05:58.573Z"
   },
   {
    "duration": 83,
    "start_time": "2022-07-16T10:07:45.367Z"
   },
   {
    "duration": 2800,
    "start_time": "2022-07-16T10:07:52.029Z"
   },
   {
    "duration": 15,
    "start_time": "2022-07-16T10:10:32.120Z"
   },
   {
    "duration": 74,
    "start_time": "2022-07-16T10:18:02.980Z"
   },
   {
    "duration": 124,
    "start_time": "2022-07-16T10:19:24.596Z"
   },
   {
    "duration": 9,
    "start_time": "2022-07-16T10:19:54.157Z"
   },
   {
    "duration": 3,
    "start_time": "2022-07-16T10:20:16.837Z"
   },
   {
    "duration": 34,
    "start_time": "2022-07-16T10:20:26.125Z"
   },
   {
    "duration": 3,
    "start_time": "2022-07-16T10:22:46.718Z"
   },
   {
    "duration": 34,
    "start_time": "2022-07-16T10:22:49.974Z"
   },
   {
    "duration": 77,
    "start_time": "2022-07-16T10:29:29.588Z"
   },
   {
    "duration": 49,
    "start_time": "2022-07-16T11:54:41.960Z"
   },
   {
    "duration": 1632,
    "start_time": "2022-07-16T11:55:00.176Z"
   },
   {
    "duration": 3,
    "start_time": "2022-07-16T11:55:01.812Z"
   },
   {
    "duration": 1153,
    "start_time": "2022-07-16T11:55:01.818Z"
   },
   {
    "duration": 17,
    "start_time": "2022-07-16T11:55:02.972Z"
   },
   {
    "duration": 84,
    "start_time": "2022-07-16T11:55:02.991Z"
   },
   {
    "duration": 4,
    "start_time": "2022-07-16T11:55:03.076Z"
   },
   {
    "duration": 135,
    "start_time": "2022-07-16T11:55:03.082Z"
   },
   {
    "duration": 5,
    "start_time": "2022-07-16T11:55:03.219Z"
   },
   {
    "duration": 4,
    "start_time": "2022-07-16T11:55:03.227Z"
   },
   {
    "duration": 5739,
    "start_time": "2022-07-16T11:55:03.232Z"
   },
   {
    "duration": 547,
    "start_time": "2022-07-16T11:55:08.973Z"
   },
   {
    "duration": 6,
    "start_time": "2022-07-16T11:55:09.524Z"
   },
   {
    "duration": 40,
    "start_time": "2022-07-16T11:55:09.531Z"
   },
   {
    "duration": 21,
    "start_time": "2022-07-16T11:55:09.573Z"
   },
   {
    "duration": 40,
    "start_time": "2022-07-16T11:55:09.595Z"
   },
   {
    "duration": 46,
    "start_time": "2022-07-16T11:55:09.637Z"
   },
   {
    "duration": 4639,
    "start_time": "2022-07-16T11:55:09.685Z"
   },
   {
    "duration": 109,
    "start_time": "2022-07-16T11:55:14.325Z"
   },
   {
    "duration": 197,
    "start_time": "2022-07-16T11:55:14.436Z"
   },
   {
    "duration": 341,
    "start_time": "2022-07-16T11:55:14.635Z"
   },
   {
    "duration": 714,
    "start_time": "2022-07-16T11:55:14.977Z"
   },
   {
    "duration": 16,
    "start_time": "2022-07-16T11:55:15.693Z"
   },
   {
    "duration": 24,
    "start_time": "2022-07-16T11:55:15.711Z"
   },
   {
    "duration": 20,
    "start_time": "2022-07-16T11:55:15.737Z"
   },
   {
    "duration": 16,
    "start_time": "2022-07-16T11:55:15.758Z"
   },
   {
    "duration": 49,
    "start_time": "2022-07-16T11:55:15.775Z"
   },
   {
    "duration": 45,
    "start_time": "2022-07-16T11:55:15.827Z"
   },
   {
    "duration": 98,
    "start_time": "2022-07-16T11:55:15.874Z"
   },
   {
    "duration": 13,
    "start_time": "2022-07-16T11:55:15.973Z"
   },
   {
    "duration": 3,
    "start_time": "2022-07-16T11:55:15.988Z"
   },
   {
    "duration": 575,
    "start_time": "2022-07-16T11:55:15.993Z"
   },
   {
    "duration": 3,
    "start_time": "2022-07-16T11:55:16.570Z"
   },
   {
    "duration": 422,
    "start_time": "2022-07-16T11:55:16.575Z"
   },
   {
    "duration": 3,
    "start_time": "2022-07-16T11:55:16.999Z"
   },
   {
    "duration": 16832,
    "start_time": "2022-07-16T11:55:17.003Z"
   },
   {
    "duration": 128,
    "start_time": "2022-07-16T11:55:33.923Z"
   },
   {
    "duration": 46,
    "start_time": "2022-07-16T11:55:34.052Z"
   },
   {
    "duration": 3,
    "start_time": "2022-07-16T11:55:34.099Z"
   },
   {
    "duration": 21,
    "start_time": "2022-07-16T11:55:34.103Z"
   },
   {
    "duration": 7,
    "start_time": "2022-07-16T11:55:34.126Z"
   },
   {
    "duration": 3955,
    "start_time": "2022-07-16T11:55:34.135Z"
   },
   {
    "duration": 4,
    "start_time": "2022-07-16T11:55:38.092Z"
   },
   {
    "duration": 194,
    "start_time": "2022-07-16T11:55:38.097Z"
   },
   {
    "duration": 5,
    "start_time": "2022-07-16T11:55:38.293Z"
   },
   {
    "duration": 3250,
    "start_time": "2022-07-16T11:55:38.300Z"
   },
   {
    "duration": 2,
    "start_time": "2022-07-16T11:55:41.552Z"
   },
   {
    "duration": 143,
    "start_time": "2022-07-16T11:55:41.556Z"
   },
   {
    "duration": 0,
    "start_time": "2022-07-16T11:55:41.701Z"
   },
   {
    "duration": 0,
    "start_time": "2022-07-16T11:55:41.702Z"
   },
   {
    "duration": 0,
    "start_time": "2022-07-16T11:55:41.703Z"
   },
   {
    "duration": 0,
    "start_time": "2022-07-16T11:55:41.704Z"
   },
   {
    "duration": 0,
    "start_time": "2022-07-16T11:55:41.705Z"
   },
   {
    "duration": 0,
    "start_time": "2022-07-16T11:55:41.707Z"
   },
   {
    "duration": 10,
    "start_time": "2022-07-16T11:55:49.826Z"
   },
   {
    "duration": 5,
    "start_time": "2022-07-16T11:56:38.507Z"
   },
   {
    "duration": 35533,
    "start_time": "2022-07-16T11:56:46.300Z"
   },
   {
    "duration": 30554155,
    "start_time": "2022-07-16T11:58:16.243Z"
   },
   {
    "duration": 1604064,
    "start_time": "2022-07-16T20:55:21.807Z"
   },
   {
    "duration": 26522958,
    "start_time": "2022-07-16T21:28:45.188Z"
   },
   {
    "duration": 4,
    "start_time": "2022-07-17T13:33:13.847Z"
   },
   {
    "duration": 5136,
    "start_time": "2022-07-17T13:33:32.336Z"
   },
   {
    "duration": 3,
    "start_time": "2022-07-17T13:35:17.962Z"
   },
   {
    "duration": 24,
    "start_time": "2022-07-17T13:35:18.790Z"
   },
   {
    "duration": 454,
    "start_time": "2022-07-17T13:35:47.577Z"
   },
   {
    "duration": 486,
    "start_time": "2022-07-17T13:35:55.301Z"
   },
   {
    "duration": 8,
    "start_time": "2022-07-17T13:35:56.450Z"
   },
   {
    "duration": 110375,
    "start_time": "2022-07-17T13:35:57.354Z"
   },
   {
    "duration": 388,
    "start_time": "2022-07-17T13:38:45.709Z"
   },
   {
    "duration": 25112,
    "start_time": "2022-07-17T13:38:59.147Z"
   },
   {
    "duration": 28117,
    "start_time": "2022-07-17T13:40:05.350Z"
   },
   {
    "duration": 4,
    "start_time": "2022-07-17T13:40:52.997Z"
   },
   {
    "duration": 100,
    "start_time": "2022-07-17T13:41:16.101Z"
   },
   {
    "duration": 5606,
    "start_time": "2022-07-17T13:42:09.788Z"
   },
   {
    "duration": 3,
    "start_time": "2022-07-17T13:43:15.917Z"
   },
   {
    "duration": 24,
    "start_time": "2022-07-17T13:43:16.596Z"
   },
   {
    "duration": 102264,
    "start_time": "2022-07-17T13:43:46.284Z"
   },
   {
    "duration": 321,
    "start_time": "2022-07-17T13:46:13.285Z"
   },
   {
    "duration": 82388,
    "start_time": "2022-07-17T13:46:25.074Z"
   },
   {
    "duration": 23,
    "start_time": "2022-07-17T13:49:05.739Z"
   },
   {
    "duration": 3,
    "start_time": "2022-07-17T13:49:36.586Z"
   },
   {
    "duration": 74460,
    "start_time": "2022-07-17T13:49:37.690Z"
   },
   {
    "duration": 304,
    "start_time": "2022-07-17T13:51:31.042Z"
   },
   {
    "duration": 2,
    "start_time": "2022-07-17T13:51:49.220Z"
   },
   {
    "duration": 73731,
    "start_time": "2022-07-17T13:51:49.724Z"
   },
   {
    "duration": 74038,
    "start_time": "2022-07-17T13:53:55.805Z"
   },
   {
    "duration": 3,
    "start_time": "2022-07-17T13:57:01.313Z"
   },
   {
    "duration": 30,
    "start_time": "2022-07-17T13:57:08.787Z"
   },
   {
    "duration": 81668,
    "start_time": "2022-07-17T13:57:33.176Z"
   },
   {
    "duration": 5,
    "start_time": "2022-07-17T13:59:42.480Z"
   },
   {
    "duration": 5,
    "start_time": "2022-07-17T13:59:53.396Z"
   },
   {
    "duration": 5,
    "start_time": "2022-07-17T14:00:07.755Z"
   },
   {
    "duration": 22,
    "start_time": "2022-07-17T14:00:37.265Z"
   },
   {
    "duration": 688,
    "start_time": "2022-07-17T14:00:40.901Z"
   },
   {
    "duration": 4,
    "start_time": "2022-07-17T14:00:44.312Z"
   },
   {
    "duration": 403,
    "start_time": "2022-07-17T14:00:46.970Z"
   },
   {
    "duration": 13,
    "start_time": "2022-07-17T14:00:57.134Z"
   },
   {
    "duration": 5,
    "start_time": "2022-07-17T14:02:29.610Z"
   },
   {
    "duration": 5,
    "start_time": "2022-07-17T14:02:35.508Z"
   },
   {
    "duration": 1709,
    "start_time": "2022-07-17T14:04:48.272Z"
   },
   {
    "duration": 3,
    "start_time": "2022-07-17T14:04:49.984Z"
   },
   {
    "duration": 1172,
    "start_time": "2022-07-17T14:04:49.989Z"
   },
   {
    "duration": 32,
    "start_time": "2022-07-17T14:04:51.162Z"
   },
   {
    "duration": 215,
    "start_time": "2022-07-17T14:04:51.197Z"
   },
   {
    "duration": 5,
    "start_time": "2022-07-17T14:04:51.414Z"
   },
   {
    "duration": 295,
    "start_time": "2022-07-17T14:04:51.421Z"
   },
   {
    "duration": 4,
    "start_time": "2022-07-17T14:04:51.727Z"
   },
   {
    "duration": 54,
    "start_time": "2022-07-17T14:04:51.733Z"
   },
   {
    "duration": 7725,
    "start_time": "2022-07-17T14:04:51.791Z"
   },
   {
    "duration": 725,
    "start_time": "2022-07-17T14:04:59.519Z"
   },
   {
    "duration": 14,
    "start_time": "2022-07-17T14:05:00.248Z"
   },
   {
    "duration": 84,
    "start_time": "2022-07-17T14:05:00.265Z"
   },
   {
    "duration": 25,
    "start_time": "2022-07-17T14:05:00.353Z"
   },
   {
    "duration": 33,
    "start_time": "2022-07-17T14:05:00.381Z"
   },
   {
    "duration": 108,
    "start_time": "2022-07-17T14:05:00.424Z"
   },
   {
    "duration": 7050,
    "start_time": "2022-07-17T14:05:00.534Z"
   },
   {
    "duration": 208,
    "start_time": "2022-07-17T14:05:07.587Z"
   },
   {
    "duration": 336,
    "start_time": "2022-07-17T14:05:07.798Z"
   },
   {
    "duration": 535,
    "start_time": "2022-07-17T14:05:08.139Z"
   },
   {
    "duration": 1090,
    "start_time": "2022-07-17T14:05:08.685Z"
   },
   {
    "duration": 20,
    "start_time": "2022-07-17T14:05:09.779Z"
   },
   {
    "duration": 47,
    "start_time": "2022-07-17T14:05:09.802Z"
   },
   {
    "duration": 68,
    "start_time": "2022-07-17T14:05:09.851Z"
   },
   {
    "duration": 80,
    "start_time": "2022-07-17T14:05:09.921Z"
   },
   {
    "duration": 87,
    "start_time": "2022-07-17T14:05:10.004Z"
   },
   {
    "duration": 102,
    "start_time": "2022-07-17T14:05:10.094Z"
   },
   {
    "duration": 173,
    "start_time": "2022-07-17T14:05:10.198Z"
   },
   {
    "duration": 28,
    "start_time": "2022-07-17T14:05:10.374Z"
   },
   {
    "duration": 17,
    "start_time": "2022-07-17T14:05:10.409Z"
   },
   {
    "duration": 978,
    "start_time": "2022-07-17T14:05:10.432Z"
   },
   {
    "duration": 9,
    "start_time": "2022-07-17T14:05:11.417Z"
   },
   {
    "duration": 744,
    "start_time": "2022-07-17T14:05:11.432Z"
   },
   {
    "duration": 0,
    "start_time": "2022-07-17T14:05:12.183Z"
   },
   {
    "duration": 0,
    "start_time": "2022-07-17T14:05:12.188Z"
   },
   {
    "duration": 1,
    "start_time": "2022-07-17T14:05:12.193Z"
   },
   {
    "duration": 0,
    "start_time": "2022-07-17T14:05:12.197Z"
   },
   {
    "duration": 1,
    "start_time": "2022-07-17T14:05:12.198Z"
   },
   {
    "duration": 0,
    "start_time": "2022-07-17T14:05:12.200Z"
   },
   {
    "duration": 0,
    "start_time": "2022-07-17T14:05:12.201Z"
   },
   {
    "duration": 0,
    "start_time": "2022-07-17T14:05:12.203Z"
   },
   {
    "duration": 0,
    "start_time": "2022-07-17T14:05:12.205Z"
   },
   {
    "duration": 0,
    "start_time": "2022-07-17T14:05:12.206Z"
   },
   {
    "duration": 0,
    "start_time": "2022-07-17T14:05:12.207Z"
   },
   {
    "duration": 0,
    "start_time": "2022-07-17T14:05:12.225Z"
   },
   {
    "duration": 0,
    "start_time": "2022-07-17T14:05:12.226Z"
   },
   {
    "duration": 0,
    "start_time": "2022-07-17T14:05:12.227Z"
   },
   {
    "duration": 0,
    "start_time": "2022-07-17T14:05:12.229Z"
   },
   {
    "duration": 0,
    "start_time": "2022-07-17T14:05:12.230Z"
   },
   {
    "duration": 0,
    "start_time": "2022-07-17T14:05:12.232Z"
   },
   {
    "duration": 0,
    "start_time": "2022-07-17T14:05:12.233Z"
   },
   {
    "duration": 0,
    "start_time": "2022-07-17T14:05:12.234Z"
   },
   {
    "duration": 0,
    "start_time": "2022-07-17T14:05:12.236Z"
   },
   {
    "duration": 0,
    "start_time": "2022-07-17T14:05:12.237Z"
   },
   {
    "duration": 0,
    "start_time": "2022-07-17T14:05:12.239Z"
   },
   {
    "duration": 0,
    "start_time": "2022-07-17T14:05:12.240Z"
   },
   {
    "duration": 0,
    "start_time": "2022-07-17T14:05:12.242Z"
   },
   {
    "duration": 0,
    "start_time": "2022-07-17T14:05:12.243Z"
   },
   {
    "duration": 0,
    "start_time": "2022-07-17T14:05:12.245Z"
   },
   {
    "duration": 507,
    "start_time": "2022-07-17T14:06:17.181Z"
   },
   {
    "duration": 3,
    "start_time": "2022-07-17T14:06:24.495Z"
   },
   {
    "duration": 34051,
    "start_time": "2022-07-17T14:06:25.282Z"
   },
   {
    "duration": 82,
    "start_time": "2022-07-17T14:07:15.440Z"
   },
   {
    "duration": 95,
    "start_time": "2022-07-17T14:07:17.243Z"
   },
   {
    "duration": 3,
    "start_time": "2022-07-17T14:07:19.150Z"
   },
   {
    "duration": 3,
    "start_time": "2022-07-17T14:07:19.847Z"
   },
   {
    "duration": 5,
    "start_time": "2022-07-17T14:07:21.542Z"
   },
   {
    "duration": 4711,
    "start_time": "2022-07-17T14:07:23.166Z"
   },
   {
    "duration": 5,
    "start_time": "2022-07-17T14:07:28.862Z"
   },
   {
    "duration": 212,
    "start_time": "2022-07-17T14:07:35.324Z"
   },
   {
    "duration": 4,
    "start_time": "2022-07-17T14:07:43.693Z"
   },
   {
    "duration": 3735,
    "start_time": "2022-07-17T14:07:44.544Z"
   },
   {
    "duration": 4,
    "start_time": "2022-07-17T14:08:03.863Z"
   },
   {
    "duration": 5442,
    "start_time": "2022-07-17T14:08:05.041Z"
   },
   {
    "duration": 3,
    "start_time": "2022-07-17T14:08:13.697Z"
   },
   {
    "duration": 5,
    "start_time": "2022-07-17T14:08:14.467Z"
   },
   {
    "duration": 98707,
    "start_time": "2022-07-17T14:08:17.727Z"
   },
   {
    "duration": 17,
    "start_time": "2022-07-17T14:09:56.441Z"
   },
   {
    "duration": 0,
    "start_time": "2022-07-17T14:09:56.460Z"
   },
   {
    "duration": 9,
    "start_time": "2022-07-17T14:11:24.354Z"
   },
   {
    "duration": 5501,
    "start_time": "2022-07-17T14:11:43.287Z"
   },
   {
    "duration": 8,
    "start_time": "2022-07-17T14:11:57.733Z"
   },
   {
    "duration": 10,
    "start_time": "2022-07-17T14:11:59.368Z"
   },
   {
    "duration": 57996,
    "start_time": "2022-07-17T14:12:06.688Z"
   },
   {
    "duration": 29,
    "start_time": "2022-07-17T14:13:04.687Z"
   },
   {
    "duration": 0,
    "start_time": "2022-07-17T14:13:04.726Z"
   },
   {
    "duration": 0,
    "start_time": "2022-07-17T14:13:04.729Z"
   },
   {
    "duration": 4,
    "start_time": "2022-07-17T14:14:48.949Z"
   },
   {
    "duration": 5863,
    "start_time": "2022-07-17T14:14:49.699Z"
   },
   {
    "duration": 77597,
    "start_time": "2022-07-17T14:14:55.564Z"
   },
   {
    "duration": 12,
    "start_time": "2022-07-17T14:16:13.163Z"
   },
   {
    "duration": 65,
    "start_time": "2022-07-17T14:21:27.517Z"
   },
   {
    "duration": 74,
    "start_time": "2022-07-17T14:24:08.342Z"
   },
   {
    "duration": 10,
    "start_time": "2022-07-28T12:10:57.303Z"
   },
   {
    "duration": 40,
    "start_time": "2022-07-28T12:10:58.555Z"
   },
   {
    "duration": 1365,
    "start_time": "2022-07-28T12:11:03.036Z"
   },
   {
    "duration": 2,
    "start_time": "2022-07-28T12:11:04.403Z"
   },
   {
    "duration": 2898,
    "start_time": "2022-07-28T12:11:05.002Z"
   },
   {
    "duration": 20,
    "start_time": "2022-07-28T12:11:07.902Z"
   },
   {
    "duration": 109,
    "start_time": "2022-07-28T12:11:07.924Z"
   },
   {
    "duration": 4,
    "start_time": "2022-07-28T12:11:08.036Z"
   },
   {
    "duration": 117,
    "start_time": "2022-07-28T12:11:08.042Z"
   },
   {
    "duration": 2,
    "start_time": "2022-07-28T12:11:08.161Z"
   },
   {
    "duration": 6,
    "start_time": "2022-07-28T12:11:08.165Z"
   },
   {
    "duration": 5466,
    "start_time": "2022-07-28T12:11:08.172Z"
   },
   {
    "duration": 4,
    "start_time": "2022-07-28T12:11:31.140Z"
   },
   {
    "duration": 4,
    "start_time": "2022-07-28T12:11:46.676Z"
   },
   {
    "duration": 5482,
    "start_time": "2022-07-28T12:11:47.314Z"
   },
   {
    "duration": 470,
    "start_time": "2022-07-28T12:11:52.799Z"
   },
   {
    "duration": 5,
    "start_time": "2022-07-28T12:12:18.059Z"
   }
  ],
  "kernelspec": {
   "display_name": "Python 3 (ipykernel)",
   "language": "python",
   "name": "python3"
  },
  "language_info": {
   "codemirror_mode": {
    "name": "ipython",
    "version": 3
   },
   "file_extension": ".py",
   "mimetype": "text/x-python",
   "name": "python",
   "nbconvert_exporter": "python",
   "pygments_lexer": "ipython3",
   "version": "3.9.12"
  },
  "toc": {
   "base_numbering": 1,
   "nav_menu": {},
   "number_sections": true,
   "sideBar": true,
   "skip_h1_title": true,
   "title_cell": "Table of Contents",
   "title_sidebar": "Contents",
   "toc_cell": false,
   "toc_position": {
    "height": "calc(100% - 180px)",
    "left": "10px",
    "top": "150px",
    "width": "273.011px"
   },
   "toc_section_display": true,
   "toc_window_display": true
  }
 },
 "nbformat": 4,
 "nbformat_minor": 2
}

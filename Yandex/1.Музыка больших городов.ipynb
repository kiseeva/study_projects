{
 "cells": [
  {
   "cell_type": "markdown",
   "metadata": {
    "id": "E0vqbgi9ay0H"
   },
   "source": [
    "# Яндекс.Музыка"
   ]
  },
  {
   "cell_type": "markdown",
   "metadata": {
    "id": "VUC88oWjTJw2"
   },
   "source": [
    "Провести сравнение поведения и предпочтений пользователей Москвы и Санкт-Петербурга на основе данных Яндекс.Музыки.\n",
    "\n",
    "**Цель исследования** — проверьте три гипотезы:\n",
    "1. Активность пользователей зависит от дня недели. Причём в Москве и Петербурге это проявляется по-разному.\n",
    "2. В понедельник утром в Москве преобладают одни жанры, а в Петербурге — другие. Так же и вечером пятницы преобладают разные жанры — в зависимости от города. \n",
    "3. Москва и Петербург предпочитают разные жанры музыки. В Москве чаще слушают поп-музыку, в Петербурге — русский рэп.\n",
    "\n",
    "**Ход исследования**\n",
    "\n",
    "Исследование пройдёт в три этапа:\n",
    " 1. Обзор данных.\n",
    " 2. Предобработка данных.\n",
    " 3. Проверка гипотез.\n",
    "\n",
    "\n",
    "Файл с данными:  `yandex_music_project.csv`. "
   ]
  },
  {
   "cell_type": "markdown",
   "metadata": {
    "id": "Ml1hmfXC_Zcs"
   },
   "source": [
    "## Обзор данных\n",
    "\n",
    "Загрузим и изучим предложенные данные."
   ]
  },
  {
   "cell_type": "code",
   "execution_count": 1,
   "metadata": {
    "id": "AXN7PHPN_Zcs"
   },
   "outputs": [],
   "source": [
    "# импорт библиотек\n",
    "\n",
    "import pandas as pd "
   ]
  },
  {
   "cell_type": "markdown",
   "metadata": {
    "id": "SG23P8tt_Zcs"
   },
   "source": [
    "Загрузка файла `yandex_music_project.csv` из папки `/datasets` :"
   ]
  },
  {
   "cell_type": "code",
   "execution_count": 2,
   "metadata": {
    "id": "fFVu7vqh_Zct"
   },
   "outputs": [],
   "source": [
    "df = pd.read_csv('/datasets/yandex_music_project.csv') "
   ]
  },
  {
   "cell_type": "markdown",
   "metadata": {
    "id": "rDoOMd3uTqnZ"
   },
   "source": [
    "Выведем на экран первые десять строк таблицы:"
   ]
  },
  {
   "cell_type": "code",
   "execution_count": 3,
   "metadata": {
    "id": "oWTVX3gW_Zct"
   },
   "outputs": [
    {
     "data": {
      "text/html": [
       "<div>\n",
       "<style scoped>\n",
       "    .dataframe tbody tr th:only-of-type {\n",
       "        vertical-align: middle;\n",
       "    }\n",
       "\n",
       "    .dataframe tbody tr th {\n",
       "        vertical-align: top;\n",
       "    }\n",
       "\n",
       "    .dataframe thead th {\n",
       "        text-align: right;\n",
       "    }\n",
       "</style>\n",
       "<table border=\"1\" class=\"dataframe\">\n",
       "  <thead>\n",
       "    <tr style=\"text-align: right;\">\n",
       "      <th></th>\n",
       "      <th>userID</th>\n",
       "      <th>Track</th>\n",
       "      <th>artist</th>\n",
       "      <th>genre</th>\n",
       "      <th>City</th>\n",
       "      <th>time</th>\n",
       "      <th>Day</th>\n",
       "    </tr>\n",
       "  </thead>\n",
       "  <tbody>\n",
       "    <tr>\n",
       "      <td>0</td>\n",
       "      <td>FFB692EC</td>\n",
       "      <td>Kamigata To Boots</td>\n",
       "      <td>The Mass Missile</td>\n",
       "      <td>rock</td>\n",
       "      <td>Saint-Petersburg</td>\n",
       "      <td>20:28:33</td>\n",
       "      <td>Wednesday</td>\n",
       "    </tr>\n",
       "    <tr>\n",
       "      <td>1</td>\n",
       "      <td>55204538</td>\n",
       "      <td>Delayed Because of Accident</td>\n",
       "      <td>Andreas Rönnberg</td>\n",
       "      <td>rock</td>\n",
       "      <td>Moscow</td>\n",
       "      <td>14:07:09</td>\n",
       "      <td>Friday</td>\n",
       "    </tr>\n",
       "    <tr>\n",
       "      <td>2</td>\n",
       "      <td>20EC38</td>\n",
       "      <td>Funiculì funiculà</td>\n",
       "      <td>Mario Lanza</td>\n",
       "      <td>pop</td>\n",
       "      <td>Saint-Petersburg</td>\n",
       "      <td>20:58:07</td>\n",
       "      <td>Wednesday</td>\n",
       "    </tr>\n",
       "    <tr>\n",
       "      <td>3</td>\n",
       "      <td>A3DD03C9</td>\n",
       "      <td>Dragons in the Sunset</td>\n",
       "      <td>Fire + Ice</td>\n",
       "      <td>folk</td>\n",
       "      <td>Saint-Petersburg</td>\n",
       "      <td>08:37:09</td>\n",
       "      <td>Monday</td>\n",
       "    </tr>\n",
       "    <tr>\n",
       "      <td>4</td>\n",
       "      <td>E2DC1FAE</td>\n",
       "      <td>Soul People</td>\n",
       "      <td>Space Echo</td>\n",
       "      <td>dance</td>\n",
       "      <td>Moscow</td>\n",
       "      <td>08:34:34</td>\n",
       "      <td>Monday</td>\n",
       "    </tr>\n",
       "    <tr>\n",
       "      <td>5</td>\n",
       "      <td>842029A1</td>\n",
       "      <td>Преданная</td>\n",
       "      <td>IMPERVTOR</td>\n",
       "      <td>rusrap</td>\n",
       "      <td>Saint-Petersburg</td>\n",
       "      <td>13:09:41</td>\n",
       "      <td>Friday</td>\n",
       "    </tr>\n",
       "    <tr>\n",
       "      <td>6</td>\n",
       "      <td>4CB90AA5</td>\n",
       "      <td>True</td>\n",
       "      <td>Roman Messer</td>\n",
       "      <td>dance</td>\n",
       "      <td>Moscow</td>\n",
       "      <td>13:00:07</td>\n",
       "      <td>Wednesday</td>\n",
       "    </tr>\n",
       "    <tr>\n",
       "      <td>7</td>\n",
       "      <td>F03E1C1F</td>\n",
       "      <td>Feeling This Way</td>\n",
       "      <td>Polina Griffith</td>\n",
       "      <td>dance</td>\n",
       "      <td>Moscow</td>\n",
       "      <td>20:47:49</td>\n",
       "      <td>Wednesday</td>\n",
       "    </tr>\n",
       "    <tr>\n",
       "      <td>8</td>\n",
       "      <td>8FA1D3BE</td>\n",
       "      <td>И вновь продолжается бой</td>\n",
       "      <td>NaN</td>\n",
       "      <td>ruspop</td>\n",
       "      <td>Moscow</td>\n",
       "      <td>09:17:40</td>\n",
       "      <td>Friday</td>\n",
       "    </tr>\n",
       "    <tr>\n",
       "      <td>9</td>\n",
       "      <td>E772D5C0</td>\n",
       "      <td>Pessimist</td>\n",
       "      <td>NaN</td>\n",
       "      <td>dance</td>\n",
       "      <td>Saint-Petersburg</td>\n",
       "      <td>21:20:49</td>\n",
       "      <td>Wednesday</td>\n",
       "    </tr>\n",
       "  </tbody>\n",
       "</table>\n",
       "</div>"
      ],
      "text/plain": [
       "     userID                        Track            artist   genre  \\\n",
       "0  FFB692EC            Kamigata To Boots  The Mass Missile    rock   \n",
       "1  55204538  Delayed Because of Accident  Andreas Rönnberg    rock   \n",
       "2    20EC38            Funiculì funiculà       Mario Lanza     pop   \n",
       "3  A3DD03C9        Dragons in the Sunset        Fire + Ice    folk   \n",
       "4  E2DC1FAE                  Soul People        Space Echo   dance   \n",
       "5  842029A1                    Преданная         IMPERVTOR  rusrap   \n",
       "6  4CB90AA5                         True      Roman Messer   dance   \n",
       "7  F03E1C1F             Feeling This Way   Polina Griffith   dance   \n",
       "8  8FA1D3BE     И вновь продолжается бой               NaN  ruspop   \n",
       "9  E772D5C0                    Pessimist               NaN   dance   \n",
       "\n",
       "             City        time        Day  \n",
       "0  Saint-Petersburg  20:28:33  Wednesday  \n",
       "1            Moscow  14:07:09     Friday  \n",
       "2  Saint-Petersburg  20:58:07  Wednesday  \n",
       "3  Saint-Petersburg  08:37:09     Monday  \n",
       "4            Moscow  08:34:34     Monday  \n",
       "5  Saint-Petersburg  13:09:41     Friday  \n",
       "6            Moscow  13:00:07  Wednesday  \n",
       "7            Moscow  20:47:49  Wednesday  \n",
       "8            Moscow  09:17:40     Friday  \n",
       "9  Saint-Petersburg  21:20:49  Wednesday  "
      ]
     },
     "execution_count": 3,
     "metadata": {},
     "output_type": "execute_result"
    }
   ],
   "source": [
    "df.head(10) # получение первых 10 строк таблицы df"
   ]
  },
  {
   "cell_type": "code",
   "execution_count": 4,
   "metadata": {},
   "outputs": [
    {
     "data": {
      "text/html": [
       "<div>\n",
       "<style scoped>\n",
       "    .dataframe tbody tr th:only-of-type {\n",
       "        vertical-align: middle;\n",
       "    }\n",
       "\n",
       "    .dataframe tbody tr th {\n",
       "        vertical-align: top;\n",
       "    }\n",
       "\n",
       "    .dataframe thead th {\n",
       "        text-align: right;\n",
       "    }\n",
       "</style>\n",
       "<table border=\"1\" class=\"dataframe\">\n",
       "  <thead>\n",
       "    <tr style=\"text-align: right;\">\n",
       "      <th></th>\n",
       "      <th>userID</th>\n",
       "      <th>Track</th>\n",
       "      <th>artist</th>\n",
       "      <th>genre</th>\n",
       "      <th>City</th>\n",
       "      <th>time</th>\n",
       "      <th>Day</th>\n",
       "    </tr>\n",
       "  </thead>\n",
       "  <tbody>\n",
       "    <tr>\n",
       "      <td>65074</td>\n",
       "      <td>729CBB09</td>\n",
       "      <td>My Name</td>\n",
       "      <td>McLean</td>\n",
       "      <td>rnb</td>\n",
       "      <td>Moscow</td>\n",
       "      <td>13:32:28</td>\n",
       "      <td>Wednesday</td>\n",
       "    </tr>\n",
       "    <tr>\n",
       "      <td>65075</td>\n",
       "      <td>D08D4A55</td>\n",
       "      <td>Maybe One Day (feat. Black Spade)</td>\n",
       "      <td>Blu &amp; Exile</td>\n",
       "      <td>hip</td>\n",
       "      <td>Saint-Petersburg</td>\n",
       "      <td>10:00:00</td>\n",
       "      <td>Monday</td>\n",
       "    </tr>\n",
       "    <tr>\n",
       "      <td>65076</td>\n",
       "      <td>C5E3A0D5</td>\n",
       "      <td>Jalopiina</td>\n",
       "      <td>NaN</td>\n",
       "      <td>industrial</td>\n",
       "      <td>Moscow</td>\n",
       "      <td>20:09:26</td>\n",
       "      <td>Friday</td>\n",
       "    </tr>\n",
       "    <tr>\n",
       "      <td>65077</td>\n",
       "      <td>321D0506</td>\n",
       "      <td>Freight Train</td>\n",
       "      <td>Chas McDevitt</td>\n",
       "      <td>rock</td>\n",
       "      <td>Moscow</td>\n",
       "      <td>21:43:59</td>\n",
       "      <td>Friday</td>\n",
       "    </tr>\n",
       "    <tr>\n",
       "      <td>65078</td>\n",
       "      <td>3A64EF84</td>\n",
       "      <td>Tell Me Sweet Little Lies</td>\n",
       "      <td>Monica Lopez</td>\n",
       "      <td>country</td>\n",
       "      <td>Moscow</td>\n",
       "      <td>21:59:46</td>\n",
       "      <td>Friday</td>\n",
       "    </tr>\n",
       "  </tbody>\n",
       "</table>\n",
       "</div>"
      ],
      "text/plain": [
       "         userID                              Track         artist       genre  \\\n",
       "65074  729CBB09                            My Name         McLean         rnb   \n",
       "65075  D08D4A55  Maybe One Day (feat. Black Spade)    Blu & Exile         hip   \n",
       "65076  C5E3A0D5                          Jalopiina            NaN  industrial   \n",
       "65077  321D0506                      Freight Train  Chas McDevitt        rock   \n",
       "65078  3A64EF84          Tell Me Sweet Little Lies   Monica Lopez     country   \n",
       "\n",
       "                 City        time        Day  \n",
       "65074            Moscow  13:32:28  Wednesday  \n",
       "65075  Saint-Petersburg  10:00:00     Monday  \n",
       "65076            Moscow  20:09:26     Friday  \n",
       "65077            Moscow  21:43:59     Friday  \n",
       "65078            Moscow  21:59:46     Friday  "
      ]
     },
     "execution_count": 4,
     "metadata": {},
     "output_type": "execute_result"
    }
   ],
   "source": [
    "df.tail(5) # последние 5 строк таблицы df"
   ]
  },
  {
   "cell_type": "markdown",
   "metadata": {
    "id": "EO73Kwic_Zct"
   },
   "source": [
    "Получим общую информацию о таблице:"
   ]
  },
  {
   "cell_type": "code",
   "execution_count": 5,
   "metadata": {
    "id": "DSf2kIb-_Zct"
   },
   "outputs": [
    {
     "name": "stdout",
     "output_type": "stream",
     "text": [
      "<class 'pandas.core.frame.DataFrame'>\n",
      "RangeIndex: 65079 entries, 0 to 65078\n",
      "Data columns (total 7 columns):\n",
      "  userID    65079 non-null object\n",
      "Track       63848 non-null object\n",
      "artist      57876 non-null object\n",
      "genre       63881 non-null object\n",
      "  City      65079 non-null object\n",
      "time        65079 non-null object\n",
      "Day         65079 non-null object\n",
      "dtypes: object(7)\n",
      "memory usage: 3.5+ MB\n"
     ]
    }
   ],
   "source": [
    "df.info()"
   ]
  },
  {
   "cell_type": "markdown",
   "metadata": {
    "id": "TaQ2Iwbr_Zct"
   },
   "source": [
    "Итак, в таблице семь столбцов. Тип данных во всех столбцах — `object`.\n",
    "\n",
    "Согласно документации к данным:\n",
    "* `userID` — идентификатор пользователя;\n",
    "* `Track` — название трека;  \n",
    "* `artist` — имя исполнителя;\n",
    "* `genre` — название жанра;\n",
    "* `City` — город пользователя;\n",
    "* `time` — время начала прослушивания;\n",
    "* `Day` — день недели.\n",
    "\n",
    "В названиях колонок видны три нарушения стиля:\n",
    "1. Строчные буквы сочетаются с прописными.\n",
    "2. Встречаются пробелы.\n",
    "3. userID записано слитно, вместо использования змеиного регистра.\n",
    "\n",
    "\n",
    "\n",
    "Количество значений в столбцах различается. Значит, в данных есть пропущенные значения."
   ]
  },
  {
   "cell_type": "markdown",
   "metadata": {
    "id": "MCB6-dXG_Zct"
   },
   "source": [
    "**Выводы**\n",
    "\n",
    "В каждой строке таблицы — данные о прослушанном треке. Часть колонок описывает саму композицию: название, исполнителя и жанр. Остальные данные рассказывают о пользователе: из какого он города, когда он слушал музыку. \n",
    "\n",
    "Предварительно можно утверждать, что, данных достаточно для проверки гипотез. Но встречаются пропуски в данных, а в названиях колонок — расхождения с хорошим стилем.\n",
    "\n",
    "Чтобы двигаться дальше, нужно устранить проблемы в данных."
   ]
  },
  {
   "cell_type": "markdown",
   "metadata": {
    "id": "SjYF6Ub9_Zct"
   },
   "source": [
    "## Предобработка данных\n",
    "\n",
    "Необходима следующая предобработка:\n",
    "\n",
    "- исправить стиль в заголовках столбцов\n",
    "- исключить пропуски\n",
    "- проверить данные на дубликаты."
   ]
  },
  {
   "cell_type": "markdown",
   "metadata": {
    "id": "dIaKXr29_Zct"
   },
   "source": [
    "### Стиль заголовков\n",
    "Напечатаем на экран названия столбцов:"
   ]
  },
  {
   "cell_type": "code",
   "execution_count": 6,
   "metadata": {
    "id": "oKOTdF_Q_Zct"
   },
   "outputs": [
    {
     "data": {
      "text/plain": [
       "Index(['  userID', 'Track', 'artist', 'genre', '  City  ', 'time', 'Day'], dtype='object')"
      ]
     },
     "execution_count": 6,
     "metadata": {},
     "output_type": "execute_result"
    }
   ],
   "source": [
    "df.columns # перечень названий столбцов таблицы df"
   ]
  },
  {
   "cell_type": "markdown",
   "metadata": {
    "id": "zj5534cv_Zct"
   },
   "source": [
    "Приведем названия в соответствие с хорошим стилем:\n",
    "* несколько слов в названии запишием в «змеином_регистре»,\n",
    "* все символы сделайте строчными,\n",
    "* устраните пробелы.\n",
    "\n",
    "Для этого переименуем колонки так:\n",
    "* `'  userID'` → `'user_id'`;\n",
    "* `'Track'` → `'track'`;\n",
    "* `'  City  '` → `'city'`;\n",
    "* `'Day'` → `'day'`."
   ]
  },
  {
   "cell_type": "code",
   "execution_count": 7,
   "metadata": {
    "id": "ISlFqs5y_Zct"
   },
   "outputs": [],
   "source": [
    "df = df.rename(columns = {'  userID':'user_id', 'Track':'track', '  City  ':'city', 'Day':'day'}) # переименование столбцов"
   ]
  },
  {
   "cell_type": "markdown",
   "metadata": {
    "id": "1dqbh00J_Zct"
   },
   "source": [
    "Проверим результат:"
   ]
  },
  {
   "cell_type": "code",
   "execution_count": 8,
   "metadata": {
    "id": "d4NOAmTW_Zct"
   },
   "outputs": [
    {
     "data": {
      "text/plain": [
       "Index(['user_id', 'track', 'artist', 'genre', 'city', 'time', 'day'], dtype='object')"
      ]
     },
     "execution_count": 8,
     "metadata": {},
     "output_type": "execute_result"
    }
   ],
   "source": [
    "df.columns # проверка результатов - перечень названий столбцов"
   ]
  },
  {
   "cell_type": "markdown",
   "metadata": {
    "id": "5ISfbcfY_Zct"
   },
   "source": [
    "### Пропуски значений\n",
    "\n",
    "Посчитаем, сколько в таблице пропущенных значений:"
   ]
  },
  {
   "cell_type": "code",
   "execution_count": 9,
   "metadata": {
    "id": "RskX29qr_Zct"
   },
   "outputs": [
    {
     "data": {
      "text/plain": [
       "user_id       0\n",
       "track      1231\n",
       "artist     7203\n",
       "genre      1198\n",
       "city          0\n",
       "time          0\n",
       "day           0\n",
       "dtype: int64"
      ]
     },
     "execution_count": 9,
     "metadata": {},
     "output_type": "execute_result"
    }
   ],
   "source": [
    "df.isna().sum() # подсчёт пропусков"
   ]
  },
  {
   "cell_type": "markdown",
   "metadata": {
    "id": "qubhgnlO_Zct"
   },
   "source": [
    "Не все пропущенные значения влияют на исследование. Так в `track` и `artist` пропуски не важны для работы. Достаточно заменить их явными обозначениями.\n",
    "\n",
    "Но пропуски в `genre` могут помешать сравнению музыкальных вкусов в Москве и Санкт-Петербурге. На практике было бы правильно установить причину пропусков и восстановить данные. Такой возможности нет в учебном проекте. Придётся:\n",
    "* заполнить и эти пропуски явными обозначениями,\n",
    "* оценить, насколько они повредят расчётам. "
   ]
  },
  {
   "cell_type": "markdown",
   "metadata": {
    "id": "fSv2laPA_Zct"
   },
   "source": [
    "Заменим пропущенные значения в столбцах `track`, `artist` и `genre` на строку `'unknown'`. Для этого создадим список `columns_to_replace`, переберем его элементы циклом `for` и для каждого столбца выполним замену пропущенных значений:"
   ]
  },
  {
   "cell_type": "code",
   "execution_count": 10,
   "metadata": {
    "id": "KplB5qWs_Zct"
   },
   "outputs": [],
   "source": [
    "columns_to_replace = ['track','artist','genre']\n",
    "\n",
    "for column in columns_to_replace:\n",
    "    df[column] = df[column].fillna('unknown')\n",
    "\n",
    "\n",
    "# перебор названий столбцов в цикле и замена пропущенных значений на 'unknown'"
   ]
  },
  {
   "cell_type": "markdown",
   "metadata": {
    "id": "Ilsm-MZo_Zct"
   },
   "source": [
    "Убедимся, что в таблице не осталось пропусков. "
   ]
  },
  {
   "cell_type": "code",
   "execution_count": 11,
   "metadata": {
    "id": "Tq4nYRX4_Zct"
   },
   "outputs": [
    {
     "data": {
      "text/plain": [
       "user_id    0\n",
       "track      0\n",
       "artist     0\n",
       "genre      0\n",
       "city       0\n",
       "time       0\n",
       "day        0\n",
       "dtype: int64"
      ]
     },
     "execution_count": 11,
     "metadata": {},
     "output_type": "execute_result"
    }
   ],
   "source": [
    "df.isna().sum() # подсчёт пропусков"
   ]
  },
  {
   "cell_type": "markdown",
   "metadata": {
    "id": "BWKRtBJ3_Zct"
   },
   "source": [
    "### Дубликаты\n",
    "Посчитаем явные дубликаты в таблице:"
   ]
  },
  {
   "cell_type": "code",
   "execution_count": 12,
   "metadata": {
    "id": "36eES_S0_Zct"
   },
   "outputs": [
    {
     "data": {
      "text/plain": [
       "3826"
      ]
     },
     "execution_count": 12,
     "metadata": {},
     "output_type": "execute_result"
    }
   ],
   "source": [
    "df.duplicated().sum()# подсчёт явных дубликатов"
   ]
  },
  {
   "cell_type": "markdown",
   "metadata": {
    "id": "Ot25h6XR_Zct"
   },
   "source": [
    "Удалим явные дубликаты:"
   ]
  },
  {
   "cell_type": "code",
   "execution_count": 13,
   "metadata": {
    "id": "exFHq6tt_Zct"
   },
   "outputs": [],
   "source": [
    "df = df.drop_duplicates().reset_index(drop = True)# удаление явных дубликатов (с удалением старых индексов и формированием новых)"
   ]
  },
  {
   "cell_type": "markdown",
   "metadata": {
    "id": "Im2YwBEG_Zct"
   },
   "source": [
    "Убедимся, что в таблице не осталось дубликатов:"
   ]
  },
  {
   "cell_type": "code",
   "execution_count": 14,
   "metadata": {
    "id": "-8PuNWQ0_Zct"
   },
   "outputs": [
    {
     "data": {
      "text/plain": [
       "0"
      ]
     },
     "execution_count": 14,
     "metadata": {},
     "output_type": "execute_result"
    }
   ],
   "source": [
    "df.duplicated().sum() # проверка на отсутствие дубликатов"
   ]
  },
  {
   "cell_type": "markdown",
   "metadata": {
    "id": "QlFBsxAr_Zct"
   },
   "source": [
    "Теперь избавьтесь от неявных дубликатов в колонке `genre`. Например, название одного и того же жанра может быть записано немного по-разному. Такие ошибки тоже повлияют на результат исследования."
   ]
  },
  {
   "cell_type": "markdown",
   "metadata": {
    "id": "eSjWwsOh_Zct"
   },
   "source": [
    "Выведем на экран список уникальных названий жанров, отсортированный в алфавитном порядке. "
   ]
  },
  {
   "cell_type": "code",
   "execution_count": 15,
   "metadata": {
    "id": "JIUcqzZN_Zct"
   },
   "outputs": [
    {
     "data": {
      "text/plain": [
       "array(['acid', 'acoustic', 'action', 'adult', 'africa', 'afrikaans',\n",
       "       'alternative', 'alternativepunk', 'ambient', 'americana',\n",
       "       'animated', 'anime', 'arabesk', 'arabic', 'arena',\n",
       "       'argentinetango', 'art', 'audiobook', 'author', 'avantgarde',\n",
       "       'axé', 'baile', 'balkan', 'beats', 'bigroom', 'black', 'bluegrass',\n",
       "       'blues', 'bollywood', 'bossa', 'brazilian', 'breakbeat', 'breaks',\n",
       "       'broadway', 'cantautori', 'cantopop', 'canzone', 'caribbean',\n",
       "       'caucasian', 'celtic', 'chamber', 'chanson', 'children', 'chill',\n",
       "       'chinese', 'choral', 'christian', 'christmas', 'classical',\n",
       "       'classicmetal', 'club', 'colombian', 'comedy', 'conjazz',\n",
       "       'contemporary', 'country', 'cuban', 'dance', 'dancehall',\n",
       "       'dancepop', 'dark', 'death', 'deep', 'deutschrock', 'deutschspr',\n",
       "       'dirty', 'disco', 'dnb', 'documentary', 'downbeat', 'downtempo',\n",
       "       'drum', 'dub', 'dubstep', 'eastern', 'easy', 'electronic',\n",
       "       'electropop', 'emo', 'entehno', 'epicmetal', 'estrada', 'ethnic',\n",
       "       'eurofolk', 'european', 'experimental', 'extrememetal', 'fado',\n",
       "       'fairytail', 'film', 'fitness', 'flamenco', 'folk', 'folklore',\n",
       "       'folkmetal', 'folkrock', 'folktronica', 'forró', 'frankreich',\n",
       "       'französisch', 'french', 'funk', 'future', 'gangsta', 'garage',\n",
       "       'german', 'ghazal', 'gitarre', 'glitch', 'gospel', 'gothic',\n",
       "       'grime', 'grunge', 'gypsy', 'handsup', \"hard'n'heavy\", 'hardcore',\n",
       "       'hardstyle', 'hardtechno', 'hip', 'hip-hop', 'hiphop',\n",
       "       'historisch', 'holiday', 'hop', 'horror', 'house', 'hymn', 'idm',\n",
       "       'independent', 'indian', 'indie', 'indipop', 'industrial',\n",
       "       'inspirational', 'instrumental', 'international', 'irish', 'jam',\n",
       "       'japanese', 'jazz', 'jewish', 'jpop', 'jungle', 'k-pop',\n",
       "       'karadeniz', 'karaoke', 'kayokyoku', 'korean', 'laiko', 'latin',\n",
       "       'latino', 'leftfield', 'local', 'lounge', 'loungeelectronic',\n",
       "       'lovers', 'malaysian', 'mandopop', 'marschmusik', 'meditative',\n",
       "       'mediterranean', 'melodic', 'metal', 'metalcore', 'mexican',\n",
       "       'middle', 'minimal', 'miscellaneous', 'modern', 'mood', 'mpb',\n",
       "       'muslim', 'native', 'neoklassik', 'neue', 'new', 'newage',\n",
       "       'newwave', 'nu', 'nujazz', 'numetal', 'oceania', 'old', 'opera',\n",
       "       'orchestral', 'other', 'piano', 'podcasts', 'pop', 'popdance',\n",
       "       'popelectronic', 'popeurodance', 'poprussian', 'post',\n",
       "       'posthardcore', 'postrock', 'power', 'progmetal', 'progressive',\n",
       "       'psychedelic', 'punjabi', 'punk', 'quebecois', 'ragga', 'ram',\n",
       "       'rancheras', 'rap', 'rave', 'reggae', 'reggaeton', 'regional',\n",
       "       'relax', 'religious', 'retro', 'rhythm', 'rnb', 'rnr', 'rock',\n",
       "       'rockabilly', 'rockalternative', 'rockindie', 'rockother',\n",
       "       'romance', 'roots', 'ruspop', 'rusrap', 'rusrock', 'russian',\n",
       "       'salsa', 'samba', 'scenic', 'schlager', 'self', 'sertanejo',\n",
       "       'shanson', 'shoegazing', 'showtunes', 'singer', 'ska', 'skarock',\n",
       "       'slow', 'smooth', 'soft', 'soul', 'soulful', 'sound', 'soundtrack',\n",
       "       'southern', 'specialty', 'speech', 'spiritual', 'sport',\n",
       "       'stonerrock', 'surf', 'swing', 'synthpop', 'synthrock',\n",
       "       'sängerportrait', 'tango', 'tanzorchester', 'taraftar', 'tatar',\n",
       "       'tech', 'techno', 'teen', 'thrash', 'top', 'traditional',\n",
       "       'tradjazz', 'trance', 'tribal', 'trip', 'triphop', 'tropical',\n",
       "       'türk', 'türkçe', 'ukrrock', 'unknown', 'urban', 'uzbek',\n",
       "       'variété', 'vi', 'videogame', 'vocal', 'western', 'world',\n",
       "       'worldbeat', 'ïîï', 'электроника'], dtype=object)"
      ]
     },
     "execution_count": 15,
     "metadata": {},
     "output_type": "execute_result"
    }
   ],
   "source": [
    "df_genre = df['genre']\n",
    "df_genre = df_genre.sort_values()\n",
    "df_genre.unique()\n",
    "\n",
    "# Просмотр уникальных названий жанров"
   ]
  },
  {
   "cell_type": "markdown",
   "metadata": {
    "id": "qej-Qmuo_Zct"
   },
   "source": [
    "В таблице присутствует следующие неявные дубликаты:\n",
    "* *hip*,\n",
    "* *hop*,\n",
    "* *hip-hop*.\n",
    "\n",
    "Чтобы очистить от них таблицу, напишем функцию `replace_wrong_genres()` с двумя параметрами: \n",
    "* `wrong_genres` — список дубликатов,\n",
    "* `correct_genre` — строка с правильным значением.\n",
    "\n",
    "Функция должна исправить колонку `genre` в таблице `df`: заменить каждое значение из списка `wrong_genres` на значение из `correct_genre`."
   ]
  },
  {
   "cell_type": "code",
   "execution_count": 17,
   "metadata": {
    "id": "ErNDkmns_Zct"
   },
   "outputs": [],
   "source": [
    "def replace_wrong_genres(wrong_genres, correct_genre):\n",
    "    for genre in wrong_genres:\n",
    "        df['genre'] = df['genre'].replace(wrong_genres,correct_genre)\n",
    "        \n",
    "# Функция для замены неявных дубликатов"
   ]
  },
  {
   "cell_type": "markdown",
   "metadata": {
    "id": "aDoBJxbA_Zct"
   },
   "source": [
    "Вызовем `replace_wrong_genres()` : вместо `hip`, `hop` и `hip-hop` в таблице должно быть значение `hiphop`:"
   ]
  },
  {
   "cell_type": "code",
   "execution_count": 18,
   "metadata": {
    "id": "YN5i2hpmSo09"
   },
   "outputs": [],
   "source": [
    "replace_wrong_genres(['hip', 'hop', 'hip-hop'],'hiphop')\n",
    "\n",
    "# Устранение неявных дубликатов"
   ]
  },
  {
   "cell_type": "markdown",
   "metadata": {
    "id": "zQKF16_RG15m"
   },
   "source": [
    "Проверим, что заменили неправильные названия:"
   ]
  },
  {
   "cell_type": "code",
   "execution_count": 19,
   "metadata": {
    "id": "wvixALnFG15m"
   },
   "outputs": [
    {
     "data": {
      "text/plain": [
       "array(['acid', 'acoustic', 'action', 'adult', 'africa', 'afrikaans',\n",
       "       'alternative', 'alternativepunk', 'ambient', 'americana',\n",
       "       'animated', 'anime', 'arabesk', 'arabic', 'arena',\n",
       "       'argentinetango', 'art', 'audiobook', 'author', 'avantgarde',\n",
       "       'axé', 'baile', 'balkan', 'beats', 'bigroom', 'black', 'bluegrass',\n",
       "       'blues', 'bollywood', 'bossa', 'brazilian', 'breakbeat', 'breaks',\n",
       "       'broadway', 'cantautori', 'cantopop', 'canzone', 'caribbean',\n",
       "       'caucasian', 'celtic', 'chamber', 'chanson', 'children', 'chill',\n",
       "       'chinese', 'choral', 'christian', 'christmas', 'classical',\n",
       "       'classicmetal', 'club', 'colombian', 'comedy', 'conjazz',\n",
       "       'contemporary', 'country', 'cuban', 'dance', 'dancehall',\n",
       "       'dancepop', 'dark', 'death', 'deep', 'deutschrock', 'deutschspr',\n",
       "       'dirty', 'disco', 'dnb', 'documentary', 'downbeat', 'downtempo',\n",
       "       'drum', 'dub', 'dubstep', 'eastern', 'easy', 'electronic',\n",
       "       'electropop', 'emo', 'entehno', 'epicmetal', 'estrada', 'ethnic',\n",
       "       'eurofolk', 'european', 'experimental', 'extrememetal', 'fado',\n",
       "       'fairytail', 'film', 'fitness', 'flamenco', 'folk', 'folklore',\n",
       "       'folkmetal', 'folkrock', 'folktronica', 'forró', 'frankreich',\n",
       "       'französisch', 'french', 'funk', 'future', 'gangsta', 'garage',\n",
       "       'german', 'ghazal', 'gitarre', 'glitch', 'gospel', 'gothic',\n",
       "       'grime', 'grunge', 'gypsy', 'handsup', \"hard'n'heavy\", 'hardcore',\n",
       "       'hardstyle', 'hardtechno', 'hiphop', 'historisch', 'holiday',\n",
       "       'horror', 'house', 'hymn', 'idm', 'independent', 'indian', 'indie',\n",
       "       'indipop', 'industrial', 'inspirational', 'instrumental',\n",
       "       'international', 'irish', 'jam', 'japanese', 'jazz', 'jewish',\n",
       "       'jpop', 'jungle', 'k-pop', 'karadeniz', 'karaoke', 'kayokyoku',\n",
       "       'korean', 'laiko', 'latin', 'latino', 'leftfield', 'local',\n",
       "       'lounge', 'loungeelectronic', 'lovers', 'malaysian', 'mandopop',\n",
       "       'marschmusik', 'meditative', 'mediterranean', 'melodic', 'metal',\n",
       "       'metalcore', 'mexican', 'middle', 'minimal', 'miscellaneous',\n",
       "       'modern', 'mood', 'mpb', 'muslim', 'native', 'neoklassik', 'neue',\n",
       "       'new', 'newage', 'newwave', 'nu', 'nujazz', 'numetal', 'oceania',\n",
       "       'old', 'opera', 'orchestral', 'other', 'piano', 'podcasts', 'pop',\n",
       "       'popdance', 'popelectronic', 'popeurodance', 'poprussian', 'post',\n",
       "       'posthardcore', 'postrock', 'power', 'progmetal', 'progressive',\n",
       "       'psychedelic', 'punjabi', 'punk', 'quebecois', 'ragga', 'ram',\n",
       "       'rancheras', 'rap', 'rave', 'reggae', 'reggaeton', 'regional',\n",
       "       'relax', 'religious', 'retro', 'rhythm', 'rnb', 'rnr', 'rock',\n",
       "       'rockabilly', 'rockalternative', 'rockindie', 'rockother',\n",
       "       'romance', 'roots', 'ruspop', 'rusrap', 'rusrock', 'russian',\n",
       "       'salsa', 'samba', 'scenic', 'schlager', 'self', 'sertanejo',\n",
       "       'shanson', 'shoegazing', 'showtunes', 'singer', 'ska', 'skarock',\n",
       "       'slow', 'smooth', 'soft', 'soul', 'soulful', 'sound', 'soundtrack',\n",
       "       'southern', 'specialty', 'speech', 'spiritual', 'sport',\n",
       "       'stonerrock', 'surf', 'swing', 'synthpop', 'synthrock',\n",
       "       'sängerportrait', 'tango', 'tanzorchester', 'taraftar', 'tatar',\n",
       "       'tech', 'techno', 'teen', 'thrash', 'top', 'traditional',\n",
       "       'tradjazz', 'trance', 'tribal', 'trip', 'triphop', 'tropical',\n",
       "       'türk', 'türkçe', 'ukrrock', 'unknown', 'urban', 'uzbek',\n",
       "       'variété', 'vi', 'videogame', 'vocal', 'western', 'world',\n",
       "       'worldbeat', 'ïîï', 'электроника'], dtype=object)"
      ]
     },
     "execution_count": 19,
     "metadata": {},
     "output_type": "execute_result"
    }
   ],
   "source": [
    "genre_sorted = df['genre']\n",
    "genre_sorted = genre_sorted.sort_values()\n",
    "\n",
    "genre_sorted_unique = genre_sorted.unique()\n",
    "genre_sorted_unique"
   ]
  },
  {
   "cell_type": "markdown",
   "metadata": {
    "id": "jz6a9-7HQUDd"
   },
   "source": [
    "**Выводы**\n",
    "\n",
    "Предобработка обнаружила три проблемы в данных:\n",
    "\n",
    "- нарушения в стиле заголовков,\n",
    "- пропущенные значения,\n",
    "- дубликаты — явные и неявные.\n",
    "\n",
    "В ходе предобработки: \n",
    "- исправили заголовки, чтобы упростить работу с таблицей. \n",
    "- удалены дубликаты. Без дубликатов исследование станет более точным.\n",
    "- пропущенные значения заменили на `'unknown'`. Необходимо проверить, не повредят ли исследованию пропуски в колонке `genre`.\n"
   ]
  },
  {
   "cell_type": "markdown",
   "metadata": {
    "id": "WttZHXH0SqKk"
   },
   "source": [
    "## Проверка гипотез"
   ]
  },
  {
   "cell_type": "markdown",
   "metadata": {
    "id": "Im936VVi_Zcu"
   },
   "source": [
    "### Сравнение поведения пользователей двух столиц"
   ]
  },
  {
   "cell_type": "markdown",
   "metadata": {
    "id": "nwt_MuaL_Zcu"
   },
   "source": [
    "Первая гипотеза утверждает, что пользователи по-разному слушают музыку в Москве и Санкт-Петербурге. Проверим это предположение по данным о трёх днях недели — понедельнике, среде и пятнице. Для этого:\n",
    "\n",
    "* Разделим пользователей Москвы и Санкт-Петербурга\n",
    "* Сравним, сколько треков послушала каждая группа пользователей в понедельник, среду и пятницу.\n"
   ]
  },
  {
   "cell_type": "markdown",
   "metadata": {
    "id": "8Dw_YMmT_Zcu"
   },
   "source": [
    "Оценим активность пользователей в каждом городе. Сгруппируем данные по городу и посчитайте прослушивания в каждой группе.\n",
    "\n"
   ]
  },
  {
   "cell_type": "code",
   "execution_count": 20,
   "metadata": {
    "id": "0_Qs96oh_Zcu"
   },
   "outputs": [
    {
     "data": {
      "text/plain": [
       "city\n",
       "Moscow              42741\n",
       "Saint-Petersburg    18512\n",
       "Name: track, dtype: int64"
      ]
     },
     "execution_count": 20,
     "metadata": {},
     "output_type": "execute_result"
    }
   ],
   "source": [
    "city_activity = df.groupby('city')['track'].count()\n",
    "city_activity\n",
    "# Подсчёт прослушиваний в каждом городе"
   ]
  },
  {
   "cell_type": "markdown",
   "metadata": {
    "id": "dzli3w8o_Zcu"
   },
   "source": [
    "В Москве прослушиваний больше, чем в Петербурге. Из этого не следует, что московские пользователи чаще слушают музыку. Просто самих пользователей в Москве больше.\n",
    "\n",
    "Сгруппируем данные по дню недели и подсчитайте прослушивания в понедельник, среду и пятницу. "
   ]
  },
  {
   "cell_type": "code",
   "execution_count": 21,
   "metadata": {
    "id": "uZMKjiJz_Zcu"
   },
   "outputs": [
    {
     "data": {
      "text/plain": [
       "day\n",
       "Friday       21840\n",
       "Monday       21354\n",
       "Wednesday    18059\n",
       "Name: track, dtype: int64"
      ]
     },
     "execution_count": 21,
     "metadata": {},
     "output_type": "execute_result"
    }
   ],
   "source": [
    "city_activity_day = df.groupby('day')['track'].count()\n",
    "city_activity_day\n",
    "# Подсчёт прослушиваний в каждый из трёх дней"
   ]
  },
  {
   "cell_type": "markdown",
   "metadata": {
    "id": "cC2tNrlL_Zcu"
   },
   "source": [
    "В среднем пользователи из двух городов менее активны по средам. Но картина может измениться, если рассмотреть каждый город в отдельности."
   ]
  },
  {
   "cell_type": "markdown",
   "metadata": {
    "id": "POzs8bGa_Zcu"
   },
   "source": [
    "Теперь напишем функцию, которая объединит два эти расчёта.\n",
    "\n",
    "Создадим функцию `number_tracks()`, которая посчитает прослушивания для заданного дня и города. Ей понадобятся два параметра:\n",
    "* день недели,\n",
    "* название города.\n",
    "\n",
    "В функции сохраним в переменную строки исходной таблицы, у которых значение:\n",
    "  * в колонке `day` равно параметру `day`,\n",
    "  * в колонке `city` равно параметру `city`.\n",
    "\n",
    "Для этого применим последовательную фильтрацию с логической индексацией.\n",
    "\n",
    "Затем посчитаем значения в столбце `user_id` получившейся таблицы."
   ]
  },
  {
   "cell_type": "code",
   "execution_count": 22,
   "metadata": {
    "id": "Nz3GdQB1_Zcu"
   },
   "outputs": [],
   "source": [
    "# <создание функции number_tracks()>\n",
    "\n",
    "def number_tracks(day,city):    \n",
    "    track_list = df[df['day'] == day] \n",
    "    track_list = track_list[track_list['city'] == city] \n",
    "    track_list_count = track_list['user_id'].count()\n",
    "    return track_list_count\n",
    "\n",
    "# Объявляется функция с двумя параметрами: day, city.\n",
    "# В переменной track_list сохраняются те строки таблицы df, для которых \n",
    "# значение в столбце 'day' равно параметру day и одновременно значение\n",
    "# в столбце 'city' равно параметру city (используйте последовательную фильтрацию\n",
    "# с помощью логической индексации).\n",
    "# В переменной track_list_count сохраняется число значений столбца 'user_id',\n",
    "# рассчитанное методом count() для таблицы track_list.\n",
    "# Функция возвращает число - значение track_list_count.\n",
    "\n",
    "# Функция для подсчёта прослушиваний для конкретного города и дня.\n",
    "# С помощью последовательной фильтрации с логической индексацией она \n",
    "# сначала получит из исходной таблицы строки с нужным днём,\n",
    "# затем из результата отфильтрует строки с нужным городом,\n",
    "# методом count() посчитает количество значений в колонке user_id. \n",
    "# Это количество функция вернёт в качестве результата"
   ]
  },
  {
   "cell_type": "markdown",
   "metadata": {
    "id": "ytf7xFrFJQ2r"
   },
   "source": [
    "Вызовем `number_tracks()` шесть раз, меняя значение параметров — так, чтобы получить данные для каждого города в каждый из трёх дней."
   ]
  },
  {
   "cell_type": "code",
   "execution_count": 29,
   "metadata": {},
   "outputs": [
    {
     "name": "stdout",
     "output_type": "stream",
     "text": [
      "15740\n",
      "5614\n",
      "11056\n",
      "7003\n",
      "15945\n",
      "5895\n"
     ]
    }
   ],
   "source": [
    "cities = ['Moscow', 'Saint-Petersburg']\n",
    "days = ['Monday','Wednesday','Friday']\n",
    "\n",
    "for day in days:\n",
    "    for city in cities:\n",
    "        print(number_tracks(day,city))\n"
   ]
  },
  {
   "cell_type": "markdown",
   "metadata": {
    "id": "7QXffbO-_Zcu"
   },
   "source": [
    "Создадим таблицу с результатами."
   ]
  },
  {
   "cell_type": "code",
   "execution_count": 30,
   "metadata": {
    "id": "APAcLpOr_Zcu"
   },
   "outputs": [
    {
     "data": {
      "text/html": [
       "<div>\n",
       "<style scoped>\n",
       "    .dataframe tbody tr th:only-of-type {\n",
       "        vertical-align: middle;\n",
       "    }\n",
       "\n",
       "    .dataframe tbody tr th {\n",
       "        vertical-align: top;\n",
       "    }\n",
       "\n",
       "    .dataframe thead th {\n",
       "        text-align: right;\n",
       "    }\n",
       "</style>\n",
       "<table border=\"1\" class=\"dataframe\">\n",
       "  <thead>\n",
       "    <tr style=\"text-align: right;\">\n",
       "      <th></th>\n",
       "      <th>monday</th>\n",
       "      <th>wednesday</th>\n",
       "      <th>friday</th>\n",
       "    </tr>\n",
       "    <tr>\n",
       "      <th>city</th>\n",
       "      <th></th>\n",
       "      <th></th>\n",
       "      <th></th>\n",
       "    </tr>\n",
       "  </thead>\n",
       "  <tbody>\n",
       "    <tr>\n",
       "      <td>Moscow</td>\n",
       "      <td>15740</td>\n",
       "      <td>11056</td>\n",
       "      <td>15945</td>\n",
       "    </tr>\n",
       "    <tr>\n",
       "      <td>Saint-Petersburg</td>\n",
       "      <td>5614</td>\n",
       "      <td>7003</td>\n",
       "      <td>5895</td>\n",
       "    </tr>\n",
       "  </tbody>\n",
       "</table>\n",
       "</div>"
      ],
      "text/plain": [
       "                  monday  wednesday  friday\n",
       "city                                       \n",
       "Moscow             15740      11056   15945\n",
       "Saint-Petersburg    5614       7003    5895"
      ]
     },
     "execution_count": 30,
     "metadata": {},
     "output_type": "execute_result"
    }
   ],
   "source": [
    "data = [['Moscow',moscow_mon, moscow_wed,moscow_fri],['Saint-Petersburg', saint_petersburg_mon, saint_petersburg_wed, saint_petersburg_fri]]\n",
    "columns = ['city', 'monday', 'wednesday', 'friday']\n",
    "city_activity_result = pd.DataFrame(data = data, columns = columns) # Таблица с результатами\n",
    "city_activity_result.set_index('city', inplace=True)\n",
    "city_activity_result"
   ]
  },
  {
   "cell_type": "markdown",
   "metadata": {
    "id": "-EgPIHYu_Zcu"
   },
   "source": [
    "**Выводы**\n",
    "\n",
    "Данные показывают разницу поведения пользователей:\n",
    "\n",
    "- В Москве пик прослушиваний приходится на понедельник и пятницу, а в среду заметен спад.\n",
    "- В Петербурге, наоборот, больше слушают музыку по средам. Активность в понедельник и пятницу здесь почти в равной мере уступает среде.\n",
    "\n",
    "Значит, данные говорят в пользу первой гипотезы."
   ]
  },
  {
   "cell_type": "markdown",
   "metadata": {
    "id": "atZAxtq4_Zcu"
   },
   "source": [
    "### Музыка в начале и в конце недели"
   ]
  },
  {
   "cell_type": "markdown",
   "metadata": {
    "id": "eXrQqXFH_Zcu"
   },
   "source": [
    "Согласно второй гипотезе, утром в понедельник в Москве преобладают одни жанры, а в Петербурге — другие. Так же и вечером пятницы преобладают разные жанры — в зависимости от города."
   ]
  },
  {
   "cell_type": "markdown",
   "metadata": {
    "id": "S8UcW6Hw_Zcu"
   },
   "source": [
    "Сохраним таблицы с данными в две переменные:\n",
    "* по Москве — в `moscow_general`;\n",
    "* по Санкт-Петербургу — в `spb_general`."
   ]
  },
  {
   "cell_type": "code",
   "execution_count": 31,
   "metadata": {
    "id": "qeaFfM_P_Zcu"
   },
   "outputs": [
    {
     "data": {
      "text/html": [
       "<div>\n",
       "<style scoped>\n",
       "    .dataframe tbody tr th:only-of-type {\n",
       "        vertical-align: middle;\n",
       "    }\n",
       "\n",
       "    .dataframe tbody tr th {\n",
       "        vertical-align: top;\n",
       "    }\n",
       "\n",
       "    .dataframe thead th {\n",
       "        text-align: right;\n",
       "    }\n",
       "</style>\n",
       "<table border=\"1\" class=\"dataframe\">\n",
       "  <thead>\n",
       "    <tr style=\"text-align: right;\">\n",
       "      <th></th>\n",
       "      <th>user_id</th>\n",
       "      <th>track</th>\n",
       "      <th>artist</th>\n",
       "      <th>genre</th>\n",
       "      <th>city</th>\n",
       "      <th>time</th>\n",
       "      <th>day</th>\n",
       "    </tr>\n",
       "  </thead>\n",
       "  <tbody>\n",
       "    <tr>\n",
       "      <td>1</td>\n",
       "      <td>55204538</td>\n",
       "      <td>Delayed Because of Accident</td>\n",
       "      <td>Andreas Rönnberg</td>\n",
       "      <td>rock</td>\n",
       "      <td>Moscow</td>\n",
       "      <td>14:07:09</td>\n",
       "      <td>Friday</td>\n",
       "    </tr>\n",
       "    <tr>\n",
       "      <td>4</td>\n",
       "      <td>E2DC1FAE</td>\n",
       "      <td>Soul People</td>\n",
       "      <td>Space Echo</td>\n",
       "      <td>dance</td>\n",
       "      <td>Moscow</td>\n",
       "      <td>08:34:34</td>\n",
       "      <td>Monday</td>\n",
       "    </tr>\n",
       "    <tr>\n",
       "      <td>6</td>\n",
       "      <td>4CB90AA5</td>\n",
       "      <td>True</td>\n",
       "      <td>Roman Messer</td>\n",
       "      <td>dance</td>\n",
       "      <td>Moscow</td>\n",
       "      <td>13:00:07</td>\n",
       "      <td>Wednesday</td>\n",
       "    </tr>\n",
       "    <tr>\n",
       "      <td>7</td>\n",
       "      <td>F03E1C1F</td>\n",
       "      <td>Feeling This Way</td>\n",
       "      <td>Polina Griffith</td>\n",
       "      <td>dance</td>\n",
       "      <td>Moscow</td>\n",
       "      <td>20:47:49</td>\n",
       "      <td>Wednesday</td>\n",
       "    </tr>\n",
       "    <tr>\n",
       "      <td>8</td>\n",
       "      <td>8FA1D3BE</td>\n",
       "      <td>И вновь продолжается бой</td>\n",
       "      <td>unknown</td>\n",
       "      <td>ruspop</td>\n",
       "      <td>Moscow</td>\n",
       "      <td>09:17:40</td>\n",
       "      <td>Friday</td>\n",
       "    </tr>\n",
       "    <tr>\n",
       "      <td>...</td>\n",
       "      <td>...</td>\n",
       "      <td>...</td>\n",
       "      <td>...</td>\n",
       "      <td>...</td>\n",
       "      <td>...</td>\n",
       "      <td>...</td>\n",
       "      <td>...</td>\n",
       "    </tr>\n",
       "    <tr>\n",
       "      <td>61247</td>\n",
       "      <td>83A474E7</td>\n",
       "      <td>I Worship Only What You Bleed</td>\n",
       "      <td>The Black Dahlia Murder</td>\n",
       "      <td>extrememetal</td>\n",
       "      <td>Moscow</td>\n",
       "      <td>21:07:12</td>\n",
       "      <td>Monday</td>\n",
       "    </tr>\n",
       "    <tr>\n",
       "      <td>61248</td>\n",
       "      <td>729CBB09</td>\n",
       "      <td>My Name</td>\n",
       "      <td>McLean</td>\n",
       "      <td>rnb</td>\n",
       "      <td>Moscow</td>\n",
       "      <td>13:32:28</td>\n",
       "      <td>Wednesday</td>\n",
       "    </tr>\n",
       "    <tr>\n",
       "      <td>61250</td>\n",
       "      <td>C5E3A0D5</td>\n",
       "      <td>Jalopiina</td>\n",
       "      <td>unknown</td>\n",
       "      <td>industrial</td>\n",
       "      <td>Moscow</td>\n",
       "      <td>20:09:26</td>\n",
       "      <td>Friday</td>\n",
       "    </tr>\n",
       "    <tr>\n",
       "      <td>61251</td>\n",
       "      <td>321D0506</td>\n",
       "      <td>Freight Train</td>\n",
       "      <td>Chas McDevitt</td>\n",
       "      <td>rock</td>\n",
       "      <td>Moscow</td>\n",
       "      <td>21:43:59</td>\n",
       "      <td>Friday</td>\n",
       "    </tr>\n",
       "    <tr>\n",
       "      <td>61252</td>\n",
       "      <td>3A64EF84</td>\n",
       "      <td>Tell Me Sweet Little Lies</td>\n",
       "      <td>Monica Lopez</td>\n",
       "      <td>country</td>\n",
       "      <td>Moscow</td>\n",
       "      <td>21:59:46</td>\n",
       "      <td>Friday</td>\n",
       "    </tr>\n",
       "  </tbody>\n",
       "</table>\n",
       "<p>42741 rows × 7 columns</p>\n",
       "</div>"
      ],
      "text/plain": [
       "        user_id                          track                   artist  \\\n",
       "1      55204538    Delayed Because of Accident         Andreas Rönnberg   \n",
       "4      E2DC1FAE                    Soul People               Space Echo   \n",
       "6      4CB90AA5                           True             Roman Messer   \n",
       "7      F03E1C1F               Feeling This Way          Polina Griffith   \n",
       "8      8FA1D3BE       И вновь продолжается бой                  unknown   \n",
       "...         ...                            ...                      ...   \n",
       "61247  83A474E7  I Worship Only What You Bleed  The Black Dahlia Murder   \n",
       "61248  729CBB09                        My Name                   McLean   \n",
       "61250  C5E3A0D5                      Jalopiina                  unknown   \n",
       "61251  321D0506                  Freight Train            Chas McDevitt   \n",
       "61252  3A64EF84      Tell Me Sweet Little Lies             Monica Lopez   \n",
       "\n",
       "              genre    city      time        day  \n",
       "1              rock  Moscow  14:07:09     Friday  \n",
       "4             dance  Moscow  08:34:34     Monday  \n",
       "6             dance  Moscow  13:00:07  Wednesday  \n",
       "7             dance  Moscow  20:47:49  Wednesday  \n",
       "8            ruspop  Moscow  09:17:40     Friday  \n",
       "...             ...     ...       ...        ...  \n",
       "61247  extrememetal  Moscow  21:07:12     Monday  \n",
       "61248           rnb  Moscow  13:32:28  Wednesday  \n",
       "61250    industrial  Moscow  20:09:26     Friday  \n",
       "61251          rock  Moscow  21:43:59     Friday  \n",
       "61252       country  Moscow  21:59:46     Friday  \n",
       "\n",
       "[42741 rows x 7 columns]"
      ]
     },
     "execution_count": 31,
     "metadata": {},
     "output_type": "execute_result"
    }
   ],
   "source": [
    "moscow_general = df[df['city'] == 'Moscow']\n",
    "moscow_general\n",
    "# получение таблицы moscow_general из тех строк таблицы df, \n",
    "# для которых значение в столбце 'city' равно 'Moscow'"
   ]
  },
  {
   "cell_type": "code",
   "execution_count": 32,
   "metadata": {
    "id": "ORaVRKto_Zcu"
   },
   "outputs": [
    {
     "data": {
      "text/html": [
       "<div>\n",
       "<style scoped>\n",
       "    .dataframe tbody tr th:only-of-type {\n",
       "        vertical-align: middle;\n",
       "    }\n",
       "\n",
       "    .dataframe tbody tr th {\n",
       "        vertical-align: top;\n",
       "    }\n",
       "\n",
       "    .dataframe thead th {\n",
       "        text-align: right;\n",
       "    }\n",
       "</style>\n",
       "<table border=\"1\" class=\"dataframe\">\n",
       "  <thead>\n",
       "    <tr style=\"text-align: right;\">\n",
       "      <th></th>\n",
       "      <th>user_id</th>\n",
       "      <th>track</th>\n",
       "      <th>artist</th>\n",
       "      <th>genre</th>\n",
       "      <th>city</th>\n",
       "      <th>time</th>\n",
       "      <th>day</th>\n",
       "    </tr>\n",
       "  </thead>\n",
       "  <tbody>\n",
       "    <tr>\n",
       "      <td>0</td>\n",
       "      <td>FFB692EC</td>\n",
       "      <td>Kamigata To Boots</td>\n",
       "      <td>The Mass Missile</td>\n",
       "      <td>rock</td>\n",
       "      <td>Saint-Petersburg</td>\n",
       "      <td>20:28:33</td>\n",
       "      <td>Wednesday</td>\n",
       "    </tr>\n",
       "    <tr>\n",
       "      <td>2</td>\n",
       "      <td>20EC38</td>\n",
       "      <td>Funiculì funiculà</td>\n",
       "      <td>Mario Lanza</td>\n",
       "      <td>pop</td>\n",
       "      <td>Saint-Petersburg</td>\n",
       "      <td>20:58:07</td>\n",
       "      <td>Wednesday</td>\n",
       "    </tr>\n",
       "    <tr>\n",
       "      <td>3</td>\n",
       "      <td>A3DD03C9</td>\n",
       "      <td>Dragons in the Sunset</td>\n",
       "      <td>Fire + Ice</td>\n",
       "      <td>folk</td>\n",
       "      <td>Saint-Petersburg</td>\n",
       "      <td>08:37:09</td>\n",
       "      <td>Monday</td>\n",
       "    </tr>\n",
       "    <tr>\n",
       "      <td>5</td>\n",
       "      <td>842029A1</td>\n",
       "      <td>Преданная</td>\n",
       "      <td>IMPERVTOR</td>\n",
       "      <td>rusrap</td>\n",
       "      <td>Saint-Petersburg</td>\n",
       "      <td>13:09:41</td>\n",
       "      <td>Friday</td>\n",
       "    </tr>\n",
       "    <tr>\n",
       "      <td>9</td>\n",
       "      <td>E772D5C0</td>\n",
       "      <td>Pessimist</td>\n",
       "      <td>unknown</td>\n",
       "      <td>dance</td>\n",
       "      <td>Saint-Petersburg</td>\n",
       "      <td>21:20:49</td>\n",
       "      <td>Wednesday</td>\n",
       "    </tr>\n",
       "    <tr>\n",
       "      <td>...</td>\n",
       "      <td>...</td>\n",
       "      <td>...</td>\n",
       "      <td>...</td>\n",
       "      <td>...</td>\n",
       "      <td>...</td>\n",
       "      <td>...</td>\n",
       "      <td>...</td>\n",
       "    </tr>\n",
       "    <tr>\n",
       "      <td>61239</td>\n",
       "      <td>D94F810B</td>\n",
       "      <td>Theme from the Walking Dead</td>\n",
       "      <td>Proyecto Halloween</td>\n",
       "      <td>film</td>\n",
       "      <td>Saint-Petersburg</td>\n",
       "      <td>21:14:40</td>\n",
       "      <td>Monday</td>\n",
       "    </tr>\n",
       "    <tr>\n",
       "      <td>61240</td>\n",
       "      <td>BC8EC5CF</td>\n",
       "      <td>Red Lips: Gta (Rover Rework)</td>\n",
       "      <td>Rover</td>\n",
       "      <td>electronic</td>\n",
       "      <td>Saint-Petersburg</td>\n",
       "      <td>21:06:50</td>\n",
       "      <td>Monday</td>\n",
       "    </tr>\n",
       "    <tr>\n",
       "      <td>61241</td>\n",
       "      <td>29E04611</td>\n",
       "      <td>Bre Petrunko</td>\n",
       "      <td>Perunika Trio</td>\n",
       "      <td>world</td>\n",
       "      <td>Saint-Petersburg</td>\n",
       "      <td>13:56:00</td>\n",
       "      <td>Monday</td>\n",
       "    </tr>\n",
       "    <tr>\n",
       "      <td>61242</td>\n",
       "      <td>1B91C621</td>\n",
       "      <td>(Hello) Cloud Mountain</td>\n",
       "      <td>sleepmakeswaves</td>\n",
       "      <td>postrock</td>\n",
       "      <td>Saint-Petersburg</td>\n",
       "      <td>09:22:13</td>\n",
       "      <td>Monday</td>\n",
       "    </tr>\n",
       "    <tr>\n",
       "      <td>61249</td>\n",
       "      <td>D08D4A55</td>\n",
       "      <td>Maybe One Day (feat. Black Spade)</td>\n",
       "      <td>Blu &amp; Exile</td>\n",
       "      <td>hiphop</td>\n",
       "      <td>Saint-Petersburg</td>\n",
       "      <td>10:00:00</td>\n",
       "      <td>Monday</td>\n",
       "    </tr>\n",
       "  </tbody>\n",
       "</table>\n",
       "<p>18512 rows × 7 columns</p>\n",
       "</div>"
      ],
      "text/plain": [
       "        user_id                              track              artist  \\\n",
       "0      FFB692EC                  Kamigata To Boots    The Mass Missile   \n",
       "2        20EC38                  Funiculì funiculà         Mario Lanza   \n",
       "3      A3DD03C9              Dragons in the Sunset          Fire + Ice   \n",
       "5      842029A1                          Преданная           IMPERVTOR   \n",
       "9      E772D5C0                          Pessimist             unknown   \n",
       "...         ...                                ...                 ...   \n",
       "61239  D94F810B        Theme from the Walking Dead  Proyecto Halloween   \n",
       "61240  BC8EC5CF       Red Lips: Gta (Rover Rework)               Rover   \n",
       "61241  29E04611                       Bre Petrunko       Perunika Trio   \n",
       "61242  1B91C621             (Hello) Cloud Mountain     sleepmakeswaves   \n",
       "61249  D08D4A55  Maybe One Day (feat. Black Spade)         Blu & Exile   \n",
       "\n",
       "            genre              city      time        day  \n",
       "0            rock  Saint-Petersburg  20:28:33  Wednesday  \n",
       "2             pop  Saint-Petersburg  20:58:07  Wednesday  \n",
       "3            folk  Saint-Petersburg  08:37:09     Monday  \n",
       "5          rusrap  Saint-Petersburg  13:09:41     Friday  \n",
       "9           dance  Saint-Petersburg  21:20:49  Wednesday  \n",
       "...           ...               ...       ...        ...  \n",
       "61239        film  Saint-Petersburg  21:14:40     Monday  \n",
       "61240  electronic  Saint-Petersburg  21:06:50     Monday  \n",
       "61241       world  Saint-Petersburg  13:56:00     Monday  \n",
       "61242    postrock  Saint-Petersburg  09:22:13     Monday  \n",
       "61249      hiphop  Saint-Petersburg  10:00:00     Monday  \n",
       "\n",
       "[18512 rows x 7 columns]"
      ]
     },
     "execution_count": 32,
     "metadata": {},
     "output_type": "execute_result"
    }
   ],
   "source": [
    "spb_general = df[df['city'] == 'Saint-Petersburg']\n",
    "spb_general\n",
    "# получение таблицы spb_general из тех строк таблицы df,\n",
    "# для которых значение в столбце 'city' равно 'Saint-Petersburg'\n"
   ]
  },
  {
   "cell_type": "markdown",
   "metadata": {
    "id": "MEJV-CX2_Zcu"
   },
   "source": [
    "Создадим функцию `genre_weekday()` с четырьмя параметрами:\n",
    "* таблица (датафрейм) с данными,\n",
    "* день недели,\n",
    "* начальная временная метка в формате 'hh:mm', \n",
    "* последняя временная метка в формате 'hh:mm'.\n",
    "\n",
    "Функция должна вернуть информацию о топ-10 жанров тех треков, которые прослушивали в указанный день, в промежутке между двумя отметками времени."
   ]
  },
  {
   "cell_type": "code",
   "execution_count": 33,
   "metadata": {
    "id": "laJT9BYl_Zcu"
   },
   "outputs": [],
   "source": [
    "def genre_weekday(table, day, time1, time2):\n",
    "    genre_df = table[table['day'] == day] \n",
    "    genre_df = genre_df[genre_df['time'] > time1]\n",
    "    genre_df = genre_df[genre_df['time'] < time2]\n",
    "    \n",
    "    genre_df_count = genre_df.groupby('genre')['user_id'].count()\n",
    "    genre_df_sorted = genre_df_count.sort_values(ascending=False)\n",
    "    \n",
    "    return genre_df_sorted[:10]\n",
    "\n",
    "# Объявление функции genre_weekday() с параметрами table, day, time1, time2,\n",
    "# которая возвращает информацию о самых популярных жанрах в указанный день в\n",
    "# заданное время:\n",
    "# 1) в переменную genre_df сохраняются те строки переданного датафрейма table, для\n",
    "#    которых одновременно:\n",
    "#    - значение в столбце day равно значению аргумента day\n",
    "#    - значение в столбце time больше значения аргумента time1\n",
    "#    - значение в столбце time меньше значения аргумента time2\n",
    "#    Используйте последовательную фильтрацию с помощью логической индексации.\n",
    "# 2) сгруппировать датафрейм genre_df по столбцу genre, взять один из его\n",
    "#    столбцов и посчитать методом count() количество записей для каждого из\n",
    "#    присутствующих жанров, получившийся Series записать в переменную\n",
    "#    genre_df_count\n",
    "# 3) отсортировать genre_df_count по убыванию встречаемости и сохранить\n",
    "#    в переменную genre_df_sorted\n",
    "# 4) вернуть Series из 10 первых значений genre_df_sorted, это будут топ-10\n",
    "#    популярных жанров (в указанный день, в заданное время)"
   ]
  },
  {
   "cell_type": "markdown",
   "metadata": {
    "id": "la2s2_PF_Zcu"
   },
   "source": [
    "Cравним результаты функции `genre_weekday()` для Москвы и Санкт-Петербурга в понедельник утром (с 7:00 до 11:00) и в пятницу вечером (с 17:00 до 23:00):"
   ]
  },
  {
   "cell_type": "code",
   "execution_count": 34,
   "metadata": {
    "id": "yz7itPUQ_Zcu"
   },
   "outputs": [
    {
     "data": {
      "text/plain": [
       "genre\n",
       "pop            781\n",
       "dance          549\n",
       "electronic     480\n",
       "rock           474\n",
       "hiphop         286\n",
       "ruspop         186\n",
       "world          181\n",
       "rusrap         175\n",
       "alternative    164\n",
       "unknown        161\n",
       "Name: user_id, dtype: int64"
      ]
     },
     "execution_count": 34,
     "metadata": {},
     "output_type": "execute_result"
    }
   ],
   "source": [
    "genre_weekday(moscow_general, 'Monday', '07:00', '11:00')\n",
    "# вызов функции для утра понедельника в Москве (вместо df — таблица moscow_general)\n",
    "# объекты, хранящие время, являются строками и сравниваются как строки\n",
    "# пример вызова: genre_weekday(moscow_general, 'Monday', '07:00', '11:00')"
   ]
  },
  {
   "cell_type": "code",
   "execution_count": 35,
   "metadata": {
    "id": "kwUcHPdy_Zcu"
   },
   "outputs": [
    {
     "data": {
      "text/plain": [
       "genre\n",
       "pop            218\n",
       "dance          182\n",
       "rock           162\n",
       "electronic     147\n",
       "hiphop          80\n",
       "ruspop          64\n",
       "alternative     58\n",
       "rusrap          55\n",
       "jazz            44\n",
       "classical       40\n",
       "Name: user_id, dtype: int64"
      ]
     },
     "execution_count": 35,
     "metadata": {},
     "output_type": "execute_result"
    }
   ],
   "source": [
    "genre_weekday(spb_general, 'Monday', '07:00', '11:00')\n",
    "# вызов функции для утра понедельника в Петербурге (вместо df — таблица spb_general)"
   ]
  },
  {
   "cell_type": "code",
   "execution_count": 36,
   "metadata": {
    "id": "EzXVRE1o_Zcu"
   },
   "outputs": [
    {
     "data": {
      "text/plain": [
       "genre\n",
       "pop            713\n",
       "rock           517\n",
       "dance          495\n",
       "electronic     482\n",
       "hiphop         273\n",
       "world          208\n",
       "ruspop         170\n",
       "alternative    163\n",
       "classical      163\n",
       "rusrap         142\n",
       "Name: user_id, dtype: int64"
      ]
     },
     "execution_count": 36,
     "metadata": {},
     "output_type": "execute_result"
    }
   ],
   "source": [
    "genre_weekday(moscow_general, 'Friday', '17:00', '23:00')\n",
    "# вызов функции для вечера пятницы в Москве"
   ]
  },
  {
   "cell_type": "code",
   "execution_count": 37,
   "metadata": {
    "id": "JZaEKu5v_Zcu"
   },
   "outputs": [
    {
     "data": {
      "text/plain": [
       "genre\n",
       "pop            256\n",
       "rock           216\n",
       "electronic     216\n",
       "dance          210\n",
       "hiphop          97\n",
       "alternative     63\n",
       "jazz            61\n",
       "classical       60\n",
       "rusrap          59\n",
       "world           54\n",
       "Name: user_id, dtype: int64"
      ]
     },
     "execution_count": 37,
     "metadata": {},
     "output_type": "execute_result"
    }
   ],
   "source": [
    "genre_weekday(spb_general, 'Friday', '17:00', '23:00')# вызов функции для вечера пятницы в Петербурге"
   ]
  },
  {
   "cell_type": "markdown",
   "metadata": {
    "id": "wrCe4MNX_Zcu"
   },
   "source": [
    "**Выводы**\n",
    "\n",
    "Если сравнить топ-10 жанров в понедельник утром, можно сделать такие выводы:\n",
    "\n",
    "1. В Москве и Петербурге слушают похожую музыку. Единственное отличие — в московский рейтинг вошёл жанр “world”, а в петербургский — джаз и классика.\n",
    "\n",
    "2. В Москве пропущенных значений оказалось так много, что значение `'unknown'` заняло десятое место среди самых популярных жанров. Значит, пропущенные значения занимают существенную долю в данных и угрожают достоверности исследования.\n",
    "\n",
    "Вечер пятницы не меняет эту картину. Некоторые жанры поднимаются немного выше, другие спускаются, но в целом топ-10 остаётся тем же самым.\n",
    "\n",
    "Таким образом, вторая гипотеза подтвердилась лишь частично:\n",
    "* Пользователи слушают похожую музыку в начале недели и в конце.\n",
    "* Разница между Москвой и Петербургом не слишком выражена. В Москве чаще слушают русскую популярную музыку, в Петербурге — джаз.\n",
    "\n",
    "Однако пропуски в данных ставят под сомнение этот результат. В Москве их так много, что рейтинг топ-10 мог бы выглядеть иначе, если бы не утерянные  данные о жанрах."
   ]
  },
  {
   "cell_type": "markdown",
   "metadata": {
    "id": "JolODAqr_Zcu"
   },
   "source": [
    "### Жанровые предпочтения в Москве и Петербурге\n",
    "\n",
    "Гипотеза: Петербург — столица рэпа, музыку этого жанра там слушают чаще, чем в Москве.  А Москва — город контрастов, в котором, тем не менее, преобладает поп-музыка."
   ]
  },
  {
   "cell_type": "markdown",
   "metadata": {
    "id": "DlegSvaT_Zcu"
   },
   "source": [
    "Сгруппируем таблицу `moscow_general` по жанру и посчитаем прослушивания треков каждого жанра методом `count()`. Затем отсортируем результат в порядке убывания и сохраним его в таблице `moscow_genres`."
   ]
  },
  {
   "cell_type": "code",
   "execution_count": 38,
   "metadata": {
    "id": "r19lIPke_Zcu"
   },
   "outputs": [],
   "source": [
    "moscow_genres = moscow_general.groupby('genre')['track'].count().sort_values(ascending=False)\n",
    "# одной строкой: группировка таблицы moscow_general по столбцу 'genre', \n",
    "# подсчёт числа значений 'genre' в этой группировке методом count(), \n",
    "# сортировка получившегося Series в порядке убывания и сохранение в moscow_genres"
   ]
  },
  {
   "cell_type": "markdown",
   "metadata": {
    "id": "6kMuomxTiIr8"
   },
   "source": [
    "Выведите на экран первые десять строк `moscow_genres`:"
   ]
  },
  {
   "cell_type": "code",
   "execution_count": 39,
   "metadata": {
    "id": "WhCSooF8_Zcv"
   },
   "outputs": [
    {
     "data": {
      "text/plain": [
       "genre\n",
       "pop            5892\n",
       "dance          4435\n",
       "rock           3965\n",
       "electronic     3786\n",
       "hiphop         2096\n",
       "classical      1616\n",
       "world          1432\n",
       "alternative    1379\n",
       "ruspop         1372\n",
       "rusrap         1161\n",
       "Name: track, dtype: int64"
      ]
     },
     "execution_count": 39,
     "metadata": {},
     "output_type": "execute_result"
    }
   ],
   "source": [
    "moscow_genres.head(10)# просмотр первых 10 строк moscow_genres"
   ]
  },
  {
   "cell_type": "markdown",
   "metadata": {
    "id": "cnPG2vnN_Zcv"
   },
   "source": [
    "Теперь повторите то же и для Петербурга."
   ]
  },
  {
   "cell_type": "code",
   "execution_count": 40,
   "metadata": {
    "id": "gluLIpE7_Zcv"
   },
   "outputs": [],
   "source": [
    "spb_genres = spb_general.groupby('genre')['track'].count().sort_values(ascending=False)\n",
    "# одной строкой: группировка таблицы spb_general по столбцу 'genre', \n",
    "# подсчёт числа значений 'genre' в этой группировке методом count(), \n",
    "# сортировка получившегося Series в порядке убывания и сохранение в spb_genres"
   ]
  },
  {
   "cell_type": "markdown",
   "metadata": {
    "id": "5Doha_ODgyQ8"
   },
   "source": [
    "Выведем на экран первые десять строк `spb_genres`:"
   ]
  },
  {
   "cell_type": "code",
   "execution_count": 41,
   "metadata": {
    "id": "uaGJHjVU_Zcv"
   },
   "outputs": [
    {
     "data": {
      "text/plain": [
       "genre\n",
       "pop            2431\n",
       "dance          1932\n",
       "rock           1879\n",
       "electronic     1736\n",
       "hiphop          960\n",
       "alternative     649\n",
       "classical       646\n",
       "rusrap          564\n",
       "ruspop          538\n",
       "world           515\n",
       "Name: track, dtype: int64"
      ]
     },
     "execution_count": 41,
     "metadata": {},
     "output_type": "execute_result"
    }
   ],
   "source": [
    "spb_genres.head(10)\n",
    "# просмотр первых 10 строк spb_genres"
   ]
  },
  {
   "cell_type": "markdown",
   "metadata": {
    "id": "RY51YJYu_Zcv"
   },
   "source": [
    "**Выводы**"
   ]
  },
  {
   "cell_type": "markdown",
   "metadata": {
    "id": "nVhnJEm__Zcv"
   },
   "source": [
    "Гипотеза частично подтвердилась:\n",
    "* Поп-музыка — самый популярный жанр в Москве, как и предполагала гипотеза. Более того, в топ-10 жанров встречается близкий жанр — русская популярная музыка.\n",
    "* Вопреки ожиданиям, рэп одинаково популярен в Москве и Петербурге. \n"
   ]
  },
  {
   "cell_type": "markdown",
   "metadata": {
    "id": "ykKQ0N65_Zcv"
   },
   "source": [
    "## Итоги исследования"
   ]
  },
  {
   "cell_type": "markdown",
   "metadata": {
    "id": "tjUwbHb3_Zcv"
   },
   "source": [
    "Проверили три гипотезы и установили:\n",
    "\n",
    "1. День недели по-разному влияет на активность пользователей в Москве и Петербурге. \n",
    "\n",
    "Первая гипотеза полностью подтвердилась.\n",
    "\n",
    "2. Музыкальные предпочтения не сильно меняются в течение недели — будь то Москва или Петербург. Небольшие различия заметны в начале недели, по понедельникам:\n",
    "* в Москве слушают музыку жанра “world”,\n",
    "* в Петербурге — джаз и классику.\n",
    "\n",
    "Таким образом, вторая гипотеза подтвердилась лишь отчасти. Этот результат мог оказаться иным, если бы не пропуски в данных.\n",
    "\n",
    "3. Во вкусах пользователей Москвы и Петербурга больше общего чем различий. Вопреки ожиданиям, предпочтения жанров в Петербурге напоминают московские.\n",
    "\n",
    "Третья гипотеза не подтвердилась. Если различия в предпочтениях и существуют, на основной массе пользователей они незаметны.\n"
   ]
  }
 ],
 "metadata": {
  "ExecuteTimeLog": [
   {
    "duration": 719,
    "start_time": "2022-02-06T14:16:58.322Z"
   },
   {
    "duration": 184,
    "start_time": "2022-02-06T14:17:48.784Z"
   },
   {
    "duration": 27,
    "start_time": "2022-02-06T14:18:18.245Z"
   },
   {
    "duration": 31,
    "start_time": "2022-02-06T14:18:52.725Z"
   },
   {
    "duration": 34,
    "start_time": "2022-02-06T14:19:01.795Z"
   },
   {
    "duration": 32,
    "start_time": "2022-02-06T14:19:10.807Z"
   },
   {
    "duration": 6,
    "start_time": "2022-02-06T14:20:22.617Z"
   },
   {
    "duration": 30,
    "start_time": "2022-02-06T14:23:24.213Z"
   },
   {
    "duration": 6,
    "start_time": "2022-02-06T14:23:35.634Z"
   },
   {
    "duration": 31,
    "start_time": "2022-02-06T14:24:22.672Z"
   },
   {
    "duration": 3803,
    "start_time": "2022-02-06T14:27:41.197Z"
   },
   {
    "duration": 4773,
    "start_time": "2022-02-06T14:28:29.010Z"
   },
   {
    "duration": 3837,
    "start_time": "2022-02-06T14:28:55.596Z"
   },
   {
    "duration": 4100,
    "start_time": "2022-02-06T14:29:40.471Z"
   },
   {
    "duration": 295,
    "start_time": "2022-02-06T14:30:32.054Z"
   },
   {
    "duration": 3787,
    "start_time": "2022-02-06T14:30:45.659Z"
   },
   {
    "duration": 8,
    "start_time": "2022-02-06T14:31:17.835Z"
   },
   {
    "duration": 739,
    "start_time": "2022-02-06T14:32:33.517Z"
   },
   {
    "duration": 186,
    "start_time": "2022-02-06T14:32:34.859Z"
   },
   {
    "duration": 27,
    "start_time": "2022-02-06T14:32:36.503Z"
   },
   {
    "duration": 33,
    "start_time": "2022-02-06T14:32:38.089Z"
   },
   {
    "duration": 6,
    "start_time": "2022-02-06T14:32:41.283Z"
   },
   {
    "duration": 29,
    "start_time": "2022-02-06T14:32:42.908Z"
   },
   {
    "duration": 5,
    "start_time": "2022-02-06T14:32:44.506Z"
   },
   {
    "duration": 32,
    "start_time": "2022-02-06T14:32:46.349Z"
   },
   {
    "duration": 20,
    "start_time": "2022-02-06T14:32:48.899Z"
   },
   {
    "duration": 4113,
    "start_time": "2022-02-06T14:33:04.668Z"
   },
   {
    "duration": 756,
    "start_time": "2022-02-06T14:35:04.352Z"
   },
   {
    "duration": 178,
    "start_time": "2022-02-06T14:35:05.110Z"
   },
   {
    "duration": 26,
    "start_time": "2022-02-06T14:35:05.704Z"
   },
   {
    "duration": 32,
    "start_time": "2022-02-06T14:35:06.402Z"
   },
   {
    "duration": 5,
    "start_time": "2022-02-06T14:35:08.291Z"
   },
   {
    "duration": 26,
    "start_time": "2022-02-06T14:35:09.119Z"
   },
   {
    "duration": 6,
    "start_time": "2022-02-06T14:35:09.799Z"
   },
   {
    "duration": 29,
    "start_time": "2022-02-06T14:35:10.710Z"
   },
   {
    "duration": 22,
    "start_time": "2022-02-06T14:35:13.087Z"
   },
   {
    "duration": 31,
    "start_time": "2022-02-06T14:35:29.737Z"
   },
   {
    "duration": 19,
    "start_time": "2022-02-06T14:36:19.231Z"
   },
   {
    "duration": 32,
    "start_time": "2022-02-06T14:36:21.220Z"
   },
   {
    "duration": 24,
    "start_time": "2022-02-06T14:37:48.695Z"
   },
   {
    "duration": 29,
    "start_time": "2022-02-06T14:37:49.882Z"
   },
   {
    "duration": 86,
    "start_time": "2022-02-06T14:38:39.565Z"
   },
   {
    "duration": 631,
    "start_time": "2022-02-06T14:39:25.669Z"
   },
   {
    "duration": 102,
    "start_time": "2022-02-06T14:39:35.476Z"
   },
   {
    "duration": 3,
    "start_time": "2022-02-06T14:39:39.901Z"
   },
   {
    "duration": 76,
    "start_time": "2022-02-06T14:39:54.135Z"
   },
   {
    "duration": 291,
    "start_time": "2022-02-06T14:42:14.986Z"
   },
   {
    "duration": 299,
    "start_time": "2022-02-06T14:48:12.542Z"
   },
   {
    "duration": 69,
    "start_time": "2022-02-06T14:48:23.542Z"
   },
   {
    "duration": 66,
    "start_time": "2022-02-06T14:49:23.112Z"
   },
   {
    "duration": 68,
    "start_time": "2022-02-06T14:49:30.526Z"
   },
   {
    "duration": 74,
    "start_time": "2022-02-06T14:50:36.712Z"
   },
   {
    "duration": 63,
    "start_time": "2022-02-06T14:51:18.600Z"
   },
   {
    "duration": 56,
    "start_time": "2022-02-06T14:51:33.113Z"
   },
   {
    "duration": 58,
    "start_time": "2022-02-06T14:51:44.287Z"
   },
   {
    "duration": 57,
    "start_time": "2022-02-06T14:51:58.874Z"
   },
   {
    "duration": 58,
    "start_time": "2022-02-06T14:54:10.205Z"
   },
   {
    "duration": 4,
    "start_time": "2022-02-06T14:56:46.812Z"
   },
   {
    "duration": 98,
    "start_time": "2022-02-06T14:57:09.430Z"
   },
   {
    "duration": 127,
    "start_time": "2022-02-06T15:08:41.638Z"
   },
   {
    "duration": 97,
    "start_time": "2022-02-06T15:15:14.512Z"
   },
   {
    "duration": 113,
    "start_time": "2022-02-06T15:15:34.146Z"
   },
   {
    "duration": 5,
    "start_time": "2022-02-06T15:15:39.143Z"
   },
   {
    "duration": 296,
    "start_time": "2022-02-06T15:17:01.327Z"
   },
   {
    "duration": 13,
    "start_time": "2022-02-06T15:17:18.835Z"
   },
   {
    "duration": 63,
    "start_time": "2022-02-06T15:17:40.510Z"
   },
   {
    "duration": 128,
    "start_time": "2022-02-06T15:28:27.566Z"
   },
   {
    "duration": 5,
    "start_time": "2022-02-06T15:28:35.258Z"
   },
   {
    "duration": 293,
    "start_time": "2022-02-06T15:29:08.989Z"
   },
   {
    "duration": 319,
    "start_time": "2022-02-06T15:32:25.114Z"
   },
   {
    "duration": 3906,
    "start_time": "2022-02-06T15:32:35.898Z"
   },
   {
    "duration": 324,
    "start_time": "2022-02-06T15:33:33.133Z"
   },
   {
    "duration": 332,
    "start_time": "2022-02-06T15:33:59.654Z"
   },
   {
    "duration": 795,
    "start_time": "2022-02-07T15:07:37.636Z"
   },
   {
    "duration": 195,
    "start_time": "2022-02-07T15:07:39.768Z"
   },
   {
    "duration": 27,
    "start_time": "2022-02-07T15:07:40.777Z"
   },
   {
    "duration": 32,
    "start_time": "2022-02-07T15:07:41.805Z"
   },
   {
    "duration": 7,
    "start_time": "2022-02-07T15:07:43.995Z"
   },
   {
    "duration": 31,
    "start_time": "2022-02-07T15:07:45.093Z"
   },
   {
    "duration": 6,
    "start_time": "2022-02-07T15:07:45.907Z"
   },
   {
    "duration": 32,
    "start_time": "2022-02-07T15:07:47.211Z"
   },
   {
    "duration": 25,
    "start_time": "2022-02-07T15:07:49.037Z"
   },
   {
    "duration": 31,
    "start_time": "2022-02-07T15:07:50.163Z"
   },
   {
    "duration": 90,
    "start_time": "2022-02-07T15:07:51.564Z"
   },
   {
    "duration": 103,
    "start_time": "2022-02-07T15:07:52.620Z"
   },
   {
    "duration": 78,
    "start_time": "2022-02-07T15:07:57.003Z"
   },
   {
    "duration": 75,
    "start_time": "2022-02-07T15:07:58.676Z"
   },
   {
    "duration": 4,
    "start_time": "2022-02-07T15:09:09.814Z"
   },
   {
    "duration": 14,
    "start_time": "2022-02-07T15:09:18.838Z"
   },
   {
    "duration": 60,
    "start_time": "2022-02-07T15:09:24.909Z"
   },
   {
    "duration": 4,
    "start_time": "2022-02-07T15:09:43.653Z"
   },
   {
    "duration": 51,
    "start_time": "2022-02-07T15:10:05.532Z"
   },
   {
    "duration": 51,
    "start_time": "2022-02-07T15:10:16.140Z"
   },
   {
    "duration": 8646,
    "start_time": "2022-02-07T15:10:57.645Z"
   },
   {
    "duration": 778,
    "start_time": "2022-02-07T15:11:31.122Z"
   },
   {
    "duration": 5,
    "start_time": "2022-02-07T15:12:21.766Z"
   },
   {
    "duration": 4,
    "start_time": "2022-02-07T15:12:29.390Z"
   },
   {
    "duration": 5,
    "start_time": "2022-02-07T15:12:55.422Z"
   },
   {
    "duration": 6,
    "start_time": "2022-02-07T15:13:10.647Z"
   },
   {
    "duration": 54,
    "start_time": "2022-02-07T15:13:27.609Z"
   },
   {
    "duration": 20,
    "start_time": "2022-02-07T15:18:06.033Z"
   },
   {
    "duration": 17,
    "start_time": "2022-02-07T15:18:24.083Z"
   },
   {
    "duration": 20,
    "start_time": "2022-02-07T15:20:47.907Z"
   },
   {
    "duration": 20,
    "start_time": "2022-02-07T15:20:57.506Z"
   },
   {
    "duration": 23,
    "start_time": "2022-02-07T15:21:05.908Z"
   },
   {
    "duration": 18,
    "start_time": "2022-02-07T15:21:30.883Z"
   },
   {
    "duration": 16,
    "start_time": "2022-02-07T15:23:19.804Z"
   },
   {
    "duration": 18,
    "start_time": "2022-02-07T15:23:35.130Z"
   },
   {
    "duration": 203,
    "start_time": "2022-02-07T15:25:21.126Z"
   },
   {
    "duration": 19,
    "start_time": "2022-02-07T15:25:26.670Z"
   },
   {
    "duration": 601,
    "start_time": "2022-02-07T15:25:34.006Z"
   },
   {
    "duration": 17,
    "start_time": "2022-02-07T15:26:07.782Z"
   },
   {
    "duration": 18,
    "start_time": "2022-02-07T15:26:19.025Z"
   },
   {
    "duration": 313,
    "start_time": "2022-02-07T16:06:13.996Z"
   },
   {
    "duration": 5,
    "start_time": "2022-02-07T16:07:15.555Z"
   },
   {
    "duration": 54,
    "start_time": "2022-02-07T16:07:27.231Z"
   },
   {
    "duration": 339,
    "start_time": "2022-02-07T16:10:49.997Z"
   },
   {
    "duration": 384,
    "start_time": "2022-02-07T16:11:04.949Z"
   },
   {
    "duration": 317,
    "start_time": "2022-02-07T16:12:29.100Z"
   },
   {
    "duration": 109,
    "start_time": "2022-02-07T16:12:51.351Z"
   },
   {
    "duration": 322,
    "start_time": "2022-02-07T16:13:05.543Z"
   },
   {
    "duration": 378,
    "start_time": "2022-02-07T16:13:17.794Z"
   },
   {
    "duration": 52,
    "start_time": "2022-02-07T16:26:01.789Z"
   },
   {
    "duration": 17,
    "start_time": "2022-02-07T16:26:23.597Z"
   },
   {
    "duration": 7,
    "start_time": "2022-02-07T16:41:29.338Z"
   },
   {
    "duration": 9159,
    "start_time": "2022-02-07T16:42:34.658Z"
   },
   {
    "duration": 9341,
    "start_time": "2022-02-07T16:45:15.971Z"
   },
   {
    "duration": 22,
    "start_time": "2022-02-07T16:47:12.258Z"
   },
   {
    "duration": 29,
    "start_time": "2022-02-07T16:47:27.480Z"
   },
   {
    "duration": 9497,
    "start_time": "2022-02-07T16:47:47.251Z"
   },
   {
    "duration": 8134,
    "start_time": "2022-02-07T16:48:00.779Z"
   },
   {
    "duration": 35,
    "start_time": "2022-02-07T16:48:11.114Z"
   },
   {
    "duration": 50,
    "start_time": "2022-02-07T16:48:15.113Z"
   },
   {
    "duration": 29,
    "start_time": "2022-02-07T16:48:43.613Z"
   },
   {
    "duration": 23,
    "start_time": "2022-02-07T16:51:09.201Z"
   },
   {
    "duration": 20,
    "start_time": "2022-02-07T16:51:09.879Z"
   },
   {
    "duration": 20,
    "start_time": "2022-02-07T16:51:10.349Z"
   },
   {
    "duration": 19,
    "start_time": "2022-02-07T16:51:10.704Z"
   },
   {
    "duration": 22,
    "start_time": "2022-02-07T16:51:11.049Z"
   },
   {
    "duration": 155,
    "start_time": "2022-02-07T16:51:11.384Z"
   },
   {
    "duration": 20,
    "start_time": "2022-02-07T16:51:23.223Z"
   },
   {
    "duration": 33,
    "start_time": "2022-02-07T16:56:02.458Z"
   },
   {
    "duration": 23,
    "start_time": "2022-02-07T17:00:20.215Z"
   },
   {
    "duration": 19,
    "start_time": "2022-02-07T17:00:20.754Z"
   },
   {
    "duration": 19,
    "start_time": "2022-02-07T17:00:21.421Z"
   },
   {
    "duration": 18,
    "start_time": "2022-02-07T17:00:23.606Z"
   },
   {
    "duration": 21,
    "start_time": "2022-02-07T17:00:45.040Z"
   },
   {
    "duration": 19,
    "start_time": "2022-02-07T17:01:08.212Z"
   },
   {
    "duration": 22,
    "start_time": "2022-02-07T17:01:10.646Z"
   },
   {
    "duration": 22,
    "start_time": "2022-02-07T17:01:10.973Z"
   },
   {
    "duration": 377,
    "start_time": "2022-02-07T17:07:00.089Z"
   },
   {
    "duration": 103,
    "start_time": "2022-02-07T17:13:36.660Z"
   },
   {
    "duration": 330,
    "start_time": "2022-02-07T17:13:45.270Z"
   },
   {
    "duration": 317,
    "start_time": "2022-02-07T17:18:27.653Z"
   },
   {
    "duration": 313,
    "start_time": "2022-02-07T17:18:44.973Z"
   },
   {
    "duration": 311,
    "start_time": "2022-02-07T17:21:26.905Z"
   },
   {
    "duration": 370,
    "start_time": "2022-02-07T17:36:38.752Z"
   },
   {
    "duration": 114,
    "start_time": "2022-02-07T17:40:46.324Z"
   },
   {
    "duration": 12,
    "start_time": "2022-02-07T17:41:05.833Z"
   },
   {
    "duration": 8,
    "start_time": "2022-02-07T17:42:19.842Z"
   },
   {
    "duration": 7,
    "start_time": "2022-02-07T17:42:32.637Z"
   },
   {
    "duration": 7,
    "start_time": "2022-02-07T17:43:12.538Z"
   },
   {
    "duration": 12,
    "start_time": "2022-02-07T17:43:21.218Z"
   },
   {
    "duration": 13,
    "start_time": "2022-02-07T17:43:48.928Z"
   },
   {
    "duration": 145,
    "start_time": "2022-02-07T17:56:41.550Z"
   },
   {
    "duration": 13,
    "start_time": "2022-02-07T17:56:48.400Z"
   },
   {
    "duration": 13,
    "start_time": "2022-02-07T17:56:53.879Z"
   },
   {
    "duration": 32,
    "start_time": "2022-02-07T18:00:12.839Z"
   },
   {
    "duration": 30,
    "start_time": "2022-02-07T18:00:47.908Z"
   },
   {
    "duration": 35,
    "start_time": "2022-02-07T18:00:53.130Z"
   },
   {
    "duration": 32,
    "start_time": "2022-02-07T18:01:09.591Z"
   },
   {
    "duration": 29,
    "start_time": "2022-02-07T18:01:19.916Z"
   },
   {
    "duration": 13,
    "start_time": "2022-02-07T18:01:25.459Z"
   },
   {
    "duration": 18,
    "start_time": "2022-02-07T18:01:28.086Z"
   },
   {
    "duration": 6,
    "start_time": "2022-02-07T18:08:38.094Z"
   },
   {
    "duration": 336,
    "start_time": "2022-02-07T18:10:43.307Z"
   },
   {
    "duration": 58,
    "start_time": "2022-02-07T18:10:53.784Z"
   },
   {
    "duration": 28,
    "start_time": "2022-02-07T18:11:44.856Z"
   },
   {
    "duration": 13,
    "start_time": "2022-02-07T18:11:46.525Z"
   },
   {
    "duration": 27,
    "start_time": "2022-02-07T18:11:46.931Z"
   },
   {
    "duration": 14,
    "start_time": "2022-02-07T18:12:14.203Z"
   },
   {
    "duration": 13,
    "start_time": "2022-02-07T18:12:19.687Z"
   },
   {
    "duration": 14,
    "start_time": "2022-02-07T18:12:22.911Z"
   },
   {
    "duration": 13,
    "start_time": "2022-02-07T18:12:33.892Z"
   },
   {
    "duration": 38,
    "start_time": "2022-02-07T18:14:03.666Z"
   },
   {
    "duration": 26,
    "start_time": "2022-02-07T18:14:09.203Z"
   },
   {
    "duration": 20,
    "start_time": "2022-02-07T18:14:23.789Z"
   },
   {
    "duration": 34,
    "start_time": "2022-02-07T18:14:26.337Z"
   },
   {
    "duration": 341,
    "start_time": "2022-02-07T18:16:58.129Z"
   },
   {
    "duration": 37,
    "start_time": "2022-02-07T18:18:00.173Z"
   },
   {
    "duration": 41,
    "start_time": "2022-02-07T18:18:12.387Z"
   },
   {
    "duration": 17,
    "start_time": "2022-02-07T18:18:38.728Z"
   },
   {
    "duration": 14,
    "start_time": "2022-02-07T18:18:47.898Z"
   },
   {
    "duration": 17,
    "start_time": "2022-02-07T18:18:52.101Z"
   },
   {
    "duration": 15,
    "start_time": "2022-02-07T18:19:01.886Z"
   },
   {
    "duration": 108,
    "start_time": "2022-02-07T18:19:18.564Z"
   },
   {
    "duration": 8,
    "start_time": "2022-02-07T18:19:49.210Z"
   },
   {
    "duration": 10,
    "start_time": "2022-02-07T18:20:22.800Z"
   },
   {
    "duration": 7,
    "start_time": "2022-02-07T18:20:37.796Z"
   },
   {
    "duration": 847,
    "start_time": "2022-02-07T18:21:10.700Z"
   },
   {
    "duration": 189,
    "start_time": "2022-02-07T18:21:12.477Z"
   },
   {
    "duration": 25,
    "start_time": "2022-02-07T18:21:13.898Z"
   },
   {
    "duration": 33,
    "start_time": "2022-02-07T18:21:16.660Z"
   },
   {
    "duration": 32,
    "start_time": "2022-02-07T18:21:29.188Z"
   },
   {
    "duration": 33,
    "start_time": "2022-02-07T18:21:37.069Z"
   },
   {
    "duration": 6,
    "start_time": "2022-02-07T18:21:40.069Z"
   },
   {
    "duration": 29,
    "start_time": "2022-02-07T18:21:42.277Z"
   },
   {
    "duration": 7,
    "start_time": "2022-02-07T18:21:44.436Z"
   },
   {
    "duration": 34,
    "start_time": "2022-02-07T18:21:45.510Z"
   },
   {
    "duration": 23,
    "start_time": "2022-02-07T18:22:01.181Z"
   },
   {
    "duration": 56,
    "start_time": "2022-02-07T18:22:03.597Z"
   },
   {
    "duration": 90,
    "start_time": "2022-02-07T18:22:06.540Z"
   },
   {
    "duration": 104,
    "start_time": "2022-02-07T18:22:07.748Z"
   },
   {
    "duration": 81,
    "start_time": "2022-02-07T18:22:08.741Z"
   },
   {
    "duration": 75,
    "start_time": "2022-02-07T18:22:10.796Z"
   },
   {
    "duration": 5,
    "start_time": "2022-02-07T18:22:19.844Z"
   },
   {
    "duration": 16,
    "start_time": "2022-02-07T18:22:22.820Z"
   },
   {
    "duration": 61,
    "start_time": "2022-02-07T18:22:24.080Z"
   },
   {
    "duration": 19,
    "start_time": "2022-02-07T18:22:29.393Z"
   },
   {
    "duration": 19,
    "start_time": "2022-02-07T18:22:31.191Z"
   },
   {
    "duration": 25,
    "start_time": "2022-02-07T18:22:41.798Z"
   },
   {
    "duration": 30,
    "start_time": "2022-02-07T18:22:44.499Z"
   },
   {
    "duration": 5,
    "start_time": "2022-02-07T18:22:51.472Z"
   },
   {
    "duration": 22,
    "start_time": "2022-02-07T18:22:53.031Z"
   },
   {
    "duration": 21,
    "start_time": "2022-02-07T18:22:53.877Z"
   },
   {
    "duration": 18,
    "start_time": "2022-02-07T18:22:54.342Z"
   },
   {
    "duration": 19,
    "start_time": "2022-02-07T18:22:55.369Z"
   },
   {
    "duration": 23,
    "start_time": "2022-02-07T18:22:55.973Z"
   },
   {
    "duration": 22,
    "start_time": "2022-02-07T18:22:56.388Z"
   },
   {
    "duration": 13,
    "start_time": "2022-02-07T18:22:57.566Z"
   },
   {
    "duration": 18,
    "start_time": "2022-02-07T18:23:04.101Z"
   },
   {
    "duration": 14,
    "start_time": "2022-02-07T18:23:05.125Z"
   },
   {
    "duration": 18,
    "start_time": "2022-02-07T18:23:11.269Z"
   },
   {
    "duration": 20,
    "start_time": "2022-02-07T18:23:24.136Z"
   },
   {
    "duration": 15,
    "start_time": "2022-02-07T18:23:24.738Z"
   },
   {
    "duration": 6,
    "start_time": "2022-02-07T18:23:26.637Z"
   },
   {
    "duration": 28,
    "start_time": "2022-02-07T18:23:39.286Z"
   },
   {
    "duration": 19,
    "start_time": "2022-02-07T18:23:40.901Z"
   },
   {
    "duration": 26,
    "start_time": "2022-02-07T18:23:41.509Z"
   },
   {
    "duration": 22,
    "start_time": "2022-02-07T18:23:41.989Z"
   },
   {
    "duration": 13,
    "start_time": "2022-02-07T18:23:45.446Z"
   },
   {
    "duration": 15,
    "start_time": "2022-02-07T18:23:48.030Z"
   },
   {
    "duration": 7,
    "start_time": "2022-02-07T18:23:49.214Z"
   },
   {
    "duration": 11,
    "start_time": "2022-02-07T18:23:52.510Z"
   },
   {
    "duration": 7,
    "start_time": "2022-02-07T18:23:53.662Z"
   },
   {
    "duration": 771,
    "start_time": "2022-02-13T20:09:13.443Z"
   },
   {
    "duration": 201,
    "start_time": "2022-02-13T20:09:14.217Z"
   },
   {
    "duration": 28,
    "start_time": "2022-02-13T20:09:14.421Z"
   },
   {
    "duration": 34,
    "start_time": "2022-02-13T20:09:14.452Z"
   },
   {
    "duration": 5,
    "start_time": "2022-02-13T20:09:14.488Z"
   },
   {
    "duration": 60,
    "start_time": "2022-02-13T20:09:14.495Z"
   },
   {
    "duration": 5,
    "start_time": "2022-02-13T20:09:14.558Z"
   },
   {
    "duration": 33,
    "start_time": "2022-02-13T20:09:14.566Z"
   },
   {
    "duration": 48,
    "start_time": "2022-02-13T20:09:14.602Z"
   },
   {
    "duration": 32,
    "start_time": "2022-02-13T20:09:14.653Z"
   },
   {
    "duration": 116,
    "start_time": "2022-02-13T20:09:14.688Z"
   },
   {
    "duration": 104,
    "start_time": "2022-02-13T20:09:14.807Z"
   },
   {
    "duration": 87,
    "start_time": "2022-02-13T20:09:14.913Z"
   },
   {
    "duration": 98,
    "start_time": "2022-02-13T20:09:15.002Z"
   },
   {
    "duration": 4,
    "start_time": "2022-02-13T20:09:15.103Z"
   },
   {
    "duration": 30,
    "start_time": "2022-02-13T20:09:15.110Z"
   },
   {
    "duration": 57,
    "start_time": "2022-02-13T20:09:15.142Z"
   },
   {
    "duration": 33,
    "start_time": "2022-02-13T20:09:15.202Z"
   },
   {
    "duration": 15,
    "start_time": "2022-02-13T20:09:15.238Z"
   },
   {
    "duration": 4,
    "start_time": "2022-02-13T20:09:15.256Z"
   },
   {
    "duration": 45,
    "start_time": "2022-02-13T20:09:15.263Z"
   },
   {
    "duration": 35,
    "start_time": "2022-02-13T20:09:15.310Z"
   },
   {
    "duration": 17,
    "start_time": "2022-02-13T20:09:15.350Z"
   },
   {
    "duration": 17,
    "start_time": "2022-02-13T20:09:15.370Z"
   },
   {
    "duration": 53,
    "start_time": "2022-02-13T20:09:15.390Z"
   },
   {
    "duration": 20,
    "start_time": "2022-02-13T20:09:15.446Z"
   },
   {
    "duration": 14,
    "start_time": "2022-02-13T20:09:15.469Z"
   },
   {
    "duration": 51,
    "start_time": "2022-02-13T20:09:15.486Z"
   },
   {
    "duration": 11,
    "start_time": "2022-02-13T20:09:15.540Z"
   },
   {
    "duration": 6,
    "start_time": "2022-02-13T20:09:15.554Z"
   },
   {
    "duration": 32,
    "start_time": "2022-02-13T20:09:15.562Z"
   },
   {
    "duration": 42,
    "start_time": "2022-02-13T20:09:15.597Z"
   },
   {
    "duration": 25,
    "start_time": "2022-02-13T20:09:15.641Z"
   },
   {
    "duration": 21,
    "start_time": "2022-02-13T20:09:15.668Z"
   },
   {
    "duration": 47,
    "start_time": "2022-02-13T20:09:15.692Z"
   },
   {
    "duration": 7,
    "start_time": "2022-02-13T20:09:15.741Z"
   },
   {
    "duration": 28,
    "start_time": "2022-02-13T20:09:15.751Z"
   },
   {
    "duration": 13,
    "start_time": "2022-02-13T20:09:15.782Z"
   },
   {
    "duration": 16,
    "start_time": "2022-02-13T20:13:01.285Z"
   },
   {
    "duration": 19,
    "start_time": "2022-02-13T20:19:13.422Z"
   },
   {
    "duration": 431,
    "start_time": "2022-02-15T17:08:06.070Z"
   },
   {
    "duration": 586,
    "start_time": "2022-02-15T17:08:41.924Z"
   },
   {
    "duration": 128,
    "start_time": "2022-02-15T17:08:43.960Z"
   },
   {
    "duration": 15,
    "start_time": "2022-02-15T17:08:46.508Z"
   },
   {
    "duration": 9,
    "start_time": "2022-02-15T17:09:17.429Z"
   },
   {
    "duration": 22,
    "start_time": "2022-02-15T17:09:18.540Z"
   },
   {
    "duration": 4,
    "start_time": "2022-02-15T17:19:03.729Z"
   },
   {
    "duration": 22,
    "start_time": "2022-02-15T17:19:05.153Z"
   },
   {
    "duration": 3,
    "start_time": "2022-02-15T17:19:08.136Z"
   },
   {
    "duration": 21,
    "start_time": "2022-02-15T17:19:10.724Z"
   },
   {
    "duration": 16,
    "start_time": "2022-02-15T17:19:18.282Z"
   },
   {
    "duration": 21,
    "start_time": "2022-02-15T17:19:19.908Z"
   },
   {
    "duration": 54,
    "start_time": "2022-02-15T17:19:23.576Z"
   },
   {
    "duration": 59,
    "start_time": "2022-02-15T17:19:24.761Z"
   },
   {
    "duration": 46,
    "start_time": "2022-02-15T17:19:27.881Z"
   },
   {
    "duration": 6,
    "start_time": "2022-02-15T17:20:54.912Z"
   },
   {
    "duration": 519,
    "start_time": "2022-02-15T17:21:17.291Z"
   },
   {
    "duration": 34,
    "start_time": "2022-02-15T17:21:29.323Z"
   },
   {
    "duration": 36,
    "start_time": "2022-02-15T17:22:17.557Z"
   },
   {
    "duration": 39,
    "start_time": "2022-02-15T17:22:22.099Z"
   },
   {
    "duration": 37,
    "start_time": "2022-02-15T17:23:16.092Z"
   },
   {
    "duration": 470,
    "start_time": "2022-02-15T17:28:30.337Z"
   },
   {
    "duration": 34,
    "start_time": "2022-02-15T17:28:47.392Z"
   },
   {
    "duration": 36,
    "start_time": "2022-02-15T17:31:05.168Z"
   },
   {
    "duration": 39,
    "start_time": "2022-02-15T17:36:02.641Z"
   },
   {
    "duration": 37,
    "start_time": "2022-02-15T17:40:29.556Z"
   },
   {
    "duration": 36,
    "start_time": "2022-02-15T17:41:12.188Z"
   },
   {
    "duration": 134,
    "start_time": "2022-02-15T17:41:27.196Z"
   },
   {
    "duration": 6,
    "start_time": "2022-02-15T17:41:38.692Z"
   },
   {
    "duration": 330,
    "start_time": "2022-02-15T17:43:45.486Z"
   },
   {
    "duration": 37,
    "start_time": "2022-02-15T17:43:58.431Z"
   },
   {
    "duration": 38,
    "start_time": "2022-02-15T17:44:05.670Z"
   },
   {
    "duration": 12,
    "start_time": "2022-02-15T17:44:27.404Z"
   },
   {
    "duration": 37,
    "start_time": "2022-02-15T17:44:54.238Z"
   },
   {
    "duration": 3,
    "start_time": "2022-02-15T17:47:48.495Z"
   },
   {
    "duration": 13,
    "start_time": "2022-02-15T17:48:02.407Z"
   },
   {
    "duration": 43,
    "start_time": "2022-02-15T17:48:04.094Z"
   },
   {
    "duration": 566,
    "start_time": "2022-02-15T19:23:21.475Z"
   },
   {
    "duration": 131,
    "start_time": "2022-02-15T19:23:22.783Z"
   },
   {
    "duration": 17,
    "start_time": "2022-02-15T19:23:24.027Z"
   },
   {
    "duration": 10,
    "start_time": "2022-02-15T19:23:24.885Z"
   },
   {
    "duration": 24,
    "start_time": "2022-02-15T19:23:25.660Z"
   },
   {
    "duration": 4,
    "start_time": "2022-02-15T19:23:28.779Z"
   },
   {
    "duration": 25,
    "start_time": "2022-02-15T19:23:29.876Z"
   },
   {
    "duration": 4,
    "start_time": "2022-02-15T19:23:31.118Z"
   },
   {
    "duration": 23,
    "start_time": "2022-02-15T19:23:32.260Z"
   },
   {
    "duration": 18,
    "start_time": "2022-02-15T19:23:33.900Z"
   },
   {
    "duration": 23,
    "start_time": "2022-02-15T19:23:36.611Z"
   },
   {
    "duration": 59,
    "start_time": "2022-02-15T19:23:38.036Z"
   },
   {
    "duration": 82,
    "start_time": "2022-02-15T19:23:39.604Z"
   },
   {
    "duration": 53,
    "start_time": "2022-02-15T19:23:40.547Z"
   },
   {
    "duration": 38,
    "start_time": "2022-02-15T19:23:43.356Z"
   },
   {
    "duration": 17,
    "start_time": "2022-02-15T19:23:50.868Z"
   },
   {
    "duration": 4,
    "start_time": "2022-02-15T19:24:00.337Z"
   },
   {
    "duration": 15,
    "start_time": "2022-02-15T19:24:24.771Z"
   },
   {
    "duration": 38,
    "start_time": "2022-02-15T19:26:17.310Z"
   },
   {
    "duration": 39,
    "start_time": "2022-02-15T19:26:25.838Z"
   },
   {
    "duration": 36,
    "start_time": "2022-02-15T19:26:32.438Z"
   },
   {
    "duration": 40,
    "start_time": "2022-02-15T19:26:37.605Z"
   },
   {
    "duration": 10,
    "start_time": "2022-02-15T19:27:57.515Z"
   },
   {
    "duration": 16,
    "start_time": "2022-02-15T19:29:05.204Z"
   },
   {
    "duration": 16,
    "start_time": "2022-02-15T19:29:11.160Z"
   },
   {
    "duration": 3,
    "start_time": "2022-02-15T19:29:16.439Z"
   },
   {
    "duration": 17,
    "start_time": "2022-02-15T19:29:23.206Z"
   },
   {
    "duration": 15,
    "start_time": "2022-02-15T19:29:23.551Z"
   },
   {
    "duration": 15,
    "start_time": "2022-02-15T19:29:23.847Z"
   },
   {
    "duration": 14,
    "start_time": "2022-02-15T19:29:24.167Z"
   },
   {
    "duration": 17,
    "start_time": "2022-02-15T19:29:24.510Z"
   },
   {
    "duration": 14,
    "start_time": "2022-02-15T19:29:25.087Z"
   },
   {
    "duration": 12,
    "start_time": "2022-02-15T19:29:41.885Z"
   },
   {
    "duration": 9,
    "start_time": "2022-02-15T19:29:48.503Z"
   },
   {
    "duration": 9,
    "start_time": "2022-02-15T19:29:54.239Z"
   },
   {
    "duration": 66,
    "start_time": "2022-02-15T19:35:18.433Z"
   },
   {
    "duration": 80,
    "start_time": "2022-02-15T19:35:48.241Z"
   },
   {
    "duration": 12,
    "start_time": "2022-02-15T19:40:34.644Z"
   },
   {
    "duration": 23,
    "start_time": "2022-02-15T19:41:00.065Z"
   },
   {
    "duration": 19,
    "start_time": "2022-02-15T19:41:11.526Z"
   },
   {
    "duration": 5,
    "start_time": "2022-02-15T19:44:01.472Z"
   },
   {
    "duration": 22,
    "start_time": "2022-02-15T19:44:04.475Z"
   },
   {
    "duration": 13,
    "start_time": "2022-02-15T19:44:17.574Z"
   },
   {
    "duration": 19,
    "start_time": "2022-02-15T19:44:40.479Z"
   },
   {
    "duration": 4,
    "start_time": "2022-02-15T19:44:58.271Z"
   },
   {
    "duration": 21,
    "start_time": "2022-02-15T19:45:11.843Z"
   },
   {
    "duration": 14,
    "start_time": "2022-02-15T19:45:13.176Z"
   },
   {
    "duration": 18,
    "start_time": "2022-02-15T19:45:13.896Z"
   },
   {
    "duration": 13,
    "start_time": "2022-02-15T19:45:16.200Z"
   },
   {
    "duration": 9,
    "start_time": "2022-02-15T19:45:25.360Z"
   },
   {
    "duration": 5,
    "start_time": "2022-02-15T19:45:31.026Z"
   },
   {
    "duration": 8,
    "start_time": "2022-02-15T19:45:32.663Z"
   },
   {
    "duration": 4,
    "start_time": "2022-02-15T19:45:39.092Z"
   },
   {
    "duration": 644,
    "start_time": "2022-02-15T20:45:00.278Z"
   },
   {
    "duration": 158,
    "start_time": "2022-02-15T20:45:00.925Z"
   },
   {
    "duration": 19,
    "start_time": "2022-02-15T20:45:01.085Z"
   },
   {
    "duration": 22,
    "start_time": "2022-02-15T20:45:01.106Z"
   },
   {
    "duration": 31,
    "start_time": "2022-02-15T20:45:01.130Z"
   },
   {
    "duration": 15,
    "start_time": "2022-02-15T20:45:01.162Z"
   },
   {
    "duration": 30,
    "start_time": "2022-02-15T20:45:01.179Z"
   },
   {
    "duration": 24,
    "start_time": "2022-02-15T20:45:01.212Z"
   },
   {
    "duration": 45,
    "start_time": "2022-02-15T20:45:01.239Z"
   },
   {
    "duration": 31,
    "start_time": "2022-02-15T20:45:01.287Z"
   },
   {
    "duration": 47,
    "start_time": "2022-02-15T20:45:01.320Z"
   },
   {
    "duration": 73,
    "start_time": "2022-02-15T20:45:01.369Z"
   },
   {
    "duration": 85,
    "start_time": "2022-02-15T20:45:01.443Z"
   },
   {
    "duration": 65,
    "start_time": "2022-02-15T20:45:01.530Z"
   },
   {
    "duration": 53,
    "start_time": "2022-02-15T20:45:01.725Z"
   },
   {
    "duration": 27,
    "start_time": "2022-02-15T20:45:01.780Z"
   },
   {
    "duration": 17,
    "start_time": "2022-02-15T20:45:01.810Z"
   },
   {
    "duration": 79,
    "start_time": "2022-02-15T20:45:01.829Z"
   },
   {
    "duration": 189,
    "start_time": "2022-02-15T20:45:01.916Z"
   },
   {
    "duration": 186,
    "start_time": "2022-02-15T20:45:02.107Z"
   },
   {
    "duration": 112,
    "start_time": "2022-02-15T20:45:02.296Z"
   },
   {
    "duration": 132,
    "start_time": "2022-02-15T20:45:02.411Z"
   },
   {
    "duration": 28,
    "start_time": "2022-02-15T20:45:02.546Z"
   },
   {
    "duration": 27,
    "start_time": "2022-02-15T20:45:02.576Z"
   },
   {
    "duration": 23,
    "start_time": "2022-02-15T20:45:02.606Z"
   },
   {
    "duration": 16,
    "start_time": "2022-02-15T20:45:02.631Z"
   },
   {
    "duration": 24,
    "start_time": "2022-02-15T20:45:02.650Z"
   },
   {
    "duration": 44,
    "start_time": "2022-02-15T20:45:02.676Z"
   },
   {
    "duration": 96,
    "start_time": "2022-02-15T20:45:02.723Z"
   },
   {
    "duration": 10,
    "start_time": "2022-02-15T20:45:02.821Z"
   },
   {
    "duration": 27,
    "start_time": "2022-02-15T20:45:02.833Z"
   },
   {
    "duration": 19,
    "start_time": "2022-02-15T20:45:02.862Z"
   },
   {
    "duration": 6,
    "start_time": "2022-02-15T20:45:02.938Z"
   },
   {
    "duration": 22,
    "start_time": "2022-02-15T20:45:02.954Z"
   },
   {
    "duration": 13,
    "start_time": "2022-02-15T20:45:02.978Z"
   },
   {
    "duration": 19,
    "start_time": "2022-02-15T20:45:02.993Z"
   },
   {
    "duration": 15,
    "start_time": "2022-02-15T20:45:03.014Z"
   },
   {
    "duration": 9,
    "start_time": "2022-02-15T20:45:03.031Z"
   },
   {
    "duration": 4,
    "start_time": "2022-02-15T20:45:03.042Z"
   },
   {
    "duration": 9,
    "start_time": "2022-02-15T20:45:03.048Z"
   },
   {
    "duration": 7,
    "start_time": "2022-02-15T20:45:03.059Z"
   }
  ],
  "colab": {
   "collapsed_sections": [
    "E0vqbgi9ay0H",
    "VUC88oWjTJw2"
   ],
   "name": "yandex_music_project_2021.2.ipynb",
   "provenance": []
  },
  "kernelspec": {
   "display_name": "Python 3 (ipykernel)",
   "language": "python",
   "name": "python3"
  },
  "language_info": {
   "codemirror_mode": {
    "name": "ipython",
    "version": 3
   },
   "file_extension": ".py",
   "mimetype": "text/x-python",
   "name": "python",
   "nbconvert_exporter": "python",
   "pygments_lexer": "ipython3",
   "version": "3.9.12"
  },
  "toc": {
   "base_numbering": 1,
   "nav_menu": {},
   "number_sections": true,
   "sideBar": true,
   "skip_h1_title": true,
   "title_cell": "Table of Contents",
   "title_sidebar": "Contents",
   "toc_cell": false,
   "toc_position": {
    "height": "calc(100% - 180px)",
    "left": "10px",
    "top": "150px",
    "width": "303.383px"
   },
   "toc_section_display": true,
   "toc_window_display": true
  }
 },
 "nbformat": 4,
 "nbformat_minor": 1
}
